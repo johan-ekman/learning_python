{
 "cells": [
  {
   "cell_type": "markdown",
   "metadata": {},
   "source": [
    "# An Introduction to Python, part 2 (lessons 8-14)"
   ]
  },
  {
   "cell_type": "markdown",
   "metadata": {
    "toc": true
   },
   "source": [
    "<h1>Table of Contents<span class=\"tocSkip\"></span></h1>\n",
    "<div class=\"toc\"><ul class=\"toc-item\"><li><span><a href=\"#8-Object-orientation-and-Methods\" data-toc-modified-id=\"8-Object-orientation-and-Methods-8\">8 Object orientation and Methods</a></span><ul class=\"toc-item\"><li><span><a href=\"#8.1-Exercise-–-experiment-with-string-methods\" data-toc-modified-id=\"8.1-Exercise-–-experiment-with-string-methods-8.1\">8.1 Exercise – experiment with string methods</a></span></li></ul></li><li><span><a href=\"#9-Lists\" data-toc-modified-id=\"9-Lists-9\">9 Lists</a></span><ul class=\"toc-item\"><li><span><a href=\"#9.1-Definition\" data-toc-modified-id=\"9.1-Definition-9.1\">9.1 Definition</a></span></li><li><span><a href=\"#9.2-List-index\" data-toc-modified-id=\"9.2-List-index-9.2\">9.2 List index</a></span></li><li><span><a href=\"#9.3-Slicing\" data-toc-modified-id=\"9.3-Slicing-9.3\">9.3 Slicing</a></span></li><li><span><a href=\"#9.4-Changing-list-values\" data-toc-modified-id=\"9.4-Changing-list-values-9.4\">9.4 Changing list values</a></span></li><li><span><a href=\"#9.5--Removing-items-with-del\" data-toc-modified-id=\"9.5--Removing-items-with-del-9.5\">9.5  Removing items with <code>del</code></a></span></li><li><span><a href=\"#9.6-List-methods\" data-toc-modified-id=\"9.6-List-methods-9.6\">9.6 List methods</a></span><ul class=\"toc-item\"><li><span><a href=\"#9.6.1-.append()\" data-toc-modified-id=\"9.6.1-.append()-9.6.1\">9.6.1 <code>.append()</code></a></span></li><li><span><a href=\"#9.6.2-.insert()\" data-toc-modified-id=\"9.6.2-.insert()-9.6.2\">9.6.2 <code>.insert()</code></a></span></li><li><span><a href=\"#9.6.3-.remove()\" data-toc-modified-id=\"9.6.3-.remove()-9.6.3\">9.6.3 <code>.remove()</code></a></span></li><li><span><a href=\"#9.6.4-.index()\" data-toc-modified-id=\"9.6.4-.index()-9.6.4\">9.6.4 <code>.index()</code></a></span></li><li><span><a href=\"#9.6.5-.sort()\" data-toc-modified-id=\"9.6.5-.sort()-9.6.5\">9.6.5 <code>.sort()</code></a></span><ul class=\"toc-item\"><li><span><a href=\"#9.6.5.1-ASCII-Sorting\" data-toc-modified-id=\"9.6.5.1-ASCII-Sorting-9.6.5.1\">9.6.5.1 ASCII Sorting</a></span></li></ul></li><li><span><a href=\"#9.6.6-(Optional)-Method-call-straight-into-index-brackets\" data-toc-modified-id=\"9.6.6-(Optional)-Method-call-straight-into-index-brackets-9.6.6\">9.6.6 (Optional) Method call straight into index brackets</a></span></li><li><span><a href=\"#9.6.7-(Optional)-&quot;In-place&quot;-methods\" data-toc-modified-id=\"9.6.7-(Optional)-&quot;In-place&quot;-methods-9.6.7\">9.6.7 (Optional) \"In place\" methods</a></span></li></ul></li><li><span><a href=\"#9.7-The-built-in-function-list()\" data-toc-modified-id=\"9.7-The-built-in-function-list()-9.7\">9.7 The built-in function <code>list()</code></a></span></li><li><span><a href=\"#9.8-The-in-and-not-in-operators\" data-toc-modified-id=\"9.8-The-in-and-not-in-operators-9.8\">9.8 The <code>in</code> and <code>not in</code> operators</a></span></li><li><span><a href=\"#9.9-Similarities-between-lists-and-strings\" data-toc-modified-id=\"9.9-Similarities-between-lists-and-strings-9.9\">9.9 Similarities between lists and strings</a></span><ul class=\"toc-item\"><li><span><a href=\"#9.9.1-The-split()-method\" data-toc-modified-id=\"9.9.1-The-split()-method-9.9.1\">9.9.1 The <code>split()</code> method</a></span></li><li><span><a href=\"#9.9.2-The-.join()-method\" data-toc-modified-id=\"9.9.2-The-.join()-method-9.9.2\">9.9.2 The <code>.join()</code> method</a></span></li></ul></li><li><span><a href=\"#9.10-Exercise-–-Build-your-own-list-function,-part-1\" data-toc-modified-id=\"9.10-Exercise-–-Build-your-own-list-function,-part-1-9.10\">9.10 Exercise – Build your own list function, part 1</a></span></li></ul></li><li><span><a href=\"#10-Loops\" data-toc-modified-id=\"10-Loops-10\">10 Loops</a></span><ul class=\"toc-item\"><li><span><a href=\"#10.1-while-loops\" data-toc-modified-id=\"10.1-while-loops-10.1\">10.1 <code>while</code>-loops</a></span><ul class=\"toc-item\"><li><span><a href=\"#10.1.1-Input-validation\" data-toc-modified-id=\"10.1.1-Input-validation-10.1.1\">10.1.1 Input validation</a></span></li><li><span><a href=\"#10.1.2-CAUTION:-Infinite-while-loops\" data-toc-modified-id=\"10.1.2-CAUTION:-Infinite-while-loops-10.1.2\">10.1.2 CAUTION: Infinite <code>while</code>-loops</a></span></li><li><span><a href=\"#10.1.3-The-break-statement\" data-toc-modified-id=\"10.1.3-The-break-statement-10.1.3\">10.1.3 The <code>break</code> statement</a></span></li><li><span><a href=\"#10.1.4-Exercise-–-Build-your-own-list-function,-part-2\" data-toc-modified-id=\"10.1.4-Exercise-–-Build-your-own-list-function,-part-2-10.1.4\">10.1.4 Exercise – Build your own list function, part 2</a></span></li></ul></li><li><span><a href=\"#10.2-for-loops\" data-toc-modified-id=\"10.2-for-loops-10.2\">10.2 <code>for</code>-loops</a></span><ul class=\"toc-item\"><li><span><a href=\"#10.2.1-for-loop-with-the-range()-function\" data-toc-modified-id=\"10.2.1-for-loop-with-the-range()-function-10.2.1\">10.2.1 <code>for</code>-loop with the <code>range()</code> function</a></span></li><li><span><a href=\"#10.2.2-The-continue-statement\" data-toc-modified-id=\"10.2.2-The-continue-statement-10.2.2\">10.2.2 The <code>continue</code> statement</a></span><ul class=\"toc-item\"><li><span><a href=\"#10.2.2.1-Exercise-–-Build-your-own-list-function,-part-3\" data-toc-modified-id=\"10.2.2.1-Exercise-–-Build-your-own-list-function,-part-3-10.2.2.1\">10.2.2.1 Exercise – Build your own list function, part 3</a></span></li></ul></li><li><span><a href=\"#10.2.3-for-loop-without-range()\" data-toc-modified-id=\"10.2.3-for-loop-without-range()-10.2.3\">10.2.3 <code>for</code>-loop without <code>range()</code></a></span></li><li><span><a href=\"#10.2.4-for-loops-–-with-or-without-range()?\" data-toc-modified-id=\"10.2.4-for-loops-–-with-or-without-range()?-10.2.4\">10.2.4 <code>for</code>-loops – with or without <code>range()</code>?</a></span></li></ul></li></ul></li><li><span><a href=\"#11-Mutable-and-immutable-objects\" data-toc-modified-id=\"11-Mutable-and-immutable-objects-11\">11 Mutable and immutable objects</a></span><ul class=\"toc-item\"><li><span><a href=\"#11.1-Variables'-references-to-values\" data-toc-modified-id=\"11.1-Variables'-references-to-values-11.1\">11.1 Variables' references to values</a></span></li><li><span><a href=\"#11.2-Mutable-lists-in-local-scopes\" data-toc-modified-id=\"11.2-Mutable-lists-in-local-scopes-11.2\">11.2 Mutable lists in local scopes</a></span><ul class=\"toc-item\"><li><span><a href=\"#11.2.1-Exercise-–-why-doesn't-the-variable-change?\" data-toc-modified-id=\"11.2.1-Exercise-–-why-doesn't-the-variable-change?-11.2.1\">11.2.1 Exercise – why doesn't the variable change?</a></span></li></ul></li><li><span><a href=\"#11.3-How-to-copy-mutable-objects-then?\" data-toc-modified-id=\"11.3-How-to-copy-mutable-objects-then?-11.3\">11.3 How to copy mutable objects then?</a></span></li></ul></li><li><span><a href=\"#12-Dictionaries\" data-toc-modified-id=\"12-Dictionaries-12\">12 Dictionaries</a></span><ul class=\"toc-item\"><li><span><a href=\"#12.1-Definitions\" data-toc-modified-id=\"12.1-Definitions-12.1\">12.1 Definitions</a></span></li><li><span><a href=\"#12.2-Looping-over-a-dictionary\" data-toc-modified-id=\"12.2-Looping-over-a-dictionary-12.2\">12.2 Looping over a dictionary</a></span></li><li><span><a href=\"#Exercise-–-Consumer-costs\" data-toc-modified-id=\"Exercise-–-Consumer-costs-12.3\">Exercise – Consumer costs</a></span></li></ul></li><li><span><a href=\"#13-Tuples\" data-toc-modified-id=\"13-Tuples-13\">13 Tuples</a></span></li><li><span><a href=\"#14-Data-structures\" data-toc-modified-id=\"14-Data-structures-14\">14 Data structures</a></span><ul class=\"toc-item\"><li><span><a href=\"#14.1-Lists-in-dictionaries\" data-toc-modified-id=\"14.1-Lists-in-dictionaries-14.1\">14.1 Lists in dictionaries</a></span></li><li><span><a href=\"#14.2-Tuples-in-lists\" data-toc-modified-id=\"14.2-Tuples-in-lists-14.2\">14.2 Tuples in lists</a></span><ul class=\"toc-item\"><li><ul class=\"toc-item\"><li><span><a href=\"#The-zip()-function\" data-toc-modified-id=\"The-zip()-function-14.2.0.1\">The <code>zip()</code> function</a></span></li></ul></li></ul></li><li><span><a href=\"#14.3-List-of-dictionaries\" data-toc-modified-id=\"14.3-List-of-dictionaries-14.3\">14.3 List of dictionaries</a></span></li><li><span><a href=\"#14.4-Lists-into-dictionaries-–-zip()-and-dict()\" data-toc-modified-id=\"14.4-Lists-into-dictionaries-–-zip()-and-dict()-14.4\">14.4 Lists into dictionaries – <code>zip()</code> and <code>dict()</code></a></span></li><li><span><a href=\"#14.5-(Optional)-The-enumerate()-function\" data-toc-modified-id=\"14.5-(Optional)-The-enumerate()-function-14.5\">14.5 (Optional) The <code>enumerate()</code> function</a></span></li><li><span><a href=\"#14.6-Exercise-–-transform-the-data-structure\" data-toc-modified-id=\"14.6-Exercise-–-transform-the-data-structure-14.6\">14.6 Exercise – transform the data structure</a></span></li></ul></li><li><span><a href=\"#15-Errors-and-Exceptions\" data-toc-modified-id=\"15-Errors-and-Exceptions-15\">15 Errors and Exceptions</a></span><ul class=\"toc-item\"><li><span><a href=\"#15.1-try-and-except-statements\" data-toc-modified-id=\"15.1-try-and-except-statements-15.1\">15.1 <code>try</code> and <code>except</code> statements</a></span></li></ul></li></ul></div>"
   ]
  },
  {
   "cell_type": "markdown",
   "metadata": {},
   "source": [
    "## 8 Object orientation and Methods"
   ]
  },
  {
   "cell_type": "markdown",
   "metadata": {},
   "source": [
    "In Python, everything, all code, is considered an object. Every object comes with its own features, properties, and functions. This means that if we create a variable with a string value:"
   ]
  },
  {
   "cell_type": "code",
   "execution_count": 48,
   "metadata": {},
   "outputs": [],
   "source": [
    "fruit = \"banana\""
   ]
  },
  {
   "cell_type": "markdown",
   "metadata": {},
   "source": [
    "...this variable has its own functions. A function connected to an object is called a **method** in Python. They are functions, just like the ones we have learned about in chapter 6, only that they are accessed in a different way – with the dot `.` operator. We used the `.` operator when we learned about how to import modules and to use their functions when we imported the `randint()` function from the `random` module. \n",
    "\n",
    "As we discussed, using the `.` to access method is called **dot notation**."
   ]
  },
  {
   "cell_type": "code",
   "execution_count": 484,
   "metadata": {},
   "outputs": [],
   "source": [
    "import random"
   ]
  },
  {
   "cell_type": "code",
   "execution_count": 486,
   "metadata": {},
   "outputs": [
    {
     "data": {
      "text/plain": [
       "10"
      ]
     },
     "execution_count": 486,
     "metadata": {},
     "output_type": "execute_result"
    }
   ],
   "source": [
    "random.randint(1,10) # randint() is a method"
   ]
  },
  {
   "cell_type": "markdown",
   "metadata": {},
   "source": [
    "Since even values are objects with their own methods, let's try it on our variable's string value. We can use string value methods! For example, the `upper()` method:"
   ]
  },
  {
   "cell_type": "code",
   "execution_count": 488,
   "metadata": {},
   "outputs": [
    {
     "data": {
      "text/plain": [
       "'BANANA'"
      ]
     },
     "execution_count": 488,
     "metadata": {},
     "output_type": "execute_result"
    }
   ],
   "source": [
    "fruit.upper() # returns the string in upper casing"
   ]
  },
  {
   "cell_type": "markdown",
   "metadata": {},
   "source": [
    "Or the `capitalize()` method, which returns the string but with the first letter capitalized:"
   ]
  },
  {
   "cell_type": "code",
   "execution_count": 491,
   "metadata": {},
   "outputs": [
    {
     "data": {
      "text/plain": [
       "'Banana'"
      ]
     },
     "execution_count": 491,
     "metadata": {},
     "output_type": "execute_result"
    }
   ],
   "source": [
    "fruit.capitalize()"
   ]
  },
  {
   "cell_type": "markdown",
   "metadata": {},
   "source": [
    "Remember, methods and functions are the same. \"Method\" is used to emphasize that it is a function attached to other objects."
   ]
  },
  {
   "cell_type": "markdown",
   "metadata": {},
   "source": [
    "### 8.1 Exercise – experiment with string methods"
   ]
  },
  {
   "cell_type": "markdown",
   "metadata": {},
   "source": [
    "In this exercise, I want you to experiment with string methods. I want you to try out dot notation after this string variable:"
   ]
  },
  {
   "cell_type": "code",
   "execution_count": 57,
   "metadata": {},
   "outputs": [],
   "source": [
    "fruits = \"There are at least two bananas in this sentence bananas\""
   ]
  },
  {
   "cell_type": "markdown",
   "metadata": {},
   "source": [
    "Remember that dot notation is when you type the variable name, and then a dot `.` after. So in this case, you write `fruits.`. In Jupyter Notebooks, you can then press the <kbd>⇥ Tab</kbd> key to get a list of all methods available for the variable. If you want to see the methods docstring (information about the method), you can write the variable with dot notation, the method and then press <kbd>Shift ⇧</kbd>+<kbd>⇥ Tab</kbd> to get access to the docstring. So, as an example, if you want the docstring for the string method `.upper()`, you type `fruits.upper` and then tap <kbd>Shift ⇧</kbd>+<kbd>⇥ Tab</kbd>!\n",
    "\n",
    "Using the variable above, I want you to find out what these three methods do, and then use them in an example of your own:\n",
    "\n",
    "1. `.count()`\n",
    "2. `.find()`\n",
    "3. `.replace()`\n",
    "\n",
    "Good luck!"
   ]
  },
  {
   "cell_type": "code",
   "execution_count": null,
   "metadata": {},
   "outputs": [],
   "source": []
  },
  {
   "cell_type": "code",
   "execution_count": null,
   "metadata": {},
   "outputs": [],
   "source": []
  },
  {
   "cell_type": "code",
   "execution_count": null,
   "metadata": {},
   "outputs": [],
   "source": []
  },
  {
   "cell_type": "code",
   "execution_count": null,
   "metadata": {},
   "outputs": [],
   "source": []
  },
  {
   "cell_type": "markdown",
   "metadata": {},
   "source": [
    "## 9 Lists"
   ]
  },
  {
   "cell_type": "markdown",
   "metadata": {},
   "source": [
    "In section 1, we learned about the various value types. When programming, we often want to store values into a container of data. In this chapter, we will learn about one such container – the list data type."
   ]
  },
  {
   "cell_type": "markdown",
   "metadata": {},
   "source": [
    "### 9.1 Definition"
   ]
  },
  {
   "cell_type": "markdown",
   "metadata": {},
   "source": [
    "A list in Python code is defined by enclosed square brackets `[]`:"
   ]
  },
  {
   "cell_type": "code",
   "execution_count": 82,
   "metadata": {},
   "outputs": [
    {
     "data": {
      "text/plain": [
       "[]"
      ]
     },
     "execution_count": 82,
     "metadata": {},
     "output_type": "execute_result"
    }
   ],
   "source": [
    "[] # empty list"
   ]
  },
  {
   "cell_type": "code",
   "execution_count": 467,
   "metadata": {},
   "outputs": [
    {
     "data": {
      "text/plain": [
       "list"
      ]
     },
     "execution_count": 467,
     "metadata": {},
     "output_type": "execute_result"
    }
   ],
   "source": [
    "type([])"
   ]
  },
  {
   "cell_type": "markdown",
   "metadata": {},
   "source": [
    "A list can contain zero (like in the cell just above), one, or many values. The contents in a list are called **items**. All items in a list are seperated by commas:"
   ]
  },
  {
   "cell_type": "code",
   "execution_count": 497,
   "metadata": {
    "collapsed": true,
    "jupyter": {
     "outputs_hidden": true
    }
   },
   "outputs": [
    {
     "data": {
      "text/plain": [
       "[2, 4, 3, 1]"
      ]
     },
     "execution_count": 497,
     "metadata": {},
     "output_type": "execute_result"
    }
   ],
   "source": [
    "[2, 4, 3, 1]"
   ]
  },
  {
   "cell_type": "markdown",
   "metadata": {},
   "source": [
    "(Note that it is common practice to type one blank space after commas in lists in Python)"
   ]
  },
  {
   "cell_type": "markdown",
   "metadata": {},
   "source": [
    "Lists can contain any type of value:"
   ]
  },
  {
   "cell_type": "code",
   "execution_count": 469,
   "metadata": {},
   "outputs": [
    {
     "data": {
      "text/plain": [
       "[1, 'Hello world!', True, None]"
      ]
     },
     "execution_count": 469,
     "metadata": {},
     "output_type": "execute_result"
    }
   ],
   "source": [
    "[1, \"Hello world!\", True, None]"
   ]
  },
  {
   "cell_type": "markdown",
   "metadata": {},
   "source": [
    "### 9.2 List index"
   ]
  },
  {
   "cell_type": "markdown",
   "metadata": {},
   "source": [
    "All lists in Python has an index that can be used to find specific values within the list."
   ]
  },
  {
   "cell_type": "code",
   "execution_count": 268,
   "metadata": {
    "collapsed": true,
    "jupyter": {
     "outputs_hidden": true
    }
   },
   "outputs": [],
   "source": [
    "a_list = [1, 2, \"three\", 4]"
   ]
  },
  {
   "cell_type": "markdown",
   "metadata": {},
   "source": [
    "To access a list's index and return a specific value, we type squared brackets – these are **the list operators `[]`** – directly after the list with an **index number** in-between. The index numbers start at 0 and up to the length of the list minus 1:"
   ]
  },
  {
   "cell_type": "code",
   "execution_count": 269,
   "metadata": {
    "collapsed": true,
    "jupyter": {
     "outputs_hidden": true
    }
   },
   "outputs": [
    {
     "data": {
      "text/plain": [
       "1"
      ]
     },
     "execution_count": 269,
     "metadata": {},
     "output_type": "execute_result"
    }
   ],
   "source": [
    "a_list[0]"
   ]
  },
  {
   "cell_type": "code",
   "execution_count": 270,
   "metadata": {},
   "outputs": [
    {
     "data": {
      "text/plain": [
       "'three'"
      ]
     },
     "execution_count": 270,
     "metadata": {},
     "output_type": "execute_result"
    }
   ],
   "source": [
    "a_list[2]"
   ]
  },
  {
   "cell_type": "markdown",
   "metadata": {},
   "source": [
    "In Python, lists are zero-indexed. But we can also reference the index using negative numbers which references the list backwards. **Negative indexing** start at -1 which points to the last value in the list:"
   ]
  },
  {
   "cell_type": "code",
   "execution_count": 509,
   "metadata": {},
   "outputs": [
    {
     "data": {
      "text/plain": [
       "4"
      ]
     },
     "execution_count": 509,
     "metadata": {},
     "output_type": "execute_result"
    }
   ],
   "source": [
    "a_list[-1]"
   ]
  },
  {
   "cell_type": "markdown",
   "metadata": {},
   "source": [
    "So `a_list[-1]` (the last value in the `a_list` variable) references the same specific value as `a_list[3]` (the fourth value in the `a_list` variable). They reference the same value:"
   ]
  },
  {
   "cell_type": "code",
   "execution_count": 272,
   "metadata": {},
   "outputs": [
    {
     "data": {
      "text/plain": [
       "True"
      ]
     },
     "execution_count": 272,
     "metadata": {},
     "output_type": "execute_result"
    }
   ],
   "source": [
    "a_list[-1] == a_list[3]"
   ]
  },
  {
   "cell_type": "markdown",
   "metadata": {},
   "source": [
    "We can use negative indexing to check if the maximum index number always is the list's length, minus 1:"
   ]
  },
  {
   "cell_type": "code",
   "execution_count": 273,
   "metadata": {},
   "outputs": [
    {
     "data": {
      "text/plain": [
       "4"
      ]
     },
     "execution_count": 273,
     "metadata": {},
     "output_type": "execute_result"
    }
   ],
   "source": [
    "a_list[len(a_list)-1] # See what's going on here?"
   ]
  },
  {
   "cell_type": "markdown",
   "metadata": {},
   "source": [
    "(above, the `len()` function returns the length of the list, 4, then we subtract 1 from 4, which returns 3 to the index reference!)"
   ]
  },
  {
   "cell_type": "code",
   "execution_count": 274,
   "metadata": {},
   "outputs": [
    {
     "data": {
      "text/plain": [
       "4"
      ]
     },
     "execution_count": 274,
     "metadata": {},
     "output_type": "execute_result"
    }
   ],
   "source": [
    "a_list[-1]"
   ]
  },
  {
   "cell_type": "code",
   "execution_count": 275,
   "metadata": {},
   "outputs": [
    {
     "data": {
      "text/plain": [
       "True"
      ]
     },
     "execution_count": 275,
     "metadata": {},
     "output_type": "execute_result"
    }
   ],
   "source": [
    "a_list[len(a_list)-1] == a_list[-1]"
   ]
  },
  {
   "cell_type": "markdown",
   "metadata": {},
   "source": [
    "Using an indexnumber that is higher than the number of values included in the list will produce an error:"
   ]
  },
  {
   "cell_type": "code",
   "execution_count": 276,
   "metadata": {},
   "outputs": [
    {
     "ename": "IndexError",
     "evalue": "list index out of range",
     "output_type": "error",
     "traceback": [
      "\u001b[0;31m---------------------------------------------------------------------------\u001b[0m",
      "\u001b[0;31mIndexError\u001b[0m                                Traceback (most recent call last)",
      "\u001b[0;32m<ipython-input-276-4877c2d78a82>\u001b[0m in \u001b[0;36m<module>\u001b[0;34m\u001b[0m\n\u001b[0;32m----> 1\u001b[0;31m \u001b[0ma_list\u001b[0m\u001b[0;34m[\u001b[0m\u001b[0mlen\u001b[0m\u001b[0;34m(\u001b[0m\u001b[0ma_list\u001b[0m\u001b[0;34m)\u001b[0m\u001b[0;34m+\u001b[0m\u001b[0;36m1\u001b[0m\u001b[0;34m]\u001b[0m\u001b[0;34m\u001b[0m\u001b[0;34m\u001b[0m\u001b[0m\n\u001b[0m",
      "\u001b[0;31mIndexError\u001b[0m: list index out of range"
     ]
    }
   ],
   "source": [
    "a_list[len(a_list)+1]"
   ]
  },
  {
   "cell_type": "markdown",
   "metadata": {},
   "source": [
    "You can also put lists within lists. This is called _nested lists_:"
   ]
  },
  {
   "cell_type": "code",
   "execution_count": 498,
   "metadata": {
    "collapsed": true,
    "jupyter": {
     "outputs_hidden": true
    }
   },
   "outputs": [],
   "source": [
    "nested_list = [0, 1, [2, 3], 4]"
   ]
  },
  {
   "cell_type": "markdown",
   "metadata": {},
   "source": [
    "Nested lists' values can also be accessed with indexing:"
   ]
  },
  {
   "cell_type": "code",
   "execution_count": 503,
   "metadata": {},
   "outputs": [
    {
     "data": {
      "text/plain": [
       "[2, 3]"
      ]
     },
     "execution_count": 503,
     "metadata": {},
     "output_type": "execute_result"
    }
   ],
   "source": [
    "nested_list[2] # index value 2 returns the nested list"
   ]
  },
  {
   "cell_type": "code",
   "execution_count": 504,
   "metadata": {},
   "outputs": [
    {
     "data": {
      "text/plain": [
       "3"
      ]
     },
     "execution_count": 504,
     "metadata": {},
     "output_type": "execute_result"
    }
   ],
   "source": [
    "nested_list[2][1] # second index value (1) returns the second item in the nested list"
   ]
  },
  {
   "cell_type": "markdown",
   "metadata": {},
   "source": [
    "### 9.3 Slicing"
   ]
  },
  {
   "cell_type": "markdown",
   "metadata": {},
   "source": [
    "Using index values, we can also get chunks of the list. This is done with **slicing**. The syntax for a slice is two index numbers – a start and a stop index – seperated by a colon `:`. Slicing a list _always_ returns a new list."
   ]
  },
  {
   "cell_type": "code",
   "execution_count": 544,
   "metadata": {},
   "outputs": [],
   "source": [
    "a_list = [3, 5, 4, \"banana\", \"apple\", \"orange\"]"
   ]
  },
  {
   "cell_type": "code",
   "execution_count": 545,
   "metadata": {},
   "outputs": [
    {
     "data": {
      "text/plain": [
       "['banana', 'apple', 'orange']"
      ]
     },
     "execution_count": 545,
     "metadata": {},
     "output_type": "execute_result"
    }
   ],
   "source": [
    "a_list[3:6] # start at index 3, stop at index 6"
   ]
  },
  {
   "cell_type": "markdown",
   "metadata": {},
   "source": [
    "The second number is \"up to this index\", **not** \"up to _and including_ this index\". "
   ]
  },
  {
   "cell_type": "markdown",
   "metadata": {},
   "source": [
    "We can also do slicing with just one index number:"
   ]
  },
  {
   "cell_type": "code",
   "execution_count": 549,
   "metadata": {},
   "outputs": [
    {
     "data": {
      "text/plain": [
       "[3, 5]"
      ]
     },
     "execution_count": 549,
     "metadata": {},
     "output_type": "execute_result"
    }
   ],
   "source": [
    "a_list[:2] # returns all values up to index 2"
   ]
  },
  {
   "cell_type": "code",
   "execution_count": 551,
   "metadata": {},
   "outputs": [
    {
     "data": {
      "text/plain": [
       "[4, 'banana', 'apple', 'orange']"
      ]
     },
     "execution_count": 551,
     "metadata": {},
     "output_type": "execute_result"
    }
   ],
   "source": [
    "a_list[2:] # returns all values from index 2 and onwards"
   ]
  },
  {
   "cell_type": "markdown",
   "metadata": {},
   "source": [
    "As descirbed above, _a slice always returns a list_, even if you would only get one value from it:"
   ]
  },
  {
   "cell_type": "code",
   "execution_count": 546,
   "metadata": {},
   "outputs": [
    {
     "data": {
      "text/plain": [
       "['orange']"
      ]
     },
     "execution_count": 546,
     "metadata": {},
     "output_type": "execute_result"
    }
   ],
   "source": [
    "a_list[-1:] # return all values from the last value and onwards"
   ]
  },
  {
   "cell_type": "markdown",
   "metadata": {},
   "source": [
    "### 9.4 Changing list values"
   ]
  },
  {
   "cell_type": "markdown",
   "metadata": {},
   "source": [
    "Using list indexing, we can also change values within the list:"
   ]
  },
  {
   "cell_type": "code",
   "execution_count": 277,
   "metadata": {},
   "outputs": [],
   "source": [
    "fruit = ['banana', 'apple', 'pear']"
   ]
  },
  {
   "cell_type": "code",
   "execution_count": 278,
   "metadata": {},
   "outputs": [
    {
     "data": {
      "text/plain": [
       "['banana', 'apple', 'pear']"
      ]
     },
     "execution_count": 278,
     "metadata": {},
     "output_type": "execute_result"
    }
   ],
   "source": [
    "fruit"
   ]
  },
  {
   "cell_type": "code",
   "execution_count": 5,
   "metadata": {},
   "outputs": [],
   "source": [
    "fruit[1] = 'peach'"
   ]
  },
  {
   "cell_type": "code",
   "execution_count": 6,
   "metadata": {},
   "outputs": [
    {
     "data": {
      "text/plain": [
       "['banana', 'peach', 'pear']"
      ]
     },
     "execution_count": 6,
     "metadata": {},
     "output_type": "execute_result"
    }
   ],
   "source": [
    "fruit"
   ]
  },
  {
   "cell_type": "markdown",
   "metadata": {},
   "source": [
    "This can also be done using slicing:"
   ]
  },
  {
   "cell_type": "code",
   "execution_count": 7,
   "metadata": {},
   "outputs": [],
   "source": [
    "fruit[1:] = ['blueberries', 'orange']"
   ]
  },
  {
   "cell_type": "code",
   "execution_count": 8,
   "metadata": {},
   "outputs": [
    {
     "data": {
      "text/plain": [
       "['banana', 'blueberries', 'orange']"
      ]
     },
     "execution_count": 8,
     "metadata": {},
     "output_type": "execute_result"
    }
   ],
   "source": [
    "fruit"
   ]
  },
  {
   "cell_type": "markdown",
   "metadata": {},
   "source": [
    "### 9.5  Removing items with `del`"
   ]
  },
  {
   "cell_type": "markdown",
   "metadata": {},
   "source": [
    "We can remove items by using the `del` keyword:"
   ]
  },
  {
   "cell_type": "code",
   "execution_count": 16,
   "metadata": {},
   "outputs": [],
   "source": [
    "fruit = ['banana', 'apple', 'pear']"
   ]
  },
  {
   "cell_type": "code",
   "execution_count": 17,
   "metadata": {},
   "outputs": [],
   "source": [
    "del fruit[1]"
   ]
  },
  {
   "cell_type": "code",
   "execution_count": 18,
   "metadata": {},
   "outputs": [
    {
     "data": {
      "text/plain": [
       "['banana', 'pear']"
      ]
     },
     "execution_count": 18,
     "metadata": {},
     "output_type": "execute_result"
    }
   ],
   "source": [
    "fruit"
   ]
  },
  {
   "cell_type": "markdown",
   "metadata": {},
   "source": [
    "`del` can also be used on slices:"
   ]
  },
  {
   "cell_type": "code",
   "execution_count": 279,
   "metadata": {},
   "outputs": [],
   "source": [
    "fruit = ['banana', 'apple', 'pear', 'orange']"
   ]
  },
  {
   "cell_type": "code",
   "execution_count": 280,
   "metadata": {},
   "outputs": [],
   "source": [
    "del fruit[0:2]"
   ]
  },
  {
   "cell_type": "code",
   "execution_count": 281,
   "metadata": {},
   "outputs": [
    {
     "data": {
      "text/plain": [
       "['pear', 'orange']"
      ]
     },
     "execution_count": 281,
     "metadata": {},
     "output_type": "execute_result"
    }
   ],
   "source": [
    "fruit"
   ]
  },
  {
   "cell_type": "markdown",
   "metadata": {},
   "source": [
    "### 9.6 List methods"
   ]
  },
  {
   "cell_type": "markdown",
   "metadata": {},
   "source": [
    "Lists have a range of useful methods. These are some commonly used ones."
   ]
  },
  {
   "cell_type": "markdown",
   "metadata": {},
   "source": [
    "#### 9.6.1 `.append()`"
   ]
  },
  {
   "cell_type": "markdown",
   "metadata": {},
   "source": [
    "Take this list as an example:"
   ]
  },
  {
   "cell_type": "code",
   "execution_count": 84,
   "metadata": {},
   "outputs": [],
   "source": [
    "animals = [\"dog\", \"camel\", \"bird\", \"mouse\"]"
   ]
  },
  {
   "cell_type": "code",
   "execution_count": 85,
   "metadata": {},
   "outputs": [
    {
     "data": {
      "text/plain": [
       "['dog', 'camel', 'bird', 'mouse']"
      ]
     },
     "execution_count": 85,
     "metadata": {},
     "output_type": "execute_result"
    }
   ],
   "source": [
    "animals"
   ]
  },
  {
   "cell_type": "markdown",
   "metadata": {},
   "source": [
    "With the `append()` method, we add the passed argument to the end of the list. Here, we add the string \"elephant\":"
   ]
  },
  {
   "cell_type": "code",
   "execution_count": 86,
   "metadata": {},
   "outputs": [],
   "source": [
    "animals.append(\"elephant\")"
   ]
  },
  {
   "cell_type": "code",
   "execution_count": 87,
   "metadata": {},
   "outputs": [
    {
     "data": {
      "text/plain": [
       "['dog', 'camel', 'bird', 'mouse', 'elephant']"
      ]
     },
     "execution_count": 87,
     "metadata": {},
     "output_type": "execute_result"
    }
   ],
   "source": [
    "animals"
   ]
  },
  {
   "cell_type": "markdown",
   "metadata": {},
   "source": [
    "#### 9.6.2 `.insert()`"
   ]
  },
  {
   "cell_type": "markdown",
   "metadata": {},
   "source": [
    "Using the `insert()` method, we also add a value, but we can specify where we want it placed inside the list. This method takes two arguments (seperated by comma, remember?): the first is the index number where we want the new value placed, and the second is the value we want inserted in the list."
   ]
  },
  {
   "cell_type": "code",
   "execution_count": 95,
   "metadata": {},
   "outputs": [],
   "source": [
    "animals = [\"dog\", \"camel\", \"bird\", \"mouse\"]"
   ]
  },
  {
   "cell_type": "code",
   "execution_count": 96,
   "metadata": {},
   "outputs": [],
   "source": [
    "animals.insert(2, \"elephant\") # value with index number 2 – that is, the third value – shall be \"elephant\""
   ]
  },
  {
   "cell_type": "code",
   "execution_count": 97,
   "metadata": {},
   "outputs": [
    {
     "data": {
      "text/plain": [
       "['dog', 'camel', 'elephant', 'bird', 'mouse']"
      ]
     },
     "execution_count": 97,
     "metadata": {},
     "output_type": "execute_result"
    }
   ],
   "source": [
    "animals"
   ]
  },
  {
   "cell_type": "markdown",
   "metadata": {},
   "source": [
    "#### 9.6.3 `.remove()`"
   ]
  },
  {
   "cell_type": "markdown",
   "metadata": {},
   "source": [
    "We can also remove items using the `remove()` method:"
   ]
  },
  {
   "cell_type": "code",
   "execution_count": 98,
   "metadata": {},
   "outputs": [],
   "source": [
    "animals = [\"dog\", \"camel\", \"bird\", \"mouse\"]"
   ]
  },
  {
   "cell_type": "code",
   "execution_count": 99,
   "metadata": {},
   "outputs": [],
   "source": [
    "animals.remove(\"dog\")"
   ]
  },
  {
   "cell_type": "code",
   "execution_count": 100,
   "metadata": {},
   "outputs": [
    {
     "data": {
      "text/plain": [
       "['camel', 'bird', 'mouse']"
      ]
     },
     "execution_count": 100,
     "metadata": {},
     "output_type": "execute_result"
    }
   ],
   "source": [
    "animals"
   ]
  },
  {
   "cell_type": "markdown",
   "metadata": {},
   "source": [
    "#### 9.6.4 `.index()`"
   ]
  },
  {
   "cell_type": "markdown",
   "metadata": {},
   "source": [
    "We can also use the `index()` method to learn which index number a specific value in the list has:"
   ]
  },
  {
   "cell_type": "code",
   "execution_count": 83,
   "metadata": {},
   "outputs": [
    {
     "data": {
      "text/plain": [
       "1"
      ]
     },
     "execution_count": 83,
     "metadata": {},
     "output_type": "execute_result"
    }
   ],
   "source": [
    "animals.index('bird')"
   ]
  },
  {
   "cell_type": "markdown",
   "metadata": {},
   "source": [
    "This can be useful when you only want one specific value changed, but don't know where in the list it is. Let's say we have a list of names, and only want to change one name in the list:"
   ]
  },
  {
   "cell_type": "code",
   "execution_count": 297,
   "metadata": {},
   "outputs": [],
   "source": [
    "names = [\"Johan\", \"Fredrik\", \"Anna\", \"Sonya\", \"Ahmed\"]"
   ]
  },
  {
   "cell_type": "code",
   "execution_count": 298,
   "metadata": {},
   "outputs": [],
   "source": [
    "change_this = names.index(\"Johan\")"
   ]
  },
  {
   "cell_type": "code",
   "execution_count": 299,
   "metadata": {},
   "outputs": [
    {
     "data": {
      "text/plain": [
       "0"
      ]
     },
     "execution_count": 299,
     "metadata": {},
     "output_type": "execute_result"
    }
   ],
   "source": [
    "change_this"
   ]
  },
  {
   "cell_type": "code",
   "execution_count": 300,
   "metadata": {},
   "outputs": [],
   "source": [
    "names[change_this] = \"Charlie\""
   ]
  },
  {
   "cell_type": "code",
   "execution_count": 301,
   "metadata": {},
   "outputs": [
    {
     "data": {
      "text/plain": [
       "['Charlie', 'Fredrik', 'Anna', 'Sonya', 'Ahmed']"
      ]
     },
     "execution_count": 301,
     "metadata": {},
     "output_type": "execute_result"
    }
   ],
   "source": [
    "names"
   ]
  },
  {
   "cell_type": "markdown",
   "metadata": {},
   "source": [
    "#### 9.6.5 `.sort()`"
   ]
  },
  {
   "cell_type": "markdown",
   "metadata": {},
   "source": [
    "The `.sort()` method sorts your list! Strings alphabetically:"
   ]
  },
  {
   "cell_type": "code",
   "execution_count": 1,
   "metadata": {},
   "outputs": [],
   "source": [
    "names = [\"Johan\", \"Fredrik\", \"Anna\", \"Sonya\", \"Ahmed\"]"
   ]
  },
  {
   "cell_type": "code",
   "execution_count": 3,
   "metadata": {},
   "outputs": [],
   "source": [
    "names.sort()"
   ]
  },
  {
   "cell_type": "code",
   "execution_count": 4,
   "metadata": {},
   "outputs": [
    {
     "data": {
      "text/plain": [
       "['Ahmed', 'Anna', 'Fredrik', 'Johan', 'Sonya']"
      ]
     },
     "execution_count": 4,
     "metadata": {},
     "output_type": "execute_result"
    }
   ],
   "source": [
    "names"
   ]
  },
  {
   "cell_type": "markdown",
   "metadata": {},
   "source": [
    "Number values get sorted with the smallest value first:"
   ]
  },
  {
   "cell_type": "code",
   "execution_count": 12,
   "metadata": {},
   "outputs": [],
   "source": [
    "numbers = [4, 53, 100, -14, 10, 10.1, 37]"
   ]
  },
  {
   "cell_type": "code",
   "execution_count": 13,
   "metadata": {},
   "outputs": [],
   "source": [
    "numbers.sort()"
   ]
  },
  {
   "cell_type": "code",
   "execution_count": 14,
   "metadata": {},
   "outputs": [
    {
     "data": {
      "text/plain": [
       "[-14, 4, 10, 10.1, 37, 53, 100]"
      ]
     },
     "execution_count": 14,
     "metadata": {},
     "output_type": "execute_result"
    }
   ],
   "source": [
    "numbers"
   ]
  },
  {
   "cell_type": "markdown",
   "metadata": {},
   "source": [
    "You can also use sort in reverse order, by setting the reverse parameter to `True`:"
   ]
  },
  {
   "cell_type": "code",
   "execution_count": 15,
   "metadata": {},
   "outputs": [],
   "source": [
    "numbers.sort(reverse=True)"
   ]
  },
  {
   "cell_type": "code",
   "execution_count": 16,
   "metadata": {},
   "outputs": [
    {
     "data": {
      "text/plain": [
       "[100, 53, 37, 10.1, 10, 4, -14]"
      ]
     },
     "execution_count": 16,
     "metadata": {},
     "output_type": "execute_result"
    }
   ],
   "source": [
    "numbers"
   ]
  },
  {
   "cell_type": "markdown",
   "metadata": {},
   "source": [
    "Sorted will produce an error if you try to sort a list with _both_ number and string values:"
   ]
  },
  {
   "cell_type": "code",
   "execution_count": 17,
   "metadata": {},
   "outputs": [],
   "source": [
    "mixed = [\"Johan\", 4, \"bananas\", 42]"
   ]
  },
  {
   "cell_type": "code",
   "execution_count": 18,
   "metadata": {},
   "outputs": [
    {
     "ename": "TypeError",
     "evalue": "'<' not supported between instances of 'int' and 'str'",
     "output_type": "error",
     "traceback": [
      "\u001b[0;31m---------------------------------------------------------------------------\u001b[0m",
      "\u001b[0;31mTypeError\u001b[0m                                 Traceback (most recent call last)",
      "\u001b[0;32m<ipython-input-18-af3915e507d0>\u001b[0m in \u001b[0;36m<module>\u001b[0;34m\u001b[0m\n\u001b[0;32m----> 1\u001b[0;31m \u001b[0mmixed\u001b[0m\u001b[0;34m.\u001b[0m\u001b[0msort\u001b[0m\u001b[0;34m(\u001b[0m\u001b[0;34m)\u001b[0m\u001b[0;34m\u001b[0m\u001b[0;34m\u001b[0m\u001b[0m\n\u001b[0m",
      "\u001b[0;31mTypeError\u001b[0m: '<' not supported between instances of 'int' and 'str'"
     ]
    }
   ],
   "source": [
    "mixed.sort()"
   ]
  },
  {
   "cell_type": "markdown",
   "metadata": {},
   "source": [
    "##### 9.6.5.1 ASCII Sorting"
   ]
  },
  {
   "cell_type": "markdown",
   "metadata": {},
   "source": [
    "The `.sort()` doesn't actually sort in alphabetical order, but \"ASCII-betical\" order. That is, in accordance with [the ASCII table](http://www.asciitable.com/).  This means it takes upper and lower casing into account while sorting. So upper case comes before lower case:"
   ]
  },
  {
   "cell_type": "code",
   "execution_count": 285,
   "metadata": {},
   "outputs": [],
   "source": [
    "things = [\"Johan\", \"Sarah\", \"Mohamed\", \"juice\", \"sand\", \"moose\"]"
   ]
  },
  {
   "cell_type": "code",
   "execution_count": 286,
   "metadata": {},
   "outputs": [],
   "source": [
    "things.sort()"
   ]
  },
  {
   "cell_type": "code",
   "execution_count": 287,
   "metadata": {},
   "outputs": [
    {
     "data": {
      "text/plain": [
       "['Johan', 'Mohamed', 'Sarah', 'juice', 'moose', 'sand']"
      ]
     },
     "execution_count": 287,
     "metadata": {},
     "output_type": "execute_result"
    }
   ],
   "source": [
    "things"
   ]
  },
  {
   "cell_type": "code",
   "execution_count": 288,
   "metadata": {},
   "outputs": [],
   "source": [
    "things = [\"AAA\", \"bbb\", \"CCC\", \"aaa\", \"BBB\", \"ccc\"]"
   ]
  },
  {
   "cell_type": "code",
   "execution_count": 289,
   "metadata": {},
   "outputs": [],
   "source": [
    "things.sort()"
   ]
  },
  {
   "cell_type": "code",
   "execution_count": 290,
   "metadata": {},
   "outputs": [
    {
     "data": {
      "text/plain": [
       "['AAA', 'BBB', 'CCC', 'aaa', 'bbb', 'ccc']"
      ]
     },
     "execution_count": 290,
     "metadata": {},
     "output_type": "execute_result"
    }
   ],
   "source": [
    "things"
   ]
  },
  {
   "cell_type": "markdown",
   "metadata": {},
   "source": [
    "This is a bit weird, isn't it? \"BBB\" before \"aaa\"? Thankfully, you can change the sorting behaviour to true alphabetical order by using the `key` parameter:"
   ]
  },
  {
   "cell_type": "code",
   "execution_count": 291,
   "metadata": {},
   "outputs": [],
   "source": [
    "things = [\"AAA\", \"bbb\", \"CCC\", \"aaa\", \"BBB\", \"ccc\"]"
   ]
  },
  {
   "cell_type": "code",
   "execution_count": 292,
   "metadata": {},
   "outputs": [],
   "source": [
    "things.sort(key=str.lower) # here, we're actually passing a method as an argument"
   ]
  },
  {
   "cell_type": "code",
   "execution_count": 293,
   "metadata": {},
   "outputs": [
    {
     "data": {
      "text/plain": [
       "['AAA', 'aaa', 'bbb', 'BBB', 'CCC', 'ccc']"
      ]
     },
     "execution_count": 293,
     "metadata": {},
     "output_type": "execute_result"
    }
   ],
   "source": [
    "things"
   ]
  },
  {
   "cell_type": "markdown",
   "metadata": {},
   "source": [
    "In above sorting, casing is ignored. If the items are of the same alphbetical letters, they are ordered as they appear in the list."
   ]
  },
  {
   "cell_type": "markdown",
   "metadata": {},
   "source": [
    "#### 9.6.6 (Optional) Method call straight into index brackets"
   ]
  },
  {
   "cell_type": "markdown",
   "metadata": {},
   "source": [
    "Since the method `.index()` return the index value, we can acctually just insert that method call into the index brackets directly!"
   ]
  },
  {
   "cell_type": "code",
   "execution_count": 294,
   "metadata": {},
   "outputs": [],
   "source": [
    "names = [\"Johan\", \"Fredrik\", \"Anna\", \"Sonya\", \"Ahmed\"]"
   ]
  },
  {
   "cell_type": "code",
   "execution_count": 295,
   "metadata": {},
   "outputs": [],
   "source": [
    "names[names.index(\"Johan\")] = \"Charlie\""
   ]
  },
  {
   "cell_type": "code",
   "execution_count": 296,
   "metadata": {
    "scrolled": true
   },
   "outputs": [
    {
     "data": {
      "text/plain": [
       "['Charlie', 'Fredrik', 'Anna', 'Sonya', 'Ahmed']"
      ]
     },
     "execution_count": 296,
     "metadata": {},
     "output_type": "execute_result"
    }
   ],
   "source": [
    "names"
   ]
  },
  {
   "cell_type": "markdown",
   "metadata": {},
   "source": [
    "#### 9.6.7 (Optional) \"In place\" methods"
   ]
  },
  {
   "cell_type": "markdown",
   "metadata": {},
   "source": [
    "Some of you may have noticed that some of the methods above didn't return any value. Take `.append()` as an example:"
   ]
  },
  {
   "cell_type": "code",
   "execution_count": 108,
   "metadata": {},
   "outputs": [],
   "source": [
    "names = [\"Johan\", \"Fredrik\", \"Anna\", \"Sonya\", \"Ahmed\"]"
   ]
  },
  {
   "cell_type": "code",
   "execution_count": 109,
   "metadata": {},
   "outputs": [],
   "source": [
    "names.append(\"Lisa\") # Doesn't return anything??"
   ]
  },
  {
   "cell_type": "code",
   "execution_count": 110,
   "metadata": {},
   "outputs": [
    {
     "data": {
      "text/plain": [
       "['Johan', 'Fredrik', 'Anna', 'Sonya', 'Ahmed', 'Lisa']"
      ]
     },
     "execution_count": 110,
     "metadata": {},
     "output_type": "execute_result"
    }
   ],
   "source": [
    "names"
   ]
  },
  {
   "cell_type": "markdown",
   "metadata": {},
   "source": [
    "Some methods modify values \"in place\". `.append()` is one such method. They don't return a new list, only change the list we use the method on. \n",
    "\n",
    "Or, to be precise, they actually do return a value – `None`. So be sure not to reassign a `.append()` method call to a variable. You will replace your variable list with the `None` value:"
   ]
  },
  {
   "cell_type": "code",
   "execution_count": 302,
   "metadata": {},
   "outputs": [],
   "source": [
    "names = [\"Johan\", \"Fredrik\", \"Anna\", \"Sonya\", \"Ahmed\"]"
   ]
  },
  {
   "cell_type": "code",
   "execution_count": 303,
   "metadata": {},
   "outputs": [],
   "source": [
    "names = names.append(\"Lisa\")"
   ]
  },
  {
   "cell_type": "code",
   "execution_count": 304,
   "metadata": {},
   "outputs": [],
   "source": [
    "names"
   ]
  },
  {
   "cell_type": "code",
   "execution_count": 305,
   "metadata": {},
   "outputs": [
    {
     "data": {
      "text/plain": [
       "NoneType"
      ]
     },
     "execution_count": 305,
     "metadata": {},
     "output_type": "execute_result"
    }
   ],
   "source": [
    "type(names)"
   ]
  },
  {
   "cell_type": "markdown",
   "metadata": {},
   "source": [
    "### 9.7 The built-in function `list()`"
   ]
  },
  {
   "cell_type": "markdown",
   "metadata": {},
   "source": [
    "The `list()` function lets us convert list-like objects – containers – into Python lists. String values are containers, so the `list()` function divides the string into a list of all its characters:"
   ]
  },
  {
   "cell_type": "code",
   "execution_count": 57,
   "metadata": {},
   "outputs": [
    {
     "data": {
      "text/plain": [
       "['J', 'o', 'h', 'a', 'n']"
      ]
     },
     "execution_count": 57,
     "metadata": {},
     "output_type": "execute_result"
    }
   ],
   "source": [
    "list(\"Johan\")"
   ]
  },
  {
   "cell_type": "markdown",
   "metadata": {},
   "source": [
    "### 9.8 The `in` and `not in` operators"
   ]
  },
  {
   "cell_type": "markdown",
   "metadata": {},
   "source": [
    "Often, our lists will include a whole bunch of items. And it is fairly common we want to check to see if a specific value is or isn't included in the list. As an example, let's create a list of surnames:"
   ]
  },
  {
   "cell_type": "code",
   "execution_count": 306,
   "metadata": {},
   "outputs": [],
   "source": [
    "surnames = [\"Ekman\", \"Smith\", \"Deboullie\", \"Mäki\", \"Sørensen\", \"Doe\"]"
   ]
  },
  {
   "cell_type": "markdown",
   "metadata": {},
   "source": [
    "We can now check to see if the surname \"Doe\" is in the list (remember, Python is checking your code literally. Casing matters, so always check your spelling!):"
   ]
  },
  {
   "cell_type": "code",
   "execution_count": 307,
   "metadata": {},
   "outputs": [
    {
     "data": {
      "text/plain": [
       "True"
      ]
     },
     "execution_count": 307,
     "metadata": {},
     "output_type": "execute_result"
    }
   ],
   "source": [
    "\"Doe\" in surnames"
   ]
  },
  {
   "cell_type": "code",
   "execution_count": 308,
   "metadata": {},
   "outputs": [
    {
     "data": {
      "text/plain": [
       "False"
      ]
     },
     "execution_count": 308,
     "metadata": {},
     "output_type": "execute_result"
    }
   ],
   "source": [
    "\"banana\" in surnames"
   ]
  },
  {
   "cell_type": "code",
   "execution_count": 309,
   "metadata": {},
   "outputs": [
    {
     "data": {
      "text/plain": [
       "True"
      ]
     },
     "execution_count": 309,
     "metadata": {},
     "output_type": "execute_result"
    }
   ],
   "source": [
    "\"banana\" not in surnames"
   ]
  },
  {
   "cell_type": "code",
   "execution_count": 310,
   "metadata": {},
   "outputs": [
    {
     "data": {
      "text/plain": [
       "False"
      ]
     },
     "execution_count": 310,
     "metadata": {},
     "output_type": "execute_result"
    }
   ],
   "source": [
    "\"Doe\" not in surnames"
   ]
  },
  {
   "cell_type": "markdown",
   "metadata": {},
   "source": [
    "If you recall the if-statement, it is fairly easy to understand why these operators would come in handy in a program. Let's say we want our program to add names that aren't already in the list. An if-statement can help us with that:"
   ]
  },
  {
   "cell_type": "code",
   "execution_count": 78,
   "metadata": {},
   "outputs": [],
   "source": [
    "name = \"Sauron\""
   ]
  },
  {
   "cell_type": "code",
   "execution_count": 79,
   "metadata": {},
   "outputs": [],
   "source": [
    "if name not in surnames:\n",
    "    surnames.append(name)"
   ]
  },
  {
   "cell_type": "code",
   "execution_count": 80,
   "metadata": {},
   "outputs": [
    {
     "data": {
      "text/plain": [
       "['Ekman', 'Smith', 'Deboullie', 'Mäki', 'Sørensen', 'Doe', 'Johan', 'Sauron']"
      ]
     },
     "execution_count": 80,
     "metadata": {},
     "output_type": "execute_result"
    }
   ],
   "source": [
    "surnames"
   ]
  },
  {
   "cell_type": "markdown",
   "metadata": {},
   "source": [
    "### 9.9 Similarities between lists and strings"
   ]
  },
  {
   "cell_type": "markdown",
   "metadata": {},
   "source": [
    "As explained in our chapter 6, the `len()` function returns the number of items within a container. We used this built-in function on string values:"
   ]
  },
  {
   "cell_type": "code",
   "execution_count": 35,
   "metadata": {},
   "outputs": [],
   "source": [
    "name = \"Johan\""
   ]
  },
  {
   "cell_type": "code",
   "execution_count": 36,
   "metadata": {},
   "outputs": [
    {
     "data": {
      "text/plain": [
       "5"
      ]
     },
     "execution_count": 36,
     "metadata": {},
     "output_type": "execute_result"
    }
   ],
   "source": [
    "len(name)"
   ]
  },
  {
   "cell_type": "markdown",
   "metadata": {},
   "source": [
    "String values actually have a lot in common with lists. They have an index:"
   ]
  },
  {
   "cell_type": "code",
   "execution_count": 37,
   "metadata": {},
   "outputs": [
    {
     "data": {
      "text/plain": [
       "'h'"
      ]
     },
     "execution_count": 37,
     "metadata": {},
     "output_type": "execute_result"
    }
   ],
   "source": [
    "name[2]"
   ]
  },
  {
   "cell_type": "markdown",
   "metadata": {},
   "source": [
    "You can use slice indexing:"
   ]
  },
  {
   "cell_type": "code",
   "execution_count": 38,
   "metadata": {},
   "outputs": [
    {
     "data": {
      "text/plain": [
       "'ha'"
      ]
     },
     "execution_count": 38,
     "metadata": {},
     "output_type": "execute_result"
    }
   ],
   "source": [
    "name[2:4]"
   ]
  },
  {
   "cell_type": "markdown",
   "metadata": {},
   "source": [
    "Just like lists, you can use the `in` and `not in` operators on strings:"
   ]
  },
  {
   "cell_type": "code",
   "execution_count": 30,
   "metadata": {},
   "outputs": [
    {
     "data": {
      "text/plain": [
       "True"
      ]
     },
     "execution_count": 30,
     "metadata": {},
     "output_type": "execute_result"
    }
   ],
   "source": [
    "# returns True if \"oh\" is in the string\n",
    "\"oh\" in \"Johan\""
   ]
  },
  {
   "cell_type": "code",
   "execution_count": 31,
   "metadata": {},
   "outputs": [
    {
     "data": {
      "text/plain": [
       "True"
      ]
     },
     "execution_count": 31,
     "metadata": {},
     "output_type": "execute_result"
    }
   ],
   "source": [
    "# returns True if \"Johan\" isn't in the string\n",
    "\"Johan\" not in \"This is a string value, not containing any names.\""
   ]
  },
  {
   "cell_type": "code",
   "execution_count": 32,
   "metadata": {},
   "outputs": [
    {
     "data": {
      "text/plain": [
       "False"
      ]
     },
     "execution_count": 32,
     "metadata": {},
     "output_type": "execute_result"
    }
   ],
   "source": [
    "# returns False if \"Johan\" is in the string\n",
    "\"Johan\" not in \"This is a string value, containing the name Johan.\""
   ]
  },
  {
   "cell_type": "markdown",
   "metadata": {},
   "source": [
    "And, as shown in section 9.7, if we use the `list()` function on a string, it returns the strings characters in a list:"
   ]
  },
  {
   "cell_type": "code",
   "execution_count": 39,
   "metadata": {},
   "outputs": [
    {
     "data": {
      "text/plain": [
       "['J', 'o', 'h', 'a', 'n']"
      ]
     },
     "execution_count": 39,
     "metadata": {},
     "output_type": "execute_result"
    }
   ],
   "source": [
    "list(\"Johan\")"
   ]
  },
  {
   "cell_type": "markdown",
   "metadata": {},
   "source": [
    "Just like strings, lists are also containers, which means we can also use the `len()` function on our lists!"
   ]
  },
  {
   "cell_type": "code",
   "execution_count": 61,
   "metadata": {},
   "outputs": [],
   "source": [
    "fruit = ['banana', 'apple', 'orange']"
   ]
  },
  {
   "cell_type": "code",
   "execution_count": 37,
   "metadata": {},
   "outputs": [
    {
     "data": {
      "text/plain": [
       "3"
      ]
     },
     "execution_count": 37,
     "metadata": {},
     "output_type": "execute_result"
    }
   ],
   "source": [
    "len(fruit)"
   ]
  },
  {
   "cell_type": "markdown",
   "metadata": {},
   "source": [
    "Just as with strings, lists can be concatinated with the `+` operator."
   ]
  },
  {
   "cell_type": "code",
   "execution_count": 52,
   "metadata": {},
   "outputs": [
    {
     "data": {
      "text/plain": [
       "'Hello world!'"
      ]
     },
     "execution_count": 52,
     "metadata": {},
     "output_type": "execute_result"
    }
   ],
   "source": [
    "\"Hello \" + \"world!\""
   ]
  },
  {
   "cell_type": "markdown",
   "metadata": {},
   "source": [
    "This also works with lists:"
   ]
  },
  {
   "cell_type": "code",
   "execution_count": 53,
   "metadata": {},
   "outputs": [
    {
     "data": {
      "text/plain": [
       "['banana', 'apple', 'orange']"
      ]
     },
     "execution_count": 53,
     "metadata": {},
     "output_type": "execute_result"
    }
   ],
   "source": [
    "fruit"
   ]
  },
  {
   "cell_type": "code",
   "execution_count": 48,
   "metadata": {},
   "outputs": [],
   "source": [
    "berries = ['blackberries', 'strawberries', 'blueberries']"
   ]
  },
  {
   "cell_type": "code",
   "execution_count": 49,
   "metadata": {},
   "outputs": [
    {
     "data": {
      "text/plain": [
       "['banana', 'apple', 'orange', 'blackberries', 'strawberries', 'blueberries']"
      ]
     },
     "execution_count": 49,
     "metadata": {},
     "output_type": "execute_result"
    }
   ],
   "source": [
    "fruit + berries"
   ]
  },
  {
   "cell_type": "code",
   "execution_count": 56,
   "metadata": {},
   "outputs": [
    {
     "data": {
      "text/plain": [
       "[1, 2, 3, 4]"
      ]
     },
     "execution_count": 56,
     "metadata": {},
     "output_type": "execute_result"
    }
   ],
   "source": [
    "[1, 2, 3] + [4]"
   ]
  },
  {
   "cell_type": "markdown",
   "metadata": {},
   "source": [
    "We can also do **list replication** with the multiplication operator:"
   ]
  },
  {
   "cell_type": "code",
   "execution_count": 55,
   "metadata": {},
   "outputs": [
    {
     "data": {
      "text/plain": [
       "['banana',\n",
       " 'apple',\n",
       " 'orange',\n",
       " 'banana',\n",
       " 'apple',\n",
       " 'orange',\n",
       " 'banana',\n",
       " 'apple',\n",
       " 'orange']"
      ]
     },
     "execution_count": 55,
     "metadata": {},
     "output_type": "execute_result"
    }
   ],
   "source": [
    "fruit * 3"
   ]
  },
  {
   "cell_type": "markdown",
   "metadata": {},
   "source": [
    "#### 9.9.1 The `split()` method"
   ]
  },
  {
   "cell_type": "markdown",
   "metadata": {},
   "source": [
    "String values acctually have a very neet method that let us cut up strings into lists: `split()`. By default, this method splits up the string by all its blank spaces:"
   ]
  },
  {
   "cell_type": "code",
   "execution_count": 313,
   "metadata": {},
   "outputs": [],
   "source": [
    "long_string = \"Hello everyone. This is a preeeetty long string\""
   ]
  },
  {
   "cell_type": "code",
   "execution_count": 314,
   "metadata": {},
   "outputs": [
    {
     "data": {
      "text/plain": [
       "['Hello', 'everyone.', 'This', 'is', 'a', 'preeeetty', 'long', 'string']"
      ]
     },
     "execution_count": 314,
     "metadata": {},
     "output_type": "execute_result"
    }
   ],
   "source": [
    "long_string.split()"
   ]
  },
  {
   "cell_type": "markdown",
   "metadata": {},
   "source": [
    "But we can split it on any character we wish. We just pass a character to split on as an argument:"
   ]
  },
  {
   "cell_type": "code",
   "execution_count": 315,
   "metadata": {},
   "outputs": [
    {
     "data": {
      "text/plain": [
       "['Hello everyone', ' This is a preeeetty long string']"
      ]
     },
     "execution_count": 315,
     "metadata": {},
     "output_type": "execute_result"
    }
   ],
   "source": [
    "long_string.split(\".\") # splits on '.'"
   ]
  },
  {
   "cell_type": "code",
   "execution_count": 316,
   "metadata": {},
   "outputs": [
    {
     "data": {
      "text/plain": [
       "['H', 'llo ', 'v', 'ryon', '. This is a pr', '', '', '', 'tty long string']"
      ]
     },
     "execution_count": 316,
     "metadata": {},
     "output_type": "execute_result"
    }
   ],
   "source": [
    "long_string.split(\"e\") # splits on 'e'"
   ]
  },
  {
   "cell_type": "markdown",
   "metadata": {},
   "source": [
    "Note that the character that we chose to split on isn't included in the returned list."
   ]
  },
  {
   "cell_type": "markdown",
   "metadata": {},
   "source": [
    "#### 9.9.2 The `.join()` method"
   ]
  },
  {
   "cell_type": "markdown",
   "metadata": {},
   "source": [
    "We can also do the reverse operation as we did with the `.split()` method, using the `.join()` method. This is actually not a list method, it is a string method that takes a list as an argument. It converts the list into a string value! Let's build on the ecample from the previous section:"
   ]
  },
  {
   "cell_type": "code",
   "execution_count": 1,
   "metadata": {},
   "outputs": [],
   "source": [
    "long_string = \"Hello everyone. This is a preeeetty long string\""
   ]
  },
  {
   "cell_type": "code",
   "execution_count": 2,
   "metadata": {},
   "outputs": [],
   "source": [
    "split_list = long_string.split()"
   ]
  },
  {
   "cell_type": "code",
   "execution_count": 3,
   "metadata": {},
   "outputs": [
    {
     "data": {
      "text/plain": [
       "['Hello', 'everyone.', 'This', 'is', 'a', 'preeeetty', 'long', 'string']"
      ]
     },
     "execution_count": 3,
     "metadata": {},
     "output_type": "execute_result"
    }
   ],
   "source": [
    "split_list"
   ]
  },
  {
   "cell_type": "markdown",
   "metadata": {},
   "source": [
    "So, we've created a list out of our string by splitting on all blank space in the string (since this is the default of the split method). We've saved this new list into a variable – `split_list`. \n",
    "\n",
    "Now, we can use the `.join()` method to recreate our string:"
   ]
  },
  {
   "cell_type": "code",
   "execution_count": 9,
   "metadata": {},
   "outputs": [
    {
     "data": {
      "text/plain": [
       "'Hello everyone. This is a preeeetty long string'"
      ]
     },
     "execution_count": 9,
     "metadata": {},
     "output_type": "execute_result"
    }
   ],
   "source": [
    "\" \".join(split_list)"
   ]
  },
  {
   "cell_type": "markdown",
   "metadata": {},
   "source": [
    "What happend??\n",
    "\n",
    "We took a string value, in this case a single blank space `\" \"`, and used the string method join of it. Then we pass our list as the argument to this method call. The join method will then join all this list's item into a single string value. It will connect each list item with the string value we used the join method of. This string can be whatever string we'd like it to be:"
   ]
  },
  {
   "cell_type": "code",
   "execution_count": 5,
   "metadata": {},
   "outputs": [
    {
     "data": {
      "text/plain": [
       "'HelloJohaneveryone.JohanThisJohanisJohanaJohanpreeeettyJohanlongJohanstring'"
      ]
     },
     "execution_count": 5,
     "metadata": {},
     "output_type": "execute_result"
    }
   ],
   "source": [
    "\"Johan\".join(split_list)"
   ]
  },
  {
   "cell_type": "code",
   "execution_count": 6,
   "metadata": {},
   "outputs": [
    {
     "data": {
      "text/plain": [
       "'HelloXYZeveryone.XYZThisXYZisXYZaXYZpreeeettyXYZlongXYZstring'"
      ]
     },
     "execution_count": 6,
     "metadata": {},
     "output_type": "execute_result"
    }
   ],
   "source": [
    "\"XYZ\".join(split_list)"
   ]
  },
  {
   "cell_type": "code",
   "execution_count": 7,
   "metadata": {},
   "outputs": [
    {
     "data": {
      "text/plain": [
       "'Hello€%&everyone.€%&This€%&is€%&a€%&preeeetty€%&long€%&string'"
      ]
     },
     "execution_count": 7,
     "metadata": {},
     "output_type": "execute_result"
    }
   ],
   "source": [
    "\"€%&\".join(split_list)"
   ]
  },
  {
   "cell_type": "code",
   "execution_count": 8,
   "metadata": {},
   "outputs": [
    {
     "data": {
      "text/plain": [
       "'Hello, everyone., This, is, a, preeeetty, long, string'"
      ]
     },
     "execution_count": 8,
     "metadata": {},
     "output_type": "execute_result"
    }
   ],
   "source": [
    "\", \".join(split_list)"
   ]
  },
  {
   "cell_type": "markdown",
   "metadata": {},
   "source": [
    "This method is very useful since it is sometimes handy to save a entire list into one single string variable. And if we then want to convert it back into a list, we can just use the split method again!"
   ]
  },
  {
   "cell_type": "markdown",
   "metadata": {},
   "source": [
    "### 9.10 Exercise – Build your own list function, part 1"
   ]
  },
  {
   "cell_type": "markdown",
   "metadata": {},
   "source": [
    "In this exercise, I want you to build a function that replaces any of the items in this list: \n",
    "\n",
    "`my_list = [\"apple\", \"pear\", \"orange\", \"blueberry\"]`\n",
    "\n",
    "It should have three parameters. the first should be the value that is meant to be replaced. The second should be the value we want to replace with, and the third should be the list itself. \n",
    "\n",
    "For example, say I want to swap `\"orange\"` to `\"pineapple\"`, your function should be called like this:\n",
    "\n",
    "`my_function(\"orange\", \"pineapple\", my_list)` and then return a list where `\"orange\"` is gone, and `\"pineapple\"` added to the list. \n",
    "\n",
    "Also! If the passed item isn't included in the list, the function should print a warning about this and then return the original list. \n",
    "\n",
    "Hint: you will need to use list methods to get this done. The solution can be found in the solutions notebook. Good luck!"
   ]
  },
  {
   "cell_type": "code",
   "execution_count": 63,
   "metadata": {},
   "outputs": [],
   "source": [
    "my_list = [\"apple\", \"pear\", \"orange\", \"blueberry\"]"
   ]
  },
  {
   "cell_type": "code",
   "execution_count": null,
   "metadata": {},
   "outputs": [],
   "source": []
  },
  {
   "cell_type": "code",
   "execution_count": null,
   "metadata": {},
   "outputs": [],
   "source": []
  },
  {
   "cell_type": "code",
   "execution_count": null,
   "metadata": {},
   "outputs": [],
   "source": []
  },
  {
   "cell_type": "markdown",
   "metadata": {
    "heading_collapsed": true
   },
   "source": [
    "## 10 Loops"
   ]
  },
  {
   "cell_type": "markdown",
   "metadata": {
    "hidden": true
   },
   "source": [
    "### 10.1 `while`-loops"
   ]
  },
  {
   "cell_type": "markdown",
   "metadata": {
    "hidden": true
   },
   "source": [
    "In chapter 6 we learned about flow control `if`-statements. For example:"
   ]
  },
  {
   "cell_type": "code",
   "execution_count": 5,
   "metadata": {
    "hidden": true
   },
   "outputs": [],
   "source": [
    "number = 0"
   ]
  },
  {
   "cell_type": "code",
   "execution_count": 6,
   "metadata": {
    "hidden": true
   },
   "outputs": [
    {
     "name": "stdout",
     "output_type": "stream",
     "text": [
      "1\n"
     ]
    }
   ],
   "source": [
    "if number < 5:\n",
    "    number = number + 1\n",
    "    print(number)"
   ]
  },
  {
   "cell_type": "markdown",
   "metadata": {
    "hidden": true
   },
   "source": [
    "Here, we created a global variable `number` assigned to the integer 0. The `if`-statement evaluates the condition `number < 5` to `True` (since 0 is less than 5) and thus executes the code block beneath it. Within the code block, `number` is increased by 1, and the variable is then printed. Here is a flow chart of what has happend:"
   ]
  },
  {
   "cell_type": "markdown",
   "metadata": {
    "hidden": true
   },
   "source": [
    "<img src=\"../course_material/if_statement.png\" style=\"width: 600px;\"/>"
   ]
  },
  {
   "cell_type": "markdown",
   "metadata": {
    "hidden": true
   },
   "source": [
    "A `while`-loop lets us use the same kind of flow control, while at the same time automatically repeating the code block as many times we'd like. Let's do the same thing, but with a while loop:"
   ]
  },
  {
   "cell_type": "code",
   "execution_count": 11,
   "metadata": {
    "hidden": true
   },
   "outputs": [],
   "source": [
    "number = 0"
   ]
  },
  {
   "cell_type": "code",
   "execution_count": 12,
   "metadata": {
    "hidden": true
   },
   "outputs": [
    {
     "name": "stdout",
     "output_type": "stream",
     "text": [
      "1\n",
      "2\n",
      "3\n",
      "4\n",
      "5\n"
     ]
    }
   ],
   "source": [
    "while number < 5:\n",
    "    number = number + 1\n",
    "    print(number)"
   ]
  },
  {
   "cell_type": "markdown",
   "metadata": {
    "hidden": true
   },
   "source": [
    "A `while`-loop evaluates the condition passed (`number < 5`), and if this is true, the code block is executed – just like the `if`-statement. BUT! The difference is that the `while`-loop will execute the code block, and then _return back to the condition and check it again_. If the condition is still true, it will rerun the code block. It will _loop over_ the code block until the condition is false! Here is a flow chart of what happend:"
   ]
  },
  {
   "cell_type": "markdown",
   "metadata": {
    "hidden": true
   },
   "source": [
    "<img src=\"../course_material/while_loop.png\" style=\"width: 500px;\"/>"
   ]
  },
  {
   "cell_type": "markdown",
   "metadata": {
    "hidden": true
   },
   "source": [
    "#### 10.1.1 Input validation"
   ]
  },
  {
   "cell_type": "markdown",
   "metadata": {
    "hidden": true
   },
   "source": [
    "While loops are usually used when you want input from a user that needs to be typed in a specific way. Uncomment the following code (just remove the `#` characters in the cell – and be careful to only remove the `#` characters!) and run the code.\n",
    "\n",
    "Below, we use the built-in function `input()`. This creates a small input bar under the cell where we can type in a value that will be passed as a string to our code. Write your prefered string and then press Enter. If the string value we've passed doesn't match \"Yes\", the condition `user_input != \"Yes\"` will evaluate to `True`, and the code block is executed. Try it:"
   ]
  },
  {
   "cell_type": "code",
   "execution_count": 19,
   "metadata": {
    "hidden": true
   },
   "outputs": [],
   "source": [
    "#user_input = input()\n",
    "#print(\"Would you like to proceed?\")\n",
    "#while user_input != \"Yes\":\n",
    "#    print(\"To proceed, type 'Yes'\")\n",
    "#    user_input = input()\n",
    "#print(\"Proceeding...\")"
   ]
  },
  {
   "cell_type": "markdown",
   "metadata": {
    "hidden": true
   },
   "source": [
    "While loops are often used in this manner, to validate that the input from a user is as expected. Using while loops in this manner is often called **input validation**."
   ]
  },
  {
   "cell_type": "markdown",
   "metadata": {
    "hidden": true
   },
   "source": [
    "#### 10.1.2 CAUTION: Infinite `while`-loops"
   ]
  },
  {
   "cell_type": "markdown",
   "metadata": {
    "hidden": true
   },
   "source": [
    "Since a while-loop always repeats itself if its condition is evaluated to `True`, you have to be cautious not to create an infinite loop. Let's reuse the above example but with one small change:"
   ]
  },
  {
   "cell_type": "code",
   "execution_count": 13,
   "metadata": {
    "hidden": true
   },
   "outputs": [],
   "source": [
    "number = 0"
   ]
  },
  {
   "cell_type": "code",
   "execution_count": null,
   "metadata": {
    "hidden": true
   },
   "outputs": [],
   "source": [
    "#while number < 5:\n",
    "#    print(number)"
   ]
  },
  {
   "cell_type": "markdown",
   "metadata": {
    "hidden": true
   },
   "source": [
    "The while-loop above is commented out so that you won't run it by accident. This code will create an infinite loop. Since we no longer add the value 1 to `number` within the loop's code block, `number` will always be 0. This means that the condition `number < 5` will _always_ be True, and the loop will continue until the end of time. Whoopsie! ¯\\\\\\_(ツ)\\_/¯"
   ]
  },
  {
   "cell_type": "markdown",
   "metadata": {
    "hidden": true
   },
   "source": [
    "No worries though. You can _always_ interrupt a running program in Python. In general, when running python programs, this is done by pressing: \n",
    "\n",
    "<kbd>⌃ Control</kbd>+<kbd>C</kbd>\n",
    "\n",
    "In a Jupyter Notebook, however, you do this by either:\n",
    "- pressing <kbd>I</kbd>,<kbd>I</kbd> (double tap `I` on your keyboard)\n",
    "- Go to the Jupyter menu and choose Kernel > Interrupt. Here is a pic:"
   ]
  },
  {
   "cell_type": "markdown",
   "metadata": {
    "hidden": true
   },
   "source": [
    "<img src=\"../course_material/interrupt.png\" style=\"width: 500px;\"/>"
   ]
  },
  {
   "cell_type": "markdown",
   "metadata": {
    "hidden": true
   },
   "source": [
    "Try it! Uncomment above while-loop and interrupt it!"
   ]
  },
  {
   "cell_type": "markdown",
   "metadata": {
    "hidden": true
   },
   "source": [
    "#### 10.1.3 The `break` statement"
   ]
  },
  {
   "cell_type": "markdown",
   "metadata": {
    "hidden": true
   },
   "source": [
    "The `break` statement cancels a ongoing loop. Let's use the `sum()` function in this example. It sums up a list's number values:"
   ]
  },
  {
   "cell_type": "code",
   "execution_count": 73,
   "metadata": {
    "hidden": true
   },
   "outputs": [],
   "source": [
    "number_list = [1, 2, 3, 4, 5, 6]"
   ]
  },
  {
   "cell_type": "code",
   "execution_count": 70,
   "metadata": {
    "hidden": true
   },
   "outputs": [
    {
     "data": {
      "text/plain": [
       "21"
      ]
     },
     "execution_count": 70,
     "metadata": {},
     "output_type": "execute_result"
    }
   ],
   "source": [
    "sum(number_list)"
   ]
  },
  {
   "cell_type": "markdown",
   "metadata": {
    "hidden": true
   },
   "source": [
    "Let's say we want to increase the first value in the list by 1 until the sum of all values is 1000. This can be done with a while loop:"
   ]
  },
  {
   "cell_type": "code",
   "execution_count": 71,
   "metadata": {
    "hidden": true
   },
   "outputs": [],
   "source": [
    "while sum(number_list) < 1000:\n",
    "    number_list[0] += 1 # remember this pattern? Section 3.3.1!"
   ]
  },
  {
   "cell_type": "code",
   "execution_count": 72,
   "metadata": {
    "hidden": true
   },
   "outputs": [
    {
     "data": {
      "text/plain": [
       "[980, 2, 3, 4, 5, 6]"
      ]
     },
     "execution_count": 72,
     "metadata": {},
     "output_type": "execute_result"
    }
   ],
   "source": [
    "number_list"
   ]
  },
  {
   "cell_type": "markdown",
   "metadata": {
    "hidden": true
   },
   "source": [
    "But let's say that, for whatever reason, we want the loop the stop if it's taking too long. So, if the first value in the list is too small – like, less than 100 – this while loop is gonna be too slow and we want it to stop. We can then use a `break` statement:"
   ]
  },
  {
   "cell_type": "code",
   "execution_count": 74,
   "metadata": {
    "hidden": true
   },
   "outputs": [],
   "source": [
    "number_list = [1, 2, 3, 4, 5, 6]"
   ]
  },
  {
   "cell_type": "code",
   "execution_count": 76,
   "metadata": {
    "hidden": true
   },
   "outputs": [
    {
     "name": "stdout",
     "output_type": "stream",
     "text": [
      "first item is less than 100. Stopping loop...\n"
     ]
    }
   ],
   "source": [
    "while sum(number_list) < 1000:\n",
    "    if number_list[0] < 100:\n",
    "        print(\"First list item is less than 100. Stopping loop...\")\n",
    "        break\n",
    "    # This won't execute:\n",
    "    number_list[0] += 1 "
   ]
  },
  {
   "cell_type": "code",
   "execution_count": 77,
   "metadata": {
    "hidden": true
   },
   "outputs": [
    {
     "data": {
      "text/plain": [
       "[1, 2, 3, 4, 5, 6]"
      ]
     },
     "execution_count": 77,
     "metadata": {},
     "output_type": "execute_result"
    }
   ],
   "source": [
    "number_list"
   ]
  },
  {
   "cell_type": "markdown",
   "metadata": {
    "hidden": true
   },
   "source": [
    "Another example: let's say we have a list of names, and we want to use a while loop to remove all \"Johan\" in the list, using the `.remove()` method:"
   ]
  },
  {
   "cell_type": "code",
   "execution_count": 89,
   "metadata": {
    "hidden": true
   },
   "outputs": [],
   "source": [
    "list_of_names = [\"Johan\", \"Fredrick\", \"Jonas\", \"Katie\", \"Puck\", \"Johan\"]"
   ]
  },
  {
   "cell_type": "code",
   "execution_count": 90,
   "metadata": {
    "hidden": true
   },
   "outputs": [],
   "source": [
    "name = \"Johan\""
   ]
  },
  {
   "cell_type": "markdown",
   "metadata": {
    "hidden": true
   },
   "source": [
    "The `.remove()` method only removes the lowest indexed occurance of the passed argument. So if I pass \"Johan\", only the first occurance will be removed from the list:"
   ]
  },
  {
   "cell_type": "code",
   "execution_count": 91,
   "metadata": {
    "hidden": true
   },
   "outputs": [],
   "source": [
    "list_of_names.remove(name)"
   ]
  },
  {
   "cell_type": "code",
   "execution_count": 92,
   "metadata": {
    "hidden": true
   },
   "outputs": [
    {
     "data": {
      "text/plain": [
       "['Fredrick', 'Jonas', 'Katie', 'Puck', 'Johan']"
      ]
     },
     "execution_count": 92,
     "metadata": {},
     "output_type": "execute_result"
    }
   ],
   "source": [
    "list_of_names"
   ]
  },
  {
   "cell_type": "markdown",
   "metadata": {
    "hidden": true
   },
   "source": [
    "But we can use a while loop to remove all the occurances, using the `.index()` method instead:"
   ]
  },
  {
   "cell_type": "code",
   "execution_count": 93,
   "metadata": {
    "hidden": true
   },
   "outputs": [],
   "source": [
    "name = \"Johan\"\n",
    "\n",
    "list_of_names = [\"Johan\", \"Fredrick\", \"Jonas\", \"Katie\", \"Puck\", \"Johan\"]\n",
    "while name in list_of_names:\n",
    "    list_of_names.remove(name)"
   ]
  },
  {
   "cell_type": "code",
   "execution_count": 94,
   "metadata": {
    "hidden": true
   },
   "outputs": [
    {
     "data": {
      "text/plain": [
       "['Fredrick', 'Jonas', 'Katie', 'Puck']"
      ]
     },
     "execution_count": 94,
     "metadata": {},
     "output_type": "execute_result"
    }
   ],
   "source": [
    "list_of_names"
   ]
  },
  {
   "cell_type": "markdown",
   "metadata": {
    "hidden": true
   },
   "source": [
    "But what if we don't want this to run on a list that is really really big? Say, larger than 10.000 items? We can use the `break` statment:"
   ]
  },
  {
   "cell_type": "code",
   "execution_count": 95,
   "metadata": {
    "hidden": true
   },
   "outputs": [],
   "source": [
    "list_of_names = [\"Johan\", \"Fredrick\", \"Jonas\", \"Katie\", \"Puck\", \"Johan\"] * 5000"
   ]
  },
  {
   "cell_type": "code",
   "execution_count": 96,
   "metadata": {
    "hidden": true
   },
   "outputs": [
    {
     "data": {
      "text/plain": [
       "30000"
      ]
     },
     "execution_count": 96,
     "metadata": {},
     "output_type": "execute_result"
    }
   ],
   "source": [
    "len(list_of_names)"
   ]
  },
  {
   "cell_type": "code",
   "execution_count": 98,
   "metadata": {
    "hidden": true
   },
   "outputs": [
    {
     "name": "stdout",
     "output_type": "stream",
     "text": [
      "While-loop stopped because list too big...\n"
     ]
    }
   ],
   "source": [
    "while name in list_of_names:\n",
    "    if len(list_of_names) > 10000:\n",
    "        print(\"While-loop stopped because list too big...\")\n",
    "        break\n",
    "    list_of_names.remove(name)"
   ]
  },
  {
   "cell_type": "markdown",
   "metadata": {
    "hidden": true
   },
   "source": [
    "#### 10.1.4 Exercise – Build your own list function, part 2"
   ]
  },
  {
   "cell_type": "markdown",
   "metadata": {
    "hidden": true
   },
   "source": [
    "In this exercise, we will redo our function from the last exercise, but with a while-loop instead of inplace list methods. As was in the last exercise, you will create a function that takes three arguments: the list item to replace, the replacement value, and the list itself. But this time, the function should be able to take any list and replace all occurances of the values within the list, _at the same index where they lie in the list_.\n",
    "\n",
    "Take this list as an example:\n",
    "\n",
    "`my_list = [\"orange\", \"pear\", \"orange\", \"blueberry\"]`\n",
    "\n",
    "Say we want to replace \"orange\" with \"pineapple\", the return from your function should look like this:\n",
    "\n",
    "`[\"pineapple\", \"pear\", \"pineapple\", \"blueberry\"]`\n",
    "\n",
    "This function should also print a warning if the item to replace isn't in the list passed to the function.\n",
    "\n",
    "Hint: you can solve this using these following mechanics (together with other things we've learned):\n",
    "- a while-loop\n",
    "- the `.index()` list method\n",
    "\n",
    "You won't need the methods `.remove()` and `.append()`.\n",
    "\n",
    "As always, the solution can be found in the solutions notebook. Good luck!"
   ]
  },
  {
   "cell_type": "code",
   "execution_count": null,
   "metadata": {
    "hidden": true
   },
   "outputs": [],
   "source": []
  },
  {
   "cell_type": "code",
   "execution_count": null,
   "metadata": {
    "hidden": true
   },
   "outputs": [],
   "source": []
  },
  {
   "cell_type": "code",
   "execution_count": null,
   "metadata": {
    "hidden": true
   },
   "outputs": [],
   "source": []
  },
  {
   "cell_type": "code",
   "execution_count": null,
   "metadata": {
    "hidden": true
   },
   "outputs": [],
   "source": []
  },
  {
   "cell_type": "markdown",
   "metadata": {
    "hidden": true
   },
   "source": [
    "### 10.2 `for`-loops"
   ]
  },
  {
   "cell_type": "markdown",
   "metadata": {
    "hidden": true
   },
   "source": [
    "In chapter 9 we learned about lists. A very common task in coding is looping through all items in a list to change all, or some, of the values within it. If we don't use a loop, going through the list items will be tedious.\n",
    "\n",
    "As an example, let's say we have a list of values, and we want to multiply them with three and print the results:"
   ]
  },
  {
   "cell_type": "code",
   "execution_count": 4,
   "metadata": {
    "hidden": true
   },
   "outputs": [],
   "source": [
    "numbers = [42, 3, 15, 7, 99]"
   ]
  },
  {
   "cell_type": "markdown",
   "metadata": {
    "hidden": true
   },
   "source": [
    "Using the list's index, we can do operations on the list's values:"
   ]
  },
  {
   "cell_type": "code",
   "execution_count": 2,
   "metadata": {
    "hidden": true
   },
   "outputs": [
    {
     "name": "stdout",
     "output_type": "stream",
     "text": [
      "126\n",
      "9\n",
      "45\n",
      "21\n",
      "297\n"
     ]
    }
   ],
   "source": [
    "result = numbers[0] * 3\n",
    "print(result)\n",
    "result = numbers[1] * 3\n",
    "print(result)\n",
    "result = numbers[2] * 3\n",
    "print(result)\n",
    "result = numbers[3] * 3\n",
    "print(result)\n",
    "result = numbers[4] * 3\n",
    "print(result)"
   ]
  },
  {
   "cell_type": "markdown",
   "metadata": {
    "hidden": true
   },
   "source": [
    "As you can see, this is as boring to type out as it is hard to read. Instead, we can use the `for`-loop. There are two ways to loop through the items:\n",
    "- either going through them by index, using the `range()` function\n",
    "- looping the actual values in the list, without the `range()` function\n",
    "\n",
    "Let's go through them one by one."
   ]
  },
  {
   "cell_type": "markdown",
   "metadata": {
    "hidden": true
   },
   "source": [
    "#### 10.2.1 `for`-loop with the `range()` function"
   ]
  },
  {
   "cell_type": "markdown",
   "metadata": {
    "hidden": true
   },
   "source": [
    "The `range()`-function returns what is called a range object. "
   ]
  },
  {
   "cell_type": "code",
   "execution_count": 319,
   "metadata": {
    "hidden": true
   },
   "outputs": [
    {
     "data": {
      "text/plain": [
       "range"
      ]
     },
     "execution_count": 319,
     "metadata": {},
     "output_type": "execute_result"
    }
   ],
   "source": [
    "type(range(5)) # the range datatype"
   ]
  },
  {
   "cell_type": "markdown",
   "metadata": {
    "hidden": true
   },
   "source": [
    "It can be used together with a loop to set how many **iterations**, or **sequences**, of the loop we wish to be executed. Here we use the `range()` function to create a for-loop with 5 sequences. So the print function will be executed five times:"
   ]
  },
  {
   "cell_type": "code",
   "execution_count": 320,
   "metadata": {
    "hidden": true
   },
   "outputs": [
    {
     "name": "stdout",
     "output_type": "stream",
     "text": [
      "0\n",
      "1\n",
      "2\n",
      "3\n",
      "4\n"
     ]
    }
   ],
   "source": [
    "for i in range(5):\n",
    "    print(i)"
   ]
  },
  {
   "cell_type": "markdown",
   "metadata": {
    "hidden": true
   },
   "source": [
    "The for-loop consists of five parts:\n",
    "1. The `for` keyword\n",
    "2. A variable name. `i` in the above example (this is the standard way to name the variable in for-loops using the range() function – \"i\" for index)\n",
    "3. The `in` keyword, pointing to container object\n",
    "4. The container to loop over (in this case, a range object returned from the `range()`-function)\n",
    "5. A colon `:` signifying \"the following code block shall be used in every loop\"\n",
    "6. Code block to be executed each sequence\n"
   ]
  },
  {
   "cell_type": "markdown",
   "metadata": {
    "hidden": true
   },
   "source": [
    "As explained in (2), the variable name can be set to whatever. But it is common practice to name it `i` for `index` if using the range function. So the above code tells the interpreter. Here is another example, just to show you that the variable can be named whatever (in general, don't name it like this):"
   ]
  },
  {
   "cell_type": "code",
   "execution_count": 321,
   "metadata": {
    "hidden": true,
    "scrolled": true
   },
   "outputs": [
    {
     "name": "stdout",
     "output_type": "stream",
     "text": [
      "'johan' is: 0\n",
      "'johan' is: 1\n",
      "'johan' is: 2\n"
     ]
    }
   ],
   "source": [
    "for johan in range(3):\n",
    "    # here, we have to use the str() function to be able to do string concatination\n",
    "    print(\"'johan' is: \" + str(johan)) "
   ]
  },
  {
   "cell_type": "code",
   "execution_count": 322,
   "metadata": {
    "hidden": true
   },
   "outputs": [
    {
     "name": "stdout",
     "output_type": "stream",
     "text": [
      "'index' is: 0\n",
      "'index' is: 1\n",
      "'index' is: 2\n"
     ]
    }
   ],
   "source": [
    "for index in range(3):\n",
    "    print(\"'index' is: \" + str(index))"
   ]
  },
  {
   "cell_type": "code",
   "execution_count": 323,
   "metadata": {
    "hidden": true
   },
   "outputs": [
    {
     "name": "stdout",
     "output_type": "stream",
     "text": [
      "'i' is: 0\n",
      "'i' is: 1\n",
      "'i' is: 2\n"
     ]
    }
   ],
   "source": [
    "for i in range(3):\n",
    "    print(\"'i' is: \" + str(i))"
   ]
  },
  {
   "cell_type": "markdown",
   "metadata": {
    "hidden": true
   },
   "source": [
    "As we discussed earlier, if the `range()` function is only given one number value as an argument, it will give you that number of iterations. As you can see above, the argument 3 gives us three iterations, since it goes up to, not including, this index number: 0, 1, 2.\n",
    "\n",
    "But you can give the `range()` function more than one argument. If you give it two arguments, the first will be the start value, and the second the stop value:"
   ]
  },
  {
   "cell_type": "code",
   "execution_count": 324,
   "metadata": {
    "hidden": true
   },
   "outputs": [
    {
     "name": "stdout",
     "output_type": "stream",
     "text": [
      "'i' is: 5\n",
      "'i' is: 6\n",
      "'i' is: 7\n",
      "'i' is: 8\n",
      "'i' is: 9\n"
     ]
    }
   ],
   "source": [
    "for i in range(5, 10):\n",
    "    print(\"'i' is: \" + str(i))"
   ]
  },
  {
   "cell_type": "markdown",
   "metadata": {
    "hidden": true
   },
   "source": [
    "So, above the range function gave us 5 iterations (or sequences): starting at 5 and stopping at 10, which is 9. Note that only passing it one argument, the default starting value will be 0. \n",
    "\n",
    "But we can also give the function a third argument: how big steps we want each iteration to take:"
   ]
  },
  {
   "cell_type": "code",
   "execution_count": 31,
   "metadata": {
    "hidden": true
   },
   "outputs": [
    {
     "name": "stdout",
     "output_type": "stream",
     "text": [
      "i is: 50\n",
      "i is: 60\n",
      "i is: 70\n",
      "i is: 80\n",
      "i is: 90\n"
     ]
    }
   ],
   "source": [
    "for i in range(50, 100, 10):\n",
    "    print(\"i is: \" + str(i))"
   ]
  },
  {
   "cell_type": "markdown",
   "metadata": {
    "hidden": true
   },
   "source": [
    "We can acctually pass this range object to the `list()` function and get a new list:"
   ]
  },
  {
   "cell_type": "code",
   "execution_count": 325,
   "metadata": {
    "hidden": true
   },
   "outputs": [
    {
     "data": {
      "text/plain": [
       "[50, 60, 70, 80, 90]"
      ]
     },
     "execution_count": 325,
     "metadata": {},
     "output_type": "execute_result"
    }
   ],
   "source": [
    "list(range(50, 100, 10))"
   ]
  },
  {
   "cell_type": "code",
   "execution_count": 326,
   "metadata": {
    "hidden": true
   },
   "outputs": [
    {
     "data": {
      "text/plain": [
       "[0, 1, 2, 3, 4]"
      ]
     },
     "execution_count": 326,
     "metadata": {},
     "output_type": "execute_result"
    }
   ],
   "source": [
    "list(range(5))"
   ]
  },
  {
   "cell_type": "code",
   "execution_count": 327,
   "metadata": {
    "hidden": true
   },
   "outputs": [
    {
     "data": {
      "text/plain": [
       "[]"
      ]
     },
     "execution_count": 327,
     "metadata": {},
     "output_type": "execute_result"
    }
   ],
   "source": [
    "list(range(0)) # zero iterations gives us an empty list"
   ]
  },
  {
   "cell_type": "markdown",
   "metadata": {
    "hidden": true
   },
   "source": [
    "So how do we then use the `range()` function to loop over our list of numbers? Well, the reason it is common practise to name the loop variable `i` is because this variable can be used as an index number in another list. Let's try it on our list:"
   ]
  },
  {
   "cell_type": "code",
   "execution_count": 38,
   "metadata": {
    "hidden": true
   },
   "outputs": [],
   "source": [
    "numbers = [42, 3, 15, 7, 99]"
   ]
  },
  {
   "cell_type": "code",
   "execution_count": 33,
   "metadata": {
    "hidden": true
   },
   "outputs": [
    {
     "name": "stdout",
     "output_type": "stream",
     "text": [
      "42\n",
      "3\n",
      "15\n",
      "7\n",
      "99\n"
     ]
    }
   ],
   "source": [
    "for i in range(5):\n",
    "    print(numbers[i])"
   ]
  },
  {
   "cell_type": "markdown",
   "metadata": {
    "hidden": true
   },
   "source": [
    "Hang on? What the hell just happend??\n",
    "\n",
    "We created a for-loop with a `range()` function as our container to loop over. Passing it the argument 5 specfifys five iterations (sequences), starting at 0. So in the first loop, our for-loop variable will be 0, that is `i = 0`. When we pass the variable `i` as an index number to our list, this will be the same as typing `numbers[0]` in the first loop. `numbers[1]` the second loop, `numbers[2]` the third, and so on."
   ]
  },
  {
   "cell_type": "markdown",
   "metadata": {
    "hidden": true
   },
   "source": [
    "So, back to our problem from the beginning of this section, we want to multiply all values in this list by three:"
   ]
  },
  {
   "cell_type": "code",
   "execution_count": 328,
   "metadata": {
    "hidden": true
   },
   "outputs": [],
   "source": [
    "numbers = [42, 3, 15, 7, 99]"
   ]
  },
  {
   "cell_type": "markdown",
   "metadata": {
    "hidden": true
   },
   "source": [
    "And we don't want to do this:"
   ]
  },
  {
   "cell_type": "code",
   "execution_count": 329,
   "metadata": {
    "hidden": true
   },
   "outputs": [
    {
     "name": "stdout",
     "output_type": "stream",
     "text": [
      "126\n",
      "9\n",
      "45\n",
      "21\n",
      "297\n"
     ]
    }
   ],
   "source": [
    "result = numbers[0] * 3\n",
    "print(result)\n",
    "result = numbers[1] * 3\n",
    "print(result)\n",
    "result = numbers[2] * 3\n",
    "print(result)\n",
    "result = numbers[3] * 3\n",
    "print(result)\n",
    "result = numbers[4] * 3\n",
    "print(result)"
   ]
  },
  {
   "cell_type": "markdown",
   "metadata": {
    "hidden": true
   },
   "source": [
    "Let's instead use a for-loop together with a `range()` function:"
   ]
  },
  {
   "cell_type": "code",
   "execution_count": 41,
   "metadata": {
    "hidden": true
   },
   "outputs": [
    {
     "name": "stdout",
     "output_type": "stream",
     "text": [
      "126\n",
      "9\n",
      "45\n",
      "21\n",
      "297\n"
     ]
    }
   ],
   "source": [
    "for i in range(5):\n",
    "    result = numbers[i] * 3\n",
    "    print(result)"
   ]
  },
  {
   "cell_type": "markdown",
   "metadata": {
    "hidden": true
   },
   "source": [
    "Success! But let's make it a bit more clean. First of all, it is not recommended to actually specify the `range()`-argument in this way. Let's say we would have a lists containing hundreds of values. In that case, it wouldn't be very convenient to keep track of the exact number of items in the list. Specifying a too large number of iterations will give us an error:"
   ]
  },
  {
   "cell_type": "code",
   "execution_count": 45,
   "metadata": {
    "hidden": true
   },
   "outputs": [
    {
     "name": "stdout",
     "output_type": "stream",
     "text": [
      "126\n",
      "9\n",
      "45\n",
      "21\n",
      "297\n"
     ]
    },
    {
     "ename": "IndexError",
     "evalue": "list index out of range",
     "output_type": "error",
     "traceback": [
      "\u001b[0;31m---------------------------------------------------------------------------\u001b[0m",
      "\u001b[0;31mIndexError\u001b[0m                                Traceback (most recent call last)",
      "\u001b[0;32m<ipython-input-45-0b11a43da051>\u001b[0m in \u001b[0;36m<module>\u001b[0;34m\u001b[0m\n\u001b[1;32m      1\u001b[0m \u001b[0;32mfor\u001b[0m \u001b[0mi\u001b[0m \u001b[0;32min\u001b[0m \u001b[0mrange\u001b[0m\u001b[0;34m(\u001b[0m\u001b[0;36m6\u001b[0m\u001b[0;34m)\u001b[0m\u001b[0;34m:\u001b[0m\u001b[0;34m\u001b[0m\u001b[0;34m\u001b[0m\u001b[0m\n\u001b[0;32m----> 2\u001b[0;31m     \u001b[0mresult\u001b[0m \u001b[0;34m=\u001b[0m \u001b[0mnumbers\u001b[0m\u001b[0;34m[\u001b[0m\u001b[0mi\u001b[0m\u001b[0;34m]\u001b[0m \u001b[0;34m*\u001b[0m \u001b[0;36m3\u001b[0m\u001b[0;34m\u001b[0m\u001b[0;34m\u001b[0m\u001b[0m\n\u001b[0m\u001b[1;32m      3\u001b[0m     \u001b[0mprint\u001b[0m\u001b[0;34m(\u001b[0m\u001b[0mresult\u001b[0m\u001b[0;34m)\u001b[0m\u001b[0;34m\u001b[0m\u001b[0;34m\u001b[0m\u001b[0m\n",
      "\u001b[0;31mIndexError\u001b[0m: list index out of range"
     ]
    }
   ],
   "source": [
    "for i in range(6):\n",
    "    result = numbers[i] * 3\n",
    "    print(result)"
   ]
  },
  {
   "cell_type": "markdown",
   "metadata": {
    "hidden": true
   },
   "source": [
    "So instead of using an actual number, we could use the length of the list itself! We can get the length using the `len()` function:"
   ]
  },
  {
   "cell_type": "code",
   "execution_count": 46,
   "metadata": {
    "hidden": true
   },
   "outputs": [
    {
     "data": {
      "text/plain": [
       "5"
      ]
     },
     "execution_count": 46,
     "metadata": {},
     "output_type": "execute_result"
    }
   ],
   "source": [
    "len(numbers)"
   ]
  },
  {
   "cell_type": "markdown",
   "metadata": {
    "hidden": true
   },
   "source": [
    "Let's use this instead of the integer five as an argument in the `range()` function:"
   ]
  },
  {
   "cell_type": "code",
   "execution_count": 49,
   "metadata": {
    "hidden": true
   },
   "outputs": [
    {
     "data": {
      "text/plain": [
       "range(0, 5)"
      ]
     },
     "execution_count": 49,
     "metadata": {},
     "output_type": "execute_result"
    }
   ],
   "source": [
    "range(len(numbers))"
   ]
  },
  {
   "cell_type": "markdown",
   "metadata": {
    "hidden": true
   },
   "source": [
    "Since `len(numbers)` returns 5, it is the same as typing `range(5)`!"
   ]
  },
  {
   "cell_type": "code",
   "execution_count": 50,
   "metadata": {
    "hidden": true
   },
   "outputs": [
    {
     "data": {
      "text/plain": [
       "True"
      ]
     },
     "execution_count": 50,
     "metadata": {},
     "output_type": "execute_result"
    }
   ],
   "source": [
    "range(len(numbers)) == range(5)"
   ]
  },
  {
   "cell_type": "markdown",
   "metadata": {
    "hidden": true
   },
   "source": [
    "While we're at it, let's rewrite the code block and make it a bit more concise. We don't actually need the variable `result`. We can just pass the expression `numbers[i] * 3` as an argument to our `print()` function:"
   ]
  },
  {
   "cell_type": "code",
   "execution_count": 51,
   "metadata": {
    "hidden": true
   },
   "outputs": [
    {
     "name": "stdout",
     "output_type": "stream",
     "text": [
      "126\n",
      "9\n",
      "45\n",
      "21\n",
      "297\n"
     ]
    }
   ],
   "source": [
    "for i in range(len(numbers)):\n",
    "    print(numbers[i] * 3)"
   ]
  },
  {
   "cell_type": "markdown",
   "metadata": {
    "hidden": true
   },
   "source": [
    "#### 10.2.2 The `continue` statement"
   ]
  },
  {
   "cell_type": "markdown",
   "metadata": {
    "hidden": true
   },
   "source": [
    "Above, in section 10.1.3, we covered the `break` statement which let's us cancel loops. But let's say that we don't want the loop to completely stop, just skip the current iteration, the current sequence? This is where we can use the `continue` statement. Take this following example:"
   ]
  },
  {
   "cell_type": "code",
   "execution_count": 330,
   "metadata": {
    "hidden": true
   },
   "outputs": [],
   "source": [
    "numbers = [1, 2, 3, 4, -1, 5, 6]"
   ]
  },
  {
   "cell_type": "code",
   "execution_count": 331,
   "metadata": {
    "hidden": true
   },
   "outputs": [
    {
     "name": "stdout",
     "output_type": "stream",
     "text": [
      "1\n",
      "2\n",
      "3\n",
      "4\n",
      "-1\n",
      "5\n",
      "6\n"
     ]
    }
   ],
   "source": [
    "for i in range(len(numbers)):\n",
    "    print(numbers[i])"
   ]
  },
  {
   "cell_type": "markdown",
   "metadata": {
    "hidden": true
   },
   "source": [
    "Let's say, for some reason, we don't want the loop to to print negative numbers. This is when we can use the `continue` statement. Using the same for-loop:"
   ]
  },
  {
   "cell_type": "code",
   "execution_count": 332,
   "metadata": {
    "hidden": true
   },
   "outputs": [
    {
     "name": "stdout",
     "output_type": "stream",
     "text": [
      "1\n",
      "2\n",
      "3\n",
      "4\n",
      "5\n",
      "6\n"
     ]
    }
   ],
   "source": [
    "for i in range(len(numbers)):\n",
    "    if numbers[i] < 0:\n",
    "        continue\n",
    "    else:\n",
    "        print(numbers[i])"
   ]
  },
  {
   "cell_type": "markdown",
   "metadata": {
    "hidden": true
   },
   "source": [
    "So each iteration in the for-loop starts with the if-statement. If the current iteration's list item is less than 0, the `continue` statement just abrubts the iteration and starts the next one. That's why the value -1 never gets printed."
   ]
  },
  {
   "cell_type": "markdown",
   "metadata": {
    "hidden": true
   },
   "source": [
    "Continue-statements are very handy since it allows us to choose which items in a list we want to change, by skipping the ones we're not interested in. Think of it as a tool to use in this general way: \"while looping over this list, if this particular value is in a certain way, change it; _otherwise continue_\"."
   ]
  },
  {
   "cell_type": "markdown",
   "metadata": {
    "hidden": true
   },
   "source": [
    "##### 10.2.2.1 Exercise – Build your own list function, part 3"
   ]
  },
  {
   "cell_type": "markdown",
   "metadata": {
    "hidden": true
   },
   "source": [
    "Try to do exactly as in the last exercise, but with a for-loop (using the `range()` function) instead of a while-loop. You should also use the `len()` function and the `continue` statement.\n",
    "\n",
    "The solution can be found in the solutions notebook. Good luck!"
   ]
  },
  {
   "cell_type": "code",
   "execution_count": null,
   "metadata": {
    "hidden": true
   },
   "outputs": [],
   "source": []
  },
  {
   "cell_type": "code",
   "execution_count": null,
   "metadata": {
    "hidden": true
   },
   "outputs": [],
   "source": []
  },
  {
   "cell_type": "code",
   "execution_count": null,
   "metadata": {
    "hidden": true
   },
   "outputs": [],
   "source": []
  },
  {
   "cell_type": "code",
   "execution_count": null,
   "metadata": {
    "hidden": true
   },
   "outputs": [],
   "source": []
  },
  {
   "cell_type": "markdown",
   "metadata": {
    "hidden": true
   },
   "source": [
    "#### 10.2.3 `for`-loop without `range()`"
   ]
  },
  {
   "cell_type": "markdown",
   "metadata": {
    "hidden": true
   },
   "source": [
    "Let's go back to the list where we want to multiply all values with 3:"
   ]
  },
  {
   "cell_type": "code",
   "execution_count": 333,
   "metadata": {
    "hidden": true
   },
   "outputs": [],
   "source": [
    "numbers = [42, 3, 15, 7, 99]"
   ]
  },
  {
   "cell_type": "markdown",
   "metadata": {
    "hidden": true
   },
   "source": [
    "As we learned in section 10.2.1, we can write a for-loop with a range function to help us with that. But, we don't acctually need the `range()` function for this particular problem. \n",
    "\n",
    "IN a matter of fact, a for-loop only need a container that can be iterated, and our list `numbers` can be iterated! Let's have a look:"
   ]
  },
  {
   "cell_type": "code",
   "execution_count": 334,
   "metadata": {
    "hidden": true
   },
   "outputs": [
    {
     "name": "stdout",
     "output_type": "stream",
     "text": [
      "42\n",
      "3\n",
      "15\n",
      "7\n",
      "99\n"
     ]
    }
   ],
   "source": [
    "for item in numbers:\n",
    "    print(item)"
   ]
  },
  {
   "cell_type": "markdown",
   "metadata": {
    "hidden": true
   },
   "source": [
    "Here, using the for/in keyword combination, we tell the interpreter that we want to iterate over all items in the list. As you can see, this is way more straight forward and easier to read than the solution using the `range()` function call.\n",
    "\n",
    "In this pattern, the variable we create in each iteration (each sequence) of the loop, isn't an index number. It is the list's actual values that is iterated one by one. This means we can just multiply this variable with 3 to solve our problem!"
   ]
  },
  {
   "cell_type": "code",
   "execution_count": 335,
   "metadata": {
    "hidden": true
   },
   "outputs": [
    {
     "name": "stdout",
     "output_type": "stream",
     "text": [
      "126\n",
      "9\n",
      "45\n",
      "21\n",
      "297\n"
     ]
    }
   ],
   "source": [
    "for item in numbers:\n",
    "    print(item * 3)"
   ]
  },
  {
   "cell_type": "markdown",
   "metadata": {
    "hidden": true
   },
   "source": [
    "Easier to read and easier to type!"
   ]
  },
  {
   "cell_type": "markdown",
   "metadata": {
    "hidden": true
   },
   "source": [
    "#### 10.2.4 `for`-loops – with or without `range()`?"
   ]
  },
  {
   "cell_type": "markdown",
   "metadata": {
    "hidden": true
   },
   "source": [
    "As you could see in the previous section. Typing for-loops without the range-function is way more readable and easier to understand. But does that mean we should always skip the `range()` function? \n",
    "\n",
    "Short answer: no.\n",
    "\n",
    "Sometimes we will need it. Take this example: let's say we want to change the list's values. How would we do that, using a for-loop?\n",
    "\n",
    "Here's a try without the `range()` function:"
   ]
  },
  {
   "cell_type": "code",
   "execution_count": 336,
   "metadata": {
    "hidden": true
   },
   "outputs": [
    {
     "data": {
      "text/plain": [
       "[42, 3, 15, 7, 99]"
      ]
     },
     "execution_count": 336,
     "metadata": {},
     "output_type": "execute_result"
    }
   ],
   "source": [
    "numbers"
   ]
  },
  {
   "cell_type": "code",
   "execution_count": 337,
   "metadata": {
    "hidden": true
   },
   "outputs": [
    {
     "name": "stdout",
     "output_type": "stream",
     "text": [
      "126\n",
      "9\n",
      "45\n",
      "21\n",
      "297\n"
     ]
    }
   ],
   "source": [
    "for item in numbers:\n",
    "    item = item * 3\n",
    "    print(item)"
   ]
  },
  {
   "cell_type": "code",
   "execution_count": 338,
   "metadata": {
    "hidden": true
   },
   "outputs": [
    {
     "data": {
      "text/plain": [
       "[42, 3, 15, 7, 99]"
      ]
     },
     "execution_count": 338,
     "metadata": {},
     "output_type": "execute_result"
    }
   ],
   "source": [
    "numbers"
   ]
  },
  {
   "cell_type": "markdown",
   "metadata": {
    "hidden": true
   },
   "source": [
    "Hold up now! Nothing happend to the items in the list?? Why was that?\n",
    "\n",
    "In each iteration in the for-loop: first, a variable named `item` is created. The list's value in the present iteration is then assigned to this variable – `item`. The variable `item` is then reassigned to the result of the calculation `item * 3`. Finally, the variable `item` is printed. But when the code block is done and executed, this variable `item` and its assigned value is forgotten and a new loop sequence is initiated. \n",
    "\n",
    "In other words, _it isn't the actual list's value that is being changed. It is just a copy of it assigned to the variable `item`._ So the code `item = item * 3` has, in fact, no connection to the actual list and therefore, no changes to the list's values occurs.\n",
    "\n",
    "However, we _can_ change the list's values if we reference them directly. If you recall section 10.3, changing a value within a list can be done by specifying the item's list index. _And this is where we will need the `range()` function!_"
   ]
  },
  {
   "cell_type": "code",
   "execution_count": 72,
   "metadata": {
    "hidden": true
   },
   "outputs": [
    {
     "name": "stdout",
     "output_type": "stream",
     "text": [
      "126\n",
      "9\n",
      "45\n",
      "21\n",
      "297\n"
     ]
    }
   ],
   "source": [
    "numbers = [42, 3, 15, 7, 99]\n",
    "\n",
    "for i in range(len(numbers)):\n",
    "    numbers[i] = numbers[i] * 3\n",
    "    print(numbers[i])"
   ]
  },
  {
   "cell_type": "code",
   "execution_count": 73,
   "metadata": {
    "hidden": true
   },
   "outputs": [
    {
     "data": {
      "text/plain": [
       "[126, 9, 45, 21, 297]"
      ]
     },
     "execution_count": 73,
     "metadata": {},
     "output_type": "execute_result"
    }
   ],
   "source": [
    "numbers"
   ]
  },
  {
   "cell_type": "markdown",
   "metadata": {
    "hidden": true
   },
   "source": [
    "Let's make it a bit tidier using an augment assignment operator instead (see section 3.3.1):"
   ]
  },
  {
   "cell_type": "code",
   "execution_count": 74,
   "metadata": {
    "hidden": true
   },
   "outputs": [
    {
     "name": "stdout",
     "output_type": "stream",
     "text": [
      "126\n",
      "9\n",
      "45\n",
      "21\n",
      "297\n"
     ]
    }
   ],
   "source": [
    "numbers = [42, 3, 15, 7, 99]\n",
    "\n",
    "for i in range(len(numbers)):\n",
    "    numbers[i] *= 3\n",
    "    print(numbers[i])"
   ]
  },
  {
   "cell_type": "code",
   "execution_count": 75,
   "metadata": {
    "hidden": true
   },
   "outputs": [
    {
     "data": {
      "text/plain": [
       "[126, 9, 45, 21, 297]"
      ]
     },
     "execution_count": 75,
     "metadata": {},
     "output_type": "execute_result"
    }
   ],
   "source": [
    "numbers"
   ]
  },
  {
   "cell_type": "markdown",
   "metadata": {},
   "source": [
    "## 11 Mutable and immutable objects"
   ]
  },
  {
   "cell_type": "markdown",
   "metadata": {},
   "source": [
    "In chapter 9, we talked about the similarities between lists and string values. They are both objects that can be seen as containers. One big difference between strings and lists, however, is that string values are **immutable**, where as lists are **mutable**. In Python, if an object is immutable, it means that it cannot be changed after its creation. On the contrary, a mutable object can be changed. Consider the following example:"
   ]
  },
  {
   "cell_type": "code",
   "execution_count": 339,
   "metadata": {},
   "outputs": [],
   "source": [
    "cities = [\"Stockholm\", \"Paris\", \"Kabul\", \"Sidney\"]"
   ]
  },
  {
   "cell_type": "markdown",
   "metadata": {},
   "source": [
    "Using indexing, we can change a specific value within the list. Let's say we want to change \"Paris\" to \"Oslo\":"
   ]
  },
  {
   "cell_type": "code",
   "execution_count": 106,
   "metadata": {},
   "outputs": [],
   "source": [
    "cities[1] = \"Oslo\""
   ]
  },
  {
   "cell_type": "code",
   "execution_count": 107,
   "metadata": {},
   "outputs": [
    {
     "data": {
      "text/plain": [
       "['Stockholm', 'Oslo', 'Kabul', 'Sidney']"
      ]
     },
     "execution_count": 107,
     "metadata": {},
     "output_type": "execute_result"
    }
   ],
   "source": [
    "cities"
   ]
  },
  {
   "cell_type": "markdown",
   "metadata": {},
   "source": [
    "The list has been altered, which is possible since lists are mutable!"
   ]
  },
  {
   "cell_type": "markdown",
   "metadata": {},
   "source": [
    "When working with string values, we can also use indexing, and get characters returned:"
   ]
  },
  {
   "cell_type": "code",
   "execution_count": 340,
   "metadata": {},
   "outputs": [],
   "source": [
    "name = \"Johan\""
   ]
  },
  {
   "cell_type": "code",
   "execution_count": 341,
   "metadata": {},
   "outputs": [
    {
     "data": {
      "text/plain": [
       "'o'"
      ]
     },
     "execution_count": 341,
     "metadata": {},
     "output_type": "execute_result"
    }
   ],
   "source": [
    "name[1] # second letter in \"Johan\""
   ]
  },
  {
   "cell_type": "markdown",
   "metadata": {},
   "source": [
    "But what happends if we try to change an individual character within the string using indexing?"
   ]
  },
  {
   "cell_type": "code",
   "execution_count": 342,
   "metadata": {},
   "outputs": [
    {
     "ename": "TypeError",
     "evalue": "'str' object does not support item assignment",
     "output_type": "error",
     "traceback": [
      "\u001b[0;31m---------------------------------------------------------------------------\u001b[0m",
      "\u001b[0;31mTypeError\u001b[0m                                 Traceback (most recent call last)",
      "\u001b[0;32m<ipython-input-342-5e2c1a4756b4>\u001b[0m in \u001b[0;36m<module>\u001b[0;34m\u001b[0m\n\u001b[0;32m----> 1\u001b[0;31m \u001b[0mname\u001b[0m\u001b[0;34m[\u001b[0m\u001b[0;36m1\u001b[0m\u001b[0;34m]\u001b[0m \u001b[0;34m=\u001b[0m \u001b[0;34m\"P\"\u001b[0m\u001b[0;34m\u001b[0m\u001b[0;34m\u001b[0m\u001b[0m\n\u001b[0m",
      "\u001b[0;31mTypeError\u001b[0m: 'str' object does not support item assignment"
     ]
    }
   ],
   "source": [
    "name[1] = \"P\""
   ]
  },
  {
   "cell_type": "markdown",
   "metadata": {},
   "source": [
    "We get an error! This is because string values are immutable. So if we want to change strings – and we do often want to change strings! – we create new strings:"
   ]
  },
  {
   "cell_type": "code",
   "execution_count": 112,
   "metadata": {},
   "outputs": [
    {
     "data": {
      "text/plain": [
       "'JPhan'"
      ]
     },
     "execution_count": 112,
     "metadata": {},
     "output_type": "execute_result"
    }
   ],
   "source": [
    "name[0] + \"P\" + name[2:] # here using string concatination"
   ]
  },
  {
   "cell_type": "markdown",
   "metadata": {},
   "source": [
    "Immutability is a fundamental part of programming since there are many situations where you want certain parts of your code that cannot be altered. This is a bit abstract while learning programming, since we focus on small code snippets where things are easy to keep track of. But in a program with thousands of rows of code, objects' immutablility is an important aspect so certain objects _cannot_ be reassigned where they shouldn't. \n",
    "\n",
    "The reason for this is because its easy to mix up variables' **references**."
   ]
  },
  {
   "cell_type": "markdown",
   "metadata": {},
   "source": [
    "### 11.1 Variables' references to values"
   ]
  },
  {
   "cell_type": "markdown",
   "metadata": {},
   "source": [
    "Throughout this course, you might've wondered why I keep mentioning that variables \"reference\" a particular value, or \"points\" to a value. Why not that a variable _\"is\"_ a particular value? The reason is how the Python language works. When we create a variable, we are actually doing two things simultaneously: we create the value within the computers memory _and_ creating a namespace that _reference_ that value:"
   ]
  },
  {
   "cell_type": "code",
   "execution_count": 345,
   "metadata": {},
   "outputs": [],
   "source": [
    "eggs = 5"
   ]
  },
  {
   "cell_type": "markdown",
   "metadata": {},
   "source": [
    "So here, the integer 5 was created in the computer's memory. But we also told the computer \"if we pass the name `eggs` to the interpreter, it should point to this integer\". It is sort of like we create a value, and then hang a sign with the name \"eggs\" on it. Here's a pic visualising what's going on (a sign nailed to the interger value):"
   ]
  },
  {
   "cell_type": "markdown",
   "metadata": {},
   "source": [
    "<img src=\"../course_material/immutable_1.png\" style=\"width: 500px;\"/>"
   ]
  },
  {
   "cell_type": "markdown",
   "metadata": {},
   "source": [
    "Let's copy the value 5 to another variable:"
   ]
  },
  {
   "cell_type": "code",
   "execution_count": 346,
   "metadata": {},
   "outputs": [],
   "source": [
    "bananas = eggs"
   ]
  },
  {
   "cell_type": "code",
   "execution_count": 347,
   "metadata": {},
   "outputs": [
    {
     "data": {
      "text/plain": [
       "5"
      ]
     },
     "execution_count": 347,
     "metadata": {},
     "output_type": "execute_result"
    }
   ],
   "source": [
    "bananas"
   ]
  },
  {
   "cell_type": "code",
   "execution_count": 348,
   "metadata": {},
   "outputs": [
    {
     "data": {
      "text/plain": [
       "True"
      ]
     },
     "execution_count": 348,
     "metadata": {},
     "output_type": "execute_result"
    }
   ],
   "source": [
    "eggs == bananas"
   ]
  },
  {
   "cell_type": "markdown",
   "metadata": {},
   "source": [
    "Both variables – `eggs` and `bananas` – are refering to _the same value_, the integer 5. In other words, we're not copying the actual value, we're just creating another sign – like a nametag – and slapping it on the same value:"
   ]
  },
  {
   "cell_type": "markdown",
   "metadata": {},
   "source": [
    "<img src=\"../course_material/immutable_2.png\" style=\"width: 500px;\"/>"
   ]
  },
  {
   "cell_type": "markdown",
   "metadata": {},
   "source": [
    "**We're creating a new reference to the value, rather than creating a new value!**"
   ]
  },
  {
   "cell_type": "markdown",
   "metadata": {},
   "source": [
    "But if we change the value `bananas`, we actually _do_ create a new value within the computer's memory, _and hanging our name sign on this new value instead_."
   ]
  },
  {
   "cell_type": "code",
   "execution_count": 349,
   "metadata": {},
   "outputs": [],
   "source": [
    "bananas += 1"
   ]
  },
  {
   "cell_type": "code",
   "execution_count": 350,
   "metadata": {},
   "outputs": [
    {
     "data": {
      "text/plain": [
       "5"
      ]
     },
     "execution_count": 350,
     "metadata": {},
     "output_type": "execute_result"
    }
   ],
   "source": [
    "eggs"
   ]
  },
  {
   "cell_type": "code",
   "execution_count": 351,
   "metadata": {},
   "outputs": [
    {
     "data": {
      "text/plain": [
       "6"
      ]
     },
     "execution_count": 351,
     "metadata": {},
     "output_type": "execute_result"
    }
   ],
   "source": [
    "bananas"
   ]
  },
  {
   "cell_type": "markdown",
   "metadata": {},
   "source": [
    "So, now, the variable `bananas` points to the integer 6 – a new value within the computer's memory! Here's a pic:"
   ]
  },
  {
   "cell_type": "markdown",
   "metadata": {},
   "source": [
    "<img src=\"../course_material/immutable_3.png\" style=\"width: 500px;\"/>"
   ]
  },
  {
   "cell_type": "markdown",
   "metadata": {},
   "source": [
    "This happens because integers are immutable. And if you think about it, this makes sense. The value 5 cannot also be the value 6. So, these two variables are now not the same since they point to two different values in the computer's memory."
   ]
  },
  {
   "cell_type": "code",
   "execution_count": 352,
   "metadata": {},
   "outputs": [
    {
     "data": {
      "text/plain": [
       "False"
      ]
     },
     "execution_count": 352,
     "metadata": {},
     "output_type": "execute_result"
    }
   ],
   "source": [
    "eggs == bananas"
   ]
  },
  {
   "cell_type": "markdown",
   "metadata": {},
   "source": [
    "Lists doesn't work the same way. Let's try a similar operation, but with two lists:"
   ]
  },
  {
   "cell_type": "code",
   "execution_count": 353,
   "metadata": {},
   "outputs": [],
   "source": [
    "fruits = [\"apples\", \"oranges\", \"grapes\", \"bananas\"]"
   ]
  },
  {
   "cell_type": "code",
   "execution_count": 354,
   "metadata": {},
   "outputs": [],
   "source": [
    "groceries = fruits"
   ]
  },
  {
   "cell_type": "code",
   "execution_count": 355,
   "metadata": {},
   "outputs": [
    {
     "data": {
      "text/plain": [
       "['apples', 'oranges', 'grapes', 'bananas']"
      ]
     },
     "execution_count": 355,
     "metadata": {},
     "output_type": "execute_result"
    }
   ],
   "source": [
    "fruits"
   ]
  },
  {
   "cell_type": "code",
   "execution_count": 356,
   "metadata": {},
   "outputs": [
    {
     "data": {
      "text/plain": [
       "['apples', 'oranges', 'grapes', 'bananas']"
      ]
     },
     "execution_count": 356,
     "metadata": {},
     "output_type": "execute_result"
    }
   ],
   "source": [
    "groceries"
   ]
  },
  {
   "cell_type": "markdown",
   "metadata": {},
   "source": [
    "Here, we have a similar situation going on. We have created a value – this time a list instead of a integer – containing four string values, and we've slapped two nametags on this list:"
   ]
  },
  {
   "cell_type": "markdown",
   "metadata": {},
   "source": [
    "<img src=\"../course_material/mutable.png\" style=\"width: 500px;\"/>"
   ]
  },
  {
   "cell_type": "markdown",
   "metadata": {},
   "source": [
    "Now, let's change one of the values within `groceries`:"
   ]
  },
  {
   "cell_type": "code",
   "execution_count": 357,
   "metadata": {},
   "outputs": [],
   "source": [
    "groceries[2] = \"MILK\""
   ]
  },
  {
   "cell_type": "code",
   "execution_count": 358,
   "metadata": {},
   "outputs": [
    {
     "data": {
      "text/plain": [
       "['apples', 'oranges', 'MILK', 'bananas']"
      ]
     },
     "execution_count": 358,
     "metadata": {},
     "output_type": "execute_result"
    }
   ],
   "source": [
    "groceries"
   ]
  },
  {
   "cell_type": "markdown",
   "metadata": {},
   "source": [
    "If we now check `fruits`, the returned list may surprise you:"
   ]
  },
  {
   "cell_type": "code",
   "execution_count": 359,
   "metadata": {},
   "outputs": [
    {
     "data": {
      "text/plain": [
       "['apples', 'oranges', 'MILK', 'bananas']"
      ]
     },
     "execution_count": 359,
     "metadata": {},
     "output_type": "execute_result"
    }
   ],
   "source": [
    "fruits"
   ]
  },
  {
   "cell_type": "markdown",
   "metadata": {},
   "source": [
    "...it has also been modified! Huh? What the hell happend??\n",
    "\n",
    "When we changed the third value in the list to the string \"MILK\", this doesn't create a new list in the computer's memory. It is the same list, only with one of its items swapped. And since both variables `fruits` and `groceries` points to the same list (both the nametags are still attached to the same list), both variables return the altered list! "
   ]
  },
  {
   "cell_type": "markdown",
   "metadata": {},
   "source": [
    "<img src=\"../course_material/mutable_2.png\" style=\"width: 500px;\"/>"
   ]
  },
  {
   "cell_type": "markdown",
   "metadata": {},
   "source": [
    "**This is a really important concept to understand!** If you aren't familiar with this, your code's behaviour will sometimes confuse you. For example:"
   ]
  },
  {
   "cell_type": "markdown",
   "metadata": {},
   "source": [
    "### 11.2 Mutable lists in local scopes"
   ]
  },
  {
   "cell_type": "markdown",
   "metadata": {},
   "source": [
    "Consider what we learned in chapter 7 – local and global scopes. Let's say we have a function that adds a value to a list"
   ]
  },
  {
   "cell_type": "code",
   "execution_count": 12,
   "metadata": {},
   "outputs": [],
   "source": [
    "def adds_value(your_list):\n",
    "    your_list.append(\"Hello world!\")"
   ]
  },
  {
   "cell_type": "markdown",
   "metadata": {},
   "source": [
    "As you might've noticed, this function doesn't have a return statement. This means that everything that happends in the function's local scope gets destroyed when the code block is exectued and the local scope terminated, right? Let's try it:"
   ]
  },
  {
   "cell_type": "code",
   "execution_count": 13,
   "metadata": {},
   "outputs": [],
   "source": [
    "fruits = [\"apples\", \"oranges\", \"grapes\", \"bananas\"]"
   ]
  },
  {
   "cell_type": "code",
   "execution_count": 14,
   "metadata": {},
   "outputs": [],
   "source": [
    "adds_value(fruits)"
   ]
  },
  {
   "cell_type": "code",
   "execution_count": 15,
   "metadata": {},
   "outputs": [
    {
     "data": {
      "text/plain": [
       "['apples', 'oranges', 'grapes', 'bananas', 'Hello world!']"
      ]
     },
     "execution_count": 15,
     "metadata": {},
     "output_type": "execute_result"
    }
   ],
   "source": [
    "fruits"
   ]
  },
  {
   "cell_type": "markdown",
   "metadata": {},
   "source": [
    "Huh?? \n",
    "\n",
    "If you recall from chapter 7, the local scope in the function `add_value()` creates a variable named after the parameter `your_list`. And since this is in a local scope, all namespaces created in the function is lost when the function's code block is executed. \n",
    "\n",
    "But here's the thing: since a list is mutable, the variable `your_list` (that is created in the local scope) references _the same list_ as `fruits` is assigned to. And when we change the list value by adding a value, _it still is the same list value_. To continue our analogy of slapping a nametag on a value, we just hanged a new nametag on the same list value, only that it is in a local scope! Here's a pic that visualises what's going on:"
   ]
  },
  {
   "cell_type": "markdown",
   "metadata": {},
   "source": [
    "<img src=\"../course_material/mutable_scope.png\" style=\"width: 500px;\"/>"
   ]
  },
  {
   "cell_type": "markdown",
   "metadata": {},
   "source": [
    "The local scope didn't create _a new list_, it only created a new nametag for the list – a new reference. And it is this namespace that then gets destroyed when the local scope is terminated. It is only the nametag that is destroyed! \n",
    "\n",
    "So the method `.append()` within the function's code block, actually altered the same list that the variable `fruits` points to. Therefore, when we run `fruits`, this global variable's list is also altered!"
   ]
  },
  {
   "cell_type": "markdown",
   "metadata": {},
   "source": [
    "#### 11.2.1 Exercise – why doesn't the variable change?"
   ]
  },
  {
   "cell_type": "markdown",
   "metadata": {},
   "source": [
    "In this exercise, we have this function, similar to the one just above:"
   ]
  },
  {
   "cell_type": "code",
   "execution_count": 20,
   "metadata": {},
   "outputs": [],
   "source": [
    "def add_value(number):\n",
    "    number += 1"
   ]
  },
  {
   "cell_type": "markdown",
   "metadata": {},
   "source": [
    "But when we call this function on the variable `apples` assigned to the number value 5, the value stays the same after the function call:"
   ]
  },
  {
   "cell_type": "code",
   "execution_count": 21,
   "metadata": {},
   "outputs": [],
   "source": [
    "apples = 5"
   ]
  },
  {
   "cell_type": "code",
   "execution_count": 22,
   "metadata": {},
   "outputs": [],
   "source": [
    "add_value(apples)"
   ]
  },
  {
   "cell_type": "code",
   "execution_count": 23,
   "metadata": {},
   "outputs": [
    {
     "data": {
      "text/plain": [
       "5"
      ]
     },
     "execution_count": 23,
     "metadata": {},
     "output_type": "execute_result"
    }
   ],
   "source": [
    "apples"
   ]
  },
  {
   "cell_type": "markdown",
   "metadata": {},
   "source": [
    "This behaviour is different than what we saw with the function `add_value()` in section 11.2. Why is that? Explain in your own words what is happening here. The solution can be found, as usual, in the solutions notebook. \n",
    "\n",
    "Good luck!"
   ]
  },
  {
   "cell_type": "markdown",
   "metadata": {},
   "source": [
    "### 11.3 How to copy mutable objects then?"
   ]
  },
  {
   "cell_type": "markdown",
   "metadata": {},
   "source": [
    "Obviously, there are many situations were we want to copy lists, and not only the references to them. So how do we do that? There are a number of ways, and I will show you some, and then the way that is the best way.\n",
    "\n",
    "First of, using the `.copy()` list method:"
   ]
  },
  {
   "cell_type": "code",
   "execution_count": 1,
   "metadata": {},
   "outputs": [],
   "source": [
    "fruits = [\"apples\", \"oranges\", \"grapes\", \"bananas\"]"
   ]
  },
  {
   "cell_type": "code",
   "execution_count": 2,
   "metadata": {},
   "outputs": [],
   "source": [
    "groceries = fruits.copy() # copying list"
   ]
  },
  {
   "cell_type": "code",
   "execution_count": 3,
   "metadata": {},
   "outputs": [],
   "source": [
    "groceries[2] = \"milk\""
   ]
  },
  {
   "cell_type": "code",
   "execution_count": 4,
   "metadata": {},
   "outputs": [
    {
     "data": {
      "text/plain": [
       "['apples', 'oranges', 'milk', 'bananas']"
      ]
     },
     "execution_count": 4,
     "metadata": {},
     "output_type": "execute_result"
    }
   ],
   "source": [
    "groceries"
   ]
  },
  {
   "cell_type": "code",
   "execution_count": 5,
   "metadata": {},
   "outputs": [
    {
     "data": {
      "text/plain": [
       "['apples', 'oranges', 'grapes', 'bananas']"
      ]
     },
     "execution_count": 5,
     "metadata": {},
     "output_type": "execute_result"
    }
   ],
   "source": [
    "fruits"
   ]
  },
  {
   "cell_type": "markdown",
   "metadata": {},
   "source": [
    "Or, we could just use the `list()` function, creating a new list object:"
   ]
  },
  {
   "cell_type": "code",
   "execution_count": 6,
   "metadata": {},
   "outputs": [],
   "source": [
    "fruits = [\"apples\", \"oranges\", \"grapes\", \"bananas\"]"
   ]
  },
  {
   "cell_type": "code",
   "execution_count": 7,
   "metadata": {},
   "outputs": [],
   "source": [
    "groceries = list(fruits) # copying list"
   ]
  },
  {
   "cell_type": "code",
   "execution_count": 8,
   "metadata": {},
   "outputs": [],
   "source": [
    "groceries[2] = \"milk\""
   ]
  },
  {
   "cell_type": "code",
   "execution_count": 9,
   "metadata": {},
   "outputs": [
    {
     "data": {
      "text/plain": [
       "['apples', 'oranges', 'milk', 'bananas']"
      ]
     },
     "execution_count": 9,
     "metadata": {},
     "output_type": "execute_result"
    }
   ],
   "source": [
    "groceries"
   ]
  },
  {
   "cell_type": "code",
   "execution_count": 10,
   "metadata": {},
   "outputs": [
    {
     "data": {
      "text/plain": [
       "['apples', 'oranges', 'grapes', 'bananas']"
      ]
     },
     "execution_count": 10,
     "metadata": {},
     "output_type": "execute_result"
    }
   ],
   "source": [
    "fruits"
   ]
  },
  {
   "cell_type": "markdown",
   "metadata": {},
   "source": [
    "Or, we can reference the original list's index and just type colon `:`, indicating we want all values. This also creates a new list object:"
   ]
  },
  {
   "cell_type": "code",
   "execution_count": 12,
   "metadata": {},
   "outputs": [],
   "source": [
    "fruits = [\"apples\", \"oranges\", \"grapes\", \"bananas\"]"
   ]
  },
  {
   "cell_type": "code",
   "execution_count": 13,
   "metadata": {},
   "outputs": [],
   "source": [
    "groceries = fruits[:] # copying list"
   ]
  },
  {
   "cell_type": "code",
   "execution_count": 14,
   "metadata": {},
   "outputs": [],
   "source": [
    "groceries[2] = \"milk\""
   ]
  },
  {
   "cell_type": "code",
   "execution_count": 15,
   "metadata": {},
   "outputs": [
    {
     "data": {
      "text/plain": [
       "['apples', 'oranges', 'milk', 'bananas']"
      ]
     },
     "execution_count": 15,
     "metadata": {},
     "output_type": "execute_result"
    }
   ],
   "source": [
    "groceries"
   ]
  },
  {
   "cell_type": "code",
   "execution_count": 16,
   "metadata": {},
   "outputs": [
    {
     "data": {
      "text/plain": [
       "['apples', 'oranges', 'grapes', 'bananas']"
      ]
     },
     "execution_count": 16,
     "metadata": {},
     "output_type": "execute_result"
    }
   ],
   "source": [
    "fruits"
   ]
  },
  {
   "cell_type": "markdown",
   "metadata": {},
   "source": [
    "However, the way to go – if you need a completely new list object and no references intertwined – is using the `deepcopy()` function from the `copy` module. But we need to import it:"
   ]
  },
  {
   "cell_type": "code",
   "execution_count": 24,
   "metadata": {},
   "outputs": [],
   "source": [
    "import copy"
   ]
  },
  {
   "cell_type": "code",
   "execution_count": 25,
   "metadata": {},
   "outputs": [],
   "source": [
    "fruits = [\"apples\", \"oranges\", \"grapes\", \"bananas\"]"
   ]
  },
  {
   "cell_type": "code",
   "execution_count": 26,
   "metadata": {},
   "outputs": [],
   "source": [
    "groceries = copy.deepcopy(fruits) # copying list"
   ]
  },
  {
   "cell_type": "code",
   "execution_count": 27,
   "metadata": {},
   "outputs": [],
   "source": [
    "groceries[2] = \"milk\""
   ]
  },
  {
   "cell_type": "code",
   "execution_count": 28,
   "metadata": {},
   "outputs": [
    {
     "data": {
      "text/plain": [
       "['apples', 'oranges', 'milk', 'bananas']"
      ]
     },
     "execution_count": 28,
     "metadata": {},
     "output_type": "execute_result"
    }
   ],
   "source": [
    "groceries"
   ]
  },
  {
   "cell_type": "code",
   "execution_count": 29,
   "metadata": {},
   "outputs": [
    {
     "data": {
      "text/plain": [
       "['apples', 'oranges', 'grapes', 'bananas']"
      ]
     },
     "execution_count": 29,
     "metadata": {},
     "output_type": "execute_result"
    }
   ],
   "source": [
    "fruits"
   ]
  },
  {
   "cell_type": "markdown",
   "metadata": {},
   "source": [
    "This function is the supperior way to go, since it not only creates a new list object, but also nested lists. I won't go into more detail here, but if you're interested, [this is a good explanation!](https://realpython.com/copying-python-objects/)"
   ]
  },
  {
   "cell_type": "markdown",
   "metadata": {},
   "source": [
    "## 12 Dictionaries"
   ]
  },
  {
   "cell_type": "markdown",
   "metadata": {},
   "source": [
    "### 12.1 Definitions"
   ]
  },
  {
   "cell_type": "markdown",
   "metadata": {},
   "source": [
    "Another way to store data in Python is **the dictionary datatype**. It is defined by the curly brackets `{}`:"
   ]
  },
  {
   "cell_type": "code",
   "execution_count": 1,
   "metadata": {},
   "outputs": [
    {
     "data": {
      "text/plain": [
       "dict"
      ]
     },
     "execution_count": 1,
     "metadata": {},
     "output_type": "execute_result"
    }
   ],
   "source": [
    "type({})"
   ]
  },
  {
   "cell_type": "markdown",
   "metadata": {},
   "source": [
    "Dictionaries consists of pairs of keys and values – **key-value pairs**. In lists, each value in the list had an index that you could call to return any specific item in the list. In dictionaries, there is no index, instead we have keys, and they can be any (immutable) value type."
   ]
  },
  {
   "cell_type": "markdown",
   "metadata": {},
   "source": [
    "We can create dictionaries, either with the dictionary literal syntax:"
   ]
  },
  {
   "cell_type": "code",
   "execution_count": 360,
   "metadata": {},
   "outputs": [],
   "source": [
    "person = {\"name\":\"Johan\", \"age\":35}"
   ]
  },
  {
   "cell_type": "code",
   "execution_count": 361,
   "metadata": {},
   "outputs": [
    {
     "data": {
      "text/plain": [
       "{'name': 'Johan', 'age': 35}"
      ]
     },
     "execution_count": 361,
     "metadata": {},
     "output_type": "execute_result"
    }
   ],
   "source": [
    "person"
   ]
  },
  {
   "cell_type": "markdown",
   "metadata": {},
   "source": [
    "...or with the `dict()` function call:"
   ]
  },
  {
   "cell_type": "code",
   "execution_count": 362,
   "metadata": {},
   "outputs": [],
   "source": [
    "person = dict(name=\"Johan\", age=35)"
   ]
  },
  {
   "cell_type": "code",
   "execution_count": 363,
   "metadata": {},
   "outputs": [
    {
     "data": {
      "text/plain": [
       "{'name': 'Johan', 'age': 35}"
      ]
     },
     "execution_count": 363,
     "metadata": {},
     "output_type": "execute_result"
    }
   ],
   "source": [
    "person"
   ]
  },
  {
   "cell_type": "markdown",
   "metadata": {},
   "source": [
    "We can also just start with an empty dictionary (or _dict_ as it's sometimes called) and then add keys and values as we go:"
   ]
  },
  {
   "cell_type": "code",
   "execution_count": 365,
   "metadata": {},
   "outputs": [],
   "source": [
    "person = {}"
   ]
  },
  {
   "cell_type": "code",
   "execution_count": 366,
   "metadata": {},
   "outputs": [],
   "source": [
    "person['name'] = \"Johan\"\n",
    "person['age'] = 35"
   ]
  },
  {
   "cell_type": "code",
   "execution_count": 367,
   "metadata": {},
   "outputs": [
    {
     "data": {
      "text/plain": [
       "{'name': 'Johan', 'age': 35}"
      ]
     },
     "execution_count": 367,
     "metadata": {},
     "output_type": "execute_result"
    }
   ],
   "source": [
    "person"
   ]
  },
  {
   "cell_type": "markdown",
   "metadata": {},
   "source": [
    "Note that using the literal syntax, you can use as much whitespace as you want. This is simply ignored by the interpreter:"
   ]
  },
  {
   "cell_type": "code",
   "execution_count": 368,
   "metadata": {},
   "outputs": [],
   "source": [
    "person = {\n",
    "    \"name\":\"Johan\",\n",
    "    \"age\":35\n",
    "}"
   ]
  },
  {
   "cell_type": "markdown",
   "metadata": {},
   "source": [
    "We use the dictionary keys instead of an index to get access to specific values within the dictionary:"
   ]
  },
  {
   "cell_type": "code",
   "execution_count": 370,
   "metadata": {},
   "outputs": [
    {
     "data": {
      "text/plain": [
       "'Johan'"
      ]
     },
     "execution_count": 370,
     "metadata": {},
     "output_type": "execute_result"
    }
   ],
   "source": [
    "person['name']"
   ]
  },
  {
   "cell_type": "code",
   "execution_count": 371,
   "metadata": {},
   "outputs": [
    {
     "data": {
      "text/plain": [
       "35"
      ]
     },
     "execution_count": 371,
     "metadata": {},
     "output_type": "execute_result"
    }
   ],
   "source": [
    "person['age']"
   ]
  },
  {
   "cell_type": "markdown",
   "metadata": {},
   "source": [
    "We can store dictionaries within dictionaries, and then access those in one go. Take this example:"
   ]
  },
  {
   "cell_type": "code",
   "execution_count": 372,
   "metadata": {},
   "outputs": [],
   "source": [
    "person = {\n",
    "    \"name\":\"Johan\",\n",
    "    \"age\":35,\n",
    "    \"nationality\":\"Swedish\",\n",
    "    \"well-trained\":False,\n",
    "    \"family\": {\n",
    "        \"partner\":True,\n",
    "        \"children\":True,\n",
    "        \"grandchildren\":False,\n",
    "        \"parents\": {\n",
    "            \"mom\":True,\n",
    "            \"dad\":True\n",
    "        }\n",
    "    }\n",
    "}"
   ]
  },
  {
   "cell_type": "markdown",
   "metadata": {},
   "source": [
    "Under the key `family`, the value now is a dictionary as well. So to access the values within, we just pile keys after one another to get the value we want:"
   ]
  },
  {
   "cell_type": "code",
   "execution_count": 75,
   "metadata": {},
   "outputs": [
    {
     "data": {
      "text/plain": [
       "True"
      ]
     },
     "execution_count": 75,
     "metadata": {},
     "output_type": "execute_result"
    }
   ],
   "source": [
    "person['family']['children']"
   ]
  },
  {
   "cell_type": "code",
   "execution_count": 76,
   "metadata": {},
   "outputs": [
    {
     "data": {
      "text/plain": [
       "False"
      ]
     },
     "execution_count": 76,
     "metadata": {},
     "output_type": "execute_result"
    }
   ],
   "source": [
    "person['family']['grandchildren']"
   ]
  },
  {
   "cell_type": "code",
   "execution_count": 78,
   "metadata": {},
   "outputs": [
    {
     "data": {
      "text/plain": [
       "True"
      ]
     },
     "execution_count": 78,
     "metadata": {},
     "output_type": "execute_result"
    }
   ],
   "source": [
    "person['family']['parents']['mom']"
   ]
  },
  {
   "cell_type": "markdown",
   "metadata": {},
   "source": [
    "So, the syntax of the dictionary is: \n",
    "- it is enclosed within curly brackets `{}` \n",
    "- Each key-value pair is seperated with a comma `,`\n",
    "- keys and values are connected with colons `:`, with keys on the left side of the colon, and values on the right side \n"
   ]
  },
  {
   "cell_type": "markdown",
   "metadata": {},
   "source": [
    "A big differance compared to lists is that dictionaries don't have any particular order within them. Lists are ordered by index, so the placement of values within the list matters. Take this example:"
   ]
  },
  {
   "cell_type": "code",
   "execution_count": 26,
   "metadata": {},
   "outputs": [
    {
     "data": {
      "text/plain": [
       "False"
      ]
     },
     "execution_count": 26,
     "metadata": {},
     "output_type": "execute_result"
    }
   ],
   "source": [
    "[\"red\", \"yellow\", \"blue\"] == [\"yellow\", \"blue\", \"red\"]"
   ]
  },
  {
   "cell_type": "markdown",
   "metadata": {},
   "source": [
    "These two lists are not the same, since their indexed values don't line up. But if we have a two dictionaries which have the same key-value pairs within them, it doesn't matter where we place them within the curly brackets:"
   ]
  },
  {
   "cell_type": "code",
   "execution_count": 27,
   "metadata": {},
   "outputs": [
    {
     "data": {
      "text/plain": [
       "True"
      ]
     },
     "execution_count": 27,
     "metadata": {},
     "output_type": "execute_result"
    }
   ],
   "source": [
    "{\"first\":\"red\", \"second\": \"blue\"} == {\"second\": \"blue\", \"first\":\"red\"}"
   ]
  },
  {
   "cell_type": "markdown",
   "metadata": {},
   "source": [
    "We can use the `in` and `not in` operators to see if certain keys are present within a dictionary:"
   ]
  },
  {
   "cell_type": "code",
   "execution_count": 378,
   "metadata": {},
   "outputs": [],
   "source": [
    "person = {\n",
    "    \"name\":\"Johan\",\n",
    "    \"age\":35,\n",
    "    \"nationality\":\"Swedish\",\n",
    "    \"well-trained\":False\n",
    "}"
   ]
  },
  {
   "cell_type": "code",
   "execution_count": 379,
   "metadata": {},
   "outputs": [
    {
     "data": {
      "text/plain": [
       "True"
      ]
     },
     "execution_count": 379,
     "metadata": {},
     "output_type": "execute_result"
    }
   ],
   "source": [
    "\"well-trained\" in person"
   ]
  },
  {
   "cell_type": "code",
   "execution_count": 380,
   "metadata": {},
   "outputs": [
    {
     "data": {
      "text/plain": [
       "True"
      ]
     },
     "execution_count": 380,
     "metadata": {},
     "output_type": "execute_result"
    }
   ],
   "source": [
    "\"potato\" not in person"
   ]
  },
  {
   "cell_type": "markdown",
   "metadata": {},
   "source": [
    "If we use the `.keys()` method, we get a list-like object of all keys within the dictionary:"
   ]
  },
  {
   "cell_type": "code",
   "execution_count": 381,
   "metadata": {},
   "outputs": [
    {
     "data": {
      "text/plain": [
       "dict_keys(['name', 'age', 'nationality', 'well-trained'])"
      ]
     },
     "execution_count": 381,
     "metadata": {},
     "output_type": "execute_result"
    }
   ],
   "source": [
    "person.keys()"
   ]
  },
  {
   "cell_type": "markdown",
   "metadata": {},
   "source": [
    "A list-like object is a container of values that allows iteration, it's _sort of_ a list. You don't need to know this in detail. This means that if we call the `list()` function on the `.keys()` method call, we get an actual list of the keys in the dictionary:"
   ]
  },
  {
   "cell_type": "code",
   "execution_count": 382,
   "metadata": {},
   "outputs": [
    {
     "data": {
      "text/plain": [
       "['name', 'age', 'nationality', 'well-trained']"
      ]
     },
     "execution_count": 382,
     "metadata": {},
     "output_type": "execute_result"
    }
   ],
   "source": [
    "list(person.keys())"
   ]
  },
  {
   "cell_type": "markdown",
   "metadata": {},
   "source": [
    "If we use the `.values()` method, we get a list-like object of all values within the dictionary:"
   ]
  },
  {
   "cell_type": "code",
   "execution_count": 383,
   "metadata": {},
   "outputs": [
    {
     "data": {
      "text/plain": [
       "dict_values(['Johan', 35, 'Swedish', False])"
      ]
     },
     "execution_count": 383,
     "metadata": {},
     "output_type": "execute_result"
    }
   ],
   "source": [
    "person.values()"
   ]
  },
  {
   "cell_type": "markdown",
   "metadata": {},
   "source": [
    "If we want all key-value pairs, we can call the `.item()` method that returns all keys and values in a list-like object with tuples:"
   ]
  },
  {
   "cell_type": "code",
   "execution_count": 384,
   "metadata": {},
   "outputs": [
    {
     "data": {
      "text/plain": [
       "dict_items([('name', 'Johan'), ('age', 35), ('nationality', 'Swedish'), ('well-trained', False)])"
      ]
     },
     "execution_count": 384,
     "metadata": {},
     "output_type": "execute_result"
    }
   ],
   "source": [
    "person.items()"
   ]
  },
  {
   "cell_type": "markdown",
   "metadata": {},
   "source": [
    "### 12.2 Looping over a dictionary"
   ]
  },
  {
   "cell_type": "markdown",
   "metadata": {},
   "source": [
    "If we do a for-loop on our dictionary, it will loop over its keys:"
   ]
  },
  {
   "cell_type": "code",
   "execution_count": 385,
   "metadata": {},
   "outputs": [],
   "source": [
    "person = {\"name\":\"Johan\", \"age\":35, \"nationality\":\"Swedish\", \"well-trained\":False}"
   ]
  },
  {
   "cell_type": "code",
   "execution_count": 386,
   "metadata": {},
   "outputs": [
    {
     "name": "stdout",
     "output_type": "stream",
     "text": [
      "name\n",
      "age\n",
      "nationality\n",
      "well-trained\n"
     ]
    }
   ],
   "source": [
    "for key in person:\n",
    "    print(key)"
   ]
  },
  {
   "cell_type": "markdown",
   "metadata": {},
   "source": [
    "Which means we can loop the values by placing the `key` variable within square brackets after the dictionary:"
   ]
  },
  {
   "cell_type": "code",
   "execution_count": 387,
   "metadata": {},
   "outputs": [
    {
     "name": "stdout",
     "output_type": "stream",
     "text": [
      "Johan\n",
      "35\n",
      "Swedish\n",
      "False\n"
     ]
    }
   ],
   "source": [
    "for key in person:\n",
    "    print(person[key])"
   ]
  },
  {
   "cell_type": "markdown",
   "metadata": {},
   "source": [
    "In the previous section, we briefly discussed dictionaries as unordered. In newer versions of Python, this is actually not true. Ever since Python 3.6 (this notebook is written in 3.8.5), **there is order in dictionaries** – they are organised in the same order you write them. But since this is a relatively new (albeit handy!) feature, you need to know how loops in dictionaries are commonly written, since otherwise, your programs might be buggy when used in older versions of Python.\n",
    "\n",
    "The normal pattern for writing a for-loop over a dictionary is looping over its key-value pairs, using the `.items()` method:"
   ]
  },
  {
   "cell_type": "code",
   "execution_count": 388,
   "metadata": {},
   "outputs": [
    {
     "name": "stdout",
     "output_type": "stream",
     "text": [
      "name Johan\n",
      "age 35\n",
      "nationality Swedish\n",
      "well-trained False\n"
     ]
    }
   ],
   "source": [
    "for k,v in person.items():\n",
    "    print(k,v)"
   ]
  },
  {
   "cell_type": "markdown",
   "metadata": {},
   "source": [
    "Hold up! Let's take it a bit slower now. Remember, the `items()` method returns a list-like object containing tuples of all key-value pairs within the dictionary:"
   ]
  },
  {
   "cell_type": "code",
   "execution_count": 35,
   "metadata": {},
   "outputs": [
    {
     "data": {
      "text/plain": [
       "[('name', 'Johan'),\n",
       " ('age', 35),\n",
       " ('nationality', 'Swedish'),\n",
       " ('well-trained', False)]"
      ]
     },
     "execution_count": 35,
     "metadata": {},
     "output_type": "execute_result"
    }
   ],
   "source": [
    "list(person.items())"
   ]
  },
  {
   "cell_type": "markdown",
   "metadata": {},
   "source": [
    "If we loop over every tuple, each sequence will give us two values:"
   ]
  },
  {
   "cell_type": "code",
   "execution_count": 38,
   "metadata": {},
   "outputs": [
    {
     "name": "stdout",
     "output_type": "stream",
     "text": [
      "('name', 'Johan')\n",
      "('age', 35)\n",
      "('nationality', 'Swedish')\n",
      "('well-trained', False)\n"
     ]
    }
   ],
   "source": [
    "for tupl in list(person.items()):\n",
    "    print(tupl)"
   ]
  },
  {
   "cell_type": "markdown",
   "metadata": {},
   "source": [
    "This is why, in our for-loop over the dictionary, we define two variables `k` and `v` for every sequence in the loop. Maybe it is more apparent if add parenthesis and some string formatting to show you what's what:"
   ]
  },
  {
   "cell_type": "code",
   "execution_count": 389,
   "metadata": {},
   "outputs": [
    {
     "name": "stdout",
     "output_type": "stream",
     "text": [
      "key: name, value: Johan\n",
      "key: age, value: 35\n",
      "key: nationality, value: Swedish\n",
      "key: well-trained, value: False\n"
     ]
    }
   ],
   "source": [
    "for (k,v) in person.items():\n",
    "    print(f\"key: {k}, value: {v}\")"
   ]
  },
  {
   "cell_type": "code",
   "execution_count": 69,
   "metadata": {},
   "outputs": [
    {
     "name": "stdout",
     "output_type": "stream",
     "text": [
      "This is not the 'age' key.\n",
      "Next year, Johan turns 36\n",
      "This is not the 'age' key.\n",
      "This is not the 'age' key.\n"
     ]
    }
   ],
   "source": [
    "for (k,v) in person.items():\n",
    "    if k == 'age':\n",
    "        new_age = v + 1 # if the key is age, its value goes +1\n",
    "        print(f\"Next year, Johan turns {new_age}\")\n",
    "    else:\n",
    "        print(f\"This is not the 'age' key.\")"
   ]
  },
  {
   "cell_type": "markdown",
   "metadata": {},
   "source": [
    "### Exercise – Consumer costs"
   ]
  },
  {
   "cell_type": "markdown",
   "metadata": {},
   "source": [
    "Here is a big dictionary with data of how expensive consumer goods and services are in various countries, in relation to eachother:"
   ]
  },
  {
   "cell_type": "code",
   "execution_count": 72,
   "metadata": {},
   "outputs": [],
   "source": [
    "data = {'Albania': {2017: 51.4, 2018: 54.1, 2019: 56.9},\n",
    " 'Austria': {2017: 111.8, 2018: 112.0, 2019: 113.0},\n",
    " 'Belgium': {2017: 114.3, 2018: 114.8, 2019: 114.7},\n",
    " 'Bosnia and Herzegovina': {2017: 54.5, 2018: 54.3, 2019: 54.8},\n",
    " 'Bulgaria': {2017: 51.3, 2018: 52.0, 2019: 52.8},\n",
    " 'Croatia': {2017: 69.5, 2018: 70.2, 2019: 71.2},\n",
    " 'Cyprus': {2017: 90.3, 2018: 89.9, 2019: 90.1},\n",
    " 'Czechia': {2017: 70.6, 2018: 73.4, 2019: 74.6},\n",
    " 'Denmark': {2017: 143.3, 2018: 141.6, 2019: 141.3},\n",
    " 'Estonia': {2017: 81.1, 2018: 83.0, 2019: 85.1},\n",
    " 'Finland': {2017: 126.2, 2018: 126.0, 2019: 126.7},\n",
    " 'France': {2017: 113.2, 2018: 113.6, 2019: 114.1},\n",
    " 'Germany': {2017: 106.5, 2018: 106.8, 2019: 106.8},\n",
    " 'Greece': {2017: 87.7, 2018: 86.5, 2019: 86.6},\n",
    " 'Hungary': {2017: 65.0, 2018: 64.5, 2019: 65.3},\n",
    " 'Iceland': {2017: 173.8, 2018: 162.4, 2019: 154.3},\n",
    " 'Ireland': {2017: 131.2, 2018: 132.7, 2019: 133.7},\n",
    " 'Italy': {2017: 103.8, 2018: 103.5, 2019: 102.7},\n",
    " 'Japan': {2017: 121.7, 2018: 118.7, 2019: 124.1},\n",
    " 'Latvia': {2017: 75.3, 2018: 76.5, 2019: 78.6},\n",
    " 'Lithuania': {2017: 66.4, 2018: 68.0, 2019: 69.5},\n",
    " 'Luxembourg': {2017: 129.0, 2018: 129.5, 2019: 131.1},\n",
    " 'Malta': {2017: 84.9, 2018: 85.2, 2019: 87.3},\n",
    " 'Montenegro': {2017: 57.1, 2018: 57.8, 2019: 57.1},\n",
    " 'Netherlands': {2017: 115.0, 2018: 115.5, 2019: 116.5},\n",
    " 'North Macedonia': {2017: 49.2, 2018: 49.9, 2019: 49.8},\n",
    " 'Norway': {2017: 154.5, 2018: 151.1, 2019: 149.5},\n",
    " 'Poland': {2017: 58.8, 2018: 59.6, 2019: 60.0},\n",
    " 'Portugal': {2017: 89.2, 2018: 89.1, 2019: 87.9},\n",
    " 'Romania': {2017: 53.9, 2018: 54.1, 2019: 54.9},\n",
    " 'Serbia': {2017: 54.0, 2018: 55.7, 2019: 56.6},\n",
    " 'Slovakia': {2017: 78.9, 2018: 79.7, 2019: 81.1},\n",
    " 'Slovenia': {2017: 86.5, 2018: 87.2, 2019: 88.1},\n",
    " 'Spain': {2017: 95.0, 2018: 95.7, 2019: 96.6},\n",
    " 'Sweden': {2017: 128.9, 2018: 123.6, 2019: 120.6},\n",
    " 'Switzerland': {2017: 163.8, 2018: 156.0, 2019: 162.0},\n",
    " 'Turkey': {2017: 55.8, 2018: 45.9, 2019: 47.1},\n",
    " 'United Kingdom': {2017: 119.9, 2018: 120.1, 2019: 121.2},\n",
    " 'United States': {2017: 118.3, 2018: 114.0, 2019: 122.6}}"
   ]
  },
  {
   "cell_type": "markdown",
   "metadata": {},
   "source": [
    "The bigger the number, the more expensive food, drinks, shopping etc. The value 100 indicates the average price for all European countries, per year. So if a country has 50 in 2017, it means this country's prices where half of the average in the EU."
   ]
  },
  {
   "cell_type": "markdown",
   "metadata": {},
   "source": [
    "By looping over this dictionary of data, I want you to find the country where consumer goods and services where the most expensive in 2019, and the country where it was the most cheap the same year.\n",
    "\n",
    "Hint! Remember, you can create a `results` dictionary where you can compare, and swap values while looping over the data. Try out various ways to go and experiment! A solution is found in the solutions notebook!"
   ]
  },
  {
   "cell_type": "markdown",
   "metadata": {},
   "source": [
    "When you're done: try to do the same thing, but this time with a function. The function should be able to take a year as an argument and return a dictonary with the countries that was the most expensive, and least expensive that year. You should also build the function such as it doesn't crash when you supply a year that isn't in the data. \n",
    "\n",
    "Goor luck!"
   ]
  },
  {
   "cell_type": "markdown",
   "metadata": {},
   "source": [
    "## 13 Tuples"
   ]
  },
  {
   "cell_type": "markdown",
   "metadata": {},
   "source": [
    "Tuples are very similar to lists, only that they are defined with plain brackets `()`:"
   ]
  },
  {
   "cell_type": "code",
   "execution_count": 19,
   "metadata": {},
   "outputs": [],
   "source": [
    "a_tuple = (1, \"Hello world!\", 3, 4)"
   ]
  },
  {
   "cell_type": "code",
   "execution_count": 20,
   "metadata": {},
   "outputs": [
    {
     "data": {
      "text/plain": [
       "'Hello world!'"
      ]
     },
     "execution_count": 20,
     "metadata": {},
     "output_type": "execute_result"
    }
   ],
   "source": [
    "a_tuple[1]"
   ]
  },
  {
   "cell_type": "code",
   "execution_count": 21,
   "metadata": {},
   "outputs": [
    {
     "data": {
      "text/plain": [
       "4"
      ]
     },
     "execution_count": 21,
     "metadata": {},
     "output_type": "execute_result"
    }
   ],
   "source": [
    "a_tuple[-1]"
   ]
  },
  {
   "cell_type": "markdown",
   "metadata": {},
   "source": [
    "The big differance is that tuples are immutable:"
   ]
  },
  {
   "cell_type": "code",
   "execution_count": 22,
   "metadata": {},
   "outputs": [
    {
     "ename": "TypeError",
     "evalue": "'tuple' object does not support item assignment",
     "output_type": "error",
     "traceback": [
      "\u001b[0;31m---------------------------------------------------------------------------\u001b[0m",
      "\u001b[0;31mTypeError\u001b[0m                                 Traceback (most recent call last)",
      "\u001b[0;32m<ipython-input-22-23c2749c304d>\u001b[0m in \u001b[0;36m<module>\u001b[0;34m\u001b[0m\n\u001b[0;32m----> 1\u001b[0;31m \u001b[0ma_tuple\u001b[0m\u001b[0;34m[\u001b[0m\u001b[0;36m1\u001b[0m\u001b[0;34m]\u001b[0m \u001b[0;34m=\u001b[0m \u001b[0;34m\"eggs\"\u001b[0m\u001b[0;34m\u001b[0m\u001b[0;34m\u001b[0m\u001b[0m\n\u001b[0m",
      "\u001b[0;31mTypeError\u001b[0m: 'tuple' object does not support item assignment"
     ]
    }
   ],
   "source": [
    "a_tuple[1] = \"eggs\""
   ]
  },
  {
   "cell_type": "markdown",
   "metadata": {},
   "source": [
    "## 14 Data structures"
   ]
  },
  {
   "cell_type": "markdown",
   "metadata": {},
   "source": [
    "A data structure is when you combine one of the various Python data containers (lists, tuples, dictionaries, etc…) in some way.  In this chapter, I will present you three common examples. I want you to be familiar with their architecture, and how to play around with them. Hopefully, you won't feel overwhelmed when you run into them moving forward. They are very very common when working with data in Python."
   ]
  },
  {
   "cell_type": "markdown",
   "metadata": {},
   "source": [
    "### 14.1 Lists in dictionaries"
   ]
  },
  {
   "cell_type": "code",
   "execution_count": 8,
   "metadata": {},
   "outputs": [],
   "source": [
    "my_groceries = {\n",
    "    \"weekdays\": [\"Sunday\", \"Monday\", \"Tuesday\", \"Wednesday\", \"Thursday\", \"Friday\", \"Saturday\"],\n",
    "    \"num_of_weekday\": [1, 2, 3, 4, 5, 6, 7]\n",
    "}"
   ]
  },
  {
   "cell_type": "code",
   "execution_count": 9,
   "metadata": {},
   "outputs": [
    {
     "data": {
      "text/plain": [
       "['apples', 'pears', 'banans']"
      ]
     },
     "execution_count": 9,
     "metadata": {},
     "output_type": "execute_result"
    }
   ],
   "source": [
    "my_groceries['fruits']"
   ]
  },
  {
   "cell_type": "markdown",
   "metadata": {},
   "source": [
    "This structure is very similar to one of the most common and important data file – JSON (JavaScript Object Notation) files. [Here is a few examples of json data](https://opensource.adobe.com/Spry/samples/data_region/JSONDataSetSample.html#Example3) that gives you a sens of how similar it can be to organising data in a Python dictionary."
   ]
  },
  {
   "cell_type": "markdown",
   "metadata": {},
   "source": [
    "If you also do the continuation course, we will learn how to read and work with json files. For now, just know that this mix of lists in dictionaries, and dictionaries as huge data containers, are a common sight in the wild!"
   ]
  },
  {
   "cell_type": "markdown",
   "metadata": {},
   "source": [
    "### 14.2 Tuples in lists"
   ]
  },
  {
   "cell_type": "markdown",
   "metadata": {},
   "source": [
    "Many times, you will see list objects containing tuples. We've seen this already in previous chapters, for example while using the dictionary `.items()` method:"
   ]
  },
  {
   "cell_type": "code",
   "execution_count": 15,
   "metadata": {},
   "outputs": [],
   "source": [
    "data = {\n",
    "    \"Spain\": 42,\n",
    "    \"Italy\": 12,\n",
    "    \"USA\": 31,\n",
    "    \"China\": 39,\n",
    "    \"Sweden\": 9,\n",
    "    \"Norway\":3,\n",
    "    \"Namibia\":24\n",
    "}"
   ]
  },
  {
   "cell_type": "markdown",
   "metadata": {},
   "source": [
    "Using the `.items()` method will return the dictionary's key/value pairs as a list-like object of tuples. Let's call the method and convert it into a list:"
   ]
  },
  {
   "cell_type": "code",
   "execution_count": 107,
   "metadata": {},
   "outputs": [
    {
     "data": {
      "text/plain": [
       "[('Spain', 42),\n",
       " ('Italy', 12),\n",
       " ('USA', 31),\n",
       " ('China', 39),\n",
       " ('Sweden', 9),\n",
       " ('Norway', 3),\n",
       " ('Namibia', 24)]"
      ]
     },
     "execution_count": 107,
     "metadata": {},
     "output_type": "execute_result"
    }
   ],
   "source": [
    "list(data.items())"
   ]
  },
  {
   "cell_type": "markdown",
   "metadata": {},
   "source": [
    "As you may recall from section 12.2, looping over a list of tuples, such as the one returned by the `.items()` method, looks like this:"
   ]
  },
  {
   "cell_type": "code",
   "execution_count": 20,
   "metadata": {},
   "outputs": [
    {
     "name": "stdout",
     "output_type": "stream",
     "text": [
      "Spain's value is 42\n",
      "Italy's value is 12\n",
      "USA's value is 31\n",
      "China's value is 39\n",
      "Sweden's value is 9\n",
      "Norway's value is 3\n",
      "Namibia's value is 24\n"
     ]
    }
   ],
   "source": [
    "for key,value in data.items():\n",
    "    print(f\"{key}'s value is {value}\")"
   ]
  },
  {
   "cell_type": "markdown",
   "metadata": {},
   "source": [
    "Each sequence in the loop produces a tuple containing two values: the dictionary key (in this case a country's name) and the corresponding value. But these iteration variables could be named anything we want. Let's save the list of tuples to its own variable:"
   ]
  },
  {
   "cell_type": "code",
   "execution_count": 108,
   "metadata": {},
   "outputs": [],
   "source": [
    "tuple_list = list(data.items())"
   ]
  },
  {
   "cell_type": "code",
   "execution_count": 109,
   "metadata": {},
   "outputs": [
    {
     "data": {
      "text/plain": [
       "[('Spain', 42),\n",
       " ('Italy', 12),\n",
       " ('USA', 31),\n",
       " ('China', 39),\n",
       " ('Sweden', 9),\n",
       " ('Norway', 3),\n",
       " ('Namibia', 24)]"
      ]
     },
     "execution_count": 109,
     "metadata": {},
     "output_type": "execute_result"
    }
   ],
   "source": [
    "tuple_list"
   ]
  },
  {
   "cell_type": "code",
   "execution_count": 110,
   "metadata": {},
   "outputs": [
    {
     "name": "stdout",
     "output_type": "stream",
     "text": [
      "Spain's value is 42\n",
      "Italy's value is 12\n",
      "USA's value is 31\n",
      "China's value is 39\n",
      "Sweden's value is 9\n",
      "Norway's value is 3\n",
      "Namibia's value is 24\n"
     ]
    }
   ],
   "source": [
    "for item1,item2 in tuple_list:\n",
    "    print(f\"{item1}'s value is {item2}\")"
   ]
  },
  {
   "cell_type": "markdown",
   "metadata": {},
   "source": [
    "Since dictionary keys only have one corresponding value, the list of tuples produced by the `.item()` method will _always_ return a list where the tuples only contain two values. \n",
    "\n",
    "_(The second tuple value could, however, be a list containing many values. But, but_ one _list nontheless)_\n",
    "\n",
    "Of course, tuples within lists can have way more values than just two:"
   ]
  },
  {
   "cell_type": "code",
   "execution_count": 36,
   "metadata": {},
   "outputs": [],
   "source": [
    "test_list = [('Spain', 42, 26),\n",
    "             ('Italy', 12, 89),\n",
    "             ('USA', 31, 75),\n",
    "             ('China', 39, 53),\n",
    "             ('Sweden', 9, 59),\n",
    "             ('Norway', 3, 82),\n",
    "             ('Namibia', 24, 95)]"
   ]
  },
  {
   "cell_type": "code",
   "execution_count": 37,
   "metadata": {},
   "outputs": [
    {
     "name": "stdout",
     "output_type": "stream",
     "text": [
      "Spain's two values are 42, and 26'\n",
      "Italy's two values are 12, and 89'\n",
      "USA's two values are 31, and 75'\n",
      "China's two values are 39, and 53'\n",
      "Sweden's two values are 9, and 59'\n",
      "Norway's two values are 3, and 82'\n",
      "Namibia's two values are 24, and 95'\n"
     ]
    }
   ],
   "source": [
    "for item1,item2,item3 in test_list:\n",
    "    print(f\"{item1}'s two values are {item2}, and {item3}'\")"
   ]
  },
  {
   "cell_type": "markdown",
   "metadata": {},
   "source": [
    "Each item in the list is a tuple containing three values. Therefore, each sequence gives us three values to use, named `item1`, `item2`, and `item3` in above code cell."
   ]
  },
  {
   "cell_type": "markdown",
   "metadata": {},
   "source": [
    "##### The `zip()` function"
   ]
  },
  {
   "cell_type": "markdown",
   "metadata": {},
   "source": [
    "A convenient way to create lists of tuples is to use the `zip()`function. Let's say we have two lists that are of the same length:"
   ]
  },
  {
   "cell_type": "code",
   "execution_count": 24,
   "metadata": {},
   "outputs": [],
   "source": [
    "countries = ['Spain', 'Italy', 'USA', 'China', 'Sweden', 'Norway', 'Namibia']"
   ]
  },
  {
   "cell_type": "code",
   "execution_count": 25,
   "metadata": {},
   "outputs": [],
   "source": [
    "values = [42, 12, 31, 39, 9, 3, 24]"
   ]
  },
  {
   "cell_type": "markdown",
   "metadata": {},
   "source": [
    "We can pass these two lists to the zip function, and it will pair up each list's values into zip object. If we call the list function on this zip object, it will return a list of tuples:"
   ]
  },
  {
   "cell_type": "code",
   "execution_count": 29,
   "metadata": {},
   "outputs": [],
   "source": [
    "zip_obj = zip(countries, values)"
   ]
  },
  {
   "cell_type": "code",
   "execution_count": 30,
   "metadata": {},
   "outputs": [
    {
     "data": {
      "text/plain": [
       "[('Spain', 42),\n",
       " ('Italy', 12),\n",
       " ('USA', 31),\n",
       " ('China', 39),\n",
       " ('Sweden', 9),\n",
       " ('Norway', 3),\n",
       " ('Namibia', 24)]"
      ]
     },
     "execution_count": 30,
     "metadata": {},
     "output_type": "execute_result"
    }
   ],
   "source": [
    "list(zip_obj)"
   ]
  },
  {
   "cell_type": "markdown",
   "metadata": {},
   "source": [
    "### 14.3 List of dictionaries"
   ]
  },
  {
   "cell_type": "markdown",
   "metadata": {},
   "source": [
    "Another very common data structure is lists of dictionaries. They are actually (in a way) similar to excel tables. Have a look at this example:"
   ]
  },
  {
   "cell_type": "code",
   "execution_count": 77,
   "metadata": {},
   "outputs": [],
   "source": [
    "data_list = [{'year': 2011, 'population': 9_482_855}, # <- the underscores are to make the number easier to read\n",
    "             {'year': 2012, 'population': 9_555_893},\n",
    "             {'year': 2013, 'population': 9_644_864},\n",
    "             {'year': 2014, 'population': 9_747_355},\n",
    "             {'year': 2015, 'population': 9_851_017},\n",
    "             {'year': 2016, 'population': 9_995_153},\n",
    "             {'year': 2017, 'population': 10_120_242},\n",
    "             {'year': 2018, 'population': 10_230_185}]"
   ]
  },
  {
   "cell_type": "markdown",
   "metadata": {},
   "source": [
    "Here, we have a list with data of Sweden's population count year 2011 to 2018, saved to the variable `data_list`. Each item in the list is a dictionary with two keys: `year` and `population`. \n",
    "\n",
    "If you're familiar with spreadsheets, maybe you find this data structure similar to spreadsheet data. Each item in the list is like a spreadsheet row, and each dictionary's keys are like columns. Let's loop over it to explore the data:"
   ]
  },
  {
   "cell_type": "code",
   "execution_count": 78,
   "metadata": {},
   "outputs": [
    {
     "name": "stdout",
     "output_type": "stream",
     "text": [
      "{'year': 2011, 'population': 9482855}\n",
      "{'year': 2012, 'population': 9555893}\n",
      "{'year': 2013, 'population': 9644864}\n",
      "{'year': 2014, 'population': 9747355}\n",
      "{'year': 2015, 'population': 9851017}\n",
      "{'year': 2016, 'population': 9995153}\n",
      "{'year': 2017, 'population': 10120242}\n",
      "{'year': 2018, 'population': 10230185}\n"
     ]
    }
   ],
   "source": [
    "for row in data_list:\n",
    "    print(row)"
   ]
  },
  {
   "cell_type": "markdown",
   "metadata": {},
   "source": [
    "Let's try to manipulate each sequence's data in a f-string:"
   ]
  },
  {
   "cell_type": "code",
   "execution_count": 79,
   "metadata": {},
   "outputs": [
    {
     "name": "stdout",
     "output_type": "stream",
     "text": [
      "Sweden's population year 2011 was 9482855\n",
      "Sweden's population year 2012 was 9555893\n",
      "Sweden's population year 2013 was 9644864\n",
      "Sweden's population year 2014 was 9747355\n",
      "Sweden's population year 2015 was 9851017\n",
      "Sweden's population year 2016 was 9995153\n",
      "Sweden's population year 2017 was 10120242\n",
      "Sweden's population year 2018 was 10230185\n"
     ]
    }
   ],
   "source": [
    "for row in data_list:\n",
    "    print(f\"Sweden's population year {row['year']} was {row['population']}\")"
   ]
  },
  {
   "cell_type": "markdown",
   "metadata": {},
   "source": [
    "    \"Huh, what's going on? This is going way too fast!!\"\n",
    "\n",
    "Ok, let's take it step by step. Each time we iterate (loop) over the data, we get a variable containing the data of the present sequence. This data is accessed through the `row` variable. Since all items in `data_list` is dictionaries, the `row` variable will always be a dictionary. So we can use keys on `row` in our for-loop!\n",
    "\n",
    "The two keys available is `year` and `population`. These keys are then used in a f-string to print out each items information in one text string.\n",
    "\n",
    "To me, lists of dictionaries is a very nice way to structure data, since it's easier to get an overview of its content."
   ]
  },
  {
   "cell_type": "markdown",
   "metadata": {},
   "source": [
    "### 14.4 Lists into dictionaries – `zip()` and `dict()`"
   ]
  },
  {
   "cell_type": "markdown",
   "metadata": {},
   "source": [
    "In this section, I will teach you an excellent trick when using data in python. Working with data, we often find ourselves having two lists that we want to combine. To show you what I mean, I will reuse the data from the previous section. But this time, there are simply two lists. One list with the years, and one list with the population data:"
   ]
  },
  {
   "cell_type": "code",
   "execution_count": 31,
   "metadata": {},
   "outputs": [],
   "source": [
    "years = [2011, 2012, 2013, 2014, 2015, 2016, 2017, 2018]\n",
    "population = [9482855, 9555893, 9644864, 9747355, 9851017, 9995153, 10120242, 10230185]"
   ]
  },
  {
   "cell_type": "markdown",
   "metadata": {},
   "source": [
    "The list are the same length, and each item within the lists corresponds with eachother."
   ]
  },
  {
   "cell_type": "code",
   "execution_count": 32,
   "metadata": {},
   "outputs": [
    {
     "data": {
      "text/plain": [
       "8"
      ]
     },
     "execution_count": 32,
     "metadata": {},
     "output_type": "execute_result"
    }
   ],
   "source": [
    "len(years)"
   ]
  },
  {
   "cell_type": "code",
   "execution_count": 33,
   "metadata": {},
   "outputs": [
    {
     "data": {
      "text/plain": [
       "8"
      ]
     },
     "execution_count": 33,
     "metadata": {},
     "output_type": "execute_result"
    }
   ],
   "source": [
    "len(population)"
   ]
  },
  {
   "cell_type": "markdown",
   "metadata": {},
   "source": [
    "This time, we want to transform these two lists into one dictionary. The dictionary should only have years as keys, and population as values. We can do this with a for-loop together with the `range()` function. Have a look:"
   ]
  },
  {
   "cell_type": "code",
   "execution_count": 61,
   "metadata": {},
   "outputs": [],
   "source": [
    "data = {}\n",
    "for i in range(len(years)):\n",
    "    data[years[i]] = population[i] # the key is years[i], the value population[i]"
   ]
  },
  {
   "cell_type": "code",
   "execution_count": 62,
   "metadata": {},
   "outputs": [
    {
     "data": {
      "text/plain": [
       "{2011: 9482855,\n",
       " 2012: 9555893,\n",
       " 2013: 9644864,\n",
       " 2014: 9747355,\n",
       " 2015: 9851017,\n",
       " 2016: 9995153,\n",
       " 2017: 10120242,\n",
       " 2018: 10230185}"
      ]
     },
     "execution_count": 62,
     "metadata": {},
     "output_type": "execute_result"
    }
   ],
   "source": [
    "data"
   ]
  },
  {
   "cell_type": "markdown",
   "metadata": {},
   "source": [
    "This works! But there is a cleaner way. We learned earlier in this chapter that we could use the `zip()` function to combine two lists into list of tuples:"
   ]
  },
  {
   "cell_type": "code",
   "execution_count": 64,
   "metadata": {},
   "outputs": [
    {
     "data": {
      "text/plain": [
       "[(2011, 9482855),\n",
       " (2012, 9555893),\n",
       " (2013, 9644864),\n",
       " (2014, 9747355),\n",
       " (2015, 9851017),\n",
       " (2016, 9995153),\n",
       " (2017, 10120242),\n",
       " (2018, 10230185)]"
      ]
     },
     "execution_count": 64,
     "metadata": {},
     "output_type": "execute_result"
    }
   ],
   "source": [
    "list(zip(years, population))"
   ]
  },
  {
   "cell_type": "markdown",
   "metadata": {},
   "source": [
    "Now, we learned in section 12.1 that we could create dictionaries with the `dict()` function:"
   ]
  },
  {
   "cell_type": "code",
   "execution_count": 49,
   "metadata": {},
   "outputs": [
    {
     "data": {
      "text/plain": [
       "{'population': 10000000}"
      ]
     },
     "execution_count": 49,
     "metadata": {},
     "output_type": "execute_result"
    }
   ],
   "source": [
    "dict(population=10_000_000)"
   ]
  },
  {
   "cell_type": "markdown",
   "metadata": {},
   "source": [
    "But the `dict()` function actually accepts a list of tuples:"
   ]
  },
  {
   "cell_type": "code",
   "execution_count": 56,
   "metadata": {},
   "outputs": [
    {
     "data": {
      "text/plain": [
       "{'population': 10000000}"
      ]
     },
     "execution_count": 56,
     "metadata": {},
     "output_type": "execute_result"
    }
   ],
   "source": [
    "dict([(\"population\", 10_000_000)])"
   ]
  },
  {
   "cell_type": "markdown",
   "metadata": {},
   "source": [
    "This means we can use it together with our zip function. The zip object is built in such a way that if we pass it to a function, the function will be applied to all items in its list of tuples. Let's try passing the zip object to the `dict()` function:"
   ]
  },
  {
   "cell_type": "code",
   "execution_count": 58,
   "metadata": {},
   "outputs": [
    {
     "data": {
      "text/plain": [
       "{2011: 9482855,\n",
       " 2012: 9555893,\n",
       " 2013: 9644864,\n",
       " 2014: 9747355,\n",
       " 2015: 9851017,\n",
       " 2016: 9995153,\n",
       " 2017: 10120242,\n",
       " 2018: 10230185}"
      ]
     },
     "execution_count": 58,
     "metadata": {},
     "output_type": "execute_result"
    }
   ],
   "source": [
    "dict(zip(years, population))"
   ]
  },
  {
   "cell_type": "markdown",
   "metadata": {},
   "source": [
    "This is a fantastic way to transform lists into dictionaries!"
   ]
  },
  {
   "cell_type": "markdown",
   "metadata": {},
   "source": [
    "### 14.5 (Optional) The `enumerate()` function"
   ]
  },
  {
   "cell_type": "markdown",
   "metadata": {},
   "source": [
    "We've now explored three types of data structures. And we've also experimented looping over data structure's content. However, there is a function that is very handy while looping over data, the `enumerate()` function. Let's return to the example we used in the previous section, the list of dictionaries containing population data of Sweden:"
   ]
  },
  {
   "cell_type": "code",
   "execution_count": 113,
   "metadata": {},
   "outputs": [],
   "source": [
    "data_list = [{'year': 2011, 'population': 9_482_855},\n",
    "             {'year': 2012, 'population': 9_555_893},\n",
    "             {'year': 2013, 'population': 9_644_864},\n",
    "             {'year': 2014, 'population': 9_747_355},\n",
    "             {'year': 2015, 'population': 9_851_017},\n",
    "             {'year': 2016, 'population': 9_995_153},\n",
    "             {'year': 2017, 'population': 10_120_242},\n",
    "             {'year': 2018, 'population': 10_230_185}]"
   ]
  },
  {
   "cell_type": "markdown",
   "metadata": {},
   "source": [
    "In section 10.2 we discussed two different ways to do for-loops. Either a straight for-loop (as used in previous sections in this chapter), or using the `range()` function to loop using index numbers, like this:"
   ]
  },
  {
   "cell_type": "code",
   "execution_count": 86,
   "metadata": {},
   "outputs": [
    {
     "name": "stdout",
     "output_type": "stream",
     "text": [
      "5\n",
      "12\n",
      "-3\n",
      "42\n"
     ]
    }
   ],
   "source": [
    "a_list = [5, 12, -3, 42]\n",
    "\n",
    "for i in range(len(a_list)):\n",
    "    print(a_list[i])"
   ]
  },
  {
   "cell_type": "markdown",
   "metadata": {},
   "source": [
    "_(If you're feeling rusty on this concept, check out section 10.2.3 to update yourself!)_\n",
    "\n",
    "With the `enumerate()` function, we can do a straight for-loop, and a `range()` for-loop at the same time. The `enumerate()` function can be used on iterable objects (meaning lists, tuples and other listlike objects that you can loop over). It then returns an enumerate object. \n",
    "\n",
    "If this object is used in a for-loop, each iteration (each sequence) will return a tuple with the present iteration's sequence number (starting at zero) AND the value of the present iteration's value. Let me show you what I mean:"
   ]
  },
  {
   "cell_type": "code",
   "execution_count": 117,
   "metadata": {},
   "outputs": [
    {
     "data": {
      "text/plain": [
       "<enumerate at 0x1323f2300>"
      ]
     },
     "execution_count": 117,
     "metadata": {},
     "output_type": "execute_result"
    }
   ],
   "source": [
    "enumerate(a_list) # returns a enumerate object"
   ]
  },
  {
   "cell_type": "code",
   "execution_count": 118,
   "metadata": {},
   "outputs": [
    {
     "name": "stdout",
     "output_type": "stream",
     "text": [
      "(0, 5)\n",
      "(1, 12)\n",
      "(2, 3)\n",
      "(3, 42)\n"
     ]
    }
   ],
   "source": [
    "for item in enumerate(a_list):\n",
    "    print(item)"
   ]
  },
  {
   "cell_type": "markdown",
   "metadata": {},
   "source": [
    "First iteration, the first number of this iteration is 0. If we loop over the entire list, this means that each sequence number corresponds to the list's index numbers. This is the first value in the first tuple above (0, 1, 2, 3). \n",
    "\n",
    "The value in the first iteration – the first item in the `a_list` list variable – is the integer 5. As you can see, each iteration returns a tuple with the present index and value.\n",
    "\n",
    "If you recall section 10.2.4 (`for`-loops – with or without `range()`?), the `range()` function is a must if you want to change values in a list. You need the present index number to assign a new value to the list item. \n",
    "\n",
    "Take this following example as a refreasher. Let's say we want to change all negative number in the list to positives. We can use the `range()` function in a for-loop, and then an `if`-statement to see if the present iteration's value is positive or negative. If negative, we'll change it:"
   ]
  },
  {
   "cell_type": "code",
   "execution_count": 92,
   "metadata": {},
   "outputs": [
    {
     "name": "stdout",
     "output_type": "stream",
     "text": [
      "[5, 12, 3, 42]\n"
     ]
    }
   ],
   "source": [
    "a_list = [5, 12, -3, 42]\n",
    "\n",
    "for i in range(len(a_list)):\n",
    "    if a_list[i] < 0:\n",
    "        a_list[i] = a_list[i] * -1 # any negative number multiplied by -1 will make the negative a positive\n",
    "    else:\n",
    "        continue\n",
    "print(a_list)"
   ]
  },
  {
   "cell_type": "markdown",
   "metadata": {},
   "source": [
    "If we instead of the `range()` function use `enumerate()`, we will have both the index and value at hand in each sequence of the for-loop! Let's do the exact same thing as above, but using `enumerate()` instead:"
   ]
  },
  {
   "cell_type": "code",
   "execution_count": 93,
   "metadata": {},
   "outputs": [
    {
     "name": "stdout",
     "output_type": "stream",
     "text": [
      "[5, 12, 3, 42]\n"
     ]
    }
   ],
   "source": [
    "a_list = [5, 12, -3, 42]\n",
    "\n",
    "for count, value in enumerate(a_list):\n",
    "    if value < 0:\n",
    "        a_list[count] = value * -1\n",
    "    else:\n",
    "        continue\n",
    "print(a_list)"
   ]
  },
  {
   "cell_type": "markdown",
   "metadata": {},
   "source": [
    "As you can see, the result is the same. But the version using `enumerate()` is way more easy to read! Also, note that it is common practice to name the two variables produced by the `enumerate()` function `count` (since it counts each iteration), and `value`. "
   ]
  },
  {
   "cell_type": "markdown",
   "metadata": {},
   "source": [
    "The `count` variable is also commonly used as a counter when you want to print each iteration in relation to the total number of iteration. Like this:"
   ]
  },
  {
   "cell_type": "code",
   "execution_count": 121,
   "metadata": {},
   "outputs": [
    {
     "name": "stdout",
     "output_type": "stream",
     "text": [
      "Iteration 1 of 4\n",
      "Iteration 2 of 4\n",
      "Iteration 3 of 4\n",
      "Iteration 4 of 4\n"
     ]
    }
   ],
   "source": [
    "for count, value in enumerate(a_list):\n",
    "    print(f\"Iteration {count+1} of {len(a_list)}\")"
   ]
  },
  {
   "cell_type": "markdown",
   "metadata": {},
   "source": [
    "Let's return to our list of dictionaries stored in the `data_list` variable:"
   ]
  },
  {
   "cell_type": "code",
   "execution_count": 94,
   "metadata": {},
   "outputs": [
    {
     "data": {
      "text/plain": [
       "[{'year': 2011, 'population': 9482855},\n",
       " {'year': 2012, 'population': 9555893},\n",
       " {'year': 2013, 'population': 9644864},\n",
       " {'year': 2014, 'population': 9747355},\n",
       " {'year': 2015, 'population': 9851017},\n",
       " {'year': 2016, 'population': 9995153},\n",
       " {'year': 2017, 'population': 10120242},\n",
       " {'year': 2018, 'population': 10230185}]"
      ]
     },
     "execution_count": 94,
     "metadata": {},
     "output_type": "execute_result"
    }
   ],
   "source": [
    "data_list"
   ]
  },
  {
   "cell_type": "markdown",
   "metadata": {},
   "source": [
    "Using `enumerate()` on this data structure is almost always a good idea. We can use the index number as a row index:"
   ]
  },
  {
   "cell_type": "code",
   "execution_count": 101,
   "metadata": {},
   "outputs": [
    {
     "name": "stdout",
     "output_type": "stream",
     "text": [
      "----\n",
      "Row 0\n",
      "Year: 2011, population: 9482855\n",
      "----\n",
      "Row 1\n",
      "Year: 2012, population: 9555893\n",
      "----\n",
      "Row 2\n",
      "Year: 2013, population: 9644864\n",
      "----\n",
      "Row 3\n",
      "Year: 2014, population: 9747355\n",
      "----\n",
      "Row 4\n",
      "Year: 2015, population: 9851017\n",
      "----\n",
      "Row 5\n",
      "Year: 2016, population: 9995153\n",
      "----\n",
      "Row 6\n",
      "Year: 2017, population: 10120242\n",
      "----\n",
      "Row 7\n",
      "Year: 2018, population: 10230185\n"
     ]
    }
   ],
   "source": [
    "for index, value in enumerate(data_list):\n",
    "    print(f\"----\\nRow {index}\\nYear: {value['year']}, population: {value['population']}\")"
   ]
  },
  {
   "cell_type": "markdown",
   "metadata": {},
   "source": [
    "So, let's say we want to calculate population change year by year – how would we go about? Let's use enumerate:"
   ]
  },
  {
   "cell_type": "code",
   "execution_count": 122,
   "metadata": {},
   "outputs": [
    {
     "name": "stdout",
     "output_type": "stream",
     "text": [
      "Year 2011-2012: 73038\n",
      "Year 2012-2013: 88971\n",
      "Year 2013-2014: 102491\n",
      "Year 2014-2015: 103662\n",
      "Year 2015-2016: 144136\n",
      "Year 2016-2017: 125089\n",
      "Year 2017-2018: 109943\n"
     ]
    }
   ],
   "source": [
    "# since the first list item has no year to compare to, we'll start the loop at the second list item:\n",
    "for count, value in enumerate(data_list[1:], start=1):\n",
    "    \n",
    "    # First, let's get the dictionary with the previous year's data\n",
    "    # it is one index number down from the present iteration:\n",
    "    last_years_data = data_list[count-1]\n",
    "    \n",
    "    # now, we can just simply compare the two population numbers :\n",
    "    pop_change = value['population'] - last_years_data['population']\n",
    "    \n",
    "    # list string to print in a readable manner:\n",
    "    print(f\"Year {last_years_data['year']}-{value['year']}: {pop_change}\")"
   ]
  },
  {
   "cell_type": "markdown",
   "metadata": {},
   "source": [
    "Take your time to understand above code. It is a bit complicated, so don't sweat it if you feel lost to begin with. Basically, we use the `count` variable to get the previous iterations dictionary to calculate on. This code is the key to understanding the technique: `last_years_data = data_list[count-1]`, espescially the last part `[count-1]`. The number behind `count` is the index of each iteration. By subtracting it with 1, we get the previous iteration! This dictionary is then used accordingly."
   ]
  },
  {
   "cell_type": "markdown",
   "metadata": {},
   "source": [
    "To summarise: \n",
    "\n",
    "In general, if you're comfortable with it, **use `enumerate()` while looping data!**"
   ]
  },
  {
   "cell_type": "markdown",
   "metadata": {},
   "source": [
    "### 14.6 Exercise – transform the data structure"
   ]
  },
  {
   "cell_type": "markdown",
   "metadata": {},
   "source": [
    "In this exercise, you shall transform one data structure into another. Using the example data from section 14.2:"
   ]
  },
  {
   "cell_type": "code",
   "execution_count": 106,
   "metadata": {},
   "outputs": [
    {
     "data": {
      "text/plain": [
       "{'Spain': 42,\n",
       " 'Italy': 12,\n",
       " 'USA': 31,\n",
       " 'China': 39,\n",
       " 'Sweden': 9,\n",
       " 'Norway': 3,\n",
       " 'Namibia': 24}"
      ]
     },
     "execution_count": 106,
     "metadata": {},
     "output_type": "execute_result"
    }
   ],
   "source": [
    "data = {\n",
    "    \"Spain\": 42,\n",
    "    \"Italy\": 12,\n",
    "    \"USA\": 31,\n",
    "    \"China\": 39,\n",
    "    \"Sweden\": 9,\n",
    "    \"Norway\":3,\n",
    "    \"Namibia\":24\n",
    "}\n",
    "data"
   ]
  },
  {
   "cell_type": "markdown",
   "metadata": {},
   "source": [
    "The variable `data` is dictionary with key/value-pairs. This should be tranformed into a list of dictionaries. Each item in the list should consist of two key/value-pairs: a key called `\"country\"` with the value being the keys of the `data` dictionary. The other should be a key called `\"number\"` with the values being the values in the `data` variable.\n",
    "\n",
    "So the end result should look something like this:\n",
    "\n",
    "```\n",
    "[{\"country\":\"Spain\",\"number\":42}, ...]\n",
    "```\n",
    "\n",
    "My solution can be found in the solutions notebook. Good luck!"
   ]
  },
  {
   "cell_type": "code",
   "execution_count": null,
   "metadata": {},
   "outputs": [],
   "source": []
  },
  {
   "cell_type": "code",
   "execution_count": null,
   "metadata": {},
   "outputs": [],
   "source": []
  },
  {
   "cell_type": "code",
   "execution_count": null,
   "metadata": {},
   "outputs": [],
   "source": []
  },
  {
   "cell_type": "markdown",
   "metadata": {},
   "source": [
    "## 15 Errors and Exceptions"
   ]
  },
  {
   "cell_type": "markdown",
   "metadata": {},
   "source": [
    "In earlier lessons, you've probably experienced some errors while trying out code. This is normal! See it as an indication that you are experimenting, yay!\n",
    "\n",
    "Errors are when the computer encounters something in our code that it can't make sense out of. There are two categories of errors: syntax errors (very common while learning!) and exceptions."
   ]
  },
  {
   "cell_type": "markdown",
   "metadata": {},
   "source": [
    "**Syntax errors** are unconditionally fatal. This means that your program can't be executed containing a any syntax errors. Before your code is run, the interpreter reads the code from start to finish. If it finds a syntax error, it won't even start running your code. Take this example:"
   ]
  },
  {
   "cell_type": "code",
   "execution_count": 390,
   "metadata": {},
   "outputs": [
    {
     "ename": "SyntaxError",
     "evalue": "invalid syntax (<ipython-input-390-ce3f02f5e877>, line 1)",
     "output_type": "error",
     "traceback": [
      "\u001b[0;36m  File \u001b[0;32m\"<ipython-input-390-ce3f02f5e877>\"\u001b[0;36m, line \u001b[0;32m1\u001b[0m\n\u001b[0;31m    if True # <- colon missing here!\u001b[0m\n\u001b[0m            ^\u001b[0m\n\u001b[0;31mSyntaxError\u001b[0m\u001b[0;31m:\u001b[0m invalid syntax\n"
     ]
    }
   ],
   "source": [
    "if True # <- colon missing here!\n",
    "    print(\"Hello world!\")"
   ]
  },
  {
   "cell_type": "markdown",
   "metadata": {},
   "source": [
    "**The error message** is often very useful at telling us why the code doesn't work. It tells us at which line of code the error was detected. It even has a small arrow that points to where the problem may be located."
   ]
  },
  {
   "cell_type": "markdown",
   "metadata": {},
   "source": [
    "**Exceptions** on the other hand, are errors that occurs because how the code is structured. They are raised when the code is executed: it is when the syntax is correct, but the code doesn't make sense to the computer. Like, for example, when you try to divide by 0:"
   ]
  },
  {
   "cell_type": "code",
   "execution_count": 82,
   "metadata": {},
   "outputs": [
    {
     "ename": "ZeroDivisionError",
     "evalue": "division by zero",
     "output_type": "error",
     "traceback": [
      "\u001b[0;31m---------------------------------------------------------------------------\u001b[0m",
      "\u001b[0;31mZeroDivisionError\u001b[0m                         Traceback (most recent call last)",
      "\u001b[0;32m<ipython-input-82-e9e866a10e2a>\u001b[0m in \u001b[0;36m<module>\u001b[0;34m\u001b[0m\n\u001b[0;32m----> 1\u001b[0;31m \u001b[0;36m100\u001b[0m \u001b[0;34m/\u001b[0m \u001b[0;36m0\u001b[0m\u001b[0;34m\u001b[0m\u001b[0;34m\u001b[0m\u001b[0m\n\u001b[0m",
      "\u001b[0;31mZeroDivisionError\u001b[0m: division by zero"
     ]
    }
   ],
   "source": [
    "100 / 0"
   ]
  },
  {
   "cell_type": "markdown",
   "metadata": {},
   "source": [
    "The computer reads the code, and detectes that we want it to divide 100 by 0. Unfortunatly, computers doesn't know how to do that, and so it flags the error and terminates the program. We say that it **raises an error**, or **raises an exception**. There are many types of exceptions and they all have various names. Above we see the `ZeroDivisionError`. Another common one is `NameError` which is raised when you try to use a variable that doesn't exist in the computer's memory:"
   ]
  },
  {
   "cell_type": "code",
   "execution_count": 83,
   "metadata": {},
   "outputs": [
    {
     "ename": "NameError",
     "evalue": "name 'johan' is not defined",
     "output_type": "error",
     "traceback": [
      "\u001b[0;31m---------------------------------------------------------------------------\u001b[0m",
      "\u001b[0;31mNameError\u001b[0m                                 Traceback (most recent call last)",
      "\u001b[0;32m<ipython-input-83-ab62afb58cf8>\u001b[0m in \u001b[0;36m<module>\u001b[0;34m\u001b[0m\n\u001b[0;32m----> 1\u001b[0;31m \u001b[0mjohan\u001b[0m\u001b[0;34m\u001b[0m\u001b[0;34m\u001b[0m\u001b[0m\n\u001b[0m",
      "\u001b[0;31mNameError\u001b[0m: name 'johan' is not defined"
     ]
    }
   ],
   "source": [
    "johan"
   ]
  },
  {
   "cell_type": "markdown",
   "metadata": {},
   "source": [
    "### 15.1 `try` and `except` statements"
   ]
  },
  {
   "cell_type": "markdown",
   "metadata": {},
   "source": [
    "Since the program terminates when an exception is raised, code below the error is never executed. Take this example of a small function that adds 2 to a number parameter:"
   ]
  },
  {
   "cell_type": "code",
   "execution_count": 87,
   "metadata": {},
   "outputs": [],
   "source": [
    "def add_two(number):\n",
    "    print(number + 2)"
   ]
  },
  {
   "cell_type": "code",
   "execution_count": 89,
   "metadata": {},
   "outputs": [
    {
     "name": "stdout",
     "output_type": "stream",
     "text": [
      "42\n",
      "6\n"
     ]
    },
    {
     "ename": "TypeError",
     "evalue": "can only concatenate str (not \"int\") to str",
     "output_type": "error",
     "traceback": [
      "\u001b[0;31m---------------------------------------------------------------------------\u001b[0m",
      "\u001b[0;31mTypeError\u001b[0m                                 Traceback (most recent call last)",
      "\u001b[0;32m<ipython-input-89-dc80ede3e2e8>\u001b[0m in \u001b[0;36m<module>\u001b[0;34m\u001b[0m\n\u001b[1;32m      1\u001b[0m \u001b[0madd_two\u001b[0m\u001b[0;34m(\u001b[0m\u001b[0;36m40\u001b[0m\u001b[0;34m)\u001b[0m\u001b[0;34m\u001b[0m\u001b[0;34m\u001b[0m\u001b[0m\n\u001b[1;32m      2\u001b[0m \u001b[0madd_two\u001b[0m\u001b[0;34m(\u001b[0m\u001b[0;36m4\u001b[0m\u001b[0;34m)\u001b[0m\u001b[0;34m\u001b[0m\u001b[0;34m\u001b[0m\u001b[0m\n\u001b[0;32m----> 3\u001b[0;31m \u001b[0madd_two\u001b[0m\u001b[0;34m(\u001b[0m\u001b[0;34m\"4\"\u001b[0m\u001b[0;34m)\u001b[0m\u001b[0;34m\u001b[0m\u001b[0;34m\u001b[0m\u001b[0m\n\u001b[0m\u001b[1;32m      4\u001b[0m \u001b[0madd_two\u001b[0m\u001b[0;34m(\u001b[0m\u001b[0;36m0\u001b[0m\u001b[0;34m)\u001b[0m\u001b[0;34m\u001b[0m\u001b[0;34m\u001b[0m\u001b[0m\n",
      "\u001b[0;32m<ipython-input-87-2e2ce9e54872>\u001b[0m in \u001b[0;36madd_two\u001b[0;34m(number)\u001b[0m\n\u001b[1;32m      1\u001b[0m \u001b[0;32mdef\u001b[0m \u001b[0madd_two\u001b[0m\u001b[0;34m(\u001b[0m\u001b[0mnumber\u001b[0m\u001b[0;34m)\u001b[0m\u001b[0;34m:\u001b[0m\u001b[0;34m\u001b[0m\u001b[0;34m\u001b[0m\u001b[0m\n\u001b[0;32m----> 2\u001b[0;31m     \u001b[0mprint\u001b[0m\u001b[0;34m(\u001b[0m\u001b[0mnumber\u001b[0m \u001b[0;34m+\u001b[0m \u001b[0;36m2\u001b[0m\u001b[0;34m)\u001b[0m\u001b[0;34m\u001b[0m\u001b[0;34m\u001b[0m\u001b[0m\n\u001b[0m",
      "\u001b[0;31mTypeError\u001b[0m: can only concatenate str (not \"int\") to str"
     ]
    }
   ],
   "source": [
    "add_two(40)\n",
    "add_two(4)\n",
    "add_two(\"4\")\n",
    "add_two(0)"
   ]
  },
  {
   "cell_type": "markdown",
   "metadata": {},
   "source": [
    "In the error message, you see that the computer raised a `TypeError` on line 3. The error occured because we can't use the `+` operator on strings together with integers. But you also see that the interpreter stopped reading code when the exception was raised, the last line in the code cell wasn't executed.\n",
    "\n",
    "It makes sense that the computer stops the program when it encounters an error. By doing so, it alerts us so that we can fix a bug in our code. But sometimes, we don't want the program to stop just because it encountered an error. \n",
    "\n",
    "For example, let's say we have a list of names. We want to send these people an invititation to a party, but we can't be bothered writing a letter each for everyone. So we create a invitation text, and then loop over the names and insert the names in our invitaton. Brilliant! "
   ]
  },
  {
   "cell_type": "markdown",
   "metadata": {},
   "source": [
    "The list is passed to this function that adds our invitaion message to a dictionary containing all invitations:"
   ]
  },
  {
   "cell_type": "code",
   "execution_count": 392,
   "metadata": {},
   "outputs": [],
   "source": [
    "def invitation_bot(list_of_names):\n",
    "    \n",
    "    invitations = {}\n",
    "    \n",
    "    for name in list_of_names:\n",
    "        # save the invitation text string to the dictionary:\n",
    "        invitations[name] = \"Hello \" + name + \"\"\"! I'm having a party this Saturday! \n",
    "Bring beer and I'll provide some food. Hope to see you here!\\n\"\"\"\n",
    "    \n",
    "    return invitations"
   ]
  },
  {
   "cell_type": "markdown",
   "metadata": {},
   "source": [
    "However! There is a bug in our list of names. When we weren't looking, our cat stepped on the keyboard and added an couple of integer values to the list:"
   ]
  },
  {
   "cell_type": "code",
   "execution_count": 393,
   "metadata": {},
   "outputs": [],
   "source": [
    "names = ['Paul', 'Fredrick', 'Eva', 'Ebba', 'Sarah', 9, 'Philip', 4235214, 'Monica', 'Simon']"
   ]
  },
  {
   "cell_type": "markdown",
   "metadata": {},
   "source": [
    "So, this function is supposed to return a dictionary with all invitations sorted by the names as keys, but since it encounters an exception it will crash before we can get our result:"
   ]
  },
  {
   "cell_type": "code",
   "execution_count": 394,
   "metadata": {},
   "outputs": [
    {
     "ename": "TypeError",
     "evalue": "can only concatenate str (not \"int\") to str",
     "output_type": "error",
     "traceback": [
      "\u001b[0;31m---------------------------------------------------------------------------\u001b[0m",
      "\u001b[0;31mTypeError\u001b[0m                                 Traceback (most recent call last)",
      "\u001b[0;32m<ipython-input-394-ac42362d2529>\u001b[0m in \u001b[0;36m<module>\u001b[0;34m\u001b[0m\n\u001b[0;32m----> 1\u001b[0;31m \u001b[0minvitations\u001b[0m \u001b[0;34m=\u001b[0m \u001b[0minvitation_bot\u001b[0m\u001b[0;34m(\u001b[0m\u001b[0mnames\u001b[0m\u001b[0;34m)\u001b[0m\u001b[0;34m\u001b[0m\u001b[0;34m\u001b[0m\u001b[0m\n\u001b[0m",
      "\u001b[0;32m<ipython-input-392-5878dce342f6>\u001b[0m in \u001b[0;36minvitation_bot\u001b[0;34m(list_of_names)\u001b[0m\n\u001b[1;32m      5\u001b[0m     \u001b[0;32mfor\u001b[0m \u001b[0mname\u001b[0m \u001b[0;32min\u001b[0m \u001b[0mlist_of_names\u001b[0m\u001b[0;34m:\u001b[0m\u001b[0;34m\u001b[0m\u001b[0;34m\u001b[0m\u001b[0m\n\u001b[1;32m      6\u001b[0m         \u001b[0;31m# save the invitation text string to the dictionary:\u001b[0m\u001b[0;34m\u001b[0m\u001b[0;34m\u001b[0m\u001b[0;34m\u001b[0m\u001b[0m\n\u001b[0;32m----> 7\u001b[0;31m         invitations[name] = \"Hello \" + name + \"\"\"! I'm having a party this Saturday! \n\u001b[0m\u001b[1;32m      8\u001b[0m Bring beer and I'll provide some food. Hope to see you here!\\n\"\"\"\n\u001b[1;32m      9\u001b[0m \u001b[0;34m\u001b[0m\u001b[0m\n",
      "\u001b[0;31mTypeError\u001b[0m: can only concatenate str (not \"int\") to str"
     ]
    }
   ],
   "source": [
    "invitations = invitation_bot(names)"
   ]
  },
  {
   "cell_type": "markdown",
   "metadata": {},
   "source": [
    "Now, you'd think this is an easy fix – we can just use the `str()` function on our variable – converting the variable's assigned integer to a string, and moving on. But say we had hundreds of list items, and no idea if other types of values have also been added by the damn cat.\n",
    "\n",
    "Much better to here use a `try` and `except` statement. These statements tells our computer to allow certain errors in our programs! I'll first rewrite our function with the statements, and then explain what it does:"
   ]
  },
  {
   "cell_type": "code",
   "execution_count": 395,
   "metadata": {},
   "outputs": [],
   "source": [
    "def invitation_bot(list_of_names):\n",
    "        invitations = {}\n",
    "\n",
    "        for name in list_of_names:\n",
    "            try:\n",
    "                # this is the try clause\n",
    "                invitations[name] = \"Hello \" + name + \"! I'm having a party this Saturday!\" \\\n",
    "                + \" Bring beer and I'll provide some food. Hope to see you here!\\n\"\n",
    "            except:\n",
    "                # this is the except clause\n",
    "                print(f\"ERROR in the try clause! \" + \\\n",
    "                      f\"The name '{name}' gave an error.\")\n",
    "                continue\n",
    "\n",
    "        return invitations"
   ]
  },
  {
   "cell_type": "code",
   "execution_count": 396,
   "metadata": {},
   "outputs": [
    {
     "name": "stdout",
     "output_type": "stream",
     "text": [
      "ERROR in the try clause! The name '9' gave an error.\n",
      "ERROR in the try clause! The name '4235214' gave an error.\n"
     ]
    }
   ],
   "source": [
    "invitations = invitation_bot(names)"
   ]
  },
  {
   "cell_type": "markdown",
   "metadata": {},
   "source": [
    "In this example, we included a try-except statement within the function's for-loop. A try-except statement consists of two code blocks. The first is the `try` clause. When the interpreter sees a try-except statement in your code, it will first read the `try` clause's code block. \n",
    "\n",
    "If the interpreter encounters an error within the try clause's code block, it will stop executing the try clause, and move to the `except` clause's code block. It will then execute this code instead. We say that the `except` code block **handles** errors for us that've been found in the try clause's code block.\n",
    "\n",
    "So, when the for-loop encounters the integer 9, the interpreter realises that string concatination is not possible. So it stops and moves to the ` except` clause's code. This means that the integer 9 isn't added to our dictionary `invitations`. Instead, the except clause's code executes and prints the error message and runs the `continue` statement."
   ]
  },
  {
   "cell_type": "markdown",
   "metadata": {},
   "source": [
    "Let's move on to another example. Here, we have a function that takes a number value as an argument and divides 100 with this number:"
   ]
  },
  {
   "cell_type": "code",
   "execution_count": 397,
   "metadata": {},
   "outputs": [],
   "source": [
    "def divide_by(number):\n",
    "    print(100 / number)"
   ]
  },
  {
   "cell_type": "code",
   "execution_count": 398,
   "metadata": {},
   "outputs": [
    {
     "name": "stdout",
     "output_type": "stream",
     "text": [
      "5.0\n"
     ]
    }
   ],
   "source": [
    "divide_by(20)"
   ]
  },
  {
   "cell_type": "markdown",
   "metadata": {},
   "source": [
    "The function crashes if we divide by 0:"
   ]
  },
  {
   "cell_type": "code",
   "execution_count": 399,
   "metadata": {},
   "outputs": [
    {
     "ename": "ZeroDivisionError",
     "evalue": "division by zero",
     "output_type": "error",
     "traceback": [
      "\u001b[0;31m---------------------------------------------------------------------------\u001b[0m",
      "\u001b[0;31mZeroDivisionError\u001b[0m                         Traceback (most recent call last)",
      "\u001b[0;32m<ipython-input-399-6b356997efe4>\u001b[0m in \u001b[0;36m<module>\u001b[0;34m\u001b[0m\n\u001b[0;32m----> 1\u001b[0;31m \u001b[0mdivide_by\u001b[0m\u001b[0;34m(\u001b[0m\u001b[0;36m0\u001b[0m\u001b[0;34m)\u001b[0m\u001b[0;34m\u001b[0m\u001b[0;34m\u001b[0m\u001b[0m\n\u001b[0m",
      "\u001b[0;32m<ipython-input-397-c3329ca98df1>\u001b[0m in \u001b[0;36mdivide_by\u001b[0;34m(number)\u001b[0m\n\u001b[1;32m      1\u001b[0m \u001b[0;32mdef\u001b[0m \u001b[0mdivide_by\u001b[0m\u001b[0;34m(\u001b[0m\u001b[0mnumber\u001b[0m\u001b[0;34m)\u001b[0m\u001b[0;34m:\u001b[0m\u001b[0;34m\u001b[0m\u001b[0;34m\u001b[0m\u001b[0m\n\u001b[0;32m----> 2\u001b[0;31m     \u001b[0mprint\u001b[0m\u001b[0;34m(\u001b[0m\u001b[0;36m100\u001b[0m \u001b[0;34m/\u001b[0m \u001b[0mnumber\u001b[0m\u001b[0;34m)\u001b[0m\u001b[0;34m\u001b[0m\u001b[0;34m\u001b[0m\u001b[0m\n\u001b[0m",
      "\u001b[0;31mZeroDivisionError\u001b[0m: division by zero"
     ]
    }
   ],
   "source": [
    "divide_by(0)"
   ]
  },
  {
   "cell_type": "markdown",
   "metadata": {},
   "source": [
    "So, let's rewrite it with a `try` and `except` statement. But this time we will specify which error we want the `except` statement to handle. We do this by writing the error's name right after the `except` keyword:"
   ]
  },
  {
   "cell_type": "code",
   "execution_count": 129,
   "metadata": {},
   "outputs": [],
   "source": [
    "def divide_by(number):\n",
    "    try:\n",
    "        print(100 / number)\n",
    "    except ZeroDivisionError:\n",
    "        print(\"You can't divide by 0!\")"
   ]
  },
  {
   "cell_type": "code",
   "execution_count": 130,
   "metadata": {},
   "outputs": [
    {
     "name": "stdout",
     "output_type": "stream",
     "text": [
      "You can't divide by 0!\n"
     ]
    }
   ],
   "source": [
    "divide_by(0)"
   ]
  },
  {
   "cell_type": "markdown",
   "metadata": {},
   "source": [
    "This is acctually the recommended approach. If you _only_ use the `except` keyword, you allow your code to \"blindly\" handle all errors. This means that you will not know of potential bugs being handled automatically by your program.\n",
    "\n",
    "Therefore, it is way better to specify error types in your except statement. `except ZeroDivisionError` handles zero division errors, but it will still crash if another error is encountered. Take this example, here I've included the expression `1 + \"1\"`, this will produce a TypeError. And our except statement doesn't handle TypeErrors, so even though we have a try-except statement in our function, this code will crash:"
   ]
  },
  {
   "cell_type": "code",
   "execution_count": 134,
   "metadata": {},
   "outputs": [],
   "source": [
    "def divide_by(number):\n",
    "    try:\n",
    "        1 + \"1\"\n",
    "        #print(100 / number)\n",
    "        \n",
    "    except ZeroDivisionError:\n",
    "        print(\"You can't divide by 0!\")"
   ]
  },
  {
   "cell_type": "code",
   "execution_count": 135,
   "metadata": {},
   "outputs": [
    {
     "ename": "TypeError",
     "evalue": "unsupported operand type(s) for +: 'int' and 'str'",
     "output_type": "error",
     "traceback": [
      "\u001b[0;31m---------------------------------------------------------------------------\u001b[0m",
      "\u001b[0;31mTypeError\u001b[0m                                 Traceback (most recent call last)",
      "\u001b[0;32m<ipython-input-135-6b356997efe4>\u001b[0m in \u001b[0;36m<module>\u001b[0;34m\u001b[0m\n\u001b[0;32m----> 1\u001b[0;31m \u001b[0mdivide_by\u001b[0m\u001b[0;34m(\u001b[0m\u001b[0;36m0\u001b[0m\u001b[0;34m)\u001b[0m\u001b[0;34m\u001b[0m\u001b[0;34m\u001b[0m\u001b[0m\n\u001b[0m",
      "\u001b[0;32m<ipython-input-134-b8531a447c35>\u001b[0m in \u001b[0;36mdivide_by\u001b[0;34m(number)\u001b[0m\n\u001b[1;32m      1\u001b[0m \u001b[0;32mdef\u001b[0m \u001b[0mdivide_by\u001b[0m\u001b[0;34m(\u001b[0m\u001b[0mnumber\u001b[0m\u001b[0;34m)\u001b[0m\u001b[0;34m:\u001b[0m\u001b[0;34m\u001b[0m\u001b[0;34m\u001b[0m\u001b[0m\n\u001b[1;32m      2\u001b[0m     \u001b[0;32mtry\u001b[0m\u001b[0;34m:\u001b[0m\u001b[0;34m\u001b[0m\u001b[0;34m\u001b[0m\u001b[0m\n\u001b[0;32m----> 3\u001b[0;31m         \u001b[0;36m1\u001b[0m \u001b[0;34m+\u001b[0m \u001b[0;34m\"1\"\u001b[0m\u001b[0;34m\u001b[0m\u001b[0;34m\u001b[0m\u001b[0m\n\u001b[0m\u001b[1;32m      4\u001b[0m         \u001b[0;31m#print(100 / number)\u001b[0m\u001b[0;34m\u001b[0m\u001b[0;34m\u001b[0m\u001b[0;34m\u001b[0m\u001b[0m\n\u001b[1;32m      5\u001b[0m \u001b[0;34m\u001b[0m\u001b[0m\n",
      "\u001b[0;31mTypeError\u001b[0m: unsupported operand type(s) for +: 'int' and 'str'"
     ]
    }
   ],
   "source": [
    "divide_by(0)"
   ]
  },
  {
   "cell_type": "markdown",
   "metadata": {},
   "source": [
    "We can, however, also include the `TypeError` in our except statement. The syntax for handling multiple error types in our except statement, is just the `except` keyword and then a tuple with all exceptions we want handled by the except clause:"
   ]
  },
  {
   "cell_type": "code",
   "execution_count": 142,
   "metadata": {},
   "outputs": [],
   "source": [
    "def divide_by(number):\n",
    "    try:\n",
    "        1 + \"1\"\n",
    "        #print(100 / number)\n",
    "        \n",
    "    except (ZeroDivisionError, TypeError):\n",
    "        print(\"Also handles TypeErrors!\")"
   ]
  },
  {
   "cell_type": "code",
   "execution_count": 141,
   "metadata": {},
   "outputs": [
    {
     "name": "stdout",
     "output_type": "stream",
     "text": [
      "Now also handles TypeErrors!\n"
     ]
    }
   ],
   "source": [
    "divide_by(0)"
   ]
  },
  {
   "cell_type": "markdown",
   "metadata": {},
   "source": [
    "Handling exceptions is an essential part of programming, and there is way more to be said in the subject. But we won't go into it in more detail here. [But you can check out the official documentation of the subject here!](https://docs.python.org/3/tutorial/errors.html)"
   ]
  },
  {
   "cell_type": "code",
   "execution_count": null,
   "metadata": {},
   "outputs": [],
   "source": []
  },
  {
   "cell_type": "code",
   "execution_count": null,
   "metadata": {},
   "outputs": [],
   "source": []
  },
  {
   "cell_type": "code",
   "execution_count": null,
   "metadata": {},
   "outputs": [],
   "source": []
  },
  {
   "cell_type": "code",
   "execution_count": null,
   "metadata": {},
   "outputs": [],
   "source": []
  },
  {
   "cell_type": "code",
   "execution_count": null,
   "metadata": {},
   "outputs": [],
   "source": []
  }
 ],
 "metadata": {
  "kernelspec": {
   "display_name": "Python 3",
   "language": "python",
   "name": "python3"
  },
  "language_info": {
   "codemirror_mode": {
    "name": "ipython",
    "version": 3
   },
   "file_extension": ".py",
   "mimetype": "text/x-python",
   "name": "python",
   "nbconvert_exporter": "python",
   "pygments_lexer": "ipython3",
   "version": "3.8.5"
  },
  "toc": {
   "base_numbering": "8",
   "nav_menu": {
    "height": "425.333px",
    "width": "228.333px"
   },
   "number_sections": false,
   "sideBar": true,
   "skip_h1_title": true,
   "title_cell": "Table of Contents",
   "title_sidebar": "Contents",
   "toc_cell": true,
   "toc_position": {},
   "toc_section_display": true,
   "toc_window_display": false
  }
 },
 "nbformat": 4,
 "nbformat_minor": 4
}
