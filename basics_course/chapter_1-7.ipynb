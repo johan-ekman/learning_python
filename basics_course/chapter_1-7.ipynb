{
 "cells": [
  {
   "cell_type": "markdown",
   "metadata": {},
   "source": [
    "# An Introduction to Python, part 1 (lessons 1-7)"
   ]
  },
  {
   "cell_type": "markdown",
   "metadata": {
    "toc": true
   },
   "source": [
    "<h1>Table of Contents<span class=\"tocSkip\"></span></h1>\n",
    "<div class=\"toc\"><ul class=\"toc-item\"><li><span><a href=\"#1-Values\" data-toc-modified-id=\"1-Values-1\">1 Values</a></span><ul class=\"toc-item\"><li><span><a href=\"#1.1-Integers\" data-toc-modified-id=\"1.1-Integers-1.1\">1.1 Integers</a></span></li><li><span><a href=\"#1.2-Floats\" data-toc-modified-id=\"1.2-Floats-1.2\">1.2 Floats</a></span></li><li><span><a href=\"#1.3-String-values\" data-toc-modified-id=\"1.3-String-values-1.3\">1.3 String values</a></span></li><li><span><a href=\"#1.4-Boolean-values\" data-toc-modified-id=\"1.4-Boolean-values-1.4\">1.4 Boolean values</a></span></li><li><span><a href=\"#1.5-The-None-value\" data-toc-modified-id=\"1.5-The-None-value-1.5\">1.5 The None value</a></span></li></ul></li><li><span><a href=\"#2-Expressions-and-operators\" data-toc-modified-id=\"2-Expressions-and-operators-2\">2 Expressions and operators</a></span><ul class=\"toc-item\"><li><span><a href=\"#2.1-Order-of-operations\" data-toc-modified-id=\"2.1-Order-of-operations-2.1\">2.1 Order of operations</a></span><ul class=\"toc-item\"><li><span><a href=\"#2.1.1-(Optional)-Deep-dive-into-Order-of-Operations\" data-toc-modified-id=\"2.1.1-(Optional)-Deep-dive-into-Order-of-Operations-2.1.1\">2.1.1 (Optional) Deep dive into Order of Operations</a></span></li><li><span><a href=\"#2.1.2-Exercise-–-where-to-put-the-parenthesis?\" data-toc-modified-id=\"2.1.2-Exercise-–-where-to-put-the-parenthesis?-2.1.2\">2.1.2 Exercise – where to put the parenthesis?</a></span></li></ul></li><li><span><a href=\"#2.2-Concatination\" data-toc-modified-id=\"2.2-Concatination-2.2\">2.2 Concatination</a></span></li></ul></li><li><span><a href=\"#3-Variables-and-statements\" data-toc-modified-id=\"3-Variables-and-statements-3\">3 Variables and statements</a></span><ul class=\"toc-item\"><li><ul class=\"toc-item\"><li><span><a href=\"#3.0.1-Quick-sidenote-–-the-print()-function\" data-toc-modified-id=\"3.0.1-Quick-sidenote-–-the-print()-function-3.0.1\">3.0.1 Quick sidenote – the <code>print()</code> function</a></span></li></ul></li><li><span><a href=\"#3.1-Assigning-variables\" data-toc-modified-id=\"3.1-Assigning-variables-3.1\">3.1 Assigning variables</a></span></li><li><span><a href=\"#3.2-Variables-and-strings\" data-toc-modified-id=\"3.2-Variables-and-strings-3.2\">3.2 Variables and strings</a></span><ul class=\"toc-item\"><li><span><a href=\"#3.2.1-Long-strings\" data-toc-modified-id=\"3.2.1-Long-strings-3.2.1\">3.2.1 Long strings</a></span></li><li><span><a href=\"#3.2.2-String-formatting-–-inserting-variables-into-string-values\" data-toc-modified-id=\"3.2.2-String-formatting-–-inserting-variables-into-string-values-3.2.2\">3.2.2 String formatting – inserting variables into string values</a></span></li><li><span><a href=\"#3.2.3-(Deepdive)-–-Long-strings,-string-literals-and-the-escape-character-\\\" data-toc-modified-id=\"3.2.3-(Deepdive)-–-Long-strings,-string-literals-and-the-escape-character-\\-3.2.3\">3.2.3 (Deepdive) – Long strings, string literals and the escape character <code>\\</code></a></span><ul class=\"toc-item\"><li><span><a href=\"#3.2.3.1-More-on-tripple-quote-strings\" data-toc-modified-id=\"3.2.3.1-More-on-tripple-quote-strings-3.2.3.1\">3.2.3.1 More on tripple quote strings</a></span></li><li><span><a href=\"#3.2.3.2-String-literals-and-the-backslash-\\\" data-toc-modified-id=\"3.2.3.2-String-literals-and-the-backslash-\\-3.2.3.2\">3.2.3.2 String literals and the backslash <code>\\</code></a></span></li><li><span><a href=\"#3.2.3.3-Exercise-–-write-a-letter!\" data-toc-modified-id=\"3.2.3.3-Exercise-–-write-a-letter!-3.2.3.3\">3.2.3.3 Exercise – write a letter!</a></span></li></ul></li></ul></li><li><span><a href=\"#3.3-Changing-variables-–-Operators-and-assignment-statements\" data-toc-modified-id=\"3.3-Changing-variables-–-Operators-and-assignment-statements-3.3\">3.3 Changing variables – Operators and assignment statements</a></span><ul class=\"toc-item\"><li><span><a href=\"#3.3.1-Augmented-assignment-operators\" data-toc-modified-id=\"3.3.1-Augmented-assignment-operators-3.3.1\">3.3.1 Augmented assignment operators</a></span></li></ul></li><li><span><a href=\"#3.4-Multiple-assignment-statements\" data-toc-modified-id=\"3.4-Multiple-assignment-statements-3.4\">3.4 Multiple assignment statements</a></span></li><li><span><a href=\"#3.5-(Optional)-More-about-readability-–-the-zen-of-Python\" data-toc-modified-id=\"3.5-(Optional)-More-about-readability-–-the-zen-of-Python-3.5\">3.5 (Optional) More about readability – the zen of Python</a></span></li><li><span><a href=\"#3.6-Exercise-–-string-concatination-and-variables\" data-toc-modified-id=\"3.6-Exercise-–-string-concatination-and-variables-3.6\">3.6 Exercise – string concatination and variables</a></span></li></ul></li><li><span><a href=\"#4-Comparing-values\" data-toc-modified-id=\"4-Comparing-values-4\">4 Comparing values</a></span><ul class=\"toc-item\"><li><span><a href=\"#4.1-Comparison-operators\" data-toc-modified-id=\"4.1-Comparison-operators-4.1\">4.1 Comparison operators</a></span></li><li><span><a href=\"#4.2-Boolean-operators\" data-toc-modified-id=\"4.2-Boolean-operators-4.2\">4.2 Boolean operators</a></span><ul class=\"toc-item\"><li><span><a href=\"#4.2.1-The-and-operator\" data-toc-modified-id=\"4.2.1-The-and-operator-4.2.1\">4.2.1 The <code>and</code> operator</a></span></li><li><span><a href=\"#4.2.2-The-or-operator\" data-toc-modified-id=\"4.2.2-The-or-operator-4.2.2\">4.2.2 The <code>or</code> operator</a></span></li><li><span><a href=\"#4.2.3-The-not-operator\" data-toc-modified-id=\"4.2.3-The-not-operator-4.2.3\">4.2.3 The <code>not</code> operator</a></span></li><li><span><a href=\"#4.2.4-Boolean-operators-–-examples\" data-toc-modified-id=\"4.2.4-Boolean-operators-–-examples-4.2.4\">4.2.4 Boolean operators – examples</a></span></li></ul></li><li><span><a href=\"#4.3-Exercise-–-insert-the-correct-operators\" data-toc-modified-id=\"4.3-Exercise-–-insert-the-correct-operators-4.3\">4.3 Exercise – insert the correct operators</a></span></li></ul></li><li><span><a href=\"#5-Flow-Control-Statements\" data-toc-modified-id=\"5-Flow-Control-Statements-5\">5 Flow Control Statements</a></span><ul class=\"toc-item\"><li><span><a href=\"#5.1-The-if-statement\" data-toc-modified-id=\"5.1-The-if-statement-5.1\">5.1 The <code>if</code>-statement</a></span></li><li><span><a href=\"#5.2-The-else-statement\" data-toc-modified-id=\"5.2-The-else-statement-5.2\">5.2 The <code>else</code>-statement</a></span></li><li><span><a href=\"#5.3-The-elif-statement\" data-toc-modified-id=\"5.3-The-elif-statement-5.3\">5.3 The <code>elif</code>-statement</a></span></li><li><span><a href=\"#5.4-(Optional)-&quot;Truthy&quot;-and-&quot;Falsy&quot;-values\" data-toc-modified-id=\"5.4-(Optional)-&quot;Truthy&quot;-and-&quot;Falsy&quot;-values-5.4\">5.4 (Optional) \"Truthy\" and \"Falsy\" values</a></span></li><li><span><a href=\"#5.5-Exercise-–-type-the-end-of-the-story!\" data-toc-modified-id=\"5.5-Exercise-–-type-the-end-of-the-story!-5.5\">5.5 Exercise – type the end of the story!</a></span></li></ul></li><li><span><a href=\"#6-Functions\" data-toc-modified-id=\"6-Functions-6\">6 Functions</a></span><ul class=\"toc-item\"><li><span><a href=\"#6.1-Definitions-and-terminology\" data-toc-modified-id=\"6.1-Definitions-and-terminology-6.1\">6.1 Definitions and terminology</a></span></li><li><span><a href=\"#6.2-Built-in-Functions\" data-toc-modified-id=\"6.2-Built-in-Functions-6.2\">6.2 Built-in Functions</a></span></li><li><span><a href=\"#6.3-The-standard-library-and-modules\" data-toc-modified-id=\"6.3-The-standard-library-and-modules-6.3\">6.3 The standard library and modules</a></span><ul class=\"toc-item\"><li><span><a href=\"#6.3.1-Exercise-–-the-coin-toss\" data-toc-modified-id=\"6.3.1-Exercise-–-the-coin-toss-6.3.1\">6.3.1 Exercise – the coin toss</a></span></li></ul></li><li><span><a href=\"#6.4-Third-party-modules\" data-toc-modified-id=\"6.4-Third-party-modules-6.4\">6.4 Third party modules</a></span></li><li><span><a href=\"#6.5-Writing-your-own-functions\" data-toc-modified-id=\"6.5-Writing-your-own-functions-6.5\">6.5 Writing your own functions</a></span></li><li><span><a href=\"#6.6-Arguments\" data-toc-modified-id=\"6.6-Arguments-6.6\">6.6 Arguments</a></span><ul class=\"toc-item\"><li><span><a href=\"#6.6.1-Exercise-–-truth-teller-function\" data-toc-modified-id=\"6.6.1-Exercise-–-truth-teller-function-6.6.1\">6.6.1 Exercise – truth-teller function</a></span></li></ul></li><li><span><a href=\"#6.7-(Optional)-Styling-conventions-writing-functions\" data-toc-modified-id=\"6.7-(Optional)-Styling-conventions-writing-functions-6.7\">6.7 (Optional) Styling conventions writing functions</a></span></li><li><span><a href=\"#6.8-The-return-statement\" data-toc-modified-id=\"6.8-The-return-statement-6.8\">6.8 The <code>return</code> statement</a></span></li><li><span><a href=\"#6.9-Exercise-–-the-currency-converter\" data-toc-modified-id=\"6.9-Exercise-–-the-currency-converter-6.9\">6.9 Exercise – the currency converter</a></span></li><li><span><a href=\"#6.10-Bulletpoints\" data-toc-modified-id=\"6.10-Bulletpoints-6.10\">6.10 Bulletpoints</a></span></li></ul></li><li><span><a href=\"#7-Local-and-global-scopes\" data-toc-modified-id=\"7-Local-and-global-scopes-7\">7 Local and global scopes</a></span><ul class=\"toc-item\"><li><span><a href=\"#7.1-Global-code-cannot-use-local-variables\" data-toc-modified-id=\"7.1-Global-code-cannot-use-local-variables-7.1\">7.1 Global code cannot use local variables</a></span></li><li><span><a href=\"#7.2-Global-variables-can-be-used-in-local-scopes\" data-toc-modified-id=\"7.2-Global-variables-can-be-used-in-local-scopes-7.2\">7.2 Global variables can be used in local scopes</a></span></li><li><span><a href=\"#7.3-Local-scopes-can't-use-variables-in-other-local-scopes\" data-toc-modified-id=\"7.3-Local-scopes-can't-use-variables-in-other-local-scopes-7.3\">7.3 Local scopes can't use variables in other local scopes</a></span></li><li><span><a href=\"#7.4-Exercise-–-why-won't-the-code-work?\" data-toc-modified-id=\"7.4-Exercise-–-why-won't-the-code-work?-7.4\">7.4 Exercise – why won't the code work?</a></span></li></ul></li></ul></div>"
   ]
  },
  {
   "cell_type": "markdown",
   "metadata": {},
   "source": [
    "**Introduction**"
   ]
  },
  {
   "cell_type": "markdown",
   "metadata": {},
   "source": [
    "Python is a programming language. \"Language\" is a pretty good analogy since python, just like, say, French, consists of some basic foundations – there is the basic \"grammar\" and the vocabulary. If you learn the basics of a language, you will hopefully know enough to experiment with it! Here, we will therefore start to look at the basic stuff in Python. \n",
    "\n",
    "The analogy of learning a language also reflects another important aspect. Learning programming, just as learning a language, from scratch requires time and practice. This notebook will (hopefully) give you the foundation to stand on and enough guidance to start experimenting. But to fully learn Python, you will need to invest time."
   ]
  },
  {
   "cell_type": "markdown",
   "metadata": {},
   "source": [
    "**Words of wisdom**"
   ]
  },
  {
   "cell_type": "markdown",
   "metadata": {},
   "source": [
    "You don't need to be a professional programmer to solve various problems with programming. Often, some simple Python code will do the trick. Going through this notebook, you may sometimes get completely stuck. In those times I recommend that you continue try this procedure:\n",
    "\n",
    "1. Remember that it isn't learning rocket science, and it isn't learning math. You are not stupid!\n",
    "2. If stuck, try reading again and experiment with what you've read\n",
    "3. Google it! Even though I find the company Google terrifying, their search engine is a fantastic way to help you move forward when stuck! Try to put you problem into words and google it!\n",
    "\n",
    "Also, going through this notebook, you might think there is a little to much emphasis on definitions of various Python concepts. But this is so that when you google stuff to find out why code you wrote didn't work, you'll be familiar with [Python terminology](https://www.w3schools.com/python/python_ref_glossary.asp). You will hopefully have som idea of which concept you want to know more about. One aim with this notebook is to be a reference to return to if you need a quick update on a particular subject.\n"
   ]
  },
  {
   "cell_type": "markdown",
   "metadata": {},
   "source": [
    "**Working in a Jupyter Notebook**"
   ]
  },
  {
   "cell_type": "markdown",
   "metadata": {},
   "source": [
    "Jupyter Notebooks are great for learning. It is really easy to experiment with code. I encourage you to try out the concepts you're about to read about. Here is a Jupyter Notebook cheat-sheet for hotkeys to keep in mind working through this course:\n",
    "\n",
    "- The keys `A` and `B` creates new cells in your notebook. `A` creates a cell above the cell currently selected, and `B` creates one below. Each newly created cell is by default a code cell\n",
    "- `M` sets a cell into a markdown (text input) cell\n",
    "- `Y` sets a cell into a code input cell\n",
    "- <kbd>Shift ⇧</kbd>+<kbd>Enter ↵</kbd> runs a cell, showing you the output of your code (or markdown)\n",
    "- `D,D` (that is, the `D` key typed twice swiftly) will remove the selected cell\n",
    "- `Z` will undo deleted cells (note that this won't work if you're editing within a cell)\n"
   ]
  },
  {
   "cell_type": "markdown",
   "metadata": {},
   "source": [
    "If you'd like to try it, try removing this empty cell (click on the square brackets `[ ]:` to the left of the cell. This will select the cell, and then type `D,D` which will remove it):"
   ]
  },
  {
   "cell_type": "code",
   "execution_count": null,
   "metadata": {},
   "outputs": [],
   "source": [
    "# try to remove this cell!"
   ]
  },
  {
   "cell_type": "markdown",
   "metadata": {},
   "source": [
    "The square brackets indicates that it's a code cell. Try to select this following cell and press `M` on your keyboard. This will make it into a markdown cell, which only displays text in markdown:"
   ]
  },
  {
   "cell_type": "code",
   "execution_count": null,
   "metadata": {},
   "outputs": [],
   "source": [
    "# Try to reformat this into a markdown cell"
   ]
  },
  {
   "cell_type": "markdown",
   "metadata": {},
   "source": [
    "Now, try to add some extra cells below this one (select this cell and press `B` and it will add cells below the selected cell)!"
   ]
  },
  {
   "cell_type": "markdown",
   "metadata": {},
   "source": [
    "**About this course (full disclosure)**"
   ]
  },
  {
   "cell_type": "markdown",
   "metadata": {},
   "source": [
    "This notebook's content has been fully created by me – Johan Ekman. I am working full time as a data journalist at one of Sweden's biggest news papers, and Python is one of my main tools in every day work. But I don't consider myself a professional programmer. This notebook is based on my knowledge of the language, and there may be some explanation that is not 100 per cent accurate. If you spot any errors or misleading explanations, please let me know at johan.h.ekman@gmail.com.\n",
    "\n",
    "Also, a big inspiration was Al Sweigart's course [Automate the boring stuff with Python](https://automatetheboringstuff.com/). I highly recommend it!"
   ]
  },
  {
   "cell_type": "markdown",
   "metadata": {},
   "source": [
    "---"
   ]
  },
  {
   "cell_type": "markdown",
   "metadata": {},
   "source": [
    "## 1 Values"
   ]
  },
  {
   "cell_type": "markdown",
   "metadata": {},
   "source": [
    "The most basic structures in Python are values. All programming aims to do something with some values. There are five basic value types:\n",
    "\n",
    "- Integers\n",
    "- Floating points (i.e floats)\n",
    "- Strings\n",
    "- Booleans\n",
    "- Nonetype (or just the `None` value)"
   ]
  },
  {
   "cell_type": "markdown",
   "metadata": {},
   "source": [
    "### 1.1 Integers"
   ]
  },
  {
   "cell_type": "markdown",
   "metadata": {},
   "source": [
    "Integers are just plain numbers:"
   ]
  },
  {
   "cell_type": "code",
   "execution_count": 2,
   "metadata": {
    "collapsed": true,
    "jupyter": {
     "outputs_hidden": true
    }
   },
   "outputs": [
    {
     "data": {
      "text/plain": [
       "10"
      ]
     },
     "execution_count": 2,
     "metadata": {},
     "output_type": "execute_result"
    }
   ],
   "source": [
    "10"
   ]
  },
  {
   "cell_type": "markdown",
   "metadata": {},
   "source": [
    "We can always check what type of value we have with the `type()` function (more on functions in chapter 6):"
   ]
  },
  {
   "cell_type": "code",
   "execution_count": 3,
   "metadata": {
    "collapsed": true,
    "jupyter": {
     "outputs_hidden": true
    }
   },
   "outputs": [
    {
     "data": {
      "text/plain": [
       "int"
      ]
     },
     "execution_count": 3,
     "metadata": {},
     "output_type": "execute_result"
    }
   ],
   "source": [
    "type(10)"
   ]
  },
  {
   "cell_type": "markdown",
   "metadata": {},
   "source": [
    "`int` for integer! We can do negative numbers as well:"
   ]
  },
  {
   "cell_type": "code",
   "execution_count": 2,
   "metadata": {
    "collapsed": true,
    "jupyter": {
     "outputs_hidden": true
    }
   },
   "outputs": [
    {
     "data": {
      "text/plain": [
       "-10"
      ]
     },
     "execution_count": 2,
     "metadata": {},
     "output_type": "execute_result"
    }
   ],
   "source": [
    "-10"
   ]
  },
  {
   "cell_type": "markdown",
   "metadata": {},
   "source": [
    "Or we can do as large numbers we'd like:"
   ]
  },
  {
   "cell_type": "code",
   "execution_count": 3,
   "metadata": {
    "collapsed": true,
    "jupyter": {
     "outputs_hidden": true
    }
   },
   "outputs": [
    {
     "data": {
      "text/plain": [
       "3243667746"
      ]
     },
     "execution_count": 3,
     "metadata": {},
     "output_type": "execute_result"
    }
   ],
   "source": [
    "3243667746"
   ]
  },
  {
   "cell_type": "markdown",
   "metadata": {},
   "source": [
    "In Python, there is a constant quest to make the language more readable (more about this later in the course). Therefore, here is a useful trick for typing really big integers: you can include an underscore `_` to make the integer more readable. So instead of:"
   ]
  },
  {
   "cell_type": "code",
   "execution_count": 4,
   "metadata": {
    "collapsed": true,
    "jupyter": {
     "outputs_hidden": true
    }
   },
   "outputs": [
    {
     "data": {
      "text/plain": [
       "3243667746"
      ]
     },
     "execution_count": 4,
     "metadata": {},
     "output_type": "execute_result"
    }
   ],
   "source": [
    "3243667746"
   ]
  },
  {
   "cell_type": "markdown",
   "metadata": {},
   "source": [
    "...we can type:"
   ]
  },
  {
   "cell_type": "code",
   "execution_count": 5,
   "metadata": {
    "collapsed": true,
    "jupyter": {
     "outputs_hidden": true
    }
   },
   "outputs": [
    {
     "data": {
      "text/plain": [
       "3243667746"
      ]
     },
     "execution_count": 5,
     "metadata": {},
     "output_type": "execute_result"
    }
   ],
   "source": [
    "3_243_667_746"
   ]
  },
  {
   "cell_type": "markdown",
   "metadata": {},
   "source": [
    "This makes it easier to see that the number is around three billion!"
   ]
  },
  {
   "cell_type": "markdown",
   "metadata": {},
   "source": [
    "### 1.2 Floats"
   ]
  },
  {
   "cell_type": "code",
   "execution_count": 4,
   "metadata": {
    "collapsed": true,
    "jupyter": {
     "outputs_hidden": true
    }
   },
   "outputs": [
    {
     "data": {
      "text/plain": [
       "10.5"
      ]
     },
     "execution_count": 4,
     "metadata": {},
     "output_type": "execute_result"
    }
   ],
   "source": [
    "10.5 # float"
   ]
  },
  {
   "cell_type": "code",
   "execution_count": 5,
   "metadata": {
    "collapsed": true,
    "jupyter": {
     "outputs_hidden": true
    }
   },
   "outputs": [
    {
     "data": {
      "text/plain": [
       "float"
      ]
     },
     "execution_count": 5,
     "metadata": {},
     "output_type": "execute_result"
    }
   ],
   "source": [
    "type(10.5)"
   ]
  },
  {
   "cell_type": "markdown",
   "metadata": {},
   "source": [
    " A float is simply a decimal number. \"Float\" is short for \"floating point number\"."
   ]
  },
  {
   "cell_type": "markdown",
   "metadata": {},
   "source": [
    "### 1.3 String values"
   ]
  },
  {
   "cell_type": "code",
   "execution_count": 6,
   "metadata": {
    "collapsed": true,
    "jupyter": {
     "outputs_hidden": true
    }
   },
   "outputs": [
    {
     "data": {
      "text/plain": [
       "'Hello world!'"
      ]
     },
     "execution_count": 6,
     "metadata": {},
     "output_type": "execute_result"
    }
   ],
   "source": [
    "\"Hello world!\""
   ]
  },
  {
   "cell_type": "code",
   "execution_count": 7,
   "metadata": {
    "collapsed": true,
    "jupyter": {
     "outputs_hidden": true
    }
   },
   "outputs": [
    {
     "data": {
      "text/plain": [
       "str"
      ]
     },
     "execution_count": 7,
     "metadata": {},
     "output_type": "execute_result"
    }
   ],
   "source": [
    "type(\"Hello world!\")"
   ]
  },
  {
   "cell_type": "markdown",
   "metadata": {},
   "source": [
    "String values can be typed with either single quotation marks `''`, or double `\"\"`:"
   ]
  },
  {
   "cell_type": "code",
   "execution_count": 4,
   "metadata": {
    "collapsed": true,
    "jupyter": {
     "outputs_hidden": true
    }
   },
   "outputs": [
    {
     "data": {
      "text/plain": [
       "str"
      ]
     },
     "execution_count": 4,
     "metadata": {},
     "output_type": "execute_result"
    }
   ],
   "source": [
    "type('Hello world!')"
   ]
  },
  {
   "cell_type": "markdown",
   "metadata": {},
   "source": [
    "### 1.4 Boolean values"
   ]
  },
  {
   "cell_type": "markdown",
   "metadata": {},
   "source": [
    "Booleans indicates \"truthiness\". Simply if something is `True` or `False`."
   ]
  },
  {
   "cell_type": "code",
   "execution_count": 8,
   "metadata": {
    "collapsed": true,
    "jupyter": {
     "outputs_hidden": true
    }
   },
   "outputs": [
    {
     "data": {
      "text/plain": [
       "True"
      ]
     },
     "execution_count": 8,
     "metadata": {},
     "output_type": "execute_result"
    }
   ],
   "source": [
    "True"
   ]
  },
  {
   "cell_type": "code",
   "execution_count": 10,
   "metadata": {
    "collapsed": true,
    "jupyter": {
     "outputs_hidden": true
    }
   },
   "outputs": [
    {
     "data": {
      "text/plain": [
       "False"
      ]
     },
     "execution_count": 10,
     "metadata": {},
     "output_type": "execute_result"
    }
   ],
   "source": [
    "False"
   ]
  },
  {
   "cell_type": "code",
   "execution_count": 9,
   "metadata": {
    "collapsed": true,
    "jupyter": {
     "outputs_hidden": true
    }
   },
   "outputs": [
    {
     "data": {
      "text/plain": [
       "bool"
      ]
     },
     "execution_count": 9,
     "metadata": {},
     "output_type": "execute_result"
    }
   ],
   "source": [
    "type(True)"
   ]
  },
  {
   "cell_type": "markdown",
   "metadata": {},
   "source": [
    "Please note that Python is a literal programming language, the syntax is important. The value `False` is spelled like so, with a capital `F`. Spelling it `false` will produce an error:"
   ]
  },
  {
   "cell_type": "code",
   "execution_count": 13,
   "metadata": {
    "collapsed": true,
    "jupyter": {
     "outputs_hidden": true
    }
   },
   "outputs": [
    {
     "data": {
      "text/plain": [
       "False"
      ]
     },
     "execution_count": 13,
     "metadata": {},
     "output_type": "execute_result"
    }
   ],
   "source": [
    "False"
   ]
  },
  {
   "cell_type": "code",
   "execution_count": 14,
   "metadata": {
    "collapsed": true,
    "jupyter": {
     "outputs_hidden": true
    }
   },
   "outputs": [
    {
     "ename": "NameError",
     "evalue": "name 'false' is not defined",
     "output_type": "error",
     "traceback": [
      "\u001b[0;31m---------------------------------------------------------------------------\u001b[0m",
      "\u001b[0;31mNameError\u001b[0m                                 Traceback (most recent call last)",
      "\u001b[0;32m<ipython-input-14-b73d74fcede9>\u001b[0m in \u001b[0;36m<module>\u001b[0;34m\u001b[0m\n\u001b[0;32m----> 1\u001b[0;31m \u001b[0mfalse\u001b[0m\u001b[0;34m\u001b[0m\u001b[0;34m\u001b[0m\u001b[0m\n\u001b[0m",
      "\u001b[0;31mNameError\u001b[0m: name 'false' is not defined"
     ]
    }
   ],
   "source": [
    "false"
   ]
  },
  {
   "cell_type": "markdown",
   "metadata": {},
   "source": [
    "### 1.5 The None value"
   ]
  },
  {
   "cell_type": "markdown",
   "metadata": {},
   "source": [
    "In programming, there are also values to indicate non-values, or \"nothingness\". In Python, the most common one is the `None` value, or the `NoneType`."
   ]
  },
  {
   "cell_type": "code",
   "execution_count": 143,
   "metadata": {
    "collapsed": true,
    "jupyter": {
     "outputs_hidden": true
    }
   },
   "outputs": [],
   "source": [
    "None"
   ]
  },
  {
   "cell_type": "markdown",
   "metadata": {},
   "source": [
    "Please note that running above cell produces no output. That is because this value indicates no input. There is simply nothing to return from a non-value.\n",
    "\n",
    "The reason why such a valuetype is important is rather abstract. Let's just say that it is sometimes crucial in programming to be able to signal that nothing exists, or that nothing happend when executing your code."
   ]
  },
  {
   "cell_type": "code",
   "execution_count": 18,
   "metadata": {
    "collapsed": true,
    "jupyter": {
     "outputs_hidden": true
    }
   },
   "outputs": [
    {
     "data": {
      "text/plain": [
       "NoneType"
      ]
     },
     "execution_count": 18,
     "metadata": {},
     "output_type": "execute_result"
    }
   ],
   "source": [
    "type(None)"
   ]
  },
  {
   "cell_type": "markdown",
   "metadata": {},
   "source": [
    "---"
   ]
  },
  {
   "cell_type": "markdown",
   "metadata": {},
   "source": [
    "## 2 Expressions and operators"
   ]
  },
  {
   "cell_type": "markdown",
   "metadata": {},
   "source": [
    "One of Python's strengths is that it is both easy to read and to write. This is because we use words in our code that makes it easier for us humans to read and understand what is going on. Instead of, you know, only reading ones and zeros and not understanding anything. \n",
    "\n",
    "But the computer only uses ones and zeros, it needs our code in a language that it can process. This means that our Python language has to to be translated into a language that the computer then can read. This process is refered to as the interpretation of our code. And **the interpreter** is the computer reading our Python code and then translating it to \"machine language\", before executing it.\n",
    "\n",
    "The most basic form of \"instruction\" you can give your computer – you can give the interpreter – is an **expression**. Expressions always evaluates, they always reduce, into a single value. This means that giving the interpreter a single value is an expression:"
   ]
  },
  {
   "cell_type": "markdown",
   "metadata": {},
   "source": [
    "(Below, you see examples of **comments** in Python code. Everything that follows the `#` sign will be completely ignored by the interpreter. This is how you write comments in your code – to explain stuff without ruining your output! But it is also used to just exclude parts in your code for whatever reason)"
   ]
  },
  {
   "cell_type": "code",
   "execution_count": 144,
   "metadata": {
    "collapsed": true,
    "jupyter": {
     "outputs_hidden": true
    }
   },
   "outputs": [
    {
     "data": {
      "text/plain": [
       "3"
      ]
     },
     "execution_count": 144,
     "metadata": {},
     "output_type": "execute_result"
    }
   ],
   "source": [
    "3 # this is an expression"
   ]
  },
  {
   "cell_type": "markdown",
   "metadata": {},
   "source": [
    "But we can also let values interact with eachother in expressions, using **operators**. The most basic ones are the arithmetic operators (basically, math operations). For example:"
   ]
  },
  {
   "cell_type": "code",
   "execution_count": 3,
   "metadata": {
    "collapsed": true,
    "jupyter": {
     "outputs_hidden": true
    }
   },
   "outputs": [
    {
     "data": {
      "text/plain": [
       "2"
      ]
     },
     "execution_count": 3,
     "metadata": {},
     "output_type": "execute_result"
    }
   ],
   "source": [
    "1 + 1"
   ]
  },
  {
   "cell_type": "markdown",
   "metadata": {},
   "source": [
    "In the cell above, we have two integer values that we add together through the _addition operator_ `+`. Here is another one, the subtraction operator, `-`:"
   ]
  },
  {
   "cell_type": "code",
   "execution_count": 20,
   "metadata": {
    "collapsed": true,
    "jupyter": {
     "outputs_hidden": true
    }
   },
   "outputs": [
    {
     "data": {
      "text/plain": [
       "903"
      ]
     },
     "execution_count": 20,
     "metadata": {},
     "output_type": "execute_result"
    }
   ],
   "source": [
    "1235 - 332"
   ]
  },
  {
   "cell_type": "markdown",
   "metadata": {},
   "source": [
    "As you can see, we get an answer to the expression when we run the code. In this case, the integer 903. In Python, we say that the expression `1235 - 332` _returns_ the value 903.\n",
    "\n",
    "More examples of operators:"
   ]
  },
  {
   "cell_type": "code",
   "execution_count": 22,
   "metadata": {
    "collapsed": true,
    "jupyter": {
     "outputs_hidden": true
    }
   },
   "outputs": [
    {
     "data": {
      "text/plain": [
       "15"
      ]
     },
     "execution_count": 22,
     "metadata": {},
     "output_type": "execute_result"
    }
   ],
   "source": [
    "5 * 3 # multiplication"
   ]
  },
  {
   "cell_type": "code",
   "execution_count": 23,
   "metadata": {
    "collapsed": true,
    "jupyter": {
     "outputs_hidden": true
    }
   },
   "outputs": [
    {
     "data": {
      "text/plain": [
       "17.571428571428573"
      ]
     },
     "execution_count": 23,
     "metadata": {},
     "output_type": "execute_result"
    }
   ],
   "source": [
    "123 / 7 # division"
   ]
  },
  {
   "cell_type": "markdown",
   "metadata": {},
   "source": [
    "The division operator always returns a float value. Even if the result is even:"
   ]
  },
  {
   "cell_type": "code",
   "execution_count": 82,
   "metadata": {
    "collapsed": true,
    "jupyter": {
     "outputs_hidden": true
    }
   },
   "outputs": [
    {
     "data": {
      "text/plain": [
       "3.0"
      ]
     },
     "execution_count": 82,
     "metadata": {},
     "output_type": "execute_result"
    }
   ],
   "source": [
    "9 / 3"
   ]
  },
  {
   "cell_type": "markdown",
   "metadata": {},
   "source": [
    "We can evaluate longer expressions as well, containing more values:"
   ]
  },
  {
   "cell_type": "code",
   "execution_count": 4,
   "metadata": {
    "collapsed": true,
    "jupyter": {
     "outputs_hidden": true
    }
   },
   "outputs": [
    {
     "data": {
      "text/plain": [
       "50"
      ]
     },
     "execution_count": 4,
     "metadata": {},
     "output_type": "execute_result"
    }
   ],
   "source": [
    "2 + 4 + 3 + 41"
   ]
  },
  {
   "cell_type": "markdown",
   "metadata": {},
   "source": [
    "And we can also mix them:"
   ]
  },
  {
   "cell_type": "code",
   "execution_count": 5,
   "metadata": {
    "collapsed": true,
    "jupyter": {
     "outputs_hidden": true
    }
   },
   "outputs": [
    {
     "data": {
      "text/plain": [
       "-6"
      ]
     },
     "execution_count": 5,
     "metadata": {},
     "output_type": "execute_result"
    }
   ],
   "source": [
    "2 + 4 - 12"
   ]
  },
  {
   "cell_type": "markdown",
   "metadata": {},
   "source": [
    "### 2.1 Order of operations"
   ]
  },
  {
   "cell_type": "markdown",
   "metadata": {},
   "source": [
    "In Python, code is read by the interpreter in a specific manner. Before the code is run, the interpreter reads the code. It starts at the top of the code to the left, and then reads line by line to the right – one line at the time. But it will then run the code in a specific order depending on certain factors. For example, some operators take precendence over others. As an example:"
   ]
  },
  {
   "cell_type": "code",
   "execution_count": 6,
   "metadata": {
    "collapsed": true,
    "jupyter": {
     "outputs_hidden": true
    }
   },
   "outputs": [
    {
     "data": {
      "text/plain": [
       "16"
      ]
     },
     "execution_count": 6,
     "metadata": {},
     "output_type": "execute_result"
    }
   ],
   "source": [
    "1 + 3 * 5"
   ]
  },
  {
   "cell_type": "markdown",
   "metadata": {},
   "source": [
    "Some of you maybe expected the answer 20 (1 plus 3 equals 4, 4 times 5 equals 20). But since the multiplication operator takes precendence, the interpreter returns the value 16.\n",
    "\n",
    "Above, the code is read from left to right. The python interpreter sees the operators and then reads the operations in the expression a specific order. This is called the _order of operations_. This order is:"
   ]
  },
  {
   "cell_type": "markdown",
   "metadata": {},
   "source": [
    "1. Paranthesis\n",
    "2. Multiplication/division\n",
    "3. addition/subtraction"
   ]
  },
  {
   "cell_type": "markdown",
   "metadata": {},
   "source": [
    "For example:"
   ]
  },
  {
   "cell_type": "code",
   "execution_count": 7,
   "metadata": {
    "collapsed": true,
    "jupyter": {
     "outputs_hidden": true
    }
   },
   "outputs": [
    {
     "data": {
      "text/plain": [
       "20"
      ]
     },
     "execution_count": 7,
     "metadata": {},
     "output_type": "execute_result"
    }
   ],
   "source": [
    "(1 + 3) * 5"
   ]
  },
  {
   "cell_type": "markdown",
   "metadata": {},
   "source": [
    "Here, the interpreter reads the code, registeres the operators `()`, `+` and `*`. It then prioritises the code within the parenthesis (since code within parenthesis takes precedence), and then runs the resulting value `(1 + 3)` in the remaing operation `4 * 5`. "
   ]
  },
  {
   "cell_type": "markdown",
   "metadata": {},
   "source": [
    "**The Order of operations**\n",
    "\n",
    "```\n",
    "\n",
    "1. () Parenthesis\n",
    "2. ** Exponant\n",
    "3. *  Multiplication\n",
    "4. /  Division\n",
    "5. +  Addition\n",
    "6. -  Subtraction\n",
    "\n",
    "```"
   ]
  },
  {
   "cell_type": "markdown",
   "metadata": {},
   "source": [
    "Note that there are a whole bunch more of operators that also take precendence above themselves and above ones. But these will suffice for now. "
   ]
  },
  {
   "cell_type": "markdown",
   "metadata": {},
   "source": [
    "#### 2.1.1 (Optional) Deep dive into Order of Operations"
   ]
  },
  {
   "cell_type": "markdown",
   "metadata": {},
   "source": [
    "Let's experiment! (Remember that you can create your own cells in this notebook and try out on your own!)\n",
    "\n",
    "Take this expression, contains four values and three operators (`+`, `/` and `**`). If we run them as is:"
   ]
  },
  {
   "cell_type": "code",
   "execution_count": 34,
   "metadata": {
    "collapsed": true,
    "jupyter": {
     "outputs_hidden": true
    }
   },
   "outputs": [
    {
     "data": {
      "text/plain": [
       "3.0246913580246915"
      ]
     },
     "execution_count": 34,
     "metadata": {},
     "output_type": "execute_result"
    }
   ],
   "source": [
    "3 + 6 / 3 ** 5"
   ]
  },
  {
   "cell_type": "markdown",
   "metadata": {},
   "source": [
    "Let us now experiment with paranthesis at various places in the expression. Try to guess what will happen before you run the code:"
   ]
  },
  {
   "cell_type": "code",
   "execution_count": 35,
   "metadata": {
    "collapsed": true,
    "jupyter": {
     "outputs_hidden": true
    }
   },
   "outputs": [
    {
     "data": {
      "text/plain": [
       "0.037037037037037035"
      ]
     },
     "execution_count": 35,
     "metadata": {},
     "output_type": "execute_result"
    }
   ],
   "source": [
    "(3 + 6) / 3 ** 5"
   ]
  },
  {
   "cell_type": "markdown",
   "metadata": {},
   "source": [
    "Above, `(3 + 6)` is run first, which equals 9. Then `3 ** 5`, which equals 243. And finally, `9 / 243`"
   ]
  },
  {
   "cell_type": "code",
   "execution_count": 37,
   "metadata": {
    "collapsed": true,
    "jupyter": {
     "outputs_hidden": true
    }
   },
   "outputs": [
    {
     "data": {
      "text/plain": [
       "0.037037037037037035"
      ]
     },
     "execution_count": 37,
     "metadata": {},
     "output_type": "execute_result"
    }
   ],
   "source": [
    "9 / 243"
   ]
  },
  {
   "cell_type": "code",
   "execution_count": 39,
   "metadata": {
    "collapsed": true,
    "jupyter": {
     "outputs_hidden": true
    }
   },
   "outputs": [
    {
     "data": {
      "text/plain": [
       "35.0"
      ]
     },
     "execution_count": 39,
     "metadata": {},
     "output_type": "execute_result"
    }
   ],
   "source": [
    "3 + (6 / 3) ** 5"
   ]
  },
  {
   "cell_type": "markdown",
   "metadata": {},
   "source": [
    "Here, first `(6 / 3)`, which equals 2. Then, `2 ** 5`, equals 32. And finally, `3 + 32`, which is 35."
   ]
  },
  {
   "cell_type": "code",
   "execution_count": 42,
   "metadata": {
    "collapsed": true,
    "jupyter": {
     "outputs_hidden": true
    }
   },
   "outputs": [
    {
     "data": {
      "text/plain": [
       "243.0"
      ]
     },
     "execution_count": 42,
     "metadata": {},
     "output_type": "execute_result"
    }
   ],
   "source": [
    "((3 + 6) / 3) ** 5"
   ]
  },
  {
   "cell_type": "markdown",
   "metadata": {},
   "source": [
    "Here, there are parenthesis within parenthesis, also called nested parenthesis. Remember, the Python interpreter reads  the code from left to right. So it starts reading the parenthesis with its `(` furthest to the left. \n",
    "\n",
    "That is, the expression `(3 + 6) / 3`. \n",
    "\n",
    "Then it reads the encased parenthesis first (since it takes precedence over the `/` operator), `3 + 6` which is 9. \n",
    "\n",
    "Now, it divides the resulting value 9 with 3, equals 3.\n",
    "\n",
    "Finally, it exponates 3 with 5 (`3 ** 5`), which is 243."
   ]
  },
  {
   "cell_type": "markdown",
   "metadata": {},
   "source": [
    "#### 2.1.2 Exercise – where to put the parenthesis?"
   ]
  },
  {
   "cell_type": "markdown",
   "metadata": {},
   "source": [
    "Let's do a little exercise. I said in the introduction to this course that programming in Python isn't math. But here we have a small math exercise (sorry!). The goal here is to get you experimenting with the order of operations. We have this long chain of operations on values:"
   ]
  },
  {
   "cell_type": "code",
   "execution_count": 56,
   "metadata": {
    "collapsed": true,
    "jupyter": {
     "outputs_hidden": true
    }
   },
   "outputs": [
    {
     "data": {
      "text/plain": [
       "61.11666666666667"
      ]
     },
     "execution_count": 56,
     "metadata": {},
     "output_type": "execute_result"
    }
   ],
   "source": [
    "10 + 5 * 10 - 2 / 15 + 5 / 4 "
   ]
  },
  {
   "cell_type": "markdown",
   "metadata": {},
   "source": [
    "With no parenthesis, this expression evaluates to ~61.12. Try to include parenthesis to **get the answer 1.5 instead**. You will find the solution in the solutions.ipynb notebook. Use these cells below to experiment your way through:"
   ]
  },
  {
   "cell_type": "code",
   "execution_count": null,
   "metadata": {
    "collapsed": true,
    "jupyter": {
     "outputs_hidden": true
    }
   },
   "outputs": [],
   "source": []
  },
  {
   "cell_type": "code",
   "execution_count": null,
   "metadata": {
    "collapsed": true,
    "jupyter": {
     "outputs_hidden": true
    }
   },
   "outputs": [],
   "source": []
  },
  {
   "cell_type": "code",
   "execution_count": null,
   "metadata": {
    "collapsed": true,
    "jupyter": {
     "outputs_hidden": true
    }
   },
   "outputs": [],
   "source": []
  },
  {
   "cell_type": "code",
   "execution_count": null,
   "metadata": {
    "collapsed": true,
    "jupyter": {
     "outputs_hidden": true
    }
   },
   "outputs": [],
   "source": []
  },
  {
   "cell_type": "markdown",
   "metadata": {},
   "source": [
    "### 2.2 Concatination"
   ]
  },
  {
   "cell_type": "markdown",
   "metadata": {},
   "source": [
    "In Python, some operators can also be used in expressions with string values. Adding string values together by using the `+` operator is called _concatination_."
   ]
  },
  {
   "cell_type": "code",
   "execution_count": 145,
   "metadata": {
    "collapsed": true,
    "jupyter": {
     "outputs_hidden": true
    }
   },
   "outputs": [
    {
     "data": {
      "text/plain": [
       "'Hello world!'"
      ]
     },
     "execution_count": 145,
     "metadata": {},
     "output_type": "execute_result"
    }
   ],
   "source": [
    "\"Hello \" + \"world!\""
   ]
  },
  {
   "cell_type": "code",
   "execution_count": 44,
   "metadata": {
    "collapsed": true,
    "jupyter": {
     "outputs_hidden": true
    }
   },
   "outputs": [
    {
     "data": {
      "text/plain": [
       "'Hello world!'"
      ]
     },
     "execution_count": 44,
     "metadata": {},
     "output_type": "execute_result"
    }
   ],
   "source": [
    "\"H\" + \"ello world!\""
   ]
  },
  {
   "cell_type": "markdown",
   "metadata": {},
   "source": [
    "You can add two string values together, but you cant subtract them. This will lead to an error:"
   ]
  },
  {
   "cell_type": "code",
   "execution_count": 45,
   "metadata": {
    "collapsed": true,
    "jupyter": {
     "outputs_hidden": true
    }
   },
   "outputs": [
    {
     "ename": "TypeError",
     "evalue": "unsupported operand type(s) for -: 'str' and 'str'",
     "output_type": "error",
     "traceback": [
      "\u001b[0;31m---------------------------------------------------------------------------\u001b[0m",
      "\u001b[0;31mTypeError\u001b[0m                                 Traceback (most recent call last)",
      "\u001b[0;32m<ipython-input-45-f6f0cf4fba0c>\u001b[0m in \u001b[0;36m<module>\u001b[0;34m\u001b[0m\n\u001b[0;32m----> 1\u001b[0;31m \u001b[0;34m\"Hello world!\"\u001b[0m \u001b[0;34m-\u001b[0m \u001b[0;34m\"world!\"\u001b[0m\u001b[0;34m\u001b[0m\u001b[0;34m\u001b[0m\u001b[0m\n\u001b[0m",
      "\u001b[0;31mTypeError\u001b[0m: unsupported operand type(s) for -: 'str' and 'str'"
     ]
    }
   ],
   "source": [
    "\"Hello world!\" - \"world!\""
   ]
  },
  {
   "cell_type": "markdown",
   "metadata": {},
   "source": [
    "You can also use the multiplication operator on string values. This is called string replication (and is more of a curiosity than important to be honest; not widely used...)"
   ]
  },
  {
   "cell_type": "code",
   "execution_count": 46,
   "metadata": {
    "collapsed": true,
    "jupyter": {
     "outputs_hidden": true
    }
   },
   "outputs": [
    {
     "data": {
      "text/plain": [
       "'Hello world! Hello world! Hello world! Hello world! Hello world! Hello world! Hello world! Hello world! Hello world! Hello world! '"
      ]
     },
     "execution_count": 46,
     "metadata": {},
     "output_type": "execute_result"
    }
   ],
   "source": [
    "\"Hello world! \" * 10"
   ]
  },
  {
   "cell_type": "markdown",
   "metadata": {},
   "source": [
    "Note that in expressions with string values, order of operations is still in play:"
   ]
  },
  {
   "cell_type": "code",
   "execution_count": 47,
   "metadata": {
    "collapsed": true,
    "jupyter": {
     "outputs_hidden": true
    }
   },
   "outputs": [
    {
     "data": {
      "text/plain": [
       "'Hello world!!!!!!!!!!'"
      ]
     },
     "execution_count": 47,
     "metadata": {},
     "output_type": "execute_result"
    }
   ],
   "source": [
    "\"Hello world\" + \"!\" * 10"
   ]
  },
  {
   "cell_type": "code",
   "execution_count": 48,
   "metadata": {
    "collapsed": true,
    "jupyter": {
     "outputs_hidden": true
    }
   },
   "outputs": [
    {
     "data": {
      "text/plain": [
       "'Hello world! Hello world! Hello world! Hello world! Hello world! Hello world! Hello world! Hello world! Hello world! Hello world! '"
      ]
     },
     "execution_count": 48,
     "metadata": {},
     "output_type": "execute_result"
    }
   ],
   "source": [
    "(\"Hello world\" + \"! \") * 10"
   ]
  },
  {
   "cell_type": "markdown",
   "metadata": {},
   "source": [
    "## 3 Variables and statements"
   ]
  },
  {
   "cell_type": "markdown",
   "metadata": {},
   "source": [
    "#### 3.0.1 Quick sidenote – the `print()` function"
   ]
  },
  {
   "cell_type": "markdown",
   "metadata": {},
   "source": [
    "Below, we'll use the `print()` function. It takes any value within its parenthesis and \"prints\" it back to you. It is one (of many) of Python's _built-in functions_ (we will go through this thoroughly in chapter 6). In a Jupyter Notebook, this function is sort of redundant. In a notebook, the value being returned is always shown as the cell output when we run the code. For example:"
   ]
  },
  {
   "cell_type": "code",
   "execution_count": 19,
   "metadata": {
    "collapsed": true,
    "jupyter": {
     "outputs_hidden": true
    }
   },
   "outputs": [
    {
     "data": {
      "text/plain": [
       "3"
      ]
     },
     "execution_count": 19,
     "metadata": {},
     "output_type": "execute_result"
    }
   ],
   "source": [
    "3"
   ]
  },
  {
   "cell_type": "code",
   "execution_count": 20,
   "metadata": {
    "collapsed": true,
    "jupyter": {
     "outputs_hidden": true
    }
   },
   "outputs": [
    {
     "name": "stdout",
     "output_type": "stream",
     "text": [
      "3\n"
     ]
    }
   ],
   "source": [
    "print(3)"
   ]
  },
  {
   "cell_type": "markdown",
   "metadata": {},
   "source": [
    "However, it is a function that is used ALL THE TIME in Python, mostly for debugging code. Like when you want to know what value is behind a certain variable. \n",
    "\n",
    "For now, it is enough to know that it is a function, and that it just \"prints\" what ever value it is given to the user :)"
   ]
  },
  {
   "cell_type": "markdown",
   "metadata": {},
   "source": [
    "### 3.1 Assigning variables"
   ]
  },
  {
   "cell_type": "markdown",
   "metadata": {},
   "source": [
    "Now to another fundamental componant of Python – _variables_. \n",
    "\n",
    "Variables can maybe best be described as names we give to values in our code. This is done with the **assignment operator** `=`:"
   ]
  },
  {
   "cell_type": "code",
   "execution_count": 8,
   "metadata": {
    "collapsed": true,
    "jupyter": {
     "outputs_hidden": true
    }
   },
   "outputs": [],
   "source": [
    "number = 3"
   ]
  },
  {
   "cell_type": "markdown",
   "metadata": {},
   "source": [
    "Above, we _assign_ the name `number` to a value – the integer 3. This is called an **assignment statement** in python."
   ]
  },
  {
   "cell_type": "markdown",
   "metadata": {},
   "source": [
    "The variable name `number` is now registered in the computers memory and points to the integer value 3. It is sort of like a nametag! \n",
    "\n",
    "So, if we type `number` in our code, the value 3 will be returned!"
   ]
  },
  {
   "cell_type": "code",
   "execution_count": 51,
   "metadata": {
    "collapsed": true,
    "jupyter": {
     "outputs_hidden": true
    }
   },
   "outputs": [
    {
     "data": {
      "text/plain": [
       "3"
      ]
     },
     "execution_count": 51,
     "metadata": {},
     "output_type": "execute_result"
    }
   ],
   "source": [
    "number"
   ]
  },
  {
   "cell_type": "markdown",
   "metadata": {},
   "source": [
    "We can use our variables in expressions with operators:"
   ]
  },
  {
   "cell_type": "code",
   "execution_count": 52,
   "metadata": {
    "collapsed": true,
    "jupyter": {
     "outputs_hidden": true
    }
   },
   "outputs": [
    {
     "data": {
      "text/plain": [
       "15"
      ]
     },
     "execution_count": 52,
     "metadata": {},
     "output_type": "execute_result"
    }
   ],
   "source": [
    "number * 5"
   ]
  },
  {
   "cell_type": "markdown",
   "metadata": {},
   "source": [
    "The name of a variable is saved to the computers memory, in what's called the variables **namespace**. Namespaces are kept seperated so that the computer doesn't mix up what's what in your code. \n",
    "\n",
    "This means that naming variables in Python is bound by certain rules. For example, names cannot be seperated by blank space:"
   ]
  },
  {
   "cell_type": "code",
   "execution_count": 53,
   "metadata": {
    "collapsed": true,
    "jupyter": {
     "outputs_hidden": true
    }
   },
   "outputs": [
    {
     "ename": "SyntaxError",
     "evalue": "invalid syntax (<ipython-input-53-d7b288421347>, line 1)",
     "output_type": "error",
     "traceback": [
      "\u001b[0;36m  File \u001b[0;32m\"<ipython-input-53-d7b288421347>\"\u001b[0;36m, line \u001b[0;32m1\u001b[0m\n\u001b[0;31m    number one = 3\u001b[0m\n\u001b[0m           ^\u001b[0m\n\u001b[0;31mSyntaxError\u001b[0m\u001b[0;31m:\u001b[0m invalid syntax\n"
     ]
    }
   ],
   "source": [
    "number one = 3"
   ]
  },
  {
   "cell_type": "markdown",
   "metadata": {},
   "source": [
    "...or include special characters:"
   ]
  },
  {
   "cell_type": "code",
   "execution_count": 148,
   "metadata": {
    "collapsed": true,
    "jupyter": {
     "outputs_hidden": true
    }
   },
   "outputs": [
    {
     "ename": "SyntaxError",
     "evalue": "cannot assign to operator (<ipython-input-148-911e113b032f>, line 1)",
     "output_type": "error",
     "traceback": [
      "\u001b[0;36m  File \u001b[0;32m\"<ipython-input-148-911e113b032f>\"\u001b[0;36m, line \u001b[0;32m1\u001b[0m\n\u001b[0;31m    number%one = 3\u001b[0m\n\u001b[0m    ^\u001b[0m\n\u001b[0;31mSyntaxError\u001b[0m\u001b[0;31m:\u001b[0m cannot assign to operator\n"
     ]
    }
   ],
   "source": [
    "number%one = 3"
   ]
  },
  {
   "cell_type": "markdown",
   "metadata": {},
   "source": [
    "We can do operations using only variables:"
   ]
  },
  {
   "cell_type": "code",
   "execution_count": 9,
   "metadata": {
    "collapsed": true,
    "jupyter": {
     "outputs_hidden": true
    }
   },
   "outputs": [
    {
     "data": {
      "text/plain": [
       "15"
      ]
     },
     "execution_count": 9,
     "metadata": {},
     "output_type": "execute_result"
    }
   ],
   "source": [
    "number1 = 3\n",
    "number2 = 5\n",
    "\n",
    "number1 * number2"
   ]
  },
  {
   "cell_type": "markdown",
   "metadata": {},
   "source": [
    "As a final point on simple assignment statements. In the Python community, _readability_ is seen as a virtue. Therefore: **always name your variables in a readable and logical manner.** This is to make the code more pleasent to read and easier to understand."
   ]
  },
  {
   "cell_type": "code",
   "execution_count": 80,
   "metadata": {
    "collapsed": true,
    "jupyter": {
     "outputs_hidden": true
    }
   },
   "outputs": [],
   "source": [
    "a = 3 # not a particularly good variable name\n",
    "stuff = 3 # also not very helpful\n",
    "num = 3 # better!\n",
    "int_number = 3 # even better! (maybe a little long)"
   ]
  },
  {
   "cell_type": "markdown",
   "metadata": {},
   "source": [
    "### 3.2 Variables and strings"
   ]
  },
  {
   "cell_type": "markdown",
   "metadata": {},
   "source": [
    "Of course, we can also use variables when doing string concatination:"
   ]
  },
  {
   "cell_type": "code",
   "execution_count": 59,
   "metadata": {
    "collapsed": true,
    "jupyter": {
     "outputs_hidden": true
    }
   },
   "outputs": [
    {
     "data": {
      "text/plain": [
       "'Hello world!'"
      ]
     },
     "execution_count": 59,
     "metadata": {},
     "output_type": "execute_result"
    }
   ],
   "source": [
    "string1 = \"Hello \"\n",
    "string2 = \"world!\"\n",
    "\n",
    "string1 + string2"
   ]
  },
  {
   "cell_type": "markdown",
   "metadata": {},
   "source": [
    "But there are many important ways we can use variables and strings together. So this section will go over string values a bit more thoroghly, starting with long strings:"
   ]
  },
  {
   "cell_type": "markdown",
   "metadata": {},
   "source": [
    "#### 3.2.1 Long strings"
   ]
  },
  {
   "cell_type": "markdown",
   "metadata": {},
   "source": [
    "Sometimes we want to assign very long string values to variables. To have one long string on one row is not very readable:"
   ]
  },
  {
   "cell_type": "code",
   "execution_count": 150,
   "metadata": {
    "collapsed": true,
    "jupyter": {
     "outputs_hidden": true
    }
   },
   "outputs": [
    {
     "data": {
      "text/plain": [
       "'Hello everyone! I am very happy that you are trying out this course. Also, this is a long string with no line breaks. Thanks!'"
      ]
     },
     "execution_count": 150,
     "metadata": {},
     "output_type": "execute_result"
    }
   ],
   "source": [
    "\"Hello everyone! I am very happy that you are trying out this course. Also, this is a long string with no line breaks. Thanks!\""
   ]
  },
  {
   "cell_type": "markdown",
   "metadata": {},
   "source": [
    "If you want to create a long string value, you can pass three quotation marks `\"\"\"` on each side of the text. Within those, you can do line breaks etc:"
   ]
  },
  {
   "cell_type": "code",
   "execution_count": 7,
   "metadata": {
    "collapsed": true,
    "jupyter": {
     "outputs_hidden": true
    }
   },
   "outputs": [
    {
     "data": {
      "text/plain": [
       "'Hello everyone!\\n\\nI am very happy that you are trying out this course.\\nAlso, this is a long string with line breaks.\\n\\nThanks!\\n\\n'"
      ]
     },
     "execution_count": 7,
     "metadata": {},
     "output_type": "execute_result"
    }
   ],
   "source": [
    "\"\"\"Hello everyone!\n",
    "\n",
    "I am very happy that you are trying out this course.\n",
    "Also, this is a long string with line breaks.\n",
    "\n",
    "Thanks!\n",
    "\n",
    "\"\"\""
   ]
  },
  {
   "cell_type": "markdown",
   "metadata": {},
   "source": [
    "In the output above, you see the character `\\n` – this is just the line break symbol. If we use the `print()` function, we will get the string value as we typed it:"
   ]
  },
  {
   "cell_type": "code",
   "execution_count": 9,
   "metadata": {
    "collapsed": true,
    "jupyter": {
     "outputs_hidden": true
    }
   },
   "outputs": [
    {
     "name": "stdout",
     "output_type": "stream",
     "text": [
      "Hello everyone!\n",
      "\n",
      "I am very happy that you are trying out this course.\n",
      "Also, this is a long string with line breaks.\n",
      "\n",
      "Thanks!\n",
      "\n"
     ]
    }
   ],
   "source": [
    "print(\"\"\"Hello everyone!\n",
    "\n",
    "I am very happy that you are trying out this course.\n",
    "Also, this is a long string with line breaks.\n",
    "\n",
    "Thanks!\n",
    "\"\"\")"
   ]
  },
  {
   "cell_type": "markdown",
   "metadata": {},
   "source": [
    "#### 3.2.2 String formatting – inserting variables into string values"
   ]
  },
  {
   "cell_type": "markdown",
   "metadata": {},
   "source": [
    "In Python, it is very common to insert variables in string values. Let's say we have a name that we would like to insert into a sentence:"
   ]
  },
  {
   "cell_type": "code",
   "execution_count": null,
   "metadata": {},
   "outputs": [],
   "source": [
    "name = \"<Your name>\" # Try with your own name!\n",
    "sentence = \" is learning python! Congrats!\""
   ]
  },
  {
   "cell_type": "markdown",
   "metadata": {},
   "source": [
    "We could use string concatination to create a full sentence:"
   ]
  },
  {
   "cell_type": "code",
   "execution_count": null,
   "metadata": {},
   "outputs": [],
   "source": [
    "name + sentence"
   ]
  },
  {
   "cell_type": "markdown",
   "metadata": {},
   "source": [
    "Well, thank you!"
   ]
  },
  {
   "cell_type": "markdown",
   "metadata": {},
   "source": [
    "But there is an even cleaner way of doing it where we don't need an operator. We can use **string formatting**. There are various ways to do string formatting, but the latest is called **f-strings**.\n",
    "\n",
    "To do this we need the key letter `f` just before the string quotations, like so: `f\"\"`. This tells the interpreter that the string will be formatted with variables. To include variables, we insert them inside curly brackets `{}` within the string. Using string formatting, we can thus type: "
   ]
  },
  {
   "cell_type": "code",
   "execution_count": null,
   "metadata": {},
   "outputs": [],
   "source": [
    "f\"{name} is a pretty nice guy!\""
   ]
  },
  {
   "cell_type": "markdown",
   "metadata": {},
   "source": [
    "..or just:"
   ]
  },
  {
   "cell_type": "code",
   "execution_count": null,
   "metadata": {},
   "outputs": [],
   "source": [
    "f\"{name}{sentence}\""
   ]
  },
  {
   "cell_type": "markdown",
   "metadata": {},
   "source": [
    "**CAUTION!** This is a very very useful technique. But the syntax (=the structure of statements in the code) of string formatting has varied in different versions of Python. This means the f-string syntax won't work in older versions of Python. The older syntax, however, is still acceptable in newer versions.\n",
    "\n",
    "I won't go through the these in detail, just show you how the same string can be produced with string formatting in older versions of Python:"
   ]
  },
  {
   "cell_type": "code",
   "execution_count": null,
   "metadata": {},
   "outputs": [],
   "source": [
    "f\"{name} is a pretty nice guy!\" # f-string, available in Python 3.6 and later"
   ]
  },
  {
   "cell_type": "code",
   "execution_count": null,
   "metadata": {},
   "outputs": [],
   "source": [
    "\"{} is a pretty nice guy!\".format(name) # introduced in Python 3.0, now works in all versions 2.6 and later"
   ]
  },
  {
   "cell_type": "code",
   "execution_count": null,
   "metadata": {},
   "outputs": [],
   "source": [
    "\"%s is a pretty nice guy!\" % name # older than 2.6"
   ]
  },
  {
   "cell_type": "markdown",
   "metadata": {},
   "source": [
    "I find the the f-string feature easy to understand and to use. It is more readable, clean and easy to write. But you should know there are specific use cases for the other ones as well where a f-string won't help. But we won't get into the specifics here."
   ]
  },
  {
   "cell_type": "markdown",
   "metadata": {},
   "source": [
    "#### 3.2.3 (Optional) Deepdive – Long strings, string literals and the escape character `\\`"
   ]
  },
  {
   "cell_type": "markdown",
   "metadata": {},
   "source": [
    "##### 3.2.3.1 More on tripple quote strings"
   ]
  },
  {
   "cell_type": "markdown",
   "metadata": {},
   "source": [
    "Above, we briefly touched the subject of creating long strings with tripple quotes `\"\"\"`. In these, we tell the interpreter that _all_ characters following these quotes are part of one string value, until it finds a the enclosing set of tripple quotes. This means we can do linebreaks within the string to make it more readable since we don't want the entire string on one line. Take this example:"
   ]
  },
  {
   "cell_type": "code",
   "execution_count": null,
   "metadata": {},
   "outputs": [],
   "source": [
    "# This isn't very readable...\n",
    "single_quotes = \"This is a long string. This is a long string. This is a long string. This is a long string. This is a long string. This is a long string. This is a long string. This is a long string. \"\n",
    "\n",
    "# ...compared to this:\n",
    "tripple_quotes = \"\"\"\n",
    "This is a long string. \n",
    "This is a long string. \n",
    "This is a long string. \n",
    "This is a long string. \n",
    "This is a long string. \n",
    "This is a long string. \n",
    "This is a long string. \n",
    "This is a long string. \n",
    "\"\"\""
   ]
  },
  {
   "cell_type": "markdown",
   "metadata": {},
   "source": [
    "As you can see, the same string is a lot more readable using the `\"\"\"`. We should always try to make the code more readable (more on this in section 3.5), and as a general guidance: **never write lines of code that are more than 70 characters long**. The string value assigned to `single_quotes` is thus to long. The `tripple_quotes` string value is much more readable!\n",
    "\n",
    "\n",
    "However, _they are not the same string._ The reason is because we did linebreaks in the second one. The difference becomes apparent if we print the two variables:"
   ]
  },
  {
   "cell_type": "code",
   "execution_count": null,
   "metadata": {},
   "outputs": [],
   "source": [
    "print(single_quotes)"
   ]
  },
  {
   "cell_type": "code",
   "execution_count": null,
   "metadata": {},
   "outputs": [],
   "source": [
    "print(tripple_quotes)"
   ]
  },
  {
   "cell_type": "markdown",
   "metadata": {},
   "source": [
    "##### 3.2.3.2 String literals and the backslash `\\`"
   ]
  },
  {
   "cell_type": "markdown",
   "metadata": {},
   "source": [
    "If we want a more readable code using tripple quotes, but don't want to include any linebreak characters, we can use the backslash `\\` character. This is a special character that lets us escape so called **string literals**. [There are a handful that you can use](https://docs.python.org/2.0/ref/strings.html), and they help us format strings in different ways. I won't go through them all here, but we've already covered one – the newline string literal `\\n`: \n",
    "\n"
   ]
  },
  {
   "cell_type": "code",
   "execution_count": null,
   "metadata": {},
   "outputs": [],
   "source": [
    "print(\"Hello\\nworld!\") # \\n means \"insert newline\""
   ]
  },
  {
   "cell_type": "markdown",
   "metadata": {},
   "source": [
    "Also, the horisontal tab `\\t`:"
   ]
  },
  {
   "cell_type": "code",
   "execution_count": null,
   "metadata": {},
   "outputs": [],
   "source": [
    "print(\"Hello\\tworld!\")"
   ]
  },
  {
   "cell_type": "markdown",
   "metadata": {},
   "source": [
    "The newline string literal is actually inserted in tripple quote strings every time we press <kbd>Enter ↵</kbd> within our string quotes:"
   ]
  },
  {
   "cell_type": "code",
   "execution_count": null,
   "metadata": {},
   "outputs": [],
   "source": [
    "\"\"\"\n",
    "\"\"\""
   ]
  },
  {
   "cell_type": "markdown",
   "metadata": {},
   "source": [
    "So, back to the example we had in the variable `tripple_quotes`, we actually included the newline `\\n` in the string on every row:"
   ]
  },
  {
   "cell_type": "code",
   "execution_count": null,
   "metadata": {},
   "outputs": [],
   "source": [
    "tripple_quotes = \"\"\"\n",
    "This is a long string. \n",
    "This is a long string. \n",
    "This is a long string. \n",
    "This is a long string. \n",
    "This is a long string. \n",
    "This is a long string. \n",
    "This is a long string. \n",
    "This is a long string. \n",
    "\"\"\""
   ]
  },
  {
   "cell_type": "code",
   "execution_count": null,
   "metadata": {},
   "outputs": [],
   "source": [
    "tripple_quotes"
   ]
  },
  {
   "cell_type": "markdown",
   "metadata": {},
   "source": [
    "This means that if we were aiming to rewrite the variable `single_quotes` with `\"\"\"`, we failed, since it is a different string value:"
   ]
  },
  {
   "cell_type": "code",
   "execution_count": null,
   "metadata": {},
   "outputs": [],
   "source": [
    "single_quotes"
   ]
  },
  {
   "cell_type": "markdown",
   "metadata": {},
   "source": [
    "Using a comparison operator (more on these in the next chapter, they return True if values on each side of the `==` operator are the same), we can see that they are not the same value:"
   ]
  },
  {
   "cell_type": "code",
   "execution_count": null,
   "metadata": {},
   "outputs": [],
   "source": [
    "single_quotes == tripple_quotes"
   ]
  },
  {
   "cell_type": "markdown",
   "metadata": {},
   "source": [
    "However, we can nullify string literals by using **the escape character**, the backslash `\\`:"
   ]
  },
  {
   "cell_type": "code",
   "execution_count": null,
   "metadata": {},
   "outputs": [],
   "source": [
    "\"\"\"\\\n",
    "\"\"\""
   ]
  },
  {
   "cell_type": "markdown",
   "metadata": {},
   "source": [
    "Using the backslash, we can still use tripple quotes, and get the same value! It is handy while working with long string values – to increase readability while at the same time tell the interpreter which linebreaks that should include newline characters. In this case, we can escape all newlines to get `tripple_quotes` and `single_quotes` to produce the same exact string value.\n",
    "\n",
    "So, if we want Using the `\\` character:"
   ]
  },
  {
   "cell_type": "code",
   "execution_count": null,
   "metadata": {},
   "outputs": [],
   "source": [
    "tripple_quotes = \"\"\"\\\n",
    "This is a long string. \\\n",
    "This is a long string. \\\n",
    "This is a long string. \\\n",
    "This is a long string. \\\n",
    "This is a long string. \\\n",
    "This is a long string. \\\n",
    "This is a long string. \\\n",
    "This is a long string. \\\n",
    "\"\"\""
   ]
  },
  {
   "cell_type": "code",
   "execution_count": null,
   "metadata": {},
   "outputs": [],
   "source": [
    "print(tripple_quotes)"
   ]
  },
  {
   "cell_type": "code",
   "execution_count": null,
   "metadata": {},
   "outputs": [],
   "source": [
    "tripple_quotes == single_quotes # tada!"
   ]
  },
  {
   "cell_type": "markdown",
   "metadata": {},
   "source": [
    "The mixture of tripple quotes and the `\\` character is more for situations where you want one passage in the string to remain on one line when being printed, while some other parts of the same string should be printed on a new line. Take this example:"
   ]
  },
  {
   "cell_type": "code",
   "execution_count": null,
   "metadata": {},
   "outputs": [],
   "source": [
    "long_string = \"\"\"\n",
    "This is one long sentence, with a lot of words, \\\n",
    "that I still want to be kept in one long sentence; \\\n",
    "but since it is rather long I will need to cut it \\\n",
    "up to increase readability.\n",
    "\n",
    "This, however, is a list within the string, \\\n",
    "and here I WANT linebreaks:\n",
    "\n",
    "- First item\n",
    "- Second item\n",
    "- Third item\n",
    "etc...\n",
    "\n",
    "\"\"\""
   ]
  },
  {
   "cell_type": "code",
   "execution_count": null,
   "metadata": {},
   "outputs": [],
   "source": [
    "print(long_string)"
   ]
  },
  {
   "cell_type": "markdown",
   "metadata": {},
   "source": [
    "As a final point, the backslash is also called the **line continuation character**. If NOT used in a string value, the backslash tells the interpreter \"this line of code continues on the next line\"! Take this example where we concatinate a long string:"
   ]
  },
  {
   "cell_type": "code",
   "execution_count": null,
   "metadata": {},
   "outputs": [],
   "source": [
    "# This will fail\n",
    "\"Hello \" +\n",
    "\"world! \" +\n",
    "\"How \" +\n",
    "\"are \" +\n",
    "\"you?\""
   ]
  },
  {
   "cell_type": "markdown",
   "metadata": {},
   "source": [
    "But if we use the line continuation character:"
   ]
  },
  {
   "cell_type": "code",
   "execution_count": null,
   "metadata": {},
   "outputs": [],
   "source": [
    "\"Hello \" + \\\n",
    "\"world! \" + \\\n",
    "\"How \" + \\\n",
    "\"are \" + \\\n",
    "\"you?\""
   ]
  },
  {
   "cell_type": "markdown",
   "metadata": {},
   "source": [
    "##### 3.2.3.3 Exercise – write a letter!"
   ]
  },
  {
   "cell_type": "markdown",
   "metadata": {},
   "source": [
    "In this exercise, you will need to reformat the following text (it is a grocery list) so that it gets printed in  the correct manner. You will also need to heed of the rule to not have any line of code longer than ~70 characters. The parts enclosed within `<>` shall be replaced by whatever is instructed using variables and string formatting! "
   ]
  },
  {
   "cell_type": "markdown",
   "metadata": {},
   "source": [
    "Here's the letter with the grocery list:"
   ]
  },
  {
   "cell_type": "code",
   "execution_count": null,
   "metadata": {},
   "outputs": [],
   "source": [
    "grocery_list = \"Hi <receiver>! All ingredients are necessary, \\\n",
    "so please don't forget any item in the list. Also, you know I love \\\n",
    "a little snack after dinner, so please get something you know I \\\n",
    "love – like <nice_treat>. Please hurry, I am starving! - Milk - \\\n",
    "Spinach - Strawberry jam - Spam - Whole cream - Cat food Remember \\\n",
    "that we have loads of credits to spend. We need to save up some \\\n",
    "money for our dream vacation next year. I am soooo looking forward \\\n",
    "to travel to <destination>. That is, if the virus ever would let us go :( Love, \\\n",
    "<your_name>\""
   ]
  },
  {
   "cell_type": "code",
   "execution_count": null,
   "metadata": {},
   "outputs": [],
   "source": [
    "print(grocery_list)"
   ]
  },
  {
   "cell_type": "markdown",
   "metadata": {},
   "source": [
    "At the moment, it is on one single line. You will need to format it using these variables and string formatting:"
   ]
  },
  {
   "cell_type": "code",
   "execution_count": null,
   "metadata": {},
   "outputs": [],
   "source": [
    "receiver = \"\"\n",
    "nice_treat = \"\"\n",
    "destination = \"\"\n",
    "your_name = \"\""
   ]
  },
  {
   "cell_type": "markdown",
   "metadata": {},
   "source": [
    "Here's how it should look:"
   ]
  },
  {
   "cell_type": "code",
   "execution_count": 6,
   "metadata": {},
   "outputs": [
    {
     "name": "stdout",
     "output_type": "stream",
     "text": [
      "\n",
      "Hi Mom!\n",
      "\n",
      "All ingredients are necessary, so please don't forget any item in the list. Also, you know I love a little snack after dinner, so please get something you know I love – like Ben & Jerrie's ice cream. Please hurry, I am starving!\n",
      "\n",
      "- Milk\n",
      "- Spinach\n",
      "- Strawberry jam\n",
      "- Spam\n",
      "- Whole cream\n",
      "- Cat food\n",
      "\n",
      "Remember that we have loads of credits to spend. We need to save up some money for our dream vacation next year. I am soooo looking forward to travel to Paris. That is, if the virus ever would let us go :(\n",
      "\n",
      "Love,\n",
      "\n",
      "Johan\n",
      "\n"
     ]
    }
   ],
   "source": [
    "# DON'T RUN THIS CELL"
   ]
  },
  {
   "cell_type": "markdown",
   "metadata": {},
   "source": [
    "Remember that you can use string formatting, tripple quotes strings and the escape backslash `\\`! The solution can be found in the solutions notebook!"
   ]
  },
  {
   "cell_type": "code",
   "execution_count": null,
   "metadata": {
    "collapsed": true,
    "jupyter": {
     "outputs_hidden": true
    }
   },
   "outputs": [],
   "source": []
  },
  {
   "cell_type": "code",
   "execution_count": null,
   "metadata": {
    "collapsed": true,
    "jupyter": {
     "outputs_hidden": true
    }
   },
   "outputs": [],
   "source": []
  },
  {
   "cell_type": "code",
   "execution_count": null,
   "metadata": {
    "collapsed": true,
    "jupyter": {
     "outputs_hidden": true
    }
   },
   "outputs": [],
   "source": []
  },
  {
   "cell_type": "markdown",
   "metadata": {},
   "source": [
    "### 3.3 Changing variables – Operators and assignment statements"
   ]
  },
  {
   "cell_type": "markdown",
   "metadata": {},
   "source": [
    "Often when coding, we want to change the values of our variables. We _overwrite_ our variable, giving it a new value. This is easily done in python:"
   ]
  },
  {
   "cell_type": "code",
   "execution_count": null,
   "metadata": {},
   "outputs": [],
   "source": [
    "number = 3 # assignment statement"
   ]
  },
  {
   "cell_type": "code",
   "execution_count": null,
   "metadata": {},
   "outputs": [],
   "source": [
    "number = number + 4"
   ]
  },
  {
   "cell_type": "code",
   "execution_count": null,
   "metadata": {},
   "outputs": [],
   "source": [
    "number # \"number\" is now 7 (3 + 4 = 7)"
   ]
  },
  {
   "cell_type": "markdown",
   "metadata": {},
   "source": [
    "#### 3.3.1 Augmented assignment operators"
   ]
  },
  {
   "cell_type": "markdown",
   "metadata": {},
   "source": [
    "When using the assigment operator `=`, the python interpreter will evaluate the expression to the right of the assignment operator first. Then it will assign the returned value to the namespace written to the left of the `=` (the variable name `number`). This is how you reassign, or overwrite, your variables. \n",
    "\n",
    "But you can also use the assignment, AND the addition operator in one go using `+=`. This is called an **augmented assigment operator**, it uses the operator on the variable _while also assigning the result to the variable_. Take this example:"
   ]
  },
  {
   "cell_type": "code",
   "execution_count": null,
   "metadata": {},
   "outputs": [],
   "source": [
    "number = 3"
   ]
  },
  {
   "cell_type": "code",
   "execution_count": null,
   "metadata": {},
   "outputs": [],
   "source": [
    "number += 4 # '+=' is syntax for \"add the value to the right to the variable name to the left\""
   ]
  },
  {
   "cell_type": "code",
   "execution_count": null,
   "metadata": {},
   "outputs": [],
   "source": [
    "number"
   ]
  },
  {
   "cell_type": "markdown",
   "metadata": {},
   "source": [
    "The same can be done with subtraction, multiplication and division:"
   ]
  },
  {
   "cell_type": "code",
   "execution_count": null,
   "metadata": {},
   "outputs": [],
   "source": [
    "number -= 1\n",
    "number"
   ]
  },
  {
   "cell_type": "code",
   "execution_count": null,
   "metadata": {},
   "outputs": [],
   "source": [
    "number *= 5\n",
    "number"
   ]
  },
  {
   "cell_type": "code",
   "execution_count": null,
   "metadata": {},
   "outputs": [],
   "source": [
    "number /= 3\n",
    "number"
   ]
  },
  {
   "cell_type": "markdown",
   "metadata": {},
   "source": [
    "### 3.4 Multiple assignment statements"
   ]
  },
  {
   "cell_type": "markdown",
   "metadata": {},
   "source": [
    "In Python, let's say we want to create four variables with different values. This is boring and tedious to type out:"
   ]
  },
  {
   "cell_type": "code",
   "execution_count": null,
   "metadata": {},
   "outputs": [],
   "source": [
    "one = 42\n",
    "two = \"Johan\"\n",
    "three = True\n",
    "four = \"elephant\""
   ]
  },
  {
   "cell_type": "code",
   "execution_count": null,
   "metadata": {},
   "outputs": [],
   "source": [
    "one"
   ]
  },
  {
   "cell_type": "code",
   "execution_count": null,
   "metadata": {},
   "outputs": [],
   "source": [
    "four"
   ]
  },
  {
   "cell_type": "markdown",
   "metadata": {},
   "source": [
    "Luckilly, this can be written in one single line of code, with a single `=`. We just pass the variable names to the left of the assignment operator – seperated by commas – and the values to the right – seperated by commas – in the order we want the values assigned:"
   ]
  },
  {
   "cell_type": "code",
   "execution_count": null,
   "metadata": {},
   "outputs": [],
   "source": [
    "one, two, three, four = 42, \"Johan\", True, \"elephant\""
   ]
  },
  {
   "cell_type": "code",
   "execution_count": null,
   "metadata": {},
   "outputs": [],
   "source": [
    "one"
   ]
  },
  {
   "cell_type": "code",
   "execution_count": null,
   "metadata": {},
   "outputs": [],
   "source": [
    "three"
   ]
  },
  {
   "cell_type": "markdown",
   "metadata": {},
   "source": [
    "### 3.5 More about readability – the zen of Python"
   ]
  },
  {
   "cell_type": "markdown",
   "metadata": {},
   "source": [
    "Earlier, we talked about naming variables in a logical and transparent manner. We should name our variables making it easier to understand what values they may hold. This is important – it makes your code more readable. Readability is a very important aspect of writing Python. \n",
    "\n",
    "The reason for this is quite simple: **as a person working with coding, you will read a lot of code.** Returning to old projects for example, what code does what and where in your program? If you learn early on to make your code more readable, you will save eons of time later on!\n",
    "\n",
    "The Python community will sometimes refer to what is called [_the zen of python_](https://www.python.org/dev/peps/pep-0020/). This is the general \"rules\" that should guide you when you code. These are the first seven lines in it:\n",
    "\n",
    "```\n",
    "Beautiful is better than ugly.\n",
    "Explicit is better than implicit.\n",
    "Simple is better than complex.\n",
    "Complex is better than complicated.\n",
    "Flat is better than nested.\n",
    "Sparse is better than dense.\n",
    "Readability counts.\n",
    "```\n",
    "\n",
    "This is a bit abstract, but it is words that is good to keep in mind going forward. There are many concrete ways to write more readable code. For example, use white space (blank space) in your expressions:"
   ]
  },
  {
   "cell_type": "code",
   "execution_count": null,
   "metadata": {},
   "outputs": [],
   "source": [
    "2 + 2 # zen-like"
   ]
  },
  {
   "cell_type": "code",
   "execution_count": null,
   "metadata": {},
   "outputs": [],
   "source": [
    "2+2 # this is less readable and should be avoided"
   ]
  },
  {
   "cell_type": "markdown",
   "metadata": {},
   "source": [
    "Or, in your assignment statement:"
   ]
  },
  {
   "cell_type": "code",
   "execution_count": null,
   "metadata": {},
   "outputs": [],
   "source": [
    "num=2 # please don't!\n",
    "num = 2 # please do!"
   ]
  },
  {
   "cell_type": "markdown",
   "metadata": {},
   "source": [
    "For more on how to write readable python code, [check out this link!](https://docs.python-guide.org/writing/style/)"
   ]
  },
  {
   "cell_type": "markdown",
   "metadata": {},
   "source": [
    "### 3.6 Exercise – string concatination and variables"
   ]
  },
  {
   "cell_type": "markdown",
   "metadata": {},
   "source": [
    "In this exercise, I want you to assign these seven string values to one variable each:\n",
    "- `\"was\"`\n",
    "- `\"the\"`\n",
    "- `\"on\"`\n",
    "- `\"cat\"`\n",
    "- `\"mat\"`\n",
    "- `\"inside\"`\n",
    "- `\"hat\"`\n",
    "\n",
    "Using these variables, use string concatination to produce these three sentences:\n",
    "1. \"cat was inside the hat on the mat\"\n",
    "2. \"hat was inside the cat on the mat\"\n",
    "3. \"mat was inside the hat on the cat\"\n",
    "\n",
    "You can add blank spaces to the strings if you'd like.\n",
    "\n",
    "When assigning your variables, try to use a multiple assignment statement.\n",
    "\n",
    "The solutions is found in the solutions notebook (there is more than one!"
   ]
  },
  {
   "cell_type": "code",
   "execution_count": null,
   "metadata": {},
   "outputs": [],
   "source": []
  },
  {
   "cell_type": "code",
   "execution_count": null,
   "metadata": {},
   "outputs": [],
   "source": []
  },
  {
   "cell_type": "code",
   "execution_count": null,
   "metadata": {},
   "outputs": [],
   "source": []
  },
  {
   "cell_type": "markdown",
   "metadata": {},
   "source": [
    "---"
   ]
  },
  {
   "cell_type": "markdown",
   "metadata": {},
   "source": [
    "## 4 Comparing values"
   ]
  },
  {
   "cell_type": "markdown",
   "metadata": {},
   "source": [
    "### 4.1 Comparison operators and comparison expressions"
   ]
  },
  {
   "cell_type": "markdown",
   "metadata": {},
   "source": [
    "In section 1, we briefly covered the boolean values. In code, we often want to check if something is true or false. \n",
    "\n",
    "Let's say we want to write a program that functions as an alarm that lets us know if our workday is over. The program would then have to check the time, and then see if the present time is past five o'clock. If so, it alarms us that it's time to head home. If not, it does nothing. Lets put this down in writing:\n",
    "\n",
    "Program workflow:\n",
    "```\n",
    "1. Check time\n",
    "2. See if time is past 17.00 (either true/false)\n",
    "3. If true -> alarm us! If false -> do nothing\n",
    "4. Terminate program\n",
    "```\n",
    "In such a program, we need an operator that can compare values. In our case, compare present time with the end of our workday (17.00). In Python, we can use a **comparison operator** to do this:\n",
    "\n",
    "```\n",
    "COMPARISON OPERATORS\n",
    "\n",
    "    ==   Equal to\n",
    "    !=   Not equal to\n",
    "    <    Less than\n",
    "    >    Greater than\n",
    "    <=   Less than or equal to\n",
    "    >=   Greater than or equal to\n",
    "```\n",
    "Expressions with comparison operators are known as **comparison expressions** and will always return a boolean value:"
   ]
  },
  {
   "cell_type": "code",
   "execution_count": null,
   "metadata": {},
   "outputs": [],
   "source": [
    "# 3 is equal to 3\n",
    "3 == 3 "
   ]
  },
  {
   "cell_type": "code",
   "execution_count": null,
   "metadata": {},
   "outputs": [],
   "source": [
    "# 3 is not equal to 4\n",
    "3 == 4 "
   ]
  },
  {
   "cell_type": "code",
   "execution_count": null,
   "metadata": {},
   "outputs": [],
   "source": [
    "# 3 is less than or equal to 3\n",
    "3 <= 3 "
   ]
  },
  {
   "cell_type": "code",
   "execution_count": null,
   "metadata": {},
   "outputs": [],
   "source": [
    "# 3 is less than or equal to 4\n",
    "3 <= 4 "
   ]
  },
  {
   "cell_type": "code",
   "execution_count": null,
   "metadata": {},
   "outputs": [],
   "source": [
    "# 3 is not greater than or equal to 4\n",
    "3 >= 4 "
   ]
  },
  {
   "cell_type": "markdown",
   "metadata": {},
   "source": [
    "Note that comparison operators _also checks for value types_. This means that this will fail:"
   ]
  },
  {
   "cell_type": "code",
   "execution_count": null,
   "metadata": {},
   "outputs": [],
   "source": [
    "3 == \"3\""
   ]
  },
  {
   "cell_type": "markdown",
   "metadata": {},
   "source": [
    "...since `3` is an integer and `\"3\"` is a string. However, integers and floats can be equal to eachother:"
   ]
  },
  {
   "cell_type": "code",
   "execution_count": null,
   "metadata": {},
   "outputs": [],
   "source": [
    "3.0 == 3"
   ]
  },
  {
   "cell_type": "markdown",
   "metadata": {},
   "source": [
    "Comparison operators can, of course, also be used to check variables' values:"
   ]
  },
  {
   "cell_type": "code",
   "execution_count": null,
   "metadata": {},
   "outputs": [],
   "source": [
    "my_name = \"Johan\""
   ]
  },
  {
   "cell_type": "code",
   "execution_count": null,
   "metadata": {},
   "outputs": [],
   "source": [
    "my_name == 'Pete'"
   ]
  },
  {
   "cell_type": "markdown",
   "metadata": {},
   "source": [
    "Above, please note that the first cell `my_name = \"Johan\"` has _one_ assignment operator. This is an assignment statement where we create our variable. The second cell has _two_ assignment operators – hence, it is a comparison operator."
   ]
  },
  {
   "cell_type": "markdown",
   "metadata": {},
   "source": [
    "### 4.2 Boolean operators"
   ]
  },
  {
   "cell_type": "markdown",
   "metadata": {},
   "source": [
    "There are also three boolean operators: `and`, `or` and `not`. These let us evaluate two or more booleans into one boolean value. Since we often need to take more things into consideration than something _only_ being true or false, these operators are essential when coding. Programs and scripts often need to handle ambigious situations."
   ]
  },
  {
   "cell_type": "markdown",
   "metadata": {},
   "source": [
    "#### 4.2.1 The `and` operator"
   ]
  },
  {
   "cell_type": "markdown",
   "metadata": {},
   "source": [
    "Consider our earlier example, our workday alarm program. Let's say the workday starts at 9.00 in the morning and we want to check if the present time is during work hours or not. If so, we can use a boolean operator: is the present time after 09.00 _AND_ before 17.00?"
   ]
  },
  {
   "cell_type": "markdown",
   "metadata": {},
   "source": [
    "Let's first look at the `and` operator. `and` can chain two values into one single expression. It returns `False` if both the expression to its left _and_ to its right isn't true:"
   ]
  },
  {
   "cell_type": "code",
   "execution_count": null,
   "metadata": {},
   "outputs": [],
   "source": [
    "True and False"
   ]
  },
  {
   "cell_type": "code",
   "execution_count": null,
   "metadata": {},
   "outputs": [],
   "source": [
    "True and True"
   ]
  },
  {
   "cell_type": "markdown",
   "metadata": {},
   "source": [
    "The `and` operator is most often used to chain comparison expressions together into one evaluation:"
   ]
  },
  {
   "cell_type": "code",
   "execution_count": null,
   "metadata": {},
   "outputs": [],
   "source": [
    "1 == 1 and 4 == 4"
   ]
  },
  {
   "cell_type": "code",
   "execution_count": null,
   "metadata": {},
   "outputs": [],
   "source": [
    "1 == 2 and 4 == 4"
   ]
  },
  {
   "cell_type": "code",
   "execution_count": null,
   "metadata": {},
   "outputs": [],
   "source": [
    "1 == 2 and 4 == 5"
   ]
  },
  {
   "cell_type": "markdown",
   "metadata": {},
   "source": [
    "The `and` operator will always return `False` if any of its expressions evaluates into False."
   ]
  },
  {
   "cell_type": "markdown",
   "metadata": {},
   "source": [
    "#### 4.2.2 The `or` operator"
   ]
  },
  {
   "cell_type": "markdown",
   "metadata": {},
   "source": [
    "The `or` operator is also used to chain boolean values together into one expression. And, just as with `and` it is mostly used to evaluate two comparison expressions into one evaluation. The differance is that it will return `True` if either expressions are true:"
   ]
  },
  {
   "cell_type": "code",
   "execution_count": null,
   "metadata": {},
   "outputs": [],
   "source": [
    "1 == 2 or 4 == 4"
   ]
  },
  {
   "cell_type": "code",
   "execution_count": null,
   "metadata": {},
   "outputs": [],
   "source": [
    "True or False"
   ]
  },
  {
   "cell_type": "code",
   "execution_count": null,
   "metadata": {},
   "outputs": [],
   "source": [
    "1 == 2 or 4 == 5"
   ]
  },
  {
   "cell_type": "code",
   "execution_count": null,
   "metadata": {},
   "outputs": [],
   "source": [
    "False or False"
   ]
  },
  {
   "cell_type": "markdown",
   "metadata": {},
   "source": [
    "#### 4.2.3 The `not` operator"
   ]
  },
  {
   "cell_type": "markdown",
   "metadata": {},
   "source": [
    "The `not` operator only evaluates on one boolean value, and it always returns its opposite:"
   ]
  },
  {
   "cell_type": "code",
   "execution_count": null,
   "metadata": {},
   "outputs": [],
   "source": [
    "not True"
   ]
  },
  {
   "cell_type": "code",
   "execution_count": null,
   "metadata": {},
   "outputs": [],
   "source": [
    "not False"
   ]
  },
  {
   "cell_type": "markdown",
   "metadata": {},
   "source": [
    "#### 4.2.4 Boolean operators – examples"
   ]
  },
  {
   "cell_type": "markdown",
   "metadata": {},
   "source": [
    "This may look like very abstract concepts, but it makes way more sense if we use them together with variables. Let's create some:"
   ]
  },
  {
   "cell_type": "code",
   "execution_count": null,
   "metadata": {},
   "outputs": [],
   "source": [
    "name = \"Johan\"\n",
    "nationality = \"Swedish\""
   ]
  },
  {
   "cell_type": "markdown",
   "metadata": {},
   "source": [
    "Using it together with the `and` operator:"
   ]
  },
  {
   "cell_type": "code",
   "execution_count": null,
   "metadata": {},
   "outputs": [],
   "source": [
    "# is 'name' equal to \"Johan\", and 'nationality' equal to \"Swedish\"?\n",
    "name == \"Johan\" and nationality == \"Swedish\""
   ]
  },
  {
   "cell_type": "code",
   "execution_count": null,
   "metadata": {},
   "outputs": [],
   "source": [
    "# is 'name' equal to \"Johan\", and 'nationality' equal to \"Finnish\"?\n",
    "name == \"Johan\" and nationality == \"Finnish\""
   ]
  },
  {
   "cell_type": "markdown",
   "metadata": {},
   "source": [
    "The `or` operator:"
   ]
  },
  {
   "cell_type": "code",
   "execution_count": null,
   "metadata": {},
   "outputs": [],
   "source": [
    "# is 'name' equal to \"Johan\", or 'nationality' equal to \"American\"?\n",
    "name == \"Johan\" or nationality == \"American\""
   ]
  },
  {
   "cell_type": "markdown",
   "metadata": {},
   "source": [
    "`name` is equal to \"Johan\", therefore the expression evaluates to `True`."
   ]
  },
  {
   "cell_type": "markdown",
   "metadata": {},
   "source": [
    "The `not` operator:"
   ]
  },
  {
   "cell_type": "code",
   "execution_count": null,
   "metadata": {},
   "outputs": [],
   "source": [
    "# Is 'name' not equal to \"Pete\"?\n",
    "not name == \"Pete\""
   ]
  },
  {
   "cell_type": "markdown",
   "metadata": {},
   "source": [
    "Let's use these concepts to help us with our alarm program:"
   ]
  },
  {
   "cell_type": "code",
   "execution_count": null,
   "metadata": {},
   "outputs": [],
   "source": [
    "# Let's say the time is presently 12.15\n",
    "presentTime = 12.15"
   ]
  },
  {
   "cell_type": "code",
   "execution_count": null,
   "metadata": {},
   "outputs": [],
   "source": [
    "# Is the present time before 17.00, but after 9.00?\n",
    "presentTime < 17.00 and presentTime > 9.00"
   ]
  },
  {
   "cell_type": "code",
   "execution_count": null,
   "metadata": {},
   "outputs": [],
   "source": [
    "# Let's say the time is presently 17.15\n",
    "presentTime = 17.15"
   ]
  },
  {
   "cell_type": "code",
   "execution_count": null,
   "metadata": {},
   "outputs": [],
   "source": [
    "presentTime < 17.00 and presentTime > 9.00"
   ]
  },
  {
   "cell_type": "markdown",
   "metadata": {},
   "source": [
    "### 4.3 Exercise – insert the correct operators"
   ]
  },
  {
   "cell_type": "markdown",
   "metadata": {},
   "source": [
    "In this exercise, I want you to uncomment the code (to uncomment, just remove the hashtag – only the hastag –  within the cells below). Then, replace the `?` characters with the correct operators so that the `print()` function is executed. In other words, you'll need to change operators so that all comparisons are evaluated to `True`. \n",
    "\n",
    "These code cells include `if`-statements, which will be the subject in the next chapter!"
   ]
  },
  {
   "cell_type": "code",
   "execution_count": null,
   "metadata": {},
   "outputs": [],
   "source": [
    "number = 12"
   ]
  },
  {
   "cell_type": "code",
   "execution_count": null,
   "metadata": {},
   "outputs": [],
   "source": [
    "#if number ? 15:\n",
    "#    print(\"Correct!\")"
   ]
  },
  {
   "cell_type": "code",
   "execution_count": null,
   "metadata": {},
   "outputs": [],
   "source": [
    "#if number ? 5 and number ? -5:\n",
    "#    print(\"Correct!\")"
   ]
  },
  {
   "cell_type": "code",
   "execution_count": null,
   "metadata": {},
   "outputs": [],
   "source": [
    "#if number ? 150 or number ? 25:\n",
    "#    print(\"Correct!\")"
   ]
  },
  {
   "cell_type": "code",
   "execution_count": null,
   "metadata": {},
   "outputs": [],
   "source": [
    "#if number ? 12:\n",
    "#    print(\"Correct!\")"
   ]
  },
  {
   "cell_type": "code",
   "execution_count": null,
   "metadata": {},
   "outputs": [],
   "source": [
    "#if number ? \"Hello world!\":\n",
    "#    print(\"Correct!\")"
   ]
  },
  {
   "cell_type": "code",
   "execution_count": null,
   "metadata": {},
   "outputs": [],
   "source": []
  },
  {
   "cell_type": "code",
   "execution_count": null,
   "metadata": {},
   "outputs": [],
   "source": []
  },
  {
   "cell_type": "code",
   "execution_count": null,
   "metadata": {},
   "outputs": [],
   "source": []
  },
  {
   "cell_type": "code",
   "execution_count": null,
   "metadata": {},
   "outputs": [],
   "source": []
  },
  {
   "cell_type": "markdown",
   "metadata": {},
   "source": [
    "## 5 Flow Control Statements"
   ]
  },
  {
   "cell_type": "markdown",
   "metadata": {},
   "source": [
    "As has been discussed above, we often want to take context into consideration when coding: \"If this expression is true, do this thing...\". This often means we want to have control of our program's progress, how it \"flows\". \n",
    "\n",
    "In Python, we can use comparison operators in **flow control statements**: these are: \n",
    "- `if` \n",
    "- `elif`\n",
    "- `else`\n",
    "\n",
    "\\*\\* Going forward, remember that **what you type (the syntax) is important!** Be sure that you write these statements exactly as described. Otherwise, you will get an error and your code won't work. \\*\\*"
   ]
  },
  {
   "cell_type": "markdown",
   "metadata": {},
   "source": [
    "### 5.1 The `if`-statement"
   ]
  },
  {
   "cell_type": "markdown",
   "metadata": {},
   "source": [
    "Flow control statements lets you decide a certain logic for your code to follow. The `if`-statement consists of the keyword `if`, followed by a **condition** (=an expression in a flow control statement that evaluates into `True` or `False`), and ended with a colon `:`. \n",
    "\n",
    "If the if-statement's condition evaluates to false, the interpreter ignores the code within the if-statement. That is, the code following the colon `:`."
   ]
  },
  {
   "cell_type": "code",
   "execution_count": null,
   "metadata": {},
   "outputs": [],
   "source": [
    "name = \"Johan\""
   ]
  },
  {
   "cell_type": "code",
   "execution_count": null,
   "metadata": {},
   "outputs": [],
   "source": [
    "if name != \"Johan\":\n",
    "    print(\"Hi Johan!\")"
   ]
  },
  {
   "cell_type": "markdown",
   "metadata": {},
   "source": [
    "Code indented at the same level is called **a block of code**. The condition `name != \"Johan\"` is evaluated to false, so above if-statement's isn't executed. It is basically the same as typing:"
   ]
  },
  {
   "cell_type": "code",
   "execution_count": null,
   "metadata": {},
   "outputs": [],
   "source": [
    "if False:\n",
    "    print(\"Hi Johan!\")"
   ]
  },
  {
   "cell_type": "markdown",
   "metadata": {},
   "source": [
    "...since `name != \"Johan\"` evaluates to `False`."
   ]
  },
  {
   "cell_type": "markdown",
   "metadata": {},
   "source": [
    "Indentations are very important in Python. It tells our computer which code is grouped together. All code that is indented directly under an if-statement is that if-statement's code block! The `print()` function is one block of code within our if-statement (even though, in this example, it's just one line).\n",
    "\n",
    "If the condition in the if-statement is evaluated to `False`, the indented block (containing `print(\"Hi Johan!\")`) will be ignored. If the condition is `True`, then the indented code will be executed:"
   ]
  },
  {
   "cell_type": "code",
   "execution_count": null,
   "metadata": {},
   "outputs": [],
   "source": [
    "if name == \"Johan\":\n",
    "    # The condition name == \"Johan\" is true! Hence, this will be executed:\n",
    "    print(\"Hi Johan!\") "
   ]
  },
  {
   "cell_type": "markdown",
   "metadata": {},
   "source": [
    "Another example:"
   ]
  },
  {
   "cell_type": "code",
   "execution_count": null,
   "metadata": {},
   "outputs": [],
   "source": [
    "age = 35"
   ]
  },
  {
   "cell_type": "code",
   "execution_count": null,
   "metadata": {},
   "outputs": [],
   "source": [
    "if age > 30:\n",
    "    # True! This will be executed\n",
    "    print(\"Whoa! Not that young any longer, buddy!\") "
   ]
  },
  {
   "cell_type": "code",
   "execution_count": null,
   "metadata": {},
   "outputs": [],
   "source": [
    "if age < 30:\n",
    "    # This will be skipped since 35 is more than 30\n",
    "    print(\"You wish!\") "
   ]
  },
  {
   "cell_type": "code",
   "execution_count": null,
   "metadata": {},
   "outputs": [],
   "source": [
    "youngAge = 25"
   ]
  },
  {
   "cell_type": "code",
   "execution_count": null,
   "metadata": {},
   "outputs": [],
   "source": [
    "if youngAge < 30:\n",
    "    print(\"You sir, are in your prime!\")"
   ]
  },
  {
   "cell_type": "markdown",
   "metadata": {},
   "source": [
    "We can also use boolean operators in flow control statements, like the `and` operator:"
   ]
  },
  {
   "cell_type": "code",
   "execution_count": null,
   "metadata": {},
   "outputs": [],
   "source": [
    "if youngAge < 30 and youngAge >= 20:\n",
    "    print(\"You are in your twenties! Congratulations!\")"
   ]
  },
  {
   "cell_type": "markdown",
   "metadata": {},
   "source": [
    "### 5.2 The `else`-statement"
   ]
  },
  {
   "cell_type": "markdown",
   "metadata": {},
   "source": [
    "But if we also want to cover situations where the if-statement is false? Then we use the `else`-statement:"
   ]
  },
  {
   "cell_type": "code",
   "execution_count": null,
   "metadata": {},
   "outputs": [],
   "source": [
    "age = 35"
   ]
  },
  {
   "cell_type": "code",
   "execution_count": null,
   "metadata": {},
   "outputs": [],
   "source": [
    "if age < 30:\n",
    "    # Since age < 30 is false, this code will be skipped\n",
    "    print(\"Hello young sir!\")\n",
    "else:\n",
    "    # Instead, this will be executed\n",
    "    print(\"Oldie but goldie!\")"
   ]
  },
  {
   "cell_type": "markdown",
   "metadata": {},
   "source": [
    "So \"If an expression is true, do something... Otherwise, do this other thing...\" An `else`-statement consists of the `else` keyword followed by a colon, `:`. SInce it covers ALL situations not specified by the if-statement, no expression is needed.\n",
    "\n",
    "An else-statment does only work if it follows an if-statement. If you write an else-statment by itself, it will produce an error: "
   ]
  },
  {
   "cell_type": "code",
   "execution_count": null,
   "metadata": {},
   "outputs": [],
   "source": [
    "else:\n",
    "    print(\"Hello world!\")"
   ]
  },
  {
   "cell_type": "markdown",
   "metadata": {},
   "source": [
    "Our workday alarm program, but with an if/else-statement:"
   ]
  },
  {
   "cell_type": "code",
   "execution_count": null,
   "metadata": {},
   "outputs": [],
   "source": [
    "present_time = 12.15"
   ]
  },
  {
   "cell_type": "code",
   "execution_count": null,
   "metadata": {},
   "outputs": [],
   "source": [
    "if present_time < 17.00 and present_time > 9.00:\n",
    "    print(\"You should be working!\")\n",
    "else:\n",
    "    print(\"Not working hours!\")"
   ]
  },
  {
   "cell_type": "markdown",
   "metadata": {},
   "source": [
    "### 5.3 The `elif`-statement"
   ]
  },
  {
   "cell_type": "markdown",
   "metadata": {},
   "source": [
    "In many situations we want to explicitly cover more scenarios than just those in our if- and else-statements. We can use `elif`-statements:"
   ]
  },
  {
   "cell_type": "code",
   "execution_count": null,
   "metadata": {},
   "outputs": [],
   "source": [
    "age = 16"
   ]
  },
  {
   "cell_type": "code",
   "execution_count": null,
   "metadata": {},
   "outputs": [],
   "source": [
    "if age >= 30:\n",
    "    # 16 is lower than 30, so this will be skipped\n",
    "    print(\"You are not very young any longer, I'm afraid.\") \n",
    "    \n",
    "elif age >= 20 and age < 30:\n",
    "    # 'age' is not between 20 and 29, this block is also skipped\n",
    "    print(\"You are in your twenties!\") \n",
    "    \n",
    "elif age < 20 and age >= 13:\n",
    "    # Bingo! This code will be executed\n",
    "    print(\"A teenager!\") \n",
    "    \n",
    "else:\n",
    "    # This would execute in all situations where 'age' is less than 13\n",
    "    print(\"You are very, very young!\")"
   ]
  },
  {
   "cell_type": "markdown",
   "metadata": {},
   "source": [
    "As you can see in the code cell above, we can use more than one elif-statement. You can chain as many as you'd like! \n",
    "\n",
    "Just like the else-statement, elif-statements can only be used after an if-statement. Otherwise, an error will be produced:"
   ]
  },
  {
   "cell_type": "code",
   "execution_count": null,
   "metadata": {},
   "outputs": [],
   "source": [
    "elif age >= 20 and age < 30:\n",
    "    print(\"You are in your twenties!\")"
   ]
  },
  {
   "cell_type": "markdown",
   "metadata": {},
   "source": [
    "Here is the hierarchy of these three flow control statement:\n",
    "\n",
    "1. if-statement goes first\n",
    "2. elif-statements (as many as you like!) comes second\n",
    "3. And finally, the else-statement"
   ]
  },
  {
   "cell_type": "markdown",
   "metadata": {},
   "source": [
    "### 5.4 (Optional) \"Truthy\" and \"Falsy\" values"
   ]
  },
  {
   "cell_type": "markdown",
   "metadata": {},
   "source": [
    "Like covered above if-statements need a condition (=expression) to evaluate to true or false to run. But in Python, all values are actually either truthy or falsy. This means that a single value following the if-keyword will also work:"
   ]
  },
  {
   "cell_type": "code",
   "execution_count": null,
   "metadata": {},
   "outputs": [],
   "source": [
    "if 3:\n",
    "    print(\"Works!\")"
   ]
  },
  {
   "cell_type": "code",
   "execution_count": null,
   "metadata": {},
   "outputs": [],
   "source": [
    "if 3.5:\n",
    "    print(\"Works!\")"
   ]
  },
  {
   "cell_type": "code",
   "execution_count": null,
   "metadata": {},
   "outputs": [],
   "source": [
    "if 0:\n",
    "    print(\"This won't be printed...\")"
   ]
  },
  {
   "cell_type": "code",
   "execution_count": null,
   "metadata": {},
   "outputs": [],
   "source": [
    "if 0.0:\n",
    "    print(\"This won't be printed...\")"
   ]
  },
  {
   "cell_type": "markdown",
   "metadata": {},
   "source": [
    "In Python, all number values, that is both integers and floats, above 0 is considered \"truthy\" values. 0 and 0.0 is \"falsy\". In string values, all empty strings `\"\"` are considered falsy, all other string values are truthy:"
   ]
  },
  {
   "cell_type": "code",
   "execution_count": null,
   "metadata": {},
   "outputs": [],
   "source": [
    "if \"a string value\":\n",
    "    print(\"Works!\")"
   ]
  },
  {
   "cell_type": "code",
   "execution_count": null,
   "metadata": {},
   "outputs": [],
   "source": [
    "if \"\":\n",
    "    print(\"This won't be printed...\")"
   ]
  },
  {
   "cell_type": "markdown",
   "metadata": {},
   "source": [
    "Considering we should always strive to make our code more readable, above examples should be avoided. Instead we should write an actual comparison:"
   ]
  },
  {
   "cell_type": "code",
   "execution_count": null,
   "metadata": {},
   "outputs": [],
   "source": [
    "value = \"string\"\n",
    "if value != \"\":\n",
    "    print(\"This wasn't an empty string!\")"
   ]
  },
  {
   "cell_type": "markdown",
   "metadata": {},
   "source": [
    "We can always check values' \"truthiness\" with the built-in function `bool()`:"
   ]
  },
  {
   "cell_type": "code",
   "execution_count": null,
   "metadata": {},
   "outputs": [],
   "source": [
    "bool(3)"
   ]
  },
  {
   "cell_type": "code",
   "execution_count": null,
   "metadata": {},
   "outputs": [],
   "source": [
    "bool(\"\")"
   ]
  },
  {
   "cell_type": "code",
   "execution_count": null,
   "metadata": {},
   "outputs": [],
   "source": [
    "bool(0)"
   ]
  },
  {
   "cell_type": "code",
   "execution_count": null,
   "metadata": {},
   "outputs": [],
   "source": [
    "bool(\"Hello world!\")"
   ]
  },
  {
   "cell_type": "markdown",
   "metadata": {},
   "source": [
    "### 5.5 Exercise – type the end of the story!"
   ]
  },
  {
   "cell_type": "markdown",
   "metadata": {},
   "source": [
    "If-statements are rather useful if you're creating small text based games. Think of a Python script that runs a dungeons and dragons game, what does the player choose? How does it affekt the storyline?\n",
    "\n",
    "In this exercise, you will write an ending to a little (silly) story. You will write it as an flow control statement. By choosing a value for the variable `item`, and by passing it to a flow control statement, this variable decides the ending of the story! Depending of the value of `item` a different ending should then be printed with a `print()` function. You write the story ending that's printed! Save this story to variable called `ending`, and then print this variable. Simple!\n",
    "\n",
    "Remember that you can write string values with tripple quotes `\"\"\"` to make them a long string (see section 3.2 if you want to refreash your memory!). Good luck!"
   ]
  },
  {
   "cell_type": "markdown",
   "metadata": {},
   "source": [
    "**The End of the Story**"
   ]
  },
  {
   "cell_type": "markdown",
   "metadata": {},
   "source": [
    "```\n",
    "Teddy Merrybottom was tired. He had done what had been asked of him. With him, he carried enough booty to make his entire village the most wealthy in Southern Illyria. But the journey to Doom Mountain had been exhausting, and tragic. His three best friends had all perished. \n",
    "\n",
    "He couldn't for the life of him understand why they wanted to swim while in full armor. Granted, their fight with the dragon Grymf had been a fantastic, and surprising success – worthy of great celebration. But getting completely planked on honey beer, and then go swimming with breast plates? It was a bummer. Well, it was also sad, since, you know, they died.\n",
    "\n",
    "Even more disapointing was that the only one in Teddy's company that hadn't joined the party – and died – was Gary. And he was an idiot. And now, even though their three best friends was dead, Gary just kept complaining about his arthritis and how his knees hurt. This also meant that Teddy was taking care of all their stuff.\n",
    "\n",
    "Fortunatly, they were just about a hill away from their village. Teddy looked forward to being in front of his fire place, being rich and all that. But most of all, not having to spend any more time with Gary.\n",
    "\n",
    "– What is that!? Gary suddenly gasped\n",
    "\n",
    "– Where? Teddy replied, reaching for his sword hilt\n",
    "\n",
    "They were walking on a field right next to the edge of Hillside Forrest, and inbetween the trees, Teddy saw the contours of something vile. It was a Vampwolfosauros. A howling, bloodsucking lizard beast. It had seen them, and rushed towards them in a rage, trampling trees in its path.\n",
    "\n",
    "Teddy, struck by an instant adrenaline rush, drew his sword. He turned around to get his shield from the horse carriage. But in his exitement, he stumbled, and grabbed the only thing close to help him not loosing his footing – the horse strings. \n",
    "\n",
    "This pulled the horse in the direction towards the approaching monster, and, of course, it panicked and reared. It did so right next to a small boulder with a sharp edge, which cut the horse's leg. The horse, therefore, also lost its footing, tumbling over Teddy. In the chaos, the cart crashed to its side. \n",
    "\n",
    "Suddenly, Teddy found himself stuck in a pile of gold, jewels, weapons, and horse. And the Vampwolfosauros was just moments away. It was sure to kill them all! \n",
    "\n",
    "It was now all in the hands of Gary. Teddy and Gary both realised this, and they both felt terror. Gary's only chance was that Teddy would throw him something for their mutual protection against the massive, raging beast. But what?\n",
    "\n",
    "Teddy looked around. He saw four magical items lying next to him: \n",
    "- the Ice Jewel\n",
    "- the Ancient Staff of Pharts \n",
    "- the book \"The World's 10 Worst Poems\"\n",
    "- the Bear Spear (a magical spear shaped like a bear)\n",
    "\n",
    "He realised that chances were slim with either. But he reached out and grabbed his item of choice and threw it to Gary, screaming \"Come on you fool, save us!!\"\n",
    "```"
   ]
  },
  {
   "cell_type": "code",
   "execution_count": null,
   "metadata": {},
   "outputs": [],
   "source": [
    "item = \"\" # <- which item does Teddy choose?"
   ]
  },
  {
   "cell_type": "code",
   "execution_count": null,
   "metadata": {},
   "outputs": [],
   "source": [
    "# Try to write a flow control statement, containing at least one each of an if-, elif- and else-statement.\n",
    "\n",
    "# this flow control statement should decide the end of the story, depending on which item Gary's given\n",
    "\n",
    "# Good luck!"
   ]
  },
  {
   "cell_type": "code",
   "execution_count": null,
   "metadata": {},
   "outputs": [],
   "source": []
  },
  {
   "cell_type": "code",
   "execution_count": null,
   "metadata": {},
   "outputs": [],
   "source": []
  },
  {
   "cell_type": "code",
   "execution_count": null,
   "metadata": {},
   "outputs": [],
   "source": []
  },
  {
   "cell_type": "code",
   "execution_count": null,
   "metadata": {},
   "outputs": [],
   "source": []
  },
  {
   "cell_type": "markdown",
   "metadata": {},
   "source": [
    "## 6 Functions"
   ]
  },
  {
   "cell_type": "markdown",
   "metadata": {},
   "source": [
    "### 6.1 Definitions and terminology"
   ]
  },
  {
   "cell_type": "markdown",
   "metadata": {},
   "source": [
    "A **function** in Python is perhaps best described as a miniprogram within our code. It is block of code that is assigned to a namespace. We can then use and reuse the function, without having to rewrite all the code within it! Above, we have briefly touched on the subject of Pythons built-in functions, and in this chapter we will go through more of them. But we will also learn how to write our own functions."
   ]
  },
  {
   "cell_type": "markdown",
   "metadata": {},
   "source": [
    "But to start, why do we need functions? The short answer is that they save us alot of time and effort when writing programs.\n",
    "\n",
    "As an example, let's say we want to count the number of characters in a string value. We can write code to do that for us! \n",
    "\n",
    "_(In this example, don't get stuck on the code itself, it includes concepts we still havn't covered)_"
   ]
  },
  {
   "cell_type": "code",
   "execution_count": null,
   "metadata": {},
   "outputs": [],
   "source": [
    "string_value = \"Johan\""
   ]
  },
  {
   "cell_type": "code",
   "execution_count": null,
   "metadata": {},
   "outputs": [],
   "source": [
    "# again, don't get stuck in this code. We will cover it later :)\n",
    "for count,char in enumerate(string_value):\n",
    "    num = count + 1 \n",
    "\n",
    "# remember f-strings? If not, check out chapter 3.2.2 above\n",
    "print(f\"The string is {str(num)} characters long\")"
   ]
  },
  {
   "cell_type": "markdown",
   "metadata": {},
   "source": [
    "Above, we have a small snippet of code that helps us calculate how many characters there are in a string value. But let's say we want to use this code snippet in many different places in our program. It would be very tiresome to write it over and over again. Instead, we could use a function instead! Fortunately, there is a built-in function that helps us with excactly what we're after – the `len()` function:"
   ]
  },
  {
   "cell_type": "code",
   "execution_count": null,
   "metadata": {},
   "outputs": [],
   "source": [
    "len(\"Johan\")"
   ]
  },
  {
   "cell_type": "markdown",
   "metadata": {},
   "source": [
    "The `len()` function returns the number of items in a python container object. So, if given a string, the `len()` function will return the number of characters in the string. As you can see, the use of `len()` saved us alot of code typing!"
   ]
  },
  {
   "cell_type": "markdown",
   "metadata": {},
   "source": [
    "A function always have a name. The `len()` function has the name \"len\". Functions can be used by typing parenthesis `()` directly after the function name. In Python, when using a function, we say that we **call the function** – or we do a **function call**. But we can also say that we **invoke the function**. As you can see, there are often many names to the same concepts in Python. \n",
    "\n",
    "The string value \"Johan\" we wrote within the parenthesis is called **an argument**, and when we give functions arguments, we say that we **pass arguments to functions**. \n",
    "\n",
    "\n",
    "(These phrases will be used throughout this notebook, but if you are uncertain of the meaning of a term used, first try finding the explanation wihtin this notebook using <kbd>⌃ Control</kbd>+<kbd>F</kbd>, OR Google it! Googling programming concepts is a great way to learn!)"
   ]
  },
  {
   "cell_type": "markdown",
   "metadata": {},
   "source": [
    "In Jupyter, we can type <kbd>⇧ Shift</kbd>+<kbd>⇥ Tab</kbd> when our marker is within a function's parenthesis to see information about the function!"
   ]
  },
  {
   "cell_type": "code",
   "execution_count": null,
   "metadata": {},
   "outputs": [],
   "source": [
    "len(\"\") # <- try putting your marker within the double quotes in the parenthesis and tapping shift+tab"
   ]
  },
  {
   "cell_type": "markdown",
   "metadata": {},
   "source": [
    "(The information you see when tapping <kbd>⇧ Shift</kbd>+<kbd>⇥ Tab</kbd> is called the function's **docstring**)"
   ]
  },
  {
   "cell_type": "markdown",
   "metadata": {},
   "source": [
    "### 6.2 Built-in Functions"
   ]
  },
  {
   "cell_type": "markdown",
   "metadata": {},
   "source": [
    "In previous chapters in this notebook, we have used some built-in functions already. For example:"
   ]
  },
  {
   "cell_type": "code",
   "execution_count": null,
   "metadata": {},
   "outputs": [],
   "source": [
    "type(42) # checking an objects datatype"
   ]
  },
  {
   "cell_type": "code",
   "execution_count": null,
   "metadata": {},
   "outputs": [],
   "source": [
    "print(\"Hello world!\") # tells the interpretor to print the function's argument"
   ]
  },
  {
   "cell_type": "markdown",
   "metadata": {},
   "source": [
    "We can also convert values into other datatypes (remember that, in a notebook, you can always check the function's docstring pressing <kbd>⇧ Shift</kbd>+<kbd>⇥ Tab</kbd> when your marker is within the functions' parenthesis):"
   ]
  },
  {
   "cell_type": "code",
   "execution_count": null,
   "metadata": {},
   "outputs": [],
   "source": [
    "str(4) # returns passed argument as a string"
   ]
  },
  {
   "cell_type": "code",
   "execution_count": null,
   "metadata": {},
   "outputs": [],
   "source": [
    "int(5.0) # returns passed argument as an integer"
   ]
  },
  {
   "cell_type": "code",
   "execution_count": null,
   "metadata": {},
   "outputs": [],
   "source": [
    "int(\"5\")"
   ]
  },
  {
   "cell_type": "code",
   "execution_count": null,
   "metadata": {},
   "outputs": [],
   "source": [
    "float(10) # returns passed argument as a float"
   ]
  },
  {
   "cell_type": "code",
   "execution_count": null,
   "metadata": {},
   "outputs": [],
   "source": [
    "float(\"10\")"
   ]
  },
  {
   "cell_type": "markdown",
   "metadata": {},
   "source": [
    "There are many more of these built-in functions. Every time you use python code, these will work from the getgo. But there are many many more functions within the standard Python code package, but that don't work immediatly. They have to be imported from various modules."
   ]
  },
  {
   "cell_type": "markdown",
   "metadata": {},
   "source": [
    "### 6.3 The standard library and modules"
   ]
  },
  {
   "cell_type": "markdown",
   "metadata": {},
   "source": [
    "When you use a freshly installed version of Python, it comes with a set of built-in functions. But it also comes with a variety of \"libraries\" of code that can be easly accessed and used in your code. This is called **the standard library**. To get access to these, we use the `import` statement. The libraries of code we import are called **modules**, or **packages**. Let's import the `random` module:"
   ]
  },
  {
   "cell_type": "code",
   "execution_count": null,
   "metadata": {},
   "outputs": [],
   "source": [
    "import random"
   ]
  },
  {
   "cell_type": "markdown",
   "metadata": {},
   "source": [
    "After we have imported, we can use functions in this library by typing a dot `.` directly after the module name (using dots to access methods is called **dot notation**). \n",
    "\n",
    "In Jupyter, there is a really neat trick to see which functions are included. After having typed `random.`, press the <kbd>⇥ Tab</kbd> key to get a list of available functions:"
   ]
  },
  {
   "cell_type": "code",
   "execution_count": null,
   "metadata": {},
   "outputs": [],
   "source": [
    "# replace this comment with the code \"random.\" and then place your marker next to the \".\" and press the tab key!"
   ]
  },
  {
   "cell_type": "markdown",
   "metadata": {},
   "source": [
    "In this case, we want to use the function called `randint()` from the random module. This function takes two arguments: one starting point number value, and one end point number value, and returns a random number inbetween:"
   ]
  },
  {
   "cell_type": "code",
   "execution_count": null,
   "metadata": {},
   "outputs": [],
   "source": [
    "random.randint(1, 10)"
   ]
  },
  {
   "cell_type": "code",
   "execution_count": null,
   "metadata": {},
   "outputs": [],
   "source": [
    "random.randint(-2446, 10645)"
   ]
  },
  {
   "cell_type": "markdown",
   "metadata": {},
   "source": [
    "That is how you use imported modules and their functions!\n",
    "\n",
    "We can also specifiy method we want imported by using the `from` keyword:"
   ]
  },
  {
   "cell_type": "code",
   "execution_count": null,
   "metadata": {},
   "outputs": [],
   "source": [
    "from random import randint # from the 'random' module/package, import the function 'randint'"
   ]
  },
  {
   "cell_type": "code",
   "execution_count": null,
   "metadata": {},
   "outputs": [],
   "source": [
    "randint(1, 10) # now, we don't need to specify module, since we directly imported the function itself!"
   ]
  },
  {
   "cell_type": "markdown",
   "metadata": {},
   "source": [
    "We can also use aliases of packages. This is done with the `as` keyword. This is usually done to save typing time by shortning long names. For example:"
   ]
  },
  {
   "cell_type": "code",
   "execution_count": 10,
   "metadata": {},
   "outputs": [],
   "source": [
    "import datetime as dt"
   ]
  },
  {
   "cell_type": "markdown",
   "metadata": {},
   "source": [
    "Now we only type `dt` to get access to the module `datetime`'s methods and classes:"
   ]
  },
  {
   "cell_type": "code",
   "execution_count": null,
   "metadata": {},
   "outputs": [],
   "source": [
    "# the module 'dt' has a class called 'datetime' and the class 'datetime' has a method called 'today'\n",
    "dt.datetime.today() "
   ]
  },
  {
   "cell_type": "markdown",
   "metadata": {},
   "source": [
    "Another cool module to import is the `os` module. It lets us explore the files on our computer! Let's import it:"
   ]
  },
  {
   "cell_type": "code",
   "execution_count": null,
   "metadata": {},
   "outputs": [],
   "source": [
    "import os"
   ]
  },
  {
   "cell_type": "markdown",
   "metadata": {},
   "source": [
    "We can use the `listdir()` function to get us a list of all files in the directory (=folder) this notebook is located within:"
   ]
  },
  {
   "cell_type": "code",
   "execution_count": null,
   "metadata": {},
   "outputs": [],
   "source": [
    "os.listdir()"
   ]
  },
  {
   "cell_type": "markdown",
   "metadata": {},
   "source": [
    "In our import statement, we can also just import all functions and methods within a module at the same time with the from keyword. This is done using the `*`"
   ]
  },
  {
   "cell_type": "code",
   "execution_count": null,
   "metadata": {},
   "outputs": [],
   "source": [
    "from os import *"
   ]
  },
  {
   "cell_type": "markdown",
   "metadata": {},
   "source": [
    "This means we imported ALL functions within the `os` module. It is the same as just typing `import os`, but now we don't need to specify the module name before using its functions. \n",
    "\n",
    "HOWEVER! This is NOT recommended. It makes our code more confusing and less readable.\n",
    "\n",
    "In Python, you should always aim to make your code transparent. Specify which methods you want imported."
   ]
  },
  {
   "cell_type": "markdown",
   "metadata": {},
   "source": [
    "#### 6.3.1 Exercise – the coin toss"
   ]
  },
  {
   "cell_type": "markdown",
   "metadata": {},
   "source": [
    "The random module's function `randint` can be used to produce random number. In this exercise, you shall try to build a small script that takes a random number, and depending on the number, either \"Heads!\" or \"Tails!\" is printed by the `print()` function. This will require you to use variables, the `random.randint()` function, and flow control statements.\n",
    "\n",
    "Remember to import the random module! The solution is found in the solutions notebook.\n",
    "\n",
    "Good luck!"
   ]
  },
  {
   "cell_type": "code",
   "execution_count": null,
   "metadata": {},
   "outputs": [],
   "source": []
  },
  {
   "cell_type": "code",
   "execution_count": null,
   "metadata": {},
   "outputs": [],
   "source": []
  },
  {
   "cell_type": "code",
   "execution_count": null,
   "metadata": {},
   "outputs": [],
   "source": []
  },
  {
   "cell_type": "code",
   "execution_count": null,
   "metadata": {},
   "outputs": [],
   "source": []
  },
  {
   "cell_type": "markdown",
   "metadata": {},
   "source": [
    "### 6.4 Third party modules"
   ]
  },
  {
   "cell_type": "markdown",
   "metadata": {},
   "source": [
    "One huge advantage in learning Python is its flourishing community. Many, many, many programmers contribute to the Python language, often by supplying third party modules. They are packages that is not part of the standard library. They need to be downloaded before you can import and use their functions. This is normally done by using the `pip` Python library installer, or through Anaconda. However, this is not covered in this notebook, but you can find an extensive guide [here.](https://packaging.python.org/tutorials/installing-packages/)\n",
    "\n",
    "If you are using Jupyter through the Anaconda software (as is recommended), this means you acctually have a number of such third party modules already installed on your computer. You can see all your available libraries by using the built-in function `help()`:"
   ]
  },
  {
   "cell_type": "code",
   "execution_count": null,
   "metadata": {},
   "outputs": [],
   "source": [
    "help('modules')"
   ]
  },
  {
   "cell_type": "markdown",
   "metadata": {},
   "source": [
    "In the list you can find libraries such as `pandas`, `numpy` and `matplotlib` (to name a few) – all third party modules! All the packages in the list can be imported using the `import` statement."
   ]
  },
  {
   "cell_type": "markdown",
   "metadata": {},
   "source": [
    "### 6.5 Writing your own functions"
   ]
  },
  {
   "cell_type": "markdown",
   "metadata": {},
   "source": [
    "As was explained briefly in the beginning of this chapter, a function is like a miniprogram within our code. This miniprogram has a name that we can call (or invoke) to use and reuse the code block within the function.\n",
    "\n",
    "In the above sections, we have learned about built-in and imported functions. But we can build our own! Let's build a function that greets us hello:"
   ]
  },
  {
   "cell_type": "code",
   "execution_count": null,
   "metadata": {},
   "outputs": [],
   "source": [
    "def greetings():\n",
    "    print(\"Hello deer!\")\n",
    "    print(\"How are you?\")\n",
    "    print(\"I am well, thanks for asking!\")"
   ]
  },
  {
   "cell_type": "markdown",
   "metadata": {},
   "source": [
    "Running above cell will not produce an output. It is a function statement where we simply define our function. This is done by typing the keyword `def` (for \"define\"), followed by our name of the function. Then enclosed parenthesis, followed by a colon `:`. \n",
    "\n",
    "When you've typed all that, it is time to define the function's content – its code block. After the colon, we press the <kbd>↵  Enter</kbd> key, and the next line is automatically indented, marking that the functions code is in a new code block! The function's content is the `print()` functions that are then called one after another. \n",
    "\n",
    "We can now call our function by invoking its name!"
   ]
  },
  {
   "cell_type": "code",
   "execution_count": null,
   "metadata": {},
   "outputs": [],
   "source": [
    "greetings()\n",
    "greetings()\n",
    "greetings()"
   ]
  },
  {
   "cell_type": "markdown",
   "metadata": {},
   "source": [
    "Now, if we HADN'T used a function, the code for getting us the same output would be:"
   ]
  },
  {
   "cell_type": "code",
   "execution_count": null,
   "metadata": {},
   "outputs": [],
   "source": [
    "print(\"Hello deer!\")\n",
    "print(\"How are you?\")\n",
    "print(\"I am well, thanks for asking!\")\n",
    "print(\"Hello deer!\")\n",
    "print(\"How are you?\")\n",
    "print(\"I am well, thanks for asking!\")\n",
    "print(\"Hello deer!\")\n",
    "print(\"How are you?\")\n",
    "print(\"I am well, thanks for asking!\")"
   ]
  },
  {
   "cell_type": "markdown",
   "metadata": {},
   "source": [
    "In Python, we want to have as little duplicated code as possible. This means we get shorter programs, code that is easier to read, and – perhaps most importantly – _code that is easier to edit and debug_. \n",
    "\n",
    "As some of you might've spotted, there is a spelling error in above code. We've acctually not used the pleasantry \"Hello dear\" in our greeting. Instead we called the person we're greeting a deer. Not very nice. When using functions, this is an easy fix: we just change the code within the function's code block:"
   ]
  },
  {
   "cell_type": "code",
   "execution_count": null,
   "metadata": {},
   "outputs": [],
   "source": [
    "def greetings():\n",
    "    print(\"Hello dear!\") # <- easy fix!\n",
    "    print(\"How are you?\")\n",
    "    print(\"I am well, thanks for asking!\")"
   ]
  },
  {
   "cell_type": "code",
   "execution_count": null,
   "metadata": {},
   "outputs": [],
   "source": [
    "greetings()\n",
    "greetings()\n",
    "greetings()"
   ]
  },
  {
   "cell_type": "markdown",
   "metadata": {},
   "source": [
    "If we hadn't used a function, we would've had to change it in all places where the spelling error occured:"
   ]
  },
  {
   "cell_type": "code",
   "execution_count": null,
   "metadata": {},
   "outputs": [],
   "source": [
    "print(\"Hello dear!\") # Here...\n",
    "print(\"How are you?\")\n",
    "print(\"I am well, thanks for asking!\")\n",
    "print(\"Hello dear!\") # here...\n",
    "print(\"How are you?\")\n",
    "print(\"I am well, thanks for asking!\")\n",
    "print(\"Hello dear!\") # and here\n",
    "print(\"How are you?\")\n",
    "print(\"I am well, thanks for asking!\")"
   ]
  },
  {
   "cell_type": "markdown",
   "metadata": {},
   "source": [
    "As you can see, this is not very practical. And it is also easy to miss all the occurances of an error in duplicated code. So: if you can avoid it – don't duplicate code."
   ]
  },
  {
   "cell_type": "markdown",
   "metadata": {},
   "source": [
    "### 6.6 Arguments"
   ]
  },
  {
   "cell_type": "code",
   "execution_count": null,
   "metadata": {},
   "outputs": [],
   "source": [
    "len(\"Johan\")"
   ]
  },
  {
   "cell_type": "markdown",
   "metadata": {},
   "source": [
    "In this `len()` function call, we pass the function an argument – the string value \"Johan\". When building our own functions, we can specify if they require arguments. We do so by writing a variable name within the parenthesis while defining our function. These variable names within a function's parenthesis while defining the function is called a **parameter**. Let's modify our greeting function:"
   ]
  },
  {
   "cell_type": "code",
   "execution_count": null,
   "metadata": {},
   "outputs": [],
   "source": [
    "def greetings(parameter):\n",
    "    print(f\"Hello dear {parameter}!\") # this is a f-string, remember?\n",
    "    print(\"How are you?\")\n",
    "    print(\"I am well, thanks for asking!\")"
   ]
  },
  {
   "cell_type": "markdown",
   "metadata": {},
   "source": [
    "Arguments are information that is passed in the function call and is then used within the function's code block. Above, I've called the parameter `parameter` to make it obvious where we put it. We can, however, name the arguments to whatever we like. We want the code to be readable, and the name `parameter` is rather generic and not very readable. Let's change it:"
   ]
  },
  {
   "cell_type": "code",
   "execution_count": null,
   "metadata": {},
   "outputs": [],
   "source": [
    "def greetings(name_string):\n",
    "    print(f\"Hello dear {name_string}!\")\n",
    "    print(\"How are you?\")\n",
    "    print(\"I am well, thanks for asking!\")"
   ]
  },
  {
   "cell_type": "markdown",
   "metadata": {},
   "source": [
    "Now, when we call the function like before, we will get an error:"
   ]
  },
  {
   "cell_type": "code",
   "execution_count": null,
   "metadata": {},
   "outputs": [],
   "source": [
    "greetings()"
   ]
  },
  {
   "cell_type": "markdown",
   "metadata": {},
   "source": [
    "When a argument is mandatory for the function call to work, it is called a **positional argument**. The error message tells us that an argument is required, and then tell us the name of the parameter missing a value. This is why it is important to name your parameters in a readable manner. If our name would just be \"parameter\", the error message wouldn't make any sense.\n",
    "\n",
    "When an argument is put in the function call, this will then be used in the function's code block. To be precise: the argument will be assigned to the function's parameter. In this case, the string value \"Johan\" (the argument), will be assigned to the function's parameter `name_string`, which is then used as a variable within the function's code block:"
   ]
  },
  {
   "cell_type": "code",
   "execution_count": null,
   "metadata": {},
   "outputs": [],
   "source": [
    "greetings(\"Johan\")"
   ]
  },
  {
   "cell_type": "markdown",
   "metadata": {},
   "source": [
    "We can now use the function with any name we'd like:"
   ]
  },
  {
   "cell_type": "code",
   "execution_count": null,
   "metadata": {},
   "outputs": [],
   "source": [
    "greetings(\"Pete\")"
   ]
  },
  {
   "cell_type": "code",
   "execution_count": null,
   "metadata": {},
   "outputs": [],
   "source": [
    "greetings(\"Hanna\")"
   ]
  },
  {
   "cell_type": "markdown",
   "metadata": {},
   "source": [
    "As you can see, we can pass any string we like to the function!"
   ]
  },
  {
   "cell_type": "code",
   "execution_count": null,
   "metadata": {},
   "outputs": [],
   "source": [
    "greetings(\"KJ&€!AEFHO&#AHIUFQO%!PJ\")"
   ]
  },
  {
   "cell_type": "markdown",
   "metadata": {},
   "source": [
    "It is worth explaining once more: When we pass our string value to the function, it is assigned _within the function_ as a variable – the variable `name_string`. It is this variable namespace that is the function's parameter. We can even specify which parameter the argument should be assigned to in the function call:"
   ]
  },
  {
   "cell_type": "code",
   "execution_count": null,
   "metadata": {},
   "outputs": [],
   "source": [
    "greetings(name_string=\"Johan\") # the parameter is set to the argument value \"Johan\""
   ]
  },
  {
   "cell_type": "markdown",
   "metadata": {},
   "source": [
    "Here's another function that just prints the function's argument:"
   ]
  },
  {
   "cell_type": "markdown",
   "metadata": {},
   "source": [
    "So, to recap:\n",
    "- The function's **argument** is the value that is passed to the function when it is called (the string value \"Johan\" in the above example)\n",
    "- The function's **parameter** is the variable name to which the argument value is assigned (the variable `name_string` in the above example)"
   ]
  },
  {
   "cell_type": "markdown",
   "metadata": {},
   "source": [
    "You can also have more than one parameter when you define your functions. You just put more parameters within the parenthesis when defining your function. Each parameter is seperated by a comma.\n",
    "\n",
    "As an example, let's redefine our greeting function to also require a `country` parameter:"
   ]
  },
  {
   "cell_type": "code",
   "execution_count": null,
   "metadata": {},
   "outputs": [],
   "source": [
    "def greetings(name, country):\n",
    "    print(f\"Hello {name}! You're from {country}, right?\")"
   ]
  },
  {
   "cell_type": "code",
   "execution_count": null,
   "metadata": {},
   "outputs": [],
   "source": [
    "greetings(\"<your name>\", \"<your country>\")"
   ]
  },
  {
   "cell_type": "markdown",
   "metadata": {},
   "source": [
    "Since we have defined the function with two parameters, just giving the function one argument in the function call will now produce an error:"
   ]
  },
  {
   "cell_type": "code",
   "execution_count": null,
   "metadata": {},
   "outputs": [],
   "source": [
    "greetings(\"Johan\")"
   ]
  },
  {
   "cell_type": "markdown",
   "metadata": {},
   "source": [
    "Remember, the order of parameters counts. If you pass positional arguments in the wrong order, it may not result in what you expected:"
   ]
  },
  {
   "cell_type": "code",
   "execution_count": null,
   "metadata": {},
   "outputs": [],
   "source": [
    "greetings(\"Sweden\",\"Johan\")"
   ]
  },
  {
   "cell_type": "markdown",
   "metadata": {},
   "source": [
    "#### 6.6.1 Exercise – truth-teller function"
   ]
  },
  {
   "cell_type": "markdown",
   "metadata": {},
   "source": [
    "In this exercise, you will define your own function. This function shall have two parameters. When you call the function, it should first print the two arguments, then it should compare them. If the passed arguments are not the same, the function should print \"The arguments are not the same...\". If they are the same, the function should print \"The arguments are the same!\"\n",
    "\n",
    "The solution can be found in the solutions notebook. Good luck!"
   ]
  },
  {
   "cell_type": "code",
   "execution_count": null,
   "metadata": {},
   "outputs": [],
   "source": []
  },
  {
   "cell_type": "code",
   "execution_count": null,
   "metadata": {},
   "outputs": [],
   "source": []
  },
  {
   "cell_type": "code",
   "execution_count": null,
   "metadata": {},
   "outputs": [],
   "source": []
  },
  {
   "cell_type": "code",
   "execution_count": null,
   "metadata": {},
   "outputs": [],
   "source": []
  },
  {
   "cell_type": "markdown",
   "metadata": {},
   "source": [
    "### 6.7 (Optional) Styling conventions writing functions"
   ]
  },
  {
   "cell_type": "markdown",
   "metadata": {},
   "source": [
    "Here's a (kind of) quick style guide when you're defining functions. Let's take the earlier example:"
   ]
  },
  {
   "cell_type": "code",
   "execution_count": null,
   "metadata": {},
   "outputs": [],
   "source": [
    "def greetings(name, country):\n",
    "    print(f\"Hello  {name}! You're from {country}, right?\")"
   ]
  },
  {
   "cell_type": "code",
   "execution_count": null,
   "metadata": {},
   "outputs": [],
   "source": [
    "greetings(name=\"Johan\", country=\"Sweden\")"
   ]
  },
  {
   "cell_type": "markdown",
   "metadata": {},
   "source": [
    "When specifying argument to parameters as in the cell directly above, note that we don't use blank space inbetween the `=`. \n",
    "\n",
    "Some of you might have noticed that this is different than when we defined variables in section 3 above. If we would simply define a variable like this:"
   ]
  },
  {
   "cell_type": "code",
   "execution_count": null,
   "metadata": {},
   "outputs": [],
   "source": [
    "name = \"Johan\""
   ]
  },
  {
   "cell_type": "markdown",
   "metadata": {},
   "source": [
    "...we use one blank space on each side of the `=` operator. However, it is common practice _not_ to use blank space when specifying parameters in function calls:"
   ]
  },
  {
   "cell_type": "code",
   "execution_count": null,
   "metadata": {},
   "outputs": [],
   "source": [
    "greetings(name=\"Johan\", country=\"Sweden\") # No blank spaces next to the \"=\" operators!"
   ]
  },
  {
   "cell_type": "markdown",
   "metadata": {},
   "source": [
    "However, there IS blank space after the comma. All this is common practice in the Python community, since it is considered to increase your code's readability. Even though it still would work with blank space:"
   ]
  },
  {
   "cell_type": "code",
   "execution_count": null,
   "metadata": {},
   "outputs": [],
   "source": [
    "greetings(country = \"Sweden\", name = \"Johan\") # don't write like this, even though it works :)"
   ]
  },
  {
   "cell_type": "markdown",
   "metadata": {},
   "source": [
    "Why? This is in accordance with [the official Python style guide.](https://www.python.org/dev/peps/pep-0008/#whitespace-in-expressions-and-statements)"
   ]
  },
  {
   "cell_type": "markdown",
   "metadata": {},
   "source": [
    "Lastly, since the function `greetings()` _requires_ two argument – that is, two **positional arguments** – we shouldn't name them in our function calls. It is seen as overly wordy and verbose. So this is prefered:"
   ]
  },
  {
   "cell_type": "code",
   "execution_count": null,
   "metadata": {},
   "outputs": [],
   "source": [
    "greetings(\"Johan\", \"Sweden\")"
   ]
  },
  {
   "cell_type": "markdown",
   "metadata": {},
   "source": [
    "### 6.8 The `return` statement"
   ]
  },
  {
   "cell_type": "markdown",
   "metadata": {},
   "source": [
    "Just having functions printing information may not be sufficient when you write a function. Often, you want your functions to do something to the values you pass to them – you want them to _return_ a result of some kind. We can specify what to be returned from functions we write by using the `return` statement. As an example, we will build a small calculator!"
   ]
  },
  {
   "cell_type": "code",
   "execution_count": null,
   "metadata": {},
   "outputs": [],
   "source": [
    "def multiplies_by_three(number):\n",
    "    number = number * 3\n",
    "    return number"
   ]
  },
  {
   "cell_type": "code",
   "execution_count": null,
   "metadata": {},
   "outputs": [],
   "source": [
    "multiplies_by_three(5)"
   ]
  },
  {
   "cell_type": "markdown",
   "metadata": {},
   "source": [
    "Let's go through this step by step:\n",
    "1. We have defined a new function that we named `multiplies_by_three`\n",
    "2. We've specified that the function has a parameter which we've named `number`\n",
    "3. The functions code block then multiplies the `number` parameter's value by three, and reassigns the results to the variable `number`\n",
    "4. It then _returns_ the resulting number value that is assigned to `number` using the `return` keyword. _This is the return statement_\n",
    "5. Finally, we call our function, passing it the integer value 5 as an argument. It runs the integer through the function's code block and returns the value 15"
   ]
  },
  {
   "cell_type": "markdown",
   "metadata": {},
   "source": [
    "Since the function now returns a value, we can save this returned result in a new variable by placing the function in a assignment statement:"
   ]
  },
  {
   "cell_type": "code",
   "execution_count": null,
   "metadata": {},
   "outputs": [],
   "source": [
    "results = multiplies_by_three(5)"
   ]
  },
  {
   "cell_type": "code",
   "execution_count": null,
   "metadata": {},
   "outputs": [],
   "source": [
    "results"
   ]
  },
  {
   "cell_type": "markdown",
   "metadata": {},
   "source": [
    "Actually, a function _always_ return a value. But if you don't specify which one with a return statement, it will return the `None` value. See what happens if we only remove the result statement:"
   ]
  },
  {
   "cell_type": "code",
   "execution_count": null,
   "metadata": {},
   "outputs": [],
   "source": [
    "def multiplies_by_three(number):\n",
    "    number = number * 3"
   ]
  },
  {
   "cell_type": "code",
   "execution_count": null,
   "metadata": {},
   "outputs": [],
   "source": [
    "results = multiplies_by_three(5)"
   ]
  },
  {
   "cell_type": "code",
   "execution_count": null,
   "metadata": {},
   "outputs": [],
   "source": [
    "results # Doesn't return anything?"
   ]
  },
  {
   "cell_type": "code",
   "execution_count": null,
   "metadata": {},
   "outputs": [],
   "source": [
    "type(results)"
   ]
  },
  {
   "cell_type": "code",
   "execution_count": null,
   "metadata": {},
   "outputs": [],
   "source": [
    "None == results"
   ]
  },
  {
   "cell_type": "markdown",
   "metadata": {},
   "source": [
    "### 6.9 Exercise – the currency converter"
   ]
  },
  {
   "cell_type": "markdown",
   "metadata": {},
   "source": [
    "In this exercise, we shall build a function that takes two arguments. The first is a number value specifying an amount of euros, and the second is a string value specifying which currency we want to convert into (preferably the currency codes). \n",
    "\n",
    "So, if we pass our function the arguments `2000` and `\"USD\"`, the function shall return the amount 2000 euros converted into American dollars. The function should be able to calculate at least four different currencies:\n",
    "- Swedish krona (SEK), 1 euro equals 10.43 Swedish krona\n",
    "- American dollar (USD), 1 euro equals 1.17 American dollars\n",
    "- British Sterling Pound (GBP), 1 euro equals 0.92 British pounds\n",
    "- Chinese Renminbi (RMB), 1 euro equals 7.89 renminbis\n",
    "\n",
    "Remember to try to write the function as zen-like (also called \"pythonic\") as possible! For example, name your parameters in a logical manner :) \n",
    "\n",
    "The solution is found in the solutions notebook. Good luck!"
   ]
  },
  {
   "cell_type": "code",
   "execution_count": null,
   "metadata": {},
   "outputs": [],
   "source": []
  },
  {
   "cell_type": "code",
   "execution_count": null,
   "metadata": {},
   "outputs": [],
   "source": []
  },
  {
   "cell_type": "code",
   "execution_count": null,
   "metadata": {},
   "outputs": [],
   "source": []
  },
  {
   "cell_type": "code",
   "execution_count": null,
   "metadata": {},
   "outputs": [],
   "source": []
  },
  {
   "cell_type": "markdown",
   "metadata": {},
   "source": [
    "### 6.10 Summary – Functions in python"
   ]
  },
  {
   "cell_type": "markdown",
   "metadata": {},
   "source": [
    "- Functions are small miniprograms. They are containers of block of code. They help us not having to dublicate code\n",
    "- We **call** functions by **invoking** (executing) them, which means we write their names followed by enclosed parenthesis `()`\n",
    "- Often, we pass values to function when invoking them. These input values are called **arguments**\n",
    "- The arguments' values are assigned to the function's **parameters**, which are then used as variables within the function's code block\n",
    "- By invoking functions, it **returns a value as an output**. We can specify what that should be in the function by using **the return statement**"
   ]
  },
  {
   "cell_type": "markdown",
   "metadata": {},
   "source": [
    "## 7 Local and global scopes"
   ]
  },
  {
   "cell_type": "markdown",
   "metadata": {},
   "source": [
    "Hopefully, you now understand how to use and how to build your own functions, and why they are useful when coding in Python. But there is one concept we havn't introduced yet which is important to understand when writing functions in Python: **scopes**.\n",
    "\n",
    "When we execute code, we do so in a scope. Think of it as the environment where the code lives.\n",
    "\n",
    "The code that is executed outside a function is in a different scope than the code living inside it. Take this function that creates a variable named `number`, assigns the integer 9 to this variable, and then returns it:"
   ]
  },
  {
   "cell_type": "code",
   "execution_count": null,
   "metadata": {},
   "outputs": [],
   "source": [
    "def make_nine():\n",
    "    number = 9\n",
    "    return number"
   ]
  },
  {
   "cell_type": "markdown",
   "metadata": {},
   "source": [
    "Let's try it!"
   ]
  },
  {
   "cell_type": "code",
   "execution_count": null,
   "metadata": {},
   "outputs": [],
   "source": [
    "make_nine()"
   ]
  },
  {
   "cell_type": "markdown",
   "metadata": {},
   "source": [
    "When we called the function, the code block within it was executed, and the integer 9 was returned. But what happens if we first create a variable outside the function with the same name?"
   ]
  },
  {
   "cell_type": "code",
   "execution_count": null,
   "metadata": {},
   "outputs": [],
   "source": [
    "number = 3\n",
    "number"
   ]
  },
  {
   "cell_type": "markdown",
   "metadata": {},
   "source": [
    "...and now run the function again:"
   ]
  },
  {
   "cell_type": "code",
   "execution_count": null,
   "metadata": {},
   "outputs": [],
   "source": [
    "make_nine()"
   ]
  },
  {
   "cell_type": "markdown",
   "metadata": {},
   "source": [
    "So, if we now check the variable `number`, which value will we get? Can you guess?"
   ]
  },
  {
   "cell_type": "code",
   "execution_count": null,
   "metadata": {},
   "outputs": [],
   "source": [
    "number"
   ]
  },
  {
   "cell_type": "markdown",
   "metadata": {},
   "source": [
    "_Why is this?_ \n",
    "\n",
    "We first created the variable `number` outside the function. This happend in the scope \"outside\". This is called **the global scope**. There is no scope outside the global scope, no way to zoom further out. Variables that are created in the global scope are called **global variables**.\n",
    "\n",
    "The code that lives within the function is within the house. This is called a **local scope**. When the function is invoked, the code inside the function is executed in _a local execution context_. This means that the variable `number` we created inside the function is within in a different context than when we defined the global variable `number = 3`, in the global scope. Variables defined inside a function – inside the function's local scope – are called **local variables**. \n",
    "\n",
    "**Variables cannot be both local and global.** So there is a global variable named `number`, and there is a local variable named the same – `number`.\n",
    "\n",
    "Here's the same code, but with some comments to highlight scopes:\n"
   ]
  },
  {
   "cell_type": "code",
   "execution_count": null,
   "metadata": {},
   "outputs": [],
   "source": [
    "def make_nine():\n",
    "    # This code block is in a local scope\n",
    "    number = 9 # Local variable\n",
    "    return number # The local scope terminates after this line\n",
    "\n",
    "number = 3 # Global variable\n",
    "\n",
    "make_nine() # This executes the code within the function, creating a local scope\n",
    "\n",
    "number # This is still our global variable\n"
   ]
  },
  {
   "cell_type": "markdown",
   "metadata": {},
   "source": [
    "When `number` is defined in the `make_nine()` function, it only lives in this local scope. When the last line within the function is executed, the local scope is terminated and all variables within gets forgotten.\n",
    "\n",
    "Here is a picture visualising what was going on:"
   ]
  },
  {
   "cell_type": "markdown",
   "metadata": {},
   "source": [
    "<img src=\"../course_material/scopes.png\" style=\"width: 600px;\"/>"
   ]
  },
  {
   "cell_type": "markdown",
   "metadata": {},
   "source": [
    "1. We defined a function called `make_nine()`, and within there is a local variable called `number`\n",
    "2. We created the global variable `number` – this happend in the global scope\n",
    "3. We call the function and a local scope is created, and the code block within the function executes\n",
    "4. The _local_ variable `number` gets assigned to a value – the integer 9 – but this happens within the local scope, _it is a different variable than the global variable `number`_\n",
    "5. The integer value 9 is returned by the function and the local scope is terminated and the local variable `number` is forgotten\n",
    "6. Finally, we run the _global_ variable `number` which returns the integer 3 since this is the value the global variable `number` points to"
   ]
  },
  {
   "cell_type": "markdown",
   "metadata": {},
   "source": [
    "Let's include som `print()` functions to make it even clearer:"
   ]
  },
  {
   "cell_type": "code",
   "execution_count": null,
   "metadata": {},
   "outputs": [],
   "source": [
    "def make_nine():\n",
    "    number = 9 # local variable\n",
    "    print(\"Local scope: 'number' is \" + str(number))\n",
    "    return number"
   ]
  },
  {
   "cell_type": "code",
   "execution_count": null,
   "metadata": {},
   "outputs": [],
   "source": [
    "number = 3\n",
    "print(\"Global scope: 'number' is \" + str(number))\n",
    "\n",
    "# we now call the function, creating a local execution context\n",
    "make_nine()\n",
    "\n",
    "print(\"Global scope: 'number' is still \" + str(number) + \" in the global scope\")"
   ]
  },
  {
   "cell_type": "markdown",
   "metadata": {},
   "source": [
    "Hopefully, you now somewhat understand scopes. This concept has some major implications on your code. You will be very confused about bugs in your code if you, for example, don't know which variable lives in which scope. Here are some general rules concerning scopes that will hopefully be useful to remember moving forward:"
   ]
  },
  {
   "cell_type": "markdown",
   "metadata": {},
   "source": [
    "### 7.1 Global code cannot use local variables"
   ]
  },
  {
   "cell_type": "markdown",
   "metadata": {},
   "source": [
    "Take this example:"
   ]
  },
  {
   "cell_type": "code",
   "execution_count": null,
   "metadata": {},
   "outputs": [],
   "source": [
    "def define_a_variable():\n",
    "    # This code is in a local scope\n",
    "    local_num = 42"
   ]
  },
  {
   "cell_type": "code",
   "execution_count": null,
   "metadata": {},
   "outputs": [],
   "source": [
    "# calling the function, creating its local scope\n",
    "define_a_variable()"
   ]
  },
  {
   "cell_type": "code",
   "execution_count": null,
   "metadata": {},
   "outputs": [],
   "source": [
    "local_num # error, since there is no such variable in the global scope"
   ]
  },
  {
   "cell_type": "markdown",
   "metadata": {},
   "source": [
    "The variable `local_num` doesn't exist in the global scope, it only exists briefly locally when the function is called and the functions code is run. When the function's code block is executed, the local scope terminates and the local variable is forgotten. So when we try to reference that variable in the global scope, the computer has no variable called `local_num` defined in memory. "
   ]
  },
  {
   "cell_type": "markdown",
   "metadata": {},
   "source": [
    "### 7.2 Global variables can be used in local scopes"
   ]
  },
  {
   "cell_type": "markdown",
   "metadata": {},
   "source": [
    "All local scopes can access variables that exists in the global scope. Take this example:"
   ]
  },
  {
   "cell_type": "code",
   "execution_count": null,
   "metadata": {},
   "outputs": [],
   "source": [
    "def a_function():\n",
    "    print(fruit)"
   ]
  },
  {
   "cell_type": "code",
   "execution_count": null,
   "metadata": {},
   "outputs": [],
   "source": [
    "fruit = \"Banana\""
   ]
  },
  {
   "cell_type": "markdown",
   "metadata": {},
   "source": [
    "Above, we have a function that only prints a variable named `fruit`. When we call `a_function()`, the interpreter sees that we want to print a variable. But since we havn't created any such variable locally within the function, the interpreter checks to see if any such variable exists in the global scope. So if we run the function:"
   ]
  },
  {
   "cell_type": "code",
   "execution_count": null,
   "metadata": {},
   "outputs": [],
   "source": [
    "a_function()"
   ]
  },
  {
   "cell_type": "markdown",
   "metadata": {},
   "source": [
    "...it returns the value of the global variable `fruit`.\n",
    "\n",
    "So the rule is: if there is no `assignement statement` within a local scope, and a variable is referenced, the interpreter will check for any variable with the same name in the global scope and then use any value or object assigned to this name."
   ]
  },
  {
   "cell_type": "markdown",
   "metadata": {},
   "source": [
    "### 7.3 Local scopes can't use variables in other local scopes"
   ]
  },
  {
   "cell_type": "markdown",
   "metadata": {},
   "source": [
    "Let's define two functions:"
   ]
  },
  {
   "cell_type": "code",
   "execution_count": null,
   "metadata": {},
   "outputs": [],
   "source": [
    "def function_one():\n",
    "    big_number = 99\n",
    "    function_two()\n",
    "    print(big_number)\n",
    "    \n",
    "def function_two():\n",
    "    big_number = 9000"
   ]
  },
  {
   "cell_type": "markdown",
   "metadata": {},
   "source": [
    "Here, we have two functions. `function_two()` is called within the scope of `function_one()`. If we call `function_one()`, which number do you think will be printed? Let's have a look:"
   ]
  },
  {
   "cell_type": "code",
   "execution_count": null,
   "metadata": {},
   "outputs": [],
   "source": [
    "function_one()"
   ]
  },
  {
   "cell_type": "markdown",
   "metadata": {},
   "source": [
    "When we call `function_one()`, the variable `big_number` is assigned to the value 99. And after that `function_two()` is called, creating its own local scope. Within this scope, `big_number` is assigned to the value 9000 – _but this is another variable than the one in `function_one()`._ They live in different (local) scopes, and are therefore not the same variable.\n",
    "\n",
    "After `big_number` is defined in `function_two()`, the function is finished and its local scope terminated. The local variable `big_number` in `function_two()` is consequently lost. The interpreter then returns to the local scope within `function_one()` and prints `big_number` – which in _this_ scope is assigned to 99.\n",
    "\n",
    "The two functions' scopes are not connected and thus, their variables are not interchangable. Let's create a variable in `function_two()` that isn't in `function_one()` and then try to reference it:"
   ]
  },
  {
   "cell_type": "code",
   "execution_count": 1,
   "metadata": {},
   "outputs": [],
   "source": [
    "def function_one():\n",
    "    function_two()\n",
    "    print(fruit_new)\n",
    "    \n",
    "def function_two():\n",
    "    fruit_new = \"Banana\""
   ]
  },
  {
   "cell_type": "code",
   "execution_count": null,
   "metadata": {},
   "outputs": [],
   "source": [
    "function_one()"
   ]
  },
  {
   "cell_type": "markdown",
   "metadata": {},
   "source": [
    "We get a `NameError` since the variable `fruit_new` doesn't exist within the local scope of `function_one()`, only within `function_two()`'s."
   ]
  },
  {
   "cell_type": "markdown",
   "metadata": {},
   "source": [
    "### 7.4 Exercise – why won't the code work?"
   ]
  },
  {
   "cell_type": "markdown",
   "metadata": {},
   "source": [
    "We have this code:"
   ]
  },
  {
   "cell_type": "code",
   "execution_count": null,
   "metadata": {},
   "outputs": [],
   "source": [
    "def print_results(results):\n",
    "    print(f\"{str(number1)} multiplied with {str(number2)} is {results}\")\n",
    "\n",
    "def calculator(number1, number2):\n",
    "    results = number1 * number2\n",
    "\n",
    "num_apples = 5\n",
    "num_oranges = 6\n",
    "\n",
    "calculator(num_apples, num_oranges)\n",
    "print_results(results)\n"
   ]
  },
  {
   "cell_type": "markdown",
   "metadata": {},
   "source": [
    "Explain with your own words why the above code doesn't work. Reminder: If you mark a cell in a Jupyter notebook and press <kbd>M</kbd>, the cell will be a text cell (in Markdown) in which you can write down your explaination.\n",
    "\n",
    "You'll find the solution in the solutions notebook. Good luck!"
   ]
  },
  {
   "cell_type": "code",
   "execution_count": null,
   "metadata": {},
   "outputs": [],
   "source": []
  },
  {
   "cell_type": "code",
   "execution_count": null,
   "metadata": {},
   "outputs": [],
   "source": []
  },
  {
   "cell_type": "code",
   "execution_count": null,
   "metadata": {},
   "outputs": [],
   "source": []
  },
  {
   "cell_type": "code",
   "execution_count": null,
   "metadata": {},
   "outputs": [],
   "source": []
  }
 ],
 "metadata": {
  "kernelspec": {
   "display_name": "Python 3 (ipykernel)",
   "language": "python",
   "name": "python3"
  },
  "language_info": {
   "codemirror_mode": {
    "name": "ipython",
    "version": 3
   },
   "file_extension": ".py",
   "mimetype": "text/x-python",
   "name": "python",
   "nbconvert_exporter": "python",
   "pygments_lexer": "ipython3",
   "version": "3.11.2"
  },
  "toc": {
   "base_numbering": 1,
   "nav_menu": {
    "height": "211px",
    "width": "228.333px"
   },
   "number_sections": false,
   "sideBar": true,
   "skip_h1_title": true,
   "title_cell": "Table of Contents",
   "title_sidebar": "Contents",
   "toc_cell": true,
   "toc_position": {},
   "toc_section_display": true,
   "toc_window_display": false
  }
 },
 "nbformat": 4,
 "nbformat_minor": 4
}
