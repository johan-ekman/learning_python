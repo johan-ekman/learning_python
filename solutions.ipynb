{
 "cells": [
  {
   "cell_type": "markdown",
   "metadata": {},
   "source": [
    "# Solutions"
   ]
  },
  {
   "cell_type": "markdown",
   "metadata": {
    "toc": true
   },
   "source": [
    "<h1>Table of Contents<span class=\"tocSkip\"></span></h1>\n",
    "<div class=\"toc\"><ul class=\"toc-item\"><li><span><a href=\"#Values\" data-toc-modified-id=\"Values-1\"><span class=\"toc-item-num\">1&nbsp;&nbsp;</span>Values</a></span></li><li><span><a href=\"#Expressions-and-operators\" data-toc-modified-id=\"Expressions-and-operators-2\"><span class=\"toc-item-num\">2&nbsp;&nbsp;</span>Expressions and operators</a></span></li><li><span><a href=\"#Variables-and-statements\" data-toc-modified-id=\"Variables-and-statements-3\"><span class=\"toc-item-num\">3&nbsp;&nbsp;</span>Variables and statements</a></span></li><li><span><a href=\"#Comparing-values\" data-toc-modified-id=\"Comparing-values-4\"><span class=\"toc-item-num\">4&nbsp;&nbsp;</span>Comparing values</a></span></li><li><span><a href=\"#Flow-control-statements\" data-toc-modified-id=\"Flow-control-statements-5\"><span class=\"toc-item-num\">5&nbsp;&nbsp;</span>Flow control statements</a></span></li><li><span><a href=\"#Functions\" data-toc-modified-id=\"Functions-6\"><span class=\"toc-item-num\">6&nbsp;&nbsp;</span>Functions</a></span></li><li><span><a href=\"#Local-and-Global-scopes\" data-toc-modified-id=\"Local-and-Global-scopes-7\"><span class=\"toc-item-num\">7&nbsp;&nbsp;</span>Local and Global scopes</a></span></li><li><span><a href=\"#Object-orientation-and-methods\" data-toc-modified-id=\"Object-orientation-and-methods-8\"><span class=\"toc-item-num\">8&nbsp;&nbsp;</span>Object orientation and methods</a></span></li></ul></div>"
   ]
  },
  {
   "cell_type": "markdown",
   "metadata": {},
   "source": [
    "## Values"
   ]
  },
  {
   "cell_type": "markdown",
   "metadata": {},
   "source": [
    "## Expressions and operators"
   ]
  },
  {
   "cell_type": "markdown",
   "metadata": {},
   "source": [
    "**2.1.2 Exercise – where to put the parenthesis?**"
   ]
  },
  {
   "cell_type": "code",
   "execution_count": 1,
   "metadata": {},
   "outputs": [
    {
     "data": {
      "text/plain": [
       "1.5"
      ]
     },
     "execution_count": 1,
     "metadata": {},
     "output_type": "execute_result"
    }
   ],
   "source": [
    "((10 + 5) * (10 - 2) / (15 + 5)) / 4 "
   ]
  },
  {
   "cell_type": "markdown",
   "metadata": {
    "heading_collapsed": true
   },
   "source": [
    "## Variables and statements"
   ]
  },
  {
   "cell_type": "markdown",
   "metadata": {
    "hidden": true
   },
   "source": [
    "**3.2.2.3 Exercise – write a letter!**"
   ]
  },
  {
   "cell_type": "code",
   "execution_count": 2,
   "metadata": {
    "hidden": true
   },
   "outputs": [],
   "source": [
    "receiver = \"Mom\"\n",
    "nice_treat = \"Ben & Jerrie's ice cream\"\n",
    "destination = \"Paris\"\n",
    "your_name = \"Johan\"\n",
    "letter = f\"\"\"\n",
    "Hi {receiver}!\n",
    "\n",
    "All ingredients are necessary, so please don't forget \\\n",
    "any item in the list. Also, you know I love a little \\\n",
    "snack after dinner, so please get something you know \\\n",
    "I love – like {nice_treat}. Please hurry, I am starving!\n",
    "\n",
    "- Milk\n",
    "- Spinach\n",
    "- Strawberry jam\n",
    "- Spam\n",
    "- Whole cream\n",
    "- Cat food\n",
    "\n",
    "Remember that we have loads of credits to spend. We \\\n",
    "need to save up some money for our dream vacation \\\n",
    "next year. I am soooo looking forward to travel to {destination}. \\\n",
    "That is, if the virus ever would let us go :(\n",
    "\n",
    "Love,\n",
    "\n",
    "{your_name}\n",
    "\"\"\""
   ]
  },
  {
   "cell_type": "code",
   "execution_count": 3,
   "metadata": {
    "hidden": true
   },
   "outputs": [
    {
     "name": "stdout",
     "output_type": "stream",
     "text": [
      "\n",
      "Hi Mom!\n",
      "\n",
      "All ingredients are necessary, so please don't forget any item in the list. Also, you know I love a little snack after dinner, so please get something you know I love – like Ben & Jerrie's ice cream. Please hurry, I am starving!\n",
      "\n",
      "- Milk\n",
      "- Spinach\n",
      "- Strawberry jam\n",
      "- Spam\n",
      "- Whole cream\n",
      "- Cat food\n",
      "\n",
      "Remember that we have loads of credits to spend. We need to save up some money for our dream vacation next year. I am soooo looking forward to travel to Paris. That is, if the virus ever would let us go :(\n",
      "\n",
      "Love,\n",
      "\n",
      "Johan\n",
      "\n"
     ]
    }
   ],
   "source": [
    "print(letter)"
   ]
  },
  {
   "cell_type": "markdown",
   "metadata": {
    "hidden": true
   },
   "source": [
    "**3.3 Exercise – string concatination and variables**"
   ]
  },
  {
   "cell_type": "markdown",
   "metadata": {
    "hidden": true
   },
   "source": [
    "As described in the course, we should always try to name variables in a logical manner. In this exercise, that is rather hard, but this is my take:"
   ]
  },
  {
   "cell_type": "code",
   "execution_count": 6,
   "metadata": {
    "hidden": true
   },
   "outputs": [],
   "source": [
    "was, the, on, cat, mat, inside, hat, spc = \"was\", \"the\", \"on\", \"cat\", \"mat\", \"inside\", \"hat\", \" \""
   ]
  },
  {
   "cell_type": "markdown",
   "metadata": {
    "hidden": true
   },
   "source": [
    "\n",
    "    \"cat was inside the hat on the mat\"\n",
    "    \"hat was inside the cat on the mat\"\n",
    "    \"mat was inside the hat on the cat\"\n"
   ]
  },
  {
   "cell_type": "code",
   "execution_count": 7,
   "metadata": {
    "hidden": true
   },
   "outputs": [
    {
     "data": {
      "text/plain": [
       "'cat was inside the hat on the mat'"
      ]
     },
     "execution_count": 7,
     "metadata": {},
     "output_type": "execute_result"
    }
   ],
   "source": [
    "cat + spc + was + spc + inside + spc + the + spc + hat + spc + on + spc + the + spc + mat"
   ]
  },
  {
   "cell_type": "code",
   "execution_count": 8,
   "metadata": {
    "hidden": true
   },
   "outputs": [
    {
     "data": {
      "text/plain": [
       "'hat was inside the cat on the mat'"
      ]
     },
     "execution_count": 8,
     "metadata": {},
     "output_type": "execute_result"
    }
   ],
   "source": [
    "hat + spc + was + spc + inside + spc + the + spc + cat + spc + on + spc + the + spc + mat"
   ]
  },
  {
   "cell_type": "code",
   "execution_count": 9,
   "metadata": {
    "hidden": true
   },
   "outputs": [
    {
     "data": {
      "text/plain": [
       "'mat was inside the hat on the cat'"
      ]
     },
     "execution_count": 9,
     "metadata": {},
     "output_type": "execute_result"
    }
   ],
   "source": [
    "mat + spc + was + spc + inside + spc + the + spc + hat + spc + on + spc + the + spc + cat"
   ]
  },
  {
   "cell_type": "markdown",
   "metadata": {
    "hidden": true
   },
   "source": [
    "This is rather ugly, so we could just add spaces within our strings and skip the blank space variable:"
   ]
  },
  {
   "cell_type": "code",
   "execution_count": 11,
   "metadata": {
    "hidden": true
   },
   "outputs": [],
   "source": [
    "was, the, on, cat, mat, inside, hat = \"was \", \"the \", \"on \", \"cat \", \"mat \", \"inside \", \"hat \""
   ]
  },
  {
   "cell_type": "code",
   "execution_count": 12,
   "metadata": {
    "hidden": true
   },
   "outputs": [
    {
     "data": {
      "text/plain": [
       "'cat was inside the hat on the mat '"
      ]
     },
     "execution_count": 12,
     "metadata": {},
     "output_type": "execute_result"
    }
   ],
   "source": [
    "cat + was + inside + the + hat + on + the + mat"
   ]
  },
  {
   "cell_type": "code",
   "execution_count": 13,
   "metadata": {
    "hidden": true
   },
   "outputs": [
    {
     "data": {
      "text/plain": [
       "'hat was inside the cat on the mat '"
      ]
     },
     "execution_count": 13,
     "metadata": {},
     "output_type": "execute_result"
    }
   ],
   "source": [
    "hat + was + inside + the + cat + on + the + mat"
   ]
  },
  {
   "cell_type": "code",
   "execution_count": 14,
   "metadata": {
    "hidden": true
   },
   "outputs": [
    {
     "data": {
      "text/plain": [
       "'mat was inside the hat on the cat '"
      ]
     },
     "execution_count": 14,
     "metadata": {},
     "output_type": "execute_result"
    }
   ],
   "source": [
    "mat + was + inside + the + hat + on + the + cat"
   ]
  },
  {
   "cell_type": "markdown",
   "metadata": {
    "hidden": true
   },
   "source": [
    "Using string formatting:"
   ]
  },
  {
   "cell_type": "code",
   "execution_count": 15,
   "metadata": {
    "hidden": true
   },
   "outputs": [],
   "source": [
    "was, the, on, cat, mat, inside, hat = \"was\", \"the\", \"on\", \"cat\", \"mat\", \"inside\", \"hat\""
   ]
  },
  {
   "cell_type": "code",
   "execution_count": 16,
   "metadata": {
    "hidden": true
   },
   "outputs": [
    {
     "data": {
      "text/plain": [
       "'cat was inside the hat on the mat'"
      ]
     },
     "execution_count": 16,
     "metadata": {},
     "output_type": "execute_result"
    }
   ],
   "source": [
    "f\"{cat} {was} {inside} {the} {hat} {on} {the} {mat}\""
   ]
  },
  {
   "cell_type": "code",
   "execution_count": 17,
   "metadata": {
    "hidden": true
   },
   "outputs": [
    {
     "data": {
      "text/plain": [
       "'hat was inside the cat on the mat'"
      ]
     },
     "execution_count": 17,
     "metadata": {},
     "output_type": "execute_result"
    }
   ],
   "source": [
    "f\"{hat} {was} {inside} {the} {cat} {on} {the} {mat}\""
   ]
  },
  {
   "cell_type": "code",
   "execution_count": 18,
   "metadata": {
    "hidden": true
   },
   "outputs": [
    {
     "data": {
      "text/plain": [
       "'mat was inside the hat on the cat'"
      ]
     },
     "execution_count": 18,
     "metadata": {},
     "output_type": "execute_result"
    }
   ],
   "source": [
    "f\"{mat} {was} {inside} {the} {hat} {on} {the} {cat}\""
   ]
  },
  {
   "cell_type": "markdown",
   "metadata": {
    "heading_collapsed": true
   },
   "source": [
    "## Comparing values"
   ]
  },
  {
   "cell_type": "markdown",
   "metadata": {
    "hidden": true
   },
   "source": [
    "**4.3 Exercise – insert the correct operators**"
   ]
  },
  {
   "cell_type": "code",
   "execution_count": 4,
   "metadata": {
    "hidden": true
   },
   "outputs": [],
   "source": [
    "number = 12"
   ]
  },
  {
   "cell_type": "code",
   "execution_count": 5,
   "metadata": {
    "hidden": true
   },
   "outputs": [
    {
     "name": "stdout",
     "output_type": "stream",
     "text": [
      "Correct!\n"
     ]
    }
   ],
   "source": [
    "if number < 15:\n",
    "    print(\"Correct!\")"
   ]
  },
  {
   "cell_type": "code",
   "execution_count": 6,
   "metadata": {
    "hidden": true
   },
   "outputs": [
    {
     "name": "stdout",
     "output_type": "stream",
     "text": [
      "Correct!\n"
     ]
    }
   ],
   "source": [
    "if number > 5 and number > -5:\n",
    "    print(\"Correct!\")"
   ]
  },
  {
   "cell_type": "code",
   "execution_count": 7,
   "metadata": {
    "hidden": true
   },
   "outputs": [
    {
     "name": "stdout",
     "output_type": "stream",
     "text": [
      "Correct!\n"
     ]
    }
   ],
   "source": [
    "if number < 150 or number < 25:\n",
    "    print(\"Correct!\")"
   ]
  },
  {
   "cell_type": "code",
   "execution_count": 8,
   "metadata": {
    "hidden": true
   },
   "outputs": [
    {
     "name": "stdout",
     "output_type": "stream",
     "text": [
      "Correct!\n"
     ]
    }
   ],
   "source": [
    "if number == 12:\n",
    "    print(\"Correct!\")"
   ]
  },
  {
   "cell_type": "code",
   "execution_count": 9,
   "metadata": {
    "hidden": true
   },
   "outputs": [
    {
     "name": "stdout",
     "output_type": "stream",
     "text": [
      "Correct!\n"
     ]
    }
   ],
   "source": [
    "if number != \"Hello world!\":\n",
    "    print(\"Correct!\")"
   ]
  },
  {
   "cell_type": "markdown",
   "metadata": {},
   "source": [
    "## Flow control statements"
   ]
  },
  {
   "cell_type": "markdown",
   "metadata": {},
   "source": [
    "**5.5 Exercise – type the end of the story!**"
   ]
  },
  {
   "cell_type": "markdown",
   "metadata": {},
   "source": [
    "We have four items to throw to Gary, which means we will need to cover four different conditions in our flow control statement. These are our items:\n",
    "\n",
    "- the Ice Jewel\n",
    "- the Ancient Staff of Pharts \n",
    "- the book \"The World's 10 Worst Poems\"\n",
    "- the Bear Spear (a magical spear shaped like a bear)\n",
    "\n",
    "Let's create our variable:"
   ]
  },
  {
   "cell_type": "code",
   "execution_count": 11,
   "metadata": {},
   "outputs": [],
   "source": [
    "item = \"the book\""
   ]
  },
  {
   "cell_type": "code",
   "execution_count": 12,
   "metadata": {},
   "outputs": [
    {
     "name": "stdout",
     "output_type": "stream",
     "text": [
      "Teddy grabbed the book and threw it to Gary. Unfortunatly, unbeknown to Teddy, Gary was a former book critic, specialized in poetry. Gary took the gesture as the final straw in a long line of what he considered rude behaviour from Teddy's part. So he ran away, leaving Teddy to his fate. The end!\n"
     ]
    }
   ],
   "source": [
    "if item == \"the Ice Jewel\":\n",
    "    ending = \"\"\"Teddy grabbed the Ice Jewel and threw it to Gary. \\\n",
    "Unfortunatly, the jewel was rather heavy. And it knocked Gary out. \\\n",
    "The beast ravaged Teddy, Gary and the horse. RIP. The end!\"\"\"\n",
    "elif item == \"the ancient staff of Pharts\":\n",
    "    ending = \"\"\"In a moment of brilliance, Teddy remembered that \\\n",
    "Vampwolfosauruses have a excellent sense of smell. Their nose is \\\n",
    "a wolf nose, which is handy for smelling blood from a long distance. \\\n",
    "He threw Gary the staff of pharts, and Gary released its smelly \\\n",
    "magic upon the beast. It died immediatly, and Teddy could finally \\\n",
    "return to his fireplace as a hero. The end!\"\"\"\n",
    "elif item == \"the book\":\n",
    "    ending = \"\"\"Teddy grabbed the book and threw it to Gary. \\\n",
    "Unfortunatly, unbeknown to Teddy, Gary was a former book \\\n",
    "critic, specialized in poetry. Gary took the gesture as the final \\\n",
    "straw in a long line of what he considered rude behaviour from \\\n",
    "Teddy's part. So he ran away, leaving Teddy to his fate. The end!\"\"\"\n",
    "elif item == \"the Bear Spear\":\n",
    "    ending = \"\"\"Teddy had no time to think, so he grabbed the first \\\n",
    "thing he could – the bear spear. Even though he was incapacitated, \\\n",
    "he had one arm free, and was an excellent spear thrower. He \\\n",
    "tossed the spear with all the strength he could bear (get it), \\\n",
    "and it struck the beast right inbetween the eyes. It was such a \\\n",
    "relief, he didn't even need to ask Gary for help! The end!\"\"\"\n",
    "else:\n",
    "    ending = \"\"\"Teddy unfortunatly didn't grab any of the items \\\n",
    "that could've been useful. Instead, he grabbed a rubber ducky. \\\n",
    "His last try before the beast ate him, the horse and Gary, was \\\n",
    "to aim the ducky at the beast's eyes. He did hit! But that didn't \\\n",
    "stop it. The end!\"\"\"\n",
    "    \n",
    "print (ending)"
   ]
  },
  {
   "cell_type": "markdown",
   "metadata": {},
   "source": [
    "## Functions"
   ]
  },
  {
   "cell_type": "markdown",
   "metadata": {},
   "source": [
    "**6.2.1 Exercise – the coin toss**"
   ]
  },
  {
   "cell_type": "code",
   "execution_count": 13,
   "metadata": {},
   "outputs": [],
   "source": [
    "from random import randint"
   ]
  },
  {
   "cell_type": "code",
   "execution_count": 18,
   "metadata": {},
   "outputs": [
    {
     "name": "stdout",
     "output_type": "stream",
     "text": [
      "Heads!\n"
     ]
    }
   ],
   "source": [
    "num = randint(0,1) # num is either 0 or 1\n",
    "if num == 0:\n",
    "    print(\"Heads!\")\n",
    "elif num == 1:\n",
    "    print(\"Tails!\")"
   ]
  },
  {
   "cell_type": "markdown",
   "metadata": {},
   "source": [
    "**6.5.1 Exercise – the truth-teller function**"
   ]
  },
  {
   "cell_type": "markdown",
   "metadata": {},
   "source": [
    "First, we define our function:"
   ]
  },
  {
   "cell_type": "code",
   "execution_count": 6,
   "metadata": {},
   "outputs": [],
   "source": [
    "def truth_teller(param1, param2):\n",
    "    print(f\"param1: {str(param1)}\\nparam2: {str(param2)}\")\n",
    "    if param1 == param2:\n",
    "        print(\"The arguments are the same!\")\n",
    "    else:\n",
    "        print(\"The arguments are not the same...\")"
   ]
  },
  {
   "cell_type": "code",
   "execution_count": 7,
   "metadata": {},
   "outputs": [
    {
     "name": "stdout",
     "output_type": "stream",
     "text": [
      "param1: 4\n",
      "param2: 5\n",
      "The arguments are not the same...\n"
     ]
    }
   ],
   "source": [
    "truth_teller(4,5)"
   ]
  },
  {
   "cell_type": "code",
   "execution_count": 8,
   "metadata": {},
   "outputs": [
    {
     "name": "stdout",
     "output_type": "stream",
     "text": [
      "param1: Hello \n",
      "param2: world!\n",
      "The arguments are not the same...\n"
     ]
    }
   ],
   "source": [
    "truth_teller(\"Hello \",\"world!\")"
   ]
  },
  {
   "cell_type": "code",
   "execution_count": 9,
   "metadata": {},
   "outputs": [
    {
     "name": "stdout",
     "output_type": "stream",
     "text": [
      "param1: Johan\n",
      "param2: Johan\n",
      "The arguments are the same!\n"
     ]
    }
   ],
   "source": [
    "truth_teller(\"Johan\",\"Johan\")"
   ]
  },
  {
   "cell_type": "markdown",
   "metadata": {},
   "source": [
    "I defined the function with two parameters (`param1` and `param2`). Then I included a `print()` function that shows you what the arguments were using string formatting. Since the arguments passed also can be numeral values, I need to convert the parameters to strings using the `str()` function. Also, note the newline string literal `\\n` that inserts a linebreak in the printed string! See section 3.2.2.2 if you need a recap. \n",
    "\n",
    "Lastly, I included a if-else-statement that compares the two parameters and prints accordingly."
   ]
  },
  {
   "cell_type": "markdown",
   "metadata": {},
   "source": [
    "**6.8 Exercise – the currency converter**"
   ]
  },
  {
   "cell_type": "code",
   "execution_count": 10,
   "metadata": {},
   "outputs": [],
   "source": [
    "def converter(amount, currency_code):\n",
    "    if currency_code == \"USD\":\n",
    "        return amount * 1.17\n",
    "    elif currency_code == \"SEK\":\n",
    "        return amount * 10.43\n",
    "    elif currency_code == \"GBP\":\n",
    "        return amount * 0.92\n",
    "    elif currency_code == \"RMB\":\n",
    "        return amount * 7.89\n",
    "    else:\n",
    "        print(f\"The currency code {currency_code} isn't recognised.\")\n",
    "        "
   ]
  },
  {
   "cell_type": "code",
   "execution_count": 11,
   "metadata": {},
   "outputs": [
    {
     "data": {
      "text/plain": [
       "494.90999999999997"
      ]
     },
     "execution_count": 11,
     "metadata": {},
     "output_type": "execute_result"
    }
   ],
   "source": [
    "converter(423,\"USD\")"
   ]
  },
  {
   "cell_type": "code",
   "execution_count": 12,
   "metadata": {},
   "outputs": [
    {
     "data": {
      "text/plain": [
       "4411.89"
      ]
     },
     "execution_count": 12,
     "metadata": {},
     "output_type": "execute_result"
    }
   ],
   "source": [
    "converter(423,\"SEK\")"
   ]
  },
  {
   "cell_type": "code",
   "execution_count": 13,
   "metadata": {},
   "outputs": [
    {
     "data": {
      "text/plain": [
       "389.16"
      ]
     },
     "execution_count": 13,
     "metadata": {},
     "output_type": "execute_result"
    }
   ],
   "source": [
    "converter(423,\"GBP\")"
   ]
  },
  {
   "cell_type": "code",
   "execution_count": 14,
   "metadata": {},
   "outputs": [
    {
     "data": {
      "text/plain": [
       "3337.47"
      ]
     },
     "execution_count": 14,
     "metadata": {},
     "output_type": "execute_result"
    }
   ],
   "source": [
    "converter(423,\"RMB\")"
   ]
  },
  {
   "cell_type": "code",
   "execution_count": 15,
   "metadata": {},
   "outputs": [
    {
     "name": "stdout",
     "output_type": "stream",
     "text": [
      "The currency code XXX isn't recognised.\n"
     ]
    }
   ],
   "source": [
    "converter(423,\"XXX\")"
   ]
  },
  {
   "cell_type": "markdown",
   "metadata": {},
   "source": [
    "## Local and Global scopes"
   ]
  },
  {
   "cell_type": "markdown",
   "metadata": {},
   "source": [
    "**7.4 Exercise – why won't the code work?**"
   ]
  },
  {
   "cell_type": "code",
   "execution_count": 1,
   "metadata": {},
   "outputs": [
    {
     "ename": "NameError",
     "evalue": "name 'results' is not defined",
     "output_type": "error",
     "traceback": [
      "\u001b[0;31m---------------------------------------------------------------------------\u001b[0m",
      "\u001b[0;31mNameError\u001b[0m                                 Traceback (most recent call last)",
      "\u001b[0;32m<ipython-input-1-21c1ffa15102>\u001b[0m in \u001b[0;36m<module>\u001b[0;34m\u001b[0m\n\u001b[1;32m      9\u001b[0m \u001b[0;34m\u001b[0m\u001b[0m\n\u001b[1;32m     10\u001b[0m \u001b[0mcalculator\u001b[0m\u001b[0;34m(\u001b[0m\u001b[0mnum_apples\u001b[0m\u001b[0;34m,\u001b[0m \u001b[0mnum_oranges\u001b[0m\u001b[0;34m)\u001b[0m\u001b[0;34m\u001b[0m\u001b[0;34m\u001b[0m\u001b[0m\n\u001b[0;32m---> 11\u001b[0;31m \u001b[0mprint_results\u001b[0m\u001b[0;34m(\u001b[0m\u001b[0mresults\u001b[0m\u001b[0;34m)\u001b[0m\u001b[0;34m\u001b[0m\u001b[0;34m\u001b[0m\u001b[0m\n\u001b[0m",
      "\u001b[0;31mNameError\u001b[0m: name 'results' is not defined"
     ]
    }
   ],
   "source": [
    "def print_results(results):\n",
    "    # variables \"number1\" and \"number2\" doesnät exist in this scope\n",
    "    print(f\"{str(number1)} multiplied with {str(number2)} is {results}\")\n",
    "\n",
    "def calculator(number1, number2):\n",
    "    results = number1 * number2\n",
    "    # no return statement\n",
    "\n",
    "num_apples = 5\n",
    "num_oranges = 6\n",
    "\n",
    "calculator(num_apples, num_oranges) # no assignment statement\n",
    "print_results(results)\n"
   ]
  },
  {
   "cell_type": "markdown",
   "metadata": {},
   "source": [
    "There are three major buggs in the code. \n",
    "\n",
    "1. The function `calculator()` doesn't have a return statement, so the calculation of the variable `results` only happends in the local scope within that function\n",
    "2. Even if `calculator()` had a return statement, there is no assignment statement. So, no returned value would be saved to any variable that could be used later in the code\n",
    "3. The `print_results()` function references two variables that doesn't exist in that function's local scope. Remember: local scopes can't use variables from other local scopes\n",
    "\n",
    "Here is the same code, but with the buggs corrected:"
   ]
  },
  {
   "cell_type": "code",
   "execution_count": 2,
   "metadata": {},
   "outputs": [
    {
     "name": "stdout",
     "output_type": "stream",
     "text": [
      "5 multiplied with 6 is 30\n"
     ]
    }
   ],
   "source": [
    "def print_results(number1, number2, results):\n",
    "    print(f\"{str(number1)} multiplied with {str(number2)} is {results}\")\n",
    "\n",
    "def calculator(number1, number2):\n",
    "    results = number1 * number2\n",
    "    return results\n",
    "\n",
    "num_apples = 5\n",
    "num_oranges = 6\n",
    "\n",
    "res = calculator(num_apples, num_oranges)\n",
    "print_results(num_apples, num_oranges, res)\n"
   ]
  },
  {
   "cell_type": "markdown",
   "metadata": {},
   "source": [
    "## Object orientation and methods"
   ]
  },
  {
   "cell_type": "markdown",
   "metadata": {},
   "source": [
    "**8.1 Exercise – experiment with methods**"
   ]
  },
  {
   "cell_type": "code",
   "execution_count": 16,
   "metadata": {},
   "outputs": [],
   "source": [
    "fruits = \"There are at least two bananas in this sentence bananas\""
   ]
  },
  {
   "cell_type": "code",
   "execution_count": 5,
   "metadata": {},
   "outputs": [
    {
     "name": "stdout",
     "output_type": "stream",
     "text": [
      "There are 2 occurances of the string bananas in the variable 'fruits'\n"
     ]
    }
   ],
   "source": [
    "string = \"bananas\"\n",
    "occurances = fruits.count(string) # counts the number of occurances of a string value\n",
    "print(f\"There are {occurances} occurances of the string {string} in the variable 'fruits'\")"
   ]
  },
  {
   "cell_type": "code",
   "execution_count": 18,
   "metadata": {},
   "outputs": [
    {
     "name": "stdout",
     "output_type": "stream",
     "text": [
      "The string value bananas start at index value 23!\n"
     ]
    }
   ],
   "source": [
    "string = \"bananas\"\n",
    "index = fruits.find(string) # finds the (lowest) index value of passed string value\n",
    "print(f\"The string value {string} start at index value {index}!\")"
   ]
  },
  {
   "cell_type": "code",
   "execution_count": 22,
   "metadata": {},
   "outputs": [
    {
     "data": {
      "text/plain": [
       "'bananas'"
      ]
     },
     "execution_count": 22,
     "metadata": {},
     "output_type": "execute_result"
    }
   ],
   "source": [
    "fruits[23:30]"
   ]
  },
  {
   "cell_type": "code",
   "execution_count": 24,
   "metadata": {},
   "outputs": [
    {
     "name": "stdout",
     "output_type": "stream",
     "text": [
      "There are at least two elephants in this sentence elephants\n"
     ]
    }
   ],
   "source": [
    "string = \"bananas\"\n",
    "new_string = fruits.replace(string, \"elephants\") # replaces strings within strings\n",
    "print(new_string)"
   ]
  },
  {
   "cell_type": "code",
   "execution_count": null,
   "metadata": {},
   "outputs": [],
   "source": []
  }
 ],
 "metadata": {
  "kernelspec": {
   "display_name": "Python 3",
   "language": "python",
   "name": "python3"
  },
  "language_info": {
   "codemirror_mode": {
    "name": "ipython",
    "version": 3
   },
   "file_extension": ".py",
   "mimetype": "text/x-python",
   "name": "python",
   "nbconvert_exporter": "python",
   "pygments_lexer": "ipython3",
   "version": "3.8.5"
  },
  "toc": {
   "base_numbering": 1,
   "nav_menu": {},
   "number_sections": true,
   "sideBar": true,
   "skip_h1_title": true,
   "title_cell": "Table of Contents",
   "title_sidebar": "Contents",
   "toc_cell": true,
   "toc_position": {},
   "toc_section_display": true,
   "toc_window_display": false
  }
 },
 "nbformat": 4,
 "nbformat_minor": 4
}
