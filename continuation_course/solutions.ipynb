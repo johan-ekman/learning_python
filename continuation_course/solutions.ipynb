{
 "cells": [
  {
   "cell_type": "markdown",
   "metadata": {},
   "source": [
    "# Solutions"
   ]
  },
  {
   "cell_type": "markdown",
   "metadata": {
    "toc": true
   },
   "source": [
    "<h1>Table of Contents<span class=\"tocSkip\"></span></h1>\n",
    "<div class=\"toc\"><ul class=\"toc-item\"><li><span><a href=\"#1.-Files\" data-toc-modified-id=\"1.-Files-1\">1. Files</a></span></li></ul></div>"
   ]
  },
  {
   "cell_type": "markdown",
   "metadata": {},
   "source": [
    "## 1. Files"
   ]
  },
  {
   "cell_type": "markdown",
   "metadata": {},
   "source": [
    "**1.2.3 File creator function**"
   ]
  },
  {
   "cell_type": "markdown",
   "metadata": {},
   "source": [
    "Ok, so a function that creates a plaintext file! There are a bunch of ways to do this. But this is how I would do it. As always, I try to base the solutions of what has been taught so far in the course.\n",
    "\n",
    "First, we import the `Path` class from the `pathlib` module:"
   ]
  },
  {
   "cell_type": "code",
   "execution_count": 2,
   "metadata": {},
   "outputs": [],
   "source": [
    "from pathlib import Path"
   ]
  },
  {
   "cell_type": "markdown",
   "metadata": {},
   "source": [
    "Since we will use the `Path` class in our function, we must convert the first parameter to a path object. Why? Because some users may pass a string value as the path, and strings don't have the method `.is_absolute()`. It would crash!"
   ]
  },
  {
   "cell_type": "code",
   "execution_count": 35,
   "metadata": {},
   "outputs": [],
   "source": [
    "def file_creator(path, content):\n",
    "    path = Path(path)\n",
    "    if not path.is_absolute():\n",
    "        print(\"The path you provided isn't working.\",\n",
    "              \"It should be an absolute path, try again!\")\n",
    "        return\n",
    "    else:\n",
    "        if not \".txt\" in str(path):\n",
    "            print(\"You must include a textfile in your path!\")\n",
    "            return\n",
    "        else:\n",
    "            file = open(path,\"w\")\n",
    "            file.write(content)"
   ]
  },
  {
   "cell_type": "markdown",
   "metadata": {},
   "source": [
    "I also included the if-statement `if not \".txt\" in str(path):`. If the user forgets to include a filename in their path, the function will crash. The `open()` function needs a filename at the end of the passed path argument. \n",
    "\n",
    "The if-statement checks to see \"if there isn't a file extension in the path, print a warning!\" It does so by checking if the string \".txt\" isn't in the path. But this will only work if we convert the path into a string value, hence the `str(path)`. Path objects can't be looped over (they aren't iterable)."
   ]
  },
  {
   "cell_type": "markdown",
   "metadata": {},
   "source": [
    "If we pass something that isn't an absolute path, such as an empty string, the function will warn us and abort:"
   ]
  },
  {
   "cell_type": "code",
   "execution_count": 32,
   "metadata": {},
   "outputs": [
    {
     "name": "stdout",
     "output_type": "stream",
     "text": [
      "The path you provided isn't working. It should be an absolute path, try again!\n"
     ]
    }
   ],
   "source": [
    "file_creator(\"\",\"Hello\")"
   ]
  },
  {
   "cell_type": "markdown",
   "metadata": {},
   "source": [
    "Here's an absolute path to try on:"
   ]
  },
  {
   "cell_type": "code",
   "execution_count": 33,
   "metadata": {},
   "outputs": [],
   "source": [
    "path = Path.cwd() / \"new_file.txt\""
   ]
  },
  {
   "cell_type": "code",
   "execution_count": 44,
   "metadata": {},
   "outputs": [],
   "source": [
    "file_creator(path,\"This is a new file!\")"
   ]
  },
  {
   "cell_type": "code",
   "execution_count": 45,
   "metadata": {},
   "outputs": [
    {
     "name": "stdout",
     "output_type": "stream",
     "text": [
      "This is a new file!\n"
     ]
    }
   ],
   "source": [
    "file = open(path,\"r\")\n",
    "print(file.read())\n",
    "file.close()"
   ]
  },
  {
   "cell_type": "code",
   "execution_count": 46,
   "metadata": {},
   "outputs": [],
   "source": [
    "# run this if you wan't to delete the file:\n",
    "path.unlink()"
   ]
  },
  {
   "cell_type": "markdown",
   "metadata": {},
   "source": [
    "**1.3 Exercise – move the textfiles**"
   ]
  },
  {
   "cell_type": "markdown",
   "metadata": {},
   "source": [
    "Ok! First we run the provided code to create all the files:"
   ]
  },
  {
   "cell_type": "code",
   "execution_count": 63,
   "metadata": {},
   "outputs": [],
   "source": [
    "import shutil\n",
    "import os\n",
    "\n",
    "from random import randint, seed\n",
    "\n",
    "seed(30)\n",
    "\n",
    "# First, create tree of directories\n",
    "path = Path('exercise')\n",
    "if os.path.isdir(path):\n",
    "    shutil.rmtree(path)\n",
    "    os.mkdir(path)\n",
    "    os.mkdir(path / 'old_location')\n",
    "    os.mkdir(path / 'new_location')\n",
    "else:\n",
    "    os.mkdir(path)\n",
    "    os.mkdir(path / 'old_location')\n",
    "    os.mkdir(path / 'new_location')\n",
    "\n",
    "# This following code randomly creates 500 files\n",
    "file_path = Path('exercise/old_location')\n",
    "for i in range(500):\n",
    "    # random number to decide file extension of present sequence\n",
    "    num = randint(0,1)\n",
    "    # if 'num' equals 0 -> plaintext, otherwise pythonfile\n",
    "    file_ext = \".txt\" if num == 0 else \".py\"\n",
    "    \n",
    "    # Here to decide file content\n",
    "    if file_ext == '.txt':\n",
    "        text = \"This is a plaintext file!\"\n",
    "    else:\n",
    "        text = \"# this is a python file\"\n",
    "        \n",
    "    # finally, writing and closing the file\n",
    "    file = open(file_path / f\"file_{randint(500,10000)}{file_ext}\",\"w\")\n",
    "    file.write(text)\n",
    "    file.close()\n"
   ]
  },
  {
   "cell_type": "markdown",
   "metadata": {},
   "source": [
    "Righty!\n",
    "\n",
    "So, in this exercise, we need to copy and move a whole bunch of files, using a function, from \"old_location\" to \"new_location\". We should also include code that add the current date as part of each files name when moved. Let's do a small TODO schematic:"
   ]
  },
  {
   "cell_type": "code",
   "execution_count": 64,
   "metadata": {},
   "outputs": [],
   "source": [
    "# TODO – define function\n",
    "\n",
    "# TODO – convert potential path strings into path objects\n",
    "\n",
    "# TODO – find all files in old_location, save to list\n",
    "\n",
    "# TODO – filter all text files\n",
    "\n",
    "# TODO – loop over our text files\n",
    "\n",
    "# TODO – rename each file with date\n",
    "\n",
    "# TODO – create file paths for each file\n",
    "\n",
    "# TODO – copy each file\n",
    "\n",
    "# TODO – move each copy to 'new_location'\n",
    "\n",
    "# TODO – create path variables for the two locations"
   ]
  },
  {
   "cell_type": "markdown",
   "metadata": {},
   "source": [
    "A pretty scary long list, right? Well, it's actually not that bad, since alot of these TODOs will be done together in one go. Let's start:"
   ]
  },
  {
   "cell_type": "code",
   "execution_count": 65,
   "metadata": {},
   "outputs": [],
   "source": [
    "# TODO – define function\n",
    "def move_files(location_A, location_B, date):\n",
    "    # TODO – convert potential path strings into path objects\n",
    "    location_A, location_B = Path(location_A), Path(location_B)\n",
    "    \n",
    "    # TODO – find all files in old_location, save to list\n",
    "    all_files = os.listdir(location_A)\n",
    "\n",
    "    # TODO – filter all text files\n",
    "    all_txt_files = []\n",
    "    \n",
    "    for file in all_files:\n",
    "        if file.endswith(\".txt\"):\n",
    "            all_txt_files.append(file)\n",
    "        else:\n",
    "            continue\n",
    "\n",
    "\n",
    "    # TODO – loop over our text files\n",
    "    for file_name in all_txt_files:\n",
    "        \n",
    "        # TODO – rename each file with date\n",
    "        new_file_name = f\"{date}_{file_name}\"\n",
    "        \n",
    "        # TODO – create file paths for each file\n",
    "        file_path_1 = old_loc / file_name\n",
    "        file_path_2 = new_loc / new_file_name\n",
    "        \n",
    "        # TODO – copy each file\n",
    "        # TODO – move each copy to 'new_location'\n",
    "        shutil.copy(file_path_1,file_path_2)\n",
    "    \n",
    "    print(f\"All {len(all_txt_files)} text files copied and moved!\")\n",
    "        \n",
    "# TODO – create path variables for the two locations\n",
    "old_loc = Path(\"exercise/old_location\")\n",
    "new_loc = Path(\"exercise/new_location\")"
   ]
  },
  {
   "cell_type": "code",
   "execution_count": 66,
   "metadata": {},
   "outputs": [
    {
     "name": "stdout",
     "output_type": "stream",
     "text": [
      "All 262 text files copied and moved!\n"
     ]
    }
   ],
   "source": [
    "move_files(old_loc, new_loc, \"2020-10-15\")"
   ]
  },
  {
   "cell_type": "markdown",
   "metadata": {},
   "source": [
    "Let's have a look in the \"new_location\" to see if it worked (only showing 10 here):"
   ]
  },
  {
   "cell_type": "code",
   "execution_count": 67,
   "metadata": {},
   "outputs": [
    {
     "data": {
      "text/plain": [
       "['2020-10-15_file_4286.txt',\n",
       " '2020-10-15_file_7200.txt',\n",
       " '2020-10-15_file_3099.txt',\n",
       " '2020-10-15_file_2387.txt',\n",
       " '2020-10-15_file_2556.txt',\n",
       " '2020-10-15_file_6042.txt',\n",
       " '2020-10-15_file_8709.txt',\n",
       " '2020-10-15_file_6081.txt',\n",
       " '2020-10-15_file_1513.txt',\n",
       " '2020-10-15_file_6254.txt']"
      ]
     },
     "execution_count": 67,
     "metadata": {},
     "output_type": "execute_result"
    }
   ],
   "source": [
    "os.listdir(new_loc)[:10]"
   ]
  },
  {
   "cell_type": "markdown",
   "metadata": {},
   "source": [
    "Dates are now added to the files' name! All in all there are 262 text files, which means there are more text files than python files. \n",
    "\n",
    "Remember, if you just change the file extension in our function. This would work for any type of file you have, anywhere on your computer! Maybe you can find som use out of it somewhere? Have fun!\n",
    "\n",
    "(run this following code if you want to remove all exercise folders and files:)"
   ]
  },
  {
   "cell_type": "code",
   "execution_count": 68,
   "metadata": {},
   "outputs": [],
   "source": [
    "shutil.rmtree(\"exercise/\")"
   ]
  },
  {
   "cell_type": "code",
   "execution_count": null,
   "metadata": {},
   "outputs": [],
   "source": []
  },
  {
   "cell_type": "code",
   "execution_count": null,
   "metadata": {},
   "outputs": [],
   "source": []
  },
  {
   "cell_type": "code",
   "execution_count": null,
   "metadata": {},
   "outputs": [],
   "source": []
  },
  {
   "cell_type": "code",
   "execution_count": null,
   "metadata": {},
   "outputs": [],
   "source": []
  }
 ],
 "metadata": {
  "kernelspec": {
   "display_name": "Python 3",
   "language": "python",
   "name": "python3"
  },
  "language_info": {
   "codemirror_mode": {
    "name": "ipython",
    "version": 3
   },
   "file_extension": ".py",
   "mimetype": "text/x-python",
   "name": "python",
   "nbconvert_exporter": "python",
   "pygments_lexer": "ipython3",
   "version": "3.8.5"
  },
  "toc": {
   "base_numbering": 1,
   "nav_menu": {},
   "number_sections": false,
   "sideBar": true,
   "skip_h1_title": true,
   "title_cell": "Table of Contents",
   "title_sidebar": "Contents",
   "toc_cell": true,
   "toc_position": {},
   "toc_section_display": true,
   "toc_window_display": true
  }
 },
 "nbformat": 4,
 "nbformat_minor": 4
}
