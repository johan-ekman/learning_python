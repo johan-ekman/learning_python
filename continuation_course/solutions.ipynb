{
 "cells": [
  {
   "cell_type": "markdown",
   "metadata": {},
   "source": [
    "# Solutions"
   ]
  },
  {
   "cell_type": "markdown",
   "metadata": {
    "toc": true
   },
   "source": [
    "<h1>Table of Contents<span class=\"tocSkip\"></span></h1>\n",
    "<div class=\"toc\"><ul class=\"toc-item\"><li><span><a href=\"#Files\" data-toc-modified-id=\"Files-1\"><span class=\"toc-item-num\">1&nbsp;&nbsp;</span>Files</a></span></li><li><span><a href=\"#Regular-Expressions\" data-toc-modified-id=\"Regular-Expressions-2\"><span class=\"toc-item-num\">2&nbsp;&nbsp;</span>Regular Expressions</a></span></li><li><span><a href=\"#Project-–-The-Invoices\" data-toc-modified-id=\"Project-–-The-Invoices-3\"><span class=\"toc-item-num\">3&nbsp;&nbsp;</span>Project – The Invoices</a></span></li></ul></div>"
   ]
  },
  {
   "cell_type": "markdown",
   "metadata": {},
   "source": [
    "## Files"
   ]
  },
  {
   "cell_type": "markdown",
   "metadata": {},
   "source": [
    "**1.2.3 File creator function**"
   ]
  },
  {
   "cell_type": "markdown",
   "metadata": {},
   "source": [
    "Ok, so a function that creates a plaintext file! There are a bunch of ways to do this. But this is how I would do it. As always, I try to base the solutions of what has been taught so far in the course.\n",
    "\n",
    "First, we import the `Path` class from the `pathlib` module:"
   ]
  },
  {
   "cell_type": "code",
   "execution_count": 2,
   "metadata": {},
   "outputs": [],
   "source": [
    "from pathlib import Path"
   ]
  },
  {
   "cell_type": "markdown",
   "metadata": {},
   "source": [
    "Since we will use the `Path` class in our function, we must convert the first parameter to a path object. Why? Because some users may pass a string value as the path, and strings don't have the method `.is_absolute()`. It would crash!"
   ]
  },
  {
   "cell_type": "code",
   "execution_count": 35,
   "metadata": {},
   "outputs": [],
   "source": [
    "def file_creator(path, content):\n",
    "    path = Path(path)\n",
    "    if not path.is_absolute():\n",
    "        print(\"The path you provided isn't working.\",\n",
    "              \"It should be an absolute path, try again!\")\n",
    "        return\n",
    "    else:\n",
    "        if not \".txt\" in str(path):\n",
    "            print(\"You must include a textfile in your path!\")\n",
    "            return\n",
    "        else:\n",
    "            file = open(path,\"w\")\n",
    "            file.write(content)"
   ]
  },
  {
   "cell_type": "markdown",
   "metadata": {},
   "source": [
    "I also included the if-statement `if not \".txt\" in str(path):`. If the user forgets to include a filename in their path, the function will crash. The `open()` function needs a filename at the end of the passed path argument. \n",
    "\n",
    "The if-statement checks to see \"if there isn't a file extension in the path, print a warning!\" It does so by checking if the string \".txt\" isn't in the path. But this will only work if we convert the path into a string value, hence the `str(path)`. Path objects can't be looped over (they aren't iterable)."
   ]
  },
  {
   "cell_type": "markdown",
   "metadata": {},
   "source": [
    "If we pass something that isn't an absolute path, such as an empty string, the function will warn us and abort:"
   ]
  },
  {
   "cell_type": "code",
   "execution_count": 32,
   "metadata": {},
   "outputs": [
    {
     "name": "stdout",
     "output_type": "stream",
     "text": [
      "The path you provided isn't working. It should be an absolute path, try again!\n"
     ]
    }
   ],
   "source": [
    "file_creator(\"\",\"Hello\")"
   ]
  },
  {
   "cell_type": "markdown",
   "metadata": {},
   "source": [
    "Here's an absolute path to try on:"
   ]
  },
  {
   "cell_type": "code",
   "execution_count": 33,
   "metadata": {},
   "outputs": [],
   "source": [
    "path = Path.cwd() / \"new_file.txt\""
   ]
  },
  {
   "cell_type": "code",
   "execution_count": 44,
   "metadata": {},
   "outputs": [],
   "source": [
    "file_creator(path,\"This is a new file!\")"
   ]
  },
  {
   "cell_type": "code",
   "execution_count": 45,
   "metadata": {},
   "outputs": [
    {
     "name": "stdout",
     "output_type": "stream",
     "text": [
      "This is a new file!\n"
     ]
    }
   ],
   "source": [
    "file = open(path,\"r\")\n",
    "print(file.read())\n",
    "file.close()"
   ]
  },
  {
   "cell_type": "code",
   "execution_count": 46,
   "metadata": {},
   "outputs": [],
   "source": [
    "# run this if you wan't to delete the file:\n",
    "path.unlink()"
   ]
  },
  {
   "cell_type": "markdown",
   "metadata": {},
   "source": [
    "**1.3 Exercise – move the textfiles**"
   ]
  },
  {
   "cell_type": "markdown",
   "metadata": {},
   "source": [
    "Ok! First we run the provided code to create all the files:"
   ]
  },
  {
   "cell_type": "code",
   "execution_count": 63,
   "metadata": {},
   "outputs": [],
   "source": [
    "import shutil\n",
    "import os\n",
    "\n",
    "from random import randint, seed\n",
    "\n",
    "seed(30)\n",
    "\n",
    "# First, create tree of directories\n",
    "path = Path('exercise')\n",
    "if os.path.isdir(path):\n",
    "    shutil.rmtree(path)\n",
    "    os.mkdir(path)\n",
    "    os.mkdir(path / 'old_location')\n",
    "    os.mkdir(path / 'new_location')\n",
    "else:\n",
    "    os.mkdir(path)\n",
    "    os.mkdir(path / 'old_location')\n",
    "    os.mkdir(path / 'new_location')\n",
    "\n",
    "# This following code randomly creates 500 files\n",
    "file_path = Path('exercise/old_location')\n",
    "for i in range(500):\n",
    "    # random number to decide file extension of present sequence\n",
    "    num = randint(0,1)\n",
    "    # if 'num' equals 0 -> plaintext, otherwise pythonfile\n",
    "    file_ext = \".txt\" if num == 0 else \".py\"\n",
    "    \n",
    "    # Here to decide file content\n",
    "    if file_ext == '.txt':\n",
    "        text = \"This is a plaintext file!\"\n",
    "    else:\n",
    "        text = \"# this is a python file\"\n",
    "        \n",
    "    # finally, writing and closing the file\n",
    "    file = open(file_path / f\"file_{randint(500,10000)}{file_ext}\",\"w\")\n",
    "    file.write(text)\n",
    "    file.close()\n"
   ]
  },
  {
   "cell_type": "markdown",
   "metadata": {},
   "source": [
    "Righty!\n",
    "\n",
    "So, in this exercise, we need to copy and move a whole bunch of files, using a function, from \"old_location\" to \"new_location\". We should also include code that add the current date as part of each files name when moved. Let's do a small TODO schematic:"
   ]
  },
  {
   "cell_type": "code",
   "execution_count": 64,
   "metadata": {},
   "outputs": [],
   "source": [
    "# TODO – define function\n",
    "\n",
    "# TODO – convert potential path strings into path objects\n",
    "\n",
    "# TODO – find all files in old_location, save to list\n",
    "\n",
    "# TODO – filter all text files\n",
    "\n",
    "# TODO – loop over our text files\n",
    "\n",
    "# TODO – rename each file with date\n",
    "\n",
    "# TODO – create file paths for each file\n",
    "\n",
    "# TODO – copy each file\n",
    "\n",
    "# TODO – move each copy to 'new_location'\n",
    "\n",
    "# TODO – create path variables for the two locations"
   ]
  },
  {
   "cell_type": "markdown",
   "metadata": {},
   "source": [
    "A pretty scary long list, right? Well, it's actually not that bad, since alot of these TODOs will be done together in one go. Let's start:"
   ]
  },
  {
   "cell_type": "code",
   "execution_count": 65,
   "metadata": {},
   "outputs": [],
   "source": [
    "# TODO – define function\n",
    "def move_files(location_A, location_B, date):\n",
    "    # TODO – convert potential path strings into path objects\n",
    "    location_A, location_B = Path(location_A), Path(location_B)\n",
    "    \n",
    "    # TODO – find all files in old_location, save to list\n",
    "    all_files = os.listdir(location_A)\n",
    "\n",
    "    # TODO – filter all text files\n",
    "    all_txt_files = []\n",
    "    \n",
    "    for file in all_files:\n",
    "        if file.endswith(\".txt\"):\n",
    "            all_txt_files.append(file)\n",
    "        else:\n",
    "            continue\n",
    "\n",
    "\n",
    "    # TODO – loop over our text files\n",
    "    for file_name in all_txt_files:\n",
    "        \n",
    "        # TODO – rename each file with date\n",
    "        new_file_name = f\"{date}_{file_name}\"\n",
    "        \n",
    "        # TODO – create file paths for each file\n",
    "        file_path_1 = old_loc / file_name\n",
    "        file_path_2 = new_loc / new_file_name\n",
    "        \n",
    "        # TODO – copy each file\n",
    "        # TODO – move each copy to 'new_location'\n",
    "        shutil.copy(file_path_1,file_path_2)\n",
    "    \n",
    "    print(f\"All {len(all_txt_files)} text files copied and moved!\")\n",
    "        \n",
    "# TODO – create path variables for the two locations\n",
    "old_loc = Path(\"exercise/old_location\")\n",
    "new_loc = Path(\"exercise/new_location\")"
   ]
  },
  {
   "cell_type": "code",
   "execution_count": 66,
   "metadata": {},
   "outputs": [
    {
     "name": "stdout",
     "output_type": "stream",
     "text": [
      "All 262 text files copied and moved!\n"
     ]
    }
   ],
   "source": [
    "move_files(old_loc, new_loc, \"2020-10-15\")"
   ]
  },
  {
   "cell_type": "markdown",
   "metadata": {},
   "source": [
    "Let's have a look in the \"new_location\" to see if it worked (only showing 10 here):"
   ]
  },
  {
   "cell_type": "code",
   "execution_count": 67,
   "metadata": {},
   "outputs": [
    {
     "data": {
      "text/plain": [
       "['2020-10-15_file_4286.txt',\n",
       " '2020-10-15_file_7200.txt',\n",
       " '2020-10-15_file_3099.txt',\n",
       " '2020-10-15_file_2387.txt',\n",
       " '2020-10-15_file_2556.txt',\n",
       " '2020-10-15_file_6042.txt',\n",
       " '2020-10-15_file_8709.txt',\n",
       " '2020-10-15_file_6081.txt',\n",
       " '2020-10-15_file_1513.txt',\n",
       " '2020-10-15_file_6254.txt']"
      ]
     },
     "execution_count": 67,
     "metadata": {},
     "output_type": "execute_result"
    }
   ],
   "source": [
    "os.listdir(new_loc)[:10]"
   ]
  },
  {
   "cell_type": "markdown",
   "metadata": {},
   "source": [
    "Dates are now added to the files' name! All in all there are 262 text files, which means there are more text files than python files. \n",
    "\n",
    "Remember, if you just change the file extension in our function. This would work for any type of file you have, anywhere on your computer! Maybe you can find som use out of it somewhere? Have fun!\n",
    "\n",
    "(run this following code if you want to remove all exercise folders and files:)"
   ]
  },
  {
   "cell_type": "code",
   "execution_count": 68,
   "metadata": {},
   "outputs": [],
   "source": [
    "shutil.rmtree(\"exercise/\")"
   ]
  },
  {
   "cell_type": "markdown",
   "metadata": {},
   "source": [
    "**1.5 Exercise – pdf to text function**"
   ]
  },
  {
   "cell_type": "markdown",
   "metadata": {},
   "source": [
    "Ok! To be able to get this done we need to first import the `PyPDF2` module and the `Path` class from the `pathlib` module:"
   ]
  },
  {
   "cell_type": "code",
   "execution_count": 5,
   "metadata": {},
   "outputs": [],
   "source": [
    "import PyPDF2\n",
    "\n",
    "from pathlib import Path"
   ]
  },
  {
   "cell_type": "markdown",
   "metadata": {},
   "source": [
    "Let's do a TODO list:"
   ]
  },
  {
   "cell_type": "code",
   "execution_count": 6,
   "metadata": {},
   "outputs": [],
   "source": [
    "# TODO – define a function with two parameters\n",
    "\n",
    "# TODO – make sure that the two arguments are path objects\n",
    "\n",
    "# TODO – using the pdf's path parameter, open the file in \"rb\" mode\n",
    "\n",
    "# TODO – pass the opened file object to the PyPDF2's PdfFileReader class\n",
    "\n",
    "# TODO – create empty string variable to add pdf text to\n",
    "\n",
    "# TODO – create for-loop: loop over all the pdf's pages\n",
    "\n",
    "# TODO – get page data\n",
    "\n",
    "# TODO – add each page's text to the string variable\n",
    "\n",
    "# TODO – save the string variable to a plaintext file object\n",
    "\n",
    "# TODO – create two path objects to test our function on\n",
    "\n",
    "# TODO – test the function!"
   ]
  },
  {
   "cell_type": "markdown",
   "metadata": {},
   "source": [
    "So, quite a list! Let's get to work with our function. I'll just name it the same as in the course notebook!"
   ]
  },
  {
   "cell_type": "code",
   "execution_count": 7,
   "metadata": {},
   "outputs": [],
   "source": [
    "# TODO – define a function with two parameters\n",
    "def pdf_converter(pdf_path, results_path):\n",
    "    \n",
    "    # TODO – make sure that the two arguments are path objects\n",
    "    pdf_path, results_path = Path(pdf_path), Path(results_path)\n",
    "\n",
    "    # TODO – using the pdf's path parameter, open the file in \"rb\" mode\n",
    "    file_object = open(pdf_path, \"rb\")\n",
    "    \n",
    "    # TODO – pass the opened file object to the PyPDF2's PdfFileReader class\n",
    "    pdf_file = PyPDF2.PdfFileReader(file_object)\n",
    "\n",
    "    # TODO – create empty string variable to add pdf text to\n",
    "    pdf_content = \"\"\n",
    "\n",
    "    # TODO – create for-loop: loop over all the pdf's pages\n",
    "    for i in range(pdf_file.getNumPages()):\n",
    "        # TODO – get page data\n",
    "        page = pdf_file.getPage(i)\n",
    "        \n",
    "        # TODO – add each page's text to the string variable\n",
    "        pdf_content += page.extractText()\n",
    "        \n",
    "    # TODO – save the string variable to a plaintext file object\n",
    "    text_file = open(results_path,\"w\")\n",
    "    \n",
    "    text_file.write(pdf_content)\n",
    "    text_file.close()\n"
   ]
  },
  {
   "cell_type": "markdown",
   "metadata": {},
   "source": [
    "That's our function! Pretty straight forward actually, at least I think so. Hope you're still with me :)\n",
    "\n",
    "Now, let's test the function to see if it works! I'll just try it on the same pdf file as in the course notebook. It is found in the \"course_material\" directory. I'll save the results in a plaintext file in the current working directory: "
   ]
  },
  {
   "cell_type": "code",
   "execution_count": 17,
   "metadata": {},
   "outputs": [],
   "source": [
    "# TODO – create two path objects to test our function on\n",
    "path_to_pdf = Path(\"../course_material/report.pdf\")\n",
    "results_path = Path(\"report.txt\") # important with file extension!\n",
    "\n",
    "\n",
    "# TODO – test the function!\n",
    "pdf_converter(path_to_pdf, results_path)"
   ]
  },
  {
   "cell_type": "markdown",
   "metadata": {},
   "source": [
    "Let's open the newly created \"report.txt\":"
   ]
  },
  {
   "cell_type": "code",
   "execution_count": 18,
   "metadata": {},
   "outputs": [],
   "source": [
    "file = open(results_path,\"r\")\n",
    "text = file.read()"
   ]
  },
  {
   "cell_type": "markdown",
   "metadata": {},
   "source": [
    "How long is the file?"
   ]
  },
  {
   "cell_type": "code",
   "execution_count": 19,
   "metadata": {},
   "outputs": [
    {
     "data": {
      "text/plain": [
       "55344"
      ]
     },
     "execution_count": 19,
     "metadata": {},
     "output_type": "execute_result"
    }
   ],
   "source": [
    "len(text)"
   ]
  },
  {
   "cell_type": "markdown",
   "metadata": {},
   "source": [
    "The first 1000 characters:"
   ]
  },
  {
   "cell_type": "code",
   "execution_count": 20,
   "metadata": {},
   "outputs": [
    {
     "data": {
      "text/plain": [
       "'Corporate governance report 2019\\nH & M Hennes\\n & Mauritz AB\\nH & M Hennes & Mauritz AB is a Swedish public limited company. H&M™s \\nclass B share is listed on Nasdaq Stockholm. H&M applies the Swedish \\nCorporate Governance Code (the Code) and has prepared this corporate \\ngovernance report in accordance with the Annual Accounts Act and the \\nCode. H&M has applied the Code since 2005. The report, which covers \\n\\ndirectors and has been reviewed by the company™s auditors.\\nH&M is governed by both external regulations and internal \\n control documents.\\n\\n ŠThe Swedish Companies Act\\n ŠAccounting legislation including the Swedish Bookkeeping Act \\n and Annual Accounts Act\\n ŠMAR, EU Market Abuse Regulation (596/2014/EU)\\n ŠNasdaq Stockholm Rules for Issuers\\n ŠThe General Data Protection Regulation (GDPR)\\n ŠSwedish Corporate Governance Code (the Code), which is available \\n\\n\\nmay deviate from individual rules provided they give an explanation of \\nthe deviation, describe the chosen alternative and provide '"
      ]
     },
     "execution_count": 20,
     "metadata": {},
     "output_type": "execute_result"
    }
   ],
   "source": [
    "text[:1000]"
   ]
  },
  {
   "cell_type": "markdown",
   "metadata": {},
   "source": [
    "It seems to have worked! Yey!"
   ]
  },
  {
   "cell_type": "code",
   "execution_count": 21,
   "metadata": {},
   "outputs": [],
   "source": [
    "# Uncomment this if you want to remove the results file:\n",
    "#results_path.unlink()"
   ]
  },
  {
   "cell_type": "markdown",
   "metadata": {},
   "source": [
    "## Regular Expressions"
   ]
  },
  {
   "cell_type": "markdown",
   "metadata": {},
   "source": [
    "**2.4 Exercise – matching phone numbers**"
   ]
  },
  {
   "cell_type": "markdown",
   "metadata": {},
   "source": [
    "First, let's get the list:"
   ]
  },
  {
   "cell_type": "code",
   "execution_count": 60,
   "metadata": {},
   "outputs": [],
   "source": [
    "file = open(\"../course_material/phone_list.txt\",\"r\")\n",
    "text = file.read()\n",
    "file.close()"
   ]
  },
  {
   "cell_type": "code",
   "execution_count": 65,
   "metadata": {},
   "outputs": [
    {
     "name": "stdout",
     "output_type": "stream",
     "text": [
      "Participant, Phone number\n",
      "Boivie Jurgen, 0703-1901XX\n",
      "Bram,  Mats, 0707-2321XX\n",
      "Carlsson,  Lars, 0735-4474XX\n",
      "Christiansen,  Jan, 0730-2868XX\n",
      "Ekblom,  Torbjorn, 018-5115XX\n",
      "Ekstedt,  Stig, 0706-4084XX\n",
      "Englund,  Jan, 0703-6826XX\n",
      "Grine,  Mats, 0735-6226XX\n",
      "\n"
     ]
    }
   ],
   "source": [
    "print(text[:250])"
   ]
  },
  {
   "cell_type": "markdown",
   "metadata": {},
   "source": [
    "The cellphone numbers all start with \"07\", then more number digits, followed by a dash, then more numbers, and finally two \"X\" letters. Let's try and type a regex based on this:"
   ]
  },
  {
   "cell_type": "code",
   "execution_count": 105,
   "metadata": {},
   "outputs": [],
   "source": [
    "p = \"07\\d+-\\d+XX\""
   ]
  },
  {
   "cell_type": "code",
   "execution_count": 106,
   "metadata": {},
   "outputs": [],
   "source": [
    "number_list = re.findall(p,text)"
   ]
  },
  {
   "cell_type": "code",
   "execution_count": 107,
   "metadata": {},
   "outputs": [
    {
     "data": {
      "text/plain": [
       "31"
      ]
     },
     "execution_count": 107,
     "metadata": {},
     "output_type": "execute_result"
    }
   ],
   "source": [
    "len(number_list)"
   ]
  },
  {
   "cell_type": "markdown",
   "metadata": {},
   "source": [
    "There are 31 Swedish cellphone numbers in the list!"
   ]
  },
  {
   "cell_type": "markdown",
   "metadata": {},
   "source": [
    "**2.6 Exercise – can you find the number?**"
   ]
  },
  {
   "cell_type": "markdown",
   "metadata": {},
   "source": [
    "Let's start by importing the re module:"
   ]
  },
  {
   "cell_type": "code",
   "execution_count": 24,
   "metadata": {},
   "outputs": [],
   "source": [
    "import re"
   ]
  },
  {
   "cell_type": "markdown",
   "metadata": {},
   "source": [
    "We also need to get the speach and save it into a variable:"
   ]
  },
  {
   "cell_type": "code",
   "execution_count": 22,
   "metadata": {},
   "outputs": [],
   "source": [
    "text = open(\"../course_material/speach.txt\",\"r\").read()"
   ]
  },
  {
   "cell_type": "markdown",
   "metadata": {},
   "source": [
    "We know that the number we need to find comes _before_ the quote \"refugees\". This means that we can include this in our regular expression:"
   ]
  },
  {
   "cell_type": "code",
   "execution_count": 26,
   "metadata": {},
   "outputs": [],
   "source": [
    "p = \"refugees\""
   ]
  },
  {
   "cell_type": "code",
   "execution_count": 27,
   "metadata": {},
   "outputs": [
    {
     "data": {
      "text/plain": [
       "['refugees', 'refugees']"
      ]
     },
     "execution_count": 27,
     "metadata": {},
     "output_type": "execute_result"
    }
   ],
   "source": [
    "re.findall(p,text)"
   ]
  },
  {
   "cell_type": "markdown",
   "metadata": {},
   "source": [
    "Ok, so Trump mentions the word \"refugees\" two times in the speach. Let's check what he sais just before the word \"refugees\". We can du this by including a blank space and the word character `\\w`. The word character matches both alphabetical letters _and_ numerical digits! \n",
    "\n",
    "Since we want the _word_ in front of \"refugees\", we'll add the plus sign `+`, which means we want `\\w` once or more times:"
   ]
  },
  {
   "cell_type": "code",
   "execution_count": 28,
   "metadata": {},
   "outputs": [],
   "source": [
    "p = \"\\w+ refugees\""
   ]
  },
  {
   "cell_type": "code",
   "execution_count": 29,
   "metadata": {},
   "outputs": [
    {
     "data": {
      "text/plain": [
       "['become refugees', '000 refugees']"
      ]
     },
     "execution_count": 29,
     "metadata": {},
     "output_type": "execute_result"
    }
   ],
   "source": [
    "re.findall(p,text)"
   ]
  },
  {
   "cell_type": "markdown",
   "metadata": {},
   "source": [
    "Ok! So the second match is the one we're interested in. But he obviously didn't say \"000 refugees\", there's more to it. However, how is numbers formatted in this speach? If Trump said \"one hundred thousand refugees\", is it typed:\n",
    "```\n",
    "\"100.000\"?\n",
    "\"100,000\"?\n",
    "\"100 000\"?\n",
    "\"100'000\"?\n",
    "```\n",
    "They are all probable. To be certain, we'll not use any of them Instead, we're going to use the \"not a word character\"-special character `\\W`. This matches all of the options above. Have a look:"
   ]
  },
  {
   "cell_type": "code",
   "execution_count": 37,
   "metadata": {},
   "outputs": [
    {
     "data": {
      "text/plain": [
       "['.', ',', ' ', \"'\"]"
      ]
     },
     "execution_count": 37,
     "metadata": {},
     "output_type": "execute_result"
    }
   ],
   "source": [
    "p = \"\\W\"\n",
    "test = \"., '\"\n",
    "\n",
    "re.findall(p, test)"
   ]
  },
  {
   "cell_type": "markdown",
   "metadata": {},
   "source": [
    "So let's include it in our search:"
   ]
  },
  {
   "cell_type": "code",
   "execution_count": 38,
   "metadata": {},
   "outputs": [],
   "source": [
    "p = \"\\W\\w+ refugees\""
   ]
  },
  {
   "cell_type": "code",
   "execution_count": 39,
   "metadata": {},
   "outputs": [
    {
     "data": {
      "text/plain": [
       "[' become refugees', ',000 refugees']"
      ]
     },
     "execution_count": 39,
     "metadata": {},
     "output_type": "execute_result"
    }
   ],
   "source": [
    "re.findall(p,text)"
   ]
  },
  {
   "cell_type": "markdown",
   "metadata": {},
   "source": [
    "Let's exchange the word special character to digits `\\d`, and then see the amount in front of the comma:"
   ]
  },
  {
   "cell_type": "code",
   "execution_count": 50,
   "metadata": {},
   "outputs": [
    {
     "data": {
      "text/plain": [
       "['620,000 refugees']"
      ]
     },
     "execution_count": 50,
     "metadata": {},
     "output_type": "execute_result"
    }
   ],
   "source": [
    "p = \"\\d+\\W\\d+ refugees\"\n",
    "\n",
    "re.findall(p,text)"
   ]
  },
  {
   "cell_type": "markdown",
   "metadata": {},
   "source": [
    "Now, is there more? Is he, for example, saying \"1,620,000 refugees\"? Let's have a look by duplicating `\\d+\\W`, so the entire expression will be:"
   ]
  },
  {
   "cell_type": "code",
   "execution_count": 44,
   "metadata": {},
   "outputs": [],
   "source": [
    "p = \"\\d+\\W\\d+\\W\\d+ refugees\""
   ]
  },
  {
   "cell_type": "markdown",
   "metadata": {},
   "source": [
    "This should match on \"1,620,000 refugees\":"
   ]
  },
  {
   "cell_type": "code",
   "execution_count": 45,
   "metadata": {},
   "outputs": [],
   "source": [
    "t = \"1,620,000 refugees\""
   ]
  },
  {
   "cell_type": "code",
   "execution_count": 46,
   "metadata": {},
   "outputs": [
    {
     "data": {
      "text/plain": [
       "['1,620,000 refugees']"
      ]
     },
     "execution_count": 46,
     "metadata": {},
     "output_type": "execute_result"
    }
   ],
   "source": [
    "re.findall(p,t)"
   ]
  },
  {
   "cell_type": "markdown",
   "metadata": {},
   "source": [
    "Let's check in Trump's speach:"
   ]
  },
  {
   "cell_type": "code",
   "execution_count": 47,
   "metadata": {},
   "outputs": [
    {
     "data": {
      "text/plain": [
       "[]"
      ]
     },
     "execution_count": 47,
     "metadata": {},
     "output_type": "execute_result"
    }
   ],
   "source": [
    "re.findall(p,text)"
   ]
  },
  {
   "cell_type": "markdown",
   "metadata": {},
   "source": [
    "No hits! This means that the number president Trump is talking about, must be 620,000! Let's change the first `\\d` into a word character instead and have a look:"
   ]
  },
  {
   "cell_type": "code",
   "execution_count": 48,
   "metadata": {},
   "outputs": [],
   "source": [
    "p = \"\\w+\\W\\d+\\W\\d+ refugees\""
   ]
  },
  {
   "cell_type": "code",
   "execution_count": 49,
   "metadata": {},
   "outputs": [
    {
     "data": {
      "text/plain": [
       "['estimated 620,000 refugees']"
      ]
     },
     "execution_count": 49,
     "metadata": {},
     "output_type": "execute_result"
    }
   ],
   "source": [
    "re.findall(p,text)"
   ]
  },
  {
   "cell_type": "markdown",
   "metadata": {},
   "source": [
    "Voilá!\n",
    "\n",
    "One problem still remain though. This regular expression won't match any number, as was part of the exercise. This is, however, easily fixed! Let's go back to the expression just matching on the number, and the word \"refugees\":"
   ]
  },
  {
   "cell_type": "code",
   "execution_count": 51,
   "metadata": {},
   "outputs": [],
   "source": [
    "p = \"\\d+\\W\\d+ refugees\""
   ]
  },
  {
   "cell_type": "markdown",
   "metadata": {},
   "source": [
    "We can actually add a group over the first two characters in our expression, and then attach a repetition qualifier to this group. So instead of `\\d+\\W`, we'll type `(\\d+\\W)*`. This means that this pattern can occur zero, or more times. Have a look:"
   ]
  },
  {
   "cell_type": "code",
   "execution_count": 56,
   "metadata": {},
   "outputs": [],
   "source": [
    "p = \"((\\d+\\W)*\\d+ refugees)\""
   ]
  },
  {
   "cell_type": "markdown",
   "metadata": {},
   "source": [
    "_(I've also added a group that encloses the entire expression. This is just so that all hits will be displayed when I use the `.findall()` method here below)_\n",
    "\n",
    "This pattern will now match any number we give it, if it's followed by the string \" refugees\":"
   ]
  },
  {
   "cell_type": "code",
   "execution_count": 57,
   "metadata": {},
   "outputs": [
    {
     "data": {
      "text/plain": [
       "[('1,123,032 refugees', '123,')]"
      ]
     },
     "execution_count": 57,
     "metadata": {},
     "output_type": "execute_result"
    }
   ],
   "source": [
    "t = \"1,123,032 refugees\"\n",
    "re.findall(p,t)"
   ]
  },
  {
   "cell_type": "code",
   "execution_count": 58,
   "metadata": {},
   "outputs": [
    {
     "data": {
      "text/plain": [
       "[('32 refugees', '')]"
      ]
     },
     "execution_count": 58,
     "metadata": {},
     "output_type": "execute_result"
    }
   ],
   "source": [
    "t = \"32 refugees\"\n",
    "re.findall(p,t)"
   ]
  },
  {
   "cell_type": "code",
   "execution_count": 59,
   "metadata": {},
   "outputs": [
    {
     "data": {
      "text/plain": [
       "[('54,654,721,321 refugees', '721,')]"
      ]
     },
     "execution_count": 59,
     "metadata": {},
     "output_type": "execute_result"
    }
   ],
   "source": [
    "t = \"54,654,721,321 refugees\"\n",
    "re.findall(p,t)"
   ]
  },
  {
   "cell_type": "markdown",
   "metadata": {},
   "source": [
    "There you go!"
   ]
  },
  {
   "cell_type": "markdown",
   "metadata": {},
   "source": [
    "**2.9 Exercise – Who has landlines?**"
   ]
  },
  {
   "cell_type": "markdown",
   "metadata": {},
   "source": [
    "First, let's get the list:"
   ]
  },
  {
   "cell_type": "code",
   "execution_count": 111,
   "metadata": {},
   "outputs": [],
   "source": [
    "import re\n",
    "\n",
    "file = open(\"../course_material/phone_list.txt\",\"r\")\n",
    "text = file.read()\n",
    "file.close()"
   ]
  },
  {
   "cell_type": "markdown",
   "metadata": {},
   "source": [
    "Here, I will try to write a regex that captures each row in the list, and then use a group to catch peoples' names. Each row in the list ends with a newline character. That will be our breaking point. SOmetimes, I find it easier if you try to divide the string into parts that you then can deconstruct!\n",
    "\n",
    "Let's write a regex:"
   ]
  },
  {
   "cell_type": "code",
   "execution_count": 110,
   "metadata": {},
   "outputs": [],
   "source": [
    "p = \",\\s\\w+-\\w+\\n\""
   ]
  },
  {
   "cell_type": "code",
   "execution_count": 113,
   "metadata": {},
   "outputs": [
    {
     "data": {
      "text/plain": [
       "[', 0703-1901XX\\n',\n",
       " ', 0707-2321XX\\n',\n",
       " ', 0735-4474XX\\n',\n",
       " ', 0730-2868XX\\n',\n",
       " ', 018-5115XX\\n',\n",
       " ', 0706-4084XX\\n',\n",
       " ', 0703-6826XX\\n',\n",
       " ', 0735-6226XX\\n',\n",
       " ', 018-2066XX\\n',\n",
       " ', 0738-2149XX\\n']"
      ]
     },
     "execution_count": 113,
     "metadata": {},
     "output_type": "execute_result"
    }
   ],
   "source": [
    "re.findall(p, text)[:10]"
   ]
  },
  {
   "cell_type": "markdown",
   "metadata": {},
   "source": [
    "So this regex catches all phone numbers in the list (plus the comma and the blank space that preceds the number). Let's see if we can capture all numbers where the second digit isn't a seven – since \"07\" is phone numbers:"
   ]
  },
  {
   "cell_type": "code",
   "execution_count": 114,
   "metadata": {},
   "outputs": [],
   "source": [
    "p = \",\\s0[^7]\\d+-\\w+\\n\""
   ]
  },
  {
   "cell_type": "code",
   "execution_count": 115,
   "metadata": {},
   "outputs": [
    {
     "data": {
      "text/plain": [
       "[', 018-5115XX\\n',\n",
       " ', 018-2066XX\\n',\n",
       " ', 018-4611XX\\n',\n",
       " ', 018-5007XX\\n',\n",
       " ', 018-3213XX\\n',\n",
       " ', 018-3005XX\\n']"
      ]
     },
     "execution_count": 115,
     "metadata": {},
     "output_type": "execute_result"
    }
   ],
   "source": [
    "re.findall(p, text)[:10]"
   ]
  },
  {
   "cell_type": "markdown",
   "metadata": {},
   "source": [
    "There we go! So to recap, I'll go through the regex character per character: \n",
    "1. the above regex will capture all strings that start with a comma `,`\n",
    "2. any type of whitespace character `\\s` (whitespace characters are blankspace, newlines, tabs etc…)\n",
    "3. the digit zero `0`\n",
    "4. NOT the number seven – `[^7]`\n",
    "5. one or more numerical digits `\\d+`\n",
    "6. a literal dash character `-`\n",
    "7. one or more word characters `\\w+` (remember that these captures numerical digits as well)\n",
    "8. a newline character `\\n`\n",
    "\n",
    "Now, we just need to add regex syntax to capture the names on these rows. Let's type a name finding regex by itself first, then combining it with the landline finding regex above later."
   ]
  },
  {
   "cell_type": "markdown",
   "metadata": {},
   "source": [
    "Each name is separated by a comma and a space, so let's use that in the regex. However, looking at the top of the list, the comma doesn't seem to be included in all rows:"
   ]
  },
  {
   "cell_type": "code",
   "execution_count": 120,
   "metadata": {},
   "outputs": [
    {
     "name": "stdout",
     "output_type": "stream",
     "text": [
      "Participant, Phone number\n",
      "Bolsvik Jurgen, 0703-1901XX\n",
      "\n"
     ]
    }
   ],
   "source": [
    "print(text[:54])"
   ]
  },
  {
   "cell_type": "markdown",
   "metadata": {},
   "source": [
    "So there may or may not be a comma. We'll include a comma with a star to cover our bases `,*`:"
   ]
  },
  {
   "cell_type": "code",
   "execution_count": 145,
   "metadata": {},
   "outputs": [],
   "source": [
    "# now looking for each name\n",
    "p = \"[A-Z][a-z]+,*\\s[A-Z][a-z]+\""
   ]
  },
  {
   "cell_type": "code",
   "execution_count": 125,
   "metadata": {},
   "outputs": [
    {
     "data": {
      "text/plain": [
       "['Participant, Phone', 'Bolsvik Jurgen']"
      ]
     },
     "execution_count": 125,
     "metadata": {},
     "output_type": "execute_result"
    }
   ],
   "source": [
    "re.findall(p,text)"
   ]
  },
  {
   "cell_type": "markdown",
   "metadata": {},
   "source": [
    "Huh? Only catching first two rows, why is that? Maybe there's more than one blankspace inbetween each surname and name? Let's check:"
   ]
  },
  {
   "cell_type": "code",
   "execution_count": 138,
   "metadata": {},
   "outputs": [],
   "source": [
    "p = \"[A-Z][a-z]+,*\\s+\""
   ]
  },
  {
   "cell_type": "code",
   "execution_count": 140,
   "metadata": {},
   "outputs": [
    {
     "data": {
      "text/plain": [
       "['Participant, ', 'Phone ', 'Bolsvik ', 'Jurgen, ', 'Brumm,  ']"
      ]
     },
     "execution_count": 140,
     "metadata": {},
     "output_type": "execute_result"
    }
   ],
   "source": [
    "re.findall(p,text)[:5]"
   ]
  },
  {
   "cell_type": "markdown",
   "metadata": {},
   "source": [
    "That seems to be the issue. Let's modify:"
   ]
  },
  {
   "cell_type": "code",
   "execution_count": 144,
   "metadata": {},
   "outputs": [],
   "source": [
    "p = \"[A-Z][a-z]+,*\\s+[A-Z][a-z]+\""
   ]
  },
  {
   "cell_type": "code",
   "execution_count": 143,
   "metadata": {},
   "outputs": [
    {
     "data": {
      "text/plain": [
       "['Participant, Phone',\n",
       " 'Bolsvik Jurgen',\n",
       " 'Brumm,  Mats',\n",
       " 'Carlsson,  Yngve',\n",
       " 'Svensson,  Jan',\n",
       " 'Ekstrom,  Torbjorn',\n",
       " 'Ekgren,  Stig',\n",
       " 'Engdahl,  Jan',\n",
       " 'Gripe,  Mats',\n",
       " 'Hakku,  Tommy']"
      ]
     },
     "execution_count": 143,
     "metadata": {},
     "output_type": "execute_result"
    }
   ],
   "source": [
    "re.findall(p,text)[:10]"
   ]
  },
  {
   "cell_type": "markdown",
   "metadata": {},
   "source": [
    "This seems to have worked great! Now let's combine the two regex's. Since a regex pattern is such an eye soar, if I'm writing a longer regex, I sometimes save parts of the patterns in variables. Then, use the variables in a f-string that I use as my final regex pattern. It makes it a little bit more readable, in my opinion. I'll show you what I mean:"
   ]
  },
  {
   "cell_type": "code",
   "execution_count": 146,
   "metadata": {},
   "outputs": [],
   "source": [
    "all_names = \"[A-Z][a-z]+,*\\s+[A-Z][a-z]+\"\n",
    "all_landlines = \",\\s0[^7]\\d+-\\w+\\n\""
   ]
  },
  {
   "cell_type": "code",
   "execution_count": 147,
   "metadata": {},
   "outputs": [],
   "source": [
    "p = f\"{all_names}{all_landlines}\""
   ]
  },
  {
   "cell_type": "code",
   "execution_count": 148,
   "metadata": {},
   "outputs": [
    {
     "data": {
      "text/plain": [
       "['Ekstrom,  Torbjorn, 018-5115XX\\n',\n",
       " 'Hakku,  Tommy, 018-2066XX\\n',\n",
       " 'Harrysson,  Peder, 018-4611XX\\n',\n",
       " 'Helgsson,  Kurt, 018-5007XX\\n',\n",
       " 'Langefors,  Arvid, 018-3213XX\\n',\n",
       " 'Roos,  Anne, 018-3005XX\\n']"
      ]
     },
     "execution_count": 148,
     "metadata": {},
     "output_type": "execute_result"
    }
   ],
   "source": [
    "re.findall(p, text)"
   ]
  },
  {
   "cell_type": "markdown",
   "metadata": {},
   "source": [
    "Tada! Since we only want the names, let's group that part of the regex:"
   ]
  },
  {
   "cell_type": "code",
   "execution_count": 149,
   "metadata": {},
   "outputs": [],
   "source": [
    "p = f\"({all_names}){all_landlines}\""
   ]
  },
  {
   "cell_type": "code",
   "execution_count": 150,
   "metadata": {},
   "outputs": [
    {
     "data": {
      "text/plain": [
       "['Ekstrom,  Torbjorn',\n",
       " 'Hakku,  Tommy',\n",
       " 'Harrysson,  Peder',\n",
       " 'Helgsson,  Kurt',\n",
       " 'Langefors,  Arvid',\n",
       " 'Roos,  Anne']"
      ]
     },
     "execution_count": 150,
     "metadata": {},
     "output_type": "execute_result"
    }
   ],
   "source": [
    "re.findall(p, text)"
   ]
  },
  {
   "cell_type": "markdown",
   "metadata": {},
   "source": [
    "There you go! Those six people have landlines!"
   ]
  },
  {
   "cell_type": "markdown",
   "metadata": {},
   "source": [
    "## Project – The Invoices"
   ]
  },
  {
   "cell_type": "markdown",
   "metadata": {},
   "source": [
    "It's standard practice to always start with all your imports. Here's what we'll be using:"
   ]
  },
  {
   "cell_type": "code",
   "execution_count": 153,
   "metadata": {},
   "outputs": [],
   "source": [
    "import os\n",
    "import datetime\n",
    "import PyPDF2\n",
    "import re\n",
    "\n",
    "from pathlib import Path"
   ]
  },
  {
   "cell_type": "markdown",
   "metadata": {},
   "source": [
    "Let's first get a list of all pdf-files:"
   ]
  },
  {
   "cell_type": "code",
   "execution_count": 154,
   "metadata": {},
   "outputs": [],
   "source": [
    "path = Path('project')\n",
    "files = os.listdir(path)"
   ]
  },
  {
   "cell_type": "markdown",
   "metadata": {},
   "source": [
    "We'll need check out what the pdf-files look like as strings. Knowing this, we can write regular expressions to extract the information we're interested in:"
   ]
  },
  {
   "cell_type": "code",
   "execution_count": 157,
   "metadata": {},
   "outputs": [],
   "source": [
    "file = open(path / files[0],\"rb\")\n",
    "\n",
    "pdf_file = PyPDF2.PdfFileReader(file)"
   ]
  },
  {
   "cell_type": "code",
   "execution_count": 158,
   "metadata": {},
   "outputs": [],
   "source": [
    "page = pdf_file.getPage(0)"
   ]
  },
  {
   "cell_type": "code",
   "execution_count": 163,
   "metadata": {},
   "outputs": [
    {
     "name": "stdout",
     "output_type": "stream",
     "text": [
      "\n",
      "Invoice date: 2020-01-24\n",
      "\n",
      "Invoice for services in accordance with #T542AA1, Chap 3\n",
      "--------------------------------------------------------\n",
      "\n",
      "\n",
      "Total expenditure: SEK 1,951,604\n",
      "\n",
      "------\n",
      "Our contact: Christoffer Olofsson (841012-8668)\n",
      "\n",
      "\n"
     ]
    }
   ],
   "source": [
    "print(page.extractText())"
   ]
  },
  {
   "cell_type": "code",
   "execution_count": 164,
   "metadata": {},
   "outputs": [
    {
     "data": {
      "text/plain": [
       "'\\nInvoice date: 2020-01-24\\n\\nInvoice for services in accordance with #T542AA1, Chap 3\\n--------------------------------------------------------\\n\\n\\nTotal expenditure: SEK 1,951,604\\n\\n------\\nOur contact: Christoffer Olofsson (841012-8668)\\n\\n'"
      ]
     },
     "execution_count": 164,
     "metadata": {},
     "output_type": "execute_result"
    }
   ],
   "source": [
    "page.extractText()"
   ]
  },
  {
   "cell_type": "markdown",
   "metadata": {},
   "source": [
    "After looking through a sample of the files, they all seem to have the same layout. "
   ]
  },
  {
   "cell_type": "code",
   "execution_count": null,
   "metadata": {},
   "outputs": [],
   "source": []
  },
  {
   "cell_type": "code",
   "execution_count": null,
   "metadata": {},
   "outputs": [],
   "source": []
  },
  {
   "cell_type": "code",
   "execution_count": null,
   "metadata": {},
   "outputs": [],
   "source": []
  }
 ],
 "metadata": {
  "kernelspec": {
   "display_name": "Python 3",
   "language": "python",
   "name": "python3"
  },
  "language_info": {
   "codemirror_mode": {
    "name": "ipython",
    "version": 3
   },
   "file_extension": ".py",
   "mimetype": "text/x-python",
   "name": "python",
   "nbconvert_exporter": "python",
   "pygments_lexer": "ipython3",
   "version": "3.8.5"
  },
  "toc": {
   "base_numbering": 1,
   "nav_menu": {},
   "number_sections": true,
   "sideBar": true,
   "skip_h1_title": true,
   "title_cell": "Table of Contents",
   "title_sidebar": "Contents",
   "toc_cell": true,
   "toc_position": {},
   "toc_section_display": true,
   "toc_window_display": true
  }
 },
 "nbformat": 4,
 "nbformat_minor": 4
}
