{
 "cells": [
  {
   "cell_type": "markdown",
   "metadata": {},
   "source": [
    "# Continuation Course – Chapters 4-5"
   ]
  },
  {
   "cell_type": "markdown",
   "metadata": {
    "toc": true
   },
   "source": [
    "<h1>Table of Contents<span class=\"tocSkip\"></span></h1>\n",
    "<div class=\"toc\"><ul class=\"toc-item\"><li><span><a href=\"#Web-scraping\" data-toc-modified-id=\"Web-scraping-4\"><span class=\"toc-item-num\">4&nbsp;&nbsp;</span>Web scraping</a></span><ul class=\"toc-item\"><li><span><a href=\"#Introduction\" data-toc-modified-id=\"Introduction-4.1\"><span class=\"toc-item-num\">4.1&nbsp;&nbsp;</span>Introduction</a></span><ul class=\"toc-item\"><li><span><a href=\"#Website's-foundation\" data-toc-modified-id=\"Website's-foundation-4.1.1\"><span class=\"toc-item-num\">4.1.1&nbsp;&nbsp;</span>Website's foundation</a></span></li><li><span><a href=\"#Inspecting-websites\" data-toc-modified-id=\"Inspecting-websites-4.1.2\"><span class=\"toc-item-num\">4.1.2&nbsp;&nbsp;</span>Inspecting websites</a></span></li></ul></li><li><span><a href=\"#The-requests-module\" data-toc-modified-id=\"The-requests-module-4.2\"><span class=\"toc-item-num\">4.2&nbsp;&nbsp;</span>The <code>requests</code> module</a></span><ul class=\"toc-item\"><li><span><a href=\"#The-response-object\" data-toc-modified-id=\"The-response-object-4.2.1\"><span class=\"toc-item-num\">4.2.1&nbsp;&nbsp;</span>The response object</a></span></li><li><span><a href=\"#Affirming-the-response-object\" data-toc-modified-id=\"Affirming-the-response-object-4.2.2\"><span class=\"toc-item-num\">4.2.2&nbsp;&nbsp;</span>Affirming the response object</a></span></li><li><span><a href=\"#Accessing-content-–-the-binary-string\" data-toc-modified-id=\"Accessing-content-–-the-binary-string-4.2.3\"><span class=\"toc-item-num\">4.2.3&nbsp;&nbsp;</span>Accessing content – the binary string</a></span></li><li><span><a href=\"#Downloading-a-plaintext-file\" data-toc-modified-id=\"Downloading-a-plaintext-file-4.2.4\"><span class=\"toc-item-num\">4.2.4&nbsp;&nbsp;</span>Downloading a plaintext file</a></span><ul class=\"toc-item\"><li><span><a href=\"#Exploring-the-text-data\" data-toc-modified-id=\"Exploring-the-text-data-4.2.4.1\"><span class=\"toc-item-num\">4.2.4.1&nbsp;&nbsp;</span>Exploring the text data</a></span></li></ul></li><li><span><a href=\"#Downloading-and-working-with-csv-files\" data-toc-modified-id=\"Downloading-and-working-with-csv-files-4.2.5\"><span class=\"toc-item-num\">4.2.5&nbsp;&nbsp;</span>Downloading and working with csv files</a></span><ul class=\"toc-item\"><li><span><a href=\"#(Optional)-Exploring-and-converting-csv-data\" data-toc-modified-id=\"(Optional)-Exploring-and-converting-csv-data-4.2.5.1\"><span class=\"toc-item-num\">4.2.5.1&nbsp;&nbsp;</span>(Optional) Exploring and converting csv data</a></span></li></ul></li><li><span><a href=\"#Downloading-and-working-with-json-files\" data-toc-modified-id=\"Downloading-and-working-with-json-files-4.2.6\"><span class=\"toc-item-num\">4.2.6&nbsp;&nbsp;</span>Downloading and working with json files</a></span></li></ul></li><li><span><a href=\"#Scraping-html-elements-using-BeautifulSoup\" data-toc-modified-id=\"Scraping-html-elements-using-BeautifulSoup-4.3\"><span class=\"toc-item-num\">4.3&nbsp;&nbsp;</span>Scraping html elements using <code>BeautifulSoup</code></a></span></li><li><span><a href=\"#Creating-scraping-loops\" data-toc-modified-id=\"Creating-scraping-loops-4.4\"><span class=\"toc-item-num\">4.4&nbsp;&nbsp;</span>Creating scraping loops</a></span><ul class=\"toc-item\"><li><span><a href=\"#Find-all-element-tags-–-.find_all()\" data-toc-modified-id=\"Find-all-element-tags-–-.find_all()-4.4.1\"><span class=\"toc-item-num\">4.4.1&nbsp;&nbsp;</span>Find all element tags – <code>.find_all()</code></a></span></li><li><span><a href=\"#Scraping-the-html-<table>\" data-toc-modified-id=\"Scraping-the-html-<table>-4.4.2\"><span class=\"toc-item-num\">4.4.2&nbsp;&nbsp;</span>Scraping the html <code>&lt;table&gt;</code></a></span></li><li><span><a href=\"#Scraping-the-county-names\" data-toc-modified-id=\"Scraping-the-county-names-4.4.3\"><span class=\"toc-item-num\">4.4.3&nbsp;&nbsp;</span>Scraping the county names</a></span></li><li><span><a href=\"#Unicode-garbage-–-weird-text-characters\" data-toc-modified-id=\"Unicode-garbage-–-weird-text-characters-4.4.4\"><span class=\"toc-item-num\">4.4.4&nbsp;&nbsp;</span>Unicode garbage – weird text characters</a></span></li><li><span><a href=\"#Both-links-and-names-in-one-loop\" data-toc-modified-id=\"Both-links-and-names-in-one-loop-4.4.5\"><span class=\"toc-item-num\">4.4.5&nbsp;&nbsp;</span>Both links and names in one loop</a></span></li><li><span><a href=\"#Best-practice-–-put-it-in-functions\" data-toc-modified-id=\"Best-practice-–-put-it-in-functions-4.4.6\"><span class=\"toc-item-num\">4.4.6&nbsp;&nbsp;</span>Best practice – put it in functions</a></span></li><li><span><a href=\"#Finally,-scrape-it-all\" data-toc-modified-id=\"Finally,-scrape-it-all-4.4.7\"><span class=\"toc-item-num\">4.4.7&nbsp;&nbsp;</span>Finally, scrape it all</a></span></li></ul></li><li><span><a href=\"#Exercise-–-Scrape-the-Olympic-Medals\" data-toc-modified-id=\"Exercise-–-Scrape-the-Olympic-Medals-4.5\"><span class=\"toc-item-num\">4.5&nbsp;&nbsp;</span>Exercise – Scrape the Olympic Medals</a></span></li></ul></li><li><span><a href=\"#Data-Alteration-Techniques\" data-toc-modified-id=\"Data-Alteration-Techniques-5\"><span class=\"toc-item-num\">5&nbsp;&nbsp;</span>Data Alteration Techniques</a></span><ul class=\"toc-item\"><li><span><a href=\"#map()-–-A-Function-Using-a-Function\" data-toc-modified-id=\"map()-–-A-Function-Using-a-Function-5.1\"><span class=\"toc-item-num\">5.1&nbsp;&nbsp;</span><code>map()</code> – A Function Using a Function</a></span></li><li><span><a href=\"#filter()-–-Return-If-True\" data-toc-modified-id=\"filter()-–-Return-If-True-5.2\"><span class=\"toc-item-num\">5.2&nbsp;&nbsp;</span><code>filter()</code> – Return If <code>True</code></a></span><ul class=\"toc-item\"><li><span><a href=\"#Exercise-–-Filter-the-EU-Member-States,-Part-1\" data-toc-modified-id=\"Exercise-–-Filter-the-EU-Member-States,-Part-1-5.2.1\"><span class=\"toc-item-num\">5.2.1&nbsp;&nbsp;</span>Exercise – Filter the EU Member States, Part 1</a></span></li></ul></li><li><span><a href=\"#Lambda-Functions\" data-toc-modified-id=\"Lambda-Functions-5.3\"><span class=\"toc-item-num\">5.3&nbsp;&nbsp;</span>Lambda Functions</a></span></li><li><span><a href=\"#List-Comprehensions\" data-toc-modified-id=\"List-Comprehensions-5.4\"><span class=\"toc-item-num\">5.4&nbsp;&nbsp;</span>List Comprehensions</a></span><ul class=\"toc-item\"><li><span><a href=\"#Exercise-–-Filter-the-EU-Member-States,-Part-2\" data-toc-modified-id=\"Exercise-–-Filter-the-EU-Member-States,-Part-2-5.4.1\"><span class=\"toc-item-num\">5.4.1&nbsp;&nbsp;</span>Exercise – Filter the EU Member States, Part 2</a></span></li></ul></li></ul></li></ul></div>"
   ]
  },
  {
   "cell_type": "markdown",
   "metadata": {},
   "source": [
    "## Web scraping"
   ]
  },
  {
   "cell_type": "markdown",
   "metadata": {},
   "source": [
    "In this chapter, we're going to cover the basics of web scraping. We will not go through more advanced web scraping techniques (such as using automated webdrivers like Selenium). Here, we will learn how to access web pages' element trees and scrape information from it. \n",
    "\n",
    "You should know, such scraping has some prerequistes. In the introduction, I will briefly show how to research a web page's element tree, and introduce some basic web development concepts. There are also some helpful links to get you some more background. Just reading through the provided links will help you a lot. If you're completely new to these subjects, I recommend having the links open in other tabs in your web browser to be referenced as you read through this chapter."
   ]
  },
  {
   "cell_type": "markdown",
   "metadata": {},
   "source": [
    "### Introduction"
   ]
  },
  {
   "cell_type": "markdown",
   "metadata": {},
   "source": [
    "#### Website's foundation"
   ]
  },
  {
   "cell_type": "markdown",
   "metadata": {},
   "source": [
    "All web pages you frequent are the result of code. There is what's called **the frontend** of web pages. This is the visual representation of a website and is (usually) the results of code written in three languages. Here's a very (very) basic and rough explination of them:\n",
    "\n",
    "***\n",
    "**The website's building blocks – HTML**\n",
    "\n",
    "The basic building blocks of a web page is created in Hyper Text Markup Language, or HTML. It defines what \"blocks\" of content that should exist on the webpage. These blocks are called HTML-elements.\n",
    "***\n",
    "\n",
    "**The website's style and estetic – CSS**\n",
    "\n",
    "CSS code targets the HTML elements and changes their look and how they are ordered in relation to one another. For example, we can have HTML code that creates three text paragraphs on a website. It is the CSS code that then styles these paragraphs. Changing their font and ordering them to be placed next to eachother horizontally instead of just below one another.\n",
    "***\n",
    "\n",
    "**Website logic – JavaScript**\n",
    "\n",
    "Modern websites' content isn't static. It often changes appearance. Content sometimes move as you scroll, or it isn't available in some circumstances. Websites today are often described as dynamic. These features depend on various kinds of logic.\n",
    "\n",
    "A very basic example is when you click a link to a video containing violent content. This link may have code that marks that link as not appropriate for children. Clicking the link, a textbox then appears, asking you to put in your date of birth. If you're above a certain age, the webpage will let you use the link and see the video. If not, you'll be told you're too young to get access. This type of logic is usually built with the programming language JavaScript. \n",
    "\n",
    "_(There's also **the backend** of websites. This is the logic built to get the correct data to you as a user)_"
   ]
  },
  {
   "cell_type": "markdown",
   "metadata": {},
   "source": [
    "#### Inspecting websites"
   ]
  },
  {
   "cell_type": "markdown",
   "metadata": {},
   "source": [
    "Let's have a look at a website's html code: this wikipedia page with [all olympic medals of all time](https://en.wikipedia.org/wiki/All-time_Olympic_Games_medal_table). To do this, we right click anywhere on the website and choose \"Inspect\" (Google Chrome) or \"Inspect element\" (Firefox) in the dropdown menu that appears. [Here's a guide on how to do this on various web browsers.](https://www.lifewire.com/get-inspect-element-tool-for-browser-756549) Right click on the text paragraph up top on the article and choose \"Inspect Element\":"
   ]
  },
  {
   "cell_type": "markdown",
   "metadata": {},
   "source": [
    "<img src=\"../course_material/scraping/inspect_1.png\" style=\"width: 600px;\"/>"
   ]
  },
  {
   "cell_type": "markdown",
   "metadata": {},
   "source": [
    "You will then open **the developer tools window**. If you've never seen this window before, it may come across as the controls of a space shuttle. But don't be scared! It isn't that complicated, at least the stuff we're interested in :)\n",
    "\n",
    "In the developer tools window, if you're in Google Chrome, open the \"Elements\" tab, or \"Inspector\" if you're using Firefox (it should open this tab by default). In the guide linked above, you can see what this tab is called in various other browsers. The first arrow (1) points to the elements inspector tab:"
   ]
  },
  {
   "cell_type": "markdown",
   "metadata": {},
   "source": [
    "<img src=\"../course_material/scraping/inspect_2.png\" style=\"width: 600px;\"/>"
   ]
  },
  {
   "cell_type": "markdown",
   "metadata": {},
   "source": [
    "The second arrow (2) points to various html-elements that exists on the webpage. The one marked in blue is the element that I right clicked on (the visuals varies across different browsers, but the functionality is basically the same). "
   ]
  },
  {
   "cell_type": "markdown",
   "metadata": {},
   "source": [
    "---"
   ]
  },
  {
   "cell_type": "markdown",
   "metadata": {},
   "source": [
    "If you scroll through the list, you can see the entire page's structure. There are small grey arrow heads to the left of most of the elements. This indicates a tree of HTML elemnets (also called HTML objects). If you click an arrow, it will unfold the element tree, and you can see all elements beneath the one you clicked: "
   ]
  },
  {
   "cell_type": "markdown",
   "metadata": {},
   "source": [
    "<img src=\"../course_material/scraping/inspect_4.png\" style=\"width: 600px;\"/>"
   ]
  },
  {
   "cell_type": "markdown",
   "metadata": {},
   "source": [
    "So, pressing the arrow to the left of the paragraph element `<p>` (1). A tree of html-elements beneath that paragraph then unfolded (2). Unfolding the tree shows us all elements beneath the paragraph. These elements beneath are the **child elements** (3), they are **the children** of the paragraph element `<p>` (1). Likewise, `<p>` is **the parent element** of the elements directly beneath it."
   ]
  },
  {
   "cell_type": "markdown",
   "metadata": {},
   "source": [
    "In this chapter, you will learn how to use Python to scrape the data that are attached to these HTML elements. \n",
    "\n",
    "But first, we will do something a little less complicated. Let's learn how to download files from the internet!"
   ]
  },
  {
   "cell_type": "markdown",
   "metadata": {},
   "source": [
    "### The `requests` module"
   ]
  },
  {
   "cell_type": "markdown",
   "metadata": {},
   "source": [
    "Ok! So let's start with a very simple way to use code and access a web page's content. One of the most basic interactions you can do with a web page is download a file. The module `requests` is perfect for this – it makes it easy to quickly access a web page's content. Let's start with downloading a plaintext file.\n",
    "\n",
    "[On this page](http://www.textfiles.com/etext/FICTION/), we can download hundreds of classical books in plaintext format! Let's have a look at Jules Verne's book [_Around the World in 80 Days_](http://www.textfiles.com/etext/FICTION/80day10.txt)."
   ]
  },
  {
   "cell_type": "markdown",
   "metadata": {},
   "source": [
    "#### The response object"
   ]
  },
  {
   "cell_type": "code",
   "execution_count": 1,
   "metadata": {},
   "outputs": [],
   "source": [
    "import requests"
   ]
  },
  {
   "cell_type": "markdown",
   "metadata": {},
   "source": [
    "The plaintext file is at this url:"
   ]
  },
  {
   "cell_type": "code",
   "execution_count": 144,
   "metadata": {},
   "outputs": [],
   "source": [
    "url = \"http://www.textfiles.com/etext/FICTION/80day10.txt\""
   ]
  },
  {
   "cell_type": "markdown",
   "metadata": {},
   "source": [
    "To be able to scrape the contents of the url, we need to create a response object. Why is it called \"response\"? Well, each time you access a web page through a browser, the browser calls the web page's server – it sends _a request_ – asking for content. The server then _responds_ to your browser's request, and provides content.\n",
    "\n",
    "When we use the `requests` module, we bypass the intermediary web browser by using the method `.get()`. This method sends a request directly to the server. If the url exists, it returns a response object, which we'll save into a variable. Let's name it `res`:"
   ]
  },
  {
   "cell_type": "code",
   "execution_count": 75,
   "metadata": {},
   "outputs": [],
   "source": [
    "res = requests.get(url)"
   ]
  },
  {
   "cell_type": "markdown",
   "metadata": {},
   "source": [
    "#### Affirming the response object"
   ]
  },
  {
   "cell_type": "markdown",
   "metadata": {},
   "source": [
    "After creating a response object, we can use the `.raise_for_status()` method. This method raises an exception if the url you passed the `.get()` method doesn't work. If there is no issue with the url, `.raise_for_status()` will return `None`:"
   ]
  },
  {
   "cell_type": "code",
   "execution_count": 12,
   "metadata": {},
   "outputs": [],
   "source": [
    "res.raise_for_status()"
   ]
  },
  {
   "cell_type": "markdown",
   "metadata": {},
   "source": [
    "So, no issues with the url. But if we give it a url that doesn't exist?"
   ]
  },
  {
   "cell_type": "code",
   "execution_count": 22,
   "metadata": {},
   "outputs": [],
   "source": [
    "res = requests.get(\"http://www.textfiles.com/etext/FICTION/aölasöd\")"
   ]
  },
  {
   "cell_type": "code",
   "execution_count": 23,
   "metadata": {},
   "outputs": [
    {
     "ename": "HTTPError",
     "evalue": "404 Client Error: Not Found for url: http://www.textfiles.com/etext/FICTION/a%C3%B6las%C3%B6d",
     "output_type": "error",
     "traceback": [
      "\u001b[0;31m---------------------------------------------------------------------------\u001b[0m",
      "\u001b[0;31mHTTPError\u001b[0m                                 Traceback (most recent call last)",
      "\u001b[0;32m<ipython-input-23-cd6be6b74546>\u001b[0m in \u001b[0;36m<module>\u001b[0;34m\u001b[0m\n\u001b[0;32m----> 1\u001b[0;31m \u001b[0mres\u001b[0m\u001b[0;34m.\u001b[0m\u001b[0mraise_for_status\u001b[0m\u001b[0;34m(\u001b[0m\u001b[0;34m)\u001b[0m\u001b[0;34m\u001b[0m\u001b[0;34m\u001b[0m\u001b[0m\n\u001b[0m",
      "\u001b[0;32m~/.local/share/virtualenvs/learning_python-GVvhfwh6/lib/python3.8/site-packages/requests/models.py\u001b[0m in \u001b[0;36mraise_for_status\u001b[0;34m(self)\u001b[0m\n\u001b[1;32m    939\u001b[0m \u001b[0;34m\u001b[0m\u001b[0m\n\u001b[1;32m    940\u001b[0m         \u001b[0;32mif\u001b[0m \u001b[0mhttp_error_msg\u001b[0m\u001b[0;34m:\u001b[0m\u001b[0;34m\u001b[0m\u001b[0;34m\u001b[0m\u001b[0m\n\u001b[0;32m--> 941\u001b[0;31m             \u001b[0;32mraise\u001b[0m \u001b[0mHTTPError\u001b[0m\u001b[0;34m(\u001b[0m\u001b[0mhttp_error_msg\u001b[0m\u001b[0;34m,\u001b[0m \u001b[0mresponse\u001b[0m\u001b[0;34m=\u001b[0m\u001b[0mself\u001b[0m\u001b[0;34m)\u001b[0m\u001b[0;34m\u001b[0m\u001b[0;34m\u001b[0m\u001b[0m\n\u001b[0m\u001b[1;32m    942\u001b[0m \u001b[0;34m\u001b[0m\u001b[0m\n\u001b[1;32m    943\u001b[0m     \u001b[0;32mdef\u001b[0m \u001b[0mclose\u001b[0m\u001b[0;34m(\u001b[0m\u001b[0mself\u001b[0m\u001b[0;34m)\u001b[0m\u001b[0;34m:\u001b[0m\u001b[0;34m\u001b[0m\u001b[0;34m\u001b[0m\u001b[0m\n",
      "\u001b[0;31mHTTPError\u001b[0m: 404 Client Error: Not Found for url: http://www.textfiles.com/etext/FICTION/a%C3%B6las%C3%B6d"
     ]
    }
   ],
   "source": [
    "res.raise_for_status()"
   ]
  },
  {
   "cell_type": "markdown",
   "metadata": {},
   "source": [
    "This is common practice to always type this code so that you're sure that the code connected with the url successfully:"
   ]
  },
  {
   "cell_type": "code",
   "execution_count": 95,
   "metadata": {},
   "outputs": [],
   "source": [
    "res = requests.get(url)\n",
    "res.raise_for_status()"
   ]
  },
  {
   "cell_type": "markdown",
   "metadata": {},
   "source": [
    "#### Accessing content – the binary string"
   ]
  },
  {
   "cell_type": "markdown",
   "metadata": {},
   "source": [
    "The response object has an attribute called `content`. This is the entire web page's content retrieved as a binary string:"
   ]
  },
  {
   "cell_type": "code",
   "execution_count": 96,
   "metadata": {},
   "outputs": [
    {
     "data": {
      "text/plain": [
       "b'Around the World in 80 Days, by Jules Verne\\r\\n\\r\\n\\r\\nAROUND THE WORLD IN EIGHTY DAYS\\r\\n\\r\\nChapter I\\r\\n\\r\\nIN WHICH PHILEAS FOGG AND PASSEPARTOUT ACCEPT EACH OTHER,\\r\\nTHE ONE AS MASTER, THE OTHER AS MAN\\r\\n\\r\\n\\r\\nMr.'"
      ]
     },
     "execution_count": 96,
     "metadata": {},
     "output_type": "execute_result"
    }
   ],
   "source": [
    "res.content[:200]"
   ]
  },
  {
   "cell_type": "markdown",
   "metadata": {},
   "source": [
    "We havn't covered binary strings so far in the course, and I won't cover it now in great detail. Binary strings are text strings of plain binary data. You can always create your own by typing a lower cased \"b\" in front of a string:"
   ]
  },
  {
   "cell_type": "code",
   "execution_count": 97,
   "metadata": {},
   "outputs": [
    {
     "data": {
      "text/plain": [
       "b'This is a string'"
      ]
     },
     "execution_count": 97,
     "metadata": {},
     "output_type": "execute_result"
    }
   ],
   "source": [
    "b\"This is a string\""
   ]
  },
  {
   "cell_type": "code",
   "execution_count": 98,
   "metadata": {},
   "outputs": [
    {
     "data": {
      "text/plain": [
       "False"
      ]
     },
     "execution_count": 98,
     "metadata": {},
     "output_type": "execute_result"
    }
   ],
   "source": [
    "b\"This is a string\" == \"This is a string\""
   ]
  },
  {
   "cell_type": "markdown",
   "metadata": {},
   "source": [
    "We can decode binary strings to ordinary strings using the `.decode()` method:"
   ]
  },
  {
   "cell_type": "code",
   "execution_count": 99,
   "metadata": {},
   "outputs": [],
   "source": [
    "binary_string = b\"This is a string\""
   ]
  },
  {
   "cell_type": "code",
   "execution_count": 100,
   "metadata": {},
   "outputs": [
    {
     "data": {
      "text/plain": [
       "'This is a string'"
      ]
     },
     "execution_count": 100,
     "metadata": {},
     "output_type": "execute_result"
    }
   ],
   "source": [
    "binary_string.decode(\"utf-8\") # here we converting to unicode"
   ]
  },
  {
   "cell_type": "markdown",
   "metadata": {},
   "source": [
    "Encoding of strings is not part of this course. But _how to convert text to binary data, or vice versa, is._ There are hundreds of encodings that helps our computers to transform different languages' characters into binary code. The first, and (perhaps) most famous being ASCII, or `\"ascii\"` as an encoding argument in Python. If you're interested in more, [read this!](https://realpython.com/python-encodings-guide/#enter-unicode) In fact, that whole article is great for understanding more about this subject.\n",
    "\n",
    "Here, we'll just go with the unicode encoding argument \"urf-8\", which is most commonly used while working with characters connected to the English language, and not explaine it further."
   ]
  },
  {
   "cell_type": "markdown",
   "metadata": {},
   "source": [
    "This might all seem a bit confusing. But just know that there are something called binary strings. They are usually used when computers need to convert text data from one computer language to another. Such as when we want content from a server on the web returned to us as a string we can use in Python.\n",
    "\n",
    "Let's save the site's content to a variable and decode it into a normal string:"
   ]
  },
  {
   "cell_type": "code",
   "execution_count": 101,
   "metadata": {},
   "outputs": [],
   "source": [
    "content = res.content"
   ]
  },
  {
   "cell_type": "code",
   "execution_count": 102,
   "metadata": {},
   "outputs": [],
   "source": [
    "content = content.decode(\"utf-8\")"
   ]
  },
  {
   "cell_type": "code",
   "execution_count": 103,
   "metadata": {},
   "outputs": [
    {
     "data": {
      "text/plain": [
       "375033"
      ]
     },
     "execution_count": 103,
     "metadata": {},
     "output_type": "execute_result"
    }
   ],
   "source": [
    "len(content)"
   ]
  },
  {
   "cell_type": "markdown",
   "metadata": {},
   "source": [
    "#### Downloading a plaintext file"
   ]
  },
  {
   "cell_type": "markdown",
   "metadata": {},
   "source": [
    "Let's retrieve the text file again:"
   ]
  },
  {
   "cell_type": "code",
   "execution_count": 145,
   "metadata": {},
   "outputs": [],
   "source": [
    "url = \"http://www.textfiles.com/etext/FICTION/80day10.txt\"\n",
    "res = requests.get(url)\n",
    "res.raise_for_status()\n",
    "content = res.content.decode(\"utf-8\")"
   ]
  },
  {
   "cell_type": "markdown",
   "metadata": {},
   "source": [
    "...and check the content:"
   ]
  },
  {
   "cell_type": "code",
   "execution_count": 146,
   "metadata": {
    "scrolled": true
   },
   "outputs": [
    {
     "name": "stdout",
     "output_type": "stream",
     "text": [
      "Around the World in 80 Days, by Jules Verne\n",
      "\n",
      "\n",
      "AROUND THE WORLD IN EIGHTY DAYS\n",
      "\n",
      "Chapter I\n",
      "\n",
      "IN WHICH PHILEAS FOGG AND PASSEPARTOUT ACCEPT EACH OTHER,\n",
      "THE ONE AS MASTER, THE OTHER AS MAN\n",
      "\n",
      "\n",
      "Mr. Phileas Fogg lived, in 1872, at No. 7, Saville Row, Burlington\n",
      "Gardens, the house in which Sheridan died in 1814.  He was one of\n",
      "the most noticeable members of the Reform Club, though he seemed\n",
      "always to avoid attracting attention; an enigmatical personage,\n",
      "about whom little was known, except that he was a polished man\n",
      "of the world.\n"
     ]
    }
   ],
   "source": [
    "print(content[:540])"
   ]
  },
  {
   "cell_type": "markdown",
   "metadata": {},
   "source": [
    "As you can see, the content is simply a plaintext file. No more. It actually sais so in the url we used:"
   ]
  },
  {
   "cell_type": "code",
   "execution_count": 77,
   "metadata": {},
   "outputs": [
    {
     "data": {
      "text/plain": [
       "'http://www.textfiles.com/etext/FICTION/80day10.txt'"
      ]
     },
     "execution_count": 77,
     "metadata": {},
     "output_type": "execute_result"
    }
   ],
   "source": [
    "\"http://www.textfiles.com/etext/FICTION/80day10.txt\" # .txt :)"
   ]
  },
  {
   "cell_type": "markdown",
   "metadata": {},
   "source": [
    "This means that there are no other content than the file's content in our response object. Let's try another page to show you what I mean:"
   ]
  },
  {
   "cell_type": "code",
   "execution_count": 79,
   "metadata": {},
   "outputs": [
    {
     "data": {
      "text/plain": [
       "b'<HTML>\\n<BODY BGCOLOR=\"#000000\" TEXT=\"#FFFFFF\" LINK=\"#FFFFFF\" ALINK=\"#FFFFFF\"\\n      VLINK=\"#FFFFFF\">\\n\\n<CENTER>\\n<IMG SRC=\"images/etext.jpg\"><P>\\n<P>\\n<TABLE WIDTH=90%>\\n<TR>\\n<TD WIDTH=50% VALIGN=TOP>\\n<BLOCKQUOTE>\\n<FONT SIZE=+1><B><A STYLE=\"text-decoration'"
      ]
     },
     "execution_count": 79,
     "metadata": {},
     "output_type": "execute_result"
    }
   ],
   "source": [
    "requests.get(\"http://www.textfiles.com/etext/\").content[:250]"
   ]
  },
  {
   "cell_type": "markdown",
   "metadata": {},
   "source": [
    "Since the requests `.get()` method retrieves all content on a site, it usually returns the web page's html tree, with all its html-elements. But since this is a plaintextfile, we dont't have to bother with that. We can straight away download the contents to a file on our hard drive:"
   ]
  },
  {
   "cell_type": "code",
   "execution_count": 68,
   "metadata": {},
   "outputs": [],
   "source": [
    "file = open(\"around_the_world_in_80_days.txt\", \"w\")\n",
    "file.write(content)\n",
    "file.close()"
   ]
  },
  {
   "cell_type": "markdown",
   "metadata": {},
   "source": [
    "Since the `open()` function has the argument \"wb\" – \"write binary\" – we don't need to convert the binary string to a normal string. We can just write the file straight from the response object:"
   ]
  },
  {
   "cell_type": "code",
   "execution_count": 69,
   "metadata": {},
   "outputs": [],
   "source": [
    "file = open(\"around_the_world_in_80_days.txt\", \"wb\")\n",
    "file.write(res.content)\n",
    "file.close()"
   ]
  },
  {
   "cell_type": "markdown",
   "metadata": {},
   "source": [
    "The result is the same :)"
   ]
  },
  {
   "cell_type": "markdown",
   "metadata": {},
   "source": [
    "##### Exploring the text data"
   ]
  },
  {
   "cell_type": "markdown",
   "metadata": {},
   "source": [
    "Since we decoded the content into a normal Python text string, we can use regular expressions and explore the text! For example, how many times does the name \"Phileas Fogg\" occur in the book? Let's have a look:"
   ]
  },
  {
   "cell_type": "code",
   "execution_count": 147,
   "metadata": {},
   "outputs": [],
   "source": [
    "import re"
   ]
  },
  {
   "cell_type": "code",
   "execution_count": 148,
   "metadata": {},
   "outputs": [],
   "source": [
    "pattern = \"Phileas Fogg\""
   ]
  },
  {
   "cell_type": "code",
   "execution_count": 150,
   "metadata": {},
   "outputs": [
    {
     "data": {
      "text/plain": [
       "219"
      ]
     },
     "execution_count": 150,
     "metadata": {},
     "output_type": "execute_result"
    }
   ],
   "source": [
    "len(re.findall(pattern, content))"
   ]
  },
  {
   "cell_type": "markdown",
   "metadata": {},
   "source": [
    "How about just his surname \"Fogg\"?"
   ]
  },
  {
   "cell_type": "code",
   "execution_count": 153,
   "metadata": {},
   "outputs": [],
   "source": [
    "pattern = \"Fogg\""
   ]
  },
  {
   "cell_type": "code",
   "execution_count": 154,
   "metadata": {},
   "outputs": [
    {
     "data": {
      "text/plain": [
       "608"
      ]
     },
     "execution_count": 154,
     "metadata": {},
     "output_type": "execute_result"
    }
   ],
   "source": [
    "len(re.findall(pattern, content))"
   ]
  },
  {
   "cell_type": "markdown",
   "metadata": {},
   "source": [
    "Oh! So way more. My guess is that, since it is an old book, his name is usually written together with \"Mr\". Let's see:"
   ]
  },
  {
   "cell_type": "code",
   "execution_count": 155,
   "metadata": {},
   "outputs": [],
   "source": [
    "pattern = \"Mr\\.* Fogg\" # searching for a literal dot '.' here"
   ]
  },
  {
   "cell_type": "code",
   "execution_count": 158,
   "metadata": {},
   "outputs": [
    {
     "data": {
      "text/plain": [
       "355"
      ]
     },
     "execution_count": 158,
     "metadata": {},
     "output_type": "execute_result"
    }
   ],
   "source": [
    "len(re.findall(pattern, content))"
   ]
  },
  {
   "cell_type": "markdown",
   "metadata": {},
   "source": [
    "That seems about right. What is the word that usually preceds \"Fogg\"?"
   ]
  },
  {
   "cell_type": "code",
   "execution_count": 164,
   "metadata": {},
   "outputs": [],
   "source": [
    "pattern = \"(\\w+)\\W*\\s*Fogg\""
   ]
  },
  {
   "cell_type": "code",
   "execution_count": 166,
   "metadata": {},
   "outputs": [],
   "source": [
    "preceding_word = re.findall(pattern, content)"
   ]
  },
  {
   "cell_type": "markdown",
   "metadata": {},
   "source": [
    "We can use the `set()` function to get all unique values in a list. Let's check out all words that preceds \"Fogg\":"
   ]
  },
  {
   "cell_type": "code",
   "execution_count": 168,
   "metadata": {},
   "outputs": [
    {
     "data": {
      "text/plain": [
       "{'Captain',\n",
       " 'Kong',\n",
       " 'Monsieur',\n",
       " 'Mr',\n",
       " 'Phileas',\n",
       " 'The',\n",
       " 'and',\n",
       " 'arrest',\n",
       " 'courageous',\n",
       " 'crew',\n",
       " 'face',\n",
       " 'had',\n",
       " 'her',\n",
       " 'if',\n",
       " 'intractable',\n",
       " 'joy',\n",
       " 'letting',\n",
       " 'lose',\n",
       " 'not',\n",
       " 'of',\n",
       " 'pursuing',\n",
       " 'retorted',\n",
       " 'safety',\n",
       " 'said',\n",
       " 'that',\n",
       " 'the',\n",
       " 'to',\n",
       " 'tranquil',\n",
       " 'under'}"
      ]
     },
     "execution_count": 168,
     "metadata": {},
     "output_type": "execute_result"
    }
   ],
   "source": [
    "set(preceding_word)"
   ]
  },
  {
   "cell_type": "markdown",
   "metadata": {},
   "source": [
    "Fun to explore, even though it is pretty useless information :)\n",
    "\n",
    "But hopefully, you now feel a bit introduced on how to scrape text files from the internet and then exploring their content using code!"
   ]
  },
  {
   "cell_type": "code",
   "execution_count": 170,
   "metadata": {},
   "outputs": [],
   "source": [
    "# Uncomment this and run if you want to delete the text file:\n",
    "#from pathlib import Path\n",
    "#Path(\"around_the_world_in_80_days.txt\").unlink()"
   ]
  },
  {
   "cell_type": "markdown",
   "metadata": {},
   "source": [
    "#### Downloading and working with csv files"
   ]
  },
  {
   "cell_type": "markdown",
   "metadata": {},
   "source": [
    "Ok! Downloading litterature is all fine and dandy. But what about downloading data files? Here, I will show you how to use the requests library to obtain two such types of files – the json and the csv.\n",
    "\n",
    "Let's start with **the csv file**. \"csv\" stands for \"comma separated values\". It is essentially files with rows and columns of data, where each row is separated by a newline character `\\n`, and each column by a comma `,`. Here's a url to a csv file with of covid data from Johns Hopkins University:"
   ]
  },
  {
   "cell_type": "code",
   "execution_count": 20,
   "metadata": {},
   "outputs": [],
   "source": [
    "url = \"https://raw.githubusercontent.com/CSSEGISandData/COVID-19/master/csse_covid_19_data/csse_covid_19_daily_reports/10-29-2020.csv\""
   ]
  },
  {
   "cell_type": "markdown",
   "metadata": {},
   "source": [
    "So, let's get it using the requests library!"
   ]
  },
  {
   "cell_type": "code",
   "execution_count": 21,
   "metadata": {},
   "outputs": [],
   "source": [
    "res = requests.get(url)"
   ]
  },
  {
   "cell_type": "code",
   "execution_count": 22,
   "metadata": {},
   "outputs": [
    {
     "data": {
      "text/plain": [
       "b'FIPS,Admin2,Province_State,Country_Region,Last_Update,Lat,Long_,Confirmed,Deaths,Recovered,Active,Combined_Key,Incidence_Rate,Case-Fatality_Ratio\\n,,,Afghanistan,2020-10-30 04:24:49,33.93911,67.709953,41268,1532,34239,5497,Afghanistan,106.01016878679728,3.7123194727149365\\n,,,Albania,2020-10-30 04:24:49,41.1533,20.1683,20315,499,11007,8809,Albania,705.9211897977623,2.4563130691607187\\n,,,Algeria,2020-10-30 04:24:49,28.0339,1.6596,57332,1949,39635,15748,Algeria,130.74261426347374,3.399497662736343\\n,'"
      ]
     },
     "execution_count": 22,
     "metadata": {},
     "output_type": "execute_result"
    }
   ],
   "source": [
    "res.content[:500]"
   ]
  },
  {
   "cell_type": "code",
   "execution_count": 23,
   "metadata": {},
   "outputs": [
    {
     "data": {
      "text/plain": [
       "556837"
      ]
     },
     "execution_count": 23,
     "metadata": {},
     "output_type": "execute_result"
    }
   ],
   "source": [
    "len(res.content)"
   ]
  },
  {
   "cell_type": "markdown",
   "metadata": {},
   "source": [
    "So, we now have all data in i gigantic binary string. Let's save it into a csv-file."
   ]
  },
  {
   "cell_type": "code",
   "execution_count": 103,
   "metadata": {},
   "outputs": [],
   "source": [
    "csv_file = open(\"covid_data.csv\",\"wb\")"
   ]
  },
  {
   "cell_type": "code",
   "execution_count": 104,
   "metadata": {},
   "outputs": [
    {
     "data": {
      "text/plain": [
       "556837"
      ]
     },
     "execution_count": 104,
     "metadata": {},
     "output_type": "execute_result"
    }
   ],
   "source": [
    "csv_file.write(res.content)"
   ]
  },
  {
   "cell_type": "markdown",
   "metadata": {},
   "source": [
    "We can then use the `csv` module to parse the data! Let's import the module:"
   ]
  },
  {
   "cell_type": "code",
   "execution_count": 105,
   "metadata": {},
   "outputs": [],
   "source": [
    "import csv"
   ]
  },
  {
   "cell_type": "markdown",
   "metadata": {},
   "source": [
    "The csv module has the method `.reader()` that takes a csv file object as an argument. The method then parses the data into rows, where each row is a list of string elements found in the data file. The result is returned as a new \"reader\" object. Let me show you what I mean:"
   ]
  },
  {
   "cell_type": "code",
   "execution_count": 114,
   "metadata": {},
   "outputs": [],
   "source": [
    "csv_file = open(\"covid_data.csv\",\"r\")\n",
    "csv_reader = csv.reader(csv_file,delimiter=',')"
   ]
  },
  {
   "cell_type": "code",
   "execution_count": 115,
   "metadata": {},
   "outputs": [
    {
     "data": {
      "text/plain": [
       "<_csv.reader at 0x1304a3120>"
      ]
     },
     "execution_count": 115,
     "metadata": {},
     "output_type": "execute_result"
    }
   ],
   "source": [
    "csv_reader"
   ]
  },
  {
   "cell_type": "markdown",
   "metadata": {},
   "source": [
    "This reader object contains all rows in the csv file. The first row is the header with the column names, the rest is the rows of data. To have all the rows returned, we can use the `list()` function:"
   ]
  },
  {
   "cell_type": "code",
   "execution_count": 116,
   "metadata": {},
   "outputs": [
    {
     "data": {
      "text/plain": [
       "[['FIPS',\n",
       "  'Admin2',\n",
       "  'Province_State',\n",
       "  'Country_Region',\n",
       "  'Last_Update',\n",
       "  'Lat',\n",
       "  'Long_',\n",
       "  'Confirmed',\n",
       "  'Deaths',\n",
       "  'Recovered',\n",
       "  'Active',\n",
       "  'Combined_Key',\n",
       "  'Incidence_Rate',\n",
       "  'Case-Fatality_Ratio'],\n",
       " ['',\n",
       "  '',\n",
       "  '',\n",
       "  'Afghanistan',\n",
       "  '2020-10-30 04:24:49',\n",
       "  '33.93911',\n",
       "  '67.709953',\n",
       "  '41268',\n",
       "  '1532',\n",
       "  '34239',\n",
       "  '5497',\n",
       "  'Afghanistan',\n",
       "  '106.01016878679728',\n",
       "  '3.7123194727149365']]"
      ]
     },
     "execution_count": 116,
     "metadata": {},
     "output_type": "execute_result"
    }
   ],
   "source": [
    "list(csv_reader)[:2]"
   ]
  },
  {
   "cell_type": "markdown",
   "metadata": {},
   "source": [
    "##### (Optional) Exploring and converting csv data"
   ]
  },
  {
   "cell_type": "markdown",
   "metadata": {},
   "source": [
    "Ok, how do we transform this data into a data structure we can explore? Well, we could convert it to a unicode encoded string value, and then use string methods to create a data structure we can use."
   ]
  },
  {
   "cell_type": "code",
   "execution_count": 3,
   "metadata": {},
   "outputs": [],
   "source": [
    "import csv\n",
    "import requests"
   ]
  },
  {
   "cell_type": "code",
   "execution_count": 4,
   "metadata": {},
   "outputs": [],
   "source": [
    "url = \"https://raw.githubusercontent.com/CSSEGISandData/COVID-19/master/csse_covid_19_data/csse_covid_19_daily_reports/10-29-2020.csv\"\n",
    "res = requests.get(url)\n",
    "res.raise_for_status()"
   ]
  },
  {
   "cell_type": "code",
   "execution_count": 5,
   "metadata": {},
   "outputs": [],
   "source": [
    "data = res.content.decode('utf-8') # converting data into python string"
   ]
  },
  {
   "cell_type": "markdown",
   "metadata": {},
   "source": [
    "Now, if we don't have the data saved to a csv file, and want the csv module to read the data straight from our response's content, we need to split the string on all newlines. Otherwise, it will confuse what's what in the data."
   ]
  },
  {
   "cell_type": "code",
   "execution_count": 6,
   "metadata": {},
   "outputs": [],
   "source": [
    "data = data.split(\"\\n\")\n",
    "csv_reader = csv.reader(data, delimiter=',')"
   ]
  },
  {
   "cell_type": "code",
   "execution_count": 7,
   "metadata": {},
   "outputs": [],
   "source": [
    "data = list(csv_reader) # converting the reader object to a list with all rows as items"
   ]
  },
  {
   "cell_type": "markdown",
   "metadata": {},
   "source": [
    "The first item in the list seem to be the header. Let's save it to a variable:"
   ]
  },
  {
   "cell_type": "code",
   "execution_count": 8,
   "metadata": {},
   "outputs": [],
   "source": [
    "header = data[0]"
   ]
  },
  {
   "cell_type": "code",
   "execution_count": 9,
   "metadata": {},
   "outputs": [
    {
     "data": {
      "text/plain": [
       "['FIPS',\n",
       " 'Admin2',\n",
       " 'Province_State',\n",
       " 'Country_Region',\n",
       " 'Last_Update',\n",
       " 'Lat',\n",
       " 'Long_',\n",
       " 'Confirmed',\n",
       " 'Deaths',\n",
       " 'Recovered',\n",
       " 'Active',\n",
       " 'Combined_Key',\n",
       " 'Incidence_Rate',\n",
       " 'Case-Fatality_Ratio']"
      ]
     },
     "execution_count": 9,
     "metadata": {},
     "output_type": "execute_result"
    }
   ],
   "source": [
    "header # This is all column names in the data!"
   ]
  },
  {
   "cell_type": "markdown",
   "metadata": {},
   "source": [
    "Now, loop over all rows and match each row of data with our header to then pair with row values. We'll save these as dictionaries and then append them to a `results` variable:"
   ]
  },
  {
   "cell_type": "code",
   "execution_count": 10,
   "metadata": {},
   "outputs": [],
   "source": [
    "results = [] # place holder to fill with row data\n",
    "\n",
    "# skipping first item in the list, since that's the \"header\":\n",
    "for row in data[1:]:\n",
    "    row_dict = dict(zip(header, row)) # Connect each row's data with the header as keys\n",
    "    results.append(row_dict)"
   ]
  },
  {
   "cell_type": "code",
   "execution_count": 11,
   "metadata": {},
   "outputs": [
    {
     "data": {
      "text/plain": [
       "{'FIPS': '',\n",
       " 'Admin2': '',\n",
       " 'Province_State': '',\n",
       " 'Country_Region': 'Afghanistan',\n",
       " 'Last_Update': '2020-10-30 04:24:49',\n",
       " 'Lat': '33.93911',\n",
       " 'Long_': '67.709953',\n",
       " 'Confirmed': '41268',\n",
       " 'Deaths': '1532',\n",
       " 'Recovered': '34239',\n",
       " 'Active': '5497',\n",
       " 'Combined_Key': 'Afghanistan',\n",
       " 'Incidence_Rate': '106.01016878679728',\n",
       " 'Case-Fatality_Ratio': '3.7123194727149365'}"
      ]
     },
     "execution_count": 11,
     "metadata": {},
     "output_type": "execute_result"
    }
   ],
   "source": [
    "results[0]"
   ]
  },
  {
   "cell_type": "markdown",
   "metadata": {},
   "source": [
    "To save the data into csv file, we can use the `.writer()` method. This returns a csv writer object, and to write all the data to it, we need to do so row by row. \n",
    "\n",
    "The writer object has some really handy parameters when writing csv files. For example, we can bypass the potential problem of creating a csv data file where data points include commas. So if one data point in the cell is a name, and that name is written `Ekman, Johan` – this could create future problems. If we include the parameter `quotechar='\"'` in our writer method, the method will automatically enclose data points that contain the csv delimiter character within quote marks. So `Ekman, Johan` would be saved as `\"Ekman, Johan\"` in the csv file. The parameter `quoting=csv.QUOTE_MINIMAL`, sets it so that these quotes is only added if a delimiter character is found in data points.\n",
    "\n",
    "\n",
    "But first, before writing all data, we need to create a new file. Let's do so with the context manager pattern, using the `with` statement:"
   ]
  },
  {
   "cell_type": "code",
   "execution_count": 13,
   "metadata": {},
   "outputs": [],
   "source": [
    "with open(\"covid_data.csv\", \"w\") as csv_file:\n",
    "    \n",
    "    # when many paramters, I usually put them on their own rows, looks nicer :)\n",
    "    covid_writer = csv.writer(csv_file,\n",
    "                              delimiter=',',\n",
    "                              quotechar='\"',\n",
    "                              quoting=csv.QUOTE_MINIMAL)\n",
    "    for row in results:\n",
    "        covid_writer.writerow(row)"
   ]
  },
  {
   "cell_type": "markdown",
   "metadata": {},
   "source": [
    "Done! You can check the file if you want!"
   ]
  },
  {
   "cell_type": "markdown",
   "metadata": {},
   "source": [
    "So to recap what we just did:\n",
    "\n",
    "1. converted the response object's content into a string\n",
    "2. splited the string on all newline `\\n` characters to get a list of all rows of data\n",
    "3. in a loop, we splited each row on all commas in the to get each row's columns\n",
    "4. created a zip object by passing the header data and the sequence's data to the `zip()` function, then passed the zip object to the `dict()` function, creating a dictonary. \n",
    "5. Saved the data in a csv file, using the `.writer()` method\n"
   ]
  },
  {
   "cell_type": "markdown",
   "metadata": {},
   "source": [
    "I havn't introduced you to the `pandas` module yet, but I will now show you how to use pandas to save the data as a excel file. First import pandas:"
   ]
  },
  {
   "cell_type": "code",
   "execution_count": 141,
   "metadata": {},
   "outputs": [],
   "source": [
    "import pandas as pd"
   ]
  },
  {
   "cell_type": "markdown",
   "metadata": {},
   "source": [
    "_(It is common practice to import pandas as a synonym `pd`, the reason being that there are so many methods used from the module while working with it, that it is more readable to use the short `pd`)_\n",
    "\n",
    "`pandas` transforms data into `series` objects. They are basically lists. If we have more than one series organised together, this is called a pandas dataframe – a table of data, if you will. To create a dataframe object, we use the `DataFrame` class:"
   ]
  },
  {
   "cell_type": "code",
   "execution_count": 143,
   "metadata": {},
   "outputs": [
    {
     "data": {
      "text/plain": [
       "pandas.core.frame.DataFrame"
      ]
     },
     "execution_count": 143,
     "metadata": {},
     "output_type": "execute_result"
    }
   ],
   "source": [
    "type(pd.DataFrame())"
   ]
  },
  {
   "cell_type": "markdown",
   "metadata": {},
   "source": [
    "Passing our data structure to the dataframe class will create a new dataframe object. Let's do so and then save it to a variable called `df`:"
   ]
  },
  {
   "cell_type": "code",
   "execution_count": 145,
   "metadata": {},
   "outputs": [],
   "source": [
    "df = pd.DataFrame(results)"
   ]
  },
  {
   "cell_type": "markdown",
   "metadata": {},
   "source": [
    "Dataframes have the `.head()` method that shows us the first 5 rows in the dataframe:"
   ]
  },
  {
   "cell_type": "code",
   "execution_count": 148,
   "metadata": {},
   "outputs": [
    {
     "data": {
      "text/html": [
       "<div>\n",
       "<style scoped>\n",
       "    .dataframe tbody tr th:only-of-type {\n",
       "        vertical-align: middle;\n",
       "    }\n",
       "\n",
       "    .dataframe tbody tr th {\n",
       "        vertical-align: top;\n",
       "    }\n",
       "\n",
       "    .dataframe thead th {\n",
       "        text-align: right;\n",
       "    }\n",
       "</style>\n",
       "<table border=\"1\" class=\"dataframe\">\n",
       "  <thead>\n",
       "    <tr style=\"text-align: right;\">\n",
       "      <th></th>\n",
       "      <th>FIPS</th>\n",
       "      <th>Admin2</th>\n",
       "      <th>Province_State</th>\n",
       "      <th>Country_Region</th>\n",
       "      <th>Last_Update</th>\n",
       "      <th>Lat</th>\n",
       "      <th>Long_</th>\n",
       "      <th>Confirmed</th>\n",
       "      <th>Deaths</th>\n",
       "      <th>Recovered</th>\n",
       "      <th>Active</th>\n",
       "      <th>Combined_Key</th>\n",
       "      <th>Incidence_Rate</th>\n",
       "      <th>Case-Fatality_Ratio</th>\n",
       "    </tr>\n",
       "  </thead>\n",
       "  <tbody>\n",
       "    <tr>\n",
       "      <th>0</th>\n",
       "      <td></td>\n",
       "      <td></td>\n",
       "      <td></td>\n",
       "      <td>Afghanistan</td>\n",
       "      <td>2020-10-30 04:24:49</td>\n",
       "      <td>33.93911</td>\n",
       "      <td>67.709953</td>\n",
       "      <td>41268</td>\n",
       "      <td>1532</td>\n",
       "      <td>34239</td>\n",
       "      <td>5497</td>\n",
       "      <td>Afghanistan</td>\n",
       "      <td>106.01016878679728</td>\n",
       "      <td>3.7123194727149365</td>\n",
       "    </tr>\n",
       "    <tr>\n",
       "      <th>1</th>\n",
       "      <td></td>\n",
       "      <td></td>\n",
       "      <td></td>\n",
       "      <td>Albania</td>\n",
       "      <td>2020-10-30 04:24:49</td>\n",
       "      <td>41.1533</td>\n",
       "      <td>20.1683</td>\n",
       "      <td>20315</td>\n",
       "      <td>499</td>\n",
       "      <td>11007</td>\n",
       "      <td>8809</td>\n",
       "      <td>Albania</td>\n",
       "      <td>705.9211897977623</td>\n",
       "      <td>2.4563130691607187</td>\n",
       "    </tr>\n",
       "    <tr>\n",
       "      <th>2</th>\n",
       "      <td></td>\n",
       "      <td></td>\n",
       "      <td></td>\n",
       "      <td>Algeria</td>\n",
       "      <td>2020-10-30 04:24:49</td>\n",
       "      <td>28.0339</td>\n",
       "      <td>1.6596</td>\n",
       "      <td>57332</td>\n",
       "      <td>1949</td>\n",
       "      <td>39635</td>\n",
       "      <td>15748</td>\n",
       "      <td>Algeria</td>\n",
       "      <td>130.74261426347374</td>\n",
       "      <td>3.399497662736343</td>\n",
       "    </tr>\n",
       "    <tr>\n",
       "      <th>3</th>\n",
       "      <td></td>\n",
       "      <td></td>\n",
       "      <td></td>\n",
       "      <td>Andorra</td>\n",
       "      <td>2020-10-30 04:24:49</td>\n",
       "      <td>42.5063</td>\n",
       "      <td>1.5218</td>\n",
       "      <td>4567</td>\n",
       "      <td>73</td>\n",
       "      <td>3260</td>\n",
       "      <td>1234</td>\n",
       "      <td>Andorra</td>\n",
       "      <td>5910.8263767553235</td>\n",
       "      <td>1.5984234727392161</td>\n",
       "    </tr>\n",
       "    <tr>\n",
       "      <th>4</th>\n",
       "      <td></td>\n",
       "      <td></td>\n",
       "      <td></td>\n",
       "      <td>Angola</td>\n",
       "      <td>2020-10-30 04:24:49</td>\n",
       "      <td>-11.2027</td>\n",
       "      <td>17.8739</td>\n",
       "      <td>10269</td>\n",
       "      <td>275</td>\n",
       "      <td>3736</td>\n",
       "      <td>6258</td>\n",
       "      <td>Angola</td>\n",
       "      <td>31.244800900424714</td>\n",
       "      <td>2.677962800662187</td>\n",
       "    </tr>\n",
       "  </tbody>\n",
       "</table>\n",
       "</div>"
      ],
      "text/plain": [
       "  FIPS Admin2 Province_State Country_Region          Last_Update       Lat  \\\n",
       "0                               Afghanistan  2020-10-30 04:24:49  33.93911   \n",
       "1                                   Albania  2020-10-30 04:24:49   41.1533   \n",
       "2                                   Algeria  2020-10-30 04:24:49   28.0339   \n",
       "3                                   Andorra  2020-10-30 04:24:49   42.5063   \n",
       "4                                    Angola  2020-10-30 04:24:49  -11.2027   \n",
       "\n",
       "       Long_ Confirmed Deaths Recovered Active Combined_Key  \\\n",
       "0  67.709953     41268   1532     34239   5497  Afghanistan   \n",
       "1    20.1683     20315    499     11007   8809      Albania   \n",
       "2     1.6596     57332   1949     39635  15748      Algeria   \n",
       "3     1.5218      4567     73      3260   1234      Andorra   \n",
       "4    17.8739     10269    275      3736   6258       Angola   \n",
       "\n",
       "       Incidence_Rate Case-Fatality_Ratio  \n",
       "0  106.01016878679728  3.7123194727149365  \n",
       "1   705.9211897977623  2.4563130691607187  \n",
       "2  130.74261426347374   3.399497662736343  \n",
       "3  5910.8263767553235  1.5984234727392161  \n",
       "4  31.244800900424714   2.677962800662187  "
      ]
     },
     "execution_count": 148,
     "metadata": {},
     "output_type": "execute_result"
    }
   ],
   "source": [
    "df.head()"
   ]
  },
  {
   "cell_type": "markdown",
   "metadata": {},
   "source": [
    "I won't go through the pandas library in detail here, I just wanted to show you how it can be used to save data to excel files. Dataframe objects have the `.to_excel()` method. If we call this on our dataframe, it will save the data into an excelfile at the provided path:"
   ]
  },
  {
   "cell_type": "code",
   "execution_count": 150,
   "metadata": {},
   "outputs": [],
   "source": [
    "df.to_excel(\"covid_data.xlsx\")"
   ]
  },
  {
   "cell_type": "markdown",
   "metadata": {},
   "source": [
    "Pandas is a very powerful library. Using `pandas`, we don't need the `csv` module at all. We can actually just pass the url straight into the `.read_csv()` method:"
   ]
  },
  {
   "cell_type": "code",
   "execution_count": 158,
   "metadata": {},
   "outputs": [],
   "source": [
    "url = \"https://raw.githubusercontent.com/CSSEGISandData/COVID-19/master/csse_covid_19_data/csse_covid_19_daily_reports/10-29-2020.csv\""
   ]
  },
  {
   "cell_type": "code",
   "execution_count": 160,
   "metadata": {},
   "outputs": [
    {
     "data": {
      "text/html": [
       "<div>\n",
       "<style scoped>\n",
       "    .dataframe tbody tr th:only-of-type {\n",
       "        vertical-align: middle;\n",
       "    }\n",
       "\n",
       "    .dataframe tbody tr th {\n",
       "        vertical-align: top;\n",
       "    }\n",
       "\n",
       "    .dataframe thead th {\n",
       "        text-align: right;\n",
       "    }\n",
       "</style>\n",
       "<table border=\"1\" class=\"dataframe\">\n",
       "  <thead>\n",
       "    <tr style=\"text-align: right;\">\n",
       "      <th></th>\n",
       "      <th>FIPS</th>\n",
       "      <th>Admin2</th>\n",
       "      <th>Province_State</th>\n",
       "      <th>Country_Region</th>\n",
       "      <th>Last_Update</th>\n",
       "      <th>Lat</th>\n",
       "      <th>Long_</th>\n",
       "      <th>Confirmed</th>\n",
       "      <th>Deaths</th>\n",
       "      <th>Recovered</th>\n",
       "      <th>Active</th>\n",
       "      <th>Combined_Key</th>\n",
       "      <th>Incidence_Rate</th>\n",
       "      <th>Case-Fatality_Ratio</th>\n",
       "    </tr>\n",
       "  </thead>\n",
       "  <tbody>\n",
       "    <tr>\n",
       "      <th>0</th>\n",
       "      <td>NaN</td>\n",
       "      <td>NaN</td>\n",
       "      <td>NaN</td>\n",
       "      <td>Afghanistan</td>\n",
       "      <td>2020-10-30 04:24:49</td>\n",
       "      <td>33.93911</td>\n",
       "      <td>67.709953</td>\n",
       "      <td>41268</td>\n",
       "      <td>1532</td>\n",
       "      <td>34239</td>\n",
       "      <td>5497.0</td>\n",
       "      <td>Afghanistan</td>\n",
       "      <td>106.010169</td>\n",
       "      <td>3.712319</td>\n",
       "    </tr>\n",
       "    <tr>\n",
       "      <th>1</th>\n",
       "      <td>NaN</td>\n",
       "      <td>NaN</td>\n",
       "      <td>NaN</td>\n",
       "      <td>Albania</td>\n",
       "      <td>2020-10-30 04:24:49</td>\n",
       "      <td>41.15330</td>\n",
       "      <td>20.168300</td>\n",
       "      <td>20315</td>\n",
       "      <td>499</td>\n",
       "      <td>11007</td>\n",
       "      <td>8809.0</td>\n",
       "      <td>Albania</td>\n",
       "      <td>705.921190</td>\n",
       "      <td>2.456313</td>\n",
       "    </tr>\n",
       "    <tr>\n",
       "      <th>2</th>\n",
       "      <td>NaN</td>\n",
       "      <td>NaN</td>\n",
       "      <td>NaN</td>\n",
       "      <td>Algeria</td>\n",
       "      <td>2020-10-30 04:24:49</td>\n",
       "      <td>28.03390</td>\n",
       "      <td>1.659600</td>\n",
       "      <td>57332</td>\n",
       "      <td>1949</td>\n",
       "      <td>39635</td>\n",
       "      <td>15748.0</td>\n",
       "      <td>Algeria</td>\n",
       "      <td>130.742614</td>\n",
       "      <td>3.399498</td>\n",
       "    </tr>\n",
       "    <tr>\n",
       "      <th>3</th>\n",
       "      <td>NaN</td>\n",
       "      <td>NaN</td>\n",
       "      <td>NaN</td>\n",
       "      <td>Andorra</td>\n",
       "      <td>2020-10-30 04:24:49</td>\n",
       "      <td>42.50630</td>\n",
       "      <td>1.521800</td>\n",
       "      <td>4567</td>\n",
       "      <td>73</td>\n",
       "      <td>3260</td>\n",
       "      <td>1234.0</td>\n",
       "      <td>Andorra</td>\n",
       "      <td>5910.826377</td>\n",
       "      <td>1.598423</td>\n",
       "    </tr>\n",
       "    <tr>\n",
       "      <th>4</th>\n",
       "      <td>NaN</td>\n",
       "      <td>NaN</td>\n",
       "      <td>NaN</td>\n",
       "      <td>Angola</td>\n",
       "      <td>2020-10-30 04:24:49</td>\n",
       "      <td>-11.20270</td>\n",
       "      <td>17.873900</td>\n",
       "      <td>10269</td>\n",
       "      <td>275</td>\n",
       "      <td>3736</td>\n",
       "      <td>6258.0</td>\n",
       "      <td>Angola</td>\n",
       "      <td>31.244801</td>\n",
       "      <td>2.677963</td>\n",
       "    </tr>\n",
       "  </tbody>\n",
       "</table>\n",
       "</div>"
      ],
      "text/plain": [
       "   FIPS Admin2 Province_State Country_Region          Last_Update       Lat  \\\n",
       "0   NaN    NaN            NaN    Afghanistan  2020-10-30 04:24:49  33.93911   \n",
       "1   NaN    NaN            NaN        Albania  2020-10-30 04:24:49  41.15330   \n",
       "2   NaN    NaN            NaN        Algeria  2020-10-30 04:24:49  28.03390   \n",
       "3   NaN    NaN            NaN        Andorra  2020-10-30 04:24:49  42.50630   \n",
       "4   NaN    NaN            NaN         Angola  2020-10-30 04:24:49 -11.20270   \n",
       "\n",
       "       Long_  Confirmed  Deaths  Recovered   Active Combined_Key  \\\n",
       "0  67.709953      41268    1532      34239   5497.0  Afghanistan   \n",
       "1  20.168300      20315     499      11007   8809.0      Albania   \n",
       "2   1.659600      57332    1949      39635  15748.0      Algeria   \n",
       "3   1.521800       4567      73       3260   1234.0      Andorra   \n",
       "4  17.873900      10269     275       3736   6258.0       Angola   \n",
       "\n",
       "   Incidence_Rate  Case-Fatality_Ratio  \n",
       "0      106.010169             3.712319  \n",
       "1      705.921190             2.456313  \n",
       "2      130.742614             3.399498  \n",
       "3     5910.826377             1.598423  \n",
       "4       31.244801             2.677963  "
      ]
     },
     "execution_count": 160,
     "metadata": {},
     "output_type": "execute_result"
    }
   ],
   "source": [
    "df = pd.read_csv(url)\n",
    "df.head()"
   ]
  },
  {
   "cell_type": "markdown",
   "metadata": {},
   "source": [
    "Then, save it as a csv file on our hard drive:"
   ]
  },
  {
   "cell_type": "code",
   "execution_count": 161,
   "metadata": {},
   "outputs": [],
   "source": [
    "df.to_csv('covid_data.csv')"
   ]
  },
  {
   "cell_type": "markdown",
   "metadata": {},
   "source": [
    "#### Downloading and working with json files"
   ]
  },
  {
   "cell_type": "markdown",
   "metadata": {},
   "source": [
    "Another data file that you will encounter many times on the internet is the JSON file. It stands for JavaScript Object Notation, since it is how data is stored in the JavaScript language. Json files are in their essence (just like csv files) just plaintext files, but ordered in a specific way. JavaScript's and Python's data structures are pretty similar, and that's why when you see a json file, it looks like a dictionary – or a list of dictionaries. \n",
    "\n",
    "Here's an example of a json file to show you how much they look like Python's data structures. Here's Sweden's population 2016-2019 in a json string:"
   ]
  },
  {
   "cell_type": "code",
   "execution_count": 1,
   "metadata": {},
   "outputs": [],
   "source": [
    "population = \"\"\"\n",
    "[{\"country\": \"Sweden\",\"year\": 2016,\"value\": 9995153.0},\n",
    "{\"country\": \"Sweden\",\"year\": 2017,\"value\": 10120242.0},\n",
    "{\"country\": \"Sweden\",\"year\": 2018,\"value\": 10230185.0},\n",
    "{\"country\": \"Sweden\",\"year\": 2019,\"value\": 10327589.0}]\n",
    "\"\"\""
   ]
  },
  {
   "cell_type": "code",
   "execution_count": 2,
   "metadata": {},
   "outputs": [
    {
     "name": "stdout",
     "output_type": "stream",
     "text": [
      "\n",
      "[{\"country\": \"Sweden\",\"year\": 2016,\"value\": 9995153.0},\n",
      "{\"country\": \"Sweden\",\"year\": 2017,\"value\": 10120242.0},\n",
      "{\"country\": \"Sweden\",\"year\": 2018,\"value\": 10230185.0},\n",
      "{\"country\": \"Sweden\",\"year\": 2019,\"value\": 10327589.0}]\n",
      "\n"
     ]
    }
   ],
   "source": [
    "print(population)"
   ]
  },
  {
   "cell_type": "markdown",
   "metadata": {},
   "source": [
    "Json files data structures are identical to Python's, only that they are string values. So we need to convert them from json data into Python data structures. This is easiest with the `json` module – a module within the standard library."
   ]
  },
  {
   "cell_type": "code",
   "execution_count": 3,
   "metadata": {},
   "outputs": [],
   "source": [
    "import json"
   ]
  },
  {
   "cell_type": "markdown",
   "metadata": {},
   "source": [
    "The method `.loads()` lets us convert a json string into a Python data object. Just pass the string to the method as an argument:"
   ]
  },
  {
   "cell_type": "code",
   "execution_count": 4,
   "metadata": {},
   "outputs": [
    {
     "data": {
      "text/plain": [
       "[{'country': 'Sweden', 'year': 2016, 'value': 9995153.0},\n",
       " {'country': 'Sweden', 'year': 2017, 'value': 10120242.0},\n",
       " {'country': 'Sweden', 'year': 2018, 'value': 10230185.0},\n",
       " {'country': 'Sweden', 'year': 2019, 'value': 10327589.0}]"
      ]
     },
     "execution_count": 4,
     "metadata": {},
     "output_type": "execute_result"
    }
   ],
   "source": [
    "json.loads(population)"
   ]
  },
  {
   "cell_type": "markdown",
   "metadata": {},
   "source": [
    "Let's get a json file from the internet! [Here is a json file](https://opendata.ecdc.europa.eu/covid19/casedistribution/json/) with covid data, [provided by the ECDC](https://www.ecdc.europa.eu/en/publications-data/download-todays-data-geographic-distribution-covid-19-cases-worldwide) (European Centre for Desease Prevention and Control):"
   ]
  },
  {
   "cell_type": "code",
   "execution_count": 5,
   "metadata": {},
   "outputs": [],
   "source": [
    "url = \"https://opendata.ecdc.europa.eu/covid19/casedistribution/json/\""
   ]
  },
  {
   "cell_type": "code",
   "execution_count": 7,
   "metadata": {},
   "outputs": [],
   "source": [
    "import requests"
   ]
  },
  {
   "cell_type": "code",
   "execution_count": 8,
   "metadata": {},
   "outputs": [],
   "source": [
    "res = requests.get(url)\n",
    "res.raise_for_status()"
   ]
  },
  {
   "cell_type": "markdown",
   "metadata": {},
   "source": [
    "The response object's content is a gigantic binary string."
   ]
  },
  {
   "cell_type": "code",
   "execution_count": 9,
   "metadata": {},
   "outputs": [
    {
     "data": {
      "text/plain": [
       "b'{\\r\\n   \"records\" : [\\r\\n      {\\r\\n         \"dateRep\" : \"14/12/2020\",\\r\\n         \"day\" : \"14\",\\r\\n         \"month\" : \"12\",\\r\\n         \"year\" : \"2020\",\\r\\n         \"cases\" : 746,\\r\\n         \"deaths\" : 6,\\r\\n         \"countriesAndTerritories\" : \"Afghanistan\",\\r\\n         \"geoId\" : \"AF\",\\r\\n         \"countryterritoryCode\" : \"AFG\",\\r\\n         \"popData2019\" : 38041757,\\r\\n         \"continentExp\" : \"Asia\",\\r\\n         \"Cumulative_number_for_14_days_of_COVID-19_cases_per_100000\" : \"9.01377925\"\\r\\n      },\\r\\n      {\\r\\n         \"d'"
      ]
     },
     "execution_count": 9,
     "metadata": {},
     "output_type": "execute_result"
    }
   ],
   "source": [
    "res.content[:500]"
   ]
  },
  {
   "cell_type": "markdown",
   "metadata": {},
   "source": [
    "We can convert the data to a Python data structure using the `json.loads()` method. But first, we need to convert the content to a regular Python string value:"
   ]
  },
  {
   "cell_type": "code",
   "execution_count": 15,
   "metadata": {},
   "outputs": [],
   "source": [
    "data = res.content.decode(\"utf-8\")"
   ]
  },
  {
   "cell_type": "markdown",
   "metadata": {},
   "source": [
    "To explane above line of code a bit further: the content in the `res.content` object is in binary text data, and is converted to a string value using the `.decode()` method. The argument string value `\"utf-8\"`, is our decoding method to use. This converts the binary data into a giant string value:"
   ]
  },
  {
   "cell_type": "code",
   "execution_count": 16,
   "metadata": {},
   "outputs": [
    {
     "data": {
      "text/plain": [
       "28265119"
      ]
     },
     "execution_count": 16,
     "metadata": {},
     "output_type": "execute_result"
    }
   ],
   "source": [
    "len(data)"
   ]
  },
  {
   "cell_type": "markdown",
   "metadata": {},
   "source": [
    "Now, let's convert it into a python data structure, using the `.loads()` method:"
   ]
  },
  {
   "cell_type": "code",
   "execution_count": 11,
   "metadata": {},
   "outputs": [],
   "source": [
    "data = json.loads(data)"
   ]
  },
  {
   "cell_type": "markdown",
   "metadata": {},
   "source": [
    "The json was successfully converted into a Python dictionary:"
   ]
  },
  {
   "cell_type": "code",
   "execution_count": 12,
   "metadata": {},
   "outputs": [
    {
     "data": {
      "text/plain": [
       "dict"
      ]
     },
     "execution_count": 12,
     "metadata": {},
     "output_type": "execute_result"
    }
   ],
   "source": [
    "type(data)"
   ]
  },
  {
   "cell_type": "markdown",
   "metadata": {},
   "source": [
    "All data is stored as the value of the key \"records\":"
   ]
  },
  {
   "cell_type": "code",
   "execution_count": 13,
   "metadata": {},
   "outputs": [
    {
     "data": {
      "text/plain": [
       "dict_keys(['records'])"
      ]
     },
     "execution_count": 13,
     "metadata": {},
     "output_type": "execute_result"
    }
   ],
   "source": [
    "data.keys()"
   ]
  },
  {
   "cell_type": "code",
   "execution_count": 14,
   "metadata": {},
   "outputs": [
    {
     "data": {
      "text/plain": [
       "[{'dateRep': '14/12/2020',\n",
       "  'day': '14',\n",
       "  'month': '12',\n",
       "  'year': '2020',\n",
       "  'cases': 746,\n",
       "  'deaths': 6,\n",
       "  'countriesAndTerritories': 'Afghanistan',\n",
       "  'geoId': 'AF',\n",
       "  'countryterritoryCode': 'AFG',\n",
       "  'popData2019': 38041757,\n",
       "  'continentExp': 'Asia',\n",
       "  'Cumulative_number_for_14_days_of_COVID-19_cases_per_100000': '9.01377925'},\n",
       " {'dateRep': '13/12/2020',\n",
       "  'day': '13',\n",
       "  'month': '12',\n",
       "  'year': '2020',\n",
       "  'cases': 298,\n",
       "  'deaths': 9,\n",
       "  'countriesAndTerritories': 'Afghanistan',\n",
       "  'geoId': 'AF',\n",
       "  'countryterritoryCode': 'AFG',\n",
       "  'popData2019': 38041757,\n",
       "  'continentExp': 'Asia',\n",
       "  'Cumulative_number_for_14_days_of_COVID-19_cases_per_100000': '7.05277624'}]"
      ]
     },
     "execution_count": 14,
     "metadata": {},
     "output_type": "execute_result"
    }
   ],
   "source": [
    "data[\"records\"][:2]"
   ]
  },
  {
   "cell_type": "markdown",
   "metadata": {},
   "source": [
    "### Scraping html elements using `BeautifulSoup`"
   ]
  },
  {
   "cell_type": "markdown",
   "metadata": {},
   "source": [
    "Ok, so now you've practised downloading files using the `requests` library. As mentioned in previous section, requests is a brilliant way to quickly get access to a web page's content. However, it is not very practical if the content isn't a ordered data file. \n",
    "\n",
    "To show you what I mean, let's have a look at [a web page](https://www.socialstyrelsen.se/om-socialstyrelsen/pressrum/) with the Socialstyrelsen's (Sweden's National Board of Health and Welfare) press contacts. It is the agency responsible for questions of health and medical prodcedures. Here's the web page:"
   ]
  },
  {
   "cell_type": "code",
   "execution_count": 1,
   "metadata": {},
   "outputs": [],
   "source": [
    "url = \"https://www.socialstyrelsen.se/om-socialstyrelsen/pressrum/presskontakter/\""
   ]
  },
  {
   "cell_type": "markdown",
   "metadata": {},
   "source": [
    "Let's import the requests library and get a response object of the web page:"
   ]
  },
  {
   "cell_type": "code",
   "execution_count": 2,
   "metadata": {},
   "outputs": [],
   "source": [
    "import requests"
   ]
  },
  {
   "cell_type": "code",
   "execution_count": 3,
   "metadata": {},
   "outputs": [],
   "source": [
    "res = requests.get(url)"
   ]
  },
  {
   "cell_type": "markdown",
   "metadata": {},
   "source": [
    "Now, have a look at the web page's content:"
   ]
  },
  {
   "cell_type": "code",
   "execution_count": 4,
   "metadata": {},
   "outputs": [
    {
     "data": {
      "text/plain": [
       "b'\\r\\n\\r\\n\\r\\n<!DOCTYPE html>\\r\\n<html lang=\"sv\">\\r\\n<head>\\r\\n    <meta charset=\"utf-8\" />\\r\\n    <meta http-equiv=\"X-UA-Compatible\" content=\"IE=edge\" />\\r\\n    <meta name=\"viewport\" content=\"width=device-width, initial-scale=1.0\" />\\r\\n\\r\\n    <meta property=\"og:type\" content=\"website\" />\\r\\n    <meta property=\"og:site_name\" content=\"Socialstyrelsen\" />\\r\\n    <meta property=\"og:url\" content=\"https://www.socialstyrelsen.se/om-socialstyrelsen/pressrum/presskontakter/\" />\\r\\n    <meta name=\"twitter:card\" content=\"summary\">'"
      ]
     },
     "execution_count": 4,
     "metadata": {},
     "output_type": "execute_result"
    }
   ],
   "source": [
    "res.content[:500]"
   ]
  },
  {
   "cell_type": "markdown",
   "metadata": {},
   "source": [
    "It is a messy soup of html code mashed into a binary string. This is not particularly ordered data to scrape web content from.\n",
    "\n",
    "Let's say we want all press contacts' phone numbers scraped from this web page. We _could_ just use the requests response object. Converting it to a regular string, import the `re` module, create a regular expression, and apply this regex on the entire web page's content. Like this:"
   ]
  },
  {
   "cell_type": "code",
   "execution_count": 5,
   "metadata": {},
   "outputs": [],
   "source": [
    "web_page = res.content.decode('utf-8')"
   ]
  },
  {
   "cell_type": "code",
   "execution_count": 6,
   "metadata": {},
   "outputs": [],
   "source": [
    "import re"
   ]
  },
  {
   "cell_type": "code",
   "execution_count": 7,
   "metadata": {},
   "outputs": [],
   "source": [
    "num_pattern = \"(075-[\\d|\\s]+)\" # do you understand the regex? "
   ]
  },
  {
   "cell_type": "code",
   "execution_count": 8,
   "metadata": {},
   "outputs": [
    {
     "data": {
      "text/plain": [
       "['075-247 30 05',\n",
       " '075-247 36 05',\n",
       " '075-247 45 47',\n",
       " '075-247 41 90',\n",
       " '075-247 31 81',\n",
       " '075-247 30 00',\n",
       " '075-247 30 00']"
      ]
     },
     "execution_count": 8,
     "metadata": {},
     "output_type": "execute_result"
    }
   ],
   "source": [
    "re.findall(num_pattern,web_page)"
   ]
  },
  {
   "cell_type": "markdown",
   "metadata": {},
   "source": [
    "That doesn't mean we _should_ scrape data this way. One, perhaps obvious, reason is that this fetches _all_ patterns that match our regex on the web page. If you look at bottom of the web page, you'll see that Socialstyrelsen has its phone number to the reception in the webpage footer. Our regex matched on that as well, which means that we got a phone number scraped that is not a press contact. \n",
    "\n",
    "My point is that this isn't a precise way to scrape information from a web page. If only there was a way to get all that messy soup of html code into a python object that we could work with..."
   ]
  },
  {
   "cell_type": "markdown",
   "metadata": {},
   "source": [
    "Fortunately, there is! It's called beautifulsoup! Or, rather, it's a library called `bs4` – \"bs\" standing for \"Beautiful soup\", \"4\" for version 4. The library (module) is not part of the standard library, but it _is_ included in the Anaconda package. So, if you've installed Anaconda as recommended (or if you're running it in the Anaconda Cloud), you should just be able to import in this notebook:"
   ]
  },
  {
   "cell_type": "code",
   "execution_count": 10,
   "metadata": {},
   "outputs": [],
   "source": [
    "from bs4 import BeautifulSoup # imports the class BeautifulSoup from the library/module bs4"
   ]
  },
  {
   "cell_type": "markdown",
   "metadata": {},
   "source": [
    "_(If you're not using the Ananconda package, download and install the `bs4` module such that you can use it in this notebook)_\n",
    "\n",
    "The response object that was returned using requests has the entire web page's html code. The `BeautifulSoup` class within the `bs4` module can help us parse the html-string into a special Python \"soup\" object:"
   ]
  },
  {
   "cell_type": "code",
   "execution_count": 11,
   "metadata": {},
   "outputs": [],
   "source": [
    "soup = BeautifulSoup(res.content)"
   ]
  },
  {
   "cell_type": "markdown",
   "metadata": {},
   "source": [
    "This `soup` variable now has methods that can help us sort through all the messy html code of websites! We can, as an example, search for elements with a specific class.\n",
    "\n",
    "But to be able to do so, we must know what to look for. This is when we **inspect using the developer tools** we learned about in section 4.1.2. In our example, we want to find the press contact information. There are various numbers to various contacts on the webpage, but let's focus on the one at the top (this is the main number that redirects journalists to any press contact currently at work). If you right click on this information and click \"inspect element\" you will find the webpage content in the developer interface in your browser:"
   ]
  },
  {
   "cell_type": "markdown",
   "metadata": {},
   "source": [
    "<img src=\"../course_material/scraping/html_1.png\" style=\"width: 600px;\"/>"
   ]
  },
  {
   "cell_type": "markdown",
   "metadata": {},
   "source": [
    "When you right clicked, you may have clicked on one of the children of the one I have selected in the pic above. But as you can see, the box with contact info is a `<p>` element, p for paragraph. Using our `soup`object, we can search for all paragraph elements on the webpage, using the `.find_all()` method on the soup object:"
   ]
  },
  {
   "cell_type": "code",
   "execution_count": 15,
   "metadata": {
    "scrolled": true
   },
   "outputs": [],
   "source": [
    "all_p = soup.find_all(\"p\")"
   ]
  },
  {
   "cell_type": "markdown",
   "metadata": {},
   "source": [
    "This method returns a list of all the requested element type. Exploring this list, we can immediately get a better overview of the information scraped::"
   ]
  },
  {
   "cell_type": "code",
   "execution_count": 52,
   "metadata": {},
   "outputs": [
    {
     "data": {
      "text/plain": [
       "[<p><strong>Tel:</strong> 075-247 30 05<br/><strong>E-post:</strong> <a href=\"mailto:media@socialstyrelsen.se\" title=\"media@socialstyrelsen.se\">media@socialstyrelsen.se</a></p>,\n",
       " <p>Presstjänsten är bemannad vardagar 8.30-16.30</p>,\n",
       " <p class=\"SoSBrdtextindragfrstaraden\"> </p>,\n",
       " <p>Pressekreterare<br/>Tel: 075-247 36 05<br/>E-post: <a href=\"mailto:jan.ekman@socialstyrelsen.se\" title=\"jan.ekman@socialstyrelsen.se\">jan.ekman@socialstyrelsen.se</a></p>,\n",
       " <p>Pressekreterare<br/>Tel: 075-247 45 47<br/>E-post: <a href=\"mailto:maria.stomrud@socialstyrelsen.se\" title=\"maria.stomrud@socialstyrelsen.se\">maria.stomrud@socialstyrelsen.se</a></p>,\n",
       " <p>Pressekreterare<br/>Tel: 075-247 41 90<br/>E-post: <a href=\"mailto:fredrik.soderberg-bruce@socialstyrelsen.se\" title=\"fredrik.soderberg-bruce@socialstyrelsen.se\">fredrik.soderberg-bruce@socialstyrelsen.se</a></p>,\n",
       " <p>Enhetschef<br/>Tel: 075-247 31 81<br/>E-post: <a href=\"mailto:per.ek@socialstyrelsen.se\" title=\"per.ek@socialstyrelsen.se\">per.ek@socialstyrelsen.se</a></p>,\n",
       " <p> </p>,\n",
       " <p><strong>Kontakta oss</strong><br><a href=\"mailto:socialstyrelsen@socialstyrelsen.se\" rel=\"noopener\" target=\"_blank\" title=\"socialstyrelsen@socialstyrelsen.se\">socialstyrelsen@socialstyrelsen.se</a><br><a href=\"tel:075-247 30 00\">075-247 30 00</a><br><a href=\"/om-socialstyrelsen/kontakta-oss/\" title=\"Fler kontaktvägar\">Fler kontaktvägar</a><br><a href=\"/om-socialstyrelsen/behandling-av-personuppgifter/\" title=\"Personuppgiftsbehandling \">Personuppgiftsbehandling </a></br></br></br></br></p>]"
      ]
     },
     "execution_count": 52,
     "metadata": {},
     "output_type": "execute_result"
    }
   ],
   "source": [
    "all_p"
   ]
  },
  {
   "cell_type": "markdown",
   "metadata": {},
   "source": [
    "But what if we wanted _only_ the phone numbers of press contacts? Well, the press contacts are all gathered within a container on the webpage, and this container has a html class attached, named `container rtl`:"
   ]
  },
  {
   "cell_type": "markdown",
   "metadata": {},
   "source": [
    "<img src=\"../course_material/scraping/html_1_1.png\" style=\"width: 600px;\"/>"
   ]
  },
  {
   "cell_type": "markdown",
   "metadata": {},
   "source": [
    "We can then filter the webpage data on the container with the class `container rtl`. As you can see, this is a `<div>` element. \n",
    "\n",
    "When working with HTML code, we say that the paragraphs we are interested in are _children_ to this div container in the HTML-tree. At the same time, the div container with the class `container rtl` is the parent of the paragraphs. So, if we're interested in paragraphs within a specific container, we can simply focus on that container in our code.\n",
    "\n",
    "Let's find all div elements that have the class `container rtl`. We can do this by using the `class_` parameter and passing the class name as the argument:"
   ]
  },
  {
   "cell_type": "code",
   "execution_count": 64,
   "metadata": {},
   "outputs": [],
   "source": [
    "div_class = soup.find_all(\"div\", class_=\"container rtl\")"
   ]
  },
  {
   "cell_type": "markdown",
   "metadata": {},
   "source": [
    "The `.find_all()` method always returns a list like object. So if there are more than one div element with the class named `container rtl`, this list will include more than one item:"
   ]
  },
  {
   "cell_type": "code",
   "execution_count": 66,
   "metadata": {},
   "outputs": [
    {
     "data": {
      "text/plain": [
       "1"
      ]
     },
     "execution_count": 66,
     "metadata": {},
     "output_type": "execute_result"
    }
   ],
   "source": [
    "len(div_class)"
   ]
  },
  {
   "cell_type": "markdown",
   "metadata": {},
   "source": [
    "There is only one div with that class. Let's unpack it:"
   ]
  },
  {
   "cell_type": "code",
   "execution_count": 67,
   "metadata": {},
   "outputs": [],
   "source": [
    "div_class = div_class[0] # gives us the first item"
   ]
  },
  {
   "cell_type": "markdown",
   "metadata": {},
   "source": [
    "Now, we can find all paragraphs within this div container:"
   ]
  },
  {
   "cell_type": "code",
   "execution_count": 69,
   "metadata": {},
   "outputs": [],
   "source": [
    "paragraphs = div_class.find_all('p')"
   ]
  },
  {
   "cell_type": "code",
   "execution_count": 70,
   "metadata": {},
   "outputs": [
    {
     "data": {
      "text/plain": [
       "[<p><strong>Tel:</strong> 075-247 30 05<br/><strong>E-post:</strong> <a href=\"mailto:media@socialstyrelsen.se\" title=\"media@socialstyrelsen.se\">media@socialstyrelsen.se</a></p>,\n",
       " <p>Presstjänsten är bemannad vardagar 8.30-16.30</p>,\n",
       " <p class=\"SoSBrdtextindragfrstaraden\"> </p>,\n",
       " <p>Pressekreterare<br/>Tel: 075-247 36 05<br/>E-post: <a href=\"mailto:jan.ekman@socialstyrelsen.se\" title=\"jan.ekman@socialstyrelsen.se\">jan.ekman@socialstyrelsen.se</a></p>,\n",
       " <p>Pressekreterare<br/>Tel: 075-247 45 47<br/>E-post: <a href=\"mailto:maria.stomrud@socialstyrelsen.se\" title=\"maria.stomrud@socialstyrelsen.se\">maria.stomrud@socialstyrelsen.se</a></p>,\n",
       " <p>Pressekreterare<br/>Tel: 075-247 41 90<br/>E-post: <a href=\"mailto:fredrik.soderberg-bruce@socialstyrelsen.se\" title=\"fredrik.soderberg-bruce@socialstyrelsen.se\">fredrik.soderberg-bruce@socialstyrelsen.se</a></p>,\n",
       " <p>Enhetschef<br/>Tel: 075-247 31 81<br/>E-post: <a href=\"mailto:per.ek@socialstyrelsen.se\" title=\"per.ek@socialstyrelsen.se\">per.ek@socialstyrelsen.se</a></p>,\n",
       " <p> </p>]"
      ]
     },
     "execution_count": 70,
     "metadata": {},
     "output_type": "execute_result"
    }
   ],
   "source": [
    "paragraphs"
   ]
  },
  {
   "cell_type": "markdown",
   "metadata": {},
   "source": [
    "We can get the text of our element by calling the `.text` attribute:"
   ]
  },
  {
   "cell_type": "code",
   "execution_count": 80,
   "metadata": {},
   "outputs": [
    {
     "name": "stdout",
     "output_type": "stream",
     "text": [
      "Tel: 075-247 30 05E-post: media@socialstyrelsen.se\n",
      "Presstjänsten är bemannad vardagar 8.30-16.30\n",
      " \n",
      "PressekreterareTel: 075-247 36 05E-post: jan.ekman@socialstyrelsen.se\n",
      "PressekreterareTel: 075-247 45 47E-post: maria.stomrud@socialstyrelsen.se\n",
      "PressekreterareTel: 075-247 41 90E-post: fredrik.soderberg-bruce@socialstyrelsen.se\n",
      "EnhetschefTel: 075-247 31 81E-post: per.ek@socialstyrelsen.se\n",
      " \n"
     ]
    }
   ],
   "source": [
    "for p in paragraphs:\n",
    "    print(p.text)"
   ]
  },
  {
   "cell_type": "markdown",
   "metadata": {},
   "source": [
    "And there we have it! We scraped the phone number we wanted! Now, let's try something even more complicated!"
   ]
  },
  {
   "cell_type": "markdown",
   "metadata": {},
   "source": [
    "### Creating scraping loops"
   ]
  },
  {
   "cell_type": "code",
   "execution_count": 73,
   "metadata": {},
   "outputs": [],
   "source": [
    "import requests\n",
    "from bs4 import BeautifulSoup"
   ]
  },
  {
   "cell_type": "markdown",
   "metadata": {},
   "source": [
    "Ok, in this section, let's imagine we want to copy all the surnames of the MPs in the Swedish parliament, the riksdag.\n",
    "\n",
    "We can't be bothered to copy and paste all 349 names from [the webpage](https://www.riksdagen.se/sv/ledamoter-och-partier/ledamoterna/). Let's instead scrape it using beautifulsoup. First we need the url:"
   ]
  },
  {
   "cell_type": "code",
   "execution_count": 81,
   "metadata": {},
   "outputs": [],
   "source": [
    "url = \"https://www.riksdagen.se/sv/ledamoter-och-partier/ledamoterna/\""
   ]
  },
  {
   "cell_type": "markdown",
   "metadata": {},
   "source": [
    "Right clicking on one of the MPs on the site, and inspecting it in the developer tools interface, we see that all MPs are `<div>` elements with a complex class name attached to them:"
   ]
  },
  {
   "cell_type": "markdown",
   "metadata": {},
   "source": [
    "<img src=\"../course_material/scraping/html_2.png\" style=\"width: 600px;\"/>"
   ]
  },
  {
   "cell_type": "markdown",
   "metadata": {},
   "source": [
    "#### Find all element tags – `.find_all()`"
   ]
  },
  {
   "cell_type": "markdown",
   "metadata": {},
   "source": [
    "As we saw in the previous section, soup objects has a method called `.find_all()`. It searches the html tree for all element tags we provide. And we can also pass a class name to only return elements with that specific html-class. Let's use it to get all `<div>` elements:"
   ]
  },
  {
   "cell_type": "code",
   "execution_count": null,
   "metadata": {},
   "outputs": [],
   "source": [
    "res = requests.get(url)\n",
    "res.raise_for_status()\n",
    "\n",
    "soup = BeautifulSoup(res.content)"
   ]
  },
  {
   "cell_type": "code",
   "execution_count": 88,
   "metadata": {},
   "outputs": [],
   "source": [
    "elements = soup.find_all(\"div\", class_=\"sc-552b6144-1 kPujE\") # the class attached to the MP div parent element"
   ]
  },
  {
   "cell_type": "markdown",
   "metadata": {},
   "source": [
    "We can now loop over all elements and access each div's text with the `.text` attribute:"
   ]
  },
  {
   "cell_type": "code",
   "execution_count": 89,
   "metadata": {},
   "outputs": [
    {
     "name": "stdout",
     "output_type": "stream",
     "text": [
      "Ahlstedt,  Fredrik (M)\n",
      "Ahlström Köster,  Emma (M)\n",
      "Akhondi,  Alireza (C)\n",
      "Alftberg,  Anders (SD)\n",
      "Ali Elmi,  Leila (MP)\n",
      "Alm Ericson,  Janine (MP)\n",
      "Alm,  Ann-Sofie (M)\n",
      "Amloh,  Sofia (S)\n",
      "Andersson Garpvall,  Pontus (SD)\n",
      "Andersson Tay,  Andrea (V)\n",
      "Andersson,  Johan (S)\n",
      "Andersson,  Jonas (SD)\n",
      "Andersson,  Lars (SD)\n",
      "Andersson,  Magdalena (S)\n",
      "Andersson,  Tobias (SD)\n",
      "André,  Lili (KD)\n",
      "Anstrell,  Alexandra (M)\n",
      "Aranda,  Clara (SD)\n",
      "Arkhem,  Mats (SD)\n",
      "Aspling,  Ludvig (SD)\n",
      "Avci,  Gulan (L)\n",
      "Awad,  Nadja (V)\n",
      "Axén Olin,  Kristina (M)\n",
      "Aydin,  Yusuf (KD)\n"
     ]
    }
   ],
   "source": [
    "for div in elements:\n",
    "    print(div.text)"
   ]
  },
  {
   "cell_type": "markdown",
   "metadata": {},
   "source": [
    "As you can see, this is not all 349 MPs."
   ]
  },
  {
   "cell_type": "code",
   "execution_count": 90,
   "metadata": {},
   "outputs": [
    {
     "data": {
      "text/plain": [
       "24"
      ]
     },
     "execution_count": 90,
     "metadata": {},
     "output_type": "execute_result"
    }
   ],
   "source": [
    "len(elements)"
   ]
  },
  {
   "cell_type": "markdown",
   "metadata": {},
   "source": [
    "That is because the site is divided into sections. And the class `sc-552b6144-1 kPujE` on the webpage is only all MPs with a surname starting with the letter \"A\". The class `sc-552b6144-1 kPujE` is actually two classes. A class for a container that wraps all divs within the letter A (`sc-552b6144-1`), and one class that specifies each MPs personal div (`kPujE`). This means that we could simply just use the `kPujE` class:"
   ]
  },
  {
   "cell_type": "code",
   "execution_count": 107,
   "metadata": {},
   "outputs": [],
   "source": [
    "elements = soup.find_all(\"div\", class_=\"kPujE\")"
   ]
  },
  {
   "cell_type": "code",
   "execution_count": 108,
   "metadata": {},
   "outputs": [
    {
     "name": "stdout",
     "output_type": "stream",
     "text": [
      "Ahlstedt,  Fredrik (M)\n",
      "Ahlström Köster,  Emma (M)\n",
      "Akhondi,  Alireza (C)\n",
      "Alftberg,  Anders (SD)\n",
      "Ali Elmi,  Leila (MP)\n",
      "Alm Ericson,  Janine (MP)\n",
      "Alm,  Ann-Sofie (M)\n",
      "Amloh,  Sofia (S)\n",
      "Andersson Garpvall,  Pontus (SD)\n",
      "Andersson Tay,  Andrea (V)\n",
      "Andersson,  Johan (S)\n",
      "Andersson,  Jonas (SD)\n",
      "Andersson,  Lars (SD)\n",
      "Andersson,  Magdalena (S)\n",
      "Andersson,  Tobias (SD)\n",
      "André,  Lili (KD)\n",
      "Anstrell,  Alexandra (M)\n",
      "Aranda,  Clara (SD)\n",
      "Arkhem,  Mats (SD)\n",
      "Aspling,  Ludvig (SD)\n",
      "Avci,  Gulan (L)\n",
      "Awad,  Nadja (V)\n",
      "Axén Olin,  Kristina (M)\n",
      "Aydin,  Yusuf (KD)\n"
     ]
    }
   ],
   "source": [
    "for div in elements:\n",
    "    print(div.text)"
   ]
  },
  {
   "cell_type": "markdown",
   "metadata": {},
   "source": [
    "_(Please note, this webpage is an example of a responsive page. The page is built to only display the MPs in view by the user, all other MPs are displayed based on the users' interaction on the site. This means that you won't be able to scrape all 349 MPs data using this method. Disapointing, I know.. But it's still useable to show you how to interact and understand how to access and scrape data in the HTML-tree on websites.)_\n",
    "\n",
    "Let's say we want each MPs personal webpage instead. Links has its own html element tag `<a>`. If we loop over all divs, but instead of just returning the text of the div, we can look for the a element in each div and then look for the `a` element within each div:"
   ]
  },
  {
   "cell_type": "code",
   "execution_count": 119,
   "metadata": {},
   "outputs": [
    {
     "name": "stdout",
     "output_type": "stream",
     "text": [
      "<a class=\"sc-907102a3-0 sc-e6d2fd61-0 frSGWi gltkIh\" href=\"https://www.riksdagen.se/sv/ledamoter-och-partier/ledamot/fredrik-ahlstedt_8403346f-0f0c-4d48-bbd0-f6b43b368873/\"><span class=\"sc-e6d2fd61-1 JuiqI\">Ahlstedt<!-- -->, <br aria-hidden=\"true\"/> Fredrik (M)</span></a>\n",
      "<a class=\"sc-907102a3-0 sc-e6d2fd61-0 frSGWi gltkIh\" href=\"https://www.riksdagen.se/sv/ledamoter-och-partier/ledamot/emma-ahlstrom-koster_e09d9076-28c7-4583-a17f-7a776de7f01f/\"><span class=\"sc-e6d2fd61-1 JuiqI\">Ahlström Köster<!-- -->, <br aria-hidden=\"true\"/> Emma (M)</span></a>\n",
      "<a class=\"sc-907102a3-0 sc-e6d2fd61-0 frSGWi gltkIh\" href=\"https://www.riksdagen.se/sv/ledamoter-och-partier/ledamot/alireza-akhondi_4099ff9c-5d27-4605-b018-98fb229d94fa/\"><span class=\"sc-e6d2fd61-1 JuiqI\">Akhondi<!-- -->, <br aria-hidden=\"true\"/> Alireza (C)</span></a>\n",
      "<a class=\"sc-907102a3-0 sc-e6d2fd61-0 frSGWi gltkIh\" href=\"https://www.riksdagen.se/sv/ledamoter-och-partier/ledamot/anders-alftberg_f0d945f3-9449-458e-ba40-1a0da1a72303/\"><span class=\"sc-e6d2fd61-1 JuiqI\">Alftberg<!-- -->, <br aria-hidden=\"true\"/> Anders (SD)</span></a>\n",
      "<a class=\"sc-907102a3-0 sc-e6d2fd61-0 frSGWi gltkIh\" href=\"https://www.riksdagen.se/sv/ledamoter-och-partier/ledamot/leila-ali-elmi_5997ba96-4f01-46f4-8bd8-e1411a9d503b/\"><span class=\"sc-e6d2fd61-1 JuiqI\">Ali Elmi<!-- -->, <br aria-hidden=\"true\"/> Leila (MP)</span></a>\n",
      "<a class=\"sc-907102a3-0 sc-e6d2fd61-0 frSGWi gltkIh\" href=\"https://www.riksdagen.se/sv/ledamoter-och-partier/ledamot/janine-alm-ericson_7e408079-a5cd-432a-a30e-fd61fd15c65a/\"><span class=\"sc-e6d2fd61-1 JuiqI\">Alm Ericson<!-- -->, <br aria-hidden=\"true\"/> Janine (MP)</span></a>\n",
      "<a class=\"sc-907102a3-0 sc-e6d2fd61-0 frSGWi gltkIh\" href=\"https://www.riksdagen.se/sv/ledamoter-och-partier/ledamot/ann-sofie-alm_f91f6a86-591c-449c-b3dd-1fdaa86338cd/\"><span class=\"sc-e6d2fd61-1 JuiqI\">Alm<!-- -->, <br aria-hidden=\"true\"/> Ann-Sofie (M)</span></a>\n",
      "<a class=\"sc-907102a3-0 sc-e6d2fd61-0 frSGWi gltkIh\" href=\"https://www.riksdagen.se/sv/ledamoter-och-partier/ledamot/sofia-amloh_359e75f3-519e-49d7-b155-ada488e621ea/\"><span class=\"sc-e6d2fd61-1 JuiqI\">Amloh<!-- -->, <br aria-hidden=\"true\"/> Sofia (S)</span></a>\n",
      "<a class=\"sc-907102a3-0 sc-e6d2fd61-0 frSGWi gltkIh\" href=\"https://www.riksdagen.se/sv/ledamoter-och-partier/ledamot/pontus-andersson-garpvall_cec98313-41c4-4274-993a-939aa4859766/\"><span class=\"sc-e6d2fd61-1 JuiqI\">Andersson Garpvall<!-- -->, <br aria-hidden=\"true\"/> Pontus (SD)</span></a>\n",
      "<a class=\"sc-907102a3-0 sc-e6d2fd61-0 frSGWi gltkIh\" href=\"https://www.riksdagen.se/sv/ledamoter-och-partier/ledamot/andrea-andersson-tay_352b875d-e44d-43f5-bf93-e507770c12de/\"><span class=\"sc-e6d2fd61-1 JuiqI\">Andersson Tay<!-- -->, <br aria-hidden=\"true\"/> Andrea (V)</span></a>\n",
      "<a class=\"sc-907102a3-0 sc-e6d2fd61-0 frSGWi gltkIh\" href=\"https://www.riksdagen.se/sv/ledamoter-och-partier/ledamot/johan-andersson_fff74c6c-fae3-4977-a472-cfe2b6ae257a/\"><span class=\"sc-e6d2fd61-1 JuiqI\">Andersson<!-- -->, <br aria-hidden=\"true\"/> Johan (S)</span></a>\n",
      "<a class=\"sc-907102a3-0 sc-e6d2fd61-0 frSGWi gltkIh\" href=\"https://www.riksdagen.se/sv/ledamoter-och-partier/ledamot/jonas-andersson_9944df03-e946-4046-aeef-c49117503a0c/\"><span class=\"sc-e6d2fd61-1 JuiqI\">Andersson<!-- -->, <br aria-hidden=\"true\"/> Jonas (SD)</span></a>\n",
      "<a class=\"sc-907102a3-0 sc-e6d2fd61-0 frSGWi gltkIh\" href=\"https://www.riksdagen.se/sv/ledamoter-och-partier/ledamot/lars-andersson_46472134-8e4e-4c65-856e-d401cad915dd/\"><span class=\"sc-e6d2fd61-1 JuiqI\">Andersson<!-- -->, <br aria-hidden=\"true\"/> Lars (SD)</span></a>\n",
      "<a class=\"sc-907102a3-0 sc-e6d2fd61-0 frSGWi gltkIh\" href=\"https://www.riksdagen.se/sv/ledamoter-och-partier/ledamot/magdalena-andersson_dcc2ab7d-3fc1-4a28-b3c7-be1679c047b3/\"><span class=\"sc-e6d2fd61-1 JuiqI\">Andersson<!-- -->, <br aria-hidden=\"true\"/> Magdalena (S)</span></a>\n",
      "<a class=\"sc-907102a3-0 sc-e6d2fd61-0 frSGWi gltkIh\" href=\"https://www.riksdagen.se/sv/ledamoter-och-partier/ledamot/tobias-andersson_5763c159-5105-47b3-82fb-9cc7dc20dc7d/\"><span class=\"sc-e6d2fd61-1 JuiqI\">Andersson<!-- -->, <br aria-hidden=\"true\"/> Tobias (SD)</span></a>\n",
      "<a class=\"sc-907102a3-0 sc-e6d2fd61-0 frSGWi gltkIh\" href=\"https://www.riksdagen.se/sv/ledamoter-och-partier/ledamot/lili-andre_8bcaa801-9273-4771-a048-4427477353c6/\"><span class=\"sc-e6d2fd61-1 JuiqI\">André<!-- -->, <br aria-hidden=\"true\"/> Lili (KD)</span></a>\n",
      "<a class=\"sc-907102a3-0 sc-e6d2fd61-0 frSGWi gltkIh\" href=\"https://www.riksdagen.se/sv/ledamoter-och-partier/ledamot/alexandra-anstrell_8310e472-996b-4c8a-bce5-4d09fb20a66a/\"><span class=\"sc-e6d2fd61-1 JuiqI\">Anstrell<!-- -->, <br aria-hidden=\"true\"/> Alexandra (M)</span></a>\n",
      "<a class=\"sc-907102a3-0 sc-e6d2fd61-0 frSGWi gltkIh\" href=\"https://www.riksdagen.se/sv/ledamoter-och-partier/ledamot/clara-aranda_6977f22f-363b-40fb-8f8f-8163b4492345/\"><span class=\"sc-e6d2fd61-1 JuiqI\">Aranda<!-- -->, <br aria-hidden=\"true\"/> Clara (SD)</span></a>\n",
      "<a class=\"sc-907102a3-0 sc-e6d2fd61-0 frSGWi gltkIh\" href=\"https://www.riksdagen.se/sv/ledamoter-och-partier/ledamot/mats-arkhem_877b0e37-b0b9-486b-b352-9ad52fe091cb/\"><span class=\"sc-e6d2fd61-1 JuiqI\">Arkhem<!-- -->, <br aria-hidden=\"true\"/> Mats (SD)</span></a>\n",
      "<a class=\"sc-907102a3-0 sc-e6d2fd61-0 frSGWi gltkIh\" href=\"https://www.riksdagen.se/sv/ledamoter-och-partier/ledamot/ludvig-aspling_5b6bef5c-75ce-4f53-894d-e89afd3b6799/\"><span class=\"sc-e6d2fd61-1 JuiqI\">Aspling<!-- -->, <br aria-hidden=\"true\"/> Ludvig (SD)</span></a>\n",
      "<a class=\"sc-907102a3-0 sc-e6d2fd61-0 frSGWi gltkIh\" href=\"https://www.riksdagen.se/sv/ledamoter-och-partier/ledamot/gulan-avci_9d13985d-9d6c-4cba-8492-1155d94fbe69/\"><span class=\"sc-e6d2fd61-1 JuiqI\">Avci<!-- -->, <br aria-hidden=\"true\"/> Gulan (L)</span></a>\n",
      "<a class=\"sc-907102a3-0 sc-e6d2fd61-0 frSGWi gltkIh\" href=\"https://www.riksdagen.se/sv/ledamoter-och-partier/ledamot/nadja-awad_dc9b8a2d-c038-4add-a103-c810a0890f80/\"><span class=\"sc-e6d2fd61-1 JuiqI\">Awad<!-- -->, <br aria-hidden=\"true\"/> Nadja (V)</span></a>\n",
      "<a class=\"sc-907102a3-0 sc-e6d2fd61-0 frSGWi gltkIh\" href=\"https://www.riksdagen.se/sv/ledamoter-och-partier/ledamot/kristina-axen-olin_8cafb7dc-dbdd-4ac4-bd56-1e4e75daa4a6/\"><span class=\"sc-e6d2fd61-1 JuiqI\">Axén Olin<!-- -->, <br aria-hidden=\"true\"/> Kristina (M)</span></a>\n",
      "<a class=\"sc-907102a3-0 sc-e6d2fd61-0 frSGWi gltkIh\" href=\"https://www.riksdagen.se/sv/ledamoter-och-partier/ledamot/yusuf-aydin_533ec261-0b17-4458-b6bd-e3e7e2cad6d6/\"><span class=\"sc-e6d2fd61-1 JuiqI\">Aydin<!-- -->, <br aria-hidden=\"true\"/> Yusuf (KD)</span></a>\n"
     ]
    }
   ],
   "source": [
    "for div in elements:\n",
    "    print(div.find(\"a\"))"
   ]
  },
  {
   "cell_type": "markdown",
   "metadata": {},
   "source": [
    "Success! As you can see, the `<a>` tags have `href` attributes with the url links we need. All soup objects have the method `.get()` which lets us extract attribute information from an element. We pass the attribute we want as an argument. We need to loop over the links and extract the href-attributes."
   ]
  },
  {
   "cell_type": "code",
   "execution_count": 120,
   "metadata": {},
   "outputs": [
    {
     "name": "stdout",
     "output_type": "stream",
     "text": [
      "https://www.riksdagen.se/sv/ledamoter-och-partier/ledamot/fredrik-ahlstedt_8403346f-0f0c-4d48-bbd0-f6b43b368873/\n",
      "https://www.riksdagen.se/sv/ledamoter-och-partier/ledamot/emma-ahlstrom-koster_e09d9076-28c7-4583-a17f-7a776de7f01f/\n",
      "https://www.riksdagen.se/sv/ledamoter-och-partier/ledamot/alireza-akhondi_4099ff9c-5d27-4605-b018-98fb229d94fa/\n",
      "https://www.riksdagen.se/sv/ledamoter-och-partier/ledamot/anders-alftberg_f0d945f3-9449-458e-ba40-1a0da1a72303/\n",
      "https://www.riksdagen.se/sv/ledamoter-och-partier/ledamot/leila-ali-elmi_5997ba96-4f01-46f4-8bd8-e1411a9d503b/\n",
      "https://www.riksdagen.se/sv/ledamoter-och-partier/ledamot/janine-alm-ericson_7e408079-a5cd-432a-a30e-fd61fd15c65a/\n",
      "https://www.riksdagen.se/sv/ledamoter-och-partier/ledamot/ann-sofie-alm_f91f6a86-591c-449c-b3dd-1fdaa86338cd/\n",
      "https://www.riksdagen.se/sv/ledamoter-och-partier/ledamot/sofia-amloh_359e75f3-519e-49d7-b155-ada488e621ea/\n",
      "https://www.riksdagen.se/sv/ledamoter-och-partier/ledamot/pontus-andersson-garpvall_cec98313-41c4-4274-993a-939aa4859766/\n",
      "https://www.riksdagen.se/sv/ledamoter-och-partier/ledamot/andrea-andersson-tay_352b875d-e44d-43f5-bf93-e507770c12de/\n",
      "https://www.riksdagen.se/sv/ledamoter-och-partier/ledamot/johan-andersson_fff74c6c-fae3-4977-a472-cfe2b6ae257a/\n",
      "https://www.riksdagen.se/sv/ledamoter-och-partier/ledamot/jonas-andersson_9944df03-e946-4046-aeef-c49117503a0c/\n",
      "https://www.riksdagen.se/sv/ledamoter-och-partier/ledamot/lars-andersson_46472134-8e4e-4c65-856e-d401cad915dd/\n",
      "https://www.riksdagen.se/sv/ledamoter-och-partier/ledamot/magdalena-andersson_dcc2ab7d-3fc1-4a28-b3c7-be1679c047b3/\n",
      "https://www.riksdagen.se/sv/ledamoter-och-partier/ledamot/tobias-andersson_5763c159-5105-47b3-82fb-9cc7dc20dc7d/\n",
      "https://www.riksdagen.se/sv/ledamoter-och-partier/ledamot/lili-andre_8bcaa801-9273-4771-a048-4427477353c6/\n",
      "https://www.riksdagen.se/sv/ledamoter-och-partier/ledamot/alexandra-anstrell_8310e472-996b-4c8a-bce5-4d09fb20a66a/\n",
      "https://www.riksdagen.se/sv/ledamoter-och-partier/ledamot/clara-aranda_6977f22f-363b-40fb-8f8f-8163b4492345/\n",
      "https://www.riksdagen.se/sv/ledamoter-och-partier/ledamot/mats-arkhem_877b0e37-b0b9-486b-b352-9ad52fe091cb/\n",
      "https://www.riksdagen.se/sv/ledamoter-och-partier/ledamot/ludvig-aspling_5b6bef5c-75ce-4f53-894d-e89afd3b6799/\n",
      "https://www.riksdagen.se/sv/ledamoter-och-partier/ledamot/gulan-avci_9d13985d-9d6c-4cba-8492-1155d94fbe69/\n",
      "https://www.riksdagen.se/sv/ledamoter-och-partier/ledamot/nadja-awad_dc9b8a2d-c038-4add-a103-c810a0890f80/\n",
      "https://www.riksdagen.se/sv/ledamoter-och-partier/ledamot/kristina-axen-olin_8cafb7dc-dbdd-4ac4-bd56-1e4e75daa4a6/\n",
      "https://www.riksdagen.se/sv/ledamoter-och-partier/ledamot/yusuf-aydin_533ec261-0b17-4458-b6bd-e3e7e2cad6d6/\n"
     ]
    }
   ],
   "source": [
    "for div in elements:\n",
    "    print(div.find(\"a\").get('href'))"
   ]
  },
  {
   "cell_type": "markdown",
   "metadata": {},
   "source": [
    "Now, let's save all these into a list with all the links:"
   ]
  },
  {
   "cell_type": "code",
   "execution_count": 121,
   "metadata": {},
   "outputs": [],
   "source": [
    "links = []\n",
    "for div in elements:\n",
    "    links.append(div.find(\"a\").get('href'))"
   ]
  },
  {
   "cell_type": "markdown",
   "metadata": {},
   "source": [
    "Now, let's see that all links work. We can do this looping over the links, creating response objects of them, and then using the `requests` method `.raise_for_status()`. If nothing happens, we've been successful:"
   ]
  },
  {
   "cell_type": "code",
   "execution_count": 123,
   "metadata": {},
   "outputs": [],
   "source": [
    "# this takes a few seconds:\n",
    "for link in links:\n",
    "    res = requests.get(link)\n",
    "    res.raise_for_status()"
   ]
  },
  {
   "cell_type": "markdown",
   "metadata": {},
   "source": [
    "Perfect! No exceptions were raised. The urls seem to work."
   ]
  },
  {
   "cell_type": "markdown",
   "metadata": {},
   "source": [
    "#### Scraping the html `<table>`"
   ]
  },
  {
   "cell_type": "markdown",
   "metadata": {},
   "source": [
    "Often, the information you want to scrape is within a html table. These are for example common in Wikipedia articles. Let's scrape the information in the list of [American presidents](https://en.wikipedia.org/wiki/List_of_presidents_of_the_United_States):"
   ]
  },
  {
   "cell_type": "code",
   "execution_count": 128,
   "metadata": {},
   "outputs": [],
   "source": [
    "url = \"https://en.wikipedia.org/wiki/List_of_presidents_of_the_United_States\""
   ]
  },
  {
   "cell_type": "code",
   "execution_count": 129,
   "metadata": {},
   "outputs": [],
   "source": [
    "res = requests.get(url)\n",
    "res.raise_for_status()\n",
    "\n",
    "soup = BeautifulSoup(res.content)"
   ]
  },
  {
   "cell_type": "markdown",
   "metadata": {},
   "source": [
    "While inspecting the article's table of all the presidents, we can see that it has a html class called `wikitable sortable jquery-tablesorter`:"
   ]
  },
  {
   "cell_type": "markdown",
   "metadata": {},
   "source": [
    "<img src=\"../course_material/scraping/html_3.png\" style=\"width: 600px;\"/>"
   ]
  },
  {
   "cell_type": "markdown",
   "metadata": {},
   "source": [
    "As we briefly discussed in the previous section, this is actually three classes. Let's explore the most obvious one: the first one called `wikitable`:"
   ]
  },
  {
   "cell_type": "code",
   "execution_count": 140,
   "metadata": {},
   "outputs": [],
   "source": [
    "table = soup.find_all('table', class_=\"wikitable\")"
   ]
  },
  {
   "cell_type": "markdown",
   "metadata": {},
   "source": [
    "Bingo! There is only one such table on the webpage. This is the table with all the presidents. Let's just get that one table with the `.find()` method:"
   ]
  },
  {
   "cell_type": "code",
   "execution_count": 144,
   "metadata": {},
   "outputs": [],
   "source": [
    "table = soup.find('table', class_=\"wikitable\")"
   ]
  },
  {
   "cell_type": "markdown",
   "metadata": {},
   "source": [
    "A html table consists of a rows (`<tr>`) where all the table's cells – table divs (`<td>`) are listed. The first row is the header:"
   ]
  },
  {
   "cell_type": "code",
   "execution_count": 146,
   "metadata": {},
   "outputs": [
    {
     "data": {
      "text/plain": [
       "<tr>\n",
       "<th scope=\"col\"><abbr title=\"Number\">No.</abbr><sup class=\"reference\" id=\"cite_ref-14\"><a href=\"#cite_note-14\">[a]</a></sup>\n",
       "</th>\n",
       "<th class=\"unsortable\" scope=\"col\">Portrait\n",
       "</th>\n",
       "<th scope=\"col\">Name<br/><span style=\"font-size:85%;\">(Birth–Death)</span>\n",
       "</th>\n",
       "<th class=\"unsortable\" scope=\"col\">Term<sup class=\"reference\" id=\"cite_ref-FOOTNOTELOCwhitehouse.gov_15-0\"><a href=\"#cite_note-FOOTNOTELOCwhitehouse.gov-15\">[14]</a></sup>\n",
       "</th>\n",
       "<th colspan=\"2\" scope=\"col\">Party<sup class=\"reference\" id=\"cite_ref-16\"><a href=\"#cite_note-16\">[b]</a></sup><sup class=\"reference\" id=\"cite_ref-FOOTNOTE''Guide_to_U.S._Elections''2010257–258_17-0\"><a href=\"#cite_note-FOOTNOTE''Guide_to_U.S._Elections''2010257–258-17\">[15]</a></sup>\n",
       "</th>\n",
       "<th class=\"unsortable\" scope=\"col\">Election\n",
       "</th>\n",
       "<th class=\"unsortable\" scope=\"col\">Vice President<sup class=\"reference\" id=\"cite_ref-FOOTNOTELOC_18-0\"><a href=\"#cite_note-FOOTNOTELOC-18\">[16]</a></sup>\n",
       "</th></tr>"
      ]
     },
     "execution_count": 146,
     "metadata": {},
     "output_type": "execute_result"
    }
   ],
   "source": [
    "table.find_all('tr')[0]"
   ]
  },
  {
   "cell_type": "markdown",
   "metadata": {},
   "source": [
    "The second is the first row within the table, in this case the first president of the USA:"
   ]
  },
  {
   "cell_type": "code",
   "execution_count": 147,
   "metadata": {},
   "outputs": [
    {
     "data": {
      "text/plain": [
       "<tr>\n",
       "<th scope=\"row\"><a href=\"/wiki/Presidency_of_George_Washington\" title=\"Presidency of George Washington\">1</a>\n",
       "</th>\n",
       "<td><span typeof=\"mw:File\"><a class=\"mw-file-description\" href=\"/wiki/File:Gilbert_Stuart_Williamstown_Portrait_of_George_Washington.jpg\"><img alt=\"Painting of George Washington\" class=\"mw-file-element\" data-file-height=\"5619\" data-file-width=\"4628\" decoding=\"async\" height=\"182\" src=\"//upload.wikimedia.org/wikipedia/commons/thumb/b/b6/Gilbert_Stuart_Williamstown_Portrait_of_George_Washington.jpg/150px-Gilbert_Stuart_Williamstown_Portrait_of_George_Washington.jpg\" srcset=\"//upload.wikimedia.org/wikipedia/commons/thumb/b/b6/Gilbert_Stuart_Williamstown_Portrait_of_George_Washington.jpg/225px-Gilbert_Stuart_Williamstown_Portrait_of_George_Washington.jpg 1.5x, //upload.wikimedia.org/wikipedia/commons/thumb/b/b6/Gilbert_Stuart_Williamstown_Portrait_of_George_Washington.jpg/300px-Gilbert_Stuart_Williamstown_Portrait_of_George_Washington.jpg 2x\" width=\"150\"/></a></span>\n",
       "</td>\n",
       "<td data-sort-value=\"Washington, George\"><b><a href=\"/wiki/George_Washington\" title=\"George Washington\">George Washington</a></b><br/><span style=\"font-size:85%;\">(1732–1799)</span><br/><sup class=\"reference\" id=\"cite_ref-FOOTNOTEMcDonald2000_19-0\"><a href=\"#cite_note-FOOTNOTEMcDonald2000-19\">[17]</a></sup>\n",
       "</td>\n",
       "<td><span data-sort-value=\"000000001789-04-30-0000\" style=\"white-space:nowrap\">April 30, 1789</span><br/>–<br/><span data-sort-value=\"000000001797-03-04-0000\" style=\"white-space:nowrap\">March 4, 1797</span>\n",
       "</td>\n",
       "<td style=\"background-color:#DCDCDC\">\n",
       "</td>\n",
       "<td><i>Unaffiliated</i>\n",
       "</td>\n",
       "<td class=\"nowrap\"><a class=\"mw-redirect\" href=\"/wiki/1788%E2%80%931789_United_States_presidential_election\" title=\"1788–1789 United States presidential election\">1788–1789</a>\n",
       "<hr/>\n",
       "<p><a href=\"/wiki/1792_United_States_presidential_election\" title=\"1792 United States presidential election\">1792</a>\n",
       "</p>\n",
       "</td>\n",
       "<td><a href=\"/wiki/John_Adams\" title=\"John Adams\">John Adams</a><sup class=\"reference\" id=\"cite_ref-21\"><a href=\"#cite_note-21\">[c]</a></sup>\n",
       "</td></tr>"
      ]
     },
     "execution_count": 147,
     "metadata": {},
     "output_type": "execute_result"
    }
   ],
   "source": [
    "table.find_all('tr')[1]"
   ]
  },
  {
   "cell_type": "markdown",
   "metadata": {},
   "source": [
    "#### Scraping the presidents' names"
   ]
  },
  {
   "cell_type": "markdown",
   "metadata": {},
   "source": [
    "Let's say we want to scrape all the presidents' names from this table. We then just loop over each table row, and then access the third cell in each row, since it is there the name of each president is located. Let's start by excluding the header (since that doesn't include any president's name):"
   ]
  },
  {
   "cell_type": "code",
   "execution_count": 151,
   "metadata": {},
   "outputs": [],
   "source": [
    "all_rows = table.find_all('tr')[1:]"
   ]
  },
  {
   "cell_type": "markdown",
   "metadata": {},
   "source": [
    "Now, while looping over each row, we access the cells by finding all table divs `td` in each row. The first cell on each row is an index cell (the number for each president way to the left on each row in the table, \"1\" for George Washington etc etc) and isn't a table div element, but instead a table header `th`. That means that we want the second cell on each row, since that's where we find the presidents' names:"
   ]
  },
  {
   "cell_type": "code",
   "execution_count": 155,
   "metadata": {
    "scrolled": true
   },
   "outputs": [
    {
     "name": "stdout",
     "output_type": "stream",
     "text": [
      "<td data-sort-value=\"Washington, George\"><b><a href=\"/wiki/George_Washington\" title=\"George Washington\">George Washington</a></b><br/><span style=\"font-size:85%;\">(1732–1799)</span><br/><sup class=\"reference\" id=\"cite_ref-FOOTNOTEMcDonald2000_19-0\"><a href=\"#cite_note-FOOTNOTEMcDonald2000-19\">[17]</a></sup>\n",
      "</td>\n",
      "<td data-sort-value=\"Adams, John\"><b><a href=\"/wiki/John_Adams\" title=\"John Adams\">John Adams</a></b><br/><span style=\"font-size:85%;\">(1735–1826)</span><br/><sup class=\"reference\" id=\"cite_ref-FOOTNOTEPencak2000_22-0\"><a href=\"#cite_note-FOOTNOTEPencak2000-22\">[19]</a></sup>\n",
      "</td>\n",
      "<td data-sort-value=\"Jefferson, Thomas\"><b><a href=\"/wiki/Thomas_Jefferson\" title=\"Thomas Jefferson\">Thomas Jefferson</a></b><br/><span style=\"font-size:85%;\">(1743–1826)</span><br/><sup class=\"reference\" id=\"cite_ref-FOOTNOTEPeterson2000_25-0\"><a href=\"#cite_note-FOOTNOTEPeterson2000-25\">[21]</a></sup>\n",
      "</td>\n",
      "<td data-sort-value=\"Madison, James\"><b><a href=\"/wiki/James_Madison\" title=\"James Madison\">James Madison</a></b><br/><span style=\"font-size:85%;\">(1751–1836)</span><br/><sup class=\"reference\" id=\"cite_ref-FOOTNOTEBanning2000_26-0\"><a href=\"#cite_note-FOOTNOTEBanning2000-26\">[22]</a></sup>\n",
      "</td>\n",
      "<td data-sort-value=\"Monroe, James\"><b><a href=\"/wiki/James_Monroe\" title=\"James Monroe\">James Monroe</a></b><br/><span style=\"font-size:85%;\">(1758–1831)</span><br/><sup class=\"reference\" id=\"cite_ref-FOOTNOTEAmmon2000_29-0\"><a href=\"#cite_note-FOOTNOTEAmmon2000-29\">[24]</a></sup>\n",
      "</td>\n",
      "<td data-sort-value=\"Adams, John Quincy\"><b><a href=\"/wiki/John_Quincy_Adams\" title=\"John Quincy Adams\">John Quincy Adams</a></b><br/><span style=\"font-size:85%;\">(1767–1848)</span><br/><sup class=\"reference\" id=\"cite_ref-FOOTNOTEHargreaves2000_30-0\"><a href=\"#cite_note-FOOTNOTEHargreaves2000-30\">[25]</a></sup>\n",
      "</td>\n",
      "<td data-sort-value=\"Jackson, Andrew\"><b><a href=\"/wiki/Andrew_Jackson\" title=\"Andrew Jackson\">Andrew Jackson</a></b><br/><span style=\"font-size:85%;\">(1767–1845)</span><br/><sup class=\"reference\" id=\"cite_ref-FOOTNOTERemini2000_35-0\"><a href=\"#cite_note-FOOTNOTERemini2000-35\">[28]</a></sup>\n",
      "</td>\n",
      "<td data-sort-value=\"Van Buren, Martin\"><b><a href=\"/wiki/Martin_Van_Buren\" title=\"Martin Van Buren\">Martin Van Buren</a></b><br/><span style=\"font-size:85%;\">(1782–1862)</span><br/><sup class=\"reference\" id=\"cite_ref-FOOTNOTECole2000_37-0\"><a href=\"#cite_note-FOOTNOTECole2000-37\">[29]</a></sup>\n",
      "</td>\n",
      "<td data-sort-value=\"Harrison, William Henry\"><b><a href=\"/wiki/William_Henry_Harrison\" title=\"William Henry Harrison\">William Henry Harrison</a></b><br/><span style=\"font-size:85%;\">(1773–1841)</span><br/><sup class=\"reference\" id=\"cite_ref-FOOTNOTEGutzman2000_38-0\"><a href=\"#cite_note-FOOTNOTEGutzman2000-38\">[30]</a></sup>\n",
      "</td>\n",
      "<td data-sort-value=\"Tyler, John\"><b><a href=\"/wiki/John_Tyler\" title=\"John Tyler\">John Tyler</a></b><br/><span style=\"font-size:85%;\">(1790–1862)</span><br/><sup class=\"reference\" id=\"cite_ref-FOOTNOTEShade2000_39-0\"><a href=\"#cite_note-FOOTNOTEShade2000-39\">[31]</a></sup>\n",
      "</td>\n",
      "<td data-sort-value=\"Polk, James K\"><b><a href=\"/wiki/James_K._Polk\" title=\"James K. Polk\">James K. Polk</a></b><br/><span style=\"font-size:85%;\">(1795–1849)</span><br/><sup class=\"reference\" id=\"cite_ref-FOOTNOTERawley2000_44-0\"><a href=\"#cite_note-FOOTNOTERawley2000-44\">[34]</a></sup>\n",
      "</td>\n",
      "<td data-sort-value=\"Taylor, Zachary\"><b><a href=\"/wiki/Zachary_Taylor\" title=\"Zachary Taylor\">Zachary Taylor</a></b><br/><span style=\"font-size:85%;\">(1784–1850)</span><br/><sup class=\"reference\" id=\"cite_ref-FOOTNOTESmith2000_45-0\"><a href=\"#cite_note-FOOTNOTESmith2000-45\">[35]</a></sup>\n",
      "</td>\n",
      "<td data-sort-value=\"Fillmore, Millard\"><b><a href=\"/wiki/Millard_Fillmore\" title=\"Millard Fillmore\">Millard Fillmore</a></b><br/><span style=\"font-size:85%;\">(1800–1874)</span><br/><sup class=\"reference\" id=\"cite_ref-FOOTNOTEAnbinder2000_46-0\"><a href=\"#cite_note-FOOTNOTEAnbinder2000-46\">[36]</a></sup>\n",
      "</td>\n",
      "<td data-sort-value=\"Pierce, Franklin\"><b><a href=\"/wiki/Franklin_Pierce\" title=\"Franklin Pierce\">Franklin Pierce</a></b><br/><span style=\"font-size:85%;\">(1804–1869)</span><br/><sup class=\"reference\" id=\"cite_ref-FOOTNOTEGara2000_49-0\"><a href=\"#cite_note-FOOTNOTEGara2000-49\">[38]</a></sup>\n",
      "</td>\n",
      "<td data-sort-value=\"Buchanan, James\"><b><a href=\"/wiki/James_Buchanan\" title=\"James Buchanan\">James Buchanan</a></b><br/><span style=\"font-size:85%;\">(1791–1868)</span><br/><sup class=\"reference\" id=\"cite_ref-FOOTNOTEGienapp2000_50-0\"><a href=\"#cite_note-FOOTNOTEGienapp2000-50\">[39]</a></sup>\n",
      "</td>\n",
      "<td data-sort-value=\"Lincoln, Abraham\"><b><a href=\"/wiki/Abraham_Lincoln\" title=\"Abraham Lincoln\">Abraham Lincoln</a></b><br/><span style=\"font-size:85%;\">(1809–1865)</span><br/><sup class=\"reference\" id=\"cite_ref-FOOTNOTEMcPherson_(b)2000_51-0\"><a href=\"#cite_note-FOOTNOTEMcPherson_(b)2000-51\">[40]</a></sup>\n",
      "</td>\n",
      "<td data-sort-value=\"Johnson, Andrew\"><b><a href=\"/wiki/Andrew_Johnson\" title=\"Andrew Johnson\">Andrew Johnson</a></b><br/><span style=\"font-size:85%;\">(1808–1875)</span><br/><sup class=\"reference\" id=\"cite_ref-FOOTNOTETrefousse2000_54-0\"><a href=\"#cite_note-FOOTNOTETrefousse2000-54\">[42]</a></sup>\n",
      "</td>\n",
      "<td data-sort-value=\"Grant, Ulysses S\"><b><a href=\"/wiki/Ulysses_S._Grant\" title=\"Ulysses S. Grant\">Ulysses S. Grant</a></b><br/><span style=\"font-size:85%;\">(1822–1885)</span><br/><sup class=\"reference\" id=\"cite_ref-FOOTNOTEMcPherson_(a)2000_57-0\"><a href=\"#cite_note-FOOTNOTEMcPherson_(a)2000-57\">[43]</a></sup>\n",
      "</td>\n",
      "<td data-sort-value=\"Hayes, Rutherford B.\"><b><a href=\"/wiki/Rutherford_B._Hayes\" title=\"Rutherford B. Hayes\">Rutherford B. Hayes</a></b><br/><span style=\"font-size:85%;\">(1822–1893)</span><br/><sup class=\"reference\" id=\"cite_ref-FOOTNOTEHoogenboom2000_58-0\"><a href=\"#cite_note-FOOTNOTEHoogenboom2000-58\">[44]</a></sup>\n",
      "</td>\n",
      "<td data-sort-value=\"Garfield, James A\"><b><a href=\"/wiki/James_A._Garfield\" title=\"James A. Garfield\">James A. Garfield</a></b><br/><span style=\"font-size:85%;\">(1831–1881)</span><br/><sup class=\"reference\" id=\"cite_ref-FOOTNOTEPeskin2000_59-0\"><a href=\"#cite_note-FOOTNOTEPeskin2000-59\">[45]</a></sup>\n",
      "</td>\n",
      "<td data-sort-value=\"Arthur, Chester A.\"><b><a href=\"/wiki/Chester_A._Arthur\" title=\"Chester A. Arthur\">Chester A. Arthur</a></b><br/><span style=\"font-size:85%;\">(1829–1886)</span><br/><sup class=\"reference\" id=\"cite_ref-FOOTNOTEReeves2000_60-0\"><a href=\"#cite_note-FOOTNOTEReeves2000-60\">[46]</a></sup>\n",
      "</td>\n",
      "<td data-sort-value=\"Cleveland, Grover, 1\"><b><a href=\"/wiki/Grover_Cleveland\" title=\"Grover Cleveland\">Grover Cleveland</a></b><br/><span style=\"font-size:85%;\">(1837–1908)</span><br/><sup class=\"reference\" id=\"cite_ref-FOOTNOTECampbell2000_63-0\"><a href=\"#cite_note-FOOTNOTECampbell2000-63\">[48]</a></sup>\n",
      "</td>\n",
      "<td data-sort-value=\"Harrison, Benjamin\"><b><a href=\"/wiki/Benjamin_Harrison\" title=\"Benjamin Harrison\">Benjamin Harrison</a></b><br/><span style=\"font-size:85%;\">(1833–1901)</span><br/><sup class=\"reference\" id=\"cite_ref-FOOTNOTESpetter2000_64-0\"><a href=\"#cite_note-FOOTNOTESpetter2000-64\">[49]</a></sup>\n",
      "</td>\n",
      "<td data-sort-value=\"Cleveland, Grover, 2\"><b><a href=\"/wiki/Grover_Cleveland\" title=\"Grover Cleveland\">Grover Cleveland</a></b><br/><span style=\"font-size:85%;\">(1837–1908)</span><br/><sup class=\"reference\" id=\"cite_ref-FOOTNOTECampbell2000_63-1\"><a href=\"#cite_note-FOOTNOTECampbell2000-63\">[48]</a></sup>\n",
      "</td>\n",
      "<td data-sort-value=\"McKinley, William\"><b><a href=\"/wiki/William_McKinley\" title=\"William McKinley\">William McKinley</a></b><br/><span style=\"font-size:85%;\">(1843–1901)</span><br/><sup class=\"reference\" id=\"cite_ref-FOOTNOTEGould_(a)2000_65-0\"><a href=\"#cite_note-FOOTNOTEGould_(a)2000-65\">[50]</a></sup>\n",
      "</td>\n",
      "<td data-sort-value=\"Roosevelt, Theodore\"><b><a href=\"/wiki/Theodore_Roosevelt\" title=\"Theodore Roosevelt\">Theodore Roosevelt</a></b><br/><span style=\"font-size:85%;\">(1858–1919)</span><br/><sup class=\"reference\" id=\"cite_ref-FOOTNOTEHarbaugh2000_66-0\"><a href=\"#cite_note-FOOTNOTEHarbaugh2000-66\">[51]</a></sup>\n",
      "</td>\n",
      "<td data-sort-value=\"Taft, William Howard\"><b><a href=\"/wiki/William_Howard_Taft\" title=\"William Howard Taft\">William Howard Taft</a></b><br/><span style=\"font-size:85%;\">(1857–1930)</span><br/><sup class=\"reference\" id=\"cite_ref-FOOTNOTEGould_(b)2000_69-0\"><a href=\"#cite_note-FOOTNOTEGould_(b)2000-69\">[53]</a></sup>\n",
      "</td>\n",
      "<td data-sort-value=\"Wilson, Woodrow\"><b><a href=\"/wiki/Woodrow_Wilson\" title=\"Woodrow Wilson\">Woodrow Wilson</a></b><br/><span style=\"font-size:85%;\">(1856–1924)</span><br/><sup class=\"reference\" id=\"cite_ref-FOOTNOTEAmbrosius2000_70-0\"><a href=\"#cite_note-FOOTNOTEAmbrosius2000-70\">[54]</a></sup>\n",
      "</td>\n",
      "<td data-sort-value=\"Harding, Warren G.\"><b><a href=\"/wiki/Warren_G._Harding\" title=\"Warren G. Harding\">Warren G. Harding</a></b><br/><span style=\"font-size:85%;\">(1865–1923)</span><br/><sup class=\"reference\" id=\"cite_ref-FOOTNOTEHawley2000_71-0\"><a href=\"#cite_note-FOOTNOTEHawley2000-71\">[55]</a></sup>\n",
      "</td>\n",
      "<td data-sort-value=\"Coolidge, Calvin\"><b><a href=\"/wiki/Calvin_Coolidge\" title=\"Calvin Coolidge\">Calvin Coolidge</a></b><br/><span style=\"font-size:85%;\">(1872–1933)</span><br/><sup class=\"reference\" id=\"cite_ref-FOOTNOTEMcCoy2000_72-0\"><a href=\"#cite_note-FOOTNOTEMcCoy2000-72\">[56]</a></sup>\n",
      "</td>\n",
      "<td data-sort-value=\"Hoover, Herbert\"><b><a href=\"/wiki/Herbert_Hoover\" title=\"Herbert Hoover\">Herbert Hoover</a></b><br/><span style=\"font-size:85%;\">(1874–1964)</span><br/><sup class=\"reference\" id=\"cite_ref-FOOTNOTEHoff_(a)2000_75-0\"><a href=\"#cite_note-FOOTNOTEHoff_(a)2000-75\">[58]</a></sup>\n",
      "</td>\n",
      "<td data-sort-value=\"Roosevelt, Franklin D\"><b><a href=\"/wiki/Franklin_D._Roosevelt\" title=\"Franklin D. Roosevelt\">Franklin D. Roosevelt</a></b><br/><span style=\"font-size:85%;\">(1882–1945)</span><br/><sup class=\"reference\" id=\"cite_ref-FOOTNOTEBrinkley2000_76-0\"><a href=\"#cite_note-FOOTNOTEBrinkley2000-76\">[59]</a></sup>\n",
      "</td>\n",
      "<td data-sort-value=\"Truman, Harry S.\"><b><a href=\"/wiki/Harry_S._Truman\" title=\"Harry S. Truman\">Harry S. Truman</a></b><br/><span style=\"font-size:85%;\">(1884–1972)</span><br/><sup class=\"reference\" id=\"cite_ref-FOOTNOTEHamby2000_77-0\"><a href=\"#cite_note-FOOTNOTEHamby2000-77\">[60]</a></sup>\n",
      "</td>\n",
      "<td data-sort-value=\"Eisenhower, Dwight D\"><b><a href=\"/wiki/Dwight_D._Eisenhower\" title=\"Dwight D. Eisenhower\">Dwight D. Eisenhower</a></b><br/><span style=\"font-size:85%;\">(1890–1969)</span><br/><sup class=\"reference\" id=\"cite_ref-FOOTNOTEAmbrose2000_80-0\"><a href=\"#cite_note-FOOTNOTEAmbrose2000-80\">[62]</a></sup>\n",
      "</td>\n",
      "<td data-sort-value=\"Kennedy, John F.\"><b><a href=\"/wiki/John_F._Kennedy\" title=\"John F. Kennedy\">John F. Kennedy</a></b><br/><span style=\"font-size:85%;\">(1917–1963)</span><br/><sup class=\"reference\" id=\"cite_ref-FOOTNOTEParmet2000_81-0\"><a href=\"#cite_note-FOOTNOTEParmet2000-81\">[63]</a></sup>\n",
      "</td>\n",
      "<td data-sort-value=\"Johnson, Lyndon B\"><b><a href=\"/wiki/Lyndon_B._Johnson\" title=\"Lyndon B. Johnson\">Lyndon B. Johnson</a></b><br/><span style=\"font-size:85%;\">(1908–1973)</span><br/><sup class=\"reference\" id=\"cite_ref-FOOTNOTEGardner2000_82-0\"><a href=\"#cite_note-FOOTNOTEGardner2000-82\">[64]</a></sup>\n",
      "</td>\n",
      "<td data-sort-value=\"Nixon, Richard\"><b><a href=\"/wiki/Richard_Nixon\" title=\"Richard Nixon\">Richard Nixon</a></b><br/><span style=\"font-size:85%;\">(1913–1994)</span><br/><sup class=\"reference\" id=\"cite_ref-FOOTNOTEHoff_(b)2000_85-0\"><a href=\"#cite_note-FOOTNOTEHoff_(b)2000-85\">[66]</a></sup>\n",
      "</td>\n",
      "<td data-sort-value=\"Ford, Gerald\"><b><a href=\"/wiki/Gerald_Ford\" title=\"Gerald Ford\">Gerald Ford</a></b><br/><span style=\"font-size:85%;\">(1913–2006)</span><br/><sup class=\"reference\" id=\"cite_ref-FOOTNOTEGreene2013_87-0\"><a href=\"#cite_note-FOOTNOTEGreene2013-87\">[67]</a></sup>\n",
      "</td>\n",
      "<td data-sort-value=\"Carter, Jimmy\"><b><a href=\"/wiki/Jimmy_Carter\" title=\"Jimmy Carter\">Jimmy Carter</a></b><br/><span style=\"font-size:85%;\">(<abbr title=\"born in\">b.</abbr> 1924)</span><br/><sup class=\"reference\" id=\"cite_ref-FOOTNOTEwhitehouse.gov_(a)_89-0\"><a href=\"#cite_note-FOOTNOTEwhitehouse.gov_(a)-89\">[68]</a></sup>\n",
      "</td>\n",
      "<td data-sort-value=\"Reagan, Ronald\"><b><a href=\"/wiki/Ronald_Reagan\" title=\"Ronald Reagan\">Ronald Reagan</a></b><br/><span style=\"font-size:85%;\">(1911–2004)</span><br/><sup class=\"reference\" id=\"cite_ref-FOOTNOTESchaller2004_90-0\"><a href=\"#cite_note-FOOTNOTESchaller2004-90\">[69]</a></sup>\n",
      "</td>\n",
      "<td data-sort-value=\"Bush, George H. W.\"><b><a href=\"/wiki/George_H._W._Bush\" title=\"George H. W. Bush\">George H. W. Bush</a></b><br/><span style=\"font-size:85%;\">(1924–2018)</span><br/><sup class=\"reference\" id=\"cite_ref-FOOTNOTEwhitehouse.gov_(b)_91-0\"><a href=\"#cite_note-FOOTNOTEwhitehouse.gov_(b)-91\">[70]</a></sup>\n",
      "</td>\n",
      "<td data-sort-value=\"Clinton, Bill\"><b><a href=\"/wiki/Bill_Clinton\" title=\"Bill Clinton\">Bill Clinton</a></b><br/><span style=\"font-size:85%;\">(<abbr title=\"born in\">b.</abbr> 1946)</span><br/><sup class=\"reference\" id=\"cite_ref-FOOTNOTEwhitehouse.gov_(c)_92-0\"><a href=\"#cite_note-FOOTNOTEwhitehouse.gov_(c)-92\">[71]</a></sup>\n",
      "</td>\n",
      "<td data-sort-value=\"Bush, George W.\"><b><a href=\"/wiki/George_W._Bush\" title=\"George W. Bush\">George W. Bush</a></b><br/><span style=\"font-size:85%;\">(<abbr title=\"born in\">b.</abbr> 1946)</span><br/><sup class=\"reference\" id=\"cite_ref-FOOTNOTEwhitehouse.gov_(d)_93-0\"><a href=\"#cite_note-FOOTNOTEwhitehouse.gov_(d)-93\">[72]</a></sup>\n",
      "</td>\n",
      "<td data-sort-value=\"Obama, Barack\"><b><a href=\"/wiki/Barack_Obama\" title=\"Barack Obama\">Barack Obama</a></b><br/><span style=\"font-size:85%;\">(<abbr title=\"born in\">b.</abbr> 1961)</span><br/><sup class=\"reference\" id=\"cite_ref-FOOTNOTEwhitehouse.gov_(e)_94-0\"><a href=\"#cite_note-FOOTNOTEwhitehouse.gov_(e)-94\">[73]</a></sup>\n",
      "</td>\n",
      "<td data-sort-value=\"Trump, Donald\"><b><a href=\"/wiki/Donald_Trump\" title=\"Donald Trump\">Donald Trump</a></b><br/><span style=\"font-size:85%;\">(<abbr title=\"born in\">b.</abbr> 1946)</span><br/><sup class=\"reference\" id=\"cite_ref-FOOTNOTEwhitehouse.gov_(f)_95-0\"><a href=\"#cite_note-FOOTNOTEwhitehouse.gov_(f)-95\">[74]</a></sup>\n",
      "</td>\n",
      "<td data-sort-value=\"Biden, Joe\"><b><a href=\"/wiki/Joe_Biden\" title=\"Joe Biden\">Joe Biden</a></b><br/><span style=\"font-size:85%;\">(<abbr title=\"born in\">b.</abbr> 1942)</span><br/><sup class=\"reference\" id=\"cite_ref-FOOTNOTEwhitehouse.gov_(g)_6-1\"><a href=\"#cite_note-FOOTNOTEwhitehouse.gov_(g)-6\">[6]</a></sup>\n",
      "</td>\n"
     ]
    }
   ],
   "source": [
    "for row in all_rows:\n",
    "    print(row.find_all('td')[1]) # find all cells in each row, and return the third cell"
   ]
  },
  {
   "cell_type": "markdown",
   "metadata": {},
   "source": [
    "Ok, so that's was unreadable. Let's do it again, but specify that we want the text attribute:"
   ]
  },
  {
   "cell_type": "code",
   "execution_count": 157,
   "metadata": {},
   "outputs": [
    {
     "name": "stdout",
     "output_type": "stream",
     "text": [
      "George Washington(1732–1799)[17]\n",
      "\n",
      "John Adams(1735–1826)[19]\n",
      "\n",
      "Thomas Jefferson(1743–1826)[21]\n",
      "\n",
      "James Madison(1751–1836)[22]\n",
      "\n",
      "James Monroe(1758–1831)[24]\n",
      "\n",
      "John Quincy Adams(1767–1848)[25]\n",
      "\n",
      "Andrew Jackson(1767–1845)[28]\n",
      "\n",
      "Martin Van Buren(1782–1862)[29]\n",
      "\n",
      "William Henry Harrison(1773–1841)[30]\n",
      "\n",
      "John Tyler(1790–1862)[31]\n",
      "\n",
      "James K. Polk(1795–1849)[34]\n",
      "\n",
      "Zachary Taylor(1784–1850)[35]\n",
      "\n",
      "Millard Fillmore(1800–1874)[36]\n",
      "\n",
      "Franklin Pierce(1804–1869)[38]\n",
      "\n",
      "James Buchanan(1791–1868)[39]\n",
      "\n",
      "Abraham Lincoln(1809–1865)[40]\n",
      "\n",
      "Andrew Johnson(1808–1875)[42]\n",
      "\n",
      "Ulysses S. Grant(1822–1885)[43]\n",
      "\n",
      "Rutherford B. Hayes(1822–1893)[44]\n",
      "\n",
      "James A. Garfield(1831–1881)[45]\n",
      "\n",
      "Chester A. Arthur(1829–1886)[46]\n",
      "\n",
      "Grover Cleveland(1837–1908)[48]\n",
      "\n",
      "Benjamin Harrison(1833–1901)[49]\n",
      "\n",
      "Grover Cleveland(1837–1908)[48]\n",
      "\n",
      "William McKinley(1843–1901)[50]\n",
      "\n",
      "Theodore Roosevelt(1858–1919)[51]\n",
      "\n",
      "William Howard Taft(1857–1930)[53]\n",
      "\n",
      "Woodrow Wilson(1856–1924)[54]\n",
      "\n",
      "Warren G. Harding(1865–1923)[55]\n",
      "\n",
      "Calvin Coolidge(1872–1933)[56]\n",
      "\n",
      "Herbert Hoover(1874–1964)[58]\n",
      "\n",
      "Franklin D. Roosevelt(1882–1945)[59]\n",
      "\n",
      "Harry S. Truman(1884–1972)[60]\n",
      "\n",
      "Dwight D. Eisenhower(1890–1969)[62]\n",
      "\n",
      "John F. Kennedy(1917–1963)[63]\n",
      "\n",
      "Lyndon B. Johnson(1908–1973)[64]\n",
      "\n",
      "Richard Nixon(1913–1994)[66]\n",
      "\n",
      "Gerald Ford(1913–2006)[67]\n",
      "\n",
      "Jimmy Carter(b. 1924)[68]\n",
      "\n",
      "Ronald Reagan(1911–2004)[69]\n",
      "\n",
      "George H. W. Bush(1924–2018)[70]\n",
      "\n",
      "Bill Clinton(b. 1946)[71]\n",
      "\n",
      "George W. Bush(b. 1946)[72]\n",
      "\n",
      "Barack Obama(b. 1961)[73]\n",
      "\n",
      "Donald Trump(b. 1946)[74]\n",
      "\n",
      "Joe Biden(b. 1942)[6]\n",
      "\n"
     ]
    }
   ],
   "source": [
    "for row in all_rows:\n",
    "    print(row.find_all('td')[1].text)"
   ]
  },
  {
   "cell_type": "markdown",
   "metadata": {},
   "source": [
    "Perfect! Let's save this into a python list:"
   ]
  },
  {
   "cell_type": "code",
   "execution_count": 158,
   "metadata": {},
   "outputs": [],
   "source": [
    "names = []\n",
    "for row in all_rows:\n",
    "    names.append(row.find_all('td')[1].text)"
   ]
  },
  {
   "cell_type": "markdown",
   "metadata": {},
   "source": [
    "Now you know how to scrape html tables!"
   ]
  },
  {
   "cell_type": "markdown",
   "metadata": {},
   "source": [
    "#### Cleaning the data"
   ]
  },
  {
   "cell_type": "markdown",
   "metadata": {},
   "source": [
    "Looking at the `names` list, we got some information that we aren't interested in, since it is not their names. We can use string methods to remove this information. For example, by using the `.split()` method!\n",
    "\n",
    "If we look at the list of names that we just scraped, they all have the president's name, and then parenthesis which displays the president's year of birth and year of death (if appplicable). If we split the the string in the opening parenthesis, the first item in the resulting list will be just the name:"
   ]
  },
  {
   "cell_type": "code",
   "execution_count": 170,
   "metadata": {},
   "outputs": [],
   "source": [
    "name = 'George Washington(1732–1799)[17]\\n'"
   ]
  },
  {
   "cell_type": "code",
   "execution_count": 171,
   "metadata": {},
   "outputs": [
    {
     "data": {
      "text/plain": [
       "['George Washington', '1732–1799)[17]\\n']"
      ]
     },
     "execution_count": 171,
     "metadata": {},
     "output_type": "execute_result"
    }
   ],
   "source": [
    "name.split('(')"
   ]
  },
  {
   "cell_type": "code",
   "execution_count": 172,
   "metadata": {},
   "outputs": [
    {
     "data": {
      "text/plain": [
       "'George Washington'"
      ]
     },
     "execution_count": 172,
     "metadata": {},
     "output_type": "execute_result"
    }
   ],
   "source": [
    "name.split('(')[0]"
   ]
  },
  {
   "cell_type": "markdown",
   "metadata": {},
   "source": [
    "Now, let's do this same procedure with all rows in the table:"
   ]
  },
  {
   "cell_type": "code",
   "execution_count": 174,
   "metadata": {},
   "outputs": [
    {
     "name": "stdout",
     "output_type": "stream",
     "text": [
      "George Washington\n",
      "John Adams\n",
      "Thomas Jefferson\n",
      "James Madison\n",
      "James Monroe\n",
      "John Quincy Adams\n",
      "Andrew Jackson\n",
      "Martin Van Buren\n",
      "William Henry Harrison\n",
      "John Tyler\n",
      "James K. Polk\n",
      "Zachary Taylor\n",
      "Millard Fillmore\n",
      "Franklin Pierce\n",
      "James Buchanan\n",
      "Abraham Lincoln\n",
      "Andrew Johnson\n",
      "Ulysses S. Grant\n",
      "Rutherford B. Hayes\n",
      "James A. Garfield\n",
      "Chester A. Arthur\n",
      "Grover Cleveland\n",
      "Benjamin Harrison\n",
      "Grover Cleveland\n",
      "William McKinley\n",
      "Theodore Roosevelt\n",
      "William Howard Taft\n",
      "Woodrow Wilson\n",
      "Warren G. Harding\n",
      "Calvin Coolidge\n",
      "Herbert Hoover\n",
      "Franklin D. Roosevelt\n",
      "Harry S. Truman\n",
      "Dwight D. Eisenhower\n",
      "John F. Kennedy\n",
      "Lyndon B. Johnson\n",
      "Richard Nixon\n",
      "Gerald Ford\n",
      "Jimmy Carter\n",
      "Ronald Reagan\n",
      "George H. W. Bush\n",
      "Bill Clinton\n",
      "George W. Bush\n",
      "Barack Obama\n",
      "Donald Trump\n",
      "Joe Biden\n"
     ]
    }
   ],
   "source": [
    "for row in all_rows:\n",
    "    # get all cells in list like object\n",
    "    all_row_cells = row.find_all('td')\n",
    "    \n",
    "    # get the second cell's text data\n",
    "    cell_text = all_row_cells[1].text \n",
    "    \n",
    "    # split the text in the \n",
    "    cell_text_split = cell_text.split('(') \n",
    "\n",
    "    # return first item in splitted list\n",
    "    name = cell_text_split[0]\n",
    "    \n",
    "    print(name)"
   ]
  },
  {
   "cell_type": "markdown",
   "metadata": {},
   "source": [
    "Ok, so that did the trick!"
   ]
  },
  {
   "cell_type": "markdown",
   "metadata": {},
   "source": [
    "#### Exercise – Scrape President Data and put in data structure"
   ]
  },
  {
   "cell_type": "markdown",
   "metadata": {},
   "source": [
    "In this exercise, I want you to continue with the president table data. See if you can figure out how to extract both the presidents' names and their years of birth and death, and then put the data in a list of dictionaries. Into this structure:\n",
    "\n",
    "```py\n",
    "[\n",
    "    {name:'George Washington','year of birth':'1732','year of death':'1799'},\n",
    "    ... etc etc\n",
    "]\n",
    "```\n",
    "\n",
    "For bonus points: try to extract the information within the parenthesis using the `re` module and a regular expression. \n",
    "\n",
    "The solution can be found in the solutions notebook (found in the same directory as this notebook). Good luck!"
   ]
  },
  {
   "cell_type": "markdown",
   "metadata": {},
   "source": [
    "## Data Alteration Techniques"
   ]
  },
  {
   "cell_type": "markdown",
   "metadata": {},
   "source": [
    "In this chapter, we will learn a few techniques that are built into the Python language that are very good to know when working with data. These techniques is a good introduction before learning more about the `pandas` library. \n",
    "\n",
    "Pandas is filled with methods and functions that help you alter various types of data in certain ways. But the skills learned in this chapter will broaden your understanding of how pandas work, while at the same time making you a more agile pandas user. This chapter is a prelude to chapter 6 in the continuation course, but the things learned here is very useful knowledge even if you're not learning pandas. \n",
    "\n",
    "Let's start with the built-in function `map()`"
   ]
  },
  {
   "cell_type": "markdown",
   "metadata": {},
   "source": [
    "### `map()` – A Function Using a Function"
   ]
  },
  {
   "cell_type": "markdown",
   "metadata": {},
   "source": [
    "In earlier chapters, we've learned how to loop over data structures to alter their content. Like a list for example. Let's say we want to square all integer values in this list:"
   ]
  },
  {
   "cell_type": "code",
   "execution_count": 1,
   "metadata": {},
   "outputs": [],
   "source": [
    "numbers = [1, 2, 3, 4, 5]"
   ]
  },
  {
   "cell_type": "markdown",
   "metadata": {},
   "source": [
    "To square a value, we can use the exponentiation operator `**`:"
   ]
  },
  {
   "cell_type": "code",
   "execution_count": 2,
   "metadata": {},
   "outputs": [
    {
     "data": {
      "text/plain": [
       "9"
      ]
     },
     "execution_count": 2,
     "metadata": {},
     "output_type": "execute_result"
    }
   ],
   "source": [
    "# squaring the integer 3:\n",
    "\n",
    "3 ** 2 # <- same as 3 * 3"
   ]
  },
  {
   "cell_type": "code",
   "execution_count": 3,
   "metadata": {},
   "outputs": [
    {
     "data": {
      "text/plain": [
       "27"
      ]
     },
     "execution_count": 3,
     "metadata": {},
     "output_type": "execute_result"
    }
   ],
   "source": [
    "# cubing the integer 3:\n",
    "\n",
    "3 ** 3 # <- same as 3 * 3 * 3"
   ]
  },
  {
   "cell_type": "markdown",
   "metadata": {},
   "source": [
    "We can use this operator on each value in our list using a for-loop:"
   ]
  },
  {
   "cell_type": "code",
   "execution_count": 4,
   "metadata": {},
   "outputs": [
    {
     "name": "stdout",
     "output_type": "stream",
     "text": [
      "1 squared is 1\n",
      "2 squared is 4\n",
      "3 squared is 9\n",
      "4 squared is 16\n",
      "5 squared is 25\n"
     ]
    }
   ],
   "source": [
    "for value in numbers:\n",
    "    print(f\"{value} squared is {value ** 2}\")"
   ]
  },
  {
   "cell_type": "markdown",
   "metadata": {},
   "source": [
    "If we want to save the squared numbers, we can save them to a new list using the `.append()` method:"
   ]
  },
  {
   "cell_type": "code",
   "execution_count": 5,
   "metadata": {},
   "outputs": [],
   "source": [
    "new_list = []\n",
    "for value in numbers:\n",
    "    new_list.append(value ** 2)"
   ]
  },
  {
   "cell_type": "code",
   "execution_count": 6,
   "metadata": {},
   "outputs": [
    {
     "data": {
      "text/plain": [
       "[1, 2, 3, 4, 5]"
      ]
     },
     "execution_count": 6,
     "metadata": {},
     "output_type": "execute_result"
    }
   ],
   "source": [
    "numbers"
   ]
  },
  {
   "cell_type": "code",
   "execution_count": 7,
   "metadata": {},
   "outputs": [
    {
     "data": {
      "text/plain": [
       "[1, 4, 9, 16, 25]"
      ]
     },
     "execution_count": 7,
     "metadata": {},
     "output_type": "execute_result"
    }
   ],
   "source": [
    "new_list"
   ]
  },
  {
   "cell_type": "markdown",
   "metadata": {},
   "source": [
    "This is easy enough, but not very convenient. We can make it way more condence by using the `map()` function.\n",
    "\n",
    "The map function takes two arguments. The first is a function of some kind. The second is a sequence of values – like a list! The function that is passed as the first argument will then be applied on all the lists values.\n",
    "\n",
    "I will show you, let's start by creating a function that squares integers:"
   ]
  },
  {
   "cell_type": "code",
   "execution_count": 8,
   "metadata": {},
   "outputs": [],
   "source": [
    "def squared(num):\n",
    "    return num ** 2"
   ]
  },
  {
   "cell_type": "code",
   "execution_count": 9,
   "metadata": {},
   "outputs": [
    {
     "data": {
      "text/plain": [
       "9"
      ]
     },
     "execution_count": 9,
     "metadata": {},
     "output_type": "execute_result"
    }
   ],
   "source": [
    "squared(3)"
   ]
  },
  {
   "cell_type": "markdown",
   "metadata": {},
   "source": [
    "We now pass this function as the first argument to the `map()` function, and our list `numbers` as the second argument. The map function will then return a map object:"
   ]
  },
  {
   "cell_type": "code",
   "execution_count": 10,
   "metadata": {},
   "outputs": [
    {
     "data": {
      "text/plain": [
       "<map at 0x113adfb20>"
      ]
     },
     "execution_count": 10,
     "metadata": {},
     "output_type": "execute_result"
    }
   ],
   "source": [
    "map(squared, numbers)"
   ]
  },
  {
   "cell_type": "markdown",
   "metadata": {},
   "source": [
    "We can pass this map object to the `list()` function to get a list:"
   ]
  },
  {
   "cell_type": "code",
   "execution_count": 11,
   "metadata": {},
   "outputs": [
    {
     "data": {
      "text/plain": [
       "[1, 4, 9, 16, 25]"
      ]
     },
     "execution_count": 11,
     "metadata": {},
     "output_type": "execute_result"
    }
   ],
   "source": [
    "list(map(squared, numbers))"
   ]
  },
  {
   "cell_type": "markdown",
   "metadata": {},
   "source": [
    "_(Note that the function `squared()` is not invoked when we pass it as an argument to `map()`. That is, we do not type the parenthesis after our function's name when we want to pass functions as arguments)_"
   ]
  },
  {
   "cell_type": "markdown",
   "metadata": {},
   "source": [
    "So, by using `map()`, you don't need to use for loops if you want to change the individual values within a list. Let's do one more, but with strings this time. Let's say we have a list of strings, and we want to replace all commas in the strings with semicolons. \n",
    "\n",
    "To replace parts of a string, we can use the `.replace()` method. Let's use it in a function:"
   ]
  },
  {
   "cell_type": "code",
   "execution_count": 12,
   "metadata": {},
   "outputs": [],
   "source": [
    "def comma2semicolon(string):\n",
    "    return string.replace(',', ';')"
   ]
  },
  {
   "cell_type": "code",
   "execution_count": 13,
   "metadata": {},
   "outputs": [],
   "source": [
    "test = \",,,,,\""
   ]
  },
  {
   "cell_type": "code",
   "execution_count": 14,
   "metadata": {},
   "outputs": [
    {
     "data": {
      "text/plain": [
       "';;;;;'"
      ]
     },
     "execution_count": 14,
     "metadata": {},
     "output_type": "execute_result"
    }
   ],
   "source": [
    "comma2semicolon(test)"
   ]
  },
  {
   "cell_type": "markdown",
   "metadata": {},
   "source": [
    "A list of strings:"
   ]
  },
  {
   "cell_type": "code",
   "execution_count": 15,
   "metadata": {},
   "outputs": [],
   "source": [
    "strings = [\"Ekman, Johan\", \"Karlsson, Stefan\", \"Frodesjö, Cecilia\", \"Smith, John\"]"
   ]
  },
  {
   "cell_type": "markdown",
   "metadata": {},
   "source": [
    "Now, let's try our function in a `map()` function:"
   ]
  },
  {
   "cell_type": "code",
   "execution_count": 16,
   "metadata": {},
   "outputs": [
    {
     "data": {
      "text/plain": [
       "['Ekman; Johan', 'Karlsson; Stefan', 'Frodesjö; Cecilia', 'Smith; John']"
      ]
     },
     "execution_count": 16,
     "metadata": {},
     "output_type": "execute_result"
    }
   ],
   "source": [
    "list(map(comma2semicolon, strings))"
   ]
  },
  {
   "cell_type": "markdown",
   "metadata": {},
   "source": [
    "There you go!"
   ]
  },
  {
   "cell_type": "markdown",
   "metadata": {},
   "source": [
    "### `filter()` – Return If `True`"
   ]
  },
  {
   "cell_type": "markdown",
   "metadata": {},
   "source": [
    "Ok! So now you now how you can use `map()` to change lists' values. This is very useful, since it is very VERY common to work with lists and to alter their contents. \n",
    "\n",
    "Another very common task when using lists is to filter them. Our lists are often filled with many values and we sometimes only want to use some of them. Let's use an example:"
   ]
  },
  {
   "cell_type": "code",
   "execution_count": 17,
   "metadata": {},
   "outputs": [],
   "source": [
    "numbers = [2, 43, 310, -4, -23, 67, 11, -103]"
   ]
  },
  {
   "cell_type": "markdown",
   "metadata": {},
   "source": [
    "Now, let's say that we only want to display the negative values in this list. We could do so using an if-statement in a for-loop:"
   ]
  },
  {
   "cell_type": "code",
   "execution_count": 18,
   "metadata": {},
   "outputs": [
    {
     "name": "stdout",
     "output_type": "stream",
     "text": [
      "-4\n",
      "-23\n",
      "-103\n"
     ]
    }
   ],
   "source": [
    "for value in numbers:\n",
    "    if value < 0:\n",
    "        print(value)"
   ]
  },
  {
   "cell_type": "markdown",
   "metadata": {},
   "source": [
    "And we could create a new list, using this for-loop:"
   ]
  },
  {
   "cell_type": "code",
   "execution_count": 19,
   "metadata": {},
   "outputs": [],
   "source": [
    "negatives = []\n",
    "for value in numbers:\n",
    "    if value < 0:\n",
    "        negatives.append(value)"
   ]
  },
  {
   "cell_type": "code",
   "execution_count": 20,
   "metadata": {},
   "outputs": [
    {
     "data": {
      "text/plain": [
       "[-4, -23, -103]"
      ]
     },
     "execution_count": 20,
     "metadata": {},
     "output_type": "execute_result"
    }
   ],
   "source": [
    "negatives"
   ]
  },
  {
   "cell_type": "markdown",
   "metadata": {},
   "source": [
    "Let's make this a bit more condenced. Instead of using a if-statement, we can use the comparison expression in a function, like so:"
   ]
  },
  {
   "cell_type": "code",
   "execution_count": 21,
   "metadata": {},
   "outputs": [],
   "source": [
    "def is_negative(num):\n",
    "    return num < 0"
   ]
  },
  {
   "cell_type": "code",
   "execution_count": 22,
   "metadata": {},
   "outputs": [
    {
     "data": {
      "text/plain": [
       "False"
      ]
     },
     "execution_count": 22,
     "metadata": {},
     "output_type": "execute_result"
    }
   ],
   "source": [
    "is_negative(3)"
   ]
  },
  {
   "cell_type": "code",
   "execution_count": 23,
   "metadata": {},
   "outputs": [
    {
     "data": {
      "text/plain": [
       "True"
      ]
     },
     "execution_count": 23,
     "metadata": {},
     "output_type": "execute_result"
    }
   ],
   "source": [
    "is_negative(-3)"
   ]
  },
  {
   "cell_type": "markdown",
   "metadata": {},
   "source": [
    "Let's try our new function in a `map()` function:"
   ]
  },
  {
   "cell_type": "code",
   "execution_count": 24,
   "metadata": {},
   "outputs": [
    {
     "data": {
      "text/plain": [
       "[False, False, False, True, True, False, False, True]"
      ]
     },
     "execution_count": 24,
     "metadata": {},
     "output_type": "execute_result"
    }
   ],
   "source": [
    "list(map(is_negative, numbers))"
   ]
  },
  {
   "cell_type": "code",
   "execution_count": 25,
   "metadata": {},
   "outputs": [
    {
     "data": {
      "text/plain": [
       "[2, 43, 310, -4, -23, 67, 11, -103]"
      ]
     },
     "execution_count": 25,
     "metadata": {},
     "output_type": "execute_result"
    }
   ],
   "source": [
    "numbers"
   ]
  },
  {
   "cell_type": "markdown",
   "metadata": {},
   "source": [
    "Ok, so that isn't very helpful :)\n",
    "\n",
    "We can, however, use the built-in `filter()` function! It also takes two arguments: first, a function that takes a value as an argument, and then returns either `True` or `False`. Like our function `is_negative()`! The second argument to `filter()` is a sequence of values, like a list. The filter function then returns a filter object. We can use the `list()` function on this filter object to get all values that are evaluated to `True`:"
   ]
  },
  {
   "cell_type": "code",
   "execution_count": 26,
   "metadata": {},
   "outputs": [
    {
     "data": {
      "text/plain": [
       "[-4, -23, -103]"
      ]
     },
     "execution_count": 26,
     "metadata": {},
     "output_type": "execute_result"
    }
   ],
   "source": [
    "list(filter(is_negative, numbers))"
   ]
  },
  {
   "cell_type": "markdown",
   "metadata": {},
   "source": [
    "#### Exercise – Filter the EU Member States, Part 1"
   ]
  },
  {
   "cell_type": "markdown",
   "metadata": {},
   "source": [
    "In this exercise, you will filter this list of dictionaries:"
   ]
  },
  {
   "cell_type": "code",
   "execution_count": 27,
   "metadata": {},
   "outputs": [],
   "source": [
    "eu_members = [{'Country': 'Austria', 'population': 8901064},\n",
    " {'Country': 'Estonia', 'population': 1328976},\n",
    " {'Country': 'Ireland', 'population': 4963839},\n",
    " {'Country': 'Slovakia', 'population': 5457873},\n",
    " {'Country': 'Cyprus', 'population': 888005},\n",
    " {'Country': 'Sweden', 'population': 10327589},\n",
    " {'Country': 'Netherlands', 'population': 17407585},\n",
    " {'Country': 'Latvia', 'population': 1907675},\n",
    " {'Country': 'Malta', 'population': 514564},\n",
    " {'Country': 'Slovenia', 'population': 2095861},\n",
    " {'Country': 'France', 'population': 67098824},\n",
    " {'Country': 'Denmark', 'population': 5822763},\n",
    " {'Country': 'Croatia', 'population': 4058165},\n",
    " {'Country': 'Italy', 'population': 60244639},\n",
    " {'Country': 'Hungary', 'population': 9769526},\n",
    " {'Country': 'Lithuania', 'population': 2794090},\n",
    " {'Country': 'Czech Republic', 'population': 10693939},\n",
    " {'Country': 'Poland', 'population': 37958138},\n",
    " {'Country': 'Romania', 'population': 19317984},\n",
    " {'Country': 'Bulgaria', 'population': 6951482},\n",
    " {'Country': 'Finland', 'population': 552529},\n",
    " {'Country': 'Portugal', 'population': 10295909},\n",
    " {'Country': 'Greece', 'population': 10709739},\n",
    " {'Country': 'Belgium', 'population': 11549888},\n",
    " {'Country': 'Spain', 'population': 47329981},\n",
    " {'Country': 'Germany', 'population': 83166711},\n",
    " {'Country': 'Luxembourg', 'population': 626108}]"
   ]
  },
  {
   "cell_type": "markdown",
   "metadata": {},
   "source": [
    "I want you to use the filter function so that you filter the EU member states with a population less than 10 million. The function should return the states with less than 10 million in population count.\n",
    "\n",
    "The solution can be found in the solutions notebook. Good luck!"
   ]
  },
  {
   "cell_type": "markdown",
   "metadata": {},
   "source": [
    "### Lambda Functions"
   ]
  },
  {
   "cell_type": "markdown",
   "metadata": {},
   "source": [
    "Another very powerful technique in Python, is **lambda functions**. They are small, anonymous functions that use a more concise syntax. Since they are small, they're also more limited in their functionality than regular Python functions. But it is their \"smallness\" that is their strength – using lambda functions, we can define functions in just one line of code. \n",
    "\n",
    "Let's go through a simple example. Take this regular function, it simply multiplies any numeric value by three:"
   ]
  },
  {
   "cell_type": "code",
   "execution_count": 28,
   "metadata": {},
   "outputs": [],
   "source": [
    "def multiply(num):\n",
    "    return num * 3"
   ]
  },
  {
   "cell_type": "code",
   "execution_count": 29,
   "metadata": {},
   "outputs": [
    {
     "data": {
      "text/plain": [
       "15"
      ]
     },
     "execution_count": 29,
     "metadata": {},
     "output_type": "execute_result"
    }
   ],
   "source": [
    "multiply(5)"
   ]
  },
  {
   "cell_type": "code",
   "execution_count": 30,
   "metadata": {},
   "outputs": [
    {
     "data": {
      "text/plain": [
       "<function __main__.multiply(num)>"
      ]
     },
     "execution_count": 30,
     "metadata": {},
     "output_type": "execute_result"
    }
   ],
   "source": [
    "multiply"
   ]
  },
  {
   "cell_type": "markdown",
   "metadata": {},
   "source": [
    "Just returning the function without invoking it gives us `<function __main__.multiply(num)>`. So it's a function called \"multiply\". Let's also check its type:"
   ]
  },
  {
   "cell_type": "code",
   "execution_count": 31,
   "metadata": {},
   "outputs": [
    {
     "data": {
      "text/plain": [
       "function"
      ]
     },
     "execution_count": 31,
     "metadata": {},
     "output_type": "execute_result"
    }
   ],
   "source": [
    "type(multiply)"
   ]
  },
  {
   "cell_type": "markdown",
   "metadata": {},
   "source": [
    "This function consists of the following parts:\n",
    "- the `def` keyword\n",
    "- the function's name, `multiply`\n",
    "- the function's parameter, `num`\n",
    "- the colon `:` that denotes the end of the function's header\n",
    "- the function's body (or code block), with a return statement `return num * 3`\n"
   ]
  },
  {
   "cell_type": "markdown",
   "metadata": {},
   "source": [
    "Let's create the same function, but a lambda function instead:"
   ]
  },
  {
   "cell_type": "code",
   "execution_count": 32,
   "metadata": {},
   "outputs": [
    {
     "data": {
      "text/plain": [
       "<function __main__.<lambda>(num)>"
      ]
     },
     "execution_count": 32,
     "metadata": {},
     "output_type": "execute_result"
    }
   ],
   "source": [
    "lambda num: num * 3"
   ]
  },
  {
   "cell_type": "markdown",
   "metadata": {},
   "source": [
    "A lambda function consists of:\n",
    "- the keyword `lambda`\n",
    "- the argument `num`\n",
    "- the colon `:` seperating lambda definition from its body\n",
    "- the body `num * 3`\n",
    "\n",
    "Let's save the lambda function to a variable and then invoke it:"
   ]
  },
  {
   "cell_type": "code",
   "execution_count": 33,
   "metadata": {},
   "outputs": [],
   "source": [
    "multiply_lambda = lambda num: num * 3"
   ]
  },
  {
   "cell_type": "code",
   "execution_count": 34,
   "metadata": {},
   "outputs": [
    {
     "data": {
      "text/plain": [
       "15"
      ]
     },
     "execution_count": 34,
     "metadata": {},
     "output_type": "execute_result"
    }
   ],
   "source": [
    "multiply_lambda(5)"
   ]
  },
  {
   "cell_type": "code",
   "execution_count": 35,
   "metadata": {},
   "outputs": [
    {
     "data": {
      "text/plain": [
       "15"
      ]
     },
     "execution_count": 35,
     "metadata": {},
     "output_type": "execute_result"
    }
   ],
   "source": [
    "multiply(5)"
   ]
  },
  {
   "cell_type": "code",
   "execution_count": 36,
   "metadata": {},
   "outputs": [
    {
     "data": {
      "text/plain": [
       "function"
      ]
     },
     "execution_count": 36,
     "metadata": {},
     "output_type": "execute_result"
    }
   ],
   "source": [
    "type(multiply_lambda)"
   ]
  },
  {
   "cell_type": "markdown",
   "metadata": {},
   "source": [
    "As you can see, the `multiply_lambda` variable is also a function, and by invoking it, we get the same result as with the regular function `multiply`. \n",
    "\n",
    "Ok, so why is this useful? Well, since lambdas are smaller (we don't need to give our lambdas any name for example), **we can use lambda functions inline**. That is, we don't need to save them to variable names, and can instead define them as we go. Take this list as an example:"
   ]
  },
  {
   "cell_type": "code",
   "execution_count": 37,
   "metadata": {},
   "outputs": [],
   "source": [
    "numbers = list(range(10))"
   ]
  },
  {
   "cell_type": "code",
   "execution_count": 38,
   "metadata": {},
   "outputs": [
    {
     "data": {
      "text/plain": [
       "[0, 1, 2, 3, 4, 5, 6, 7, 8, 9]"
      ]
     },
     "execution_count": 38,
     "metadata": {},
     "output_type": "execute_result"
    }
   ],
   "source": [
    "numbers"
   ]
  },
  {
   "cell_type": "markdown",
   "metadata": {},
   "source": [
    "Let's say we want to square all values within the list. We can use the `map()` function for this. But we need a function to pass to `map()`, so let's define one:"
   ]
  },
  {
   "cell_type": "code",
   "execution_count": 39,
   "metadata": {},
   "outputs": [],
   "source": [
    "def square(num):\n",
    "    return num ** 2"
   ]
  },
  {
   "cell_type": "code",
   "execution_count": 40,
   "metadata": {},
   "outputs": [
    {
     "data": {
      "text/plain": [
       "[0, 1, 4, 9, 16, 25, 36, 49, 64, 81]"
      ]
     },
     "execution_count": 40,
     "metadata": {},
     "output_type": "execute_result"
    }
   ],
   "source": [
    "list(map(square, numbers))"
   ]
  },
  {
   "cell_type": "markdown",
   "metadata": {},
   "source": [
    "If we would use a lambda function instead, we won't need to first declare our function to a namespace. We can just type the lambda inline – _inside the `map()` function!_"
   ]
  },
  {
   "cell_type": "code",
   "execution_count": 41,
   "metadata": {},
   "outputs": [
    {
     "data": {
      "text/plain": [
       "[0, 1, 4, 9, 16, 25, 36, 49, 64, 81]"
      ]
     },
     "execution_count": 41,
     "metadata": {},
     "output_type": "execute_result"
    }
   ],
   "source": [
    "list(map(lambda num: num ** 2, numbers))"
   ]
  },
  {
   "cell_type": "markdown",
   "metadata": {},
   "source": [
    "See? Kind of neat, isn't it?\n",
    "\n",
    "**The reason this works is because lambda declarations are expressions, not statements**. When we declare them, they return an lambda function object to us. When we define regular functions, we do so in a statement that don't return anything. The statement just save the function into memory.\n",
    "\n",
    "As you probably noticed, there are no parenthesis enclosing the arguments in lambda functinos. But this doesn't mean we can't have more than one argument. If you want two or more arguments, you can just seperate them with a comma. Check out this one, adding two numbers together:"
   ]
  },
  {
   "cell_type": "code",
   "execution_count": 42,
   "metadata": {},
   "outputs": [],
   "source": [
    "test = lambda x, y: x + y"
   ]
  },
  {
   "cell_type": "code",
   "execution_count": 43,
   "metadata": {},
   "outputs": [
    {
     "data": {
      "text/plain": [
       "9"
      ]
     },
     "execution_count": 43,
     "metadata": {},
     "output_type": "execute_result"
    }
   ],
   "source": [
    "test(5, 4)"
   ]
  },
  {
   "cell_type": "markdown",
   "metadata": {},
   "source": [
    "Using lambdas, we can do both `map()` and `filter()` in one line of code! Let's take another example. \n",
    "\n",
    "Here, we will filter out all numbers that are even, and then square them."
   ]
  },
  {
   "cell_type": "markdown",
   "metadata": {},
   "source": [
    "To filter all even numbers, we can use the remainder operator, or the **modulo operator** `%`. This is a mathematical concept, and isn't important to know in detail if you just want to learn how to get all even numbers in a list of integers. First, I will give a longer explanation. Then below, there will be a short TLDR version that only tells you how to check to see if numbers are odd, or even.\n",
    "\n",
    "**The long explanation:**\n",
    "\n",
    "A modulos is the number that defines the value limit in a modular arithmetic – an integer arithmetic in a circular number line. A common example is counting the time on a basic wrist watch, the hours goes up to twelve, then resets to 1 in cycles. On a watch, the modulus is 12 (or 24). \n",
    "\n",
    "The modulo operator returns what's left of a value compared to the modular limit. Let's return to the example with time on a watch again, and let's say you have a watch that counts the time in 12 hour intervals. Imagine that someone asks you if the time is 17 o'clock yet. The modulos operator is how we would check to see what that number – 17 – would be equal to _on your watch_. What is the integer 17 equal to if we're using a circular number line with the modulos 12? Well, let's have a look:"
   ]
  },
  {
   "cell_type": "code",
   "execution_count": 44,
   "metadata": {},
   "outputs": [
    {
     "data": {
      "text/plain": [
       "5"
      ]
     },
     "execution_count": 44,
     "metadata": {},
     "output_type": "execute_result"
    }
   ],
   "source": [
    "17 % 12"
   ]
  },
  {
   "cell_type": "markdown",
   "metadata": {},
   "source": [
    "It is 5! The answer is 5 o'clock! \n",
    "\n",
    "To go even further, if we would use a huge number, say 125, the modular operator would divide this number by the modular limit (12 in our case), then return what ever value that remains. Can you guess what the return is?"
   ]
  },
  {
   "cell_type": "code",
   "execution_count": 45,
   "metadata": {},
   "outputs": [
    {
     "data": {
      "text/plain": [
       "5"
      ]
     },
     "execution_count": 45,
     "metadata": {},
     "output_type": "execute_result"
    }
   ],
   "source": [
    "125 % 12"
   ]
  },
  {
   "cell_type": "markdown",
   "metadata": {},
   "source": [
    "This is why it's also called the **remainder operator**, it returns what remains. So, if we want to check if any number is either even or odd, we can just use the modulus 2! If the result is 0, this means that the number is evenly dividable by 2. If the result is 1, it isn't evenly dividable by 2 and, hence, an odd number. Let's try a few examples. Remember, all numbers that are even should return 0:"
   ]
  },
  {
   "cell_type": "code",
   "execution_count": 46,
   "metadata": {},
   "outputs": [
    {
     "data": {
      "text/plain": [
       "0"
      ]
     },
     "execution_count": 46,
     "metadata": {},
     "output_type": "execute_result"
    }
   ],
   "source": [
    "34 % 2 # even"
   ]
  },
  {
   "cell_type": "code",
   "execution_count": 47,
   "metadata": {},
   "outputs": [
    {
     "data": {
      "text/plain": [
       "1"
      ]
     },
     "execution_count": 47,
     "metadata": {},
     "output_type": "execute_result"
    }
   ],
   "source": [
    "33 % 2 # not even"
   ]
  },
  {
   "cell_type": "code",
   "execution_count": 48,
   "metadata": {},
   "outputs": [
    {
     "data": {
      "text/plain": [
       "1"
      ]
     },
     "execution_count": 48,
     "metadata": {},
     "output_type": "execute_result"
    }
   ],
   "source": [
    "4213 % 2"
   ]
  },
  {
   "cell_type": "code",
   "execution_count": 49,
   "metadata": {},
   "outputs": [
    {
     "data": {
      "text/plain": [
       "0"
      ]
     },
     "execution_count": 49,
     "metadata": {},
     "output_type": "execute_result"
    }
   ],
   "source": [
    "1214 % 2"
   ]
  },
  {
   "cell_type": "markdown",
   "metadata": {},
   "source": [
    "So to conclude:\n",
    "\n",
    "**HERE'S THE TLDR-VERSION**\n",
    "\n",
    "If we want to check if a number is odd or even, we take the number, followed by the modulos operator and a 2. If the result is 0, then the number in question is even. If it's 1 the number is odd:"
   ]
  },
  {
   "cell_type": "code",
   "execution_count": 50,
   "metadata": {},
   "outputs": [
    {
     "data": {
      "text/plain": [
       "1"
      ]
     },
     "execution_count": 50,
     "metadata": {},
     "output_type": "execute_result"
    }
   ],
   "source": [
    "3 % 2 # odd"
   ]
  },
  {
   "cell_type": "code",
   "execution_count": 51,
   "metadata": {},
   "outputs": [
    {
     "data": {
      "text/plain": [
       "1"
      ]
     },
     "execution_count": 51,
     "metadata": {},
     "output_type": "execute_result"
    }
   ],
   "source": [
    "43 % 2 # odd"
   ]
  },
  {
   "cell_type": "code",
   "execution_count": 52,
   "metadata": {},
   "outputs": [
    {
     "data": {
      "text/plain": [
       "0"
      ]
     },
     "execution_count": 52,
     "metadata": {},
     "output_type": "execute_result"
    }
   ],
   "source": [
    "12 % 2 # even"
   ]
  },
  {
   "cell_type": "markdown",
   "metadata": {},
   "source": [
    "**Back to the section subject – lambda functions**\n",
    "\n",
    "So, we can use lambdas to help us both filter AND map results onto a list. Let's try to only square the even numbers in tis list:"
   ]
  },
  {
   "cell_type": "code",
   "execution_count": 53,
   "metadata": {},
   "outputs": [],
   "source": [
    "numbers = list(range(20))"
   ]
  },
  {
   "cell_type": "code",
   "execution_count": 54,
   "metadata": {},
   "outputs": [
    {
     "data": {
      "text/plain": [
       "[0, 1, 2, 3, 4, 5, 6, 7, 8, 9, 10, 11, 12, 13, 14, 15, 16, 17, 18, 19]"
      ]
     },
     "execution_count": 54,
     "metadata": {},
     "output_type": "execute_result"
    }
   ],
   "source": [
    "numbers"
   ]
  },
  {
   "cell_type": "markdown",
   "metadata": {},
   "source": [
    "Ok! So we first want a lambda function that tells us if a number is even or not. To do so, we can use a comparison expression to see if the number mod by 2 is equal to 0. If that is `True`, it is an even number. Let me show you what I mean:"
   ]
  },
  {
   "cell_type": "code",
   "execution_count": 55,
   "metadata": {},
   "outputs": [
    {
     "data": {
      "text/plain": [
       "True"
      ]
     },
     "execution_count": 55,
     "metadata": {},
     "output_type": "execute_result"
    }
   ],
   "source": [
    "12 % 2 == 0 # 12 mod 2 equals 0 is True, which means that 12 is an even number!"
   ]
  },
  {
   "cell_type": "markdown",
   "metadata": {},
   "source": [
    "Let's put this pattern in a lambda function:"
   ]
  },
  {
   "cell_type": "code",
   "execution_count": 56,
   "metadata": {},
   "outputs": [
    {
     "data": {
      "text/plain": [
       "<function __main__.<lambda>(num)>"
      ]
     },
     "execution_count": 56,
     "metadata": {},
     "output_type": "execute_result"
    }
   ],
   "source": [
    "lambda num: num % 2 == 0"
   ]
  },
  {
   "cell_type": "markdown",
   "metadata": {},
   "source": [
    "Now, let's place this lambda in a `filter()` function and try it on our list:"
   ]
  },
  {
   "cell_type": "code",
   "execution_count": 57,
   "metadata": {},
   "outputs": [],
   "source": [
    "even_numbers = list(filter(lambda num: num % 2 == 0, numbers))"
   ]
  },
  {
   "cell_type": "code",
   "execution_count": 58,
   "metadata": {},
   "outputs": [
    {
     "data": {
      "text/plain": [
       "[0, 2, 4, 6, 8, 10, 12, 14, 16, 18]"
      ]
     },
     "execution_count": 58,
     "metadata": {},
     "output_type": "execute_result"
    }
   ],
   "source": [
    "even_numbers"
   ]
  },
  {
   "cell_type": "markdown",
   "metadata": {},
   "source": [
    "Success! Now, we want to square these even numbers with the `map()` function. But in the map function, we will also use a lambda:"
   ]
  },
  {
   "cell_type": "code",
   "execution_count": 59,
   "metadata": {},
   "outputs": [
    {
     "data": {
      "text/plain": [
       "<function __main__.<lambda>(num)>"
      ]
     },
     "execution_count": 59,
     "metadata": {},
     "output_type": "execute_result"
    }
   ],
   "source": [
    "lambda num: num ** 2"
   ]
  },
  {
   "cell_type": "markdown",
   "metadata": {},
   "source": [
    "Let's put it in a map function and use it on our even numbers:"
   ]
  },
  {
   "cell_type": "code",
   "execution_count": 60,
   "metadata": {},
   "outputs": [
    {
     "data": {
      "text/plain": [
       "[0, 4, 16, 36, 64, 100, 144, 196, 256, 324]"
      ]
     },
     "execution_count": 60,
     "metadata": {},
     "output_type": "execute_result"
    }
   ],
   "source": [
    "list(map(lambda num: num ** 2, even_numbers))"
   ]
  },
  {
   "cell_type": "markdown",
   "metadata": {},
   "source": [
    "Now, let's not save our filtered even numbers into a variable. We can actually just use lambdas and do the entire operation on one line of code:"
   ]
  },
  {
   "cell_type": "code",
   "execution_count": 61,
   "metadata": {},
   "outputs": [
    {
     "data": {
      "text/plain": [
       "[0, 4, 16, 36, 64, 100, 144, 196, 256, 324]"
      ]
     },
     "execution_count": 61,
     "metadata": {},
     "output_type": "execute_result"
    }
   ],
   "source": [
    "list(map(lambda num: num ** 2, list(filter(lambda num: num % 2 == 0, numbers))))"
   ]
  },
  {
   "cell_type": "markdown",
   "metadata": {},
   "source": [
    "Huh? What happend there?\n",
    "\n",
    "Let me break it down for you:\n",
    "\n",
    "we call the `map()` function, and we give it two arguments:\n",
    "1. a lambda function that squares numbers `lambda num: num ** 2`\n",
    "2. a list\n",
    "\n",
    "The second argument of our map function, the list, is actually the result of our `filter()` function. This function also has two arguments:\n",
    "1. a lambda function that returns True if a number is even `lambda num: num % 2 == 0`\n",
    "2. our variable `numbers` that contains 20 values (the integers 0 to 19)\n",
    "\n",
    "Both the `map()` and `filter()` functions are within `list()` functions so that they return actual lists and not map/filter objects.\n",
    "\n",
    "When we run this line of code, the interpreter first calls the filter function which uses its lambda calculation on all integer values within the `numbers` list and returns all even numbers. Then the `map()` function is called, which uses its lambda to square all these returned even numbers.\n",
    "\n",
    "Pretty cool! BUT, not very readable. The reason to show you this is more to let you see how to be flexible using lambda functions. This way of using it, makes our code rather messy. But it is possible!"
   ]
  },
  {
   "cell_type": "markdown",
   "metadata": {},
   "source": [
    "Let's move on to another coding pattern that also let's us map and filter at the same time. But that is both quicker to type and easier to understand – list comprehensions."
   ]
  },
  {
   "cell_type": "markdown",
   "metadata": {},
   "source": [
    "### List Comprehensions"
   ]
  },
  {
   "cell_type": "markdown",
   "metadata": {},
   "source": [
    "The `map()` and `filter()` functions are great to introduce you to how to manage and alter lists and other data structures in Python. Hopefully, you've realised how we can write more efficient and condence code, without sacrificing readability!\n",
    "\n",
    "Now, to build on this, we will learn a very VERY useful technique for quickly altering lists in Python – **list comprehensions**. This isn't a function, it is _a pattern_ you can use that works as a super fast mini for-loop.\n",
    "\n",
    "Let's start with the a normal for-loop. Let's return to our list where we want to square all numbers in the list:"
   ]
  },
  {
   "cell_type": "code",
   "execution_count": 62,
   "metadata": {},
   "outputs": [],
   "source": [
    "numbers = [1, 2, 3, 4, 5]"
   ]
  },
  {
   "cell_type": "markdown",
   "metadata": {},
   "source": [
    "Now, if we would like to create a new list with all these numbers squared, using only a for-loop, we can do so:"
   ]
  },
  {
   "cell_type": "code",
   "execution_count": 63,
   "metadata": {},
   "outputs": [],
   "source": [
    "squared_numbers = []\n",
    "for num in numbers:\n",
    "    squared_numbers.append(num ** 2)"
   ]
  },
  {
   "cell_type": "code",
   "execution_count": 64,
   "metadata": {},
   "outputs": [
    {
     "data": {
      "text/plain": [
       "[1, 4, 9, 16, 25]"
      ]
     },
     "execution_count": 64,
     "metadata": {},
     "output_type": "execute_result"
    }
   ],
   "source": [
    "squared_numbers"
   ]
  },
  {
   "cell_type": "markdown",
   "metadata": {},
   "source": [
    "**Let's break down the syntax of this for-loop:**\n",
    "\n",
    "We create the variable name `num` that is assigned to each value in the `numbers` list in each iteration. Then, in each sequence, we use that variable `num` – we square it and append it to our new list `squared_numbers`.\n",
    "\n",
    "So, in other words, for each `num` of all `num` we iterate over (in the list `numbers`), we square them. We could type this in another way:\n",
    "\n",
    "`num ** 2 for num in numbers`\n",
    "\n",
    "This would mean \"square `num` for each `num` you find in the list `numbers`\" \n",
    "\n",
    "Above is, in fact, the syntax for a list comprehension in Python. We just add parenthesis:"
   ]
  },
  {
   "cell_type": "code",
   "execution_count": 65,
   "metadata": {},
   "outputs": [
    {
     "data": {
      "text/plain": [
       "[1, 4, 9, 16, 25]"
      ]
     },
     "execution_count": 65,
     "metadata": {},
     "output_type": "execute_result"
    }
   ],
   "source": [
    "[num ** 2 for num in numbers]"
   ]
  },
  {
   "cell_type": "markdown",
   "metadata": {},
   "source": [
    "This list comprehension produce the exact same result as when we squared the list's values using `map()` earlier:"
   ]
  },
  {
   "cell_type": "code",
   "execution_count": 66,
   "metadata": {},
   "outputs": [],
   "source": [
    "def squared(num):\n",
    "    return num ** 2"
   ]
  },
  {
   "cell_type": "code",
   "execution_count": 67,
   "metadata": {},
   "outputs": [
    {
     "data": {
      "text/plain": [
       "[1, 4, 9, 16, 25]"
      ]
     },
     "execution_count": 67,
     "metadata": {},
     "output_type": "execute_result"
    }
   ],
   "source": [
    "list(map(squared, numbers))"
   ]
  },
  {
   "cell_type": "markdown",
   "metadata": {},
   "source": [
    "But instead of three lines of code and using all-in-all three functions, we can get the same result with just one line of code! Cool huh? \n",
    "\n",
    "The usual syntax that you will see if you google list comprehensions in Python is typing it like this, using `x` as the name of the list's values:"
   ]
  },
  {
   "cell_type": "code",
   "execution_count": 68,
   "metadata": {},
   "outputs": [
    {
     "data": {
      "text/plain": [
       "[1, 2, 3, 4, 5]"
      ]
     },
     "execution_count": 68,
     "metadata": {},
     "output_type": "execute_result"
    }
   ],
   "source": [
    "[x for x in numbers] # \"just return x for each x in the list 'numbers', please\""
   ]
  },
  {
   "cell_type": "markdown",
   "metadata": {},
   "source": [
    "...which just return the list, since we don't do anything with its values. List comprehensions always return a new list. And this is a one line piece of code that makes working with lists much much easier.\n",
    "\n",
    "This is not only way more condence and readable, it is also lightning fast. The list comprehension is almost three times faster than the for loop!\n",
    "\n",
    "We can also add a comparison expression to the list comprehension. Let's say we only want to return all negative numbers in this list:\n",
    "\n"
   ]
  },
  {
   "cell_type": "code",
   "execution_count": 69,
   "metadata": {},
   "outputs": [],
   "source": [
    "numbers = [2, 43, 310, -4, -23, 67, 11, -103]"
   ]
  },
  {
   "cell_type": "code",
   "execution_count": 70,
   "metadata": {},
   "outputs": [
    {
     "data": {
      "text/plain": [
       "[-4, -23, -103]"
      ]
     },
     "execution_count": 70,
     "metadata": {},
     "output_type": "execute_result"
    }
   ],
   "source": [
    "[x for x in numbers if x < 0]"
   ]
  },
  {
   "cell_type": "markdown",
   "metadata": {},
   "source": [
    "In the above list comprehension, we don't alter the values. But we conditioned it by adding the comparison expression `if x < 0`. This code means for give me each value in the list `numbers` – _if_ the value is below 0.\n",
    "\n",
    "This is the same result we would get if we used the `filter()` function we used in the above section:"
   ]
  },
  {
   "cell_type": "code",
   "execution_count": 71,
   "metadata": {},
   "outputs": [],
   "source": [
    "def is_negative(num):\n",
    "    return num < 0"
   ]
  },
  {
   "cell_type": "code",
   "execution_count": 72,
   "metadata": {},
   "outputs": [
    {
     "data": {
      "text/plain": [
       "[-4, -23, -103]"
      ]
     },
     "execution_count": 72,
     "metadata": {},
     "output_type": "execute_result"
    }
   ],
   "source": [
    "list(filter(is_negative, numbers))"
   ]
  },
  {
   "cell_type": "markdown",
   "metadata": {},
   "source": [
    "We can also combine the two techniques, so that our list comprehension functions as if we would use `map()` and `filter()` combined. Let's take the same list, and convert all the negative numbers into positive ones. We do so by multiplying with -1. Let's do so on a new list:"
   ]
  },
  {
   "cell_type": "code",
   "execution_count": 73,
   "metadata": {},
   "outputs": [],
   "source": [
    "numbers = [1, -2, -3, 4, -5, 6, 7, 8, -9, 10, -11, -12, 13, 14]"
   ]
  },
  {
   "cell_type": "code",
   "execution_count": 74,
   "metadata": {},
   "outputs": [
    {
     "data": {
      "text/plain": [
       "[2, 3, 5, 9, 11, 12]"
      ]
     },
     "execution_count": 74,
     "metadata": {},
     "output_type": "execute_result"
    }
   ],
   "source": [
    "[x * -1 for x in numbers if x < 0]"
   ]
  },
  {
   "cell_type": "markdown",
   "metadata": {},
   "source": [
    "You can actually have more than one comparison expression, if you include boolean operators. For instance, if we want to convert all negative numbers between 0 and -5 into positives, we can use `and`:"
   ]
  },
  {
   "cell_type": "code",
   "execution_count": 75,
   "metadata": {},
   "outputs": [
    {
     "data": {
      "text/plain": [
       "[2, 3]"
      ]
     },
     "execution_count": 75,
     "metadata": {},
     "output_type": "execute_result"
    }
   ],
   "source": [
    "[x * -1 for x in numbers if x < 0 and x > -5]"
   ]
  },
  {
   "cell_type": "markdown",
   "metadata": {},
   "source": [
    "Now we're getting close to one of the few things that are on the negative side of using list comprehensions. They are _extremly_ useful, but they tend to be rather complicated. Just because you can use many comparison expressions in your list comprehension, doesn't mean you should. Just remember that what you gain in efficiency, you may loose in readablility. \n",
    "\n",
    "A complicated list comprehension isn't very readable."
   ]
  },
  {
   "cell_type": "markdown",
   "metadata": {},
   "source": [
    "But all-in-all, list comprehensions are great! You should use them! :)"
   ]
  },
  {
   "cell_type": "markdown",
   "metadata": {},
   "source": [
    "#### Exercise – Filter the EU Member States, Part 2"
   ]
  },
  {
   "cell_type": "markdown",
   "metadata": {},
   "source": [
    "Here, you shall do exactly the same thing as in the last exercise. But this time, use a list comprehension instead of the `filter()` function. In other words, use a list comprehension to filter out all dictionaries where the population is lower than 10 million.\n",
    "\n",
    "Here is the data:"
   ]
  },
  {
   "cell_type": "code",
   "execution_count": 76,
   "metadata": {},
   "outputs": [],
   "source": [
    "eu_members = [{'Country': 'Austria', 'population': 8901064},\n",
    " {'Country': 'Estonia', 'population': 1328976},\n",
    " {'Country': 'Ireland', 'population': 4963839},\n",
    " {'Country': 'Slovakia', 'population': 5457873},\n",
    " {'Country': 'Cyprus', 'population': 888005},\n",
    " {'Country': 'Sweden', 'population': 10327589},\n",
    " {'Country': 'Netherlands', 'population': 17407585},\n",
    " {'Country': 'Latvia', 'population': 1907675},\n",
    " {'Country': 'Malta', 'population': 514564},\n",
    " {'Country': 'Slovenia', 'population': 2095861},\n",
    " {'Country': 'France', 'population': 67098824},\n",
    " {'Country': 'Denmark', 'population': 5822763},\n",
    " {'Country': 'Croatia', 'population': 4058165},\n",
    " {'Country': 'Italy', 'population': 60244639},\n",
    " {'Country': 'Hungary', 'population': 9769526},\n",
    " {'Country': 'Lithuania', 'population': 2794090},\n",
    " {'Country': 'Czech Republic', 'population': 10693939},\n",
    " {'Country': 'Poland', 'population': 37958138},\n",
    " {'Country': 'Romania', 'population': 19317984},\n",
    " {'Country': 'Bulgaria', 'population': 6951482},\n",
    " {'Country': 'Finland', 'population': 552529},\n",
    " {'Country': 'Portugal', 'population': 10295909},\n",
    " {'Country': 'Greece', 'population': 10709739},\n",
    " {'Country': 'Belgium', 'population': 11549888},\n",
    " {'Country': 'Spain', 'population': 47329981},\n",
    " {'Country': 'Germany', 'population': 83166711},\n",
    " {'Country': 'Luxembourg', 'population': 626108}]"
   ]
  },
  {
   "cell_type": "markdown",
   "metadata": {},
   "source": [
    "As usual, the solution can be found in the solutions notebook. Good luck!"
   ]
  }
 ],
 "metadata": {
  "kernelspec": {
   "display_name": "Python 3 (ipykernel)",
   "language": "python",
   "name": "python3"
  },
  "language_info": {
   "codemirror_mode": {
    "name": "ipython",
    "version": 3
   },
   "file_extension": ".py",
   "mimetype": "text/x-python",
   "name": "python",
   "nbconvert_exporter": "python",
   "pygments_lexer": "ipython3",
   "version": "3.11.2"
  },
  "toc": {
   "base_numbering": "4",
   "nav_menu": {},
   "number_sections": true,
   "sideBar": true,
   "skip_h1_title": true,
   "title_cell": "Table of Contents",
   "title_sidebar": "Contents",
   "toc_cell": true,
   "toc_position": {},
   "toc_section_display": true,
   "toc_window_display": false
  },
  "varInspector": {
   "cols": {
    "lenName": 16,
    "lenType": 16,
    "lenVar": 40
   },
   "kernels_config": {
    "python": {
     "delete_cmd_postfix": "",
     "delete_cmd_prefix": "del ",
     "library": "var_list.py",
     "varRefreshCmd": "print(var_dic_list())"
    },
    "r": {
     "delete_cmd_postfix": ") ",
     "delete_cmd_prefix": "rm(",
     "library": "var_list.r",
     "varRefreshCmd": "cat(var_dic_list()) "
    }
   },
   "types_to_exclude": [
    "module",
    "function",
    "builtin_function_or_method",
    "instance",
    "_Feature"
   ],
   "window_display": false
  }
 },
 "nbformat": 4,
 "nbformat_minor": 4
}
