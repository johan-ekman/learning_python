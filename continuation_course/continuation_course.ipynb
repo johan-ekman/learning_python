{
 "cells": [
  {
   "cell_type": "markdown",
   "metadata": {},
   "source": [
    "# Practical Python – Learning useful python skills"
   ]
  },
  {
   "cell_type": "markdown",
   "metadata": {
    "toc": true
   },
   "source": [
    "<h1>Table of Contents<span class=\"tocSkip\"></span></h1>\n",
    "<div class=\"toc\"><ul class=\"toc-item\"><li><span><a href=\"#Files\" data-toc-modified-id=\"Files-1\"><span class=\"toc-item-num\">1&nbsp;&nbsp;</span>Files</a></span><ul class=\"toc-item\"><li><span><a href=\"#Paths\" data-toc-modified-id=\"Paths-1.1\"><span class=\"toc-item-num\">1.1&nbsp;&nbsp;</span>Paths</a></span><ul class=\"toc-item\"><li><span><a href=\"#Absolute-paths\" data-toc-modified-id=\"Absolute-paths-1.1.1\"><span class=\"toc-item-num\">1.1.1&nbsp;&nbsp;</span>Absolute paths</a></span></li><li><span><a href=\"#The-pathlib-module\" data-toc-modified-id=\"The-pathlib-module-1.1.2\"><span class=\"toc-item-num\">1.1.2&nbsp;&nbsp;</span>The <code>pathlib</code> module</a></span><ul class=\"toc-item\"><li><span><a href=\"#Path-objects'-special-syntax\" data-toc-modified-id=\"Path-objects'-special-syntax-1.1.2.1\"><span class=\"toc-item-num\">1.1.2.1&nbsp;&nbsp;</span>Path objects' special syntax</a></span></li></ul></li><li><span><a href=\"#Relative-paths\" data-toc-modified-id=\"Relative-paths-1.1.3\"><span class=\"toc-item-num\">1.1.3&nbsp;&nbsp;</span>Relative paths</a></span></li></ul></li><li><span><a href=\"#Managing-files-and-folders\" data-toc-modified-id=\"Managing-files-and-folders-1.2\"><span class=\"toc-item-num\">1.2&nbsp;&nbsp;</span>Managing files and folders</a></span><ul class=\"toc-item\"><li><span><a href=\"#Reading-files\" data-toc-modified-id=\"Reading-files-1.2.1\"><span class=\"toc-item-num\">1.2.1&nbsp;&nbsp;</span>Reading files</a></span><ul class=\"toc-item\"><li><span><a href=\"#Reading-binary-files\" data-toc-modified-id=\"Reading-binary-files-1.2.1.1\"><span class=\"toc-item-num\">1.2.1.1&nbsp;&nbsp;</span>Reading binary files</a></span></li></ul></li><li><span><a href=\"#Writing-files-and-creating-directories\" data-toc-modified-id=\"Writing-files-and-creating-directories-1.2.2\"><span class=\"toc-item-num\">1.2.2&nbsp;&nbsp;</span>Writing files and creating directories</a></span><ul class=\"toc-item\"><li><span><a href=\"#Creating-files-with-the-pathlib-module\" data-toc-modified-id=\"Creating-files-with-the-pathlib-module-1.2.2.1\"><span class=\"toc-item-num\">1.2.2.1&nbsp;&nbsp;</span>Creating files with the <code>pathlib</code> module</a></span></li></ul></li><li><span><a href=\"#Exercise-–-file-creator-function\" data-toc-modified-id=\"Exercise-–-file-creator-function-1.2.3\"><span class=\"toc-item-num\">1.2.3&nbsp;&nbsp;</span>Exercise – file creator function</a></span></li><li><span><a href=\"#Deleting-files-and-folders\" data-toc-modified-id=\"Deleting-files-and-folders-1.2.4\"><span class=\"toc-item-num\">1.2.4&nbsp;&nbsp;</span>Deleting files and folders</a></span></li><li><span><a href=\"#Copying-and-moving-files\" data-toc-modified-id=\"Copying-and-moving-files-1.2.5\"><span class=\"toc-item-num\">1.2.5&nbsp;&nbsp;</span>Copying and moving files</a></span></li><li><span><a href=\"#Looping-over-files\" data-toc-modified-id=\"Looping-over-files-1.2.6\"><span class=\"toc-item-num\">1.2.6&nbsp;&nbsp;</span>Looping over files</a></span></li></ul></li><li><span><a href=\"#Exercise-–-move-the-textfiles\" data-toc-modified-id=\"Exercise-–-move-the-textfiles-1.3\"><span class=\"toc-item-num\">1.3&nbsp;&nbsp;</span>Exercise – move the textfiles</a></span></li><li><span><a href=\"#Reading-pdf-documents\" data-toc-modified-id=\"Reading-pdf-documents-1.4\"><span class=\"toc-item-num\">1.4&nbsp;&nbsp;</span>Reading pdf documents</a></span></li><li><span><a href=\"#Exercise-–-pdf-to-text-function\" data-toc-modified-id=\"Exercise-–-pdf-to-text-function-1.5\"><span class=\"toc-item-num\">1.5&nbsp;&nbsp;</span>Exercise – pdf to text function</a></span></li></ul></li><li><span><a href=\"#Regular-Expressions\" data-toc-modified-id=\"Regular-Expressions-2\"><span class=\"toc-item-num\">2&nbsp;&nbsp;</span>Regular Expressions</a></span><ul class=\"toc-item\"><li><span><a href=\"#Finding-numbers\" data-toc-modified-id=\"Finding-numbers-2.1\"><span class=\"toc-item-num\">2.1&nbsp;&nbsp;</span>Finding numbers</a></span></li><li><span><a href=\"#Repetition-qualifiers\" data-toc-modified-id=\"Repetition-qualifiers-2.2\"><span class=\"toc-item-num\">2.2&nbsp;&nbsp;</span>Repetition qualifiers</a></span><ul class=\"toc-item\"><li><span><a href=\"#The-star-*\" data-toc-modified-id=\"The-star-*-2.2.1\"><span class=\"toc-item-num\">2.2.1&nbsp;&nbsp;</span>The star <code>*</code></a></span></li><li><span><a href=\"#The-plus-sign-+\" data-toc-modified-id=\"The-plus-sign-+-2.2.2\"><span class=\"toc-item-num\">2.2.2&nbsp;&nbsp;</span>The plus sign <code>+</code></a></span></li><li><span><a href=\"#The-question-mark-?\" data-toc-modified-id=\"The-question-mark-?-2.2.3\"><span class=\"toc-item-num\">2.2.3&nbsp;&nbsp;</span>The question mark <code>?</code></a></span></li><li><span><a href=\"#Curly-brackets-{m,n}\" data-toc-modified-id=\"Curly-brackets-{m,n}-2.2.4\"><span class=\"toc-item-num\">2.2.4&nbsp;&nbsp;</span>Curly brackets <code>{m,n}</code></a></span></li></ul></li><li><span><a href=\"#Finding-words-and-names\" data-toc-modified-id=\"Finding-words-and-names-2.3\"><span class=\"toc-item-num\">2.3&nbsp;&nbsp;</span>Finding words and names</a></span><ul class=\"toc-item\"><li><span><a href=\"#Custom-Character-Classes-with-square-brackets-[]\" data-toc-modified-id=\"Custom-Character-Classes-with-square-brackets-[]-2.3.1\"><span class=\"toc-item-num\">2.3.1&nbsp;&nbsp;</span>Custom Character Classes with square brackets <code>[]</code></a></span></li><li><span><a href=\"#The-&quot;word&quot;-character-\\w\" data-toc-modified-id=\"The-&quot;word&quot;-character-\\w-2.3.2\"><span class=\"toc-item-num\">2.3.2&nbsp;&nbsp;</span>The \"word\" character <code>\\w</code></a></span></li><li><span><a href=\"#The-white-space-character-\\s\" data-toc-modified-id=\"The-white-space-character-\\s-2.3.3\"><span class=\"toc-item-num\">2.3.3&nbsp;&nbsp;</span>The white space character <code>\\s</code></a></span></li><li><span><a href=\"#Finding-the-names\" data-toc-modified-id=\"Finding-the-names-2.3.4\"><span class=\"toc-item-num\">2.3.4&nbsp;&nbsp;</span>Finding the names</a></span></li></ul></li><li><span><a href=\"#Exercise-–-matching-phone-numbers\" data-toc-modified-id=\"Exercise-–-matching-phone-numbers-2.4\"><span class=\"toc-item-num\">2.4&nbsp;&nbsp;</span>Exercise – matching phone numbers</a></span></li><li><span><a href=\"#Regex-Groups\" data-toc-modified-id=\"Regex-Groups-2.5\"><span class=\"toc-item-num\">2.5&nbsp;&nbsp;</span>Regex Groups</a></span></li><li><span><a href=\"#Exercise-–-can-you-find-the-number?\" data-toc-modified-id=\"Exercise-–-can-you-find-the-number?-2.6\"><span class=\"toc-item-num\">2.6&nbsp;&nbsp;</span>Exercise – can you find the number?</a></span></li><li><span><a href=\"#The-Escape-Character-\\\" data-toc-modified-id=\"The-Escape-Character-\\-2.7\"><span class=\"toc-item-num\">2.7&nbsp;&nbsp;</span>The Escape Character <code>\\</code></a></span></li><li><span><a href=\"#The-Pipe-Character-|\" data-toc-modified-id=\"The-Pipe-Character-|-2.8\"><span class=\"toc-item-num\">2.8&nbsp;&nbsp;</span>The Pipe Character <code>|</code></a></span></li><li><span><a href=\"#Exercise-–-who-has-landlines?\" data-toc-modified-id=\"Exercise-–-who-has-landlines?-2.9\"><span class=\"toc-item-num\">2.9&nbsp;&nbsp;</span>Exercise – who has landlines?</a></span></li><li><span><a href=\"#Matching-in-portions,-or-matching-everything\" data-toc-modified-id=\"Matching-in-portions,-or-matching-everything-2.10\"><span class=\"toc-item-num\">2.10&nbsp;&nbsp;</span>Matching in portions, or matching everything</a></span><ul class=\"toc-item\"><li><span><a href=\"#Match-the-start-–-use-^\" data-toc-modified-id=\"Match-the-start-–-use-^-2.10.1\"><span class=\"toc-item-num\">2.10.1&nbsp;&nbsp;</span>Match the start – use <code>^</code></a></span></li><li><span><a href=\"#Match-the-end-–-use-$\" data-toc-modified-id=\"Match-the-end-–-use-$-2.10.2\"><span class=\"toc-item-num\">2.10.2&nbsp;&nbsp;</span>Match the end – use <code>$</code></a></span></li><li><span><a href=\"#Refining-our-regex-patterns\" data-toc-modified-id=\"Refining-our-regex-patterns-2.10.3\"><span class=\"toc-item-num\">2.10.3&nbsp;&nbsp;</span>Refining our regex patterns</a></span></li><li><span><a href=\"#How-to-match-it-all-–-the-wildcard-.\" data-toc-modified-id=\"How-to-match-it-all-–-the-wildcard-.-2.10.4\"><span class=\"toc-item-num\">2.10.4&nbsp;&nbsp;</span>How to match it all – the wildcard <code>.</code></a></span></li><li><span><a href=\"#Matching-everything-at-once-with-.*\" data-toc-modified-id=\"Matching-everything-at-once-with-.*-2.10.5\"><span class=\"toc-item-num\">2.10.5&nbsp;&nbsp;</span>Matching everything at once with <code>.*</code></a></span><ul class=\"toc-item\"><li><span><a href=\"#(Optional)-Greedy-.*,-non-greedy-.*?\" data-toc-modified-id=\"(Optional)-Greedy-.*,-non-greedy-.*?-2.10.5.1\"><span class=\"toc-item-num\">2.10.5.1&nbsp;&nbsp;</span>(Optional) Greedy <code>.*</code>, non-greedy <code>.*?</code></a></span></li></ul></li></ul></li><li><span><a href=\"#Flags\" data-toc-modified-id=\"Flags-2.11\"><span class=\"toc-item-num\">2.11&nbsp;&nbsp;</span>Flags</a></span><ul class=\"toc-item\"><li><span><a href=\"#re.DOTALL\" data-toc-modified-id=\"re.DOTALL-2.11.1\"><span class=\"toc-item-num\">2.11.1&nbsp;&nbsp;</span><code>re.DOTALL</code></a></span></li><li><span><a href=\"#(Optional)-re.IGNORECASE\" data-toc-modified-id=\"(Optional)-re.IGNORECASE-2.11.2\"><span class=\"toc-item-num\">2.11.2&nbsp;&nbsp;</span>(Optional) <code>re.IGNORECASE</code></a></span></li></ul></li><li><span><a href=\"#Find-and-replace-text-–-re.sub()\" data-toc-modified-id=\"Find-and-replace-text-–-re.sub()-2.12\"><span class=\"toc-item-num\">2.12&nbsp;&nbsp;</span>Find and replace text – <code>re.sub()</code></a></span></li></ul></li><li><span><a href=\"#Project-–-The-Invoices\" data-toc-modified-id=\"Project-–-The-Invoices-3\"><span class=\"toc-item-num\">3&nbsp;&nbsp;</span>Project – The Invoices</a></span></li><li><span><a href=\"#Web-scraping\" data-toc-modified-id=\"Web-scraping-4\"><span class=\"toc-item-num\">4&nbsp;&nbsp;</span>Web scraping</a></span></li></ul></div>"
   ]
  },
  {
   "cell_type": "markdown",
   "metadata": {},
   "source": [
    "**Introduction**"
   ]
  },
  {
   "cell_type": "markdown",
   "metadata": {},
   "source": [
    "If you've made it this far, congratulations! You have learned most of the basics in the Python programming language! The first two notebooks in this course focuses mainly on understanding the foundations of Python. This notebook is where we start learning more of how to use Python to do useful things. \n",
    "\n",
    "So what's useful? Consider the following: you work at some company. You have just been handed a USB stick with ten thousand pdf files. These files have a date in their names, such as `rec20200414.pdf` (i.e. April 14, 2020) . The files are photocopies of receipts. On each receipt there is a name of the employed person at your company that has created the file. \n",
    "\n",
    "Your task is to see:\n",
    "\n",
    "- Who are the employed that have created all the receipts?\n",
    "- How many receipts are created per employée?\n",
    "- How many receipts are there per employée, per month?\n",
    "\n",
    "Now, we _could_ do this by hand. Reading all files ourselves and typing the information by hand into an Excel spreadsheet. But this would, firstly, take weeks. Secondly, be incredably boring. And, thirdly, probably (because the assignement's been so tedious and boring) be riddled with errors.\n",
    "\n",
    "However, this is actually a perfect example of a task that is easily solved with Python! Here's a task list of what we could do: \n",
    "- Create a list of all the files\n",
    "- Create a script that extract the name from a pdf receipt\n",
    "- Loop over all files \n",
    "\n",
    "And on each file in our loop:\n",
    "1. Run our script on each one of the pdf files\n",
    "2. Extract date from file name\n",
    "3. Save the name and the date into a data structure\n",
    "\n",
    "In this course, you will learn to do all task in above task list! But let's take it step by step, and start with learning about filepaths. Then how to create, remove and alter files on our computer using python. We will also learn the basics of regular expressions, or text recognition. And finally, as a bonus, some web scraping basics."
   ]
  },
  {
   "cell_type": "markdown",
   "metadata": {},
   "source": [
    "## Files"
   ]
  },
  {
   "cell_type": "markdown",
   "metadata": {},
   "source": [
    "All files on your computer have these three componants: a name (this notebook, for instance, is called `continuation_course`), a file extension (Jupyter Notebooks have the extension `.ipynb`, textfiles `.txt`, Microsoft Word has `.doc`, etc etc…), and a path – the file's location on your harddrive."
   ]
  },
  {
   "cell_type": "markdown",
   "metadata": {},
   "source": [
    "### Paths"
   ]
  },
  {
   "cell_type": "markdown",
   "metadata": {},
   "source": [
    "As mentioned above, all files have a path. This lets us know where it is located on the computer's hard drive. All folders – also called directories – also have paths. There are two kinds of paths: **relative** and **absolute**. We'll start with the absolute, and continue with the relative further down. "
   ]
  },
  {
   "cell_type": "markdown",
   "metadata": {},
   "source": [
    "#### Absolute paths"
   ]
  },
  {
   "cell_type": "markdown",
   "metadata": {},
   "source": [
    "An absolute path is a file's location in relation to your hard drive's root folder. The root folder – or **root directory** –  is the top level of your hard drive. All files and folders are inside this directory. "
   ]
  },
  {
   "cell_type": "markdown",
   "metadata": {},
   "source": [
    "If you use Windows, you probably recognise your root directory when you see it. It's the `C:\\` when you check your hard drive folders. See this picture:"
   ]
  },
  {
   "cell_type": "markdown",
   "metadata": {},
   "source": [
    "![image](../course_material/windows_root.png)"
   ]
  },
  {
   "cell_type": "markdown",
   "metadata": {},
   "source": [
    "On Mac/Linux, the root directory is just named `/`. Pretty lame, but there you go.\n",
    "\n",
    "Another important difference is the **directory separator**, the slash. On Windows, this is a backslash `\\`, while on Mac/Linux, it's just a regular slash `/`."
   ]
  },
  {
   "cell_type": "markdown",
   "metadata": {},
   "source": [
    "This notebook you're running, is located somewhere on your computer's hard drive. This location can be found when checking the file's absolute path. Or to be more precise: we can check where this notebook \"lives\" within your root directory! We could use the `os` module to check the absolute path:"
   ]
  },
  {
   "cell_type": "code",
   "execution_count": 2,
   "metadata": {},
   "outputs": [],
   "source": [
    "import os"
   ]
  },
  {
   "cell_type": "code",
   "execution_count": 3,
   "metadata": {},
   "outputs": [
    {
     "data": {
      "text/plain": [
       "'/Users/johekm/Documents/lectures/learning_python/continuation_course'"
      ]
     },
     "execution_count": 3,
     "metadata": {},
     "output_type": "execute_result"
    }
   ],
   "source": [
    "os.getcwd()"
   ]
  },
  {
   "cell_type": "markdown",
   "metadata": {},
   "source": [
    "So for me, this notebook has this path: `'/Users/johekm/Documents/lectures/learning_python/continuation_course'`. It lives in the folder `continuation_course`, which is in the folder `learning_python`, which is in `lectures`, which is in my `Documents` folder, and so forth all the way to the root directory. \n",
    "\n",
    "This notebook's name is `continuation_course.ipynb`, which means that its absolute path is:\n",
    "\n",
    "`'/Users/johekm/Documents/lectures/learning_python/continuation_course/continuation_course.ipynb'`\n",
    "\n",
    "If this was a Windows laptop, it would look something like:\n",
    "\n",
    "`'C:\\Users\\johekm\\Documents\\lectures\\learning_python\\continuation_course\\continuation_course.ipynb'`\n",
    "\n"
   ]
  },
  {
   "cell_type": "markdown",
   "metadata": {},
   "source": [
    "All absolute paths have the root directory to the left. That is, **absolute paths always starts with the root directory**. The directory or the file we're looking for is furthest to the right in the path. So in above examples, we point towards the file `continuation_course.ipynb`, since it is to the right in the path. \n",
    "\n",
    "We can also use the `.isabs()` method on our path. It takes a string value and sees if it's a absolute path on our computer:"
   ]
  },
  {
   "cell_type": "code",
   "execution_count": 5,
   "metadata": {},
   "outputs": [
    {
     "data": {
      "text/plain": [
       "True"
      ]
     },
     "execution_count": 5,
     "metadata": {},
     "output_type": "execute_result"
    }
   ],
   "source": [
    "os.path.isabs('/Users/johekm/Documents/lectures/learning_python/continuation_course/continuation_course.ipynb')"
   ]
  },
  {
   "cell_type": "markdown",
   "metadata": {},
   "source": [
    "As you can see, the `os` module takes string values as arguments. It also returns paths as string values:"
   ]
  },
  {
   "cell_type": "code",
   "execution_count": 6,
   "metadata": {},
   "outputs": [
    {
     "data": {
      "text/plain": [
       "str"
      ]
     },
     "execution_count": 6,
     "metadata": {},
     "output_type": "execute_result"
    }
   ],
   "source": [
    "type(os.getcwd())"
   ]
  },
  {
   "cell_type": "markdown",
   "metadata": {},
   "source": [
    "This means that we can use the `.join()` method on our directory separator character (`/` on Mac/Linux, `\\` on Windows), to get strings with paths! So on on my current running absolute path I could do this:"
   ]
  },
  {
   "cell_type": "code",
   "execution_count": 11,
   "metadata": {},
   "outputs": [],
   "source": [
    "my_path = ['','Users','johekm','Documents','lectures','learning_python','continuation_course','continuation_course.ipynb']"
   ]
  },
  {
   "cell_type": "code",
   "execution_count": 12,
   "metadata": {},
   "outputs": [
    {
     "data": {
      "text/plain": [
       "['',\n",
       " 'Users',\n",
       " 'johekm',\n",
       " 'Documents',\n",
       " 'lectures',\n",
       " 'learning_python',\n",
       " 'continuation_course',\n",
       " 'continuation_course.ipynb']"
      ]
     },
     "execution_count": 12,
     "metadata": {},
     "output_type": "execute_result"
    }
   ],
   "source": [
    "my_path"
   ]
  },
  {
   "cell_type": "code",
   "execution_count": 13,
   "metadata": {},
   "outputs": [],
   "source": [
    "my_path = '/'.join(my_path) # see section 9.9.2 if you want a refreasher!"
   ]
  },
  {
   "cell_type": "code",
   "execution_count": 14,
   "metadata": {},
   "outputs": [
    {
     "data": {
      "text/plain": [
       "'/Users/johekm/Documents/lectures/learning_python/continuation_course/continuation_course.ipynb'"
      ]
     },
     "execution_count": 14,
     "metadata": {},
     "output_type": "execute_result"
    }
   ],
   "source": [
    "my_path"
   ]
  },
  {
   "cell_type": "code",
   "execution_count": 15,
   "metadata": {},
   "outputs": [
    {
     "data": {
      "text/plain": [
       "True"
      ]
     },
     "execution_count": 15,
     "metadata": {},
     "output_type": "execute_result"
    }
   ],
   "source": [
    "os.path.isabs(my_path)"
   ]
  },
  {
   "cell_type": "markdown",
   "metadata": {},
   "source": [
    "We can use the `.listdir()` method to get a list of all files in a directory. We just pass a path to the method as an argument, and it returns a list. Let's try it on the `course_material` folder:"
   ]
  },
  {
   "cell_type": "code",
   "execution_count": 16,
   "metadata": {},
   "outputs": [],
   "source": [
    "my_path = '/Users/johekm/Documents/lectures/learning_python/course_material'"
   ]
  },
  {
   "cell_type": "code",
   "execution_count": 18,
   "metadata": {},
   "outputs": [
    {
     "data": {
      "text/plain": [
       "['mutable_scope.png',\n",
       " 'excelfile.xlsx',\n",
       " '.DS_Store',\n",
       " 'while_loop.png',\n",
       " 'scopes.png',\n",
       " 'readme',\n",
       " 'windows_root.png',\n",
       " 'immutable_1.png',\n",
       " 'interrupt.png',\n",
       " 'immutable_3.png',\n",
       " 'speach.txt',\n",
       " 'immutable_2.png',\n",
       " 'if_statement.png',\n",
       " 'hello.txt',\n",
       " 'mutable.png',\n",
       " 'mutable_2.png']"
      ]
     },
     "execution_count": 18,
     "metadata": {},
     "output_type": "execute_result"
    }
   ],
   "source": [
    "os.listdir(my_path)"
   ]
  },
  {
   "cell_type": "markdown",
   "metadata": {},
   "source": [
    "#### The `pathlib` module"
   ]
  },
  {
   "cell_type": "markdown",
   "metadata": {},
   "source": [
    "It is common practice to use string values when working with file paths. But as you can see from the example above, paths as string values will not work on Windows if written for Mac (and vice versa), since the path syntax is different.\n",
    "\n",
    "So instead, we're gonna use the `pathlib` module. This works on all operating systems since the Python interpreter converts all paths into whatever syntax your computer uses! Let's import the `Path` class from the `pathlib` module:"
   ]
  },
  {
   "cell_type": "code",
   "execution_count": 19,
   "metadata": {},
   "outputs": [],
   "source": [
    "from pathlib import Path"
   ]
  },
  {
   "cell_type": "markdown",
   "metadata": {},
   "source": [
    "The `Path` class has a method called `.cwd()` (\"current working directory\") that returns the absolute path of your current \"position\" on your harddrive. Let's have a look at the current working path using this method:"
   ]
  },
  {
   "cell_type": "code",
   "execution_count": 20,
   "metadata": {},
   "outputs": [
    {
     "data": {
      "text/plain": [
       "PosixPath('/Users/johekm/Documents/lectures/learning_python/continuation_course')"
      ]
     },
     "execution_count": 20,
     "metadata": {},
     "output_type": "execute_result"
    }
   ],
   "source": [
    "Path.cwd()"
   ]
  },
  {
   "cell_type": "markdown",
   "metadata": {},
   "source": [
    "As you can see, the value returned isn't a string. It is a path object:"
   ]
  },
  {
   "cell_type": "code",
   "execution_count": 21,
   "metadata": {},
   "outputs": [
    {
     "data": {
      "text/plain": [
       "pathlib.PosixPath"
      ]
     },
     "execution_count": 21,
     "metadata": {},
     "output_type": "execute_result"
    }
   ],
   "source": [
    "type(Path.cwd())"
   ]
  },
  {
   "cell_type": "markdown",
   "metadata": {},
   "source": [
    "This path object actually differs depending on what operating system you're using. For me, using mac, it is a `PosixPath` object. If you're using Windows, it should be a `WindowsPath` object. But the name is not important. Just know a path object is a way to help us construct paths in a very convenient way! \n",
    "\n",
    "We can pass any string to the Path class to convert it into a path object:"
   ]
  },
  {
   "cell_type": "code",
   "execution_count": 22,
   "metadata": {},
   "outputs": [
    {
     "data": {
      "text/plain": [
       "PosixPath('Johan')"
      ]
     },
     "execution_count": 22,
     "metadata": {},
     "output_type": "execute_result"
    }
   ],
   "source": [
    "Path(\"Johan\")"
   ]
  },
  {
   "cell_type": "markdown",
   "metadata": {},
   "source": [
    "The `os` module can read path objects, so we can use path objects to check if this path object is an absolute path: "
   ]
  },
  {
   "cell_type": "code",
   "execution_count": 23,
   "metadata": {},
   "outputs": [
    {
     "data": {
      "text/plain": [
       "False"
      ]
     },
     "execution_count": 23,
     "metadata": {},
     "output_type": "execute_result"
    }
   ],
   "source": [
    "os.path.isabs(Path(\"Johan\"))"
   ]
  },
  {
   "cell_type": "markdown",
   "metadata": {},
   "source": [
    "\"Johan\" isn't an absolute path, but our current working directory is:"
   ]
  },
  {
   "cell_type": "code",
   "execution_count": 24,
   "metadata": {},
   "outputs": [
    {
     "data": {
      "text/plain": [
       "True"
      ]
     },
     "execution_count": 24,
     "metadata": {},
     "output_type": "execute_result"
    }
   ],
   "source": [
    "os.path.isabs(Path.cwd())"
   ]
  },
  {
   "cell_type": "markdown",
   "metadata": {},
   "source": [
    "The `.home()` method returns the home directory on the computer. For me, this is `/Users/johekm`:"
   ]
  },
  {
   "cell_type": "code",
   "execution_count": 25,
   "metadata": {},
   "outputs": [
    {
     "data": {
      "text/plain": [
       "PosixPath('/Users/johekm')"
      ]
     },
     "execution_count": 25,
     "metadata": {},
     "output_type": "execute_result"
    }
   ],
   "source": [
    "Path.home()"
   ]
  },
  {
   "cell_type": "markdown",
   "metadata": {},
   "source": [
    "Finally, we can always use the `.exists()` method to see if a path exists:"
   ]
  },
  {
   "cell_type": "code",
   "execution_count": 26,
   "metadata": {},
   "outputs": [
    {
     "data": {
      "text/plain": [
       "True"
      ]
     },
     "execution_count": 26,
     "metadata": {},
     "output_type": "execute_result"
    }
   ],
   "source": [
    "Path(\"/Users/johekm/Documents/lectures/learning_python/course_material\").exists()"
   ]
  },
  {
   "cell_type": "code",
   "execution_count": 27,
   "metadata": {},
   "outputs": [
    {
     "data": {
      "text/plain": [
       "False"
      ]
     },
     "execution_count": 27,
     "metadata": {},
     "output_type": "execute_result"
    }
   ],
   "source": [
    "Path(\"/Users/johekm/Documents/lectures/learning_python/BANANAS\").exists()"
   ]
  },
  {
   "cell_type": "markdown",
   "metadata": {},
   "source": [
    "##### Path objects' special syntax"
   ]
  },
  {
   "cell_type": "markdown",
   "metadata": {},
   "source": [
    "Path objects can use operators as their own syntax. This means that I can use the `.home()` method and then construct a path I now will work on whatever operating system you're now running:"
   ]
  },
  {
   "cell_type": "code",
   "execution_count": 28,
   "metadata": {},
   "outputs": [
    {
     "data": {
      "text/plain": [
       "PosixPath('/Users/johekm/Documents/lectures/learning_python/continuation_course')"
      ]
     },
     "execution_count": 28,
     "metadata": {},
     "output_type": "execute_result"
    }
   ],
   "source": [
    "path = Path.home() / \"Documents\" / \"lectures\" / \"learning_python\" / \"continuation_course\"\n",
    "path"
   ]
  },
  {
   "cell_type": "markdown",
   "metadata": {},
   "source": [
    "Hang on, what the hell happend?? Why did we just use the division operator together with strings and somehow just magically created a path??\n",
    "\n",
    "If a line of Python code includes a path object, the `/` will not be read as a division operator by the interpreter, it will be read as a path seperator! It will then reconstruct this entire line into one path object. Above code is the same as typing:"
   ]
  },
  {
   "cell_type": "code",
   "execution_count": 29,
   "metadata": {},
   "outputs": [
    {
     "data": {
      "text/plain": [
       "PosixPath('/Users/johekm/Documents/lectures/learning_python/continuation_course')"
      ]
     },
     "execution_count": 29,
     "metadata": {},
     "output_type": "execute_result"
    }
   ],
   "source": [
    "path = Path.home() / Path(\"Documents\") / Path(\"lectures\") / Path(\"learning_python\") / Path(\"continuation_course\")\n",
    "path"
   ]
  },
  {
   "cell_type": "markdown",
   "metadata": {},
   "source": [
    "...or:"
   ]
  },
  {
   "cell_type": "code",
   "execution_count": 30,
   "metadata": {},
   "outputs": [
    {
     "data": {
      "text/plain": [
       "PosixPath('/Users/johekm/Documents/lectures/learning_python/continuation_course')"
      ]
     },
     "execution_count": 30,
     "metadata": {},
     "output_type": "execute_result"
    }
   ],
   "source": [
    "path = Path.home() / Path(\"Documents/lectures/learning_python/continuation_course\")\n",
    "path"
   ]
  },
  {
   "cell_type": "markdown",
   "metadata": {},
   "source": [
    "...or just:"
   ]
  },
  {
   "cell_type": "code",
   "execution_count": 31,
   "metadata": {},
   "outputs": [
    {
     "data": {
      "text/plain": [
       "PosixPath('/Users/johekm/Documents/lectures/learning_python/continuation_course')"
      ]
     },
     "execution_count": 31,
     "metadata": {},
     "output_type": "execute_result"
    }
   ],
   "source": [
    "path = Path.home() / \"Documents/lectures/learning_python/continuation_course\"\n",
    "path"
   ]
  },
  {
   "cell_type": "markdown",
   "metadata": {},
   "source": [
    "#### Relative paths"
   ]
  },
  {
   "cell_type": "markdown",
   "metadata": {},
   "source": [
    "A relative path always starts in the current working directory. We use realtive paths to find files and directories in relation to where we are currently situated – where our program currently runs – on our hard drive. "
   ]
  },
  {
   "cell_type": "markdown",
   "metadata": {},
   "source": [
    "When we are using relative paths, we often want to see what is \"above\" the current working directory. This is called the **parent directory**. Using relative paths, we can type the `..` to access the parent folder! Double dots `..` in a path means \"check one directory level above the current one\". \n",
    "\n",
    "Uncomment this following code cell and run it, the check to see if the listed files are as you expected. If you placed this course folder in the \"Documents\" folder on you computer, you should see the contents in your \"Documents\" folder:"
   ]
  },
  {
   "cell_type": "code",
   "execution_count": 33,
   "metadata": {},
   "outputs": [],
   "source": [
    "#os.listdir('..')"
   ]
  },
  {
   "cell_type": "markdown",
   "metadata": {},
   "source": [
    "We can continue using `..` with directory separators to go even further up the directory tree:"
   ]
  },
  {
   "cell_type": "code",
   "execution_count": 34,
   "metadata": {},
   "outputs": [],
   "source": [
    "#os.listdir(\"../..\")"
   ]
  },
  {
   "cell_type": "markdown",
   "metadata": {},
   "source": [
    "We can also type a single dot `.`, which indicates _this_ folder. The one we're in. Uncomment to check if it's what you expect it to be on your computer:"
   ]
  },
  {
   "cell_type": "code",
   "execution_count": 35,
   "metadata": {},
   "outputs": [],
   "source": [
    "#os.listdir(\".\")"
   ]
  },
  {
   "cell_type": "markdown",
   "metadata": {},
   "source": [
    "In the section above, we listed all files and directories in the folder `course_material`, using the `.listdir()` method. Let's do so again, but with a relative path instead of an absolute one:"
   ]
  },
  {
   "cell_type": "code",
   "execution_count": 38,
   "metadata": {},
   "outputs": [
    {
     "data": {
      "text/plain": [
       "['mutable_scope.png',\n",
       " 'excelfile.xlsx',\n",
       " '.DS_Store',\n",
       " 'while_loop.png',\n",
       " 'scopes.png',\n",
       " 'readme',\n",
       " 'windows_root.png',\n",
       " 'immutable_1.png',\n",
       " 'interrupt.png',\n",
       " 'immutable_3.png',\n",
       " 'speach.txt',\n",
       " 'immutable_2.png',\n",
       " 'if_statement.png',\n",
       " 'hello.txt',\n",
       " 'mutable.png',\n",
       " 'mutable_2.png']"
      ]
     },
     "execution_count": 38,
     "metadata": {},
     "output_type": "execute_result"
    }
   ],
   "source": [
    "os.listdir('../course_material')"
   ]
  },
  {
   "cell_type": "markdown",
   "metadata": {},
   "source": [
    "Let's go a bit deeper, there is a folder within `course_material` named `readme`. Let's list its content using a relative path:"
   ]
  },
  {
   "cell_type": "code",
   "execution_count": 39,
   "metadata": {},
   "outputs": [
    {
     "data": {
      "text/plain": [
       "['material.png',\n",
       " '.DS_Store',\n",
       " 'navigator.png',\n",
       " 'duplicate.png',\n",
       " 'searchbar.png',\n",
       " 'course_start.png',\n",
       " 'jupyter.png',\n",
       " 'create_nb.png',\n",
       " 'documents.png',\n",
       " 'launchpad.png']"
      ]
     },
     "execution_count": 39,
     "metadata": {},
     "output_type": "execute_result"
    }
   ],
   "source": [
    "os.listdir('../course_material/readme/')"
   ]
  },
  {
   "cell_type": "markdown",
   "metadata": {},
   "source": [
    "Now, for both you and me, this relative path is the same. But if we would use an absolute path, it wouldn't be. This is one of the reasons why you'd want to use relative paths from time to time. Also, because it is shorter to type and more convenient. It is also, at least to me, easier to read and understand."
   ]
  },
  {
   "cell_type": "markdown",
   "metadata": {},
   "source": [
    "This is the absolute path to the same \"readme\" directory:"
   ]
  },
  {
   "cell_type": "code",
   "execution_count": 42,
   "metadata": {},
   "outputs": [],
   "source": [
    "path = Path(\"/Users/johekm/Documents/lectures/learning_python/\") / \"course_material\" / \"readme\""
   ]
  },
  {
   "cell_type": "code",
   "execution_count": 43,
   "metadata": {},
   "outputs": [
    {
     "data": {
      "text/plain": [
       "['material.png',\n",
       " '.DS_Store',\n",
       " 'navigator.png',\n",
       " 'duplicate.png',\n",
       " 'searchbar.png',\n",
       " 'course_start.png',\n",
       " 'jupyter.png',\n",
       " 'create_nb.png',\n",
       " 'documents.png',\n",
       " 'launchpad.png']"
      ]
     },
     "execution_count": 43,
     "metadata": {},
     "output_type": "execute_result"
    }
   ],
   "source": [
    "os.listdir(path)"
   ]
  },
  {
   "cell_type": "markdown",
   "metadata": {},
   "source": [
    "### Managing files and folders"
   ]
  },
  {
   "cell_type": "markdown",
   "metadata": {},
   "source": [
    "Now that we've had a look at paths, we can use them to create, open, append and erase files! \n",
    "\n",
    "Files can be binary files or plaintext files. Binary files consists of a complicated soup of code patterns that is unreadable for humans. Most files you use at your office are probably binary files: such as excel files, pdf documents, etc etc. \n",
    "\n",
    "Here, we're going to start with plaintext files. Plaintext means that there are nothing but just raw text in the file. There isn't any other information than the actual text characters within the file. Text files (with the extension `.txt`) is also plaintext.\n",
    "\n",
    "Let's look for a plaintext file! If we check the file contents in the `course_material` folder, we can see that there are two plaintext files therein. Let's use the `.listdir()` method of the `os` module:"
   ]
  },
  {
   "cell_type": "code",
   "execution_count": 44,
   "metadata": {},
   "outputs": [
    {
     "data": {
      "text/plain": [
       "['mutable_scope.png',\n",
       " 'excelfile.xlsx',\n",
       " '.DS_Store',\n",
       " 'while_loop.png',\n",
       " 'scopes.png',\n",
       " 'readme',\n",
       " 'windows_root.png',\n",
       " 'immutable_1.png',\n",
       " 'interrupt.png',\n",
       " 'immutable_3.png',\n",
       " 'speach.txt',\n",
       " 'immutable_2.png',\n",
       " 'if_statement.png',\n",
       " 'hello.txt',\n",
       " 'mutable.png',\n",
       " 'mutable_2.png']"
      ]
     },
     "execution_count": 44,
     "metadata": {},
     "output_type": "execute_result"
    }
   ],
   "source": [
    "os.listdir('../course_material/')"
   ]
  },
  {
   "cell_type": "markdown",
   "metadata": {},
   "source": [
    "Here we see two text files! \"speach.txt\" and \"hello.txt\". Let's start with the latter and read its content."
   ]
  },
  {
   "cell_type": "markdown",
   "metadata": {},
   "source": [
    "#### Reading files"
   ]
  },
  {
   "cell_type": "markdown",
   "metadata": {},
   "source": [
    "We can open files with the built-in `open()` function. It has two crucial arguments (it has way more that we will ignore at the moment). First, a _filepath_ that points to the file we want to open (including the filename). \n",
    "\n",
    "Second, we pass a string that determines _how_ to open the file. Default is to open in \"read\" mode, which opens the file, but hinders us from changing its content. Let's open the file \"hello.txt\" in the `course_material` directory:"
   ]
  },
  {
   "cell_type": "code",
   "execution_count": 45,
   "metadata": {},
   "outputs": [],
   "source": [
    "file = open(\"../course_material/hello.txt\",\"r\")"
   ]
  },
  {
   "cell_type": "markdown",
   "metadata": {},
   "source": [
    "The `open()` function returns a file object, so we save that to a `file` variable! Let's have a look at our file object:"
   ]
  },
  {
   "cell_type": "code",
   "execution_count": 46,
   "metadata": {},
   "outputs": [
    {
     "data": {
      "text/plain": [
       "<_io.TextIOWrapper name='../course_material/hello.txt' mode='r' encoding='UTF-8'>"
      ]
     },
     "execution_count": 46,
     "metadata": {},
     "output_type": "execute_result"
    }
   ],
   "source": [
    "file"
   ]
  },
  {
   "cell_type": "markdown",
   "metadata": {},
   "source": [
    "Here, we can see that the object is opened in read mode, and that it's encoded in unicode, UTF-8 (=not important at the moment). We can use the `.read()` method to have a look at the file content:"
   ]
  },
  {
   "cell_type": "code",
   "execution_count": 47,
   "metadata": {},
   "outputs": [
    {
     "data": {
      "text/plain": [
       "'Hello world!\\n\\nSo happy to see that you guys made it to the continuation course.\\nThis is where we start having fun!'"
      ]
     },
     "execution_count": 47,
     "metadata": {},
     "output_type": "execute_result"
    }
   ],
   "source": [
    "file.read()"
   ]
  },
  {
   "cell_type": "markdown",
   "metadata": {},
   "source": [
    "The `.read()` method returns all the file's text as one string. As you can see, the file includes newline characters `\\n`. The method `.readlines()` also opens the file's contents, but here, all the file's lines are items organised in a list:"
   ]
  },
  {
   "cell_type": "code",
   "execution_count": 48,
   "metadata": {},
   "outputs": [
    {
     "data": {
      "text/plain": [
       "['Hello world!\\n',\n",
       " '\\n',\n",
       " 'So happy to see that you guys made it to the continuation course.\\n',\n",
       " 'This is where we start having fun!']"
      ]
     },
     "execution_count": 48,
     "metadata": {},
     "output_type": "execute_result"
    }
   ],
   "source": [
    "file = open(\"../course_material/hello.txt\",\"r\")\n",
    "file.readlines()"
   ]
  },
  {
   "cell_type": "markdown",
   "metadata": {},
   "source": [
    "When we're done with the file and want to close it, we use the `.close()` method:"
   ]
  },
  {
   "cell_type": "code",
   "execution_count": 49,
   "metadata": {},
   "outputs": [],
   "source": [
    "file.close()"
   ]
  },
  {
   "cell_type": "markdown",
   "metadata": {},
   "source": [
    "This means we can't access the file object any longer:"
   ]
  },
  {
   "cell_type": "code",
   "execution_count": 50,
   "metadata": {},
   "outputs": [
    {
     "ename": "ValueError",
     "evalue": "I/O operation on closed file.",
     "output_type": "error",
     "traceback": [
      "\u001b[0;31m---------------------------------------------------------------------------\u001b[0m",
      "\u001b[0;31mValueError\u001b[0m                                Traceback (most recent call last)",
      "\u001b[0;32m<ipython-input-50-f3fc120c03c1>\u001b[0m in \u001b[0;36m<module>\u001b[0;34m\u001b[0m\n\u001b[0;32m----> 1\u001b[0;31m \u001b[0mfile\u001b[0m\u001b[0;34m.\u001b[0m\u001b[0mread\u001b[0m\u001b[0;34m(\u001b[0m\u001b[0;34m)\u001b[0m\u001b[0;34m\u001b[0m\u001b[0;34m\u001b[0m\u001b[0m\n\u001b[0m",
      "\u001b[0;31mValueError\u001b[0m: I/O operation on closed file."
     ]
    }
   ],
   "source": [
    "file.read()"
   ]
  },
  {
   "cell_type": "markdown",
   "metadata": {},
   "source": [
    "##### Reading binary files"
   ]
  },
  {
   "cell_type": "markdown",
   "metadata": {},
   "source": [
    "We can also read binary files, but binary content will look like gibberish to a human eye. To read a binary file, we need to pass the argument `\"rb\"` (\"read binary\") instead of `\"r\"` as the second argument of the open function. Let's have a look at an excel file:"
   ]
  },
  {
   "cell_type": "code",
   "execution_count": 51,
   "metadata": {},
   "outputs": [],
   "source": [
    "excelFile = open('../course_material/excelfile.xlsx',\"rb\")"
   ]
  },
  {
   "cell_type": "markdown",
   "metadata": {},
   "source": [
    "Let's not open the entire file, just the first 200 characters:"
   ]
  },
  {
   "cell_type": "code",
   "execution_count": 52,
   "metadata": {},
   "outputs": [
    {
     "data": {
      "text/plain": [
       "b'PK\\x03\\x04\\x14\\x00\\x06\\x00\\x08\\x00\\x00\\x00!\\x00\\x0c\\xeb\\xe3\\xff[\\x01\\x00\\x00\\x88\\x04\\x00\\x00\\x13\\x00\\x08\\x02[Content_Types].xml \\xa2\\x04\\x02(\\xa0\\x00\\x02\\x00\\x00\\x00\\x00\\x00\\x00\\x00\\x00\\x00\\x00\\x00\\x00\\x00\\x00\\x00\\x00\\x00\\x00\\x00\\x00\\x00\\x00\\x00\\x00\\x00\\x00\\x00\\x00\\x00\\x00\\x00\\x00\\x00\\x00\\x00\\x00\\x00\\x00\\x00\\x00\\x00\\x00\\x00\\x00\\x00\\x00\\x00\\x00\\x00\\x00\\x00\\x00\\x00\\x00\\x00\\x00\\x00\\x00\\x00\\x00\\x00\\x00\\x00\\x00\\x00\\x00\\x00\\x00\\x00\\x00\\x00\\x00\\x00\\x00\\x00\\x00\\x00\\x00\\x00\\x00\\x00\\x00\\x00\\x00\\x00\\x00\\x00\\x00\\x00\\x00\\x00\\x00\\x00\\x00\\x00\\x00\\x00\\x00\\x00\\x00\\x00\\x00\\x00\\x00\\x00\\x00\\x00\\x00\\x00\\x00\\x00\\x00\\x00\\x00\\x00\\x00\\x00\\x00\\x00\\x00\\x00\\x00\\x00\\x00\\x00\\x00\\x00\\x00\\x00\\x00\\x00\\x00\\x00\\x00\\x00\\x00\\x00\\x00\\x00\\x00\\x00\\x00\\x00'"
      ]
     },
     "execution_count": 52,
     "metadata": {},
     "output_type": "execute_result"
    }
   ],
   "source": [
    "excelFile.read()[:200]"
   ]
  },
  {
   "cell_type": "markdown",
   "metadata": {},
   "source": [
    "#### Writing files and creating directories"
   ]
  },
  {
   "cell_type": "markdown",
   "metadata": {},
   "source": [
    "We can pass the string `\"w\"` as an argument to open in write mode, which lets us change the file's content. If the file our path points to doesn't exist, and we open in write mode, _we will create a file_. Let's try it!"
   ]
  },
  {
   "cell_type": "code",
   "execution_count": 53,
   "metadata": {},
   "outputs": [],
   "source": [
    "file = open(\"test.txt\",\"w\")"
   ]
  },
  {
   "cell_type": "markdown",
   "metadata": {},
   "source": [
    "Since we didn't give the `open()` function an absolute path, it took the path and looked for a file named `test.txt` in the current working directory. Since no such file existed, it created on. Have a look in the course folder, there should now be a new text file named \"test\"!\n",
    "\n",
    "So, if we open a file in write mode, and no such file exists, we will create a new file. But what happens if we try to open a file that doesn't exist in read mode?"
   ]
  },
  {
   "cell_type": "code",
   "execution_count": 54,
   "metadata": {},
   "outputs": [
    {
     "ename": "FileNotFoundError",
     "evalue": "[Errno 2] No such file or directory: 'xyz.txt'",
     "output_type": "error",
     "traceback": [
      "\u001b[0;31m---------------------------------------------------------------------------\u001b[0m",
      "\u001b[0;31mFileNotFoundError\u001b[0m                         Traceback (most recent call last)",
      "\u001b[0;32m<ipython-input-54-419d60724ba5>\u001b[0m in \u001b[0;36m<module>\u001b[0;34m\u001b[0m\n\u001b[0;32m----> 1\u001b[0;31m \u001b[0mopen\u001b[0m\u001b[0;34m(\u001b[0m\u001b[0;34m\"xyz.txt\"\u001b[0m\u001b[0;34m,\u001b[0m\u001b[0;34m\"r\"\u001b[0m\u001b[0;34m)\u001b[0m\u001b[0;34m\u001b[0m\u001b[0;34m\u001b[0m\u001b[0m\n\u001b[0m",
      "\u001b[0;31mFileNotFoundError\u001b[0m: [Errno 2] No such file or directory: 'xyz.txt'"
     ]
    }
   ],
   "source": [
    "open(\"xyz.txt\",\"r\")"
   ]
  },
  {
   "cell_type": "markdown",
   "metadata": {},
   "source": [
    "We get an error!\n",
    "\n",
    "Ok, so we have created a file, and simultanously opened this file in write mode. Let's check the file object:"
   ]
  },
  {
   "cell_type": "code",
   "execution_count": 55,
   "metadata": {},
   "outputs": [
    {
     "data": {
      "text/plain": [
       "<_io.TextIOWrapper name='test.txt' mode='w' encoding='UTF-8'>"
      ]
     },
     "execution_count": 55,
     "metadata": {},
     "output_type": "execute_result"
    }
   ],
   "source": [
    "file"
   ]
  },
  {
   "cell_type": "markdown",
   "metadata": {},
   "source": [
    "Since it is in write mode, we can add content to the file! Let's start by creating a string that we'd like to add to our new file:"
   ]
  },
  {
   "cell_type": "code",
   "execution_count": 56,
   "metadata": {},
   "outputs": [],
   "source": [
    "text = \"This is some very exciting and new content going on here!\""
   ]
  },
  {
   "cell_type": "markdown",
   "metadata": {},
   "source": [
    "Our file object has a method called `.write()` that takes whatever content we want to add to the file as an argument. This will then be written to the file object:"
   ]
  },
  {
   "cell_type": "code",
   "execution_count": 57,
   "metadata": {},
   "outputs": [
    {
     "data": {
      "text/plain": [
       "57"
      ]
     },
     "execution_count": 57,
     "metadata": {},
     "output_type": "execute_result"
    }
   ],
   "source": [
    "file.write(text)"
   ]
  },
  {
   "cell_type": "markdown",
   "metadata": {},
   "source": [
    "The method returns an integer, in this case 57. It just returns the length of the content we just added:"
   ]
  },
  {
   "cell_type": "code",
   "execution_count": 58,
   "metadata": {},
   "outputs": [
    {
     "data": {
      "text/plain": [
       "57"
      ]
     },
     "execution_count": 58,
     "metadata": {},
     "output_type": "execute_result"
    }
   ],
   "source": [
    "len(text)"
   ]
  },
  {
   "cell_type": "markdown",
   "metadata": {},
   "source": [
    "We've now added our content, let's close the file:"
   ]
  },
  {
   "cell_type": "code",
   "execution_count": 59,
   "metadata": {},
   "outputs": [],
   "source": [
    "file.close()"
   ]
  },
  {
   "cell_type": "markdown",
   "metadata": {},
   "source": [
    "If you now check the text file, you'll see that our text string was added! Yay!\n",
    "\n",
    "**CAUTION!** If you now open the file in write mode again, you'll see that its content has been erased."
   ]
  },
  {
   "cell_type": "code",
   "execution_count": 60,
   "metadata": {},
   "outputs": [],
   "source": [
    "file = open(\"test.txt\",\"w\")\n",
    "file.close()"
   ]
  },
  {
   "cell_type": "code",
   "execution_count": 61,
   "metadata": {},
   "outputs": [
    {
     "data": {
      "text/plain": [
       "''"
      ]
     },
     "execution_count": 61,
     "metadata": {},
     "output_type": "execute_result"
    }
   ],
   "source": [
    "file = open(\"test.txt\",\"r\")\n",
    "file.read()"
   ]
  },
  {
   "cell_type": "markdown",
   "metadata": {},
   "source": [
    "If we want to add content to our file, we can open it in \"append mode\", using the argument `\"a\"`. Let's add our text again, and then open the file in append mode:"
   ]
  },
  {
   "cell_type": "code",
   "execution_count": 62,
   "metadata": {},
   "outputs": [],
   "source": [
    "file = open(\"test.txt\",\"w\")"
   ]
  },
  {
   "cell_type": "code",
   "execution_count": 63,
   "metadata": {},
   "outputs": [],
   "source": [
    "file.write(text)\n",
    "file.close()"
   ]
  },
  {
   "cell_type": "code",
   "execution_count": 64,
   "metadata": {},
   "outputs": [],
   "source": [
    "file = open(\"test.txt\",\"a\") # append mode"
   ]
  },
  {
   "cell_type": "code",
   "execution_count": 65,
   "metadata": {},
   "outputs": [],
   "source": [
    "new_text = \"\\nSome new exciting text that we've added!\""
   ]
  },
  {
   "cell_type": "code",
   "execution_count": 66,
   "metadata": {},
   "outputs": [
    {
     "data": {
      "text/plain": [
       "41"
      ]
     },
     "execution_count": 66,
     "metadata": {},
     "output_type": "execute_result"
    }
   ],
   "source": [
    "file.write(new_text)"
   ]
  },
  {
   "cell_type": "code",
   "execution_count": 67,
   "metadata": {},
   "outputs": [],
   "source": [
    "file.close()"
   ]
  },
  {
   "cell_type": "markdown",
   "metadata": {},
   "source": [
    "Let's check the files content to see if our new text was added:"
   ]
  },
  {
   "cell_type": "code",
   "execution_count": 68,
   "metadata": {},
   "outputs": [],
   "source": [
    "file = open('test.txt', \"r\")"
   ]
  },
  {
   "cell_type": "code",
   "execution_count": 69,
   "metadata": {},
   "outputs": [
    {
     "name": "stdout",
     "output_type": "stream",
     "text": [
      "This is some very exciting and new content going on here!\n",
      "Some new exciting text that we've added!\n"
     ]
    }
   ],
   "source": [
    "print(file.read())"
   ]
  },
  {
   "cell_type": "markdown",
   "metadata": {},
   "source": [
    "It worked!"
   ]
  },
  {
   "cell_type": "markdown",
   "metadata": {},
   "source": [
    "Using the `os` module, we can also create new directories. The `.mkdir()` takes a path as an argument and creates a new folder:"
   ]
  },
  {
   "cell_type": "code",
   "execution_count": 70,
   "metadata": {},
   "outputs": [],
   "source": [
    "os.mkdir(\"fruits\")"
   ]
  },
  {
   "cell_type": "markdown",
   "metadata": {},
   "source": [
    "This _relative path_ created a new directory in the current working directory. You can check to see by yourself in the course folder, or we can use the `pathlib` module to check if this directory exists:"
   ]
  },
  {
   "cell_type": "code",
   "execution_count": 71,
   "metadata": {},
   "outputs": [
    {
     "data": {
      "text/plain": [
       "True"
      ]
     },
     "execution_count": 71,
     "metadata": {},
     "output_type": "execute_result"
    }
   ],
   "source": [
    "Path(\"fruits\").is_dir()"
   ]
  },
  {
   "cell_type": "markdown",
   "metadata": {},
   "source": [
    "Please note that this method will raise an error if the folder we try to create already exist:"
   ]
  },
  {
   "cell_type": "code",
   "execution_count": 72,
   "metadata": {},
   "outputs": [
    {
     "ename": "FileExistsError",
     "evalue": "[Errno 17] File exists: 'fruits'",
     "output_type": "error",
     "traceback": [
      "\u001b[0;31m---------------------------------------------------------------------------\u001b[0m",
      "\u001b[0;31mFileExistsError\u001b[0m                           Traceback (most recent call last)",
      "\u001b[0;32m<ipython-input-72-ec62e3a505dc>\u001b[0m in \u001b[0;36m<module>\u001b[0;34m\u001b[0m\n\u001b[0;32m----> 1\u001b[0;31m \u001b[0mos\u001b[0m\u001b[0;34m.\u001b[0m\u001b[0mmkdir\u001b[0m\u001b[0;34m(\u001b[0m\u001b[0;34m\"fruits\"\u001b[0m\u001b[0;34m)\u001b[0m\u001b[0;34m\u001b[0m\u001b[0;34m\u001b[0m\u001b[0m\n\u001b[0m",
      "\u001b[0;31mFileExistsError\u001b[0m: [Errno 17] File exists: 'fruits'"
     ]
    }
   ],
   "source": [
    "os.mkdir(\"fruits\")"
   ]
  },
  {
   "cell_type": "markdown",
   "metadata": {},
   "source": [
    "##### Creating files with the `pathlib` module"
   ]
  },
  {
   "cell_type": "markdown",
   "metadata": {},
   "source": [
    "The standard procedure to create and alter files is with the `open()` function. Interestingly, the `pathlib` module has this function built in, which makes creating files a bit smoother.\n",
    "\n",
    "Let's start by creating a path object. We want this path object to include the name of the file we're gonna create. So the path will be the path to where the new file should live, _and_ the name of this new file:"
   ]
  },
  {
   "cell_type": "code",
   "execution_count": 73,
   "metadata": {},
   "outputs": [],
   "source": [
    "path = Path.cwd() / \"fruits\" / \"new_file.txt\""
   ]
  },
  {
   "cell_type": "code",
   "execution_count": 74,
   "metadata": {},
   "outputs": [
    {
     "data": {
      "text/plain": [
       "PosixPath('/Users/johekm/Documents/lectures/learning_python/continuation_course/fruits/new_file.txt')"
      ]
     },
     "execution_count": 74,
     "metadata": {},
     "output_type": "execute_result"
    }
   ],
   "source": [
    "path"
   ]
  },
  {
   "cell_type": "markdown",
   "metadata": {},
   "source": [
    "The path object actually has the `open()` function as a method! Let's create a new textfile in the `fruits` folder:"
   ]
  },
  {
   "cell_type": "code",
   "execution_count": 75,
   "metadata": {},
   "outputs": [],
   "source": [
    "file = path.open(\"w\")"
   ]
  },
  {
   "cell_type": "code",
   "execution_count": 76,
   "metadata": {},
   "outputs": [],
   "source": [
    "text = \"This is a new file created using the pathlib module!\""
   ]
  },
  {
   "cell_type": "code",
   "execution_count": 77,
   "metadata": {},
   "outputs": [
    {
     "data": {
      "text/plain": [
       "52"
      ]
     },
     "execution_count": 77,
     "metadata": {},
     "output_type": "execute_result"
    }
   ],
   "source": [
    "file.write(text)"
   ]
  },
  {
   "cell_type": "code",
   "execution_count": 78,
   "metadata": {},
   "outputs": [],
   "source": [
    "file.close()"
   ]
  },
  {
   "cell_type": "markdown",
   "metadata": {},
   "source": [
    "Let's use the same path object to again open the file. But in read mode this time to see if it worked:"
   ]
  },
  {
   "cell_type": "code",
   "execution_count": 79,
   "metadata": {},
   "outputs": [],
   "source": [
    "file = path.open(\"r\")"
   ]
  },
  {
   "cell_type": "code",
   "execution_count": 80,
   "metadata": {},
   "outputs": [
    {
     "data": {
      "text/plain": [
       "'This is a new file created using the pathlib module!'"
      ]
     },
     "execution_count": 80,
     "metadata": {},
     "output_type": "execute_result"
    }
   ],
   "source": [
    "file.read()"
   ]
  },
  {
   "cell_type": "code",
   "execution_count": 81,
   "metadata": {},
   "outputs": [],
   "source": [
    "file.close()"
   ]
  },
  {
   "cell_type": "markdown",
   "metadata": {},
   "source": [
    "Yey! It worked! There actually is a faster way to reading the file. Our path object has the `.read_text()` method:"
   ]
  },
  {
   "cell_type": "code",
   "execution_count": 82,
   "metadata": {},
   "outputs": [
    {
     "data": {
      "text/plain": [
       "'This is a new file created using the pathlib module!'"
      ]
     },
     "execution_count": 82,
     "metadata": {},
     "output_type": "execute_result"
    }
   ],
   "source": [
    "path.read_text()"
   ]
  },
  {
   "cell_type": "markdown",
   "metadata": {},
   "source": [
    "This way, we got the file's content opened and returned using only 1 line of code! Let's try it on another file, this time without saving the path to a variable:"
   ]
  },
  {
   "cell_type": "code",
   "execution_count": 83,
   "metadata": {},
   "outputs": [
    {
     "data": {
      "text/plain": [
       "\"This is some very exciting and new content going on here!\\nSome new exciting text that we've added!\""
      ]
     },
     "execution_count": 83,
     "metadata": {},
     "output_type": "execute_result"
    }
   ],
   "source": [
    "Path(\"test.txt\").read_text()"
   ]
  },
  {
   "cell_type": "markdown",
   "metadata": {},
   "source": [
    "Pretty neat, right?!"
   ]
  },
  {
   "cell_type": "markdown",
   "metadata": {},
   "source": [
    "#### Exercise – file creator function"
   ]
  },
  {
   "cell_type": "markdown",
   "metadata": {},
   "source": [
    "In this exercise I want you to create a function that creates a text file (with the `.txt` file extension). It should take two arguments: First an absolute path (including the file's name). Second, a string that should be the contents of the text file. \n",
    "\n",
    "\n",
    "Your function should check to see if the passed path exists, and if not, it should warn the user and return nothing more. Bonus points if your function also checks if a text file with the passed name already exists at the path location, and in that case just adds the passed string to the file on a new line.\n",
    "\n",
    "The solution can be found in the solutions notebook. Good luck!"
   ]
  },
  {
   "cell_type": "markdown",
   "metadata": {},
   "source": [
    "#### Deleting files and folders"
   ]
  },
  {
   "cell_type": "markdown",
   "metadata": {},
   "source": [
    "A quick warning before we learn how to delete files and folders. When doing so in Python code, the files we erase won't be moved to the trash bin of your computer. They will be permenantly erased. So be careful with what you type so you don't accidently don't remove something you want to keep :)\n",
    "\n",
    "There are a number of ways of erasing files and folders. First, we have the `.remove()` method of the `os` module. Let's first create a file that we can delete with this method:"
   ]
  },
  {
   "cell_type": "code",
   "execution_count": 84,
   "metadata": {},
   "outputs": [],
   "source": [
    "file = open(\"test.txt\",\"w\")\n",
    "file.close()"
   ]
  },
  {
   "cell_type": "markdown",
   "metadata": {},
   "source": [
    "Let's see if the file was created as expected:"
   ]
  },
  {
   "cell_type": "code",
   "execution_count": 85,
   "metadata": {},
   "outputs": [
    {
     "data": {
      "text/plain": [
       "True"
      ]
     },
     "execution_count": 85,
     "metadata": {},
     "output_type": "execute_result"
    }
   ],
   "source": [
    "Path(\"test.txt\").is_file()"
   ]
  },
  {
   "cell_type": "markdown",
   "metadata": {},
   "source": [
    "Great! Let's delete it!"
   ]
  },
  {
   "cell_type": "code",
   "execution_count": 86,
   "metadata": {},
   "outputs": [],
   "source": [
    "os.remove(\"test.txt\")"
   ]
  },
  {
   "cell_type": "code",
   "execution_count": 87,
   "metadata": {},
   "outputs": [
    {
     "data": {
      "text/plain": [
       "False"
      ]
     },
     "execution_count": 87,
     "metadata": {},
     "output_type": "execute_result"
    }
   ],
   "source": [
    "Path(\"test.txt\").is_file()"
   ]
  },
  {
   "cell_type": "markdown",
   "metadata": {},
   "source": [
    "Gone!\n",
    "\n",
    "We can also use the `pathlib` module to remove files. The `Path` class has the method `.unlink()` that does the same work that `.remove()` did above:"
   ]
  },
  {
   "cell_type": "code",
   "execution_count": 88,
   "metadata": {},
   "outputs": [],
   "source": [
    "file = open(\"test.txt\",\"w\")\n",
    "file.close()"
   ]
  },
  {
   "cell_type": "code",
   "execution_count": 89,
   "metadata": {},
   "outputs": [
    {
     "data": {
      "text/plain": [
       "True"
      ]
     },
     "execution_count": 89,
     "metadata": {},
     "output_type": "execute_result"
    }
   ],
   "source": [
    "Path(\"test.txt\").is_file()"
   ]
  },
  {
   "cell_type": "code",
   "execution_count": 90,
   "metadata": {},
   "outputs": [],
   "source": [
    "Path(\"test.txt\").unlink()"
   ]
  },
  {
   "cell_type": "code",
   "execution_count": 91,
   "metadata": {},
   "outputs": [
    {
     "data": {
      "text/plain": [
       "False"
      ]
     },
     "execution_count": 91,
     "metadata": {},
     "output_type": "execute_result"
    }
   ],
   "source": [
    "Path(\"test.txt\").is_file()"
   ]
  },
  {
   "cell_type": "markdown",
   "metadata": {},
   "source": [
    "Gone!"
   ]
  },
  {
   "cell_type": "markdown",
   "metadata": {},
   "source": [
    "If we want to remove directories, we can do so with both the `os` and the `pathlib` modules. Here, I'll just show you the pathlib method. Let's first create a directory (but only if this directory doesn't exist):"
   ]
  },
  {
   "cell_type": "code",
   "execution_count": 92,
   "metadata": {},
   "outputs": [],
   "source": [
    "if not Path('apples').is_dir():\n",
    "    Path('apples').mkdir()"
   ]
  },
  {
   "cell_type": "markdown",
   "metadata": {},
   "source": [
    "Above, we checked to see if there is a directory called \"apples\" in this current working directory. If not, create it! Let's see if it worked as expected:"
   ]
  },
  {
   "cell_type": "code",
   "execution_count": 93,
   "metadata": {},
   "outputs": [
    {
     "data": {
      "text/plain": [
       "True"
      ]
     },
     "execution_count": 93,
     "metadata": {},
     "output_type": "execute_result"
    }
   ],
   "source": [
    "Path('apples').is_dir()"
   ]
  },
  {
   "cell_type": "markdown",
   "metadata": {},
   "source": [
    "Now, let's remove it using the `.rmdir()` method:"
   ]
  },
  {
   "cell_type": "code",
   "execution_count": 94,
   "metadata": {},
   "outputs": [],
   "source": [
    "Path('apples').rmdir()"
   ]
  },
  {
   "cell_type": "code",
   "execution_count": 95,
   "metadata": {},
   "outputs": [
    {
     "data": {
      "text/plain": [
       "False"
      ]
     },
     "execution_count": 95,
     "metadata": {},
     "output_type": "execute_result"
    }
   ],
   "source": [
    "Path('apples').is_dir()"
   ]
  },
  {
   "cell_type": "markdown",
   "metadata": {},
   "source": [
    "Gone! Success!"
   ]
  },
  {
   "cell_type": "markdown",
   "metadata": {},
   "source": [
    "Now, in section 1.2.2.1, we created a text file and put it in the folder \"fruits\". Let's check to see if it's still there. If not, let's create a new directory and file with this following code!\n",
    "\n",
    "(Try to go through this code, do you understand what is going on? I've added comments to help you out!)"
   ]
  },
  {
   "cell_type": "code",
   "execution_count": 96,
   "metadata": {},
   "outputs": [],
   "source": [
    "path = Path(\"fruits\") # relative path to the directory fruits\n",
    "\n",
    "if not path.is_dir():\n",
    "    # if the folder \"fruits\" doesn't exists, this code block executes\n",
    "    path.mkdir() # create \"frutis\"\n",
    "    path = path / \"new_file.txt\" # append filename to path\n",
    "    path.open(\"w\") # create file!\n",
    "    \n",
    "else:\n",
    "    # if \"fruits\" exists, check to see if there is a text file within called \"new_file.txt\"\n",
    "    path = path / \"new_file.txt\"\n",
    "    \n",
    "    if not path.is_file():\n",
    "        # if no file, create it:\n",
    "        path.open(\"w\")"
   ]
  },
  {
   "cell_type": "code",
   "execution_count": 97,
   "metadata": {},
   "outputs": [],
   "source": [
    "path = Path(\"fruits/new_file.txt\")"
   ]
  },
  {
   "cell_type": "code",
   "execution_count": 98,
   "metadata": {},
   "outputs": [
    {
     "data": {
      "text/plain": [
       "True"
      ]
     },
     "execution_count": 98,
     "metadata": {},
     "output_type": "execute_result"
    }
   ],
   "source": [
    "path.exists()"
   ]
  },
  {
   "cell_type": "markdown",
   "metadata": {},
   "source": [
    "Now, let's remove the \"fruits\" directory:"
   ]
  },
  {
   "cell_type": "code",
   "execution_count": 99,
   "metadata": {},
   "outputs": [
    {
     "ename": "OSError",
     "evalue": "[Errno 66] Directory not empty: 'fruits'",
     "output_type": "error",
     "traceback": [
      "\u001b[0;31m---------------------------------------------------------------------------\u001b[0m",
      "\u001b[0;31mOSError\u001b[0m                                   Traceback (most recent call last)",
      "\u001b[0;32m<ipython-input-99-a30cfa566068>\u001b[0m in \u001b[0;36m<module>\u001b[0;34m\u001b[0m\n\u001b[0;32m----> 1\u001b[0;31m \u001b[0mPath\u001b[0m\u001b[0;34m(\u001b[0m\u001b[0;34m\"fruits\"\u001b[0m\u001b[0;34m)\u001b[0m\u001b[0;34m.\u001b[0m\u001b[0mrmdir\u001b[0m\u001b[0;34m(\u001b[0m\u001b[0;34m)\u001b[0m\u001b[0;34m\u001b[0m\u001b[0;34m\u001b[0m\u001b[0m\n\u001b[0m",
      "\u001b[0;32m/usr/local/opt/python@3.8/Frameworks/Python.framework/Versions/3.8/lib/python3.8/pathlib.py\u001b[0m in \u001b[0;36mrmdir\u001b[0;34m(self)\u001b[0m\n\u001b[1;32m   1330\u001b[0m         \u001b[0;32mif\u001b[0m \u001b[0mself\u001b[0m\u001b[0;34m.\u001b[0m\u001b[0m_closed\u001b[0m\u001b[0;34m:\u001b[0m\u001b[0;34m\u001b[0m\u001b[0;34m\u001b[0m\u001b[0m\n\u001b[1;32m   1331\u001b[0m             \u001b[0mself\u001b[0m\u001b[0;34m.\u001b[0m\u001b[0m_raise_closed\u001b[0m\u001b[0;34m(\u001b[0m\u001b[0;34m)\u001b[0m\u001b[0;34m\u001b[0m\u001b[0;34m\u001b[0m\u001b[0m\n\u001b[0;32m-> 1332\u001b[0;31m         \u001b[0mself\u001b[0m\u001b[0;34m.\u001b[0m\u001b[0m_accessor\u001b[0m\u001b[0;34m.\u001b[0m\u001b[0mrmdir\u001b[0m\u001b[0;34m(\u001b[0m\u001b[0mself\u001b[0m\u001b[0;34m)\u001b[0m\u001b[0;34m\u001b[0m\u001b[0;34m\u001b[0m\u001b[0m\n\u001b[0m\u001b[1;32m   1333\u001b[0m \u001b[0;34m\u001b[0m\u001b[0m\n\u001b[1;32m   1334\u001b[0m     \u001b[0;32mdef\u001b[0m \u001b[0mlstat\u001b[0m\u001b[0;34m(\u001b[0m\u001b[0mself\u001b[0m\u001b[0;34m)\u001b[0m\u001b[0;34m:\u001b[0m\u001b[0;34m\u001b[0m\u001b[0;34m\u001b[0m\u001b[0m\n",
      "\u001b[0;31mOSError\u001b[0m: [Errno 66] Directory not empty: 'fruits'"
     ]
    }
   ],
   "source": [
    "Path(\"fruits\").rmdir()"
   ]
  },
  {
   "cell_type": "markdown",
   "metadata": {},
   "source": [
    "Whoopsie! This method doesn't work when there is content within the directory. It _only_ works on empty directories. Let's try the `os` module's method instead:"
   ]
  },
  {
   "cell_type": "code",
   "execution_count": 100,
   "metadata": {},
   "outputs": [
    {
     "ename": "OSError",
     "evalue": "[Errno 66] Directory not empty: 'fruits'",
     "output_type": "error",
     "traceback": [
      "\u001b[0;31m---------------------------------------------------------------------------\u001b[0m",
      "\u001b[0;31mOSError\u001b[0m                                   Traceback (most recent call last)",
      "\u001b[0;32m<ipython-input-100-a6785ed59a32>\u001b[0m in \u001b[0;36m<module>\u001b[0;34m\u001b[0m\n\u001b[0;32m----> 1\u001b[0;31m \u001b[0mos\u001b[0m\u001b[0;34m.\u001b[0m\u001b[0mrmdir\u001b[0m\u001b[0;34m(\u001b[0m\u001b[0;34m\"fruits\"\u001b[0m\u001b[0;34m)\u001b[0m\u001b[0;34m\u001b[0m\u001b[0;34m\u001b[0m\u001b[0m\n\u001b[0m",
      "\u001b[0;31mOSError\u001b[0m: [Errno 66] Directory not empty: 'fruits'"
     ]
    }
   ],
   "source": [
    "os.rmdir(\"fruits\")"
   ]
  },
  {
   "cell_type": "markdown",
   "metadata": {},
   "source": [
    "Huh? Same problem there >:("
   ]
  },
  {
   "cell_type": "markdown",
   "metadata": {},
   "source": [
    "This means that to remove this \"fruits\" folder, we have to remove the file (or files) within it first. Which is annoying. Fortunatly, there is a way to just remove an entire tree of folders and files. We'll just have to import and use the `shutil` module. There we find the method `.rmtree()`.\n",
    "\n",
    "**CAUTION!!!** Since this method **removes all directories and all files in a passed path**. It _doesn't move it to the trash bin of your computer_, it just erases it for good. Be VERY careful that you don't pass a path to something important. Use with care! \n",
    "\n",
    "Let's import it!"
   ]
  },
  {
   "cell_type": "code",
   "execution_count": 101,
   "metadata": {},
   "outputs": [],
   "source": [
    "import shutil"
   ]
  },
  {
   "cell_type": "code",
   "execution_count": 296,
   "metadata": {},
   "outputs": [],
   "source": [
    "shutil.rmtree(\"fruits\")"
   ]
  },
  {
   "cell_type": "code",
   "execution_count": 297,
   "metadata": {},
   "outputs": [
    {
     "data": {
      "text/plain": [
       "False"
      ]
     },
     "execution_count": 297,
     "metadata": {},
     "output_type": "execute_result"
    }
   ],
   "source": [
    "path = Path(\"fruits/new_file.txt\")\n",
    "path.exists()"
   ]
  },
  {
   "cell_type": "markdown",
   "metadata": {},
   "source": [
    "Gone!\n",
    "\n",
    "As you can see, the entire directory and its contents have been deleted. Again, be careful with this method!"
   ]
  },
  {
   "cell_type": "markdown",
   "metadata": {},
   "source": [
    "#### Copying and moving files"
   ]
  },
  {
   "cell_type": "markdown",
   "metadata": {},
   "source": [
    "We can use the `shutil` module for copying and moving files, using the `.copy()` method."
   ]
  },
  {
   "cell_type": "code",
   "execution_count": 304,
   "metadata": {},
   "outputs": [],
   "source": [
    "import shutil"
   ]
  },
  {
   "cell_type": "markdown",
   "metadata": {},
   "source": [
    "Let's create a new file and then a new directory. We'll try to move the file into the directory, using Python code!"
   ]
  },
  {
   "cell_type": "code",
   "execution_count": 102,
   "metadata": {},
   "outputs": [],
   "source": [
    "# this if-statement is just to be sure there isn't a 'fruits' folder already\n",
    "if not os.path.isdir(\"fruits\"):\n",
    "    os.mkdir('fruits') # creating a new folder called \"fruits\""
   ]
  },
  {
   "cell_type": "code",
   "execution_count": 103,
   "metadata": {},
   "outputs": [],
   "source": [
    "file = open(\"new_file.txt\",\"w\") # creating a new file\n",
    "file.close()"
   ]
  },
  {
   "cell_type": "markdown",
   "metadata": {},
   "source": [
    "Let's see if the we can see our new file and folder in the course directory, uncomment and check for yourself:"
   ]
  },
  {
   "cell_type": "code",
   "execution_count": 309,
   "metadata": {},
   "outputs": [],
   "source": [
    "#os.listdir() # no path means that it will list the content in the current working directory"
   ]
  },
  {
   "cell_type": "markdown",
   "metadata": {},
   "source": [
    "Now, let's move our file into the \"fruits\" folder, using the `.copy()` method of the `shutil` module. The copy method takes two arguments: one path to the file object we want to copy, and one path pointing to where we want to copy the file to. Let's create two such path objects:"
   ]
  },
  {
   "cell_type": "code",
   "execution_count": 104,
   "metadata": {},
   "outputs": [],
   "source": [
    "origin_path = Path(\"new_file.txt\")\n",
    "destination_path = \"fruits\" / origin_path # path object syntax, remember? Check section 1.1.2.1 if not :)"
   ]
  },
  {
   "cell_type": "code",
   "execution_count": 105,
   "metadata": {},
   "outputs": [
    {
     "data": {
      "text/plain": [
       "PosixPath('fruits/new_file.txt')"
      ]
     },
     "execution_count": 105,
     "metadata": {},
     "output_type": "execute_result"
    }
   ],
   "source": [
    "shutil.copy(origin_path, destination_path)"
   ]
  },
  {
   "cell_type": "markdown",
   "metadata": {},
   "source": [
    "The `.copy()` method returns the destination path as a default, so don't let that confuse you! Now let's check to see if it worked. Either check for yourself in the course folder on you computer, or by running this code:"
   ]
  },
  {
   "cell_type": "code",
   "execution_count": 106,
   "metadata": {},
   "outputs": [
    {
     "data": {
      "text/plain": [
       "['new_file.txt']"
      ]
     },
     "execution_count": 106,
     "metadata": {},
     "output_type": "execute_result"
    }
   ],
   "source": [
    "os.listdir(\"fruits\")"
   ]
  },
  {
   "cell_type": "markdown",
   "metadata": {},
   "source": [
    "While copying and moving our file, we can also rename it by writing a new name in the destination path argument. Let me show you what I mean: "
   ]
  },
  {
   "cell_type": "code",
   "execution_count": 107,
   "metadata": {},
   "outputs": [],
   "source": [
    "origin_path = Path(\"new_file.txt\")\n",
    "destination_path = \"fruits\" / Path(\"new_file_new_name.txt\")"
   ]
  },
  {
   "cell_type": "code",
   "execution_count": 108,
   "metadata": {},
   "outputs": [
    {
     "data": {
      "text/plain": [
       "PosixPath('fruits/new_file_new_name.txt')"
      ]
     },
     "execution_count": 108,
     "metadata": {},
     "output_type": "execute_result"
    }
   ],
   "source": [
    "shutil.copy(origin_path, destination_path)"
   ]
  },
  {
   "cell_type": "code",
   "execution_count": 109,
   "metadata": {},
   "outputs": [
    {
     "data": {
      "text/plain": [
       "['new_file.txt', 'new_file_new_name.txt']"
      ]
     },
     "execution_count": 109,
     "metadata": {},
     "output_type": "execute_result"
    }
   ],
   "source": [
    "os.listdir(\"fruits\")"
   ]
  },
  {
   "cell_type": "markdown",
   "metadata": {},
   "source": [
    "See! We wook the file \"new_file.txt\" and copied it to the folder \"fruits\", renaming it to \"new_file_new_name.txt\" in the process. Pretty handy!\n",
    "\n",
    "Now let's delete the fruits directory, with its content, and our test file \"new_file.txt\":"
   ]
  },
  {
   "cell_type": "code",
   "execution_count": 110,
   "metadata": {},
   "outputs": [],
   "source": [
    "shutil.rmtree(\"fruits\") # removes the \"fruits\" fodler and all its content"
   ]
  },
  {
   "cell_type": "markdown",
   "metadata": {},
   "source": [
    "Removing the file, we can use the `.unlink()` method on our file's path:"
   ]
  },
  {
   "cell_type": "code",
   "execution_count": 111,
   "metadata": {},
   "outputs": [
    {
     "data": {
      "text/plain": [
       "PosixPath('new_file.txt')"
      ]
     },
     "execution_count": 111,
     "metadata": {},
     "output_type": "execute_result"
    }
   ],
   "source": [
    "origin_path"
   ]
  },
  {
   "cell_type": "code",
   "execution_count": 112,
   "metadata": {},
   "outputs": [],
   "source": [
    "origin_path.unlink() # removes the \"new_file.txt\" file"
   ]
  },
  {
   "cell_type": "code",
   "execution_count": 113,
   "metadata": {},
   "outputs": [
    {
     "data": {
      "text/plain": [
       "False"
      ]
     },
     "execution_count": 113,
     "metadata": {},
     "output_type": "execute_result"
    }
   ],
   "source": [
    "origin_path.is_file()"
   ]
  },
  {
   "cell_type": "code",
   "execution_count": 114,
   "metadata": {},
   "outputs": [
    {
     "data": {
      "text/plain": [
       "False"
      ]
     },
     "execution_count": 114,
     "metadata": {},
     "output_type": "execute_result"
    }
   ],
   "source": [
    "Path(\"fruits\").is_dir()"
   ]
  },
  {
   "cell_type": "markdown",
   "metadata": {},
   "source": [
    "Gone! Well done!"
   ]
  },
  {
   "cell_type": "markdown",
   "metadata": {},
   "source": [
    "#### Looping over files"
   ]
  },
  {
   "cell_type": "markdown",
   "metadata": {},
   "source": [
    "Now we know how to manage files – creating, altering, deleting and moving them. And you actually now know enough to loop over files in directories to find what you're looking for! But let's do it together.\n",
    "\n",
    "We'll start by using the `.listsir()` method of the `os` module to see the contents in the `course_material` folder:"
   ]
  },
  {
   "cell_type": "code",
   "execution_count": 115,
   "metadata": {},
   "outputs": [
    {
     "data": {
      "text/plain": [
       "['mutable_scope.png',\n",
       " 'excelfile.xlsx',\n",
       " '.DS_Store',\n",
       " 'while_loop.png',\n",
       " 'scopes.png',\n",
       " 'readme',\n",
       " 'windows_root.png',\n",
       " 'immutable_1.png',\n",
       " 'interrupt.png',\n",
       " 'immutable_3.png',\n",
       " 'speach.txt',\n",
       " 'immutable_2.png',\n",
       " 'if_statement.png',\n",
       " 'hello.txt',\n",
       " 'mutable.png',\n",
       " 'mutable_2.png']"
      ]
     },
     "execution_count": 115,
     "metadata": {},
     "output_type": "execute_result"
    }
   ],
   "source": [
    "import os\n",
    "\n",
    "os.listdir(\"../course_material/\")"
   ]
  },
  {
   "cell_type": "markdown",
   "metadata": {},
   "source": [
    "As you can see, we get _all_ files' and directories' names when using this method. But what if we only want the plaintext files, that is, the files with the file extension `.txt`? We can use a loop!\n",
    "\n",
    "As you've may have noticed, all names that are returned from the `.listdir()` method are string values. This means that we can use string methods on each name in a for-loop. \n",
    "\n",
    "Since we're looking for the file extension `.txt`, and since file extensions always are at the end of filenames, this is a perfect situation to use the string method `.endswith()`. It does exactly what you think it does!\n",
    "\n",
    "So let's create a for loop! But first, we're gonna need the path to where the files are located:"
   ]
  },
  {
   "cell_type": "code",
   "execution_count": 116,
   "metadata": {},
   "outputs": [],
   "source": [
    "path = Path(\"../course_material/\") # path to files\n",
    "file_list = os.listdir(path) # list of files, based on path"
   ]
  },
  {
   "cell_type": "code",
   "execution_count": 117,
   "metadata": {
    "scrolled": true
   },
   "outputs": [
    {
     "data": {
      "text/plain": [
       "['mutable_scope.png',\n",
       " 'excelfile.xlsx',\n",
       " '.DS_Store',\n",
       " 'while_loop.png',\n",
       " 'scopes.png',\n",
       " 'readme',\n",
       " 'windows_root.png',\n",
       " 'immutable_1.png',\n",
       " 'interrupt.png',\n",
       " 'immutable_3.png',\n",
       " 'speach.txt',\n",
       " 'immutable_2.png',\n",
       " 'if_statement.png',\n",
       " 'hello.txt',\n",
       " 'mutable.png',\n",
       " 'mutable_2.png']"
      ]
     },
     "execution_count": 117,
     "metadata": {},
     "output_type": "execute_result"
    }
   ],
   "source": [
    "file_list"
   ]
  },
  {
   "cell_type": "markdown",
   "metadata": {},
   "source": [
    "Now the for-loop:"
   ]
  },
  {
   "cell_type": "code",
   "execution_count": 118,
   "metadata": {},
   "outputs": [
    {
     "name": "stdout",
     "output_type": "stream",
     "text": [
      "speach.txt\n",
      "hello.txt\n"
     ]
    }
   ],
   "source": [
    "# loop over each file name in \"file_list\"\n",
    "for file in file_list:\n",
    "    if file.endswith(\".txt\"):\n",
    "        # if the filename ends with \".txt\", this will be executed\n",
    "        print(file)\n",
    "    else:\n",
    "        # if not, this will be executed\n",
    "        continue"
   ]
  },
  {
   "cell_type": "markdown",
   "metadata": {},
   "source": [
    "Hang on! Slowly now – what happend here?\n",
    "\n",
    "First, we created a path, pointing to the \"course_material\" directory and saved this path to the variable `. path`. From this path, we then used the `.listdir()` method to get a list of the files in the folder. Then we saved this list into a variable named `file_list`. \n",
    "\n",
    "We created a for-loop that looped over all filenames in `file_list`. In each sequence of the loop, the if statement `if file.endswith(\".txt\")` returns `True` if the present file's extension is `.txt`. If true, the filename will be printed, otherwise, the else clause will be executed – only containing a continue statement."
   ]
  },
  {
   "cell_type": "markdown",
   "metadata": {},
   "source": [
    "But what if we want to save these text files names? We just create a new list variable to append to!"
   ]
  },
  {
   "cell_type": "code",
   "execution_count": 119,
   "metadata": {},
   "outputs": [],
   "source": [
    "text_files = []\n",
    "\n",
    "for file in file_list:\n",
    "    if file.endswith(\".txt\"):\n",
    "        text_files.append(file)\n",
    "    else:\n",
    "        continue"
   ]
  },
  {
   "cell_type": "code",
   "execution_count": 120,
   "metadata": {},
   "outputs": [
    {
     "data": {
      "text/plain": [
       "['speach.txt', 'hello.txt']"
      ]
     },
     "execution_count": 120,
     "metadata": {},
     "output_type": "execute_result"
    }
   ],
   "source": [
    "text_files"
   ]
  },
  {
   "cell_type": "markdown",
   "metadata": {},
   "source": [
    "### Exercise – move the textfiles"
   ]
  },
  {
   "cell_type": "markdown",
   "metadata": {},
   "source": [
    "In this exercise, I want you to create a function that moves all text files in one directory to another. But first, you're gonna run this code cell below. Don't worry about the code itself, its just to create the files we want for this exercise. I've added comments to the code for those curious:"
   ]
  },
  {
   "cell_type": "code",
   "execution_count": 122,
   "metadata": {},
   "outputs": [],
   "source": [
    "import shutil\n",
    "import os\n",
    "\n",
    "from random import randint, seed\n",
    "\n",
    "seed(30)\n",
    "\n",
    "# First, create tree of directories\n",
    "path = Path('exercise')\n",
    "if os.path.isdir(path):\n",
    "    shutil.rmtree(path)\n",
    "    os.mkdir(path)\n",
    "    os.mkdir(path / 'old_location')\n",
    "    os.mkdir(path / 'new_location')\n",
    "else:\n",
    "    os.mkdir(path)\n",
    "    os.mkdir(path / 'old_location')\n",
    "    os.mkdir(path / 'new_location')\n",
    "\n",
    "# This following code randomly creates 500 files\n",
    "file_path = Path('exercise/old_location')\n",
    "for i in range(500):\n",
    "    # random number to decide file extension of present sequence\n",
    "    num = randint(0,1)\n",
    "    # if 'num' equals 0 -> plaintext, otherwise pythonfile\n",
    "    file_ext = \".txt\" if num == 0 else \".py\"\n",
    "    \n",
    "    # Here to decide file content\n",
    "    if file_ext == '.txt':\n",
    "        text = \"This is a plaintext file!\"\n",
    "    else:\n",
    "        text = \"# this is a python file\"\n",
    "        \n",
    "    # finally, writing and closing the file\n",
    "    file = open(file_path / f\"file_{randint(500,10000)}{file_ext}\",\"w\")\n",
    "    file.write(text)\n",
    "    file.close()\n"
   ]
  },
  {
   "cell_type": "markdown",
   "metadata": {},
   "source": [
    "There! We just created 500 files for this exercise! They are located in the  newly created 'exercise' directory – in this current working directory. Here's the exact path:"
   ]
  },
  {
   "cell_type": "code",
   "execution_count": 123,
   "metadata": {},
   "outputs": [
    {
     "data": {
      "text/plain": [
       "PosixPath('exercise/old_location')"
      ]
     },
     "execution_count": 123,
     "metadata": {},
     "output_type": "execute_result"
    }
   ],
   "source": [
    "file_path"
   ]
  },
  {
   "cell_type": "markdown",
   "metadata": {},
   "source": [
    "Let's have a look at 10 of the files:"
   ]
  },
  {
   "cell_type": "code",
   "execution_count": 124,
   "metadata": {},
   "outputs": [
    {
     "data": {
      "text/plain": [
       "['file_3656.py',\n",
       " 'file_3534.txt',\n",
       " 'file_8252.py',\n",
       " 'file_2819.txt',\n",
       " 'file_9233.txt',\n",
       " 'file_661.txt',\n",
       " 'file_7049.py',\n",
       " 'file_9409.txt',\n",
       " 'file_7525.py',\n",
       " 'file_1519.txt']"
      ]
     },
     "execution_count": 124,
     "metadata": {},
     "output_type": "execute_result"
    }
   ],
   "source": [
    "os.listdir(file_path)[:10]"
   ]
  },
  {
   "cell_type": "markdown",
   "metadata": {},
   "source": [
    "Now to the actual exercise. I want you to move copies of all the plaintext files in the \"old_location\" directory to the \"new_location\" directory (also within the \"exercise\" folder). This should be done with a function that takes two arguments: the path where the files are located, and the path to where the files shall be moved.\n",
    "\n",
    "Bonus points: add a third parameter to your function – the present date. This date shall be added to all the files' filename while moving them to the folder \"new_location\". Also, try to find out how many text files there are. Are there more than python files?\n",
    "\n",
    "The solution can be found in the solutions notebook. Good luck!"
   ]
  },
  {
   "cell_type": "markdown",
   "metadata": {},
   "source": [
    "### Reading pdf documents"
   ]
  },
  {
   "cell_type": "markdown",
   "metadata": {},
   "source": [
    "In section 1.2.1.1, we briefly touched the subject of binary files. If we open them with the `open()` function, their content just look like nonsens. PDF documents are binary files, and if we want to be able to work with their content, we're going to need software that helps us translate its binary code into something we can read. \n",
    "\n",
    "Fortunatly, there are a number of options available for us! Unfortunatly, they are all either third party modules, or a bit complicated to download and install. So, here, we will install a third party module that is pretty good at reading pdf-files: `PyPDF2`. \n",
    "\n",
    "Hopefully, you have installed Anaconda as was recommended. Then, you should be able to run this code cell below. It installs the module in your Anaconda set-up. Just uncomment (remove the `#` character) and run the cell:"
   ]
  },
  {
   "cell_type": "code",
   "execution_count": null,
   "metadata": {},
   "outputs": [],
   "source": [
    "#!conda install -c conda-forge pypdf2"
   ]
  },
  {
   "cell_type": "markdown",
   "metadata": {},
   "source": [
    "Now, try to import the `PyPDF2` module:"
   ]
  },
  {
   "cell_type": "code",
   "execution_count": 3,
   "metadata": {},
   "outputs": [],
   "source": [
    "import PyPDF2"
   ]
  },
  {
   "cell_type": "markdown",
   "metadata": {},
   "source": [
    "If you get an error of some kind, try googling how to install third party modules in Anaconda. Add your operative system in the search. Usually, you can find useful answers in search results from the webpage `stackoverflow.com`. If you can't find a solution, or can't be bothered finding one at the moment, just read along!"
   ]
  },
  {
   "cell_type": "markdown",
   "metadata": {},
   "source": [
    "Here's an annoying fact: **PDF documents are an absolute god awful mess!** \n",
    "\n",
    "Many times when you read a pdf document to extract text, there will be some kind of problems with the resulting text. Text characters getting mixed up, paragraphs that get mixed together, tables that can't be read etc etc… \n",
    "\n",
    "The basic reason for this is actually quite intuative: there are as many pdf layouts as there are pdf files. Everyone makes their own layout with their own fonts, colors, logos, pictures etc. That said, the `PyPDF2` module is pretty good! It works well enough to try out in most situations. There are better alternatives, but they're too complicated to go through in this beginners' course.\n",
    "\n",
    "So, let's read a pdf using `PyPDF2`! First we open the file using the `open()` function, but in \"rb\" mode (\"read binary\"):"
   ]
  },
  {
   "cell_type": "code",
   "execution_count": 91,
   "metadata": {},
   "outputs": [],
   "source": [
    "file = open(\"../course_material/report.pdf\",\"rb\")"
   ]
  },
  {
   "cell_type": "markdown",
   "metadata": {},
   "source": [
    "The PyPDF2 module has the class `PdfFileReader`. We can pass our file object to this class and it will return a pdf file object:"
   ]
  },
  {
   "cell_type": "code",
   "execution_count": 92,
   "metadata": {},
   "outputs": [],
   "source": [
    "pdf_file = PyPDF2.PdfFileReader(file)"
   ]
  },
  {
   "cell_type": "markdown",
   "metadata": {},
   "source": [
    "The pdf file object now has a number of useful methods. We can for example check number of pages, using the `.getNumPages()`:"
   ]
  },
  {
   "cell_type": "code",
   "execution_count": 93,
   "metadata": {},
   "outputs": [
    {
     "data": {
      "text/plain": [
       "15"
      ]
     },
     "execution_count": 93,
     "metadata": {},
     "output_type": "execute_result"
    }
   ],
   "source": [
    "pdf_file.getNumPages()"
   ]
  },
  {
   "cell_type": "markdown",
   "metadata": {},
   "source": [
    "We can use the `.getPage()` method on our pdf file object. It will return a new page object if we specify a particular page as an argument to the method. The pages are zero indexed, so first page is always 0. Let's call the method on the second page (index 1) and save it to a new page object:"
   ]
  },
  {
   "cell_type": "code",
   "execution_count": 98,
   "metadata": {},
   "outputs": [],
   "source": [
    "page = pdf_file.getPage(1)"
   ]
  },
  {
   "cell_type": "markdown",
   "metadata": {},
   "source": [
    "We can now use the `.extractText()` on our page object to get the page's text:"
   ]
  },
  {
   "cell_type": "code",
   "execution_count": 101,
   "metadata": {},
   "outputs": [
    {
     "name": "stdout",
     "output_type": "stream",
     "text": [
      "During the year the board held six board meetings, including a statutory \n",
      "meeting in conjunction with the AGM. As in previous years, there was a \n",
      "very high level of attendance by board members. The CEO, CFO and \n",
      "chief accountant also attend all the meetings. Generally, one or two func\n",
      "tions/departments are invited to each meeting to give a status presenta\n",
      "tion concerning what their particular function is working on; for example, \n",
      "every six months the head of sustainability provides an update on \n"
     ]
    }
   ],
   "source": [
    "print(page.extractText()[:500]) # first 500 characters"
   ]
  },
  {
   "cell_type": "markdown",
   "metadata": {},
   "source": [
    "To get all pages text into one single text string, we need to loop over all pages in the pdf file object. Let's first create an empty string to add text to in our loop:"
   ]
  },
  {
   "cell_type": "code",
   "execution_count": 108,
   "metadata": {},
   "outputs": [],
   "source": [
    "content = \"\""
   ]
  },
  {
   "cell_type": "code",
   "execution_count": 109,
   "metadata": {},
   "outputs": [
    {
     "data": {
      "text/plain": [
       "0"
      ]
     },
     "execution_count": 109,
     "metadata": {},
     "output_type": "execute_result"
    }
   ],
   "source": [
    "len(content)"
   ]
  },
  {
   "cell_type": "markdown",
   "metadata": {},
   "source": [
    "Now, we'll use the `.getNumPages()` method to get the total number of sequences for our loop. Then create one page object per loop to extract text from and add it to our `content` variable!"
   ]
  },
  {
   "cell_type": "code",
   "execution_count": 110,
   "metadata": {},
   "outputs": [],
   "source": [
    "for i in range(pdf_file.getNumPages()):\n",
    "    # get page object\n",
    "    page = pdf_file.getPage(i)\n",
    "    # extract text from apge object and concatinate to our 'content' variable\n",
    "    content += page.extractText()"
   ]
  },
  {
   "cell_type": "code",
   "execution_count": 111,
   "metadata": {},
   "outputs": [
    {
     "data": {
      "text/plain": [
       "55344"
      ]
     },
     "execution_count": 111,
     "metadata": {},
     "output_type": "execute_result"
    }
   ],
   "source": [
    "len(content)"
   ]
  },
  {
   "cell_type": "markdown",
   "metadata": {},
   "source": [
    "And that's _one_ way to extract text from a pdf file! If you want to learn a better way, try to install and understand how to use the `pdftotext` software. This is, unfortunatly, not covered in this course."
   ]
  },
  {
   "cell_type": "markdown",
   "metadata": {},
   "source": [
    "### Exercise – pdf to text function"
   ]
  },
  {
   "cell_type": "markdown",
   "metadata": {},
   "source": [
    "Using the `PyPDF2` module, build a function that converts a pdf file to a plaintext file. It should take two arguments. The first is a path to the pdf file that the user wants to convert to text. The second is a path to where the resulting plaintext file should be saved. Here's a example of how the paths could look like:"
   ]
  },
  {
   "cell_type": "code",
   "execution_count": 119,
   "metadata": {},
   "outputs": [],
   "source": [
    "from pathlib import Path"
   ]
  },
  {
   "cell_type": "code",
   "execution_count": 120,
   "metadata": {},
   "outputs": [],
   "source": [
    "# this is a relative path pointing to the file 'example.pdf' in the current working directory\n",
    "pdf_path = Path(\"example.pdf\")\n",
    "results_path = Path(\"pdf_content.txt\")"
   ]
  },
  {
   "cell_type": "markdown",
   "metadata": {},
   "source": [
    "Of course, you could use absolute paths as well. For me, they would look like this:"
   ]
  },
  {
   "cell_type": "code",
   "execution_count": 121,
   "metadata": {},
   "outputs": [
    {
     "data": {
      "text/plain": [
       "PosixPath('/Users/johekm/Documents/lectures/learning_python/continuation_course')"
      ]
     },
     "execution_count": 121,
     "metadata": {},
     "output_type": "execute_result"
    }
   ],
   "source": [
    "Path.cwd()"
   ]
  },
  {
   "cell_type": "code",
   "execution_count": 122,
   "metadata": {},
   "outputs": [],
   "source": [
    "pdf_path = Path.cwd() / \"example.pdf\"\n",
    "results_path = Path.cwd() / \"pdf_content.txt\""
   ]
  },
  {
   "cell_type": "markdown",
   "metadata": {},
   "source": [
    "Your function should look something like this:"
   ]
  },
  {
   "cell_type": "code",
   "execution_count": 126,
   "metadata": {},
   "outputs": [],
   "source": [
    "def pdf_converter(pdf, results):\n",
    "    # your code goes here\n",
    "    pass"
   ]
  },
  {
   "cell_type": "markdown",
   "metadata": {},
   "source": [
    "(Note the `pass` keyword. It is just a placeholder statement that is used when you want the code to run, but there is no code within. Without this **pass statement**, the above cell would produce an error. [See this page if you want more information](https://stackoverflow.com/questions/13886168/how-to-use-the-pass-statement))"
   ]
  },
  {
   "cell_type": "markdown",
   "metadata": {},
   "source": [
    "So when you run the function, it should look something like this:"
   ]
  },
  {
   "cell_type": "code",
   "execution_count": 128,
   "metadata": {},
   "outputs": [],
   "source": [
    "your_function(pdf_path, results_path)"
   ]
  },
  {
   "cell_type": "markdown",
   "metadata": {},
   "source": [
    "...which then converts the pdf into a text string and saves it in a plaintext file at where the `results_path` points to.\n",
    "\n",
    "The solution can be found in the solutions notebook. Good luck!"
   ]
  },
  {
   "cell_type": "markdown",
   "metadata": {},
   "source": [
    "## Regular Expressions"
   ]
  },
  {
   "cell_type": "markdown",
   "metadata": {},
   "source": [
    "Let's say you're in a word document, and that you want to find a specific word or phrase within it, like your own name. What do you do? Most of you are probably familiar with the <kbd>⌃ Control</kbd>+<kbd>F</kbd> command on your keyboard. This is convenient way to find a _specific_ word or number in your document. \n",
    "\n",
    "But what if what you're looking for isn't specific? More thematic? What if you're looking for a pattern rather than a word or number? Let's say you're searching for a special set of numbers, but you don't know exactly what numbers there are. Or that you're not only interested in your own name, but all names in the document. This is all perfect examples of when to use **regular expressions** (also called **regex**, or **regexp**)."
   ]
  },
  {
   "cell_type": "markdown",
   "metadata": {},
   "source": [
    "A regular expression is a pattern of written characters in a text string. We can use these string patterns to look at a text to see if we get a match to our pattern. \n",
    "\n",
    "The simplest form of regex is basic text characters and numerical digits. The character `P` could be used as a regex to find all the P's in a given text. So could the digit `9` be used to find all number 9's. But regular expressions can also be extremly complicated. This is both a burden (sometimes it can be completely unreadable) and a blessing (very advanced text recognition).\n",
    "\n",
    "Let's get into some basic syntax. We pass our regular expression patterns to methods within the `re` module. So let's start by importing the module:"
   ]
  },
  {
   "cell_type": "code",
   "execution_count": 628,
   "metadata": {},
   "outputs": [],
   "source": [
    "import re"
   ]
  },
  {
   "cell_type": "markdown",
   "metadata": {},
   "source": [
    "### Finding numbers"
   ]
  },
  {
   "cell_type": "markdown",
   "metadata": {},
   "source": [
    "Let's say we have a bunch of court documents, and we want to see who are all the people involved. All relevant actors in the court cases are registred with their social security number, so we can know who they are by getting their number. But the documents are 6000 pages long. Extracting the numbers by hand would take forever. So, how do we do this? \n",
    "\n",
    "Well, I don't know what social security numbers look like in your country, but in Sweden (where I come from) they are called \"person number\" and are standardised. They always have this pattern: your date of birth, year/month/date, followed by four personal digits. Here is a (made up) Swedish social security number as an example: 820312-0133.\n",
    "\n",
    "So, six number digits, followed by a dash `-`, and then four more digits."
   ]
  },
  {
   "cell_type": "markdown",
   "metadata": {},
   "source": [
    "In a regular expression, the syntax for a digit is `\\d`. This will match on any number digit in a text. And to match this number character in a text, we use the `re` module. First we type out the pattern we're interested in:"
   ]
  },
  {
   "cell_type": "code",
   "execution_count": 722,
   "metadata": {},
   "outputs": [
    {
     "name": "stdout",
     "output_type": "stream",
     "text": [
      "\\d\\d\\d\\d\\d\\d-\\d\\d\\d\\d\n"
     ]
    }
   ],
   "source": [
    "print(\"\\d\\d\\d\\d\\d\\d-\\d\\d\\d\\d\") # six digits, followed by a dash '-', followed by four digits"
   ]
  },
  {
   "cell_type": "markdown",
   "metadata": {},
   "source": [
    "We pass this pattern to the `.compile()` method. This returns a regular expression object:"
   ]
  },
  {
   "cell_type": "code",
   "execution_count": 723,
   "metadata": {},
   "outputs": [],
   "source": [
    "num_regex = re.compile(\"\\d\\d\\d\\d\\d\\d-\\d\\d\\d\\d\")"
   ]
  },
  {
   "cell_type": "markdown",
   "metadata": {},
   "source": [
    "Now, let's create a variable with a string value we can test our pattern on:"
   ]
  },
  {
   "cell_type": "code",
   "execution_count": 725,
   "metadata": {},
   "outputs": [],
   "source": [
    "text = \"This is a string containing a phone number (08-655 15 00), and a social security number (820312-0133).\""
   ]
  },
  {
   "cell_type": "markdown",
   "metadata": {},
   "source": [
    "Our regex object has a method that lets us search for our pattern in a text string – the `.search()` method. If it doesn't find a match, it will return `None`. If it finds a match, it will return a match object. Let's try it:"
   ]
  },
  {
   "cell_type": "code",
   "execution_count": 727,
   "metadata": {},
   "outputs": [
    {
     "data": {
      "text/plain": [
       "<re.Match object; span=(89, 100), match='820312-0133'>"
      ]
     },
     "execution_count": 727,
     "metadata": {},
     "output_type": "execute_result"
    }
   ],
   "source": [
    "num_regex.search(text)"
   ]
  },
  {
   "cell_type": "markdown",
   "metadata": {},
   "source": [
    "It found a match! We can see what it matched on in the object's sepcifications. But let's save it into a match object variable:"
   ]
  },
  {
   "cell_type": "code",
   "execution_count": 728,
   "metadata": {},
   "outputs": [],
   "source": [
    "mo = num_regex.search(text)"
   ]
  },
  {
   "cell_type": "markdown",
   "metadata": {},
   "source": [
    "We can then use the `.group()` method on our match object to return the actual string value:"
   ]
  },
  {
   "cell_type": "code",
   "execution_count": 729,
   "metadata": {},
   "outputs": [
    {
     "data": {
      "text/plain": [
       "'820312-0133'"
      ]
     },
     "execution_count": 729,
     "metadata": {},
     "output_type": "execute_result"
    }
   ],
   "source": [
    "mo.group()"
   ]
  },
  {
   "cell_type": "markdown",
   "metadata": {},
   "source": [
    "The `.search()` method can also be called straight from the `re` module, bypassing the use of the `.compile()` method:"
   ]
  },
  {
   "cell_type": "code",
   "execution_count": 732,
   "metadata": {},
   "outputs": [
    {
     "data": {
      "text/plain": [
       "'820312-0133'"
      ]
     },
     "execution_count": 732,
     "metadata": {},
     "output_type": "execute_result"
    }
   ],
   "source": [
    "mo = re.search(\"\\d\\d\\d\\d\\d\\d-\\d\\d\\d\\d\", text) # no need for .compile()!\n",
    "mo.group()"
   ]
  },
  {
   "cell_type": "markdown",
   "metadata": {},
   "source": [
    "_(In this chapter, I will mostly not use the `.compile()` method since, for example, the `.search()` method automatically compiles the regex for us. But you should know that it exists, since it is included in most other courses covering regexes)_\n",
    "\n",
    "The `.search()` method looks through the string and returns a match object _as soon as it finds a match_. This means that it only returns the first match of the pattern. Let me show you what I mean by only searching for any number digit within the string:"
   ]
  },
  {
   "cell_type": "code",
   "execution_count": 175,
   "metadata": {},
   "outputs": [],
   "source": [
    "mo = re.search(\"\\d\",text)"
   ]
  },
  {
   "cell_type": "code",
   "execution_count": 176,
   "metadata": {},
   "outputs": [
    {
     "data": {
      "text/plain": [
       "'0'"
      ]
     },
     "execution_count": 176,
     "metadata": {},
     "output_type": "execute_result"
    }
   ],
   "source": [
    "mo.group()"
   ]
  },
  {
   "cell_type": "code",
   "execution_count": 177,
   "metadata": {},
   "outputs": [
    {
     "data": {
      "text/plain": [
       "'This is a string containing a phone number (08-655 15 00), and a social security number (820312-0133).'"
      ]
     },
     "execution_count": 177,
     "metadata": {},
     "output_type": "execute_result"
    }
   ],
   "source": [
    "text"
   ]
  },
  {
   "cell_type": "markdown",
   "metadata": {},
   "source": [
    "The search method started looking for the pattern `\\d` from left going right over our string. It found its first match at the digit \"0\", and then returned the match object. So, this means that there are a whole bunch of digits that we don't catch using the search method. \n",
    "\n",
    "So, if we're looking for more than one match, we need to use another method. Thankfully, there is one called `.findall()` that returns a list of all our pattern's matches in the string:"
   ]
  },
  {
   "cell_type": "code",
   "execution_count": 186,
   "metadata": {},
   "outputs": [],
   "source": [
    "matches = re.findall(\"\\d\",text)"
   ]
  },
  {
   "cell_type": "code",
   "execution_count": 189,
   "metadata": {},
   "outputs": [
    {
     "data": {
      "text/plain": [
       "['0', '8', '6', '5', '5']"
      ]
     },
     "execution_count": 189,
     "metadata": {},
     "output_type": "execute_result"
    }
   ],
   "source": [
    "matches[:5] # first five digits in the text"
   ]
  },
  {
   "cell_type": "markdown",
   "metadata": {},
   "source": [
    "So, if we return to our previous pattern, we can use this `.findall()` method if we want to be sure that we match on all social security numbers in the string. Let's change the string so that it contains two social security numbers, and then find all matches:"
   ]
  },
  {
   "cell_type": "code",
   "execution_count": 192,
   "metadata": {},
   "outputs": [],
   "source": [
    "text = \"This is a string containing a social security number (620821-1542), and another social security number (820312-0133).\""
   ]
  },
  {
   "cell_type": "code",
   "execution_count": 193,
   "metadata": {},
   "outputs": [
    {
     "data": {
      "text/plain": [
       "'This is a string containing a social security number (620821-1542), and another social security number (820312-0133).'"
      ]
     },
     "execution_count": 193,
     "metadata": {},
     "output_type": "execute_result"
    }
   ],
   "source": [
    "text"
   ]
  },
  {
   "cell_type": "code",
   "execution_count": 194,
   "metadata": {},
   "outputs": [
    {
     "data": {
      "text/plain": [
       "['620821-1542', '820312-0133']"
      ]
     },
     "execution_count": 194,
     "metadata": {},
     "output_type": "execute_result"
    }
   ],
   "source": [
    "matches = re.findall(pattern,text)\n",
    "matches"
   ]
  },
  {
   "cell_type": "markdown",
   "metadata": {},
   "source": [
    "### Repetition qualifiers"
   ]
  },
  {
   "cell_type": "markdown",
   "metadata": {},
   "source": [
    "The pattern we wrote to find Swedish social security numbers is neither pretty, nor readable:"
   ]
  },
  {
   "cell_type": "code",
   "execution_count": 199,
   "metadata": {},
   "outputs": [],
   "source": [
    "pattern = \"\\d\\d\\d\\d\\d\\d-\\d\\d\\d\\d\""
   ]
  },
  {
   "cell_type": "markdown",
   "metadata": {},
   "source": [
    "Thankfully, we _can_ make it more readable! In regular expressions, there are symbols that signals to the interpreter that we want a specific character a certain number of time. They are called **repetition qualifiers** (`*`, `+`, `?` and `{m,n}`) and they are always put right after the character we want them to affect."
   ]
  },
  {
   "cell_type": "markdown",
   "metadata": {},
   "source": [
    "#### The star `*`"
   ]
  },
  {
   "cell_type": "markdown",
   "metadata": {},
   "source": [
    "The star `*` qualifier means that the affected character are included and repeated in the expression 0 or more times. Let me show you what I mean:"
   ]
  },
  {
   "cell_type": "code",
   "execution_count": 200,
   "metadata": {},
   "outputs": [],
   "source": [
    "pattern = \"ab*\""
   ]
  },
  {
   "cell_type": "markdown",
   "metadata": {},
   "source": [
    "This pattern will match on \"a\", \"ab\", or \"abbbbbbbb\". The star `*` is right after the \"b\". Let's try it on a string:"
   ]
  },
  {
   "cell_type": "code",
   "execution_count": 208,
   "metadata": {},
   "outputs": [
    {
     "data": {
      "text/plain": [
       "['ab']"
      ]
     },
     "execution_count": 208,
     "metadata": {},
     "output_type": "execute_result"
    }
   ],
   "source": [
    "re.findall(pattern,\"abc\") # match!"
   ]
  },
  {
   "cell_type": "code",
   "execution_count": 209,
   "metadata": {},
   "outputs": [
    {
     "data": {
      "text/plain": [
       "['a']"
      ]
     },
     "execution_count": 209,
     "metadata": {},
     "output_type": "execute_result"
    }
   ],
   "source": [
    "re.findall(pattern,\"ac\") # match!"
   ]
  },
  {
   "cell_type": "code",
   "execution_count": 210,
   "metadata": {},
   "outputs": [
    {
     "data": {
      "text/plain": [
       "['a', 'ab']"
      ]
     },
     "execution_count": 210,
     "metadata": {},
     "output_type": "execute_result"
    }
   ],
   "source": [
    "re.findall(pattern,\"aabc\") # match!"
   ]
  },
  {
   "cell_type": "code",
   "execution_count": 217,
   "metadata": {},
   "outputs": [
    {
     "data": {
      "text/plain": [
       "['a', 'a', 'a', 'a', 'abbbbbbbb']"
      ]
     },
     "execution_count": 217,
     "metadata": {},
     "output_type": "execute_result"
    }
   ],
   "source": [
    "re.findall(pattern,\"aaaaabbbbbbbbc\") # matches on each individual 'a', and finally on 'a' followed by 'b's"
   ]
  },
  {
   "cell_type": "code",
   "execution_count": 213,
   "metadata": {},
   "outputs": [
    {
     "data": {
      "text/plain": [
       "[]"
      ]
     },
     "execution_count": 213,
     "metadata": {},
     "output_type": "execute_result"
    }
   ],
   "source": [
    "re.findall(pattern,\"bc\") # no match, since there needs to be an 'a' followed by zero or more 'b's"
   ]
  },
  {
   "cell_type": "markdown",
   "metadata": {},
   "source": [
    "#### The plus sign `+`"
   ]
  },
  {
   "cell_type": "markdown",
   "metadata": {},
   "source": [
    "The `+` qualifier signals that we want the affected character matched _at least once_, but also, as many times as possible. So, in short, the character should be included once or more! "
   ]
  },
  {
   "cell_type": "code",
   "execution_count": 224,
   "metadata": {},
   "outputs": [],
   "source": [
    "pattern = \"ab+\""
   ]
  },
  {
   "cell_type": "code",
   "execution_count": 225,
   "metadata": {},
   "outputs": [
    {
     "data": {
      "text/plain": [
       "['ab']"
      ]
     },
     "execution_count": 225,
     "metadata": {},
     "output_type": "execute_result"
    }
   ],
   "source": [
    "re.findall(pattern,\"abc\") # match!"
   ]
  },
  {
   "cell_type": "code",
   "execution_count": 227,
   "metadata": {},
   "outputs": [
    {
     "data": {
      "text/plain": [
       "[]"
      ]
     },
     "execution_count": 227,
     "metadata": {},
     "output_type": "execute_result"
    }
   ],
   "source": [
    "re.findall(pattern,\"ac\") # no match since 'b' needs to be included once or more"
   ]
  },
  {
   "cell_type": "code",
   "execution_count": 229,
   "metadata": {},
   "outputs": [
    {
     "data": {
      "text/plain": [
       "['ab']"
      ]
     },
     "execution_count": 229,
     "metadata": {},
     "output_type": "execute_result"
    }
   ],
   "source": [
    "re.findall(pattern,\"aabc\") # match!"
   ]
  },
  {
   "cell_type": "code",
   "execution_count": 228,
   "metadata": {},
   "outputs": [
    {
     "data": {
      "text/plain": [
       "['abbbbbbbb']"
      ]
     },
     "execution_count": 228,
     "metadata": {},
     "output_type": "execute_result"
    }
   ],
   "source": [
    "re.findall(pattern,\"aaaaabbbbbbbbc\")"
   ]
  },
  {
   "cell_type": "markdown",
   "metadata": {},
   "source": [
    "#### The question mark `?`"
   ]
  },
  {
   "cell_type": "markdown",
   "metadata": {},
   "source": [
    "The `?` qualifier means that the character should be included zero och once, but no more than once. Let's try it on the same example as above:"
   ]
  },
  {
   "cell_type": "code",
   "execution_count": 231,
   "metadata": {},
   "outputs": [],
   "source": [
    "pattern = \"ab?\""
   ]
  },
  {
   "cell_type": "code",
   "execution_count": 232,
   "metadata": {},
   "outputs": [
    {
     "data": {
      "text/plain": [
       "['ab']"
      ]
     },
     "execution_count": 232,
     "metadata": {},
     "output_type": "execute_result"
    }
   ],
   "source": [
    "re.findall(pattern,\"abc\") # match!"
   ]
  },
  {
   "cell_type": "code",
   "execution_count": 233,
   "metadata": {},
   "outputs": [
    {
     "data": {
      "text/plain": [
       "['a']"
      ]
     },
     "execution_count": 233,
     "metadata": {},
     "output_type": "execute_result"
    }
   ],
   "source": [
    "re.findall(pattern,\"ac\") # match!"
   ]
  },
  {
   "cell_type": "code",
   "execution_count": 234,
   "metadata": {},
   "outputs": [
    {
     "data": {
      "text/plain": [
       "['a', 'ab']"
      ]
     },
     "execution_count": 234,
     "metadata": {},
     "output_type": "execute_result"
    }
   ],
   "source": [
    "re.findall(pattern,\"aabc\") # match!"
   ]
  },
  {
   "cell_type": "code",
   "execution_count": 235,
   "metadata": {},
   "outputs": [
    {
     "data": {
      "text/plain": [
       "['a', 'a', 'a', 'a', 'ab']"
      ]
     },
     "execution_count": 235,
     "metadata": {},
     "output_type": "execute_result"
    }
   ],
   "source": [
    "re.findall(pattern,\"aaaaabbbbbbbbc\") # match!"
   ]
  },
  {
   "cell_type": "code",
   "execution_count": 236,
   "metadata": {},
   "outputs": [
    {
     "data": {
      "text/plain": [
       "['ab']"
      ]
     },
     "execution_count": 236,
     "metadata": {},
     "output_type": "execute_result"
    }
   ],
   "source": [
    "re.findall(pattern,\"abbc\") # match!"
   ]
  },
  {
   "cell_type": "markdown",
   "metadata": {},
   "source": [
    "#### Curly brackets `{m,n}`"
   ]
  },
  {
   "cell_type": "markdown",
   "metadata": {},
   "source": [
    "Finally, we can use the curly brackets `{}` within our expression's pattern. Within the brackets we can give one, or two numbers separated by a comma, specifying how many times the character should be included. If just one number is within the curly brackets, this number specifies exactly how many times the character should be repeated in our matches. So, if we type `b{4}`, this means _exactly_ four character \"b\"s. Let's try it out:"
   ]
  },
  {
   "cell_type": "code",
   "execution_count": 238,
   "metadata": {},
   "outputs": [],
   "source": [
    "pattern = \"ab{4}\""
   ]
  },
  {
   "cell_type": "code",
   "execution_count": 239,
   "metadata": {},
   "outputs": [
    {
     "data": {
      "text/plain": [
       "[]"
      ]
     },
     "execution_count": 239,
     "metadata": {},
     "output_type": "execute_result"
    }
   ],
   "source": [
    "re.findall(pattern,\"abc\") # no match, only one 'b'"
   ]
  },
  {
   "cell_type": "code",
   "execution_count": 240,
   "metadata": {},
   "outputs": [
    {
     "data": {
      "text/plain": [
       "[]"
      ]
     },
     "execution_count": 240,
     "metadata": {},
     "output_type": "execute_result"
    }
   ],
   "source": [
    "re.findall(pattern,\"ac\") # no match, no 'b's"
   ]
  },
  {
   "cell_type": "code",
   "execution_count": 241,
   "metadata": {},
   "outputs": [
    {
     "data": {
      "text/plain": [
       "[]"
      ]
     },
     "execution_count": 241,
     "metadata": {},
     "output_type": "execute_result"
    }
   ],
   "source": [
    "re.findall(pattern,\"aabc\") # no match, only one 'b'"
   ]
  },
  {
   "cell_type": "code",
   "execution_count": 243,
   "metadata": {},
   "outputs": [
    {
     "data": {
      "text/plain": [
       "['abbbb']"
      ]
     },
     "execution_count": 243,
     "metadata": {},
     "output_type": "execute_result"
    }
   ],
   "source": [
    "re.findall(pattern,\"aaaaabbbbbbbbc\") # match! One 'a' together with 4 'b's returned!"
   ]
  },
  {
   "cell_type": "markdown",
   "metadata": {},
   "source": [
    "If we give two numbers to the curly brackets, this signals a span of the affected character. So `b{2,5}` means it will a return a match of at least two 'b's, and at the most five:"
   ]
  },
  {
   "cell_type": "code",
   "execution_count": 252,
   "metadata": {},
   "outputs": [],
   "source": [
    "pattern = \"ab{2,5}\""
   ]
  },
  {
   "cell_type": "code",
   "execution_count": 253,
   "metadata": {},
   "outputs": [
    {
     "data": {
      "text/plain": [
       "[]"
      ]
     },
     "execution_count": 253,
     "metadata": {},
     "output_type": "execute_result"
    }
   ],
   "source": [
    "re.findall(pattern,\"abc\")"
   ]
  },
  {
   "cell_type": "code",
   "execution_count": 254,
   "metadata": {},
   "outputs": [
    {
     "data": {
      "text/plain": [
       "['abb']"
      ]
     },
     "execution_count": 254,
     "metadata": {},
     "output_type": "execute_result"
    }
   ],
   "source": [
    "re.findall(pattern,\"aabbc\")"
   ]
  },
  {
   "cell_type": "code",
   "execution_count": 255,
   "metadata": {},
   "outputs": [
    {
     "data": {
      "text/plain": [
       "['abbbbb']"
      ]
     },
     "execution_count": 255,
     "metadata": {},
     "output_type": "execute_result"
    }
   ],
   "source": [
    "re.findall(pattern,\"aaaaabbbbbbbbc\")"
   ]
  },
  {
   "cell_type": "markdown",
   "metadata": {},
   "source": [
    "Using repition qualifiers, we can make our pattern on social security numbers way more convenient:"
   ]
  },
  {
   "cell_type": "code",
   "execution_count": 265,
   "metadata": {},
   "outputs": [],
   "source": [
    "pattern = \"\\d{6}-\\d{4}\" # six digits, followed by dash '-', followed by four digits"
   ]
  },
  {
   "cell_type": "code",
   "execution_count": 266,
   "metadata": {},
   "outputs": [
    {
     "name": "stdout",
     "output_type": "stream",
     "text": [
      "This is a string containing a social security number (620821-1542), and another social security number (820312-0133).\n"
     ]
    }
   ],
   "source": [
    "text = \"This is a string containing a social security number (620821-1542), and another social security number (820312-0133).\"\n",
    "print(text)"
   ]
  },
  {
   "cell_type": "code",
   "execution_count": 267,
   "metadata": {},
   "outputs": [
    {
     "data": {
      "text/plain": [
       "['620821-1542', '820312-0133']"
      ]
     },
     "execution_count": 267,
     "metadata": {},
     "output_type": "execute_result"
    }
   ],
   "source": [
    "re.findall(pattern,text)"
   ]
  },
  {
   "cell_type": "markdown",
   "metadata": {},
   "source": [
    "A bit of an improvement, don't you think?"
   ]
  },
  {
   "cell_type": "markdown",
   "metadata": {},
   "source": [
    "### Finding words and names"
   ]
  },
  {
   "cell_type": "markdown",
   "metadata": {},
   "source": [
    "The special character for numerical digits is `\\d`, as been described above. If we want to match on all characters that is _not_ numerical digits, we can use `\\D`:"
   ]
  },
  {
   "cell_type": "code",
   "execution_count": 271,
   "metadata": {},
   "outputs": [],
   "source": [
    "p = \"\\D\""
   ]
  },
  {
   "cell_type": "code",
   "execution_count": 272,
   "metadata": {},
   "outputs": [],
   "source": [
    "text = \"86613298713900f8123010401\""
   ]
  },
  {
   "cell_type": "code",
   "execution_count": 274,
   "metadata": {},
   "outputs": [
    {
     "data": {
      "text/plain": [
       "'f'"
      ]
     },
     "execution_count": 274,
     "metadata": {},
     "output_type": "execute_result"
    }
   ],
   "source": [
    "mo = re.search(p,text)\n",
    "mo.group()"
   ]
  },
  {
   "cell_type": "markdown",
   "metadata": {},
   "source": [
    "But if we want just alphabetical letters, this isn't very convenient, since it will give us everthing that's not a digit. Take this example:"
   ]
  },
  {
   "cell_type": "code",
   "execution_count": 321,
   "metadata": {},
   "outputs": [],
   "source": [
    "text = \"Hello World! How's it going? This is a string with a phone number (08-782 10 12), and its urgent!!!\""
   ]
  },
  {
   "cell_type": "code",
   "execution_count": 279,
   "metadata": {},
   "outputs": [
    {
     "data": {
      "text/plain": [
       "['H', 'e', 'l', 'l', 'o', ' ', 'W', 'o', 'r', 'l', 'd', '!', ' ', 'H', 'o']"
      ]
     },
     "execution_count": 279,
     "metadata": {},
     "output_type": "execute_result"
    }
   ],
   "source": [
    "re.findall(p,text)[:15] # showing first 15 characters"
   ]
  },
  {
   "cell_type": "markdown",
   "metadata": {},
   "source": [
    "#### Custom Character Classes with square brackets `[]`"
   ]
  },
  {
   "cell_type": "markdown",
   "metadata": {},
   "source": [
    "Since we _only_ want letters, the `\\D` pattern also returns special characters such as blank space, exclamation marks etc etc, this is no good. There is however another way, we can specify that we want a set of characters, using the square brackets `[]`. Let's try to get all vowels in the text string:"
   ]
  },
  {
   "cell_type": "code",
   "execution_count": 280,
   "metadata": {},
   "outputs": [],
   "source": [
    "p = \"[eyuioa]\""
   ]
  },
  {
   "cell_type": "code",
   "execution_count": 281,
   "metadata": {},
   "outputs": [
    {
     "data": {
      "text/plain": [
       "['e', 'o', 'o', 'o', 'i', 'o', 'i', 'i', 'i', 'a', 'i', 'i', 'a', 'o', 'e']"
      ]
     },
     "execution_count": 281,
     "metadata": {},
     "output_type": "execute_result"
    }
   ],
   "source": [
    "re.findall(p,text)[:15]"
   ]
  },
  {
   "cell_type": "markdown",
   "metadata": {},
   "source": [
    "Using square brackets, we can also specify a span of alphabetical characters. All characters in the English language qould then be `[A-Z]` for upper casing, and `[a-z]` for lower. `[A-Za-z]` for both upper and lower:"
   ]
  },
  {
   "cell_type": "code",
   "execution_count": 282,
   "metadata": {},
   "outputs": [],
   "source": [
    "p = \"[A-Za-z]\""
   ]
  },
  {
   "cell_type": "markdown",
   "metadata": {},
   "source": [
    "Displaying the first 15 matches:"
   ]
  },
  {
   "cell_type": "code",
   "execution_count": 290,
   "metadata": {},
   "outputs": [
    {
     "data": {
      "text/plain": [
       "['H', 'e', 'l', 'l', 'o', 'W', 'o', 'r', 'l', 'd', 'H', 'o', 'w', 's', 'i']"
      ]
     },
     "execution_count": 290,
     "metadata": {},
     "output_type": "execute_result"
    }
   ],
   "source": [
    "re.findall(p,text)[:15]"
   ]
  },
  {
   "cell_type": "markdown",
   "metadata": {},
   "source": [
    "Setting a span of characters also works with numerical digits:"
   ]
  },
  {
   "cell_type": "code",
   "execution_count": 292,
   "metadata": {},
   "outputs": [],
   "source": [
    "p = \"[0-5]\" # matching 0, 1, 2, 3, 4, and 5"
   ]
  },
  {
   "cell_type": "code",
   "execution_count": 294,
   "metadata": {},
   "outputs": [
    {
     "data": {
      "text/plain": [
       "['0', '2', '1', '0', '1', '2']"
      ]
     },
     "execution_count": 294,
     "metadata": {},
     "output_type": "execute_result"
    }
   ],
   "source": [
    "re.findall(p,text)"
   ]
  },
  {
   "cell_type": "markdown",
   "metadata": {},
   "source": [
    "But if we want the entire words? Well we could just use the repition qualifier `+`, indicating we want all cases where the string is constructed of one or more of alphabetical letters:"
   ]
  },
  {
   "cell_type": "code",
   "execution_count": 296,
   "metadata": {},
   "outputs": [],
   "source": [
    "p = \"[A-Za-z]+\""
   ]
  },
  {
   "cell_type": "code",
   "execution_count": 297,
   "metadata": {},
   "outputs": [
    {
     "data": {
      "text/plain": [
       "['Hello',\n",
       " 'World',\n",
       " 'How',\n",
       " 's',\n",
       " 'it',\n",
       " 'going',\n",
       " 'This',\n",
       " 'is',\n",
       " 'a',\n",
       " 'string',\n",
       " 'with',\n",
       " 'a',\n",
       " 'phone',\n",
       " 'number',\n",
       " 'and',\n",
       " 'its',\n",
       " 'urgent']"
      ]
     },
     "execution_count": 297,
     "metadata": {},
     "output_type": "execute_result"
    }
   ],
   "source": [
    "re.findall(p,text)"
   ]
  },
  {
   "cell_type": "markdown",
   "metadata": {},
   "source": [
    "Success!"
   ]
  },
  {
   "cell_type": "markdown",
   "metadata": {},
   "source": [
    "#### The \"word\" character `\\w`"
   ]
  },
  {
   "cell_type": "markdown",
   "metadata": {},
   "source": [
    "But what if we want to have all words together with all number digits? We COULD type `[A-Za-z0-9]`, but that's a bit over complicated. Luckilly, we can use the special character `\\w`. Here is the exact definition from the `re` module's [documentation](https://docs.python.org/3/library/re.html#regular-expression-syntax): \n",
    ">Matches [Unicode word characters](https://en.wikipedia.org/wiki/List_of_Unicode_characters); this includes most characters that can be part of a word in any language, as well as numbers and the underscore.\n",
    "\n",
    "Let's try it!"
   ]
  },
  {
   "cell_type": "code",
   "execution_count": 299,
   "metadata": {},
   "outputs": [],
   "source": [
    "p = \"\\w+\""
   ]
  },
  {
   "cell_type": "code",
   "execution_count": 300,
   "metadata": {},
   "outputs": [
    {
     "data": {
      "text/plain": [
       "['Hello',\n",
       " 'World',\n",
       " 'How',\n",
       " 's',\n",
       " 'it',\n",
       " 'going',\n",
       " 'This',\n",
       " 'is',\n",
       " 'a',\n",
       " 'string',\n",
       " 'with',\n",
       " 'a',\n",
       " 'phone',\n",
       " 'number',\n",
       " '08',\n",
       " '782',\n",
       " '10',\n",
       " '12',\n",
       " 'and',\n",
       " 'its',\n",
       " 'urgent']"
      ]
     },
     "execution_count": 300,
     "metadata": {},
     "output_type": "execute_result"
    }
   ],
   "source": [
    "re.findall(p,text)"
   ]
  },
  {
   "cell_type": "markdown",
   "metadata": {},
   "source": [
    "Using a capital \"W\" – `\\W` – will match on all non-word letters in the text:"
   ]
  },
  {
   "cell_type": "code",
   "execution_count": 303,
   "metadata": {},
   "outputs": [
    {
     "data": {
      "text/plain": [
       "[' ', '! ', \"'\", ' ', ' ', '? ', ' ', ' ', ' ', ' ', ' ', ' ', ' ', ' (', '-']"
      ]
     },
     "execution_count": 303,
     "metadata": {},
     "output_type": "execute_result"
    }
   ],
   "source": [
    "p = \"\\W+\"\n",
    "re.findall(p,text)[:15] # returns all spaces, quotations, exclamation marks etc..."
   ]
  },
  {
   "cell_type": "markdown",
   "metadata": {},
   "source": [
    "#### The white space character `\\s`"
   ]
  },
  {
   "cell_type": "markdown",
   "metadata": {},
   "source": [
    "Sometimes, we want to find words that is surrounded by loads of whitespace, but we're not sure what type of whitespace there is. The `\\s` character matches on all types of white space (newlines, tab spaces, blank space etc…):"
   ]
  },
  {
   "cell_type": "code",
   "execution_count": 337,
   "metadata": {},
   "outputs": [
    {
     "name": "stdout",
     "output_type": "stream",
     "text": [
      "Hello World!\n",
      "Here's two phone numbers:\n",
      "\t- 08-782 10 12\n",
      "\t- 0729-42 32 11\n",
      "That's all. Or, I think it is.\n",
      "It wasn't, there's also this.\n",
      "\n"
     ]
    }
   ],
   "source": [
    "text = \"\"\"Hello World!\n",
    "Here's two phone numbers:\n",
    "\\t- 08-782 10 12\n",
    "\\t- 0729-42 32 11\n",
    "That's all. Or, I think it is.\n",
    "It wasn't, there's also this.\n",
    "\"\"\"\n",
    "print(text)"
   ]
  },
  {
   "cell_type": "code",
   "execution_count": 334,
   "metadata": {},
   "outputs": [
    {
     "data": {
      "text/plain": [
       "[' ', '\\n', ' ', ' ', ' ', '\\n', '\\t', ' ', ' ', ' ', '\\n', '\\t', ' ', ' ']"
      ]
     },
     "execution_count": 334,
     "metadata": {},
     "output_type": "execute_result"
    }
   ],
   "source": [
    "p = \"\\s\"\n",
    "re.findall(p,text)[:14]"
   ]
  },
  {
   "cell_type": "markdown",
   "metadata": {},
   "source": [
    "#### Finding the names"
   ]
  },
  {
   "cell_type": "markdown",
   "metadata": {},
   "source": [
    "So, what if we wanted to **find a name** within a text? Most names start with a capital letter, followed by lower case ones. We can use norm and write a regex pattern based on it. Take this text string:"
   ]
  },
  {
   "cell_type": "code",
   "execution_count": 317,
   "metadata": {},
   "outputs": [],
   "source": [
    "text = \"My name is Johan Ekman, not Schmohan Schmekman!\""
   ]
  },
  {
   "cell_type": "code",
   "execution_count": 318,
   "metadata": {},
   "outputs": [],
   "source": [
    "p = \"[A-Z][a-z]+ [A-Z][a-z]+\""
   ]
  },
  {
   "cell_type": "code",
   "execution_count": 319,
   "metadata": {},
   "outputs": [
    {
     "data": {
      "text/plain": [
       "['Johan Ekman', 'Schmohan Schmekman']"
      ]
     },
     "execution_count": 319,
     "metadata": {},
     "output_type": "execute_result"
    }
   ],
   "source": [
    "re.findall(p,text)"
   ]
  },
  {
   "cell_type": "markdown",
   "metadata": {},
   "source": [
    "We would actually get the same result if we used the special \"word\" character `\\w`:"
   ]
  },
  {
   "cell_type": "code",
   "execution_count": 320,
   "metadata": {},
   "outputs": [
    {
     "data": {
      "text/plain": [
       "['Johan Ekman', 'Schmohan Schmekman']"
      ]
     },
     "execution_count": 320,
     "metadata": {},
     "output_type": "execute_result"
    }
   ],
   "source": [
    "p = \"[A-Z]\\w+ [A-Z]\\w+\"\n",
    "re.findall(p,text)"
   ]
  },
  {
   "cell_type": "markdown",
   "metadata": {},
   "source": [
    "We can also include the `\\s` character, to be sure to catch names that occur on shifting lines in the text:"
   ]
  },
  {
   "cell_type": "code",
   "execution_count": 343,
   "metadata": {},
   "outputs": [],
   "source": [
    "text = \"\"\"My name is Johan Ekman, not Schmohan\n",
    "Schmekman!\"\"\""
   ]
  },
  {
   "cell_type": "code",
   "execution_count": 345,
   "metadata": {},
   "outputs": [
    {
     "data": {
      "text/plain": [
       "['Johan Ekman', 'Schmohan\\nSchmekman']"
      ]
     },
     "execution_count": 345,
     "metadata": {},
     "output_type": "execute_result"
    }
   ],
   "source": [
    "p = \"[A-Z]\\w+\\s[A-Z]\\w+\"\n",
    "re.findall(p,text)"
   ]
  },
  {
   "cell_type": "markdown",
   "metadata": {},
   "source": [
    "Unfortunatly, names are not always written with both first name and surname. Sometimes, as is often the case in newsarticles, there will just be a surname – like \"Mr. Ekman\". How to account for all such situations? And let's say we _only_ want surnames, how to proceed? We use regex groups!"
   ]
  },
  {
   "cell_type": "markdown",
   "metadata": {},
   "source": [
    "When we specify match options within square brackets `[]`, we can also specify what _not_ to include using the `^` character. For example, `[^b]` will match all characters, except the lower cased letter \"b\":"
   ]
  },
  {
   "cell_type": "code",
   "execution_count": 605,
   "metadata": {},
   "outputs": [],
   "source": [
    "p = \"[^b]\""
   ]
  },
  {
   "cell_type": "code",
   "execution_count": 610,
   "metadata": {},
   "outputs": [],
   "source": [
    "text = \"abc1&€\""
   ]
  },
  {
   "cell_type": "code",
   "execution_count": 611,
   "metadata": {},
   "outputs": [
    {
     "data": {
      "text/plain": [
       "['a', 'c', '1', '&', '€']"
      ]
     },
     "execution_count": 611,
     "metadata": {},
     "output_type": "execute_result"
    }
   ],
   "source": [
    "re.findall(p,text)"
   ]
  },
  {
   "cell_type": "markdown",
   "metadata": {},
   "source": [
    "### Exercise – matching phone numbers"
   ]
  },
  {
   "cell_type": "markdown",
   "metadata": {},
   "source": [
    "In this exercise, I want you to try to get all phone numbers in this list:"
   ]
  },
  {
   "cell_type": "code",
   "execution_count": 617,
   "metadata": {},
   "outputs": [],
   "source": [
    "file = open(\"../course_material/phone_list.txt\",\"r\")\n",
    "text = file.read()\n",
    "file.close()"
   ]
  },
  {
   "cell_type": "code",
   "execution_count": 621,
   "metadata": {},
   "outputs": [
    {
     "name": "stdout",
     "output_type": "stream",
     "text": [
      "Participant, Phone number\n",
      "Boivie Jurgen, 0703-1901XX\n",
      "Bram,  Mats, 0707-2321XX\n",
      "Carlsson,  Lars, 0735-4474XX\n",
      "Christiansen,  Jan, 0730-2868XX\n",
      "Ekblom,  Torbjorn, 018-5115XX\n",
      "Ekstedt,  Stig, 0706-4084XX\n",
      "Englund,  Jan, 0703-6826XX\n",
      "Grine,  Mats, 0735-6226XX\n",
      "\n"
     ]
    }
   ],
   "source": [
    "print(text[:250])"
   ]
  },
  {
   "cell_type": "markdown",
   "metadata": {},
   "source": [
    "Swedish cellphone numbers always begin with \"07\". In the variabel `text`, how many numbers are cellphone numbers? Try to find using only regular expressions. The solution can be found in the solutions notebook. \n",
    "\n",
    "[A fantastic site to test regexes is regex101](https://regex101.com/). Just choose \"python\" in the left side menu and try out regular expressions on any text you want. Just paste it in the text box! You can use it to try things out and experiment.\n",
    "\n",
    "Good luck!"
   ]
  },
  {
   "cell_type": "code",
   "execution_count": null,
   "metadata": {},
   "outputs": [],
   "source": []
  },
  {
   "cell_type": "code",
   "execution_count": null,
   "metadata": {},
   "outputs": [],
   "source": []
  },
  {
   "cell_type": "code",
   "execution_count": null,
   "metadata": {},
   "outputs": [],
   "source": []
  },
  {
   "cell_type": "markdown",
   "metadata": {},
   "source": [
    "### Regex Groups"
   ]
  },
  {
   "cell_type": "markdown",
   "metadata": {},
   "source": [
    "Take this string:"
   ]
  },
  {
   "cell_type": "code",
   "execution_count": 349,
   "metadata": {},
   "outputs": [],
   "source": [
    "text = \"My name is Johan Ekman. What's your name?\""
   ]
  },
  {
   "cell_type": "markdown",
   "metadata": {},
   "source": [
    "Let's say we only want to get the surnames in a given text. How do we then write our regex? We could search for all words that start with an upper cased letter:"
   ]
  },
  {
   "cell_type": "code",
   "execution_count": 352,
   "metadata": {},
   "outputs": [
    {
     "data": {
      "text/plain": [
       "['My', 'Johan', 'Ekman', 'What']"
      ]
     },
     "execution_count": 352,
     "metadata": {},
     "output_type": "execute_result"
    }
   ],
   "source": [
    "p = \"[A-Z][a-z]+\"\n",
    "re.findall(p,text)"
   ]
  },
  {
   "cell_type": "markdown",
   "metadata": {},
   "source": [
    "But as you can see, this catches \"My\" and \"What\", as well as my first name. So that won't do. If we type the same pattern as the section above, we get both first names and surnames:"
   ]
  },
  {
   "cell_type": "code",
   "execution_count": 353,
   "metadata": {},
   "outputs": [
    {
     "data": {
      "text/plain": [
       "['Johan Ekman']"
      ]
     },
     "execution_count": 353,
     "metadata": {},
     "output_type": "execute_result"
    }
   ],
   "source": [
    "p = \"[A-Z][a-z]+ [A-Z][a-z]+\"\n",
    "re.findall(p,text)"
   ]
  },
  {
   "cell_type": "markdown",
   "metadata": {},
   "source": [
    "This is clearly the way to go, since it returns the actual name. But if we _only_ want the surname? We can use regex groups! This is a way to separate certain parts of our regex pattern. Often, we want to write a longer expression to be able to match a specific text pattern, but we're only interested in a part of that text pattern – like a surname! \n",
    "\n",
    "Regex groups are specified with parenthesis `()`, enclosing the part we want to separate. So let's enclose the second \"word\" in our regex pattern, the surname:"
   ]
  },
  {
   "cell_type": "code",
   "execution_count": 354,
   "metadata": {},
   "outputs": [],
   "source": [
    "p = \"[A-Z][a-z]+ ([A-Z][a-z]+)\""
   ]
  },
  {
   "cell_type": "markdown",
   "metadata": {},
   "source": [
    "This time, I won't use the `.findall()` method. We will use the `.search()` method and save the result to a match object:"
   ]
  },
  {
   "cell_type": "code",
   "execution_count": 356,
   "metadata": {},
   "outputs": [],
   "source": [
    "mo = re.search(p,text)"
   ]
  },
  {
   "cell_type": "markdown",
   "metadata": {},
   "source": [
    "We can now call the `.group()` method, giving it an integer as an argument, to get all the grouped part of our match object! The integer specifies which group we want returned:"
   ]
  },
  {
   "cell_type": "code",
   "execution_count": 359,
   "metadata": {},
   "outputs": [
    {
     "data": {
      "text/plain": [
       "'Ekman'"
      ]
     },
     "execution_count": 359,
     "metadata": {},
     "output_type": "execute_result"
    }
   ],
   "source": [
    "mo.group(1) # we only have one group, returned by passing the integer 1 to the method call"
   ]
  },
  {
   "cell_type": "markdown",
   "metadata": {},
   "source": [
    "In the comment above, I wrote that we only have one group. This isn't technically correct since all match object by default have at least one match, even if we havn't specified any groups – the entire pattern's match is always the first group. If we pass 0 to the method call, we will always get the entire match:"
   ]
  },
  {
   "cell_type": "code",
   "execution_count": 360,
   "metadata": {},
   "outputs": [
    {
     "data": {
      "text/plain": [
       "'Johan Ekman'"
      ]
     },
     "execution_count": 360,
     "metadata": {},
     "output_type": "execute_result"
    }
   ],
   "source": [
    "mo.group(0)"
   ]
  },
  {
   "cell_type": "markdown",
   "metadata": {},
   "source": [
    "We can actually specify as many group as we'd like. Say we want both first names and surnames in different groups:"
   ]
  },
  {
   "cell_type": "code",
   "execution_count": 372,
   "metadata": {},
   "outputs": [],
   "source": [
    "p = \"([A-Z][a-z]+) ([A-Z][a-z]+)\""
   ]
  },
  {
   "cell_type": "code",
   "execution_count": 364,
   "metadata": {},
   "outputs": [],
   "source": [
    "mo = re.search(p,text)"
   ]
  },
  {
   "cell_type": "markdown",
   "metadata": {},
   "source": [
    "The groups are indexed in the order we type them into our expressions, from left to right. So our first group will be the first name:"
   ]
  },
  {
   "cell_type": "code",
   "execution_count": 369,
   "metadata": {},
   "outputs": [
    {
     "data": {
      "text/plain": [
       "'Johan'"
      ]
     },
     "execution_count": 369,
     "metadata": {},
     "output_type": "execute_result"
    }
   ],
   "source": [
    "mo.group(1)"
   ]
  },
  {
   "cell_type": "markdown",
   "metadata": {},
   "source": [
    "Second, the surname:"
   ]
  },
  {
   "cell_type": "code",
   "execution_count": 370,
   "metadata": {},
   "outputs": [
    {
     "data": {
      "text/plain": [
       "'Ekman'"
      ]
     },
     "execution_count": 370,
     "metadata": {},
     "output_type": "execute_result"
    }
   ],
   "source": [
    "mo.group(2)"
   ]
  },
  {
   "cell_type": "markdown",
   "metadata": {},
   "source": [
    "And, as always, the default group (index 0), will be the entire match:"
   ]
  },
  {
   "cell_type": "code",
   "execution_count": 371,
   "metadata": {},
   "outputs": [
    {
     "data": {
      "text/plain": [
       "'Johan Ekman'"
      ]
     },
     "execution_count": 371,
     "metadata": {},
     "output_type": "execute_result"
    }
   ],
   "source": [
    "mo.group(0)"
   ]
  },
  {
   "cell_type": "markdown",
   "metadata": {},
   "source": [
    "If we use groups in our regex and then call the `.findall()` method, the findall method will automatically return all groups. So if we specify no group it will return all matches to the expression as a whole:"
   ]
  },
  {
   "cell_type": "code",
   "execution_count": 430,
   "metadata": {},
   "outputs": [],
   "source": [
    "p = \"[A-Z][a-z]+ [A-Z][a-z]+\" # no groups"
   ]
  },
  {
   "cell_type": "code",
   "execution_count": 431,
   "metadata": {},
   "outputs": [],
   "source": [
    "text = \"Johan Ekman sais hi to Jimmy Lewandowski\""
   ]
  },
  {
   "cell_type": "code",
   "execution_count": 432,
   "metadata": {},
   "outputs": [
    {
     "data": {
      "text/plain": [
       "['Johan Ekman', 'Jimmy Lewandowski']"
      ]
     },
     "execution_count": 432,
     "metadata": {},
     "output_type": "execute_result"
    }
   ],
   "source": [
    "re.findall(p, text)"
   ]
  },
  {
   "cell_type": "markdown",
   "metadata": {},
   "source": [
    "But if we specify one group, the method will only match on the specified group:"
   ]
  },
  {
   "cell_type": "code",
   "execution_count": 433,
   "metadata": {},
   "outputs": [],
   "source": [
    "p = \"([A-Z][a-z]+) [A-Z][a-z]+\" # one group"
   ]
  },
  {
   "cell_type": "code",
   "execution_count": 435,
   "metadata": {},
   "outputs": [
    {
     "data": {
      "text/plain": [
       "['Johan', 'Jimmy']"
      ]
     },
     "execution_count": 435,
     "metadata": {},
     "output_type": "execute_result"
    }
   ],
   "source": [
    "re.findall(p, text)"
   ]
  },
  {
   "cell_type": "markdown",
   "metadata": {},
   "source": [
    "If we specify two or more groups, all the groups we'd specified will be returned as a list of tuples:"
   ]
  },
  {
   "cell_type": "code",
   "execution_count": 437,
   "metadata": {},
   "outputs": [],
   "source": [
    "p = \"([A-Z][a-z]+) ([A-Z][a-z]+)\" # two groups"
   ]
  },
  {
   "cell_type": "code",
   "execution_count": 438,
   "metadata": {},
   "outputs": [
    {
     "data": {
      "text/plain": [
       "[('Johan', 'Ekman'), ('Jimmy', 'Lewandowski')]"
      ]
     },
     "execution_count": 438,
     "metadata": {},
     "output_type": "execute_result"
    }
   ],
   "source": [
    "re.findall(p, text)"
   ]
  },
  {
   "cell_type": "markdown",
   "metadata": {},
   "source": [
    "### Exercise – can you find the number?"
   ]
  },
  {
   "cell_type": "markdown",
   "metadata": {},
   "source": [
    "In this exercise you will try to use your regex skills to find a number. The text is a transcript of a rally that Donald Trump held earlier 2020. At one point in his speach, President Trump talks about a specific number of \"refugees\". But how many exactly? \n",
    "\n",
    "By only using a regular expression, I want you to find how many refugees he mentions. The exact quote is \"[number] refugees\". So, a number - blank space - \"refugees\".\n",
    "\n",
    "Also, can you write your expression such as it would match any number of refugees (in accordance with the same number format used in the speach)?\n",
    "    \n",
    "Hints: the answer is not \"000\". Remember to use groups, and that the star character `*` signifies zero or more occurances of a pattern. Also, there are more than one solution to this exercise, be creative and try your best! \n",
    "\n",
    "Remember, you can use [the regex101 site](https://regex101.com/) to test how your regular expressions work. It's a great aid!\n",
    "    \n",
    "My solution is found in the solutions notebook. Good luck!"
   ]
  },
  {
   "cell_type": "code",
   "execution_count": 511,
   "metadata": {},
   "outputs": [],
   "source": [
    "# this is the speach\n",
    "text = open(\"../course_material/speach.txt\",\"r\").read()"
   ]
  },
  {
   "cell_type": "code",
   "execution_count": 512,
   "metadata": {},
   "outputs": [
    {
     "data": {
      "text/plain": [
       "'Thank you very much. Thank you. Thank you. What a crowd. Wow. Look at that, boy. What a crowd. Thank you. Thank you very much. Thank you. We just set a record in this building, folks, so that’s good n'"
      ]
     },
     "execution_count": 512,
     "metadata": {},
     "output_type": "execute_result"
    }
   ],
   "source": [
    "text[:200]"
   ]
  },
  {
   "cell_type": "code",
   "execution_count": null,
   "metadata": {},
   "outputs": [],
   "source": []
  },
  {
   "cell_type": "code",
   "execution_count": null,
   "metadata": {},
   "outputs": [],
   "source": []
  },
  {
   "cell_type": "code",
   "execution_count": null,
   "metadata": {},
   "outputs": [],
   "source": []
  },
  {
   "cell_type": "markdown",
   "metadata": {},
   "source": [
    "### The Escape Character `\\`"
   ]
  },
  {
   "cell_type": "markdown",
   "metadata": {},
   "source": [
    "You may have noticed a potential problem: using parenthesis as grouping in our expressions, how do we then match with actual parenthesis in various texts? \n",
    "\n",
    "If you recall section 3.2.3.2 in the basic course, there is a way in python to escape special characters in strings by using the escape character – the backslash `\\` (on a mac, you type the backslash by hitting <kbd>⇧ Shift</kbd>+<kbd>⌥ Option</kbd>+<kbd>7</kbd> on your keyboard). This works the same way in our regular expression. Since parenthesis have special meaning within a regex (specifying groups), we have to \"escape them\" using the backslash. Take this example:"
   ]
  },
  {
   "cell_type": "code",
   "execution_count": 373,
   "metadata": {},
   "outputs": [],
   "source": [
    "text = \"My phone number is (08) 755 14 12\""
   ]
  },
  {
   "cell_type": "markdown",
   "metadata": {},
   "source": [
    "Say we want to match the area code of the phone number above. We'd need to include parenthesis in our regex. We can do this by escaping them in our expression:"
   ]
  },
  {
   "cell_type": "code",
   "execution_count": 374,
   "metadata": {},
   "outputs": [],
   "source": [
    "p = \"\\(\\d+\\)\" "
   ]
  },
  {
   "cell_type": "markdown",
   "metadata": {},
   "source": [
    "We \"escape\" characters by typing the escape character just before the characters we want escaped. So `\\(` tells our computer \"this parenthesis isn't a grouping of our regex, it is an actual parenthesis character that I want you to look for\"."
   ]
  },
  {
   "cell_type": "code",
   "execution_count": 375,
   "metadata": {},
   "outputs": [
    {
     "data": {
      "text/plain": [
       "'(08)'"
      ]
     },
     "execution_count": 375,
     "metadata": {},
     "output_type": "execute_result"
    }
   ],
   "source": [
    "mo = re.search(p,text)\n",
    "mo.group()"
   ]
  },
  {
   "cell_type": "markdown",
   "metadata": {},
   "source": [
    "If we want our expression to return _only the numbers_, we can do so by grouping the digits wihtin our regex:"
   ]
  },
  {
   "cell_type": "code",
   "execution_count": 376,
   "metadata": {},
   "outputs": [],
   "source": [
    "p = \"\\((\\d+)\\)\""
   ]
  },
  {
   "cell_type": "code",
   "execution_count": 378,
   "metadata": {},
   "outputs": [
    {
     "data": {
      "text/plain": [
       "'08'"
      ]
     },
     "execution_count": 378,
     "metadata": {},
     "output_type": "execute_result"
    }
   ],
   "source": [
    "mo = re.search(p,text)\n",
    "mo.group(1)"
   ]
  },
  {
   "cell_type": "code",
   "execution_count": 379,
   "metadata": {},
   "outputs": [
    {
     "data": {
      "text/plain": [
       "'(08)'"
      ]
     },
     "execution_count": 379,
     "metadata": {},
     "output_type": "execute_result"
    }
   ],
   "source": [
    "mo.group(0)"
   ]
  },
  {
   "cell_type": "markdown",
   "metadata": {},
   "source": [
    "This is, of course, also possible on all the other special regex characters we learned about earlier, like the repition qualifiers `*`, `+` and `?`:"
   ]
  },
  {
   "cell_type": "code",
   "execution_count": 440,
   "metadata": {},
   "outputs": [],
   "source": [
    "p = \"\\*\\+\\?\""
   ]
  },
  {
   "cell_type": "code",
   "execution_count": 442,
   "metadata": {},
   "outputs": [],
   "source": [
    "text = \"*+?\"\n",
    "mo = re.search(p, text)"
   ]
  },
  {
   "cell_type": "code",
   "execution_count": 443,
   "metadata": {},
   "outputs": [
    {
     "data": {
      "text/plain": [
       "'*+?'"
      ]
     },
     "execution_count": 443,
     "metadata": {},
     "output_type": "execute_result"
    }
   ],
   "source": [
    "mo.group()"
   ]
  },
  {
   "cell_type": "markdown",
   "metadata": {},
   "source": [
    "### The Pipe Character `|`"
   ]
  },
  {
   "cell_type": "markdown",
   "metadata": {},
   "source": [
    "If we return to our name finder regex. Earlier, I mentioned the problem that names can sometimes be both first name and surname, and sometimes there will be some kind of formal pleasantry (like \"Ms\", \"Mrs\" or \"Mr\") in front of the surname. How do we write a regex that take these different possibilities into account?\n",
    "\n",
    "Regular expressions have a special character that signals to the computer that either the two expressions on its left and on its right is acceptable. This character is called the pipe character `|`. (On a mac, you type this character by hitting <kbd>⌥ Option</kbd>+<kbd>7</kbd> on your keyboard.)\n",
    "\n",
    "Before we try to match on surnames, let's try a more simple exampel. What if we'd like to match on directions, and want our expression to match on either \"north\", \"east\", \"south\", and \"west\", we could try this regular expression with piping:"
   ]
  },
  {
   "cell_type": "code",
   "execution_count": 417,
   "metadata": {},
   "outputs": [],
   "source": [
    "p = \"(north|east|south|west)\""
   ]
  },
  {
   "cell_type": "code",
   "execution_count": 418,
   "metadata": {},
   "outputs": [],
   "source": [
    "text = \"Take the road north 2 km, then when you see the red barn, turn east.\""
   ]
  },
  {
   "cell_type": "code",
   "execution_count": 419,
   "metadata": {},
   "outputs": [
    {
     "data": {
      "text/plain": [
       "['north', 'east']"
      ]
     },
     "execution_count": 419,
     "metadata": {},
     "output_type": "execute_result"
    }
   ],
   "source": [
    "re.findall(p, text)"
   ]
  },
  {
   "cell_type": "markdown",
   "metadata": {},
   "source": [
    "Another classic example is if you want to match on Batman related stuff:"
   ]
  },
  {
   "cell_type": "code",
   "execution_count": 426,
   "metadata": {},
   "outputs": [],
   "source": [
    "p = \"(bat(man|woman|mobile|copter|chopper))\""
   ]
  },
  {
   "cell_type": "code",
   "execution_count": 427,
   "metadata": {},
   "outputs": [],
   "source": [
    "text = \"batman took the batmobile to his batcopter, since his batchopper was busted, thanks to batwoman\""
   ]
  },
  {
   "cell_type": "code",
   "execution_count": 428,
   "metadata": {},
   "outputs": [
    {
     "data": {
      "text/plain": [
       "[('batman', 'man'),\n",
       " ('batmobile', 'mobile'),\n",
       " ('batcopter', 'copter'),\n",
       " ('batchopper', 'chopper'),\n",
       " ('batwoman', 'woman')]"
      ]
     },
     "execution_count": 428,
     "metadata": {},
     "output_type": "execute_result"
    }
   ],
   "source": [
    "re.findall(p, text)"
   ]
  },
  {
   "cell_type": "markdown",
   "metadata": {},
   "source": [
    "So, back to our struggle to match on surnames. How can we then use the pipe character to help us get the surnames in this following text?"
   ]
  },
  {
   "cell_type": "code",
   "execution_count": 439,
   "metadata": {},
   "outputs": [],
   "source": [
    "text = \"Hello dear Mr Roberts! I don't know if you remember me. \\\n",
    "My name is Ms Hendricks. This is Johan Ekman.\""
   ]
  },
  {
   "cell_type": "markdown",
   "metadata": {},
   "source": [
    "Let's try to find all names in this text! We will need to use groups as well. I will first show you the entire expression, then we'll go through it step by step together:"
   ]
  },
  {
   "cell_type": "code",
   "execution_count": 415,
   "metadata": {},
   "outputs": [],
   "source": [
    "p = \"(Mr|Ms|[A-Z][a-z]+)\\s*([A-Z][a-z]+)\""
   ]
  },
  {
   "cell_type": "code",
   "execution_count": 416,
   "metadata": {},
   "outputs": [
    {
     "data": {
      "text/plain": [
       "[('Mr', 'Roberts'), ('Ms', 'Hendricks'), ('Johan', 'Ekman')]"
      ]
     },
     "execution_count": 416,
     "metadata": {},
     "output_type": "execute_result"
    }
   ],
   "source": [
    "re.findall(p,text)"
   ]
  },
  {
   "cell_type": "markdown",
   "metadata": {},
   "source": [
    "Let's start with the first group in the expression: `(Mr|Ms|[A-Z][a-z]+)`. Here, we tell the computer to first look for all occurances where there is either \"Mr\" or \"Ms\". OR a word that starts with a capitol letter – this is the `[A-Z][a-z]+` part. Any capitol letter in the range of \"A\" to \"Z\", followed by any letter in the range \"a\" to \"z\" that should occur at least once – as is indicated by the `+` special character. But it is the pipe character `|` that tells the computer that eithor of the three is acceptable. Please also note that we group them all together so that it is only the alternatives within the groups that should be considered.\n",
    "\n",
    "Then there is the rest of the expression: `\\s*([A-Z][a-z]+)`. First, the `\\s*`. Between the name, or the \"Mr\"/\"Ms\", and the surname, there may be either a blank space or a newline. The `\\s` character catches both of those. The star `*` just signals \"zero or more times\". Then, there is the surname: `([A-Z][a-z]+)`. \n"
   ]
  },
  {
   "cell_type": "markdown",
   "metadata": {},
   "source": [
    "### Exercise – who has landlines?"
   ]
  },
  {
   "cell_type": "markdown",
   "metadata": {},
   "source": [
    "In this exercise, we'll return to the list of phone numbers. Here, using regular expressions, I want you to find the persons that _doesn't_ have a cellphone number in the list. You're looking for the people that have a landline – that is a phone number that doesn't start with \"07…\". Who are they?\n",
    "\n",
    "You should know that all Swedish phone numbers start with a \"0\". No matter if it's a landline connection or a cellphone number. Also, for those of you who isn't familiar with Swedish naming conventions, the list has each persons surname first. So, in the name \"Bolsvik Jurgen\", \"Bolsvik\" is the surname :)\n",
    "\n",
    "Here's the phone number list:"
   ]
  },
  {
   "cell_type": "code",
   "execution_count": 624,
   "metadata": {},
   "outputs": [],
   "source": [
    "file = open(\"../course_material/phone_list.txt\",\"r\")\n",
    "text = file.read()\n",
    "file.close()"
   ]
  },
  {
   "cell_type": "code",
   "execution_count": 627,
   "metadata": {},
   "outputs": [
    {
     "name": "stdout",
     "output_type": "stream",
     "text": [
      "Participant, Phone number\n",
      "Bolsvik Jurgen, 0703-1901XX\n",
      "Brumm,  Mats, 0707-2321XX\n",
      "Carlsson,  Yngve, 0735-4474XX\n",
      "Svensson,  Jan, 0730-2868XX\n",
      "Ekstrom,  Torbjorn, 018-5115XX\n",
      "Ekgren,  Stig, 0706-4084XX\n",
      "Engdahl,  Jan, 0703-6826XX\n",
      "Gripe,  Mats, 0735-6226XX\n",
      "\n"
     ]
    }
   ],
   "source": [
    "print(text[:249])"
   ]
  },
  {
   "cell_type": "markdown",
   "metadata": {},
   "source": [
    "As always, remember that you can use [the regex101 website](https://regex101.com/) to help you out while learning. (I promise I don't get paid to repeat this, its just great while learning regular expressions)\n",
    "\n",
    "There are many ways to do this, but you will find my solution in the solutions notebook. Good luck!"
   ]
  },
  {
   "cell_type": "markdown",
   "metadata": {},
   "source": [
    "### Matching in portions, or matching everything"
   ]
  },
  {
   "cell_type": "markdown",
   "metadata": {},
   "source": [
    "Sometimes, we want to just match a specific part of a string. Let's say you built a scraper that collects all names and phone numbers from a website. The scraper gives you a python list where each item is a string containing the information you want. \n"
   ]
  },
  {
   "cell_type": "markdown",
   "metadata": {},
   "source": [
    "But there's one problem! You're only interested in the name and the phone number. But inbetween, there is a small text where each person is presented. Here's an example of what a string value item in your list looks like:"
   ]
  },
  {
   "cell_type": "code",
   "execution_count": 643,
   "metadata": {},
   "outputs": [
    {
     "data": {
      "text/plain": [
       "'Bear Grylls. Extremely interested in nature. Also, I can climb really high (3,500 meters, at least) and I can handle being thirsty. 555-421-4321'"
      ]
     },
     "execution_count": 643,
     "metadata": {},
     "output_type": "execute_result"
    }
   ],
   "source": [
    "\"Bear Grylls. Extremely interested in nature. \\\n",
    "Also, I can climb really high (3,500 meters, at least) \\\n",
    "and I can handle being thirsty. 555-421-4321\""
   ]
  },
  {
   "cell_type": "markdown",
   "metadata": {},
   "source": [
    "This presentation can be very different for different people in the list. Therefore, it is very hard to accommodate the presentation in the regex.\n",
    "\n",
    "Luckily for us, there's a way to tell the computer so only check for our pattern in the beginning of each string, using the `^` sign. "
   ]
  },
  {
   "cell_type": "markdown",
   "metadata": {},
   "source": [
    "#### Match the start – use `^`"
   ]
  },
  {
   "cell_type": "markdown",
   "metadata": {},
   "source": [
    "If a regular expression begins with a caret sign `^`, it means that the pattern will only match on the beginning of a string. Take this example:"
   ]
  },
  {
   "cell_type": "code",
   "execution_count": 638,
   "metadata": {},
   "outputs": [],
   "source": [
    "p = \"^\\d+-\\d+\""
   ]
  },
  {
   "cell_type": "code",
   "execution_count": 639,
   "metadata": {},
   "outputs": [],
   "source": [
    "text = \"A phone number: 08-1234231.\""
   ]
  },
  {
   "cell_type": "code",
   "execution_count": 640,
   "metadata": {},
   "outputs": [
    {
     "data": {
      "text/plain": [
       "[]"
      ]
     },
     "execution_count": 640,
     "metadata": {},
     "output_type": "execute_result"
    }
   ],
   "source": [
    "re.findall(p,text)"
   ]
  },
  {
   "cell_type": "markdown",
   "metadata": {},
   "source": [
    "This produces no hits, since the string _doesn't begin with numeric digits_. It will match this, however:"
   ]
  },
  {
   "cell_type": "code",
   "execution_count": 641,
   "metadata": {},
   "outputs": [],
   "source": [
    "text = \"08-1234231 is a phone number\""
   ]
  },
  {
   "cell_type": "code",
   "execution_count": 642,
   "metadata": {},
   "outputs": [
    {
     "data": {
      "text/plain": [
       "['08-1234231']"
      ]
     },
     "execution_count": 642,
     "metadata": {},
     "output_type": "execute_result"
    }
   ],
   "source": [
    "re.findall(p,text)"
   ]
  },
  {
   "cell_type": "markdown",
   "metadata": {},
   "source": [
    "If we return to our example with the scraper. Since we know all strings begin with a name, we can use `^` to match with the name:"
   ]
  },
  {
   "cell_type": "code",
   "execution_count": 674,
   "metadata": {},
   "outputs": [],
   "source": [
    "name_regex = \"^[A-Z][a-z]+\\s*[A-Z][a-z]+\""
   ]
  },
  {
   "cell_type": "code",
   "execution_count": 675,
   "metadata": {},
   "outputs": [],
   "source": [
    "text = \"Bear Grylls. Extremely interested in nature. \\\n",
    "Also, I can climb really high (3,500 meters, at least) \\\n",
    "and I can handle being thirsty. 555-421-4321\""
   ]
  },
  {
   "cell_type": "code",
   "execution_count": 677,
   "metadata": {},
   "outputs": [
    {
     "data": {
      "text/plain": [
       "'Bear Grylls'"
      ]
     },
     "execution_count": 677,
     "metadata": {},
     "output_type": "execute_result"
    }
   ],
   "source": [
    "re.search(name_regex, text).group()"
   ]
  },
  {
   "cell_type": "markdown",
   "metadata": {},
   "source": [
    "#### Match the end – use `$`"
   ]
  },
  {
   "cell_type": "markdown",
   "metadata": {},
   "source": [
    "We can use the dollar sign `$` to indicate that the regex pattern should be applied to the end of the string. To use the dollar sign this way, you place it at the end of your regular expression. For example:"
   ]
  },
  {
   "cell_type": "code",
   "execution_count": 653,
   "metadata": {},
   "outputs": [],
   "source": [
    "text = \"A phone number: 08-1234231\""
   ]
  },
  {
   "cell_type": "code",
   "execution_count": 654,
   "metadata": {},
   "outputs": [],
   "source": [
    "p = \"\\d+-\\d+$\" # dollar sign at the end"
   ]
  },
  {
   "cell_type": "code",
   "execution_count": 656,
   "metadata": {},
   "outputs": [
    {
     "data": {
      "text/plain": [
       "'08-1234231'"
      ]
     },
     "execution_count": 656,
     "metadata": {},
     "output_type": "execute_result"
    }
   ],
   "source": [
    "re.search(p, text).group()"
   ]
  },
  {
   "cell_type": "markdown",
   "metadata": {},
   "source": [
    "Now, we have everything we need to finish our little scraper. Let's create a pattern that catches the phone numbers at the end:"
   ]
  },
  {
   "cell_type": "code",
   "execution_count": 671,
   "metadata": {},
   "outputs": [],
   "source": [
    "phone_regex = \"\\d+-\\d+-\\d+$\""
   ]
  },
  {
   "cell_type": "code",
   "execution_count": 672,
   "metadata": {},
   "outputs": [],
   "source": [
    "text = \"Bear Grylls. Extremely interested in nature. \\\n",
    "Also, I can climb really high (3,500 meters, at least) \\\n",
    "and I can handle being thirsty. 555-421-4321\""
   ]
  },
  {
   "cell_type": "code",
   "execution_count": 673,
   "metadata": {},
   "outputs": [
    {
     "data": {
      "text/plain": [
       "'555-421-4321'"
      ]
     },
     "execution_count": 673,
     "metadata": {},
     "output_type": "execute_result"
    }
   ],
   "source": [
    "re.search(phone_regex, text).group()"
   ]
  },
  {
   "cell_type": "markdown",
   "metadata": {},
   "source": [
    "#### Refining our regex patterns"
   ]
  },
  {
   "cell_type": "markdown",
   "metadata": {},
   "source": [
    "We can actually make our scrapers regex's a bit more tidy. Maybe you noticed that the first part of our `phone_regex`, the pattern `\\d+-`, was repeated? Have a look: "
   ]
  },
  {
   "cell_type": "code",
   "execution_count": null,
   "metadata": {},
   "outputs": [],
   "source": [
    "phone_regex = \"\\d+-\\d+-\\d+$\" # '\\d+-' is typed twice"
   ]
  },
  {
   "cell_type": "markdown",
   "metadata": {},
   "source": [
    "This duplication is unnecessary. Let's group `\\d+-` and place a `+` after it:"
   ]
  },
  {
   "cell_type": "code",
   "execution_count": 667,
   "metadata": {},
   "outputs": [],
   "source": [
    "phone_regex = \"(\\d+-)+\\d+$\""
   ]
  },
  {
   "cell_type": "markdown",
   "metadata": {},
   "source": [
    "So instead of `\\d+-\\d+-`, we have type `(\\d+-)+`. This means that it will look for the pattern `(\\d+-)` _at least once_. Let's do the same refinement on the regex we made for finding the name:"
   ]
  },
  {
   "cell_type": "code",
   "execution_count": 678,
   "metadata": {},
   "outputs": [],
   "source": [
    "name_regex = \"^([A-Z][a-z]+\\s*)+\""
   ]
  },
  {
   "cell_type": "markdown",
   "metadata": {},
   "source": [
    "So, instead of typing `[A-Z][a-z]+` twice, we just put the first part of the expression in a group!\n",
    "\n",
    "Finally, let's put the regex patterns in a function which returns both the results at the same time:"
   ]
  },
  {
   "cell_type": "code",
   "execution_count": 682,
   "metadata": {},
   "outputs": [],
   "source": [
    "def find_name_number(string):\n",
    "    phone_regex = \"(\\d+-)+\\d+$\"\n",
    "    name_regex = \"^([A-Z][a-z]+\\s*)+\"\n",
    "    \n",
    "    phone = re.search(phone_regex,string).group()\n",
    "    name = re.search(name_regex,string).group()\n",
    "    \n",
    "    # Typing our return statement like this returns the values as a tuple\n",
    "    return name, phone"
   ]
  },
  {
   "cell_type": "code",
   "execution_count": 683,
   "metadata": {},
   "outputs": [],
   "source": [
    "text = \"Bear Grylls. Extremely interested in nature. \\\n",
    "Also, I can climb really high (3,500 meters, at least) \\\n",
    "and I can handle being thirsty. 555-421-4321\""
   ]
  },
  {
   "cell_type": "code",
   "execution_count": 684,
   "metadata": {},
   "outputs": [
    {
     "data": {
      "text/plain": [
       "('Bear Grylls', '555-421-4321')"
      ]
     },
     "execution_count": 684,
     "metadata": {},
     "output_type": "execute_result"
    }
   ],
   "source": [
    "find_name_number(text)"
   ]
  },
  {
   "cell_type": "markdown",
   "metadata": {},
   "source": [
    "Success! \n",
    "\n",
    "Let's return to the problem we started this section with. We had a list with string values as its items. Each string started with a name, and ended with a phone number. With the function `find_name_number()` we just created, we could call this function on each item in the list, and then save the result in a new list, containing _only_ name and phone number!\n",
    "\n",
    "Let's try it on our example text once more, but in a for-loop, so you can see what I mean:"
   ]
  },
  {
   "cell_type": "code",
   "execution_count": 685,
   "metadata": {},
   "outputs": [],
   "source": [
    "scraped_list = [\"Bear Grylls. Extremely interested in nature. \\\n",
    "Also, I can climb really high (3,500 meters, at least) \\\n",
    "and I can handle being thirsty. 555-421-4321\"]"
   ]
  },
  {
   "cell_type": "markdown",
   "metadata": {},
   "source": [
    "So, this list now only contains one item. But imagine it includes hundreds of people. Let's create a list on which we can append our results:"
   ]
  },
  {
   "cell_type": "code",
   "execution_count": 686,
   "metadata": {},
   "outputs": [],
   "source": [
    "results = []"
   ]
  },
  {
   "cell_type": "code",
   "execution_count": 687,
   "metadata": {},
   "outputs": [],
   "source": [
    "for string in scraped_list:\n",
    "    # the function returns a tuple, which we save in this variable\n",
    "    items = find_name_number(string)\n",
    "    \n",
    "    # then, we append this tuple to our results-list:\n",
    "    results.append(items)"
   ]
  },
  {
   "cell_type": "code",
   "execution_count": 688,
   "metadata": {},
   "outputs": [
    {
     "data": {
      "text/plain": [
       "[('Bear Grylls', '555-421-4321')]"
      ]
     },
     "execution_count": 688,
     "metadata": {},
     "output_type": "execute_result"
    }
   ],
   "source": [
    "results"
   ]
  },
  {
   "cell_type": "markdown",
   "metadata": {},
   "source": [
    "Again, in this example, this is just a list with one single item. But hopefully, you can appreciate how powerful this code is!"
   ]
  },
  {
   "cell_type": "markdown",
   "metadata": {},
   "source": [
    "#### How to match it all – the wildcard `.`"
   ]
  },
  {
   "cell_type": "markdown",
   "metadata": {},
   "source": [
    "There is one rather important character class we havn't used yet – the dot `.` character. It matches all characters. Take this example:"
   ]
  },
  {
   "cell_type": "code",
   "execution_count": 701,
   "metadata": {},
   "outputs": [],
   "source": [
    "p = \".\""
   ]
  },
  {
   "cell_type": "code",
   "execution_count": 692,
   "metadata": {},
   "outputs": [],
   "source": [
    "text = \"abc012!#)&€)\""
   ]
  },
  {
   "cell_type": "code",
   "execution_count": 693,
   "metadata": {},
   "outputs": [
    {
     "data": {
      "text/plain": [
       "['a', 'b', 'c', '0', '1', '2', '!', '#', ')', '&', '€', ')']"
      ]
     },
     "execution_count": 693,
     "metadata": {},
     "output_type": "execute_result"
    }
   ],
   "source": [
    "re.findall(p, text)"
   ]
  },
  {
   "cell_type": "markdown",
   "metadata": {},
   "source": [
    "Or, more accuratly, it matches on any character **except for the newline character `\\n`**"
   ]
  },
  {
   "cell_type": "code",
   "execution_count": 705,
   "metadata": {},
   "outputs": [],
   "source": [
    "text = \"a\\n€\""
   ]
  },
  {
   "cell_type": "code",
   "execution_count": 706,
   "metadata": {},
   "outputs": [
    {
     "data": {
      "text/plain": [
       "['a', '€']"
      ]
     },
     "execution_count": 706,
     "metadata": {},
     "output_type": "execute_result"
    }
   ],
   "source": [
    "re.findall(p, text)"
   ]
  },
  {
   "cell_type": "markdown",
   "metadata": {},
   "source": [
    "The dot character is very handy since it is quite common with situations where we don't know which character that might occur. Take this following example:\n",
    "\n",
    "Let's say we have a string containing a presentation, and a list of phone numbers:"
   ]
  },
  {
   "cell_type": "code",
   "execution_count": 708,
   "metadata": {},
   "outputs": [],
   "source": [
    "numbers = \"\"\"\n",
    "\n",
    "These phone numbers are all available if you need to find any member to talk to:\n",
    "\n",
    "555-321-1234,\n",
    "(555)543-9876,\n",
    "555 246 8763,\n",
    "555.082.0021,\n",
    "555-321 1234,\n",
    "555x222x9987\n",
    "\n",
    "Bla bla bla etc etc etc…\n",
    "\n",
    "\"\"\""
   ]
  },
  {
   "cell_type": "markdown",
   "metadata": {},
   "source": [
    "Annoyingly, the numbers come from costumers who write them down themselves. And they don't use the same pattern in how to write their number. As you can see, it's a mess. In this made up example, it is easy to see which characters we need to include in our regex, but imagine the list being thousands of rows. \n",
    "\n",
    "This is a great time to use the dot `.`! Take a look:"
   ]
  },
  {
   "cell_type": "code",
   "execution_count": 709,
   "metadata": {},
   "outputs": [],
   "source": [
    "p = \"\\d+.\\d+.\\d+\""
   ]
  },
  {
   "cell_type": "code",
   "execution_count": 710,
   "metadata": {},
   "outputs": [
    {
     "data": {
      "text/plain": [
       "['555-321-1234',\n",
       " '555)543-9876',\n",
       " '555 246 8763',\n",
       " '555.082.0021',\n",
       " '555-321 1234',\n",
       " '555x222x9987']"
      ]
     },
     "execution_count": 710,
     "metadata": {},
     "output_type": "execute_result"
    }
   ],
   "source": [
    "re.findall(p, numbers)"
   ]
  },
  {
   "cell_type": "markdown",
   "metadata": {},
   "source": [
    "#### Matching everything at once with `.*`"
   ]
  },
  {
   "cell_type": "markdown",
   "metadata": {},
   "source": [
    "Ok, let's reuse the previous example of our phone list. Only this time, it turns out that it is an even worse list than we first thought. \n",
    "\n",
    "Apparently, the phone numbers are first written by hand, then they are read by a computer and but in this text string. But this means that some characters are off. Some zeros have becomed O's instead, number 7 have in some instances become T's etc etc. Have a look:"
   ]
  },
  {
   "cell_type": "code",
   "execution_count": 712,
   "metadata": {},
   "outputs": [],
   "source": [
    "numbers = \"\"\"\n",
    "\n",
    "These phone numbers are all available if you need to find any member to talk to:\n",
    "\n",
    "5S5-321-l234,\n",
    "(555)543-9B76,\n",
    "555 24S 876E,\n",
    "S55.O8R.0O21,\n",
    "555-B21 123A,\n",
    "555x22Rx9987\n",
    "\n",
    "Bla bla bla etc etc etc…\n",
    "\n",
    "\"\"\""
   ]
  },
  {
   "cell_type": "markdown",
   "metadata": {},
   "source": [
    "We still want all phone numbers though. How do we do it? \n",
    "\n",
    "In the previous section, I described how the wildcard dot character `.` matches every character. _Every character but newline._ This means that if we use the dot together with a star – `.*` – it will match any character (but newline) zero or more times. \n",
    "\n",
    "This, in effect, means \"match all rows\". Have a look:"
   ]
  },
  {
   "cell_type": "code",
   "execution_count": 713,
   "metadata": {},
   "outputs": [],
   "source": [
    "p = \".*\""
   ]
  },
  {
   "cell_type": "code",
   "execution_count": 716,
   "metadata": {},
   "outputs": [
    {
     "data": {
      "text/plain": [
       "['',\n",
       " '',\n",
       " 'These phone numbers are all available if you need to find any member to talk to:',\n",
       " '',\n",
       " '',\n",
       " '5S5-321-l234,',\n",
       " '',\n",
       " '(555)543-9B76,',\n",
       " '']"
      ]
     },
     "execution_count": 716,
     "metadata": {},
     "output_type": "execute_result"
    }
   ],
   "source": [
    "re.findall(p, numbers)[:9]"
   ]
  },
  {
   "cell_type": "markdown",
   "metadata": {},
   "source": [
    "All numbers begin with fives, but some have changed into the letter \"S\". But we can still match on these opening fives and S's. Then, we can use the dot star `.*`, which means \"give us the rest of this text row\". Have a look:"
   ]
  },
  {
   "cell_type": "code",
   "execution_count": 719,
   "metadata": {},
   "outputs": [],
   "source": [
    "p = \"[5S]+.*\" # '5' or 'S' once or more, followed by whatever – until newline!"
   ]
  },
  {
   "cell_type": "code",
   "execution_count": 720,
   "metadata": {},
   "outputs": [
    {
     "data": {
      "text/plain": [
       "['5S5-321-l234,',\n",
       " '555)543-9B76,',\n",
       " '555 24S 876E,',\n",
       " 'S55.O8R.0O21,',\n",
       " '555-B21 123A,',\n",
       " '555x22Rx9987']"
      ]
     },
     "execution_count": 720,
     "metadata": {},
     "output_type": "execute_result"
    }
   ],
   "source": [
    "re.findall(p, numbers)"
   ]
  },
  {
   "cell_type": "markdown",
   "metadata": {},
   "source": [
    "Success!"
   ]
  },
  {
   "cell_type": "markdown",
   "metadata": {},
   "source": [
    "This pattern can also be used to tell the computer: \"give me everything between these two patterns\". Have a look at this:"
   ]
  },
  {
   "cell_type": "code",
   "execution_count": 741,
   "metadata": {},
   "outputs": [],
   "source": [
    "text = \"phone numbers: 0704- 123 45 67, 08-123 45 12, 013-32 42 11. names: Johan, Kate, Hanna, Fredrick, Carl\""
   ]
  },
  {
   "cell_type": "markdown",
   "metadata": {},
   "source": [
    "Let's say we _only_ want the phone numbers, but can't be bothered to type a regex that cataches all of them. A lazy way to do it is to use dot star:"
   ]
  },
  {
   "cell_type": "code",
   "execution_count": 742,
   "metadata": {},
   "outputs": [],
   "source": [
    "p = \"phone numbers:(.*)names:\""
   ]
  },
  {
   "cell_type": "code",
   "execution_count": 743,
   "metadata": {},
   "outputs": [
    {
     "data": {
      "text/plain": [
       "' 0704- 123 45 67, 08-123 45 12, 013-32 42 11. '"
      ]
     },
     "execution_count": 743,
     "metadata": {},
     "output_type": "execute_result"
    }
   ],
   "source": [
    "re.search(p, text).group(1)"
   ]
  },
  {
   "cell_type": "markdown",
   "metadata": {},
   "source": [
    "##### (Optional) Greedy `.*`, non-greedy `.*?`"
   ]
  },
  {
   "cell_type": "markdown",
   "metadata": {},
   "source": [
    "Let's reuse the example in the previous section. But this time, we also have surnames in the text:"
   ]
  },
  {
   "cell_type": "code",
   "execution_count": 744,
   "metadata": {},
   "outputs": [],
   "source": [
    "text = \"phone numbers: 0704- 123 45 67, 08-123 45 12, 013-32 42 11. \\\n",
    "names: Johan, Kate, Hanna, Fredrick, Carl. surnames: Ekman, Smith, Svenson, Carlsson, Brandt\""
   ]
  },
  {
   "cell_type": "markdown",
   "metadata": {},
   "source": [
    "So, what happens then with our regex?"
   ]
  },
  {
   "cell_type": "code",
   "execution_count": 745,
   "metadata": {},
   "outputs": [],
   "source": [
    "p = \"phone numbers:(.*)names:\""
   ]
  },
  {
   "cell_type": "code",
   "execution_count": 746,
   "metadata": {},
   "outputs": [
    {
     "data": {
      "text/plain": [
       "' 0704- 123 45 67, 08-123 45 12, 013-32 42 11. names: Johan, Kate, Hanna, Fredrick, Carl. sur'"
      ]
     },
     "execution_count": 746,
     "metadata": {},
     "output_type": "execute_result"
    }
   ],
   "source": [
    "re.search(p, text).group(1)"
   ]
  },
  {
   "cell_type": "markdown",
   "metadata": {},
   "source": [
    "The dot star character pattern is **greedy**. It will read through the entire string, first it will find the \"phone numbers:\" part of the string. Then, it will look for the \"names:\" part. But it will look for the _last time that this occurs in the string_. It won't stop at the first \"names:\" it finds, if there's another one, it will grab everything up to that one. It is _greedy_, it takes all it can! \n",
    "\n",
    "So in the example above, it first finds the \"names:\" that preceds the first names. But then it finds the \"names:\" in \"surnames:\", so it ignores the first \"names:\", and therefore we get the everything there between returned to us.\n",
    "\n",
    "To stop this behaviour, and to make the dot star **non-greedy**, we can add a question mark: `.*?`:"
   ]
  },
  {
   "cell_type": "code",
   "execution_count": 747,
   "metadata": {},
   "outputs": [],
   "source": [
    "p = \"phone numbers:(.*?)names:\""
   ]
  },
  {
   "cell_type": "code",
   "execution_count": 748,
   "metadata": {},
   "outputs": [
    {
     "data": {
      "text/plain": [
       "' 0704- 123 45 67, 08-123 45 12, 013-32 42 11. '"
      ]
     },
     "execution_count": 748,
     "metadata": {},
     "output_type": "execute_result"
    }
   ],
   "source": [
    "re.search(p, text).group(1)"
   ]
  },
  {
   "cell_type": "markdown",
   "metadata": {},
   "source": [
    "A non-greedy dot star will stop at the first occurance of the pattern provided in the regex."
   ]
  },
  {
   "cell_type": "markdown",
   "metadata": {},
   "source": [
    "### Flags"
   ]
  },
  {
   "cell_type": "markdown",
   "metadata": {},
   "source": [
    "Flags are a way to adapt your regular expressions to specific circumstances. Here's two examples:"
   ]
  },
  {
   "cell_type": "markdown",
   "metadata": {},
   "source": [
    "#### `re.DOTALL`"
   ]
  },
  {
   "cell_type": "markdown",
   "metadata": {},
   "source": [
    "Let's reuse the text from the last section, but this time, let's say that the text includes newlines:"
   ]
  },
  {
   "cell_type": "code",
   "execution_count": 749,
   "metadata": {},
   "outputs": [],
   "source": [
    "text = \"\"\"\n",
    "phone numbers:\n",
    "0704- 123 45 67,\n",
    "08-123 45 12,\n",
    "013-32 42 11,\n",
    "names: \n",
    "Johan,\n",
    "Kate,\n",
    "Hanna,\n",
    "Fredrick,\n",
    "Carl\n",
    "\"\"\""
   ]
  },
  {
   "cell_type": "code",
   "execution_count": 752,
   "metadata": {},
   "outputs": [
    {
     "data": {
      "text/plain": [
       "'\\nphone numbers:\\n0704- 123 45 67,\\n08-123 45 12,\\n013-32 42 11,\\nnames: \\nJohan,\\nKate,\\nHanna,\\nFredrick,\\nCarl\\n'"
      ]
     },
     "execution_count": 752,
     "metadata": {},
     "output_type": "execute_result"
    }
   ],
   "source": [
    "text"
   ]
  },
  {
   "cell_type": "markdown",
   "metadata": {},
   "source": [
    "Since the dot `.` matches everything _except newline_, this poses a problem for us if we want to use dot star:"
   ]
  },
  {
   "cell_type": "code",
   "execution_count": 750,
   "metadata": {},
   "outputs": [],
   "source": [
    "p = \"phone numbers:(.*)names:\""
   ]
  },
  {
   "cell_type": "code",
   "execution_count": 751,
   "metadata": {},
   "outputs": [
    {
     "ename": "AttributeError",
     "evalue": "'NoneType' object has no attribute 'group'",
     "output_type": "error",
     "traceback": [
      "\u001b[0;31m---------------------------------------------------------------------------\u001b[0m",
      "\u001b[0;31mAttributeError\u001b[0m                            Traceback (most recent call last)",
      "\u001b[0;32m<ipython-input-751-f986b7a050b8>\u001b[0m in \u001b[0;36m<module>\u001b[0;34m\u001b[0m\n\u001b[0;32m----> 1\u001b[0;31m \u001b[0mre\u001b[0m\u001b[0;34m.\u001b[0m\u001b[0msearch\u001b[0m\u001b[0;34m(\u001b[0m\u001b[0mp\u001b[0m\u001b[0;34m,\u001b[0m \u001b[0mtext\u001b[0m\u001b[0;34m)\u001b[0m\u001b[0;34m.\u001b[0m\u001b[0mgroup\u001b[0m\u001b[0;34m(\u001b[0m\u001b[0;36m1\u001b[0m\u001b[0;34m)\u001b[0m\u001b[0;34m\u001b[0m\u001b[0;34m\u001b[0m\u001b[0m\n\u001b[0m",
      "\u001b[0;31mAttributeError\u001b[0m: 'NoneType' object has no attribute 'group'"
     ]
    }
   ],
   "source": [
    "re.search(p, text).group(1)"
   ]
  },
  {
   "cell_type": "markdown",
   "metadata": {},
   "source": [
    "The error is because the regex matches \"phone numbers:\" and then looks for \"names:\". But since it immediatly finds sees a newline, it doesn't match.\n",
    "\n",
    "Fortunatly, there is a way to make dot star also match newlines. We can use a flag: `re.DOTALL`. We just pass this as a third argument to the search method, and it will now let dots also match newlines:"
   ]
  },
  {
   "cell_type": "code",
   "execution_count": 753,
   "metadata": {},
   "outputs": [
    {
     "data": {
      "text/plain": [
       "'\\n0704- 123 45 67,\\n08-123 45 12,\\n013-32 42 11,\\n'"
      ]
     },
     "execution_count": 753,
     "metadata": {},
     "output_type": "execute_result"
    }
   ],
   "source": [
    "re.search(p, text, re.DOTALL).group(1)"
   ]
  },
  {
   "cell_type": "markdown",
   "metadata": {},
   "source": [
    "**Regex flags** are maybe best described as \"settings\" to our regular expressions. There are a handful of them, and I won't cover them all here. But you can find them all [here, in the re module's documentation](https://docs.python.org/3/library/re.html#re.A).\n",
    "\n",
    "Here's one more example of a flag:"
   ]
  },
  {
   "cell_type": "markdown",
   "metadata": {},
   "source": [
    "#### (Optional) `re.IGNORECASE`"
   ]
  },
  {
   "cell_type": "markdown",
   "metadata": {},
   "source": [
    "This flag simply tells the interpreter to ignore upper and lower casings of letters when looking for our regular expression. Here's an example:"
   ]
  },
  {
   "cell_type": "code",
   "execution_count": 763,
   "metadata": {},
   "outputs": [],
   "source": [
    "text = \"JoHaN EkMaN \""
   ]
  },
  {
   "cell_type": "code",
   "execution_count": 770,
   "metadata": {},
   "outputs": [],
   "source": [
    "p = \"(([a-z]+ )+)\" # looks for the a group of the letter range 'a' to 'z' together with blank space, at least once"
   ]
  },
  {
   "cell_type": "code",
   "execution_count": 771,
   "metadata": {},
   "outputs": [
    {
     "data": {
      "text/plain": [
       "[]"
      ]
     },
     "execution_count": 771,
     "metadata": {},
     "output_type": "execute_result"
    }
   ],
   "source": [
    "re.findall(p, text)"
   ]
  },
  {
   "cell_type": "markdown",
   "metadata": {},
   "source": [
    "This doesn't find any match since the text example is a mix of upper and lower cased letters. The regular expression is just looking for a letter range 'a' to 'z' in lower letters. To be sure it will match anyways, we can use the flag `re.IGNORECASE`:"
   ]
  },
  {
   "cell_type": "code",
   "execution_count": 772,
   "metadata": {},
   "outputs": [
    {
     "data": {
      "text/plain": [
       "[('JoHaN EkMaN ', 'EkMaN ')]"
      ]
     },
     "execution_count": 772,
     "metadata": {},
     "output_type": "execute_result"
    }
   ],
   "source": [
    "re.findall(p, text, re.IGNORECASE)"
   ]
  },
  {
   "cell_type": "markdown",
   "metadata": {},
   "source": []
  },
  {
   "cell_type": "markdown",
   "metadata": {},
   "source": [
    "### Find and replace text – `re.sub()`"
   ]
  },
  {
   "cell_type": "markdown",
   "metadata": {},
   "source": [
    "## Project – The Invoices"
   ]
  },
  {
   "cell_type": "markdown",
   "metadata": {},
   "source": [
    "In this chapter, you will be doing a project. Below, there is code that will create thousands of PDF files in a folder called \"project\" in the current working directory. The files are (made up) invoices to a public agency. \n",
    "\n",
    "It is your job, using python code, to go through all the files and gather some specific information:\n",
    "\n",
    "- The total cost if you sum up all the invoices' charges\n",
    "- There are dates on the invoices – find the total yearly cost of all the invoices\n",
    "- There are people's names and (Swedish) social security numbers on the invoices – looking through all invoices, who has charged the agency the most?\n",
    "\n",
    "Bonus: there is a text file in the 'course_material' folder, called 'employees.txt'. Within it there are a long list of social security numbers of people working at the agency. We also want to see if there are reason to be suspicious of foul play. Are there any employed people charging the agency? If there is, this is a clear violation of the agency's policy, and perhaps corruption. You are tasked to go through all the invoices and then clear the social security numbers within against the 'employees.txt' list.\n",
    "\n",
    "This project will test your overall python skills. You can do this! Just use the skills you've learned throughout the basic and the continuation course. But also, google things when you feel stuck! There are thousands and thousands of questions and answers that might be of help at [stackoverflow.com](https://stackoverflow.com/questions). \n",
    "\n",
    "I also encourage you to try things that _hasn't been in the course yet_. Look into modules that you think might be helpful. One that might help you out, but that we havn't covered in the course, is the `datetime` module. Check it out! \n",
    "\n",
    "In general, google modules you read about, and check their documentation. It is a routine that is great to put in practice early on!\n",
    "\n",
    "My solution to this project can be found in the solutions notebook. But I strongly encourage you to try by yourself first!\n",
    "\n",
    "Good luck!\n",
    "\n",
    "**IMPORTANT!!**\n",
    "\n",
    "You will need the third party module `reportlab` to be able to generate the files needed to do this exercise. If you've installed Anaconda as was recommended, uncomment and run the following code cell to install it:"
   ]
  },
  {
   "cell_type": "code",
   "execution_count": 7,
   "metadata": {},
   "outputs": [],
   "source": [
    "#!conda install -c conda-forge reportlab"
   ]
  },
  {
   "cell_type": "markdown",
   "metadata": {},
   "source": [
    "_(If you haven't installed Anaconda as was recommended, install `reportlab` in such a way that you can use the module in this notebook)_\n",
    "\n",
    "**Now, run this following code cell.** Don't worry about its content. It generates 5000 pdf files, taking up 20 MB storage on your hard drive. The code will take about 13 seconds to run."
   ]
  },
  {
   "cell_type": "code",
   "execution_count": 13,
   "metadata": {},
   "outputs": [
    {
     "name": "stdout",
     "output_type": "stream",
     "text": [
      "Writing file no 5000 of 5000 files...\n",
      "All files generated without failure! Success!\n"
     ]
    }
   ],
   "source": [
    "import datetime\n",
    "import json\n",
    "import random\n",
    "import locale\n",
    "import re\n",
    "import os\n",
    "\n",
    "import pandas as pd\n",
    "import numpy as np\n",
    "\n",
    "from random import randint, seed\n",
    "from pathlib import Path\n",
    "\n",
    "from reportlab.pdfgen.canvas import Canvas\n",
    "from reportlab.pdfgen import canvas\n",
    "from reportlab.lib.pagesizes import A4\n",
    "from reportlab.platypus import SimpleDocTemplate, Paragraph\n",
    "from reportlab.lib.styles import getSampleStyleSheet\n",
    "from reportlab.lib.units import cm\n",
    "\n",
    "from IPython.display import clear_output, display\n",
    "\n",
    "seed(100)\n",
    "locale.setlocale(locale.LC_ALL, 'en_US.UTF-8')\n",
    "\n",
    "def random_datetimes_or_dates(start, end, n=None):\n",
    "    np.random.seed(100)\n",
    "    (divide_by, unit) = (24*60*60*10**9, 'D')\n",
    "\n",
    "    start_u = start.value // divide_by\n",
    "    end_u = end.value // divide_by\n",
    "    if not n:\n",
    "        n = (end - start).value // divide_by\n",
    "\n",
    "    return pd.to_datetime(np.random.randint(start_u,\n",
    "                                            end_u, n),\n",
    "                          unit=unit).astype('str')\n",
    "\n",
    "def create_dranges(start, end, n=None):\n",
    "    start = pd.to_datetime(start)\n",
    "    end = pd.to_datetime(end)\n",
    "    return random_datetimes_or_dates(start,end,n)\n",
    "\n",
    "def last_four_digits(person):\n",
    "    digits = f\"{randint(0,9)}\"\n",
    "\n",
    "def create_birthdates(number):\n",
    "    dranges = create_dranges(\"1951-01-01\",\"1995-12-31\")\n",
    "    \n",
    "    np.random.seed(100)\n",
    "    dranges = pd.Series(dranges[np.random.randint(1,len(dranges),number)])\n",
    "    return dranges.apply(lambda x: x[2:]).str.replace('-','')\n",
    "\n",
    "def last_four():\n",
    "    np.random.seed(100)\n",
    "    nums = pd.Series(np.random.randint(0,999,100).astype('str'))\n",
    "    nums = nums.apply(lambda x: '00' + x if len(x) < 2 else x)\n",
    "    nums = nums.apply(lambda x: '0' + x if len(x) == 2 else x)\n",
    "    return nums\n",
    "\n",
    "def last_digit():\n",
    "    seed(100)\n",
    "    even = [random.randrange(2, 9, 2) for _ in range(50)]\n",
    "    odd = [random.randrange(1, 10, 2) for _ in range(50)]\n",
    "    return even + odd\n",
    "\n",
    "def soc_sec_nums():\n",
    "    dates = create_birthdates(100)\n",
    "    last_digits = last_four()\n",
    "    soc_nums = []\n",
    "    for count,date in enumerate(dates):\n",
    "        soc_nums.append(f\"{date}-{last_digits[count]}\")\n",
    "    return soc_nums\n",
    "\n",
    "def pass_item(items):\n",
    "    for item in items:\n",
    "        yield item\n",
    "\n",
    "def build_people():\n",
    "    \n",
    "    with open(\"../course_material/scb.json\",\"r\") as f:\n",
    "        names = json.load(f)\n",
    "    \n",
    "    snames = pass_item(names[\"surnames\"])\n",
    "    soc_nums = soc_sec_nums()\n",
    "    last_num = pass_item(last_digit())\n",
    "    all_names = []\n",
    "    for count,name in enumerate(names[\"men\"]+names[\"women\"]):\n",
    "        item = {}\n",
    "        item['name'] = (f\"{name} {next(snames)}\")\n",
    "        item['soc_num'] = soc_nums[count] + str(next(last_num))\n",
    "        if count < 50:\n",
    "            item['sex'] = \"m\" \n",
    "        else:\n",
    "            item['sex'] = \"f\"\n",
    "        all_names.append(item)\n",
    "    return all_names\n",
    "\n",
    "def invoice_sums(n):\n",
    "    np.random.seed(100)\n",
    "    return np.random.randint(200,2_000_000,n).astype(str)\n",
    "\n",
    "def generate_invoice_info(num_invoices=5000):\n",
    "    \n",
    "    info = {}\n",
    "    \n",
    "    # TODO – generate invoice dates\n",
    "    dates = create_dranges(\"2016-01-01\",\"2020-02-01\",num_invoices)\n",
    "    info[\"dates\"] = [f\"\\t\\t\\t\\tInvoice date: {x}\" for x in dates]\n",
    "\n",
    "    # TODO – generate invoice sums\n",
    "    charges = invoice_sums(num_invoices)\n",
    "    info[\"sums\"] = [f\"Total expenditure:\\t\\tSEK {int(x):n}\" for x in charges]\n",
    "\n",
    "    # Invoice contact\n",
    "    names = build_people()\n",
    "    info[\"names\"] = [f\"Our contact:\\t\\t\\t{x['name']} ({x['soc_num']})\" for x in names]\n",
    "    \n",
    "    return info\n",
    "\n",
    "def generate_invoice_text(date, charge, name):\n",
    "    text = f\"\"\"\n",
    "{date}\n",
    "\n",
    "Invoice for services in accordance with #T542AA1, Chap 3\n",
    "--------------------------------------------------------\n",
    "\n",
    "\n",
    "{exp}\n",
    "\n",
    "------\n",
    "{name}\n",
    "\n",
    "\"\"\"\n",
    "    # newline in pdf line breaks\n",
    "    return text.replace(\"\\n\", \"<br />\")\n",
    "\n",
    "np.random.seed(100)\n",
    "# number of generated invoices\n",
    "invoice_number = 5000\n",
    "\n",
    "# generate invoice content\n",
    "data = generate_invoice_info(invoice_number)\n",
    "\n",
    "# this list of ints is to seed invoice names \n",
    "contacts = np.random.randint(0,len(data['names']),invoice_number)\n",
    "\n",
    "end = datetime.datetime.strptime('2020-02-01',\"%Y-%m-%d\")\n",
    "start = end - datetime.timedelta(invoice_number-1)\n",
    "\n",
    "# file name generator (based on dates)\n",
    "filenames = pass_item(pd.date_range(start,end))\n",
    "\n",
    "path = Path(\"project\")\n",
    "# if no directory, create one\n",
    "if not os.path.isdir(path):\n",
    "    os.mkdir(path)\n",
    "\n",
    "for count,date in enumerate(data['dates']):\n",
    "    clear_output(wait=True)\n",
    "    print(f\"Writing file no {count+1} of 5000 files...\")\n",
    "    \n",
    "    exp = data[\"sums\"][count]\n",
    "    name = data[\"names\"][contacts[count]]\n",
    "    \n",
    "    # pdf name generator\n",
    "    fname = int(next(filenames).value) // 10**9\n",
    "    \n",
    "    # pdf layout\n",
    "    doc = SimpleDocTemplate(f\"{path.name}/{fname}.pdf\",pagesize=A4,\n",
    "                        rightMargin=2*cm,leftMargin=2*cm,\n",
    "                        topMargin=2*cm,bottomMargin=2*cm)\n",
    "    \n",
    "    if contacts[count] in [12,32,41,73]:\n",
    "        # this statement decides corrupt invoices' sums\n",
    "        if contacts[count] == 32:\n",
    "            multipl = 9.5\n",
    "        else:\n",
    "            multipl = 2\n",
    "        num = re.search(\"(\\d+,)*\\d+\", exp).group()\n",
    "        num = int(num.replace(\",\",\"\")) * multipl\n",
    "        re.sub(\"(\\d+,)*\\d+\", f\"{num:n}\", exp)\n",
    "    \n",
    "    text = generate_invoice_text(date, exp, name)\n",
    "    \n",
    "    # build pdf\n",
    "    doc.build([Paragraph(text, getSampleStyleSheet()['Normal']),])\n",
    "    \n",
    "print(\"All files generated without failure! Success!\")"
   ]
  },
  {
   "cell_type": "code",
   "execution_count": 12,
   "metadata": {},
   "outputs": [
    {
     "data": {
      "text/plain": [
       "'project'"
      ]
     },
     "execution_count": 12,
     "metadata": {},
     "output_type": "execute_result"
    }
   ],
   "source": []
  },
  {
   "cell_type": "code",
   "execution_count": null,
   "metadata": {},
   "outputs": [],
   "source": []
  },
  {
   "cell_type": "code",
   "execution_count": null,
   "metadata": {},
   "outputs": [],
   "source": []
  },
  {
   "cell_type": "code",
   "execution_count": null,
   "metadata": {},
   "outputs": [],
   "source": []
  },
  {
   "cell_type": "code",
   "execution_count": null,
   "metadata": {},
   "outputs": [],
   "source": []
  },
  {
   "cell_type": "code",
   "execution_count": 285,
   "metadata": {},
   "outputs": [
    {
     "data": {
      "text/plain": [
       "'Our contact:\\t\\t\\tDan Eliasson (780810-5782)'"
      ]
     },
     "execution_count": 285,
     "metadata": {},
     "output_type": "execute_result"
    }
   ],
   "source": [
    "data[\"names\"][12]"
   ]
  },
  {
   "cell_type": "code",
   "execution_count": 286,
   "metadata": {},
   "outputs": [
    {
     "data": {
      "text/plain": [
       "'Our contact:\\t\\t\\tWilhelm Holmberg (570710-4152)'"
      ]
     },
     "execution_count": 286,
     "metadata": {},
     "output_type": "execute_result"
    }
   ],
   "source": [
    "data[\"names\"][32]"
   ]
  },
  {
   "cell_type": "code",
   "execution_count": 287,
   "metadata": {},
   "outputs": [
    {
     "data": {
      "text/plain": [
       "'Our contact:\\t\\t\\tOve Hellström (811115-8358)'"
      ]
     },
     "execution_count": 287,
     "metadata": {},
     "output_type": "execute_result"
    }
   ],
   "source": [
    "data[\"names\"][41]"
   ]
  },
  {
   "cell_type": "code",
   "execution_count": 288,
   "metadata": {},
   "outputs": [
    {
     "data": {
      "text/plain": [
       "'Our contact:\\t\\t\\tEllen Johansson (610213-9525)'"
      ]
     },
     "execution_count": 288,
     "metadata": {},
     "output_type": "execute_result"
    }
   ],
   "source": [
    "data[\"names\"][73]"
   ]
  },
  {
   "cell_type": "code",
   "execution_count": null,
   "metadata": {},
   "outputs": [],
   "source": []
  },
  {
   "cell_type": "code",
   "execution_count": null,
   "metadata": {},
   "outputs": [],
   "source": []
  },
  {
   "cell_type": "code",
   "execution_count": null,
   "metadata": {},
   "outputs": [],
   "source": []
  },
  {
   "cell_type": "code",
   "execution_count": null,
   "metadata": {},
   "outputs": [],
   "source": []
  },
  {
   "cell_type": "markdown",
   "metadata": {},
   "source": [
    "## Web scraping"
   ]
  },
  {
   "cell_type": "code",
   "execution_count": null,
   "metadata": {},
   "outputs": [],
   "source": []
  },
  {
   "cell_type": "code",
   "execution_count": null,
   "metadata": {},
   "outputs": [],
   "source": []
  },
  {
   "cell_type": "code",
   "execution_count": null,
   "metadata": {},
   "outputs": [],
   "source": []
  },
  {
   "cell_type": "code",
   "execution_count": null,
   "metadata": {},
   "outputs": [],
   "source": []
  },
  {
   "cell_type": "code",
   "execution_count": null,
   "metadata": {},
   "outputs": [],
   "source": []
  },
  {
   "cell_type": "code",
   "execution_count": null,
   "metadata": {},
   "outputs": [],
   "source": []
  },
  {
   "cell_type": "code",
   "execution_count": null,
   "metadata": {},
   "outputs": [],
   "source": []
  }
 ],
 "metadata": {
  "kernelspec": {
   "display_name": "Python 3",
   "language": "python",
   "name": "python3"
  },
  "language_info": {
   "codemirror_mode": {
    "name": "ipython",
    "version": 3
   },
   "file_extension": ".py",
   "mimetype": "text/x-python",
   "name": "python",
   "nbconvert_exporter": "python",
   "pygments_lexer": "ipython3",
   "version": "3.8.5"
  },
  "toc": {
   "base_numbering": 1,
   "nav_menu": {},
   "number_sections": true,
   "sideBar": true,
   "skip_h1_title": true,
   "title_cell": "Table of Contents",
   "title_sidebar": "Contents",
   "toc_cell": true,
   "toc_position": {},
   "toc_section_display": true,
   "toc_window_display": false
  }
 },
 "nbformat": 4,
 "nbformat_minor": 4
}
