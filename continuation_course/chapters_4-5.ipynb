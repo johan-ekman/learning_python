{
 "cells": [
  {
   "cell_type": "markdown",
   "metadata": {},
   "source": [
    "# Continuation Course – Chapter 4"
   ]
  },
  {
   "cell_type": "markdown",
   "metadata": {
    "toc": true
   },
   "source": [
    "<h1>Table of Contents<span class=\"tocSkip\"></span></h1>\n",
    "<div class=\"toc\"><ul class=\"toc-item\"><li><span><a href=\"#Web-scraping\" data-toc-modified-id=\"Web-scraping-4\"><span class=\"toc-item-num\">4&nbsp;&nbsp;</span>Web scraping</a></span><ul class=\"toc-item\"><li><span><a href=\"#Introduction\" data-toc-modified-id=\"Introduction-4.1\"><span class=\"toc-item-num\">4.1&nbsp;&nbsp;</span>Introduction</a></span><ul class=\"toc-item\"><li><span><a href=\"#Website's-foundation\" data-toc-modified-id=\"Website's-foundation-4.1.1\"><span class=\"toc-item-num\">4.1.1&nbsp;&nbsp;</span>Website's foundation</a></span></li><li><span><a href=\"#Inspecting-websites\" data-toc-modified-id=\"Inspecting-websites-4.1.2\"><span class=\"toc-item-num\">4.1.2&nbsp;&nbsp;</span>Inspecting websites</a></span></li></ul></li><li><span><a href=\"#The-requests-module\" data-toc-modified-id=\"The-requests-module-4.2\"><span class=\"toc-item-num\">4.2&nbsp;&nbsp;</span>The <code>requests</code> module</a></span><ul class=\"toc-item\"><li><span><a href=\"#The-response-object\" data-toc-modified-id=\"The-response-object-4.2.1\"><span class=\"toc-item-num\">4.2.1&nbsp;&nbsp;</span>The response object</a></span></li><li><span><a href=\"#Affirming-the-response-object\" data-toc-modified-id=\"Affirming-the-response-object-4.2.2\"><span class=\"toc-item-num\">4.2.2&nbsp;&nbsp;</span>Affirming the response object</a></span></li><li><span><a href=\"#Accessing-content-–-the-binary-string\" data-toc-modified-id=\"Accessing-content-–-the-binary-string-4.2.3\"><span class=\"toc-item-num\">4.2.3&nbsp;&nbsp;</span>Accessing content – the binary string</a></span></li><li><span><a href=\"#Downloading-a-plaintext-file\" data-toc-modified-id=\"Downloading-a-plaintext-file-4.2.4\"><span class=\"toc-item-num\">4.2.4&nbsp;&nbsp;</span>Downloading a plaintext file</a></span><ul class=\"toc-item\"><li><span><a href=\"#Exploring-the-text-data\" data-toc-modified-id=\"Exploring-the-text-data-4.2.4.1\"><span class=\"toc-item-num\">4.2.4.1&nbsp;&nbsp;</span>Exploring the text data</a></span></li></ul></li><li><span><a href=\"#Downloading-and-working-with-csv-files\" data-toc-modified-id=\"Downloading-and-working-with-csv-files-4.2.5\"><span class=\"toc-item-num\">4.2.5&nbsp;&nbsp;</span>Downloading and working with csv files</a></span><ul class=\"toc-item\"><li><span><a href=\"#(Optional)-Exploring-and-converting-csv-data\" data-toc-modified-id=\"(Optional)-Exploring-and-converting-csv-data-4.2.5.1\"><span class=\"toc-item-num\">4.2.5.1&nbsp;&nbsp;</span>(Optional) Exploring and converting csv data</a></span></li></ul></li><li><span><a href=\"#Downloading-and-working-with-json-files\" data-toc-modified-id=\"Downloading-and-working-with-json-files-4.2.6\"><span class=\"toc-item-num\">4.2.6&nbsp;&nbsp;</span>Downloading and working with json files</a></span></li></ul></li><li><span><a href=\"#Scraping-html-elements-using-BeautifulSoup\" data-toc-modified-id=\"Scraping-html-elements-using-BeautifulSoup-4.3\"><span class=\"toc-item-num\">4.3&nbsp;&nbsp;</span>Scraping html elements using <code>BeautifulSoup</code></a></span></li><li><span><a href=\"#Creating-scraping-loops\" data-toc-modified-id=\"Creating-scraping-loops-4.4\"><span class=\"toc-item-num\">4.4&nbsp;&nbsp;</span>Creating scraping loops</a></span><ul class=\"toc-item\"><li><span><a href=\"#Find-all-element-tags-–-.find_all()\" data-toc-modified-id=\"Find-all-element-tags-–-.find_all()-4.4.1\"><span class=\"toc-item-num\">4.4.1&nbsp;&nbsp;</span>Find all element tags – <code>.find_all()</code></a></span></li><li><span><a href=\"#Scraping-the-html-<table>\" data-toc-modified-id=\"Scraping-the-html-<table>-4.4.2\"><span class=\"toc-item-num\">4.4.2&nbsp;&nbsp;</span>Scraping the html <code>&lt;table&gt;</code></a></span></li><li><span><a href=\"#Scraping-the-county-names\" data-toc-modified-id=\"Scraping-the-county-names-4.4.3\"><span class=\"toc-item-num\">4.4.3&nbsp;&nbsp;</span>Scraping the county names</a></span></li><li><span><a href=\"#Unicode-garbage-–-weird-text-characters\" data-toc-modified-id=\"Unicode-garbage-–-weird-text-characters-4.4.4\"><span class=\"toc-item-num\">4.4.4&nbsp;&nbsp;</span>Unicode garbage – weird text characters</a></span></li><li><span><a href=\"#Both-links-and-names-in-one-loop\" data-toc-modified-id=\"Both-links-and-names-in-one-loop-4.4.5\"><span class=\"toc-item-num\">4.4.5&nbsp;&nbsp;</span>Both links and names in one loop</a></span></li><li><span><a href=\"#Best-practice-–-put-it-in-functions\" data-toc-modified-id=\"Best-practice-–-put-it-in-functions-4.4.6\"><span class=\"toc-item-num\">4.4.6&nbsp;&nbsp;</span>Best practice – put it in functions</a></span></li><li><span><a href=\"#Finally,-scrape-it-all\" data-toc-modified-id=\"Finally,-scrape-it-all-4.4.7\"><span class=\"toc-item-num\">4.4.7&nbsp;&nbsp;</span>Finally, scrape it all</a></span></li></ul></li><li><span><a href=\"#Exercise-–-Scrape-the-Olympic-Medals\" data-toc-modified-id=\"Exercise-–-Scrape-the-Olympic-Medals-4.5\"><span class=\"toc-item-num\">4.5&nbsp;&nbsp;</span>Exercise – Scrape the Olympic Medals</a></span></li></ul></li><li><span><a href=\"#Pandas-–-the-basics\" data-toc-modified-id=\"Pandas-–-the-basics-5\"><span class=\"toc-item-num\">5&nbsp;&nbsp;</span>Pandas – the basics</a></span><ul class=\"toc-item\"><li><span><a href=\"#Data-alteration-techniques\" data-toc-modified-id=\"Data-alteration-techniques-5.1\"><span class=\"toc-item-num\">5.1&nbsp;&nbsp;</span>Data alteration techniques</a></span><ul class=\"toc-item\"><li><span><a href=\"#map()-–-a-function-using-a-function\" data-toc-modified-id=\"map()-–-a-function-using-a-function-5.1.1\"><span class=\"toc-item-num\">5.1.1&nbsp;&nbsp;</span><code>map()</code> – a function using a function</a></span></li><li><span><a href=\"#filter()-–-return-if-True\" data-toc-modified-id=\"filter()-–-return-if-True-5.1.2\"><span class=\"toc-item-num\">5.1.2&nbsp;&nbsp;</span><code>filter()</code> – return if <code>True</code></a></span></li><li><span><a href=\"#Exercise-–-filter-the-EU-member-states,-part-1\" data-toc-modified-id=\"Exercise-–-filter-the-EU-member-states,-part-1-5.1.3\"><span class=\"toc-item-num\">5.1.3&nbsp;&nbsp;</span>Exercise – filter the EU member states, part 1</a></span></li><li><span><a href=\"#Lambda-functions\" data-toc-modified-id=\"Lambda-functions-5.1.4\"><span class=\"toc-item-num\">5.1.4&nbsp;&nbsp;</span>Lambda functions</a></span></li><li><span><a href=\"#List-comprehensions\" data-toc-modified-id=\"List-comprehensions-5.1.5\"><span class=\"toc-item-num\">5.1.5&nbsp;&nbsp;</span>List comprehensions</a></span></li><li><span><a href=\"#Exercise-–-filter-the-EU-member-states,-part-2\" data-toc-modified-id=\"Exercise-–-filter-the-EU-member-states,-part-2-5.1.6\"><span class=\"toc-item-num\">5.1.6&nbsp;&nbsp;</span>Exercise – filter the EU member states, part 2</a></span></li></ul></li><li><span><a href=\"#Pandas-–-basic-concepts\" data-toc-modified-id=\"Pandas-–-basic-concepts-5.2\"><span class=\"toc-item-num\">5.2&nbsp;&nbsp;</span>Pandas – basic concepts</a></span><ul class=\"toc-item\"><li><span><a href=\"#Introduction-–-built-on-numpy\" data-toc-modified-id=\"Introduction-–-built-on-numpy-5.2.1\"><span class=\"toc-item-num\">5.2.1&nbsp;&nbsp;</span>Introduction – built on <code>numpy</code></a></span></li><li><span><a href=\"#Pandas-Series-–-pd.Series()\" data-toc-modified-id=\"Pandas-Series-–-pd.Series()-5.2.2\"><span class=\"toc-item-num\">5.2.2&nbsp;&nbsp;</span>Pandas Series – <code>pd.Series()</code></a></span><ul class=\"toc-item\"><li><span><a href=\"#Vectorisation-and-uniform-data-types\" data-toc-modified-id=\"Vectorisation-and-uniform-data-types-5.2.2.1\"><span class=\"toc-item-num\">5.2.2.1&nbsp;&nbsp;</span>Vectorisation and uniform data types</a></span></li><li><span><a href=\"#Boolean-Selection\" data-toc-modified-id=\"Boolean-Selection-5.2.2.2\"><span class=\"toc-item-num\">5.2.2.2&nbsp;&nbsp;</span>Boolean Selection</a></span></li><li><span><a href=\"#Helpful-methods\" data-toc-modified-id=\"Helpful-methods-5.2.2.3\"><span class=\"toc-item-num\">5.2.2.3&nbsp;&nbsp;</span>Helpful methods</a></span></li></ul></li></ul></li></ul></li></ul></div>"
   ]
  },
  {
   "cell_type": "markdown",
   "metadata": {},
   "source": [
    "## Web scraping"
   ]
  },
  {
   "cell_type": "markdown",
   "metadata": {},
   "source": [
    "In this chapter, we're going to cover the basics of web scraping. We will not go through more advanced web scraping techniques, such as using Selenium. Here, we will learn how to access web pages' element trees and scrape information of it. \n",
    "\n",
    "You should know, such scraping has some prerequistes. In the introduction, I will briefly show how to research a web page's element tree, and introduce some basic concepts. There are also some helpful links to get you some more background. Just reading through these links will help you a lot. If you're completely new to these subjects, I recommend having the links open in other tabs in your web browser to be referenced as you read through this chapter."
   ]
  },
  {
   "cell_type": "markdown",
   "metadata": {},
   "source": [
    "### Introduction"
   ]
  },
  {
   "cell_type": "markdown",
   "metadata": {},
   "source": [
    "#### Website's foundation"
   ]
  },
  {
   "cell_type": "markdown",
   "metadata": {},
   "source": [
    "All web pages you frequent are the result of code. There is what's called **the frontend** of web pages. This is the visual representation of a website and is (usually) the results of three code languages. Here's a very (very) basic and rough explination:\n",
    "\n",
    "***\n",
    "**The website's building blocks – HTML**\n",
    "\n",
    "The basic building blocks of a web page is created in Hyper Text Markup Language, or HTML. It defines what \"blocks\" of content that should exist on the webpage. These blocks are called HTML-elements.\n",
    "***\n",
    "\n",
    "**The website's style and estetic – CSS**\n",
    "\n",
    "Using CSS code, websites target the html elements and changes their look and how they are ordered in relation to one another. For example, HTML code can create three text paragraphs. CSS can style them by having the same font, and organise them by ordering them horizontally instead of below one another.\n",
    "***\n",
    "\n",
    "**The website's logic – JavaScript**\n",
    "\n",
    "Modern websites's content isn't static. They often change appearance, have content move as you scroll, or have content that isn't available in some circumstances. They are dynamic. And this dynamic usually depend on some kind of logic.\n",
    "***\n",
    "\n",
    "A very basic example is when you click a link to content not appropriate for children. A textbox usually appear asking you to put in your date of birth. If you're above a certain age, the webpage will let you access its content. If not, you'll be told you're too young to access the webpage. This is a logic that (probably) is built with JavaScript. JavaScript is a programming language that developers use to apply logic to websites.\n",
    "\n",
    "_(There's also **the backend** of websites. This is the logic built to get the correct data to you as a user. Usually this is written in a programming language such as PHP)_"
   ]
  },
  {
   "cell_type": "markdown",
   "metadata": {},
   "source": [
    "#### Inspecting websites"
   ]
  },
  {
   "cell_type": "markdown",
   "metadata": {},
   "source": [
    "Let's have a look at a website's html code: this wikipedia page with [all olympic medals of all time](https://en.wikipedia.org/wiki/All-time_Olympic_Games_medal_table). We can do this by right clicking anywhere on the website and choosing \"Inspect\" (Google Chrome) or \"Inspect element\" (Firefox) in the dropdown menu that appears. [Here's a guide on how to do this on various web browsers.](https://www.lifewire.com/get-inspect-element-tool-for-browser-756549) Right click on the text paragraph up top on the article and choose \"Inspect Element\":"
   ]
  },
  {
   "cell_type": "markdown",
   "metadata": {},
   "source": [
    "<img src=\"../course_material/scraping/inspect_1.png\" style=\"width: 600px;\"/>"
   ]
  },
  {
   "cell_type": "markdown",
   "metadata": {},
   "source": [
    "You will then open **the developer tools window**. If you've never seen this window before, it may come across as the controls of a space shuttle. But don't fret! It isn't that complicated, at least the stuff we're interested in. \n",
    "\n",
    "In the developer tools window, if you're in Google Chrome, open the \"Elements\" tab, or \"Inspector\" if you're using Firefox. In the guide linked above, you can see what it's called in various browsers. The first arrow (1) points to the elements inspector tab:"
   ]
  },
  {
   "cell_type": "markdown",
   "metadata": {},
   "source": [
    "<img src=\"../course_material/scraping/inspect_2.png\" style=\"width: 600px;\"/>"
   ]
  },
  {
   "cell_type": "markdown",
   "metadata": {},
   "source": [
    "The second arrow (2) points to various html-elements that exists on the webpage. The one marked in blue is the element that was right clicked on (the visuals varies across different browsers, but the functionality is basically the same). "
   ]
  },
  {
   "cell_type": "markdown",
   "metadata": {},
   "source": [
    "---"
   ]
  },
  {
   "cell_type": "markdown",
   "metadata": {},
   "source": [
    "If you scroll through the list, you can see the entire page's structure. There are small grey arrow heads to the left of most of the elements. This indicates a tree of objects. If you click an arrow, it will unfold the tree, and you can see all elements beneath the one you clicked: "
   ]
  },
  {
   "cell_type": "markdown",
   "metadata": {},
   "source": [
    "<img src=\"../course_material/scraping/inspect_4.png\" style=\"width: 600px;\"/>"
   ]
  },
  {
   "cell_type": "markdown",
   "metadata": {},
   "source": [
    "So, pressing the arrow to the left of the paragraph element `<p>` (1). A tree of html-elements beneath that paragraph then unfolded (2). Unfolding the tree shows us all elements beneath the paragraph (3). These elements beneath are the **child elements**, they are **the children** of the paragraph element `<p>`. Likewise, `<p>` is **the parent element** of the elements directly beneath it."
   ]
  },
  {
   "cell_type": "markdown",
   "metadata": {},
   "source": [
    "In this chapter, you will learn how to use Python to scrape the data that are attached to these html-elements. But first, let's learn how to download files from the internet!"
   ]
  },
  {
   "cell_type": "markdown",
   "metadata": {},
   "source": [
    "### The `requests` module"
   ]
  },
  {
   "cell_type": "markdown",
   "metadata": {},
   "source": [
    "Ok! So let's start with a very simple way to use code and access a web page's content. One of the most basic interactions you can do with a web page is download a file. The module `requests` is perfect for this – it makes it easy to quickly access a web page's content. Let's start with accessing a plaintext file.\n",
    "\n",
    "[On this page](http://www.textfiles.com/etext/FICTION/), we can download hundreds of classical books in plaintext format! Let's have a look at Jules Verne's book [_Around the World in 80 Days_](http://www.textfiles.com/etext/FICTION/80day10.txt). But first, we will import the `requests` module:"
   ]
  },
  {
   "cell_type": "code",
   "execution_count": 1,
   "metadata": {},
   "outputs": [],
   "source": [
    "import requests"
   ]
  },
  {
   "cell_type": "markdown",
   "metadata": {},
   "source": [
    "#### The response object"
   ]
  },
  {
   "cell_type": "markdown",
   "metadata": {},
   "source": [
    "The plaintext file is at this url:"
   ]
  },
  {
   "cell_type": "code",
   "execution_count": 144,
   "metadata": {},
   "outputs": [],
   "source": [
    "url = \"http://www.textfiles.com/etext/FICTION/80day10.txt\""
   ]
  },
  {
   "cell_type": "markdown",
   "metadata": {},
   "source": [
    "To be able to scrape the contents of the url, we need to create a response object. Why is it called \"response\"? Well, each time you access a web page through a browser, the browser calls the web page's server – it sends _a request_ – asking for content. The server then _responds_ to your browser's request, and provides content.\n",
    "\n",
    "When we use the `requests` module, we bypass the intermediary web browser by using the method `.get()`. This method sends a request directly to the server. If the url exists, it returns a response object, which we'll save into a variable. Let's name it `res`:"
   ]
  },
  {
   "cell_type": "code",
   "execution_count": 75,
   "metadata": {},
   "outputs": [],
   "source": [
    "res = requests.get(url)"
   ]
  },
  {
   "cell_type": "markdown",
   "metadata": {},
   "source": [
    "#### Affirming the response object"
   ]
  },
  {
   "cell_type": "markdown",
   "metadata": {},
   "source": [
    "After creating a response object, we can use the `.raise_for_status()` method. This method raises an exception if the url you passed the `.get()` method doesn't work. If there is no issue with the url, `.raise_for_status()` will return `None`:"
   ]
  },
  {
   "cell_type": "code",
   "execution_count": 12,
   "metadata": {},
   "outputs": [],
   "source": [
    "res.raise_for_status()"
   ]
  },
  {
   "cell_type": "markdown",
   "metadata": {},
   "source": [
    "So, no issues with the url. But if we give it a url that doesn't exist?"
   ]
  },
  {
   "cell_type": "code",
   "execution_count": 22,
   "metadata": {},
   "outputs": [],
   "source": [
    "res = requests.get(\"http://www.textfiles.com/etext/FICTION/aölasöd\")"
   ]
  },
  {
   "cell_type": "code",
   "execution_count": 23,
   "metadata": {},
   "outputs": [
    {
     "ename": "HTTPError",
     "evalue": "404 Client Error: Not Found for url: http://www.textfiles.com/etext/FICTION/a%C3%B6las%C3%B6d",
     "output_type": "error",
     "traceback": [
      "\u001b[0;31m---------------------------------------------------------------------------\u001b[0m",
      "\u001b[0;31mHTTPError\u001b[0m                                 Traceback (most recent call last)",
      "\u001b[0;32m<ipython-input-23-cd6be6b74546>\u001b[0m in \u001b[0;36m<module>\u001b[0;34m\u001b[0m\n\u001b[0;32m----> 1\u001b[0;31m \u001b[0mres\u001b[0m\u001b[0;34m.\u001b[0m\u001b[0mraise_for_status\u001b[0m\u001b[0;34m(\u001b[0m\u001b[0;34m)\u001b[0m\u001b[0;34m\u001b[0m\u001b[0;34m\u001b[0m\u001b[0m\n\u001b[0m",
      "\u001b[0;32m~/.local/share/virtualenvs/learning_python-GVvhfwh6/lib/python3.8/site-packages/requests/models.py\u001b[0m in \u001b[0;36mraise_for_status\u001b[0;34m(self)\u001b[0m\n\u001b[1;32m    939\u001b[0m \u001b[0;34m\u001b[0m\u001b[0m\n\u001b[1;32m    940\u001b[0m         \u001b[0;32mif\u001b[0m \u001b[0mhttp_error_msg\u001b[0m\u001b[0;34m:\u001b[0m\u001b[0;34m\u001b[0m\u001b[0;34m\u001b[0m\u001b[0m\n\u001b[0;32m--> 941\u001b[0;31m             \u001b[0;32mraise\u001b[0m \u001b[0mHTTPError\u001b[0m\u001b[0;34m(\u001b[0m\u001b[0mhttp_error_msg\u001b[0m\u001b[0;34m,\u001b[0m \u001b[0mresponse\u001b[0m\u001b[0;34m=\u001b[0m\u001b[0mself\u001b[0m\u001b[0;34m)\u001b[0m\u001b[0;34m\u001b[0m\u001b[0;34m\u001b[0m\u001b[0m\n\u001b[0m\u001b[1;32m    942\u001b[0m \u001b[0;34m\u001b[0m\u001b[0m\n\u001b[1;32m    943\u001b[0m     \u001b[0;32mdef\u001b[0m \u001b[0mclose\u001b[0m\u001b[0;34m(\u001b[0m\u001b[0mself\u001b[0m\u001b[0;34m)\u001b[0m\u001b[0;34m:\u001b[0m\u001b[0;34m\u001b[0m\u001b[0;34m\u001b[0m\u001b[0m\n",
      "\u001b[0;31mHTTPError\u001b[0m: 404 Client Error: Not Found for url: http://www.textfiles.com/etext/FICTION/a%C3%B6las%C3%B6d"
     ]
    }
   ],
   "source": [
    "res.raise_for_status()"
   ]
  },
  {
   "cell_type": "markdown",
   "metadata": {},
   "source": [
    "This is common practice to always type this code so that you're sure that the code connected with the url successfully:"
   ]
  },
  {
   "cell_type": "code",
   "execution_count": 95,
   "metadata": {},
   "outputs": [],
   "source": [
    "res = requests.get(url)\n",
    "res.raise_for_status()"
   ]
  },
  {
   "cell_type": "markdown",
   "metadata": {},
   "source": [
    "#### Accessing content – the binary string"
   ]
  },
  {
   "cell_type": "markdown",
   "metadata": {},
   "source": [
    "The response object has an attribute called `content`. This is the entire web page's content retrieved as a binary string:"
   ]
  },
  {
   "cell_type": "code",
   "execution_count": 96,
   "metadata": {},
   "outputs": [
    {
     "data": {
      "text/plain": [
       "b'Around the World in 80 Days, by Jules Verne\\r\\n\\r\\n\\r\\nAROUND THE WORLD IN EIGHTY DAYS\\r\\n\\r\\nChapter I\\r\\n\\r\\nIN WHICH PHILEAS FOGG AND PASSEPARTOUT ACCEPT EACH OTHER,\\r\\nTHE ONE AS MASTER, THE OTHER AS MAN\\r\\n\\r\\n\\r\\nMr.'"
      ]
     },
     "execution_count": 96,
     "metadata": {},
     "output_type": "execute_result"
    }
   ],
   "source": [
    "res.content[:200]"
   ]
  },
  {
   "cell_type": "markdown",
   "metadata": {},
   "source": [
    "We havn't covered binary strings so far in the course, and I won't cover it now in great detail. Binary strings are text strings of plain binary data. You can always create your own by typing a lower cased \"b\" in front of a string:"
   ]
  },
  {
   "cell_type": "code",
   "execution_count": 97,
   "metadata": {},
   "outputs": [
    {
     "data": {
      "text/plain": [
       "b'This is a string'"
      ]
     },
     "execution_count": 97,
     "metadata": {},
     "output_type": "execute_result"
    }
   ],
   "source": [
    "b\"This is a string\""
   ]
  },
  {
   "cell_type": "code",
   "execution_count": 98,
   "metadata": {},
   "outputs": [
    {
     "data": {
      "text/plain": [
       "False"
      ]
     },
     "execution_count": 98,
     "metadata": {},
     "output_type": "execute_result"
    }
   ],
   "source": [
    "b\"This is a string\" == \"This is a string\""
   ]
  },
  {
   "cell_type": "markdown",
   "metadata": {},
   "source": [
    "We can decode binary strings to ordinary strings using the `.decode()` method:"
   ]
  },
  {
   "cell_type": "code",
   "execution_count": 99,
   "metadata": {},
   "outputs": [],
   "source": [
    "binary_string = b\"This is a string\""
   ]
  },
  {
   "cell_type": "code",
   "execution_count": 100,
   "metadata": {},
   "outputs": [
    {
     "data": {
      "text/plain": [
       "'This is a string'"
      ]
     },
     "execution_count": 100,
     "metadata": {},
     "output_type": "execute_result"
    }
   ],
   "source": [
    "binary_string.decode(\"utf-8\") # here we converting to unicode"
   ]
  },
  {
   "cell_type": "markdown",
   "metadata": {},
   "source": [
    "Encoding of strings is not part of this course. But it is _how to convert text to binary data, or vice versa._ There are hundreds of encodings that helps our computers to transform different languages characters into binary code. The first, and (perhaps) most famous being ASCII, or `\"ascii\"` as an encoding argument in Python. If you're interested in more, [read this!](https://realpython.com/python-encodings-guide/#enter-unicode) In fact, that whole article is great for understanding more about this subject.\n",
    "\n",
    "Here, we'll just go with the unicode encoding argument \"urf-8\"."
   ]
  },
  {
   "cell_type": "markdown",
   "metadata": {},
   "source": [
    "This might all seem a bit confusing. But just know that there are something called binary strings. They are usually used when computers need to convert text data from one computer language to another. Such as when we want content from a server on the web returned to us as a string we can use in Python.\n",
    "\n",
    "Let's save the site's content to a variable and decode it into a normal string:"
   ]
  },
  {
   "cell_type": "code",
   "execution_count": 101,
   "metadata": {},
   "outputs": [],
   "source": [
    "content = res.content"
   ]
  },
  {
   "cell_type": "code",
   "execution_count": 102,
   "metadata": {},
   "outputs": [],
   "source": [
    "content = content.decode(\"utf-8\")"
   ]
  },
  {
   "cell_type": "code",
   "execution_count": 103,
   "metadata": {},
   "outputs": [
    {
     "data": {
      "text/plain": [
       "375033"
      ]
     },
     "execution_count": 103,
     "metadata": {},
     "output_type": "execute_result"
    }
   ],
   "source": [
    "len(content)"
   ]
  },
  {
   "cell_type": "markdown",
   "metadata": {},
   "source": [
    "#### Downloading a plaintext file"
   ]
  },
  {
   "cell_type": "markdown",
   "metadata": {},
   "source": [
    "Let's retrieve the text file again:"
   ]
  },
  {
   "cell_type": "code",
   "execution_count": 145,
   "metadata": {},
   "outputs": [],
   "source": [
    "url = \"http://www.textfiles.com/etext/FICTION/80day10.txt\"\n",
    "res = requests.get(url)\n",
    "res.raise_for_status()\n",
    "content = res.content.decode(\"utf-8\")"
   ]
  },
  {
   "cell_type": "markdown",
   "metadata": {},
   "source": [
    "...and check the content:"
   ]
  },
  {
   "cell_type": "code",
   "execution_count": 146,
   "metadata": {
    "scrolled": true
   },
   "outputs": [
    {
     "name": "stdout",
     "output_type": "stream",
     "text": [
      "Around the World in 80 Days, by Jules Verne\r\n",
      "\r\n",
      "\r\n",
      "AROUND THE WORLD IN EIGHTY DAYS\r\n",
      "\r\n",
      "Chapter I\r\n",
      "\r\n",
      "IN WHICH PHILEAS FOGG AND PASSEPARTOUT ACCEPT EACH OTHER,\r\n",
      "THE ONE AS MASTER, THE OTHER AS MAN\r\n",
      "\r\n",
      "\r\n",
      "Mr. Phileas Fogg lived, in 1872, at No. 7, Saville Row, Burlington\r\n",
      "Gardens, the house in which Sheridan died in 1814.  He was one of\r\n",
      "the most noticeable members of the Reform Club, though he seemed\r\n",
      "always to avoid attracting attention; an enigmatical personage,\r\n",
      "about whom little was known, except that he was a polished man\r\n",
      "of the world.\n"
     ]
    }
   ],
   "source": [
    "print(content[:540])"
   ]
  },
  {
   "cell_type": "markdown",
   "metadata": {},
   "source": [
    "As you can see, the content is simply a plaintext file. No more. It actually sais so in the url we used:"
   ]
  },
  {
   "cell_type": "code",
   "execution_count": 77,
   "metadata": {},
   "outputs": [
    {
     "data": {
      "text/plain": [
       "'http://www.textfiles.com/etext/FICTION/80day10.txt'"
      ]
     },
     "execution_count": 77,
     "metadata": {},
     "output_type": "execute_result"
    }
   ],
   "source": [
    "\"http://www.textfiles.com/etext/FICTION/80day10.txt\" # .txt :)"
   ]
  },
  {
   "cell_type": "markdown",
   "metadata": {},
   "source": [
    "This means that there are no other content than the file's content in our response object. Let's try another page to show you what I mean:"
   ]
  },
  {
   "cell_type": "code",
   "execution_count": 79,
   "metadata": {},
   "outputs": [
    {
     "data": {
      "text/plain": [
       "b'<HTML>\\n<BODY BGCOLOR=\"#000000\" TEXT=\"#FFFFFF\" LINK=\"#FFFFFF\" ALINK=\"#FFFFFF\"\\n      VLINK=\"#FFFFFF\">\\n\\n<CENTER>\\n<IMG SRC=\"images/etext.jpg\"><P>\\n<P>\\n<TABLE WIDTH=90%>\\n<TR>\\n<TD WIDTH=50% VALIGN=TOP>\\n<BLOCKQUOTE>\\n<FONT SIZE=+1><B><A STYLE=\"text-decoration'"
      ]
     },
     "execution_count": 79,
     "metadata": {},
     "output_type": "execute_result"
    }
   ],
   "source": [
    "requests.get(\"http://www.textfiles.com/etext/\").content[:250]"
   ]
  },
  {
   "cell_type": "markdown",
   "metadata": {},
   "source": [
    "Since the requests `.get()` method retrieves all content on a site, it usually returns the web page's html tree, with all its html-elements. But since this is a plaintextfile, we dont't have to bother with that. We can straight away download the contents to a file on our hard drive:"
   ]
  },
  {
   "cell_type": "code",
   "execution_count": 68,
   "metadata": {},
   "outputs": [],
   "source": [
    "file = open(\"around_the_world_in_80_days.txt\", \"w\")\n",
    "file.write(content)\n",
    "file.close()"
   ]
  },
  {
   "cell_type": "markdown",
   "metadata": {},
   "source": [
    "Since the `open()` function has the argument \"wb\" – \"write binary\" – we don't need to convert the binary string to a normal string. We can just write the file straight from the response object:"
   ]
  },
  {
   "cell_type": "code",
   "execution_count": 69,
   "metadata": {},
   "outputs": [],
   "source": [
    "file = open(\"around_the_world_in_80_days.txt\", \"wb\")\n",
    "file.write(res.content)\n",
    "file.close()"
   ]
  },
  {
   "cell_type": "markdown",
   "metadata": {},
   "source": [
    "The result is the same :)"
   ]
  },
  {
   "cell_type": "markdown",
   "metadata": {},
   "source": [
    "##### Exploring the text data"
   ]
  },
  {
   "cell_type": "markdown",
   "metadata": {},
   "source": [
    "Since we decoded the content into a normal Python text string, we can use regular expressions and explore the text! For example, how many times does the name \"Phileas Fogg\" occur in the book? Let's have a look:"
   ]
  },
  {
   "cell_type": "code",
   "execution_count": 147,
   "metadata": {},
   "outputs": [],
   "source": [
    "import re"
   ]
  },
  {
   "cell_type": "code",
   "execution_count": 148,
   "metadata": {},
   "outputs": [],
   "source": [
    "pattern = \"Phileas Fogg\""
   ]
  },
  {
   "cell_type": "code",
   "execution_count": 150,
   "metadata": {},
   "outputs": [
    {
     "data": {
      "text/plain": [
       "219"
      ]
     },
     "execution_count": 150,
     "metadata": {},
     "output_type": "execute_result"
    }
   ],
   "source": [
    "len(re.findall(pattern, content))"
   ]
  },
  {
   "cell_type": "markdown",
   "metadata": {},
   "source": [
    "How about just his surname \"Fogg\"?"
   ]
  },
  {
   "cell_type": "code",
   "execution_count": 153,
   "metadata": {},
   "outputs": [],
   "source": [
    "pattern = \"Fogg\""
   ]
  },
  {
   "cell_type": "code",
   "execution_count": 154,
   "metadata": {},
   "outputs": [
    {
     "data": {
      "text/plain": [
       "608"
      ]
     },
     "execution_count": 154,
     "metadata": {},
     "output_type": "execute_result"
    }
   ],
   "source": [
    "len(re.findall(pattern, content))"
   ]
  },
  {
   "cell_type": "markdown",
   "metadata": {},
   "source": [
    "Oh! So way more. My guess is that, since it is an old book, his name is usually written together with \"Mr\". Let's see:"
   ]
  },
  {
   "cell_type": "code",
   "execution_count": 155,
   "metadata": {},
   "outputs": [],
   "source": [
    "pattern = \"Mr\\.* Fogg\" # searching for a literal dot '.' here"
   ]
  },
  {
   "cell_type": "code",
   "execution_count": 158,
   "metadata": {},
   "outputs": [
    {
     "data": {
      "text/plain": [
       "355"
      ]
     },
     "execution_count": 158,
     "metadata": {},
     "output_type": "execute_result"
    }
   ],
   "source": [
    "len(re.findall(pattern, content))"
   ]
  },
  {
   "cell_type": "markdown",
   "metadata": {},
   "source": [
    "That seems about right. What is the word that usually preceds \"Fogg\"?"
   ]
  },
  {
   "cell_type": "code",
   "execution_count": 164,
   "metadata": {},
   "outputs": [],
   "source": [
    "pattern = \"(\\w+)\\W*\\s*Fogg\""
   ]
  },
  {
   "cell_type": "code",
   "execution_count": 166,
   "metadata": {},
   "outputs": [],
   "source": [
    "preceding_word = re.findall(pattern, content)"
   ]
  },
  {
   "cell_type": "markdown",
   "metadata": {},
   "source": [
    "We can use the `set()` function to get all unique values in a list. Let's check out all words that preceds \"Fogg\":"
   ]
  },
  {
   "cell_type": "code",
   "execution_count": 168,
   "metadata": {},
   "outputs": [
    {
     "data": {
      "text/plain": [
       "{'Captain',\n",
       " 'Kong',\n",
       " 'Monsieur',\n",
       " 'Mr',\n",
       " 'Phileas',\n",
       " 'The',\n",
       " 'and',\n",
       " 'arrest',\n",
       " 'courageous',\n",
       " 'crew',\n",
       " 'face',\n",
       " 'had',\n",
       " 'her',\n",
       " 'if',\n",
       " 'intractable',\n",
       " 'joy',\n",
       " 'letting',\n",
       " 'lose',\n",
       " 'not',\n",
       " 'of',\n",
       " 'pursuing',\n",
       " 'retorted',\n",
       " 'safety',\n",
       " 'said',\n",
       " 'that',\n",
       " 'the',\n",
       " 'to',\n",
       " 'tranquil',\n",
       " 'under'}"
      ]
     },
     "execution_count": 168,
     "metadata": {},
     "output_type": "execute_result"
    }
   ],
   "source": [
    "set(preceding_word)"
   ]
  },
  {
   "cell_type": "markdown",
   "metadata": {},
   "source": [
    "Fun to explore, even though it is pretty useless information :)\n",
    "\n",
    "But hopefully, you now feel a bit introduced on how to scrape text files from the internet and then exploring their content using code!"
   ]
  },
  {
   "cell_type": "code",
   "execution_count": 170,
   "metadata": {},
   "outputs": [],
   "source": [
    "# Uncomment this and run if you want to delete the text file:\n",
    "#from pathlib import Path\n",
    "#Path(\"around_the_world_in_80_days.txt\").unlink()"
   ]
  },
  {
   "cell_type": "markdown",
   "metadata": {},
   "source": [
    "#### Downloading and working with csv files"
   ]
  },
  {
   "cell_type": "markdown",
   "metadata": {},
   "source": [
    "Ok! Downloading litterature is all fine and dandy. But what about downloading data files? Here, I will show you how to use the requests library to obtain two such types of files – the json and the csv.\n",
    "\n",
    "Let's start with **the csv file**. \"csv\" stands for \"comma separated values\". It is essentially files with rows and columns of data, where each row is separated by a newline character `\\n`, and each column by a comma `,`. Here's a url to a csv file with of covid data from Johns Hopkins University:"
   ]
  },
  {
   "cell_type": "code",
   "execution_count": 20,
   "metadata": {},
   "outputs": [],
   "source": [
    "url = \"https://raw.githubusercontent.com/CSSEGISandData/COVID-19/master/csse_covid_19_data/csse_covid_19_daily_reports/10-29-2020.csv\""
   ]
  },
  {
   "cell_type": "markdown",
   "metadata": {},
   "source": [
    "So, let's get it using the requests library!"
   ]
  },
  {
   "cell_type": "code",
   "execution_count": 21,
   "metadata": {},
   "outputs": [],
   "source": [
    "res = requests.get(url)"
   ]
  },
  {
   "cell_type": "code",
   "execution_count": 22,
   "metadata": {},
   "outputs": [
    {
     "data": {
      "text/plain": [
       "b'FIPS,Admin2,Province_State,Country_Region,Last_Update,Lat,Long_,Confirmed,Deaths,Recovered,Active,Combined_Key,Incidence_Rate,Case-Fatality_Ratio\\n,,,Afghanistan,2020-10-30 04:24:49,33.93911,67.709953,41268,1532,34239,5497,Afghanistan,106.01016878679728,3.7123194727149365\\n,,,Albania,2020-10-30 04:24:49,41.1533,20.1683,20315,499,11007,8809,Albania,705.9211897977623,2.4563130691607187\\n,,,Algeria,2020-10-30 04:24:49,28.0339,1.6596,57332,1949,39635,15748,Algeria,130.74261426347374,3.399497662736343\\n,'"
      ]
     },
     "execution_count": 22,
     "metadata": {},
     "output_type": "execute_result"
    }
   ],
   "source": [
    "res.content[:500]"
   ]
  },
  {
   "cell_type": "code",
   "execution_count": 23,
   "metadata": {},
   "outputs": [
    {
     "data": {
      "text/plain": [
       "556837"
      ]
     },
     "execution_count": 23,
     "metadata": {},
     "output_type": "execute_result"
    }
   ],
   "source": [
    "len(res.content)"
   ]
  },
  {
   "cell_type": "markdown",
   "metadata": {},
   "source": [
    "So, we now have all data in i gigantic binary string. Let's save it into a csv-file."
   ]
  },
  {
   "cell_type": "code",
   "execution_count": 103,
   "metadata": {},
   "outputs": [],
   "source": [
    "csv_file = open(\"covid_data.csv\",\"wb\")"
   ]
  },
  {
   "cell_type": "code",
   "execution_count": 104,
   "metadata": {},
   "outputs": [
    {
     "data": {
      "text/plain": [
       "556837"
      ]
     },
     "execution_count": 104,
     "metadata": {},
     "output_type": "execute_result"
    }
   ],
   "source": [
    "csv_file.write(res.content)"
   ]
  },
  {
   "cell_type": "markdown",
   "metadata": {},
   "source": [
    "We can then use the `csv` module to parse the data! Let's import the module:"
   ]
  },
  {
   "cell_type": "code",
   "execution_count": 105,
   "metadata": {},
   "outputs": [],
   "source": [
    "import csv"
   ]
  },
  {
   "cell_type": "markdown",
   "metadata": {},
   "source": [
    "The csv module has the method `.reader()` that takes a csv file object as an argument. The method then parses the data into rows, where each row is a list of string elements found in the data file. The result is returned as a new \"reader\" object. Let me show you what I mean:"
   ]
  },
  {
   "cell_type": "code",
   "execution_count": 114,
   "metadata": {},
   "outputs": [],
   "source": [
    "csv_file = open(\"covid_data.csv\",\"r\")\n",
    "csv_reader = csv.reader(csv_file,delimiter=',')"
   ]
  },
  {
   "cell_type": "code",
   "execution_count": 115,
   "metadata": {},
   "outputs": [
    {
     "data": {
      "text/plain": [
       "<_csv.reader at 0x1304a3120>"
      ]
     },
     "execution_count": 115,
     "metadata": {},
     "output_type": "execute_result"
    }
   ],
   "source": [
    "csv_reader"
   ]
  },
  {
   "cell_type": "markdown",
   "metadata": {},
   "source": [
    "This reader object contains all rows in the csv file. The first row is the header with the column names, the rest is the rows of data. To have all the rows returned, we can use the `list()` function:"
   ]
  },
  {
   "cell_type": "code",
   "execution_count": 116,
   "metadata": {},
   "outputs": [
    {
     "data": {
      "text/plain": [
       "[['FIPS',\n",
       "  'Admin2',\n",
       "  'Province_State',\n",
       "  'Country_Region',\n",
       "  'Last_Update',\n",
       "  'Lat',\n",
       "  'Long_',\n",
       "  'Confirmed',\n",
       "  'Deaths',\n",
       "  'Recovered',\n",
       "  'Active',\n",
       "  'Combined_Key',\n",
       "  'Incidence_Rate',\n",
       "  'Case-Fatality_Ratio'],\n",
       " ['',\n",
       "  '',\n",
       "  '',\n",
       "  'Afghanistan',\n",
       "  '2020-10-30 04:24:49',\n",
       "  '33.93911',\n",
       "  '67.709953',\n",
       "  '41268',\n",
       "  '1532',\n",
       "  '34239',\n",
       "  '5497',\n",
       "  'Afghanistan',\n",
       "  '106.01016878679728',\n",
       "  '3.7123194727149365']]"
      ]
     },
     "execution_count": 116,
     "metadata": {},
     "output_type": "execute_result"
    }
   ],
   "source": [
    "list(csv_reader)[:2]"
   ]
  },
  {
   "cell_type": "markdown",
   "metadata": {},
   "source": [
    "##### (Optional) Exploring and converting csv data"
   ]
  },
  {
   "cell_type": "markdown",
   "metadata": {},
   "source": [
    "Ok, how do we transform this data into a data structure we can explore? Well, we could convert it to a unicode encoded string value, and then use string methods to create a data structure we can use."
   ]
  },
  {
   "cell_type": "code",
   "execution_count": 3,
   "metadata": {},
   "outputs": [],
   "source": [
    "import csv\n",
    "import requests"
   ]
  },
  {
   "cell_type": "code",
   "execution_count": 4,
   "metadata": {},
   "outputs": [],
   "source": [
    "url = \"https://raw.githubusercontent.com/CSSEGISandData/COVID-19/master/csse_covid_19_data/csse_covid_19_daily_reports/10-29-2020.csv\"\n",
    "res = requests.get(url)\n",
    "res.raise_for_status()"
   ]
  },
  {
   "cell_type": "code",
   "execution_count": 5,
   "metadata": {},
   "outputs": [],
   "source": [
    "data = res.content.decode('utf-8') # converting data into python string"
   ]
  },
  {
   "cell_type": "markdown",
   "metadata": {},
   "source": [
    "Now, if we don't have the data saved to a csv file, and want the csv module to read the data straight from our response's content, we need to split the string on all newlines. Otherwise, it will confuse what's what in the data."
   ]
  },
  {
   "cell_type": "code",
   "execution_count": 6,
   "metadata": {},
   "outputs": [],
   "source": [
    "data = data.split(\"\\n\")\n",
    "csv_reader = csv.reader(data, delimiter=',')"
   ]
  },
  {
   "cell_type": "code",
   "execution_count": 7,
   "metadata": {},
   "outputs": [],
   "source": [
    "data = list(csv_reader) # converting the reader object to a list with all rows as items"
   ]
  },
  {
   "cell_type": "markdown",
   "metadata": {},
   "source": [
    "The first item in the list seem to be the header. Let's save it to a variable:"
   ]
  },
  {
   "cell_type": "code",
   "execution_count": 8,
   "metadata": {},
   "outputs": [],
   "source": [
    "header = data[0]"
   ]
  },
  {
   "cell_type": "code",
   "execution_count": 9,
   "metadata": {},
   "outputs": [
    {
     "data": {
      "text/plain": [
       "['FIPS',\n",
       " 'Admin2',\n",
       " 'Province_State',\n",
       " 'Country_Region',\n",
       " 'Last_Update',\n",
       " 'Lat',\n",
       " 'Long_',\n",
       " 'Confirmed',\n",
       " 'Deaths',\n",
       " 'Recovered',\n",
       " 'Active',\n",
       " 'Combined_Key',\n",
       " 'Incidence_Rate',\n",
       " 'Case-Fatality_Ratio']"
      ]
     },
     "execution_count": 9,
     "metadata": {},
     "output_type": "execute_result"
    }
   ],
   "source": [
    "header # This is all column names in the data!"
   ]
  },
  {
   "cell_type": "markdown",
   "metadata": {},
   "source": [
    "Now, loop over all rows and match each row of data with our header to then pair with row values. We'll save these as dictionaries and then append them to a `results` variable:"
   ]
  },
  {
   "cell_type": "code",
   "execution_count": 10,
   "metadata": {},
   "outputs": [],
   "source": [
    "results = [] # place holder to fill with row data\n",
    "\n",
    "# skipping first item in the list, since that's the \"header\":\n",
    "for row in data[1:]:\n",
    "    row_dict = dict(zip(header, row)) # Connect each row's data with the header as keys\n",
    "    results.append(row_dict)"
   ]
  },
  {
   "cell_type": "code",
   "execution_count": 11,
   "metadata": {},
   "outputs": [
    {
     "data": {
      "text/plain": [
       "{'FIPS': '',\n",
       " 'Admin2': '',\n",
       " 'Province_State': '',\n",
       " 'Country_Region': 'Afghanistan',\n",
       " 'Last_Update': '2020-10-30 04:24:49',\n",
       " 'Lat': '33.93911',\n",
       " 'Long_': '67.709953',\n",
       " 'Confirmed': '41268',\n",
       " 'Deaths': '1532',\n",
       " 'Recovered': '34239',\n",
       " 'Active': '5497',\n",
       " 'Combined_Key': 'Afghanistan',\n",
       " 'Incidence_Rate': '106.01016878679728',\n",
       " 'Case-Fatality_Ratio': '3.7123194727149365'}"
      ]
     },
     "execution_count": 11,
     "metadata": {},
     "output_type": "execute_result"
    }
   ],
   "source": [
    "results[0]"
   ]
  },
  {
   "cell_type": "markdown",
   "metadata": {},
   "source": [
    "To save the data into csv file, we can use the `.writer()` method. This returns a csv writer object, and to write all the data to it, we need to do so row by row. \n",
    "\n",
    "The writer object has some really handy parameters when writing csv files. For example, we can bypass the potential problem of creating a csv data file where data points include commas. So if one data point in the cell is a name, and that name is written `Ekman, Johan` – this could create future problems. If we include the parameter `quotechar='\"'` in our writer method, the method will automatically enclose data points that contain the csv delimiter character within quote marks. So `Ekman, Johan` would be saved as `\"Ekman, Johan\"` in the csv file. The parameter `quoting=csv.QUOTE_MINIMAL`, sets it so that these quotes is only added if a delimiter character is found in data points.\n",
    "\n",
    "\n",
    "But first, before writing all data, we need to create a new file. Let's do so with the context manager pattern, using the `with` statement:"
   ]
  },
  {
   "cell_type": "code",
   "execution_count": 13,
   "metadata": {},
   "outputs": [],
   "source": [
    "with open(\"covid_data.csv\", \"w\") as csv_file:\n",
    "    \n",
    "    # when many paramters, I usually put them on their own rows, looks nicer :)\n",
    "    covid_writer = csv.writer(csv_file,\n",
    "                              delimiter=',',\n",
    "                              quotechar='\"',\n",
    "                              quoting=csv.QUOTE_MINIMAL)\n",
    "    for row in results:\n",
    "        covid_writer.writerow(row)"
   ]
  },
  {
   "cell_type": "markdown",
   "metadata": {},
   "source": [
    "Done! You can check the file if you want!"
   ]
  },
  {
   "cell_type": "markdown",
   "metadata": {},
   "source": [
    "So to recap what we just did:\n",
    "\n",
    "1. converted the response object's content into a string\n",
    "2. splited the string on all newline `\\n` characters to get a list of all rows of data\n",
    "3. in a loop, we splited each row on all commas in the to get each row's columns\n",
    "4. created a zip object by passing the header data and the sequence's data to the `zip()` function, then passed the zip object to the `dict()` function, creating a dictonary. \n",
    "5. Saved the data in a csv file, using the `.writer()` method\n"
   ]
  },
  {
   "cell_type": "markdown",
   "metadata": {},
   "source": [
    "I havn't introduced you to the `pandas` module yet, but I will now show you how to use pandas to save the data as a excel file. First import pandas:"
   ]
  },
  {
   "cell_type": "code",
   "execution_count": 141,
   "metadata": {},
   "outputs": [],
   "source": [
    "import pandas as pd"
   ]
  },
  {
   "cell_type": "markdown",
   "metadata": {},
   "source": [
    "_(It is common practice to import pandas as a synonym `pd`, the reason being that there are so many methods used from the module while working with it, that it is more readable to use the short `pd`)_\n",
    "\n",
    "`pandas` transforms data into `series` objects. They are basically lists. If we have more than one series organised together, this is called a pandas dataframe. To create a dataframe object, we use the `DataFrame` class:"
   ]
  },
  {
   "cell_type": "code",
   "execution_count": 143,
   "metadata": {},
   "outputs": [
    {
     "data": {
      "text/plain": [
       "pandas.core.frame.DataFrame"
      ]
     },
     "execution_count": 143,
     "metadata": {},
     "output_type": "execute_result"
    }
   ],
   "source": [
    "type(pd.DataFrame())"
   ]
  },
  {
   "cell_type": "markdown",
   "metadata": {},
   "source": [
    "Passing our data structure to the dataframe class will create a new dataframe object. Let's do so and then save it to a variable called `df`:"
   ]
  },
  {
   "cell_type": "code",
   "execution_count": 145,
   "metadata": {},
   "outputs": [],
   "source": [
    "df = pd.DataFrame(results)"
   ]
  },
  {
   "cell_type": "markdown",
   "metadata": {},
   "source": [
    "Datframes have the `.head()` method that shows us the first 5 rows in the dataframe:"
   ]
  },
  {
   "cell_type": "code",
   "execution_count": 148,
   "metadata": {},
   "outputs": [
    {
     "data": {
      "text/html": [
       "<div>\n",
       "<style scoped>\n",
       "    .dataframe tbody tr th:only-of-type {\n",
       "        vertical-align: middle;\n",
       "    }\n",
       "\n",
       "    .dataframe tbody tr th {\n",
       "        vertical-align: top;\n",
       "    }\n",
       "\n",
       "    .dataframe thead th {\n",
       "        text-align: right;\n",
       "    }\n",
       "</style>\n",
       "<table border=\"1\" class=\"dataframe\">\n",
       "  <thead>\n",
       "    <tr style=\"text-align: right;\">\n",
       "      <th></th>\n",
       "      <th>FIPS</th>\n",
       "      <th>Admin2</th>\n",
       "      <th>Province_State</th>\n",
       "      <th>Country_Region</th>\n",
       "      <th>Last_Update</th>\n",
       "      <th>Lat</th>\n",
       "      <th>Long_</th>\n",
       "      <th>Confirmed</th>\n",
       "      <th>Deaths</th>\n",
       "      <th>Recovered</th>\n",
       "      <th>Active</th>\n",
       "      <th>Combined_Key</th>\n",
       "      <th>Incidence_Rate</th>\n",
       "      <th>Case-Fatality_Ratio</th>\n",
       "    </tr>\n",
       "  </thead>\n",
       "  <tbody>\n",
       "    <tr>\n",
       "      <th>0</th>\n",
       "      <td></td>\n",
       "      <td></td>\n",
       "      <td></td>\n",
       "      <td>Afghanistan</td>\n",
       "      <td>2020-10-30 04:24:49</td>\n",
       "      <td>33.93911</td>\n",
       "      <td>67.709953</td>\n",
       "      <td>41268</td>\n",
       "      <td>1532</td>\n",
       "      <td>34239</td>\n",
       "      <td>5497</td>\n",
       "      <td>Afghanistan</td>\n",
       "      <td>106.01016878679728</td>\n",
       "      <td>3.7123194727149365</td>\n",
       "    </tr>\n",
       "    <tr>\n",
       "      <th>1</th>\n",
       "      <td></td>\n",
       "      <td></td>\n",
       "      <td></td>\n",
       "      <td>Albania</td>\n",
       "      <td>2020-10-30 04:24:49</td>\n",
       "      <td>41.1533</td>\n",
       "      <td>20.1683</td>\n",
       "      <td>20315</td>\n",
       "      <td>499</td>\n",
       "      <td>11007</td>\n",
       "      <td>8809</td>\n",
       "      <td>Albania</td>\n",
       "      <td>705.9211897977623</td>\n",
       "      <td>2.4563130691607187</td>\n",
       "    </tr>\n",
       "    <tr>\n",
       "      <th>2</th>\n",
       "      <td></td>\n",
       "      <td></td>\n",
       "      <td></td>\n",
       "      <td>Algeria</td>\n",
       "      <td>2020-10-30 04:24:49</td>\n",
       "      <td>28.0339</td>\n",
       "      <td>1.6596</td>\n",
       "      <td>57332</td>\n",
       "      <td>1949</td>\n",
       "      <td>39635</td>\n",
       "      <td>15748</td>\n",
       "      <td>Algeria</td>\n",
       "      <td>130.74261426347374</td>\n",
       "      <td>3.399497662736343</td>\n",
       "    </tr>\n",
       "    <tr>\n",
       "      <th>3</th>\n",
       "      <td></td>\n",
       "      <td></td>\n",
       "      <td></td>\n",
       "      <td>Andorra</td>\n",
       "      <td>2020-10-30 04:24:49</td>\n",
       "      <td>42.5063</td>\n",
       "      <td>1.5218</td>\n",
       "      <td>4567</td>\n",
       "      <td>73</td>\n",
       "      <td>3260</td>\n",
       "      <td>1234</td>\n",
       "      <td>Andorra</td>\n",
       "      <td>5910.8263767553235</td>\n",
       "      <td>1.5984234727392161</td>\n",
       "    </tr>\n",
       "    <tr>\n",
       "      <th>4</th>\n",
       "      <td></td>\n",
       "      <td></td>\n",
       "      <td></td>\n",
       "      <td>Angola</td>\n",
       "      <td>2020-10-30 04:24:49</td>\n",
       "      <td>-11.2027</td>\n",
       "      <td>17.8739</td>\n",
       "      <td>10269</td>\n",
       "      <td>275</td>\n",
       "      <td>3736</td>\n",
       "      <td>6258</td>\n",
       "      <td>Angola</td>\n",
       "      <td>31.244800900424714</td>\n",
       "      <td>2.677962800662187</td>\n",
       "    </tr>\n",
       "  </tbody>\n",
       "</table>\n",
       "</div>"
      ],
      "text/plain": [
       "  FIPS Admin2 Province_State Country_Region          Last_Update       Lat  \\\n",
       "0                               Afghanistan  2020-10-30 04:24:49  33.93911   \n",
       "1                                   Albania  2020-10-30 04:24:49   41.1533   \n",
       "2                                   Algeria  2020-10-30 04:24:49   28.0339   \n",
       "3                                   Andorra  2020-10-30 04:24:49   42.5063   \n",
       "4                                    Angola  2020-10-30 04:24:49  -11.2027   \n",
       "\n",
       "       Long_ Confirmed Deaths Recovered Active Combined_Key  \\\n",
       "0  67.709953     41268   1532     34239   5497  Afghanistan   \n",
       "1    20.1683     20315    499     11007   8809      Albania   \n",
       "2     1.6596     57332   1949     39635  15748      Algeria   \n",
       "3     1.5218      4567     73      3260   1234      Andorra   \n",
       "4    17.8739     10269    275      3736   6258       Angola   \n",
       "\n",
       "       Incidence_Rate Case-Fatality_Ratio  \n",
       "0  106.01016878679728  3.7123194727149365  \n",
       "1   705.9211897977623  2.4563130691607187  \n",
       "2  130.74261426347374   3.399497662736343  \n",
       "3  5910.8263767553235  1.5984234727392161  \n",
       "4  31.244800900424714   2.677962800662187  "
      ]
     },
     "execution_count": 148,
     "metadata": {},
     "output_type": "execute_result"
    }
   ],
   "source": [
    "df.head()"
   ]
  },
  {
   "cell_type": "markdown",
   "metadata": {},
   "source": [
    "I won't go through the pandas library in detail here, I just wanted to show you how it can be used to save data to excel files. Dataframe objects have the `.to_excel()` method. If we call this on our dataframe, it will save the data into an excelfile at the provided path:"
   ]
  },
  {
   "cell_type": "code",
   "execution_count": 150,
   "metadata": {},
   "outputs": [],
   "source": [
    "df.to_excel(\"covid_data.xlsx\")"
   ]
  },
  {
   "cell_type": "markdown",
   "metadata": {},
   "source": [
    "Pandas is a very powerful library. Using `pandas`, we don't need the `csv` module at all. We can actually just pass the url straight into the `.read_csv()` method:"
   ]
  },
  {
   "cell_type": "code",
   "execution_count": 158,
   "metadata": {},
   "outputs": [],
   "source": [
    "url = \"https://raw.githubusercontent.com/CSSEGISandData/COVID-19/master/csse_covid_19_data/csse_covid_19_daily_reports/10-29-2020.csv\""
   ]
  },
  {
   "cell_type": "code",
   "execution_count": 160,
   "metadata": {},
   "outputs": [
    {
     "data": {
      "text/html": [
       "<div>\n",
       "<style scoped>\n",
       "    .dataframe tbody tr th:only-of-type {\n",
       "        vertical-align: middle;\n",
       "    }\n",
       "\n",
       "    .dataframe tbody tr th {\n",
       "        vertical-align: top;\n",
       "    }\n",
       "\n",
       "    .dataframe thead th {\n",
       "        text-align: right;\n",
       "    }\n",
       "</style>\n",
       "<table border=\"1\" class=\"dataframe\">\n",
       "  <thead>\n",
       "    <tr style=\"text-align: right;\">\n",
       "      <th></th>\n",
       "      <th>FIPS</th>\n",
       "      <th>Admin2</th>\n",
       "      <th>Province_State</th>\n",
       "      <th>Country_Region</th>\n",
       "      <th>Last_Update</th>\n",
       "      <th>Lat</th>\n",
       "      <th>Long_</th>\n",
       "      <th>Confirmed</th>\n",
       "      <th>Deaths</th>\n",
       "      <th>Recovered</th>\n",
       "      <th>Active</th>\n",
       "      <th>Combined_Key</th>\n",
       "      <th>Incidence_Rate</th>\n",
       "      <th>Case-Fatality_Ratio</th>\n",
       "    </tr>\n",
       "  </thead>\n",
       "  <tbody>\n",
       "    <tr>\n",
       "      <th>0</th>\n",
       "      <td>NaN</td>\n",
       "      <td>NaN</td>\n",
       "      <td>NaN</td>\n",
       "      <td>Afghanistan</td>\n",
       "      <td>2020-10-30 04:24:49</td>\n",
       "      <td>33.93911</td>\n",
       "      <td>67.709953</td>\n",
       "      <td>41268</td>\n",
       "      <td>1532</td>\n",
       "      <td>34239</td>\n",
       "      <td>5497.0</td>\n",
       "      <td>Afghanistan</td>\n",
       "      <td>106.010169</td>\n",
       "      <td>3.712319</td>\n",
       "    </tr>\n",
       "    <tr>\n",
       "      <th>1</th>\n",
       "      <td>NaN</td>\n",
       "      <td>NaN</td>\n",
       "      <td>NaN</td>\n",
       "      <td>Albania</td>\n",
       "      <td>2020-10-30 04:24:49</td>\n",
       "      <td>41.15330</td>\n",
       "      <td>20.168300</td>\n",
       "      <td>20315</td>\n",
       "      <td>499</td>\n",
       "      <td>11007</td>\n",
       "      <td>8809.0</td>\n",
       "      <td>Albania</td>\n",
       "      <td>705.921190</td>\n",
       "      <td>2.456313</td>\n",
       "    </tr>\n",
       "    <tr>\n",
       "      <th>2</th>\n",
       "      <td>NaN</td>\n",
       "      <td>NaN</td>\n",
       "      <td>NaN</td>\n",
       "      <td>Algeria</td>\n",
       "      <td>2020-10-30 04:24:49</td>\n",
       "      <td>28.03390</td>\n",
       "      <td>1.659600</td>\n",
       "      <td>57332</td>\n",
       "      <td>1949</td>\n",
       "      <td>39635</td>\n",
       "      <td>15748.0</td>\n",
       "      <td>Algeria</td>\n",
       "      <td>130.742614</td>\n",
       "      <td>3.399498</td>\n",
       "    </tr>\n",
       "    <tr>\n",
       "      <th>3</th>\n",
       "      <td>NaN</td>\n",
       "      <td>NaN</td>\n",
       "      <td>NaN</td>\n",
       "      <td>Andorra</td>\n",
       "      <td>2020-10-30 04:24:49</td>\n",
       "      <td>42.50630</td>\n",
       "      <td>1.521800</td>\n",
       "      <td>4567</td>\n",
       "      <td>73</td>\n",
       "      <td>3260</td>\n",
       "      <td>1234.0</td>\n",
       "      <td>Andorra</td>\n",
       "      <td>5910.826377</td>\n",
       "      <td>1.598423</td>\n",
       "    </tr>\n",
       "    <tr>\n",
       "      <th>4</th>\n",
       "      <td>NaN</td>\n",
       "      <td>NaN</td>\n",
       "      <td>NaN</td>\n",
       "      <td>Angola</td>\n",
       "      <td>2020-10-30 04:24:49</td>\n",
       "      <td>-11.20270</td>\n",
       "      <td>17.873900</td>\n",
       "      <td>10269</td>\n",
       "      <td>275</td>\n",
       "      <td>3736</td>\n",
       "      <td>6258.0</td>\n",
       "      <td>Angola</td>\n",
       "      <td>31.244801</td>\n",
       "      <td>2.677963</td>\n",
       "    </tr>\n",
       "  </tbody>\n",
       "</table>\n",
       "</div>"
      ],
      "text/plain": [
       "   FIPS Admin2 Province_State Country_Region          Last_Update       Lat  \\\n",
       "0   NaN    NaN            NaN    Afghanistan  2020-10-30 04:24:49  33.93911   \n",
       "1   NaN    NaN            NaN        Albania  2020-10-30 04:24:49  41.15330   \n",
       "2   NaN    NaN            NaN        Algeria  2020-10-30 04:24:49  28.03390   \n",
       "3   NaN    NaN            NaN        Andorra  2020-10-30 04:24:49  42.50630   \n",
       "4   NaN    NaN            NaN         Angola  2020-10-30 04:24:49 -11.20270   \n",
       "\n",
       "       Long_  Confirmed  Deaths  Recovered   Active Combined_Key  \\\n",
       "0  67.709953      41268    1532      34239   5497.0  Afghanistan   \n",
       "1  20.168300      20315     499      11007   8809.0      Albania   \n",
       "2   1.659600      57332    1949      39635  15748.0      Algeria   \n",
       "3   1.521800       4567      73       3260   1234.0      Andorra   \n",
       "4  17.873900      10269     275       3736   6258.0       Angola   \n",
       "\n",
       "   Incidence_Rate  Case-Fatality_Ratio  \n",
       "0      106.010169             3.712319  \n",
       "1      705.921190             2.456313  \n",
       "2      130.742614             3.399498  \n",
       "3     5910.826377             1.598423  \n",
       "4       31.244801             2.677963  "
      ]
     },
     "execution_count": 160,
     "metadata": {},
     "output_type": "execute_result"
    }
   ],
   "source": [
    "df = pd.read_csv(url)\n",
    "df.head()"
   ]
  },
  {
   "cell_type": "markdown",
   "metadata": {},
   "source": [
    "Then, save it as a csv file on our hard drive:"
   ]
  },
  {
   "cell_type": "code",
   "execution_count": 161,
   "metadata": {},
   "outputs": [],
   "source": [
    "df.to_csv('covid_data.csv')"
   ]
  },
  {
   "cell_type": "markdown",
   "metadata": {},
   "source": [
    "#### Downloading and working with json files"
   ]
  },
  {
   "cell_type": "markdown",
   "metadata": {},
   "source": [
    "Another data file that you will encounter many times on the internet is the JSON file. It stands for JavaScript Object Notation, since it is how data is stored in the JavaScript language. Json files are in their essence (just like csv files) just plaintext files, but ordered in a specific way. JavaScript and Python's data structures are pretty similar, and that's why when you see a json file, it looks like a dictionary – or a list of dictionaries. \n",
    "\n",
    "Here's an example of a json file to show you how much they look like Python's data structures. Here's Sweden's population 2016-2019 in a json string:"
   ]
  },
  {
   "cell_type": "code",
   "execution_count": 172,
   "metadata": {},
   "outputs": [],
   "source": [
    "population = \"\"\"\n",
    "[{\"country\": \"Sweden\",\"year\": 2016,\"value\": 9995153.0},\n",
    "{\"country\": \"Sweden\",\"year\": 2017,\"value\": 10120242.0},\n",
    "{\"country\": \"Sweden\",\"year\": 2018,\"value\": 10230185.0},\n",
    "{\"country\": \"Sweden\",\"year\": 2019,\"value\": 10327589.0}]\n",
    "\"\"\""
   ]
  },
  {
   "cell_type": "code",
   "execution_count": 173,
   "metadata": {},
   "outputs": [
    {
     "name": "stdout",
     "output_type": "stream",
     "text": [
      "\n",
      "[{\"country\": \"Sweden\",\"year\": 2016,\"value\": 9995153.0},\n",
      "{\"country\": \"Sweden\",\"year\": 2017,\"value\": 10120242.0},\n",
      "{\"country\": \"Sweden\",\"year\": 2018,\"value\": 10230185.0},\n",
      "{\"country\": \"Sweden\",\"year\": 2019,\"value\": 10327589.0}]\n",
      "\n"
     ]
    }
   ],
   "source": [
    "print(population)"
   ]
  },
  {
   "cell_type": "markdown",
   "metadata": {},
   "source": [
    "Json files data structures are identical to Python's, only that they are string values. So we need to convert them from json data into Python data structures. This is easiest with the `json` module – a module within the standard library."
   ]
  },
  {
   "cell_type": "code",
   "execution_count": 174,
   "metadata": {},
   "outputs": [],
   "source": [
    "import json"
   ]
  },
  {
   "cell_type": "markdown",
   "metadata": {},
   "source": [
    "The method `.loads()` lets us convert a json string into a Python data object. Just pass the string to the method as an argument:"
   ]
  },
  {
   "cell_type": "code",
   "execution_count": 178,
   "metadata": {},
   "outputs": [
    {
     "data": {
      "text/plain": [
       "[{'country': 'Sweden', 'year': 2016, 'value': 9995153.0},\n",
       " {'country': 'Sweden', 'year': 2017, 'value': 10120242.0},\n",
       " {'country': 'Sweden', 'year': 2018, 'value': 10230185.0},\n",
       " {'country': 'Sweden', 'year': 2019, 'value': 10327589.0}]"
      ]
     },
     "execution_count": 178,
     "metadata": {},
     "output_type": "execute_result"
    }
   ],
   "source": [
    "json.loads(population)"
   ]
  },
  {
   "cell_type": "markdown",
   "metadata": {},
   "source": [
    "Let's get a json file from the internet! [Here is a json file](https://opendata.ecdc.europa.eu/covid19/casedistribution/json/) with covid data, [provided by the ECDC](https://www.ecdc.europa.eu/en/publications-data/download-todays-data-geographic-distribution-covid-19-cases-worldwide) (European Centre for Desease Prevention and Control):"
   ]
  },
  {
   "cell_type": "code",
   "execution_count": 179,
   "metadata": {},
   "outputs": [],
   "source": [
    "url = \"https://opendata.ecdc.europa.eu/covid19/casedistribution/json/\""
   ]
  },
  {
   "cell_type": "code",
   "execution_count": 181,
   "metadata": {},
   "outputs": [],
   "source": [
    "res = requests.get(url)\n",
    "res.raise_for_status()"
   ]
  },
  {
   "cell_type": "markdown",
   "metadata": {},
   "source": [
    "The response object's content is a gigantic binary string."
   ]
  },
  {
   "cell_type": "code",
   "execution_count": 187,
   "metadata": {},
   "outputs": [
    {
     "data": {
      "text/plain": [
       "b'{\\r\\n   \"records\" : [\\r\\n      {\\r\\n         \"dateRep\" : \"02/11/2020\",\\r\\n         \"day\" : \"02\",\\r\\n         \"month\" : \"11\",\\r\\n         \"year\" : \"2020\",\\r\\n         \"cases\" : 132,\\r\\n         \"deaths\" : 5,\\r\\n         \"countriesAndTerritories\" : \"Afghanistan\",\\r\\n         \"geoId\" : \"AF\",\\r\\n         \"countryterritoryCode\" : \"AFG\",\\r\\n         \"popData2019\" : 38041757,\\r\\n         \"continentExp\" : \"Asia\",\\r\\n         \"Cumulative_number_for_14_days_of_COVID-19_cases_per_100000\" : \"3.76691329\"\\r\\n      },\\r\\n      {\\r\\n         \"d'"
      ]
     },
     "execution_count": 187,
     "metadata": {},
     "output_type": "execute_result"
    }
   ],
   "source": [
    "res.content[:500]"
   ]
  },
  {
   "cell_type": "markdown",
   "metadata": {},
   "source": [
    "We can convert the data to a Python data structure using the `json.dumps()` method. But first, we need to convert the content to a regular Python string value:"
   ]
  },
  {
   "cell_type": "code",
   "execution_count": 195,
   "metadata": {},
   "outputs": [],
   "source": [
    "data = res.content.decode(\"utf-8\")"
   ]
  },
  {
   "cell_type": "code",
   "execution_count": 196,
   "metadata": {},
   "outputs": [],
   "source": [
    "data = json.loads(data)"
   ]
  },
  {
   "cell_type": "markdown",
   "metadata": {},
   "source": [
    "The json was successfully converted into a Python dictionary:"
   ]
  },
  {
   "cell_type": "code",
   "execution_count": 203,
   "metadata": {},
   "outputs": [
    {
     "data": {
      "text/plain": [
       "dict"
      ]
     },
     "execution_count": 203,
     "metadata": {},
     "output_type": "execute_result"
    }
   ],
   "source": [
    "type(data)"
   ]
  },
  {
   "cell_type": "markdown",
   "metadata": {},
   "source": [
    "All data is stored as the value of the key \"records\":"
   ]
  },
  {
   "cell_type": "code",
   "execution_count": 204,
   "metadata": {},
   "outputs": [
    {
     "data": {
      "text/plain": [
       "dict_keys(['records'])"
      ]
     },
     "execution_count": 204,
     "metadata": {},
     "output_type": "execute_result"
    }
   ],
   "source": [
    "data.keys()"
   ]
  },
  {
   "cell_type": "code",
   "execution_count": 206,
   "metadata": {},
   "outputs": [
    {
     "data": {
      "text/plain": [
       "[{'dateRep': '02/11/2020',\n",
       "  'day': '02',\n",
       "  'month': '11',\n",
       "  'year': '2020',\n",
       "  'cases': 132,\n",
       "  'deaths': 5,\n",
       "  'countriesAndTerritories': 'Afghanistan',\n",
       "  'geoId': 'AF',\n",
       "  'countryterritoryCode': 'AFG',\n",
       "  'popData2019': 38041757,\n",
       "  'continentExp': 'Asia',\n",
       "  'Cumulative_number_for_14_days_of_COVID-19_cases_per_100000': '3.76691329'},\n",
       " {'dateRep': '01/11/2020',\n",
       "  'day': '01',\n",
       "  'month': '11',\n",
       "  'year': '2020',\n",
       "  'cases': 76,\n",
       "  'deaths': 0,\n",
       "  'countriesAndTerritories': 'Afghanistan',\n",
       "  'geoId': 'AF',\n",
       "  'countryterritoryCode': 'AFG',\n",
       "  'popData2019': 38041757,\n",
       "  'continentExp': 'Asia',\n",
       "  'Cumulative_number_for_14_days_of_COVID-19_cases_per_100000': '3.57501889'}]"
      ]
     },
     "execution_count": 206,
     "metadata": {},
     "output_type": "execute_result"
    }
   ],
   "source": [
    "data[\"records\"][:2]"
   ]
  },
  {
   "cell_type": "markdown",
   "metadata": {},
   "source": [
    "### Scraping html elements using `BeautifulSoup`"
   ]
  },
  {
   "cell_type": "markdown",
   "metadata": {},
   "source": [
    "Ok, so now you've practised downloading files using the `requests` library. As mentioned in previous section, requests is a brilliant way to quickly get access to a web page's content. However, it is not very practical if the content isn't a ordered data file. \n",
    "\n",
    "To show you what I mean, let's have a look at [a web page](https://www.socialstyrelsen.se/om-socialstyrelsen/pressrum/) with the Socialstyrelsen's (Sweden's National Board of Health and Welfare) press contacts. It is the agency responsible for questions of health and medical prodcedures. Here's the web page:"
   ]
  },
  {
   "cell_type": "code",
   "execution_count": 226,
   "metadata": {},
   "outputs": [],
   "source": [
    "url = \"https://www.socialstyrelsen.se/om-socialstyrelsen/pressrum/\""
   ]
  },
  {
   "cell_type": "markdown",
   "metadata": {},
   "source": [
    "Let's import the requests library and get a response object of the web page:"
   ]
  },
  {
   "cell_type": "code",
   "execution_count": 227,
   "metadata": {},
   "outputs": [],
   "source": [
    "import requests"
   ]
  },
  {
   "cell_type": "code",
   "execution_count": 228,
   "metadata": {},
   "outputs": [],
   "source": [
    "res = requests.get(url)"
   ]
  },
  {
   "cell_type": "markdown",
   "metadata": {},
   "source": [
    "Now, have a look at the web page's content:"
   ]
  },
  {
   "cell_type": "code",
   "execution_count": 229,
   "metadata": {},
   "outputs": [
    {
     "data": {
      "text/plain": [
       "b'\\r\\n\\r\\n\\r\\n<!DOCTYPE html>\\r\\n<html lang=\"sv\">\\r\\n<head>\\r\\n\\r\\n        <!-- Google Tag Manager -->\\r\\n        <script>\\r\\n            var dataLayer = dataLayer || [];\\r\\n            (function (w, d, s, l, i) {\\r\\n                w[l] = w[l] || [];\\r\\n                w[l].push({\\r\\n                    \\'gtm.start\\':\\r\\n                        new Date().getTime(),\\r\\n                    event: \\'gtm.js\\'\\r\\n                });\\r\\n                var f = d.getElementsByTagName(s)[0],\\r\\n\\r\\n                    j = d.createElement(s),\\r\\n '"
      ]
     },
     "execution_count": 229,
     "metadata": {},
     "output_type": "execute_result"
    }
   ],
   "source": [
    "res.content[:500]"
   ]
  },
  {
   "cell_type": "markdown",
   "metadata": {},
   "source": [
    "It is a messy soup of html code mashed into a binary string. This is not particularly ordered data to scrape web content from.\n",
    "\n",
    "Let's say we want all phone numbers scraped from this web page. We _could_ just use the requests response object. Converting it to a regular string, import the `re` module, create a regular expression, and apply this regex on the entire web page's content. Like this:"
   ]
  },
  {
   "cell_type": "code",
   "execution_count": 230,
   "metadata": {},
   "outputs": [],
   "source": [
    "web_page = res.content.decode('utf-8')"
   ]
  },
  {
   "cell_type": "code",
   "execution_count": 231,
   "metadata": {},
   "outputs": [],
   "source": [
    "import re"
   ]
  },
  {
   "cell_type": "code",
   "execution_count": 238,
   "metadata": {},
   "outputs": [],
   "source": [
    "num_pattern = \"(075-[\\d|\\s]+)\" # do you understand the regex? "
   ]
  },
  {
   "cell_type": "code",
   "execution_count": 239,
   "metadata": {},
   "outputs": [
    {
     "data": {
      "text/plain": [
       "['075-247 30 05', '075-247 30 05', '075-247 30 00', '075-247 30 00']"
      ]
     },
     "execution_count": 239,
     "metadata": {},
     "output_type": "execute_result"
    }
   ],
   "source": [
    "re.findall(num_pattern,web_page)"
   ]
  },
  {
   "cell_type": "markdown",
   "metadata": {},
   "source": [
    "That doesn't mean we _should_ scrape data this way. One, perhaps obvious reason is that this fetches _all_ patterns that match our regex on the web page. If you look at bottom of the web page, you'll see that Socialstyrelsen has its phone number to the reception to the right. Our regex matched on the as well. \n",
    "\n",
    "My point is that this isn't a precise way to scrape information from a web page. If only there was a way to get all that messy soup of html code into a python object that we could work with..."
   ]
  },
  {
   "cell_type": "markdown",
   "metadata": {},
   "source": [
    "There is! It's called beautifulsoup! Or, rather, it's a module called `bs4` – bs standing four \"Beautiful soup\", 4 for version 4. The module is not part of the standard library, but it _is_ included in the Anaconda package. So, if you've installed Anaconda as recommended, you should just be able to import it:"
   ]
  },
  {
   "cell_type": "code",
   "execution_count": 247,
   "metadata": {},
   "outputs": [],
   "source": [
    "from bs4 import BeautifulSoup"
   ]
  },
  {
   "cell_type": "markdown",
   "metadata": {},
   "source": [
    "_(If you're not using the Ananconda package, download and install the `bs4` module such that you can use it in this notebook)_\n",
    "\n",
    "The response object that was returned using requests has the entire web page's html code. The `BeautifulSoup` class within the `bs4` module can help us parse the html-string into a special Python \"soup\" object:"
   ]
  },
  {
   "cell_type": "code",
   "execution_count": 249,
   "metadata": {},
   "outputs": [],
   "source": [
    "soup = BeautifulSoup(res.content)"
   ]
  },
  {
   "cell_type": "markdown",
   "metadata": {},
   "source": [
    "This `soup` variable now has methods that can help us sort through all the messy html code of websites! We can, as an example, search for elements with a specific class.\n",
    "\n",
    "But to be able to do so, we must know what to look for. This is when we **inspect using the developer tools** we learned about in section 4.1.2. In our example, we want to find the press contact info. Looking at the site, we see that this information is in a box with the headline \"Kontakt\". Let's right click the box and see which element this is:"
   ]
  },
  {
   "cell_type": "markdown",
   "metadata": {},
   "source": [
    "<img src=\"../course_material/scraping/html_1.png\" style=\"width: 600px;\"/>"
   ]
  },
  {
   "cell_type": "markdown",
   "metadata": {},
   "source": [
    "When you right clicked, you may have clicked on one of the children of the one I have selected in the pic above. But as you can see, the box with contact info is a `<div>` element with the class attribute \"contact\". We can search for this class in our soup object, using the `.find()` method. It searches for element types, but have the parameter `class_` where we can specify the element type's class attribute:"
   ]
  },
  {
   "cell_type": "code",
   "execution_count": 261,
   "metadata": {
    "scrolled": true
   },
   "outputs": [],
   "source": [
    "div = soup.find(\"div\", class_=\"contact\")"
   ]
  },
  {
   "cell_type": "code",
   "execution_count": 274,
   "metadata": {},
   "outputs": [
    {
     "data": {
      "text/plain": [
       "<div class=\"contact\">\n",
       "<div class=\"row\"><div class=\"block contactpersonblock col-lg-12 col-md-12 col-sm-12 col-xs-12 displaymode-full\">\n",
       "<div class=\"contact-person\">\n",
       "<h2>Kontakt</h2>\n",
       "<div class=\"contact-person__name\">\n",
       "\n",
       "            Presstjänsten\n",
       "        </div>\n",
       "<div class=\"contact-person__email\">\n",
       "<span>E-post:  </span>\n",
       "<a class=\"no-border-link\" href=\"mailto:media@socialstyrelsen.se\">media@socialstyrelsen.se</a>\n",
       "</div>\n",
       "<div class=\"contact-person__phone\">\n",
       "<span>Telefonnummer:  </span>\n",
       "<a class=\"no-border-link\" href=\"tel:0752473005\">075-247 30 05</a>\n",
       "</div>\n",
       "</div></div></div>\n",
       "</div>"
      ]
     },
     "execution_count": 274,
     "metadata": {},
     "output_type": "execute_result"
    }
   ],
   "source": [
    "div"
   ]
  },
  {
   "cell_type": "markdown",
   "metadata": {},
   "source": [
    "This html tree tells us that there are child elements of this div containing the information we want. The class \"contact-person__phone\" is what we're after. Let's get that one instead:"
   ]
  },
  {
   "cell_type": "code",
   "execution_count": 275,
   "metadata": {},
   "outputs": [],
   "source": [
    "div = soup.find(\"div\", class_=\"contact-person__phone\")"
   ]
  },
  {
   "cell_type": "markdown",
   "metadata": {},
   "source": [
    "We can get the text of our element by calling the `.text` attribute:"
   ]
  },
  {
   "cell_type": "code",
   "execution_count": 276,
   "metadata": {},
   "outputs": [
    {
     "data": {
      "text/plain": [
       "'\\nTelefonnummer:  \\n075-247 30 05\\n'"
      ]
     },
     "execution_count": 276,
     "metadata": {},
     "output_type": "execute_result"
    }
   ],
   "source": [
    "div.text"
   ]
  },
  {
   "cell_type": "markdown",
   "metadata": {},
   "source": [
    "And there we have it! We scraped the phone number we wanted! Now, let's try something a little more complicated."
   ]
  },
  {
   "cell_type": "markdown",
   "metadata": {},
   "source": [
    "### Creating scraping loops"
   ]
  },
  {
   "cell_type": "code",
   "execution_count": 288,
   "metadata": {},
   "outputs": [],
   "source": [
    "import requests\n",
    "from bs4 import BeautifulSoup"
   ]
  },
  {
   "cell_type": "markdown",
   "metadata": {},
   "source": [
    "Ok, in this section, let's imagine we want to gather up all websites' urls of California's health care centres. We work at a Californian newspaper, and our editor wants us to check all health centres websites. There's been this new policy that require them to display health care costs directly on their wesites homepages. The newspaper wants to do a story if this policy is being followed. \n",
    "\n",
    "We can't be bothered to copy and paste all websites urls from each link by hand, so we decide to scrape the information instead! The centres contact info can be found on the California Departement of Health Care Services' website. [Here](https://www.dhcs.ca.gov/services/medi-cal/Pages/CountyOffices.aspx), to be exact:"
   ]
  },
  {
   "cell_type": "code",
   "execution_count": 286,
   "metadata": {},
   "outputs": [],
   "source": [
    "url = \"https://www.dhcs.ca.gov/services/medi-cal/Pages/CountyOffices.aspx\""
   ]
  },
  {
   "cell_type": "markdown",
   "metadata": {},
   "source": [
    "All the health care offices are located at county level, and their contact info – together with a link to their website – can be found in lists. But they are located at three different web pages at the site. These pages can be found on the link above. So, how to proceed?\n",
    "\n",
    "First, let's scrape the urls to the three web pages that contain all county information. Let's save them in a list. The hyperlink elment, the `<a>` tag, is what we're looking for. Hyperlinks have a attribute `href` which specifies the url of the page the link goes to. Inspecting the site using developer tools, we see that the links are within this element:\n",
    "\n",
    "<img src=\"../course_material/scraping/html_2.png\" style=\"width: 600px;\"/>\n",
    "\n",
    "So, we want to scrape the links beneath the `<ul>` tag (\"ul\" is an \"unordered list\" element). The `<ul>` has the class \"dfwp-list\". Let's get a response object, and then filter the html code using `BeautifulSoup`:"
   ]
  },
  {
   "cell_type": "code",
   "execution_count": 287,
   "metadata": {},
   "outputs": [],
   "source": [
    "res = requests.get(url)\n",
    "res.raise_for_status()"
   ]
  },
  {
   "cell_type": "code",
   "execution_count": 291,
   "metadata": {},
   "outputs": [],
   "source": [
    "soup = BeautifulSoup(res.content)"
   ]
  },
  {
   "cell_type": "code",
   "execution_count": 292,
   "metadata": {},
   "outputs": [],
   "source": [
    "element = soup.find(\"ul\", class_=\"dfwp-list\")"
   ]
  },
  {
   "cell_type": "markdown",
   "metadata": {},
   "source": [
    "#### Find all element tags – `.find_all()`"
   ]
  },
  {
   "cell_type": "markdown",
   "metadata": {},
   "source": [
    "Soup objects has a method called `.find_all()`. It searches the html tree for all element tags we provide. Let's use it to get all `<a>`-tagged elements:"
   ]
  },
  {
   "cell_type": "code",
   "execution_count": 294,
   "metadata": {},
   "outputs": [
    {
     "data": {
      "text/plain": [
       "[<a href=\"/services/medi-cal/Pages/CountyOffices3.aspx\" target=\"\" title=\"\">County Listings: A - L</a>,\n",
       " <a href=\"/services/medi-cal/Pages/CountyOffices4.aspx\" target=\"\" title=\"\">County Listings: M - R</a>,\n",
       " <a href=\"/services/medi-cal/Pages/CountyOffices5.aspx\" target=\"\" title=\"\">County Listings: S - Z</a>]"
      ]
     },
     "execution_count": 294,
     "metadata": {},
     "output_type": "execute_result"
    }
   ],
   "source": [
    "element.find_all(\"a\")"
   ]
  },
  {
   "cell_type": "markdown",
   "metadata": {},
   "source": [
    "Success! As you can see, the `<a>` tags have `href` attributes with the url links we need! Lets"
   ]
  },
  {
   "cell_type": "code",
   "execution_count": 311,
   "metadata": {},
   "outputs": [],
   "source": [
    "links = element.find_all(\"a\")"
   ]
  },
  {
   "cell_type": "markdown",
   "metadata": {},
   "source": [
    "All soup objects have the method `.get()` which lets us extract attribute information from an element. We pass the attribute we want as an argument. We need to loop over the links and extract the href-attributes. But while we're at it we can fix another problem:\n",
    "\n",
    "As you can see, the links are not complete urls. They start with `/services/...`, and the url to the website is `https://www.dhcs.ca.gov...`. Therefore, while looping over the links, let's also add this core url to the links' start."
   ]
  },
  {
   "cell_type": "code",
   "execution_count": 314,
   "metadata": {},
   "outputs": [
    {
     "data": {
      "text/plain": [
       "'/services/medi-cal/Pages/CountyOffices3.aspx'"
      ]
     },
     "execution_count": 314,
     "metadata": {},
     "output_type": "execute_result"
    }
   ],
   "source": [
    "links[0].get(\"href\") # this is how we extract a specific attribute from elements, returns a string"
   ]
  },
  {
   "cell_type": "code",
   "execution_count": 315,
   "metadata": {},
   "outputs": [],
   "source": [
    "# This will be the beginning of all links:\n",
    "main_url = \"https://www.dhcs.ca.gov\""
   ]
  },
  {
   "cell_type": "code",
   "execution_count": 316,
   "metadata": {},
   "outputs": [],
   "source": [
    "for count,link in enumerate(links):\n",
    "    # First, extract href text:\n",
    "    href = link.get(\"href\")\n",
    "    # change the list items into string values with the complete urls\n",
    "    links[count] = main_url + href"
   ]
  },
  {
   "cell_type": "code",
   "execution_count": 317,
   "metadata": {},
   "outputs": [
    {
     "data": {
      "text/plain": [
       "['https://www.dhcs.ca.gov/services/medi-cal/Pages/CountyOffices3.aspx',\n",
       " 'https://www.dhcs.ca.gov/services/medi-cal/Pages/CountyOffices4.aspx',\n",
       " 'https://www.dhcs.ca.gov/services/medi-cal/Pages/CountyOffices5.aspx']"
      ]
     },
     "execution_count": 317,
     "metadata": {},
     "output_type": "execute_result"
    }
   ],
   "source": [
    "links"
   ]
  },
  {
   "cell_type": "markdown",
   "metadata": {},
   "source": [
    "Now, let's see that all links work. We can do this looping over the links, creating response objects of them, and then using the `requests` method `.raise_for_status()`. If nothing happens, we've been successful:"
   ]
  },
  {
   "cell_type": "code",
   "execution_count": 319,
   "metadata": {},
   "outputs": [],
   "source": [
    "# this takes a few seconds:\n",
    "for link in links:\n",
    "    res = requests.get(link)\n",
    "    res.raise_for_status()"
   ]
  },
  {
   "cell_type": "markdown",
   "metadata": {},
   "source": [
    "Perfect! No exceptions were raised. The urls seem to work."
   ]
  },
  {
   "cell_type": "markdown",
   "metadata": {},
   "source": [
    "#### Scraping the html `<table>`"
   ]
  },
  {
   "cell_type": "markdown",
   "metadata": {},
   "source": [
    "Now, we need to have a look at the links themselves. All the lists with the contact info of the health care centres is within a html table `<table>`. And all these html-tables in all three url-links all have the class \"ms-rteTable-default\". Here's a pic:\n",
    "\n",
    "<img src=\"../course_material/scraping/html_3.png\" style=\"width: 600px;\"/>\n",
    "\n",
    "Let's try to find it in the first link:\n",
    "\n"
   ]
  },
  {
   "cell_type": "code",
   "execution_count": 321,
   "metadata": {},
   "outputs": [],
   "source": [
    "res = requests.get(links[0])\n",
    "res.raise_for_status()\n",
    "\n",
    "soup = BeautifulSoup(res.content)\n",
    "\n",
    "table = soup.find(\"table\", class_=\"ms-rteTable-default\")"
   ]
  },
  {
   "cell_type": "markdown",
   "metadata": {},
   "source": [
    "Let's see if we can find all hyperlinks in the table:"
   ]
  },
  {
   "cell_type": "code",
   "execution_count": 330,
   "metadata": {},
   "outputs": [],
   "source": [
    "county_links = table.find_all(\"a\")"
   ]
  },
  {
   "cell_type": "code",
   "execution_count": 445,
   "metadata": {},
   "outputs": [
    {
     "data": {
      "text/plain": [
       "19"
      ]
     },
     "execution_count": 445,
     "metadata": {},
     "output_type": "execute_result"
    }
   ],
   "source": [
    "len(county_links)"
   ]
  },
  {
   "cell_type": "code",
   "execution_count": 334,
   "metadata": {},
   "outputs": [
    {
     "name": "stdout",
     "output_type": "stream",
     "text": [
      "https://alamedasocialservices.org/public/index.cfm\n",
      "http://alpinecountyca.gov/Index.aspx?NID=191\n",
      "http://www.co.amador.ca.us/departments/health-human-services\n",
      "http://www.buttecounty.net/dess/ConnectDESS.aspx\n",
      "http://hhsa.calaverasgov.us/Public-Assistance/Eligibility/Medi-Cal\n"
     ]
    }
   ],
   "source": [
    "# printing top 5 links:\n",
    "for hyperlink in county_links[:5]:\n",
    "    print(hyperlink.get(\"href\"))"
   ]
  },
  {
   "cell_type": "code",
   "execution_count": 385,
   "metadata": {},
   "outputs": [],
   "source": [
    "all_links = []\n",
    "\n",
    "for link in county_links:\n",
    "    all_links.append(link.get(\"href\"))"
   ]
  },
  {
   "cell_type": "code",
   "execution_count": 387,
   "metadata": {},
   "outputs": [
    {
     "data": {
      "text/plain": [
       "19"
      ]
     },
     "execution_count": 387,
     "metadata": {},
     "output_type": "execute_result"
    }
   ],
   "source": [
    "len(all_links)"
   ]
  },
  {
   "cell_type": "markdown",
   "metadata": {},
   "source": [
    "#### Scraping the county names"
   ]
  },
  {
   "cell_type": "markdown",
   "metadata": {},
   "source": [
    "Fantastic! It worked! But, to make the data a bit more workable, let's save the link together with the county name. This is also found in the table element, but it is within a table div `<td>` and has the class \"ms-rteTableEvenCol-default\". Let's get a list of all of those:"
   ]
  },
  {
   "cell_type": "code",
   "execution_count": 365,
   "metadata": {},
   "outputs": [],
   "source": [
    "county_names = soup.find_all(\"td\", class_=\"ms-rteTableEvenCol-default\")"
   ]
  },
  {
   "cell_type": "code",
   "execution_count": 364,
   "metadata": {},
   "outputs": [
    {
     "data": {
      "text/plain": [
       "19"
      ]
     },
     "execution_count": 364,
     "metadata": {},
     "output_type": "execute_result"
    }
   ],
   "source": [
    "len(county_names[1:])"
   ]
  },
  {
   "cell_type": "code",
   "execution_count": 366,
   "metadata": {},
   "outputs": [
    {
     "data": {
      "text/plain": [
       "[<td class=\"ms-rteTableEvenCol-default\" colspan=\"1\" rowspan=\"1\" style=\"width:50%;\">​<strong>County Name</strong></td>,\n",
       " <td class=\"ms-rteTableEvenCol-default\" rowspan=\"1\" style=\"width:50%;\">​Alameda County</td>,\n",
       " <td class=\"ms-rteTableEvenCol-default\" rowspan=\"1\" style=\"width:50%;\">​Alpine County</td>]"
      ]
     },
     "execution_count": 366,
     "metadata": {},
     "output_type": "execute_result"
    }
   ],
   "source": [
    "county_names[:3]"
   ]
  },
  {
   "cell_type": "markdown",
   "metadata": {},
   "source": [
    "It worked! Does it work with the other tables on the other links?"
   ]
  },
  {
   "cell_type": "code",
   "execution_count": 446,
   "metadata": {},
   "outputs": [],
   "source": [
    "res = requests.get(links[1])\n",
    "res.raise_for_status()\n",
    "\n",
    "soup = BeautifulSoup(res.content)\n",
    "\n",
    "county_names = soup.find_all(\"td\", class_=\"ms-rteTableEvenCol-default\")"
   ]
  },
  {
   "cell_type": "code",
   "execution_count": 447,
   "metadata": {},
   "outputs": [
    {
     "data": {
      "text/plain": [
       "0"
      ]
     },
     "execution_count": 447,
     "metadata": {},
     "output_type": "execute_result"
    }
   ],
   "source": [
    "len(county_names[1:])"
   ]
  },
  {
   "cell_type": "markdown",
   "metadata": {},
   "source": [
    "No, it doesn't. That's because the class's name is \"ms-rteTableFirstCol-default\" in the second and third tables. We need to include a if statement that will change the class name if the `soup.find_all()` method doesn't return anything:"
   ]
  },
  {
   "cell_type": "code",
   "execution_count": 448,
   "metadata": {},
   "outputs": [],
   "source": [
    "county_names = soup.find_all(\"td\", class_=\"ms-rteTableEvenCol-default\")\n",
    "if not county_names:\n",
    "    county_names = soup.find_all(\"td\", class_=\"ms-rteTableFirstCol-default\")"
   ]
  },
  {
   "cell_type": "code",
   "execution_count": 449,
   "metadata": {},
   "outputs": [
    {
     "data": {
      "text/plain": [
       "12"
      ]
     },
     "execution_count": 449,
     "metadata": {},
     "output_type": "execute_result"
    }
   ],
   "source": [
    "len(county_names[1:])"
   ]
  },
  {
   "cell_type": "markdown",
   "metadata": {},
   "source": [
    "That worked! Let's return to the first table:"
   ]
  },
  {
   "cell_type": "code",
   "execution_count": 451,
   "metadata": {},
   "outputs": [],
   "source": [
    "res = requests.get(links[0])\n",
    "res.raise_for_status()\n",
    "\n",
    "soup = BeautifulSoup(res.content)\n",
    "\n",
    "county_names = soup.find_all(\"td\", class_=\"ms-rteTableEvenCol-default\")"
   ]
  },
  {
   "cell_type": "markdown",
   "metadata": {},
   "source": [
    "The first `<td>` is a table header, so we can skip that one. The other ones seem correct! We can get the text by using the `.text` attribute:"
   ]
  },
  {
   "cell_type": "code",
   "execution_count": 452,
   "metadata": {},
   "outputs": [
    {
     "data": {
      "text/plain": [
       "'\\u200bAlameda County'"
      ]
     },
     "execution_count": 452,
     "metadata": {},
     "output_type": "execute_result"
    }
   ],
   "source": [
    "county_names[1].text"
   ]
  },
  {
   "cell_type": "markdown",
   "metadata": {},
   "source": [
    "#### Unicode garbage – weird text characters"
   ]
  },
  {
   "cell_type": "markdown",
   "metadata": {},
   "source": [
    "All text in the table starts with a special unicode character – `'\\u200b'`. This is a [\"zero length whitespace character\"](https://www.fileformat.info/info/unicode/char/200b/index.htm). Let's use the string method `.replace()` to remove it:"
   ]
  },
  {
   "cell_type": "code",
   "execution_count": 453,
   "metadata": {},
   "outputs": [
    {
     "data": {
      "text/plain": [
       "'Alameda County'"
      ]
     },
     "execution_count": 453,
     "metadata": {},
     "output_type": "execute_result"
    }
   ],
   "source": [
    "county_names[1].text.replace(\"\\u200b\", \"\") # replace \"\\u200b\" with \"\""
   ]
  },
  {
   "cell_type": "markdown",
   "metadata": {},
   "source": [
    "There may also be another unicode character – the `\"\\xa0\"` character (non-breaking space) – in some strings. We'll have to remove that as well:"
   ]
  },
  {
   "cell_type": "code",
   "execution_count": 454,
   "metadata": {},
   "outputs": [
    {
     "data": {
      "text/plain": [
       "'Alameda County'"
      ]
     },
     "execution_count": 454,
     "metadata": {},
     "output_type": "execute_result"
    }
   ],
   "source": [
    "# we can chain our string methods like this to do it all in one line:\n",
    "county_names[1].text.replace(\"\\u200b\", \"\").replace('\\xa0', '')"
   ]
  },
  {
   "cell_type": "markdown",
   "metadata": {},
   "source": [
    "We want all county names in a list to be able to use together with the links:"
   ]
  },
  {
   "cell_type": "code",
   "execution_count": 383,
   "metadata": {},
   "outputs": [],
   "source": [
    "names = []\n",
    "\n",
    "# skipping first td element, since that's the header:\n",
    "for td_element in county_names[1:]:\n",
    "    name = td_element.text.replace(\"\\u200b\", \"\").replace('\\xa0', '')\n",
    "    names.append(name)"
   ]
  },
  {
   "cell_type": "code",
   "execution_count": 441,
   "metadata": {},
   "outputs": [
    {
     "data": {
      "text/plain": [
       "['Alameda County', 'Alpine County', 'Amador County']"
      ]
     },
     "execution_count": 441,
     "metadata": {},
     "output_type": "execute_result"
    }
   ],
   "source": [
    "names[:3]"
   ]
  },
  {
   "cell_type": "markdown",
   "metadata": {},
   "source": [
    "#### Both links and names in one loop"
   ]
  },
  {
   "cell_type": "markdown",
   "metadata": {},
   "source": [
    "Cool! We can now loop over the lists and create a dictionary with both county name and url! Since the length of the two lists are the same, we can do this in one go if we use the `enumerate()` function in our loop:"
   ]
  },
  {
   "cell_type": "code",
   "execution_count": 389,
   "metadata": {},
   "outputs": [],
   "source": [
    "results = []\n",
    "for count,name in enumerate(names):\n",
    "    county_data = {}\n",
    "    county_data['county'] = name\n",
    "    county_data['url'] = all_links[count]\n",
    "    results.append(county_data)"
   ]
  },
  {
   "cell_type": "code",
   "execution_count": 393,
   "metadata": {},
   "outputs": [
    {
     "data": {
      "text/plain": [
       "19"
      ]
     },
     "execution_count": 393,
     "metadata": {},
     "output_type": "execute_result"
    }
   ],
   "source": [
    "len(results)"
   ]
  },
  {
   "cell_type": "code",
   "execution_count": 440,
   "metadata": {},
   "outputs": [
    {
     "data": {
      "text/plain": [
       "[{'county': 'Alameda County',\n",
       "  'url': 'https://alamedasocialservices.org/public/index.cfm'},\n",
       " {'county': 'Alpine County',\n",
       "  'url': 'http://alpinecountyca.gov/Index.aspx?NID=191'},\n",
       " {'county': 'Amador County',\n",
       "  'url': 'http://www.co.amador.ca.us/departments/health-human-services'}]"
      ]
     },
     "execution_count": 440,
     "metadata": {},
     "output_type": "execute_result"
    }
   ],
   "source": [
    "results[:3] # top three items in the list"
   ]
  },
  {
   "cell_type": "markdown",
   "metadata": {},
   "source": [
    "#### Best practice – put it in functions"
   ]
  },
  {
   "cell_type": "markdown",
   "metadata": {},
   "source": [
    "All seems to have worked as expected! Now, finally, we need to do this on all three links. To make this smoother, let's put all the code above into functions that we can use in a loop:"
   ]
  },
  {
   "cell_type": "code",
   "execution_count": 431,
   "metadata": {},
   "outputs": [],
   "source": [
    "def get_county_links(soup):\n",
    "    # find the table:\n",
    "    table = soup.find(\"table\", class_=\"ms-rteTable-default\")\n",
    "    \n",
    "    # find all hyperlinks within table:\n",
    "    county_links = table.find_all(\"a\")\n",
    "    \n",
    "    # loop over all hyperlinks and saving the href attribute:\n",
    "    all_links = []\n",
    "    for link in county_links:\n",
    "        # this if-statement is because some counties may not have a hyperlink\n",
    "        if link.get(\"href\"):\n",
    "            all_links.append(link.get(\"href\"))\n",
    "        else:\n",
    "            continue\n",
    "    \n",
    "    # return result\n",
    "    return all_links\n",
    "\n",
    "def get_county_names(soup):\n",
    "    # find all the <td> elements with the class name:\n",
    "    county_names = soup.find_all(\"td\", class_=\"ms-rteTableEvenCol-default\")\n",
    "    if not county_names:\n",
    "        county_names = soup.find_all(\"td\", class_=\"ms-rteTableFirstCol-default\")\n",
    "\n",
    "    # loop over all <td> elements, saving their text\n",
    "    names = []\n",
    "    # skipping first td element, since that's the header:\n",
    "    for td_element in county_names[1:]:\n",
    "        # also, removing weird unicode characted \"\\u200b\":\n",
    "        name = td_element.text.replace(\"\\u200b\", \"\").replace('\\xa0', '')\n",
    "        names.append(name)\n",
    "    \n",
    "    return names\n"
   ]
  },
  {
   "cell_type": "markdown",
   "metadata": {},
   "source": [
    "Let's try them out:"
   ]
  },
  {
   "cell_type": "code",
   "execution_count": 455,
   "metadata": {},
   "outputs": [],
   "source": [
    "res = requests.get(links[2])\n",
    "res.raise_for_status()"
   ]
  },
  {
   "cell_type": "code",
   "execution_count": 456,
   "metadata": {},
   "outputs": [],
   "source": [
    "soup = BeautifulSoup(res.content)"
   ]
  },
  {
   "cell_type": "code",
   "execution_count": 457,
   "metadata": {},
   "outputs": [
    {
     "data": {
      "text/plain": [
       "['http://www.dha.saccounty.net/',\n",
       " 'http://hhsa.cosb.us/divisions/public-assistance/medi-cal/',\n",
       " 'http://hs.sbcounty.gov/tad/Pages/Apply-for-Medi-Cal.aspx']"
      ]
     },
     "execution_count": 457,
     "metadata": {},
     "output_type": "execute_result"
    }
   ],
   "source": [
    "get_county_links(soup)[:3]"
   ]
  },
  {
   "cell_type": "code",
   "execution_count": 458,
   "metadata": {},
   "outputs": [
    {
     "data": {
      "text/plain": [
       "['San Benito County', 'San Bernardino County', 'San Diego County']"
      ]
     },
     "execution_count": 458,
     "metadata": {},
     "output_type": "execute_result"
    }
   ],
   "source": [
    "get_county_names(soup)[:3]"
   ]
  },
  {
   "cell_type": "markdown",
   "metadata": {},
   "source": [
    "Cool! It worked! Now, just need to put the loop in a function as well:"
   ]
  },
  {
   "cell_type": "code",
   "execution_count": 459,
   "metadata": {},
   "outputs": [],
   "source": [
    "def get_names_and_links(soup):\n",
    "    county_names = get_county_names(soup)\n",
    "    county_links = get_county_links(soup)\n",
    "    \n",
    "    results = []\n",
    "    for count,name in enumerate(county_names):\n",
    "        data = {}\n",
    "        data['county'] = name\n",
    "        data['url'] = county_links[count]\n",
    "        results.append(data)\n",
    "    return results"
   ]
  },
  {
   "cell_type": "code",
   "execution_count": 460,
   "metadata": {},
   "outputs": [
    {
     "data": {
      "text/plain": [
       "[{'county': 'San Benito County', 'url': 'http://www.dha.saccounty.net/'},\n",
       " {'county': 'San Bernardino County',\n",
       "  'url': 'http://hhsa.cosb.us/divisions/public-assistance/medi-cal/'},\n",
       " {'county': 'San Diego County',\n",
       "  'url': 'http://hs.sbcounty.gov/tad/Pages/Apply-for-Medi-Cal.aspx'},\n",
       " {'county': 'City & County of San Francisco',\n",
       "  'url': 'https://www.sandiegocounty.gov/hhsa/programs/ssp/medi-cal_program/index.html'},\n",
       " {'county': 'San Joaquin County',\n",
       "  'url': 'https://www.sfhsa.org/services/health-food/medi-cal'}]"
      ]
     },
     "execution_count": 460,
     "metadata": {},
     "output_type": "execute_result"
    }
   ],
   "source": [
    "get_names_and_links(soup)[:5]"
   ]
  },
  {
   "cell_type": "markdown",
   "metadata": {},
   "source": [
    "Let's return to the three url's with the links to the tables:"
   ]
  },
  {
   "cell_type": "code",
   "execution_count": 461,
   "metadata": {},
   "outputs": [
    {
     "data": {
      "text/plain": [
       "['https://www.dhcs.ca.gov/services/medi-cal/Pages/CountyOffices3.aspx',\n",
       " 'https://www.dhcs.ca.gov/services/medi-cal/Pages/CountyOffices4.aspx',\n",
       " 'https://www.dhcs.ca.gov/services/medi-cal/Pages/CountyOffices5.aspx']"
      ]
     },
     "execution_count": 461,
     "metadata": {},
     "output_type": "execute_result"
    }
   ],
   "source": [
    "links"
   ]
  },
  {
   "cell_type": "markdown",
   "metadata": {},
   "source": [
    "#### Finally, scrape it all"
   ]
  },
  {
   "cell_type": "markdown",
   "metadata": {},
   "source": [
    "We can now loop over these three links, create a soup object and use our `get_names_and_links()` function on it. Let's do so and save the resulting data into a complete data structure of all health care offices names and website links:"
   ]
  },
  {
   "cell_type": "code",
   "execution_count": 466,
   "metadata": {},
   "outputs": [],
   "source": [
    "all_county_data = []\n",
    "for link in links:\n",
    "    res = requests.get(link)\n",
    "    res.raise_for_status()\n",
    "    \n",
    "    soup = BeautifulSoup(res.content)\n",
    "    \n",
    "    county_data = get_names_and_links(soup)\n",
    "    \n",
    "    all_county_data += county_data"
   ]
  },
  {
   "cell_type": "code",
   "execution_count": 467,
   "metadata": {},
   "outputs": [
    {
     "data": {
      "text/plain": [
       "54"
      ]
     },
     "execution_count": 467,
     "metadata": {},
     "output_type": "execute_result"
    }
   ],
   "source": [
    "len(all_county_data)"
   ]
  },
  {
   "cell_type": "code",
   "execution_count": 469,
   "metadata": {},
   "outputs": [
    {
     "data": {
      "text/plain": [
       "[{'county': 'Alameda County',\n",
       "  'url': 'https://alamedasocialservices.org/public/index.cfm'},\n",
       " {'county': 'Alpine County',\n",
       "  'url': 'http://alpinecountyca.gov/Index.aspx?NID=191'},\n",
       " {'county': 'Amador County',\n",
       "  'url': 'http://www.co.amador.ca.us/departments/health-human-services'}]"
      ]
     },
     "execution_count": 469,
     "metadata": {},
     "output_type": "execute_result"
    }
   ],
   "source": [
    "all_county_data[:3]"
   ]
  },
  {
   "cell_type": "markdown",
   "metadata": {},
   "source": [
    "**Success! We scraped all county names, and all the counties' website urls. Yay!**"
   ]
  },
  {
   "cell_type": "markdown",
   "metadata": {},
   "source": [
    "### Exercise – Scrape the Olympic Medals"
   ]
  },
  {
   "cell_type": "markdown",
   "metadata": {},
   "source": [
    "In this exercise, we will return to where this chapter started – the Wikipedia page of [all olympic medals of all time.](https://en.wikipedia.org/wiki/All-time_Olympic_Games_medal_table). **I want you to scrape the entire table** and save it as an csv file on your computer. So the result should be a data structure that looks like this:\n",
    "\n",
    "```\n",
    "[{\"country\":\"Afghanistan\",\"num_summer_games\":14,\"num_summer_gold\":0,\n",
    "\"num_summer_silver\":0,\"num_summer_bronze\":2,...etc},\n",
    " {\"country\":\"Algeria\",\"num_summer_games\":14,\"num_summer_gold\":5, ...}]\n",
    "```\n",
    "A list with a dictionary for each row! Save this into a csv file on your hard drive.\n",
    " \n",
    "You should first start by trying to do this using `requests` and `BeautifulSoup`. Then (if you want, this is optional), I want you to try to google how you can do it with the `pandas` library. Googling your way forward is a very important part of learning programming, and I want to see if this can egg your interest! \n",
    "\n",
    "I'll show you how I would do it with both techniques in the solutions notebook.\n",
    " \n",
    "Good luck!"
   ]
  },
  {
   "cell_type": "code",
   "execution_count": 1,
   "metadata": {},
   "outputs": [],
   "source": [
    "import requests\n",
    "\n",
    "import pandas as pd\n",
    "\n",
    "from bs4 import BeautifulSoup"
   ]
  },
  {
   "cell_type": "code",
   "execution_count": 2,
   "metadata": {},
   "outputs": [],
   "source": [
    "url = \"https://en.wikipedia.org/wiki/All-time_Olympic_Games_medal_table\""
   ]
  },
  {
   "cell_type": "markdown",
   "metadata": {},
   "source": [
    "## Pandas – the basics"
   ]
  },
  {
   "cell_type": "markdown",
   "metadata": {},
   "source": [
    "In some sections of this continuation course, I've included small teasers of the pandas library. If you've seen them (some are in sections marked \"optional\"), it may have made an impression on you. \n",
    "\n",
    "Pandas (Python Data Analysis Library) is not only lightning fast, it is built to be used for cleaning, filtering, calculating, and analysing data. If this is what you want to do with your Python skills, there is no better option than `pandas`. In this chapter, I will start by introducing some data transformation skills that are very useful to know before learning pandas. Then, we will move over to focus on the basics of pandas."
   ]
  },
  {
   "cell_type": "markdown",
   "metadata": {},
   "source": [
    "### Data alteration techniques"
   ]
  },
  {
   "cell_type": "markdown",
   "metadata": {},
   "source": [
    "In this section, we will learn a few techniques that are built into the Python language that are very good to know when working with data. The `pandas` library is filled with methods and functions that help you alter various types of data in certain ways. But the skills learned in this section will broaden your understanding of how pandas work, while at the same time making you a more agile pandas user.\n",
    "\n",
    "Let's start with the built-in function `map()`"
   ]
  },
  {
   "cell_type": "markdown",
   "metadata": {},
   "source": [
    "#### `map()` – a function using a function"
   ]
  },
  {
   "cell_type": "markdown",
   "metadata": {},
   "source": [
    "In earlier chapters, we've learned how to loop over data structures to alter their content. Like a list for example. Let's say we want to square all integer values in this list:"
   ]
  },
  {
   "cell_type": "code",
   "execution_count": 12,
   "metadata": {},
   "outputs": [],
   "source": [
    "numbers = [1, 2, 3, 4, 5]"
   ]
  },
  {
   "cell_type": "markdown",
   "metadata": {},
   "source": [
    "To square a value, we can use the exponentiation operator `**`:"
   ]
  },
  {
   "cell_type": "code",
   "execution_count": 13,
   "metadata": {},
   "outputs": [
    {
     "data": {
      "text/plain": [
       "9"
      ]
     },
     "execution_count": 13,
     "metadata": {},
     "output_type": "execute_result"
    }
   ],
   "source": [
    "# squaring the integer 3:\n",
    "\n",
    "3 ** 2 # <- same as 3 * 3"
   ]
  },
  {
   "cell_type": "code",
   "execution_count": 14,
   "metadata": {},
   "outputs": [
    {
     "data": {
      "text/plain": [
       "27"
      ]
     },
     "execution_count": 14,
     "metadata": {},
     "output_type": "execute_result"
    }
   ],
   "source": [
    "# cubing the integer 3:\n",
    "\n",
    "3 ** 3 # <- same as 3 * 3 * 3"
   ]
  },
  {
   "cell_type": "markdown",
   "metadata": {},
   "source": [
    "We can use this operator on each value in our list using a for-loop:"
   ]
  },
  {
   "cell_type": "code",
   "execution_count": 16,
   "metadata": {},
   "outputs": [
    {
     "name": "stdout",
     "output_type": "stream",
     "text": [
      "1 squared is 1\n",
      "2 squared is 4\n",
      "3 squared is 9\n",
      "4 squared is 16\n",
      "5 squared is 25\n"
     ]
    }
   ],
   "source": [
    "for value in numbers:\n",
    "    print(f\"{value} squared is {value ** 2}\")"
   ]
  },
  {
   "cell_type": "markdown",
   "metadata": {},
   "source": [
    "If we want to save the squared numbers, we can save them to a new list using the `.append()` method:"
   ]
  },
  {
   "cell_type": "code",
   "execution_count": 17,
   "metadata": {},
   "outputs": [],
   "source": [
    "new_list = []\n",
    "for value in numbers:\n",
    "    new_list.append(value ** 2)"
   ]
  },
  {
   "cell_type": "code",
   "execution_count": 18,
   "metadata": {},
   "outputs": [
    {
     "data": {
      "text/plain": [
       "[1, 2, 3, 4, 5]"
      ]
     },
     "execution_count": 18,
     "metadata": {},
     "output_type": "execute_result"
    }
   ],
   "source": [
    "numbers"
   ]
  },
  {
   "cell_type": "code",
   "execution_count": 19,
   "metadata": {},
   "outputs": [
    {
     "data": {
      "text/plain": [
       "[1, 4, 9, 16, 25]"
      ]
     },
     "execution_count": 19,
     "metadata": {},
     "output_type": "execute_result"
    }
   ],
   "source": [
    "new_list"
   ]
  },
  {
   "cell_type": "markdown",
   "metadata": {},
   "source": [
    "This is easy enough, but not very convenient. We can make it way more condence by using the `map()` function.\n",
    "\n",
    "The map function takes two arguments. The first is a function of some kind. The second is a sequence of values – like a list! The function that is passed as the first argument will then be applied on all the lists values.\n",
    "\n",
    "I will show you, let's start by creating a function that squares integers:"
   ]
  },
  {
   "cell_type": "code",
   "execution_count": 20,
   "metadata": {},
   "outputs": [],
   "source": [
    "def squared(num):\n",
    "    return num ** 2"
   ]
  },
  {
   "cell_type": "code",
   "execution_count": 21,
   "metadata": {},
   "outputs": [
    {
     "data": {
      "text/plain": [
       "9"
      ]
     },
     "execution_count": 21,
     "metadata": {},
     "output_type": "execute_result"
    }
   ],
   "source": [
    "squared(3)"
   ]
  },
  {
   "cell_type": "markdown",
   "metadata": {},
   "source": [
    "We now pass this function as the first argument to the `map()` function, and our list `numbers` as the second argument. The map function will then return a map object:"
   ]
  },
  {
   "cell_type": "code",
   "execution_count": 23,
   "metadata": {},
   "outputs": [
    {
     "data": {
      "text/plain": [
       "<map at 0x1142a81f0>"
      ]
     },
     "execution_count": 23,
     "metadata": {},
     "output_type": "execute_result"
    }
   ],
   "source": [
    "map(squared, numbers)"
   ]
  },
  {
   "cell_type": "markdown",
   "metadata": {},
   "source": [
    "We can pass this map object to the `list()` function to get a list:"
   ]
  },
  {
   "cell_type": "code",
   "execution_count": 24,
   "metadata": {},
   "outputs": [
    {
     "data": {
      "text/plain": [
       "[1, 4, 9, 16, 25]"
      ]
     },
     "execution_count": 24,
     "metadata": {},
     "output_type": "execute_result"
    }
   ],
   "source": [
    "list(map(squared, numbers))"
   ]
  },
  {
   "cell_type": "markdown",
   "metadata": {},
   "source": [
    "_(Note that the function `squared()` is not invoked when we pass it as an argument to `map()`. That is, we do not type the parenthesis after our function's name when we want to pass functions as arguments)_"
   ]
  },
  {
   "cell_type": "markdown",
   "metadata": {},
   "source": [
    "So, by using `map()`, you don't need to use for loops if you want to change the individual values within a list. Let's do one more, but with strings this time. Let's say we have a list of strings, and we want to replace all commas in the strings with semicolons. \n",
    "\n",
    "To replace parts of a string, we can use the `.replace()` method. Let's use it in a function:"
   ]
  },
  {
   "cell_type": "code",
   "execution_count": 25,
   "metadata": {},
   "outputs": [],
   "source": [
    "def comma2semicolon(string):\n",
    "    return string.replace(',', ';')"
   ]
  },
  {
   "cell_type": "code",
   "execution_count": 28,
   "metadata": {},
   "outputs": [],
   "source": [
    "test = \",,,,,\""
   ]
  },
  {
   "cell_type": "code",
   "execution_count": 29,
   "metadata": {},
   "outputs": [
    {
     "data": {
      "text/plain": [
       "';;;;;'"
      ]
     },
     "execution_count": 29,
     "metadata": {},
     "output_type": "execute_result"
    }
   ],
   "source": [
    "comma2semicolon(test)"
   ]
  },
  {
   "cell_type": "markdown",
   "metadata": {},
   "source": [
    "A list of strings:"
   ]
  },
  {
   "cell_type": "code",
   "execution_count": 30,
   "metadata": {},
   "outputs": [],
   "source": [
    "strings = [\"Ekman, Johan\", \"Karlsson, Stefan\", \"Frodesjö, Cecilia\", \"Smith, John\"]"
   ]
  },
  {
   "cell_type": "markdown",
   "metadata": {},
   "source": [
    "Now, let's try our function in a `map()` function:"
   ]
  },
  {
   "cell_type": "code",
   "execution_count": 31,
   "metadata": {},
   "outputs": [
    {
     "data": {
      "text/plain": [
       "['Ekman; Johan', 'Karlsson; Stefan', 'Frodesjö; Cecilia', 'Smith; John']"
      ]
     },
     "execution_count": 31,
     "metadata": {},
     "output_type": "execute_result"
    }
   ],
   "source": [
    "list(map(comma2semicolon, strings))"
   ]
  },
  {
   "cell_type": "markdown",
   "metadata": {},
   "source": [
    "There you go!"
   ]
  },
  {
   "cell_type": "markdown",
   "metadata": {},
   "source": [
    "#### `filter()` – return if `True`"
   ]
  },
  {
   "cell_type": "markdown",
   "metadata": {},
   "source": [
    "Ok! So now you now how you can use `map()` to change lists' values. This is very useful, since it is very VERY common to work with lists and to alter their contents. \n",
    "\n",
    "Another very common task when using lists is to filter them. Our lists are often filled with many values and we sometimes only want to use some of them. Let's use an example:"
   ]
  },
  {
   "cell_type": "code",
   "execution_count": 32,
   "metadata": {},
   "outputs": [],
   "source": [
    "numbers = [2, 43, 310, -4, -23, 67, 11, -103]"
   ]
  },
  {
   "cell_type": "markdown",
   "metadata": {},
   "source": [
    "Now, let's say that we only want to display the negative values in this list. We could do so using an if-statement in a for-loop:"
   ]
  },
  {
   "cell_type": "code",
   "execution_count": 33,
   "metadata": {},
   "outputs": [
    {
     "name": "stdout",
     "output_type": "stream",
     "text": [
      "-4\n",
      "-23\n",
      "-103\n"
     ]
    }
   ],
   "source": [
    "for value in numbers:\n",
    "    if value < 0:\n",
    "        print(value)"
   ]
  },
  {
   "cell_type": "markdown",
   "metadata": {},
   "source": [
    "And we could create a new list, using this for-loop:"
   ]
  },
  {
   "cell_type": "code",
   "execution_count": 34,
   "metadata": {},
   "outputs": [],
   "source": [
    "negatives = []\n",
    "for value in numbers:\n",
    "    if value < 0:\n",
    "        negatives.append(value)"
   ]
  },
  {
   "cell_type": "code",
   "execution_count": 35,
   "metadata": {},
   "outputs": [
    {
     "data": {
      "text/plain": [
       "[-4, -23, -103]"
      ]
     },
     "execution_count": 35,
     "metadata": {},
     "output_type": "execute_result"
    }
   ],
   "source": [
    "negatives"
   ]
  },
  {
   "cell_type": "markdown",
   "metadata": {},
   "source": [
    "Let's make this a bit more condenced. Instead of using a if-statement, we can use the comparison expression in a function, like so:"
   ]
  },
  {
   "cell_type": "code",
   "execution_count": 36,
   "metadata": {},
   "outputs": [],
   "source": [
    "def is_negative(num):\n",
    "    return num < 0"
   ]
  },
  {
   "cell_type": "code",
   "execution_count": 38,
   "metadata": {},
   "outputs": [
    {
     "data": {
      "text/plain": [
       "False"
      ]
     },
     "execution_count": 38,
     "metadata": {},
     "output_type": "execute_result"
    }
   ],
   "source": [
    "is_negative(3)"
   ]
  },
  {
   "cell_type": "code",
   "execution_count": 39,
   "metadata": {},
   "outputs": [
    {
     "data": {
      "text/plain": [
       "True"
      ]
     },
     "execution_count": 39,
     "metadata": {},
     "output_type": "execute_result"
    }
   ],
   "source": [
    "is_negative(-3)"
   ]
  },
  {
   "cell_type": "markdown",
   "metadata": {},
   "source": [
    "Let's try our new function in a `map()` function:"
   ]
  },
  {
   "cell_type": "code",
   "execution_count": 40,
   "metadata": {},
   "outputs": [
    {
     "data": {
      "text/plain": [
       "[False, False, False, True, True, False, False, True]"
      ]
     },
     "execution_count": 40,
     "metadata": {},
     "output_type": "execute_result"
    }
   ],
   "source": [
    "list(map(is_negative, numbers))"
   ]
  },
  {
   "cell_type": "code",
   "execution_count": 41,
   "metadata": {},
   "outputs": [
    {
     "data": {
      "text/plain": [
       "[2, 43, 310, -4, -23, 67, 11, -103]"
      ]
     },
     "execution_count": 41,
     "metadata": {},
     "output_type": "execute_result"
    }
   ],
   "source": [
    "numbers"
   ]
  },
  {
   "cell_type": "markdown",
   "metadata": {},
   "source": [
    "Ok, so that isn't very helpful :)\n",
    "\n",
    "We can, however, use the built-in `filter()` function! It also takes two arguments: first, a function that takes a value as an argument, and then returns either `True` or `False`. Like our function `is_negative()`! The second argument to `filter()` is a sequence of values, like a list. The filter function then returns a filter object. We can use the `list()` function on this filter object to get all values that are evaluated to `True`:"
   ]
  },
  {
   "cell_type": "code",
   "execution_count": 43,
   "metadata": {},
   "outputs": [
    {
     "data": {
      "text/plain": [
       "[-4, -23, -103]"
      ]
     },
     "execution_count": 43,
     "metadata": {},
     "output_type": "execute_result"
    }
   ],
   "source": [
    "list(filter(is_negative, numbers))"
   ]
  },
  {
   "cell_type": "markdown",
   "metadata": {},
   "source": [
    "#### Exercise – filter the EU member states, part 1"
   ]
  },
  {
   "cell_type": "markdown",
   "metadata": {},
   "source": [
    "In this exercise, you will filter this list of dictionaries:"
   ]
  },
  {
   "cell_type": "code",
   "execution_count": 72,
   "metadata": {},
   "outputs": [],
   "source": [
    "eu_members = [{'Country': 'Austria', 'population': 8901064},\n",
    " {'Country': 'Estonia', 'population': 1328976},\n",
    " {'Country': 'Ireland', 'population': 4963839},\n",
    " {'Country': 'Slovakia', 'population': 5457873},\n",
    " {'Country': 'Cyprus', 'population': 888005},\n",
    " {'Country': 'Sweden', 'population': 10327589},\n",
    " {'Country': 'Netherlands', 'population': 17407585},\n",
    " {'Country': 'Latvia', 'population': 1907675},\n",
    " {'Country': 'Malta', 'population': 514564},\n",
    " {'Country': 'Slovenia', 'population': 2095861},\n",
    " {'Country': 'France', 'population': 67098824},\n",
    " {'Country': 'Denmark', 'population': 5822763},\n",
    " {'Country': 'Croatia', 'population': 4058165},\n",
    " {'Country': 'Italy', 'population': 60244639},\n",
    " {'Country': 'Hungary', 'population': 9769526},\n",
    " {'Country': 'Lithuania', 'population': 2794090},\n",
    " {'Country': 'Czech Republic', 'population': 10693939},\n",
    " {'Country': 'Poland', 'population': 37958138},\n",
    " {'Country': 'Romania', 'population': 19317984},\n",
    " {'Country': 'Bulgaria', 'population': 6951482},\n",
    " {'Country': 'Finland', 'population': 552529},\n",
    " {'Country': 'Portugal', 'population': 10295909},\n",
    " {'Country': 'Greece', 'population': 10709739},\n",
    " {'Country': 'Belgium', 'population': 11549888},\n",
    " {'Country': 'Spain', 'population': 47329981},\n",
    " {'Country': 'Germany', 'population': 83166711},\n",
    " {'Country': 'Luxembourg', 'population': 626108}]"
   ]
  },
  {
   "cell_type": "markdown",
   "metadata": {},
   "source": [
    "I want you to use the filter function so that you filter the EU member states with a population less than 10 million. The function should return the states with less than 10 million in population count.\n",
    "\n",
    "The solution can be found in the solutions notebook. Good luck!"
   ]
  },
  {
   "cell_type": "markdown",
   "metadata": {},
   "source": [
    "#### Lambda functions"
   ]
  },
  {
   "cell_type": "markdown",
   "metadata": {},
   "source": [
    "Another very powerful technique in Python, is **lambda functions**. They are small, anonymous functions that use a more concise syntax. Since they are small, they're also more limited in their functionality than regular Python functions. But it is their \"smallness\" that is their strength – using lambda functions, we can define functions in just one line of code. \n",
    "\n",
    "Let's go through a simple example. Take this regular function, it simply multiplies any numeric value by three:"
   ]
  },
  {
   "cell_type": "code",
   "execution_count": 101,
   "metadata": {},
   "outputs": [],
   "source": [
    "def multiply(num):\n",
    "    return num * 3"
   ]
  },
  {
   "cell_type": "code",
   "execution_count": 102,
   "metadata": {},
   "outputs": [
    {
     "data": {
      "text/plain": [
       "15"
      ]
     },
     "execution_count": 102,
     "metadata": {},
     "output_type": "execute_result"
    }
   ],
   "source": [
    "multiply(5)"
   ]
  },
  {
   "cell_type": "code",
   "execution_count": 103,
   "metadata": {},
   "outputs": [
    {
     "data": {
      "text/plain": [
       "<function __main__.multiply(num)>"
      ]
     },
     "execution_count": 103,
     "metadata": {},
     "output_type": "execute_result"
    }
   ],
   "source": [
    "multiply"
   ]
  },
  {
   "cell_type": "markdown",
   "metadata": {},
   "source": [
    "Just returning the function without invoking it gives us `<function __main__.multiply(num)>`. So it's a function called \"multiply\". Let's also check its type:"
   ]
  },
  {
   "cell_type": "code",
   "execution_count": 105,
   "metadata": {},
   "outputs": [
    {
     "data": {
      "text/plain": [
       "function"
      ]
     },
     "execution_count": 105,
     "metadata": {},
     "output_type": "execute_result"
    }
   ],
   "source": [
    "type(multiply)"
   ]
  },
  {
   "cell_type": "markdown",
   "metadata": {},
   "source": [
    "This function consists of the following parts:\n",
    "- the `def` keyword\n",
    "- the function's name, `multiply`\n",
    "- the function's parameter, `num`\n",
    "- the colon `:` that denotes the end of the function's header\n",
    "- the function's body (or code block), with a return statement `return num * 3`\n"
   ]
  },
  {
   "cell_type": "markdown",
   "metadata": {},
   "source": [
    "Let's create the same function, but a lambda function instead:"
   ]
  },
  {
   "cell_type": "code",
   "execution_count": 106,
   "metadata": {},
   "outputs": [
    {
     "data": {
      "text/plain": [
       "<function __main__.<lambda>(num)>"
      ]
     },
     "execution_count": 106,
     "metadata": {},
     "output_type": "execute_result"
    }
   ],
   "source": [
    "lambda num: num * 3"
   ]
  },
  {
   "cell_type": "markdown",
   "metadata": {},
   "source": [
    "A lambda function consists of:\n",
    "- the keyword `lambda`\n",
    "- the argument `num`\n",
    "- the colon `:` seperating lambda definition from its body\n",
    "- the body `num * 3`\n",
    "\n",
    "Let's save the lambda function to a variable and then invoke it:"
   ]
  },
  {
   "cell_type": "code",
   "execution_count": 109,
   "metadata": {},
   "outputs": [],
   "source": [
    "multiply_lambda = lambda num: num * 3"
   ]
  },
  {
   "cell_type": "code",
   "execution_count": 110,
   "metadata": {},
   "outputs": [
    {
     "data": {
      "text/plain": [
       "15"
      ]
     },
     "execution_count": 110,
     "metadata": {},
     "output_type": "execute_result"
    }
   ],
   "source": [
    "multiply_lambda(5)"
   ]
  },
  {
   "cell_type": "code",
   "execution_count": 111,
   "metadata": {},
   "outputs": [
    {
     "data": {
      "text/plain": [
       "15"
      ]
     },
     "execution_count": 111,
     "metadata": {},
     "output_type": "execute_result"
    }
   ],
   "source": [
    "multiply(5)"
   ]
  },
  {
   "cell_type": "code",
   "execution_count": 112,
   "metadata": {},
   "outputs": [
    {
     "data": {
      "text/plain": [
       "function"
      ]
     },
     "execution_count": 112,
     "metadata": {},
     "output_type": "execute_result"
    }
   ],
   "source": [
    "type(multiply_lambda)"
   ]
  },
  {
   "cell_type": "markdown",
   "metadata": {},
   "source": [
    "As you can see, the `multiply_lambda` variable is also a function, and by invoking it, we get the same result as with the regular function `multiply`. \n",
    "\n",
    "Ok, so why is this useful? Well, since lambdas are smaller (we don't need to give our lambdas any name for example), **we can use lambda functions inline**. That is, we don't need to save them to variable names, and can instead define them as we go. Take this list as an example:"
   ]
  },
  {
   "cell_type": "code",
   "execution_count": 113,
   "metadata": {},
   "outputs": [],
   "source": [
    "numbers = list(range(10))"
   ]
  },
  {
   "cell_type": "code",
   "execution_count": 114,
   "metadata": {},
   "outputs": [
    {
     "data": {
      "text/plain": [
       "[0, 1, 2, 3, 4, 5, 6, 7, 8, 9]"
      ]
     },
     "execution_count": 114,
     "metadata": {},
     "output_type": "execute_result"
    }
   ],
   "source": [
    "numbers"
   ]
  },
  {
   "cell_type": "markdown",
   "metadata": {},
   "source": [
    "Let's say we want to square all values within the list. We can use the `map()` function for this. But we need a function to pass to `map()`, so let's define one:"
   ]
  },
  {
   "cell_type": "code",
   "execution_count": 117,
   "metadata": {},
   "outputs": [],
   "source": [
    "def square(num):\n",
    "    return num ** 2"
   ]
  },
  {
   "cell_type": "code",
   "execution_count": 118,
   "metadata": {},
   "outputs": [
    {
     "data": {
      "text/plain": [
       "[0, 1, 4, 9, 16, 25, 36, 49, 64, 81]"
      ]
     },
     "execution_count": 118,
     "metadata": {},
     "output_type": "execute_result"
    }
   ],
   "source": [
    "list(map(square, numbers))"
   ]
  },
  {
   "cell_type": "markdown",
   "metadata": {},
   "source": [
    "If we would use a lambda function instead, we won't need to first declare our function to a namespace. We can just type the lambda inline – _inside the `map()` function!_"
   ]
  },
  {
   "cell_type": "code",
   "execution_count": 119,
   "metadata": {},
   "outputs": [
    {
     "data": {
      "text/plain": [
       "[0, 1, 4, 9, 16, 25, 36, 49, 64, 81]"
      ]
     },
     "execution_count": 119,
     "metadata": {},
     "output_type": "execute_result"
    }
   ],
   "source": [
    "list(map(lambda num: num ** 2, numbers))"
   ]
  },
  {
   "cell_type": "markdown",
   "metadata": {},
   "source": [
    "See? Kind of neat, isn't it?\n",
    "\n",
    "**The reason this works is because lambda declarations are expressions, not statements**. When we declare them, they return an lambda function object to us. When we define regular functions, we do so in a statement that don't return anything. The statement just save the function into memory.\n",
    "\n",
    "As you probably noticed, there are no parenthesis enclosing the arguments in lambda functinos. But this doesn't mean we can't have more than one argument. If you want two or more arguments, you can just seperate them with a comma. Check out this one, adding two numbers together:"
   ]
  },
  {
   "cell_type": "code",
   "execution_count": 122,
   "metadata": {},
   "outputs": [],
   "source": [
    "test = lambda x, y: x + y"
   ]
  },
  {
   "cell_type": "code",
   "execution_count": 123,
   "metadata": {},
   "outputs": [
    {
     "data": {
      "text/plain": [
       "9"
      ]
     },
     "execution_count": 123,
     "metadata": {},
     "output_type": "execute_result"
    }
   ],
   "source": [
    "test(5, 4)"
   ]
  },
  {
   "cell_type": "markdown",
   "metadata": {},
   "source": [
    "Using lambdas, we can do both `map()` and `filter()` in one line of code! Let's take another example. \n",
    "\n",
    "Here, we will filter out all numbers that are even, and then square them."
   ]
  },
  {
   "cell_type": "markdown",
   "metadata": {},
   "source": [
    "To filter all even numbers, we can use the remainder operator, or the **modulo operator** `%`. This is a mathematical concept, and isn't important to know in detail if you just want to learn how to get all even numbers in a list of integers. First, I will give a longer explanation. Then below, there will be a short TLDR version that only tells you how to check to see if numbers are odd, or even.\n",
    "\n",
    "**The long explanation:**\n",
    "\n",
    "A modulos is the number that defines the value limit in a modular arithmetic – an integer arithmetic in a circular number line. A common example is counting the time on a basic wrist watch, the hours goes up to twelve, then resets to 1 in cycles. On a watch, the modulus is 12 (or 24). \n",
    "\n",
    "The modulo operator returns what's left of a value compared to the modular limit. Let's return to the example with time on a watch again, and let's say you have a watch that counts the time in 12 hour intervals. Imagine that someone asks you if the time is 17 o'clock yet. The modulos operator is how we would check to see what that number – 17 – would be equal to _on your watch_. What is the integer 17 equal to if we're using a circular number line with the modulos 12? Well, let's have a look:"
   ]
  },
  {
   "cell_type": "code",
   "execution_count": 146,
   "metadata": {},
   "outputs": [
    {
     "data": {
      "text/plain": [
       "5"
      ]
     },
     "execution_count": 146,
     "metadata": {},
     "output_type": "execute_result"
    }
   ],
   "source": [
    "17 % 12"
   ]
  },
  {
   "cell_type": "markdown",
   "metadata": {},
   "source": [
    "It is 5! The answer is 5 o'clock! \n",
    "\n",
    "To go even further, if we would use a huge number, say 125, the modular operator would divide this number by the modular limit (12 in our case), then return what ever value that remains. Can you guess what the return is?"
   ]
  },
  {
   "cell_type": "code",
   "execution_count": 147,
   "metadata": {},
   "outputs": [
    {
     "data": {
      "text/plain": [
       "5"
      ]
     },
     "execution_count": 147,
     "metadata": {},
     "output_type": "execute_result"
    }
   ],
   "source": [
    "125 % 12"
   ]
  },
  {
   "cell_type": "markdown",
   "metadata": {},
   "source": [
    "This is why it's also called the **remainder operator**, it returns what remains. So, if we want to check if any number is either even or odd, we can just use the modulus 2! If the result is 0, this means that the number is evenly dividable by 2. If the result is 1, it isn't evenly dividable by 2 and, hence, an odd number. Let's try a few examples. Remember, all numbers that are even should return 0:"
   ]
  },
  {
   "cell_type": "code",
   "execution_count": 150,
   "metadata": {},
   "outputs": [
    {
     "data": {
      "text/plain": [
       "0"
      ]
     },
     "execution_count": 150,
     "metadata": {},
     "output_type": "execute_result"
    }
   ],
   "source": [
    "34 % 2 # even"
   ]
  },
  {
   "cell_type": "code",
   "execution_count": 151,
   "metadata": {},
   "outputs": [
    {
     "data": {
      "text/plain": [
       "1"
      ]
     },
     "execution_count": 151,
     "metadata": {},
     "output_type": "execute_result"
    }
   ],
   "source": [
    "33 % 2 # not even"
   ]
  },
  {
   "cell_type": "code",
   "execution_count": 152,
   "metadata": {},
   "outputs": [
    {
     "data": {
      "text/plain": [
       "1"
      ]
     },
     "execution_count": 152,
     "metadata": {},
     "output_type": "execute_result"
    }
   ],
   "source": [
    "4213 % 2"
   ]
  },
  {
   "cell_type": "code",
   "execution_count": 153,
   "metadata": {},
   "outputs": [
    {
     "data": {
      "text/plain": [
       "0"
      ]
     },
     "execution_count": 153,
     "metadata": {},
     "output_type": "execute_result"
    }
   ],
   "source": [
    "1214 % 2"
   ]
  },
  {
   "cell_type": "markdown",
   "metadata": {},
   "source": [
    "So to conclude:\n",
    "\n",
    "**HERE'S THE TLDR-VERSION**\n",
    "\n",
    "If we want to check if a number is odd or even, we take the number, followed by the modulos operator and a 2. If the result is 0, then the number in question is even. If it's 1 the number is odd:"
   ]
  },
  {
   "cell_type": "code",
   "execution_count": 155,
   "metadata": {},
   "outputs": [
    {
     "data": {
      "text/plain": [
       "1"
      ]
     },
     "execution_count": 155,
     "metadata": {},
     "output_type": "execute_result"
    }
   ],
   "source": [
    "3 % 2 # odd"
   ]
  },
  {
   "cell_type": "code",
   "execution_count": 157,
   "metadata": {},
   "outputs": [
    {
     "data": {
      "text/plain": [
       "1"
      ]
     },
     "execution_count": 157,
     "metadata": {},
     "output_type": "execute_result"
    }
   ],
   "source": [
    "43 % 2 # odd"
   ]
  },
  {
   "cell_type": "code",
   "execution_count": 158,
   "metadata": {},
   "outputs": [
    {
     "data": {
      "text/plain": [
       "0"
      ]
     },
     "execution_count": 158,
     "metadata": {},
     "output_type": "execute_result"
    }
   ],
   "source": [
    "12 % 2 # even"
   ]
  },
  {
   "cell_type": "markdown",
   "metadata": {},
   "source": [
    "**Back to the section subject – lambda functions**\n",
    "\n",
    "So, we can use lambdas to help us both filter AND map results onto a list. Let's try to only square the even numbers in tis list:"
   ]
  },
  {
   "cell_type": "code",
   "execution_count": 160,
   "metadata": {},
   "outputs": [],
   "source": [
    "numbers = list(range(20))"
   ]
  },
  {
   "cell_type": "code",
   "execution_count": 162,
   "metadata": {},
   "outputs": [
    {
     "data": {
      "text/plain": [
       "[0, 1, 2, 3, 4, 5, 6, 7, 8, 9, 10, 11, 12, 13, 14, 15, 16, 17, 18, 19]"
      ]
     },
     "execution_count": 162,
     "metadata": {},
     "output_type": "execute_result"
    }
   ],
   "source": [
    "numbers"
   ]
  },
  {
   "cell_type": "markdown",
   "metadata": {},
   "source": [
    "Ok! So we first want a lambda function that tells us if a number is even or not. To do so, we can use a comparison expression to see if the number mod by 2 is equal to 0. If that is `True`, it is an even number. Let me show you what I mean:"
   ]
  },
  {
   "cell_type": "code",
   "execution_count": 164,
   "metadata": {},
   "outputs": [
    {
     "data": {
      "text/plain": [
       "True"
      ]
     },
     "execution_count": 164,
     "metadata": {},
     "output_type": "execute_result"
    }
   ],
   "source": [
    "12 % 2 == 0 # 12 mod 2 equals 0 is True, which means that 12 is an even number!"
   ]
  },
  {
   "cell_type": "markdown",
   "metadata": {},
   "source": [
    "Let's put this pattern in a lambda function:"
   ]
  },
  {
   "cell_type": "code",
   "execution_count": 165,
   "metadata": {},
   "outputs": [
    {
     "data": {
      "text/plain": [
       "<function __main__.<lambda>(num)>"
      ]
     },
     "execution_count": 165,
     "metadata": {},
     "output_type": "execute_result"
    }
   ],
   "source": [
    "lambda num: num % 2 == 0"
   ]
  },
  {
   "cell_type": "markdown",
   "metadata": {},
   "source": [
    "Now, let's place this lambda in a `filter()` function and try it on our list:"
   ]
  },
  {
   "cell_type": "code",
   "execution_count": 169,
   "metadata": {},
   "outputs": [],
   "source": [
    "even_numbers = list(filter(lambda num: num % 2 == 0, numbers))"
   ]
  },
  {
   "cell_type": "code",
   "execution_count": 170,
   "metadata": {},
   "outputs": [
    {
     "data": {
      "text/plain": [
       "[0, 2, 4, 6, 8, 10, 12, 14, 16, 18]"
      ]
     },
     "execution_count": 170,
     "metadata": {},
     "output_type": "execute_result"
    }
   ],
   "source": [
    "even_numbers"
   ]
  },
  {
   "cell_type": "markdown",
   "metadata": {},
   "source": [
    "Success! Now, we want to square these even numbers with the `map()` function. But in the map function, we will also use a lambda:"
   ]
  },
  {
   "cell_type": "code",
   "execution_count": 168,
   "metadata": {},
   "outputs": [
    {
     "data": {
      "text/plain": [
       "<function __main__.<lambda>(num)>"
      ]
     },
     "execution_count": 168,
     "metadata": {},
     "output_type": "execute_result"
    }
   ],
   "source": [
    "lambda num: num ** 2"
   ]
  },
  {
   "cell_type": "markdown",
   "metadata": {},
   "source": [
    "Let's put it in a map function and use it on our even numbers:"
   ]
  },
  {
   "cell_type": "code",
   "execution_count": 171,
   "metadata": {},
   "outputs": [
    {
     "data": {
      "text/plain": [
       "[0, 4, 16, 36, 64, 100, 144, 196, 256, 324]"
      ]
     },
     "execution_count": 171,
     "metadata": {},
     "output_type": "execute_result"
    }
   ],
   "source": [
    "list(map(lambda num: num ** 2, even_numbers))"
   ]
  },
  {
   "cell_type": "markdown",
   "metadata": {},
   "source": [
    "Now, let's not save our filtered even numbers into a variable. We can actually just use lambdas and do the entire operation on one line of code:"
   ]
  },
  {
   "cell_type": "code",
   "execution_count": 172,
   "metadata": {},
   "outputs": [
    {
     "data": {
      "text/plain": [
       "[0, 4, 16, 36, 64, 100, 144, 196, 256, 324]"
      ]
     },
     "execution_count": 172,
     "metadata": {},
     "output_type": "execute_result"
    }
   ],
   "source": [
    "list(map(lambda num: num ** 2, list(filter(lambda num: num % 2 == 0, numbers))))"
   ]
  },
  {
   "cell_type": "markdown",
   "metadata": {},
   "source": [
    "Huh? What happend there?\n",
    "\n",
    "Let me break it down for you:\n",
    "\n",
    "we call the `map()` function, and we give it two arguments:\n",
    "1. a lambda function that squares numbers `lambda num: num ** 2`\n",
    "2. a list\n",
    "\n",
    "The second argument of our map function, the list, is actually the result of our `filter()` function. This function also has two arguments:\n",
    "1. a lambda function that returns True if a number is even `lambda num: num % 2 == 0`\n",
    "2. our variable `numbers` that contains 20 values (the integers 0 to 19)\n",
    "\n",
    "Both the `map()` and `filter()` functions are within `list()` functions so that they return actual lists and not map/filter objects.\n",
    "\n",
    "When we run this line of code, the interpreter first calls the filter function which uses its lambda calculation on all integer values within the `numbers` list and returns all even numbers. Then the `map()` function is called, which uses its lambda to square all these returned even numbers.\n",
    "\n",
    "Pretty cool! BUT, not very readable. The reason to show you this is more to let you see how to be flexible using lambda functions. This way of using it, makes our code rather messy. But it is possible!"
   ]
  },
  {
   "cell_type": "markdown",
   "metadata": {},
   "source": [
    "Let's move on to another coding pattern that also let's us map and filter at the same time. But that is both quicker to type and easier to understand – list comprehensions."
   ]
  },
  {
   "cell_type": "markdown",
   "metadata": {},
   "source": [
    "#### List comprehensions"
   ]
  },
  {
   "cell_type": "markdown",
   "metadata": {},
   "source": [
    "The `map()` and `filter()` functions are great to introduce you to how to manage and alter lists and other data structures in Python. Hopefully, you've realised how we can write more efficient and condence code, without sacrificing readability!\n",
    "\n",
    "Now, to build on this, we will learn a very VERY useful technique for quickly altering lists in Python – **list comprehensions**. This isn't a function, it is _a pattern_ you can use that works as a super fast mini for-loop.\n",
    "\n",
    "Let's start with the a normal for-loop. Let's return to our list where we want to square all numbers in the list:"
   ]
  },
  {
   "cell_type": "code",
   "execution_count": 73,
   "metadata": {},
   "outputs": [],
   "source": [
    "numbers = [1, 2, 3, 4, 5]"
   ]
  },
  {
   "cell_type": "markdown",
   "metadata": {},
   "source": [
    "Now, if we would like to create a new list with all these numbers squared, using only a for-loop, we can do so:"
   ]
  },
  {
   "cell_type": "code",
   "execution_count": 74,
   "metadata": {},
   "outputs": [],
   "source": [
    "squared_numbers = []\n",
    "for num in numbers:\n",
    "    squared_numbers.append(num ** 2)"
   ]
  },
  {
   "cell_type": "code",
   "execution_count": 75,
   "metadata": {},
   "outputs": [
    {
     "data": {
      "text/plain": [
       "[1, 4, 9, 16, 25]"
      ]
     },
     "execution_count": 75,
     "metadata": {},
     "output_type": "execute_result"
    }
   ],
   "source": [
    "squared_numbers"
   ]
  },
  {
   "cell_type": "markdown",
   "metadata": {},
   "source": [
    "**Let's break down the syntax of this for-loop:**\n",
    "\n",
    "We create the variable name `num` that is assigned to each value in the `numbers` list in each iteration. Then, in each sequence, we use that variable `num` – we square it and append it to our new list `squared_numbers`.\n",
    "\n",
    "So, in other words, for each `num` of all `num` we iterate over (in the list `numbers`), we square them. We could type this in another way:\n",
    "\n",
    "`num ** 2 for num in numbers`\n",
    "\n",
    "This would mean \"square `num` for each `num` you find in the list `numbers`\" \n",
    "\n",
    "Above is, in fact, the syntax for a list comprehension in Python. We just add parenthesis:"
   ]
  },
  {
   "cell_type": "code",
   "execution_count": 79,
   "metadata": {},
   "outputs": [
    {
     "data": {
      "text/plain": [
       "[1, 4, 9, 16, 25]"
      ]
     },
     "execution_count": 79,
     "metadata": {},
     "output_type": "execute_result"
    }
   ],
   "source": [
    "[num ** 2 for num in numbers]"
   ]
  },
  {
   "cell_type": "markdown",
   "metadata": {},
   "source": [
    "This list comprehension produce the exact same result as when we squared the list's values using `map()` earlier:"
   ]
  },
  {
   "cell_type": "code",
   "execution_count": 83,
   "metadata": {},
   "outputs": [],
   "source": [
    "def squared(num):\n",
    "    return num ** 2"
   ]
  },
  {
   "cell_type": "code",
   "execution_count": 84,
   "metadata": {},
   "outputs": [
    {
     "data": {
      "text/plain": [
       "[1, 4, 9, 16, 25]"
      ]
     },
     "execution_count": 84,
     "metadata": {},
     "output_type": "execute_result"
    }
   ],
   "source": [
    "list(map(squared, numbers))"
   ]
  },
  {
   "cell_type": "markdown",
   "metadata": {},
   "source": [
    "But instead of three lines of code and using all-in-all three functions, we can get the same result with just one line of code! Cool huh? \n",
    "\n",
    "The usual syntax that you will see if you google list comprehensions in Python is typing it like this, using `x` as the name of the list's values:"
   ]
  },
  {
   "cell_type": "code",
   "execution_count": 80,
   "metadata": {},
   "outputs": [
    {
     "data": {
      "text/plain": [
       "[1, 2, 3, 4, 5]"
      ]
     },
     "execution_count": 80,
     "metadata": {},
     "output_type": "execute_result"
    }
   ],
   "source": [
    "[x for x in numbers] # \"just return x for each x in the list 'numbers', please\""
   ]
  },
  {
   "cell_type": "markdown",
   "metadata": {},
   "source": [
    "...which just return the list, since we don't do anything with its values. List comprehensions always return a new list. And this is a one line piece of code that makes working with lists much much easier.\n",
    "\n",
    "This is not only way more condence and readable, it is also lightning fast. The list comprehension is almost three times faster than the for loop!\n",
    "\n",
    "We can also add a comparison expression to the list comprehension. Let's say we only want to return all negative numbers in this list:\n",
    "\n"
   ]
  },
  {
   "cell_type": "code",
   "execution_count": 126,
   "metadata": {},
   "outputs": [],
   "source": [
    "numbers = [2, 43, 310, -4, -23, 67, 11, -103]"
   ]
  },
  {
   "cell_type": "code",
   "execution_count": 127,
   "metadata": {},
   "outputs": [
    {
     "data": {
      "text/plain": [
       "[-4, -23, -103]"
      ]
     },
     "execution_count": 127,
     "metadata": {},
     "output_type": "execute_result"
    }
   ],
   "source": [
    "[x for x in numbers if x < 0]"
   ]
  },
  {
   "cell_type": "markdown",
   "metadata": {},
   "source": [
    "In the above list comprehension, we don't alter the values. But we conditioned it by adding the comparison expression `if x < 0`. This code means for give me each value in the list `numbers` – _if_ the value is below 0.\n",
    "\n",
    "This is the same result we would get if we used the `filter()` function we used in the above section:"
   ]
  },
  {
   "cell_type": "code",
   "execution_count": 128,
   "metadata": {},
   "outputs": [],
   "source": [
    "def is_negative(num):\n",
    "    return num < 0"
   ]
  },
  {
   "cell_type": "code",
   "execution_count": 129,
   "metadata": {},
   "outputs": [
    {
     "data": {
      "text/plain": [
       "[-4, -23, -103]"
      ]
     },
     "execution_count": 129,
     "metadata": {},
     "output_type": "execute_result"
    }
   ],
   "source": [
    "list(filter(is_negative, numbers))"
   ]
  },
  {
   "cell_type": "markdown",
   "metadata": {},
   "source": [
    "We can also combine the two techniques, so that our list comprehension functions as if we would use `map()` and `filter()` combined. Let's take the same list, and convert all the negative numbers into positive ones. We do so by multiplying with -1. Let's do so on a new list:"
   ]
  },
  {
   "cell_type": "code",
   "execution_count": 138,
   "metadata": {},
   "outputs": [],
   "source": [
    "numbers = [1, -2, -3, 4, -5, 6, 7, 8, -9, 10, -11, -12, 13, 14]"
   ]
  },
  {
   "cell_type": "code",
   "execution_count": 139,
   "metadata": {},
   "outputs": [
    {
     "data": {
      "text/plain": [
       "[2, 3, 5, 9, 11, 12]"
      ]
     },
     "execution_count": 139,
     "metadata": {},
     "output_type": "execute_result"
    }
   ],
   "source": [
    "[x * -1 for x in numbers if x < 0]"
   ]
  },
  {
   "cell_type": "markdown",
   "metadata": {},
   "source": [
    "You can actually have more than one comparison expression, if you include boolean operators. For instance, if we want to convert all negative numbers between 0 and -5 into positives, we can use `and`:"
   ]
  },
  {
   "cell_type": "code",
   "execution_count": 141,
   "metadata": {},
   "outputs": [
    {
     "data": {
      "text/plain": [
       "[2, 3]"
      ]
     },
     "execution_count": 141,
     "metadata": {},
     "output_type": "execute_result"
    }
   ],
   "source": [
    "[x * -1 for x in numbers if x < 0 and x > -5]"
   ]
  },
  {
   "cell_type": "markdown",
   "metadata": {},
   "source": [
    "Now we're getting close to one of the few things that are on the negative side of using list comprehensions. They are _extremly_ useful, but they tend to be rather complicated. Just because you can use many comparison expressions in your list comprehension, doesn't mean you should. Just remember that what you gain in efficiency, you may loose in readablility. \n",
    "\n",
    "A complicated list comprehension isn't very readable."
   ]
  },
  {
   "cell_type": "markdown",
   "metadata": {},
   "source": [
    "But all-in-all, list comprehensions are great! You should use them! :)"
   ]
  },
  {
   "cell_type": "markdown",
   "metadata": {},
   "source": [
    "#### Exercise – filter the EU member states, part 2"
   ]
  },
  {
   "cell_type": "markdown",
   "metadata": {},
   "source": [
    "Here, you shall do exactly the same thing as in the last exercise. But this time, use a list comprehension instead of the `filter()` function. In other words, use a list comprehension to filter out all dictionaries where the population is lower than 10 million.\n",
    "\n",
    "Here is the data:"
   ]
  },
  {
   "cell_type": "code",
   "execution_count": 100,
   "metadata": {},
   "outputs": [],
   "source": [
    "eu_members = [{'Country': 'Austria', 'population': 8901064},\n",
    " {'Country': 'Estonia', 'population': 1328976},\n",
    " {'Country': 'Ireland', 'population': 4963839},\n",
    " {'Country': 'Slovakia', 'population': 5457873},\n",
    " {'Country': 'Cyprus', 'population': 888005},\n",
    " {'Country': 'Sweden', 'population': 10327589},\n",
    " {'Country': 'Netherlands', 'population': 17407585},\n",
    " {'Country': 'Latvia', 'population': 1907675},\n",
    " {'Country': 'Malta', 'population': 514564},\n",
    " {'Country': 'Slovenia', 'population': 2095861},\n",
    " {'Country': 'France', 'population': 67098824},\n",
    " {'Country': 'Denmark', 'population': 5822763},\n",
    " {'Country': 'Croatia', 'population': 4058165},\n",
    " {'Country': 'Italy', 'population': 60244639},\n",
    " {'Country': 'Hungary', 'population': 9769526},\n",
    " {'Country': 'Lithuania', 'population': 2794090},\n",
    " {'Country': 'Czech Republic', 'population': 10693939},\n",
    " {'Country': 'Poland', 'population': 37958138},\n",
    " {'Country': 'Romania', 'population': 19317984},\n",
    " {'Country': 'Bulgaria', 'population': 6951482},\n",
    " {'Country': 'Finland', 'population': 552529},\n",
    " {'Country': 'Portugal', 'population': 10295909},\n",
    " {'Country': 'Greece', 'population': 10709739},\n",
    " {'Country': 'Belgium', 'population': 11549888},\n",
    " {'Country': 'Spain', 'population': 47329981},\n",
    " {'Country': 'Germany', 'population': 83166711},\n",
    " {'Country': 'Luxembourg', 'population': 626108}]"
   ]
  },
  {
   "cell_type": "markdown",
   "metadata": {},
   "source": [
    "As usual, the solution can be found in the solutions notebook. Good luck!"
   ]
  },
  {
   "cell_type": "markdown",
   "metadata": {},
   "source": [
    "### Pandas – basic concepts"
   ]
  },
  {
   "cell_type": "markdown",
   "metadata": {},
   "source": [
    "#### Introduction – built on `numpy`"
   ]
  },
  {
   "cell_type": "markdown",
   "metadata": {},
   "source": [
    "Pandas is a library that makes it very easy to work with data when using Python. It is originally based on another Python library, the `numpy` library. `numpy` is sort of a foundation for many modules and libraries used by data scientists. For example, `sklearn` (used for machine learning) and `scipy` (great for physicists!). \n",
    "\n",
    "The reason is (partly) because it allows very (very) fast and efficient operations on data structures. Instead of lists, it uses what is called numpy arrays, which is vastly more efficient to use than python lists. Let's import numpy and I'll show you. It is convention to import numpy as the alias `np`:"
   ]
  },
  {
   "cell_type": "code",
   "execution_count": 174,
   "metadata": {},
   "outputs": [],
   "source": [
    "import numpy as np"
   ]
  },
  {
   "cell_type": "markdown",
   "metadata": {},
   "source": [
    "We can create a numpy array by using the `.arange()` method:"
   ]
  },
  {
   "cell_type": "code",
   "execution_count": 183,
   "metadata": {},
   "outputs": [],
   "source": [
    "a = np.arange(10) # \"a\" for array!"
   ]
  },
  {
   "cell_type": "code",
   "execution_count": 184,
   "metadata": {},
   "outputs": [
    {
     "data": {
      "text/plain": [
       "array([0, 1, 2, 3, 4, 5, 6, 7, 8, 9])"
      ]
     },
     "execution_count": 184,
     "metadata": {},
     "output_type": "execute_result"
    }
   ],
   "source": [
    "a"
   ]
  },
  {
   "cell_type": "markdown",
   "metadata": {},
   "source": [
    "As you can see, it looks like a list, but with that \"array\" in front of it. This is a numpy array. Arrays has a long list of methods that are great to help you with computations on the array's values, like `.mean()` which returns the mean value of all values within the array:"
   ]
  },
  {
   "cell_type": "code",
   "execution_count": 185,
   "metadata": {},
   "outputs": [
    {
     "data": {
      "text/plain": [
       "4.5"
      ]
     },
     "execution_count": 185,
     "metadata": {},
     "output_type": "execute_result"
    }
   ],
   "source": [
    "a.mean()"
   ]
  },
  {
   "cell_type": "markdown",
   "metadata": {},
   "source": [
    "`.max()` and `.min()` which gives us the biggest and smallest value in the array:"
   ]
  },
  {
   "cell_type": "code",
   "execution_count": 187,
   "metadata": {},
   "outputs": [
    {
     "data": {
      "text/plain": [
       "9"
      ]
     },
     "execution_count": 187,
     "metadata": {},
     "output_type": "execute_result"
    }
   ],
   "source": [
    "a.max()"
   ]
  },
  {
   "cell_type": "code",
   "execution_count": 186,
   "metadata": {},
   "outputs": [
    {
     "data": {
      "text/plain": [
       "0"
      ]
     },
     "execution_count": 186,
     "metadata": {},
     "output_type": "execute_result"
    }
   ],
   "source": [
    "a.min()"
   ]
  },
  {
   "cell_type": "markdown",
   "metadata": {},
   "source": [
    "We can calculate the sum of the entire array with `.sum()`:"
   ]
  },
  {
   "cell_type": "code",
   "execution_count": 189,
   "metadata": {},
   "outputs": [
    {
     "data": {
      "text/plain": [
       "45"
      ]
     },
     "execution_count": 189,
     "metadata": {},
     "output_type": "execute_result"
    }
   ],
   "source": [
    "a.sum()"
   ]
  },
  {
   "cell_type": "markdown",
   "metadata": {},
   "source": [
    "Or, we could do the `.cumsum()` method which returns the cumulative sum of all values in the array:"
   ]
  },
  {
   "cell_type": "code",
   "execution_count": 188,
   "metadata": {},
   "outputs": [
    {
     "data": {
      "text/plain": [
       "array([ 0,  1,  3,  6, 10, 15, 21, 28, 36, 45])"
      ]
     },
     "execution_count": 188,
     "metadata": {},
     "output_type": "execute_result"
    }
   ],
   "source": [
    "a.cumsum()"
   ]
  },
  {
   "cell_type": "markdown",
   "metadata": {},
   "source": [
    "By showing you these methods, I'm trying to explain three things:\n",
    "1. there are really useful methods for data calculation in the numpy library\n",
    "2. these methods used above are also included in pandas\n",
    "3. these methods are not calculated value-by-value on the array, they are calculated on the array as whole in one go"
   ]
  },
  {
   "cell_type": "markdown",
   "metadata": {},
   "source": [
    "Let me elaborate on (3). Numpy arrays uses what's called **vectorisation**. I won't go into detail to what this is exactly, but basically – this means that your computer applies methods on the array as one whole. This means that, if we want to square all values in our array, we can just do this:"
   ]
  },
  {
   "cell_type": "code",
   "execution_count": 190,
   "metadata": {},
   "outputs": [
    {
     "data": {
      "text/plain": [
       "array([ 0,  1,  4,  9, 16, 25, 36, 49, 64, 81])"
      ]
     },
     "execution_count": 190,
     "metadata": {},
     "output_type": "execute_result"
    }
   ],
   "source": [
    "a ** 2"
   ]
  },
  {
   "cell_type": "markdown",
   "metadata": {},
   "source": [
    "Since Python consider the entire array to be one object, we can do arithmic operations on the array and it will be applied to all values within it! And because of this, it is also crazy fast.\n",
    "\n",
    "How fast? Well, we can have a look. Jupyter Notebooks have this extra functionality in their cells called \"[magic commands](https://ipython.readthedocs.io/en/stable/interactive/magics.html)\". They are typed at the top of the cells and always starts with `%`. To check how fast a code in a cell is, we can type `%%timeit` at the top of the cell, and our notebook will tell us how long its runtime was! It actually runs the code millions of times and then returns the average time it took to execute the cell's code. \n",
    "\n",
    "Using this magic, how fast does your computer calculate 2 + 2?"
   ]
  },
  {
   "cell_type": "code",
   "execution_count": 242,
   "metadata": {},
   "outputs": [
    {
     "name": "stdout",
     "output_type": "stream",
     "text": [
      "6.74 ns ± 0.137 ns per loop (mean ± std. dev. of 7 runs, 100000000 loops each)\n"
     ]
    }
   ],
   "source": [
    "%%timeit\n",
    "2 + 2 "
   ]
  },
  {
   "cell_type": "markdown",
   "metadata": {},
   "source": [
    "(For me) 6.74 nano seconds! Which is less than 7 billionth of a second. Let's use this magic command to see how fast creating a list of squared numbers from a Python list of ten values using a for-loop:"
   ]
  },
  {
   "cell_type": "code",
   "execution_count": 194,
   "metadata": {},
   "outputs": [],
   "source": [
    "numbers = list(range(10))"
   ]
  },
  {
   "cell_type": "code",
   "execution_count": 204,
   "metadata": {},
   "outputs": [
    {
     "name": "stdout",
     "output_type": "stream",
     "text": [
      "2.66 µs ± 101 ns per loop (mean ± std. dev. of 7 runs, 100000 loops each)\n"
     ]
    }
   ],
   "source": [
    "%%timeit\n",
    "squared = []\n",
    "for num in numbers:\n",
    "    squared.append(num ** 2)"
   ]
  },
  {
   "cell_type": "markdown",
   "metadata": {},
   "source": [
    "Ok, so (for me) 2.66 micro seconds, which is less than 3 millionth of a second. Let's try the same thing, but using a list comprehension instead:"
   ]
  },
  {
   "cell_type": "code",
   "execution_count": 205,
   "metadata": {},
   "outputs": [
    {
     "name": "stdout",
     "output_type": "stream",
     "text": [
      "2.42 µs ± 68.1 ns per loop (mean ± std. dev. of 7 runs, 100000 loops each)\n"
     ]
    }
   ],
   "source": [
    "%%timeit\n",
    "[x ** 2 for x in numbers]"
   ]
  },
  {
   "cell_type": "markdown",
   "metadata": {},
   "source": [
    "2.42 micro seconds using a list comprehension.\n",
    "\n",
    "Now, how fast is the same result using a numpy array?"
   ]
  },
  {
   "cell_type": "code",
   "execution_count": 206,
   "metadata": {},
   "outputs": [
    {
     "name": "stdout",
     "output_type": "stream",
     "text": [
      "553 ns ± 14.3 ns per loop (mean ± std. dev. of 7 runs, 1000000 loops each)\n"
     ]
    }
   ],
   "source": [
    "%%timeit\n",
    "a ** 2"
   ]
  },
  {
   "cell_type": "markdown",
   "metadata": {},
   "source": [
    "Doing the same operation with a `numpy` array took, in average, roughly half a micro second. That is around five times faster than the regular list operations used above. \n",
    "\n",
    "So, this is the reason why programmers in the data science community often use libraries based on numpy. The vectorized arrays makes it easier to do operations, and the speed of computation is essential when doing data analysis.\n",
    "\n",
    "I won't go into the nitty gritty about the `numpy` library any further. I will only say this. It is a library made for experts. It is built to satisfy theoretical problems regarding programming and data science. It is therefore, rather complicated. And that's why we have `pandas`!\n",
    "\n",
    "Pandas was originally developed in 2008 by the American software developer Wes McKinney. He created it while working for the global investment firm AQR Capital, out of need for a more practical tool to use while analysing financial data. It is sort of a friendlier and more easy to use version of numpy, with built in support for data visualisation.\n",
    "\n",
    "McKinney managed to convince AQR to make the library open-sourced before he left the firm. Today, it is managed by a big community of volunteers. And the popularity of pandas has completely exploded the past few years:"
   ]
  },
  {
   "cell_type": "markdown",
   "metadata": {},
   "source": [
    "<img src=\"../course_material/pandas_popularity.png\" style=\"width: 600px;\"/>"
   ]
  },
  {
   "cell_type": "markdown",
   "metadata": {},
   "source": [
    "In the chart, you can see how pandas started becoming popular in 2012, and then overtaking `numpy` in 2014-2015. More than 2.5 per cent of all questions asked on Stack Overflow concerns pandas. This means that there is A LOT of help online for those wanting to learn the library!\n",
    "\n",
    "Now, let's get into it! The main structures in pandas is the pandas equivalent to a numpy array, called \"series\". And its collection of series, called \"dataframes\". We will start with pandas series."
   ]
  },
  {
   "cell_type": "markdown",
   "metadata": {},
   "source": [
    "#### Pandas Series – `pd.Series()`"
   ]
  },
  {
   "cell_type": "markdown",
   "metadata": {},
   "source": [
    "The pandas series object is the main building block of the pandas library. They are numpy arrays, but with more built-in functionality. For example, pandas series has a customizable index. I will show you, but let's first do our imports. We're gonna import `pandas` as the alias `pd`, and we're also going to import `numpy` as `np`. We will use numpy to generate random data:"
   ]
  },
  {
   "cell_type": "code",
   "execution_count": 225,
   "metadata": {},
   "outputs": [],
   "source": [
    "import numpy as np\n",
    "import pandas as pd"
   ]
  },
  {
   "cell_type": "markdown",
   "metadata": {},
   "source": [
    "##### Vectorisation and uniform data types"
   ]
  },
  {
   "cell_type": "markdown",
   "metadata": {},
   "source": [
    "`numpy` has a `.randint()` method that helps us create arrays with random numbers. The first argument is the lowest possible integer in the array, the second the highest, and the third is how many random integers we want in the array:"
   ]
  },
  {
   "cell_type": "code",
   "execution_count": 226,
   "metadata": {},
   "outputs": [
    {
     "data": {
      "text/plain": [
       "array([ 9, 25,  4, 40, 24, 16, 49, 11, 31, 35,  3, 35, 15, 35, 49, 25, 16,\n",
       "       37, 44, 17])"
      ]
     },
     "execution_count": 226,
     "metadata": {},
     "output_type": "execute_result"
    }
   ],
   "source": [
    "np.random.seed(100) # this is just to make sure we're all getting the same random numbers :)\n",
    "np.random.randint(1, 50, 20)"
   ]
  },
  {
   "cell_type": "markdown",
   "metadata": {},
   "source": [
    "_(the `np.random.seed(100)` presets the randomization so that you and me get the same numbers running the `.randint()` method)_\n",
    "\n",
    "Let's save this array into a variable:"
   ]
  },
  {
   "cell_type": "code",
   "execution_count": 227,
   "metadata": {},
   "outputs": [],
   "source": [
    "np.random.seed(100)\n",
    "a = np.random.randint(1, 50, 20)"
   ]
  },
  {
   "cell_type": "code",
   "execution_count": 228,
   "metadata": {},
   "outputs": [
    {
     "data": {
      "text/plain": [
       "array([ 9, 25,  4, 40, 24, 16, 49, 11, 31, 35,  3, 35, 15, 35, 49, 25, 16,\n",
       "       37, 44, 17])"
      ]
     },
     "execution_count": 228,
     "metadata": {},
     "output_type": "execute_result"
    }
   ],
   "source": [
    "a"
   ]
  },
  {
   "cell_type": "markdown",
   "metadata": {},
   "source": [
    "Let's now convert our data into a pandas series. We do so by passing it to the `pd.Series` class:"
   ]
  },
  {
   "cell_type": "code",
   "execution_count": 230,
   "metadata": {},
   "outputs": [
    {
     "data": {
      "text/plain": [
       "0      9\n",
       "1     25\n",
       "2      4\n",
       "3     40\n",
       "4     24\n",
       "5     16\n",
       "6     49\n",
       "7     11\n",
       "8     31\n",
       "9     35\n",
       "10     3\n",
       "11    35\n",
       "12    15\n",
       "13    35\n",
       "14    49\n",
       "15    25\n",
       "16    16\n",
       "17    37\n",
       "18    44\n",
       "19    17\n",
       "dtype: int64"
      ]
     },
     "execution_count": 230,
     "metadata": {},
     "output_type": "execute_result"
    }
   ],
   "source": [
    "s = pd.Series(a) # this creates a new pandas series object\n",
    "s"
   ]
  },
  {
   "cell_type": "markdown",
   "metadata": {},
   "source": [
    "As you can see, there is immidiatly major differances compared to the numpy array. Besides the most obvious difference – the series is returned vertically – it has an index that is displayed together with our data points. The index consists of integers and starts at 0 and ends at 19. All series are zero indexed as a default, but this can be changed (more of this later).\n",
    "\n",
    "Also, at the bottom, below the series, there is information displayed showing the series data type `dtype: int64` (meaning: the series consists of 64 bit integers). We can also create series from scratch, using (as an example) basic python lists. We can also have different types of values in the list, like mixing integers and strings:"
   ]
  },
  {
   "cell_type": "code",
   "execution_count": 238,
   "metadata": {},
   "outputs": [],
   "source": [
    "basic_list = [10, 11, -2, \"Hello world!\", 401, 5]"
   ]
  },
  {
   "cell_type": "code",
   "execution_count": 239,
   "metadata": {},
   "outputs": [
    {
     "data": {
      "text/plain": [
       "0              10\n",
       "1              11\n",
       "2              -2\n",
       "3    Hello world!\n",
       "4             401\n",
       "5               5\n",
       "dtype: object"
      ]
     },
     "execution_count": 239,
     "metadata": {},
     "output_type": "execute_result"
    }
   ],
   "source": [
    "pd.Series(basic_list)"
   ]
  },
  {
   "cell_type": "markdown",
   "metadata": {},
   "source": [
    "As you can see, the information of the series datatype now changed into `dtype: object`. When I said that we can mix differnet types of values, that is semi-true. **If we mix any value type and string values in one pandas series, the entire series will be converted to strings.** A pandas series of strings is marked \"object\" in the `dtype: object` info below the series.\n",
    "\n",
    "Similarly, mixing floats with integers will convert the entire string into floats:"
   ]
  },
  {
   "cell_type": "code",
   "execution_count": 240,
   "metadata": {},
   "outputs": [
    {
     "data": {
      "text/plain": [
       "0    4.0\n",
       "1    3.0\n",
       "2    2.0\n",
       "3    1.0\n",
       "dtype: float64"
      ]
     },
     "execution_count": 240,
     "metadata": {},
     "output_type": "execute_result"
    }
   ],
   "source": [
    "pd.Series([4, 3, 2, 1.0])"
   ]
  },
  {
   "cell_type": "markdown",
   "metadata": {},
   "source": [
    "Why does this happen? When you create a pandas series out of a list of values, it will try to infer what value types there are within the list. The reason for why is because of _vectorisation_. \n",
    "\n",
    "Remember, pandas series are computed as a whole, as one object. Not a sequence of objects. But for this to be possible, all values within must be of the same value type. "
   ]
  },
  {
   "cell_type": "markdown",
   "metadata": {},
   "source": [
    "##### Boolean Selection"
   ]
  },
  {
   "cell_type": "markdown",
   "metadata": {},
   "source": [
    "Since pandas is built on numpy, we can also apply boolean selection on our series. Boolean selection is when we use the entire series in a comparison expression. Take this following example:"
   ]
  },
  {
   "cell_type": "code",
   "execution_count": 247,
   "metadata": {},
   "outputs": [],
   "source": [
    "numbers = [0, 1, -2, -3, 4, -5, 6, 7, 8, -9]"
   ]
  },
  {
   "cell_type": "code",
   "execution_count": 248,
   "metadata": {},
   "outputs": [],
   "source": [
    "s = pd.Series(numbers)"
   ]
  },
  {
   "cell_type": "code",
   "execution_count": 249,
   "metadata": {},
   "outputs": [
    {
     "data": {
      "text/plain": [
       "0    0\n",
       "1    1\n",
       "2   -2\n",
       "3   -3\n",
       "4    4\n",
       "5   -5\n",
       "6    6\n",
       "7    7\n",
       "8    8\n",
       "9   -9\n",
       "dtype: int64"
      ]
     },
     "execution_count": 249,
     "metadata": {},
     "output_type": "execute_result"
    }
   ],
   "source": [
    "s"
   ]
  },
  {
   "cell_type": "markdown",
   "metadata": {},
   "source": [
    "Now, let's try to see which values are less than 0:"
   ]
  },
  {
   "cell_type": "code",
   "execution_count": 250,
   "metadata": {},
   "outputs": [
    {
     "data": {
      "text/plain": [
       "0    False\n",
       "1    False\n",
       "2     True\n",
       "3     True\n",
       "4    False\n",
       "5     True\n",
       "6    False\n",
       "7    False\n",
       "8    False\n",
       "9     True\n",
       "dtype: bool"
      ]
     },
     "execution_count": 250,
     "metadata": {},
     "output_type": "execute_result"
    }
   ],
   "source": [
    "s < 0"
   ]
  },
  {
   "cell_type": "markdown",
   "metadata": {},
   "source": [
    "Not only can we use arithmic operators on our entire series, we can also use comparison operators on the entire series! But why is this useful?\n",
    "\n",
    "Consider the `filter()` function we used in a previous section. This is a way to filter lists based on some kind of condition that is provided through a function of some kind. In this example, let's try to filter out the negative values out of our series, using a lambda function:"
   ]
  },
  {
   "cell_type": "code",
   "execution_count": 252,
   "metadata": {},
   "outputs": [
    {
     "data": {
      "text/plain": [
       "0   -2\n",
       "1   -3\n",
       "2   -5\n",
       "3   -9\n",
       "dtype: int64"
      ]
     },
     "execution_count": 252,
     "metadata": {},
     "output_type": "execute_result"
    }
   ],
   "source": [
    "pd.Series(filter(lambda num: num < 0, s))"
   ]
  },
  {
   "cell_type": "markdown",
   "metadata": {},
   "source": [
    "So, first we have a `filter()` function which has two arguments: \n",
    "1. a lambda function that takes a number as an argument, and returns `True` if the number is negative \n",
    "2. a pandas series object, our series `s`\n",
    "\n",
    "The filter function returns a filter object that is then passed to the `pd.Series()` to return a filtered new series object. Now, this is neither very convenient, nor readable. It is complicated, slow, and ugly :)\n",
    "\n",
    "Fortunatly for us, pandas makes filtering A LOT easier. Let's go through it step by step!\n",
    "\n",
    "First of all, just like in regular Python lists, we can use index operators to have specific values returned from the series:"
   ]
  },
  {
   "cell_type": "code",
   "execution_count": 253,
   "metadata": {},
   "outputs": [
    {
     "data": {
      "text/plain": [
       "0"
      ]
     },
     "execution_count": 253,
     "metadata": {},
     "output_type": "execute_result"
    }
   ],
   "source": [
    "s[0]"
   ]
  },
  {
   "cell_type": "markdown",
   "metadata": {},
   "source": [
    "These indexes are, however, not the same indexing as regular lists uses. They are customizable, but more on that later. \n",
    "\n",
    "Boolean selection means that we can apply booleans within the index operators `[]` to tell the interpreter which values we want returned from the series. Let's use a very simple series as an example, and I'll use that to show you what I mean:"
   ]
  },
  {
   "cell_type": "code",
   "execution_count": 269,
   "metadata": {},
   "outputs": [],
   "source": [
    "short_s = pd.Series([10, 9, 8, 7])"
   ]
  },
  {
   "cell_type": "code",
   "execution_count": 270,
   "metadata": {},
   "outputs": [
    {
     "data": {
      "text/plain": [
       "0    10\n",
       "1     9\n",
       "2     8\n",
       "3     7\n",
       "dtype: int64"
      ]
     },
     "execution_count": 270,
     "metadata": {},
     "output_type": "execute_result"
    }
   ],
   "source": [
    "short_s"
   ]
  },
  {
   "cell_type": "markdown",
   "metadata": {},
   "source": [
    "Ok, we got this series `short_s` which contains only four integers. Using booleans to filter this series, we can pass a list of booleans to the index operators of `short_s`. All `True` values in that boolean list signifies that we want _that_ value returned:"
   ]
  },
  {
   "cell_type": "code",
   "execution_count": 271,
   "metadata": {},
   "outputs": [],
   "source": [
    "booleans = [False, False, False, True]"
   ]
  },
  {
   "cell_type": "markdown",
   "metadata": {},
   "source": [
    "Ok, so four booleans in a list. Only the last value in the list is `True`, all other are `False`. Let's pass this to the `short_s` series:"
   ]
  },
  {
   "cell_type": "code",
   "execution_count": 272,
   "metadata": {},
   "outputs": [
    {
     "data": {
      "text/plain": [
       "3    7\n",
       "dtype: int64"
      ]
     },
     "execution_count": 272,
     "metadata": {},
     "output_type": "execute_result"
    }
   ],
   "source": [
    "short_s[booleans]"
   ]
  },
  {
   "cell_type": "markdown",
   "metadata": {},
   "source": [
    "This _only_ returns the last value in the series, since it was only the last value in our boolean list that was True. But if we make them all `True`:"
   ]
  },
  {
   "cell_type": "code",
   "execution_count": 273,
   "metadata": {},
   "outputs": [
    {
     "data": {
      "text/plain": [
       "0    10\n",
       "1     9\n",
       "2     8\n",
       "3     7\n",
       "dtype: int64"
      ]
     },
     "execution_count": 273,
     "metadata": {},
     "output_type": "execute_result"
    }
   ],
   "source": [
    "booleans = [True, True, True, True]\n",
    "short_s[booleans]"
   ]
  },
  {
   "cell_type": "markdown",
   "metadata": {},
   "source": [
    "It returns all values in the series. This is boolean selection, we select which values we want from the series by giving it a list of booleans. \n",
    "\n",
    "(Note that the list of booleans needs to be the same length as the series, otherwise you will get an error)\n",
    "\n",
    "Ok, so **why is this convenient?** Typing lists of booleans doesn't seem that efficient... Well, it is when we combine this functionality with series vectorisation that it truly shines. How do we quickly get a list of booleans that we can use to filter our series? By using comparison operators on the series itself, let's return to the series `s` and get booleans marking of all negative values:"
   ]
  },
  {
   "cell_type": "code",
   "execution_count": 274,
   "metadata": {},
   "outputs": [
    {
     "data": {
      "text/plain": [
       "0    False\n",
       "1    False\n",
       "2     True\n",
       "3     True\n",
       "4    False\n",
       "5     True\n",
       "6    False\n",
       "7    False\n",
       "8    False\n",
       "9     True\n",
       "dtype: bool"
      ]
     },
     "execution_count": 274,
     "metadata": {},
     "output_type": "execute_result"
    }
   ],
   "source": [
    "s < 0"
   ]
  },
  {
   "cell_type": "markdown",
   "metadata": {},
   "source": [
    "See? A list of booleans! Let's put that within the index operators of our series `s`:"
   ]
  },
  {
   "cell_type": "code",
   "execution_count": 275,
   "metadata": {},
   "outputs": [
    {
     "data": {
      "text/plain": [
       "2   -2\n",
       "3   -3\n",
       "5   -5\n",
       "9   -9\n",
       "dtype: int64"
      ]
     },
     "execution_count": 275,
     "metadata": {},
     "output_type": "execute_result"
    }
   ],
   "source": [
    "s[s < 0]"
   ]
  },
  {
   "cell_type": "markdown",
   "metadata": {},
   "source": [
    "Magic!! Cool isn't it!? Compare that to the filter function technique we used earlier:"
   ]
  },
  {
   "cell_type": "code",
   "execution_count": 276,
   "metadata": {},
   "outputs": [
    {
     "data": {
      "text/plain": [
       "0   -2\n",
       "1   -3\n",
       "2   -5\n",
       "3   -9\n",
       "dtype: int64"
      ]
     },
     "execution_count": 276,
     "metadata": {},
     "output_type": "execute_result"
    }
   ],
   "source": [
    "pd.Series(filter(lambda num: num < 0, s))"
   ]
  },
  {
   "cell_type": "markdown",
   "metadata": {},
   "source": [
    "Which one would you consider more readable? More easy to use? :)\n",
    "\n",
    "Let's get all even numbers within the series, but for comparison's sake, using a list comprehension:"
   ]
  },
  {
   "cell_type": "code",
   "execution_count": 277,
   "metadata": {},
   "outputs": [
    {
     "data": {
      "text/plain": [
       "[0, -2, 4, 6, 8]"
      ]
     },
     "execution_count": 277,
     "metadata": {},
     "output_type": "execute_result"
    }
   ],
   "source": [
    "[x for x in s if x % 2 == 0]"
   ]
  },
  {
   "cell_type": "markdown",
   "metadata": {},
   "source": [
    "Using boolean selection:"
   ]
  },
  {
   "cell_type": "code",
   "execution_count": 278,
   "metadata": {},
   "outputs": [
    {
     "data": {
      "text/plain": [
       "0    0\n",
       "2   -2\n",
       "4    4\n",
       "6    6\n",
       "8    8\n",
       "dtype: int64"
      ]
     },
     "execution_count": 278,
     "metadata": {},
     "output_type": "execute_result"
    }
   ],
   "source": [
    "s[s % 2 == 0]"
   ]
  },
  {
   "cell_type": "markdown",
   "metadata": {},
   "source": [
    "We can combine two or more boolean selectors for filtering our series as well. Let's say we want to filter all even numbers, but only those that if you square them, the result is above 30. So two boolean selectors, let's take them one by one, and then combine them:"
   ]
  },
  {
   "cell_type": "code",
   "execution_count": 281,
   "metadata": {},
   "outputs": [
    {
     "data": {
      "text/plain": [
       "6    6\n",
       "7    7\n",
       "8    8\n",
       "9   -9\n",
       "dtype: int64"
      ]
     },
     "execution_count": 281,
     "metadata": {},
     "output_type": "execute_result"
    }
   ],
   "source": [
    "s[s ** 2 > 30] # 6 * 6 is 36, hence bigger than 30; 7 * 7 is 42 etc..."
   ]
  },
  {
   "cell_type": "code",
   "execution_count": 282,
   "metadata": {},
   "outputs": [
    {
     "data": {
      "text/plain": [
       "0    0\n",
       "2   -2\n",
       "4    4\n",
       "6    6\n",
       "8    8\n",
       "dtype: int64"
      ]
     },
     "execution_count": 282,
     "metadata": {},
     "output_type": "execute_result"
    }
   ],
   "source": [
    "s[s % 2 == 0] # this one we already know what it does"
   ]
  },
  {
   "cell_type": "markdown",
   "metadata": {},
   "source": [
    "So we got two boolean selectors: `s ** 2 > 30` and `s % 2 == 0`. We combine boolean selectors by putting them within parenthesis and then seperating them with a `&` character:"
   ]
  },
  {
   "cell_type": "code",
   "execution_count": 284,
   "metadata": {},
   "outputs": [
    {
     "data": {
      "text/plain": [
       "6    6\n",
       "8    8\n",
       "dtype: int64"
      ]
     },
     "execution_count": 284,
     "metadata": {},
     "output_type": "execute_result"
    }
   ],
   "source": [
    "# give us all values that are even, AND that are greater than 30 if we square them:\n",
    "s[(s ** 2 > 30) & (s % 2 == 0)] "
   ]
  },
  {
   "cell_type": "markdown",
   "metadata": {},
   "source": [
    "But what if we just want _either_ all even numbers, _or_ all values greater than 30 if we square them. How would we do that? Well, instead of the `&` character (equivalent to Pythons `and` boolean operator) we can type the pipe character `|` (equivalent to Pythons `or` boolean operator):"
   ]
  },
  {
   "cell_type": "code",
   "execution_count": 285,
   "metadata": {},
   "outputs": [
    {
     "data": {
      "text/plain": [
       "0    0\n",
       "2   -2\n",
       "4    4\n",
       "6    6\n",
       "7    7\n",
       "8    8\n",
       "9   -9\n",
       "dtype: int64"
      ]
     },
     "execution_count": 285,
     "metadata": {},
     "output_type": "execute_result"
    }
   ],
   "source": [
    "# give us all values that are even, OR that are greater than 30 if we square them:\n",
    "s[(s ** 2 > 30) | (s % 2 == 0)] "
   ]
  },
  {
   "cell_type": "markdown",
   "metadata": {},
   "source": [
    "By now, you can hopefully see the extraordinary power that boolean selection and filtering pose when working with data. We will use this frequently moving forward, so hopefully you grasp _how to use it_!\n",
    "\n",
    "Now, let's get into some useful pandas series methods."
   ]
  },
  {
   "cell_type": "markdown",
   "metadata": {},
   "source": [
    "##### Helpful methods"
   ]
  },
  {
   "cell_type": "markdown",
   "metadata": {},
   "source": [
    "Ok, some of these we already covered when briefly discussing `numpy`. Since pandas builds on numpy, many of the methods that can be used on numpy arrays can also be used on pandas series. Let's create a series of data before moving on:"
   ]
  },
  {
   "cell_type": "code",
   "execution_count": 301,
   "metadata": {},
   "outputs": [],
   "source": [
    "np.random.seed(100)\n",
    "s = np.random.randint(1, 50, 20) # give me 20 random numbers between 1 and 50"
   ]
  },
  {
   "cell_type": "code",
   "execution_count": 302,
   "metadata": {},
   "outputs": [],
   "source": [
    "s = pd.Series(s)"
   ]
  },
  {
   "cell_type": "markdown",
   "metadata": {},
   "source": [
    "Let's start with the basic ones we used on our numpy arrays above. These all only work on numerical values:"
   ]
  },
  {
   "cell_type": "code",
   "execution_count": 303,
   "metadata": {},
   "outputs": [
    {
     "data": {
      "text/plain": [
       "3"
      ]
     },
     "execution_count": 303,
     "metadata": {},
     "output_type": "execute_result"
    }
   ],
   "source": [
    "s.min() # returns the lowest value"
   ]
  },
  {
   "cell_type": "code",
   "execution_count": 304,
   "metadata": {},
   "outputs": [
    {
     "data": {
      "text/plain": [
       "49"
      ]
     },
     "execution_count": 304,
     "metadata": {},
     "output_type": "execute_result"
    }
   ],
   "source": [
    "s.max() # returns the highest value"
   ]
  },
  {
   "cell_type": "code",
   "execution_count": 305,
   "metadata": {},
   "outputs": [
    {
     "data": {
      "text/plain": [
       "26.0"
      ]
     },
     "execution_count": 305,
     "metadata": {},
     "output_type": "execute_result"
    }
   ],
   "source": [
    "s.mean() # returns the mean value of the whole series"
   ]
  },
  {
   "cell_type": "code",
   "execution_count": 306,
   "metadata": {},
   "outputs": [
    {
     "data": {
      "text/plain": [
       "520"
      ]
     },
     "execution_count": 306,
     "metadata": {},
     "output_type": "execute_result"
    }
   ],
   "source": [
    "s.sum() # returns the sum of the whole series"
   ]
  },
  {
   "cell_type": "code",
   "execution_count": 307,
   "metadata": {},
   "outputs": [
    {
     "data": {
      "text/plain": [
       "0       9\n",
       "1      34\n",
       "2      38\n",
       "3      78\n",
       "4     102\n",
       "5     118\n",
       "6     167\n",
       "7     178\n",
       "8     209\n",
       "9     244\n",
       "10    247\n",
       "11    282\n",
       "12    297\n",
       "13    332\n",
       "14    381\n",
       "15    406\n",
       "16    422\n",
       "17    459\n",
       "18    503\n",
       "19    520\n",
       "dtype: int64"
      ]
     },
     "execution_count": 307,
     "metadata": {},
     "output_type": "execute_result"
    }
   ],
   "source": [
    "s.cumsum() # returns a new series with the cumulative summarisation of the series"
   ]
  },
  {
   "cell_type": "code",
   "execution_count": 308,
   "metadata": {},
   "outputs": [
    {
     "data": {
      "text/plain": [
       "14.330681109166848"
      ]
     },
     "execution_count": 308,
     "metadata": {},
     "output_type": "execute_result"
    }
   ],
   "source": [
    "s.std() # returns the standard diviation of the series"
   ]
  },
  {
   "cell_type": "markdown",
   "metadata": {},
   "source": [
    "But there is also methods to provide an overview of the serie's data. For example, we can use the `.describe()` method to get an overview of all above operations:"
   ]
  },
  {
   "cell_type": "code",
   "execution_count": 311,
   "metadata": {},
   "outputs": [
    {
     "data": {
      "text/plain": [
       "count    20.000000\n",
       "mean     26.000000\n",
       "std      14.330681\n",
       "min       3.000000\n",
       "25%      15.750000\n",
       "50%      25.000000\n",
       "75%      35.500000\n",
       "max      49.000000\n",
       "dtype: float64"
      ]
     },
     "execution_count": 311,
     "metadata": {},
     "output_type": "execute_result"
    }
   ],
   "source": [
    "s.describe()"
   ]
  },
  {
   "cell_type": "markdown",
   "metadata": {},
   "source": [
    "We can use the `.value_counts()` method to see how many occurances there are of all values wihtin the series:"
   ]
  },
  {
   "cell_type": "code",
   "execution_count": 313,
   "metadata": {},
   "outputs": [
    {
     "data": {
      "text/plain": [
       "35    3\n",
       "25    2\n",
       "49    2\n",
       "16    2\n",
       "31    1\n",
       "3     1\n",
       "24    1\n",
       "15    1\n",
       "44    1\n",
       "11    1\n",
       "9     1\n",
       "40    1\n",
       "17    1\n",
       "37    1\n",
       "4     1\n",
       "dtype: int64"
      ]
     },
     "execution_count": 313,
     "metadata": {},
     "output_type": "execute_result"
    }
   ],
   "source": [
    "s.value_counts() # the value 35 occurs 3 times in the series"
   ]
  },
  {
   "cell_type": "markdown",
   "metadata": {},
   "source": [
    "The `.unique()` method returns an numpy array of all unique values within the series:"
   ]
  },
  {
   "cell_type": "code",
   "execution_count": 314,
   "metadata": {},
   "outputs": [
    {
     "data": {
      "text/plain": [
       "array([ 9, 25,  4, 40, 24, 16, 49, 11, 31, 35,  3, 15, 37, 44, 17])"
      ]
     },
     "execution_count": 314,
     "metadata": {},
     "output_type": "execute_result"
    }
   ],
   "source": [
    "s.unique()"
   ]
  },
  {
   "cell_type": "markdown",
   "metadata": {},
   "source": [
    "The length of the series is returned by the `.count()` method:"
   ]
  },
  {
   "cell_type": "code",
   "execution_count": 316,
   "metadata": {},
   "outputs": [
    {
     "data": {
      "text/plain": [
       "20"
      ]
     },
     "execution_count": 316,
     "metadata": {},
     "output_type": "execute_result"
    }
   ],
   "source": [
    "s.count()"
   ]
  },
  {
   "cell_type": "markdown",
   "metadata": {},
   "source": [
    "We can also use methods to change the values within the series, like convert their data types. Here converting all values into strings, using the `.astype()` method (note that the `dtype` info below changes to `dtype: object`):"
   ]
  },
  {
   "cell_type": "code",
   "execution_count": 315,
   "metadata": {},
   "outputs": [
    {
     "data": {
      "text/plain": [
       "0      9\n",
       "1     25\n",
       "2      4\n",
       "3     40\n",
       "4     24\n",
       "5     16\n",
       "6     49\n",
       "7     11\n",
       "8     31\n",
       "9     35\n",
       "10     3\n",
       "11    35\n",
       "12    15\n",
       "13    35\n",
       "14    49\n",
       "15    25\n",
       "16    16\n",
       "17    37\n",
       "18    44\n",
       "19    17\n",
       "dtype: object"
      ]
     },
     "execution_count": 315,
     "metadata": {},
     "output_type": "execute_result"
    }
   ],
   "source": [
    "s.astype('str')"
   ]
  },
  {
   "cell_type": "code",
   "execution_count": null,
   "metadata": {},
   "outputs": [],
   "source": []
  },
  {
   "cell_type": "code",
   "execution_count": null,
   "metadata": {},
   "outputs": [],
   "source": []
  },
  {
   "cell_type": "code",
   "execution_count": null,
   "metadata": {},
   "outputs": [],
   "source": []
  },
  {
   "cell_type": "code",
   "execution_count": null,
   "metadata": {},
   "outputs": [],
   "source": []
  },
  {
   "cell_type": "code",
   "execution_count": null,
   "metadata": {},
   "outputs": [],
   "source": []
  },
  {
   "cell_type": "code",
   "execution_count": null,
   "metadata": {},
   "outputs": [],
   "source": []
  }
 ],
 "metadata": {
  "kernelspec": {
   "display_name": "Python 3",
   "language": "python",
   "name": "python3"
  },
  "language_info": {
   "codemirror_mode": {
    "name": "ipython",
    "version": 3
   },
   "file_extension": ".py",
   "mimetype": "text/x-python",
   "name": "python",
   "nbconvert_exporter": "python",
   "pygments_lexer": "ipython3",
   "version": "3.8.5"
  },
  "toc": {
   "base_numbering": "4",
   "nav_menu": {},
   "number_sections": true,
   "sideBar": true,
   "skip_h1_title": true,
   "title_cell": "Table of Contents",
   "title_sidebar": "Contents",
   "toc_cell": true,
   "toc_position": {},
   "toc_section_display": true,
   "toc_window_display": false
  }
 },
 "nbformat": 4,
 "nbformat_minor": 4
}
