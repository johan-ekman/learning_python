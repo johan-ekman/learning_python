{
 "cells": [
  {
   "cell_type": "markdown",
   "metadata": {},
   "source": [
    "# Practical Python – Learning useful python skills"
   ]
  },
  {
   "cell_type": "markdown",
   "metadata": {
    "toc": true
   },
   "source": [
    "<h1>Table of Contents<span class=\"tocSkip\"></span></h1>\n",
    "<div class=\"toc\"><ul class=\"toc-item\"><li><span><a href=\"#Files\" data-toc-modified-id=\"Files-1\"><span class=\"toc-item-num\">1&nbsp;&nbsp;</span>Files</a></span><ul class=\"toc-item\"><li><span><a href=\"#Paths\" data-toc-modified-id=\"Paths-1.1\"><span class=\"toc-item-num\">1.1&nbsp;&nbsp;</span>Paths</a></span><ul class=\"toc-item\"><li><span><a href=\"#Absolute-paths\" data-toc-modified-id=\"Absolute-paths-1.1.1\"><span class=\"toc-item-num\">1.1.1&nbsp;&nbsp;</span>Absolute paths</a></span></li><li><span><a href=\"#The-pathlib-module\" data-toc-modified-id=\"The-pathlib-module-1.1.2\"><span class=\"toc-item-num\">1.1.2&nbsp;&nbsp;</span>The <code>pathlib</code> module</a></span><ul class=\"toc-item\"><li><span><a href=\"#Path-objects'-special-syntax\" data-toc-modified-id=\"Path-objects'-special-syntax-1.1.2.1\"><span class=\"toc-item-num\">1.1.2.1&nbsp;&nbsp;</span>Path objects' special syntax</a></span></li></ul></li><li><span><a href=\"#Relative-paths\" data-toc-modified-id=\"Relative-paths-1.1.3\"><span class=\"toc-item-num\">1.1.3&nbsp;&nbsp;</span>Relative paths</a></span></li></ul></li><li><span><a href=\"#Opening-files\" data-toc-modified-id=\"Opening-files-1.2\"><span class=\"toc-item-num\">1.2&nbsp;&nbsp;</span>Opening files</a></span><ul class=\"toc-item\"><li><span><a href=\"#Reading-files\" data-toc-modified-id=\"Reading-files-1.2.1\"><span class=\"toc-item-num\">1.2.1&nbsp;&nbsp;</span>Reading files</a></span><ul class=\"toc-item\"><li><span><a href=\"#Reading-binary-files\" data-toc-modified-id=\"Reading-binary-files-1.2.1.1\"><span class=\"toc-item-num\">1.2.1.1&nbsp;&nbsp;</span>Reading binary files</a></span></li></ul></li><li><span><a href=\"#Creating-files-and-directories\" data-toc-modified-id=\"Creating-files-and-directories-1.2.2\"><span class=\"toc-item-num\">1.2.2&nbsp;&nbsp;</span>Creating files and directories</a></span></li></ul></li></ul></li></ul></div>"
   ]
  },
  {
   "cell_type": "markdown",
   "metadata": {},
   "source": [
    "**Introduction**"
   ]
  },
  {
   "cell_type": "markdown",
   "metadata": {},
   "source": [
    "If you've made it this far, congratulations! You have learned most of the basics in the Python programming language! The first two notebooks in this course focuses mainly on understanding the foundations of Python. This notebook is where we start learning more of how to use Python to do useful things. \n",
    "\n",
    "So what's useful? Consider the following: you work at some company. You have just been handed a USB stick with ten thousand pdf files. These files have a date in their names, such as `rec20200414.pdf` (i.e. April 14, 2020) . The files are photocopies of receipts. On each receipt there is a name of the employed person at your company that has created the file. \n",
    "\n",
    "Your task is to see:\n",
    "\n",
    "- Who are the employed that have created all the receipts?\n",
    "- How many receipts are created per employée?\n",
    "- How many receipts are there per employée, per month?\n",
    "\n",
    "Now, we _could_ do this by hand. Reading all files ourselves and typing the information by hand into an Excel spreadsheet. But this would, firstly, take weeks. Secondly, be incredably boring. And, thirdly, probably (because the assignement's been so tedious and boring) be riddled with errors.\n",
    "\n",
    "However, this is actually a perfect example of a task that is easily solved with Python! Here's a task list of what we could do: \n",
    "- Create a list of all the files\n",
    "- Create a script that extract the name from a pdf receipt\n",
    "- Loop over all files \n",
    "\n",
    "And on each file in our loop:\n",
    "1. Run our script on each one of the pdf files\n",
    "2. Extract date from file name\n",
    "3. Save the name and the date into a data structure\n",
    "\n",
    "In this course, you will learn to do all task in above task list! But let's take it step by step, and start with learning about filepaths. Then how to create, remove and alter files on our computer using python. We will also learn the basics of regular expressions, or text recognition. And finally, some webscraping basics."
   ]
  },
  {
   "cell_type": "markdown",
   "metadata": {},
   "source": [
    "## Files"
   ]
  },
  {
   "cell_type": "markdown",
   "metadata": {},
   "source": [
    "All files on your computer have these three componants: a name (this notebook, for instance, is called `continuation_course`), a file extension (Jupyter Notebooks have the extension `.ipynb`, textfiles `.txt`, Microsoft Word has `.doc`, etc etc…), and a path – the file's location on your harddrive."
   ]
  },
  {
   "cell_type": "markdown",
   "metadata": {},
   "source": [
    "### Paths"
   ]
  },
  {
   "cell_type": "markdown",
   "metadata": {},
   "source": [
    "As mentioned above, all files have a path. This lets us know where it is located on the computer's hard drive. All folders – also called directories – also have paths. There are two kinds of paths: **relative** and **absolute**. We'll start with the absolute, and continue with the relative further down. "
   ]
  },
  {
   "cell_type": "markdown",
   "metadata": {},
   "source": [
    "#### Absolute paths"
   ]
  },
  {
   "cell_type": "markdown",
   "metadata": {},
   "source": [
    "An absolute path is a file's location in relation to your hard drive's root folder. The root folder – or **root directory** –  is the top level of your hard drive. All files and folders are inside this directory. "
   ]
  },
  {
   "cell_type": "markdown",
   "metadata": {},
   "source": [
    "If you use Windows, you probably recognise your root directory when you see it. It's the `C:\\` when you check your hard drive folders. See this picture:"
   ]
  },
  {
   "cell_type": "markdown",
   "metadata": {},
   "source": [
    "![image](course_material/windows_root.png)"
   ]
  },
  {
   "cell_type": "markdown",
   "metadata": {},
   "source": [
    "On Mac/Linux, the root directory is just named `/`. Pretty lame, but there you go.\n",
    "\n",
    "Another important difference is the **directory separator**, the slash. On Windows, this is a backslash `\\`, while on Mac/Linux, it's just a regular slash `/`."
   ]
  },
  {
   "cell_type": "markdown",
   "metadata": {},
   "source": [
    "This notebook you're running, is located somewhere on your computer's hard drive. This location can be found when checking the file's absolute path. Or to be more precise: we can check where this notebook \"lives\" within your root directory! We could use the `os` module to check the absolute path:"
   ]
  },
  {
   "cell_type": "code",
   "execution_count": 52,
   "metadata": {},
   "outputs": [],
   "source": [
    "import os"
   ]
  },
  {
   "cell_type": "code",
   "execution_count": 53,
   "metadata": {},
   "outputs": [
    {
     "data": {
      "text/plain": [
       "'/Users/johekm/Documents/lectures/learning_python'"
      ]
     },
     "execution_count": 53,
     "metadata": {},
     "output_type": "execute_result"
    }
   ],
   "source": [
    "os.getcwd()"
   ]
  },
  {
   "cell_type": "markdown",
   "metadata": {},
   "source": [
    "So for me, this notebook has this path: `'/Users/johekm/Documents/lectures/learning_python'`. It lives in the folder `learning_python`, which is in the folder `lectures`, which is in `Documents`, which is in my user profile `johekm`, and so forth all the way to the root directory. \n",
    "\n",
    "This notebook's name is `continuation_course.ipynb`, which means that its absolute path is:\n",
    "\n",
    "`'/Users/johekm/Documents/lectures/learning_python'/continuation_course.ipynb'`\n",
    "\n",
    "If this was a Windows laptop, it would look something like:\n",
    "\n",
    "`'C:\\Users\\johekm\\Documents\\lectures\\learning_python\\continuation_course.ipynb'`\n",
    "\n"
   ]
  },
  {
   "cell_type": "markdown",
   "metadata": {},
   "source": [
    "All absolute paths have the root directory to the left. That is, **absolute paths always starts with the root directory**. The directory or the file we're looking for is furthest to the right in the path. So in above examples, we point towards the file `continuation_course.ipynb`, since it is to the right in the path. \n",
    "\n",
    "We can also use the `.isabs()` method on our path. It takes a string value and sees if it's a absolute path on our computer:"
   ]
  },
  {
   "cell_type": "code",
   "execution_count": 54,
   "metadata": {},
   "outputs": [
    {
     "data": {
      "text/plain": [
       "True"
      ]
     },
     "execution_count": 54,
     "metadata": {},
     "output_type": "execute_result"
    }
   ],
   "source": [
    "os.path.isabs('/Users/johekm/Documents/lectures/learning_python/continuation_course.ipynb')"
   ]
  },
  {
   "cell_type": "markdown",
   "metadata": {},
   "source": [
    "As you can see, the `os` module takes string values as arguments. It also returns paths as string values:"
   ]
  },
  {
   "cell_type": "code",
   "execution_count": 55,
   "metadata": {},
   "outputs": [
    {
     "data": {
      "text/plain": [
       "str"
      ]
     },
     "execution_count": 55,
     "metadata": {},
     "output_type": "execute_result"
    }
   ],
   "source": [
    "type(os.getcwd())"
   ]
  },
  {
   "cell_type": "markdown",
   "metadata": {},
   "source": [
    "This means that we can use the `.join()` method on our directory separator character (`/` on Mac/Linux, `\\` on Windows), to get strings with paths! So on on my current running absolute path I could do this:"
   ]
  },
  {
   "cell_type": "code",
   "execution_count": 58,
   "metadata": {},
   "outputs": [],
   "source": [
    "my_path = ['','Users','johekm','Documents','lectures','learning_python','continuation_course.ipynb']"
   ]
  },
  {
   "cell_type": "code",
   "execution_count": 59,
   "metadata": {},
   "outputs": [
    {
     "data": {
      "text/plain": [
       "['',\n",
       " 'Users',\n",
       " 'johekm',\n",
       " 'Documents',\n",
       " 'lectures',\n",
       " 'learning_python',\n",
       " 'continuation_course.ipynb']"
      ]
     },
     "execution_count": 59,
     "metadata": {},
     "output_type": "execute_result"
    }
   ],
   "source": [
    "my_path"
   ]
  },
  {
   "cell_type": "code",
   "execution_count": 60,
   "metadata": {},
   "outputs": [],
   "source": [
    "my_path = '/'.join(my_path) # see section 9.9.2 if you want a refreasher!"
   ]
  },
  {
   "cell_type": "code",
   "execution_count": 61,
   "metadata": {},
   "outputs": [
    {
     "data": {
      "text/plain": [
       "'/Users/johekm/Documents/lectures/learning_python/continuation_course.ipynb'"
      ]
     },
     "execution_count": 61,
     "metadata": {},
     "output_type": "execute_result"
    }
   ],
   "source": [
    "my_path"
   ]
  },
  {
   "cell_type": "code",
   "execution_count": 62,
   "metadata": {},
   "outputs": [
    {
     "data": {
      "text/plain": [
       "True"
      ]
     },
     "execution_count": 62,
     "metadata": {},
     "output_type": "execute_result"
    }
   ],
   "source": [
    "os.path.isabs(my_path)"
   ]
  },
  {
   "cell_type": "markdown",
   "metadata": {},
   "source": [
    "We can use the `.listdir()` method to get a list of all files in a directory. We just pass a path to the method as an argument, and it returns a list. Let's try it on the `course_material` folder:"
   ]
  },
  {
   "cell_type": "code",
   "execution_count": 90,
   "metadata": {},
   "outputs": [],
   "source": [
    "my_path = '/Users/johekm/Documents/lectures/learning_python/course_material'"
   ]
  },
  {
   "cell_type": "code",
   "execution_count": 91,
   "metadata": {},
   "outputs": [
    {
     "data": {
      "text/plain": [
       "['mutable_scope.png',\n",
       " '.DS_Store',\n",
       " 'while_loop.png',\n",
       " 'scopes.png',\n",
       " 'readme',\n",
       " 'windows_root.png',\n",
       " 'immutable_1.png',\n",
       " 'interrupt.png',\n",
       " 'immutable_3.png',\n",
       " 'speach.txt',\n",
       " 'immutable_2.png',\n",
       " 'if_statement.png',\n",
       " 'mutable.png',\n",
       " 'mutable_2.png']"
      ]
     },
     "execution_count": 91,
     "metadata": {},
     "output_type": "execute_result"
    }
   ],
   "source": [
    "os.listdir(my_path)"
   ]
  },
  {
   "cell_type": "markdown",
   "metadata": {},
   "source": [
    "#### The `pathlib` module"
   ]
  },
  {
   "cell_type": "markdown",
   "metadata": {},
   "source": [
    "**CAUTION!** It is common practice to use string values when working with file paths. But as you can see from this example above, this code wouldn't work on Windows, since that path syntax requires the backslash `\\`.\n",
    "\n",
    "So instead, we're gonna use the `pathlib` module. This works on all operating systems since the Python interpreter converts all paths into whatever syntax your computer uses! Let's import the `Path` class from the `pathlib` module:"
   ]
  },
  {
   "cell_type": "code",
   "execution_count": 63,
   "metadata": {},
   "outputs": [],
   "source": [
    "from pathlib import Path"
   ]
  },
  {
   "cell_type": "markdown",
   "metadata": {},
   "source": [
    "The `Path` class has a method called `.cwd()` (\"current working directory\") that returns the absolute path of your current \"position\" on your harddrive. Let's have a look at the current working path using this method:"
   ]
  },
  {
   "cell_type": "code",
   "execution_count": 64,
   "metadata": {},
   "outputs": [
    {
     "data": {
      "text/plain": [
       "PosixPath('/Users/johekm/Documents/lectures/learning_python')"
      ]
     },
     "execution_count": 64,
     "metadata": {},
     "output_type": "execute_result"
    }
   ],
   "source": [
    "Path.cwd()"
   ]
  },
  {
   "cell_type": "markdown",
   "metadata": {},
   "source": [
    "As you can see, the value returned isn't a string. It is a path object:"
   ]
  },
  {
   "cell_type": "code",
   "execution_count": 41,
   "metadata": {},
   "outputs": [
    {
     "data": {
      "text/plain": [
       "pathlib.PosixPath"
      ]
     },
     "execution_count": 41,
     "metadata": {},
     "output_type": "execute_result"
    }
   ],
   "source": [
    "type(Path.cwd())"
   ]
  },
  {
   "cell_type": "markdown",
   "metadata": {},
   "source": [
    "This path object actually differs depending on what operating system you're using. For me, using mac, it is a `PosixPath` object. If you're using Windows, it should be a `WindowsPath` object. But the name is not important. Just know a path object is a way to help us construct paths in a very convenient way! \n",
    "\n",
    "We can pass any string to the Path class to convert it into a path object:"
   ]
  },
  {
   "cell_type": "code",
   "execution_count": 68,
   "metadata": {},
   "outputs": [
    {
     "data": {
      "text/plain": [
       "PosixPath('Johan')"
      ]
     },
     "execution_count": 68,
     "metadata": {},
     "output_type": "execute_result"
    }
   ],
   "source": [
    "Path(\"Johan\")"
   ]
  },
  {
   "cell_type": "markdown",
   "metadata": {},
   "source": [
    "The `os` module can read path objects, so we can use path objects to check if this path object is an absolute path: "
   ]
  },
  {
   "cell_type": "code",
   "execution_count": 50,
   "metadata": {},
   "outputs": [
    {
     "data": {
      "text/plain": [
       "False"
      ]
     },
     "execution_count": 50,
     "metadata": {},
     "output_type": "execute_result"
    }
   ],
   "source": [
    "os.path.isabs(Path(\"Johan\"))"
   ]
  },
  {
   "cell_type": "markdown",
   "metadata": {},
   "source": [
    "\"Johan\" isn't an absolute path, but our current working directory is:"
   ]
  },
  {
   "cell_type": "code",
   "execution_count": 73,
   "metadata": {},
   "outputs": [
    {
     "data": {
      "text/plain": [
       "True"
      ]
     },
     "execution_count": 73,
     "metadata": {},
     "output_type": "execute_result"
    }
   ],
   "source": [
    "os.path.isabs(Path.cwd())"
   ]
  },
  {
   "cell_type": "markdown",
   "metadata": {},
   "source": [
    "The `.home()` method returns the home directory on the computer. For me, this is `/Users/johekm`:"
   ]
  },
  {
   "cell_type": "code",
   "execution_count": 69,
   "metadata": {},
   "outputs": [
    {
     "data": {
      "text/plain": [
       "PosixPath('/Users/johekm')"
      ]
     },
     "execution_count": 69,
     "metadata": {},
     "output_type": "execute_result"
    }
   ],
   "source": [
    "Path.home()"
   ]
  },
  {
   "cell_type": "markdown",
   "metadata": {},
   "source": [
    "##### Path objects' special syntax"
   ]
  },
  {
   "cell_type": "markdown",
   "metadata": {},
   "source": [
    "Path objects can use operators as their own syntax. This means that I can use the `.home()` method and then construct a path I now will work on whatever operating system you're now running:"
   ]
  },
  {
   "cell_type": "code",
   "execution_count": 181,
   "metadata": {},
   "outputs": [
    {
     "data": {
      "text/plain": [
       "PosixPath('/Users/johekm/Documents/lectures/learning_python')"
      ]
     },
     "execution_count": 181,
     "metadata": {},
     "output_type": "execute_result"
    }
   ],
   "source": [
    "path = Path.home() / \"Documents\" / \"lectures\" / \"learning_python\"\n",
    "path"
   ]
  },
  {
   "cell_type": "markdown",
   "metadata": {},
   "source": [
    "Hang on, what the hell happend?? Why did we just use the division operator together with strings and somehow just magically created a path??\n",
    "\n",
    "If a line of Python code includes a path object, the `/` will not be read as a division operator by the interpreter, it will be read as a path seperator! It will then reconstruct this entire line into one path object. Above code is the same as typing:"
   ]
  },
  {
   "cell_type": "code",
   "execution_count": 178,
   "metadata": {},
   "outputs": [
    {
     "data": {
      "text/plain": [
       "PosixPath('/Users/johekm/Documents/lectures/learning_python')"
      ]
     },
     "execution_count": 178,
     "metadata": {},
     "output_type": "execute_result"
    }
   ],
   "source": [
    "path = Path.home() / Path(\"Documents\") / Path(\"lectures\") / Path(\"learning_python\")\n",
    "path"
   ]
  },
  {
   "cell_type": "markdown",
   "metadata": {},
   "source": [
    "...or:"
   ]
  },
  {
   "cell_type": "code",
   "execution_count": 179,
   "metadata": {},
   "outputs": [
    {
     "data": {
      "text/plain": [
       "PosixPath('/Users/johekm/Documents/lectures/learning_python')"
      ]
     },
     "execution_count": 179,
     "metadata": {},
     "output_type": "execute_result"
    }
   ],
   "source": [
    "path = Path.home() / Path(\"Documents/lectures/learning_python\")\n",
    "path"
   ]
  },
  {
   "cell_type": "markdown",
   "metadata": {},
   "source": [
    "...or just:"
   ]
  },
  {
   "cell_type": "code",
   "execution_count": 180,
   "metadata": {},
   "outputs": [
    {
     "data": {
      "text/plain": [
       "PosixPath('/Users/johekm/Documents/lectures/learning_python')"
      ]
     },
     "execution_count": 180,
     "metadata": {},
     "output_type": "execute_result"
    }
   ],
   "source": [
    "path = Path.home() / \"Documents/lectures/learning_python\"\n",
    "path"
   ]
  },
  {
   "cell_type": "markdown",
   "metadata": {},
   "source": [
    "#### Relative paths"
   ]
  },
  {
   "cell_type": "markdown",
   "metadata": {},
   "source": [
    "A relative path always starts in the current working directory. We use realtive paths to find files and directories in relation to where we are currently situated – where our program currently runs – on our hard drive. "
   ]
  },
  {
   "cell_type": "markdown",
   "metadata": {},
   "source": [
    "Above, we listed all files and directories in the folder `course_material`, using the `.listdir()` method. Let's do so again, but with a relative path instead of an absolute one:"
   ]
  },
  {
   "cell_type": "code",
   "execution_count": 101,
   "metadata": {},
   "outputs": [
    {
     "data": {
      "text/plain": [
       "['mutable_scope.png',\n",
       " '.DS_Store',\n",
       " 'while_loop.png',\n",
       " 'scopes.png',\n",
       " 'readme',\n",
       " 'windows_root.png',\n",
       " 'immutable_1.png',\n",
       " 'interrupt.png',\n",
       " 'immutable_3.png',\n",
       " 'speach.txt',\n",
       " 'immutable_2.png',\n",
       " 'if_statement.png',\n",
       " 'mutable.png',\n",
       " 'mutable_2.png']"
      ]
     },
     "execution_count": 101,
     "metadata": {},
     "output_type": "execute_result"
    }
   ],
   "source": [
    "os.listdir('course_material')"
   ]
  },
  {
   "cell_type": "markdown",
   "metadata": {},
   "source": [
    "Since this notebook lives in the same directory as `course_material`. This means the relative path is `'course_material'`. Let's go a bit deeper, there is a folder within `course_material` named `readme`. Let's list its content using a relative path:"
   ]
  },
  {
   "cell_type": "code",
   "execution_count": 102,
   "metadata": {},
   "outputs": [
    {
     "data": {
      "text/plain": [
       "['material.png',\n",
       " '.DS_Store',\n",
       " 'navigator.png',\n",
       " 'duplicate.png',\n",
       " 'searchbar.png',\n",
       " 'course_start.png',\n",
       " 'jupyter.png',\n",
       " 'create_nb.png',\n",
       " 'documents.png',\n",
       " 'launchpad.png']"
      ]
     },
     "execution_count": 102,
     "metadata": {},
     "output_type": "execute_result"
    }
   ],
   "source": [
    "os.listdir('course_material/readme/')"
   ]
  },
  {
   "cell_type": "markdown",
   "metadata": {},
   "source": [
    "If we check our absolute path once more, using the `.cwd()` method:"
   ]
  },
  {
   "cell_type": "code",
   "execution_count": 103,
   "metadata": {},
   "outputs": [
    {
     "data": {
      "text/plain": [
       "PosixPath('/Users/johekm/Documents/lectures/learning_python')"
      ]
     },
     "execution_count": 103,
     "metadata": {},
     "output_type": "execute_result"
    }
   ],
   "source": [
    "Path.cwd()"
   ]
  },
  {
   "cell_type": "markdown",
   "metadata": {},
   "source": [
    "What if we wanted to use a relative path to see what is within the \"Documents\" folder? This is (on my computer) two \"levels\" above our working directory. We can type the `..` folder! This isn't a real folder, just a specially named folder to indicate \"check one directory level above\" – **the parent directory**. \n",
    "\n",
    "Uncomment this following code cell and run it, the check to see if the listed files are as you expected. If you placed this course folder in the \"Documents\" folder on you computer, you should see the contents in your \"Documents\" folder:"
   ]
  },
  {
   "cell_type": "code",
   "execution_count": 113,
   "metadata": {},
   "outputs": [],
   "source": [
    "#os.listdir('..')"
   ]
  },
  {
   "cell_type": "markdown",
   "metadata": {},
   "source": [
    "We can continue using `..` with directory separators to go even further up the directory tree:"
   ]
  },
  {
   "cell_type": "code",
   "execution_count": 114,
   "metadata": {},
   "outputs": [],
   "source": [
    "#os.listdir(\"../..\")"
   ]
  },
  {
   "cell_type": "markdown",
   "metadata": {},
   "source": [
    "We can also type a single dot `.`, which indicates _this_ folder. The one we're in. Uncomment to check if it's what you expect it to be on your computer:"
   ]
  },
  {
   "cell_type": "code",
   "execution_count": 116,
   "metadata": {},
   "outputs": [],
   "source": [
    "#os.listdir(\".\")"
   ]
  },
  {
   "cell_type": "markdown",
   "metadata": {},
   "source": [
    "### Opening files"
   ]
  },
  {
   "cell_type": "markdown",
   "metadata": {},
   "source": [
    "Now that we've had a look at paths, we can use them to open files! \n",
    "\n",
    "Files can be binary files or plaintext files. Binary files consists of a complicated soup of code patterns that is unreadable for humans. Most files you use at your office are probably binary files: excel files, pdf documents, etc etc. \n",
    "\n",
    "Here, we're going to start with a plaintext file. Plaintext means that there are nothing but just raw text in the file. When you write a python script (using the file extension `.py`), this is a plaintext file. There isn't any other information than the actual text characters within the file. Text files (with the extension `.txt`) is also plaintext.\n",
    "\n",
    "Let's look for a plaintext file! If we check the file contents in the `course_material` folder, we can see that there are two plaintext files therein. Let's use the `.listdir()` method of the `os` module:"
   ]
  },
  {
   "cell_type": "code",
   "execution_count": 201,
   "metadata": {},
   "outputs": [
    {
     "data": {
      "text/plain": [
       "['mutable_scope.png',\n",
       " '.DS_Store',\n",
       " 'while_loop.png',\n",
       " 'scopes.png',\n",
       " 'readme',\n",
       " 'windows_root.png',\n",
       " 'immutable_1.png',\n",
       " 'interrupt.png',\n",
       " 'immutable_3.png',\n",
       " 'speach.txt',\n",
       " 'immutable_2.png',\n",
       " 'if_statement.png',\n",
       " 'hello.txt',\n",
       " 'mutable.png',\n",
       " 'mutable_2.png']"
      ]
     },
     "execution_count": 201,
     "metadata": {},
     "output_type": "execute_result"
    }
   ],
   "source": [
    "os.listdir('course_material/')"
   ]
  },
  {
   "cell_type": "markdown",
   "metadata": {},
   "source": [
    "Here we see two text files! \"speach.txt\" and \"hello.txt\". Let's start with the latter and read its content."
   ]
  },
  {
   "cell_type": "markdown",
   "metadata": {},
   "source": [
    "#### Reading files"
   ]
  },
  {
   "cell_type": "markdown",
   "metadata": {},
   "source": [
    "We can open files with the built-in `open()` function. It has two crucial arguments (it has way more that we will ignore at the moment). First, a _filepath_ that points to the file we want to open (including the filename). \n",
    "\n",
    "Second, we pass a string that determines _how_ to open the file. Default is to open in \"read\" mode, which opens the file, but hinders us from changing its content. Let's open the file \"hello.txt\" in the `course_material` directory:"
   ]
  },
  {
   "cell_type": "code",
   "execution_count": 159,
   "metadata": {},
   "outputs": [],
   "source": [
    "file = open(\"course_material/hello.txt\",\"r\")"
   ]
  },
  {
   "cell_type": "markdown",
   "metadata": {},
   "source": [
    "The `open()` function returns a file object, so we save that to a `file` variable! Let's have a look at our file object:"
   ]
  },
  {
   "cell_type": "code",
   "execution_count": 160,
   "metadata": {},
   "outputs": [
    {
     "data": {
      "text/plain": [
       "<_io.TextIOWrapper name='course_material/hello.txt' mode='r' encoding='UTF-8'>"
      ]
     },
     "execution_count": 160,
     "metadata": {},
     "output_type": "execute_result"
    }
   ],
   "source": [
    "file"
   ]
  },
  {
   "cell_type": "markdown",
   "metadata": {},
   "source": [
    "Here, we can see that the object is opened in read mode, and that it's encoded in unicode, UTF-8 (=not important at the moment). We can use the `.read()` method to have a look at the file content:"
   ]
  },
  {
   "cell_type": "code",
   "execution_count": 161,
   "metadata": {},
   "outputs": [
    {
     "data": {
      "text/plain": [
       "'Hello world!\\n\\nSo happy to see that you guys made it to the continuation course.\\nThis is where we start having fun!'"
      ]
     },
     "execution_count": 161,
     "metadata": {},
     "output_type": "execute_result"
    }
   ],
   "source": [
    "file.read()"
   ]
  },
  {
   "cell_type": "markdown",
   "metadata": {},
   "source": [
    "The `.read()` method returns all the file's text as one string. As you can see, the file includes newline characters `\\n`. The method `.readlines()` also opens the file's contents, but here, all the file's lines are items organised in a list:"
   ]
  },
  {
   "cell_type": "code",
   "execution_count": 165,
   "metadata": {},
   "outputs": [
    {
     "data": {
      "text/plain": [
       "['Hello world!\\n',\n",
       " '\\n',\n",
       " 'So happy to see that you guys made it to the continuation course.\\n',\n",
       " 'This is where we start having fun!']"
      ]
     },
     "execution_count": 165,
     "metadata": {},
     "output_type": "execute_result"
    }
   ],
   "source": [
    "file = open(\"course_material/hello.txt\",\"r\")\n",
    "file.readlines()"
   ]
  },
  {
   "cell_type": "markdown",
   "metadata": {},
   "source": [
    "When we're done with the file and want to close it, we use the `.close()` method:"
   ]
  },
  {
   "cell_type": "code",
   "execution_count": 167,
   "metadata": {},
   "outputs": [],
   "source": [
    "file.close()"
   ]
  },
  {
   "cell_type": "markdown",
   "metadata": {},
   "source": [
    "This means we can't access the file object any longer:"
   ]
  },
  {
   "cell_type": "code",
   "execution_count": 168,
   "metadata": {},
   "outputs": [
    {
     "ename": "ValueError",
     "evalue": "I/O operation on closed file.",
     "output_type": "error",
     "traceback": [
      "\u001b[0;31m---------------------------------------------------------------------------\u001b[0m",
      "\u001b[0;31mValueError\u001b[0m                                Traceback (most recent call last)",
      "\u001b[0;32m<ipython-input-168-f3fc120c03c1>\u001b[0m in \u001b[0;36m<module>\u001b[0;34m\u001b[0m\n\u001b[0;32m----> 1\u001b[0;31m \u001b[0mfile\u001b[0m\u001b[0;34m.\u001b[0m\u001b[0mread\u001b[0m\u001b[0;34m(\u001b[0m\u001b[0;34m)\u001b[0m\u001b[0;34m\u001b[0m\u001b[0;34m\u001b[0m\u001b[0m\n\u001b[0m",
      "\u001b[0;31mValueError\u001b[0m: I/O operation on closed file."
     ]
    }
   ],
   "source": [
    "file.read()"
   ]
  },
  {
   "cell_type": "markdown",
   "metadata": {},
   "source": [
    "##### Reading binary files"
   ]
  },
  {
   "cell_type": "markdown",
   "metadata": {},
   "source": [
    "We can also read binary files, but binary content will look like gibberish to a human eye. To read a binary file, we need to pass the argument `\"rb\"` (\"read binary\") instead of `\"r\"` as the second argument of the open function. Let's have a look at an excel file:"
   ]
  },
  {
   "cell_type": "code",
   "execution_count": 213,
   "metadata": {},
   "outputs": [],
   "source": [
    "excelFile = open('course_material/test.xlsx',\"rb\")"
   ]
  },
  {
   "cell_type": "markdown",
   "metadata": {},
   "source": [
    "Let's not open the entire file, just the first 200 characters:"
   ]
  },
  {
   "cell_type": "code",
   "execution_count": 214,
   "metadata": {},
   "outputs": [
    {
     "data": {
      "text/plain": [
       "b'PK\\x03\\x04\\x14\\x00\\x06\\x00\\x08\\x00\\x00\\x00!\\x00\\x0c\\xeb\\xe3\\xff[\\x01\\x00\\x00\\x88\\x04\\x00\\x00\\x13\\x00\\x08\\x02[Content_Types].xml \\xa2\\x04\\x02(\\xa0\\x00\\x02\\x00\\x00\\x00\\x00\\x00\\x00\\x00\\x00\\x00\\x00\\x00\\x00\\x00\\x00\\x00\\x00\\x00\\x00\\x00\\x00\\x00\\x00\\x00\\x00\\x00\\x00\\x00\\x00\\x00\\x00\\x00\\x00\\x00\\x00\\x00\\x00\\x00\\x00\\x00\\x00\\x00\\x00\\x00\\x00\\x00\\x00\\x00\\x00\\x00\\x00\\x00\\x00\\x00\\x00\\x00\\x00\\x00\\x00\\x00\\x00\\x00\\x00\\x00\\x00\\x00\\x00\\x00\\x00\\x00\\x00\\x00\\x00\\x00\\x00\\x00\\x00\\x00\\x00\\x00\\x00\\x00\\x00\\x00\\x00\\x00\\x00\\x00\\x00\\x00\\x00\\x00\\x00\\x00\\x00\\x00\\x00\\x00\\x00\\x00\\x00\\x00\\x00\\x00\\x00\\x00\\x00\\x00\\x00\\x00\\x00\\x00\\x00\\x00\\x00\\x00\\x00\\x00\\x00\\x00\\x00\\x00\\x00\\x00\\x00\\x00\\x00\\x00\\x00\\x00\\x00\\x00\\x00\\x00\\x00\\x00\\x00\\x00\\x00\\x00\\x00\\x00\\x00\\x00'"
      ]
     },
     "execution_count": 214,
     "metadata": {},
     "output_type": "execute_result"
    }
   ],
   "source": [
    "excelFile.read()[:200]"
   ]
  },
  {
   "cell_type": "markdown",
   "metadata": {},
   "source": [
    "#### Creating files and directories"
   ]
  },
  {
   "cell_type": "markdown",
   "metadata": {},
   "source": [
    "We can pass the string `\"w\"` as an argument to open in write mode, which lets us change the file's content. If the file our path points to doesn't exist, and we open in write mode, _we will create a file_. Let's try it!"
   ]
  },
  {
   "cell_type": "code",
   "execution_count": 191,
   "metadata": {},
   "outputs": [],
   "source": [
    "file = open(\"test.txt\",\"w\")"
   ]
  },
  {
   "cell_type": "markdown",
   "metadata": {},
   "source": [
    "Since we didn't give the `open()` function an absolute path, it took the path and looked for a file named `test.txt` in the current working directory. Since no such file existed, it created on. Have a look in the course folder, there should now be a new text file named \"test\"!\n",
    "\n",
    "So, if we open a file in write mode, and no such file exists, we will create a new file. But what happens if we try to open a file that doesn't exist in read mode?"
   ]
  },
  {
   "cell_type": "code",
   "execution_count": 192,
   "metadata": {},
   "outputs": [
    {
     "ename": "FileNotFoundError",
     "evalue": "[Errno 2] No such file or directory: 'xyz.txt'",
     "output_type": "error",
     "traceback": [
      "\u001b[0;31m---------------------------------------------------------------------------\u001b[0m",
      "\u001b[0;31mFileNotFoundError\u001b[0m                         Traceback (most recent call last)",
      "\u001b[0;32m<ipython-input-192-419d60724ba5>\u001b[0m in \u001b[0;36m<module>\u001b[0;34m\u001b[0m\n\u001b[0;32m----> 1\u001b[0;31m \u001b[0mopen\u001b[0m\u001b[0;34m(\u001b[0m\u001b[0;34m\"xyz.txt\"\u001b[0m\u001b[0;34m,\u001b[0m\u001b[0;34m\"r\"\u001b[0m\u001b[0;34m)\u001b[0m\u001b[0;34m\u001b[0m\u001b[0;34m\u001b[0m\u001b[0m\n\u001b[0m",
      "\u001b[0;31mFileNotFoundError\u001b[0m: [Errno 2] No such file or directory: 'xyz.txt'"
     ]
    }
   ],
   "source": [
    "open(\"xyz.txt\",\"r\")"
   ]
  },
  {
   "cell_type": "markdown",
   "metadata": {},
   "source": [
    "We get an error!\n",
    "\n",
    "Ok, so we have created a file, and simultanously opened this file in write mode. Let's check the file object:"
   ]
  },
  {
   "cell_type": "code",
   "execution_count": 193,
   "metadata": {},
   "outputs": [
    {
     "data": {
      "text/plain": [
       "<_io.TextIOWrapper name='test.txt' mode='w' encoding='UTF-8'>"
      ]
     },
     "execution_count": 193,
     "metadata": {},
     "output_type": "execute_result"
    }
   ],
   "source": [
    "file"
   ]
  },
  {
   "cell_type": "markdown",
   "metadata": {},
   "source": [
    "Since it is in write mode, we can add content to the file! Let's start by creating a string that we'd like to add to our new file:"
   ]
  },
  {
   "cell_type": "code",
   "execution_count": 195,
   "metadata": {},
   "outputs": [],
   "source": [
    "text = \"This is some very exciting and new content going on here!\""
   ]
  },
  {
   "cell_type": "markdown",
   "metadata": {},
   "source": [
    "Our file object has a method called `.write()` that takes whatever content we want to add to the file as an argument. This will then be written to the file object:"
   ]
  },
  {
   "cell_type": "code",
   "execution_count": 196,
   "metadata": {},
   "outputs": [
    {
     "data": {
      "text/plain": [
       "57"
      ]
     },
     "execution_count": 196,
     "metadata": {},
     "output_type": "execute_result"
    }
   ],
   "source": [
    "file.write(text)"
   ]
  },
  {
   "cell_type": "markdown",
   "metadata": {},
   "source": [
    "The method returns an integer, in this case 57. It just returns the length of the content we just added:"
   ]
  },
  {
   "cell_type": "code",
   "execution_count": 197,
   "metadata": {},
   "outputs": [
    {
     "data": {
      "text/plain": [
       "57"
      ]
     },
     "execution_count": 197,
     "metadata": {},
     "output_type": "execute_result"
    }
   ],
   "source": [
    "len(text)"
   ]
  },
  {
   "cell_type": "markdown",
   "metadata": {},
   "source": [
    "We've now added our content, let's close the file:"
   ]
  },
  {
   "cell_type": "code",
   "execution_count": 200,
   "metadata": {},
   "outputs": [],
   "source": [
    "file.close()"
   ]
  },
  {
   "cell_type": "markdown",
   "metadata": {},
   "source": [
    "If you now check the text file, you'll see that our text string was added! Yay!\n",
    "\n",
    "**CAUTION!** If you now open the file in write mode again, you'll see that its content has been erased."
   ]
  },
  {
   "cell_type": "code",
   "execution_count": 216,
   "metadata": {},
   "outputs": [],
   "source": [
    "file = open(\"test.txt\",\"w\")\n",
    "file.close()"
   ]
  },
  {
   "cell_type": "code",
   "execution_count": 217,
   "metadata": {},
   "outputs": [
    {
     "data": {
      "text/plain": [
       "''"
      ]
     },
     "execution_count": 217,
     "metadata": {},
     "output_type": "execute_result"
    }
   ],
   "source": [
    "file = open(\"test.txt\",\"r\")\n",
    "file.read()"
   ]
  },
  {
   "cell_type": "markdown",
   "metadata": {},
   "source": [
    "If we want to add content to our file, we can open it in \"append mode\", using the argument `\"a\"`. Let's add our text again, and then open the file in append mode:"
   ]
  },
  {
   "cell_type": "code",
   "execution_count": 222,
   "metadata": {},
   "outputs": [],
   "source": [
    "file = open(\"test.txt\",\"w\")"
   ]
  },
  {
   "cell_type": "code",
   "execution_count": 223,
   "metadata": {},
   "outputs": [],
   "source": [
    "file.write(text)\n",
    "file.close()"
   ]
  },
  {
   "cell_type": "code",
   "execution_count": 224,
   "metadata": {},
   "outputs": [],
   "source": [
    "file = open(\"test.txt\",\"a\") # append mode"
   ]
  },
  {
   "cell_type": "code",
   "execution_count": 225,
   "metadata": {},
   "outputs": [],
   "source": [
    "new_text = \"\\nSome new exciting text that we've added!\""
   ]
  },
  {
   "cell_type": "code",
   "execution_count": 226,
   "metadata": {},
   "outputs": [
    {
     "data": {
      "text/plain": [
       "41"
      ]
     },
     "execution_count": 226,
     "metadata": {},
     "output_type": "execute_result"
    }
   ],
   "source": [
    "file.write(new_text)"
   ]
  },
  {
   "cell_type": "code",
   "execution_count": 227,
   "metadata": {},
   "outputs": [],
   "source": [
    "file.close()"
   ]
  },
  {
   "cell_type": "markdown",
   "metadata": {},
   "source": [
    "Let's check the files content to see if our new text was added:"
   ]
  },
  {
   "cell_type": "code",
   "execution_count": 231,
   "metadata": {},
   "outputs": [],
   "source": [
    "file = open('test.txt', \"r\")"
   ]
  },
  {
   "cell_type": "code",
   "execution_count": 232,
   "metadata": {},
   "outputs": [
    {
     "name": "stdout",
     "output_type": "stream",
     "text": [
      "This is some very exciting and new content going on here!\n",
      "Some new exciting text that we've added!\n"
     ]
    }
   ],
   "source": [
    "print(file.read())"
   ]
  },
  {
   "cell_type": "markdown",
   "metadata": {},
   "source": [
    "It worked!"
   ]
  },
  {
   "cell_type": "markdown",
   "metadata": {},
   "source": [
    "Using the `os` module, we can also create new directories!"
   ]
  },
  {
   "cell_type": "code",
   "execution_count": null,
   "metadata": {},
   "outputs": [],
   "source": []
  },
  {
   "cell_type": "code",
   "execution_count": null,
   "metadata": {},
   "outputs": [],
   "source": []
  },
  {
   "cell_type": "code",
   "execution_count": null,
   "metadata": {},
   "outputs": [],
   "source": []
  },
  {
   "cell_type": "code",
   "execution_count": null,
   "metadata": {},
   "outputs": [],
   "source": []
  }
 ],
 "metadata": {
  "kernelspec": {
   "display_name": "Python 3",
   "language": "python",
   "name": "python3"
  },
  "language_info": {
   "codemirror_mode": {
    "name": "ipython",
    "version": 3
   },
   "file_extension": ".py",
   "mimetype": "text/x-python",
   "name": "python",
   "nbconvert_exporter": "python",
   "pygments_lexer": "ipython3",
   "version": "3.8.5"
  },
  "toc": {
   "base_numbering": 1,
   "nav_menu": {},
   "number_sections": true,
   "sideBar": true,
   "skip_h1_title": true,
   "title_cell": "Table of Contents",
   "title_sidebar": "Contents",
   "toc_cell": true,
   "toc_position": {},
   "toc_section_display": true,
   "toc_window_display": false
  }
 },
 "nbformat": 4,
 "nbformat_minor": 4
}
