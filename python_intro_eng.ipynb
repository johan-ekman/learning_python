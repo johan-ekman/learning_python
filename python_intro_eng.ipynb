{
 "cells": [
  {
   "cell_type": "markdown",
   "metadata": {},
   "source": [
    "# An Introduction to Python"
   ]
  },
  {
   "cell_type": "markdown",
   "metadata": {
    "toc": true
   },
   "source": [
    "<h1>Table of Contents<span class=\"tocSkip\"></span></h1>\n",
    "<div class=\"toc\"><ul class=\"toc-item\"><li><span><a href=\"#Values\" data-toc-modified-id=\"Values-1\"><span class=\"toc-item-num\">1&nbsp;&nbsp;</span>Values</a></span><ul class=\"toc-item\"><li><span><a href=\"#Integers\" data-toc-modified-id=\"Integers-1.1\"><span class=\"toc-item-num\">1.1&nbsp;&nbsp;</span>Integers</a></span></li><li><span><a href=\"#Floats\" data-toc-modified-id=\"Floats-1.2\"><span class=\"toc-item-num\">1.2&nbsp;&nbsp;</span>Floats</a></span></li><li><span><a href=\"#String-values\" data-toc-modified-id=\"String-values-1.3\"><span class=\"toc-item-num\">1.3&nbsp;&nbsp;</span>String values</a></span></li><li><span><a href=\"#Boolean-values\" data-toc-modified-id=\"Boolean-values-1.4\"><span class=\"toc-item-num\">1.4&nbsp;&nbsp;</span>Boolean values</a></span></li><li><span><a href=\"#The-None-value\" data-toc-modified-id=\"The-None-value-1.5\"><span class=\"toc-item-num\">1.5&nbsp;&nbsp;</span>The None value</a></span></li></ul></li><li><span><a href=\"#Expressions-and-operators\" data-toc-modified-id=\"Expressions-and-operators-2\"><span class=\"toc-item-num\">2&nbsp;&nbsp;</span>Expressions and operators</a></span><ul class=\"toc-item\"><li><span><a href=\"#Order-of-operations\" data-toc-modified-id=\"Order-of-operations-2.1\"><span class=\"toc-item-num\">2.1&nbsp;&nbsp;</span>Order of operations</a></span><ul class=\"toc-item\"><li><span><a href=\"#(Optional)-Deep-dive-into-Order-of-Operations\" data-toc-modified-id=\"(Optional)-Deep-dive-into-Order-of-Operations-2.1.1\"><span class=\"toc-item-num\">2.1.1&nbsp;&nbsp;</span>(Optional) Deep dive into Order of Operations</a></span></li><li><span><a href=\"#Exercise-–-where-to-put-the-parenthesis?\" data-toc-modified-id=\"Exercise-–-where-to-put-the-parenthesis?-2.1.2\"><span class=\"toc-item-num\">2.1.2&nbsp;&nbsp;</span>Exercise – where to put the parenthesis?</a></span></li></ul></li><li><span><a href=\"#Concatination\" data-toc-modified-id=\"Concatination-2.2\"><span class=\"toc-item-num\">2.2&nbsp;&nbsp;</span>Concatination</a></span></li></ul></li><li><span><a href=\"#Variables-and-statements\" data-toc-modified-id=\"Variables-and-statements-3\"><span class=\"toc-item-num\">3&nbsp;&nbsp;</span>Variables and statements</a></span><ul class=\"toc-item\"><li><ul class=\"toc-item\"><li><span><a href=\"#Quick-sidenote-–-the-print()-function\" data-toc-modified-id=\"Quick-sidenote-–-the-print()-function-3.0.1\"><span class=\"toc-item-num\">3.0.1&nbsp;&nbsp;</span>Quick sidenote – the <code>print()</code> function</a></span></li></ul></li><li><span><a href=\"#Assigning-variables\" data-toc-modified-id=\"Assigning-variables-3.1\"><span class=\"toc-item-num\">3.1&nbsp;&nbsp;</span>Assigning variables</a></span></li><li><span><a href=\"#Variables-and-strings\" data-toc-modified-id=\"Variables-and-strings-3.2\"><span class=\"toc-item-num\">3.2&nbsp;&nbsp;</span>Variables and strings</a></span><ul class=\"toc-item\"><li><span><a href=\"#Long-strings\" data-toc-modified-id=\"Long-strings-3.2.1\"><span class=\"toc-item-num\">3.2.1&nbsp;&nbsp;</span>Long strings</a></span></li><li><span><a href=\"#String-formatting-–-inserting-variables-into-string-values\" data-toc-modified-id=\"String-formatting-–-inserting-variables-into-string-values-3.2.2\"><span class=\"toc-item-num\">3.2.2&nbsp;&nbsp;</span>String formatting – inserting variables into string values</a></span></li><li><span><a href=\"#(Deepdive)-–-Long-strings,-string-literals-and-the-escape-character-\\\" data-toc-modified-id=\"(Deepdive)-–-Long-strings,-string-literals-and-the-escape-character-\\-3.2.3\"><span class=\"toc-item-num\">3.2.3&nbsp;&nbsp;</span>(Deepdive) – Long strings, string literals and the escape character <code>\\</code></a></span><ul class=\"toc-item\"><li><span><a href=\"#More-on-tripple-quote-strings\" data-toc-modified-id=\"More-on-tripple-quote-strings-3.2.3.1\"><span class=\"toc-item-num\">3.2.3.1&nbsp;&nbsp;</span>More on tripple quote strings</a></span></li><li><span><a href=\"#String-literals-and-the-backslash-\\\" data-toc-modified-id=\"String-literals-and-the-backslash-\\-3.2.3.2\"><span class=\"toc-item-num\">3.2.3.2&nbsp;&nbsp;</span>String literals and the backslash <code>\\</code></a></span></li><li><span><a href=\"#Exercise-–-write-a-letter!\" data-toc-modified-id=\"Exercise-–-write-a-letter!-3.2.3.3\"><span class=\"toc-item-num\">3.2.3.3&nbsp;&nbsp;</span>Exercise – write a letter!</a></span></li></ul></li></ul></li><li><span><a href=\"#Changing-variables-–-Operators-and-assignment-statements\" data-toc-modified-id=\"Changing-variables-–-Operators-and-assignment-statements-3.3\"><span class=\"toc-item-num\">3.3&nbsp;&nbsp;</span>Changing variables – Operators and assignment statements</a></span><ul class=\"toc-item\"><li><span><a href=\"#Augmented-assignment-operators\" data-toc-modified-id=\"Augmented-assignment-operators-3.3.1\"><span class=\"toc-item-num\">3.3.1&nbsp;&nbsp;</span>Augmented assignment operators</a></span></li></ul></li><li><span><a href=\"#Multiple-assignment-statements\" data-toc-modified-id=\"Multiple-assignment-statements-3.4\"><span class=\"toc-item-num\">3.4&nbsp;&nbsp;</span>Multiple assignment statements</a></span></li><li><span><a href=\"#(Optional)-More-about-readability-–-the-zen-of-Python\" data-toc-modified-id=\"(Optional)-More-about-readability-–-the-zen-of-Python-3.5\"><span class=\"toc-item-num\">3.5&nbsp;&nbsp;</span>(Optional) More about readability – the zen of Python</a></span></li><li><span><a href=\"#Exercise-–-string-concatination-and-variables\" data-toc-modified-id=\"Exercise-–-string-concatination-and-variables-3.6\"><span class=\"toc-item-num\">3.6&nbsp;&nbsp;</span>Exercise – string concatination and variables</a></span></li></ul></li><li><span><a href=\"#Comparing-values\" data-toc-modified-id=\"Comparing-values-4\"><span class=\"toc-item-num\">4&nbsp;&nbsp;</span>Comparing values</a></span><ul class=\"toc-item\"><li><span><a href=\"#Comparison-operators\" data-toc-modified-id=\"Comparison-operators-4.1\"><span class=\"toc-item-num\">4.1&nbsp;&nbsp;</span>Comparison operators</a></span></li><li><span><a href=\"#Boolean-operators\" data-toc-modified-id=\"Boolean-operators-4.2\"><span class=\"toc-item-num\">4.2&nbsp;&nbsp;</span>Boolean operators</a></span><ul class=\"toc-item\"><li><span><a href=\"#The-and-operator\" data-toc-modified-id=\"The-and-operator-4.2.1\"><span class=\"toc-item-num\">4.2.1&nbsp;&nbsp;</span>The <code>and</code> operator</a></span></li><li><span><a href=\"#The-or-operator\" data-toc-modified-id=\"The-or-operator-4.2.2\"><span class=\"toc-item-num\">4.2.2&nbsp;&nbsp;</span>The <code>or</code> operator</a></span></li><li><span><a href=\"#The-not-operator\" data-toc-modified-id=\"The-not-operator-4.2.3\"><span class=\"toc-item-num\">4.2.3&nbsp;&nbsp;</span>The <code>not</code> operator</a></span></li><li><span><a href=\"#Boolean-operators-–-examples\" data-toc-modified-id=\"Boolean-operators-–-examples-4.2.4\"><span class=\"toc-item-num\">4.2.4&nbsp;&nbsp;</span>Boolean operators – examples</a></span></li></ul></li><li><span><a href=\"#Exercise-–-insert-the-correct-operators\" data-toc-modified-id=\"Exercise-–-insert-the-correct-operators-4.3\"><span class=\"toc-item-num\">4.3&nbsp;&nbsp;</span>Exercise – insert the correct operators</a></span></li></ul></li><li><span><a href=\"#Flow-Control-Statements\" data-toc-modified-id=\"Flow-Control-Statements-5\"><span class=\"toc-item-num\">5&nbsp;&nbsp;</span>Flow Control Statements</a></span><ul class=\"toc-item\"><li><span><a href=\"#The-if-statement\" data-toc-modified-id=\"The-if-statement-5.1\"><span class=\"toc-item-num\">5.1&nbsp;&nbsp;</span>The <code>if</code>-statement</a></span></li><li><span><a href=\"#The-else-statement\" data-toc-modified-id=\"The-else-statement-5.2\"><span class=\"toc-item-num\">5.2&nbsp;&nbsp;</span>The <code>else</code>-statement</a></span></li><li><span><a href=\"#The-elif-statement\" data-toc-modified-id=\"The-elif-statement-5.3\"><span class=\"toc-item-num\">5.3&nbsp;&nbsp;</span>The <code>elif</code>-statement</a></span></li><li><span><a href=\"#(Optional)-&quot;Truthy&quot;-and-&quot;Falsy&quot;-values\" data-toc-modified-id=\"(Optional)-&quot;Truthy&quot;-and-&quot;Falsy&quot;-values-5.4\"><span class=\"toc-item-num\">5.4&nbsp;&nbsp;</span>(Optional) \"Truthy\" and \"Falsy\" values</a></span></li><li><span><a href=\"#Exercise-–-type-the-end-of-the-story!\" data-toc-modified-id=\"Exercise-–-type-the-end-of-the-story!-5.5\"><span class=\"toc-item-num\">5.5&nbsp;&nbsp;</span>Exercise – type the end of the story!</a></span></li></ul></li><li><span><a href=\"#Functions\" data-toc-modified-id=\"Functions-6\"><span class=\"toc-item-num\">6&nbsp;&nbsp;</span>Functions</a></span><ul class=\"toc-item\"><li><span><a href=\"#Definitions-and-terminology\" data-toc-modified-id=\"Definitions-and-terminology-6.1\"><span class=\"toc-item-num\">6.1&nbsp;&nbsp;</span>Definitions and terminology</a></span></li><li><span><a href=\"#Built-in-Functions\" data-toc-modified-id=\"Built-in-Functions-6.2\"><span class=\"toc-item-num\">6.2&nbsp;&nbsp;</span>Built-in Functions</a></span></li><li><span><a href=\"#The-standard-library-and-modules\" data-toc-modified-id=\"The-standard-library-and-modules-6.3\"><span class=\"toc-item-num\">6.3&nbsp;&nbsp;</span>The standard library and modules</a></span><ul class=\"toc-item\"><li><span><a href=\"#Exercise-–-the-coin-toss\" data-toc-modified-id=\"Exercise-–-the-coin-toss-6.3.1\"><span class=\"toc-item-num\">6.3.1&nbsp;&nbsp;</span>Exercise – the coin toss</a></span></li></ul></li><li><span><a href=\"#Third-party-modules\" data-toc-modified-id=\"Third-party-modules-6.4\"><span class=\"toc-item-num\">6.4&nbsp;&nbsp;</span>Third party modules</a></span></li><li><span><a href=\"#Writing-your-own-functions\" data-toc-modified-id=\"Writing-your-own-functions-6.5\"><span class=\"toc-item-num\">6.5&nbsp;&nbsp;</span>Writing your own functions</a></span></li><li><span><a href=\"#Arguments\" data-toc-modified-id=\"Arguments-6.6\"><span class=\"toc-item-num\">6.6&nbsp;&nbsp;</span>Arguments</a></span><ul class=\"toc-item\"><li><span><a href=\"#Exercise-–-truth-teller-function\" data-toc-modified-id=\"Exercise-–-truth-teller-function-6.6.1\"><span class=\"toc-item-num\">6.6.1&nbsp;&nbsp;</span>Exercise – truth-teller function</a></span></li></ul></li><li><span><a href=\"#(Optional)-Styling-conventions-writing-functions\" data-toc-modified-id=\"(Optional)-Styling-conventions-writing-functions-6.7\"><span class=\"toc-item-num\">6.7&nbsp;&nbsp;</span>(Optional) Styling conventions writing functions</a></span></li><li><span><a href=\"#The-return-statement\" data-toc-modified-id=\"The-return-statement-6.8\"><span class=\"toc-item-num\">6.8&nbsp;&nbsp;</span>The <code>return</code> statement</a></span></li><li><span><a href=\"#Exercise-–-the-currency-converter\" data-toc-modified-id=\"Exercise-–-the-currency-converter-6.9\"><span class=\"toc-item-num\">6.9&nbsp;&nbsp;</span>Exercise – the currency converter</a></span></li><li><span><a href=\"#Bulletpoints\" data-toc-modified-id=\"Bulletpoints-6.10\"><span class=\"toc-item-num\">6.10&nbsp;&nbsp;</span>Bulletpoints</a></span></li></ul></li><li><span><a href=\"#Local-and-global-scopes\" data-toc-modified-id=\"Local-and-global-scopes-7\"><span class=\"toc-item-num\">7&nbsp;&nbsp;</span>Local and global scopes</a></span><ul class=\"toc-item\"><li><span><a href=\"#Global-code-cannot-use-local-variables\" data-toc-modified-id=\"Global-code-cannot-use-local-variables-7.1\"><span class=\"toc-item-num\">7.1&nbsp;&nbsp;</span>Global code cannot use local variables</a></span></li><li><span><a href=\"#Global-variables-can-be-used-in-local-scopes\" data-toc-modified-id=\"Global-variables-can-be-used-in-local-scopes-7.2\"><span class=\"toc-item-num\">7.2&nbsp;&nbsp;</span>Global variables can be used in local scopes</a></span></li><li><span><a href=\"#Local-scopes-can't-use-variables-in-other-local-scopes\" data-toc-modified-id=\"Local-scopes-can't-use-variables-in-other-local-scopes-7.3\"><span class=\"toc-item-num\">7.3&nbsp;&nbsp;</span>Local scopes can't use variables in other local scopes</a></span></li><li><span><a href=\"#Exercise-–-why-won't-the-code-work?\" data-toc-modified-id=\"Exercise-–-why-won't-the-code-work?-7.4\"><span class=\"toc-item-num\">7.4&nbsp;&nbsp;</span>Exercise – why won't the code work?</a></span></li></ul></li><li><span><a href=\"#Object-orientation-and-Methods\" data-toc-modified-id=\"Object-orientation-and-Methods-8\"><span class=\"toc-item-num\">8&nbsp;&nbsp;</span>Object orientation and Methods</a></span><ul class=\"toc-item\"><li><span><a href=\"#Exercise-–-experiment-with-string-methods\" data-toc-modified-id=\"Exercise-–-experiment-with-string-methods-8.1\"><span class=\"toc-item-num\">8.1&nbsp;&nbsp;</span>Exercise – experiment with string methods</a></span></li></ul></li><li><span><a href=\"#Lists\" data-toc-modified-id=\"Lists-9\"><span class=\"toc-item-num\">9&nbsp;&nbsp;</span>Lists</a></span><ul class=\"toc-item\"><li><span><a href=\"#Definition\" data-toc-modified-id=\"Definition-9.1\"><span class=\"toc-item-num\">9.1&nbsp;&nbsp;</span>Definition</a></span></li><li><span><a href=\"#List-index\" data-toc-modified-id=\"List-index-9.2\"><span class=\"toc-item-num\">9.2&nbsp;&nbsp;</span>List index</a></span></li><li><span><a href=\"#Slicing\" data-toc-modified-id=\"Slicing-9.3\"><span class=\"toc-item-num\">9.3&nbsp;&nbsp;</span>Slicing</a></span></li><li><span><a href=\"#Changing-list-values\" data-toc-modified-id=\"Changing-list-values-9.4\"><span class=\"toc-item-num\">9.4&nbsp;&nbsp;</span>Changing list values</a></span></li><li><span><a href=\"#Removing-items-with-del\" data-toc-modified-id=\"Removing-items-with-del-9.5\"><span class=\"toc-item-num\">9.5&nbsp;&nbsp;</span>Removing items with <code>del</code></a></span></li><li><span><a href=\"#List-methods\" data-toc-modified-id=\"List-methods-9.6\"><span class=\"toc-item-num\">9.6&nbsp;&nbsp;</span>List methods</a></span><ul class=\"toc-item\"><li><span><a href=\"#.append()\" data-toc-modified-id=\".append()-9.6.1\"><span class=\"toc-item-num\">9.6.1&nbsp;&nbsp;</span><code>.append()</code></a></span></li><li><span><a href=\"#.insert()\" data-toc-modified-id=\".insert()-9.6.2\"><span class=\"toc-item-num\">9.6.2&nbsp;&nbsp;</span><code>.insert()</code></a></span></li><li><span><a href=\"#.remove()\" data-toc-modified-id=\".remove()-9.6.3\"><span class=\"toc-item-num\">9.6.3&nbsp;&nbsp;</span><code>.remove()</code></a></span></li><li><span><a href=\"#.index()\" data-toc-modified-id=\".index()-9.6.4\"><span class=\"toc-item-num\">9.6.4&nbsp;&nbsp;</span><code>.index()</code></a></span></li><li><span><a href=\"#.sort()\" data-toc-modified-id=\".sort()-9.6.5\"><span class=\"toc-item-num\">9.6.5&nbsp;&nbsp;</span><code>.sort()</code></a></span><ul class=\"toc-item\"><li><span><a href=\"#ASCII-Sorting\" data-toc-modified-id=\"ASCII-Sorting-9.6.5.1\"><span class=\"toc-item-num\">9.6.5.1&nbsp;&nbsp;</span>ASCII Sorting</a></span></li></ul></li><li><span><a href=\"#(Optional)-Method-call-straight-into-index-brackets\" data-toc-modified-id=\"(Optional)-Method-call-straight-into-index-brackets-9.6.6\"><span class=\"toc-item-num\">9.6.6&nbsp;&nbsp;</span>(Optional) Method call straight into index brackets</a></span></li><li><span><a href=\"#(Optional)-&quot;In-place&quot;-methods\" data-toc-modified-id=\"(Optional)-&quot;In-place&quot;-methods-9.6.7\"><span class=\"toc-item-num\">9.6.7&nbsp;&nbsp;</span>(Optional) \"In place\" methods</a></span></li></ul></li><li><span><a href=\"#The-built-in-function-list()\" data-toc-modified-id=\"The-built-in-function-list()-9.7\"><span class=\"toc-item-num\">9.7&nbsp;&nbsp;</span>The built-in function <code>list()</code></a></span></li><li><span><a href=\"#The-in-and-not-in-operators\" data-toc-modified-id=\"The-in-and-not-in-operators-9.8\"><span class=\"toc-item-num\">9.8&nbsp;&nbsp;</span>The <code>in</code> and <code>not in</code> operators</a></span></li><li><span><a href=\"#Similarities-between-lists-and-strings\" data-toc-modified-id=\"Similarities-between-lists-and-strings-9.9\"><span class=\"toc-item-num\">9.9&nbsp;&nbsp;</span>Similarities between lists and strings</a></span><ul class=\"toc-item\"><li><span><a href=\"#The-split()-method\" data-toc-modified-id=\"The-split()-method-9.9.1\"><span class=\"toc-item-num\">9.9.1&nbsp;&nbsp;</span>The <code>split()</code> method</a></span></li></ul></li><li><span><a href=\"#Exercise-–-Build-your-own-list-function,-part-1\" data-toc-modified-id=\"Exercise-–-Build-your-own-list-function,-part-1-9.10\"><span class=\"toc-item-num\">9.10&nbsp;&nbsp;</span>Exercise – Build your own list function, part 1</a></span></li></ul></li><li><span><a href=\"#Loops\" data-toc-modified-id=\"Loops-10\"><span class=\"toc-item-num\">10&nbsp;&nbsp;</span>Loops</a></span><ul class=\"toc-item\"><li><span><a href=\"#while-loops\" data-toc-modified-id=\"while-loops-10.1\"><span class=\"toc-item-num\">10.1&nbsp;&nbsp;</span><code>while</code>-loops</a></span><ul class=\"toc-item\"><li><span><a href=\"#Input-validation\" data-toc-modified-id=\"Input-validation-10.1.1\"><span class=\"toc-item-num\">10.1.1&nbsp;&nbsp;</span>Input validation</a></span></li><li><span><a href=\"#CAUTION:-Infinite-while-loops\" data-toc-modified-id=\"CAUTION:-Infinite-while-loops-10.1.2\"><span class=\"toc-item-num\">10.1.2&nbsp;&nbsp;</span>CAUTION: Infinite <code>while</code>-loops</a></span></li><li><span><a href=\"#The-break-statement\" data-toc-modified-id=\"The-break-statement-10.1.3\"><span class=\"toc-item-num\">10.1.3&nbsp;&nbsp;</span>The <code>break</code> statement</a></span></li><li><span><a href=\"#Exercise-–-Build-your-own-list-function,-part-2\" data-toc-modified-id=\"Exercise-–-Build-your-own-list-function,-part-2-10.1.4\"><span class=\"toc-item-num\">10.1.4&nbsp;&nbsp;</span>Exercise – Build your own list function, part 2</a></span></li></ul></li><li><span><a href=\"#for-loops\" data-toc-modified-id=\"for-loops-10.2\"><span class=\"toc-item-num\">10.2&nbsp;&nbsp;</span><code>for</code>-loops</a></span><ul class=\"toc-item\"><li><span><a href=\"#for-loop-with-the-range()-function\" data-toc-modified-id=\"for-loop-with-the-range()-function-10.2.1\"><span class=\"toc-item-num\">10.2.1&nbsp;&nbsp;</span><code>for</code>-loop with the <code>range()</code> function</a></span></li><li><span><a href=\"#The-continue-statement\" data-toc-modified-id=\"The-continue-statement-10.2.2\"><span class=\"toc-item-num\">10.2.2&nbsp;&nbsp;</span>The <code>continue</code> statement</a></span><ul class=\"toc-item\"><li><span><a href=\"#Exercise-–-Build-your-own-list-function,-part-3\" data-toc-modified-id=\"Exercise-–-Build-your-own-list-function,-part-3-10.2.2.1\"><span class=\"toc-item-num\">10.2.2.1&nbsp;&nbsp;</span>Exercise – Build your own list function, part 3</a></span></li></ul></li><li><span><a href=\"#for-loop-without-range()\" data-toc-modified-id=\"for-loop-without-range()-10.2.3\"><span class=\"toc-item-num\">10.2.3&nbsp;&nbsp;</span><code>for</code>-loop without <code>range()</code></a></span></li><li><span><a href=\"#for-loops-–-with-or-without-range()?\" data-toc-modified-id=\"for-loops-–-with-or-without-range()?-10.2.4\"><span class=\"toc-item-num\">10.2.4&nbsp;&nbsp;</span><code>for</code>-loops – with or without <code>range()</code>?</a></span></li></ul></li></ul></li><li><span><a href=\"#Mutable-and-immutable-objects\" data-toc-modified-id=\"Mutable-and-immutable-objects-11\"><span class=\"toc-item-num\">11&nbsp;&nbsp;</span>Mutable and immutable objects</a></span><ul class=\"toc-item\"><li><span><a href=\"#Variables'-references-to-values\" data-toc-modified-id=\"Variables'-references-to-values-11.1\"><span class=\"toc-item-num\">11.1&nbsp;&nbsp;</span>Variables' references to values</a></span></li><li><span><a href=\"#Mutable-lists-in-local-scopes\" data-toc-modified-id=\"Mutable-lists-in-local-scopes-11.2\"><span class=\"toc-item-num\">11.2&nbsp;&nbsp;</span>Mutable lists in local scopes</a></span><ul class=\"toc-item\"><li><span><a href=\"#Exercise-–-why-doesn't-the-variable-change?\" data-toc-modified-id=\"Exercise-–-why-doesn't-the-variable-change?-11.2.1\"><span class=\"toc-item-num\">11.2.1&nbsp;&nbsp;</span>Exercise – why doesn't the variable change?</a></span></li></ul></li><li><span><a href=\"#How-to-copy-mutable-objects-then?\" data-toc-modified-id=\"How-to-copy-mutable-objects-then?-11.3\"><span class=\"toc-item-num\">11.3&nbsp;&nbsp;</span>How to copy mutable objects then?</a></span></li></ul></li><li><span><a href=\"#Dictionaries\" data-toc-modified-id=\"Dictionaries-12\"><span class=\"toc-item-num\">12&nbsp;&nbsp;</span>Dictionaries</a></span><ul class=\"toc-item\"><li><span><a href=\"#Definitions\" data-toc-modified-id=\"Definitions-12.1\"><span class=\"toc-item-num\">12.1&nbsp;&nbsp;</span>Definitions</a></span></li><li><span><a href=\"#Looping-over-a-dictionary\" data-toc-modified-id=\"Looping-over-a-dictionary-12.2\"><span class=\"toc-item-num\">12.2&nbsp;&nbsp;</span>Looping over a dictionary</a></span></li><li><span><a href=\"#Exercise-–-Consumer-costs\" data-toc-modified-id=\"Exercise-–-Consumer-costs-12.3\"><span class=\"toc-item-num\">12.3&nbsp;&nbsp;</span>Exercise – Consumer costs</a></span></li></ul></li><li><span><a href=\"#Tuples\" data-toc-modified-id=\"Tuples-13\"><span class=\"toc-item-num\">13&nbsp;&nbsp;</span>Tuples</a></span></li><li><span><a href=\"#Errors-and-Exceptions\" data-toc-modified-id=\"Errors-and-Exceptions-14\"><span class=\"toc-item-num\">14&nbsp;&nbsp;</span>Errors and Exceptions</a></span><ul class=\"toc-item\"><li><span><a href=\"#try-and-except-statements\" data-toc-modified-id=\"try-and-except-statements-14.1\"><span class=\"toc-item-num\">14.1&nbsp;&nbsp;</span><code>try</code> and <code>except</code> statements</a></span></li></ul></li></ul></div>"
   ]
  },
  {
   "cell_type": "markdown",
   "metadata": {},
   "source": [
    "**Introduction**"
   ]
  },
  {
   "cell_type": "markdown",
   "metadata": {},
   "source": [
    "Python is a programming language. \"Language\" is a pretty good analogy since python, just like, say, French, consists of some basic foundations – there is the basic \"grammar\" and the vocabulary. If you learn the basics of a language, you will hopefully know enough to experiment with it! Here, we will therefore start to look at the basic stuff in Python. \n",
    "\n",
    "The analogy of learning a language also reflects another important aspect. Learning programming, just as learning a language, from scratch requires time and practice. This notebook will (hopefully) give you the foundation to stand on and enough guidance to start experimenting. But to fully learn Python, you will need to invest time."
   ]
  },
  {
   "cell_type": "markdown",
   "metadata": {},
   "source": [
    "**Words of wisdom**"
   ]
  },
  {
   "cell_type": "markdown",
   "metadata": {},
   "source": [
    "You don't need to be a professional programmer to solve various problems with programming. Often, some simple Python code will do the trick. Going through this notebook, you may sometimes get completely stuck. In those times I recommend that you continue try this procedure:\n",
    "\n",
    "1. Remember that it isn't learning rocket science, and it isn't learning math. You are not stupid!\n",
    "2. If stuck, try reading again and experiment with what you've read\n",
    "3. Google it! Even though I find the company Google terrifying, their search engine is a fantastic way to help you move forward when stuck! Try to put you problem into words and Google it!\n",
    "\n",
    "Also, going through this notebook, you might think there is a little to much emphasis on definitions of various Python concepts. But this is so that when you google stuff to find out why code you wrote didn't work, you'll be familiar with [Python terminology](https://www.w3schools.com/python/python_ref_glossary.asp). You will hopefully have som idea of which concept you want to know more about. One aim with this notebook is to be a reference to return to if you need a quick update on a particular subject.\n"
   ]
  },
  {
   "cell_type": "markdown",
   "metadata": {},
   "source": [
    "**Working in a Jupyter Notebook**"
   ]
  },
  {
   "cell_type": "markdown",
   "metadata": {},
   "source": [
    "Jupyter Notebooks are great for learning. It is really easy to experiment with code. I encourage you to try out the concepts you're about to read about. Here is a Jupyter Notebook cheat-sheet for hotkeys to keep in mind working through this course:\n",
    "\n",
    "- The keys `A` and `B` creates new cells in your notebook. `A` creates a cell above the cell currently selected, and `B` creates one below. Each newly created cell is by default a code cell\n",
    "- `M` sets a cell into a markdown (text input) cell\n",
    "- `Y` sets a cell into a code input cell\n",
    "- <kbd>Shift ⇧</kbd>+<kbd>Enter ↵</kbd> runs a cell, showing you the output of your code (or markdown)\n",
    "- `D,D` (that is, the `D` key typed twice swiftly) will remove the selected cell\n",
    "- `Z` will undo deleted cells (note that this won't work if you're editing within a cell)\n"
   ]
  },
  {
   "cell_type": "markdown",
   "metadata": {},
   "source": [
    "Don't hesitate to add some extra cells and try out the things you read about. That's the best way to learn!"
   ]
  },
  {
   "cell_type": "markdown",
   "metadata": {},
   "source": [
    "**About this course (full disclosure)**"
   ]
  },
  {
   "cell_type": "markdown",
   "metadata": {},
   "source": [
    "This notebook's content has been fully created by me – Johan Ekman. I am working full time as a data journalist at one of Sweden's biggest news papers, and Python is one of my main tools in every day work. But I don't consider myself a professional programmer. This notebook is based on my knowledge of the language, and there may be some explanation that is not 100 per cent accurate. If you spot any errors or misleading explanations, please let me know at johan.h.ekman@gmail.com.\n",
    "\n",
    "Also, a big inspiration was Al Sweigart's course [Automate the boring stuff with Python](https://automatetheboringstuff.com/). I highly recommend it!"
   ]
  },
  {
   "cell_type": "markdown",
   "metadata": {},
   "source": [
    "---"
   ]
  },
  {
   "cell_type": "markdown",
   "metadata": {
    "heading_collapsed": true
   },
   "source": [
    "## Values"
   ]
  },
  {
   "cell_type": "markdown",
   "metadata": {
    "hidden": true
   },
   "source": [
    "The most basic structures in Python are values. All programming aims to do something with some values. There are five basic value types:\n",
    "\n",
    "- Integers\n",
    "- Floating points (i.e floats)\n",
    "- Strings\n",
    "- Booleans\n",
    "- Nonetype (or just the `None` value)"
   ]
  },
  {
   "cell_type": "markdown",
   "metadata": {
    "heading_collapsed": true,
    "hidden": true
   },
   "source": [
    "### Integers"
   ]
  },
  {
   "cell_type": "markdown",
   "metadata": {
    "hidden": true
   },
   "source": [
    "Integers are just plain numbers:"
   ]
  },
  {
   "cell_type": "code",
   "execution_count": 2,
   "metadata": {
    "hidden": true,
    "jupyter": {
     "outputs_hidden": true
    }
   },
   "outputs": [
    {
     "data": {
      "text/plain": [
       "10"
      ]
     },
     "execution_count": 2,
     "metadata": {},
     "output_type": "execute_result"
    }
   ],
   "source": [
    "10"
   ]
  },
  {
   "cell_type": "markdown",
   "metadata": {
    "hidden": true
   },
   "source": [
    "We can always check what type of value we have with the `type()` function (more on functions in chapter 6):"
   ]
  },
  {
   "cell_type": "code",
   "execution_count": 3,
   "metadata": {
    "hidden": true
   },
   "outputs": [
    {
     "data": {
      "text/plain": [
       "int"
      ]
     },
     "execution_count": 3,
     "metadata": {},
     "output_type": "execute_result"
    }
   ],
   "source": [
    "type(10)"
   ]
  },
  {
   "cell_type": "markdown",
   "metadata": {
    "hidden": true
   },
   "source": [
    "`int` for integer!"
   ]
  },
  {
   "cell_type": "markdown",
   "metadata": {
    "heading_collapsed": true,
    "hidden": true
   },
   "source": [
    "### Floats"
   ]
  },
  {
   "cell_type": "code",
   "execution_count": 4,
   "metadata": {
    "hidden": true,
    "jupyter": {
     "outputs_hidden": true
    }
   },
   "outputs": [
    {
     "data": {
      "text/plain": [
       "10.5"
      ]
     },
     "execution_count": 4,
     "metadata": {},
     "output_type": "execute_result"
    }
   ],
   "source": [
    "10.5 # float"
   ]
  },
  {
   "cell_type": "code",
   "execution_count": 5,
   "metadata": {
    "hidden": true,
    "jupyter": {
     "outputs_hidden": true
    }
   },
   "outputs": [
    {
     "data": {
      "text/plain": [
       "float"
      ]
     },
     "execution_count": 5,
     "metadata": {},
     "output_type": "execute_result"
    }
   ],
   "source": [
    "type(10.5)"
   ]
  },
  {
   "cell_type": "markdown",
   "metadata": {
    "hidden": true
   },
   "source": [
    " A float is simply a decimal number. \"Float\" is short for \"floating point number\"."
   ]
  },
  {
   "cell_type": "markdown",
   "metadata": {
    "heading_collapsed": true,
    "hidden": true
   },
   "source": [
    "### String values"
   ]
  },
  {
   "cell_type": "code",
   "execution_count": 6,
   "metadata": {
    "hidden": true,
    "jupyter": {
     "outputs_hidden": true
    }
   },
   "outputs": [
    {
     "data": {
      "text/plain": [
       "'Hello world!'"
      ]
     },
     "execution_count": 6,
     "metadata": {},
     "output_type": "execute_result"
    }
   ],
   "source": [
    "\"Hello world!\""
   ]
  },
  {
   "cell_type": "code",
   "execution_count": 7,
   "metadata": {
    "hidden": true
   },
   "outputs": [
    {
     "data": {
      "text/plain": [
       "str"
      ]
     },
     "execution_count": 7,
     "metadata": {},
     "output_type": "execute_result"
    }
   ],
   "source": [
    "type(\"Hello world!\")"
   ]
  },
  {
   "cell_type": "markdown",
   "metadata": {
    "hidden": true
   },
   "source": [
    "String values can be typed with either single quotation marks `''`, or double `\"\"`:"
   ]
  },
  {
   "cell_type": "code",
   "execution_count": 4,
   "metadata": {
    "hidden": true
   },
   "outputs": [
    {
     "data": {
      "text/plain": [
       "str"
      ]
     },
     "execution_count": 4,
     "metadata": {},
     "output_type": "execute_result"
    }
   ],
   "source": [
    "type('Hello world!')"
   ]
  },
  {
   "cell_type": "markdown",
   "metadata": {
    "heading_collapsed": true,
    "hidden": true
   },
   "source": [
    "### Boolean values"
   ]
  },
  {
   "cell_type": "markdown",
   "metadata": {
    "hidden": true
   },
   "source": [
    "Booleans indicates \"truthiness\". Simply if something is `True` or `False`."
   ]
  },
  {
   "cell_type": "code",
   "execution_count": 8,
   "metadata": {
    "hidden": true
   },
   "outputs": [
    {
     "data": {
      "text/plain": [
       "True"
      ]
     },
     "execution_count": 8,
     "metadata": {},
     "output_type": "execute_result"
    }
   ],
   "source": [
    "True"
   ]
  },
  {
   "cell_type": "code",
   "execution_count": 10,
   "metadata": {
    "hidden": true
   },
   "outputs": [
    {
     "data": {
      "text/plain": [
       "False"
      ]
     },
     "execution_count": 10,
     "metadata": {},
     "output_type": "execute_result"
    }
   ],
   "source": [
    "False"
   ]
  },
  {
   "cell_type": "code",
   "execution_count": 9,
   "metadata": {
    "hidden": true,
    "jupyter": {
     "outputs_hidden": true
    }
   },
   "outputs": [
    {
     "data": {
      "text/plain": [
       "bool"
      ]
     },
     "execution_count": 9,
     "metadata": {},
     "output_type": "execute_result"
    }
   ],
   "source": [
    "type(True)"
   ]
  },
  {
   "cell_type": "markdown",
   "metadata": {
    "hidden": true
   },
   "source": [
    "Please note that Python is a literal programming language, the syntax is important. The value `False` is spelled like so, with a capital `F`. Spelling it `false` will produce an error:"
   ]
  },
  {
   "cell_type": "code",
   "execution_count": 13,
   "metadata": {
    "hidden": true,
    "jupyter": {
     "outputs_hidden": true
    }
   },
   "outputs": [
    {
     "data": {
      "text/plain": [
       "False"
      ]
     },
     "execution_count": 13,
     "metadata": {},
     "output_type": "execute_result"
    }
   ],
   "source": [
    "False"
   ]
  },
  {
   "cell_type": "code",
   "execution_count": 14,
   "metadata": {
    "hidden": true,
    "jupyter": {
     "outputs_hidden": true
    }
   },
   "outputs": [
    {
     "ename": "NameError",
     "evalue": "name 'false' is not defined",
     "output_type": "error",
     "traceback": [
      "\u001b[0;31m---------------------------------------------------------------------------\u001b[0m",
      "\u001b[0;31mNameError\u001b[0m                                 Traceback (most recent call last)",
      "\u001b[0;32m<ipython-input-14-b73d74fcede9>\u001b[0m in \u001b[0;36m<module>\u001b[0;34m\u001b[0m\n\u001b[0;32m----> 1\u001b[0;31m \u001b[0mfalse\u001b[0m\u001b[0;34m\u001b[0m\u001b[0;34m\u001b[0m\u001b[0m\n\u001b[0m",
      "\u001b[0;31mNameError\u001b[0m: name 'false' is not defined"
     ]
    }
   ],
   "source": [
    "false"
   ]
  },
  {
   "cell_type": "markdown",
   "metadata": {
    "heading_collapsed": true,
    "hidden": true
   },
   "source": [
    "### The None value"
   ]
  },
  {
   "cell_type": "markdown",
   "metadata": {
    "hidden": true
   },
   "source": [
    "In programming, there are also values to indicate non-values, or \"nothingness\". In Python, the most common one is the `None` value, or the `NoneType`."
   ]
  },
  {
   "cell_type": "code",
   "execution_count": 143,
   "metadata": {
    "hidden": true,
    "jupyter": {
     "outputs_hidden": true
    }
   },
   "outputs": [],
   "source": [
    "None"
   ]
  },
  {
   "cell_type": "markdown",
   "metadata": {
    "hidden": true
   },
   "source": [
    "Please note that running above cell produces no output. That is because this value indicates no input. There is simply nothing to return from a non-value.\n",
    "\n",
    "The reason why such a valuetype is important is rather abstract. Let's just say that it is sometimes crucial in programming to be able to signal that nothing exists, or has happend in your code's execution."
   ]
  },
  {
   "cell_type": "code",
   "execution_count": 18,
   "metadata": {
    "hidden": true,
    "jupyter": {
     "outputs_hidden": true
    }
   },
   "outputs": [
    {
     "data": {
      "text/plain": [
       "NoneType"
      ]
     },
     "execution_count": 18,
     "metadata": {},
     "output_type": "execute_result"
    }
   ],
   "source": [
    "type(None)"
   ]
  },
  {
   "cell_type": "markdown",
   "metadata": {
    "hidden": true
   },
   "source": [
    "---"
   ]
  },
  {
   "cell_type": "markdown",
   "metadata": {
    "heading_collapsed": true
   },
   "source": [
    "## Expressions and operators"
   ]
  },
  {
   "cell_type": "markdown",
   "metadata": {
    "hidden": true
   },
   "source": [
    "In Python, code is read by the _Python interpreter_. This is, basically, your computer reading and executing your code. It takes the Python code you've written and interprets it to process it then can understand and execute.\n",
    "\n",
    "The most basic form of \"instruction\" you can give your computer – you can give the interpreter – is an **expression**. Expressions always evaluates, they always reduce, into a single value. This means that giving the interpreter a single value is an expression:"
   ]
  },
  {
   "cell_type": "code",
   "execution_count": 144,
   "metadata": {
    "hidden": true
   },
   "outputs": [
    {
     "data": {
      "text/plain": [
       "3"
      ]
     },
     "execution_count": 144,
     "metadata": {},
     "output_type": "execute_result"
    }
   ],
   "source": [
    "3 # this is an expression"
   ]
  },
  {
   "cell_type": "markdown",
   "metadata": {
    "hidden": true
   },
   "source": [
    "But we can also let values interact with eachother in expressions, using **operators**. The most basic ones are the arithmetic operators (basically, math operations). For example:"
   ]
  },
  {
   "cell_type": "code",
   "execution_count": 3,
   "metadata": {
    "hidden": true,
    "jupyter": {
     "outputs_hidden": true
    }
   },
   "outputs": [
    {
     "data": {
      "text/plain": [
       "2"
      ]
     },
     "execution_count": 3,
     "metadata": {},
     "output_type": "execute_result"
    }
   ],
   "source": [
    "1 + 1"
   ]
  },
  {
   "cell_type": "markdown",
   "metadata": {
    "hidden": true
   },
   "source": [
    "In the cell above, we have two integer values that we add together through the _addition operator_ `+`. Here is another one, the subtraction operator, `-`:"
   ]
  },
  {
   "cell_type": "code",
   "execution_count": 20,
   "metadata": {
    "hidden": true,
    "jupyter": {
     "outputs_hidden": true
    }
   },
   "outputs": [
    {
     "data": {
      "text/plain": [
       "903"
      ]
     },
     "execution_count": 20,
     "metadata": {},
     "output_type": "execute_result"
    }
   ],
   "source": [
    "1235 - 332"
   ]
  },
  {
   "cell_type": "markdown",
   "metadata": {
    "hidden": true
   },
   "source": [
    "As you can see, we get an answer to the expression when we run the code. In this case, the integer 903. In Python, we say that the expression `1235 - 332` _returns_ the value 903.\n",
    "\n",
    "More examples of operators:"
   ]
  },
  {
   "cell_type": "code",
   "execution_count": 22,
   "metadata": {
    "hidden": true,
    "jupyter": {
     "outputs_hidden": true
    }
   },
   "outputs": [
    {
     "data": {
      "text/plain": [
       "15"
      ]
     },
     "execution_count": 22,
     "metadata": {},
     "output_type": "execute_result"
    }
   ],
   "source": [
    "5 * 3 # multiplication"
   ]
  },
  {
   "cell_type": "code",
   "execution_count": 23,
   "metadata": {
    "hidden": true,
    "jupyter": {
     "outputs_hidden": true
    }
   },
   "outputs": [
    {
     "data": {
      "text/plain": [
       "17.571428571428573"
      ]
     },
     "execution_count": 23,
     "metadata": {},
     "output_type": "execute_result"
    }
   ],
   "source": [
    "123 / 7 # division"
   ]
  },
  {
   "cell_type": "markdown",
   "metadata": {
    "hidden": true
   },
   "source": [
    "The division operator always returns a float value. Even if the result is even:"
   ]
  },
  {
   "cell_type": "code",
   "execution_count": 82,
   "metadata": {
    "hidden": true
   },
   "outputs": [
    {
     "data": {
      "text/plain": [
       "3.0"
      ]
     },
     "execution_count": 82,
     "metadata": {},
     "output_type": "execute_result"
    }
   ],
   "source": [
    "9 / 3"
   ]
  },
  {
   "cell_type": "markdown",
   "metadata": {
    "hidden": true
   },
   "source": [
    "(Above, you see examples of **comments** in Python code. Everything that follows the `#` sign will be completely ignored by the interpreter. This is how you write comments in your code – to explain stuff without ruining your output! But it is also used to just exclude parts in your code for whatever reason)"
   ]
  },
  {
   "cell_type": "markdown",
   "metadata": {
    "hidden": true
   },
   "source": [
    "We can evaluate longer expressions as well, containing more values:"
   ]
  },
  {
   "cell_type": "code",
   "execution_count": 4,
   "metadata": {
    "hidden": true
   },
   "outputs": [
    {
     "data": {
      "text/plain": [
       "50"
      ]
     },
     "execution_count": 4,
     "metadata": {},
     "output_type": "execute_result"
    }
   ],
   "source": [
    "2 + 4 + 3 + 41"
   ]
  },
  {
   "cell_type": "markdown",
   "metadata": {
    "hidden": true
   },
   "source": [
    "And we can also mix them:"
   ]
  },
  {
   "cell_type": "code",
   "execution_count": 5,
   "metadata": {
    "hidden": true
   },
   "outputs": [
    {
     "data": {
      "text/plain": [
       "-6"
      ]
     },
     "execution_count": 5,
     "metadata": {},
     "output_type": "execute_result"
    }
   ],
   "source": [
    "2 + 4 - 12"
   ]
  },
  {
   "cell_type": "markdown",
   "metadata": {
    "heading_collapsed": true,
    "hidden": true
   },
   "source": [
    "### Order of operations"
   ]
  },
  {
   "cell_type": "markdown",
   "metadata": {
    "hidden": true
   },
   "source": [
    "In Python, code is read by the interpreter in a specific manner. Before the code is run, the interpreter reads the code. It starts at the top of the code to the left, and then reads line by line to the right – one line at the time. But it will then run the code in a specific order depending on certain factors. For example, some operators take precendence over others. As an example:"
   ]
  },
  {
   "cell_type": "code",
   "execution_count": 6,
   "metadata": {
    "hidden": true
   },
   "outputs": [
    {
     "data": {
      "text/plain": [
       "16"
      ]
     },
     "execution_count": 6,
     "metadata": {},
     "output_type": "execute_result"
    }
   ],
   "source": [
    "1 + 3 * 5"
   ]
  },
  {
   "cell_type": "markdown",
   "metadata": {
    "hidden": true
   },
   "source": [
    "Some of you maybe expected the answer 20 (1 plus 3 equals 4, 4 times 5 equals 20). But since the multiplication operator takes precendence, the interpreter returns the value 16.\n",
    "\n",
    "Above, the code is read from left to right. The python interpreter sees the operators and then reads the operations in the expression a specific order. This is called the _order of operations_. This order is:"
   ]
  },
  {
   "cell_type": "markdown",
   "metadata": {
    "hidden": true
   },
   "source": [
    "1. Paranthesis\n",
    "2. Multiplication/division\n",
    "3. addition/subtraction"
   ]
  },
  {
   "cell_type": "markdown",
   "metadata": {
    "hidden": true
   },
   "source": [
    "For example:"
   ]
  },
  {
   "cell_type": "code",
   "execution_count": 7,
   "metadata": {
    "hidden": true,
    "jupyter": {
     "outputs_hidden": true
    }
   },
   "outputs": [
    {
     "data": {
      "text/plain": [
       "20"
      ]
     },
     "execution_count": 7,
     "metadata": {},
     "output_type": "execute_result"
    }
   ],
   "source": [
    "(1 + 3) * 5"
   ]
  },
  {
   "cell_type": "markdown",
   "metadata": {
    "hidden": true
   },
   "source": [
    "Here, the interpreter reads the code, registeres the operators `()`, `+` and `*`. It then prioritises the code within the parenthesis (since code within parenthesis takes precedence), and then runs the resulting value `(1 + 3)` in the remaing operation `4 * 5`. "
   ]
  },
  {
   "cell_type": "markdown",
   "metadata": {
    "hidden": true
   },
   "source": [
    "**The Order of operations**\n",
    "\n",
    "```\n",
    "\n",
    "1. () Parenthesis\n",
    "2. ** Exponant\n",
    "3. *  Multiplication\n",
    "4. /  Division\n",
    "5. +  Addition\n",
    "6. -  Subtraction\n",
    "\n",
    "```"
   ]
  },
  {
   "cell_type": "markdown",
   "metadata": {
    "hidden": true
   },
   "source": [
    "Note that there are a whole bunch more of operators that also take precendence above themselves and above ones. But these will suffice for now. "
   ]
  },
  {
   "cell_type": "markdown",
   "metadata": {
    "heading_collapsed": true,
    "hidden": true
   },
   "source": [
    "#### (Optional) Deep dive into Order of Operations"
   ]
  },
  {
   "cell_type": "markdown",
   "metadata": {
    "hidden": true
   },
   "source": [
    "Let's experiment! (Remember that you can create your own cells in this notebook and try out on your own!)\n",
    "\n",
    "Take this expression, contains four values and three operators (`+`, `/` and `**`). If we run them as is:"
   ]
  },
  {
   "cell_type": "code",
   "execution_count": 34,
   "metadata": {
    "hidden": true
   },
   "outputs": [
    {
     "data": {
      "text/plain": [
       "3.0246913580246915"
      ]
     },
     "execution_count": 34,
     "metadata": {},
     "output_type": "execute_result"
    }
   ],
   "source": [
    "3 + 6 / 3 ** 5"
   ]
  },
  {
   "cell_type": "markdown",
   "metadata": {
    "hidden": true
   },
   "source": [
    "Let us now experiment with paranthesis at various places in the expression. Try to guess what will happen before you run the code:"
   ]
  },
  {
   "cell_type": "code",
   "execution_count": 35,
   "metadata": {
    "hidden": true
   },
   "outputs": [
    {
     "data": {
      "text/plain": [
       "0.037037037037037035"
      ]
     },
     "execution_count": 35,
     "metadata": {},
     "output_type": "execute_result"
    }
   ],
   "source": [
    "(3 + 6) / 3 ** 5"
   ]
  },
  {
   "cell_type": "markdown",
   "metadata": {
    "hidden": true
   },
   "source": [
    "Above, `(3 + 6)` is run first, which equals 9. Then `3 ** 5`, which equals 243. And finally, `9 / 243`"
   ]
  },
  {
   "cell_type": "code",
   "execution_count": 37,
   "metadata": {
    "hidden": true
   },
   "outputs": [
    {
     "data": {
      "text/plain": [
       "0.037037037037037035"
      ]
     },
     "execution_count": 37,
     "metadata": {},
     "output_type": "execute_result"
    }
   ],
   "source": [
    "9 / 243"
   ]
  },
  {
   "cell_type": "code",
   "execution_count": 39,
   "metadata": {
    "hidden": true
   },
   "outputs": [
    {
     "data": {
      "text/plain": [
       "35.0"
      ]
     },
     "execution_count": 39,
     "metadata": {},
     "output_type": "execute_result"
    }
   ],
   "source": [
    "3 + (6 / 3) ** 5"
   ]
  },
  {
   "cell_type": "markdown",
   "metadata": {
    "hidden": true
   },
   "source": [
    "Here, first `(6 / 3)`, which equals 2. Then, `2 ** 5`, equals 32. And finally, `3 + 32`, which is 35."
   ]
  },
  {
   "cell_type": "code",
   "execution_count": 42,
   "metadata": {
    "hidden": true,
    "scrolled": false
   },
   "outputs": [
    {
     "data": {
      "text/plain": [
       "243.0"
      ]
     },
     "execution_count": 42,
     "metadata": {},
     "output_type": "execute_result"
    }
   ],
   "source": [
    "((3 + 6) / 3) ** 5"
   ]
  },
  {
   "cell_type": "markdown",
   "metadata": {
    "hidden": true
   },
   "source": [
    "Here, there are parenthesis within parenthesis, also called nested parenthesis. Remember, the Python interpreter reads  the code from left to right. So it starts reading the parenthesis with its `(` furthest to the left. \n",
    "\n",
    "That is, the expression `(3 + 6) / 3`. \n",
    "\n",
    "Then it reads the encased parenthesis first (since it takes precedence over the `/` operator), `3 + 6` which is 9. \n",
    "\n",
    "Now, it divides the resulting value 9 with 3, equals 3.\n",
    "\n",
    "Finally, it exponates 3 with 5 (`3 ** 5`), which is 243."
   ]
  },
  {
   "cell_type": "markdown",
   "metadata": {
    "heading_collapsed": true,
    "hidden": true
   },
   "source": [
    "#### Exercise – where to put the parenthesis?"
   ]
  },
  {
   "cell_type": "markdown",
   "metadata": {
    "hidden": true
   },
   "source": [
    "Let's do a little exercise. I said in the introduction to this course that programming in Python isn't math. But here we have a small math exercise (sorry!). The goal here is to get you experimenting with the order of operations. We have this long chain of operations on values:"
   ]
  },
  {
   "cell_type": "code",
   "execution_count": 56,
   "metadata": {
    "hidden": true
   },
   "outputs": [
    {
     "data": {
      "text/plain": [
       "61.11666666666667"
      ]
     },
     "execution_count": 56,
     "metadata": {},
     "output_type": "execute_result"
    }
   ],
   "source": [
    "10 + 5 * 10 - 2 / 15 + 5 / 4 "
   ]
  },
  {
   "cell_type": "markdown",
   "metadata": {
    "hidden": true
   },
   "source": [
    "With no parenthesis, this expression evaluates to ~61.12. Try to include parenthesis to **get the answer 1.5 instead**. You will find the solution in the solutions.ipynb notebook. Use these cells below to experiment your way through:"
   ]
  },
  {
   "cell_type": "code",
   "execution_count": null,
   "metadata": {
    "hidden": true
   },
   "outputs": [],
   "source": []
  },
  {
   "cell_type": "code",
   "execution_count": null,
   "metadata": {
    "hidden": true
   },
   "outputs": [],
   "source": []
  },
  {
   "cell_type": "code",
   "execution_count": null,
   "metadata": {
    "hidden": true
   },
   "outputs": [],
   "source": []
  },
  {
   "cell_type": "code",
   "execution_count": null,
   "metadata": {
    "hidden": true
   },
   "outputs": [],
   "source": []
  },
  {
   "cell_type": "markdown",
   "metadata": {
    "heading_collapsed": true,
    "hidden": true
   },
   "source": [
    "### Concatination"
   ]
  },
  {
   "cell_type": "markdown",
   "metadata": {
    "hidden": true
   },
   "source": [
    "In Python, some operators can also be used in expressions with string values. Adding string values together by using the `+` operator is called _concatination_."
   ]
  },
  {
   "cell_type": "code",
   "execution_count": 145,
   "metadata": {
    "hidden": true,
    "jupyter": {
     "outputs_hidden": true
    }
   },
   "outputs": [
    {
     "data": {
      "text/plain": [
       "'Hello world!'"
      ]
     },
     "execution_count": 145,
     "metadata": {},
     "output_type": "execute_result"
    }
   ],
   "source": [
    "\"Hello \" + \"world!\""
   ]
  },
  {
   "cell_type": "code",
   "execution_count": 44,
   "metadata": {
    "hidden": true,
    "jupyter": {
     "outputs_hidden": true
    }
   },
   "outputs": [
    {
     "data": {
      "text/plain": [
       "'Hello world!'"
      ]
     },
     "execution_count": 44,
     "metadata": {},
     "output_type": "execute_result"
    }
   ],
   "source": [
    "\"H\" + \"ello world!\""
   ]
  },
  {
   "cell_type": "markdown",
   "metadata": {
    "hidden": true
   },
   "source": [
    "You can add two string values together, but you cant subtract them. This will lead to an error:"
   ]
  },
  {
   "cell_type": "code",
   "execution_count": 45,
   "metadata": {
    "hidden": true,
    "jupyter": {
     "outputs_hidden": true
    }
   },
   "outputs": [
    {
     "ename": "TypeError",
     "evalue": "unsupported operand type(s) for -: 'str' and 'str'",
     "output_type": "error",
     "traceback": [
      "\u001b[0;31m---------------------------------------------------------------------------\u001b[0m",
      "\u001b[0;31mTypeError\u001b[0m                                 Traceback (most recent call last)",
      "\u001b[0;32m<ipython-input-45-f6f0cf4fba0c>\u001b[0m in \u001b[0;36m<module>\u001b[0;34m\u001b[0m\n\u001b[0;32m----> 1\u001b[0;31m \u001b[0;34m\"Hello world!\"\u001b[0m \u001b[0;34m-\u001b[0m \u001b[0;34m\"world!\"\u001b[0m\u001b[0;34m\u001b[0m\u001b[0;34m\u001b[0m\u001b[0m\n\u001b[0m",
      "\u001b[0;31mTypeError\u001b[0m: unsupported operand type(s) for -: 'str' and 'str'"
     ]
    }
   ],
   "source": [
    "\"Hello world!\" - \"world!\""
   ]
  },
  {
   "cell_type": "markdown",
   "metadata": {
    "hidden": true
   },
   "source": [
    "You can also use the multiplication operator on string values. This is called string replication (and is more of a curiosity than important to be honest; not widely used...)"
   ]
  },
  {
   "cell_type": "code",
   "execution_count": 46,
   "metadata": {
    "hidden": true,
    "jupyter": {
     "outputs_hidden": true
    }
   },
   "outputs": [
    {
     "data": {
      "text/plain": [
       "'Hello world! Hello world! Hello world! Hello world! Hello world! Hello world! Hello world! Hello world! Hello world! Hello world! '"
      ]
     },
     "execution_count": 46,
     "metadata": {},
     "output_type": "execute_result"
    }
   ],
   "source": [
    "\"Hello world! \" * 10"
   ]
  },
  {
   "cell_type": "markdown",
   "metadata": {
    "hidden": true
   },
   "source": [
    "Note that in expressions with string values, order of operations is still in play:"
   ]
  },
  {
   "cell_type": "code",
   "execution_count": 47,
   "metadata": {
    "hidden": true,
    "jupyter": {
     "outputs_hidden": true
    }
   },
   "outputs": [
    {
     "data": {
      "text/plain": [
       "'Hello world!!!!!!!!!!'"
      ]
     },
     "execution_count": 47,
     "metadata": {},
     "output_type": "execute_result"
    }
   ],
   "source": [
    "\"Hello world\" + \"!\" * 10"
   ]
  },
  {
   "cell_type": "code",
   "execution_count": 48,
   "metadata": {
    "hidden": true,
    "jupyter": {
     "outputs_hidden": true
    }
   },
   "outputs": [
    {
     "data": {
      "text/plain": [
       "'Hello world! Hello world! Hello world! Hello world! Hello world! Hello world! Hello world! Hello world! Hello world! Hello world! '"
      ]
     },
     "execution_count": 48,
     "metadata": {},
     "output_type": "execute_result"
    }
   ],
   "source": [
    "(\"Hello world\" + \"! \") * 10"
   ]
  },
  {
   "cell_type": "markdown",
   "metadata": {
    "heading_collapsed": true
   },
   "source": [
    "## Variables and statements"
   ]
  },
  {
   "cell_type": "markdown",
   "metadata": {
    "heading_collapsed": true,
    "hidden": true
   },
   "source": [
    "#### Quick sidenote – the `print()` function"
   ]
  },
  {
   "cell_type": "markdown",
   "metadata": {
    "hidden": true
   },
   "source": [
    "Below, we'll use the `print()` function. It takes any value within its parenthesis and \"prints\" it back to you. It is one (of many) of Python's _built-in functions_ (we will go through this thoroughly in chapter 6). In a Jupyter Notebook, this function is sort of redundant. In a notebook, the value being returned is always shown as the cell output when we run the code. For example:"
   ]
  },
  {
   "cell_type": "code",
   "execution_count": 19,
   "metadata": {
    "hidden": true
   },
   "outputs": [
    {
     "data": {
      "text/plain": [
       "3"
      ]
     },
     "execution_count": 19,
     "metadata": {},
     "output_type": "execute_result"
    }
   ],
   "source": [
    "3"
   ]
  },
  {
   "cell_type": "code",
   "execution_count": 20,
   "metadata": {
    "hidden": true
   },
   "outputs": [
    {
     "name": "stdout",
     "output_type": "stream",
     "text": [
      "3\n"
     ]
    }
   ],
   "source": [
    "print(3)"
   ]
  },
  {
   "cell_type": "markdown",
   "metadata": {
    "hidden": true
   },
   "source": [
    "However, it is a function that is used ALL THE TIME in Python, mostly for debugging code. Like when you want to know what value is behind a certain variable. \n",
    "\n",
    "For now, it is enough to know that it is a function, and that it just \"prints\" what ever value it is given to the user :)"
   ]
  },
  {
   "cell_type": "markdown",
   "metadata": {
    "heading_collapsed": true,
    "hidden": true
   },
   "source": [
    "### Assigning variables"
   ]
  },
  {
   "cell_type": "markdown",
   "metadata": {
    "hidden": true
   },
   "source": [
    "Now to another fundamental componant of Python – _variables_. \n",
    "\n",
    "Variables can maybe best be described as names we give to values in our code. This is done with the **assignment operator** `=`:"
   ]
  },
  {
   "cell_type": "code",
   "execution_count": 8,
   "metadata": {
    "hidden": true,
    "jupyter": {
     "outputs_hidden": true
    }
   },
   "outputs": [],
   "source": [
    "number = 3"
   ]
  },
  {
   "cell_type": "markdown",
   "metadata": {
    "hidden": true
   },
   "source": [
    "Above, we _assign_ the name `number` to a value – the integer 3. This is called an **assignment statement** in python."
   ]
  },
  {
   "cell_type": "markdown",
   "metadata": {
    "hidden": true
   },
   "source": [
    "The variable name `number` is now registered in the computers memory and points to the integer value 3. It is sort of like a nametag! \n",
    "\n",
    "So, if we type `number` in our code, the value 3 will be returned!"
   ]
  },
  {
   "cell_type": "code",
   "execution_count": 51,
   "metadata": {
    "hidden": true,
    "jupyter": {
     "outputs_hidden": true
    }
   },
   "outputs": [
    {
     "data": {
      "text/plain": [
       "3"
      ]
     },
     "execution_count": 51,
     "metadata": {},
     "output_type": "execute_result"
    }
   ],
   "source": [
    "number"
   ]
  },
  {
   "cell_type": "markdown",
   "metadata": {
    "hidden": true
   },
   "source": [
    "We can use our variables in expressions with operators:"
   ]
  },
  {
   "cell_type": "code",
   "execution_count": 52,
   "metadata": {
    "hidden": true
   },
   "outputs": [
    {
     "data": {
      "text/plain": [
       "15"
      ]
     },
     "execution_count": 52,
     "metadata": {},
     "output_type": "execute_result"
    }
   ],
   "source": [
    "number * 5"
   ]
  },
  {
   "cell_type": "markdown",
   "metadata": {
    "hidden": true
   },
   "source": [
    "The name of a variable is saved to the computers memory, in what's called the variables **namespace**. Namespaces are kept seperated so that the computer doesn't mix up what's what in your code. \n",
    "\n",
    "This means that naming variables in Python is bound by certain rules. For example, names cannot be seperated by blank space:"
   ]
  },
  {
   "cell_type": "code",
   "execution_count": 53,
   "metadata": {
    "hidden": true
   },
   "outputs": [
    {
     "ename": "SyntaxError",
     "evalue": "invalid syntax (<ipython-input-53-d7b288421347>, line 1)",
     "output_type": "error",
     "traceback": [
      "\u001b[0;36m  File \u001b[0;32m\"<ipython-input-53-d7b288421347>\"\u001b[0;36m, line \u001b[0;32m1\u001b[0m\n\u001b[0;31m    number one = 3\u001b[0m\n\u001b[0m           ^\u001b[0m\n\u001b[0;31mSyntaxError\u001b[0m\u001b[0;31m:\u001b[0m invalid syntax\n"
     ]
    }
   ],
   "source": [
    "number one = 3"
   ]
  },
  {
   "cell_type": "markdown",
   "metadata": {
    "hidden": true
   },
   "source": [
    "...or include special characters:"
   ]
  },
  {
   "cell_type": "code",
   "execution_count": 148,
   "metadata": {
    "hidden": true
   },
   "outputs": [
    {
     "ename": "SyntaxError",
     "evalue": "cannot assign to operator (<ipython-input-148-911e113b032f>, line 1)",
     "output_type": "error",
     "traceback": [
      "\u001b[0;36m  File \u001b[0;32m\"<ipython-input-148-911e113b032f>\"\u001b[0;36m, line \u001b[0;32m1\u001b[0m\n\u001b[0;31m    number%one = 3\u001b[0m\n\u001b[0m    ^\u001b[0m\n\u001b[0;31mSyntaxError\u001b[0m\u001b[0;31m:\u001b[0m cannot assign to operator\n"
     ]
    }
   ],
   "source": [
    "number%one = 3"
   ]
  },
  {
   "cell_type": "markdown",
   "metadata": {
    "hidden": true
   },
   "source": [
    "We can do operations using only variables:"
   ]
  },
  {
   "cell_type": "code",
   "execution_count": 9,
   "metadata": {
    "hidden": true
   },
   "outputs": [
    {
     "data": {
      "text/plain": [
       "15"
      ]
     },
     "execution_count": 9,
     "metadata": {},
     "output_type": "execute_result"
    }
   ],
   "source": [
    "number1 = 3\n",
    "number2 = 5\n",
    "\n",
    "number1 * number2"
   ]
  },
  {
   "cell_type": "markdown",
   "metadata": {
    "hidden": true
   },
   "source": [
    "As a final point on simple assignment statements. In the Python community, _readability_ is seen as a virtue. Therefore: **always name your variables in a readable and logical manner.** This is to make the code more pleasent to read and easier to understand."
   ]
  },
  {
   "cell_type": "code",
   "execution_count": 80,
   "metadata": {
    "hidden": true
   },
   "outputs": [],
   "source": [
    "a = 3 # not a particularly good variable name\n",
    "stuff = 3 # also not very helpful\n",
    "num = 3 # better!\n",
    "int_number = 3 # even better! (maybe a little long)"
   ]
  },
  {
   "cell_type": "markdown",
   "metadata": {
    "heading_collapsed": true,
    "hidden": true
   },
   "source": [
    "### Variables and strings"
   ]
  },
  {
   "cell_type": "markdown",
   "metadata": {
    "hidden": true
   },
   "source": [
    "Of course, we can also use variables when doing string concatination:"
   ]
  },
  {
   "cell_type": "code",
   "execution_count": 59,
   "metadata": {
    "hidden": true
   },
   "outputs": [
    {
     "data": {
      "text/plain": [
       "'Hello world!'"
      ]
     },
     "execution_count": 59,
     "metadata": {},
     "output_type": "execute_result"
    }
   ],
   "source": [
    "string1 = \"Hello \"\n",
    "string2 = \"world!\"\n",
    "\n",
    "string1 + string2"
   ]
  },
  {
   "cell_type": "markdown",
   "metadata": {
    "hidden": true
   },
   "source": [
    "But there are many important ways we can use variables and strings together. So this section will go over string values a bit more thoroghly, starting with long strings:"
   ]
  },
  {
   "cell_type": "markdown",
   "metadata": {
    "heading_collapsed": true,
    "hidden": true
   },
   "source": [
    "#### Long strings"
   ]
  },
  {
   "cell_type": "markdown",
   "metadata": {
    "hidden": true
   },
   "source": [
    "Sometimes we want to assign very long string values to variables. To have one long string on one row is not very readable:"
   ]
  },
  {
   "cell_type": "code",
   "execution_count": 150,
   "metadata": {
    "hidden": true
   },
   "outputs": [
    {
     "data": {
      "text/plain": [
       "'Hello everyone! I am very happy that you are trying out this course. Also, this is a long string with no line breaks. Thanks!'"
      ]
     },
     "execution_count": 150,
     "metadata": {},
     "output_type": "execute_result"
    }
   ],
   "source": [
    "\"Hello everyone! I am very happy that you are trying out this course. Also, this is a long string with no line breaks. Thanks!\""
   ]
  },
  {
   "cell_type": "markdown",
   "metadata": {
    "hidden": true
   },
   "source": [
    "If you want to create a long string value, you can pass three quotation marks `\"\"\"` on each side of the text. Within those, you can do line breaks etc:"
   ]
  },
  {
   "cell_type": "code",
   "execution_count": 7,
   "metadata": {
    "hidden": true
   },
   "outputs": [
    {
     "data": {
      "text/plain": [
       "'Hello everyone!\\n\\nI am very happy that you are trying out this course.\\nAlso, this is a long string with line breaks.\\n\\nThanks!\\n\\n'"
      ]
     },
     "execution_count": 7,
     "metadata": {},
     "output_type": "execute_result"
    }
   ],
   "source": [
    "\"\"\"Hello everyone!\n",
    "\n",
    "I am very happy that you are trying out this course.\n",
    "Also, this is a long string with line breaks.\n",
    "\n",
    "Thanks!\n",
    "\n",
    "\"\"\""
   ]
  },
  {
   "cell_type": "markdown",
   "metadata": {
    "hidden": true
   },
   "source": [
    "In the output above, you see the character `\\n` – this is just the line break symbol. If we use the `print()` function, we will get the string value as we typed it:"
   ]
  },
  {
   "cell_type": "code",
   "execution_count": 9,
   "metadata": {
    "hidden": true
   },
   "outputs": [
    {
     "name": "stdout",
     "output_type": "stream",
     "text": [
      "Hello everyone!\n",
      "\n",
      "I am very happy that you are trying out this course.\n",
      "Also, this is a long string with line breaks.\n",
      "\n",
      "Thanks!\n",
      "\n"
     ]
    }
   ],
   "source": [
    "print(\"\"\"Hello everyone!\n",
    "\n",
    "I am very happy that you are trying out this course.\n",
    "Also, this is a long string with line breaks.\n",
    "\n",
    "Thanks!\n",
    "\"\"\")"
   ]
  },
  {
   "cell_type": "markdown",
   "metadata": {
    "heading_collapsed": true,
    "hidden": true
   },
   "source": [
    "#### String formatting – inserting variables into string values"
   ]
  },
  {
   "cell_type": "markdown",
   "metadata": {
    "hidden": true
   },
   "source": [
    "In Python, it is very common to insert variables in string values. Let's say we have a name that we would like to insert into a sentence:"
   ]
  },
  {
   "cell_type": "code",
   "execution_count": 151,
   "metadata": {
    "hidden": true
   },
   "outputs": [],
   "source": [
    "name = \"Johan\"\n",
    "sentence = \" is a pretty nice guy!\""
   ]
  },
  {
   "cell_type": "markdown",
   "metadata": {
    "hidden": true
   },
   "source": [
    "We could use string concatination to create a full sentence:"
   ]
  },
  {
   "cell_type": "code",
   "execution_count": 152,
   "metadata": {
    "hidden": true
   },
   "outputs": [
    {
     "data": {
      "text/plain": [
       "'Johan is a pretty nice guy!'"
      ]
     },
     "execution_count": 152,
     "metadata": {},
     "output_type": "execute_result"
    }
   ],
   "source": [
    "name + sentence"
   ]
  },
  {
   "cell_type": "markdown",
   "metadata": {
    "hidden": true
   },
   "source": [
    "Well, thank you!"
   ]
  },
  {
   "cell_type": "markdown",
   "metadata": {
    "hidden": true
   },
   "source": [
    "But there is an even cleaner way of doing it where we don't need an operator. We can use **string formatting**. There are various ways to do string formatting, but the latest is called **f-strings**.\n",
    "\n",
    "To do this we need the key letter `f` just before the string quotations, like so: `f\"\"`. This tells the interpreter that the string will be formatted with variables. To include variables, we insert them inside curly brackets `{}` within the string. Using string formatting, we can thus type: "
   ]
  },
  {
   "cell_type": "code",
   "execution_count": 62,
   "metadata": {
    "hidden": true
   },
   "outputs": [
    {
     "data": {
      "text/plain": [
       "'Johan is a pretty nice guy!'"
      ]
     },
     "execution_count": 62,
     "metadata": {},
     "output_type": "execute_result"
    }
   ],
   "source": [
    "f\"{name} is a pretty nice guy!\""
   ]
  },
  {
   "cell_type": "markdown",
   "metadata": {
    "hidden": true
   },
   "source": [
    "..or just:"
   ]
  },
  {
   "cell_type": "code",
   "execution_count": 154,
   "metadata": {
    "hidden": true
   },
   "outputs": [
    {
     "data": {
      "text/plain": [
       "'Johan is a pretty nice guy!'"
      ]
     },
     "execution_count": 154,
     "metadata": {},
     "output_type": "execute_result"
    }
   ],
   "source": [
    "f\"{name}{sentence}\""
   ]
  },
  {
   "cell_type": "markdown",
   "metadata": {
    "hidden": true
   },
   "source": [
    "**CAUTION!** This is a very very useful technique. But the syntax (=the structure of statements in the code) of string formatting has varied in different versions of Python. This means the f-string syntax won't work in older versions of Python. The older syntax, however, is still acceptable in newer versions.\n",
    "\n",
    "I won't go through the these in detail, just show you how the same string can be produced with string formatting in older versions of Python:"
   ]
  },
  {
   "cell_type": "code",
   "execution_count": 66,
   "metadata": {
    "hidden": true
   },
   "outputs": [
    {
     "data": {
      "text/plain": [
       "'Johan is a pretty nice guy!'"
      ]
     },
     "execution_count": 66,
     "metadata": {},
     "output_type": "execute_result"
    }
   ],
   "source": [
    "f\"{name} is a pretty nice guy!\" # f-string, available in Python 3.6 and later"
   ]
  },
  {
   "cell_type": "code",
   "execution_count": 67,
   "metadata": {
    "hidden": true
   },
   "outputs": [
    {
     "data": {
      "text/plain": [
       "'Johan is a pretty nice guy!'"
      ]
     },
     "execution_count": 67,
     "metadata": {},
     "output_type": "execute_result"
    }
   ],
   "source": [
    "\"{} is a pretty nice guy!\".format(name) # introduced in Python 3.0, now works in all versions 2.6 and later"
   ]
  },
  {
   "cell_type": "code",
   "execution_count": 68,
   "metadata": {
    "hidden": true
   },
   "outputs": [
    {
     "data": {
      "text/plain": [
       "'Johan is a pretty nice guy!'"
      ]
     },
     "execution_count": 68,
     "metadata": {},
     "output_type": "execute_result"
    }
   ],
   "source": [
    "\"%s is a pretty nice guy!\" % name # older than 2.6"
   ]
  },
  {
   "cell_type": "markdown",
   "metadata": {
    "hidden": true
   },
   "source": [
    "I highly recommend the f-string, since it is way more readable, clean and easy to write."
   ]
  },
  {
   "cell_type": "markdown",
   "metadata": {
    "heading_collapsed": true,
    "hidden": true
   },
   "source": [
    "#### (Deepdive) – Long strings, string literals and the escape character `\\`"
   ]
  },
  {
   "cell_type": "markdown",
   "metadata": {
    "heading_collapsed": true,
    "hidden": true
   },
   "source": [
    "#####  More on tripple quote strings"
   ]
  },
  {
   "cell_type": "markdown",
   "metadata": {
    "hidden": true
   },
   "source": [
    "Above, we briefly touched the subject of creating long strings with tripple quotes `\"\"\"`. In these, we tell the interpreter that _all_ characters following these quotes are part of one string value, until it finds a the enclosing set of tripple quotes. This means we can do linebreaks within the string to make it more readable since we don't want the entire string on one line. Take this example:"
   ]
  },
  {
   "cell_type": "code",
   "execution_count": 156,
   "metadata": {
    "hidden": true
   },
   "outputs": [],
   "source": [
    "# This isn't very readable...\n",
    "single_quotes = \"This is a long string. This is a long string. This is a long string. This is a long string. This is a long string. This is a long string. This is a long string. This is a long string. \"\n",
    "\n",
    "# ...compared to this:\n",
    "tripple_quotes = \"\"\"\n",
    "This is a long string. \n",
    "This is a long string. \n",
    "This is a long string. \n",
    "This is a long string. \n",
    "This is a long string. \n",
    "This is a long string. \n",
    "This is a long string. \n",
    "This is a long string. \n",
    "\"\"\""
   ]
  },
  {
   "cell_type": "markdown",
   "metadata": {
    "hidden": true
   },
   "source": [
    "As you can see, the same string is a lot more readable using the `\"\"\"`. We should always try to make the code more readable (more on this in section 3.5), and as a general guidance: **never write lines of code that are more than 70 characters long**. The string value assigned to `single_quotes` is thus to long. The `tripple_quotes` string value is much more readable!\n",
    "\n",
    "\n",
    "However, _they are not the same string._ The reason is because we did linebreaks in the second one. The difference becomes apparent if we print the two variables:"
   ]
  },
  {
   "cell_type": "code",
   "execution_count": 157,
   "metadata": {
    "hidden": true
   },
   "outputs": [
    {
     "name": "stdout",
     "output_type": "stream",
     "text": [
      "This is a long string. This is a long string. This is a long string. This is a long string. This is a long string. This is a long string. This is a long string. This is a long string. \n"
     ]
    }
   ],
   "source": [
    "print(single_quotes)"
   ]
  },
  {
   "cell_type": "code",
   "execution_count": 158,
   "metadata": {
    "hidden": true
   },
   "outputs": [
    {
     "name": "stdout",
     "output_type": "stream",
     "text": [
      "\n",
      "This is a long string. \n",
      "This is a long string. \n",
      "This is a long string. \n",
      "This is a long string. \n",
      "This is a long string. \n",
      "This is a long string. \n",
      "This is a long string. \n",
      "This is a long string. \n",
      "\n"
     ]
    }
   ],
   "source": [
    "print(tripple_quotes)"
   ]
  },
  {
   "cell_type": "markdown",
   "metadata": {
    "heading_collapsed": true,
    "hidden": true
   },
   "source": [
    "##### String literals and the backslash `\\`"
   ]
  },
  {
   "cell_type": "markdown",
   "metadata": {
    "hidden": true
   },
   "source": [
    "If we want a more readable code using tripple quotes, but don't want to include any linebreak characters, we can use the backslash `\\` character. This is a special character that lets us escape so called **string literals**. [There are a handful that you can use](https://docs.python.org/2.0/ref/strings.html), and they help us format strings in different ways. I won't go through them all here, but we've already covered one – the newline string literal `\\n`: \n",
    "\n"
   ]
  },
  {
   "cell_type": "code",
   "execution_count": 159,
   "metadata": {
    "hidden": true
   },
   "outputs": [
    {
     "name": "stdout",
     "output_type": "stream",
     "text": [
      "Hello\n",
      "world!\n"
     ]
    }
   ],
   "source": [
    "print(\"Hello\\nworld!\") # \\n means \"insert newline\""
   ]
  },
  {
   "cell_type": "markdown",
   "metadata": {
    "hidden": true
   },
   "source": [
    "Also, the horisontal tab `\\t`:"
   ]
  },
  {
   "cell_type": "code",
   "execution_count": 160,
   "metadata": {
    "hidden": true
   },
   "outputs": [
    {
     "name": "stdout",
     "output_type": "stream",
     "text": [
      "Hello\tworld!\n"
     ]
    }
   ],
   "source": [
    "print(\"Hello\\tworld!\")"
   ]
  },
  {
   "cell_type": "markdown",
   "metadata": {
    "hidden": true
   },
   "source": [
    "The newline string literal is actually inserted in tripple quote strings every time we press <kbd>Enter ↵</kbd> within our string quotes:"
   ]
  },
  {
   "cell_type": "code",
   "execution_count": 161,
   "metadata": {
    "hidden": true
   },
   "outputs": [
    {
     "data": {
      "text/plain": [
       "'\\n'"
      ]
     },
     "execution_count": 161,
     "metadata": {},
     "output_type": "execute_result"
    }
   ],
   "source": [
    "\"\"\"\n",
    "\"\"\""
   ]
  },
  {
   "cell_type": "markdown",
   "metadata": {
    "hidden": true
   },
   "source": [
    "So, back to the example we had in the variable `tripple_quotes`, we actually included the newline `\\n` in the string on every row:"
   ]
  },
  {
   "cell_type": "code",
   "execution_count": 162,
   "metadata": {
    "hidden": true
   },
   "outputs": [],
   "source": [
    "tripple_quotes = \"\"\"\n",
    "This is a long string. \n",
    "This is a long string. \n",
    "This is a long string. \n",
    "This is a long string. \n",
    "This is a long string. \n",
    "This is a long string. \n",
    "This is a long string. \n",
    "This is a long string. \n",
    "\"\"\""
   ]
  },
  {
   "cell_type": "code",
   "execution_count": 163,
   "metadata": {
    "hidden": true
   },
   "outputs": [
    {
     "data": {
      "text/plain": [
       "'\\nThis is a long string. \\nThis is a long string. \\nThis is a long string. \\nThis is a long string. \\nThis is a long string. \\nThis is a long string. \\nThis is a long string. \\nThis is a long string. \\n'"
      ]
     },
     "execution_count": 163,
     "metadata": {},
     "output_type": "execute_result"
    }
   ],
   "source": [
    "tripple_quotes"
   ]
  },
  {
   "cell_type": "markdown",
   "metadata": {
    "hidden": true
   },
   "source": [
    "This means that if we were aiming to rewrite the variable `single_quotes` with `\"\"\"`, we failed, since it is a different string value:"
   ]
  },
  {
   "cell_type": "code",
   "execution_count": 164,
   "metadata": {
    "hidden": true
   },
   "outputs": [
    {
     "data": {
      "text/plain": [
       "'This is a long string. This is a long string. This is a long string. This is a long string. This is a long string. This is a long string. This is a long string. This is a long string. '"
      ]
     },
     "execution_count": 164,
     "metadata": {},
     "output_type": "execute_result"
    }
   ],
   "source": [
    "single_quotes"
   ]
  },
  {
   "cell_type": "markdown",
   "metadata": {
    "hidden": true
   },
   "source": [
    "Using a comparison operator (more on these in the next chapter, they return True if values on each side of the `==` operator are the same), we can see that they are not the same value:"
   ]
  },
  {
   "cell_type": "code",
   "execution_count": 165,
   "metadata": {
    "hidden": true
   },
   "outputs": [
    {
     "data": {
      "text/plain": [
       "False"
      ]
     },
     "execution_count": 165,
     "metadata": {},
     "output_type": "execute_result"
    }
   ],
   "source": [
    "single_quotes == tripple_quotes"
   ]
  },
  {
   "cell_type": "markdown",
   "metadata": {
    "hidden": true
   },
   "source": [
    "However, we can nullify string literals by using the escape character, the backslash `\\`:"
   ]
  },
  {
   "cell_type": "code",
   "execution_count": 166,
   "metadata": {
    "hidden": true
   },
   "outputs": [
    {
     "data": {
      "text/plain": [
       "''"
      ]
     },
     "execution_count": 166,
     "metadata": {},
     "output_type": "execute_result"
    }
   ],
   "source": [
    "\"\"\"\\\n",
    "\"\"\""
   ]
  },
  {
   "cell_type": "markdown",
   "metadata": {
    "hidden": true
   },
   "source": [
    "Using the backslash, we can still use tripple quotes, and get the same value! It is handy while working with long string values – to increase readability while at the same time tell the interpreter which linebreaks that should include newline characters. In this case, we can escape all newlines to get `tripple_quotes` and `single_quotes` to produce the same exact string value.\n",
    "\n",
    "So, if we want Using the `\\` character:"
   ]
  },
  {
   "cell_type": "code",
   "execution_count": 167,
   "metadata": {
    "hidden": true
   },
   "outputs": [],
   "source": [
    "tripple_quotes = \"\"\"\\\n",
    "This is a long string. \\\n",
    "This is a long string. \\\n",
    "This is a long string. \\\n",
    "This is a long string. \\\n",
    "This is a long string. \\\n",
    "This is a long string. \\\n",
    "This is a long string. \\\n",
    "This is a long string. \\\n",
    "\"\"\""
   ]
  },
  {
   "cell_type": "code",
   "execution_count": 168,
   "metadata": {
    "hidden": true,
    "scrolled": true
   },
   "outputs": [
    {
     "name": "stdout",
     "output_type": "stream",
     "text": [
      "This is a long string. This is a long string. This is a long string. This is a long string. This is a long string. This is a long string. This is a long string. This is a long string. \n"
     ]
    }
   ],
   "source": [
    "print(tripple_quotes)"
   ]
  },
  {
   "cell_type": "code",
   "execution_count": 169,
   "metadata": {
    "hidden": true
   },
   "outputs": [
    {
     "data": {
      "text/plain": [
       "True"
      ]
     },
     "execution_count": 169,
     "metadata": {},
     "output_type": "execute_result"
    }
   ],
   "source": [
    "tripple_quotes == single_quotes # tada!"
   ]
  },
  {
   "cell_type": "markdown",
   "metadata": {
    "hidden": true
   },
   "source": [
    "The mixture of tripple quotes and the `\\` character is more for situations where you want one passage in the string to remain on one line, while some other parts of the same string value should be including newline characters. Take this example:"
   ]
  },
  {
   "cell_type": "code",
   "execution_count": 170,
   "metadata": {
    "hidden": true
   },
   "outputs": [],
   "source": [
    "long_string = \"\"\"\n",
    "This is one long sentence, with a lot of words, \\\n",
    "that I still want to be kept in one long sentence; \\\n",
    "but since it is rather long I will need to cut it \\\n",
    "up to increase readability.\n",
    "\n",
    "This, however, is a list within the string, \\\n",
    "and here I WANT linebreaks:\n",
    "\n",
    "- First item\n",
    "- Second item\n",
    "- Third item\n",
    "etc...\n",
    "\n",
    "\"\"\""
   ]
  },
  {
   "cell_type": "code",
   "execution_count": 171,
   "metadata": {
    "hidden": true
   },
   "outputs": [
    {
     "name": "stdout",
     "output_type": "stream",
     "text": [
      "\n",
      "This is one long sentence, with a lot of words, that I still want to be kept in one long sentence; but since it is rather long I will need to cut it up to increase readability.\n",
      "\n",
      "This, however, is a list within the string, and here I WANT linebreaks:\n",
      "\n",
      "- First item\n",
      "- Second item\n",
      "- Third item\n",
      "etc...\n",
      "\n",
      "\n"
     ]
    }
   ],
   "source": [
    "print(long_string)"
   ]
  },
  {
   "cell_type": "markdown",
   "metadata": {
    "hidden": true
   },
   "source": [
    "As a final point, the backslash is also called the **line continuation character**. If NOT used in a string value, it tells the interpreter \"this line of code continues on the next line\"! Take this example where we concatinate a long string:"
   ]
  },
  {
   "cell_type": "code",
   "execution_count": 172,
   "metadata": {
    "hidden": true,
    "scrolled": true
   },
   "outputs": [
    {
     "ename": "SyntaxError",
     "evalue": "invalid syntax (<ipython-input-172-e8beae0e0012>, line 2)",
     "output_type": "error",
     "traceback": [
      "\u001b[0;36m  File \u001b[0;32m\"<ipython-input-172-e8beae0e0012>\"\u001b[0;36m, line \u001b[0;32m2\u001b[0m\n\u001b[0;31m    \"Hello \" +\u001b[0m\n\u001b[0m              ^\u001b[0m\n\u001b[0;31mSyntaxError\u001b[0m\u001b[0;31m:\u001b[0m invalid syntax\n"
     ]
    }
   ],
   "source": [
    "# This will fail\n",
    "\"Hello \" +\n",
    "\"world! \" +\n",
    "\"How \" +\n",
    "\"are \" +\n",
    "\"you?\""
   ]
  },
  {
   "cell_type": "markdown",
   "metadata": {
    "hidden": true
   },
   "source": [
    "But if we use the line continuation character:"
   ]
  },
  {
   "cell_type": "code",
   "execution_count": 173,
   "metadata": {
    "hidden": true
   },
   "outputs": [
    {
     "data": {
      "text/plain": [
       "'Hello world! How are you?'"
      ]
     },
     "execution_count": 173,
     "metadata": {},
     "output_type": "execute_result"
    }
   ],
   "source": [
    "\"Hello \" + \\\n",
    "\"world! \" + \\\n",
    "\"How \" + \\\n",
    "\"are \" + \\\n",
    "\"you?\""
   ]
  },
  {
   "cell_type": "markdown",
   "metadata": {
    "heading_collapsed": true,
    "hidden": true
   },
   "source": [
    "##### Exercise – write a letter!"
   ]
  },
  {
   "cell_type": "markdown",
   "metadata": {
    "hidden": true
   },
   "source": [
    "In this exercise, you will need to reformat the following text (it is a grocery list) so that it gets printed in  the correct manner. You will also need to heed of the rule to not have any line of code longer than ~70 characters. The parts enclosed within `<>` shall be replaced by whatever is instructed using variables and string formatting! "
   ]
  },
  {
   "cell_type": "markdown",
   "metadata": {
    "hidden": true
   },
   "source": [
    "Here's the letter with the grocery list:"
   ]
  },
  {
   "cell_type": "code",
   "execution_count": 44,
   "metadata": {
    "hidden": true
   },
   "outputs": [],
   "source": [
    "grocery_list = \"Hi <receiver>! All ingredients are necessary, \\\n",
    "so please don't forget any item in the list. Also, you know I love \\\n",
    "a little snack after dinner, so please get something you know I \\\n",
    "love – like <nice_treat>. Please hurry, I am starving! - Milk - \\\n",
    "Spinach - Strawberry jam - Spam - Whole cream - Cat food Remember \\\n",
    "that we have loads of credits to spend. We need to save up some \\\n",
    "money for our dream vacation next year. I am soooo looking forward \\\n",
    "to travel to <destination>. That is, if the virus ever would let us go :( Love, \\\n",
    "<your_name>\""
   ]
  },
  {
   "cell_type": "code",
   "execution_count": 45,
   "metadata": {
    "hidden": true
   },
   "outputs": [
    {
     "name": "stdout",
     "output_type": "stream",
     "text": [
      "Hi <receiver>! All ingredients are necessary, so please don't forget any item in the list. Also, you know I love a little snack after dinner, so please get something you know I love – like <nice_treat>. Please hurry, I am starving! - Milk - Spinach - Strawberry jam - Spam - Whole cream - Cat food Remember that we have loads of credits to spend. We need to save up some money for our dream vacation next year. I am soooo looking forward to travel to <destination>. That is, if the virus ever would let us go :( Love, <your_name>\n"
     ]
    }
   ],
   "source": [
    "print(grocery_list)"
   ]
  },
  {
   "cell_type": "markdown",
   "metadata": {
    "hidden": true
   },
   "source": [
    "At the moment, it is on one single line. You will need to format it using these variables and string formatting:"
   ]
  },
  {
   "cell_type": "code",
   "execution_count": 46,
   "metadata": {
    "hidden": true
   },
   "outputs": [],
   "source": [
    "receiver = \"\"\n",
    "nice_treat = \"\"\n",
    "destination = \"\"\n",
    "your_name = \"\""
   ]
  },
  {
   "cell_type": "markdown",
   "metadata": {
    "hidden": true
   },
   "source": [
    "Here's how it should look:"
   ]
  },
  {
   "cell_type": "code",
   "execution_count": 48,
   "metadata": {
    "hidden": true
   },
   "outputs": [
    {
     "name": "stdout",
     "output_type": "stream",
     "text": [
      "\n",
      "Hi Mom!\n",
      "\n",
      "All ingredients are necessary, so please don't forget any item in the list. Also, you know I love a little snack after dinner, so please get something you know I love – like Ben & Jerrie's ice cream. Please hurry, I am starving!\n",
      "\n",
      "- Milk\n",
      "- Spinach\n",
      "- Strawberry jam\n",
      "- Spam\n",
      "- Whole cream\n",
      "- Cat food\n",
      "\n",
      "Remember that we have loads of credits to spend. We need to save up some money for our dream vacation next year. I am soooo looking forward to travel to Paris. That is, if the virus ever would let us go :(\n",
      "\n",
      "Love,\n",
      "\n",
      "Johan\n",
      "\n"
     ]
    }
   ],
   "source": [
    "# DON'T RUN THIS CELL"
   ]
  },
  {
   "cell_type": "markdown",
   "metadata": {
    "hidden": true
   },
   "source": [
    "Remember that you can use string formatting, tripple quotes strings and the escape backslash `\\`! The solution can be found in the solutions notebook!"
   ]
  },
  {
   "cell_type": "code",
   "execution_count": null,
   "metadata": {
    "hidden": true
   },
   "outputs": [],
   "source": []
  },
  {
   "cell_type": "code",
   "execution_count": null,
   "metadata": {
    "hidden": true
   },
   "outputs": [],
   "source": []
  },
  {
   "cell_type": "code",
   "execution_count": null,
   "metadata": {
    "hidden": true
   },
   "outputs": [],
   "source": []
  },
  {
   "cell_type": "markdown",
   "metadata": {
    "heading_collapsed": true,
    "hidden": true
   },
   "source": [
    "### Changing variables – Operators and assignment statements"
   ]
  },
  {
   "cell_type": "markdown",
   "metadata": {
    "hidden": true
   },
   "source": [
    "Often when coding, we want to change the values of our variables. We _overwrite_ our variable, giving it a new value. This is easily done in python:"
   ]
  },
  {
   "cell_type": "code",
   "execution_count": 67,
   "metadata": {
    "hidden": true
   },
   "outputs": [],
   "source": [
    "number = 3 # assignment statement"
   ]
  },
  {
   "cell_type": "code",
   "execution_count": 68,
   "metadata": {
    "hidden": true
   },
   "outputs": [],
   "source": [
    "number = number + 4"
   ]
  },
  {
   "cell_type": "code",
   "execution_count": 69,
   "metadata": {
    "hidden": true
   },
   "outputs": [
    {
     "data": {
      "text/plain": [
       "7"
      ]
     },
     "execution_count": 69,
     "metadata": {},
     "output_type": "execute_result"
    }
   ],
   "source": [
    "number # \"number\" is now 7 (3 + 4 = 7)"
   ]
  },
  {
   "cell_type": "markdown",
   "metadata": {
    "hidden": true
   },
   "source": [
    "#### Augmented assignment operators"
   ]
  },
  {
   "cell_type": "markdown",
   "metadata": {
    "hidden": true
   },
   "source": [
    "When using the assigment operator `=`, the python interpreter will evaluate the expression to the right of the assignment operator first. Then it will assign the returned value to the namespace written to the left of the `=` (the variable name `number`). This is how you reassign, or overwrite, your variables. \n",
    "\n",
    "But you can also use the assignment, AND the addition operator in one go using `+=`. This is called an **augmented assigment operator**, it uses the operator on the variable _while also assigning the result to the variable_. Take this example:"
   ]
  },
  {
   "cell_type": "code",
   "execution_count": 174,
   "metadata": {
    "hidden": true,
    "jupyter": {
     "outputs_hidden": true
    }
   },
   "outputs": [],
   "source": [
    "number = 3"
   ]
  },
  {
   "cell_type": "code",
   "execution_count": 175,
   "metadata": {
    "hidden": true,
    "jupyter": {
     "outputs_hidden": true
    }
   },
   "outputs": [],
   "source": [
    "number += 4 # '+=' is syntax for \"add the value to the right to the variable name to the left\""
   ]
  },
  {
   "cell_type": "code",
   "execution_count": 176,
   "metadata": {
    "hidden": true,
    "jupyter": {
     "outputs_hidden": true
    }
   },
   "outputs": [
    {
     "data": {
      "text/plain": [
       "7"
      ]
     },
     "execution_count": 176,
     "metadata": {},
     "output_type": "execute_result"
    }
   ],
   "source": [
    "number"
   ]
  },
  {
   "cell_type": "markdown",
   "metadata": {
    "hidden": true
   },
   "source": [
    "The same can be done with subtraction, multiplication and division:"
   ]
  },
  {
   "cell_type": "code",
   "execution_count": 177,
   "metadata": {
    "hidden": true,
    "jupyter": {
     "outputs_hidden": true
    }
   },
   "outputs": [],
   "source": [
    "number -= 1"
   ]
  },
  {
   "cell_type": "code",
   "execution_count": 178,
   "metadata": {
    "hidden": true,
    "jupyter": {
     "outputs_hidden": true
    }
   },
   "outputs": [
    {
     "data": {
      "text/plain": [
       "6"
      ]
     },
     "execution_count": 178,
     "metadata": {},
     "output_type": "execute_result"
    }
   ],
   "source": [
    "number"
   ]
  },
  {
   "cell_type": "code",
   "execution_count": 179,
   "metadata": {
    "hidden": true,
    "jupyter": {
     "outputs_hidden": true
    }
   },
   "outputs": [],
   "source": [
    "number *= 5"
   ]
  },
  {
   "cell_type": "code",
   "execution_count": 180,
   "metadata": {
    "hidden": true,
    "jupyter": {
     "outputs_hidden": true
    }
   },
   "outputs": [
    {
     "data": {
      "text/plain": [
       "30"
      ]
     },
     "execution_count": 180,
     "metadata": {},
     "output_type": "execute_result"
    }
   ],
   "source": [
    "number"
   ]
  },
  {
   "cell_type": "code",
   "execution_count": 181,
   "metadata": {
    "hidden": true
   },
   "outputs": [],
   "source": [
    "number /= 3"
   ]
  },
  {
   "cell_type": "code",
   "execution_count": 182,
   "metadata": {
    "hidden": true
   },
   "outputs": [
    {
     "data": {
      "text/plain": [
       "10.0"
      ]
     },
     "execution_count": 182,
     "metadata": {},
     "output_type": "execute_result"
    }
   ],
   "source": [
    "number"
   ]
  },
  {
   "cell_type": "markdown",
   "metadata": {
    "heading_collapsed": true,
    "hidden": true
   },
   "source": [
    "### Multiple assignment statements"
   ]
  },
  {
   "cell_type": "markdown",
   "metadata": {
    "hidden": true
   },
   "source": [
    "In Python, let's say we want to create four variables with different values. This is boring and tedious to type out:"
   ]
  },
  {
   "cell_type": "code",
   "execution_count": 10,
   "metadata": {
    "hidden": true
   },
   "outputs": [],
   "source": [
    "one = 42\n",
    "two = \"Johan\"\n",
    "three = True\n",
    "four = \"elephant\""
   ]
  },
  {
   "cell_type": "code",
   "execution_count": 11,
   "metadata": {
    "hidden": true
   },
   "outputs": [
    {
     "data": {
      "text/plain": [
       "42"
      ]
     },
     "execution_count": 11,
     "metadata": {},
     "output_type": "execute_result"
    }
   ],
   "source": [
    "one"
   ]
  },
  {
   "cell_type": "code",
   "execution_count": 12,
   "metadata": {
    "hidden": true
   },
   "outputs": [
    {
     "data": {
      "text/plain": [
       "'elephant'"
      ]
     },
     "execution_count": 12,
     "metadata": {},
     "output_type": "execute_result"
    }
   ],
   "source": [
    "four"
   ]
  },
  {
   "cell_type": "markdown",
   "metadata": {
    "hidden": true
   },
   "source": [
    "Luckilly, this can be written in one single line of code, with a single `=`. We just pass the variable names to the left of the assignment operator – seperated by commas – and the values to the right – seperated by commas – in the order we want the values assigned:"
   ]
  },
  {
   "cell_type": "code",
   "execution_count": 13,
   "metadata": {
    "hidden": true
   },
   "outputs": [],
   "source": [
    "one, two, three, four = 42, \"Johan\", True, \"elephant\""
   ]
  },
  {
   "cell_type": "code",
   "execution_count": 14,
   "metadata": {
    "hidden": true
   },
   "outputs": [
    {
     "data": {
      "text/plain": [
       "42"
      ]
     },
     "execution_count": 14,
     "metadata": {},
     "output_type": "execute_result"
    }
   ],
   "source": [
    "one"
   ]
  },
  {
   "cell_type": "code",
   "execution_count": 15,
   "metadata": {
    "hidden": true
   },
   "outputs": [
    {
     "data": {
      "text/plain": [
       "'Johan'"
      ]
     },
     "execution_count": 15,
     "metadata": {},
     "output_type": "execute_result"
    }
   ],
   "source": [
    "two"
   ]
  },
  {
   "cell_type": "code",
   "execution_count": 16,
   "metadata": {
    "hidden": true
   },
   "outputs": [
    {
     "data": {
      "text/plain": [
       "True"
      ]
     },
     "execution_count": 16,
     "metadata": {},
     "output_type": "execute_result"
    }
   ],
   "source": [
    "three"
   ]
  },
  {
   "cell_type": "code",
   "execution_count": 17,
   "metadata": {
    "hidden": true
   },
   "outputs": [
    {
     "data": {
      "text/plain": [
       "'elephant'"
      ]
     },
     "execution_count": 17,
     "metadata": {},
     "output_type": "execute_result"
    }
   ],
   "source": [
    "four"
   ]
  },
  {
   "cell_type": "markdown",
   "metadata": {
    "heading_collapsed": true,
    "hidden": true
   },
   "source": [
    "### (Optional) More about readability – the zen of Python"
   ]
  },
  {
   "cell_type": "markdown",
   "metadata": {
    "hidden": true
   },
   "source": [
    "Earlier, we talked about naming variables in a logical and transparent manner. We should name our variables making it easier to understand what values they may hold. This is important – it makes your code more readable. Readability is a very important aspect of writing Python. \n",
    "\n",
    "The reason for this is quite simple: **as a person working with coding, you will read a lot of code.** Returning to old projects for example, what code does what and where in your program? If you learn early on to make your code more readable, you will save eons of time later on!\n",
    "\n",
    "The Python community will sometimes refer to what is called [_the zen of python_](https://www.python.org/dev/peps/pep-0020/). This is the general \"rules\" that should guide you when you code. These are the first seven lines in it:\n",
    "\n",
    "```\n",
    "Beautiful is better than ugly.\n",
    "Explicit is better than implicit.\n",
    "Simple is better than complex.\n",
    "Complex is better than complicated.\n",
    "Flat is better than nested.\n",
    "Sparse is better than dense.\n",
    "Readability counts.\n",
    "```\n",
    "\n",
    "This is a bit abstract, but it is words that is good to keep in mind going forward. There are many concrete ways to write more readable code. For example, use white space (blank space) in your expressions:"
   ]
  },
  {
   "cell_type": "code",
   "execution_count": 86,
   "metadata": {
    "hidden": true
   },
   "outputs": [
    {
     "data": {
      "text/plain": [
       "4"
      ]
     },
     "execution_count": 86,
     "metadata": {},
     "output_type": "execute_result"
    }
   ],
   "source": [
    "2 + 2 # zen-like"
   ]
  },
  {
   "cell_type": "code",
   "execution_count": 87,
   "metadata": {
    "hidden": true
   },
   "outputs": [
    {
     "data": {
      "text/plain": [
       "4"
      ]
     },
     "execution_count": 87,
     "metadata": {},
     "output_type": "execute_result"
    }
   ],
   "source": [
    "2+2 # this is less readable – therefore, don't! :)"
   ]
  },
  {
   "cell_type": "markdown",
   "metadata": {
    "hidden": true
   },
   "source": [
    "Or, in your assignment statement:"
   ]
  },
  {
   "cell_type": "code",
   "execution_count": 88,
   "metadata": {
    "hidden": true
   },
   "outputs": [],
   "source": [
    "num=2 # don't\n",
    "num = 2 # do!"
   ]
  },
  {
   "cell_type": "markdown",
   "metadata": {
    "hidden": true
   },
   "source": [
    "For more on how to write readable python code, [check out this link!](https://docs.python-guide.org/writing/style/)"
   ]
  },
  {
   "cell_type": "markdown",
   "metadata": {
    "heading_collapsed": true,
    "hidden": true
   },
   "source": [
    "### Exercise – string concatination and variables"
   ]
  },
  {
   "cell_type": "markdown",
   "metadata": {
    "hidden": true
   },
   "source": [
    "In this exercise, I want you to assign these seven string values to one variable each:\n",
    "- `\"was\"`\n",
    "- `\"the\"`\n",
    "- `\"on\"`\n",
    "- `\"cat\"`\n",
    "- `\"mat\"`\n",
    "- `\"inside\"`\n",
    "- `\"hat\"`\n",
    "\n",
    "Using these variables, use string concatination to produce these three sentences:\n",
    "1. \"cat was inside the hat on the mat\"\n",
    "2. \"hat was inside the cat on the mat\"\n",
    "3. \"mat was inside the hat on the cat\"\n",
    "\n",
    "You can add blank spaces to the strings if you'd like.\n",
    "\n",
    "When assigning your variables, try to use a multiple assignment statement.\n",
    "\n",
    "The solutions is found in the solutions notebook (there is more than one!"
   ]
  },
  {
   "cell_type": "markdown",
   "metadata": {
    "hidden": true
   },
   "source": [
    "---"
   ]
  },
  {
   "cell_type": "markdown",
   "metadata": {
    "heading_collapsed": true
   },
   "source": [
    "## Comparing values"
   ]
  },
  {
   "cell_type": "markdown",
   "metadata": {
    "heading_collapsed": true,
    "hidden": true
   },
   "source": [
    "### Comparison operators"
   ]
  },
  {
   "cell_type": "markdown",
   "metadata": {
    "hidden": true
   },
   "source": [
    "In section 1, we briefly covered the boolean values. In code, we often want to check if something is true or false. \n",
    "\n",
    "Let's say we want to write a program that functions as an alarm that lets us know if our workday is over. The program would then have to check the time, and then see if the present time is past five o'clock. If so, it alarms us that it's time to head home. If not, it does nothing. Lets put this down in writing:\n",
    "\n",
    "Program workflow:\n",
    "```\n",
    "1. Check time\n",
    "2. See if time is past 17.00 (either true/false)\n",
    "3. If true -> alarm us! If false -> do nothing\n",
    "4. Terminate program\n",
    "```\n",
    "In such a program, we need an operator that can compare values. In our case, compare present time with the end of our workday (17.00). In Python, we can use a **comparison operator** to do this:\n",
    "\n",
    "```\n",
    "COMPARISON OPERATORS\n",
    "\n",
    "    ==   Equal to\n",
    "    !=   Not equal to\n",
    "    <    Less than\n",
    "    >    Greater than\n",
    "    <=   Less than or equal to\n",
    "    >=   Greater than or equal to\n",
    "```\n",
    "Expressions with comparison operators always return a boolean value:"
   ]
  },
  {
   "cell_type": "code",
   "execution_count": 99,
   "metadata": {
    "hidden": true
   },
   "outputs": [
    {
     "data": {
      "text/plain": [
       "True"
      ]
     },
     "execution_count": 99,
     "metadata": {},
     "output_type": "execute_result"
    }
   ],
   "source": [
    "# 3 is equal to 3\n",
    "3 == 3 "
   ]
  },
  {
   "cell_type": "code",
   "execution_count": 100,
   "metadata": {
    "hidden": true
   },
   "outputs": [
    {
     "data": {
      "text/plain": [
       "False"
      ]
     },
     "execution_count": 100,
     "metadata": {},
     "output_type": "execute_result"
    }
   ],
   "source": [
    "# 3 is not equal to 4\n",
    "3 == 4 "
   ]
  },
  {
   "cell_type": "code",
   "execution_count": 103,
   "metadata": {
    "hidden": true
   },
   "outputs": [
    {
     "data": {
      "text/plain": [
       "True"
      ]
     },
     "execution_count": 103,
     "metadata": {},
     "output_type": "execute_result"
    }
   ],
   "source": [
    "# 3 is less than or equal to 3\n",
    "3 <= 3 "
   ]
  },
  {
   "cell_type": "code",
   "execution_count": 101,
   "metadata": {
    "hidden": true
   },
   "outputs": [
    {
     "data": {
      "text/plain": [
       "True"
      ]
     },
     "execution_count": 101,
     "metadata": {},
     "output_type": "execute_result"
    }
   ],
   "source": [
    "# 3 is less than or equal to 4\n",
    "3 <= 4 "
   ]
  },
  {
   "cell_type": "code",
   "execution_count": 18,
   "metadata": {
    "hidden": true
   },
   "outputs": [
    {
     "data": {
      "text/plain": [
       "False"
      ]
     },
     "execution_count": 18,
     "metadata": {},
     "output_type": "execute_result"
    }
   ],
   "source": [
    "# 3 is not greater than or equal to 4\n",
    "3 >= 4 "
   ]
  },
  {
   "cell_type": "markdown",
   "metadata": {
    "hidden": true
   },
   "source": [
    "Note that comparison operators _also checks for value types_. This means that:"
   ]
  },
  {
   "cell_type": "code",
   "execution_count": 108,
   "metadata": {
    "hidden": true
   },
   "outputs": [
    {
     "data": {
      "text/plain": [
       "False"
      ]
     },
     "execution_count": 108,
     "metadata": {},
     "output_type": "execute_result"
    }
   ],
   "source": [
    "3 == \"3\""
   ]
  },
  {
   "cell_type": "markdown",
   "metadata": {
    "hidden": true
   },
   "source": [
    "...since `3` is an integer and `\"3\"` is a string. However, integers and floats can be equal to eachother:"
   ]
  },
  {
   "cell_type": "code",
   "execution_count": 109,
   "metadata": {
    "hidden": true
   },
   "outputs": [
    {
     "data": {
      "text/plain": [
       "True"
      ]
     },
     "execution_count": 109,
     "metadata": {},
     "output_type": "execute_result"
    }
   ],
   "source": [
    "3.0 == 3"
   ]
  },
  {
   "cell_type": "markdown",
   "metadata": {
    "hidden": true
   },
   "source": [
    "Comparison operators can, of course, also be used to check variables:"
   ]
  },
  {
   "cell_type": "code",
   "execution_count": 105,
   "metadata": {
    "hidden": true
   },
   "outputs": [],
   "source": [
    "my_name = \"Johan\""
   ]
  },
  {
   "cell_type": "code",
   "execution_count": 106,
   "metadata": {
    "hidden": true
   },
   "outputs": [
    {
     "data": {
      "text/plain": [
       "False"
      ]
     },
     "execution_count": 106,
     "metadata": {},
     "output_type": "execute_result"
    }
   ],
   "source": [
    "my_name == 'Pete'"
   ]
  },
  {
   "cell_type": "markdown",
   "metadata": {
    "hidden": true
   },
   "source": [
    "Above, please note that the first cell `my_name = \"Johan\"` has _one_ assignment operator. This is an assignment statement where we create our variable. The second cell has _two_ assignment operators – hence, it is a comparison operator."
   ]
  },
  {
   "cell_type": "markdown",
   "metadata": {
    "heading_collapsed": true,
    "hidden": true
   },
   "source": [
    "### Boolean operators"
   ]
  },
  {
   "cell_type": "markdown",
   "metadata": {
    "hidden": true
   },
   "source": [
    "There are also three boolean operators: `and`, `or` and `not`. These let us evaluate two or more booleans into one boolean value. Since we often need to take more things into consideration than something _only_ being true or false, these operators are essential when coding. Programs and scripts often need to handle ambigious situations."
   ]
  },
  {
   "cell_type": "markdown",
   "metadata": {
    "heading_collapsed": true,
    "hidden": true
   },
   "source": [
    "#### The `and` operator"
   ]
  },
  {
   "cell_type": "markdown",
   "metadata": {
    "hidden": true
   },
   "source": [
    "Consider our earlier example, our workday alarm program. Let's say the workday starts at 9.00 in the morning and we want to check if the present time is during work hours or not. If so, we can use a boolean operator: is the present time after 09.00 _AND_ before 17.00?"
   ]
  },
  {
   "cell_type": "markdown",
   "metadata": {
    "hidden": true
   },
   "source": [
    "Let's first look at the `and` operator. It returns `False` if the two expressions to its left _and_ to its right  isn't true:"
   ]
  },
  {
   "cell_type": "code",
   "execution_count": 186,
   "metadata": {
    "hidden": true
   },
   "outputs": [
    {
     "data": {
      "text/plain": [
       "True"
      ]
     },
     "execution_count": 186,
     "metadata": {},
     "output_type": "execute_result"
    }
   ],
   "source": [
    "1 == 1 and 4 == 4"
   ]
  },
  {
   "cell_type": "code",
   "execution_count": 127,
   "metadata": {
    "hidden": true
   },
   "outputs": [
    {
     "data": {
      "text/plain": [
       "False"
      ]
     },
     "execution_count": 127,
     "metadata": {},
     "output_type": "execute_result"
    }
   ],
   "source": [
    "1 == 2 and 4 == 4"
   ]
  },
  {
   "cell_type": "code",
   "execution_count": 128,
   "metadata": {
    "hidden": true
   },
   "outputs": [
    {
     "data": {
      "text/plain": [
       "False"
      ]
     },
     "execution_count": 128,
     "metadata": {},
     "output_type": "execute_result"
    }
   ],
   "source": [
    "1 == 2 and 4 == 5"
   ]
  },
  {
   "cell_type": "code",
   "execution_count": 183,
   "metadata": {
    "hidden": true
   },
   "outputs": [
    {
     "data": {
      "text/plain": [
       "False"
      ]
     },
     "execution_count": 183,
     "metadata": {},
     "output_type": "execute_result"
    }
   ],
   "source": [
    "True and False"
   ]
  },
  {
   "cell_type": "code",
   "execution_count": 184,
   "metadata": {
    "hidden": true
   },
   "outputs": [
    {
     "data": {
      "text/plain": [
       "True"
      ]
     },
     "execution_count": 184,
     "metadata": {},
     "output_type": "execute_result"
    }
   ],
   "source": [
    "True and True"
   ]
  },
  {
   "cell_type": "code",
   "execution_count": 185,
   "metadata": {
    "hidden": true
   },
   "outputs": [
    {
     "data": {
      "text/plain": [
       "False"
      ]
     },
     "execution_count": 185,
     "metadata": {},
     "output_type": "execute_result"
    }
   ],
   "source": [
    "False and False"
   ]
  },
  {
   "cell_type": "markdown",
   "metadata": {
    "hidden": true
   },
   "source": [
    "In other words, the `and` operator will always evaluate to `False` if both of its expressions aren't `True`."
   ]
  },
  {
   "cell_type": "markdown",
   "metadata": {
    "heading_collapsed": true,
    "hidden": true
   },
   "source": [
    "#### The `or` operator"
   ]
  },
  {
   "cell_type": "markdown",
   "metadata": {
    "hidden": true
   },
   "source": [
    "If we instead use the `or` operator, it will return `True` if either expressions are true:"
   ]
  },
  {
   "cell_type": "code",
   "execution_count": 122,
   "metadata": {
    "hidden": true
   },
   "outputs": [
    {
     "data": {
      "text/plain": [
       "True"
      ]
     },
     "execution_count": 122,
     "metadata": {},
     "output_type": "execute_result"
    }
   ],
   "source": [
    "1 == 2 or 4 == 4"
   ]
  },
  {
   "cell_type": "code",
   "execution_count": 120,
   "metadata": {
    "hidden": true
   },
   "outputs": [
    {
     "data": {
      "text/plain": [
       "True"
      ]
     },
     "execution_count": 120,
     "metadata": {},
     "output_type": "execute_result"
    }
   ],
   "source": [
    "True or False"
   ]
  },
  {
   "cell_type": "code",
   "execution_count": 124,
   "metadata": {
    "hidden": true
   },
   "outputs": [
    {
     "data": {
      "text/plain": [
       "False"
      ]
     },
     "execution_count": 124,
     "metadata": {},
     "output_type": "execute_result"
    }
   ],
   "source": [
    "1 == 2 or 4 == 5"
   ]
  },
  {
   "cell_type": "code",
   "execution_count": 123,
   "metadata": {
    "hidden": true
   },
   "outputs": [
    {
     "data": {
      "text/plain": [
       "False"
      ]
     },
     "execution_count": 123,
     "metadata": {},
     "output_type": "execute_result"
    }
   ],
   "source": [
    "False or False"
   ]
  },
  {
   "cell_type": "markdown",
   "metadata": {
    "heading_collapsed": true,
    "hidden": true
   },
   "source": [
    "#### The `not` operator"
   ]
  },
  {
   "cell_type": "markdown",
   "metadata": {
    "hidden": true
   },
   "source": [
    "The `not` operator only evaluates on one boolean value, and it always returns its opposite:"
   ]
  },
  {
   "cell_type": "code",
   "execution_count": 129,
   "metadata": {
    "hidden": true
   },
   "outputs": [
    {
     "data": {
      "text/plain": [
       "False"
      ]
     },
     "execution_count": 129,
     "metadata": {},
     "output_type": "execute_result"
    }
   ],
   "source": [
    "not True"
   ]
  },
  {
   "cell_type": "code",
   "execution_count": 130,
   "metadata": {
    "hidden": true
   },
   "outputs": [
    {
     "data": {
      "text/plain": [
       "True"
      ]
     },
     "execution_count": 130,
     "metadata": {},
     "output_type": "execute_result"
    }
   ],
   "source": [
    "not False"
   ]
  },
  {
   "cell_type": "markdown",
   "metadata": {
    "heading_collapsed": true,
    "hidden": true
   },
   "source": [
    "#### Boolean operators – examples"
   ]
  },
  {
   "cell_type": "markdown",
   "metadata": {
    "hidden": true
   },
   "source": [
    "This may look like very abstract concepts, but it makes way more sense if we use them together with variables. Let's create some:"
   ]
  },
  {
   "cell_type": "code",
   "execution_count": 189,
   "metadata": {
    "hidden": true
   },
   "outputs": [],
   "source": [
    "name = \"Johan\"\n",
    "nationality = \"Swedish\""
   ]
  },
  {
   "cell_type": "markdown",
   "metadata": {
    "hidden": true
   },
   "source": [
    "Using it together with the `and` operator:"
   ]
  },
  {
   "cell_type": "code",
   "execution_count": 190,
   "metadata": {
    "hidden": true
   },
   "outputs": [
    {
     "data": {
      "text/plain": [
       "True"
      ]
     },
     "execution_count": 190,
     "metadata": {},
     "output_type": "execute_result"
    }
   ],
   "source": [
    "# is 'name' equal to \"Johan\", and 'nationality' equal to \"Swedish\"?\n",
    "name == \"Johan\" and nationality == \"Swedish\""
   ]
  },
  {
   "cell_type": "code",
   "execution_count": 191,
   "metadata": {
    "hidden": true
   },
   "outputs": [
    {
     "data": {
      "text/plain": [
       "False"
      ]
     },
     "execution_count": 191,
     "metadata": {},
     "output_type": "execute_result"
    }
   ],
   "source": [
    "# is 'name' equal to \"Johan\", and 'nationality' equal to \"Finnish\"?\n",
    "name == \"Johan\" and nationality == \"Finnish\""
   ]
  },
  {
   "cell_type": "markdown",
   "metadata": {
    "hidden": true
   },
   "source": [
    "The `or` operator:"
   ]
  },
  {
   "cell_type": "code",
   "execution_count": 192,
   "metadata": {
    "hidden": true,
    "scrolled": true
   },
   "outputs": [
    {
     "data": {
      "text/plain": [
       "True"
      ]
     },
     "execution_count": 192,
     "metadata": {},
     "output_type": "execute_result"
    }
   ],
   "source": [
    "# is 'name' equal to \"Johan\", or 'nationality' equal to \"American\"?\n",
    "name == \"Johan\" or nationality == \"American\""
   ]
  },
  {
   "cell_type": "markdown",
   "metadata": {
    "hidden": true
   },
   "source": [
    "`name` is equal to \"Johan\", therefore the expression evaluates to `True`."
   ]
  },
  {
   "cell_type": "markdown",
   "metadata": {
    "hidden": true
   },
   "source": [
    "The `not` operator:"
   ]
  },
  {
   "cell_type": "code",
   "execution_count": 137,
   "metadata": {
    "hidden": true
   },
   "outputs": [
    {
     "data": {
      "text/plain": [
       "True"
      ]
     },
     "execution_count": 137,
     "metadata": {},
     "output_type": "execute_result"
    }
   ],
   "source": [
    "# Is 'name' not equal to \"Pete\"?\n",
    "not name == \"Pete\""
   ]
  },
  {
   "cell_type": "markdown",
   "metadata": {
    "hidden": true
   },
   "source": [
    "Let's use these concepts to help us with our alarm program:"
   ]
  },
  {
   "cell_type": "code",
   "execution_count": 138,
   "metadata": {
    "hidden": true
   },
   "outputs": [],
   "source": [
    "# Let's say the time is presently 12.15\n",
    "presentTime = 12.15"
   ]
  },
  {
   "cell_type": "code",
   "execution_count": 139,
   "metadata": {
    "hidden": true
   },
   "outputs": [
    {
     "data": {
      "text/plain": [
       "True"
      ]
     },
     "execution_count": 139,
     "metadata": {},
     "output_type": "execute_result"
    }
   ],
   "source": [
    "# Is the present time before 17.00, but after 9.00?\n",
    "presentTime < 17.00 and presentTime > 9.00"
   ]
  },
  {
   "cell_type": "code",
   "execution_count": 140,
   "metadata": {
    "hidden": true
   },
   "outputs": [],
   "source": [
    "# Let's say the time is presently 17.15\n",
    "presentTime = 17.15"
   ]
  },
  {
   "cell_type": "code",
   "execution_count": 141,
   "metadata": {
    "hidden": true
   },
   "outputs": [
    {
     "data": {
      "text/plain": [
       "False"
      ]
     },
     "execution_count": 141,
     "metadata": {},
     "output_type": "execute_result"
    }
   ],
   "source": [
    "presentTime < 17.00 and presentTime > 9.00"
   ]
  },
  {
   "cell_type": "markdown",
   "metadata": {
    "heading_collapsed": true,
    "hidden": true
   },
   "source": [
    "### Exercise – insert the correct operators"
   ]
  },
  {
   "cell_type": "markdown",
   "metadata": {
    "hidden": true
   },
   "source": [
    "In this exercise, I want you to uncomment the code. Then, replace the `?` characters with the correct operators so that the `print()` function is executed. In other words, you'll need to change operators so that all comparisons are evaluated to `True`. \n",
    "\n",
    "These code cells include `if`-statements, which will be the subject in the next chapter!"
   ]
  },
  {
   "cell_type": "code",
   "execution_count": 1,
   "metadata": {
    "hidden": true
   },
   "outputs": [],
   "source": [
    "number = 12"
   ]
  },
  {
   "cell_type": "code",
   "execution_count": null,
   "metadata": {
    "hidden": true
   },
   "outputs": [],
   "source": [
    "#if number ? 15:\n",
    "#    print(\"Correct!\")"
   ]
  },
  {
   "cell_type": "code",
   "execution_count": 2,
   "metadata": {
    "hidden": true
   },
   "outputs": [],
   "source": [
    "#if number ? 5 and number ? -5:\n",
    "#    print(\"Correct!\")"
   ]
  },
  {
   "cell_type": "code",
   "execution_count": null,
   "metadata": {
    "hidden": true
   },
   "outputs": [],
   "source": [
    "#if number ? 150 or number ? 25:\n",
    "#    print(\"Correct!\")"
   ]
  },
  {
   "cell_type": "code",
   "execution_count": 3,
   "metadata": {
    "hidden": true
   },
   "outputs": [],
   "source": [
    "#if number ? 12:\n",
    "#    print(\"Correct!\")"
   ]
  },
  {
   "cell_type": "code",
   "execution_count": 71,
   "metadata": {
    "hidden": true
   },
   "outputs": [],
   "source": [
    "#if number ? \"Hello world!\":\n",
    "#    print(\"Correct!\")"
   ]
  },
  {
   "cell_type": "code",
   "execution_count": null,
   "metadata": {
    "hidden": true
   },
   "outputs": [],
   "source": []
  },
  {
   "cell_type": "code",
   "execution_count": null,
   "metadata": {
    "hidden": true
   },
   "outputs": [],
   "source": []
  },
  {
   "cell_type": "code",
   "execution_count": null,
   "metadata": {
    "hidden": true
   },
   "outputs": [],
   "source": []
  },
  {
   "cell_type": "markdown",
   "metadata": {
    "heading_collapsed": true
   },
   "source": [
    "## Flow Control Statements"
   ]
  },
  {
   "cell_type": "markdown",
   "metadata": {
    "hidden": true
   },
   "source": [
    "As has been discussed above, we often want to take context into consideration when coding: \"If this expression is true, do this thing...\". This often means we want to have control of our program's progress, how it \"flows\". \n",
    "\n",
    "In Python, we can use comparison operators in **flow control statements**: these are: \n",
    "- `if` \n",
    "- `elif`\n",
    "- `else`\n",
    "\n",
    "\\*\\* Going forward, remember that **what you type (the syntax) is important!** Be sure that you write these statements exactly as described. Otherwise, you will get an error and your code won't work. \\*\\*"
   ]
  },
  {
   "cell_type": "markdown",
   "metadata": {
    "heading_collapsed": true,
    "hidden": true
   },
   "source": [
    "### The `if`-statement"
   ]
  },
  {
   "cell_type": "markdown",
   "metadata": {
    "hidden": true
   },
   "source": [
    "Flow control statements lets you decide a certain logic for your code to follow. The `if`-statement consists of the keyword `if`, followed by a **condition** (=an expression in a flow control statement that evaluates into `True` or `False`), and ended with a colon `:`. \n",
    "\n",
    "If the if-statement's condition evaluates to false, the interpreter skips the if-statement's code. Have a look at this:"
   ]
  },
  {
   "cell_type": "code",
   "execution_count": 222,
   "metadata": {
    "hidden": true
   },
   "outputs": [],
   "source": [
    "name = \"Johan\""
   ]
  },
  {
   "cell_type": "code",
   "execution_count": 223,
   "metadata": {
    "hidden": true
   },
   "outputs": [],
   "source": [
    "if name != \"Johan\":\n",
    "    print(\"Hi Johan!\")"
   ]
  },
  {
   "cell_type": "markdown",
   "metadata": {
    "hidden": true
   },
   "source": [
    "Code indented at the same level is called **a block of code**. The expression `name != \"Johan\"` is evaluated to false, so above if-statement's isn't executed. It is basically the same as typing:"
   ]
  },
  {
   "cell_type": "code",
   "execution_count": 224,
   "metadata": {
    "hidden": true
   },
   "outputs": [],
   "source": [
    "if False:\n",
    "    print(\"Hi Johan!\")"
   ]
  },
  {
   "cell_type": "markdown",
   "metadata": {
    "hidden": true
   },
   "source": [
    "...since `name != \"Johan\"` evaluates to False."
   ]
  },
  {
   "cell_type": "markdown",
   "metadata": {
    "hidden": true
   },
   "source": [
    "Indentations are very important in Python. It tells our computer which code is grouped together. All code that is indented directly under an if-statement is that if-statement's code block! The `print()` function is one block of code within our if-statement (even though, in this example, it's just one line).\n",
    "\n",
    "If the condition in the if-statement is evaluated to `False`, the indented block (containing `print(\"Hi Johan!\")`) will be skipped and not be executed. If the condition is `True`, then the indented code will execute:"
   ]
  },
  {
   "cell_type": "code",
   "execution_count": 226,
   "metadata": {
    "hidden": true
   },
   "outputs": [
    {
     "name": "stdout",
     "output_type": "stream",
     "text": [
      "Hi Johan!\n"
     ]
    }
   ],
   "source": [
    "if name == \"Johan\":\n",
    "    # The condition name == \"Johan\" is true! Hence, this will be executed:\n",
    "    print(\"Hi Johan!\") "
   ]
  },
  {
   "cell_type": "markdown",
   "metadata": {
    "hidden": true
   },
   "source": [
    "Another example:"
   ]
  },
  {
   "cell_type": "code",
   "execution_count": 227,
   "metadata": {
    "hidden": true
   },
   "outputs": [],
   "source": [
    "age = 35"
   ]
  },
  {
   "cell_type": "code",
   "execution_count": 202,
   "metadata": {
    "hidden": true,
    "scrolled": true
   },
   "outputs": [
    {
     "name": "stdout",
     "output_type": "stream",
     "text": [
      "Whoa! Not that young any longer, buddy!\n"
     ]
    }
   ],
   "source": [
    "if age > 30:\n",
    "    # True! This will be executed\n",
    "    print(\"Whoa! Not that young any longer, buddy!\") "
   ]
  },
  {
   "cell_type": "code",
   "execution_count": 203,
   "metadata": {
    "hidden": true
   },
   "outputs": [],
   "source": [
    "if age < 30:\n",
    "    # This will be skipped since 35 is more than 30\n",
    "    print(\"Whoa! Not that young any longer, buddy!\") "
   ]
  },
  {
   "cell_type": "code",
   "execution_count": 204,
   "metadata": {
    "hidden": true
   },
   "outputs": [],
   "source": [
    "youngAge = 25"
   ]
  },
  {
   "cell_type": "code",
   "execution_count": 205,
   "metadata": {
    "hidden": true
   },
   "outputs": [
    {
     "name": "stdout",
     "output_type": "stream",
     "text": [
      "You, sir, are in your prime!\n"
     ]
    }
   ],
   "source": [
    "if youngAge < 30:\n",
    "    print(\"You, sir, are in your prime!\")"
   ]
  },
  {
   "cell_type": "markdown",
   "metadata": {
    "hidden": true
   },
   "source": [
    "We can also use boolean operators in flow control statements, like the `and` operator:"
   ]
  },
  {
   "cell_type": "code",
   "execution_count": 206,
   "metadata": {
    "hidden": true
   },
   "outputs": [
    {
     "name": "stdout",
     "output_type": "stream",
     "text": [
      "You are in your twenties! Congratulations!\n"
     ]
    }
   ],
   "source": [
    "if youngAge < 30 and youngAge >= 20:\n",
    "    print(\"You are in your twenties! Congratulations!\")"
   ]
  },
  {
   "cell_type": "markdown",
   "metadata": {
    "heading_collapsed": true,
    "hidden": true
   },
   "source": [
    "### The `else`-statement"
   ]
  },
  {
   "cell_type": "markdown",
   "metadata": {
    "hidden": true
   },
   "source": [
    "But if we also want to cover situations where the if-statement is false? Then we use the `else`-statement:"
   ]
  },
  {
   "cell_type": "code",
   "execution_count": 207,
   "metadata": {
    "hidden": true
   },
   "outputs": [],
   "source": [
    "age = 35"
   ]
  },
  {
   "cell_type": "code",
   "execution_count": 208,
   "metadata": {
    "hidden": true
   },
   "outputs": [
    {
     "name": "stdout",
     "output_type": "stream",
     "text": [
      "Oldie but goldie!\n"
     ]
    }
   ],
   "source": [
    "if age < 30:\n",
    "    # Since age < 30 is false, this code will be skipped\n",
    "    print(\"Hello young sir!\")\n",
    "else:\n",
    "    # Instead, this will be executed\n",
    "    print(\"Oldie but goldie!\")"
   ]
  },
  {
   "cell_type": "markdown",
   "metadata": {
    "hidden": true
   },
   "source": [
    "So \"If an expression is true, do something... Otherwise, do this other thing...\" An `else`-statement consists of the `else` keyword followed by a colon, `:`. SInce it covers ALL situations not specified by the if-statement, no expression is needed.\n",
    "\n",
    "An else-statment does only work if it follows an if-statement. If you write an else-statment by itself, it will produce an error: "
   ]
  },
  {
   "cell_type": "code",
   "execution_count": 172,
   "metadata": {
    "hidden": true,
    "scrolled": true
   },
   "outputs": [
    {
     "ename": "SyntaxError",
     "evalue": "invalid syntax (<ipython-input-172-eb2670b32139>, line 1)",
     "output_type": "error",
     "traceback": [
      "\u001b[0;36m  File \u001b[0;32m\"<ipython-input-172-eb2670b32139>\"\u001b[0;36m, line \u001b[0;32m1\u001b[0m\n\u001b[0;31m    else:\u001b[0m\n\u001b[0m    ^\u001b[0m\n\u001b[0;31mSyntaxError\u001b[0m\u001b[0;31m:\u001b[0m invalid syntax\n"
     ]
    }
   ],
   "source": [
    "else:\n",
    "    print(\"Hello world!\")"
   ]
  },
  {
   "cell_type": "markdown",
   "metadata": {
    "hidden": true
   },
   "source": [
    "Our workday alarm program, but with an if/else-statement:"
   ]
  },
  {
   "cell_type": "code",
   "execution_count": 211,
   "metadata": {
    "hidden": true
   },
   "outputs": [],
   "source": [
    "present_time = 12.15"
   ]
  },
  {
   "cell_type": "code",
   "execution_count": 213,
   "metadata": {
    "hidden": true
   },
   "outputs": [
    {
     "name": "stdout",
     "output_type": "stream",
     "text": [
      "You should be working!\n"
     ]
    }
   ],
   "source": [
    "if present_time < 17.00 and present_time > 9.00:\n",
    "    print(\"You should be working!\")\n",
    "else:\n",
    "    print(\"Not working hours!\")"
   ]
  },
  {
   "cell_type": "markdown",
   "metadata": {
    "heading_collapsed": true,
    "hidden": true
   },
   "source": [
    "### The `elif`-statement"
   ]
  },
  {
   "cell_type": "markdown",
   "metadata": {
    "hidden": true
   },
   "source": [
    "In many situations we want to explicitly cover more scenarios than just those in our if- and else-statements. We can use `elif`-statements:"
   ]
  },
  {
   "cell_type": "code",
   "execution_count": 214,
   "metadata": {
    "hidden": true
   },
   "outputs": [],
   "source": [
    "age = 16"
   ]
  },
  {
   "cell_type": "code",
   "execution_count": 215,
   "metadata": {
    "hidden": true
   },
   "outputs": [
    {
     "name": "stdout",
     "output_type": "stream",
     "text": [
      "A teenager!\n"
     ]
    }
   ],
   "source": [
    "if age >= 30:\n",
    "    # 16 is lower than 30, so this will be skipped\n",
    "    print(\"You are not very young any longer, I'm afraid.\") \n",
    "    \n",
    "elif age >= 20 and age < 30:\n",
    "    # 'age' is not between 20 and 29, this block is also skipped\n",
    "    print(\"You are in your twenties!\") \n",
    "    \n",
    "elif age < 20 and age >= 13:\n",
    "    # Bingo! This code will be executed\n",
    "    print(\"A teenager!\") \n",
    "    \n",
    "else:\n",
    "    # This would execute in all situations where 'age' is less than 13\n",
    "    print(\"You are very, very young!\")"
   ]
  },
  {
   "cell_type": "markdown",
   "metadata": {
    "hidden": true
   },
   "source": [
    "As you can see in the code cell above, we can use more than one elif-statement. You can put in as many as you like! \n",
    "\n",
    "Just like the else-statement, elif-statements can only be used after an if-statement. Otherwise, an error will be produced:"
   ]
  },
  {
   "cell_type": "code",
   "execution_count": 196,
   "metadata": {
    "hidden": true
   },
   "outputs": [
    {
     "ename": "SyntaxError",
     "evalue": "invalid syntax (<ipython-input-196-5150a1770b0d>, line 1)",
     "output_type": "error",
     "traceback": [
      "\u001b[0;36m  File \u001b[0;32m\"<ipython-input-196-5150a1770b0d>\"\u001b[0;36m, line \u001b[0;32m1\u001b[0m\n\u001b[0;31m    elif age >= 20 and age < 30:\u001b[0m\n\u001b[0m    ^\u001b[0m\n\u001b[0;31mSyntaxError\u001b[0m\u001b[0;31m:\u001b[0m invalid syntax\n"
     ]
    }
   ],
   "source": [
    "elif age >= 20 and age < 30:\n",
    "    print(\"You are in your twenties!\")"
   ]
  },
  {
   "cell_type": "markdown",
   "metadata": {
    "hidden": true
   },
   "source": [
    "Here is the hierarchy of these three flow control statement:\n",
    "\n",
    "1. if-statement goes first\n",
    "2. elif-statements (as many as you like!) comes second\n",
    "3. And finally, the else-statement"
   ]
  },
  {
   "cell_type": "markdown",
   "metadata": {
    "heading_collapsed": true,
    "hidden": true
   },
   "source": [
    "### (Optional) \"Truthy\" and \"Falsy\" values"
   ]
  },
  {
   "cell_type": "markdown",
   "metadata": {
    "hidden": true
   },
   "source": [
    "Like covered above if-statements need a condition (=expression) to evaluate to true or false to run. But in Python, all values are actually either truthy or falsy. This means that a single value following the if-keyword will also work:"
   ]
  },
  {
   "cell_type": "code",
   "execution_count": 216,
   "metadata": {
    "hidden": true
   },
   "outputs": [
    {
     "name": "stdout",
     "output_type": "stream",
     "text": [
      "Works!\n"
     ]
    }
   ],
   "source": [
    "if 3:\n",
    "    print(\"Works!\")"
   ]
  },
  {
   "cell_type": "code",
   "execution_count": 217,
   "metadata": {
    "hidden": true
   },
   "outputs": [
    {
     "name": "stdout",
     "output_type": "stream",
     "text": [
      "Works!\n"
     ]
    }
   ],
   "source": [
    "if 3.5:\n",
    "    print(\"Works!\")"
   ]
  },
  {
   "cell_type": "code",
   "execution_count": 218,
   "metadata": {
    "hidden": true
   },
   "outputs": [],
   "source": [
    "if 0:\n",
    "    print(\"This won't be printed...\")"
   ]
  },
  {
   "cell_type": "code",
   "execution_count": 219,
   "metadata": {
    "hidden": true
   },
   "outputs": [],
   "source": [
    "if 0.0:\n",
    "    print(\"This won't be printed...\")"
   ]
  },
  {
   "cell_type": "markdown",
   "metadata": {
    "hidden": true
   },
   "source": [
    "In Python, all number values, that is both integers and floats, above 0 is considered \"truthy\" values. 0 and 0.0 is \"falsy\". In string values, all empty strings `\"\"` are considered falsy, all other string values are truthy:"
   ]
  },
  {
   "cell_type": "code",
   "execution_count": 220,
   "metadata": {
    "hidden": true
   },
   "outputs": [
    {
     "name": "stdout",
     "output_type": "stream",
     "text": [
      "Works!\n"
     ]
    }
   ],
   "source": [
    "if \"a string value\":\n",
    "    print(\"Works!\")"
   ]
  },
  {
   "cell_type": "code",
   "execution_count": 221,
   "metadata": {
    "hidden": true
   },
   "outputs": [],
   "source": [
    "if \"\":\n",
    "    print(\"This won't be printed...\")"
   ]
  },
  {
   "cell_type": "markdown",
   "metadata": {
    "hidden": true
   },
   "source": [
    "Considering we should always strive to make our code more readable, above examples should be avoided. Instead we should write an actual comparison:"
   ]
  },
  {
   "cell_type": "code",
   "execution_count": 207,
   "metadata": {
    "hidden": true
   },
   "outputs": [
    {
     "name": "stdout",
     "output_type": "stream",
     "text": [
      "This wasn't an empty string!\n"
     ]
    }
   ],
   "source": [
    "value = \"string\"\n",
    "if value != \"\":\n",
    "    print(\"This wasn't an empty string!\")"
   ]
  },
  {
   "cell_type": "markdown",
   "metadata": {
    "hidden": true
   },
   "source": [
    "We can always check values \"truthiness\" with the built-in function `bool()`:"
   ]
  },
  {
   "cell_type": "code",
   "execution_count": 213,
   "metadata": {
    "hidden": true
   },
   "outputs": [
    {
     "data": {
      "text/plain": [
       "True"
      ]
     },
     "execution_count": 213,
     "metadata": {},
     "output_type": "execute_result"
    }
   ],
   "source": [
    "bool(3)"
   ]
  },
  {
   "cell_type": "code",
   "execution_count": 214,
   "metadata": {
    "hidden": true
   },
   "outputs": [
    {
     "data": {
      "text/plain": [
       "False"
      ]
     },
     "execution_count": 214,
     "metadata": {},
     "output_type": "execute_result"
    }
   ],
   "source": [
    "bool(\"\")"
   ]
  },
  {
   "cell_type": "code",
   "execution_count": 215,
   "metadata": {
    "hidden": true
   },
   "outputs": [
    {
     "data": {
      "text/plain": [
       "False"
      ]
     },
     "execution_count": 215,
     "metadata": {},
     "output_type": "execute_result"
    }
   ],
   "source": [
    "bool(0)"
   ]
  },
  {
   "cell_type": "code",
   "execution_count": 216,
   "metadata": {
    "hidden": true
   },
   "outputs": [
    {
     "data": {
      "text/plain": [
       "True"
      ]
     },
     "execution_count": 216,
     "metadata": {},
     "output_type": "execute_result"
    }
   ],
   "source": [
    "bool(\"Hello world!\")"
   ]
  },
  {
   "cell_type": "markdown",
   "metadata": {
    "heading_collapsed": true,
    "hidden": true
   },
   "source": [
    "### Exercise – type the end of the story!"
   ]
  },
  {
   "cell_type": "markdown",
   "metadata": {
    "hidden": true
   },
   "source": [
    "If-statements are rather useful if you're creating small text based games. Think of a Python script that runs a dungeons and dragons game, what does the player choose? How does it affekt the storyline?\n",
    "\n",
    "In this exercise, you will write an ending to a little (silly) story. You will write it as an flow control statement. By choosing a value for the variable `item`, and by passing it to a flow control statement, this variable decides the ending of the story! Depending of the value of `item` a different ending should then be printed with a `print()` function. You write the story ending that's printed! Save this story to variable called `ending`, and then print this variable. Simple!\n",
    "\n",
    "Remember that you can write string values with tripple quotes `\"\"\"` to make them a long string (see section 3.2 if you want to refreash your memory!). Good luck!"
   ]
  },
  {
   "cell_type": "markdown",
   "metadata": {
    "hidden": true
   },
   "source": [
    "**The End of the Story**"
   ]
  },
  {
   "cell_type": "markdown",
   "metadata": {
    "hidden": true
   },
   "source": [
    "```\n",
    "Teddy Merrybottom was tired. He had done what had been asked of him. With him, he carried enough booty to make his entire village the most wealthy in Southern Illyria. But the journey to Doom Mountain had been exhausting, and tragic. His three best friends had all perished. \n",
    "\n",
    "He couldn't for the life of him understand why they wanted to swim while in full armor. Granted, their fight with the dragon Grymf had been a fantastic, and surprising success – worthy of great celebration. But getting completely planked on honey beer, and then go swimming with breast plates? It was a bummer. Well, it was also sad, since, you know, they died.\n",
    "\n",
    "Even more disapointing was that the only one in Teddy's company that hadn't joined the party – and died – was Gary. And Garry was an idiot. And now, even though their three best friends was dead, Gary just kept complaining about his arthritis and how his knees hurt. This also meant that Teddy was taking care of all their stuff.\n",
    "\n",
    "Fortunatly, they were just about a hill away from their village. Teddy looked forward to being in front of his fire place, being rich and all that. But most of all, not having to spend any more time with Gary.\n",
    "\n",
    "– What is that!? Gary suddenly gasped\n",
    "\n",
    "– Where? Teddy replied, reaching for his sword hilt\n",
    "\n",
    "They were walking on a field right next to the edge of Hillside Forrest, and inbetween the trees, Teddy saw the contours of something vile. It was a Vampwolfosauros. A howling, bloodsucking lizard beast. It had seen them, and rushed towards them in a rage, trampling trees in its path.\n",
    "\n",
    "Teddy, struck by an instant adrenaline rush, drew his sword. He turned around to get his shield from the horse carriage. But in his exitement, he stumbled, and grabbed the only thing close to help him not loosing his footing – the horse strings. \n",
    "\n",
    "This pulled the horse in the direction towards the approaching monster, and, of course, it panicked and reared. It did so right next to a small boulder with a sharp edge, which cut the horse's leg. The horse, therefore, also lost its footing, tumbling over Teddy. In the chaos, the cart crashed to its side. \n",
    "\n",
    "Suddenly, Teddy found himself stuck in a pile of gold, jewels, weapons, and horse. And the Vampwolfosauros was just moments away. It was sure to kill them all! \n",
    "\n",
    "It was now all in the hands of Gary. Teddy and Gary both realised this, and they both felt terror. Gary's only chance was that Teddy would throw him something for their mutual protection against the massive, raging beast. But what?\n",
    "\n",
    "Teddy looked around. He saw four magical items lying next to him: \n",
    "- the Ice Jewel\n",
    "- the Ancient Staff of Pharts \n",
    "- the book \"The World's 10 Worst Poems\"\n",
    "- the Bear Spear (a magical spear shaped like a bear)\n",
    "\n",
    "He realised that chances were slim with either, since Gary was an blidgering moron. But he reached out and grabbed his item of choice and threw it to Gary, screaming \"Come on you fool, save us!!\"\n",
    "```"
   ]
  },
  {
   "cell_type": "code",
   "execution_count": null,
   "metadata": {
    "hidden": true
   },
   "outputs": [],
   "source": [
    "item = \"\" # <- which item does Teddy choose?"
   ]
  },
  {
   "cell_type": "code",
   "execution_count": 11,
   "metadata": {
    "hidden": true
   },
   "outputs": [],
   "source": [
    "# write a flow control statement, containing at least one each of an if-, elif- and else-statement\n",
    "# this flow control statement should decide the end of the story, depending on which item Gary's given\n",
    "# Good luck!"
   ]
  },
  {
   "cell_type": "code",
   "execution_count": null,
   "metadata": {
    "hidden": true
   },
   "outputs": [],
   "source": []
  },
  {
   "cell_type": "code",
   "execution_count": null,
   "metadata": {
    "hidden": true
   },
   "outputs": [],
   "source": []
  },
  {
   "cell_type": "code",
   "execution_count": null,
   "metadata": {
    "hidden": true
   },
   "outputs": [],
   "source": []
  },
  {
   "cell_type": "markdown",
   "metadata": {
    "heading_collapsed": true
   },
   "source": [
    "## Functions"
   ]
  },
  {
   "cell_type": "markdown",
   "metadata": {
    "heading_collapsed": true,
    "hidden": true
   },
   "source": [
    "### Definitions and terminology"
   ]
  },
  {
   "cell_type": "markdown",
   "metadata": {
    "hidden": true
   },
   "source": [
    "A **function** in Python is perhaps best described as a miniprogram within our code. It is block of code that is assigned to a namespace. We can then use and reuse the function, without having to rewrite all the code within it! Above, we have briefly touched on the subject of Pythons built-in functions, and in this chapter we will go through more of them. But we will also learn how to write our own functions."
   ]
  },
  {
   "cell_type": "markdown",
   "metadata": {
    "hidden": true
   },
   "source": [
    "But to start, why do we need functions? The short answer is that they save us alot of time and effort when writing programs.\n",
    "\n",
    "As an example, let's say we want to count the number of characters in a string value. We can write code to do that for us! \n",
    "\n",
    "_(In this example, don't get stuck on the code itself, it includes concepts we still havn't covered)_"
   ]
  },
  {
   "cell_type": "code",
   "execution_count": 229,
   "metadata": {
    "hidden": true
   },
   "outputs": [],
   "source": [
    "string_value = \"Johan\""
   ]
  },
  {
   "cell_type": "code",
   "execution_count": 233,
   "metadata": {
    "hidden": true
   },
   "outputs": [
    {
     "name": "stdout",
     "output_type": "stream",
     "text": [
      "The string is 5 characters long\n"
     ]
    }
   ],
   "source": [
    "# again, don't get stuck in this code. We will cover it later :)\n",
    "for index,char in enumerate(string_value):\n",
    "    num = index + 1 \n",
    "\n",
    "print(f\"The string is {str(num)} characters long\")"
   ]
  },
  {
   "cell_type": "markdown",
   "metadata": {
    "hidden": true
   },
   "source": [
    "Above, we have a small snippet of code that helps us calculate how many characters there are in a string value. But let's say we want to use this code snippet in many different places in our program. It would be very tiresome to write it over and over again. Instead, we could use a function instead! Fortunately, there is a built-in function that helps us with excactly what we're after – the `len()` function:"
   ]
  },
  {
   "cell_type": "code",
   "execution_count": 275,
   "metadata": {
    "hidden": true
   },
   "outputs": [
    {
     "data": {
      "text/plain": [
       "5"
      ]
     },
     "execution_count": 275,
     "metadata": {},
     "output_type": "execute_result"
    }
   ],
   "source": [
    "len(\"Johan\")"
   ]
  },
  {
   "cell_type": "markdown",
   "metadata": {
    "hidden": true
   },
   "source": [
    "The `len()` function returns the number of items in a python container object. So, if given a string, the `len()` function will return the number of characters in the string. As you can see, the use of `len()` saved us alot of code typing!"
   ]
  },
  {
   "cell_type": "markdown",
   "metadata": {
    "hidden": true
   },
   "source": [
    "A function always have a name. The `len()` function has the name \"len\". Functions can be used by typing parenthesis `()` directly after the function name. In Python, when using a function, we say that we **call the function** – or we do a **function call**. But we can also say that we **invoke the function**. As you can see, there are often many names to the same concepts in Python. \n",
    "\n",
    "The string value \"Johan\" we wrote within the parenthesis is called **an argument**, and when we give functions arguments, we say that we **pass arguments to functions**. \n",
    "\n",
    "\n",
    "(These phrases will be used throughout this notebook, but if you are uncertain of the meaning of a term used, first try finding the explanation wihtin this notebook using <kbd>⌃ Control</kbd>+<kbd>F</kbd>, OR Google it! Googling programming concepts is a great way to learn!)"
   ]
  },
  {
   "cell_type": "markdown",
   "metadata": {
    "hidden": true
   },
   "source": [
    "In Jupyter, we can type <kbd>⇧ Shift</kbd>+<kbd>⇥ Tab</kbd> when our marker is within a function's parenthesis to see information about the function!"
   ]
  },
  {
   "cell_type": "code",
   "execution_count": 281,
   "metadata": {
    "hidden": true,
    "scrolled": true
   },
   "outputs": [],
   "source": [
    "len(\"\") # <- try putting your marker within the double quotes in the parenthesis and tapping shift+tab"
   ]
  },
  {
   "cell_type": "markdown",
   "metadata": {
    "hidden": true
   },
   "source": [
    "(The information you see when tapping <kbd>⇧ Shift</kbd>+<kbd>⇥ Tab</kbd> is called the function's **docstring**)"
   ]
  },
  {
   "cell_type": "markdown",
   "metadata": {
    "heading_collapsed": true,
    "hidden": true
   },
   "source": [
    "### Built-in Functions"
   ]
  },
  {
   "cell_type": "markdown",
   "metadata": {
    "hidden": true
   },
   "source": [
    "In previous chapters in this notebook, we have used some built-in functions already. For example:"
   ]
  },
  {
   "cell_type": "code",
   "execution_count": 282,
   "metadata": {
    "hidden": true
   },
   "outputs": [
    {
     "data": {
      "text/plain": [
       "int"
      ]
     },
     "execution_count": 282,
     "metadata": {},
     "output_type": "execute_result"
    }
   ],
   "source": [
    "type(42) # checking an objects datatype"
   ]
  },
  {
   "cell_type": "code",
   "execution_count": 226,
   "metadata": {
    "hidden": true
   },
   "outputs": [
    {
     "name": "stdout",
     "output_type": "stream",
     "text": [
      "Hello world!\n"
     ]
    }
   ],
   "source": [
    "print(\"Hello world!\") # tells the interpretor to print the function's argument"
   ]
  },
  {
   "cell_type": "markdown",
   "metadata": {
    "hidden": true
   },
   "source": [
    "We can also convert values into other datatypes (remember that, in a notebook, you can always check the function's docstring pressing <kbd>⇧ Shift</kbd>+<kbd>⇥ Tab</kbd> when your marker is within the functions' parenthesis):"
   ]
  },
  {
   "cell_type": "code",
   "execution_count": 227,
   "metadata": {
    "hidden": true
   },
   "outputs": [
    {
     "data": {
      "text/plain": [
       "'4'"
      ]
     },
     "execution_count": 227,
     "metadata": {},
     "output_type": "execute_result"
    }
   ],
   "source": [
    "str(4) # returns passed argument as a string"
   ]
  },
  {
   "cell_type": "code",
   "execution_count": 228,
   "metadata": {
    "hidden": true
   },
   "outputs": [
    {
     "data": {
      "text/plain": [
       "5"
      ]
     },
     "execution_count": 228,
     "metadata": {},
     "output_type": "execute_result"
    }
   ],
   "source": [
    "int(5.0) # returns passed argument as an integer"
   ]
  },
  {
   "cell_type": "code",
   "execution_count": 230,
   "metadata": {
    "hidden": true
   },
   "outputs": [
    {
     "data": {
      "text/plain": [
       "5"
      ]
     },
     "execution_count": 230,
     "metadata": {},
     "output_type": "execute_result"
    }
   ],
   "source": [
    "int(\"5\")"
   ]
  },
  {
   "cell_type": "code",
   "execution_count": 233,
   "metadata": {
    "hidden": true
   },
   "outputs": [
    {
     "data": {
      "text/plain": [
       "10.0"
      ]
     },
     "execution_count": 233,
     "metadata": {},
     "output_type": "execute_result"
    }
   ],
   "source": [
    "float(10) # returns passed argument as a float"
   ]
  },
  {
   "cell_type": "code",
   "execution_count": 234,
   "metadata": {
    "hidden": true
   },
   "outputs": [
    {
     "data": {
      "text/plain": [
       "10.0"
      ]
     },
     "execution_count": 234,
     "metadata": {},
     "output_type": "execute_result"
    }
   ],
   "source": [
    "float(\"10\")"
   ]
  },
  {
   "cell_type": "markdown",
   "metadata": {
    "hidden": true
   },
   "source": [
    "There are many more of these built-in functions. Every time you use python code, these will work from the getgo. But there are many many more functions that come prepackaged within the standard Python code package, but that don't work immediatly. They have to be imported from various modules."
   ]
  },
  {
   "cell_type": "markdown",
   "metadata": {
    "heading_collapsed": true,
    "hidden": true
   },
   "source": [
    "### The standard library and modules"
   ]
  },
  {
   "cell_type": "markdown",
   "metadata": {
    "hidden": true
   },
   "source": [
    "When you use a freshly installed version of Python, it comes with a set of built-in functions. But it also comes with a variety of \"libraries\" of code that can be easly accessed and used in your code. This is called **the standard library**. To get access to these, we use the `import` statement. The libraries of code we import are called **modules**, or **packages**. Let's import the `random` module:"
   ]
  },
  {
   "cell_type": "code",
   "execution_count": 236,
   "metadata": {
    "hidden": true
   },
   "outputs": [],
   "source": [
    "import random"
   ]
  },
  {
   "cell_type": "markdown",
   "metadata": {
    "hidden": true
   },
   "source": [
    "After we have imported, we can use functions in this library by typing a dot `.` directly after the module name (using dots to access methods is called **dot notation**). \n",
    "\n",
    "In Jupyter, there is a really neat trick to see which functions are included. After having typed `random.`, press the <kbd>⇥ Tab</kbd> key to get a list of available functions:"
   ]
  },
  {
   "cell_type": "code",
   "execution_count": 237,
   "metadata": {
    "hidden": true
   },
   "outputs": [],
   "source": [
    "# replace this comment with the code \"random.\" and then place your marker next to the \".\" and press the tab key!"
   ]
  },
  {
   "cell_type": "markdown",
   "metadata": {
    "hidden": true
   },
   "source": [
    "In this case, we want to use the function called `randint()` from the random module. This function takes two arguments: one starting point number value, and one end point number value, and returns a random number inbetween:"
   ]
  },
  {
   "cell_type": "code",
   "execution_count": 238,
   "metadata": {
    "hidden": true
   },
   "outputs": [
    {
     "data": {
      "text/plain": [
       "2"
      ]
     },
     "execution_count": 238,
     "metadata": {},
     "output_type": "execute_result"
    }
   ],
   "source": [
    "random.randint(1, 10)"
   ]
  },
  {
   "cell_type": "code",
   "execution_count": 239,
   "metadata": {
    "hidden": true
   },
   "outputs": [
    {
     "data": {
      "text/plain": [
       "5864"
      ]
     },
     "execution_count": 239,
     "metadata": {},
     "output_type": "execute_result"
    }
   ],
   "source": [
    "random.randint(-2446, 10645)"
   ]
  },
  {
   "cell_type": "markdown",
   "metadata": {
    "hidden": true
   },
   "source": [
    "That is how you use imported modules and their functions!\n",
    "\n",
    "We can also specifiy which method we want from the random module in our import statement by using the `from` keyword:"
   ]
  },
  {
   "cell_type": "code",
   "execution_count": 78,
   "metadata": {
    "hidden": true
   },
   "outputs": [],
   "source": [
    "from random import randint # from the 'random' module/package, import the function 'randint'"
   ]
  },
  {
   "cell_type": "code",
   "execution_count": 79,
   "metadata": {
    "hidden": true
   },
   "outputs": [
    {
     "data": {
      "text/plain": [
       "3"
      ]
     },
     "execution_count": 79,
     "metadata": {},
     "output_type": "execute_result"
    }
   ],
   "source": [
    "randint(1, 10) # now, we don't need to specify module, since we directly imported the function itself!"
   ]
  },
  {
   "cell_type": "markdown",
   "metadata": {
    "hidden": true
   },
   "source": [
    "We can also use aliases of packages. This is done with the `as` keyword. This is usually done to save typing time by shortning long names. For example:"
   ]
  },
  {
   "cell_type": "code",
   "execution_count": 240,
   "metadata": {
    "hidden": true
   },
   "outputs": [],
   "source": [
    "import datetime as dt"
   ]
  },
  {
   "cell_type": "markdown",
   "metadata": {
    "hidden": true
   },
   "source": [
    "Now we only type `dt` to get access to the package's methods and classes:"
   ]
  },
  {
   "cell_type": "code",
   "execution_count": 243,
   "metadata": {
    "hidden": true
   },
   "outputs": [
    {
     "data": {
      "text/plain": [
       "datetime.datetime(2020, 10, 4, 21, 25, 54, 694958)"
      ]
     },
     "execution_count": 243,
     "metadata": {},
     "output_type": "execute_result"
    }
   ],
   "source": [
    "dt.datetime.today()"
   ]
  },
  {
   "cell_type": "markdown",
   "metadata": {
    "hidden": true
   },
   "source": [
    "Another cool module to import is the `os` module. It lets us explore the files on our computer! Let's import it:"
   ]
  },
  {
   "cell_type": "code",
   "execution_count": 80,
   "metadata": {
    "hidden": true
   },
   "outputs": [],
   "source": [
    "import os"
   ]
  },
  {
   "cell_type": "markdown",
   "metadata": {
    "hidden": true
   },
   "source": [
    "We can use the `listdir()` function to get us a list of all files in the directory (=folder) this notebook is located within:"
   ]
  },
  {
   "cell_type": "code",
   "execution_count": 81,
   "metadata": {
    "hidden": true
   },
   "outputs": [
    {
     "data": {
      "text/plain": [
       "['python_intro_eng.ipynb',\n",
       " '.DS_Store',\n",
       " 'LICENSE',\n",
       " 'course_material',\n",
       " 'Pipfile',\n",
       " 'solutions.ipynb',\n",
       " '.gitignore',\n",
       " '.ipynb_checkpoints',\n",
       " '.git',\n",
       " 'Pipfile.lock']"
      ]
     },
     "execution_count": 81,
     "metadata": {},
     "output_type": "execute_result"
    }
   ],
   "source": [
    "os.listdir()"
   ]
  },
  {
   "cell_type": "markdown",
   "metadata": {
    "hidden": true
   },
   "source": [
    "In our import statement, we can also just import all functions and methods within a module at the same time with the from keyword. This is done using the `*`"
   ]
  },
  {
   "cell_type": "code",
   "execution_count": 244,
   "metadata": {
    "hidden": true
   },
   "outputs": [],
   "source": [
    "from os import *"
   ]
  },
  {
   "cell_type": "markdown",
   "metadata": {
    "hidden": true
   },
   "source": [
    "This means we imported ALL functions within the `os` module. It is the same as just typing `import os`, but now we don't need to specify the module name before using its functions. \n",
    "\n",
    "HOWEVER! This is not recommended. It makes our code less readable. In Python, you should always aim to make your code transparent."
   ]
  },
  {
   "cell_type": "markdown",
   "metadata": {
    "hidden": true
   },
   "source": [
    "#### Exercise – the coin toss"
   ]
  },
  {
   "cell_type": "markdown",
   "metadata": {
    "hidden": true
   },
   "source": [
    "The random module's function `randint` can be used to produce random number. In this exercise, you shall try to build a small script that takes a random number, and depending on the number, either \"Heads!\" or \"Tails!\" is printed by the `print()` function. This will require you to use variables, the `random.randint()` function, and flow control statements.\n",
    "\n",
    "Remember to import the random module! The solution is found in the solutions notebook.\n",
    "\n",
    "Good luck!"
   ]
  },
  {
   "cell_type": "code",
   "execution_count": null,
   "metadata": {
    "hidden": true
   },
   "outputs": [],
   "source": []
  },
  {
   "cell_type": "code",
   "execution_count": null,
   "metadata": {
    "hidden": true
   },
   "outputs": [],
   "source": []
  },
  {
   "cell_type": "code",
   "execution_count": null,
   "metadata": {
    "hidden": true
   },
   "outputs": [],
   "source": []
  },
  {
   "cell_type": "markdown",
   "metadata": {
    "heading_collapsed": true,
    "hidden": true
   },
   "source": [
    "### Third party modules"
   ]
  },
  {
   "cell_type": "markdown",
   "metadata": {
    "hidden": true
   },
   "source": [
    "One huge advantage in learning Python is its flourishing community. Many, many, many programmers contribute to the Python language, often by supplying third party modules. They are packages that is not part of the standard library. They need to be downloaded before you can import and use their functions. This is normally done by using the `pip` Python library installer, or through Anaconda. However, this is not covered in this notebook, but you can find an extensive guide [here.](https://packaging.python.org/tutorials/installing-packages/)\n",
    "\n",
    "If you are using Jupyter through the Anaconda software (as is recommended), this means you acctually have a number of such third party modules already installed on your computer. You can see all your available libraries by using the built-in function `help()`:"
   ]
  },
  {
   "cell_type": "code",
   "execution_count": null,
   "metadata": {
    "hidden": true,
    "scrolled": false
   },
   "outputs": [],
   "source": [
    "help('modules')"
   ]
  },
  {
   "cell_type": "markdown",
   "metadata": {
    "hidden": true
   },
   "source": [
    "In the list you can find libraries such as `pandas`, `numpy` and `matplotlib` (to name a few) – all third party modules! All the packages in the list can be imported using the `import` statement."
   ]
  },
  {
   "cell_type": "markdown",
   "metadata": {
    "heading_collapsed": true,
    "hidden": true
   },
   "source": [
    "### Writing your own functions"
   ]
  },
  {
   "cell_type": "markdown",
   "metadata": {
    "hidden": true
   },
   "source": [
    "As was explained briefly in the beginning of this chapter, a function is like a miniprogram within our code. This miniprogram has a name that we can call (or invoke) to use and reuse the code block within the function.\n",
    "\n",
    "In the above sections, we have learned about built-in and imported functions. But we can build our own! Let's build a function that greets us hello:"
   ]
  },
  {
   "cell_type": "code",
   "execution_count": 244,
   "metadata": {
    "hidden": true
   },
   "outputs": [],
   "source": [
    "def greetings():\n",
    "    print(\"Hello deer!\")\n",
    "    print(\"How are you?\")\n",
    "    print(\"I am well, thanks for asking!\")"
   ]
  },
  {
   "cell_type": "markdown",
   "metadata": {
    "hidden": true
   },
   "source": [
    "Running above cell will not produce an output. It is a function statement where we simply define our function. This is done by typing the keyword `def` (for \"define\"), followed by our name of the function. Then enclosed parenthesis, followed by a colon `:`. \n",
    "\n",
    "When you've typed all that, it is time to define the functions content code. After the colon, we press the <kbd>↵  Enter</kbd> key, and the next line is automatically indented, marking that the functions code is in a new code block! The function's content is the `print()` functions that are then called one after another. \n",
    "\n",
    "We can now call our function by invoking its name!"
   ]
  },
  {
   "cell_type": "code",
   "execution_count": 296,
   "metadata": {
    "hidden": true
   },
   "outputs": [
    {
     "name": "stdout",
     "output_type": "stream",
     "text": [
      "Hello deer!\n",
      "How are you?\n",
      "I am well, thanks for asking!\n",
      "Hello deer!\n",
      "How are you?\n",
      "I am well, thanks for asking!\n",
      "Hello deer!\n",
      "How are you?\n",
      "I am well, thanks for asking!\n"
     ]
    }
   ],
   "source": [
    "greetings()\n",
    "greetings()\n",
    "greetings()"
   ]
  },
  {
   "cell_type": "markdown",
   "metadata": {
    "hidden": true
   },
   "source": [
    "Now, if we HADN'T used a function, the code for getting us the same output would be:"
   ]
  },
  {
   "cell_type": "code",
   "execution_count": 290,
   "metadata": {
    "hidden": true
   },
   "outputs": [
    {
     "name": "stdout",
     "output_type": "stream",
     "text": [
      "Hello deer!\n",
      "How are you?\n",
      "I am well, thanks for asking!\n",
      "Hello deer!\n",
      "How are you?\n",
      "I am well, thanks for asking!\n",
      "Hello deer!\n",
      "How are you?\n",
      "I am well, thanks for asking!\n"
     ]
    }
   ],
   "source": [
    "print(\"Hello deer!\")\n",
    "print(\"How are you?\")\n",
    "print(\"I am well, thanks for asking!\")\n",
    "print(\"Hello deer!\")\n",
    "print(\"How are you?\")\n",
    "print(\"I am well, thanks for asking!\")\n",
    "print(\"Hello deer!\")\n",
    "print(\"How are you?\")\n",
    "print(\"I am well, thanks for asking!\")"
   ]
  },
  {
   "cell_type": "markdown",
   "metadata": {
    "hidden": true
   },
   "source": [
    "In Python, we want to have as little duplicated code as possible. This means we get shorter programs, code that is easier to read, and – perhaps most importantly – _code that is easier to edit and debug_. \n",
    "\n",
    "As some of you might've spotted, there is a spelling error in above code. We've acctually not used the pleasantry \"Hello dear\" in our greeting. Instead we called the person we're greeting a deer. Not very nice. When using functions, this is an easy fix: we just change the code within the function's code block to:"
   ]
  },
  {
   "cell_type": "code",
   "execution_count": 291,
   "metadata": {
    "hidden": true
   },
   "outputs": [],
   "source": [
    "def greetings():\n",
    "    print(\"Hello dear!\") # <- easy fix!\n",
    "    print(\"How are you?\")\n",
    "    print(\"I am well, thanks for asking!\")"
   ]
  },
  {
   "cell_type": "code",
   "execution_count": 293,
   "metadata": {
    "hidden": true
   },
   "outputs": [
    {
     "name": "stdout",
     "output_type": "stream",
     "text": [
      "Hello dear!\n",
      "How are you?\n",
      "I am well, thanks for asking!\n",
      "Hello dear!\n",
      "How are you?\n",
      "I am well, thanks for asking!\n",
      "Hello dear!\n",
      "How are you?\n",
      "I am well, thanks for asking!\n"
     ]
    }
   ],
   "source": [
    "greetings()\n",
    "greetings()\n",
    "greetings()"
   ]
  },
  {
   "cell_type": "markdown",
   "metadata": {
    "hidden": true
   },
   "source": [
    "If we hadn't used a function, we would've had to change it in all places where the spelling error occured:"
   ]
  },
  {
   "cell_type": "code",
   "execution_count": 292,
   "metadata": {
    "hidden": true
   },
   "outputs": [
    {
     "name": "stdout",
     "output_type": "stream",
     "text": [
      "Hello dear!\n",
      "How are you?\n",
      "I am well, thanks for asking!\n",
      "Hello dear!\n",
      "How are you?\n",
      "I am well, thanks for asking!\n",
      "Hello dear!\n",
      "How are you?\n",
      "I am well, thanks for asking!\n"
     ]
    }
   ],
   "source": [
    "print(\"Hello dear!\") # Here...\n",
    "print(\"How are you?\")\n",
    "print(\"I am well, thanks for asking!\")\n",
    "print(\"Hello dear!\") # here...\n",
    "print(\"How are you?\")\n",
    "print(\"I am well, thanks for asking!\")\n",
    "print(\"Hello dear!\") # and here\n",
    "print(\"How are you?\")\n",
    "print(\"I am well, thanks for asking!\")"
   ]
  },
  {
   "cell_type": "markdown",
   "metadata": {
    "hidden": true
   },
   "source": [
    "As you can see, this is not very practical. And it is also easy to miss all the occurances of an error in duplicated code. So: if you can avoid it – don't duplicate code! :)"
   ]
  },
  {
   "cell_type": "markdown",
   "metadata": {
    "heading_collapsed": true,
    "hidden": true
   },
   "source": [
    "### Arguments"
   ]
  },
  {
   "cell_type": "code",
   "execution_count": 297,
   "metadata": {
    "hidden": true
   },
   "outputs": [
    {
     "data": {
      "text/plain": [
       "5"
      ]
     },
     "execution_count": 297,
     "metadata": {},
     "output_type": "execute_result"
    }
   ],
   "source": [
    "len(\"Johan\")"
   ]
  },
  {
   "cell_type": "markdown",
   "metadata": {
    "hidden": true
   },
   "source": [
    "In this `len()` function call, we pass the function an argument – the string value \"Johan\". When building our own functions, we can specify if they require arguments. We do so by writing a variable name within the parenthesis while defining our function. This variable is called a **parameter**. Let's modify our greeting function:"
   ]
  },
  {
   "cell_type": "code",
   "execution_count": 353,
   "metadata": {
    "hidden": true
   },
   "outputs": [],
   "source": [
    "def greetings(parameter):\n",
    "    print(\"Hello dear \" + parameter + \"!\") # this is string concatination. Remember?\n",
    "    print(\"How are you?\")\n",
    "    print(\"I am well, thanks for asking!\")"
   ]
  },
  {
   "cell_type": "markdown",
   "metadata": {
    "hidden": true
   },
   "source": [
    "Arguments are information that is passed in the function call and is then used within the function's code block. Above, I've called the parameter `parameter` to make it obvious where we put it. We can, however, name the arguments to whatever we like. We want the code to be readable, and the name `parameter` is rather generic and not very readable. Let's change it:"
   ]
  },
  {
   "cell_type": "code",
   "execution_count": 245,
   "metadata": {
    "hidden": true
   },
   "outputs": [],
   "source": [
    "def greetings(name):\n",
    "    print(\"Hello dear \" + name + \"!\")\n",
    "    print(\"How are you?\")\n",
    "    print(\"I am well, thanks for asking!\")"
   ]
  },
  {
   "cell_type": "markdown",
   "metadata": {
    "hidden": true
   },
   "source": [
    "Now, when we call the function like before, we will get an error:"
   ]
  },
  {
   "cell_type": "code",
   "execution_count": 246,
   "metadata": {
    "hidden": true
   },
   "outputs": [
    {
     "ename": "TypeError",
     "evalue": "greetings() missing 1 required positional argument: 'name'",
     "output_type": "error",
     "traceback": [
      "\u001b[0;31m---------------------------------------------------------------------------\u001b[0m",
      "\u001b[0;31mTypeError\u001b[0m                                 Traceback (most recent call last)",
      "\u001b[0;32m<ipython-input-246-44917e4e6755>\u001b[0m in \u001b[0;36m<module>\u001b[0;34m\u001b[0m\n\u001b[0;32m----> 1\u001b[0;31m \u001b[0mgreetings\u001b[0m\u001b[0;34m(\u001b[0m\u001b[0;34m)\u001b[0m\u001b[0;34m\u001b[0m\u001b[0;34m\u001b[0m\u001b[0m\n\u001b[0m",
      "\u001b[0;31mTypeError\u001b[0m: greetings() missing 1 required positional argument: 'name'"
     ]
    }
   ],
   "source": [
    "greetings()"
   ]
  },
  {
   "cell_type": "markdown",
   "metadata": {
    "hidden": true
   },
   "source": [
    "When a argument is mandatory for the function call to work, it is called a **positional argument**. The error message tells us that an argument is required, and then tell us the name of the parameter missing a value. This is why it is important to name your parameters in a readable manner. If our name would just be \"parameter\", the error message wouldn't make any sense.\n",
    "\n",
    "When an argument is put in the function call, this will then be used in the function's code block. To be precise: the argument will be assigned to the function's parameter. In this case, the string value \"Johan\" (the argument), will be assigned to the function's parameter `name`:"
   ]
  },
  {
   "cell_type": "code",
   "execution_count": 247,
   "metadata": {
    "hidden": true
   },
   "outputs": [
    {
     "name": "stdout",
     "output_type": "stream",
     "text": [
      "Hello dear Johan!\n",
      "How are you?\n",
      "I am well, thanks for asking!\n"
     ]
    }
   ],
   "source": [
    "greetings(\"Johan\")"
   ]
  },
  {
   "cell_type": "markdown",
   "metadata": {
    "hidden": true
   },
   "source": [
    "We can now use the function with any name we'd like:"
   ]
  },
  {
   "cell_type": "code",
   "execution_count": 357,
   "metadata": {
    "hidden": true
   },
   "outputs": [
    {
     "name": "stdout",
     "output_type": "stream",
     "text": [
      "Hello dear Pete!\n",
      "How are you?\n",
      "I am well, thanks for asking!\n"
     ]
    }
   ],
   "source": [
    "greetings(\"Pete\")"
   ]
  },
  {
   "cell_type": "code",
   "execution_count": 358,
   "metadata": {
    "hidden": true
   },
   "outputs": [
    {
     "name": "stdout",
     "output_type": "stream",
     "text": [
      "Hello dear Hanna!\n",
      "How are you?\n",
      "I am well, thanks for asking!\n"
     ]
    }
   ],
   "source": [
    "greetings(\"Hanna\")"
   ]
  },
  {
   "cell_type": "markdown",
   "metadata": {
    "hidden": true
   },
   "source": [
    "As you can see, we can pass any string we like to the function!"
   ]
  },
  {
   "cell_type": "code",
   "execution_count": 359,
   "metadata": {
    "hidden": true
   },
   "outputs": [
    {
     "name": "stdout",
     "output_type": "stream",
     "text": [
      "Hello dear KJ&€!AEFHO&#AHIUFQO%!PJ!\n",
      "How are you?\n",
      "I am well, thanks for asking!\n"
     ]
    }
   ],
   "source": [
    "greetings(\"KJ&€!AEFHO&#AHIUFQO%!PJ\")"
   ]
  },
  {
   "cell_type": "markdown",
   "metadata": {
    "hidden": true
   },
   "source": [
    "It is worth explaining once more: When we pass our string value to the function, it is assigned _within the function_ as a variable – the variable `name`. It is this variable that is called the function's parameter. We can even specify which parameter the argument should be assigned to in the function call:"
   ]
  },
  {
   "cell_type": "code",
   "execution_count": 350,
   "metadata": {
    "hidden": true
   },
   "outputs": [
    {
     "name": "stdout",
     "output_type": "stream",
     "text": [
      "Hello dear Johan!\n",
      "How are you?\n",
      "I am well, thanks for asking!\n"
     ]
    }
   ],
   "source": [
    "greetings(name=\"Johan\") # the parameter is set to the argument value \"Johan\""
   ]
  },
  {
   "cell_type": "markdown",
   "metadata": {
    "hidden": true
   },
   "source": [
    "Here's another function that just prints the function's argument:"
   ]
  },
  {
   "cell_type": "code",
   "execution_count": 250,
   "metadata": {
    "hidden": true
   },
   "outputs": [],
   "source": [
    "def return_name(name):\n",
    "    print(name)"
   ]
  },
  {
   "cell_type": "code",
   "execution_count": 249,
   "metadata": {
    "hidden": true
   },
   "outputs": [
    {
     "name": "stdout",
     "output_type": "stream",
     "text": [
      "Johan\n"
     ]
    }
   ],
   "source": [
    "return_name(\"Johan\")"
   ]
  },
  {
   "cell_type": "markdown",
   "metadata": {
    "hidden": true
   },
   "source": [
    "So, to recap:\n",
    "- The function's **argument** is the value that is passed to the function when you call it (the string value \"Johan\" in the above example)\n",
    "- The function's **parameter** is the variable name to which the argument value is assigned (the variable `name` in the above example)"
   ]
  },
  {
   "cell_type": "markdown",
   "metadata": {
    "hidden": true
   },
   "source": [
    "You can also have more than one parameter when you define your functions. You just put more parameters within the parenthesis when defining your function. Each parameter is seperated by a comma.\n",
    "\n",
    "As an example, let's redefine our greeting function to also require a `country` parameter:"
   ]
  },
  {
   "cell_type": "code",
   "execution_count": 251,
   "metadata": {
    "hidden": true
   },
   "outputs": [],
   "source": [
    "def greetings(name, country):\n",
    "    print(\"Hello \" + name + \"! You're from \" + country + \", right?\")"
   ]
  },
  {
   "cell_type": "markdown",
   "metadata": {
    "hidden": true
   },
   "source": [
    "Let's clean it up using a f-string (see section 3.2.2 if you need a refreasher):"
   ]
  },
  {
   "cell_type": "code",
   "execution_count": 252,
   "metadata": {
    "hidden": true
   },
   "outputs": [],
   "source": [
    "def greetings(name, country):\n",
    "    print(f\"Hello  {name}! You're from {country}, right?\")"
   ]
  },
  {
   "cell_type": "code",
   "execution_count": 253,
   "metadata": {
    "hidden": true
   },
   "outputs": [
    {
     "name": "stdout",
     "output_type": "stream",
     "text": [
      "Hello  Johan! You're from Sweden, right?\n"
     ]
    }
   ],
   "source": [
    "greetings(\"Johan\", \"Sweden\")"
   ]
  },
  {
   "cell_type": "markdown",
   "metadata": {
    "hidden": true
   },
   "source": [
    "Since we have defined the function with two parameters, just giving the function one argument in the function call will now produce an error:"
   ]
  },
  {
   "cell_type": "code",
   "execution_count": 336,
   "metadata": {
    "hidden": true
   },
   "outputs": [
    {
     "ename": "TypeError",
     "evalue": "greetings() missing 1 required positional argument: 'country'",
     "output_type": "error",
     "traceback": [
      "\u001b[0;31m---------------------------------------------------------------------------\u001b[0m",
      "\u001b[0;31mTypeError\u001b[0m                                 Traceback (most recent call last)",
      "\u001b[0;32m<ipython-input-336-442e49b0e564>\u001b[0m in \u001b[0;36m<module>\u001b[0;34m\u001b[0m\n\u001b[0;32m----> 1\u001b[0;31m \u001b[0mgreetings\u001b[0m\u001b[0;34m(\u001b[0m\u001b[0;34m\"Johan\"\u001b[0m\u001b[0;34m)\u001b[0m\u001b[0;34m\u001b[0m\u001b[0;34m\u001b[0m\u001b[0m\n\u001b[0m",
      "\u001b[0;31mTypeError\u001b[0m: greetings() missing 1 required positional argument: 'country'"
     ]
    }
   ],
   "source": [
    "greetings(\"Johan\")"
   ]
  },
  {
   "cell_type": "markdown",
   "metadata": {
    "hidden": true
   },
   "source": [
    "Remember, the order of parameters counts. If you pass positional arguments in the wrong order, it may not result in what you expected:"
   ]
  },
  {
   "cell_type": "code",
   "execution_count": 337,
   "metadata": {
    "hidden": true
   },
   "outputs": [
    {
     "name": "stdout",
     "output_type": "stream",
     "text": [
      "Hello Sweden! You're from Johan, right?\n"
     ]
    }
   ],
   "source": [
    "greetings(\"Sweden\",\"Johan\")"
   ]
  },
  {
   "cell_type": "markdown",
   "metadata": {
    "hidden": true
   },
   "source": [
    "However, if we specify which argument we want to which parameter variable name, the order doesn't matter:"
   ]
  },
  {
   "cell_type": "code",
   "execution_count": 338,
   "metadata": {
    "hidden": true
   },
   "outputs": [
    {
     "name": "stdout",
     "output_type": "stream",
     "text": [
      "Hello Johan! You're from Sweden, right?\n"
     ]
    }
   ],
   "source": [
    "greetings(country=\"Sweden\", name=\"Johan\")"
   ]
  },
  {
   "cell_type": "markdown",
   "metadata": {
    "hidden": true
   },
   "source": [
    "#### Exercise – truth-teller function"
   ]
  },
  {
   "cell_type": "markdown",
   "metadata": {
    "hidden": true
   },
   "source": [
    "In this exercise, you will define your own function. This function shall have two parameters. When you call the function, it should first print the two arguments, then it should compare them. If the passed arguments are not the same, the function should print \"The arguments are not the same...\". If they are the same, the function should print \"The arguments are the same!\"\n",
    "\n",
    "The solution can be found in the solutions notebook. Good luck!"
   ]
  },
  {
   "cell_type": "code",
   "execution_count": null,
   "metadata": {
    "hidden": true
   },
   "outputs": [],
   "source": []
  },
  {
   "cell_type": "code",
   "execution_count": null,
   "metadata": {
    "hidden": true
   },
   "outputs": [],
   "source": []
  },
  {
   "cell_type": "code",
   "execution_count": null,
   "metadata": {
    "hidden": true
   },
   "outputs": [],
   "source": []
  },
  {
   "cell_type": "code",
   "execution_count": null,
   "metadata": {
    "hidden": true
   },
   "outputs": [],
   "source": []
  },
  {
   "cell_type": "markdown",
   "metadata": {
    "heading_collapsed": true,
    "hidden": true
   },
   "source": [
    "### (Optional) Styling conventions writing functions"
   ]
  },
  {
   "cell_type": "markdown",
   "metadata": {
    "hidden": true
   },
   "source": [
    "Here's a (kind of) quick style guide when you're defining functions. Let's take the earlier example:"
   ]
  },
  {
   "cell_type": "code",
   "execution_count": 363,
   "metadata": {
    "hidden": true
   },
   "outputs": [],
   "source": [
    "def greetings(name, country):\n",
    "    print(f\"Hello  {name}! You're from {country}, right?\")"
   ]
  },
  {
   "cell_type": "code",
   "execution_count": 364,
   "metadata": {
    "hidden": true
   },
   "outputs": [
    {
     "name": "stdout",
     "output_type": "stream",
     "text": [
      "Hello Johan! You're from Sweden, right?\n"
     ]
    }
   ],
   "source": [
    "greetings(name=\"Johan\", country=\"Sweden\")"
   ]
  },
  {
   "cell_type": "markdown",
   "metadata": {
    "hidden": true
   },
   "source": [
    "When specifying argument to parameters as in the cell directly above, note that we don't use blank space inbetween the `=`. \n",
    "\n",
    "Some of you might have noticed that this is different than when we defined variables in section 3 above. If we would simply define a variable like this:"
   ]
  },
  {
   "cell_type": "code",
   "execution_count": 339,
   "metadata": {
    "hidden": true
   },
   "outputs": [],
   "source": [
    "name = \"Johan\""
   ]
  },
  {
   "cell_type": "markdown",
   "metadata": {
    "hidden": true
   },
   "source": [
    "...we use one blank space on each side of the `=` operator. It is common practice to _not_ use blank space when specifying parameters in function calls:"
   ]
  },
  {
   "cell_type": "code",
   "execution_count": 340,
   "metadata": {
    "hidden": true
   },
   "outputs": [
    {
     "name": "stdout",
     "output_type": "stream",
     "text": [
      "Hello Johan! You're from Sweden, right?\n"
     ]
    }
   ],
   "source": [
    "greetings(name=\"Johan\", country=\"Sweden\") # No blank spaces next to the \"=\" operators!"
   ]
  },
  {
   "cell_type": "markdown",
   "metadata": {
    "hidden": true
   },
   "source": [
    "However, there IS blank space after the comma. All this is common practice in the Python community, since it is considered to increase your code's readability. It is would still work with blank space:"
   ]
  },
  {
   "cell_type": "code",
   "execution_count": 365,
   "metadata": {
    "hidden": true
   },
   "outputs": [
    {
     "name": "stdout",
     "output_type": "stream",
     "text": [
      "Hello Johan! You're from Sweden, right?\n"
     ]
    }
   ],
   "source": [
    "greetings(country = \"Sweden\", name = \"Johan\") # don't write like this, even though it works :)"
   ]
  },
  {
   "cell_type": "markdown",
   "metadata": {
    "hidden": true
   },
   "source": [
    "Why? This is in accordance with [the official Python style guide.](https://www.python.org/dev/peps/pep-0008/#whitespace-in-expressions-and-statements)"
   ]
  },
  {
   "cell_type": "markdown",
   "metadata": {
    "hidden": true
   },
   "source": [
    "Lastly, since the function `greetings()` _requires_ two argument – that is, two **positional arguments** – we shouldn't name them in our function calls. It is seen as overly wordy and verbose. So this is prefered:"
   ]
  },
  {
   "cell_type": "code",
   "execution_count": 366,
   "metadata": {
    "hidden": true
   },
   "outputs": [
    {
     "name": "stdout",
     "output_type": "stream",
     "text": [
      "Hello Johan! You're from Sweden, right?\n"
     ]
    }
   ],
   "source": [
    "greetings(\"Johan\", \"Sweden\")"
   ]
  },
  {
   "cell_type": "markdown",
   "metadata": {
    "heading_collapsed": true,
    "hidden": true
   },
   "source": [
    "### The `return` statement"
   ]
  },
  {
   "cell_type": "markdown",
   "metadata": {
    "hidden": true
   },
   "source": [
    "Just having functions printing information may not be sufficient when you write a function. Often, you want your functions to do something to the values you pass to them – you want them to _return_ a result of some kind. We can specify what to be returned from functions we write using the `return` statement. As an example, we will build a small calculator!"
   ]
  },
  {
   "cell_type": "code",
   "execution_count": 254,
   "metadata": {
    "hidden": true
   },
   "outputs": [],
   "source": [
    "def multiplies_by_three(number):\n",
    "    number = number * 3\n",
    "    return number\n",
    "\n",
    "multiplies_by_three(5)"
   ]
  },
  {
   "cell_type": "markdown",
   "metadata": {
    "hidden": true
   },
   "source": [
    "Let's go through this step by step:\n",
    "1. We have defined a new function that we named `multiplies_by_three`\n",
    "2. We've specified that the function has a parameter – `number`\n",
    "3. The functions code block then multiplies the `number` parameter by three, and reassigns the results to the variable `number`\n",
    "4. It then _returns_ the resulting number value that is assigned to `number` using the `return` keyword. _This is the return statement_\n",
    "5. Finally, we call our function, passing it the integer value 5 as an argument. It runs the integer through the function's code block and returns the value 15"
   ]
  },
  {
   "cell_type": "markdown",
   "metadata": {
    "hidden": true
   },
   "source": [
    "Since the function now returns a value, we can save this result in a new variable:"
   ]
  },
  {
   "cell_type": "code",
   "execution_count": 256,
   "metadata": {
    "hidden": true
   },
   "outputs": [],
   "source": [
    "results = multiplies_by_three(5)"
   ]
  },
  {
   "cell_type": "code",
   "execution_count": 257,
   "metadata": {
    "hidden": true
   },
   "outputs": [
    {
     "data": {
      "text/plain": [
       "15"
      ]
     },
     "execution_count": 257,
     "metadata": {},
     "output_type": "execute_result"
    }
   ],
   "source": [
    "results"
   ]
  },
  {
   "cell_type": "markdown",
   "metadata": {
    "hidden": true
   },
   "source": [
    "Actually, a function _always_ return a value. But if you don't specify which one with a return statement, it will return the `None` value. See what happens if we only remove the result statement:"
   ]
  },
  {
   "cell_type": "code",
   "execution_count": 379,
   "metadata": {
    "hidden": true
   },
   "outputs": [],
   "source": [
    "def multiplies_by_three(number):\n",
    "    number = number * 3"
   ]
  },
  {
   "cell_type": "code",
   "execution_count": 380,
   "metadata": {
    "hidden": true
   },
   "outputs": [],
   "source": [
    "results = multiplies_by_three(5)"
   ]
  },
  {
   "cell_type": "code",
   "execution_count": 382,
   "metadata": {
    "hidden": true
   },
   "outputs": [],
   "source": [
    "results # Doesn't return anything?"
   ]
  },
  {
   "cell_type": "code",
   "execution_count": 384,
   "metadata": {
    "hidden": true
   },
   "outputs": [
    {
     "data": {
      "text/plain": [
       "NoneType"
      ]
     },
     "execution_count": 384,
     "metadata": {},
     "output_type": "execute_result"
    }
   ],
   "source": [
    "type(results)"
   ]
  },
  {
   "cell_type": "code",
   "execution_count": 385,
   "metadata": {
    "hidden": true
   },
   "outputs": [
    {
     "data": {
      "text/plain": [
       "True"
      ]
     },
     "execution_count": 385,
     "metadata": {},
     "output_type": "execute_result"
    }
   ],
   "source": [
    "None == results"
   ]
  },
  {
   "cell_type": "markdown",
   "metadata": {
    "heading_collapsed": true,
    "hidden": true
   },
   "source": [
    "### Exercise – the currency converter"
   ]
  },
  {
   "cell_type": "markdown",
   "metadata": {
    "hidden": true
   },
   "source": [
    "In this exercise, we shall build a function that takes two arguments. The first is a number value specifying an amount of euros, and the second is a string value specifying which currency we want to convert into (preferably the currency codes). \n",
    "\n",
    "So, if we pass our function the arguments `2000` and `\"USD\"`, the function shall return the amount 2000 euros converted into American dollars. The function should be able to calculate at least four different currencies:\n",
    "- Swedish krona (SEK), 1 euro equals 10.43 Swedish krona\n",
    "- American dollar (USD), 1 euro equals 1.17 American dollars\n",
    "- British Sterling Pound (GBP), 1 euro equals 0.92 British pounds\n",
    "- Chinese Renminbi (RMB), 1 euro equals 7.89 renminbis\n",
    "\n",
    "Remember to try to write the function as zen-like (also called \"pythonic\") as possible! For example, name your parameters in a logical manner :) \n",
    "\n",
    "The solution is found in the solutions notebook. Good luck!"
   ]
  },
  {
   "cell_type": "code",
   "execution_count": null,
   "metadata": {
    "hidden": true
   },
   "outputs": [],
   "source": []
  },
  {
   "cell_type": "code",
   "execution_count": null,
   "metadata": {
    "hidden": true
   },
   "outputs": [],
   "source": []
  },
  {
   "cell_type": "code",
   "execution_count": null,
   "metadata": {
    "hidden": true
   },
   "outputs": [],
   "source": []
  },
  {
   "cell_type": "markdown",
   "metadata": {
    "heading_collapsed": true,
    "hidden": true
   },
   "source": [
    "### Bulletpoints"
   ]
  },
  {
   "cell_type": "markdown",
   "metadata": {
    "hidden": true
   },
   "source": [
    "- Functions are small miniprograms. They are containers of block of code. They help us not having to dublicate code\n",
    "- We **call** functions by **invoking** them, which means we write their names followed by enclosed parenthesis\n",
    "- Often, we can pass values to function when invoking them. These input values are called **arguments**\n",
    "- The arguments' values are assigned to the function's **parameters**, which are then used as variables within the function's code block\n",
    "- By invoking functions, it **returns a value as an output**. We can specify what that should be in the function by using **the return statement**"
   ]
  },
  {
   "cell_type": "markdown",
   "metadata": {
    "heading_collapsed": true
   },
   "source": [
    "## Local and global scopes"
   ]
  },
  {
   "cell_type": "markdown",
   "metadata": {
    "hidden": true
   },
   "source": [
    "Hopefully, you now understand how to use and how to build your own functions, and why they are useful when coding in Python. But there is one concept we havn't introduced yet which is important to understand when writing functions in Python: **scopes**.\n",
    "\n",
    "The code that is executed outside a function is in a different scope than the code living inside it. Take this function that creates a variable named `numbe`, assigns the integer 9 to this variable, and then returns it:"
   ]
  },
  {
   "cell_type": "code",
   "execution_count": 258,
   "metadata": {
    "hidden": true,
    "jupyter": {
     "outputs_hidden": true
    }
   },
   "outputs": [],
   "source": [
    "def make_nine():\n",
    "    number = 9\n",
    "    return number"
   ]
  },
  {
   "cell_type": "markdown",
   "metadata": {
    "hidden": true
   },
   "source": [
    "Let's try it!"
   ]
  },
  {
   "cell_type": "code",
   "execution_count": 432,
   "metadata": {
    "hidden": true
   },
   "outputs": [
    {
     "data": {
      "text/plain": [
       "9"
      ]
     },
     "execution_count": 432,
     "metadata": {},
     "output_type": "execute_result"
    }
   ],
   "source": [
    "make_nine()"
   ]
  },
  {
   "cell_type": "markdown",
   "metadata": {
    "hidden": true
   },
   "source": [
    "When we called the function, the code block within it was executed, and the integer 9 was returned. But what happens if we first create a variable outside the function, assigned to another variable with the same name:"
   ]
  },
  {
   "cell_type": "code",
   "execution_count": 259,
   "metadata": {
    "hidden": true,
    "jupyter": {
     "outputs_hidden": true
    }
   },
   "outputs": [],
   "source": [
    "number = 3"
   ]
  },
  {
   "cell_type": "code",
   "execution_count": 260,
   "metadata": {
    "hidden": true
   },
   "outputs": [
    {
     "data": {
      "text/plain": [
       "3"
      ]
     },
     "execution_count": 260,
     "metadata": {},
     "output_type": "execute_result"
    }
   ],
   "source": [
    "number"
   ]
  },
  {
   "cell_type": "markdown",
   "metadata": {
    "hidden": true
   },
   "source": [
    "...and now run the function again:"
   ]
  },
  {
   "cell_type": "code",
   "execution_count": 261,
   "metadata": {
    "hidden": true,
    "jupyter": {
     "outputs_hidden": true
    }
   },
   "outputs": [
    {
     "data": {
      "text/plain": [
       "9"
      ]
     },
     "execution_count": 261,
     "metadata": {},
     "output_type": "execute_result"
    }
   ],
   "source": [
    "make_nine()"
   ]
  },
  {
   "cell_type": "markdown",
   "metadata": {
    "hidden": true
   },
   "source": [
    "So, if we now check the variable `number`, which value will we get? Can you guess?"
   ]
  },
  {
   "cell_type": "code",
   "execution_count": 262,
   "metadata": {
    "hidden": true,
    "jupyter": {
     "outputs_hidden": true
    }
   },
   "outputs": [
    {
     "data": {
      "text/plain": [
       "3"
      ]
     },
     "execution_count": 262,
     "metadata": {},
     "output_type": "execute_result"
    }
   ],
   "source": [
    "number"
   ]
  },
  {
   "cell_type": "markdown",
   "metadata": {
    "hidden": true
   },
   "source": [
    "_Why is this?_ \n",
    "\n",
    "We first created the variable `number` outside the function. This happend in the scope \"furthest outside\" – the ground level sort to speak – and this is called **the global scope**. There is no scope outside the global scope. Variables that are created in the global scope are called **global variables**.\n",
    "\n",
    "The code that lives within the function is in a **local scope**. When the function is invoked, the code inside the function is executed in _a local execution context_. This means that the variable `number` we created inside the function is within in a different context than when we defined the global variable `number = 3`, in the global scope. Variables defined inside a function – inside the function's local scope – are called **local variables**. \n",
    "\n",
    "**Variables cannot be both local and global.** So there is a global variable named `number`, and there is a local variable named the same – `number`.\n",
    "\n",
    "Here's the same code, but with some comments to highlight scopes:\n"
   ]
  },
  {
   "cell_type": "code",
   "execution_count": 441,
   "metadata": {
    "hidden": true
   },
   "outputs": [
    {
     "data": {
      "text/plain": [
       "3"
      ]
     },
     "execution_count": 441,
     "metadata": {},
     "output_type": "execute_result"
    }
   ],
   "source": [
    "def make_nine():\n",
    "    # This code block is in a local scope\n",
    "    number = 9 # Local variable\n",
    "    return number # The local scope terminates after this line\n",
    "\n",
    "number = 3 # Global variable\n",
    "\n",
    "make_nine() # This executes the code within the function, creating a local scope\n",
    "\n",
    "number # This is still our global variable\n"
   ]
  },
  {
   "cell_type": "markdown",
   "metadata": {
    "hidden": true
   },
   "source": [
    "When `number` is defined in the `make_nine()` function, it only lives in this local scope. When the last line within the function is executed, the local scope is terminated and all variables within gets forgotten.\n",
    "\n",
    "Here is a picture visualising what was going on:"
   ]
  },
  {
   "cell_type": "markdown",
   "metadata": {
    "hidden": true
   },
   "source": [
    "<img src=\"course_material/scopes.png\" style=\"width: 600px;\"/>"
   ]
  },
  {
   "cell_type": "markdown",
   "metadata": {
    "hidden": true
   },
   "source": [
    "1. We defined a function called `make_nine()`, and within there is a local variable called `number`\n",
    "2. We created the global variable `number` – this happend in the global scope\n",
    "3. We call the function and a local scope is created, and the code block within the function executes\n",
    "4. The _local_ variable `number` gets assigned to a value – the integer 9 – but this happens within the local scope, _it is a different variable than the global variable `number`_\n",
    "5. The integer value 9 is returned by the function and the local scope is terminated and the local variable `number` is forgotten\n",
    "6. Finally, we run the _global_ variable `number` which returns the integer 3 since this is the value the global variable `number` points to"
   ]
  },
  {
   "cell_type": "markdown",
   "metadata": {
    "hidden": true
   },
   "source": [
    "Let's include som `print()` functions to make it even clearer:"
   ]
  },
  {
   "cell_type": "code",
   "execution_count": 265,
   "metadata": {
    "hidden": true
   },
   "outputs": [],
   "source": [
    "def make_nine():\n",
    "    number = 9 # local variable\n",
    "    print(\"Local scope: 'number' is \" + str(number))\n",
    "    return number"
   ]
  },
  {
   "cell_type": "code",
   "execution_count": 267,
   "metadata": {
    "hidden": true
   },
   "outputs": [
    {
     "name": "stdout",
     "output_type": "stream",
     "text": [
      "Global scope: 'number' is 3\n",
      "Local scope: 'number' is 9\n",
      "Global scope: 'number' is still 3 in the global scope\n"
     ]
    }
   ],
   "source": [
    "number = 3\n",
    "print(\"Global scope: 'number' is \" + str(number))\n",
    "\n",
    "# we now call the function, creating a local execution context\n",
    "make_nine()\n",
    "\n",
    "print(\"Global scope: 'number' is still \" + str(number) + \" in the global scope\")"
   ]
  },
  {
   "cell_type": "markdown",
   "metadata": {
    "hidden": true
   },
   "source": [
    "Hopefully, you now somewhat understand scopes. This concept has some major implications on your code. You will be very confused about bugs in your code if you, for example, don't know which variable lives in which scope. Here are some general rules concerning scopes that will hopefully be useful to remember moving forward:"
   ]
  },
  {
   "cell_type": "markdown",
   "metadata": {
    "heading_collapsed": true,
    "hidden": true
   },
   "source": [
    "### Global code cannot use local variables"
   ]
  },
  {
   "cell_type": "markdown",
   "metadata": {
    "hidden": true
   },
   "source": [
    "Take this example:"
   ]
  },
  {
   "cell_type": "code",
   "execution_count": 455,
   "metadata": {
    "hidden": true
   },
   "outputs": [],
   "source": [
    "def define_a_variable():\n",
    "    # This code is in a local scope\n",
    "    local_num = 42"
   ]
  },
  {
   "cell_type": "code",
   "execution_count": 456,
   "metadata": {
    "hidden": true
   },
   "outputs": [],
   "source": [
    "# calling the function, creating its local scope\n",
    "define_a_variable()"
   ]
  },
  {
   "cell_type": "code",
   "execution_count": 454,
   "metadata": {
    "hidden": true
   },
   "outputs": [
    {
     "ename": "NameError",
     "evalue": "name 'local_num' is not defined",
     "output_type": "error",
     "traceback": [
      "\u001b[0;31m---------------------------------------------------------------------------\u001b[0m",
      "\u001b[0;31mNameError\u001b[0m                                 Traceback (most recent call last)",
      "\u001b[0;32m<ipython-input-454-b907f10a5570>\u001b[0m in \u001b[0;36m<module>\u001b[0;34m\u001b[0m\n\u001b[0;32m----> 1\u001b[0;31m \u001b[0mlocal_num\u001b[0m \u001b[0;31m# error, since there is no such variable in the global scope\u001b[0m\u001b[0;34m\u001b[0m\u001b[0;34m\u001b[0m\u001b[0m\n\u001b[0m",
      "\u001b[0;31mNameError\u001b[0m: name 'local_num' is not defined"
     ]
    }
   ],
   "source": [
    "local_num # error, since there is no such variable in the global scope"
   ]
  },
  {
   "cell_type": "markdown",
   "metadata": {
    "hidden": true
   },
   "source": [
    "The variable `local_num` doesn't exist in the global scope, it only exists briefly locally when the function is called and the functions code is run. When the function's code block is executed, the local scope terminates and the local variable is forgotten. So when we try to reference that variable in the global scope, the computer has no variable called `local_num` defined in memory. "
   ]
  },
  {
   "cell_type": "markdown",
   "metadata": {
    "heading_collapsed": true,
    "hidden": true
   },
   "source": [
    "### Global variables can be used in local scopes"
   ]
  },
  {
   "cell_type": "markdown",
   "metadata": {
    "hidden": true
   },
   "source": [
    "All local scopes can access variables that exists in the global scope. Take this example:"
   ]
  },
  {
   "cell_type": "code",
   "execution_count": 464,
   "metadata": {
    "hidden": true
   },
   "outputs": [],
   "source": [
    "def a_function():\n",
    "    print(fruit)"
   ]
  },
  {
   "cell_type": "code",
   "execution_count": 465,
   "metadata": {
    "hidden": true
   },
   "outputs": [],
   "source": [
    "fruit = \"Banana\""
   ]
  },
  {
   "cell_type": "markdown",
   "metadata": {
    "hidden": true
   },
   "source": [
    "Above, we have a function that only prints a variable named `fruit`. When we call `a_function()`, the interpreter sees that we want to print a variable. But since we havn't created any such variable locally within the function, the interpreter checks to see if any such variable exists in the global scope. So if we run the function:"
   ]
  },
  {
   "cell_type": "code",
   "execution_count": 466,
   "metadata": {
    "hidden": true
   },
   "outputs": [
    {
     "name": "stdout",
     "output_type": "stream",
     "text": [
      "Banana\n"
     ]
    }
   ],
   "source": [
    "a_function()"
   ]
  },
  {
   "cell_type": "markdown",
   "metadata": {
    "hidden": true
   },
   "source": [
    "...it returns the value of the global variable `fruit`.\n",
    "\n",
    "So the rule is: if there is no `assignement statement` within a local scope, and a variable is referenced, the interpreter will check for any variable with the same name in the global scope and then use any value or object assigned to this name."
   ]
  },
  {
   "cell_type": "markdown",
   "metadata": {
    "heading_collapsed": true,
    "hidden": true
   },
   "source": [
    "### Local scopes can't use variables in other local scopes"
   ]
  },
  {
   "cell_type": "markdown",
   "metadata": {
    "hidden": true
   },
   "source": [
    "Let's define two functions:"
   ]
  },
  {
   "cell_type": "code",
   "execution_count": 457,
   "metadata": {
    "hidden": true
   },
   "outputs": [],
   "source": [
    "def function_one():\n",
    "    big_number = 99\n",
    "    function_two()\n",
    "    print(big_number)\n",
    "    \n",
    "def function_two():\n",
    "    big_number = 9000"
   ]
  },
  {
   "cell_type": "markdown",
   "metadata": {
    "hidden": true
   },
   "source": [
    "Here, we have two functions. `function_two()` is called within the scope of `function_one()`. If we call `function_one()`, which number do you think will be printed? Let's have a look:"
   ]
  },
  {
   "cell_type": "code",
   "execution_count": 458,
   "metadata": {
    "hidden": true
   },
   "outputs": [
    {
     "name": "stdout",
     "output_type": "stream",
     "text": [
      "99\n"
     ]
    }
   ],
   "source": [
    "function_one()"
   ]
  },
  {
   "cell_type": "markdown",
   "metadata": {
    "hidden": true
   },
   "source": [
    "When we call `function_one()`, the variable `big_number` is assigned to the value 99. And after that `function_two()` is called, creating its own local scope. Within this scope, `big_number` is assigned to the value 9000 – _but this is another variable than the one in `function_one()`._ They live in different (local) scopes, and are therefore not the same variable.\n",
    "\n",
    "After `big_number` is defined in `function_two()`, the function is finished and its local scope terminated. The local variable `big_number` in `function_two()` is consequently lost. The interpreter then returns to the local scope within `function_one()` and prints `big_number` – which in _this_ scope is assigned to 99.\n",
    "\n",
    "The two functions' scopes are not connected and thus, their variables are not interchangable. Let's create a variable in `function_two()` that isn't in `function_one()` and then try to reference it:"
   ]
  },
  {
   "cell_type": "code",
   "execution_count": 459,
   "metadata": {
    "hidden": true
   },
   "outputs": [],
   "source": [
    "def function_one():\n",
    "    function_two()\n",
    "    print(fruit)\n",
    "    \n",
    "def function_two():\n",
    "    fruit = \"Banana\""
   ]
  },
  {
   "cell_type": "code",
   "execution_count": 460,
   "metadata": {
    "hidden": true
   },
   "outputs": [
    {
     "ename": "NameError",
     "evalue": "name 'fruit' is not defined",
     "output_type": "error",
     "traceback": [
      "\u001b[0;31m---------------------------------------------------------------------------\u001b[0m",
      "\u001b[0;31mNameError\u001b[0m                                 Traceback (most recent call last)",
      "\u001b[0;32m<ipython-input-460-d99d9708fb63>\u001b[0m in \u001b[0;36m<module>\u001b[0;34m\u001b[0m\n\u001b[0;32m----> 1\u001b[0;31m \u001b[0mfunction_one\u001b[0m\u001b[0;34m(\u001b[0m\u001b[0;34m)\u001b[0m\u001b[0;34m\u001b[0m\u001b[0;34m\u001b[0m\u001b[0m\n\u001b[0m",
      "\u001b[0;32m<ipython-input-459-f733e7210014>\u001b[0m in \u001b[0;36mfunction_one\u001b[0;34m()\u001b[0m\n\u001b[1;32m      1\u001b[0m \u001b[0;32mdef\u001b[0m \u001b[0mfunction_one\u001b[0m\u001b[0;34m(\u001b[0m\u001b[0;34m)\u001b[0m\u001b[0;34m:\u001b[0m\u001b[0;34m\u001b[0m\u001b[0;34m\u001b[0m\u001b[0m\n\u001b[1;32m      2\u001b[0m     \u001b[0mfunction_two\u001b[0m\u001b[0;34m(\u001b[0m\u001b[0;34m)\u001b[0m\u001b[0;34m\u001b[0m\u001b[0;34m\u001b[0m\u001b[0m\n\u001b[0;32m----> 3\u001b[0;31m     \u001b[0mprint\u001b[0m\u001b[0;34m(\u001b[0m\u001b[0mfruit\u001b[0m\u001b[0;34m)\u001b[0m\u001b[0;34m\u001b[0m\u001b[0;34m\u001b[0m\u001b[0m\n\u001b[0m\u001b[1;32m      4\u001b[0m \u001b[0;34m\u001b[0m\u001b[0m\n\u001b[1;32m      5\u001b[0m \u001b[0;32mdef\u001b[0m \u001b[0mfunction_two\u001b[0m\u001b[0;34m(\u001b[0m\u001b[0;34m)\u001b[0m\u001b[0;34m:\u001b[0m\u001b[0;34m\u001b[0m\u001b[0;34m\u001b[0m\u001b[0m\n",
      "\u001b[0;31mNameError\u001b[0m: name 'fruit' is not defined"
     ]
    }
   ],
   "source": [
    "function_one()"
   ]
  },
  {
   "cell_type": "markdown",
   "metadata": {
    "hidden": true
   },
   "source": [
    "We get a `NameError` since the variable `fruit` doesn't exist within the local scope of `function_one()`, only within `function_two()`'s."
   ]
  },
  {
   "cell_type": "markdown",
   "metadata": {
    "heading_collapsed": true,
    "hidden": true
   },
   "source": [
    "### Exercise – why won't the code work?"
   ]
  },
  {
   "cell_type": "markdown",
   "metadata": {
    "hidden": true
   },
   "source": [
    "We have this code:"
   ]
  },
  {
   "cell_type": "code",
   "execution_count": 46,
   "metadata": {
    "hidden": true
   },
   "outputs": [
    {
     "ename": "NameError",
     "evalue": "name 'results' is not defined",
     "output_type": "error",
     "traceback": [
      "\u001b[0;31m---------------------------------------------------------------------------\u001b[0m",
      "\u001b[0;31mNameError\u001b[0m                                 Traceback (most recent call last)",
      "\u001b[0;32m<ipython-input-46-21c1ffa15102>\u001b[0m in \u001b[0;36m<module>\u001b[0;34m\u001b[0m\n\u001b[1;32m      9\u001b[0m \u001b[0;34m\u001b[0m\u001b[0m\n\u001b[1;32m     10\u001b[0m \u001b[0mcalculator\u001b[0m\u001b[0;34m(\u001b[0m\u001b[0mnum_apples\u001b[0m\u001b[0;34m,\u001b[0m \u001b[0mnum_oranges\u001b[0m\u001b[0;34m)\u001b[0m\u001b[0;34m\u001b[0m\u001b[0;34m\u001b[0m\u001b[0m\n\u001b[0;32m---> 11\u001b[0;31m \u001b[0mprint_results\u001b[0m\u001b[0;34m(\u001b[0m\u001b[0mresults\u001b[0m\u001b[0;34m)\u001b[0m\u001b[0;34m\u001b[0m\u001b[0;34m\u001b[0m\u001b[0m\n\u001b[0m",
      "\u001b[0;31mNameError\u001b[0m: name 'results' is not defined"
     ]
    }
   ],
   "source": [
    "def print_results(results):\n",
    "    print(f\"{str(number1)} multiplied with {str(number2)} is {results}\")\n",
    "\n",
    "def calculator(number1, number2):\n",
    "    results = number1 * number2\n",
    "\n",
    "num_apples = 5\n",
    "num_oranges = 6\n",
    "\n",
    "calculator(num_apples, num_oranges)\n",
    "print_results(results)\n"
   ]
  },
  {
   "cell_type": "markdown",
   "metadata": {
    "hidden": true
   },
   "source": [
    "Explain with your own words why the above code doesn't work. Reminder: If you mark a cell in a Jupyter notebook and press <kbd>M</kbd>, the cell will be a text cell (in Markdown) in which you can write down your explaination.\n",
    "\n",
    "You'll find the solution in the solutions notebook. Good luck!"
   ]
  },
  {
   "cell_type": "code",
   "execution_count": null,
   "metadata": {
    "hidden": true
   },
   "outputs": [],
   "source": []
  },
  {
   "cell_type": "code",
   "execution_count": null,
   "metadata": {
    "hidden": true
   },
   "outputs": [],
   "source": []
  },
  {
   "cell_type": "code",
   "execution_count": null,
   "metadata": {
    "hidden": true
   },
   "outputs": [],
   "source": []
  },
  {
   "cell_type": "markdown",
   "metadata": {
    "heading_collapsed": true
   },
   "source": [
    "## Object orientation and Methods"
   ]
  },
  {
   "cell_type": "markdown",
   "metadata": {
    "hidden": true
   },
   "source": [
    "In Python, everything, all code, is considered an object. Every object comes with its own features, properties, and functions. This means that if we create a variable with a string value:"
   ]
  },
  {
   "cell_type": "code",
   "execution_count": 48,
   "metadata": {
    "hidden": true
   },
   "outputs": [],
   "source": [
    "fruit = \"banana\""
   ]
  },
  {
   "cell_type": "markdown",
   "metadata": {
    "hidden": true
   },
   "source": [
    "...this variable has its own functions. A function connected to an object is called a **method** in Python. They are functions, just like the ones we have learned about in chapter 6, only that they are accessed in a different way – with the dot `.` operator. We used the `.` operator when we learned about how to import modules and to use their functions when we imported the `randint()` function from the `random` module. \n",
    "\n",
    "As we discussed, using the `.` to access method is called **dot notation**."
   ]
  },
  {
   "cell_type": "code",
   "execution_count": 484,
   "metadata": {
    "hidden": true
   },
   "outputs": [],
   "source": [
    "import random"
   ]
  },
  {
   "cell_type": "code",
   "execution_count": 486,
   "metadata": {
    "hidden": true
   },
   "outputs": [
    {
     "data": {
      "text/plain": [
       "10"
      ]
     },
     "execution_count": 486,
     "metadata": {},
     "output_type": "execute_result"
    }
   ],
   "source": [
    "random.randint(1,10) # randint() is a method"
   ]
  },
  {
   "cell_type": "markdown",
   "metadata": {
    "hidden": true
   },
   "source": [
    "Since even values are objects with their own methods, let's try it on our variable's string value. We can use string value methods! For example, the `upper()` method:"
   ]
  },
  {
   "cell_type": "code",
   "execution_count": 488,
   "metadata": {
    "hidden": true
   },
   "outputs": [
    {
     "data": {
      "text/plain": [
       "'BANANA'"
      ]
     },
     "execution_count": 488,
     "metadata": {},
     "output_type": "execute_result"
    }
   ],
   "source": [
    "fruit.upper() # returns the string in upper casing"
   ]
  },
  {
   "cell_type": "markdown",
   "metadata": {
    "hidden": true
   },
   "source": [
    "Or the `capitalize()` method, which returns the string but with the first letter capitalized:"
   ]
  },
  {
   "cell_type": "code",
   "execution_count": 491,
   "metadata": {
    "hidden": true
   },
   "outputs": [
    {
     "data": {
      "text/plain": [
       "'Banana'"
      ]
     },
     "execution_count": 491,
     "metadata": {},
     "output_type": "execute_result"
    }
   ],
   "source": [
    "fruit.capitalize()"
   ]
  },
  {
   "cell_type": "markdown",
   "metadata": {
    "hidden": true
   },
   "source": [
    "Remember, methods and functions are the same. \"Method\" is used to emphasize that it is a function attached to other objects."
   ]
  },
  {
   "cell_type": "markdown",
   "metadata": {
    "hidden": true
   },
   "source": [
    "### Exercise – experiment with string methods"
   ]
  },
  {
   "cell_type": "markdown",
   "metadata": {
    "hidden": true
   },
   "source": [
    "In this exercise, I want you to experiment with string methods. I want you to try out dot notation after this string variable:"
   ]
  },
  {
   "cell_type": "code",
   "execution_count": 57,
   "metadata": {
    "hidden": true
   },
   "outputs": [],
   "source": [
    "fruits = \"There are at least two bananas in this sentence bananas\""
   ]
  },
  {
   "cell_type": "markdown",
   "metadata": {
    "hidden": true
   },
   "source": [
    "Remember that dot notation is when you type the variable name, and then a dot `.` after. So in this case, you write `fruits.`. In Jupyter Notebooks, you can then press the <kbd>⇥ Tab</kbd> key to get a list of all methods available for the variable. If you want to see the methods docstring (information about the method), you can write the variable with dot notation, the method and then press <kbd>Shift ⇧</kbd>+<kbd>⇥ Tab</kbd> to get access to the docstring. So, as an example, if you want the docstring for the string method `.upper()`, you type `fruits.upper` and then tap <kbd>Shift ⇧</kbd>+<kbd>⇥ Tab</kbd>!\n",
    "\n",
    "Using the variable above, I want you to find out what these three methods do, and then use them in an example of your own:\n",
    "\n",
    "1. `.count()`\n",
    "2. `.find()`\n",
    "3. `.replace()`\n",
    "\n",
    "Good luck!"
   ]
  },
  {
   "cell_type": "code",
   "execution_count": null,
   "metadata": {
    "hidden": true
   },
   "outputs": [],
   "source": []
  },
  {
   "cell_type": "code",
   "execution_count": null,
   "metadata": {
    "hidden": true
   },
   "outputs": [],
   "source": []
  },
  {
   "cell_type": "code",
   "execution_count": null,
   "metadata": {
    "hidden": true
   },
   "outputs": [],
   "source": []
  },
  {
   "cell_type": "code",
   "execution_count": null,
   "metadata": {
    "hidden": true
   },
   "outputs": [],
   "source": []
  },
  {
   "cell_type": "markdown",
   "metadata": {
    "heading_collapsed": true
   },
   "source": [
    "## Lists"
   ]
  },
  {
   "cell_type": "markdown",
   "metadata": {
    "hidden": true
   },
   "source": [
    "In section 1, we learned about the various value types. When programming, we often want to store values into a container of data. In this chapter, we will learn about one such container – the list data type."
   ]
  },
  {
   "cell_type": "markdown",
   "metadata": {
    "heading_collapsed": true,
    "hidden": true
   },
   "source": [
    "### Definition"
   ]
  },
  {
   "cell_type": "markdown",
   "metadata": {
    "hidden": true
   },
   "source": [
    "A list in Python code is defined by enclosed square brackets `[]`:"
   ]
  },
  {
   "cell_type": "code",
   "execution_count": 82,
   "metadata": {
    "hidden": true
   },
   "outputs": [
    {
     "data": {
      "text/plain": [
       "[]"
      ]
     },
     "execution_count": 82,
     "metadata": {},
     "output_type": "execute_result"
    }
   ],
   "source": [
    "[] # empty list"
   ]
  },
  {
   "cell_type": "code",
   "execution_count": 467,
   "metadata": {
    "hidden": true
   },
   "outputs": [
    {
     "data": {
      "text/plain": [
       "list"
      ]
     },
     "execution_count": 467,
     "metadata": {},
     "output_type": "execute_result"
    }
   ],
   "source": [
    "type([])"
   ]
  },
  {
   "cell_type": "markdown",
   "metadata": {
    "hidden": true
   },
   "source": [
    "A list can contain zero (like in the cell just above), one, or many values. The contents in a list are called **items**. All items in a list are seperated by commas:"
   ]
  },
  {
   "cell_type": "code",
   "execution_count": 497,
   "metadata": {
    "hidden": true,
    "jupyter": {
     "outputs_hidden": true
    }
   },
   "outputs": [
    {
     "data": {
      "text/plain": [
       "[2, 4, 3, 1]"
      ]
     },
     "execution_count": 497,
     "metadata": {},
     "output_type": "execute_result"
    }
   ],
   "source": [
    "[2, 4, 3, 1]"
   ]
  },
  {
   "cell_type": "markdown",
   "metadata": {
    "hidden": true
   },
   "source": [
    "(Note that it is common practice to type one blank space after commas in lists in Python)"
   ]
  },
  {
   "cell_type": "markdown",
   "metadata": {
    "hidden": true
   },
   "source": [
    "Lists can contain any type of value:"
   ]
  },
  {
   "cell_type": "code",
   "execution_count": 469,
   "metadata": {
    "hidden": true
   },
   "outputs": [
    {
     "data": {
      "text/plain": [
       "[1, 'Hello world!', True, None]"
      ]
     },
     "execution_count": 469,
     "metadata": {},
     "output_type": "execute_result"
    }
   ],
   "source": [
    "[1, \"Hello world!\", True, None]"
   ]
  },
  {
   "cell_type": "markdown",
   "metadata": {
    "heading_collapsed": true,
    "hidden": true
   },
   "source": [
    "### List index"
   ]
  },
  {
   "cell_type": "markdown",
   "metadata": {
    "hidden": true
   },
   "source": [
    "All lists in Python has an index that can be used to find specific values within the list."
   ]
  },
  {
   "cell_type": "code",
   "execution_count": 268,
   "metadata": {
    "hidden": true,
    "jupyter": {
     "outputs_hidden": true
    }
   },
   "outputs": [],
   "source": [
    "a_list = [1, 2, \"three\", 4]"
   ]
  },
  {
   "cell_type": "markdown",
   "metadata": {
    "hidden": true
   },
   "source": [
    "To access a list's index and return a specific value, we type squared brackets directly after the list with an **index number** in-between. The index numbers start at 0 and up to the length of the list minus 1:"
   ]
  },
  {
   "cell_type": "code",
   "execution_count": 269,
   "metadata": {
    "hidden": true,
    "jupyter": {
     "outputs_hidden": true
    }
   },
   "outputs": [
    {
     "data": {
      "text/plain": [
       "1"
      ]
     },
     "execution_count": 269,
     "metadata": {},
     "output_type": "execute_result"
    }
   ],
   "source": [
    "a_list[0]"
   ]
  },
  {
   "cell_type": "code",
   "execution_count": 270,
   "metadata": {
    "hidden": true
   },
   "outputs": [
    {
     "data": {
      "text/plain": [
       "'three'"
      ]
     },
     "execution_count": 270,
     "metadata": {},
     "output_type": "execute_result"
    }
   ],
   "source": [
    "a_list[2]"
   ]
  },
  {
   "cell_type": "markdown",
   "metadata": {
    "hidden": true
   },
   "source": [
    "In Python, lists are zero-indexed. But we can also reference the index using negative numbers which references the list backwards. **Negative indexing** start at -1 which points to the last value in the list:"
   ]
  },
  {
   "cell_type": "code",
   "execution_count": 509,
   "metadata": {
    "hidden": true
   },
   "outputs": [
    {
     "data": {
      "text/plain": [
       "4"
      ]
     },
     "execution_count": 509,
     "metadata": {},
     "output_type": "execute_result"
    }
   ],
   "source": [
    "a_list[-1]"
   ]
  },
  {
   "cell_type": "markdown",
   "metadata": {
    "hidden": true
   },
   "source": [
    "So `a_list[-1]` (the last value in the `a_list` variable) references the same specific value as `a_list[3]` (the fourth value in the `a_list` variable). They reference the same value:"
   ]
  },
  {
   "cell_type": "code",
   "execution_count": 272,
   "metadata": {
    "hidden": true
   },
   "outputs": [
    {
     "data": {
      "text/plain": [
       "True"
      ]
     },
     "execution_count": 272,
     "metadata": {},
     "output_type": "execute_result"
    }
   ],
   "source": [
    "a_list[-1] == a_list[3]"
   ]
  },
  {
   "cell_type": "markdown",
   "metadata": {
    "hidden": true
   },
   "source": [
    "We can use negative indexing to check if the maximum index number always is the list's length, minus 1:"
   ]
  },
  {
   "cell_type": "code",
   "execution_count": 273,
   "metadata": {
    "hidden": true
   },
   "outputs": [
    {
     "data": {
      "text/plain": [
       "4"
      ]
     },
     "execution_count": 273,
     "metadata": {},
     "output_type": "execute_result"
    }
   ],
   "source": [
    "a_list[len(a_list)-1] # See what's going on here?"
   ]
  },
  {
   "cell_type": "markdown",
   "metadata": {
    "hidden": true
   },
   "source": [
    "(above, the `len()` function returns the length of the list, 4, then we subtract 1 from 4, which returns 3 to the index reference!)"
   ]
  },
  {
   "cell_type": "code",
   "execution_count": 274,
   "metadata": {
    "hidden": true
   },
   "outputs": [
    {
     "data": {
      "text/plain": [
       "4"
      ]
     },
     "execution_count": 274,
     "metadata": {},
     "output_type": "execute_result"
    }
   ],
   "source": [
    "a_list[-1]"
   ]
  },
  {
   "cell_type": "code",
   "execution_count": 275,
   "metadata": {
    "hidden": true
   },
   "outputs": [
    {
     "data": {
      "text/plain": [
       "True"
      ]
     },
     "execution_count": 275,
     "metadata": {},
     "output_type": "execute_result"
    }
   ],
   "source": [
    "a_list[len(a_list)-1] == a_list[-1]"
   ]
  },
  {
   "cell_type": "markdown",
   "metadata": {
    "hidden": true
   },
   "source": [
    "Using an indexnumber that is higher than the number of values included in the list will produce an error:"
   ]
  },
  {
   "cell_type": "code",
   "execution_count": 276,
   "metadata": {
    "hidden": true
   },
   "outputs": [
    {
     "ename": "IndexError",
     "evalue": "list index out of range",
     "output_type": "error",
     "traceback": [
      "\u001b[0;31m---------------------------------------------------------------------------\u001b[0m",
      "\u001b[0;31mIndexError\u001b[0m                                Traceback (most recent call last)",
      "\u001b[0;32m<ipython-input-276-4877c2d78a82>\u001b[0m in \u001b[0;36m<module>\u001b[0;34m\u001b[0m\n\u001b[0;32m----> 1\u001b[0;31m \u001b[0ma_list\u001b[0m\u001b[0;34m[\u001b[0m\u001b[0mlen\u001b[0m\u001b[0;34m(\u001b[0m\u001b[0ma_list\u001b[0m\u001b[0;34m)\u001b[0m\u001b[0;34m+\u001b[0m\u001b[0;36m1\u001b[0m\u001b[0;34m]\u001b[0m\u001b[0;34m\u001b[0m\u001b[0;34m\u001b[0m\u001b[0m\n\u001b[0m",
      "\u001b[0;31mIndexError\u001b[0m: list index out of range"
     ]
    }
   ],
   "source": [
    "a_list[len(a_list)+1]"
   ]
  },
  {
   "cell_type": "markdown",
   "metadata": {
    "hidden": true
   },
   "source": [
    "You can also put lists within lists. This is called _nested lists_:"
   ]
  },
  {
   "cell_type": "code",
   "execution_count": 498,
   "metadata": {
    "hidden": true,
    "jupyter": {
     "outputs_hidden": true
    }
   },
   "outputs": [],
   "source": [
    "nested_list = [0, 1, [2, 3], 4]"
   ]
  },
  {
   "cell_type": "markdown",
   "metadata": {
    "hidden": true
   },
   "source": [
    "Nested lists' values can also be accessed with indexing:"
   ]
  },
  {
   "cell_type": "code",
   "execution_count": 503,
   "metadata": {
    "hidden": true
   },
   "outputs": [
    {
     "data": {
      "text/plain": [
       "[2, 3]"
      ]
     },
     "execution_count": 503,
     "metadata": {},
     "output_type": "execute_result"
    }
   ],
   "source": [
    "nested_list[2] # index value 2 returns the nested list"
   ]
  },
  {
   "cell_type": "code",
   "execution_count": 504,
   "metadata": {
    "hidden": true
   },
   "outputs": [
    {
     "data": {
      "text/plain": [
       "3"
      ]
     },
     "execution_count": 504,
     "metadata": {},
     "output_type": "execute_result"
    }
   ],
   "source": [
    "nested_list[2][1] # second index value (1) returns the second item in the nested list"
   ]
  },
  {
   "cell_type": "markdown",
   "metadata": {
    "heading_collapsed": true,
    "hidden": true
   },
   "source": [
    "### Slicing"
   ]
  },
  {
   "cell_type": "markdown",
   "metadata": {
    "hidden": true
   },
   "source": [
    "Using index values, we can also get chunks of the list. This is done with **slicing**. The syntax for a slice is two index numbers – a start and a stop index – seperated by a colon `:`. Slicing a list _always_ returns a new list."
   ]
  },
  {
   "cell_type": "code",
   "execution_count": 544,
   "metadata": {
    "hidden": true
   },
   "outputs": [],
   "source": [
    "a_list = [3, 5, 4, \"banana\", \"apple\", \"orange\"]"
   ]
  },
  {
   "cell_type": "code",
   "execution_count": 545,
   "metadata": {
    "hidden": true
   },
   "outputs": [
    {
     "data": {
      "text/plain": [
       "['banana', 'apple', 'orange']"
      ]
     },
     "execution_count": 545,
     "metadata": {},
     "output_type": "execute_result"
    }
   ],
   "source": [
    "a_list[3:6] # start at index 3, stop at index 6"
   ]
  },
  {
   "cell_type": "markdown",
   "metadata": {
    "hidden": true
   },
   "source": [
    "The second number is \"up to this index\", **not** \"up to _and including_ this index\". "
   ]
  },
  {
   "cell_type": "markdown",
   "metadata": {
    "hidden": true
   },
   "source": [
    "We can also do slicing with just one index number:"
   ]
  },
  {
   "cell_type": "code",
   "execution_count": 549,
   "metadata": {
    "hidden": true
   },
   "outputs": [
    {
     "data": {
      "text/plain": [
       "[3, 5]"
      ]
     },
     "execution_count": 549,
     "metadata": {},
     "output_type": "execute_result"
    }
   ],
   "source": [
    "a_list[:2] # returns all values up to index 2"
   ]
  },
  {
   "cell_type": "code",
   "execution_count": 551,
   "metadata": {
    "hidden": true
   },
   "outputs": [
    {
     "data": {
      "text/plain": [
       "[4, 'banana', 'apple', 'orange']"
      ]
     },
     "execution_count": 551,
     "metadata": {},
     "output_type": "execute_result"
    }
   ],
   "source": [
    "a_list[2:] # returns all values from index 2 and onwards"
   ]
  },
  {
   "cell_type": "markdown",
   "metadata": {
    "hidden": true
   },
   "source": [
    "As descirbed above, _a slice always returns a list_, even if you would only get one value from it:"
   ]
  },
  {
   "cell_type": "code",
   "execution_count": 546,
   "metadata": {
    "hidden": true
   },
   "outputs": [
    {
     "data": {
      "text/plain": [
       "['orange']"
      ]
     },
     "execution_count": 546,
     "metadata": {},
     "output_type": "execute_result"
    }
   ],
   "source": [
    "a_list[-1:] # return all values from the last value and onwards"
   ]
  },
  {
   "cell_type": "markdown",
   "metadata": {
    "heading_collapsed": true,
    "hidden": true
   },
   "source": [
    "### Changing list values"
   ]
  },
  {
   "cell_type": "markdown",
   "metadata": {
    "hidden": true
   },
   "source": [
    "Using list indexing, we can also change values within the list:"
   ]
  },
  {
   "cell_type": "code",
   "execution_count": 277,
   "metadata": {
    "hidden": true
   },
   "outputs": [],
   "source": [
    "fruit = ['banana', 'apple', 'pear']"
   ]
  },
  {
   "cell_type": "code",
   "execution_count": 278,
   "metadata": {
    "hidden": true
   },
   "outputs": [
    {
     "data": {
      "text/plain": [
       "['banana', 'apple', 'pear']"
      ]
     },
     "execution_count": 278,
     "metadata": {},
     "output_type": "execute_result"
    }
   ],
   "source": [
    "fruit"
   ]
  },
  {
   "cell_type": "code",
   "execution_count": 5,
   "metadata": {
    "hidden": true
   },
   "outputs": [],
   "source": [
    "fruit[1] = 'peach'"
   ]
  },
  {
   "cell_type": "code",
   "execution_count": 6,
   "metadata": {
    "hidden": true
   },
   "outputs": [
    {
     "data": {
      "text/plain": [
       "['banana', 'peach', 'pear']"
      ]
     },
     "execution_count": 6,
     "metadata": {},
     "output_type": "execute_result"
    }
   ],
   "source": [
    "fruit"
   ]
  },
  {
   "cell_type": "markdown",
   "metadata": {
    "hidden": true
   },
   "source": [
    "This can also be done using slicing:"
   ]
  },
  {
   "cell_type": "code",
   "execution_count": 7,
   "metadata": {
    "hidden": true
   },
   "outputs": [],
   "source": [
    "fruit[1:] = ['blueberries', 'orange']"
   ]
  },
  {
   "cell_type": "code",
   "execution_count": 8,
   "metadata": {
    "hidden": true
   },
   "outputs": [
    {
     "data": {
      "text/plain": [
       "['banana', 'blueberries', 'orange']"
      ]
     },
     "execution_count": 8,
     "metadata": {},
     "output_type": "execute_result"
    }
   ],
   "source": [
    "fruit"
   ]
  },
  {
   "cell_type": "markdown",
   "metadata": {
    "heading_collapsed": true,
    "hidden": true
   },
   "source": [
    "### Removing items with `del`"
   ]
  },
  {
   "cell_type": "markdown",
   "metadata": {
    "hidden": true
   },
   "source": [
    "We can remove items by using the `del` keyword:"
   ]
  },
  {
   "cell_type": "code",
   "execution_count": 16,
   "metadata": {
    "hidden": true
   },
   "outputs": [],
   "source": [
    "fruit = ['banana', 'apple', 'pear']"
   ]
  },
  {
   "cell_type": "code",
   "execution_count": 17,
   "metadata": {
    "hidden": true
   },
   "outputs": [],
   "source": [
    "del fruit[1]"
   ]
  },
  {
   "cell_type": "code",
   "execution_count": 18,
   "metadata": {
    "hidden": true
   },
   "outputs": [
    {
     "data": {
      "text/plain": [
       "['banana', 'pear']"
      ]
     },
     "execution_count": 18,
     "metadata": {},
     "output_type": "execute_result"
    }
   ],
   "source": [
    "fruit"
   ]
  },
  {
   "cell_type": "markdown",
   "metadata": {
    "hidden": true
   },
   "source": [
    "`del` can also be used on slices:"
   ]
  },
  {
   "cell_type": "code",
   "execution_count": 279,
   "metadata": {
    "hidden": true
   },
   "outputs": [],
   "source": [
    "fruit = ['banana', 'apple', 'pear', 'orange']"
   ]
  },
  {
   "cell_type": "code",
   "execution_count": 280,
   "metadata": {
    "hidden": true
   },
   "outputs": [],
   "source": [
    "del fruit[0:2]"
   ]
  },
  {
   "cell_type": "code",
   "execution_count": 281,
   "metadata": {
    "hidden": true
   },
   "outputs": [
    {
     "data": {
      "text/plain": [
       "['pear', 'orange']"
      ]
     },
     "execution_count": 281,
     "metadata": {},
     "output_type": "execute_result"
    }
   ],
   "source": [
    "fruit"
   ]
  },
  {
   "cell_type": "markdown",
   "metadata": {
    "heading_collapsed": true,
    "hidden": true
   },
   "source": [
    "### List methods"
   ]
  },
  {
   "cell_type": "markdown",
   "metadata": {
    "hidden": true
   },
   "source": [
    "Lists have a range of useful methods. These are some commonly used ones."
   ]
  },
  {
   "cell_type": "markdown",
   "metadata": {
    "hidden": true
   },
   "source": [
    "#### `.append()`"
   ]
  },
  {
   "cell_type": "markdown",
   "metadata": {
    "hidden": true
   },
   "source": [
    "Take this list as an example:"
   ]
  },
  {
   "cell_type": "code",
   "execution_count": 84,
   "metadata": {
    "hidden": true
   },
   "outputs": [],
   "source": [
    "animals = [\"dog\", \"camel\", \"bird\", \"mouse\"]"
   ]
  },
  {
   "cell_type": "code",
   "execution_count": 85,
   "metadata": {
    "hidden": true
   },
   "outputs": [
    {
     "data": {
      "text/plain": [
       "['dog', 'camel', 'bird', 'mouse']"
      ]
     },
     "execution_count": 85,
     "metadata": {},
     "output_type": "execute_result"
    }
   ],
   "source": [
    "animals"
   ]
  },
  {
   "cell_type": "markdown",
   "metadata": {
    "hidden": true
   },
   "source": [
    "With the `append()` method, we add the passed argument to the end of the list. Here, we add the string \"elephant\":"
   ]
  },
  {
   "cell_type": "code",
   "execution_count": 86,
   "metadata": {
    "hidden": true
   },
   "outputs": [],
   "source": [
    "animals.append(\"elephant\")"
   ]
  },
  {
   "cell_type": "code",
   "execution_count": 87,
   "metadata": {
    "hidden": true
   },
   "outputs": [
    {
     "data": {
      "text/plain": [
       "['dog', 'camel', 'bird', 'mouse', 'elephant']"
      ]
     },
     "execution_count": 87,
     "metadata": {},
     "output_type": "execute_result"
    }
   ],
   "source": [
    "animals"
   ]
  },
  {
   "cell_type": "markdown",
   "metadata": {
    "hidden": true
   },
   "source": [
    "#### `.insert()`"
   ]
  },
  {
   "cell_type": "markdown",
   "metadata": {
    "hidden": true
   },
   "source": [
    "Using the `insert()` method, we also add a value, but we can specify where we want it placed inside the list. This method takes two arguments (seperated by comma, remember?): the first is the index number where we want the new value placed, and the second is the value we want inserted in the list."
   ]
  },
  {
   "cell_type": "code",
   "execution_count": 95,
   "metadata": {
    "hidden": true
   },
   "outputs": [],
   "source": [
    "animals = [\"dog\", \"camel\", \"bird\", \"mouse\"]"
   ]
  },
  {
   "cell_type": "code",
   "execution_count": 96,
   "metadata": {
    "hidden": true
   },
   "outputs": [],
   "source": [
    "animals.insert(2, \"elephant\") # value with index number 2 – that is, the third value – shall be \"elephant\""
   ]
  },
  {
   "cell_type": "code",
   "execution_count": 97,
   "metadata": {
    "hidden": true
   },
   "outputs": [
    {
     "data": {
      "text/plain": [
       "['dog', 'camel', 'elephant', 'bird', 'mouse']"
      ]
     },
     "execution_count": 97,
     "metadata": {},
     "output_type": "execute_result"
    }
   ],
   "source": [
    "animals"
   ]
  },
  {
   "cell_type": "markdown",
   "metadata": {
    "hidden": true
   },
   "source": [
    "#### `.remove()`"
   ]
  },
  {
   "cell_type": "markdown",
   "metadata": {
    "hidden": true
   },
   "source": [
    "We can also remove items using the `remove()` method:"
   ]
  },
  {
   "cell_type": "code",
   "execution_count": 98,
   "metadata": {
    "hidden": true
   },
   "outputs": [],
   "source": [
    "animals = [\"dog\", \"camel\", \"bird\", \"mouse\"]"
   ]
  },
  {
   "cell_type": "code",
   "execution_count": 99,
   "metadata": {
    "hidden": true
   },
   "outputs": [],
   "source": [
    "animals.remove(\"dog\")"
   ]
  },
  {
   "cell_type": "code",
   "execution_count": 100,
   "metadata": {
    "hidden": true
   },
   "outputs": [
    {
     "data": {
      "text/plain": [
       "['camel', 'bird', 'mouse']"
      ]
     },
     "execution_count": 100,
     "metadata": {},
     "output_type": "execute_result"
    }
   ],
   "source": [
    "animals"
   ]
  },
  {
   "cell_type": "markdown",
   "metadata": {
    "hidden": true
   },
   "source": [
    "#### `.index()`"
   ]
  },
  {
   "cell_type": "markdown",
   "metadata": {
    "hidden": true
   },
   "source": [
    "We can also use the `index()` method to learn which index number a specific value in the list has:"
   ]
  },
  {
   "cell_type": "code",
   "execution_count": 83,
   "metadata": {
    "hidden": true
   },
   "outputs": [
    {
     "data": {
      "text/plain": [
       "1"
      ]
     },
     "execution_count": 83,
     "metadata": {},
     "output_type": "execute_result"
    }
   ],
   "source": [
    "animals.index('bird')"
   ]
  },
  {
   "cell_type": "markdown",
   "metadata": {
    "hidden": true
   },
   "source": [
    "This can be useful when you only want one specific value changed, but don't know where in the list it is. Let's say we have a list of names, and only want to change one name in the list:"
   ]
  },
  {
   "cell_type": "code",
   "execution_count": 297,
   "metadata": {
    "hidden": true
   },
   "outputs": [],
   "source": [
    "names = [\"Johan\", \"Fredrik\", \"Anna\", \"Sonya\", \"Ahmed\"]"
   ]
  },
  {
   "cell_type": "code",
   "execution_count": 298,
   "metadata": {
    "hidden": true
   },
   "outputs": [],
   "source": [
    "change_this = names.index(\"Johan\")"
   ]
  },
  {
   "cell_type": "code",
   "execution_count": 299,
   "metadata": {
    "hidden": true
   },
   "outputs": [
    {
     "data": {
      "text/plain": [
       "0"
      ]
     },
     "execution_count": 299,
     "metadata": {},
     "output_type": "execute_result"
    }
   ],
   "source": [
    "change_this"
   ]
  },
  {
   "cell_type": "code",
   "execution_count": 300,
   "metadata": {
    "hidden": true
   },
   "outputs": [],
   "source": [
    "names[change_this] = \"Charlie\""
   ]
  },
  {
   "cell_type": "code",
   "execution_count": 301,
   "metadata": {
    "hidden": true
   },
   "outputs": [
    {
     "data": {
      "text/plain": [
       "['Charlie', 'Fredrik', 'Anna', 'Sonya', 'Ahmed']"
      ]
     },
     "execution_count": 301,
     "metadata": {},
     "output_type": "execute_result"
    }
   ],
   "source": [
    "names"
   ]
  },
  {
   "cell_type": "markdown",
   "metadata": {
    "hidden": true
   },
   "source": [
    "#### `.sort()`"
   ]
  },
  {
   "cell_type": "markdown",
   "metadata": {
    "hidden": true
   },
   "source": [
    "The `.sort()` method sorts your list! Strings alphabetically:"
   ]
  },
  {
   "cell_type": "code",
   "execution_count": 1,
   "metadata": {
    "hidden": true
   },
   "outputs": [],
   "source": [
    "names = [\"Johan\", \"Fredrik\", \"Anna\", \"Sonya\", \"Ahmed\"]"
   ]
  },
  {
   "cell_type": "code",
   "execution_count": 3,
   "metadata": {
    "hidden": true
   },
   "outputs": [],
   "source": [
    "names.sort()"
   ]
  },
  {
   "cell_type": "code",
   "execution_count": 4,
   "metadata": {
    "hidden": true
   },
   "outputs": [
    {
     "data": {
      "text/plain": [
       "['Ahmed', 'Anna', 'Fredrik', 'Johan', 'Sonya']"
      ]
     },
     "execution_count": 4,
     "metadata": {},
     "output_type": "execute_result"
    }
   ],
   "source": [
    "names"
   ]
  },
  {
   "cell_type": "markdown",
   "metadata": {
    "hidden": true
   },
   "source": [
    "Number values get sorted with the smallest value first:"
   ]
  },
  {
   "cell_type": "code",
   "execution_count": 12,
   "metadata": {
    "hidden": true
   },
   "outputs": [],
   "source": [
    "numbers = [4, 53, 100, -14, 10, 10.1, 37]"
   ]
  },
  {
   "cell_type": "code",
   "execution_count": 13,
   "metadata": {
    "hidden": true
   },
   "outputs": [],
   "source": [
    "numbers.sort()"
   ]
  },
  {
   "cell_type": "code",
   "execution_count": 14,
   "metadata": {
    "hidden": true
   },
   "outputs": [
    {
     "data": {
      "text/plain": [
       "[-14, 4, 10, 10.1, 37, 53, 100]"
      ]
     },
     "execution_count": 14,
     "metadata": {},
     "output_type": "execute_result"
    }
   ],
   "source": [
    "numbers"
   ]
  },
  {
   "cell_type": "markdown",
   "metadata": {
    "hidden": true
   },
   "source": [
    "You can also use sort in reverse order, by setting the reverse parameter to `True`:"
   ]
  },
  {
   "cell_type": "code",
   "execution_count": 15,
   "metadata": {
    "hidden": true
   },
   "outputs": [],
   "source": [
    "numbers.sort(reverse=True)"
   ]
  },
  {
   "cell_type": "code",
   "execution_count": 16,
   "metadata": {
    "hidden": true
   },
   "outputs": [
    {
     "data": {
      "text/plain": [
       "[100, 53, 37, 10.1, 10, 4, -14]"
      ]
     },
     "execution_count": 16,
     "metadata": {},
     "output_type": "execute_result"
    }
   ],
   "source": [
    "numbers"
   ]
  },
  {
   "cell_type": "markdown",
   "metadata": {
    "hidden": true
   },
   "source": [
    "Sorted will produce an error if you try to sort a list with _both_ number and string values:"
   ]
  },
  {
   "cell_type": "code",
   "execution_count": 17,
   "metadata": {
    "hidden": true
   },
   "outputs": [],
   "source": [
    "mixed = [\"Johan\", 4, \"bananas\", 42]"
   ]
  },
  {
   "cell_type": "code",
   "execution_count": 18,
   "metadata": {
    "hidden": true
   },
   "outputs": [
    {
     "ename": "TypeError",
     "evalue": "'<' not supported between instances of 'int' and 'str'",
     "output_type": "error",
     "traceback": [
      "\u001b[0;31m---------------------------------------------------------------------------\u001b[0m",
      "\u001b[0;31mTypeError\u001b[0m                                 Traceback (most recent call last)",
      "\u001b[0;32m<ipython-input-18-af3915e507d0>\u001b[0m in \u001b[0;36m<module>\u001b[0;34m\u001b[0m\n\u001b[0;32m----> 1\u001b[0;31m \u001b[0mmixed\u001b[0m\u001b[0;34m.\u001b[0m\u001b[0msort\u001b[0m\u001b[0;34m(\u001b[0m\u001b[0;34m)\u001b[0m\u001b[0;34m\u001b[0m\u001b[0;34m\u001b[0m\u001b[0m\n\u001b[0m",
      "\u001b[0;31mTypeError\u001b[0m: '<' not supported between instances of 'int' and 'str'"
     ]
    }
   ],
   "source": [
    "mixed.sort()"
   ]
  },
  {
   "cell_type": "markdown",
   "metadata": {
    "hidden": true
   },
   "source": [
    "##### ASCII Sorting"
   ]
  },
  {
   "cell_type": "markdown",
   "metadata": {
    "hidden": true
   },
   "source": [
    "The `.sort()` doesn't actually sort in alphabetical order, but \"ASCII-betical\" order. That is, in accordance with [the ASCII table](http://www.asciitable.com/).  This means it takes upper and lower casing into account while sorting. So upper case comes before lower case:"
   ]
  },
  {
   "cell_type": "code",
   "execution_count": 285,
   "metadata": {
    "hidden": true
   },
   "outputs": [],
   "source": [
    "things = [\"Johan\", \"Sarah\", \"Mohamed\", \"juice\", \"sand\", \"moose\"]"
   ]
  },
  {
   "cell_type": "code",
   "execution_count": 286,
   "metadata": {
    "hidden": true
   },
   "outputs": [],
   "source": [
    "things.sort()"
   ]
  },
  {
   "cell_type": "code",
   "execution_count": 287,
   "metadata": {
    "hidden": true
   },
   "outputs": [
    {
     "data": {
      "text/plain": [
       "['Johan', 'Mohamed', 'Sarah', 'juice', 'moose', 'sand']"
      ]
     },
     "execution_count": 287,
     "metadata": {},
     "output_type": "execute_result"
    }
   ],
   "source": [
    "things"
   ]
  },
  {
   "cell_type": "code",
   "execution_count": 288,
   "metadata": {
    "hidden": true
   },
   "outputs": [],
   "source": [
    "things = [\"AAA\", \"bbb\", \"CCC\", \"aaa\", \"BBB\", \"ccc\"]"
   ]
  },
  {
   "cell_type": "code",
   "execution_count": 289,
   "metadata": {
    "hidden": true
   },
   "outputs": [],
   "source": [
    "things.sort()"
   ]
  },
  {
   "cell_type": "code",
   "execution_count": 290,
   "metadata": {
    "hidden": true
   },
   "outputs": [
    {
     "data": {
      "text/plain": [
       "['AAA', 'BBB', 'CCC', 'aaa', 'bbb', 'ccc']"
      ]
     },
     "execution_count": 290,
     "metadata": {},
     "output_type": "execute_result"
    }
   ],
   "source": [
    "things"
   ]
  },
  {
   "cell_type": "markdown",
   "metadata": {
    "hidden": true
   },
   "source": [
    "This is a bit weird, isn't it? \"BBB\" before \"aaa\"? Thankfully, you can change the sorting behaviour to true alphabetical order by using the `key` parameter:"
   ]
  },
  {
   "cell_type": "code",
   "execution_count": 291,
   "metadata": {
    "hidden": true
   },
   "outputs": [],
   "source": [
    "things = [\"AAA\", \"bbb\", \"CCC\", \"aaa\", \"BBB\", \"ccc\"]"
   ]
  },
  {
   "cell_type": "code",
   "execution_count": 292,
   "metadata": {
    "hidden": true
   },
   "outputs": [],
   "source": [
    "things.sort(key=str.lower) # here, we're actually passing a method as an argument"
   ]
  },
  {
   "cell_type": "code",
   "execution_count": 293,
   "metadata": {
    "hidden": true
   },
   "outputs": [
    {
     "data": {
      "text/plain": [
       "['AAA', 'aaa', 'bbb', 'BBB', 'CCC', 'ccc']"
      ]
     },
     "execution_count": 293,
     "metadata": {},
     "output_type": "execute_result"
    }
   ],
   "source": [
    "things"
   ]
  },
  {
   "cell_type": "markdown",
   "metadata": {
    "hidden": true
   },
   "source": [
    "In above sorting, casing is ignored. If the items are of the same alphbetical letters, they are ordered as they appear in the list."
   ]
  },
  {
   "cell_type": "markdown",
   "metadata": {
    "hidden": true
   },
   "source": [
    "#### (Optional) Method call straight into index brackets"
   ]
  },
  {
   "cell_type": "markdown",
   "metadata": {
    "hidden": true
   },
   "source": [
    "Since the method `.index()` return the index value, we can acctually just insert that method call into the index brackets directly!"
   ]
  },
  {
   "cell_type": "code",
   "execution_count": 294,
   "metadata": {
    "hidden": true
   },
   "outputs": [],
   "source": [
    "names = [\"Johan\", \"Fredrik\", \"Anna\", \"Sonya\", \"Ahmed\"]"
   ]
  },
  {
   "cell_type": "code",
   "execution_count": 295,
   "metadata": {
    "hidden": true
   },
   "outputs": [],
   "source": [
    "names[names.index(\"Johan\")] = \"Charlie\""
   ]
  },
  {
   "cell_type": "code",
   "execution_count": 296,
   "metadata": {
    "hidden": true,
    "scrolled": true
   },
   "outputs": [
    {
     "data": {
      "text/plain": [
       "['Charlie', 'Fredrik', 'Anna', 'Sonya', 'Ahmed']"
      ]
     },
     "execution_count": 296,
     "metadata": {},
     "output_type": "execute_result"
    }
   ],
   "source": [
    "names"
   ]
  },
  {
   "cell_type": "markdown",
   "metadata": {
    "hidden": true
   },
   "source": [
    "#### (Optional) \"In place\" methods"
   ]
  },
  {
   "cell_type": "markdown",
   "metadata": {
    "hidden": true
   },
   "source": [
    "Some of you may have noticed that some of the methods above didn't return any value. Take `.append()` as an example:"
   ]
  },
  {
   "cell_type": "code",
   "execution_count": 108,
   "metadata": {
    "hidden": true
   },
   "outputs": [],
   "source": [
    "names = [\"Johan\", \"Fredrik\", \"Anna\", \"Sonya\", \"Ahmed\"]"
   ]
  },
  {
   "cell_type": "code",
   "execution_count": 109,
   "metadata": {
    "hidden": true
   },
   "outputs": [],
   "source": [
    "names.append(\"Lisa\") # Doesn't return anything??"
   ]
  },
  {
   "cell_type": "code",
   "execution_count": 110,
   "metadata": {
    "hidden": true
   },
   "outputs": [
    {
     "data": {
      "text/plain": [
       "['Johan', 'Fredrik', 'Anna', 'Sonya', 'Ahmed', 'Lisa']"
      ]
     },
     "execution_count": 110,
     "metadata": {},
     "output_type": "execute_result"
    }
   ],
   "source": [
    "names"
   ]
  },
  {
   "cell_type": "markdown",
   "metadata": {
    "hidden": true
   },
   "source": [
    "Some methods modify values \"in place\". `.append()` is one such method. They don't return a new list, only change the list we use the method on. \n",
    "\n",
    "Or, to be precise, they actually do return a value – `None`. So be sure not to reassign a `.append()` method call to a variable. You will replace your variable list with the `None` value:"
   ]
  },
  {
   "cell_type": "code",
   "execution_count": 302,
   "metadata": {
    "hidden": true
   },
   "outputs": [],
   "source": [
    "names = [\"Johan\", \"Fredrik\", \"Anna\", \"Sonya\", \"Ahmed\"]"
   ]
  },
  {
   "cell_type": "code",
   "execution_count": 303,
   "metadata": {
    "hidden": true
   },
   "outputs": [],
   "source": [
    "names = names.append(\"Lisa\")"
   ]
  },
  {
   "cell_type": "code",
   "execution_count": 304,
   "metadata": {
    "hidden": true
   },
   "outputs": [],
   "source": [
    "names"
   ]
  },
  {
   "cell_type": "code",
   "execution_count": 305,
   "metadata": {
    "hidden": true
   },
   "outputs": [
    {
     "data": {
      "text/plain": [
       "NoneType"
      ]
     },
     "execution_count": 305,
     "metadata": {},
     "output_type": "execute_result"
    }
   ],
   "source": [
    "type(names)"
   ]
  },
  {
   "cell_type": "markdown",
   "metadata": {
    "heading_collapsed": true,
    "hidden": true
   },
   "source": [
    "### The built-in function `list()`"
   ]
  },
  {
   "cell_type": "markdown",
   "metadata": {
    "hidden": true
   },
   "source": [
    "The `list()` function lets us convert list-like objects – containers – into Python lists. String values are containers, so the `list()` function divides the string into a list of all its characters:"
   ]
  },
  {
   "cell_type": "code",
   "execution_count": 57,
   "metadata": {
    "hidden": true
   },
   "outputs": [
    {
     "data": {
      "text/plain": [
       "['J', 'o', 'h', 'a', 'n']"
      ]
     },
     "execution_count": 57,
     "metadata": {},
     "output_type": "execute_result"
    }
   ],
   "source": [
    "list(\"Johan\")"
   ]
  },
  {
   "cell_type": "markdown",
   "metadata": {
    "heading_collapsed": true,
    "hidden": true
   },
   "source": [
    "### The `in` and `not in` operators"
   ]
  },
  {
   "cell_type": "markdown",
   "metadata": {
    "hidden": true
   },
   "source": [
    "Often, our lists will include a whole bunch of items. And it is fairly common we want to check to see if a specific value is or isn't included in the list. As an example, let's create a list of surnames:"
   ]
  },
  {
   "cell_type": "code",
   "execution_count": 306,
   "metadata": {
    "hidden": true
   },
   "outputs": [],
   "source": [
    "surnames = [\"Ekman\", \"Smith\", \"Deboullie\", \"Mäki\", \"Sørensen\", \"Doe\"]"
   ]
  },
  {
   "cell_type": "markdown",
   "metadata": {
    "hidden": true
   },
   "source": [
    "We can now check to see if the surname \"Doe\" is in the list (remember, Python is checking your code literally. Casing matters, so always check your spelling!):"
   ]
  },
  {
   "cell_type": "code",
   "execution_count": 307,
   "metadata": {
    "hidden": true
   },
   "outputs": [
    {
     "data": {
      "text/plain": [
       "True"
      ]
     },
     "execution_count": 307,
     "metadata": {},
     "output_type": "execute_result"
    }
   ],
   "source": [
    "\"Doe\" in surnames"
   ]
  },
  {
   "cell_type": "code",
   "execution_count": 308,
   "metadata": {
    "hidden": true
   },
   "outputs": [
    {
     "data": {
      "text/plain": [
       "False"
      ]
     },
     "execution_count": 308,
     "metadata": {},
     "output_type": "execute_result"
    }
   ],
   "source": [
    "\"banana\" in surnames"
   ]
  },
  {
   "cell_type": "code",
   "execution_count": 309,
   "metadata": {
    "hidden": true
   },
   "outputs": [
    {
     "data": {
      "text/plain": [
       "True"
      ]
     },
     "execution_count": 309,
     "metadata": {},
     "output_type": "execute_result"
    }
   ],
   "source": [
    "\"banana\" not in surnames"
   ]
  },
  {
   "cell_type": "code",
   "execution_count": 310,
   "metadata": {
    "hidden": true
   },
   "outputs": [
    {
     "data": {
      "text/plain": [
       "False"
      ]
     },
     "execution_count": 310,
     "metadata": {},
     "output_type": "execute_result"
    }
   ],
   "source": [
    "\"Doe\" not in surnames"
   ]
  },
  {
   "cell_type": "markdown",
   "metadata": {
    "hidden": true
   },
   "source": [
    "If you recall the if-statement, it is fairly easy to understand why these operators would come in handy in a program. Let's say we want our program to add names that aren't already in the list. An if-statement can help us with that:"
   ]
  },
  {
   "cell_type": "code",
   "execution_count": 78,
   "metadata": {
    "hidden": true
   },
   "outputs": [],
   "source": [
    "name = \"Sauron\""
   ]
  },
  {
   "cell_type": "code",
   "execution_count": 79,
   "metadata": {
    "hidden": true
   },
   "outputs": [],
   "source": [
    "if name not in surnames:\n",
    "    surnames.append(name)"
   ]
  },
  {
   "cell_type": "code",
   "execution_count": 80,
   "metadata": {
    "hidden": true
   },
   "outputs": [
    {
     "data": {
      "text/plain": [
       "['Ekman', 'Smith', 'Deboullie', 'Mäki', 'Sørensen', 'Doe', 'Johan', 'Sauron']"
      ]
     },
     "execution_count": 80,
     "metadata": {},
     "output_type": "execute_result"
    }
   ],
   "source": [
    "surnames"
   ]
  },
  {
   "cell_type": "markdown",
   "metadata": {
    "heading_collapsed": true,
    "hidden": true
   },
   "source": [
    "### Similarities between lists and strings"
   ]
  },
  {
   "cell_type": "markdown",
   "metadata": {
    "hidden": true
   },
   "source": [
    "As explained in our chapter 6, the `len()` function returns the number of items within a container. We used this built-in function on string values:"
   ]
  },
  {
   "cell_type": "code",
   "execution_count": 35,
   "metadata": {
    "hidden": true
   },
   "outputs": [],
   "source": [
    "name = \"Johan\""
   ]
  },
  {
   "cell_type": "code",
   "execution_count": 36,
   "metadata": {
    "hidden": true
   },
   "outputs": [
    {
     "data": {
      "text/plain": [
       "5"
      ]
     },
     "execution_count": 36,
     "metadata": {},
     "output_type": "execute_result"
    }
   ],
   "source": [
    "len(name)"
   ]
  },
  {
   "cell_type": "markdown",
   "metadata": {
    "hidden": true
   },
   "source": [
    "String values actually have a lot in common with lists. They have an index:"
   ]
  },
  {
   "cell_type": "code",
   "execution_count": 37,
   "metadata": {
    "hidden": true
   },
   "outputs": [
    {
     "data": {
      "text/plain": [
       "'h'"
      ]
     },
     "execution_count": 37,
     "metadata": {},
     "output_type": "execute_result"
    }
   ],
   "source": [
    "name[2]"
   ]
  },
  {
   "cell_type": "markdown",
   "metadata": {
    "hidden": true
   },
   "source": [
    "You can use slice indexing:"
   ]
  },
  {
   "cell_type": "code",
   "execution_count": 38,
   "metadata": {
    "hidden": true
   },
   "outputs": [
    {
     "data": {
      "text/plain": [
       "'ha'"
      ]
     },
     "execution_count": 38,
     "metadata": {},
     "output_type": "execute_result"
    }
   ],
   "source": [
    "name[2:4]"
   ]
  },
  {
   "cell_type": "markdown",
   "metadata": {
    "hidden": true
   },
   "source": [
    "Just like lists, you can use the `in` and `not in` operators on strings:"
   ]
  },
  {
   "cell_type": "code",
   "execution_count": 30,
   "metadata": {
    "hidden": true
   },
   "outputs": [
    {
     "data": {
      "text/plain": [
       "True"
      ]
     },
     "execution_count": 30,
     "metadata": {},
     "output_type": "execute_result"
    }
   ],
   "source": [
    "# returns True if \"oh\" is in the string\n",
    "\"oh\" in \"Johan\""
   ]
  },
  {
   "cell_type": "code",
   "execution_count": 31,
   "metadata": {
    "hidden": true
   },
   "outputs": [
    {
     "data": {
      "text/plain": [
       "True"
      ]
     },
     "execution_count": 31,
     "metadata": {},
     "output_type": "execute_result"
    }
   ],
   "source": [
    "# returns True if \"Johan\" isn't in the string\n",
    "\"Johan\" not in \"This is a string value, not containing any names.\""
   ]
  },
  {
   "cell_type": "code",
   "execution_count": 32,
   "metadata": {
    "hidden": true
   },
   "outputs": [
    {
     "data": {
      "text/plain": [
       "False"
      ]
     },
     "execution_count": 32,
     "metadata": {},
     "output_type": "execute_result"
    }
   ],
   "source": [
    "# returns False if \"Johan\" is in the string\n",
    "\"Johan\" not in \"This is a string value, containing the name Johan.\""
   ]
  },
  {
   "cell_type": "markdown",
   "metadata": {
    "hidden": true
   },
   "source": [
    "And, as shown in section 9.7, if we use the `list()` function on a string, it returns the strings characters in a list:"
   ]
  },
  {
   "cell_type": "code",
   "execution_count": 39,
   "metadata": {
    "hidden": true
   },
   "outputs": [
    {
     "data": {
      "text/plain": [
       "['J', 'o', 'h', 'a', 'n']"
      ]
     },
     "execution_count": 39,
     "metadata": {},
     "output_type": "execute_result"
    }
   ],
   "source": [
    "list(\"Johan\")"
   ]
  },
  {
   "cell_type": "markdown",
   "metadata": {
    "hidden": true
   },
   "source": [
    "Just like strings, lists are also containers, which means we can also use the `len()` function on our lists!"
   ]
  },
  {
   "cell_type": "code",
   "execution_count": 61,
   "metadata": {
    "hidden": true
   },
   "outputs": [],
   "source": [
    "fruit = ['banana', 'apple', 'orange']"
   ]
  },
  {
   "cell_type": "code",
   "execution_count": 37,
   "metadata": {
    "hidden": true
   },
   "outputs": [
    {
     "data": {
      "text/plain": [
       "3"
      ]
     },
     "execution_count": 37,
     "metadata": {},
     "output_type": "execute_result"
    }
   ],
   "source": [
    "len(fruit)"
   ]
  },
  {
   "cell_type": "markdown",
   "metadata": {
    "hidden": true
   },
   "source": [
    "Just as with strings, lists can be concatinated with the `+` operator."
   ]
  },
  {
   "cell_type": "code",
   "execution_count": 52,
   "metadata": {
    "hidden": true
   },
   "outputs": [
    {
     "data": {
      "text/plain": [
       "'Hello world!'"
      ]
     },
     "execution_count": 52,
     "metadata": {},
     "output_type": "execute_result"
    }
   ],
   "source": [
    "\"Hello \" + \"world!\""
   ]
  },
  {
   "cell_type": "markdown",
   "metadata": {
    "hidden": true
   },
   "source": [
    "This also works with lists:"
   ]
  },
  {
   "cell_type": "code",
   "execution_count": 53,
   "metadata": {
    "hidden": true
   },
   "outputs": [
    {
     "data": {
      "text/plain": [
       "['banana', 'apple', 'orange']"
      ]
     },
     "execution_count": 53,
     "metadata": {},
     "output_type": "execute_result"
    }
   ],
   "source": [
    "fruit"
   ]
  },
  {
   "cell_type": "code",
   "execution_count": 48,
   "metadata": {
    "hidden": true
   },
   "outputs": [],
   "source": [
    "berries = ['blackberries', 'strawberries', 'blueberries']"
   ]
  },
  {
   "cell_type": "code",
   "execution_count": 49,
   "metadata": {
    "hidden": true
   },
   "outputs": [
    {
     "data": {
      "text/plain": [
       "['banana', 'apple', 'orange', 'blackberries', 'strawberries', 'blueberries']"
      ]
     },
     "execution_count": 49,
     "metadata": {},
     "output_type": "execute_result"
    }
   ],
   "source": [
    "fruit + berries"
   ]
  },
  {
   "cell_type": "code",
   "execution_count": 56,
   "metadata": {
    "hidden": true
   },
   "outputs": [
    {
     "data": {
      "text/plain": [
       "[1, 2, 3, 4]"
      ]
     },
     "execution_count": 56,
     "metadata": {},
     "output_type": "execute_result"
    }
   ],
   "source": [
    "[1, 2, 3] + [4]"
   ]
  },
  {
   "cell_type": "markdown",
   "metadata": {
    "hidden": true
   },
   "source": [
    "We can also do **list replication** with the multiplication operator:"
   ]
  },
  {
   "cell_type": "code",
   "execution_count": 55,
   "metadata": {
    "hidden": true
   },
   "outputs": [
    {
     "data": {
      "text/plain": [
       "['banana',\n",
       " 'apple',\n",
       " 'orange',\n",
       " 'banana',\n",
       " 'apple',\n",
       " 'orange',\n",
       " 'banana',\n",
       " 'apple',\n",
       " 'orange']"
      ]
     },
     "execution_count": 55,
     "metadata": {},
     "output_type": "execute_result"
    }
   ],
   "source": [
    "fruit * 3"
   ]
  },
  {
   "cell_type": "markdown",
   "metadata": {
    "heading_collapsed": true,
    "hidden": true
   },
   "source": [
    "#### The `split()` method"
   ]
  },
  {
   "cell_type": "markdown",
   "metadata": {
    "hidden": true
   },
   "source": [
    "String values acctually have a very neet method that let us cut up strings into lists: `split()`. By default, this method splits up the string by all its blank spaces:"
   ]
  },
  {
   "cell_type": "code",
   "execution_count": 313,
   "metadata": {
    "hidden": true
   },
   "outputs": [],
   "source": [
    "long_string = \"Hello everyone. This is a preeeetty long string\""
   ]
  },
  {
   "cell_type": "code",
   "execution_count": 314,
   "metadata": {
    "hidden": true
   },
   "outputs": [
    {
     "data": {
      "text/plain": [
       "['Hello', 'everyone.', 'This', 'is', 'a', 'preeeetty', 'long', 'string']"
      ]
     },
     "execution_count": 314,
     "metadata": {},
     "output_type": "execute_result"
    }
   ],
   "source": [
    "long_string.split()"
   ]
  },
  {
   "cell_type": "markdown",
   "metadata": {
    "hidden": true
   },
   "source": [
    "But we can split it on any character we wish. We just pass a character to split on as an argument:"
   ]
  },
  {
   "cell_type": "code",
   "execution_count": 315,
   "metadata": {
    "hidden": true
   },
   "outputs": [
    {
     "data": {
      "text/plain": [
       "['Hello everyone', ' This is a preeeetty long string']"
      ]
     },
     "execution_count": 315,
     "metadata": {},
     "output_type": "execute_result"
    }
   ],
   "source": [
    "long_string.split(\".\") # splits on '.'"
   ]
  },
  {
   "cell_type": "code",
   "execution_count": 316,
   "metadata": {
    "hidden": true
   },
   "outputs": [
    {
     "data": {
      "text/plain": [
       "['H', 'llo ', 'v', 'ryon', '. This is a pr', '', '', '', 'tty long string']"
      ]
     },
     "execution_count": 316,
     "metadata": {},
     "output_type": "execute_result"
    }
   ],
   "source": [
    "long_string.split(\"e\") # splits on 'e'"
   ]
  },
  {
   "cell_type": "markdown",
   "metadata": {
    "hidden": true
   },
   "source": [
    "Note that the character that we chose to split on isn't included in the returned list."
   ]
  },
  {
   "cell_type": "markdown",
   "metadata": {
    "heading_collapsed": true,
    "hidden": true
   },
   "source": [
    "### Exercise – Build your own list function, part 1"
   ]
  },
  {
   "cell_type": "markdown",
   "metadata": {
    "hidden": true
   },
   "source": [
    "In this exercise, I want you to build a function that replaces any of the items in this list: \n",
    "\n",
    "`my_list = [\"apple\", \"pear\", \"orange\", \"blueberry\"]`\n",
    "\n",
    "It should have three parameters. the first should be the value that is meant to be replaced. The second should be the value we want to replace with, and the third should be the list itself. \n",
    "\n",
    "For example, say I want to swap `\"orange\"` to `\"pineapple\"`, your function should be called like this:\n",
    "\n",
    "`my_function(\"orange\", \"pineapple\", my_list)` and then return a list where `\"orange\"` is gone, and `\"pineapple\"` added to the list. \n",
    "\n",
    "Also! If the passed item isn't included in the list, the function should print a warning about this and then return the original list. \n",
    "\n",
    "Hint: you will need to use list methods to get this done. The solution can be found in the solutions notebook. Good luck!"
   ]
  },
  {
   "cell_type": "code",
   "execution_count": 63,
   "metadata": {
    "hidden": true
   },
   "outputs": [],
   "source": [
    "my_list = [\"apple\", \"pear\", \"orange\", \"blueberry\"]"
   ]
  },
  {
   "cell_type": "code",
   "execution_count": null,
   "metadata": {
    "hidden": true
   },
   "outputs": [],
   "source": []
  },
  {
   "cell_type": "code",
   "execution_count": null,
   "metadata": {
    "hidden": true
   },
   "outputs": [],
   "source": []
  },
  {
   "cell_type": "code",
   "execution_count": null,
   "metadata": {
    "hidden": true
   },
   "outputs": [],
   "source": []
  },
  {
   "cell_type": "markdown",
   "metadata": {
    "heading_collapsed": true
   },
   "source": [
    "## Loops"
   ]
  },
  {
   "cell_type": "markdown",
   "metadata": {
    "heading_collapsed": true,
    "hidden": true
   },
   "source": [
    "### `while`-loops"
   ]
  },
  {
   "cell_type": "markdown",
   "metadata": {
    "hidden": true
   },
   "source": [
    "In chapter 6 we learned about flow control `if`-statements. For example:"
   ]
  },
  {
   "cell_type": "code",
   "execution_count": 5,
   "metadata": {
    "hidden": true
   },
   "outputs": [],
   "source": [
    "number = 0"
   ]
  },
  {
   "cell_type": "code",
   "execution_count": 6,
   "metadata": {
    "hidden": true
   },
   "outputs": [
    {
     "name": "stdout",
     "output_type": "stream",
     "text": [
      "1\n"
     ]
    }
   ],
   "source": [
    "if number < 5:\n",
    "    number = number + 1\n",
    "    print(number)"
   ]
  },
  {
   "cell_type": "markdown",
   "metadata": {
    "hidden": true
   },
   "source": [
    "Here, we created a global variable `number` assigned to the integer 0. The `if`-statement evaluates the condition `number < 5` to `True` (since 0 is less than 5) and thus executes the code block beneath it. Within the code block, `number` is increased by 1, and the variable is then printed. Here is a flow chart of what has happend:"
   ]
  },
  {
   "cell_type": "markdown",
   "metadata": {
    "hidden": true
   },
   "source": [
    "<img src=\"course_material/if_statement.png\" style=\"width: 600px;\"/>"
   ]
  },
  {
   "cell_type": "markdown",
   "metadata": {
    "hidden": true
   },
   "source": [
    "A `while`-loop lets us use the same kind of flow control, while at the same time automatically repeating the code block as many times we'd like. Let's do the same thing, but with a while loop:"
   ]
  },
  {
   "cell_type": "code",
   "execution_count": 11,
   "metadata": {
    "hidden": true
   },
   "outputs": [],
   "source": [
    "number = 0"
   ]
  },
  {
   "cell_type": "code",
   "execution_count": 12,
   "metadata": {
    "hidden": true
   },
   "outputs": [
    {
     "name": "stdout",
     "output_type": "stream",
     "text": [
      "1\n",
      "2\n",
      "3\n",
      "4\n",
      "5\n"
     ]
    }
   ],
   "source": [
    "while number < 5:\n",
    "    number = number + 1\n",
    "    print(number)"
   ]
  },
  {
   "cell_type": "markdown",
   "metadata": {
    "hidden": true
   },
   "source": [
    "A `while`-loop evaluates the condition passed (`number < 5`), and if this is true, the code block is executed – just like the `if`-statement. BUT! The difference is that the `while`-loop will execute the code block, and then _return back to the condition and check it again_. If the condition is still true, it will rerun the code block. It will _loop over_ the code block until the condition is false! Here is a flow chart of what happend:"
   ]
  },
  {
   "cell_type": "markdown",
   "metadata": {
    "hidden": true
   },
   "source": [
    "<img src=\"course_material/while_loop.png\" style=\"width: 500px;\"/>"
   ]
  },
  {
   "cell_type": "markdown",
   "metadata": {
    "heading_collapsed": true,
    "hidden": true
   },
   "source": [
    "#### Input validation"
   ]
  },
  {
   "cell_type": "markdown",
   "metadata": {
    "hidden": true
   },
   "source": [
    "While loops are usually used when you want input from a user that needs to be typed in a specific way. Uncomment the following code (just remove the `#` characters in the cell – and be careful to only remove the `#` characters!) and run the code.\n",
    "\n",
    "Below, we use the built-in function `input()`. This creates a small input bar under the cell where we can type in a value that will be passed as a string to our code. Write your prefered string and then press Enter. If the string value we've passed doesn't match \"Yes\", the condition `user_input != \"Yes\"` will evaluate to `True`, and the code block is executed. Try it:"
   ]
  },
  {
   "cell_type": "code",
   "execution_count": 19,
   "metadata": {
    "hidden": true
   },
   "outputs": [],
   "source": [
    "#user_input = input()\n",
    "#print(\"Would you like to proceed?\")\n",
    "#while user_input != \"Yes\":\n",
    "#    print(\"To proceed, type 'Yes'\")\n",
    "#    user_input = input()\n",
    "#print(\"Proceeding...\")"
   ]
  },
  {
   "cell_type": "markdown",
   "metadata": {
    "hidden": true
   },
   "source": [
    "While loops are often used in this manner, to validate that the input from a user is as expected. Using while loops in this manner is often called **input validation**."
   ]
  },
  {
   "cell_type": "markdown",
   "metadata": {
    "heading_collapsed": true,
    "hidden": true
   },
   "source": [
    "#### CAUTION: Infinite `while`-loops"
   ]
  },
  {
   "cell_type": "markdown",
   "metadata": {
    "hidden": true
   },
   "source": [
    "Since a while-loop always repeats itself if its condition is evaluated to `True`, you have to be cautious not to create an infinite loop. Let's reuse the above example but with one small change:"
   ]
  },
  {
   "cell_type": "code",
   "execution_count": 13,
   "metadata": {
    "hidden": true
   },
   "outputs": [],
   "source": [
    "number = 0"
   ]
  },
  {
   "cell_type": "code",
   "execution_count": null,
   "metadata": {
    "hidden": true
   },
   "outputs": [],
   "source": [
    "#while number < 5:\n",
    "#    print(number)"
   ]
  },
  {
   "cell_type": "markdown",
   "metadata": {
    "hidden": true
   },
   "source": [
    "The while-loop above is commented out so that you won't run it by accident. This code will create an infinite loop. Since we no longer add the value 1 to `number` within the loop's code block, `number` will always be 0. This means that the condition `number < 5` will _always_ be True, and the loop will continue until the end of time. Whoopsie! ¯\\\\\\_(ツ)\\_/¯"
   ]
  },
  {
   "cell_type": "markdown",
   "metadata": {
    "hidden": true
   },
   "source": [
    "No worries though. You can _always_ interrupt a running program in Python. In general, when running python programs, this is done by pressing: \n",
    "\n",
    "<kbd>⌃ Control</kbd>+<kbd>C</kbd>\n",
    "\n",
    "In a Jupyter Notebook, however, you do this by either:\n",
    "- pressing <kbd>I</kbd>,<kbd>I</kbd> (double tap `I` on your keyboard)\n",
    "- Go to the Jupyter menu and choose Kernel > Interrupt. Here is a pic:"
   ]
  },
  {
   "cell_type": "markdown",
   "metadata": {
    "hidden": true
   },
   "source": [
    "<img src=\"course_material/interrupt.png\" style=\"width: 500px;\"/>"
   ]
  },
  {
   "cell_type": "markdown",
   "metadata": {
    "hidden": true
   },
   "source": [
    "Try it! Uncomment above while-loop and interrupt it!"
   ]
  },
  {
   "cell_type": "markdown",
   "metadata": {
    "hidden": true
   },
   "source": [
    "#### The `break` statement"
   ]
  },
  {
   "cell_type": "markdown",
   "metadata": {
    "hidden": true
   },
   "source": [
    "The `break` statement cancels a ongoing loop. Let's use the `sum()` function in this example. It sums up a list's number values:"
   ]
  },
  {
   "cell_type": "code",
   "execution_count": 73,
   "metadata": {
    "hidden": true
   },
   "outputs": [],
   "source": [
    "number_list = [1, 2, 3, 4, 5, 6]"
   ]
  },
  {
   "cell_type": "code",
   "execution_count": 70,
   "metadata": {
    "hidden": true
   },
   "outputs": [
    {
     "data": {
      "text/plain": [
       "21"
      ]
     },
     "execution_count": 70,
     "metadata": {},
     "output_type": "execute_result"
    }
   ],
   "source": [
    "sum(number_list)"
   ]
  },
  {
   "cell_type": "markdown",
   "metadata": {
    "hidden": true
   },
   "source": [
    "Let's say we want to increase the first value in the list by 1 until the sum of all values is 1000. This can be done with a while loop:"
   ]
  },
  {
   "cell_type": "code",
   "execution_count": 71,
   "metadata": {
    "hidden": true
   },
   "outputs": [],
   "source": [
    "while sum(number_list) < 1000:\n",
    "    number_list[0] += 1 # remember this pattern? Section 3.3.1!"
   ]
  },
  {
   "cell_type": "code",
   "execution_count": 72,
   "metadata": {
    "hidden": true
   },
   "outputs": [
    {
     "data": {
      "text/plain": [
       "[980, 2, 3, 4, 5, 6]"
      ]
     },
     "execution_count": 72,
     "metadata": {},
     "output_type": "execute_result"
    }
   ],
   "source": [
    "number_list"
   ]
  },
  {
   "cell_type": "markdown",
   "metadata": {
    "hidden": true
   },
   "source": [
    "But let's say that, for whatever reason, we want the loop the stop if it's taking too long. So, if the first value in the list is too small – like, less than 100 – this while loop is gonna be too slow and we want it to stop. We can then use a `break` statement:"
   ]
  },
  {
   "cell_type": "code",
   "execution_count": 74,
   "metadata": {
    "hidden": true
   },
   "outputs": [],
   "source": [
    "number_list = [1, 2, 3, 4, 5, 6]"
   ]
  },
  {
   "cell_type": "code",
   "execution_count": 76,
   "metadata": {
    "hidden": true
   },
   "outputs": [
    {
     "name": "stdout",
     "output_type": "stream",
     "text": [
      "first item is less than 100. Stopping loop...\n"
     ]
    }
   ],
   "source": [
    "while sum(number_list) < 1000:\n",
    "    if number_list[0] < 100:\n",
    "        print(\"First list item is less than 100. Stopping loop...\")\n",
    "        break\n",
    "    # This won't execute:\n",
    "    number_list[0] += 1 "
   ]
  },
  {
   "cell_type": "code",
   "execution_count": 77,
   "metadata": {
    "hidden": true
   },
   "outputs": [
    {
     "data": {
      "text/plain": [
       "[1, 2, 3, 4, 5, 6]"
      ]
     },
     "execution_count": 77,
     "metadata": {},
     "output_type": "execute_result"
    }
   ],
   "source": [
    "number_list"
   ]
  },
  {
   "cell_type": "markdown",
   "metadata": {
    "hidden": true
   },
   "source": [
    "Another example: let's say we have a list of names, and we want to use a while loop to remove all \"Johan\" in the list, using the `.remove()` method:"
   ]
  },
  {
   "cell_type": "code",
   "execution_count": 89,
   "metadata": {
    "hidden": true
   },
   "outputs": [],
   "source": [
    "list_of_names = [\"Johan\", \"Fredrick\", \"Jonas\", \"Katie\", \"Puck\", \"Johan\"]"
   ]
  },
  {
   "cell_type": "code",
   "execution_count": 90,
   "metadata": {
    "hidden": true
   },
   "outputs": [],
   "source": [
    "name = \"Johan\""
   ]
  },
  {
   "cell_type": "markdown",
   "metadata": {
    "hidden": true
   },
   "source": [
    "The `.remove()` method only removes the lowest indexed occurance of the passed argument. So if I pass \"Johan\", only the first occurance will be removed from the list:"
   ]
  },
  {
   "cell_type": "code",
   "execution_count": 91,
   "metadata": {
    "hidden": true
   },
   "outputs": [],
   "source": [
    "list_of_names.remove(name)"
   ]
  },
  {
   "cell_type": "code",
   "execution_count": 92,
   "metadata": {
    "hidden": true
   },
   "outputs": [
    {
     "data": {
      "text/plain": [
       "['Fredrick', 'Jonas', 'Katie', 'Puck', 'Johan']"
      ]
     },
     "execution_count": 92,
     "metadata": {},
     "output_type": "execute_result"
    }
   ],
   "source": [
    "list_of_names"
   ]
  },
  {
   "cell_type": "markdown",
   "metadata": {
    "hidden": true
   },
   "source": [
    "But we can use a while loop to remove all the occurances, using the `.index()` method instead:"
   ]
  },
  {
   "cell_type": "code",
   "execution_count": 93,
   "metadata": {
    "hidden": true
   },
   "outputs": [],
   "source": [
    "name = \"Johan\"\n",
    "\n",
    "list_of_names = [\"Johan\", \"Fredrick\", \"Jonas\", \"Katie\", \"Puck\", \"Johan\"]\n",
    "while name in list_of_names:\n",
    "    list_of_names.remove(name)"
   ]
  },
  {
   "cell_type": "code",
   "execution_count": 94,
   "metadata": {
    "hidden": true
   },
   "outputs": [
    {
     "data": {
      "text/plain": [
       "['Fredrick', 'Jonas', 'Katie', 'Puck']"
      ]
     },
     "execution_count": 94,
     "metadata": {},
     "output_type": "execute_result"
    }
   ],
   "source": [
    "list_of_names"
   ]
  },
  {
   "cell_type": "markdown",
   "metadata": {
    "hidden": true
   },
   "source": [
    "But what if we don't want this to run on a list that is really really big? Say, larger than 10.000 items? We can use the `break` statment:"
   ]
  },
  {
   "cell_type": "code",
   "execution_count": 95,
   "metadata": {
    "hidden": true
   },
   "outputs": [],
   "source": [
    "list_of_names = [\"Johan\", \"Fredrick\", \"Jonas\", \"Katie\", \"Puck\", \"Johan\"] * 5000"
   ]
  },
  {
   "cell_type": "code",
   "execution_count": 96,
   "metadata": {
    "hidden": true
   },
   "outputs": [
    {
     "data": {
      "text/plain": [
       "30000"
      ]
     },
     "execution_count": 96,
     "metadata": {},
     "output_type": "execute_result"
    }
   ],
   "source": [
    "len(list_of_names)"
   ]
  },
  {
   "cell_type": "code",
   "execution_count": 98,
   "metadata": {
    "hidden": true
   },
   "outputs": [
    {
     "name": "stdout",
     "output_type": "stream",
     "text": [
      "While-loop stopped because list too big...\n"
     ]
    }
   ],
   "source": [
    "while name in list_of_names:\n",
    "    if len(list_of_names) > 10000:\n",
    "        print(\"While-loop stopped because list too big...\")\n",
    "        break\n",
    "    list_of_names.remove(name)"
   ]
  },
  {
   "cell_type": "markdown",
   "metadata": {
    "hidden": true
   },
   "source": [
    "#### Exercise – Build your own list function, part 2"
   ]
  },
  {
   "cell_type": "markdown",
   "metadata": {
    "hidden": true
   },
   "source": [
    "In this exercise, we will redo our function from the last exercise, but with a while-loop instead of inplace list methods. As was in the last exercise, you will create a function that takes three arguments: the list item to replace, the replacement value, and the list itself. But this time, the function should be able to take any list and replace all occurances of the values within the list, _at the same index where they lie in the list_.\n",
    "\n",
    "Take this list as an example:\n",
    "\n",
    "`my_list = [\"orange\", \"pear\", \"orange\", \"blueberry\"]`\n",
    "\n",
    "Say we want to replace \"orange\" with \"pineapple\", the return from your function should look like this:\n",
    "\n",
    "`[\"pineapple\", \"pear\", \"pineapple\", \"blueberry\"]`\n",
    "\n",
    "This function should also print a warning if the item to replace isn't in the list passed to the function.\n",
    "\n",
    "Hint: you can solve this using these following mechanics (together with other things we've learned):\n",
    "- a while-loop\n",
    "- the `.index()` list method\n",
    "\n",
    "You won't need the methods `.remove()` and `.append()`.\n",
    "\n",
    "As always, the solution can be found in the solutions notebook. Good luck!"
   ]
  },
  {
   "cell_type": "code",
   "execution_count": null,
   "metadata": {
    "hidden": true
   },
   "outputs": [],
   "source": []
  },
  {
   "cell_type": "code",
   "execution_count": null,
   "metadata": {
    "hidden": true
   },
   "outputs": [],
   "source": []
  },
  {
   "cell_type": "code",
   "execution_count": null,
   "metadata": {
    "hidden": true
   },
   "outputs": [],
   "source": []
  },
  {
   "cell_type": "code",
   "execution_count": null,
   "metadata": {
    "hidden": true
   },
   "outputs": [],
   "source": []
  },
  {
   "cell_type": "markdown",
   "metadata": {
    "heading_collapsed": true,
    "hidden": true
   },
   "source": [
    "### `for`-loops"
   ]
  },
  {
   "cell_type": "markdown",
   "metadata": {
    "hidden": true
   },
   "source": [
    "In chapter 9 we learned about lists. A very common task in coding is looping through all items in a list to change all, or some, of the values within it. If we don't use a loop, going through the list items will be tedious.\n",
    "\n",
    "As an example, let's say we have a list of values, and we want to multiply them with three and print the results:"
   ]
  },
  {
   "cell_type": "code",
   "execution_count": 4,
   "metadata": {
    "hidden": true
   },
   "outputs": [],
   "source": [
    "numbers = [42, 3, 15, 7, 99]"
   ]
  },
  {
   "cell_type": "markdown",
   "metadata": {
    "hidden": true
   },
   "source": [
    "Using the list's index, we can do operations on the list's values:"
   ]
  },
  {
   "cell_type": "code",
   "execution_count": 2,
   "metadata": {
    "hidden": true
   },
   "outputs": [
    {
     "name": "stdout",
     "output_type": "stream",
     "text": [
      "126\n",
      "9\n",
      "45\n",
      "21\n",
      "297\n"
     ]
    }
   ],
   "source": [
    "result = numbers[0] * 3\n",
    "print(result)\n",
    "result = numbers[1] * 3\n",
    "print(result)\n",
    "result = numbers[2] * 3\n",
    "print(result)\n",
    "result = numbers[3] * 3\n",
    "print(result)\n",
    "result = numbers[4] * 3\n",
    "print(result)"
   ]
  },
  {
   "cell_type": "markdown",
   "metadata": {
    "hidden": true
   },
   "source": [
    "As you can see, this is as boring to type out as it is hard to read. Instead, we can use the `for`-loop. There are two ways to loop through the items:\n",
    "- either going through them by index, using the `range()` function\n",
    "- looping the actual values in the list, without the `range()` function\n",
    "\n",
    "Let's go through them one by one."
   ]
  },
  {
   "cell_type": "markdown",
   "metadata": {
    "heading_collapsed": true,
    "hidden": true
   },
   "source": [
    "#### `for`-loop with the `range()` function"
   ]
  },
  {
   "cell_type": "markdown",
   "metadata": {
    "hidden": true
   },
   "source": [
    "The `range()`-function returns what is called a range object. "
   ]
  },
  {
   "cell_type": "code",
   "execution_count": 319,
   "metadata": {
    "hidden": true
   },
   "outputs": [
    {
     "data": {
      "text/plain": [
       "range"
      ]
     },
     "execution_count": 319,
     "metadata": {},
     "output_type": "execute_result"
    }
   ],
   "source": [
    "type(range(5)) # the range datatype"
   ]
  },
  {
   "cell_type": "markdown",
   "metadata": {
    "hidden": true
   },
   "source": [
    "It can be used together with a loop to set how many **iterations**, or **sequences**, of the loop we wish to be executed. Here we use the `range()` function to create a for-loop with 5 sequences. So the print function will be executed five times:"
   ]
  },
  {
   "cell_type": "code",
   "execution_count": 320,
   "metadata": {
    "hidden": true
   },
   "outputs": [
    {
     "name": "stdout",
     "output_type": "stream",
     "text": [
      "0\n",
      "1\n",
      "2\n",
      "3\n",
      "4\n"
     ]
    }
   ],
   "source": [
    "for i in range(5):\n",
    "    print(i)"
   ]
  },
  {
   "cell_type": "markdown",
   "metadata": {
    "hidden": true
   },
   "source": [
    "The for-loop consists of five parts:\n",
    "1. The `for` keyword\n",
    "2. A variable name. `i` in the above example (this is the standard way to name the variable in for-loops using the range() function – \"i\" for index)\n",
    "3. The `in` keyword, pointing to container object\n",
    "4. The container to loop over (in this case, a range object returned from the `range()`-function)\n",
    "5. A colon `:` signifying \"the following code block shall be used in every loop\"\n",
    "6. Code block to be executed each sequence\n"
   ]
  },
  {
   "cell_type": "markdown",
   "metadata": {
    "hidden": true
   },
   "source": [
    "As explained in (2), the variable name can be set to whatever. But it is common practice to name it `i` for `index` if using the range function. So the above code tells the interpreter. Here is another example, just to show you that the variable can be named whatever (in general, don't name it like this):"
   ]
  },
  {
   "cell_type": "code",
   "execution_count": 321,
   "metadata": {
    "hidden": true,
    "scrolled": true
   },
   "outputs": [
    {
     "name": "stdout",
     "output_type": "stream",
     "text": [
      "'johan' is: 0\n",
      "'johan' is: 1\n",
      "'johan' is: 2\n"
     ]
    }
   ],
   "source": [
    "for johan in range(3):\n",
    "    # here, we have to use the str() function to be able to do string concatination\n",
    "    print(\"'johan' is: \" + str(johan)) "
   ]
  },
  {
   "cell_type": "code",
   "execution_count": 322,
   "metadata": {
    "hidden": true
   },
   "outputs": [
    {
     "name": "stdout",
     "output_type": "stream",
     "text": [
      "'index' is: 0\n",
      "'index' is: 1\n",
      "'index' is: 2\n"
     ]
    }
   ],
   "source": [
    "for index in range(3):\n",
    "    print(\"'index' is: \" + str(index))"
   ]
  },
  {
   "cell_type": "code",
   "execution_count": 323,
   "metadata": {
    "hidden": true
   },
   "outputs": [
    {
     "name": "stdout",
     "output_type": "stream",
     "text": [
      "'i' is: 0\n",
      "'i' is: 1\n",
      "'i' is: 2\n"
     ]
    }
   ],
   "source": [
    "for i in range(3):\n",
    "    print(\"'i' is: \" + str(i))"
   ]
  },
  {
   "cell_type": "markdown",
   "metadata": {
    "hidden": true
   },
   "source": [
    "As we discussed earlier, if the `range()` function is only given one number value as an argument, it will give you that number of iterations. As you can see above, the argument 3 gives us three iterations, since it goes up to, not including, this index number: 0, 1, 2.\n",
    "\n",
    "But you can give the `range()` function more than one argument. If you give it two arguments, the first will be the start value, and the second the stop value:"
   ]
  },
  {
   "cell_type": "code",
   "execution_count": 324,
   "metadata": {
    "hidden": true
   },
   "outputs": [
    {
     "name": "stdout",
     "output_type": "stream",
     "text": [
      "'i' is: 5\n",
      "'i' is: 6\n",
      "'i' is: 7\n",
      "'i' is: 8\n",
      "'i' is: 9\n"
     ]
    }
   ],
   "source": [
    "for i in range(5, 10):\n",
    "    print(\"'i' is: \" + str(i))"
   ]
  },
  {
   "cell_type": "markdown",
   "metadata": {
    "hidden": true
   },
   "source": [
    "So, above the range function gave us 5 iterations (or sequences): starting at 5 and stopping at 10, which is 9. Note that only passing it one argument, the default starting value will be 0. \n",
    "\n",
    "But we can also give the function a third argument: how big steps we want each iteration to take:"
   ]
  },
  {
   "cell_type": "code",
   "execution_count": 31,
   "metadata": {
    "hidden": true
   },
   "outputs": [
    {
     "name": "stdout",
     "output_type": "stream",
     "text": [
      "i is: 50\n",
      "i is: 60\n",
      "i is: 70\n",
      "i is: 80\n",
      "i is: 90\n"
     ]
    }
   ],
   "source": [
    "for i in range(50, 100, 10):\n",
    "    print(\"i is: \" + str(i))"
   ]
  },
  {
   "cell_type": "markdown",
   "metadata": {
    "hidden": true
   },
   "source": [
    "We can acctually pass this range object to the `list()` function and get a new list:"
   ]
  },
  {
   "cell_type": "code",
   "execution_count": 325,
   "metadata": {
    "hidden": true
   },
   "outputs": [
    {
     "data": {
      "text/plain": [
       "[50, 60, 70, 80, 90]"
      ]
     },
     "execution_count": 325,
     "metadata": {},
     "output_type": "execute_result"
    }
   ],
   "source": [
    "list(range(50, 100, 10))"
   ]
  },
  {
   "cell_type": "code",
   "execution_count": 326,
   "metadata": {
    "hidden": true
   },
   "outputs": [
    {
     "data": {
      "text/plain": [
       "[0, 1, 2, 3, 4]"
      ]
     },
     "execution_count": 326,
     "metadata": {},
     "output_type": "execute_result"
    }
   ],
   "source": [
    "list(range(5))"
   ]
  },
  {
   "cell_type": "code",
   "execution_count": 327,
   "metadata": {
    "hidden": true
   },
   "outputs": [
    {
     "data": {
      "text/plain": [
       "[]"
      ]
     },
     "execution_count": 327,
     "metadata": {},
     "output_type": "execute_result"
    }
   ],
   "source": [
    "list(range(0)) # zero iterations gives us an empty list"
   ]
  },
  {
   "cell_type": "markdown",
   "metadata": {
    "hidden": true
   },
   "source": [
    "So how do we then use the `range()` function to loop over our list of numbers? Well, the reason it is common practise to name the loop variable `i` is because this variable can be used as an index number in another list. Let's try it on our list:"
   ]
  },
  {
   "cell_type": "code",
   "execution_count": 38,
   "metadata": {
    "hidden": true
   },
   "outputs": [],
   "source": [
    "numbers = [42, 3, 15, 7, 99]"
   ]
  },
  {
   "cell_type": "code",
   "execution_count": 33,
   "metadata": {
    "hidden": true
   },
   "outputs": [
    {
     "name": "stdout",
     "output_type": "stream",
     "text": [
      "42\n",
      "3\n",
      "15\n",
      "7\n",
      "99\n"
     ]
    }
   ],
   "source": [
    "for i in range(5):\n",
    "    print(numbers[i])"
   ]
  },
  {
   "cell_type": "markdown",
   "metadata": {
    "hidden": true
   },
   "source": [
    "Hang on? What the hell just happend??\n",
    "\n",
    "We created a for-loop with a `range()` function as our container to loop over. Passing it the argument 5 specfifys five iterations (sequences), starting at 0. So in the first loop, our for-loop variable will be 0, that is `i = 0`. When we pass the variable `i` as an index number to our list, this will be the same as typing `numbers[0]` in the first loop. `numbers[1]` the second loop, `numbers[2]` the third, and so on."
   ]
  },
  {
   "cell_type": "markdown",
   "metadata": {
    "hidden": true
   },
   "source": [
    "So, back to our problem from the beginning of this section, we want to multiply all values in this list by three:"
   ]
  },
  {
   "cell_type": "code",
   "execution_count": 328,
   "metadata": {
    "hidden": true
   },
   "outputs": [],
   "source": [
    "numbers = [42, 3, 15, 7, 99]"
   ]
  },
  {
   "cell_type": "markdown",
   "metadata": {
    "hidden": true
   },
   "source": [
    "And we don't want to do this:"
   ]
  },
  {
   "cell_type": "code",
   "execution_count": 329,
   "metadata": {
    "hidden": true
   },
   "outputs": [
    {
     "name": "stdout",
     "output_type": "stream",
     "text": [
      "126\n",
      "9\n",
      "45\n",
      "21\n",
      "297\n"
     ]
    }
   ],
   "source": [
    "result = numbers[0] * 3\n",
    "print(result)\n",
    "result = numbers[1] * 3\n",
    "print(result)\n",
    "result = numbers[2] * 3\n",
    "print(result)\n",
    "result = numbers[3] * 3\n",
    "print(result)\n",
    "result = numbers[4] * 3\n",
    "print(result)"
   ]
  },
  {
   "cell_type": "markdown",
   "metadata": {
    "hidden": true
   },
   "source": [
    "Let's instead use a for-loop together with a `range()` function:"
   ]
  },
  {
   "cell_type": "code",
   "execution_count": 41,
   "metadata": {
    "hidden": true
   },
   "outputs": [
    {
     "name": "stdout",
     "output_type": "stream",
     "text": [
      "126\n",
      "9\n",
      "45\n",
      "21\n",
      "297\n"
     ]
    }
   ],
   "source": [
    "for i in range(5):\n",
    "    result = numbers[i] * 3\n",
    "    print(result)"
   ]
  },
  {
   "cell_type": "markdown",
   "metadata": {
    "hidden": true
   },
   "source": [
    "Success! But let's make it a bit more clean. First of all, it is not recommended to actually specify the `range()`-argument in this way. Let's say we would have a lists containing hundreds of values. In that case, it wouldn't be very convenient to keep track of the exact number of items in the list. Specifying a too large number of iterations will give us an error:"
   ]
  },
  {
   "cell_type": "code",
   "execution_count": 45,
   "metadata": {
    "hidden": true
   },
   "outputs": [
    {
     "name": "stdout",
     "output_type": "stream",
     "text": [
      "126\n",
      "9\n",
      "45\n",
      "21\n",
      "297\n"
     ]
    },
    {
     "ename": "IndexError",
     "evalue": "list index out of range",
     "output_type": "error",
     "traceback": [
      "\u001b[0;31m---------------------------------------------------------------------------\u001b[0m",
      "\u001b[0;31mIndexError\u001b[0m                                Traceback (most recent call last)",
      "\u001b[0;32m<ipython-input-45-0b11a43da051>\u001b[0m in \u001b[0;36m<module>\u001b[0;34m\u001b[0m\n\u001b[1;32m      1\u001b[0m \u001b[0;32mfor\u001b[0m \u001b[0mi\u001b[0m \u001b[0;32min\u001b[0m \u001b[0mrange\u001b[0m\u001b[0;34m(\u001b[0m\u001b[0;36m6\u001b[0m\u001b[0;34m)\u001b[0m\u001b[0;34m:\u001b[0m\u001b[0;34m\u001b[0m\u001b[0;34m\u001b[0m\u001b[0m\n\u001b[0;32m----> 2\u001b[0;31m     \u001b[0mresult\u001b[0m \u001b[0;34m=\u001b[0m \u001b[0mnumbers\u001b[0m\u001b[0;34m[\u001b[0m\u001b[0mi\u001b[0m\u001b[0;34m]\u001b[0m \u001b[0;34m*\u001b[0m \u001b[0;36m3\u001b[0m\u001b[0;34m\u001b[0m\u001b[0;34m\u001b[0m\u001b[0m\n\u001b[0m\u001b[1;32m      3\u001b[0m     \u001b[0mprint\u001b[0m\u001b[0;34m(\u001b[0m\u001b[0mresult\u001b[0m\u001b[0;34m)\u001b[0m\u001b[0;34m\u001b[0m\u001b[0;34m\u001b[0m\u001b[0m\n",
      "\u001b[0;31mIndexError\u001b[0m: list index out of range"
     ]
    }
   ],
   "source": [
    "for i in range(6):\n",
    "    result = numbers[i] * 3\n",
    "    print(result)"
   ]
  },
  {
   "cell_type": "markdown",
   "metadata": {
    "hidden": true
   },
   "source": [
    "So instead of using an actual number, we could use the length of the list itself! We can get the length using the `len()` function:"
   ]
  },
  {
   "cell_type": "code",
   "execution_count": 46,
   "metadata": {
    "hidden": true
   },
   "outputs": [
    {
     "data": {
      "text/plain": [
       "5"
      ]
     },
     "execution_count": 46,
     "metadata": {},
     "output_type": "execute_result"
    }
   ],
   "source": [
    "len(numbers)"
   ]
  },
  {
   "cell_type": "markdown",
   "metadata": {
    "hidden": true
   },
   "source": [
    "Let's use this instead of the integer five as an argument in the `range()` function:"
   ]
  },
  {
   "cell_type": "code",
   "execution_count": 49,
   "metadata": {
    "hidden": true
   },
   "outputs": [
    {
     "data": {
      "text/plain": [
       "range(0, 5)"
      ]
     },
     "execution_count": 49,
     "metadata": {},
     "output_type": "execute_result"
    }
   ],
   "source": [
    "range(len(numbers))"
   ]
  },
  {
   "cell_type": "markdown",
   "metadata": {
    "hidden": true
   },
   "source": [
    "Since `len(numbers)` returns 5, it is the same as typing `range(5)`!"
   ]
  },
  {
   "cell_type": "code",
   "execution_count": 50,
   "metadata": {
    "hidden": true
   },
   "outputs": [
    {
     "data": {
      "text/plain": [
       "True"
      ]
     },
     "execution_count": 50,
     "metadata": {},
     "output_type": "execute_result"
    }
   ],
   "source": [
    "range(len(numbers)) == range(5)"
   ]
  },
  {
   "cell_type": "markdown",
   "metadata": {
    "hidden": true
   },
   "source": [
    "While we're at it, let's rewrite the code block and make it a bit more concise. We don't actually need the variable `result`. We can just pass the expression `numbers[i] * 3` as an argument to our `print()` function:"
   ]
  },
  {
   "cell_type": "code",
   "execution_count": 51,
   "metadata": {
    "hidden": true
   },
   "outputs": [
    {
     "name": "stdout",
     "output_type": "stream",
     "text": [
      "126\n",
      "9\n",
      "45\n",
      "21\n",
      "297\n"
     ]
    }
   ],
   "source": [
    "for i in range(len(numbers)):\n",
    "    print(numbers[i] * 3)"
   ]
  },
  {
   "cell_type": "markdown",
   "metadata": {
    "heading_collapsed": true,
    "hidden": true
   },
   "source": [
    "#### The `continue` statement"
   ]
  },
  {
   "cell_type": "markdown",
   "metadata": {
    "hidden": true
   },
   "source": [
    "Above, in section 10.1.3, we covered the `break` statement which let's us cancel loops. But let's say that we don't want the loop to completely stop, just skip the current iteration, the current sequence? This is where we can use the `continue` statement. Take this following example:"
   ]
  },
  {
   "cell_type": "code",
   "execution_count": 330,
   "metadata": {
    "hidden": true
   },
   "outputs": [],
   "source": [
    "numbers = [1, 2, 3, 4, -1, 5, 6]"
   ]
  },
  {
   "cell_type": "code",
   "execution_count": 331,
   "metadata": {
    "hidden": true
   },
   "outputs": [
    {
     "name": "stdout",
     "output_type": "stream",
     "text": [
      "1\n",
      "2\n",
      "3\n",
      "4\n",
      "-1\n",
      "5\n",
      "6\n"
     ]
    }
   ],
   "source": [
    "for i in range(len(numbers)):\n",
    "    print(numbers[i])"
   ]
  },
  {
   "cell_type": "markdown",
   "metadata": {
    "hidden": true
   },
   "source": [
    "Let's say, for some reason, we don't want the loop to to print negative numbers. This is when we can use the `continue` statement. Using the same for-loop:"
   ]
  },
  {
   "cell_type": "code",
   "execution_count": 332,
   "metadata": {
    "hidden": true
   },
   "outputs": [
    {
     "name": "stdout",
     "output_type": "stream",
     "text": [
      "1\n",
      "2\n",
      "3\n",
      "4\n",
      "5\n",
      "6\n"
     ]
    }
   ],
   "source": [
    "for i in range(len(numbers)):\n",
    "    if numbers[i] < 0:\n",
    "        continue\n",
    "    else:\n",
    "        print(numbers[i])"
   ]
  },
  {
   "cell_type": "markdown",
   "metadata": {
    "hidden": true
   },
   "source": [
    "So each iteration in the for-loop starts with the if-statement. If the current iteration's list item is less than 0, the `continue` statement just abrubts the iteration and starts the next one. That's why the value -1 never gets printed."
   ]
  },
  {
   "cell_type": "markdown",
   "metadata": {
    "hidden": true
   },
   "source": [
    "Continue-statements are very handy since it allows us to choose which items in a list we want to change, by skipping the ones we're not interested in. Think of it as a tool to use in this general way: \"while looping over this list, if this particular value is in a certain way, change it; _otherwise continue_\"."
   ]
  },
  {
   "cell_type": "markdown",
   "metadata": {
    "heading_collapsed": true,
    "hidden": true
   },
   "source": [
    "##### Exercise – Build your own list function, part 3"
   ]
  },
  {
   "cell_type": "markdown",
   "metadata": {
    "hidden": true
   },
   "source": [
    "Try to do exactly as in the last exercise, but with a for-loop (using the `range()` function) instead of a while-loop. You should also use the `len()` function and the `continue` statement.\n",
    "\n",
    "The solution can be found in the solutions notebook. Good luck!"
   ]
  },
  {
   "cell_type": "code",
   "execution_count": null,
   "metadata": {
    "hidden": true
   },
   "outputs": [],
   "source": []
  },
  {
   "cell_type": "code",
   "execution_count": null,
   "metadata": {
    "hidden": true
   },
   "outputs": [],
   "source": []
  },
  {
   "cell_type": "code",
   "execution_count": null,
   "metadata": {
    "hidden": true
   },
   "outputs": [],
   "source": []
  },
  {
   "cell_type": "code",
   "execution_count": null,
   "metadata": {
    "hidden": true
   },
   "outputs": [],
   "source": []
  },
  {
   "cell_type": "markdown",
   "metadata": {
    "heading_collapsed": true,
    "hidden": true
   },
   "source": [
    "#### `for`-loop without `range()`"
   ]
  },
  {
   "cell_type": "markdown",
   "metadata": {
    "hidden": true
   },
   "source": [
    "Let's go back to the list where we want to multiply all values with 3:"
   ]
  },
  {
   "cell_type": "code",
   "execution_count": 333,
   "metadata": {
    "hidden": true
   },
   "outputs": [],
   "source": [
    "numbers = [42, 3, 15, 7, 99]"
   ]
  },
  {
   "cell_type": "markdown",
   "metadata": {
    "hidden": true
   },
   "source": [
    "As we learned in section 10.2.1, we can write a for-loop with a range function to help us with that. But, we don't acctually need the `range()` function for this particular problem. \n",
    "\n",
    "IN a matter of fact, a for-loop only need a container that can be iterated, and our list `numbers` can be iterated! Let's have a look:"
   ]
  },
  {
   "cell_type": "code",
   "execution_count": 334,
   "metadata": {
    "hidden": true
   },
   "outputs": [
    {
     "name": "stdout",
     "output_type": "stream",
     "text": [
      "42\n",
      "3\n",
      "15\n",
      "7\n",
      "99\n"
     ]
    }
   ],
   "source": [
    "for item in numbers:\n",
    "    print(item)"
   ]
  },
  {
   "cell_type": "markdown",
   "metadata": {
    "hidden": true
   },
   "source": [
    "Here, using the for/in keyword combination, we tell the interpreter that we want to iterate over all items in the list. As you can see, this is way more straight forward and easier to read than the solution using the `range()` function call.\n",
    "\n",
    "In this pattern, the variable we create in each iteration (each sequence) of the loop, isn't an index number. It is the list's actual values that is iterated one by one. This means we can just multiply this variable with 3 to solve our problem!"
   ]
  },
  {
   "cell_type": "code",
   "execution_count": 335,
   "metadata": {
    "hidden": true
   },
   "outputs": [
    {
     "name": "stdout",
     "output_type": "stream",
     "text": [
      "126\n",
      "9\n",
      "45\n",
      "21\n",
      "297\n"
     ]
    }
   ],
   "source": [
    "for item in numbers:\n",
    "    print(item * 3)"
   ]
  },
  {
   "cell_type": "markdown",
   "metadata": {
    "hidden": true
   },
   "source": [
    "Easier to read and easier to type!"
   ]
  },
  {
   "cell_type": "markdown",
   "metadata": {
    "heading_collapsed": true,
    "hidden": true
   },
   "source": [
    "#### `for`-loops – with or without `range()`?"
   ]
  },
  {
   "cell_type": "markdown",
   "metadata": {
    "hidden": true
   },
   "source": [
    "As you could see in the previous section. Typing for-loops without the range-function is way more readable and easier to understand. But does that mean we should always skip the `range()` function? \n",
    "\n",
    "Short answer: no.\n",
    "\n",
    "Sometimes we will need it. Take this example: let's say we want to change the list's values. How would we do that, using a for-loop?\n",
    "\n",
    "Here's a try without the `range()` function:"
   ]
  },
  {
   "cell_type": "code",
   "execution_count": 336,
   "metadata": {
    "hidden": true
   },
   "outputs": [
    {
     "data": {
      "text/plain": [
       "[42, 3, 15, 7, 99]"
      ]
     },
     "execution_count": 336,
     "metadata": {},
     "output_type": "execute_result"
    }
   ],
   "source": [
    "numbers"
   ]
  },
  {
   "cell_type": "code",
   "execution_count": 337,
   "metadata": {
    "hidden": true
   },
   "outputs": [
    {
     "name": "stdout",
     "output_type": "stream",
     "text": [
      "126\n",
      "9\n",
      "45\n",
      "21\n",
      "297\n"
     ]
    }
   ],
   "source": [
    "for item in numbers:\n",
    "    item = item * 3\n",
    "    print(item)"
   ]
  },
  {
   "cell_type": "code",
   "execution_count": 338,
   "metadata": {
    "hidden": true
   },
   "outputs": [
    {
     "data": {
      "text/plain": [
       "[42, 3, 15, 7, 99]"
      ]
     },
     "execution_count": 338,
     "metadata": {},
     "output_type": "execute_result"
    }
   ],
   "source": [
    "numbers"
   ]
  },
  {
   "cell_type": "markdown",
   "metadata": {
    "hidden": true
   },
   "source": [
    "Hold up now! Nothing happend to the items in the list?? Why was that?\n",
    "\n",
    "In each iteration in the for-loop: first, a variable named `item` is created. The list's value in the present iteration is then assigned to this variable – `item`. The variable `item` is then reassigned to the result of the calculation `item * 3`. Finally, the variable `item` is printed. But when the code block is done and executed, this variable `item` and its assigned value is forgotten and a new loop sequence is initiated. \n",
    "\n",
    "In other words, _it isn't the actual list's value that is being changed. It is just a copy of it assigned to the variable `item`._ So the code `item = item * 3` has, in fact, no connection to the actual list and therefore, no changes to the list's values occurs.\n",
    "\n",
    "However, we _can_ change the list's values if we reference them directly. If you recall section 10.3, changing a value within a list can be done by specifying the item's list index. _And this is where we will need the `range()` function!_"
   ]
  },
  {
   "cell_type": "code",
   "execution_count": 72,
   "metadata": {
    "hidden": true
   },
   "outputs": [
    {
     "name": "stdout",
     "output_type": "stream",
     "text": [
      "126\n",
      "9\n",
      "45\n",
      "21\n",
      "297\n"
     ]
    }
   ],
   "source": [
    "numbers = [42, 3, 15, 7, 99]\n",
    "\n",
    "for i in range(len(numbers)):\n",
    "    numbers[i] = numbers[i] * 3\n",
    "    print(numbers[i])"
   ]
  },
  {
   "cell_type": "code",
   "execution_count": 73,
   "metadata": {
    "hidden": true
   },
   "outputs": [
    {
     "data": {
      "text/plain": [
       "[126, 9, 45, 21, 297]"
      ]
     },
     "execution_count": 73,
     "metadata": {},
     "output_type": "execute_result"
    }
   ],
   "source": [
    "numbers"
   ]
  },
  {
   "cell_type": "markdown",
   "metadata": {
    "hidden": true
   },
   "source": [
    "Let's make it a bit tidier using an augment assignment operator instead (see section 3.3.1):"
   ]
  },
  {
   "cell_type": "code",
   "execution_count": 74,
   "metadata": {
    "hidden": true
   },
   "outputs": [
    {
     "name": "stdout",
     "output_type": "stream",
     "text": [
      "126\n",
      "9\n",
      "45\n",
      "21\n",
      "297\n"
     ]
    }
   ],
   "source": [
    "numbers = [42, 3, 15, 7, 99]\n",
    "\n",
    "for i in range(len(numbers)):\n",
    "    numbers[i] *= 3\n",
    "    print(numbers[i])"
   ]
  },
  {
   "cell_type": "code",
   "execution_count": 75,
   "metadata": {
    "hidden": true
   },
   "outputs": [
    {
     "data": {
      "text/plain": [
       "[126, 9, 45, 21, 297]"
      ]
     },
     "execution_count": 75,
     "metadata": {},
     "output_type": "execute_result"
    }
   ],
   "source": [
    "numbers"
   ]
  },
  {
   "cell_type": "markdown",
   "metadata": {},
   "source": [
    "## Mutable and immutable objects"
   ]
  },
  {
   "cell_type": "markdown",
   "metadata": {},
   "source": [
    "In chapter 9, we talked about the similarities between lists and string values. They are both objects that can be seen as containers. One big difference between strings and lists, however, is that string values are **immutable**, where as lists are **mutable**. In Python, if an object is immutable, it means that it cannot be changed after its creation. On the contrary, a mutable object can be changed. Consider the following example:"
   ]
  },
  {
   "cell_type": "code",
   "execution_count": 339,
   "metadata": {},
   "outputs": [],
   "source": [
    "cities = [\"Stockholm\", \"Paris\", \"Kabul\", \"Sidney\"]"
   ]
  },
  {
   "cell_type": "markdown",
   "metadata": {},
   "source": [
    "Using indexing, we can change a specific value within the list. Let's say we want to change \"Paris\" to \"Oslo\":"
   ]
  },
  {
   "cell_type": "code",
   "execution_count": 106,
   "metadata": {},
   "outputs": [],
   "source": [
    "cities[1] = \"Oslo\""
   ]
  },
  {
   "cell_type": "code",
   "execution_count": 107,
   "metadata": {},
   "outputs": [
    {
     "data": {
      "text/plain": [
       "['Stockholm', 'Oslo', 'Kabul', 'Sidney']"
      ]
     },
     "execution_count": 107,
     "metadata": {},
     "output_type": "execute_result"
    }
   ],
   "source": [
    "cities"
   ]
  },
  {
   "cell_type": "markdown",
   "metadata": {},
   "source": [
    "The list has been altered, which is possible since lists are mutable!"
   ]
  },
  {
   "cell_type": "markdown",
   "metadata": {},
   "source": [
    "When working with string values, we can also use indexing, and get characters returned:"
   ]
  },
  {
   "cell_type": "code",
   "execution_count": 340,
   "metadata": {},
   "outputs": [],
   "source": [
    "name = \"Johan\""
   ]
  },
  {
   "cell_type": "code",
   "execution_count": 341,
   "metadata": {},
   "outputs": [
    {
     "data": {
      "text/plain": [
       "'o'"
      ]
     },
     "execution_count": 341,
     "metadata": {},
     "output_type": "execute_result"
    }
   ],
   "source": [
    "name[1] # second letter in \"Johan\""
   ]
  },
  {
   "cell_type": "markdown",
   "metadata": {},
   "source": [
    "But what happends if we try to change an individual character within the string using indexing?"
   ]
  },
  {
   "cell_type": "code",
   "execution_count": 342,
   "metadata": {},
   "outputs": [
    {
     "ename": "TypeError",
     "evalue": "'str' object does not support item assignment",
     "output_type": "error",
     "traceback": [
      "\u001b[0;31m---------------------------------------------------------------------------\u001b[0m",
      "\u001b[0;31mTypeError\u001b[0m                                 Traceback (most recent call last)",
      "\u001b[0;32m<ipython-input-342-5e2c1a4756b4>\u001b[0m in \u001b[0;36m<module>\u001b[0;34m\u001b[0m\n\u001b[0;32m----> 1\u001b[0;31m \u001b[0mname\u001b[0m\u001b[0;34m[\u001b[0m\u001b[0;36m1\u001b[0m\u001b[0;34m]\u001b[0m \u001b[0;34m=\u001b[0m \u001b[0;34m\"P\"\u001b[0m\u001b[0;34m\u001b[0m\u001b[0;34m\u001b[0m\u001b[0m\n\u001b[0m",
      "\u001b[0;31mTypeError\u001b[0m: 'str' object does not support item assignment"
     ]
    }
   ],
   "source": [
    "name[1] = \"P\""
   ]
  },
  {
   "cell_type": "markdown",
   "metadata": {},
   "source": [
    "We get an error! This is because string values are immutable. So if we want to change strings – and we do often want to change strings! – we create new strings:"
   ]
  },
  {
   "cell_type": "code",
   "execution_count": 112,
   "metadata": {},
   "outputs": [
    {
     "data": {
      "text/plain": [
       "'JPhan'"
      ]
     },
     "execution_count": 112,
     "metadata": {},
     "output_type": "execute_result"
    }
   ],
   "source": [
    "name[0] + \"P\" + name[2:] # here using string concatination"
   ]
  },
  {
   "cell_type": "markdown",
   "metadata": {},
   "source": [
    "Immutability is a fundamental part of programming since there are many situations where you want certain parts of your code that cannot be altered. This is a bit abstract while learning programming, since we focus on small code snippets where things are easy to keep track of. But in a program with thousands of rows of code, objects' immutablility is an important aspect so certain objects _cannot_ be reassigned where they shouldn't. \n",
    "\n",
    "The reason for this is because its easy to mix up variables' **references**."
   ]
  },
  {
   "cell_type": "markdown",
   "metadata": {},
   "source": [
    "### Variables' references to values"
   ]
  },
  {
   "cell_type": "markdown",
   "metadata": {},
   "source": [
    "Throughout this course, you might've wondered why I keep mentioning that variables \"reference\" a particular value, or \"points\" to a value. Why not that a variable _\"is\"_ a particular value? The reason is how the Python language works. When we create a variable, we are actually doing two things simultaneously: we create the value within the computers memory _and_ creating a namespace that _reference_ that value:"
   ]
  },
  {
   "cell_type": "code",
   "execution_count": 345,
   "metadata": {},
   "outputs": [],
   "source": [
    "eggs = 5"
   ]
  },
  {
   "cell_type": "markdown",
   "metadata": {},
   "source": [
    "So here, the integer 5 was created in the computer's memory. But we also told the computer \"if we pass the name `eggs` to the interpreter, it should point to this integer\". It is sort of like we create a value, and then hang a sign with the name \"eggs\" on it. Here's a pic visualising what's going on (a sign nailed to the interger value):"
   ]
  },
  {
   "cell_type": "markdown",
   "metadata": {},
   "source": [
    "<img src=\"course_material/immutable_1.png\" style=\"width: 500px;\"/>"
   ]
  },
  {
   "cell_type": "markdown",
   "metadata": {},
   "source": [
    "Let's copy the value 5 to another variable:"
   ]
  },
  {
   "cell_type": "code",
   "execution_count": 346,
   "metadata": {},
   "outputs": [],
   "source": [
    "bananas = eggs"
   ]
  },
  {
   "cell_type": "code",
   "execution_count": 347,
   "metadata": {},
   "outputs": [
    {
     "data": {
      "text/plain": [
       "5"
      ]
     },
     "execution_count": 347,
     "metadata": {},
     "output_type": "execute_result"
    }
   ],
   "source": [
    "bananas"
   ]
  },
  {
   "cell_type": "code",
   "execution_count": 348,
   "metadata": {},
   "outputs": [
    {
     "data": {
      "text/plain": [
       "True"
      ]
     },
     "execution_count": 348,
     "metadata": {},
     "output_type": "execute_result"
    }
   ],
   "source": [
    "eggs == bananas"
   ]
  },
  {
   "cell_type": "markdown",
   "metadata": {},
   "source": [
    "Both variables – `eggs` and `bananas` – are refering to _the same value_, the integer 5. In other words, we're not copying the actual value, we're just creating another sign – like a nametag – and slapping it on the same value:"
   ]
  },
  {
   "cell_type": "markdown",
   "metadata": {},
   "source": [
    "<img src=\"course_material/immutable_2.png\" style=\"width: 500px;\"/>"
   ]
  },
  {
   "cell_type": "markdown",
   "metadata": {},
   "source": [
    "**We're creating a new reference to the value, rather than creating a new value!**"
   ]
  },
  {
   "cell_type": "markdown",
   "metadata": {},
   "source": [
    "But if we change the value `bananas`, we actually _do_ create a new value within the computer's memory, _and hanging our name sign on this new value instead_."
   ]
  },
  {
   "cell_type": "code",
   "execution_count": 349,
   "metadata": {},
   "outputs": [],
   "source": [
    "bananas += 1"
   ]
  },
  {
   "cell_type": "code",
   "execution_count": 350,
   "metadata": {},
   "outputs": [
    {
     "data": {
      "text/plain": [
       "5"
      ]
     },
     "execution_count": 350,
     "metadata": {},
     "output_type": "execute_result"
    }
   ],
   "source": [
    "eggs"
   ]
  },
  {
   "cell_type": "code",
   "execution_count": 351,
   "metadata": {},
   "outputs": [
    {
     "data": {
      "text/plain": [
       "6"
      ]
     },
     "execution_count": 351,
     "metadata": {},
     "output_type": "execute_result"
    }
   ],
   "source": [
    "bananas"
   ]
  },
  {
   "cell_type": "markdown",
   "metadata": {},
   "source": [
    "So, now, the variable `bananas` points to the integer 6 – a new value within the computer's memory! Here's a pic:"
   ]
  },
  {
   "cell_type": "markdown",
   "metadata": {},
   "source": [
    "<img src=\"course_material/immutable_3.png\" style=\"width: 500px;\"/>"
   ]
  },
  {
   "cell_type": "markdown",
   "metadata": {},
   "source": [
    "This happens because integers are immutable. And if you think about it, this makes sense. The value 5 cannot also be the value 6. So, these two variables are now not the same since they point to two different values in the computer's memory."
   ]
  },
  {
   "cell_type": "code",
   "execution_count": 352,
   "metadata": {},
   "outputs": [
    {
     "data": {
      "text/plain": [
       "False"
      ]
     },
     "execution_count": 352,
     "metadata": {},
     "output_type": "execute_result"
    }
   ],
   "source": [
    "eggs == bananas"
   ]
  },
  {
   "cell_type": "markdown",
   "metadata": {},
   "source": [
    "Lists doesn't work the same way. Let's try a similar operation, but with two lists:"
   ]
  },
  {
   "cell_type": "code",
   "execution_count": 353,
   "metadata": {},
   "outputs": [],
   "source": [
    "fruits = [\"apples\", \"oranges\", \"grapes\", \"bananas\"]"
   ]
  },
  {
   "cell_type": "code",
   "execution_count": 354,
   "metadata": {},
   "outputs": [],
   "source": [
    "groceries = fruits"
   ]
  },
  {
   "cell_type": "code",
   "execution_count": 355,
   "metadata": {},
   "outputs": [
    {
     "data": {
      "text/plain": [
       "['apples', 'oranges', 'grapes', 'bananas']"
      ]
     },
     "execution_count": 355,
     "metadata": {},
     "output_type": "execute_result"
    }
   ],
   "source": [
    "fruits"
   ]
  },
  {
   "cell_type": "code",
   "execution_count": 356,
   "metadata": {},
   "outputs": [
    {
     "data": {
      "text/plain": [
       "['apples', 'oranges', 'grapes', 'bananas']"
      ]
     },
     "execution_count": 356,
     "metadata": {},
     "output_type": "execute_result"
    }
   ],
   "source": [
    "groceries"
   ]
  },
  {
   "cell_type": "markdown",
   "metadata": {},
   "source": [
    "Here, we have a similar situation going on. We have created a value – this time a list instead of a integer – containing four string values, and we've slapped two nametags on this list:"
   ]
  },
  {
   "cell_type": "markdown",
   "metadata": {},
   "source": [
    "<img src=\"course_material/mutable.png\" style=\"width: 500px;\"/>"
   ]
  },
  {
   "cell_type": "markdown",
   "metadata": {},
   "source": [
    "Now, let's change one of the values within `groceries`:"
   ]
  },
  {
   "cell_type": "code",
   "execution_count": 357,
   "metadata": {},
   "outputs": [],
   "source": [
    "groceries[2] = \"MILK\""
   ]
  },
  {
   "cell_type": "code",
   "execution_count": 358,
   "metadata": {},
   "outputs": [
    {
     "data": {
      "text/plain": [
       "['apples', 'oranges', 'MILK', 'bananas']"
      ]
     },
     "execution_count": 358,
     "metadata": {},
     "output_type": "execute_result"
    }
   ],
   "source": [
    "groceries"
   ]
  },
  {
   "cell_type": "markdown",
   "metadata": {},
   "source": [
    "If we now check `fruits`, the returned list may surprise you:"
   ]
  },
  {
   "cell_type": "code",
   "execution_count": 359,
   "metadata": {},
   "outputs": [
    {
     "data": {
      "text/plain": [
       "['apples', 'oranges', 'MILK', 'bananas']"
      ]
     },
     "execution_count": 359,
     "metadata": {},
     "output_type": "execute_result"
    }
   ],
   "source": [
    "fruits"
   ]
  },
  {
   "cell_type": "markdown",
   "metadata": {},
   "source": [
    "...it has also been modified! Huh? What the hell happend??\n",
    "\n",
    "When we changed the third value in the list to the string \"MILK\", this doesn't create a new list in the computer's memory. It is the same list, only with one of its items swapped. And since both variables `fruits` and `groceries` points to the same list (both the nametags are still attached to the same list), both variables return the altered list! "
   ]
  },
  {
   "cell_type": "markdown",
   "metadata": {},
   "source": [
    "<img src=\"course_material/mutable_2.png\" style=\"width: 500px;\"/>"
   ]
  },
  {
   "cell_type": "markdown",
   "metadata": {},
   "source": [
    "**This is a really important concept to understand!** If you aren't familiar with this, your code's behaviour will sometimes confuse you. For example:"
   ]
  },
  {
   "cell_type": "markdown",
   "metadata": {},
   "source": [
    "### Mutable lists in local scopes"
   ]
  },
  {
   "cell_type": "markdown",
   "metadata": {},
   "source": [
    "Consider what we learned in chapter 7 – local and global scopes. Let's say we have a function that adds a value to a list"
   ]
  },
  {
   "cell_type": "code",
   "execution_count": 12,
   "metadata": {},
   "outputs": [],
   "source": [
    "def adds_value(your_list):\n",
    "    your_list.append(\"Hello world!\")"
   ]
  },
  {
   "cell_type": "markdown",
   "metadata": {},
   "source": [
    "As you might've noticed, this function doesn't have a return statement. This means that everything that happends in the function's local scope gets destroyed when the code block is exectued and the local scope terminated, right? Let's try it:"
   ]
  },
  {
   "cell_type": "code",
   "execution_count": 13,
   "metadata": {},
   "outputs": [],
   "source": [
    "fruits = [\"apples\", \"oranges\", \"grapes\", \"bananas\"]"
   ]
  },
  {
   "cell_type": "code",
   "execution_count": 14,
   "metadata": {},
   "outputs": [],
   "source": [
    "adds_value(fruits)"
   ]
  },
  {
   "cell_type": "code",
   "execution_count": 15,
   "metadata": {},
   "outputs": [
    {
     "data": {
      "text/plain": [
       "['apples', 'oranges', 'grapes', 'bananas', 'Hello world!']"
      ]
     },
     "execution_count": 15,
     "metadata": {},
     "output_type": "execute_result"
    }
   ],
   "source": [
    "fruits"
   ]
  },
  {
   "cell_type": "markdown",
   "metadata": {},
   "source": [
    "Huh?? \n",
    "\n",
    "If you recall from chapter 7, the local scope in the function `add_value()` creates a variable named after the parameter `your_list`. And since this is in a local scope, all namespaces created in the function is lost when the function's code block is executed. \n",
    "\n",
    "But here's the thing: since a list is mutable, the variable `your_list` (that is created in the local scope) references _the same list_ as `fruits` is assigned to. And when we change the list value by adding a value, _it still is the same list value_. To continue our analogy of slapping a nametag on a value, we just hanged a new nametag on the same list value, only that it is in a local scope! Here's a pic that visualises what's going on:"
   ]
  },
  {
   "cell_type": "markdown",
   "metadata": {},
   "source": [
    "<img src=\"course_material/mutable_scope.png\" style=\"width: 500px;\"/>"
   ]
  },
  {
   "cell_type": "markdown",
   "metadata": {},
   "source": [
    "The local scope didn't create _a new list_, it only created a new nametag for the list – a new reference. And it is this namespace that then gets destroyed when the local scope is terminated. It is only the nametag that is destroyed! \n",
    "\n",
    "So the method `.append()` within the function's code block, actually altered the same list that the variable `fruits` points to. Therefore, when we run `fruits`, this global variable's list is also altered!"
   ]
  },
  {
   "cell_type": "markdown",
   "metadata": {},
   "source": [
    "#### Exercise – why doesn't the variable change?"
   ]
  },
  {
   "cell_type": "markdown",
   "metadata": {},
   "source": [
    "In this exercise, we have this function, similar to the one just above:"
   ]
  },
  {
   "cell_type": "code",
   "execution_count": 20,
   "metadata": {},
   "outputs": [],
   "source": [
    "def add_value(number):\n",
    "    number += 1"
   ]
  },
  {
   "cell_type": "markdown",
   "metadata": {},
   "source": [
    "But when we call this function on the variable `apples` assigned to the number value 5, the value stays the same after the function call:"
   ]
  },
  {
   "cell_type": "code",
   "execution_count": 21,
   "metadata": {},
   "outputs": [],
   "source": [
    "apples = 5"
   ]
  },
  {
   "cell_type": "code",
   "execution_count": 22,
   "metadata": {},
   "outputs": [],
   "source": [
    "add_value(apples)"
   ]
  },
  {
   "cell_type": "code",
   "execution_count": 23,
   "metadata": {},
   "outputs": [
    {
     "data": {
      "text/plain": [
       "5"
      ]
     },
     "execution_count": 23,
     "metadata": {},
     "output_type": "execute_result"
    }
   ],
   "source": [
    "apples"
   ]
  },
  {
   "cell_type": "markdown",
   "metadata": {},
   "source": [
    "This behaviour is different than what we saw with the function `add_value()` in section 11.2. Why is that? Explain in your own words what is happening here. The solution can be found, as usual, in the solutions notebook. \n",
    "\n",
    "Good luck!"
   ]
  },
  {
   "cell_type": "markdown",
   "metadata": {},
   "source": [
    "### How to copy mutable objects then?"
   ]
  },
  {
   "cell_type": "markdown",
   "metadata": {},
   "source": [
    "Obviously, there are many situations were we want to copy lists, and not only the references to them. So how do we do that? There are a number of ways, and I will show you some, and then the way that is the best way.\n",
    "\n",
    "First of, using the `.copy()` list method:"
   ]
  },
  {
   "cell_type": "code",
   "execution_count": 1,
   "metadata": {},
   "outputs": [],
   "source": [
    "fruits = [\"apples\", \"oranges\", \"grapes\", \"bananas\"]"
   ]
  },
  {
   "cell_type": "code",
   "execution_count": 2,
   "metadata": {},
   "outputs": [],
   "source": [
    "groceries = fruits.copy() # copying list"
   ]
  },
  {
   "cell_type": "code",
   "execution_count": 3,
   "metadata": {},
   "outputs": [],
   "source": [
    "groceries[2] = \"milk\""
   ]
  },
  {
   "cell_type": "code",
   "execution_count": 4,
   "metadata": {},
   "outputs": [
    {
     "data": {
      "text/plain": [
       "['apples', 'oranges', 'milk', 'bananas']"
      ]
     },
     "execution_count": 4,
     "metadata": {},
     "output_type": "execute_result"
    }
   ],
   "source": [
    "groceries"
   ]
  },
  {
   "cell_type": "code",
   "execution_count": 5,
   "metadata": {},
   "outputs": [
    {
     "data": {
      "text/plain": [
       "['apples', 'oranges', 'grapes', 'bananas']"
      ]
     },
     "execution_count": 5,
     "metadata": {},
     "output_type": "execute_result"
    }
   ],
   "source": [
    "fruits"
   ]
  },
  {
   "cell_type": "markdown",
   "metadata": {},
   "source": [
    "Or, we could just use the `list()` function, creating a new list object:"
   ]
  },
  {
   "cell_type": "code",
   "execution_count": 6,
   "metadata": {},
   "outputs": [],
   "source": [
    "fruits = [\"apples\", \"oranges\", \"grapes\", \"bananas\"]"
   ]
  },
  {
   "cell_type": "code",
   "execution_count": 7,
   "metadata": {},
   "outputs": [],
   "source": [
    "groceries = list(fruits) # copying list"
   ]
  },
  {
   "cell_type": "code",
   "execution_count": 8,
   "metadata": {},
   "outputs": [],
   "source": [
    "groceries[2] = \"milk\""
   ]
  },
  {
   "cell_type": "code",
   "execution_count": 9,
   "metadata": {},
   "outputs": [
    {
     "data": {
      "text/plain": [
       "['apples', 'oranges', 'milk', 'bananas']"
      ]
     },
     "execution_count": 9,
     "metadata": {},
     "output_type": "execute_result"
    }
   ],
   "source": [
    "groceries"
   ]
  },
  {
   "cell_type": "code",
   "execution_count": 10,
   "metadata": {},
   "outputs": [
    {
     "data": {
      "text/plain": [
       "['apples', 'oranges', 'grapes', 'bananas']"
      ]
     },
     "execution_count": 10,
     "metadata": {},
     "output_type": "execute_result"
    }
   ],
   "source": [
    "fruits"
   ]
  },
  {
   "cell_type": "markdown",
   "metadata": {},
   "source": [
    "Or, we can reference the original list's index and just type colon `:`, indicating we want all values. This also creates a new list object:"
   ]
  },
  {
   "cell_type": "code",
   "execution_count": 12,
   "metadata": {},
   "outputs": [],
   "source": [
    "fruits = [\"apples\", \"oranges\", \"grapes\", \"bananas\"]"
   ]
  },
  {
   "cell_type": "code",
   "execution_count": 13,
   "metadata": {},
   "outputs": [],
   "source": [
    "groceries = fruits[:] # copying list"
   ]
  },
  {
   "cell_type": "code",
   "execution_count": 14,
   "metadata": {},
   "outputs": [],
   "source": [
    "groceries[2] = \"milk\""
   ]
  },
  {
   "cell_type": "code",
   "execution_count": 15,
   "metadata": {},
   "outputs": [
    {
     "data": {
      "text/plain": [
       "['apples', 'oranges', 'milk', 'bananas']"
      ]
     },
     "execution_count": 15,
     "metadata": {},
     "output_type": "execute_result"
    }
   ],
   "source": [
    "groceries"
   ]
  },
  {
   "cell_type": "code",
   "execution_count": 16,
   "metadata": {},
   "outputs": [
    {
     "data": {
      "text/plain": [
       "['apples', 'oranges', 'grapes', 'bananas']"
      ]
     },
     "execution_count": 16,
     "metadata": {},
     "output_type": "execute_result"
    }
   ],
   "source": [
    "fruits"
   ]
  },
  {
   "cell_type": "markdown",
   "metadata": {},
   "source": [
    "However, the way to go – if you need a completely new list object and no references intertwined – is using the `deepcopy()` function from the `copy` module. But we need to import it:"
   ]
  },
  {
   "cell_type": "code",
   "execution_count": 24,
   "metadata": {},
   "outputs": [],
   "source": [
    "import copy"
   ]
  },
  {
   "cell_type": "code",
   "execution_count": 25,
   "metadata": {},
   "outputs": [],
   "source": [
    "fruits = [\"apples\", \"oranges\", \"grapes\", \"bananas\"]"
   ]
  },
  {
   "cell_type": "code",
   "execution_count": 26,
   "metadata": {},
   "outputs": [],
   "source": [
    "groceries = copy.deepcopy(fruits) # copying list"
   ]
  },
  {
   "cell_type": "code",
   "execution_count": 27,
   "metadata": {},
   "outputs": [],
   "source": [
    "groceries[2] = \"milk\""
   ]
  },
  {
   "cell_type": "code",
   "execution_count": 28,
   "metadata": {},
   "outputs": [
    {
     "data": {
      "text/plain": [
       "['apples', 'oranges', 'milk', 'bananas']"
      ]
     },
     "execution_count": 28,
     "metadata": {},
     "output_type": "execute_result"
    }
   ],
   "source": [
    "groceries"
   ]
  },
  {
   "cell_type": "code",
   "execution_count": 29,
   "metadata": {},
   "outputs": [
    {
     "data": {
      "text/plain": [
       "['apples', 'oranges', 'grapes', 'bananas']"
      ]
     },
     "execution_count": 29,
     "metadata": {},
     "output_type": "execute_result"
    }
   ],
   "source": [
    "fruits"
   ]
  },
  {
   "cell_type": "markdown",
   "metadata": {},
   "source": [
    "This function is the supperior way to go, since it not only creates a new list object, but also nested lists. I won't go into more detail here, but if you're interested, [this is a good explanation!](https://realpython.com/copying-python-objects/)"
   ]
  },
  {
   "cell_type": "markdown",
   "metadata": {},
   "source": [
    "## Dictionaries"
   ]
  },
  {
   "cell_type": "markdown",
   "metadata": {},
   "source": [
    "### Definitions"
   ]
  },
  {
   "cell_type": "markdown",
   "metadata": {},
   "source": [
    "Another way to store data in Python is **the dictionary datatype**. It is defined by the curly brackets `{}`:"
   ]
  },
  {
   "cell_type": "code",
   "execution_count": 1,
   "metadata": {},
   "outputs": [
    {
     "data": {
      "text/plain": [
       "dict"
      ]
     },
     "execution_count": 1,
     "metadata": {},
     "output_type": "execute_result"
    }
   ],
   "source": [
    "type({})"
   ]
  },
  {
   "cell_type": "markdown",
   "metadata": {},
   "source": [
    "Dictionaries consists of pairs of keys and values – **key-value pairs**. In lists, each value in the list had an index that you could call to return any specific item in the list. In dictionaries, there is no index, instead we have keys, and they can be any (immutable) value type."
   ]
  },
  {
   "cell_type": "markdown",
   "metadata": {},
   "source": [
    "We can create dictionaries, either with the dictionary literal syntax:"
   ]
  },
  {
   "cell_type": "code",
   "execution_count": 360,
   "metadata": {},
   "outputs": [],
   "source": [
    "person = {\"name\":\"Johan\", \"age\":35}"
   ]
  },
  {
   "cell_type": "code",
   "execution_count": 361,
   "metadata": {},
   "outputs": [
    {
     "data": {
      "text/plain": [
       "{'name': 'Johan', 'age': 35}"
      ]
     },
     "execution_count": 361,
     "metadata": {},
     "output_type": "execute_result"
    }
   ],
   "source": [
    "person"
   ]
  },
  {
   "cell_type": "markdown",
   "metadata": {},
   "source": [
    "...or with the `dict()` function call:"
   ]
  },
  {
   "cell_type": "code",
   "execution_count": 362,
   "metadata": {},
   "outputs": [],
   "source": [
    "person = dict(name=\"Johan\", age=35)"
   ]
  },
  {
   "cell_type": "code",
   "execution_count": 363,
   "metadata": {},
   "outputs": [
    {
     "data": {
      "text/plain": [
       "{'name': 'Johan', 'age': 35}"
      ]
     },
     "execution_count": 363,
     "metadata": {},
     "output_type": "execute_result"
    }
   ],
   "source": [
    "person"
   ]
  },
  {
   "cell_type": "markdown",
   "metadata": {},
   "source": [
    "We can also just start with an empty dictionary (or _dict_ as it's sometimes called) and then add keys and values as we go:"
   ]
  },
  {
   "cell_type": "code",
   "execution_count": 365,
   "metadata": {},
   "outputs": [],
   "source": [
    "person = {}"
   ]
  },
  {
   "cell_type": "code",
   "execution_count": 366,
   "metadata": {},
   "outputs": [],
   "source": [
    "person['name'] = \"Johan\"\n",
    "person['age'] = 35"
   ]
  },
  {
   "cell_type": "code",
   "execution_count": 367,
   "metadata": {},
   "outputs": [
    {
     "data": {
      "text/plain": [
       "{'name': 'Johan', 'age': 35}"
      ]
     },
     "execution_count": 367,
     "metadata": {},
     "output_type": "execute_result"
    }
   ],
   "source": [
    "person"
   ]
  },
  {
   "cell_type": "markdown",
   "metadata": {},
   "source": [
    "Note that using the literal syntax, you can use as much whitespace as you want. This is simply ignored by the interpreter:"
   ]
  },
  {
   "cell_type": "code",
   "execution_count": 368,
   "metadata": {},
   "outputs": [],
   "source": [
    "person = {\n",
    "    \"name\":\"Johan\",\n",
    "    \"age\":35\n",
    "}"
   ]
  },
  {
   "cell_type": "markdown",
   "metadata": {},
   "source": [
    "We use the dictionary keys instead of an index to get access to specific values within the dictionary:"
   ]
  },
  {
   "cell_type": "code",
   "execution_count": 370,
   "metadata": {},
   "outputs": [
    {
     "data": {
      "text/plain": [
       "'Johan'"
      ]
     },
     "execution_count": 370,
     "metadata": {},
     "output_type": "execute_result"
    }
   ],
   "source": [
    "person['name']"
   ]
  },
  {
   "cell_type": "code",
   "execution_count": 371,
   "metadata": {},
   "outputs": [
    {
     "data": {
      "text/plain": [
       "35"
      ]
     },
     "execution_count": 371,
     "metadata": {},
     "output_type": "execute_result"
    }
   ],
   "source": [
    "person['age']"
   ]
  },
  {
   "cell_type": "markdown",
   "metadata": {},
   "source": [
    "We can store dictionaries within dictionaries, and then access those in one go. Take this example:"
   ]
  },
  {
   "cell_type": "code",
   "execution_count": 372,
   "metadata": {},
   "outputs": [],
   "source": [
    "person = {\n",
    "    \"name\":\"Johan\",\n",
    "    \"age\":35,\n",
    "    \"nationality\":\"Swedish\",\n",
    "    \"well-trained\":False,\n",
    "    \"family\": {\n",
    "        \"partner\":True,\n",
    "        \"children\":True,\n",
    "        \"grandchildren\":False,\n",
    "        \"parents\": {\n",
    "            \"mom\":True,\n",
    "            \"dad\":True\n",
    "        }\n",
    "    }\n",
    "}"
   ]
  },
  {
   "cell_type": "markdown",
   "metadata": {},
   "source": [
    "Under the key `family`, the value now is a dictionary as well. So to access the values within, we just pile keys after one another to get the value we want:"
   ]
  },
  {
   "cell_type": "code",
   "execution_count": 75,
   "metadata": {},
   "outputs": [
    {
     "data": {
      "text/plain": [
       "True"
      ]
     },
     "execution_count": 75,
     "metadata": {},
     "output_type": "execute_result"
    }
   ],
   "source": [
    "person['family']['children']"
   ]
  },
  {
   "cell_type": "code",
   "execution_count": 76,
   "metadata": {},
   "outputs": [
    {
     "data": {
      "text/plain": [
       "False"
      ]
     },
     "execution_count": 76,
     "metadata": {},
     "output_type": "execute_result"
    }
   ],
   "source": [
    "person['family']['grandchildren']"
   ]
  },
  {
   "cell_type": "code",
   "execution_count": 78,
   "metadata": {},
   "outputs": [
    {
     "data": {
      "text/plain": [
       "True"
      ]
     },
     "execution_count": 78,
     "metadata": {},
     "output_type": "execute_result"
    }
   ],
   "source": [
    "person['family']['parents']['mom']"
   ]
  },
  {
   "cell_type": "markdown",
   "metadata": {},
   "source": [
    "So, the syntax of the dictionary is: \n",
    "- it is enclosed within curly brackets `{}` \n",
    "- Each key-value pair is seperated with a comma `,`\n",
    "- keys and values are connected with colons `:`, with keys on the left side of the colon, and values on the right side \n"
   ]
  },
  {
   "cell_type": "markdown",
   "metadata": {},
   "source": [
    "A big differance compared to lists is that dictionaries don't have any particular order within them. Lists are ordered by index, so the placement of values within the list matters. Take this example:"
   ]
  },
  {
   "cell_type": "code",
   "execution_count": 26,
   "metadata": {},
   "outputs": [
    {
     "data": {
      "text/plain": [
       "False"
      ]
     },
     "execution_count": 26,
     "metadata": {},
     "output_type": "execute_result"
    }
   ],
   "source": [
    "[\"red\", \"yellow\", \"blue\"] == [\"yellow\", \"blue\", \"red\"]"
   ]
  },
  {
   "cell_type": "markdown",
   "metadata": {},
   "source": [
    "These two lists are not the same, since their indexed values don't line up. But if we have a two dictionaries which have the same key-value pairs within them, it doesn't matter where we place them within the curly brackets:"
   ]
  },
  {
   "cell_type": "code",
   "execution_count": 27,
   "metadata": {},
   "outputs": [
    {
     "data": {
      "text/plain": [
       "True"
      ]
     },
     "execution_count": 27,
     "metadata": {},
     "output_type": "execute_result"
    }
   ],
   "source": [
    "{\"first\":\"red\", \"second\": \"blue\"} == {\"second\": \"blue\", \"first\":\"red\"}"
   ]
  },
  {
   "cell_type": "markdown",
   "metadata": {},
   "source": [
    "We can use the `in` and `not in` operators to see if certain keys are present within a dictionary:"
   ]
  },
  {
   "cell_type": "code",
   "execution_count": 378,
   "metadata": {},
   "outputs": [],
   "source": [
    "person = {\n",
    "    \"name\":\"Johan\",\n",
    "    \"age\":35,\n",
    "    \"nationality\":\"Swedish\",\n",
    "    \"well-trained\":False\n",
    "}"
   ]
  },
  {
   "cell_type": "code",
   "execution_count": 379,
   "metadata": {},
   "outputs": [
    {
     "data": {
      "text/plain": [
       "True"
      ]
     },
     "execution_count": 379,
     "metadata": {},
     "output_type": "execute_result"
    }
   ],
   "source": [
    "\"well-trained\" in person"
   ]
  },
  {
   "cell_type": "code",
   "execution_count": 380,
   "metadata": {},
   "outputs": [
    {
     "data": {
      "text/plain": [
       "True"
      ]
     },
     "execution_count": 380,
     "metadata": {},
     "output_type": "execute_result"
    }
   ],
   "source": [
    "\"potato\" not in person"
   ]
  },
  {
   "cell_type": "markdown",
   "metadata": {},
   "source": [
    "If we use the `.keys()` method, we get a list-like object of all keys within the dictionary:"
   ]
  },
  {
   "cell_type": "code",
   "execution_count": 381,
   "metadata": {},
   "outputs": [
    {
     "data": {
      "text/plain": [
       "dict_keys(['name', 'age', 'nationality', 'well-trained'])"
      ]
     },
     "execution_count": 381,
     "metadata": {},
     "output_type": "execute_result"
    }
   ],
   "source": [
    "person.keys()"
   ]
  },
  {
   "cell_type": "markdown",
   "metadata": {},
   "source": [
    "A list-like object is a container of values that allows iteration, it's _sort of_ a list. You don't need to know this in detail. This means that if we call the `list()` function on the `.keys()` method call, we get an actual list of the keys in the dictionary:"
   ]
  },
  {
   "cell_type": "code",
   "execution_count": 382,
   "metadata": {},
   "outputs": [
    {
     "data": {
      "text/plain": [
       "['name', 'age', 'nationality', 'well-trained']"
      ]
     },
     "execution_count": 382,
     "metadata": {},
     "output_type": "execute_result"
    }
   ],
   "source": [
    "list(person.keys())"
   ]
  },
  {
   "cell_type": "markdown",
   "metadata": {},
   "source": [
    "If we use the `.values()` method, we get a list-like object of all values within the dictionary:"
   ]
  },
  {
   "cell_type": "code",
   "execution_count": 383,
   "metadata": {},
   "outputs": [
    {
     "data": {
      "text/plain": [
       "dict_values(['Johan', 35, 'Swedish', False])"
      ]
     },
     "execution_count": 383,
     "metadata": {},
     "output_type": "execute_result"
    }
   ],
   "source": [
    "person.values()"
   ]
  },
  {
   "cell_type": "markdown",
   "metadata": {},
   "source": [
    "If we want all key-value pairs, we can call the `.item()` method that returns all keys and values in a list-like object with tuples:"
   ]
  },
  {
   "cell_type": "code",
   "execution_count": 384,
   "metadata": {},
   "outputs": [
    {
     "data": {
      "text/plain": [
       "dict_items([('name', 'Johan'), ('age', 35), ('nationality', 'Swedish'), ('well-trained', False)])"
      ]
     },
     "execution_count": 384,
     "metadata": {},
     "output_type": "execute_result"
    }
   ],
   "source": [
    "person.items()"
   ]
  },
  {
   "cell_type": "markdown",
   "metadata": {},
   "source": [
    "### Looping over a dictionary"
   ]
  },
  {
   "cell_type": "markdown",
   "metadata": {},
   "source": [
    "If we do a for-loop on our dictionary, it will loop over its keys:"
   ]
  },
  {
   "cell_type": "code",
   "execution_count": 385,
   "metadata": {},
   "outputs": [],
   "source": [
    "person = {\"name\":\"Johan\", \"age\":35, \"nationality\":\"Swedish\", \"well-trained\":False}"
   ]
  },
  {
   "cell_type": "code",
   "execution_count": 386,
   "metadata": {},
   "outputs": [
    {
     "name": "stdout",
     "output_type": "stream",
     "text": [
      "name\n",
      "age\n",
      "nationality\n",
      "well-trained\n"
     ]
    }
   ],
   "source": [
    "for key in person:\n",
    "    print(key)"
   ]
  },
  {
   "cell_type": "markdown",
   "metadata": {},
   "source": [
    "Which means we can loop the values by placing the `key` variable within square brackets after the dictionary:"
   ]
  },
  {
   "cell_type": "code",
   "execution_count": 387,
   "metadata": {},
   "outputs": [
    {
     "name": "stdout",
     "output_type": "stream",
     "text": [
      "Johan\n",
      "35\n",
      "Swedish\n",
      "False\n"
     ]
    }
   ],
   "source": [
    "for key in person:\n",
    "    print(person[key])"
   ]
  },
  {
   "cell_type": "markdown",
   "metadata": {},
   "source": [
    "In the previous section, we briefly discussed dictionaries as unordered. In newer versions of Python, this is actually not true. Ever since Python 3.6 (this notebook is written in 3.8.5), **there is order in dictionaries** – they are organised in the same order you write them. But since this is a relatively new (albeit handy!) feature, you need to know how loops in dictionaries are commonly written, since otherwise, your programs might be buggy when used in older versions of Python.\n",
    "\n",
    "The normal pattern for writing a for-loop over a dictionary is looping over its key-value pairs, using the `.items()` method:"
   ]
  },
  {
   "cell_type": "code",
   "execution_count": 388,
   "metadata": {},
   "outputs": [
    {
     "name": "stdout",
     "output_type": "stream",
     "text": [
      "name Johan\n",
      "age 35\n",
      "nationality Swedish\n",
      "well-trained False\n"
     ]
    }
   ],
   "source": [
    "for k,v in person.items():\n",
    "    print(k,v)"
   ]
  },
  {
   "cell_type": "markdown",
   "metadata": {},
   "source": [
    "Hold up! Let's take it a bit slower now. Remember, the `items()` method returns a list-like object containing tuples of all key-value pairs within the dictionary:"
   ]
  },
  {
   "cell_type": "code",
   "execution_count": 35,
   "metadata": {},
   "outputs": [
    {
     "data": {
      "text/plain": [
       "[('name', 'Johan'),\n",
       " ('age', 35),\n",
       " ('nationality', 'Swedish'),\n",
       " ('well-trained', False)]"
      ]
     },
     "execution_count": 35,
     "metadata": {},
     "output_type": "execute_result"
    }
   ],
   "source": [
    "list(person.items())"
   ]
  },
  {
   "cell_type": "markdown",
   "metadata": {},
   "source": [
    "If we loop over every tuple, each sequence will give us two values:"
   ]
  },
  {
   "cell_type": "code",
   "execution_count": 38,
   "metadata": {},
   "outputs": [
    {
     "name": "stdout",
     "output_type": "stream",
     "text": [
      "('name', 'Johan')\n",
      "('age', 35)\n",
      "('nationality', 'Swedish')\n",
      "('well-trained', False)\n"
     ]
    }
   ],
   "source": [
    "for tupl in list(person.items()):\n",
    "    print(tupl)"
   ]
  },
  {
   "cell_type": "markdown",
   "metadata": {},
   "source": [
    "This is why, in our for-loop over the dictionary, we define two variables `k` and `v` for every sequence in the loop. Maybe it is more apparent if add parenthesis and some string formatting to show you what's what:"
   ]
  },
  {
   "cell_type": "code",
   "execution_count": 389,
   "metadata": {},
   "outputs": [
    {
     "name": "stdout",
     "output_type": "stream",
     "text": [
      "key: name, value: Johan\n",
      "key: age, value: 35\n",
      "key: nationality, value: Swedish\n",
      "key: well-trained, value: False\n"
     ]
    }
   ],
   "source": [
    "for (k,v) in person.items():\n",
    "    print(f\"key: {k}, value: {v}\")"
   ]
  },
  {
   "cell_type": "code",
   "execution_count": 69,
   "metadata": {},
   "outputs": [
    {
     "name": "stdout",
     "output_type": "stream",
     "text": [
      "This is not the 'age' key.\n",
      "Next year, Johan turns 36\n",
      "This is not the 'age' key.\n",
      "This is not the 'age' key.\n"
     ]
    }
   ],
   "source": [
    "for (k,v) in person.items():\n",
    "    if k == 'age':\n",
    "        new_age = v + 1 # if the key is age, its value goes +1\n",
    "        print(f\"Next year, Johan turns {new_age}\")\n",
    "    else:\n",
    "        print(f\"This is not the 'age' key.\")"
   ]
  },
  {
   "cell_type": "markdown",
   "metadata": {},
   "source": [
    "### Exercise – Consumer costs"
   ]
  },
  {
   "cell_type": "markdown",
   "metadata": {},
   "source": [
    "Here is a big dictionary with data of how expensive consumer goods and services are in various countries, in relation to eachother:"
   ]
  },
  {
   "cell_type": "code",
   "execution_count": 72,
   "metadata": {},
   "outputs": [],
   "source": [
    "data = {'Albania': {2017: 51.4, 2018: 54.1, 2019: 56.9},\n",
    " 'Austria': {2017: 111.8, 2018: 112.0, 2019: 113.0},\n",
    " 'Belgium': {2017: 114.3, 2018: 114.8, 2019: 114.7},\n",
    " 'Bosnia and Herzegovina': {2017: 54.5, 2018: 54.3, 2019: 54.8},\n",
    " 'Bulgaria': {2017: 51.3, 2018: 52.0, 2019: 52.8},\n",
    " 'Croatia': {2017: 69.5, 2018: 70.2, 2019: 71.2},\n",
    " 'Cyprus': {2017: 90.3, 2018: 89.9, 2019: 90.1},\n",
    " 'Czechia': {2017: 70.6, 2018: 73.4, 2019: 74.6},\n",
    " 'Denmark': {2017: 143.3, 2018: 141.6, 2019: 141.3},\n",
    " 'Estonia': {2017: 81.1, 2018: 83.0, 2019: 85.1},\n",
    " 'Finland': {2017: 126.2, 2018: 126.0, 2019: 126.7},\n",
    " 'France': {2017: 113.2, 2018: 113.6, 2019: 114.1},\n",
    " 'Germany': {2017: 106.5, 2018: 106.8, 2019: 106.8},\n",
    " 'Greece': {2017: 87.7, 2018: 86.5, 2019: 86.6},\n",
    " 'Hungary': {2017: 65.0, 2018: 64.5, 2019: 65.3},\n",
    " 'Iceland': {2017: 173.8, 2018: 162.4, 2019: 154.3},\n",
    " 'Ireland': {2017: 131.2, 2018: 132.7, 2019: 133.7},\n",
    " 'Italy': {2017: 103.8, 2018: 103.5, 2019: 102.7},\n",
    " 'Japan': {2017: 121.7, 2018: 118.7, 2019: 124.1},\n",
    " 'Latvia': {2017: 75.3, 2018: 76.5, 2019: 78.6},\n",
    " 'Lithuania': {2017: 66.4, 2018: 68.0, 2019: 69.5},\n",
    " 'Luxembourg': {2017: 129.0, 2018: 129.5, 2019: 131.1},\n",
    " 'Malta': {2017: 84.9, 2018: 85.2, 2019: 87.3},\n",
    " 'Montenegro': {2017: 57.1, 2018: 57.8, 2019: 57.1},\n",
    " 'Netherlands': {2017: 115.0, 2018: 115.5, 2019: 116.5},\n",
    " 'North Macedonia': {2017: 49.2, 2018: 49.9, 2019: 49.8},\n",
    " 'Norway': {2017: 154.5, 2018: 151.1, 2019: 149.5},\n",
    " 'Poland': {2017: 58.8, 2018: 59.6, 2019: 60.0},\n",
    " 'Portugal': {2017: 89.2, 2018: 89.1, 2019: 87.9},\n",
    " 'Romania': {2017: 53.9, 2018: 54.1, 2019: 54.9},\n",
    " 'Serbia': {2017: 54.0, 2018: 55.7, 2019: 56.6},\n",
    " 'Slovakia': {2017: 78.9, 2018: 79.7, 2019: 81.1},\n",
    " 'Slovenia': {2017: 86.5, 2018: 87.2, 2019: 88.1},\n",
    " 'Spain': {2017: 95.0, 2018: 95.7, 2019: 96.6},\n",
    " 'Sweden': {2017: 128.9, 2018: 123.6, 2019: 120.6},\n",
    " 'Switzerland': {2017: 163.8, 2018: 156.0, 2019: 162.0},\n",
    " 'Turkey': {2017: 55.8, 2018: 45.9, 2019: 47.1},\n",
    " 'United Kingdom': {2017: 119.9, 2018: 120.1, 2019: 121.2},\n",
    " 'United States': {2017: 118.3, 2018: 114.0, 2019: 122.6}}"
   ]
  },
  {
   "cell_type": "markdown",
   "metadata": {},
   "source": [
    "The bigger the number, the more expensive food, drinks, shopping etc. The value 100 indicates the average price for all European countries, per year. So if a country has 50 in 2017, it means this country's prices where half of the average in the EU."
   ]
  },
  {
   "cell_type": "markdown",
   "metadata": {},
   "source": [
    "By looping over this dictionary of data, I want you to find the country where consumer goods and services where the most expensive in 2019, and the country where it was the most cheap the same year.\n",
    "\n",
    "Hint! Remember, you can create a `results` dictionary where you can compare, and swap values while looping over the data. Try out various ways to go and experiment! A solution is found in the solutions notebook!"
   ]
  },
  {
   "cell_type": "markdown",
   "metadata": {},
   "source": [
    "When you're done: try to do the same thing, but this time with a function. The function should be able to take a year as an argument and return a dictonary with the countries that was the most expensive, and least expensive that year. You should also build the function such as it doesn't crash when you supply a year that isn't in the data. \n",
    "\n",
    "Goor luck!"
   ]
  },
  {
   "cell_type": "markdown",
   "metadata": {},
   "source": [
    "## Tuples"
   ]
  },
  {
   "cell_type": "markdown",
   "metadata": {},
   "source": [
    "Tuples are very similar to lists, only that they are defined with plain brackets `()`:"
   ]
  },
  {
   "cell_type": "code",
   "execution_count": 19,
   "metadata": {},
   "outputs": [],
   "source": [
    "a_tuple = (1, \"Hello world!\", 3, 4)"
   ]
  },
  {
   "cell_type": "code",
   "execution_count": 20,
   "metadata": {},
   "outputs": [
    {
     "data": {
      "text/plain": [
       "'Hello world!'"
      ]
     },
     "execution_count": 20,
     "metadata": {},
     "output_type": "execute_result"
    }
   ],
   "source": [
    "a_tuple[1]"
   ]
  },
  {
   "cell_type": "code",
   "execution_count": 21,
   "metadata": {},
   "outputs": [
    {
     "data": {
      "text/plain": [
       "4"
      ]
     },
     "execution_count": 21,
     "metadata": {},
     "output_type": "execute_result"
    }
   ],
   "source": [
    "a_tuple[-1]"
   ]
  },
  {
   "cell_type": "markdown",
   "metadata": {},
   "source": [
    "The big differance is that tuples are immutable:"
   ]
  },
  {
   "cell_type": "code",
   "execution_count": 22,
   "metadata": {},
   "outputs": [
    {
     "ename": "TypeError",
     "evalue": "'tuple' object does not support item assignment",
     "output_type": "error",
     "traceback": [
      "\u001b[0;31m---------------------------------------------------------------------------\u001b[0m",
      "\u001b[0;31mTypeError\u001b[0m                                 Traceback (most recent call last)",
      "\u001b[0;32m<ipython-input-22-23c2749c304d>\u001b[0m in \u001b[0;36m<module>\u001b[0;34m\u001b[0m\n\u001b[0;32m----> 1\u001b[0;31m \u001b[0ma_tuple\u001b[0m\u001b[0;34m[\u001b[0m\u001b[0;36m1\u001b[0m\u001b[0;34m]\u001b[0m \u001b[0;34m=\u001b[0m \u001b[0;34m\"eggs\"\u001b[0m\u001b[0;34m\u001b[0m\u001b[0;34m\u001b[0m\u001b[0m\n\u001b[0m",
      "\u001b[0;31mTypeError\u001b[0m: 'tuple' object does not support item assignment"
     ]
    }
   ],
   "source": [
    "a_tuple[1] = \"eggs\""
   ]
  },
  {
   "cell_type": "markdown",
   "metadata": {},
   "source": [
    "## Errors and Exceptions"
   ]
  },
  {
   "cell_type": "markdown",
   "metadata": {},
   "source": [
    "In earlier lessons, you've probably experienced some errors while trying out code. This is normal! See it as an indication that you are experimenting, yay!\n",
    "\n",
    "Errors are when the computer encounters something in our code that it can't make sense out of. There are two categories of errors: syntax errors (very common while learning!) and exceptions."
   ]
  },
  {
   "cell_type": "markdown",
   "metadata": {},
   "source": [
    "**Syntax errors** are unconditionally fatal. This means that your program can't be executed containing a any syntax errors. Before your code is run, the interpreter reads the code from start to finish. If it finds a syntax error, it won't even start running your code. Take this example:"
   ]
  },
  {
   "cell_type": "code",
   "execution_count": 390,
   "metadata": {},
   "outputs": [
    {
     "ename": "SyntaxError",
     "evalue": "invalid syntax (<ipython-input-390-ce3f02f5e877>, line 1)",
     "output_type": "error",
     "traceback": [
      "\u001b[0;36m  File \u001b[0;32m\"<ipython-input-390-ce3f02f5e877>\"\u001b[0;36m, line \u001b[0;32m1\u001b[0m\n\u001b[0;31m    if True # <- colon missing here!\u001b[0m\n\u001b[0m            ^\u001b[0m\n\u001b[0;31mSyntaxError\u001b[0m\u001b[0;31m:\u001b[0m invalid syntax\n"
     ]
    }
   ],
   "source": [
    "if True # <- colon missing here!\n",
    "    print(\"Hello world!\")"
   ]
  },
  {
   "cell_type": "markdown",
   "metadata": {},
   "source": [
    "**The error message** is often very useful at telling us why the code doesn't work. It tells us at which line of code the error was detected. It even has a small arrow that points to where the problem may be located."
   ]
  },
  {
   "cell_type": "markdown",
   "metadata": {},
   "source": [
    "**Exceptions** on the other hand, are errors that occurs because how the code is structured. They are raised when the code is executed: it is when the syntax is correct, but the code doesn't make sense to the computer. Like, for example, when you try to divide by 0:"
   ]
  },
  {
   "cell_type": "code",
   "execution_count": 82,
   "metadata": {},
   "outputs": [
    {
     "ename": "ZeroDivisionError",
     "evalue": "division by zero",
     "output_type": "error",
     "traceback": [
      "\u001b[0;31m---------------------------------------------------------------------------\u001b[0m",
      "\u001b[0;31mZeroDivisionError\u001b[0m                         Traceback (most recent call last)",
      "\u001b[0;32m<ipython-input-82-e9e866a10e2a>\u001b[0m in \u001b[0;36m<module>\u001b[0;34m\u001b[0m\n\u001b[0;32m----> 1\u001b[0;31m \u001b[0;36m100\u001b[0m \u001b[0;34m/\u001b[0m \u001b[0;36m0\u001b[0m\u001b[0;34m\u001b[0m\u001b[0;34m\u001b[0m\u001b[0m\n\u001b[0m",
      "\u001b[0;31mZeroDivisionError\u001b[0m: division by zero"
     ]
    }
   ],
   "source": [
    "100 / 0"
   ]
  },
  {
   "cell_type": "markdown",
   "metadata": {},
   "source": [
    "The computer reads the code, and detectes that we want it to divide 100 by 0. Unfortunatly, computers doesn't know how to do that, and so it flags the error and terminates the program. We say that it **raises an error**, or **raises an exception**. There are many types of exceptions and they all have various names. Above we see the `ZeroDivisionError`. Another common one is `NameError` which is raised when you try to use a variable that doesn't exist in the computer's memory:"
   ]
  },
  {
   "cell_type": "code",
   "execution_count": 83,
   "metadata": {},
   "outputs": [
    {
     "ename": "NameError",
     "evalue": "name 'johan' is not defined",
     "output_type": "error",
     "traceback": [
      "\u001b[0;31m---------------------------------------------------------------------------\u001b[0m",
      "\u001b[0;31mNameError\u001b[0m                                 Traceback (most recent call last)",
      "\u001b[0;32m<ipython-input-83-ab62afb58cf8>\u001b[0m in \u001b[0;36m<module>\u001b[0;34m\u001b[0m\n\u001b[0;32m----> 1\u001b[0;31m \u001b[0mjohan\u001b[0m\u001b[0;34m\u001b[0m\u001b[0;34m\u001b[0m\u001b[0m\n\u001b[0m",
      "\u001b[0;31mNameError\u001b[0m: name 'johan' is not defined"
     ]
    }
   ],
   "source": [
    "johan"
   ]
  },
  {
   "cell_type": "markdown",
   "metadata": {},
   "source": [
    "### `try` and `except` statements"
   ]
  },
  {
   "cell_type": "markdown",
   "metadata": {},
   "source": [
    "Since the program terminates when an exception is raised, code below the error is never executed. Take this example of a small function that adds 2 to a number parameter:"
   ]
  },
  {
   "cell_type": "code",
   "execution_count": 87,
   "metadata": {},
   "outputs": [],
   "source": [
    "def add_two(number):\n",
    "    print(number + 2)"
   ]
  },
  {
   "cell_type": "code",
   "execution_count": 89,
   "metadata": {},
   "outputs": [
    {
     "name": "stdout",
     "output_type": "stream",
     "text": [
      "42\n",
      "6\n"
     ]
    },
    {
     "ename": "TypeError",
     "evalue": "can only concatenate str (not \"int\") to str",
     "output_type": "error",
     "traceback": [
      "\u001b[0;31m---------------------------------------------------------------------------\u001b[0m",
      "\u001b[0;31mTypeError\u001b[0m                                 Traceback (most recent call last)",
      "\u001b[0;32m<ipython-input-89-dc80ede3e2e8>\u001b[0m in \u001b[0;36m<module>\u001b[0;34m\u001b[0m\n\u001b[1;32m      1\u001b[0m \u001b[0madd_two\u001b[0m\u001b[0;34m(\u001b[0m\u001b[0;36m40\u001b[0m\u001b[0;34m)\u001b[0m\u001b[0;34m\u001b[0m\u001b[0;34m\u001b[0m\u001b[0m\n\u001b[1;32m      2\u001b[0m \u001b[0madd_two\u001b[0m\u001b[0;34m(\u001b[0m\u001b[0;36m4\u001b[0m\u001b[0;34m)\u001b[0m\u001b[0;34m\u001b[0m\u001b[0;34m\u001b[0m\u001b[0m\n\u001b[0;32m----> 3\u001b[0;31m \u001b[0madd_two\u001b[0m\u001b[0;34m(\u001b[0m\u001b[0;34m\"4\"\u001b[0m\u001b[0;34m)\u001b[0m\u001b[0;34m\u001b[0m\u001b[0;34m\u001b[0m\u001b[0m\n\u001b[0m\u001b[1;32m      4\u001b[0m \u001b[0madd_two\u001b[0m\u001b[0;34m(\u001b[0m\u001b[0;36m0\u001b[0m\u001b[0;34m)\u001b[0m\u001b[0;34m\u001b[0m\u001b[0;34m\u001b[0m\u001b[0m\n",
      "\u001b[0;32m<ipython-input-87-2e2ce9e54872>\u001b[0m in \u001b[0;36madd_two\u001b[0;34m(number)\u001b[0m\n\u001b[1;32m      1\u001b[0m \u001b[0;32mdef\u001b[0m \u001b[0madd_two\u001b[0m\u001b[0;34m(\u001b[0m\u001b[0mnumber\u001b[0m\u001b[0;34m)\u001b[0m\u001b[0;34m:\u001b[0m\u001b[0;34m\u001b[0m\u001b[0;34m\u001b[0m\u001b[0m\n\u001b[0;32m----> 2\u001b[0;31m     \u001b[0mprint\u001b[0m\u001b[0;34m(\u001b[0m\u001b[0mnumber\u001b[0m \u001b[0;34m+\u001b[0m \u001b[0;36m2\u001b[0m\u001b[0;34m)\u001b[0m\u001b[0;34m\u001b[0m\u001b[0;34m\u001b[0m\u001b[0m\n\u001b[0m",
      "\u001b[0;31mTypeError\u001b[0m: can only concatenate str (not \"int\") to str"
     ]
    }
   ],
   "source": [
    "add_two(40)\n",
    "add_two(4)\n",
    "add_two(\"4\")\n",
    "add_two(0)"
   ]
  },
  {
   "cell_type": "markdown",
   "metadata": {},
   "source": [
    "In the error message, you see that the computer raised a `TypeError` on line 3. The error occured because we can't use the `+` operator on strings together with integers. But you also see that the interpreter stopped reading code when the exception was raised, the last line in the code cell wasn't executed.\n",
    "\n",
    "It makes sense that the computer stops the program when it encounters an error. By doing so, it alerts us so that we can fix a bug in our code. But sometimes, we don't want the program to stop just because it encountered an error. \n",
    "\n",
    "For example, let's say we have a list of names. We want to send these people an invititation to a party, but we can't be bothered writing a letter each for everyone. So we create a invitation text, and then loop over the names and insert the names in our invitaton. Brilliant! "
   ]
  },
  {
   "cell_type": "markdown",
   "metadata": {},
   "source": [
    "The list is passed to this function that adds our invitaion message to a dictionary containing all invitations:"
   ]
  },
  {
   "cell_type": "code",
   "execution_count": 392,
   "metadata": {},
   "outputs": [],
   "source": [
    "def invitation_bot(list_of_names):\n",
    "    \n",
    "    invitations = {}\n",
    "    \n",
    "    for name in list_of_names:\n",
    "        # save the invitation text string to the dictionary:\n",
    "        invitations[name] = \"Hello \" + name + \"\"\"! I'm having a party this Saturday! \n",
    "Bring beer and I'll provide some food. Hope to see you here!\\n\"\"\"\n",
    "    \n",
    "    return invitations"
   ]
  },
  {
   "cell_type": "markdown",
   "metadata": {},
   "source": [
    "However! There is a bug in our list of names. When we weren't looking, our cat stepped on the keyboard and added an couple of integer values to the list:"
   ]
  },
  {
   "cell_type": "code",
   "execution_count": 393,
   "metadata": {},
   "outputs": [],
   "source": [
    "names = ['Paul', 'Fredrick', 'Eva', 'Ebba', 'Sarah', 9, 'Philip', 4235214, 'Monica', 'Simon']"
   ]
  },
  {
   "cell_type": "markdown",
   "metadata": {},
   "source": [
    "So, this function is supposed to return a dictionary with all invitations sorted by the names as keys, but since it encounters an exception it will crash before we can get our result:"
   ]
  },
  {
   "cell_type": "code",
   "execution_count": 394,
   "metadata": {},
   "outputs": [
    {
     "ename": "TypeError",
     "evalue": "can only concatenate str (not \"int\") to str",
     "output_type": "error",
     "traceback": [
      "\u001b[0;31m---------------------------------------------------------------------------\u001b[0m",
      "\u001b[0;31mTypeError\u001b[0m                                 Traceback (most recent call last)",
      "\u001b[0;32m<ipython-input-394-ac42362d2529>\u001b[0m in \u001b[0;36m<module>\u001b[0;34m\u001b[0m\n\u001b[0;32m----> 1\u001b[0;31m \u001b[0minvitations\u001b[0m \u001b[0;34m=\u001b[0m \u001b[0minvitation_bot\u001b[0m\u001b[0;34m(\u001b[0m\u001b[0mnames\u001b[0m\u001b[0;34m)\u001b[0m\u001b[0;34m\u001b[0m\u001b[0;34m\u001b[0m\u001b[0m\n\u001b[0m",
      "\u001b[0;32m<ipython-input-392-5878dce342f6>\u001b[0m in \u001b[0;36minvitation_bot\u001b[0;34m(list_of_names)\u001b[0m\n\u001b[1;32m      5\u001b[0m     \u001b[0;32mfor\u001b[0m \u001b[0mname\u001b[0m \u001b[0;32min\u001b[0m \u001b[0mlist_of_names\u001b[0m\u001b[0;34m:\u001b[0m\u001b[0;34m\u001b[0m\u001b[0;34m\u001b[0m\u001b[0m\n\u001b[1;32m      6\u001b[0m         \u001b[0;31m# save the invitation text string to the dictionary:\u001b[0m\u001b[0;34m\u001b[0m\u001b[0;34m\u001b[0m\u001b[0;34m\u001b[0m\u001b[0m\n\u001b[0;32m----> 7\u001b[0;31m         invitations[name] = \"Hello \" + name + \"\"\"! I'm having a party this Saturday! \n\u001b[0m\u001b[1;32m      8\u001b[0m Bring beer and I'll provide some food. Hope to see you here!\\n\"\"\"\n\u001b[1;32m      9\u001b[0m \u001b[0;34m\u001b[0m\u001b[0m\n",
      "\u001b[0;31mTypeError\u001b[0m: can only concatenate str (not \"int\") to str"
     ]
    }
   ],
   "source": [
    "invitations = invitation_bot(names)"
   ]
  },
  {
   "cell_type": "markdown",
   "metadata": {},
   "source": [
    "Now, you'd think this is an easy fix – we can just use the `str()` function on our variable – converting the variable's assigned integer to a string, and moving on. But say we had hundreds of list items, and no idea if other types of values have also been added by the damn cat.\n",
    "\n",
    "Much better to here use a `try` and `except` statement. These statements tells our computer to allow certain errors in our programs! I'll first rewrite our function with the statements, and then explain what it does:"
   ]
  },
  {
   "cell_type": "code",
   "execution_count": 395,
   "metadata": {},
   "outputs": [],
   "source": [
    "def invitation_bot(list_of_names):\n",
    "        invitations = {}\n",
    "\n",
    "        for name in list_of_names:\n",
    "            try:\n",
    "                # this is the try clause\n",
    "                invitations[name] = \"Hello \" + name + \"! I'm having a party this Saturday!\" \\\n",
    "                + \" Bring beer and I'll provide some food. Hope to see you here!\\n\"\n",
    "            except:\n",
    "                # this is the except clause\n",
    "                print(f\"ERROR in the try clause! \" + \\\n",
    "                      f\"The name '{name}' gave an error.\")\n",
    "                continue\n",
    "\n",
    "        return invitations"
   ]
  },
  {
   "cell_type": "code",
   "execution_count": 396,
   "metadata": {},
   "outputs": [
    {
     "name": "stdout",
     "output_type": "stream",
     "text": [
      "ERROR in the try clause! The name '9' gave an error.\n",
      "ERROR in the try clause! The name '4235214' gave an error.\n"
     ]
    }
   ],
   "source": [
    "invitations = invitation_bot(names)"
   ]
  },
  {
   "cell_type": "markdown",
   "metadata": {},
   "source": [
    "In this example, we included a try-except statement within the function's for-loop. A try-except statement consists of two code blocks. The first is the `try` clause. When the interpreter sees a try-except statement in your code, it will first read the `try` clause's code block. \n",
    "\n",
    "If the interpreter encounters an error within the try clause's code block, it will stop executing the try clause, and move to the `except` clause's code block. It will then execute this code instead. We say that the `except` code block **handles** errors for us that've been found in the try clause's code block.\n",
    "\n",
    "So, when the for-loop encounters the integer 9, the interpreter realises that string concatination is not possible. So it stops and moves to the ` except` clause's code. This means that the integer 9 isn't added to our dictionary `invitations`. Instead, the except clause's code executes and prints the error message and runs the `continue` statement."
   ]
  },
  {
   "cell_type": "markdown",
   "metadata": {},
   "source": [
    "Let's move on to another example. Here, we have a function that takes a number value as an argument and divides 100 with this number:"
   ]
  },
  {
   "cell_type": "code",
   "execution_count": 397,
   "metadata": {},
   "outputs": [],
   "source": [
    "def divide_by(number):\n",
    "    print(100 / number)"
   ]
  },
  {
   "cell_type": "code",
   "execution_count": 398,
   "metadata": {},
   "outputs": [
    {
     "name": "stdout",
     "output_type": "stream",
     "text": [
      "5.0\n"
     ]
    }
   ],
   "source": [
    "divide_by(20)"
   ]
  },
  {
   "cell_type": "markdown",
   "metadata": {},
   "source": [
    "The function crashes if we divide by 0:"
   ]
  },
  {
   "cell_type": "code",
   "execution_count": 399,
   "metadata": {},
   "outputs": [
    {
     "ename": "ZeroDivisionError",
     "evalue": "division by zero",
     "output_type": "error",
     "traceback": [
      "\u001b[0;31m---------------------------------------------------------------------------\u001b[0m",
      "\u001b[0;31mZeroDivisionError\u001b[0m                         Traceback (most recent call last)",
      "\u001b[0;32m<ipython-input-399-6b356997efe4>\u001b[0m in \u001b[0;36m<module>\u001b[0;34m\u001b[0m\n\u001b[0;32m----> 1\u001b[0;31m \u001b[0mdivide_by\u001b[0m\u001b[0;34m(\u001b[0m\u001b[0;36m0\u001b[0m\u001b[0;34m)\u001b[0m\u001b[0;34m\u001b[0m\u001b[0;34m\u001b[0m\u001b[0m\n\u001b[0m",
      "\u001b[0;32m<ipython-input-397-c3329ca98df1>\u001b[0m in \u001b[0;36mdivide_by\u001b[0;34m(number)\u001b[0m\n\u001b[1;32m      1\u001b[0m \u001b[0;32mdef\u001b[0m \u001b[0mdivide_by\u001b[0m\u001b[0;34m(\u001b[0m\u001b[0mnumber\u001b[0m\u001b[0;34m)\u001b[0m\u001b[0;34m:\u001b[0m\u001b[0;34m\u001b[0m\u001b[0;34m\u001b[0m\u001b[0m\n\u001b[0;32m----> 2\u001b[0;31m     \u001b[0mprint\u001b[0m\u001b[0;34m(\u001b[0m\u001b[0;36m100\u001b[0m \u001b[0;34m/\u001b[0m \u001b[0mnumber\u001b[0m\u001b[0;34m)\u001b[0m\u001b[0;34m\u001b[0m\u001b[0;34m\u001b[0m\u001b[0m\n\u001b[0m",
      "\u001b[0;31mZeroDivisionError\u001b[0m: division by zero"
     ]
    }
   ],
   "source": [
    "divide_by(0)"
   ]
  },
  {
   "cell_type": "markdown",
   "metadata": {},
   "source": [
    "So, let's rewrite it with a `try` and `except` statement. But this time we will specify which error we want the `except` statement to handle. We do this by writing the error's name right after the `except` keyword:"
   ]
  },
  {
   "cell_type": "code",
   "execution_count": 129,
   "metadata": {},
   "outputs": [],
   "source": [
    "def divide_by(number):\n",
    "    try:\n",
    "        print(100 / number)\n",
    "    except ZeroDivisionError:\n",
    "        print(\"You can't divide by 0!\")"
   ]
  },
  {
   "cell_type": "code",
   "execution_count": 130,
   "metadata": {},
   "outputs": [
    {
     "name": "stdout",
     "output_type": "stream",
     "text": [
      "You can't divide by 0!\n"
     ]
    }
   ],
   "source": [
    "divide_by(0)"
   ]
  },
  {
   "cell_type": "markdown",
   "metadata": {},
   "source": [
    "This is acctually the recommended approach. If you _only_ use the `except` keyword, you allow your code to \"blindly\" handle all errors. This means that you will not know of potential bugs being handled automatically by your program.\n",
    "\n",
    "Therefore, it is way better to specify error types in your except statement. `except ZeroDivisionError` handles zero division errors, but it will still crash if another error is encountered. Take this example, here I've included the expression `1 + \"1\"`, this will produce a TypeError. And our except statement doesn't handle TypeErrors, so even though we have a try-except statement in our function, this code will crash:"
   ]
  },
  {
   "cell_type": "code",
   "execution_count": 134,
   "metadata": {},
   "outputs": [],
   "source": [
    "def divide_by(number):\n",
    "    try:\n",
    "        1 + \"1\"\n",
    "        #print(100 / number)\n",
    "        \n",
    "    except ZeroDivisionError:\n",
    "        print(\"You can't divide by 0!\")"
   ]
  },
  {
   "cell_type": "code",
   "execution_count": 135,
   "metadata": {},
   "outputs": [
    {
     "ename": "TypeError",
     "evalue": "unsupported operand type(s) for +: 'int' and 'str'",
     "output_type": "error",
     "traceback": [
      "\u001b[0;31m---------------------------------------------------------------------------\u001b[0m",
      "\u001b[0;31mTypeError\u001b[0m                                 Traceback (most recent call last)",
      "\u001b[0;32m<ipython-input-135-6b356997efe4>\u001b[0m in \u001b[0;36m<module>\u001b[0;34m\u001b[0m\n\u001b[0;32m----> 1\u001b[0;31m \u001b[0mdivide_by\u001b[0m\u001b[0;34m(\u001b[0m\u001b[0;36m0\u001b[0m\u001b[0;34m)\u001b[0m\u001b[0;34m\u001b[0m\u001b[0;34m\u001b[0m\u001b[0m\n\u001b[0m",
      "\u001b[0;32m<ipython-input-134-b8531a447c35>\u001b[0m in \u001b[0;36mdivide_by\u001b[0;34m(number)\u001b[0m\n\u001b[1;32m      1\u001b[0m \u001b[0;32mdef\u001b[0m \u001b[0mdivide_by\u001b[0m\u001b[0;34m(\u001b[0m\u001b[0mnumber\u001b[0m\u001b[0;34m)\u001b[0m\u001b[0;34m:\u001b[0m\u001b[0;34m\u001b[0m\u001b[0;34m\u001b[0m\u001b[0m\n\u001b[1;32m      2\u001b[0m     \u001b[0;32mtry\u001b[0m\u001b[0;34m:\u001b[0m\u001b[0;34m\u001b[0m\u001b[0;34m\u001b[0m\u001b[0m\n\u001b[0;32m----> 3\u001b[0;31m         \u001b[0;36m1\u001b[0m \u001b[0;34m+\u001b[0m \u001b[0;34m\"1\"\u001b[0m\u001b[0;34m\u001b[0m\u001b[0;34m\u001b[0m\u001b[0m\n\u001b[0m\u001b[1;32m      4\u001b[0m         \u001b[0;31m#print(100 / number)\u001b[0m\u001b[0;34m\u001b[0m\u001b[0;34m\u001b[0m\u001b[0;34m\u001b[0m\u001b[0m\n\u001b[1;32m      5\u001b[0m \u001b[0;34m\u001b[0m\u001b[0m\n",
      "\u001b[0;31mTypeError\u001b[0m: unsupported operand type(s) for +: 'int' and 'str'"
     ]
    }
   ],
   "source": [
    "divide_by(0)"
   ]
  },
  {
   "cell_type": "markdown",
   "metadata": {},
   "source": [
    "We can, however, also include the `TypeError` in our except statement. The syntax for handling multiple error types in our except statement, is just the `except` keyword and then a tuple with all exceptions we want handled by the except clause:"
   ]
  },
  {
   "cell_type": "code",
   "execution_count": 142,
   "metadata": {},
   "outputs": [],
   "source": [
    "def divide_by(number):\n",
    "    try:\n",
    "        1 + \"1\"\n",
    "        #print(100 / number)\n",
    "        \n",
    "    except (ZeroDivisionError, TypeError):\n",
    "        print(\"Also handles TypeErrors!\")"
   ]
  },
  {
   "cell_type": "code",
   "execution_count": 141,
   "metadata": {},
   "outputs": [
    {
     "name": "stdout",
     "output_type": "stream",
     "text": [
      "Now also handles TypeErrors!\n"
     ]
    }
   ],
   "source": [
    "divide_by(0)"
   ]
  },
  {
   "cell_type": "markdown",
   "metadata": {},
   "source": [
    "Handling exceptions is an essential part of programming, and there is way more to be said in the subject. But we won't go into it in more detail here. [But you can check out the official documentation of the subject here!](https://docs.python.org/3/tutorial/errors.html)"
   ]
  },
  {
   "cell_type": "code",
   "execution_count": null,
   "metadata": {},
   "outputs": [],
   "source": []
  },
  {
   "cell_type": "code",
   "execution_count": null,
   "metadata": {},
   "outputs": [],
   "source": []
  },
  {
   "cell_type": "code",
   "execution_count": null,
   "metadata": {},
   "outputs": [],
   "source": []
  },
  {
   "cell_type": "code",
   "execution_count": null,
   "metadata": {},
   "outputs": [],
   "source": []
  },
  {
   "cell_type": "code",
   "execution_count": null,
   "metadata": {},
   "outputs": [],
   "source": []
  }
 ],
 "metadata": {
  "kernelspec": {
   "display_name": "Python 3",
   "language": "python",
   "name": "python3"
  },
  "language_info": {
   "codemirror_mode": {
    "name": "ipython",
    "version": 3
   },
   "file_extension": ".py",
   "mimetype": "text/x-python",
   "name": "python",
   "nbconvert_exporter": "python",
   "pygments_lexer": "ipython3",
   "version": "3.8.5"
  },
  "toc": {
   "base_numbering": 1,
   "nav_menu": {
    "height": "211px",
    "width": "228.333px"
   },
   "number_sections": true,
   "sideBar": true,
   "skip_h1_title": true,
   "title_cell": "Table of Contents",
   "title_sidebar": "Contents",
   "toc_cell": true,
   "toc_position": {},
   "toc_section_display": true,
   "toc_window_display": false
  }
 },
 "nbformat": 4,
 "nbformat_minor": 4
}
