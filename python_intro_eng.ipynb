{
 "cells": [
  {
   "cell_type": "markdown",
   "metadata": {},
   "source": [
    "# An Introduction to Python"
   ]
  },
  {
   "cell_type": "markdown",
   "metadata": {
    "toc": true
   },
   "source": [
    "<h1>Table of Contents<span class=\"tocSkip\"></span></h1>\n",
    "<div class=\"toc\"><ul class=\"toc-item\"><li><span><a href=\"#Values\" data-toc-modified-id=\"Values-1\"><span class=\"toc-item-num\">1&nbsp;&nbsp;</span>Values</a></span><ul class=\"toc-item\"><li><span><a href=\"#Integers\" data-toc-modified-id=\"Integers-1.1\"><span class=\"toc-item-num\">1.1&nbsp;&nbsp;</span>Integers</a></span></li><li><span><a href=\"#Floats\" data-toc-modified-id=\"Floats-1.2\"><span class=\"toc-item-num\">1.2&nbsp;&nbsp;</span>Floats</a></span></li><li><span><a href=\"#String-values\" data-toc-modified-id=\"String-values-1.3\"><span class=\"toc-item-num\">1.3&nbsp;&nbsp;</span>String values</a></span></li><li><span><a href=\"#Boolean-values\" data-toc-modified-id=\"Boolean-values-1.4\"><span class=\"toc-item-num\">1.4&nbsp;&nbsp;</span>Boolean values</a></span></li><li><span><a href=\"#The-None-value\" data-toc-modified-id=\"The-None-value-1.5\"><span class=\"toc-item-num\">1.5&nbsp;&nbsp;</span>The None value</a></span></li></ul></li><li><span><a href=\"#Expressions-and-operators\" data-toc-modified-id=\"Expressions-and-operators-2\"><span class=\"toc-item-num\">2&nbsp;&nbsp;</span>Expressions and operators</a></span><ul class=\"toc-item\"><li><span><a href=\"#Order-of-operations\" data-toc-modified-id=\"Order-of-operations-2.1\"><span class=\"toc-item-num\">2.1&nbsp;&nbsp;</span>Order of operations</a></span><ul class=\"toc-item\"><li><span><a href=\"#(Optional)-Deep-dive-into-Order-of-Operations\" data-toc-modified-id=\"(Optional)-Deep-dive-into-Order-of-Operations-2.1.1\"><span class=\"toc-item-num\">2.1.1&nbsp;&nbsp;</span>(Optional) Deep dive into Order of Operations</a></span></li><li><span><a href=\"#Exercise-–-where-to-put-the-parenthesis?\" data-toc-modified-id=\"Exercise-–-where-to-put-the-parenthesis?-2.1.2\"><span class=\"toc-item-num\">2.1.2&nbsp;&nbsp;</span>Exercise – where to put the parenthesis?</a></span></li></ul></li><li><span><a href=\"#Concatination\" data-toc-modified-id=\"Concatination-2.2\"><span class=\"toc-item-num\">2.2&nbsp;&nbsp;</span>Concatination</a></span></li></ul></li><li><span><a href=\"#Variables-and-statements\" data-toc-modified-id=\"Variables-and-statements-3\"><span class=\"toc-item-num\">3&nbsp;&nbsp;</span>Variables and statements</a></span><ul class=\"toc-item\"><li><ul class=\"toc-item\"><li><span><a href=\"#Quick-sidenote-–-the-print()-function\" data-toc-modified-id=\"Quick-sidenote-–-the-print()-function-3.0.1\"><span class=\"toc-item-num\">3.0.1&nbsp;&nbsp;</span>Quick sidenote – the <code>print()</code> function</a></span></li></ul></li><li><span><a href=\"#Assigning-variables\" data-toc-modified-id=\"Assigning-variables-3.1\"><span class=\"toc-item-num\">3.1&nbsp;&nbsp;</span>Assigning variables</a></span></li><li><span><a href=\"#Variables-and-strings\" data-toc-modified-id=\"Variables-and-strings-3.2\"><span class=\"toc-item-num\">3.2&nbsp;&nbsp;</span>Variables and strings</a></span><ul class=\"toc-item\"><li><span><a href=\"#String-formatting-–-inserting-variables-into-string-values\" data-toc-modified-id=\"String-formatting-–-inserting-variables-into-string-values-3.2.1\"><span class=\"toc-item-num\">3.2.1&nbsp;&nbsp;</span>String formatting – inserting variables into string values</a></span></li><li><span><a href=\"#(Deepdive)-–-Long-strings,-string-literals-and-the-escape-character-\\\" data-toc-modified-id=\"(Deepdive)-–-Long-strings,-string-literals-and-the-escape-character-\\-3.2.2\"><span class=\"toc-item-num\">3.2.2&nbsp;&nbsp;</span>(Deepdive) – Long strings, string literals and the escape character <code>\\</code></a></span><ul class=\"toc-item\"><li><span><a href=\"#More-on-tripple-quote-strings\" data-toc-modified-id=\"More-on-tripple-quote-strings-3.2.2.1\"><span class=\"toc-item-num\">3.2.2.1&nbsp;&nbsp;</span>More on tripple quote strings</a></span></li><li><span><a href=\"#String-literals-and-the-backslash-\\\" data-toc-modified-id=\"String-literals-and-the-backslash-\\-3.2.2.2\"><span class=\"toc-item-num\">3.2.2.2&nbsp;&nbsp;</span>String literals and the backslash <code>\\</code></a></span></li><li><span><a href=\"#Exercise-–-write-a-letter!\" data-toc-modified-id=\"Exercise-–-write-a-letter!-3.2.2.3\"><span class=\"toc-item-num\">3.2.2.3&nbsp;&nbsp;</span>Exercise – write a letter!</a></span></li></ul></li></ul></li><li><span><a href=\"#Changing-variables-–-Operators-and-assignment-statements\" data-toc-modified-id=\"Changing-variables-–-Operators-and-assignment-statements-3.3\"><span class=\"toc-item-num\">3.3&nbsp;&nbsp;</span>Changing variables – Operators and assignment statements</a></span><ul class=\"toc-item\"><li><span><a href=\"#Augmented-assignment-operators\" data-toc-modified-id=\"Augmented-assignment-operators-3.3.1\"><span class=\"toc-item-num\">3.3.1&nbsp;&nbsp;</span>Augmented assignment operators</a></span></li></ul></li><li><span><a href=\"#Multiple-assignment-statements\" data-toc-modified-id=\"Multiple-assignment-statements-3.4\"><span class=\"toc-item-num\">3.4&nbsp;&nbsp;</span>Multiple assignment statements</a></span></li><li><span><a href=\"#(Optional)-More-about-readability-–-the-zen-of-Python\" data-toc-modified-id=\"(Optional)-More-about-readability-–-the-zen-of-Python-3.5\"><span class=\"toc-item-num\">3.5&nbsp;&nbsp;</span>(Optional) More about readability – the zen of Python</a></span></li><li><span><a href=\"#Exercise-–-string-concatination-and-variables\" data-toc-modified-id=\"Exercise-–-string-concatination-and-variables-3.6\"><span class=\"toc-item-num\">3.6&nbsp;&nbsp;</span>Exercise – string concatination and variables</a></span></li></ul></li><li><span><a href=\"#Comparing-values\" data-toc-modified-id=\"Comparing-values-4\"><span class=\"toc-item-num\">4&nbsp;&nbsp;</span>Comparing values</a></span><ul class=\"toc-item\"><li><span><a href=\"#Comparison-operators\" data-toc-modified-id=\"Comparison-operators-4.1\"><span class=\"toc-item-num\">4.1&nbsp;&nbsp;</span>Comparison operators</a></span></li><li><span><a href=\"#Boolean-operators\" data-toc-modified-id=\"Boolean-operators-4.2\"><span class=\"toc-item-num\">4.2&nbsp;&nbsp;</span>Boolean operators</a></span><ul class=\"toc-item\"><li><span><a href=\"#The-and-operator\" data-toc-modified-id=\"The-and-operator-4.2.1\"><span class=\"toc-item-num\">4.2.1&nbsp;&nbsp;</span>The <code>and</code> operator</a></span></li><li><span><a href=\"#The-or-operator\" data-toc-modified-id=\"The-or-operator-4.2.2\"><span class=\"toc-item-num\">4.2.2&nbsp;&nbsp;</span>The <code>or</code> operator</a></span></li><li><span><a href=\"#The-not-operator\" data-toc-modified-id=\"The-not-operator-4.2.3\"><span class=\"toc-item-num\">4.2.3&nbsp;&nbsp;</span>The <code>not</code> operator</a></span></li><li><span><a href=\"#Boolean-operators-–-examples\" data-toc-modified-id=\"Boolean-operators-–-examples-4.2.4\"><span class=\"toc-item-num\">4.2.4&nbsp;&nbsp;</span>Boolean operators – examples</a></span></li></ul></li><li><span><a href=\"#Exercise-–-insert-the-correct-operators\" data-toc-modified-id=\"Exercise-–-insert-the-correct-operators-4.3\"><span class=\"toc-item-num\">4.3&nbsp;&nbsp;</span>Exercise – insert the correct operators</a></span></li></ul></li><li><span><a href=\"#Flow-Control-Statements\" data-toc-modified-id=\"Flow-Control-Statements-5\"><span class=\"toc-item-num\">5&nbsp;&nbsp;</span>Flow Control Statements</a></span><ul class=\"toc-item\"><li><span><a href=\"#The-if-statement\" data-toc-modified-id=\"The-if-statement-5.1\"><span class=\"toc-item-num\">5.1&nbsp;&nbsp;</span>The <code>if</code>-statement</a></span></li><li><span><a href=\"#The-else-statement\" data-toc-modified-id=\"The-else-statement-5.2\"><span class=\"toc-item-num\">5.2&nbsp;&nbsp;</span>The <code>else</code>-statement</a></span></li><li><span><a href=\"#The-elif-statement\" data-toc-modified-id=\"The-elif-statement-5.3\"><span class=\"toc-item-num\">5.3&nbsp;&nbsp;</span>The <code>elif</code>-statement</a></span></li><li><span><a href=\"#(Optional)-&quot;Truthy&quot;-and-&quot;Falsy&quot;-values\" data-toc-modified-id=\"(Optional)-&quot;Truthy&quot;-and-&quot;Falsy&quot;-values-5.4\"><span class=\"toc-item-num\">5.4&nbsp;&nbsp;</span>(Optional) \"Truthy\" and \"Falsy\" values</a></span></li><li><span><a href=\"#Exercise-–-type-the-end-of-the-story!\" data-toc-modified-id=\"Exercise-–-type-the-end-of-the-story!-5.5\"><span class=\"toc-item-num\">5.5&nbsp;&nbsp;</span>Exercise – type the end of the story!</a></span></li></ul></li><li><span><a href=\"#Functions\" data-toc-modified-id=\"Functions-6\"><span class=\"toc-item-num\">6&nbsp;&nbsp;</span>Functions</a></span><ul class=\"toc-item\"><li><span><a href=\"#Built-in-Functions\" data-toc-modified-id=\"Built-in-Functions-6.1\"><span class=\"toc-item-num\">6.1&nbsp;&nbsp;</span>Built-in Functions</a></span></li><li><span><a href=\"#The-standard-library-and-modules\" data-toc-modified-id=\"The-standard-library-and-modules-6.2\"><span class=\"toc-item-num\">6.2&nbsp;&nbsp;</span>The standard library and modules</a></span><ul class=\"toc-item\"><li><span><a href=\"#Exercise-–-the-coin-toss\" data-toc-modified-id=\"Exercise-–-the-coin-toss-6.2.1\"><span class=\"toc-item-num\">6.2.1&nbsp;&nbsp;</span>Exercise – the coin toss</a></span></li></ul></li><li><span><a href=\"#Third-party-modules\" data-toc-modified-id=\"Third-party-modules-6.3\"><span class=\"toc-item-num\">6.3&nbsp;&nbsp;</span>Third party modules</a></span></li><li><span><a href=\"#Writing-your-own-functions\" data-toc-modified-id=\"Writing-your-own-functions-6.4\"><span class=\"toc-item-num\">6.4&nbsp;&nbsp;</span>Writing your own functions</a></span></li><li><span><a href=\"#Arguments\" data-toc-modified-id=\"Arguments-6.5\"><span class=\"toc-item-num\">6.5&nbsp;&nbsp;</span>Arguments</a></span></li><li><span><a href=\"#(Optional)-Styling-conventions-writing-functions\" data-toc-modified-id=\"(Optional)-Styling-conventions-writing-functions-6.6\"><span class=\"toc-item-num\">6.6&nbsp;&nbsp;</span>(Optional) Styling conventions writing functions</a></span></li><li><span><a href=\"#The-return-statement\" data-toc-modified-id=\"The-return-statement-6.7\"><span class=\"toc-item-num\">6.7&nbsp;&nbsp;</span>The <code>return</code> statement</a></span></li><li><span><a href=\"#Bulletpoints\" data-toc-modified-id=\"Bulletpoints-6.8\"><span class=\"toc-item-num\">6.8&nbsp;&nbsp;</span>Bulletpoints</a></span></li></ul></li><li><span><a href=\"#Local-and-global-scopes\" data-toc-modified-id=\"Local-and-global-scopes-7\"><span class=\"toc-item-num\">7&nbsp;&nbsp;</span>Local and global scopes</a></span><ul class=\"toc-item\"><li><span><a href=\"#Global-code-cannot-use-local-variables\" data-toc-modified-id=\"Global-code-cannot-use-local-variables-7.1\"><span class=\"toc-item-num\">7.1&nbsp;&nbsp;</span>Global code cannot use local variables</a></span></li><li><span><a href=\"#Global-variables-can-be-used-in-local-scopes\" data-toc-modified-id=\"Global-variables-can-be-used-in-local-scopes-7.2\"><span class=\"toc-item-num\">7.2&nbsp;&nbsp;</span>Global variables can be used in local scopes</a></span></li><li><span><a href=\"#Local-scopes-can't-use-variables-in-other-local-scopes\" data-toc-modified-id=\"Local-scopes-can't-use-variables-in-other-local-scopes-7.3\"><span class=\"toc-item-num\">7.3&nbsp;&nbsp;</span>Local scopes can't use variables in other local scopes</a></span></li></ul></li><li><span><a href=\"#Object-orientation-and-Methods\" data-toc-modified-id=\"Object-orientation-and-Methods-8\"><span class=\"toc-item-num\">8&nbsp;&nbsp;</span>Object orientation and Methods</a></span></li><li><span><a href=\"#Lists\" data-toc-modified-id=\"Lists-9\"><span class=\"toc-item-num\">9&nbsp;&nbsp;</span>Lists</a></span><ul class=\"toc-item\"><li><span><a href=\"#Definition\" data-toc-modified-id=\"Definition-9.1\"><span class=\"toc-item-num\">9.1&nbsp;&nbsp;</span>Definition</a></span></li><li><span><a href=\"#List-index\" data-toc-modified-id=\"List-index-9.2\"><span class=\"toc-item-num\">9.2&nbsp;&nbsp;</span>List index</a></span></li><li><span><a href=\"#Slicing\" data-toc-modified-id=\"Slicing-9.3\"><span class=\"toc-item-num\">9.3&nbsp;&nbsp;</span>Slicing</a></span></li><li><span><a href=\"#Changing-list-values\" data-toc-modified-id=\"Changing-list-values-9.4\"><span class=\"toc-item-num\">9.4&nbsp;&nbsp;</span>Changing list values</a></span></li><li><span><a href=\"#Removing-items-with-del\" data-toc-modified-id=\"Removing-items-with-del-9.5\"><span class=\"toc-item-num\">9.5&nbsp;&nbsp;</span>Removing items with <code>del</code></a></span></li><li><span><a href=\"#List-methods\" data-toc-modified-id=\"List-methods-9.6\"><span class=\"toc-item-num\">9.6&nbsp;&nbsp;</span>List methods</a></span><ul class=\"toc-item\"><li><span><a href=\"#.append()\" data-toc-modified-id=\".append()-9.6.1\"><span class=\"toc-item-num\">9.6.1&nbsp;&nbsp;</span><code>.append()</code></a></span></li><li><span><a href=\"#.insert()\" data-toc-modified-id=\".insert()-9.6.2\"><span class=\"toc-item-num\">9.6.2&nbsp;&nbsp;</span><code>.insert()</code></a></span></li><li><span><a href=\"#.remove()\" data-toc-modified-id=\".remove()-9.6.3\"><span class=\"toc-item-num\">9.6.3&nbsp;&nbsp;</span><code>.remove()</code></a></span></li><li><span><a href=\"#.index()\" data-toc-modified-id=\".index()-9.6.4\"><span class=\"toc-item-num\">9.6.4&nbsp;&nbsp;</span><code>.index()</code></a></span><ul class=\"toc-item\"><li><span><a href=\"#(Optional)-Method-call-straight-into-index-brackets\" data-toc-modified-id=\"(Optional)-Method-call-straight-into-index-brackets-9.6.4.1\"><span class=\"toc-item-num\">9.6.4.1&nbsp;&nbsp;</span>(Optional) Method call straight into index brackets</a></span></li></ul></li><li><span><a href=\"#&quot;In-place&quot;-methods\" data-toc-modified-id=\"&quot;In-place&quot;-methods-9.6.5\"><span class=\"toc-item-num\">9.6.5&nbsp;&nbsp;</span>\"In place\" methods</a></span></li></ul></li><li><span><a href=\"#Similarities-between-lists-and-strings\" data-toc-modified-id=\"Similarities-between-lists-and-strings-9.7\"><span class=\"toc-item-num\">9.7&nbsp;&nbsp;</span>Similarities between lists and strings</a></span><ul class=\"toc-item\"><li><span><a href=\"#The-split()-method\" data-toc-modified-id=\"The-split()-method-9.7.1\"><span class=\"toc-item-num\">9.7.1&nbsp;&nbsp;</span>The <code>split()</code> method</a></span></li></ul></li><li><span><a href=\"#The-built-in-function-list()\" data-toc-modified-id=\"The-built-in-function-list()-9.8\"><span class=\"toc-item-num\">9.8&nbsp;&nbsp;</span>The built-in function <code>list()</code></a></span></li><li><span><a href=\"#The-in-and-not-in-operators\" data-toc-modified-id=\"The-in-and-not-in-operators-9.9\"><span class=\"toc-item-num\">9.9&nbsp;&nbsp;</span>The <code>in</code> and <code>not in</code> operators</a></span></li></ul></li><li><span><a href=\"#Loops\" data-toc-modified-id=\"Loops-10\"><span class=\"toc-item-num\">10&nbsp;&nbsp;</span>Loops</a></span><ul class=\"toc-item\"><li><span><a href=\"#while-loops\" data-toc-modified-id=\"while-loops-10.1\"><span class=\"toc-item-num\">10.1&nbsp;&nbsp;</span><code>while</code>-loops</a></span><ul class=\"toc-item\"><li><span><a href=\"#CAUTION:-Infinite-while-loops\" data-toc-modified-id=\"CAUTION:-Infinite-while-loops-10.1.1\"><span class=\"toc-item-num\">10.1.1&nbsp;&nbsp;</span>CAUTION: Infinite <code>while</code>-loops</a></span></li></ul></li><li><span><a href=\"#for-loops\" data-toc-modified-id=\"for-loops-10.2\"><span class=\"toc-item-num\">10.2&nbsp;&nbsp;</span><code>for</code>-loops</a></span><ul class=\"toc-item\"><li><span><a href=\"#for-loop-with-the-range()-function\" data-toc-modified-id=\"for-loop-with-the-range()-function-10.2.1\"><span class=\"toc-item-num\">10.2.1&nbsp;&nbsp;</span><code>for</code>-loop with the <code>range()</code> function</a></span></li><li><span><a href=\"#for-loop-without-range()\" data-toc-modified-id=\"for-loop-without-range()-10.2.2\"><span class=\"toc-item-num\">10.2.2&nbsp;&nbsp;</span><code>for</code>-loop without <code>range()</code></a></span></li><li><span><a href=\"#for-loops-–-with-or-without-range()?\" data-toc-modified-id=\"for-loops-–-with-or-without-range()?-10.2.3\"><span class=\"toc-item-num\">10.2.3&nbsp;&nbsp;</span><code>for</code>-loops – with or without <code>range()</code>?</a></span></li></ul></li></ul></li><li><span><a href=\"#Old-stuff\" data-toc-modified-id=\"Old-stuff-11\"><span class=\"toc-item-num\">11&nbsp;&nbsp;</span>Old stuff</a></span><ul class=\"toc-item\"><li><ul class=\"toc-item\"><li><span><a href=\"#Tuples\" data-toc-modified-id=\"Tuples-11.0.1\"><span class=\"toc-item-num\">11.0.1&nbsp;&nbsp;</span>Tuples</a></span></li><li><span><a href=\"#Dictionaries\" data-toc-modified-id=\"Dictionaries-11.0.2\"><span class=\"toc-item-num\">11.0.2&nbsp;&nbsp;</span>Dictionaries</a></span></li><li><span><a href=\"#Listor-med-variabler-i-dictionaries-i-dictionaries?-(överkurs)\" data-toc-modified-id=\"Listor-med-variabler-i-dictionaries-i-dictionaries?-(överkurs)-11.0.3\"><span class=\"toc-item-num\">11.0.3&nbsp;&nbsp;</span>Listor med variabler i dictionaries i dictionaries? (överkurs)</a></span></li></ul></li><li><span><a href=\"#5.-Pythons-utförande-(execution)\" data-toc-modified-id=\"5.-Pythons-utförande-(execution)-11.1\"><span class=\"toc-item-num\">11.1&nbsp;&nbsp;</span>5. Pythons utförande (execution)</a></span></li><li><span><a href=\"#6.-Booleans-och-Comparison-operators\" data-toc-modified-id=\"6.-Booleans-och-Comparison-operators-11.2\"><span class=\"toc-item-num\">11.2&nbsp;&nbsp;</span>6. Booleans och Comparison operators</a></span></li><li><span><a href=\"#7.-if-statements\" data-toc-modified-id=\"7.-if-statements-11.3\"><span class=\"toc-item-num\">11.3&nbsp;&nbsp;</span>7. if-statements</a></span></li><li><span><a href=\"#8.-Funktioner\" data-toc-modified-id=\"8.-Funktioner-11.4\"><span class=\"toc-item-num\">11.4&nbsp;&nbsp;</span>8. Funktioner</a></span><ul class=\"toc-item\"><li><span><a href=\"#En-sista-grej-angående-funktioner\" data-toc-modified-id=\"En-sista-grej-angående-funktioner-11.4.1\"><span class=\"toc-item-num\">11.4.1&nbsp;&nbsp;</span>En sista grej angående funktioner</a></span></li></ul></li><li><span><a href=\"#9.-Iteration---while-loops-och-for-loops\" data-toc-modified-id=\"9.-Iteration---while-loops-och-for-loops-11.5\"><span class=\"toc-item-num\">11.5&nbsp;&nbsp;</span>9. Iteration - while-loops och for-loops</a></span><ul class=\"toc-item\"><li><span><a href=\"#while-loops\" data-toc-modified-id=\"while-loops-11.5.1\"><span class=\"toc-item-num\">11.5.1&nbsp;&nbsp;</span>while-loops</a></span></li><li><span><a href=\"#for-loops\" data-toc-modified-id=\"for-loops-11.5.2\"><span class=\"toc-item-num\">11.5.2&nbsp;&nbsp;</span>for-loops</a></span></li></ul></li></ul></li></ul></div>"
   ]
  },
  {
   "cell_type": "markdown",
   "metadata": {},
   "source": [
    "**Introduction**"
   ]
  },
  {
   "cell_type": "markdown",
   "metadata": {},
   "source": [
    "Python is a programming language. \"Language\" is a pretty good analogy since python, just like, say, French, consists of some basic foundations. Before learning French, it may be a good idea to first learn some vocabulary and the basics of its grammar. The same is true when trying to learn a programming language like Python. Learn some basic phraces, vocabulary and concepts to be able to get around. To be able to experiment with it! Here, we will therefore start to look at the basic stuff in Python. \n",
    "\n",
    "The analogy of learning a language also reflects another important aspect. Learning programming, just as learning a language, from scratch requires time and practice. This notebook will (hopefully) give you the foundation to stand on and enough guidance to start experimenting. But to fully learn Python, you will need to invest time."
   ]
  },
  {
   "cell_type": "markdown",
   "metadata": {},
   "source": [
    "**Words of wisdom**"
   ]
  },
  {
   "cell_type": "markdown",
   "metadata": {},
   "source": [
    "You don't need to be a professional programmer to solve some problems. Often, some simple Python code will do the trick. Going through this notebook, you'll probobaly (hopefully) find it easy to start experimenting on your own. It isn't learning rocket science, and it isn't learning math. \n",
    "\n",
    "While learning, you will find a lot of moments similar to \"If A is the same as B, and C is the same as B. Then C must be the same as A\". You will most certainly think \"I have no idea what's going on right now\", and a lot of \"Aha!\" It is, simply put, a lot of fun!\n",
    "\n",
    "Going through this notebook, you might think there is a little to much emphasis on definitions of various Python concepts. But this is so that when you google stuff to find out why code you wrote didn't work, you'll be familiar with [Python terminology](https://www.w3schools.com/python/python_ref_glossary.asp). One aim with this notebook is to be a reference to return to if you need a quick update on a particular subject.\n"
   ]
  },
  {
   "cell_type": "markdown",
   "metadata": {},
   "source": [
    "**Working in a Jupyter Notebook**"
   ]
  },
  {
   "cell_type": "markdown",
   "metadata": {},
   "source": [
    "Using a notebook for learning is a good way to go, since it is really easy to experiment with code. I encourage you to try out the concepts described below while reading through this notebook. Here is a Jupyter Notebook cheat-sheet for hotkeys to keep in mind working through this course:\n",
    "\n",
    "- The keys `A` and `B` creates new cells in your notebook. `A` creates a cell above the cell currently selected, and `B` creates one below. Each newly created cell is by default a code cell\n",
    "- `M` sets a cell into a markdown (text input) cell\n",
    "- `Y` sets a cell into a code input cell\n",
    "- <kbd>Shift ⇧</kbd>+<kbd>Enter ↵</kbd> runs a cell, showing you the output of your code (or markdown)\n",
    "- `D,D` (that is, the `D` key typed twice swiftly) will remove the selected cell\n",
    "- `Z` will undo deleted cells (note that this won't work if you're editing within a cell)\n"
   ]
  },
  {
   "cell_type": "markdown",
   "metadata": {},
   "source": [
    "Don't hesitate to add some extra cells and try out the things you read about. That's the best way to learn!"
   ]
  },
  {
   "cell_type": "markdown",
   "metadata": {},
   "source": [
    "**About this course (full disclosure)**"
   ]
  },
  {
   "cell_type": "markdown",
   "metadata": {},
   "source": [
    "This notebook's content has been fully created by me – Johan Ekman. I am working full time as a data journalist at one of Sweden's biggest news papers, and coding in Python is one of my main tools. But I don't consider myself a professional programmer. This notebook is based on my knowledge of the language, and there may be some explanation that is not 100 per cent accurate. If you spot any errors or misleading explanations, please let me know at johan.h.ekman@gmail.com.\n",
    "\n",
    "Also, a big inspiration was Al Sweigart's course [Automate the boring stuff with Python](https://automatetheboringstuff.com/). I highly recommend it!"
   ]
  },
  {
   "cell_type": "markdown",
   "metadata": {},
   "source": [
    "---"
   ]
  },
  {
   "cell_type": "markdown",
   "metadata": {
    "heading_collapsed": true
   },
   "source": [
    "## Values"
   ]
  },
  {
   "cell_type": "markdown",
   "metadata": {
    "hidden": true
   },
   "source": [
    "The most basic structures in Python are values. All programming aims to do something with some values. There are five basic value types to keep in mind going foreward:\n",
    "\n",
    "- Integers\n",
    "- Floating points (i.e floats)\n",
    "- Strings\n",
    "- Booleans\n",
    "- Nonetype (or just the `None` value)"
   ]
  },
  {
   "cell_type": "markdown",
   "metadata": {
    "hidden": true
   },
   "source": [
    "### Integers"
   ]
  },
  {
   "cell_type": "markdown",
   "metadata": {
    "hidden": true
   },
   "source": [
    "Integers are just plain numbers:"
   ]
  },
  {
   "cell_type": "code",
   "execution_count": 2,
   "metadata": {
    "hidden": true,
    "jupyter": {
     "outputs_hidden": true
    }
   },
   "outputs": [
    {
     "data": {
      "text/plain": [
       "10"
      ]
     },
     "execution_count": 2,
     "metadata": {},
     "output_type": "execute_result"
    }
   ],
   "source": [
    "10"
   ]
  },
  {
   "cell_type": "markdown",
   "metadata": {
    "hidden": true
   },
   "source": [
    "We can always check what type of value we have with the `type()` function (more on functions in chapter 6):"
   ]
  },
  {
   "cell_type": "code",
   "execution_count": 3,
   "metadata": {
    "hidden": true
   },
   "outputs": [
    {
     "data": {
      "text/plain": [
       "int"
      ]
     },
     "execution_count": 3,
     "metadata": {},
     "output_type": "execute_result"
    }
   ],
   "source": [
    "type(10)"
   ]
  },
  {
   "cell_type": "markdown",
   "metadata": {
    "hidden": true
   },
   "source": [
    "`int` for integer!"
   ]
  },
  {
   "cell_type": "markdown",
   "metadata": {
    "hidden": true
   },
   "source": [
    "### Floats"
   ]
  },
  {
   "cell_type": "code",
   "execution_count": 4,
   "metadata": {
    "hidden": true,
    "jupyter": {
     "outputs_hidden": true
    }
   },
   "outputs": [
    {
     "data": {
      "text/plain": [
       "10.5"
      ]
     },
     "execution_count": 4,
     "metadata": {},
     "output_type": "execute_result"
    }
   ],
   "source": [
    "10.5 # float"
   ]
  },
  {
   "cell_type": "code",
   "execution_count": 5,
   "metadata": {
    "hidden": true,
    "jupyter": {
     "outputs_hidden": true
    }
   },
   "outputs": [
    {
     "data": {
      "text/plain": [
       "float"
      ]
     },
     "execution_count": 5,
     "metadata": {},
     "output_type": "execute_result"
    }
   ],
   "source": [
    "type(10.5)"
   ]
  },
  {
   "cell_type": "markdown",
   "metadata": {
    "hidden": true
   },
   "source": [
    "Floats is simply a decimal number."
   ]
  },
  {
   "cell_type": "markdown",
   "metadata": {
    "hidden": true
   },
   "source": [
    "### String values"
   ]
  },
  {
   "cell_type": "code",
   "execution_count": 6,
   "metadata": {
    "hidden": true,
    "jupyter": {
     "outputs_hidden": true
    }
   },
   "outputs": [
    {
     "data": {
      "text/plain": [
       "'Hello world!'"
      ]
     },
     "execution_count": 6,
     "metadata": {},
     "output_type": "execute_result"
    }
   ],
   "source": [
    "\"Hello world!\""
   ]
  },
  {
   "cell_type": "code",
   "execution_count": 7,
   "metadata": {
    "hidden": true
   },
   "outputs": [
    {
     "data": {
      "text/plain": [
       "str"
      ]
     },
     "execution_count": 7,
     "metadata": {},
     "output_type": "execute_result"
    }
   ],
   "source": [
    "type(\"Hello world!\")"
   ]
  },
  {
   "cell_type": "markdown",
   "metadata": {
    "hidden": true
   },
   "source": [
    "String values can be typed with either single quotation marks `''`, or double `\"\"`:"
   ]
  },
  {
   "cell_type": "code",
   "execution_count": 4,
   "metadata": {
    "hidden": true
   },
   "outputs": [
    {
     "data": {
      "text/plain": [
       "str"
      ]
     },
     "execution_count": 4,
     "metadata": {},
     "output_type": "execute_result"
    }
   ],
   "source": [
    "type('Hello world!')"
   ]
  },
  {
   "cell_type": "markdown",
   "metadata": {
    "hidden": true
   },
   "source": [
    "String values can be huge, and contain many many different types of characters. If you want to have a long string value, you can pass three quotation marks `\"\"\"` on each side of the text. Within those, you can do line breaks etc:"
   ]
  },
  {
   "cell_type": "code",
   "execution_count": 7,
   "metadata": {
    "hidden": true
   },
   "outputs": [
    {
     "data": {
      "text/plain": [
       "'Hello everyone!\\n\\nI am very happy that you are trying out this course.\\nAlso, this is a long string with line breaks.\\n\\nThanks!\\n\\n'"
      ]
     },
     "execution_count": 7,
     "metadata": {},
     "output_type": "execute_result"
    }
   ],
   "source": [
    "\"\"\"Hello everyone!\n",
    "\n",
    "I am very happy that you are trying out this course.\n",
    "Also, this is a long string with line breaks.\n",
    "\n",
    "Thanks!\n",
    "\n",
    "\"\"\""
   ]
  },
  {
   "cell_type": "markdown",
   "metadata": {
    "hidden": true
   },
   "source": [
    "In the output above, you see the character `\\n` – this is just the line break symbol. If we use the `print()` function (we will go through functions later in the course, so don't worry about what it is or does), we will get the string value as we typed it:"
   ]
  },
  {
   "cell_type": "code",
   "execution_count": 9,
   "metadata": {
    "hidden": true
   },
   "outputs": [
    {
     "name": "stdout",
     "output_type": "stream",
     "text": [
      "Hello everyone!\n",
      "\n",
      "I am very happy that you are trying out this course.\n",
      "Also, this is a long string with line breaks.\n",
      "\n",
      "Thanks!\n",
      "\n"
     ]
    }
   ],
   "source": [
    "print(\"\"\"Hello everyone!\n",
    "\n",
    "I am very happy that you are trying out this course.\n",
    "Also, this is a long string with line breaks.\n",
    "\n",
    "Thanks!\n",
    "\"\"\")"
   ]
  },
  {
   "cell_type": "markdown",
   "metadata": {
    "hidden": true
   },
   "source": [
    "### Boolean values"
   ]
  },
  {
   "cell_type": "markdown",
   "metadata": {
    "hidden": true
   },
   "source": [
    "Booleans indicates \"truthiness\". Simply if something is `True` or `False`."
   ]
  },
  {
   "cell_type": "code",
   "execution_count": 8,
   "metadata": {
    "hidden": true
   },
   "outputs": [
    {
     "data": {
      "text/plain": [
       "True"
      ]
     },
     "execution_count": 8,
     "metadata": {},
     "output_type": "execute_result"
    }
   ],
   "source": [
    "True"
   ]
  },
  {
   "cell_type": "code",
   "execution_count": 10,
   "metadata": {
    "hidden": true
   },
   "outputs": [
    {
     "data": {
      "text/plain": [
       "False"
      ]
     },
     "execution_count": 10,
     "metadata": {},
     "output_type": "execute_result"
    }
   ],
   "source": [
    "False"
   ]
  },
  {
   "cell_type": "code",
   "execution_count": 9,
   "metadata": {
    "hidden": true,
    "jupyter": {
     "outputs_hidden": true
    }
   },
   "outputs": [
    {
     "data": {
      "text/plain": [
       "bool"
      ]
     },
     "execution_count": 9,
     "metadata": {},
     "output_type": "execute_result"
    }
   ],
   "source": [
    "type(True)"
   ]
  },
  {
   "cell_type": "markdown",
   "metadata": {
    "hidden": true
   },
   "source": [
    "Please note that Python is a literal programming language, the syntax is important. The value `False` is spelled like so, with a capital `F`. Spelling it `false` will produce an error:"
   ]
  },
  {
   "cell_type": "code",
   "execution_count": 13,
   "metadata": {
    "hidden": true,
    "jupyter": {
     "outputs_hidden": true
    }
   },
   "outputs": [
    {
     "data": {
      "text/plain": [
       "False"
      ]
     },
     "execution_count": 13,
     "metadata": {},
     "output_type": "execute_result"
    }
   ],
   "source": [
    "False"
   ]
  },
  {
   "cell_type": "code",
   "execution_count": 14,
   "metadata": {
    "hidden": true,
    "jupyter": {
     "outputs_hidden": true
    }
   },
   "outputs": [
    {
     "ename": "NameError",
     "evalue": "name 'false' is not defined",
     "output_type": "error",
     "traceback": [
      "\u001b[0;31m---------------------------------------------------------------------------\u001b[0m",
      "\u001b[0;31mNameError\u001b[0m                                 Traceback (most recent call last)",
      "\u001b[0;32m<ipython-input-14-b73d74fcede9>\u001b[0m in \u001b[0;36m<module>\u001b[0;34m\u001b[0m\n\u001b[0;32m----> 1\u001b[0;31m \u001b[0mfalse\u001b[0m\u001b[0;34m\u001b[0m\u001b[0;34m\u001b[0m\u001b[0m\n\u001b[0m",
      "\u001b[0;31mNameError\u001b[0m: name 'false' is not defined"
     ]
    }
   ],
   "source": [
    "false"
   ]
  },
  {
   "cell_type": "markdown",
   "metadata": {
    "hidden": true
   },
   "source": [
    "### The None value"
   ]
  },
  {
   "cell_type": "markdown",
   "metadata": {
    "hidden": true
   },
   "source": [
    "In programming, there are also values to indicate non-values, or \"nothingness\". In Python, the most important one is the `None` value, or the `NoneType`."
   ]
  },
  {
   "cell_type": "code",
   "execution_count": 1,
   "metadata": {
    "hidden": true,
    "jupyter": {
     "outputs_hidden": true
    }
   },
   "outputs": [],
   "source": [
    "None"
   ]
  },
  {
   "cell_type": "markdown",
   "metadata": {
    "hidden": true
   },
   "source": [
    "Please note that running above cell produce no output. That is because this value indicates no input. There is simply nothing to return from a non-value.\n",
    "\n",
    "The reason why such a valuetype is important is rather abstract. Let's just say that it is sometimes crucial in programming to be able to signal that nothing exists, or has happend in a running program."
   ]
  },
  {
   "cell_type": "code",
   "execution_count": 18,
   "metadata": {
    "hidden": true,
    "jupyter": {
     "outputs_hidden": true
    }
   },
   "outputs": [
    {
     "data": {
      "text/plain": [
       "NoneType"
      ]
     },
     "execution_count": 18,
     "metadata": {},
     "output_type": "execute_result"
    }
   ],
   "source": [
    "type(None)"
   ]
  },
  {
   "cell_type": "markdown",
   "metadata": {
    "hidden": true
   },
   "source": [
    "---"
   ]
  },
  {
   "cell_type": "markdown",
   "metadata": {
    "heading_collapsed": true
   },
   "source": [
    "## Expressions and operators"
   ]
  },
  {
   "cell_type": "markdown",
   "metadata": {
    "hidden": true
   },
   "source": [
    "In Python, code is read by the _Python interpreter_. This is, basically, your computer reading and executing your code.\n",
    "\n",
    "The most basic form of \"instruction\" you can give your computer – you can give the interpreter – is **expressions**. Expressions always evaluates, they always reduce, into a single value. This means that giving the interpreter a single value is an expression:"
   ]
  },
  {
   "cell_type": "code",
   "execution_count": 2,
   "metadata": {
    "hidden": true
   },
   "outputs": [
    {
     "data": {
      "text/plain": [
       "3"
      ]
     },
     "execution_count": 2,
     "metadata": {},
     "output_type": "execute_result"
    }
   ],
   "source": [
    "3 # this is an expression"
   ]
  },
  {
   "cell_type": "markdown",
   "metadata": {
    "hidden": true
   },
   "source": [
    "But we can also let values interact in expressions, using **operators**. The most basic ones are the arithmetic operators (basically, math operations). For example:"
   ]
  },
  {
   "cell_type": "code",
   "execution_count": 3,
   "metadata": {
    "hidden": true,
    "jupyter": {
     "outputs_hidden": true
    }
   },
   "outputs": [
    {
     "data": {
      "text/plain": [
       "2"
      ]
     },
     "execution_count": 3,
     "metadata": {},
     "output_type": "execute_result"
    }
   ],
   "source": [
    "1 + 1"
   ]
  },
  {
   "cell_type": "markdown",
   "metadata": {
    "hidden": true
   },
   "source": [
    "In the cell above, we have two integer values that we add together through the _addition operator_ `+`. Here is another one, the subtraction operator, `-`:"
   ]
  },
  {
   "cell_type": "code",
   "execution_count": 20,
   "metadata": {
    "hidden": true,
    "jupyter": {
     "outputs_hidden": true
    }
   },
   "outputs": [
    {
     "data": {
      "text/plain": [
       "903"
      ]
     },
     "execution_count": 20,
     "metadata": {},
     "output_type": "execute_result"
    }
   ],
   "source": [
    "1235 - 332"
   ]
  },
  {
   "cell_type": "markdown",
   "metadata": {
    "hidden": true
   },
   "source": [
    "As you can see, we get an answer to the expression when we run the code. In this case, the integer 903. In Python, we say that the expression `1235 - 332` _returns_ the value 903.\n",
    "\n",
    "More examples of operators:"
   ]
  },
  {
   "cell_type": "code",
   "execution_count": 22,
   "metadata": {
    "hidden": true,
    "jupyter": {
     "outputs_hidden": true
    }
   },
   "outputs": [
    {
     "data": {
      "text/plain": [
       "15"
      ]
     },
     "execution_count": 22,
     "metadata": {},
     "output_type": "execute_result"
    }
   ],
   "source": [
    "5 * 3 # multiplication"
   ]
  },
  {
   "cell_type": "code",
   "execution_count": 23,
   "metadata": {
    "hidden": true,
    "jupyter": {
     "outputs_hidden": true
    }
   },
   "outputs": [
    {
     "data": {
      "text/plain": [
       "17.571428571428573"
      ]
     },
     "execution_count": 23,
     "metadata": {},
     "output_type": "execute_result"
    }
   ],
   "source": [
    "123 / 7 # division"
   ]
  },
  {
   "cell_type": "markdown",
   "metadata": {
    "hidden": true
   },
   "source": [
    "The division operator always returns a float value. Even if the result is even:"
   ]
  },
  {
   "cell_type": "code",
   "execution_count": 82,
   "metadata": {
    "hidden": true
   },
   "outputs": [
    {
     "data": {
      "text/plain": [
       "3.0"
      ]
     },
     "execution_count": 82,
     "metadata": {},
     "output_type": "execute_result"
    }
   ],
   "source": [
    "9 / 3"
   ]
  },
  {
   "cell_type": "markdown",
   "metadata": {
    "hidden": true
   },
   "source": [
    "(Above, you see examples of **comments** in Python code. Everything that follows the `#` sign will be completely ignored by the interpreter. This is how you write comments in your code – to explain stuff without ruining your output! But it is also used to just exclude parts in your code for whatever reason)"
   ]
  },
  {
   "cell_type": "markdown",
   "metadata": {
    "hidden": true
   },
   "source": [
    "We can evaluate longer expressions as well, containing more values:"
   ]
  },
  {
   "cell_type": "code",
   "execution_count": 4,
   "metadata": {
    "hidden": true
   },
   "outputs": [
    {
     "data": {
      "text/plain": [
       "50"
      ]
     },
     "execution_count": 4,
     "metadata": {},
     "output_type": "execute_result"
    }
   ],
   "source": [
    "2 + 4 + 3 + 41"
   ]
  },
  {
   "cell_type": "markdown",
   "metadata": {
    "hidden": true
   },
   "source": [
    "And we can also mix them:"
   ]
  },
  {
   "cell_type": "code",
   "execution_count": 5,
   "metadata": {
    "hidden": true
   },
   "outputs": [
    {
     "data": {
      "text/plain": [
       "-6"
      ]
     },
     "execution_count": 5,
     "metadata": {},
     "output_type": "execute_result"
    }
   ],
   "source": [
    "2 + 4 - 12"
   ]
  },
  {
   "cell_type": "markdown",
   "metadata": {
    "hidden": true
   },
   "source": [
    "### Order of operations"
   ]
  },
  {
   "cell_type": "markdown",
   "metadata": {
    "hidden": true
   },
   "source": [
    "In Python, code is read by the interpreter in a specific manner. Before the code is run, the interpreter reads the code. It starts at the top of the code to the left, and then reads line by line to the right – one line at the time. But it will then run the code in a specific order depending on certain factors. For example, some operators take precendence over others. Take this example:"
   ]
  },
  {
   "cell_type": "code",
   "execution_count": 6,
   "metadata": {
    "hidden": true
   },
   "outputs": [
    {
     "data": {
      "text/plain": [
       "16"
      ]
     },
     "execution_count": 6,
     "metadata": {},
     "output_type": "execute_result"
    }
   ],
   "source": [
    "1 + 3 * 5"
   ]
  },
  {
   "cell_type": "markdown",
   "metadata": {
    "hidden": true
   },
   "source": [
    "Some of you maybe expected the answer 20 (1 plus 3 equals 4, 4 times 5 equals 20). But since the multiplication operator takes precendence, the interpreter returns the value 16.\n",
    "\n",
    "Above, the code is read from left to right. The python interpreter sees the operators and then reads the operations in the expression a specific order. This is called the _order of operations_. This order is:"
   ]
  },
  {
   "cell_type": "markdown",
   "metadata": {
    "hidden": true
   },
   "source": [
    "1. Paranthesis\n",
    "2. Multiplication/division\n",
    "3. addition/subtraction"
   ]
  },
  {
   "cell_type": "markdown",
   "metadata": {
    "hidden": true
   },
   "source": [
    "For example:"
   ]
  },
  {
   "cell_type": "code",
   "execution_count": 7,
   "metadata": {
    "hidden": true,
    "jupyter": {
     "outputs_hidden": true
    }
   },
   "outputs": [
    {
     "data": {
      "text/plain": [
       "20"
      ]
     },
     "execution_count": 7,
     "metadata": {},
     "output_type": "execute_result"
    }
   ],
   "source": [
    "(1 + 3) * 5"
   ]
  },
  {
   "cell_type": "markdown",
   "metadata": {
    "hidden": true
   },
   "source": [
    "Here, the interpreter reads the code, registeres the operators `()`, `+` and `*`. It then prioritises the code within the parenthesis (since code within parenthesis takes precedence), and then runs the resulting value `(1 + 3)` in the remaing operation `4 * 5`. "
   ]
  },
  {
   "cell_type": "markdown",
   "metadata": {
    "hidden": true
   },
   "source": [
    "**The Order of operations**\n",
    "\n",
    "```\n",
    "\n",
    "1. () Parenthesis\n",
    "2. ** Exponant\n",
    "3. *  Multiplication\n",
    "4. /  Division\n",
    "5. +  Addition\n",
    "6. -  Subtraction\n",
    "\n",
    "```"
   ]
  },
  {
   "cell_type": "markdown",
   "metadata": {
    "hidden": true
   },
   "source": [
    "Note that there are a whole bunch more of operators that also take precendence above themselves and above ones. But these will suffice for now. "
   ]
  },
  {
   "cell_type": "markdown",
   "metadata": {
    "hidden": true
   },
   "source": [
    "#### (Optional) Deep dive into Order of Operations"
   ]
  },
  {
   "cell_type": "markdown",
   "metadata": {
    "hidden": true
   },
   "source": [
    "Let's experiment! (Remember that you can create your own cells in this notebook and try out on your own!)\n",
    "\n",
    "Take this expression, contains four values and three operators (`+`, `/` and `**`). If we run them as is:"
   ]
  },
  {
   "cell_type": "code",
   "execution_count": 34,
   "metadata": {
    "hidden": true
   },
   "outputs": [
    {
     "data": {
      "text/plain": [
       "3.0246913580246915"
      ]
     },
     "execution_count": 34,
     "metadata": {},
     "output_type": "execute_result"
    }
   ],
   "source": [
    "3 + 6 / 3 ** 5"
   ]
  },
  {
   "cell_type": "markdown",
   "metadata": {
    "hidden": true
   },
   "source": [
    "Let us now experiment with paranthesis at various places in the expression. Try to guess what will happen before you run the code:"
   ]
  },
  {
   "cell_type": "code",
   "execution_count": 35,
   "metadata": {
    "hidden": true
   },
   "outputs": [
    {
     "data": {
      "text/plain": [
       "0.037037037037037035"
      ]
     },
     "execution_count": 35,
     "metadata": {},
     "output_type": "execute_result"
    }
   ],
   "source": [
    "(3 + 6) / 3 ** 5"
   ]
  },
  {
   "cell_type": "markdown",
   "metadata": {
    "hidden": true
   },
   "source": [
    "Above, `(3 + 6)` is run first, which equals 9. Then `3 ** 5`, which equals 243. And finally, `9 / 243`"
   ]
  },
  {
   "cell_type": "code",
   "execution_count": 37,
   "metadata": {
    "hidden": true
   },
   "outputs": [
    {
     "data": {
      "text/plain": [
       "0.037037037037037035"
      ]
     },
     "execution_count": 37,
     "metadata": {},
     "output_type": "execute_result"
    }
   ],
   "source": [
    "9 / 243"
   ]
  },
  {
   "cell_type": "code",
   "execution_count": 39,
   "metadata": {
    "hidden": true
   },
   "outputs": [
    {
     "data": {
      "text/plain": [
       "35.0"
      ]
     },
     "execution_count": 39,
     "metadata": {},
     "output_type": "execute_result"
    }
   ],
   "source": [
    "3 + (6 / 3) ** 5"
   ]
  },
  {
   "cell_type": "markdown",
   "metadata": {
    "hidden": true
   },
   "source": [
    "Here, first `(6 / 3)`, which equals 2. Then, `2 ** 5`, equals 32. And finally, `3 + 32`, which is 35."
   ]
  },
  {
   "cell_type": "code",
   "execution_count": 42,
   "metadata": {
    "hidden": true,
    "scrolled": false
   },
   "outputs": [
    {
     "data": {
      "text/plain": [
       "243.0"
      ]
     },
     "execution_count": 42,
     "metadata": {},
     "output_type": "execute_result"
    }
   ],
   "source": [
    "((3 + 6) / 3) ** 5"
   ]
  },
  {
   "cell_type": "markdown",
   "metadata": {
    "hidden": true
   },
   "source": [
    "Here, there are parenthesis within parenthesis, also called nested parenthesis. Remember, the Python interpreter reads  the code from left to right. So it starts reading the parenthesis with its `(` furthest to the left. \n",
    "\n",
    "That is, the expression `(3 + 6) / 3`. \n",
    "\n",
    "Then it reads the encased parenthesis first (since it takes precedence over the `/` operator), `3 + 6` which is 9. \n",
    "\n",
    "Now, it divides the resulting value 9 with 3, equals 3.\n",
    "\n",
    "Finally, it exponates 3 with 5 (`3 ** 5`), which is 243."
   ]
  },
  {
   "cell_type": "markdown",
   "metadata": {
    "hidden": true
   },
   "source": [
    "#### Exercise – where to put the parenthesis?"
   ]
  },
  {
   "cell_type": "markdown",
   "metadata": {
    "hidden": true
   },
   "source": [
    "Let's do a little exercise. I said in the introduction to this course that programming in Python isn't math. But here we have a small math exercise (sorry!). The goal here is to get you experimenting with the order of operations. We have this long chain of operations on values:"
   ]
  },
  {
   "cell_type": "code",
   "execution_count": 56,
   "metadata": {
    "hidden": true
   },
   "outputs": [
    {
     "data": {
      "text/plain": [
       "61.11666666666667"
      ]
     },
     "execution_count": 56,
     "metadata": {},
     "output_type": "execute_result"
    }
   ],
   "source": [
    "10 + 5 * 10 - 2 / 15 + 5 / 4 "
   ]
  },
  {
   "cell_type": "markdown",
   "metadata": {
    "hidden": true
   },
   "source": [
    "With no parenthesis, this expression evaluates to ~61.12. Try to include parenthesis to **get the answer 1.5 instead**. You will find the solution in the solutions.ipynb notebook. Use these cells below to experiment your way through:"
   ]
  },
  {
   "cell_type": "code",
   "execution_count": null,
   "metadata": {
    "hidden": true
   },
   "outputs": [],
   "source": []
  },
  {
   "cell_type": "code",
   "execution_count": null,
   "metadata": {
    "hidden": true
   },
   "outputs": [],
   "source": []
  },
  {
   "cell_type": "code",
   "execution_count": null,
   "metadata": {
    "hidden": true
   },
   "outputs": [],
   "source": []
  },
  {
   "cell_type": "code",
   "execution_count": null,
   "metadata": {
    "hidden": true
   },
   "outputs": [],
   "source": []
  },
  {
   "cell_type": "markdown",
   "metadata": {
    "hidden": true
   },
   "source": [
    "### Concatination"
   ]
  },
  {
   "cell_type": "markdown",
   "metadata": {
    "hidden": true
   },
   "source": [
    "In Python, some operators can also be used in expressions with string values. Adding string values together by using the `+` operator is called _concatination_."
   ]
  },
  {
   "cell_type": "code",
   "execution_count": 43,
   "metadata": {
    "hidden": true,
    "jupyter": {
     "outputs_hidden": true
    }
   },
   "outputs": [
    {
     "data": {
      "text/plain": [
       "'Hello world!'"
      ]
     },
     "execution_count": 43,
     "metadata": {},
     "output_type": "execute_result"
    }
   ],
   "source": [
    "\"Hello\" + \" \" + \"world!\""
   ]
  },
  {
   "cell_type": "code",
   "execution_count": 44,
   "metadata": {
    "hidden": true,
    "jupyter": {
     "outputs_hidden": true
    }
   },
   "outputs": [
    {
     "data": {
      "text/plain": [
       "'Hello world!'"
      ]
     },
     "execution_count": 44,
     "metadata": {},
     "output_type": "execute_result"
    }
   ],
   "source": [
    "\"H\" + \"ello world!\""
   ]
  },
  {
   "cell_type": "markdown",
   "metadata": {
    "hidden": true
   },
   "source": [
    "You can add two string values together, but you cant subtract them. This will create an error:"
   ]
  },
  {
   "cell_type": "code",
   "execution_count": 45,
   "metadata": {
    "hidden": true,
    "jupyter": {
     "outputs_hidden": true
    }
   },
   "outputs": [
    {
     "ename": "TypeError",
     "evalue": "unsupported operand type(s) for -: 'str' and 'str'",
     "output_type": "error",
     "traceback": [
      "\u001b[0;31m---------------------------------------------------------------------------\u001b[0m",
      "\u001b[0;31mTypeError\u001b[0m                                 Traceback (most recent call last)",
      "\u001b[0;32m<ipython-input-45-f6f0cf4fba0c>\u001b[0m in \u001b[0;36m<module>\u001b[0;34m\u001b[0m\n\u001b[0;32m----> 1\u001b[0;31m \u001b[0;34m\"Hello world!\"\u001b[0m \u001b[0;34m-\u001b[0m \u001b[0;34m\"world!\"\u001b[0m\u001b[0;34m\u001b[0m\u001b[0;34m\u001b[0m\u001b[0m\n\u001b[0m",
      "\u001b[0;31mTypeError\u001b[0m: unsupported operand type(s) for -: 'str' and 'str'"
     ]
    }
   ],
   "source": [
    "\"Hello world!\" - \"world!\""
   ]
  },
  {
   "cell_type": "markdown",
   "metadata": {
    "hidden": true
   },
   "source": [
    "You can also use the multiplication operator on string values. This is called string replication (and is more of a curiosity than important to be honest; not widely used...)"
   ]
  },
  {
   "cell_type": "code",
   "execution_count": 46,
   "metadata": {
    "hidden": true,
    "jupyter": {
     "outputs_hidden": true
    }
   },
   "outputs": [
    {
     "data": {
      "text/plain": [
       "'Hello world! Hello world! Hello world! Hello world! Hello world! Hello world! Hello world! Hello world! Hello world! Hello world! '"
      ]
     },
     "execution_count": 46,
     "metadata": {},
     "output_type": "execute_result"
    }
   ],
   "source": [
    "\"Hello world! \" * 10"
   ]
  },
  {
   "cell_type": "markdown",
   "metadata": {
    "hidden": true
   },
   "source": [
    "Note that in expressions with string values, order of operations is still in play:"
   ]
  },
  {
   "cell_type": "code",
   "execution_count": 47,
   "metadata": {
    "hidden": true,
    "jupyter": {
     "outputs_hidden": true
    }
   },
   "outputs": [
    {
     "data": {
      "text/plain": [
       "'Hello world!!!!!!!!!!'"
      ]
     },
     "execution_count": 47,
     "metadata": {},
     "output_type": "execute_result"
    }
   ],
   "source": [
    "\"Hello world\" + \"!\" * 10"
   ]
  },
  {
   "cell_type": "code",
   "execution_count": 48,
   "metadata": {
    "hidden": true,
    "jupyter": {
     "outputs_hidden": true
    }
   },
   "outputs": [
    {
     "data": {
      "text/plain": [
       "'Hello world! Hello world! Hello world! Hello world! Hello world! Hello world! Hello world! Hello world! Hello world! Hello world! '"
      ]
     },
     "execution_count": 48,
     "metadata": {},
     "output_type": "execute_result"
    }
   ],
   "source": [
    "(\"Hello world\" + \"! \") * 10"
   ]
  },
  {
   "cell_type": "markdown",
   "metadata": {},
   "source": [
    "## Variables and statements"
   ]
  },
  {
   "cell_type": "markdown",
   "metadata": {
    "heading_collapsed": true
   },
   "source": [
    "#### Quick sidenote – the `print()` function"
   ]
  },
  {
   "cell_type": "markdown",
   "metadata": {
    "hidden": true
   },
   "source": [
    "Below, we'll use the `print()` function. It takes any value within its parenthesis and \"prints\" it back to you. It is one (of many) of Python's _built-in functions_ (we will go through this thoroughly in chapter 6). In a Jupyter Notebook, this function is sort of redundant. In a notebook, the value being returned is always shown as the cell output when we run the code. For example:"
   ]
  },
  {
   "cell_type": "code",
   "execution_count": 19,
   "metadata": {
    "hidden": true
   },
   "outputs": [
    {
     "data": {
      "text/plain": [
       "3"
      ]
     },
     "execution_count": 19,
     "metadata": {},
     "output_type": "execute_result"
    }
   ],
   "source": [
    "3"
   ]
  },
  {
   "cell_type": "code",
   "execution_count": 20,
   "metadata": {
    "hidden": true
   },
   "outputs": [
    {
     "name": "stdout",
     "output_type": "stream",
     "text": [
      "3\n"
     ]
    }
   ],
   "source": [
    "print(3)"
   ]
  },
  {
   "cell_type": "markdown",
   "metadata": {
    "hidden": true
   },
   "source": [
    "However, it is a function that is used ALL THE TIME in Python, mostly for checking what values are behind a certain variable when debugging code. For now, it is sufficient to know that it is a function, and that it just \"prints\" what ever value it is given :)"
   ]
  },
  {
   "cell_type": "markdown",
   "metadata": {
    "heading_collapsed": true
   },
   "source": [
    "### Assigning variables"
   ]
  },
  {
   "cell_type": "markdown",
   "metadata": {
    "hidden": true
   },
   "source": [
    "Now to another fundamental componant of Python – _variables_. \n",
    "\n",
    "Variables can maybe best be described as names we give to values in our code. This is done with the **assignment operator** `=`:"
   ]
  },
  {
   "cell_type": "code",
   "execution_count": 8,
   "metadata": {
    "hidden": true,
    "jupyter": {
     "outputs_hidden": true
    }
   },
   "outputs": [],
   "source": [
    "number = 3"
   ]
  },
  {
   "cell_type": "markdown",
   "metadata": {
    "hidden": true
   },
   "source": [
    "Above, we _assign_ the name `number` to a value – the integer 3. This is called an **assignment statement** in python."
   ]
  },
  {
   "cell_type": "markdown",
   "metadata": {
    "hidden": true
   },
   "source": [
    "The variable name `number` is now registered in the computers memory and points to the integer value 3. So if we type `number` in our code, the value 3 will be returned!"
   ]
  },
  {
   "cell_type": "code",
   "execution_count": 51,
   "metadata": {
    "hidden": true,
    "jupyter": {
     "outputs_hidden": true
    }
   },
   "outputs": [
    {
     "data": {
      "text/plain": [
       "3"
      ]
     },
     "execution_count": 51,
     "metadata": {},
     "output_type": "execute_result"
    }
   ],
   "source": [
    "number"
   ]
  },
  {
   "cell_type": "code",
   "execution_count": 52,
   "metadata": {
    "hidden": true
   },
   "outputs": [
    {
     "data": {
      "text/plain": [
       "15"
      ]
     },
     "execution_count": 52,
     "metadata": {},
     "output_type": "execute_result"
    }
   ],
   "source": [
    "number * 5"
   ]
  },
  {
   "cell_type": "markdown",
   "metadata": {
    "hidden": true
   },
   "source": [
    "The name of a variable is saved to the computers memory, in what's called the variables **namespace**. Namespaces cannot be seperated by blank space:"
   ]
  },
  {
   "cell_type": "code",
   "execution_count": 53,
   "metadata": {
    "hidden": true
   },
   "outputs": [
    {
     "ename": "SyntaxError",
     "evalue": "invalid syntax (<ipython-input-53-d7b288421347>, line 1)",
     "output_type": "error",
     "traceback": [
      "\u001b[0;36m  File \u001b[0;32m\"<ipython-input-53-d7b288421347>\"\u001b[0;36m, line \u001b[0;32m1\u001b[0m\n\u001b[0;31m    number one = 3\u001b[0m\n\u001b[0m           ^\u001b[0m\n\u001b[0;31mSyntaxError\u001b[0m\u001b[0;31m:\u001b[0m invalid syntax\n"
     ]
    }
   ],
   "source": [
    "number one = 3"
   ]
  },
  {
   "cell_type": "markdown",
   "metadata": {
    "hidden": true
   },
   "source": [
    "We can do operations using only variables:"
   ]
  },
  {
   "cell_type": "code",
   "execution_count": 9,
   "metadata": {
    "hidden": true
   },
   "outputs": [
    {
     "data": {
      "text/plain": [
       "15"
      ]
     },
     "execution_count": 9,
     "metadata": {},
     "output_type": "execute_result"
    }
   ],
   "source": [
    "number1 = 3\n",
    "number2 = 5\n",
    "\n",
    "number1 * number2"
   ]
  },
  {
   "cell_type": "markdown",
   "metadata": {
    "hidden": true
   },
   "source": [
    "As a final point on simple assignment statements. In the Python community, _readability_ is seen as a virtue. Therefore: **always name your variables in a readable and logical manner.** This is to make the code more pleasent to read and easier to understand."
   ]
  },
  {
   "cell_type": "code",
   "execution_count": 80,
   "metadata": {
    "hidden": true
   },
   "outputs": [],
   "source": [
    "a = 3 # not a particularly good variable name\n",
    "stuff = 3 # also not very helpful\n",
    "num = 3 # better!"
   ]
  },
  {
   "cell_type": "markdown",
   "metadata": {
    "heading_collapsed": true
   },
   "source": [
    "### Variables and strings"
   ]
  },
  {
   "cell_type": "markdown",
   "metadata": {
    "hidden": true
   },
   "source": [
    "Of course, we can also use variables when doing string concatination:"
   ]
  },
  {
   "cell_type": "code",
   "execution_count": 59,
   "metadata": {
    "hidden": true
   },
   "outputs": [
    {
     "data": {
      "text/plain": [
       "'Hello world!'"
      ]
     },
     "execution_count": 59,
     "metadata": {},
     "output_type": "execute_result"
    }
   ],
   "source": [
    "string1 = \"Hello \"\n",
    "string2 = \"world!\"\n",
    "\n",
    "string1 + string2"
   ]
  },
  {
   "cell_type": "markdown",
   "metadata": {
    "heading_collapsed": true,
    "hidden": true
   },
   "source": [
    "#### String formatting – inserting variables into string values"
   ]
  },
  {
   "cell_type": "markdown",
   "metadata": {
    "hidden": true
   },
   "source": [
    "In Python, it is very common to insert variables in strings. Let's say we have a name that we would like to insert into a sentence:"
   ]
  },
  {
   "cell_type": "code",
   "execution_count": 60,
   "metadata": {
    "hidden": true
   },
   "outputs": [],
   "source": [
    "name = \"Johan\"\n",
    "sentence = \" is a pretty nice guy!\""
   ]
  },
  {
   "cell_type": "markdown",
   "metadata": {
    "hidden": true
   },
   "source": [
    "We could use string concatination to create a full sentence:"
   ]
  },
  {
   "cell_type": "code",
   "execution_count": 61,
   "metadata": {
    "hidden": true
   },
   "outputs": [
    {
     "data": {
      "text/plain": [
       "'Johan is a pretty nice guy!'"
      ]
     },
     "execution_count": 61,
     "metadata": {},
     "output_type": "execute_result"
    }
   ],
   "source": [
    "name + sentence"
   ]
  },
  {
   "cell_type": "markdown",
   "metadata": {
    "hidden": true
   },
   "source": [
    "But there is an even cleaner way of doing it where we don't need an operator. We can use **string formatting**. To do this we need the key letter `f` just before the string quotations, like so: `f\"\"`. This tells the interpreter that the string will be formatted with variables. To include variables, we insert them inside curly brackets `{}` within the string. Using string formatting, we can thus type: "
   ]
  },
  {
   "cell_type": "code",
   "execution_count": 62,
   "metadata": {
    "hidden": true
   },
   "outputs": [
    {
     "data": {
      "text/plain": [
       "'Johan is a pretty nice guy!'"
      ]
     },
     "execution_count": 62,
     "metadata": {},
     "output_type": "execute_result"
    }
   ],
   "source": [
    "f\"{name} is a pretty nice guy!\""
   ]
  },
  {
   "cell_type": "markdown",
   "metadata": {
    "hidden": true
   },
   "source": [
    "**CAUTION!** This is a very very useful technique. But the syntax (=the structure of statements in the code) of string formatting has changed in various versions of Python. This means that above syntax won't work in older versions of Python. However, the older syntax is still acceptable in newer versions.\n",
    "\n",
    "I won't go through the syntax in detail, just show you how the same string can be produced with string formatting in older versions of Python:"
   ]
  },
  {
   "cell_type": "code",
   "execution_count": 66,
   "metadata": {
    "hidden": true
   },
   "outputs": [
    {
     "data": {
      "text/plain": [
       "'Johan is a pretty nice guy!'"
      ]
     },
     "execution_count": 66,
     "metadata": {},
     "output_type": "execute_result"
    }
   ],
   "source": [
    "f\"{name} is a pretty nice guy!\" # present syntax"
   ]
  },
  {
   "cell_type": "code",
   "execution_count": 67,
   "metadata": {
    "hidden": true
   },
   "outputs": [
    {
     "data": {
      "text/plain": [
       "'Johan is a pretty nice guy!'"
      ]
     },
     "execution_count": 67,
     "metadata": {},
     "output_type": "execute_result"
    }
   ],
   "source": [
    "\"{} is a pretty nice guy!\".format(name) # former syntax"
   ]
  },
  {
   "cell_type": "code",
   "execution_count": 68,
   "metadata": {
    "hidden": true
   },
   "outputs": [
    {
     "data": {
      "text/plain": [
       "'Johan is a pretty nice guy!'"
      ]
     },
     "execution_count": 68,
     "metadata": {},
     "output_type": "execute_result"
    }
   ],
   "source": [
    "\"%s is a pretty nice guy!\" % name # really old syntax"
   ]
  },
  {
   "cell_type": "markdown",
   "metadata": {
    "hidden": true
   },
   "source": [
    "However, I highly recommend the present syntax, since it is way more readable and clean."
   ]
  },
  {
   "cell_type": "markdown",
   "metadata": {
    "heading_collapsed": true,
    "hidden": true
   },
   "source": [
    "#### (Deepdive) – Long strings, string literals and the escape character `\\`"
   ]
  },
  {
   "cell_type": "markdown",
   "metadata": {
    "heading_collapsed": true,
    "hidden": true
   },
   "source": [
    "#####  More on tripple quote strings"
   ]
  },
  {
   "cell_type": "markdown",
   "metadata": {
    "hidden": true
   },
   "source": [
    "In chapter 1, we briefly touched the subject of creating long strings with tripple quotes `\"\"\"`. In these, we tell the interpreter that _all_ characters following these quotes are part of one string value, until it finds a the enclosing set of tripple quotes. This means we can do linebreaks within the string to make it more readable since we don't want the entire string on one line. Take this example:"
   ]
  },
  {
   "cell_type": "code",
   "execution_count": 28,
   "metadata": {
    "hidden": true
   },
   "outputs": [],
   "source": [
    "# This isn't very readable...\n",
    "single_quotes = \"This is a long string. This is a long string. This is a long string. This is a long string. This is a long string. This is a long string. This is a long string. This is a long string. \"\n",
    "\n",
    "# ...compared to this:\n",
    "tripple_quotes = \"\"\"\n",
    "This is a long string. \n",
    "This is a long string. \n",
    "This is a long string. \n",
    "This is a long string. \n",
    "This is a long string. \n",
    "This is a long string. \n",
    "This is a long string. \n",
    "This is a long string. \n",
    "\"\"\""
   ]
  },
  {
   "cell_type": "markdown",
   "metadata": {
    "hidden": true
   },
   "source": [
    "As you can see, the same string is a lot more readable using the `\"\"\"`. We should always try to make the code more readable (more on this in section 3.5), and as a general guidance: **never write lines of code that are longer than 70 characters**. The string value assigned to `single_quotes` is thus to long, and the `tripple_quotes` string value is much more readable.\n",
    "\n",
    "\n",
    "However, _they are not the same string._ The reason is because we did linebreaks in the second one. The difference becomes apparent if we print the two variables:"
   ]
  },
  {
   "cell_type": "code",
   "execution_count": 13,
   "metadata": {
    "hidden": true
   },
   "outputs": [
    {
     "name": "stdout",
     "output_type": "stream",
     "text": [
      "This is a long string. This is a long string. This is a long string. This is a long string. This is a long string. This is a long string. This is a long string. This is a long string. \n"
     ]
    }
   ],
   "source": [
    "print(single_quotes)"
   ]
  },
  {
   "cell_type": "code",
   "execution_count": 14,
   "metadata": {
    "hidden": true
   },
   "outputs": [
    {
     "name": "stdout",
     "output_type": "stream",
     "text": [
      "\n",
      "This is a long string. \n",
      "This is a long string. \n",
      "This is a long string. \n",
      "This is a long string. \n",
      "This is a long string. \n",
      "This is a long string. \n",
      "This is a long string. \n",
      "This is a long string. \n",
      "\n"
     ]
    }
   ],
   "source": [
    "print(tripple_quotes)"
   ]
  },
  {
   "cell_type": "markdown",
   "metadata": {
    "heading_collapsed": true,
    "hidden": true
   },
   "source": [
    "##### String literals and the backslash `\\`"
   ]
  },
  {
   "cell_type": "markdown",
   "metadata": {
    "hidden": true
   },
   "source": [
    "If we want a more readable code using tripple quotes, but don't want to include any linebreak characters, we can use the backslash `\\` character. This is a special character that lets us escape so called **string literals**. [There are a handful that you can use](https://docs.python.org/2.0/ref/strings.html), and they help us format strings in different ways. I won't go through them all here, but we've already covered one – the newline string literal `\\n`: \n",
    "\n"
   ]
  },
  {
   "cell_type": "code",
   "execution_count": 51,
   "metadata": {
    "hidden": true
   },
   "outputs": [
    {
     "name": "stdout",
     "output_type": "stream",
     "text": [
      "Hello\n",
      "world!\n"
     ]
    }
   ],
   "source": [
    "print(\"Hello\\nworld!\") # \\n means \"insert newline\""
   ]
  },
  {
   "cell_type": "markdown",
   "metadata": {
    "hidden": true
   },
   "source": [
    "Also, the horisontal tab `\\t`:"
   ]
  },
  {
   "cell_type": "code",
   "execution_count": 52,
   "metadata": {
    "hidden": true
   },
   "outputs": [
    {
     "name": "stdout",
     "output_type": "stream",
     "text": [
      "Hello\tworld!\n"
     ]
    }
   ],
   "source": [
    "print(\"Hello\\tworld!\")"
   ]
  },
  {
   "cell_type": "markdown",
   "metadata": {
    "hidden": true
   },
   "source": [
    "The newline string literal is actually inserted in tripple quote strings every time we press <kbd>Enter ↵</kbd> within our string quotes:"
   ]
  },
  {
   "cell_type": "code",
   "execution_count": 53,
   "metadata": {
    "hidden": true
   },
   "outputs": [
    {
     "data": {
      "text/plain": [
       "'\\n'"
      ]
     },
     "execution_count": 53,
     "metadata": {},
     "output_type": "execute_result"
    }
   ],
   "source": [
    "\"\"\"\n",
    "\"\"\""
   ]
  },
  {
   "cell_type": "markdown",
   "metadata": {
    "hidden": true
   },
   "source": [
    "So, back to the example we had in the variable `tripple_quotes`, we actually included the newline `\\n` in the string on every row:"
   ]
  },
  {
   "cell_type": "code",
   "execution_count": 54,
   "metadata": {
    "hidden": true
   },
   "outputs": [],
   "source": [
    "tripple_quotes = \"\"\"\n",
    "This is a long string. \n",
    "This is a long string. \n",
    "This is a long string. \n",
    "This is a long string. \n",
    "This is a long string. \n",
    "This is a long string. \n",
    "This is a long string. \n",
    "This is a long string. \n",
    "\"\"\""
   ]
  },
  {
   "cell_type": "code",
   "execution_count": 55,
   "metadata": {
    "hidden": true
   },
   "outputs": [
    {
     "data": {
      "text/plain": [
       "'\\nThis is a long string. \\nThis is a long string. \\nThis is a long string. \\nThis is a long string. \\nThis is a long string. \\nThis is a long string. \\nThis is a long string. \\nThis is a long string. \\n'"
      ]
     },
     "execution_count": 55,
     "metadata": {},
     "output_type": "execute_result"
    }
   ],
   "source": [
    "tripple_quotes"
   ]
  },
  {
   "cell_type": "markdown",
   "metadata": {
    "hidden": true
   },
   "source": [
    "The `tripple_quotes` string value is actually the same as writing:"
   ]
  },
  {
   "cell_type": "code",
   "execution_count": 56,
   "metadata": {
    "hidden": true
   },
   "outputs": [],
   "source": [
    "single_quotes_linebreaks = \"\\nThis is a long string. \\nThis is a long string. \\nThis is a long string. \\nThis is a long string. \\nThis is a long string. \\nThis is a long string. \\nThis is a long string. \\nThis is a long string. \\n\""
   ]
  },
  {
   "cell_type": "markdown",
   "metadata": {
    "hidden": true
   },
   "source": [
    "This means that if we were aiming to rewrite the variable `single_quotes` with `\"\"\"`, we failed, since it is a different string value:"
   ]
  },
  {
   "cell_type": "code",
   "execution_count": 59,
   "metadata": {
    "hidden": true
   },
   "outputs": [],
   "source": [
    "single_quotes = \"This is a long string. This is a long string. This is a long string. This is a long string. This is a long string. This is a long string. This is a long string. This is a long string. \""
   ]
  },
  {
   "cell_type": "code",
   "execution_count": 60,
   "metadata": {
    "hidden": true
   },
   "outputs": [
    {
     "data": {
      "text/plain": [
       "'This is a long string. This is a long string. This is a long string. This is a long string. This is a long string. This is a long string. This is a long string. This is a long string. '"
      ]
     },
     "execution_count": 60,
     "metadata": {},
     "output_type": "execute_result"
    }
   ],
   "source": [
    "single_quotes"
   ]
  },
  {
   "cell_type": "code",
   "execution_count": 62,
   "metadata": {
    "hidden": true
   },
   "outputs": [
    {
     "data": {
      "text/plain": [
       "'\\nThis is a long string. \\nThis is a long string. \\nThis is a long string. \\nThis is a long string. \\nThis is a long string. \\nThis is a long string. \\nThis is a long string. \\nThis is a long string. \\n'"
      ]
     },
     "execution_count": 62,
     "metadata": {},
     "output_type": "execute_result"
    }
   ],
   "source": [
    "single_quotes_linebreaks"
   ]
  },
  {
   "cell_type": "markdown",
   "metadata": {
    "hidden": true
   },
   "source": [
    "Using a comparison operator (more on these in the next chapter, they return True if values on each side are the same), we can see that they are not the same value:"
   ]
  },
  {
   "cell_type": "code",
   "execution_count": 63,
   "metadata": {
    "hidden": true
   },
   "outputs": [
    {
     "data": {
      "text/plain": [
       "False"
      ]
     },
     "execution_count": 63,
     "metadata": {},
     "output_type": "execute_result"
    }
   ],
   "source": [
    "single_quotes == single_quotes_linebreaks"
   ]
  },
  {
   "cell_type": "markdown",
   "metadata": {
    "hidden": true
   },
   "source": [
    "However, we can nullify string literals by using the escape character, the backslash `\\`:"
   ]
  },
  {
   "cell_type": "code",
   "execution_count": 64,
   "metadata": {
    "hidden": true
   },
   "outputs": [
    {
     "data": {
      "text/plain": [
       "''"
      ]
     },
     "execution_count": 64,
     "metadata": {},
     "output_type": "execute_result"
    }
   ],
   "source": [
    "\"\"\"\\\n",
    "\"\"\""
   ]
  },
  {
   "cell_type": "markdown",
   "metadata": {
    "hidden": true
   },
   "source": [
    "Using the backslash, we can still use tripple quotes, and get the same value! It is handy while working with long string values – to increase readability while at the same time tell the interpreter which linebreaks that should include newline characters. In this case, we can escape all newlines to get `tripple_quotes` and `single_quotes` to produce the same exact string value.\n",
    "\n",
    "So, if we want Using the `\\` character:"
   ]
  },
  {
   "cell_type": "code",
   "execution_count": 65,
   "metadata": {
    "hidden": true
   },
   "outputs": [],
   "source": [
    "tripple_quotes = \"\"\"\\\n",
    "This is a long string. \\\n",
    "This is a long string. \\\n",
    "This is a long string. \\\n",
    "This is a long string. \\\n",
    "This is a long string. \\\n",
    "This is a long string. \\\n",
    "This is a long string. \\\n",
    "This is a long string. \\\n",
    "\"\"\""
   ]
  },
  {
   "cell_type": "code",
   "execution_count": 66,
   "metadata": {
    "hidden": true,
    "scrolled": true
   },
   "outputs": [
    {
     "name": "stdout",
     "output_type": "stream",
     "text": [
      "This is a long string. This is a long string. This is a long string. This is a long string. This is a long string. This is a long string. This is a long string. This is a long string. \n"
     ]
    }
   ],
   "source": [
    "print(tripple_quotes)"
   ]
  },
  {
   "cell_type": "code",
   "execution_count": 68,
   "metadata": {
    "hidden": true
   },
   "outputs": [
    {
     "data": {
      "text/plain": [
       "True"
      ]
     },
     "execution_count": 68,
     "metadata": {},
     "output_type": "execute_result"
    }
   ],
   "source": [
    "tripple_quotes == single_quotes # tada!"
   ]
  },
  {
   "cell_type": "markdown",
   "metadata": {
    "hidden": true
   },
   "source": [
    "The mixture of tripple quotes and the `\\` character is more for situations where you want one passage in the string to remain on one line, while some other parts of the same string value should be including newline characters. Take this example:"
   ]
  },
  {
   "cell_type": "code",
   "execution_count": 69,
   "metadata": {
    "hidden": true
   },
   "outputs": [],
   "source": [
    "long_string = \"\"\"\n",
    "This is one long sentence, with a lot of words, \\\n",
    "that I still want to be kept in one long sentence; \\\n",
    "but since it is rather long I will need to cut it \\\n",
    "up to increase readability.\n",
    "\n",
    "This, however, is a list within the string, \\\n",
    "and here I WANT linebreaks:\n",
    "\n",
    "- First item\n",
    "- Second item\n",
    "- Third item\n",
    "etc...\n",
    "\n",
    "\"\"\""
   ]
  },
  {
   "cell_type": "code",
   "execution_count": 70,
   "metadata": {
    "hidden": true
   },
   "outputs": [
    {
     "name": "stdout",
     "output_type": "stream",
     "text": [
      "\n",
      "This is one long sentence, with a lot of words, that I still want to be kept in one long sentence; but since it is rather long I will need to cut it up to increase readability.\n",
      "\n",
      "This, however, is a list within the string, and here I WANT linebreaks:\n",
      "\n",
      "- First item\n",
      "- Second item\n",
      "- Third item\n",
      "etc...\n",
      "\n",
      "\n"
     ]
    }
   ],
   "source": [
    "print(long_string)"
   ]
  },
  {
   "cell_type": "markdown",
   "metadata": {
    "heading_collapsed": true,
    "hidden": true
   },
   "source": [
    "##### Exercise – write a letter!"
   ]
  },
  {
   "cell_type": "markdown",
   "metadata": {
    "hidden": true
   },
   "source": [
    "In this exercise, you will need to reformat the following text (it is a grocery list) so that it gets printed in  the correct manner. You will also need to heed of the rule to not have any line of code longer than ~70 characters. The parts enclosed within `<>` shall be replaced by whatever is instructed using variables and string formatting! "
   ]
  },
  {
   "cell_type": "markdown",
   "metadata": {
    "hidden": true
   },
   "source": [
    "Here's the letter with the grocery list:"
   ]
  },
  {
   "cell_type": "code",
   "execution_count": 44,
   "metadata": {
    "hidden": true
   },
   "outputs": [],
   "source": [
    "grocery_list = \"Hi <receiver>! All ingredients are necessary, \\\n",
    "so please don't forget any item in the list. Also, you know I love \\\n",
    "a little snack after dinner, so please get something you know I \\\n",
    "love – like <nice_treat>. Please hurry, I am starving! - Milk - \\\n",
    "Spinach - Strawberry jam - Spam - Whole cream - Cat food Remember \\\n",
    "that we have loads of credits to spend. We need to save up some \\\n",
    "money for our dream vacation next year. I am soooo looking forward \\\n",
    "to travel to <destination>. That is, if the virus ever would let us go :( Love, \\\n",
    "<your_name>\""
   ]
  },
  {
   "cell_type": "code",
   "execution_count": 45,
   "metadata": {
    "hidden": true
   },
   "outputs": [
    {
     "name": "stdout",
     "output_type": "stream",
     "text": [
      "Hi <receiver>! All ingredients are necessary, so please don't forget any item in the list. Also, you know I love a little snack after dinner, so please get something you know I love – like <nice_treat>. Please hurry, I am starving! - Milk - Spinach - Strawberry jam - Spam - Whole cream - Cat food Remember that we have loads of credits to spend. We need to save up some money for our dream vacation next year. I am soooo looking forward to travel to <destination>. That is, if the virus ever would let us go :( Love, <your_name>\n"
     ]
    }
   ],
   "source": [
    "print(grocery_list)"
   ]
  },
  {
   "cell_type": "markdown",
   "metadata": {
    "hidden": true
   },
   "source": [
    "At the moment, it is on one single line. You will need to format it using these variables and string formatting:"
   ]
  },
  {
   "cell_type": "code",
   "execution_count": 46,
   "metadata": {
    "hidden": true
   },
   "outputs": [],
   "source": [
    "receiver = \"\"\n",
    "nice_treat = \"\"\n",
    "destination = \"\"\n",
    "your_name = \"\""
   ]
  },
  {
   "cell_type": "markdown",
   "metadata": {
    "hidden": true
   },
   "source": [
    "Here's how it should look:"
   ]
  },
  {
   "cell_type": "code",
   "execution_count": 48,
   "metadata": {
    "hidden": true
   },
   "outputs": [
    {
     "name": "stdout",
     "output_type": "stream",
     "text": [
      "\n",
      "Hi Mom!\n",
      "\n",
      "All ingredients are necessary, so please don't forget any item in the list. Also, you know I love a little snack after dinner, so please get something you know I love – like Ben & Jerrie's ice cream. Please hurry, I am starving!\n",
      "\n",
      "- Milk\n",
      "- Spinach\n",
      "- Strawberry jam\n",
      "- Spam\n",
      "- Whole cream\n",
      "- Cat food\n",
      "\n",
      "Remember that we have loads of credits to spend. We need to save up some money for our dream vacation next year. I am soooo looking forward to travel to Paris. That is, if the virus ever would let us go :(\n",
      "\n",
      "Love,\n",
      "\n",
      "Johan\n",
      "\n"
     ]
    }
   ],
   "source": [
    "# DON'T RUN THIS CELL"
   ]
  },
  {
   "cell_type": "markdown",
   "metadata": {
    "hidden": true
   },
   "source": [
    "Remember that you can use string formatting on tripple quotes strings as well! The solution can be found in the solutions notebook!"
   ]
  },
  {
   "cell_type": "markdown",
   "metadata": {
    "heading_collapsed": true
   },
   "source": [
    "### Changing variables – Operators and assignment statements"
   ]
  },
  {
   "cell_type": "markdown",
   "metadata": {
    "hidden": true
   },
   "source": [
    "Often when coding, we want to change the values of our variables. We _overwrite_ our variable, giving it a new value. This is easily done in python:"
   ]
  },
  {
   "cell_type": "code",
   "execution_count": 67,
   "metadata": {
    "hidden": true
   },
   "outputs": [],
   "source": [
    "number = 3 # assignment statement"
   ]
  },
  {
   "cell_type": "code",
   "execution_count": 68,
   "metadata": {
    "hidden": true
   },
   "outputs": [],
   "source": [
    "number = number + 4 # take the variable \"number\" and add 4, reassign the result to the \"number\" variable"
   ]
  },
  {
   "cell_type": "code",
   "execution_count": 69,
   "metadata": {
    "hidden": true
   },
   "outputs": [
    {
     "data": {
      "text/plain": [
       "7"
      ]
     },
     "execution_count": 69,
     "metadata": {},
     "output_type": "execute_result"
    }
   ],
   "source": [
    "number # \"number\" is now 7 (3 + 4 = 7)"
   ]
  },
  {
   "cell_type": "markdown",
   "metadata": {
    "hidden": true
   },
   "source": [
    "#### Augmented assignment operators"
   ]
  },
  {
   "cell_type": "markdown",
   "metadata": {
    "hidden": true
   },
   "source": [
    "When using `=`, the python interpreter will evaluate the expression to the right of the assignment operator first. Then it will assign the returned value to the namespace written to the left of the `=` (`number`). This is how you reassign, or overwrite, your variables. \n",
    "\n",
    "But you can also use the assignment, AND the addition operator in one go using the addition statement `+=`. This is called an **augmented assigment operator**, it uses the operator on the variable _while also assigning the result to the variable_. Take this example:"
   ]
  },
  {
   "cell_type": "code",
   "execution_count": 70,
   "metadata": {
    "hidden": true,
    "jupyter": {
     "outputs_hidden": true
    }
   },
   "outputs": [],
   "source": [
    "number = 3"
   ]
  },
  {
   "cell_type": "code",
   "execution_count": 90,
   "metadata": {
    "hidden": true,
    "jupyter": {
     "outputs_hidden": true
    }
   },
   "outputs": [],
   "source": [
    "number += 4 # '+=' is syntax for \"add the value to the right to the variable name to the left\""
   ]
  },
  {
   "cell_type": "code",
   "execution_count": 72,
   "metadata": {
    "hidden": true,
    "jupyter": {
     "outputs_hidden": true
    }
   },
   "outputs": [
    {
     "data": {
      "text/plain": [
       "7"
      ]
     },
     "execution_count": 72,
     "metadata": {},
     "output_type": "execute_result"
    }
   ],
   "source": [
    "number"
   ]
  },
  {
   "cell_type": "markdown",
   "metadata": {
    "hidden": true
   },
   "source": [
    "The same can be done with subtraction, multiplication and division:"
   ]
  },
  {
   "cell_type": "code",
   "execution_count": 73,
   "metadata": {
    "hidden": true,
    "jupyter": {
     "outputs_hidden": true
    }
   },
   "outputs": [],
   "source": [
    "number -= 1"
   ]
  },
  {
   "cell_type": "code",
   "execution_count": 74,
   "metadata": {
    "hidden": true,
    "jupyter": {
     "outputs_hidden": true
    }
   },
   "outputs": [
    {
     "data": {
      "text/plain": [
       "6"
      ]
     },
     "execution_count": 74,
     "metadata": {},
     "output_type": "execute_result"
    }
   ],
   "source": [
    "number"
   ]
  },
  {
   "cell_type": "code",
   "execution_count": 75,
   "metadata": {
    "hidden": true,
    "jupyter": {
     "outputs_hidden": true
    }
   },
   "outputs": [],
   "source": [
    "number *= 5"
   ]
  },
  {
   "cell_type": "code",
   "execution_count": 76,
   "metadata": {
    "hidden": true,
    "jupyter": {
     "outputs_hidden": true
    }
   },
   "outputs": [
    {
     "data": {
      "text/plain": [
       "30"
      ]
     },
     "execution_count": 76,
     "metadata": {},
     "output_type": "execute_result"
    }
   ],
   "source": [
    "number"
   ]
  },
  {
   "cell_type": "code",
   "execution_count": 77,
   "metadata": {
    "hidden": true
   },
   "outputs": [],
   "source": [
    "number /= 3"
   ]
  },
  {
   "cell_type": "code",
   "execution_count": 78,
   "metadata": {
    "hidden": true
   },
   "outputs": [
    {
     "data": {
      "text/plain": [
       "10.0"
      ]
     },
     "execution_count": 78,
     "metadata": {},
     "output_type": "execute_result"
    }
   ],
   "source": [
    "number"
   ]
  },
  {
   "cell_type": "markdown",
   "metadata": {
    "heading_collapsed": true
   },
   "source": [
    "### Multiple assignment statements"
   ]
  },
  {
   "cell_type": "markdown",
   "metadata": {
    "hidden": true
   },
   "source": [
    "In Python, let's say we want to create four variables with different values. This is boring and tedious to type out:"
   ]
  },
  {
   "cell_type": "code",
   "execution_count": 10,
   "metadata": {
    "hidden": true
   },
   "outputs": [],
   "source": [
    "one = 42\n",
    "two = \"Johan\"\n",
    "three = True\n",
    "four = \"elephant\""
   ]
  },
  {
   "cell_type": "code",
   "execution_count": 11,
   "metadata": {
    "hidden": true
   },
   "outputs": [
    {
     "data": {
      "text/plain": [
       "42"
      ]
     },
     "execution_count": 11,
     "metadata": {},
     "output_type": "execute_result"
    }
   ],
   "source": [
    "one"
   ]
  },
  {
   "cell_type": "code",
   "execution_count": 12,
   "metadata": {
    "hidden": true
   },
   "outputs": [
    {
     "data": {
      "text/plain": [
       "'elephant'"
      ]
     },
     "execution_count": 12,
     "metadata": {},
     "output_type": "execute_result"
    }
   ],
   "source": [
    "four"
   ]
  },
  {
   "cell_type": "markdown",
   "metadata": {
    "hidden": true
   },
   "source": [
    "Luckilly, this can be written in one single line of code, with a single `=`. We just pass the variable names to the left of the assignment operator – seperated by commas – and the values to the right – seperated by commas – in the order we want the values assigned:"
   ]
  },
  {
   "cell_type": "code",
   "execution_count": 13,
   "metadata": {
    "hidden": true
   },
   "outputs": [],
   "source": [
    "one, two, three, four = 42, \"Johan\", True, \"elephant\""
   ]
  },
  {
   "cell_type": "code",
   "execution_count": 14,
   "metadata": {
    "hidden": true
   },
   "outputs": [
    {
     "data": {
      "text/plain": [
       "42"
      ]
     },
     "execution_count": 14,
     "metadata": {},
     "output_type": "execute_result"
    }
   ],
   "source": [
    "one"
   ]
  },
  {
   "cell_type": "code",
   "execution_count": 15,
   "metadata": {
    "hidden": true
   },
   "outputs": [
    {
     "data": {
      "text/plain": [
       "'Johan'"
      ]
     },
     "execution_count": 15,
     "metadata": {},
     "output_type": "execute_result"
    }
   ],
   "source": [
    "two"
   ]
  },
  {
   "cell_type": "code",
   "execution_count": 16,
   "metadata": {
    "hidden": true
   },
   "outputs": [
    {
     "data": {
      "text/plain": [
       "True"
      ]
     },
     "execution_count": 16,
     "metadata": {},
     "output_type": "execute_result"
    }
   ],
   "source": [
    "three"
   ]
  },
  {
   "cell_type": "code",
   "execution_count": 17,
   "metadata": {
    "hidden": true
   },
   "outputs": [
    {
     "data": {
      "text/plain": [
       "'elephant'"
      ]
     },
     "execution_count": 17,
     "metadata": {},
     "output_type": "execute_result"
    }
   ],
   "source": [
    "four"
   ]
  },
  {
   "cell_type": "markdown",
   "metadata": {
    "heading_collapsed": true
   },
   "source": [
    "### (Optional) More about readability – the zen of Python"
   ]
  },
  {
   "cell_type": "markdown",
   "metadata": {
    "hidden": true
   },
   "source": [
    "Earlier, we talked about naming variables in a logical and transparent manner. We should name our variables making it easier to understand what values they may hold. This is important – it makes your code more readable. Readability is a very important aspect of writing Python. \n",
    "\n",
    "The reason for this is quite simple: **as a person working with coding, you will read a lot of code.** Returning to old projects for example, what code does what and where in your program? If you learn early on to make your code more readable, you will save eons of time later on!\n",
    "\n",
    "The Python community will sometimes refer to what is called [_the zen of python_](https://www.python.org/dev/peps/pep-0020/). This is the general \"rules\" that should guide you when you code. These are the first seven lines in it:\n",
    "\n",
    "```\n",
    "Beautiful is better than ugly.\n",
    "Explicit is better than implicit.\n",
    "Simple is better than complex.\n",
    "Complex is better than complicated.\n",
    "Flat is better than nested.\n",
    "Sparse is better than dense.\n",
    "Readability counts.\n",
    "```\n",
    "\n",
    "This is a bit abstract, but it is words that is good to keep in mind going forward. There are many concrete ways to write more readable code. For example, use white space (blank space) in your expressions:"
   ]
  },
  {
   "cell_type": "code",
   "execution_count": 86,
   "metadata": {
    "hidden": true
   },
   "outputs": [
    {
     "data": {
      "text/plain": [
       "4"
      ]
     },
     "execution_count": 86,
     "metadata": {},
     "output_type": "execute_result"
    }
   ],
   "source": [
    "2 + 2 # zen-like"
   ]
  },
  {
   "cell_type": "code",
   "execution_count": 87,
   "metadata": {
    "hidden": true
   },
   "outputs": [
    {
     "data": {
      "text/plain": [
       "4"
      ]
     },
     "execution_count": 87,
     "metadata": {},
     "output_type": "execute_result"
    }
   ],
   "source": [
    "2+2 # this is less readable – therefore, don't! :)"
   ]
  },
  {
   "cell_type": "markdown",
   "metadata": {
    "hidden": true
   },
   "source": [
    "Or, in your assignment statement:"
   ]
  },
  {
   "cell_type": "code",
   "execution_count": 88,
   "metadata": {
    "hidden": true
   },
   "outputs": [],
   "source": [
    "num=2 # don't\n",
    "num = 2 # do!"
   ]
  },
  {
   "cell_type": "markdown",
   "metadata": {
    "hidden": true
   },
   "source": [
    "For more on how to write readable python code, [check out this link!](https://docs.python-guide.org/writing/style/)"
   ]
  },
  {
   "cell_type": "markdown",
   "metadata": {
    "heading_collapsed": true
   },
   "source": [
    "### Exercise – string concatination and variables"
   ]
  },
  {
   "cell_type": "markdown",
   "metadata": {
    "hidden": true
   },
   "source": [
    "In this exercise, I want you to assign these seven string values to one variable each:\n",
    "- `\"was\"`\n",
    "- `\"the\"`\n",
    "- `\"on\"`\n",
    "- `\"cat\"`\n",
    "- `\"mat\"`\n",
    "- `\"inside\"`\n",
    "- `\"hat\"`\n",
    "\n",
    "Using these variables, use string concatination to produce these three sentences:\n",
    "1. \"cat was inside the hat on the mat\"\n",
    "2. \"hat was inside the cat on the mat\"\n",
    "3. \"mat was inside the hat on the cat\"\n",
    "\n",
    "You can add blank spaces to the strings if you'd like.\n",
    "\n",
    "When assigning your variables, try to use a multiple assignment statement.\n",
    "\n",
    "The solutions is found in the solutions notebook (there is more than one!"
   ]
  },
  {
   "cell_type": "markdown",
   "metadata": {
    "hidden": true
   },
   "source": [
    "---"
   ]
  },
  {
   "cell_type": "markdown",
   "metadata": {},
   "source": [
    "## Comparing values"
   ]
  },
  {
   "cell_type": "markdown",
   "metadata": {
    "heading_collapsed": true
   },
   "source": [
    "### Comparison operators"
   ]
  },
  {
   "cell_type": "markdown",
   "metadata": {
    "hidden": true
   },
   "source": [
    "In section 1, we briefly covered the boolean values. In code, we often want to check if something is true or false. \n",
    "\n",
    "Let's say we want to write a program that functions as an alarm that lets us know if our workday is over. The program would then have to check the time, and then see if the present time is past five o'clock. If so, it alarms us that the work day is over. If not, it does nothing. Lets put this down in writing:\n",
    "\n",
    "Program workflow:\n",
    "```\n",
    "1. Check time\n",
    "2. See if time is past 17.00 (either true/false)\n",
    "3. If true -> alarm us! If false -> do nothing\n",
    "4. Terminate program\n",
    "```\n",
    "In such a program, we need an operator that can compare values. In our case, compare present time with the end of our workday (17.00). This is when we use a **comparison operator**! These are:\n",
    "\n",
    "```\n",
    "COMPARISON OPERATORS\n",
    "\n",
    "    ==   Equal to\n",
    "    !=   Not equal to\n",
    "    <    Less than\n",
    "    >    Greater than\n",
    "    <=   Less than or equal to\n",
    "    >=   Greater than or equal to\n",
    "```\n",
    "Expressions with comparison operators always return a boolean value:"
   ]
  },
  {
   "cell_type": "code",
   "execution_count": 99,
   "metadata": {
    "hidden": true
   },
   "outputs": [
    {
     "data": {
      "text/plain": [
       "True"
      ]
     },
     "execution_count": 99,
     "metadata": {},
     "output_type": "execute_result"
    }
   ],
   "source": [
    "3 == 3 # 3 is equal to 3"
   ]
  },
  {
   "cell_type": "code",
   "execution_count": 100,
   "metadata": {
    "hidden": true
   },
   "outputs": [
    {
     "data": {
      "text/plain": [
       "False"
      ]
     },
     "execution_count": 100,
     "metadata": {},
     "output_type": "execute_result"
    }
   ],
   "source": [
    "3 == 4 # 3 is not equal to 4"
   ]
  },
  {
   "cell_type": "code",
   "execution_count": 103,
   "metadata": {
    "hidden": true
   },
   "outputs": [
    {
     "data": {
      "text/plain": [
       "True"
      ]
     },
     "execution_count": 103,
     "metadata": {},
     "output_type": "execute_result"
    }
   ],
   "source": [
    "3 <= 3 # 3 is less than or equal to 3"
   ]
  },
  {
   "cell_type": "code",
   "execution_count": 101,
   "metadata": {
    "hidden": true
   },
   "outputs": [
    {
     "data": {
      "text/plain": [
       "True"
      ]
     },
     "execution_count": 101,
     "metadata": {},
     "output_type": "execute_result"
    }
   ],
   "source": [
    "3 <= 4 # 3 is less than or equal to 4"
   ]
  },
  {
   "cell_type": "code",
   "execution_count": 18,
   "metadata": {
    "hidden": true
   },
   "outputs": [
    {
     "data": {
      "text/plain": [
       "False"
      ]
     },
     "execution_count": 18,
     "metadata": {},
     "output_type": "execute_result"
    }
   ],
   "source": [
    "3 >= 4 # 3 is not greater than or equal to 4"
   ]
  },
  {
   "cell_type": "markdown",
   "metadata": {
    "hidden": true
   },
   "source": [
    "Note that comparison operators _checks for value types_. This means that:"
   ]
  },
  {
   "cell_type": "code",
   "execution_count": 108,
   "metadata": {
    "hidden": true
   },
   "outputs": [
    {
     "data": {
      "text/plain": [
       "False"
      ]
     },
     "execution_count": 108,
     "metadata": {},
     "output_type": "execute_result"
    }
   ],
   "source": [
    "3 == \"3\""
   ]
  },
  {
   "cell_type": "markdown",
   "metadata": {
    "hidden": true
   },
   "source": [
    "...since `3` is an integer and `\"3\"` is a string. However, integers and floats can be equal to eachother:"
   ]
  },
  {
   "cell_type": "code",
   "execution_count": 109,
   "metadata": {
    "hidden": true
   },
   "outputs": [
    {
     "data": {
      "text/plain": [
       "True"
      ]
     },
     "execution_count": 109,
     "metadata": {},
     "output_type": "execute_result"
    }
   ],
   "source": [
    "3.0 == 3"
   ]
  },
  {
   "cell_type": "markdown",
   "metadata": {
    "hidden": true
   },
   "source": [
    "Comparison operators can, of course, also be used to check variables:"
   ]
  },
  {
   "cell_type": "code",
   "execution_count": 105,
   "metadata": {
    "hidden": true
   },
   "outputs": [],
   "source": [
    "my_name = \"Johan\""
   ]
  },
  {
   "cell_type": "code",
   "execution_count": 106,
   "metadata": {
    "hidden": true
   },
   "outputs": [
    {
     "data": {
      "text/plain": [
       "False"
      ]
     },
     "execution_count": 106,
     "metadata": {},
     "output_type": "execute_result"
    }
   ],
   "source": [
    "my_name == 'Pete'"
   ]
  },
  {
   "cell_type": "markdown",
   "metadata": {
    "hidden": true
   },
   "source": [
    "Above, please note that the first cell `my_name = \"Johan\"` has _one_ assignment operator. This is an assignment statement where we create our variable. The second cell has _two_ assignment operators – hence, a comparison operator."
   ]
  },
  {
   "cell_type": "markdown",
   "metadata": {},
   "source": [
    "### Boolean operators"
   ]
  },
  {
   "cell_type": "markdown",
   "metadata": {},
   "source": [
    "There are also three boolean operators: `and`, `or` and `not`. These let's us evaluate two or more booleans into one boolean value. Since we often need to take more things into consideration than something _only_ being true or false, these operators are essential when coding. Programs and scripts often need to handle ambigious situations, making them unambigious :)\n",
    "\n",
    "Consider our earlier example, our workday alarm program. Let's say the workday starts at 9.00 in the morning and we want to check if the present time is during work hours or not. If so, we can use a boolean operator: is the present time after 09.00 _AND_ before 17.00?"
   ]
  },
  {
   "cell_type": "markdown",
   "metadata": {
    "heading_collapsed": true
   },
   "source": [
    "#### The `and` operator"
   ]
  },
  {
   "cell_type": "markdown",
   "metadata": {
    "hidden": true
   },
   "source": [
    "Let's first look at the `and` operator. The `and` operator returns `False` if the two expressions to its left and to its right doesn't _both_ evaluate to True:"
   ]
  },
  {
   "cell_type": "code",
   "execution_count": 112,
   "metadata": {
    "hidden": true
   },
   "outputs": [
    {
     "data": {
      "text/plain": [
       "False"
      ]
     },
     "execution_count": 112,
     "metadata": {},
     "output_type": "execute_result"
    }
   ],
   "source": [
    "True and False"
   ]
  },
  {
   "cell_type": "code",
   "execution_count": 113,
   "metadata": {
    "hidden": true
   },
   "outputs": [
    {
     "data": {
      "text/plain": [
       "True"
      ]
     },
     "execution_count": 113,
     "metadata": {},
     "output_type": "execute_result"
    }
   ],
   "source": [
    "True and True"
   ]
  },
  {
   "cell_type": "code",
   "execution_count": 118,
   "metadata": {
    "hidden": true
   },
   "outputs": [
    {
     "data": {
      "text/plain": [
       "False"
      ]
     },
     "execution_count": 118,
     "metadata": {},
     "output_type": "execute_result"
    }
   ],
   "source": [
    "False and False"
   ]
  },
  {
   "cell_type": "code",
   "execution_count": 126,
   "metadata": {
    "hidden": true
   },
   "outputs": [
    {
     "data": {
      "text/plain": [
       "True"
      ]
     },
     "execution_count": 126,
     "metadata": {},
     "output_type": "execute_result"
    }
   ],
   "source": [
    "1 == 1 and 4 == 4"
   ]
  },
  {
   "cell_type": "code",
   "execution_count": 127,
   "metadata": {
    "hidden": true
   },
   "outputs": [
    {
     "data": {
      "text/plain": [
       "False"
      ]
     },
     "execution_count": 127,
     "metadata": {},
     "output_type": "execute_result"
    }
   ],
   "source": [
    "1 == 2 and 4 == 4"
   ]
  },
  {
   "cell_type": "code",
   "execution_count": 128,
   "metadata": {
    "hidden": true
   },
   "outputs": [
    {
     "data": {
      "text/plain": [
       "False"
      ]
     },
     "execution_count": 128,
     "metadata": {},
     "output_type": "execute_result"
    }
   ],
   "source": [
    "1 == 2 and 4 == 5"
   ]
  },
  {
   "cell_type": "markdown",
   "metadata": {
    "hidden": true
   },
   "source": [
    "In other words, the `and` operator will always evaluate to `False` if not both expressions are `True`."
   ]
  },
  {
   "cell_type": "markdown",
   "metadata": {
    "heading_collapsed": true
   },
   "source": [
    "#### The `or` operator"
   ]
  },
  {
   "cell_type": "markdown",
   "metadata": {
    "hidden": true
   },
   "source": [
    "If we instead use the `or` operator, it will return `True` if either expressions are true:"
   ]
  },
  {
   "cell_type": "code",
   "execution_count": 120,
   "metadata": {
    "hidden": true
   },
   "outputs": [
    {
     "data": {
      "text/plain": [
       "True"
      ]
     },
     "execution_count": 120,
     "metadata": {},
     "output_type": "execute_result"
    }
   ],
   "source": [
    "True or False"
   ]
  },
  {
   "cell_type": "code",
   "execution_count": 122,
   "metadata": {
    "hidden": true
   },
   "outputs": [
    {
     "data": {
      "text/plain": [
       "True"
      ]
     },
     "execution_count": 122,
     "metadata": {},
     "output_type": "execute_result"
    }
   ],
   "source": [
    "1 == 2 or 4 == 4"
   ]
  },
  {
   "cell_type": "code",
   "execution_count": 123,
   "metadata": {
    "hidden": true
   },
   "outputs": [
    {
     "data": {
      "text/plain": [
       "False"
      ]
     },
     "execution_count": 123,
     "metadata": {},
     "output_type": "execute_result"
    }
   ],
   "source": [
    "False or False"
   ]
  },
  {
   "cell_type": "code",
   "execution_count": 124,
   "metadata": {
    "hidden": true
   },
   "outputs": [
    {
     "data": {
      "text/plain": [
       "False"
      ]
     },
     "execution_count": 124,
     "metadata": {},
     "output_type": "execute_result"
    }
   ],
   "source": [
    "1 == 2 or 4 == 5"
   ]
  },
  {
   "cell_type": "markdown",
   "metadata": {
    "heading_collapsed": true
   },
   "source": [
    "#### The `not` operator"
   ]
  },
  {
   "cell_type": "markdown",
   "metadata": {
    "hidden": true
   },
   "source": [
    "The `not` operator only evalueates on one boolean value, and it always returns its opposite:"
   ]
  },
  {
   "cell_type": "code",
   "execution_count": 129,
   "metadata": {
    "hidden": true
   },
   "outputs": [
    {
     "data": {
      "text/plain": [
       "False"
      ]
     },
     "execution_count": 129,
     "metadata": {},
     "output_type": "execute_result"
    }
   ],
   "source": [
    "not True"
   ]
  },
  {
   "cell_type": "code",
   "execution_count": 130,
   "metadata": {
    "hidden": true
   },
   "outputs": [
    {
     "data": {
      "text/plain": [
       "True"
      ]
     },
     "execution_count": 130,
     "metadata": {},
     "output_type": "execute_result"
    }
   ],
   "source": [
    "not False"
   ]
  },
  {
   "cell_type": "markdown",
   "metadata": {
    "heading_collapsed": true
   },
   "source": [
    "#### Boolean operators – examples"
   ]
  },
  {
   "cell_type": "markdown",
   "metadata": {
    "hidden": true
   },
   "source": [
    "This may look like very abstract concepts, but it makes way more sense if we use them together with variables. Let create some:"
   ]
  },
  {
   "cell_type": "code",
   "execution_count": 131,
   "metadata": {
    "hidden": true
   },
   "outputs": [],
   "source": [
    "name = \"Johan\"\n",
    "nationality = \"Swedish\""
   ]
  },
  {
   "cell_type": "markdown",
   "metadata": {
    "hidden": true
   },
   "source": [
    "Using it together with the `and` operator:"
   ]
  },
  {
   "cell_type": "code",
   "execution_count": 132,
   "metadata": {
    "hidden": true
   },
   "outputs": [
    {
     "data": {
      "text/plain": [
       "True"
      ]
     },
     "execution_count": 132,
     "metadata": {},
     "output_type": "execute_result"
    }
   ],
   "source": [
    "name == \"Johan\" and nationality == \"Swedish\""
   ]
  },
  {
   "cell_type": "code",
   "execution_count": 133,
   "metadata": {
    "hidden": true
   },
   "outputs": [
    {
     "data": {
      "text/plain": [
       "False"
      ]
     },
     "execution_count": 133,
     "metadata": {},
     "output_type": "execute_result"
    }
   ],
   "source": [
    "name == \"Johan\" and nationality == \"Finish\""
   ]
  },
  {
   "cell_type": "markdown",
   "metadata": {
    "hidden": true
   },
   "source": [
    "The `or` operator:"
   ]
  },
  {
   "cell_type": "code",
   "execution_count": 135,
   "metadata": {
    "hidden": true,
    "scrolled": true
   },
   "outputs": [
    {
     "data": {
      "text/plain": [
       "True"
      ]
     },
     "execution_count": 135,
     "metadata": {},
     "output_type": "execute_result"
    }
   ],
   "source": [
    "name == \"Johan\" or nationality == \"American\""
   ]
  },
  {
   "cell_type": "markdown",
   "metadata": {
    "hidden": true
   },
   "source": [
    "The `not` operator:"
   ]
  },
  {
   "cell_type": "code",
   "execution_count": 137,
   "metadata": {
    "hidden": true
   },
   "outputs": [
    {
     "data": {
      "text/plain": [
       "True"
      ]
     },
     "execution_count": 137,
     "metadata": {},
     "output_type": "execute_result"
    }
   ],
   "source": [
    "not name == \"Pete\""
   ]
  },
  {
   "cell_type": "markdown",
   "metadata": {
    "hidden": true
   },
   "source": [
    "If we return to our alarm program:"
   ]
  },
  {
   "cell_type": "code",
   "execution_count": 138,
   "metadata": {
    "hidden": true
   },
   "outputs": [],
   "source": [
    "presentTime = 12.15"
   ]
  },
  {
   "cell_type": "code",
   "execution_count": 139,
   "metadata": {
    "hidden": true
   },
   "outputs": [
    {
     "data": {
      "text/plain": [
       "True"
      ]
     },
     "execution_count": 139,
     "metadata": {},
     "output_type": "execute_result"
    }
   ],
   "source": [
    "presentTime < 17.00 and presentTime > 9.00"
   ]
  },
  {
   "cell_type": "code",
   "execution_count": 140,
   "metadata": {
    "hidden": true
   },
   "outputs": [],
   "source": [
    "presentTime = 17.15"
   ]
  },
  {
   "cell_type": "code",
   "execution_count": 141,
   "metadata": {
    "hidden": true
   },
   "outputs": [
    {
     "data": {
      "text/plain": [
       "False"
      ]
     },
     "execution_count": 141,
     "metadata": {},
     "output_type": "execute_result"
    }
   ],
   "source": [
    "presentTime < 17.00 and presentTime > 9.00"
   ]
  },
  {
   "cell_type": "markdown",
   "metadata": {},
   "source": [
    "### Exercise – insert the correct operators"
   ]
  },
  {
   "cell_type": "markdown",
   "metadata": {},
   "source": [
    "In this exercise, I want you to uncomment the code. Then, replace the `?` characters with the correct operators so that the `print()` function is executed. In other words, you'll need to change operators so that all comparisons are evaluated to `True`."
   ]
  },
  {
   "cell_type": "code",
   "execution_count": 1,
   "metadata": {},
   "outputs": [],
   "source": [
    "number = 12"
   ]
  },
  {
   "cell_type": "code",
   "execution_count": null,
   "metadata": {},
   "outputs": [],
   "source": [
    "#if number ? 15:\n",
    "#    print(\"Correct!\")"
   ]
  },
  {
   "cell_type": "code",
   "execution_count": 2,
   "metadata": {},
   "outputs": [],
   "source": [
    "#if number ? 5 and number ? -5:\n",
    "#    print(\"Correct!\")"
   ]
  },
  {
   "cell_type": "code",
   "execution_count": null,
   "metadata": {},
   "outputs": [],
   "source": [
    "#if number ? 150 or number ? 25:\n",
    "#    print(\"Correct!\")"
   ]
  },
  {
   "cell_type": "code",
   "execution_count": 3,
   "metadata": {},
   "outputs": [],
   "source": [
    "#if number ? 12:\n",
    "#    print(\"Correct!\")"
   ]
  },
  {
   "cell_type": "code",
   "execution_count": 71,
   "metadata": {},
   "outputs": [],
   "source": [
    "#if number ? \"Hello world!\":\n",
    "#    print(\"Correct!\")"
   ]
  },
  {
   "cell_type": "code",
   "execution_count": null,
   "metadata": {},
   "outputs": [],
   "source": []
  },
  {
   "cell_type": "code",
   "execution_count": null,
   "metadata": {},
   "outputs": [],
   "source": []
  },
  {
   "cell_type": "code",
   "execution_count": null,
   "metadata": {},
   "outputs": [],
   "source": []
  },
  {
   "cell_type": "markdown",
   "metadata": {
    "heading_collapsed": true
   },
   "source": [
    "## Flow Control Statements"
   ]
  },
  {
   "cell_type": "markdown",
   "metadata": {
    "hidden": true
   },
   "source": [
    "As has been discussed above, we often want to take various context into consideration when coding. \"If an expression is true, do something...\". We want to have control of our program's progress, how it \"flows\". In Python, we can use comparison operators in **flow control statements**: these are: \n",
    "- `if` \n",
    "- `elif`\n",
    "- `else`\n",
    "\n",
    "\\*\\* Going forward, remember that **what you type (the syntax) is important!** Be sure that you write these statements exactly as described. Otherwise, you will get an error and your code won't work. \\*\\*"
   ]
  },
  {
   "cell_type": "markdown",
   "metadata": {
    "heading_collapsed": true,
    "hidden": true
   },
   "source": [
    "### The `if`-statement"
   ]
  },
  {
   "cell_type": "markdown",
   "metadata": {
    "hidden": true
   },
   "source": [
    "Flow control statements make your code follow a certain logic. The `if`-statement consists of the keyword `if`, followed by a **condition** (=just another word for an expression, but connected to a flow control statement), and ended with a colon `:`. \n",
    "\n",
    "If the if-statement's condition evaluates to false, the interpreter skips code. Have a look at this:"
   ]
  },
  {
   "cell_type": "code",
   "execution_count": 21,
   "metadata": {
    "hidden": true
   },
   "outputs": [],
   "source": [
    "name = \"Johan\""
   ]
  },
  {
   "cell_type": "code",
   "execution_count": 22,
   "metadata": {
    "hidden": true
   },
   "outputs": [],
   "source": [
    "if name != \"Johan\":\n",
    "    print(\"Hi Johan!\") # name != \"Johan\" is false. This line of code will be skipped"
   ]
  },
  {
   "cell_type": "markdown",
   "metadata": {
    "hidden": true
   },
   "source": [
    "Code that are indented at the same level is called **a block of code**. Indentations are therefore very important in Python, since it tells our computer what code that is to be considered grouped together. The `print()` function is one block of code within our if-statement (even though it's just one line in this example).\n",
    "\n",
    "If the condition in the if-statement is evaluated to `False`, the indented block (containing `print(\"Hi Johan!\")`) will be skipped and not be executed. If the condition is `True`, then the indented code will execute:"
   ]
  },
  {
   "cell_type": "code",
   "execution_count": 193,
   "metadata": {
    "hidden": true
   },
   "outputs": [
    {
     "name": "stdout",
     "output_type": "stream",
     "text": [
      "Hi Johan!\n"
     ]
    }
   ],
   "source": [
    "if name == \"Johan\":\n",
    "    print(\"Hi Johan!\") # The condition name == \"Johan\" is true! Hence, this line of code will be executed"
   ]
  },
  {
   "cell_type": "markdown",
   "metadata": {
    "hidden": true
   },
   "source": [
    "Another example:"
   ]
  },
  {
   "cell_type": "code",
   "execution_count": 167,
   "metadata": {
    "hidden": true
   },
   "outputs": [],
   "source": [
    "age = 35"
   ]
  },
  {
   "cell_type": "code",
   "execution_count": 168,
   "metadata": {
    "hidden": true,
    "scrolled": true
   },
   "outputs": [
    {
     "name": "stdout",
     "output_type": "stream",
     "text": [
      "Whoa! Not that young any longer, buddy!\n"
     ]
    }
   ],
   "source": [
    "if age > 30:\n",
    "    print(\"Whoa! Not that young any longer, buddy!\") # True! This will be executed"
   ]
  },
  {
   "cell_type": "code",
   "execution_count": 169,
   "metadata": {
    "hidden": true
   },
   "outputs": [],
   "source": [
    "if age < 30:\n",
    "    print(\"Whoa! Not that young any longer, buddy!\") # This will be skipped since 35 is more than 30"
   ]
  },
  {
   "cell_type": "code",
   "execution_count": 162,
   "metadata": {
    "hidden": true
   },
   "outputs": [],
   "source": [
    "youngAge = 25"
   ]
  },
  {
   "cell_type": "code",
   "execution_count": 165,
   "metadata": {
    "hidden": true
   },
   "outputs": [
    {
     "name": "stdout",
     "output_type": "stream",
     "text": [
      "You, sir, are in your prime!\n"
     ]
    }
   ],
   "source": [
    "if youngAge < 30:\n",
    "    print(\"You, sir, are in your prime!\")"
   ]
  },
  {
   "cell_type": "markdown",
   "metadata": {
    "hidden": true
   },
   "source": [
    "We can also use boolean operators in flow control statements, like the `and` operator:"
   ]
  },
  {
   "cell_type": "code",
   "execution_count": 174,
   "metadata": {
    "hidden": true
   },
   "outputs": [
    {
     "name": "stdout",
     "output_type": "stream",
     "text": [
      "You are in your twenties! Congratulations!\n"
     ]
    }
   ],
   "source": [
    "if youngAge < 30 and youngAge >= 20:\n",
    "    print(\"You are in your twenties! Congratulations!\")"
   ]
  },
  {
   "cell_type": "markdown",
   "metadata": {
    "heading_collapsed": true,
    "hidden": true
   },
   "source": [
    "### The `else`-statement"
   ]
  },
  {
   "cell_type": "markdown",
   "metadata": {
    "hidden": true
   },
   "source": [
    "But what about if we also want to cover situations where the if-statement is false? Then we use the `else`-statement:"
   ]
  },
  {
   "cell_type": "code",
   "execution_count": 166,
   "metadata": {
    "hidden": true
   },
   "outputs": [],
   "source": [
    "age = 35"
   ]
  },
  {
   "cell_type": "code",
   "execution_count": 171,
   "metadata": {
    "hidden": true
   },
   "outputs": [
    {
     "name": "stdout",
     "output_type": "stream",
     "text": [
      "Oldie but goldie!\n"
     ]
    }
   ],
   "source": [
    "if age < 30:\n",
    "    print(\"Hello young sir!\")\n",
    "else:\n",
    "    print(\"Oldie but goldie!\")"
   ]
  },
  {
   "cell_type": "markdown",
   "metadata": {
    "hidden": true
   },
   "source": [
    "So \"If an expression is true, do something... Otherwise, do this other thing...\" An `else`-statement contains of the `else` keyword followed by a colon, `:`.\n",
    "\n",
    "An else-statment does only work if it follows an if-statement. Only writing an else-statment will produce an error: "
   ]
  },
  {
   "cell_type": "code",
   "execution_count": 172,
   "metadata": {
    "hidden": true,
    "scrolled": true
   },
   "outputs": [
    {
     "ename": "SyntaxError",
     "evalue": "invalid syntax (<ipython-input-172-eb2670b32139>, line 1)",
     "output_type": "error",
     "traceback": [
      "\u001b[0;36m  File \u001b[0;32m\"<ipython-input-172-eb2670b32139>\"\u001b[0;36m, line \u001b[0;32m1\u001b[0m\n\u001b[0;31m    else:\u001b[0m\n\u001b[0m    ^\u001b[0m\n\u001b[0;31mSyntaxError\u001b[0m\u001b[0;31m:\u001b[0m invalid syntax\n"
     ]
    }
   ],
   "source": [
    "else:\n",
    "    print(\"Hello world!\")"
   ]
  },
  {
   "cell_type": "markdown",
   "metadata": {
    "hidden": true
   },
   "source": [
    "Note that the else-statement doesn't contain a condition. Since the code block beneath the else-statment is to be executed in all situations where an it-statement is false, a condition isn't needed. "
   ]
  },
  {
   "cell_type": "markdown",
   "metadata": {
    "hidden": true
   },
   "source": [
    "Our workday alarm program, but with an if/else-statement:"
   ]
  },
  {
   "cell_type": "code",
   "execution_count": 194,
   "metadata": {
    "hidden": true
   },
   "outputs": [],
   "source": [
    "present_time = 12.15"
   ]
  },
  {
   "cell_type": "code",
   "execution_count": 195,
   "metadata": {
    "hidden": true
   },
   "outputs": [
    {
     "name": "stdout",
     "output_type": "stream",
     "text": [
      "You should be working!\n"
     ]
    }
   ],
   "source": [
    "if present_time < 17.00 and presentTime > 9.00:\n",
    "    print(\"You should be working!\")\n",
    "else:\n",
    "    print(\"No work!!\")"
   ]
  },
  {
   "cell_type": "markdown",
   "metadata": {
    "heading_collapsed": true,
    "hidden": true
   },
   "source": [
    "### The `elif`-statement"
   ]
  },
  {
   "cell_type": "markdown",
   "metadata": {
    "hidden": true
   },
   "source": [
    "In many situations we want to explicitly cover more scenarios than just those covered in our if- and else-statements. This is where we can create `elif`-statements:"
   ]
  },
  {
   "cell_type": "code",
   "execution_count": 253,
   "metadata": {
    "hidden": true
   },
   "outputs": [],
   "source": [
    "age = 16"
   ]
  },
  {
   "cell_type": "code",
   "execution_count": 254,
   "metadata": {
    "hidden": true
   },
   "outputs": [
    {
     "name": "stdout",
     "output_type": "stream",
     "text": [
      "A teenager!\n"
     ]
    }
   ],
   "source": [
    "if age >= 30:\n",
    "    print(\"You are not very young any longer, I'm afraid.\") # 16 is lower than 30, so this is skipped\n",
    "elif age >= 20 and age < 30:\n",
    "    print(\"You are in your twenties!\") # 'age' is not between 20 and 29, this block is also skipped\n",
    "elif age < 20 and age >= 13:\n",
    "    print(\"A teenager!\") # Bingo! This is executed\n",
    "else:\n",
    "    print(\"You are very, very young!\")"
   ]
  },
  {
   "cell_type": "markdown",
   "metadata": {
    "hidden": true
   },
   "source": [
    "As you can see in the code cell above, we can use more than one elif-statement. You can put in as many as you like! But remember, just like the else-statement, the elif-statement can only be used after an if-statement. Otherwise, an error will be produced:"
   ]
  },
  {
   "cell_type": "code",
   "execution_count": 196,
   "metadata": {
    "hidden": true
   },
   "outputs": [
    {
     "ename": "SyntaxError",
     "evalue": "invalid syntax (<ipython-input-196-5150a1770b0d>, line 1)",
     "output_type": "error",
     "traceback": [
      "\u001b[0;36m  File \u001b[0;32m\"<ipython-input-196-5150a1770b0d>\"\u001b[0;36m, line \u001b[0;32m1\u001b[0m\n\u001b[0;31m    elif age >= 20 and age < 30:\u001b[0m\n\u001b[0m    ^\u001b[0m\n\u001b[0;31mSyntaxError\u001b[0m\u001b[0;31m:\u001b[0m invalid syntax\n"
     ]
    }
   ],
   "source": [
    "elif age >= 20 and age < 30:\n",
    "    print(\"You are in your twenties!\")"
   ]
  },
  {
   "cell_type": "markdown",
   "metadata": {
    "hidden": true
   },
   "source": [
    "Here is the hierarchy of these three flow control statement:\n",
    "\n",
    "1. if-statement goes first\n",
    "2. elif-statements (as many as you like!) comes second\n",
    "3. And finally, the else-statement"
   ]
  },
  {
   "cell_type": "markdown",
   "metadata": {
    "heading_collapsed": true,
    "hidden": true
   },
   "source": [
    "### (Optional) \"Truthy\" and \"Falsy\" values"
   ]
  },
  {
   "cell_type": "markdown",
   "metadata": {
    "hidden": true
   },
   "source": [
    "Like covered above if-statements need an expression (called a condition) to evaluate to true or false to run. But in Python, all values are actually either truthy or falsy. This means that a single value following the if-keyword will also work:"
   ]
  },
  {
   "cell_type": "code",
   "execution_count": 197,
   "metadata": {
    "hidden": true
   },
   "outputs": [
    {
     "name": "stdout",
     "output_type": "stream",
     "text": [
      "Works!\n"
     ]
    }
   ],
   "source": [
    "if 3:\n",
    "    print(\"Works!\")"
   ]
  },
  {
   "cell_type": "code",
   "execution_count": 202,
   "metadata": {
    "hidden": true
   },
   "outputs": [
    {
     "name": "stdout",
     "output_type": "stream",
     "text": [
      "Works!\n"
     ]
    }
   ],
   "source": [
    "if 3.5:\n",
    "    print(\"Works!\")"
   ]
  },
  {
   "cell_type": "code",
   "execution_count": 211,
   "metadata": {
    "hidden": true
   },
   "outputs": [],
   "source": [
    "if 0:\n",
    "    print(\"This won't be printed...\")"
   ]
  },
  {
   "cell_type": "code",
   "execution_count": 212,
   "metadata": {
    "hidden": true
   },
   "outputs": [],
   "source": [
    "if 0.0:\n",
    "    print(\"This won't be printed...\")"
   ]
  },
  {
   "cell_type": "markdown",
   "metadata": {
    "hidden": true
   },
   "source": [
    "All number values, that is both integers and floats, above 0 is considered \"truthy\" values in Python. 0 and 0.0 is \"falsy\". In string values, all empty strings `\"\"` are considered falsy, all other string values are truthy:"
   ]
  },
  {
   "cell_type": "code",
   "execution_count": 208,
   "metadata": {
    "hidden": true
   },
   "outputs": [
    {
     "name": "stdout",
     "output_type": "stream",
     "text": [
      "Works!\n"
     ]
    }
   ],
   "source": [
    "if \"a string value\":\n",
    "    print(\"Works!\")"
   ]
  },
  {
   "cell_type": "code",
   "execution_count": 210,
   "metadata": {
    "hidden": true
   },
   "outputs": [],
   "source": [
    "if \"\":\n",
    "    print(\"This won't be printed...\")"
   ]
  },
  {
   "cell_type": "markdown",
   "metadata": {
    "hidden": true
   },
   "source": [
    "Considering we should always strive to make our code more readable, above examples should be avoided. Instead we should write an actual comparison:"
   ]
  },
  {
   "cell_type": "code",
   "execution_count": 207,
   "metadata": {
    "hidden": true
   },
   "outputs": [
    {
     "name": "stdout",
     "output_type": "stream",
     "text": [
      "This wasn't an empty string!\n"
     ]
    }
   ],
   "source": [
    "value = \"string\"\n",
    "if value != \"\":\n",
    "    print(\"This wasn't an empty string!\")"
   ]
  },
  {
   "cell_type": "markdown",
   "metadata": {
    "hidden": true
   },
   "source": [
    "We can always check values \"truthiness\" with the built-in function `bool()`:"
   ]
  },
  {
   "cell_type": "code",
   "execution_count": 213,
   "metadata": {
    "hidden": true
   },
   "outputs": [
    {
     "data": {
      "text/plain": [
       "True"
      ]
     },
     "execution_count": 213,
     "metadata": {},
     "output_type": "execute_result"
    }
   ],
   "source": [
    "bool(3)"
   ]
  },
  {
   "cell_type": "code",
   "execution_count": 214,
   "metadata": {
    "hidden": true
   },
   "outputs": [
    {
     "data": {
      "text/plain": [
       "False"
      ]
     },
     "execution_count": 214,
     "metadata": {},
     "output_type": "execute_result"
    }
   ],
   "source": [
    "bool(\"\")"
   ]
  },
  {
   "cell_type": "code",
   "execution_count": 215,
   "metadata": {
    "hidden": true
   },
   "outputs": [
    {
     "data": {
      "text/plain": [
       "False"
      ]
     },
     "execution_count": 215,
     "metadata": {},
     "output_type": "execute_result"
    }
   ],
   "source": [
    "bool(0)"
   ]
  },
  {
   "cell_type": "code",
   "execution_count": 216,
   "metadata": {
    "hidden": true
   },
   "outputs": [
    {
     "data": {
      "text/plain": [
       "True"
      ]
     },
     "execution_count": 216,
     "metadata": {},
     "output_type": "execute_result"
    }
   ],
   "source": [
    "bool(\"Hello world!\")"
   ]
  },
  {
   "cell_type": "markdown",
   "metadata": {
    "heading_collapsed": true,
    "hidden": true
   },
   "source": [
    "### Exercise – type the end of the story!"
   ]
  },
  {
   "cell_type": "markdown",
   "metadata": {
    "hidden": true
   },
   "source": [
    "If-statements are rather useful if you're creating small text based games. Think of a Python script that runs a dungeons and dragons game, what does the player choose? How does it affekt the storyline?\n",
    "\n",
    "In this exercise, you will write an ending to a little (silly) story. You will write it as an flow control statement. By choosing a value for the variable `item`, and by passing it to a flow control statement, this variable decides the ending of the story! Depending of the value of `item` a different ending should then be printed with a `print()` function. You write the story ending that's printed! Save this story to variable called `ending`, and then print this variable. Simple!\n",
    "\n",
    "Remember that you can write string values with tripple quotes `\"\"\"` to make them a long string (see section 3.2 if you want to refreash your memory!). Good luck!"
   ]
  },
  {
   "cell_type": "markdown",
   "metadata": {
    "hidden": true
   },
   "source": [
    "**The End of the Story**"
   ]
  },
  {
   "cell_type": "markdown",
   "metadata": {
    "hidden": true
   },
   "source": [
    "```\n",
    "Teddy Merrybottom was tired. He had done what had been asked of him. With him, he carried enough booty to make his entire village the most wealthy in Southern Illyria. But the journey to Doom Mountain had been exhausting, and tragic. His three best friends had all perished. \n",
    "\n",
    "He couldn't for the life of him understand why they wanted to swim while in full armor. Granted, their fight with the dragon Grymf had been a fantastic, and surprising success – worthy of great celebration. But getting completely planked on honey beer, and then go swimming with breast plates? It was a bummer. Well, it was also sad, since, you know, they died.\n",
    "\n",
    "Even more disapointing was that the only one in Teddy's company that hadn't joined the party – and died – was Gary. And Garry was an idiot. And now, even though their three best friends was dead, Gary just kept complaining about his arthritis and how his knees hurt. This also meant that Teddy was taking care of all their stuff.\n",
    "\n",
    "Fortunatly, they were just about a hill away from their village. Teddy looked forward to being in front of his fire place, being rich and all that. But most of all, not having to spend any more time with Gary.\n",
    "\n",
    "– What is that!? Gary suddenly gasped\n",
    "\n",
    "– Where? Teddy replied, reaching for his sword hilt\n",
    "\n",
    "They were walking on a field right next to the edge of Hillside Forrest, and inbetween the trees, Teddy saw the contours of something vile. It was a Vampwolfosauros. A howling, bloodsucking lizard beast. It had seen them, and rushed towards them in a rage, trampling trees in its path.\n",
    "\n",
    "Teddy, struck by an instant adrenaline rush, drew his sword. He turned around to get his shield from the horse carriage. But in his exitement, he stumbled, and grabbed the only thing close to help him not loosing his footing – the horse strings. \n",
    "\n",
    "This pulled the horse in the direction towards the approaching monster, and, of course, it panicked and reared. It did so right next to a small boulder with a sharp edge, which cut the horse's leg. The horse, therefore, also lost its footing, tumbling over Teddy. In the chaos, the cart crashed to its side. \n",
    "\n",
    "Suddenly, Teddy found himself stuck in a pile of gold, jewels, weapons, and horse. And the Vampwolfosauros was just moments away. It was sure to rape and kill them all! Vampwolfosauroses was known to be not only predators, but sexual predators.\n",
    "\n",
    "It was now all in the hands of Gary. Teddy and Gary both realised this, and they both felt terror. Gary's only chance was that Teddy would throw him something for their mutual protection against the massive, raging beast. But what?\n",
    "\n",
    "Teddy looked around. He saw four magical items lying next to him: \n",
    "- the Ice Jewel\n",
    "- the Ancient Staff of Pharts \n",
    "- the book \"The World's 10 Worst Poems\"\n",
    "- the Bear Spear (a magical spear shaped like a bear)\n",
    "\n",
    "He realised that chances were slim with either, since Gary was an blidgering moron. But he reached out and grabbed his item of choice and threw it to Gary, screaming \"Come on you fool, save us!!\"\n",
    "```"
   ]
  },
  {
   "cell_type": "code",
   "execution_count": null,
   "metadata": {
    "hidden": true
   },
   "outputs": [],
   "source": [
    "item = \"\" # <- which item does Teddy choose?"
   ]
  },
  {
   "cell_type": "code",
   "execution_count": 11,
   "metadata": {
    "hidden": true
   },
   "outputs": [],
   "source": [
    "# write a flow control statement, containing at least one each of an if-, elif- and else-statement\n",
    "# this flow control statement should decide the end of the story, depending on which item Gary's given\n",
    "# Good luck!"
   ]
  },
  {
   "cell_type": "code",
   "execution_count": null,
   "metadata": {
    "hidden": true
   },
   "outputs": [],
   "source": []
  },
  {
   "cell_type": "code",
   "execution_count": null,
   "metadata": {
    "hidden": true
   },
   "outputs": [],
   "source": []
  },
  {
   "cell_type": "code",
   "execution_count": null,
   "metadata": {
    "hidden": true
   },
   "outputs": [],
   "source": []
  },
  {
   "cell_type": "markdown",
   "metadata": {},
   "source": [
    "## Functions"
   ]
  },
  {
   "cell_type": "markdown",
   "metadata": {},
   "source": [
    "A function in Python is perhaps best described as a miniprogram within our code. It is block of code that is assigned to a namespace. We can then use and reuse the function, without having to rewrite all the code within it! Above, we have briefly touched on the subject of Pythons built-in functions."
   ]
  },
  {
   "cell_type": "markdown",
   "metadata": {},
   "source": [
    "Let's say we want to count the number of characters in a string value. We can write code to do that for us. (In this example, don't get stuck on the code itself, it includes concepts we still havn't covered)"
   ]
  },
  {
   "cell_type": "code",
   "execution_count": 272,
   "metadata": {},
   "outputs": [],
   "source": [
    "string_value = \"Johan\""
   ]
  },
  {
   "cell_type": "code",
   "execution_count": 273,
   "metadata": {},
   "outputs": [],
   "source": [
    "for index,char in enumerate(string_value):\n",
    "    num = index + 1 # again, don't get stuck in this code. We will cover it later :)"
   ]
  },
  {
   "cell_type": "code",
   "execution_count": 274,
   "metadata": {},
   "outputs": [
    {
     "data": {
      "text/plain": [
       "5"
      ]
     },
     "execution_count": 274,
     "metadata": {},
     "output_type": "execute_result"
    }
   ],
   "source": [
    "num"
   ]
  },
  {
   "cell_type": "markdown",
   "metadata": {},
   "source": [
    "Above, we have a small snippet of code that helps us calculate how many characters there are in a string value. But let's say we want to use this code snippet in many different places in our program. It would not be very convenient to write this code over and over again. This is a great time to use a function instead. Fortunately, there is a built-in function that helps us with excactly that – the `len()` function:"
   ]
  },
  {
   "cell_type": "code",
   "execution_count": 275,
   "metadata": {},
   "outputs": [
    {
     "data": {
      "text/plain": [
       "5"
      ]
     },
     "execution_count": 275,
     "metadata": {},
     "output_type": "execute_result"
    }
   ],
   "source": [
    "len(\"Johan\")"
   ]
  },
  {
   "cell_type": "markdown",
   "metadata": {},
   "source": [
    "The `len()` function returns the number of items in a python container object. So, if given a string, the `len()` function will return the number of characters in the string."
   ]
  },
  {
   "cell_type": "markdown",
   "metadata": {},
   "source": [
    "A function always have a name, in this case \"len\", and can be used by typing `()` directly after the function name.\n",
    "\n",
    "Now some important Python vocabulary: Above, we give the function the string value \"Johan\" by writing it within its parenthesis. This is called **the function's argument**, and if we give a function an argument, we say that **we pass an argument to a function**. When we pass an argument to a function's parenthesis, we say that we **call the function** (or that it is a **function call**), but we can also say that we **invoke the function**. As you can see, there are often many names to the same concepts in Python. \n",
    "\n",
    "(These phrases will be used throughout this notebook, but if you are uncertain of the meaning of a term used, first try finding the explanation wihtin this notebook using <kbd>⌃ Control</kbd>+<kbd>F</kbd>, OR Google it! Googling programming concepts is a great way to learn!)\n",
    "\n",
    "Since the `len()` function only works on containers, it will give us an error if we pass it something other than a container – like an integer:"
   ]
  },
  {
   "cell_type": "code",
   "execution_count": 276,
   "metadata": {},
   "outputs": [
    {
     "ename": "TypeError",
     "evalue": "object of type 'int' has no len()",
     "output_type": "error",
     "traceback": [
      "\u001b[0;31m---------------------------------------------------------------------------\u001b[0m",
      "\u001b[0;31mTypeError\u001b[0m                                 Traceback (most recent call last)",
      "\u001b[0;32m<ipython-input-276-91fed648bb37>\u001b[0m in \u001b[0;36m<module>\u001b[0;34m\u001b[0m\n\u001b[0;32m----> 1\u001b[0;31m \u001b[0mlen\u001b[0m\u001b[0;34m(\u001b[0m\u001b[0;36m5\u001b[0m\u001b[0;34m)\u001b[0m\u001b[0;34m\u001b[0m\u001b[0;34m\u001b[0m\u001b[0m\n\u001b[0m",
      "\u001b[0;31mTypeError\u001b[0m: object of type 'int' has no len()"
     ]
    }
   ],
   "source": [
    "len(5)"
   ]
  },
  {
   "cell_type": "markdown",
   "metadata": {},
   "source": [
    "In Jupyter, we can type <kbd>⇧ Shift</kbd>+<kbd>⇥ Tab</kbd> when our marker is within a function's parenthesis to see information about the function!"
   ]
  },
  {
   "cell_type": "code",
   "execution_count": 281,
   "metadata": {
    "scrolled": true
   },
   "outputs": [],
   "source": [
    "len(\"\") # <- try putting your marker within the double quotes in the parenthesis and tapping shift+tab"
   ]
  },
  {
   "cell_type": "markdown",
   "metadata": {},
   "source": [
    "(The information you see when tapping <kbd>⇧ Shift</kbd>+<kbd>⇥ Tab</kbd> is called the function's **docstring**)"
   ]
  },
  {
   "cell_type": "markdown",
   "metadata": {},
   "source": [
    "### Built-in Functions"
   ]
  },
  {
   "cell_type": "markdown",
   "metadata": {},
   "source": [
    "In previous chapters in this notebook, we have used some built-in functions already. For example:"
   ]
  },
  {
   "cell_type": "code",
   "execution_count": 282,
   "metadata": {},
   "outputs": [
    {
     "data": {
      "text/plain": [
       "int"
      ]
     },
     "execution_count": 282,
     "metadata": {},
     "output_type": "execute_result"
    }
   ],
   "source": [
    "type(42) # checking an objects datatype"
   ]
  },
  {
   "cell_type": "code",
   "execution_count": 226,
   "metadata": {},
   "outputs": [
    {
     "name": "stdout",
     "output_type": "stream",
     "text": [
      "Hello world!\n"
     ]
    }
   ],
   "source": [
    "print(\"Hello world!\") # tells the interpretor to print the function's argument"
   ]
  },
  {
   "cell_type": "markdown",
   "metadata": {},
   "source": [
    "We can also convert values into other datatypes (remember that you can always check the functions' docstring pressing <kbd>⇧ Shift</kbd>+<kbd>⇥ Tab</kbd> when your marker is within the functions' parenthesis):"
   ]
  },
  {
   "cell_type": "code",
   "execution_count": 227,
   "metadata": {},
   "outputs": [
    {
     "data": {
      "text/plain": [
       "'4'"
      ]
     },
     "execution_count": 227,
     "metadata": {},
     "output_type": "execute_result"
    }
   ],
   "source": [
    "str(4) # returns passed argument as a string"
   ]
  },
  {
   "cell_type": "code",
   "execution_count": 228,
   "metadata": {},
   "outputs": [
    {
     "data": {
      "text/plain": [
       "5"
      ]
     },
     "execution_count": 228,
     "metadata": {},
     "output_type": "execute_result"
    }
   ],
   "source": [
    "int(5.0) # returns passed argument as an integer"
   ]
  },
  {
   "cell_type": "code",
   "execution_count": 230,
   "metadata": {},
   "outputs": [
    {
     "data": {
      "text/plain": [
       "5"
      ]
     },
     "execution_count": 230,
     "metadata": {},
     "output_type": "execute_result"
    }
   ],
   "source": [
    "int(\"5\")"
   ]
  },
  {
   "cell_type": "code",
   "execution_count": 233,
   "metadata": {},
   "outputs": [
    {
     "data": {
      "text/plain": [
       "10.0"
      ]
     },
     "execution_count": 233,
     "metadata": {},
     "output_type": "execute_result"
    }
   ],
   "source": [
    "float(10) # returns passed argument as a float"
   ]
  },
  {
   "cell_type": "code",
   "execution_count": 234,
   "metadata": {},
   "outputs": [
    {
     "data": {
      "text/plain": [
       "10.0"
      ]
     },
     "execution_count": 234,
     "metadata": {},
     "output_type": "execute_result"
    }
   ],
   "source": [
    "float(\"10\")"
   ]
  },
  {
   "cell_type": "markdown",
   "metadata": {},
   "source": [
    "There are many more of these built-in functions. Every time you use python code, these will work from the getgo. But there are many many more functions that come prepackaged within the standard Python code package, but that don't work immediatly. They have to be imported from various modules."
   ]
  },
  {
   "cell_type": "markdown",
   "metadata": {},
   "source": [
    "### The standard library and modules"
   ]
  },
  {
   "cell_type": "markdown",
   "metadata": {},
   "source": [
    "When you use a freshly installed version of Python, it comes with a set of built-in functions. But it also comes with a variety of \"libraries\" of code that can be easly accessed and used in your code. This is called **the standard library**. To get access to these, we just use the `import` statement. The libraries of code we import are called **modules**, or **packages**. Let's import the `random` modul:"
   ]
  },
  {
   "cell_type": "code",
   "execution_count": 73,
   "metadata": {},
   "outputs": [],
   "source": [
    "import random"
   ]
  },
  {
   "cell_type": "markdown",
   "metadata": {},
   "source": [
    "After we have imported, we can use a range of functions in this library by typing a dot `.` directly after the module name. In Jupyter, there is a really neat trick to see which functions are included. After having typed `random.`, press the <kbd>⇥ Tab</kbd> key to get a list of available functions:"
   ]
  },
  {
   "cell_type": "code",
   "execution_count": 74,
   "metadata": {},
   "outputs": [],
   "source": [
    "# replace this comment with the code \"random.\" and then place your marker next to the \".\" and press the tab key!"
   ]
  },
  {
   "cell_type": "markdown",
   "metadata": {},
   "source": [
    "In this case, we want to use the function called `randint()` from the random module. This function takes two arguments: one starting point number value, and one end point number value, and returns a random number inbetween:"
   ]
  },
  {
   "cell_type": "code",
   "execution_count": 75,
   "metadata": {},
   "outputs": [
    {
     "data": {
      "text/plain": [
       "2"
      ]
     },
     "execution_count": 75,
     "metadata": {},
     "output_type": "execute_result"
    }
   ],
   "source": [
    "random.randint(1, 10)"
   ]
  },
  {
   "cell_type": "code",
   "execution_count": 77,
   "metadata": {},
   "outputs": [
    {
     "data": {
      "text/plain": [
       "-1825"
      ]
     },
     "execution_count": 77,
     "metadata": {},
     "output_type": "execute_result"
    }
   ],
   "source": [
    "random.randint(-2446, 10645)"
   ]
  },
  {
   "cell_type": "markdown",
   "metadata": {},
   "source": [
    "That is how you use imported modules and their functions!\n",
    "\n",
    "We can also specifiy which method we want from the random module in our import statement by using the `from` keyword:"
   ]
  },
  {
   "cell_type": "code",
   "execution_count": 78,
   "metadata": {},
   "outputs": [],
   "source": [
    "from random import randint # from the 'random' module/package, import the function 'randint'"
   ]
  },
  {
   "cell_type": "code",
   "execution_count": 79,
   "metadata": {},
   "outputs": [
    {
     "data": {
      "text/plain": [
       "3"
      ]
     },
     "execution_count": 79,
     "metadata": {},
     "output_type": "execute_result"
    }
   ],
   "source": [
    "randint(1, 10) # now, we don't need to specify module, since we directly imported the function itself!"
   ]
  },
  {
   "cell_type": "markdown",
   "metadata": {},
   "source": [
    "Another cool module to import is the `os` module. It lets us explore the files on our computer! Let's import it:"
   ]
  },
  {
   "cell_type": "code",
   "execution_count": 80,
   "metadata": {},
   "outputs": [],
   "source": [
    "import os"
   ]
  },
  {
   "cell_type": "markdown",
   "metadata": {},
   "source": [
    "We can use the `listdir()` function to get us a list of all files in the directory (=folder) this notebook is located within:"
   ]
  },
  {
   "cell_type": "code",
   "execution_count": 81,
   "metadata": {},
   "outputs": [
    {
     "data": {
      "text/plain": [
       "['python_intro_eng.ipynb',\n",
       " '.DS_Store',\n",
       " 'LICENSE',\n",
       " 'course_material',\n",
       " 'Pipfile',\n",
       " 'solutions.ipynb',\n",
       " '.gitignore',\n",
       " '.ipynb_checkpoints',\n",
       " '.git',\n",
       " 'Pipfile.lock']"
      ]
     },
     "execution_count": 81,
     "metadata": {},
     "output_type": "execute_result"
    }
   ],
   "source": [
    "os.listdir()"
   ]
  },
  {
   "cell_type": "markdown",
   "metadata": {},
   "source": [
    "In our import statement, we can also just import all functions and methods within a module at the same time with the from keyword. This is done using the `*`"
   ]
  },
  {
   "cell_type": "code",
   "execution_count": 244,
   "metadata": {},
   "outputs": [],
   "source": [
    "from os import *"
   ]
  },
  {
   "cell_type": "markdown",
   "metadata": {},
   "source": [
    "This means we imported ALL functions within the `os` module. It is the same as just typing `import os`, but now we don't need to specify the module name before using its functions. \n",
    "\n",
    "HOWEVER! This is not recommended. It makes our code less readable. In Python, you should always aim to make your code transparent."
   ]
  },
  {
   "cell_type": "markdown",
   "metadata": {},
   "source": [
    "#### Exercise – the coin toss"
   ]
  },
  {
   "cell_type": "markdown",
   "metadata": {},
   "source": [
    "The random module's function `randint` can be used to produce random number. In this exercise, you shall try to build a small script that takes a random number, and depending on the number, either \"Heads!\" or \"Tails!\" is printed by the `print()` function. This will require you to use variables, the `random.randint()` function, and flow control statements.\n",
    "\n",
    "Remember to import the random module! The solution is found in the solutions notebook.\n",
    "\n",
    "Good luck!"
   ]
  },
  {
   "cell_type": "code",
   "execution_count": null,
   "metadata": {},
   "outputs": [],
   "source": []
  },
  {
   "cell_type": "code",
   "execution_count": null,
   "metadata": {},
   "outputs": [],
   "source": []
  },
  {
   "cell_type": "code",
   "execution_count": null,
   "metadata": {},
   "outputs": [],
   "source": []
  },
  {
   "cell_type": "markdown",
   "metadata": {},
   "source": [
    "### Third party modules"
   ]
  },
  {
   "cell_type": "markdown",
   "metadata": {},
   "source": [
    "One huge advantage in learning Python is its flourishing community. Many, many, many programmers contribute to the Python language, often by supplying third party modules. This is modules that is not part of the standard library. They need to be downloaded before you can import and use their functions. This is normally done by using the `pip` Python library installer. This is not covered in this notebook, but an extensive guide [can be found here.](https://packaging.python.org/tutorials/installing-packages/)\n",
    "\n",
    "If you are using Jupyter through the Anaconda software, this means you acctually have a number of such third party modules already installed on your computer. You can see all your available libraries by using the built-in function `help()`:"
   ]
  },
  {
   "cell_type": "code",
   "execution_count": null,
   "metadata": {
    "scrolled": false
   },
   "outputs": [],
   "source": [
    "help('modules')"
   ]
  },
  {
   "cell_type": "markdown",
   "metadata": {},
   "source": [
    "In the list you can find libraries such as `pandas`, `numpy` and `matplotlib` (to name a few) – all third party modules! All the packages in the list can be imported using the `import` statement."
   ]
  },
  {
   "cell_type": "markdown",
   "metadata": {},
   "source": [
    "### Writing your own functions"
   ]
  },
  {
   "cell_type": "markdown",
   "metadata": {},
   "source": [
    "As was explained briefly in the beginning of this chapter, a function is like a miniprogram within our code. This miniprogram has a name that we can call (or invoke) to reuse the code within the function.\n",
    "\n",
    "In the above sections, we have learned about built-in and imported functions. But we can easally build our own! Let's build a function that greets us hello!"
   ]
  },
  {
   "cell_type": "code",
   "execution_count": 295,
   "metadata": {},
   "outputs": [],
   "source": [
    "def greetings():\n",
    "    print(\"Hello deer!\")\n",
    "    print(\"How are you?\")\n",
    "    print(\"I am well, thanks for asking!\")"
   ]
  },
  {
   "cell_type": "markdown",
   "metadata": {},
   "source": [
    "Running above cell will not produce an output. It is a function statement where we simply define our function. This is done by typing the keyword `def`, followed by our name of the function, followed by parenthesis, followed by a colon `:`. When you typed all that, it is time to define the functions content code. After the colon, we press the <kbd>↵  Enter</kbd> key, and the next line is automatically indented, marking that the functions code is in a new code block! The function's content is the `print()` functions that are being called. \n",
    "\n",
    "We can now call our function by invoking its name! (to be more concrete about the meaning of invoking, it is when you put the parenthesis next to the function's name to call it)"
   ]
  },
  {
   "cell_type": "code",
   "execution_count": 296,
   "metadata": {},
   "outputs": [
    {
     "name": "stdout",
     "output_type": "stream",
     "text": [
      "Hello deer!\n",
      "How are you?\n",
      "I am well, thanks for asking!\n",
      "Hello deer!\n",
      "How are you?\n",
      "I am well, thanks for asking!\n",
      "Hello deer!\n",
      "How are you?\n",
      "I am well, thanks for asking!\n"
     ]
    }
   ],
   "source": [
    "greetings()\n",
    "greetings()\n",
    "greetings()"
   ]
  },
  {
   "cell_type": "markdown",
   "metadata": {},
   "source": [
    "Now, if we HADN'T used a function, the code for getting us the same output would be:"
   ]
  },
  {
   "cell_type": "code",
   "execution_count": 290,
   "metadata": {},
   "outputs": [
    {
     "name": "stdout",
     "output_type": "stream",
     "text": [
      "Hello deer!\n",
      "How are you?\n",
      "I am well, thanks for asking!\n",
      "Hello deer!\n",
      "How are you?\n",
      "I am well, thanks for asking!\n",
      "Hello deer!\n",
      "How are you?\n",
      "I am well, thanks for asking!\n"
     ]
    }
   ],
   "source": [
    "print(\"Hello deer!\")\n",
    "print(\"How are you?\")\n",
    "print(\"I am well, thanks for asking!\")\n",
    "print(\"Hello deer!\")\n",
    "print(\"How are you?\")\n",
    "print(\"I am well, thanks for asking!\")\n",
    "print(\"Hello deer!\")\n",
    "print(\"How are you?\")\n",
    "print(\"I am well, thanks for asking!\")"
   ]
  },
  {
   "cell_type": "markdown",
   "metadata": {},
   "source": [
    "In Python, we want to have as little duplicated code as possible. We get shorter programs, code that is easier to read, and – perhaps most importantly – _code that is easier to edit and debugg_. \n",
    "\n",
    "As some of you might've spotted, there is a spelling error in above code. We've acctually not used the pleasantry \"Hello dear\" in our greeting. Instead we called the person we're greeting a deer. Not very nice. When using functions, this is an easy fix: we just change the code within the function's code block to:"
   ]
  },
  {
   "cell_type": "code",
   "execution_count": 291,
   "metadata": {},
   "outputs": [],
   "source": [
    "def greetings():\n",
    "    print(\"Hello dear!\") # <- easy fix!\n",
    "    print(\"How are you?\")\n",
    "    print(\"I am well, thanks for asking!\")"
   ]
  },
  {
   "cell_type": "code",
   "execution_count": 293,
   "metadata": {},
   "outputs": [
    {
     "name": "stdout",
     "output_type": "stream",
     "text": [
      "Hello dear!\n",
      "How are you?\n",
      "I am well, thanks for asking!\n",
      "Hello dear!\n",
      "How are you?\n",
      "I am well, thanks for asking!\n",
      "Hello dear!\n",
      "How are you?\n",
      "I am well, thanks for asking!\n"
     ]
    }
   ],
   "source": [
    "greetings()\n",
    "greetings()\n",
    "greetings()"
   ]
  },
  {
   "cell_type": "markdown",
   "metadata": {},
   "source": [
    "If we hadn't used a function, we would've had to change it in all places where the spelling error occured:"
   ]
  },
  {
   "cell_type": "code",
   "execution_count": 292,
   "metadata": {},
   "outputs": [
    {
     "name": "stdout",
     "output_type": "stream",
     "text": [
      "Hello dear!\n",
      "How are you?\n",
      "I am well, thanks for asking!\n",
      "Hello dear!\n",
      "How are you?\n",
      "I am well, thanks for asking!\n",
      "Hello dear!\n",
      "How are you?\n",
      "I am well, thanks for asking!\n"
     ]
    }
   ],
   "source": [
    "print(\"Hello dear!\") # Here...\n",
    "print(\"How are you?\")\n",
    "print(\"I am well, thanks for asking!\")\n",
    "print(\"Hello dear!\") # here...\n",
    "print(\"How are you?\")\n",
    "print(\"I am well, thanks for asking!\")\n",
    "print(\"Hello dear!\") # and here\n",
    "print(\"How are you?\")\n",
    "print(\"I am well, thanks for asking!\")"
   ]
  },
  {
   "cell_type": "markdown",
   "metadata": {},
   "source": [
    "As you can see, this is not very practical. And it is also easy to miss all the occurances of an error in duplicated code. So: if you can avoid it – don't duplicate code! :)"
   ]
  },
  {
   "cell_type": "markdown",
   "metadata": {},
   "source": [
    "### Arguments"
   ]
  },
  {
   "cell_type": "code",
   "execution_count": 297,
   "metadata": {},
   "outputs": [
    {
     "data": {
      "text/plain": [
       "5"
      ]
     },
     "execution_count": 297,
     "metadata": {},
     "output_type": "execute_result"
    }
   ],
   "source": [
    "len(\"Johan\")"
   ]
  },
  {
   "cell_type": "markdown",
   "metadata": {},
   "source": [
    "In this `len()` function call, we pass the function an argument – the string value \"Johan\". When building our own functions, we can specify if arguments should to be passed to them and used within the function. In this context – when we put a variable in between the parenthesis while defining a function – this is called the function's **parameter**. Let's build on our greeting function:"
   ]
  },
  {
   "cell_type": "code",
   "execution_count": 353,
   "metadata": {},
   "outputs": [],
   "source": [
    "def greetings(parameter):\n",
    "    print(\"Hello dear \" + parameter + \"!\") # this is string concatination. Remember?\n",
    "    print(\"How are you?\")\n",
    "    print(\"I am well, thanks for asking!\")"
   ]
  },
  {
   "cell_type": "markdown",
   "metadata": {},
   "source": [
    "Arguments are information that is passed in the function call and is then used within the function's code block. Above, I've called the parameter `parameter` to make it obvious where we put it. We can, however, name the arguments to whatever we like. `parameter` is not a very readable name. Remember that we want the code to be readable, and the name `parameter` is rather generic. Let's change it:"
   ]
  },
  {
   "cell_type": "code",
   "execution_count": 354,
   "metadata": {},
   "outputs": [],
   "source": [
    "def greetings(name):\n",
    "    print(\"Hello dear \" + name + \"!\")\n",
    "    print(\"How are you?\")\n",
    "    print(\"I am well, thanks for asking!\")"
   ]
  },
  {
   "cell_type": "markdown",
   "metadata": {},
   "source": [
    "Now, when we call the argument like before, we will get an error:"
   ]
  },
  {
   "cell_type": "code",
   "execution_count": 355,
   "metadata": {},
   "outputs": [
    {
     "ename": "TypeError",
     "evalue": "greetings() missing 1 required positional argument: 'name'",
     "output_type": "error",
     "traceback": [
      "\u001b[0;31m---------------------------------------------------------------------------\u001b[0m",
      "\u001b[0;31mTypeError\u001b[0m                                 Traceback (most recent call last)",
      "\u001b[0;32m<ipython-input-355-44917e4e6755>\u001b[0m in \u001b[0;36m<module>\u001b[0;34m\u001b[0m\n\u001b[0;32m----> 1\u001b[0;31m \u001b[0mgreetings\u001b[0m\u001b[0;34m(\u001b[0m\u001b[0;34m)\u001b[0m\u001b[0;34m\u001b[0m\u001b[0;34m\u001b[0m\u001b[0m\n\u001b[0m",
      "\u001b[0;31mTypeError\u001b[0m: greetings() missing 1 required positional argument: 'name'"
     ]
    }
   ],
   "source": [
    "greetings()"
   ]
  },
  {
   "cell_type": "markdown",
   "metadata": {},
   "source": [
    "When a argument is mandatory for the function call to work, it is called a **positional argument**. The error message tells us that an argument is required, and then tell us the name of the parameter missing a value. This is why it is important to name your parameters in a readable manner. If our name would just be \"parameter\", the error message wouldn't make any sense.\n",
    "\n",
    "When an argument is put in the function call, this will then be used in the function's code block. Let's have a look at a few examples:"
   ]
  },
  {
   "cell_type": "code",
   "execution_count": 356,
   "metadata": {},
   "outputs": [
    {
     "name": "stdout",
     "output_type": "stream",
     "text": [
      "Hello dear Johan!\n",
      "How are you?\n",
      "I am well, thanks for asking!\n"
     ]
    }
   ],
   "source": [
    "greetings(\"Johan\")"
   ]
  },
  {
   "cell_type": "code",
   "execution_count": 357,
   "metadata": {},
   "outputs": [
    {
     "name": "stdout",
     "output_type": "stream",
     "text": [
      "Hello dear Pete!\n",
      "How are you?\n",
      "I am well, thanks for asking!\n"
     ]
    }
   ],
   "source": [
    "greetings(\"Pete\")"
   ]
  },
  {
   "cell_type": "code",
   "execution_count": 358,
   "metadata": {},
   "outputs": [
    {
     "name": "stdout",
     "output_type": "stream",
     "text": [
      "Hello dear Hanna!\n",
      "How are you?\n",
      "I am well, thanks for asking!\n"
     ]
    }
   ],
   "source": [
    "greetings(\"Hanna\")"
   ]
  },
  {
   "cell_type": "markdown",
   "metadata": {},
   "source": [
    "As you can see, we can pass any string we like to the function!"
   ]
  },
  {
   "cell_type": "code",
   "execution_count": 359,
   "metadata": {},
   "outputs": [
    {
     "name": "stdout",
     "output_type": "stream",
     "text": [
      "Hello dear KJ&€!AEFHO&#AHIUFQO%!PJ!\n",
      "How are you?\n",
      "I am well, thanks for asking!\n"
     ]
    }
   ],
   "source": [
    "greetings(\"KJ&€!AEFHO&#AHIUFQO%!PJ\")"
   ]
  },
  {
   "cell_type": "markdown",
   "metadata": {},
   "source": [
    "So, what is actually going on here? When we pass our string value to the function, it is assigned _within the function_ as a variable – the variable `name`. It is this variable that is called the function's parameter. We can even specify which parameter the argument should be set to in the function call, **we can name arguments in the function call**:"
   ]
  },
  {
   "cell_type": "code",
   "execution_count": 350,
   "metadata": {},
   "outputs": [
    {
     "name": "stdout",
     "output_type": "stream",
     "text": [
      "Hello dear Johan!\n",
      "How are you?\n",
      "I am well, thanks for asking!\n"
     ]
    }
   ],
   "source": [
    "greetings(name=\"Johan\") # the parameter is set to the argument value \"Johan\""
   ]
  },
  {
   "cell_type": "markdown",
   "metadata": {},
   "source": [
    "Let's create a new function that just prints the function's argument:"
   ]
  },
  {
   "cell_type": "code",
   "execution_count": 351,
   "metadata": {},
   "outputs": [],
   "source": [
    "def return_name(name):\n",
    "    print(name)"
   ]
  },
  {
   "cell_type": "code",
   "execution_count": 352,
   "metadata": {},
   "outputs": [
    {
     "name": "stdout",
     "output_type": "stream",
     "text": [
      "Johan\n"
     ]
    }
   ],
   "source": [
    "return_name(\"Johan\")"
   ]
  },
  {
   "cell_type": "markdown",
   "metadata": {},
   "source": [
    "So, to recap:\n",
    "- The function's **argument** is the value that is passed to the function when you call it (the string value \"Johan\" in the above example)\n",
    "- The function's **parameter** is the variable name to which the value is assigned (the variable `name` in the above example)"
   ]
  },
  {
   "cell_type": "markdown",
   "metadata": {},
   "source": [
    "You can also have more than one parameter when you define your functions. You just put more parameters within the parenthesis, while defining your function, seperated by a comma.\n",
    "\n",
    "As an example, let's redefine our greeting function to also require a `country` parameter:"
   ]
  },
  {
   "cell_type": "code",
   "execution_count": 361,
   "metadata": {},
   "outputs": [],
   "source": [
    "def greetings(name, country):\n",
    "    print(\"Hello \" + name + \"! You're from \" + country + \", right?\")"
   ]
  },
  {
   "cell_type": "markdown",
   "metadata": {},
   "source": [
    "Let's clean it up using string formatting (see section 3.2.1 if you need a refreasher!):"
   ]
  },
  {
   "cell_type": "code",
   "execution_count": 82,
   "metadata": {},
   "outputs": [],
   "source": [
    "def greetings(name, country):\n",
    "    print(f\"Hello  {name}! You're from {country}, right?\")"
   ]
  },
  {
   "cell_type": "code",
   "execution_count": 335,
   "metadata": {},
   "outputs": [
    {
     "name": "stdout",
     "output_type": "stream",
     "text": [
      "Hello Johan! You're from Sweden, right?\n"
     ]
    }
   ],
   "source": [
    "greetings(\"Johan\", \"Sweden\")"
   ]
  },
  {
   "cell_type": "markdown",
   "metadata": {},
   "source": [
    "Since we have set the function with two parameters, just giving the function one argument in the function call will now produce an error:"
   ]
  },
  {
   "cell_type": "code",
   "execution_count": 336,
   "metadata": {},
   "outputs": [
    {
     "ename": "TypeError",
     "evalue": "greetings() missing 1 required positional argument: 'country'",
     "output_type": "error",
     "traceback": [
      "\u001b[0;31m---------------------------------------------------------------------------\u001b[0m",
      "\u001b[0;31mTypeError\u001b[0m                                 Traceback (most recent call last)",
      "\u001b[0;32m<ipython-input-336-442e49b0e564>\u001b[0m in \u001b[0;36m<module>\u001b[0;34m\u001b[0m\n\u001b[0;32m----> 1\u001b[0;31m \u001b[0mgreetings\u001b[0m\u001b[0;34m(\u001b[0m\u001b[0;34m\"Johan\"\u001b[0m\u001b[0;34m)\u001b[0m\u001b[0;34m\u001b[0m\u001b[0;34m\u001b[0m\u001b[0m\n\u001b[0m",
      "\u001b[0;31mTypeError\u001b[0m: greetings() missing 1 required positional argument: 'country'"
     ]
    }
   ],
   "source": [
    "greetings(\"Johan\")"
   ]
  },
  {
   "cell_type": "markdown",
   "metadata": {},
   "source": [
    "Remember, the order of parameters counts. If you pass positional arguments in the wrong order, it may not result in what you expected:"
   ]
  },
  {
   "cell_type": "code",
   "execution_count": 337,
   "metadata": {},
   "outputs": [
    {
     "name": "stdout",
     "output_type": "stream",
     "text": [
      "Hello Sweden! You're from Johan, right?\n"
     ]
    }
   ],
   "source": [
    "greetings(\"Sweden\",\"Johan\")"
   ]
  },
  {
   "cell_type": "markdown",
   "metadata": {},
   "source": [
    "However, if we specify which argument we want to which parameter variable name, the order doesn't matter:"
   ]
  },
  {
   "cell_type": "code",
   "execution_count": 338,
   "metadata": {},
   "outputs": [
    {
     "name": "stdout",
     "output_type": "stream",
     "text": [
      "Hello Johan! You're from Sweden, right?\n"
     ]
    }
   ],
   "source": [
    "greetings(country=\"Sweden\", name=\"Johan\")"
   ]
  },
  {
   "cell_type": "markdown",
   "metadata": {},
   "source": [
    "### (Optional) Styling conventions writing functions"
   ]
  },
  {
   "cell_type": "markdown",
   "metadata": {},
   "source": [
    "Here's a (kind of) quick style guide when you're defining functions. Let's take the earlier example:"
   ]
  },
  {
   "cell_type": "code",
   "execution_count": 363,
   "metadata": {},
   "outputs": [],
   "source": [
    "def greetings(name, country):\n",
    "    print(f\"Hello  {name}! You're from {country}, right?\")"
   ]
  },
  {
   "cell_type": "code",
   "execution_count": 364,
   "metadata": {},
   "outputs": [
    {
     "name": "stdout",
     "output_type": "stream",
     "text": [
      "Hello Johan! You're from Sweden, right?\n"
     ]
    }
   ],
   "source": [
    "greetings(name=\"Johan\", country=\"Sweden\")"
   ]
  },
  {
   "cell_type": "markdown",
   "metadata": {},
   "source": [
    "When specifying argument to parameters as in the cell directly above, note that we don't use blank space inbetween the `=`. \n",
    "\n",
    "Some of you might have noticed that this is different than when we defined variables in section 3 above. If we would simply define a variable like this:"
   ]
  },
  {
   "cell_type": "code",
   "execution_count": 339,
   "metadata": {},
   "outputs": [],
   "source": [
    "name = \"Johan\""
   ]
  },
  {
   "cell_type": "markdown",
   "metadata": {},
   "source": [
    "...we use one blank space on each side of the `=` operator. It is common practice to _not_ use blank space when specifying parameters in function calls:"
   ]
  },
  {
   "cell_type": "code",
   "execution_count": 340,
   "metadata": {},
   "outputs": [
    {
     "name": "stdout",
     "output_type": "stream",
     "text": [
      "Hello Johan! You're from Sweden, right?\n"
     ]
    }
   ],
   "source": [
    "greetings(name=\"Johan\", country=\"Sweden\") # No blank spaces next to the \"=\" operators!"
   ]
  },
  {
   "cell_type": "markdown",
   "metadata": {},
   "source": [
    "However, there IS blank space after the comma. All this is common practice in the Python community, since it is considered to increase your code's readability. It is would still work with blank space:"
   ]
  },
  {
   "cell_type": "code",
   "execution_count": 365,
   "metadata": {},
   "outputs": [
    {
     "name": "stdout",
     "output_type": "stream",
     "text": [
      "Hello Johan! You're from Sweden, right?\n"
     ]
    }
   ],
   "source": [
    "greetings(country = \"Sweden\", name = \"Johan\") # don't write like this, even though it works :)"
   ]
  },
  {
   "cell_type": "markdown",
   "metadata": {},
   "source": [
    "Why? This is in accordance with [the official Python style guide.](https://www.python.org/dev/peps/pep-0008/#whitespace-in-expressions-and-statements)"
   ]
  },
  {
   "cell_type": "markdown",
   "metadata": {},
   "source": [
    "Lastly, since the function `greetings()` _requires_ two argument – that is, two **positional arguments** – we shouldn't name them in our function calls. It is seen as overly wordy and verbose. So this is prefered:"
   ]
  },
  {
   "cell_type": "code",
   "execution_count": 366,
   "metadata": {},
   "outputs": [
    {
     "name": "stdout",
     "output_type": "stream",
     "text": [
      "Hello Johan! You're from Sweden, right?\n"
     ]
    }
   ],
   "source": [
    "greetings(\"Johan\", \"Sweden\")"
   ]
  },
  {
   "cell_type": "markdown",
   "metadata": {},
   "source": [
    "### The `return` statement"
   ]
  },
  {
   "cell_type": "markdown",
   "metadata": {},
   "source": [
    "Just having functions printing information may not be sufficient when you write a function. Often, you want your function to do something to the values – the arguments, that is – that we pass to them. You want them to _return_ a result of some kind. We can specify what to be returned from functions we write using the `return` statement. As an example, we will build a small calculator!"
   ]
  },
  {
   "cell_type": "code",
   "execution_count": 373,
   "metadata": {},
   "outputs": [],
   "source": [
    "def multiplies_by_three(number):\n",
    "    number = number * 3\n",
    "    return number"
   ]
  },
  {
   "cell_type": "code",
   "execution_count": 374,
   "metadata": {},
   "outputs": [
    {
     "data": {
      "text/plain": [
       "15"
      ]
     },
     "execution_count": 374,
     "metadata": {},
     "output_type": "execute_result"
    }
   ],
   "source": [
    "multiplies_by_three(5)"
   ]
  },
  {
   "cell_type": "markdown",
   "metadata": {},
   "source": [
    "Let's go through this step by step:\n",
    "1. We have defined a new function that we named `multiplies_by_three`\n",
    "2. We've specified that the function has a parameter – `number`\n",
    "3. The functions code block then multiplies the `number` parameter by three, and reassigns the results to the variable `number`\n",
    "4. It then _returns_ the resulting number value that is assigned to `number` using the `return` keyword. _This is the return statement_\n",
    "5. Finally, we call our function, passing it the integer value 5 as an argument. It runs the integer through the function's code block and returns the value 15"
   ]
  },
  {
   "cell_type": "markdown",
   "metadata": {},
   "source": [
    "We can save this result in a new variable:"
   ]
  },
  {
   "cell_type": "code",
   "execution_count": 375,
   "metadata": {},
   "outputs": [],
   "source": [
    "results = multiplies_by_three(5)"
   ]
  },
  {
   "cell_type": "code",
   "execution_count": 376,
   "metadata": {},
   "outputs": [
    {
     "data": {
      "text/plain": [
       "15"
      ]
     },
     "execution_count": 376,
     "metadata": {},
     "output_type": "execute_result"
    }
   ],
   "source": [
    "results"
   ]
  },
  {
   "cell_type": "markdown",
   "metadata": {},
   "source": [
    "Actually, a function _always_ return a value. But if you don't specify which one with a return statement, it will return the `None` value. See what happens if we only remove the result statement:"
   ]
  },
  {
   "cell_type": "code",
   "execution_count": 379,
   "metadata": {},
   "outputs": [],
   "source": [
    "def multiplies_by_three(number):\n",
    "    number = number * 3"
   ]
  },
  {
   "cell_type": "code",
   "execution_count": 380,
   "metadata": {},
   "outputs": [],
   "source": [
    "results = multiplies_by_three(5)"
   ]
  },
  {
   "cell_type": "code",
   "execution_count": 382,
   "metadata": {},
   "outputs": [],
   "source": [
    "results # Doesn't return anything?"
   ]
  },
  {
   "cell_type": "code",
   "execution_count": 384,
   "metadata": {},
   "outputs": [
    {
     "data": {
      "text/plain": [
       "NoneType"
      ]
     },
     "execution_count": 384,
     "metadata": {},
     "output_type": "execute_result"
    }
   ],
   "source": [
    "type(results)"
   ]
  },
  {
   "cell_type": "code",
   "execution_count": 385,
   "metadata": {},
   "outputs": [
    {
     "data": {
      "text/plain": [
       "True"
      ]
     },
     "execution_count": 385,
     "metadata": {},
     "output_type": "execute_result"
    }
   ],
   "source": [
    "None == results"
   ]
  },
  {
   "cell_type": "markdown",
   "metadata": {},
   "source": [
    "### Bulletpoints"
   ]
  },
  {
   "cell_type": "markdown",
   "metadata": {},
   "source": [
    "- Functions are small miniprograms. They are containers of block of code. They help us not having to dublicate code\n",
    "- We **call** functions by **invoking** them, which means we write their names followed by enclosed parenthesis\n",
    "- We can pass values to function when invoking them. These inputs are called **arguments**\n",
    "- The arguments' values are assigned to the function's **parameters**, which are then used as variables within the function's code block\n",
    "- By invoking functions, it **returns a value as an output**. We can specify what in the function we want returned by using **the return statement**"
   ]
  },
  {
   "cell_type": "markdown",
   "metadata": {
    "heading_collapsed": true
   },
   "source": [
    "## Local and global scopes"
   ]
  },
  {
   "cell_type": "markdown",
   "metadata": {
    "hidden": true
   },
   "source": [
    "Hopefully, you now understand how to use and how to build your own functions, and how they are useful when coding in Python. But there is one concept we havn't introduced that is essential to understand when writing functions in Python: _scopes_.\n",
    "\n",
    "The code that is executed outside a function is in a different scope than the code living inside it. Take this function that creates a variable assigned to the integer 9, and then returns it:"
   ]
  },
  {
   "cell_type": "code",
   "execution_count": 430,
   "metadata": {
    "hidden": true,
    "jupyter": {
     "outputs_hidden": true
    }
   },
   "outputs": [],
   "source": [
    "def make_nine():\n",
    "    number = 9\n",
    "    return number"
   ]
  },
  {
   "cell_type": "markdown",
   "metadata": {
    "hidden": true
   },
   "source": [
    "Let's try it!"
   ]
  },
  {
   "cell_type": "code",
   "execution_count": 432,
   "metadata": {
    "hidden": true
   },
   "outputs": [
    {
     "data": {
      "text/plain": [
       "9"
      ]
     },
     "execution_count": 432,
     "metadata": {},
     "output_type": "execute_result"
    }
   ],
   "source": [
    "make_nine()"
   ]
  },
  {
   "cell_type": "markdown",
   "metadata": {
    "hidden": true
   },
   "source": [
    "When we called the function, the code block within it was executed, and the integer 9 was returned. But what happens if we first create a variable outside the function, assigned to another variable:"
   ]
  },
  {
   "cell_type": "code",
   "execution_count": 434,
   "metadata": {
    "hidden": true,
    "jupyter": {
     "outputs_hidden": true
    }
   },
   "outputs": [],
   "source": [
    "number = 3"
   ]
  },
  {
   "cell_type": "code",
   "execution_count": 435,
   "metadata": {
    "hidden": true
   },
   "outputs": [
    {
     "data": {
      "text/plain": [
       "3"
      ]
     },
     "execution_count": 435,
     "metadata": {},
     "output_type": "execute_result"
    }
   ],
   "source": [
    "number"
   ]
  },
  {
   "cell_type": "markdown",
   "metadata": {
    "hidden": true
   },
   "source": [
    "...and now run the function again:"
   ]
  },
  {
   "cell_type": "code",
   "execution_count": 436,
   "metadata": {
    "hidden": true,
    "jupyter": {
     "outputs_hidden": true
    }
   },
   "outputs": [
    {
     "data": {
      "text/plain": [
       "9"
      ]
     },
     "execution_count": 436,
     "metadata": {},
     "output_type": "execute_result"
    }
   ],
   "source": [
    "make_nine()"
   ]
  },
  {
   "cell_type": "markdown",
   "metadata": {
    "hidden": true
   },
   "source": [
    "So, if we now check the variable `number`, which value will we get? Can you guess?"
   ]
  },
  {
   "cell_type": "code",
   "execution_count": 437,
   "metadata": {
    "hidden": true,
    "jupyter": {
     "outputs_hidden": true
    }
   },
   "outputs": [
    {
     "data": {
      "text/plain": [
       "3"
      ]
     },
     "execution_count": 437,
     "metadata": {},
     "output_type": "execute_result"
    }
   ],
   "source": [
    "number"
   ]
  },
  {
   "cell_type": "markdown",
   "metadata": {
    "hidden": true
   },
   "source": [
    "_Why is this?_ \n",
    "\n",
    "We first created the variable `number` outside the function. This happend in the scope \"furthest outside\" – the ground level sort to speak – and this is called **the global scope**. There is no scope outside the global scope. Variables that are created in the global scope are called **global variables**.\n",
    "\n",
    "The code that lives within the function is in a **local scope**. When the function is invoked, the code inside the function is executed in _a local execution context_. This means that the variable `number` we created inside the function is within in a different context than when we defined the global variable `number = 3`, in the global scope. Variables defined inside a function – inside the function's local scope – are called **local variables**. \n",
    "\n",
    "**Variables cannot be both local and global.**\n",
    "\n",
    "Here's the same code, but with some comments to highlight scopes:\n"
   ]
  },
  {
   "cell_type": "code",
   "execution_count": 441,
   "metadata": {
    "hidden": true
   },
   "outputs": [
    {
     "data": {
      "text/plain": [
       "3"
      ]
     },
     "execution_count": 441,
     "metadata": {},
     "output_type": "execute_result"
    }
   ],
   "source": [
    "def make_nine():\n",
    "    # This code block is in a local scope\n",
    "    number = 9 # Local variable\n",
    "    return number # The local scope terminates after this line\n",
    "\n",
    "number = 3 # Global variable\n",
    "\n",
    "make_nine() # This executes the code within the function, creating a local scope\n",
    "\n",
    "number # This is still our global variable\n"
   ]
  },
  {
   "cell_type": "markdown",
   "metadata": {
    "hidden": true
   },
   "source": [
    "When `number` is defined in the `make_nine()` function, it only lives in this local scope. When the last line within the function is executed, the local scope is terminated and all variables defined gets forgotten.\n",
    "\n",
    "Here is a picture visualising what was going on:"
   ]
  },
  {
   "cell_type": "markdown",
   "metadata": {
    "hidden": true
   },
   "source": [
    "<img src=\"course_material/scopes.png\" style=\"width: 600px;\"/>"
   ]
  },
  {
   "cell_type": "markdown",
   "metadata": {
    "hidden": true
   },
   "source": [
    "1. We defined a function called `make_nine()` that creates the local variable `number`\n",
    "2. We created the global variable `number` – this happend in the global scope\n",
    "3. We call the function\n",
    "4. By invoking the function, a local scope is created and the code within the function executes\n",
    "5. The _local_ variable `number` gets set to a new value – the integer 9 – but this happens within the local scope, _it is a different variable than the global variable `number`_\n",
    "6. The integer value 9 is returned by the function and the local scope is terminated and `number = 9` is forgotten\n",
    "7. Finally, we run the _global_ variable `number` which returns the integer 3 since this is the value the global variable `number` points to"
   ]
  },
  {
   "cell_type": "markdown",
   "metadata": {
    "hidden": true
   },
   "source": [
    "Let's include som `print()` functions to make it even clearer:"
   ]
  },
  {
   "cell_type": "code",
   "execution_count": 442,
   "metadata": {
    "hidden": true
   },
   "outputs": [],
   "source": [
    "def make_nine():\n",
    "    number = 9 # local variable\n",
    "    print(\"Local scope: now, number is \" + str(number))\n",
    "    return number"
   ]
  },
  {
   "cell_type": "code",
   "execution_count": 444,
   "metadata": {
    "hidden": true
   },
   "outputs": [
    {
     "name": "stdout",
     "output_type": "stream",
     "text": [
      "Global scope: number is 3\n",
      "Local scope: now, number is 9\n",
      "Global scope: finally, number is still 3 in the global execution conte\n"
     ]
    }
   ],
   "source": [
    "number = 3\n",
    "print(\"Global scope: number is \" + str(number))\n",
    "\n",
    "# we now call the function, creating a local execution context\n",
    "make_nine()\n",
    "\n",
    "print(\"Global scope: finally, number is still \" + str(number) + \" in the global execution conte\")"
   ]
  },
  {
   "cell_type": "markdown",
   "metadata": {
    "hidden": true
   },
   "source": [
    "Here are some general rules concerning scopes:"
   ]
  },
  {
   "cell_type": "markdown",
   "metadata": {
    "hidden": true
   },
   "source": [
    "### Global code cannot use local variables"
   ]
  },
  {
   "cell_type": "markdown",
   "metadata": {
    "hidden": true
   },
   "source": [
    "Take this example:"
   ]
  },
  {
   "cell_type": "code",
   "execution_count": 455,
   "metadata": {
    "hidden": true
   },
   "outputs": [],
   "source": [
    "def define_a_variable():\n",
    "    # This code is in a local scope\n",
    "    local_num = 42"
   ]
  },
  {
   "cell_type": "code",
   "execution_count": 456,
   "metadata": {
    "hidden": true
   },
   "outputs": [],
   "source": [
    "# calling the function, creating its local scope\n",
    "define_a_variable()"
   ]
  },
  {
   "cell_type": "code",
   "execution_count": 454,
   "metadata": {
    "hidden": true
   },
   "outputs": [
    {
     "ename": "NameError",
     "evalue": "name 'local_num' is not defined",
     "output_type": "error",
     "traceback": [
      "\u001b[0;31m---------------------------------------------------------------------------\u001b[0m",
      "\u001b[0;31mNameError\u001b[0m                                 Traceback (most recent call last)",
      "\u001b[0;32m<ipython-input-454-b907f10a5570>\u001b[0m in \u001b[0;36m<module>\u001b[0;34m\u001b[0m\n\u001b[0;32m----> 1\u001b[0;31m \u001b[0mlocal_num\u001b[0m \u001b[0;31m# error, since there is no such variable in the global scope\u001b[0m\u001b[0;34m\u001b[0m\u001b[0;34m\u001b[0m\u001b[0m\n\u001b[0m",
      "\u001b[0;31mNameError\u001b[0m: name 'local_num' is not defined"
     ]
    }
   ],
   "source": [
    "local_num # error, since there is no such variable in the global scope"
   ]
  },
  {
   "cell_type": "markdown",
   "metadata": {
    "hidden": true
   },
   "source": [
    "The variable `local_num` doesn't exist in the global scope, it only exists briefly locally when the function is called and the functions code is run. When the function's code block is executed, the local scope terminates and the local variable is forgotten. So when we try to reference that variable in the global scope, the computer has no variable called `local_num` defined in memory. "
   ]
  },
  {
   "cell_type": "markdown",
   "metadata": {
    "hidden": true
   },
   "source": [
    "### Global variables can be used in local scopes"
   ]
  },
  {
   "cell_type": "markdown",
   "metadata": {
    "hidden": true
   },
   "source": [
    "All local scopes can access variables that exists in the global scope. Take this example:"
   ]
  },
  {
   "cell_type": "code",
   "execution_count": 464,
   "metadata": {
    "hidden": true
   },
   "outputs": [],
   "source": [
    "def a_function():\n",
    "    print(fruit)"
   ]
  },
  {
   "cell_type": "code",
   "execution_count": 465,
   "metadata": {
    "hidden": true
   },
   "outputs": [],
   "source": [
    "fruit = \"Banana\""
   ]
  },
  {
   "cell_type": "markdown",
   "metadata": {
    "hidden": true
   },
   "source": [
    "Above, we have a function that only prints a variable named `fruit`. When we call `a_function()`, the interpreter sees that we want to print a variable. But since we havn't created any such variable locally within the function, the interpreter checks to see if any such variable exists in the global scope. So if we run the function:"
   ]
  },
  {
   "cell_type": "code",
   "execution_count": 466,
   "metadata": {
    "hidden": true
   },
   "outputs": [
    {
     "name": "stdout",
     "output_type": "stream",
     "text": [
      "Banana\n"
     ]
    }
   ],
   "source": [
    "a_function()"
   ]
  },
  {
   "cell_type": "markdown",
   "metadata": {
    "hidden": true
   },
   "source": [
    "...it returns the value of the global variable `fruit`.\n",
    "\n",
    "So the rule is: if there is no `assignement statement` within a local scope, and a variable is referenced, the interpreter will check for any variable with the same name in the global scope and then use it."
   ]
  },
  {
   "cell_type": "markdown",
   "metadata": {
    "hidden": true
   },
   "source": [
    "### Local scopes can't use variables in other local scopes"
   ]
  },
  {
   "cell_type": "markdown",
   "metadata": {
    "hidden": true
   },
   "source": [
    "Let's define two functions that can explain this fact:"
   ]
  },
  {
   "cell_type": "code",
   "execution_count": 457,
   "metadata": {
    "hidden": true
   },
   "outputs": [],
   "source": [
    "def function_one():\n",
    "    big_number = 99\n",
    "    function_two()\n",
    "    print(big_number)\n",
    "    \n",
    "def function_two():\n",
    "    big_number = 9000"
   ]
  },
  {
   "cell_type": "markdown",
   "metadata": {
    "hidden": true
   },
   "source": [
    "Here, we have two functions. `function_two()` is called within the scope of `function_one()`. If we call `function_one()`, which number do you think will be printed? Let's have a look:"
   ]
  },
  {
   "cell_type": "code",
   "execution_count": 458,
   "metadata": {
    "hidden": true
   },
   "outputs": [
    {
     "name": "stdout",
     "output_type": "stream",
     "text": [
      "99\n"
     ]
    }
   ],
   "source": [
    "function_one()"
   ]
  },
  {
   "cell_type": "markdown",
   "metadata": {
    "hidden": true
   },
   "source": [
    "When we call `function_one()`, the variable `big_number` is assigned to the value 99. And after that `function_two()` is called, creating its own local scope. Within this scope, `big_number` is assigned to the value 9000 – _but this is another variable than the one in `function_one()`._ They are in different local scopes, and therefore not the same variable.\n",
    "\n",
    "After `big_number` is defined in `function_two()`, the function is finished and its local scope terminated. The local variable `big_number` in `function_two()` is consequently lost. The interpreter then returns to the local scope within `function_one()` and prints `big_number` – which in _this_ scope is assigned to 99.\n",
    "\n",
    "The two functions' scopes are not connected and thus, their variables are not interchangable. Let's create a variable in `function_two()` that isn't in `function_one()` and then try to reference it:"
   ]
  },
  {
   "cell_type": "code",
   "execution_count": 459,
   "metadata": {
    "hidden": true
   },
   "outputs": [],
   "source": [
    "def function_one():\n",
    "    function_two()\n",
    "    print(fruit)\n",
    "    \n",
    "def function_two():\n",
    "    fruit = \"Banana\""
   ]
  },
  {
   "cell_type": "code",
   "execution_count": 460,
   "metadata": {
    "hidden": true
   },
   "outputs": [
    {
     "ename": "NameError",
     "evalue": "name 'fruit' is not defined",
     "output_type": "error",
     "traceback": [
      "\u001b[0;31m---------------------------------------------------------------------------\u001b[0m",
      "\u001b[0;31mNameError\u001b[0m                                 Traceback (most recent call last)",
      "\u001b[0;32m<ipython-input-460-d99d9708fb63>\u001b[0m in \u001b[0;36m<module>\u001b[0;34m\u001b[0m\n\u001b[0;32m----> 1\u001b[0;31m \u001b[0mfunction_one\u001b[0m\u001b[0;34m(\u001b[0m\u001b[0;34m)\u001b[0m\u001b[0;34m\u001b[0m\u001b[0;34m\u001b[0m\u001b[0m\n\u001b[0m",
      "\u001b[0;32m<ipython-input-459-f733e7210014>\u001b[0m in \u001b[0;36mfunction_one\u001b[0;34m()\u001b[0m\n\u001b[1;32m      1\u001b[0m \u001b[0;32mdef\u001b[0m \u001b[0mfunction_one\u001b[0m\u001b[0;34m(\u001b[0m\u001b[0;34m)\u001b[0m\u001b[0;34m:\u001b[0m\u001b[0;34m\u001b[0m\u001b[0;34m\u001b[0m\u001b[0m\n\u001b[1;32m      2\u001b[0m     \u001b[0mfunction_two\u001b[0m\u001b[0;34m(\u001b[0m\u001b[0;34m)\u001b[0m\u001b[0;34m\u001b[0m\u001b[0;34m\u001b[0m\u001b[0m\n\u001b[0;32m----> 3\u001b[0;31m     \u001b[0mprint\u001b[0m\u001b[0;34m(\u001b[0m\u001b[0mfruit\u001b[0m\u001b[0;34m)\u001b[0m\u001b[0;34m\u001b[0m\u001b[0;34m\u001b[0m\u001b[0m\n\u001b[0m\u001b[1;32m      4\u001b[0m \u001b[0;34m\u001b[0m\u001b[0m\n\u001b[1;32m      5\u001b[0m \u001b[0;32mdef\u001b[0m \u001b[0mfunction_two\u001b[0m\u001b[0;34m(\u001b[0m\u001b[0;34m)\u001b[0m\u001b[0;34m:\u001b[0m\u001b[0;34m\u001b[0m\u001b[0;34m\u001b[0m\u001b[0m\n",
      "\u001b[0;31mNameError\u001b[0m: name 'fruit' is not defined"
     ]
    }
   ],
   "source": [
    "function_one()"
   ]
  },
  {
   "cell_type": "markdown",
   "metadata": {
    "hidden": true
   },
   "source": [
    "We get a `NameError` since the variable `fruit` doesn't exist within the local scope of `function_one()`, only within `function_two()`'s."
   ]
  },
  {
   "cell_type": "markdown",
   "metadata": {
    "heading_collapsed": true
   },
   "source": [
    "## Object orientation and Methods"
   ]
  },
  {
   "cell_type": "markdown",
   "metadata": {
    "hidden": true
   },
   "source": [
    "In Python, everything, all code, is considered an object. Every object comes with its own features, properties, and functions. This means that if we create a variable with a string value:"
   ]
  },
  {
   "cell_type": "code",
   "execution_count": 483,
   "metadata": {
    "hidden": true
   },
   "outputs": [],
   "source": [
    "fruit = \"banana\""
   ]
  },
  {
   "cell_type": "markdown",
   "metadata": {
    "hidden": true
   },
   "source": [
    "...this variable has its own functions. A function connected to an object is called a **method** in Python. They are exactly the same as the regular functions we have learned about in the previous chapter, only that they are accessed in a different way – with the dot `.` operator. We actually used the `.` operator when we learned about how to import modules and to use their functions when we imported the `randint()` function from the `random` module. Using the `.` to access method is called **dot notation**."
   ]
  },
  {
   "cell_type": "code",
   "execution_count": 484,
   "metadata": {
    "hidden": true
   },
   "outputs": [],
   "source": [
    "import random"
   ]
  },
  {
   "cell_type": "code",
   "execution_count": 486,
   "metadata": {
    "hidden": true
   },
   "outputs": [
    {
     "data": {
      "text/plain": [
       "10"
      ]
     },
     "execution_count": 486,
     "metadata": {},
     "output_type": "execute_result"
    }
   ],
   "source": [
    "random.randint(1,10) # randint() is a method"
   ]
  },
  {
   "cell_type": "markdown",
   "metadata": {
    "hidden": true
   },
   "source": [
    "Since even values are objects with their own methods, let's try it on our variable. Since it points to a string value, we can use string value methods. For example, the `upper()` method:"
   ]
  },
  {
   "cell_type": "code",
   "execution_count": 488,
   "metadata": {
    "hidden": true
   },
   "outputs": [
    {
     "data": {
      "text/plain": [
       "'BANANA'"
      ]
     },
     "execution_count": 488,
     "metadata": {},
     "output_type": "execute_result"
    }
   ],
   "source": [
    "fruit.upper() # returns the string in upper casing"
   ]
  },
  {
   "cell_type": "markdown",
   "metadata": {
    "hidden": true
   },
   "source": [
    "Or the `capitalize()` method, which returns the string but with the first letter capitalized:"
   ]
  },
  {
   "cell_type": "code",
   "execution_count": 491,
   "metadata": {
    "hidden": true
   },
   "outputs": [
    {
     "data": {
      "text/plain": [
       "'Banana'"
      ]
     },
     "execution_count": 491,
     "metadata": {},
     "output_type": "execute_result"
    }
   ],
   "source": [
    "fruit.capitalize()"
   ]
  },
  {
   "cell_type": "markdown",
   "metadata": {
    "hidden": true
   },
   "source": [
    "Remember, methods and functions are the same. \"Method\" is used to emphasize that it is a function attached to other objects."
   ]
  },
  {
   "cell_type": "markdown",
   "metadata": {
    "heading_collapsed": true
   },
   "source": [
    "## Lists"
   ]
  },
  {
   "cell_type": "markdown",
   "metadata": {
    "hidden": true
   },
   "source": [
    "In section 1, we learned about the different value types. When programming, we often want to save many values into a container to store data. These are called **data structures**. In Python there The main data structures in Python is:\n",
    "\n",
    "- lists\n",
    "- tuples\n",
    "- dictionaries\n",
    "\n",
    "In this chapter, we will learn about lists and save the other two for later chapters."
   ]
  },
  {
   "cell_type": "markdown",
   "metadata": {
    "hidden": true
   },
   "source": [
    "### Definition"
   ]
  },
  {
   "cell_type": "markdown",
   "metadata": {
    "hidden": true
   },
   "source": [
    "A list in Python is defined by enclosed within square brackets `[]`:"
   ]
  },
  {
   "cell_type": "code",
   "execution_count": 82,
   "metadata": {
    "hidden": true
   },
   "outputs": [
    {
     "data": {
      "text/plain": [
       "[]"
      ]
     },
     "execution_count": 82,
     "metadata": {},
     "output_type": "execute_result"
    }
   ],
   "source": [
    "[] # empty list"
   ]
  },
  {
   "cell_type": "code",
   "execution_count": 467,
   "metadata": {
    "hidden": true
   },
   "outputs": [
    {
     "data": {
      "text/plain": [
       "list"
      ]
     },
     "execution_count": 467,
     "metadata": {},
     "output_type": "execute_result"
    }
   ],
   "source": [
    "type([])"
   ]
  },
  {
   "cell_type": "markdown",
   "metadata": {
    "hidden": true
   },
   "source": [
    "A list can contain zero (like in the cell just above), one, or many values. The contents in a list are called **items**. All items in a list are seperated by commas:"
   ]
  },
  {
   "cell_type": "code",
   "execution_count": 497,
   "metadata": {
    "hidden": true,
    "jupyter": {
     "outputs_hidden": true
    }
   },
   "outputs": [
    {
     "data": {
      "text/plain": [
       "[2, 4, 3, 1]"
      ]
     },
     "execution_count": 497,
     "metadata": {},
     "output_type": "execute_result"
    }
   ],
   "source": [
    "[2, 4, 3, 1]"
   ]
  },
  {
   "cell_type": "markdown",
   "metadata": {
    "hidden": true
   },
   "source": [
    "(Note that it is common practice to type blank space after commas in lists in Python)"
   ]
  },
  {
   "cell_type": "markdown",
   "metadata": {
    "hidden": true
   },
   "source": [
    "Lists can contain any type of value:"
   ]
  },
  {
   "cell_type": "code",
   "execution_count": 469,
   "metadata": {
    "hidden": true
   },
   "outputs": [
    {
     "data": {
      "text/plain": [
       "[1, 'Hello world!', True, None]"
      ]
     },
     "execution_count": 469,
     "metadata": {},
     "output_type": "execute_result"
    }
   ],
   "source": [
    "[1, \"Hello world!\", True, None]"
   ]
  },
  {
   "cell_type": "markdown",
   "metadata": {
    "hidden": true
   },
   "source": [
    "### List index"
   ]
  },
  {
   "cell_type": "markdown",
   "metadata": {
    "hidden": true
   },
   "source": [
    "All lists in Python has an index that can be used to find specific values within the list."
   ]
  },
  {
   "cell_type": "code",
   "execution_count": 506,
   "metadata": {
    "hidden": true,
    "jupyter": {
     "outputs_hidden": true
    }
   },
   "outputs": [],
   "source": [
    "a_list = [1, 2, \"three\", 4] # saving a list to a variable"
   ]
  },
  {
   "cell_type": "markdown",
   "metadata": {
    "hidden": true
   },
   "source": [
    "To access a list's index and return a specific value, we type squared brackets directly after the list with an **index number** in-between:"
   ]
  },
  {
   "cell_type": "code",
   "execution_count": 507,
   "metadata": {
    "hidden": true,
    "jupyter": {
     "outputs_hidden": true
    }
   },
   "outputs": [
    {
     "data": {
      "text/plain": [
       "1"
      ]
     },
     "execution_count": 507,
     "metadata": {},
     "output_type": "execute_result"
    }
   ],
   "source": [
    "a_list[0]"
   ]
  },
  {
   "cell_type": "code",
   "execution_count": 508,
   "metadata": {
    "hidden": true
   },
   "outputs": [
    {
     "data": {
      "text/plain": [
       "'three'"
      ]
     },
     "execution_count": 508,
     "metadata": {},
     "output_type": "execute_result"
    }
   ],
   "source": [
    "a_list[2]"
   ]
  },
  {
   "cell_type": "markdown",
   "metadata": {
    "hidden": true
   },
   "source": [
    "In Python, lists are zero-indexed, meaning that their index start at 0. But we can also reference the index using negative numbers which references the list backwards. **Negative indexing** start at -1 which points to the last value in the list:"
   ]
  },
  {
   "cell_type": "code",
   "execution_count": 509,
   "metadata": {
    "hidden": true
   },
   "outputs": [
    {
     "data": {
      "text/plain": [
       "4"
      ]
     },
     "execution_count": 509,
     "metadata": {},
     "output_type": "execute_result"
    }
   ],
   "source": [
    "a_list[-1]"
   ]
  },
  {
   "cell_type": "markdown",
   "metadata": {
    "hidden": true
   },
   "source": [
    "Using an indexnumber that is higher than the number of values included in the list will produce an error:"
   ]
  },
  {
   "cell_type": "code",
   "execution_count": 510,
   "metadata": {
    "hidden": true
   },
   "outputs": [
    {
     "ename": "IndexError",
     "evalue": "list index out of range",
     "output_type": "error",
     "traceback": [
      "\u001b[0;31m---------------------------------------------------------------------------\u001b[0m",
      "\u001b[0;31mIndexError\u001b[0m                                Traceback (most recent call last)",
      "\u001b[0;32m<ipython-input-510-1e7a69c995d4>\u001b[0m in \u001b[0;36m<module>\u001b[0;34m\u001b[0m\n\u001b[0;32m----> 1\u001b[0;31m \u001b[0ma_list\u001b[0m\u001b[0;34m[\u001b[0m\u001b[0;36m10\u001b[0m\u001b[0;34m]\u001b[0m\u001b[0;34m\u001b[0m\u001b[0;34m\u001b[0m\u001b[0m\n\u001b[0m",
      "\u001b[0;31mIndexError\u001b[0m: list index out of range"
     ]
    }
   ],
   "source": [
    "a_list[10]"
   ]
  },
  {
   "cell_type": "markdown",
   "metadata": {
    "hidden": true
   },
   "source": [
    "You can also put lists within lists. This is called _nested lists_:"
   ]
  },
  {
   "cell_type": "code",
   "execution_count": 498,
   "metadata": {
    "hidden": true,
    "jupyter": {
     "outputs_hidden": true
    }
   },
   "outputs": [],
   "source": [
    "nested_list = [0, 1, [2, 3], 4]"
   ]
  },
  {
   "cell_type": "markdown",
   "metadata": {
    "hidden": true
   },
   "source": [
    "Nested lists' values can also be accessed with indexing:"
   ]
  },
  {
   "cell_type": "code",
   "execution_count": 503,
   "metadata": {
    "hidden": true
   },
   "outputs": [
    {
     "data": {
      "text/plain": [
       "[2, 3]"
      ]
     },
     "execution_count": 503,
     "metadata": {},
     "output_type": "execute_result"
    }
   ],
   "source": [
    "nested_list[2] # index value 2 returns the nested list"
   ]
  },
  {
   "cell_type": "code",
   "execution_count": 504,
   "metadata": {
    "hidden": true
   },
   "outputs": [
    {
     "data": {
      "text/plain": [
       "3"
      ]
     },
     "execution_count": 504,
     "metadata": {},
     "output_type": "execute_result"
    }
   ],
   "source": [
    "nested_list[2][1] # second index value (1) returns the second item in the nested list"
   ]
  },
  {
   "cell_type": "markdown",
   "metadata": {
    "hidden": true
   },
   "source": [
    "### Slicing"
   ]
  },
  {
   "cell_type": "markdown",
   "metadata": {
    "hidden": true
   },
   "source": [
    "Using index values, we can also get chunks of the list. This is done with **slicing**. The syntax for a slice is two index numbers – a start and a stop index – seperated by a colon `:`"
   ]
  },
  {
   "cell_type": "code",
   "execution_count": 544,
   "metadata": {
    "hidden": true
   },
   "outputs": [],
   "source": [
    "a_list = [3, 5, 4, \"banana\", \"apple\", \"orange\"]"
   ]
  },
  {
   "cell_type": "code",
   "execution_count": 545,
   "metadata": {
    "hidden": true
   },
   "outputs": [
    {
     "data": {
      "text/plain": [
       "['banana', 'apple', 'orange']"
      ]
     },
     "execution_count": 545,
     "metadata": {},
     "output_type": "execute_result"
    }
   ],
   "source": [
    "a_list[3:6] # start at index 3, stop at index 6"
   ]
  },
  {
   "cell_type": "markdown",
   "metadata": {
    "hidden": true
   },
   "source": [
    "The second number is \"up to this index\", **not** \"up to _and including_ this index\". "
   ]
  },
  {
   "cell_type": "markdown",
   "metadata": {
    "hidden": true
   },
   "source": [
    "We can also do slicing with just one index number:"
   ]
  },
  {
   "cell_type": "code",
   "execution_count": 549,
   "metadata": {
    "hidden": true
   },
   "outputs": [
    {
     "data": {
      "text/plain": [
       "[3, 5]"
      ]
     },
     "execution_count": 549,
     "metadata": {},
     "output_type": "execute_result"
    }
   ],
   "source": [
    "a_list[:2] # returns all values up to index 2"
   ]
  },
  {
   "cell_type": "code",
   "execution_count": 551,
   "metadata": {
    "hidden": true
   },
   "outputs": [
    {
     "data": {
      "text/plain": [
       "[4, 'banana', 'apple', 'orange']"
      ]
     },
     "execution_count": 551,
     "metadata": {},
     "output_type": "execute_result"
    }
   ],
   "source": [
    "a_list[2:] # returns all values from index 2 and onwards"
   ]
  },
  {
   "cell_type": "markdown",
   "metadata": {
    "hidden": true
   },
   "source": [
    "_A slice always returns a list_, even if you would only get one value from it:"
   ]
  },
  {
   "cell_type": "code",
   "execution_count": 546,
   "metadata": {
    "hidden": true
   },
   "outputs": [
    {
     "data": {
      "text/plain": [
       "['orange']"
      ]
     },
     "execution_count": 546,
     "metadata": {},
     "output_type": "execute_result"
    }
   ],
   "source": [
    "a_list[-1:] # return all values from the last value and onwards"
   ]
  },
  {
   "cell_type": "markdown",
   "metadata": {
    "hidden": true
   },
   "source": [
    "### Changing list values"
   ]
  },
  {
   "cell_type": "markdown",
   "metadata": {
    "hidden": true
   },
   "source": [
    "Using list indexing, we can also change values within the list:"
   ]
  },
  {
   "cell_type": "code",
   "execution_count": 4,
   "metadata": {
    "hidden": true
   },
   "outputs": [],
   "source": [
    "fruit = ['banana', 'apple', 'pear']"
   ]
  },
  {
   "cell_type": "code",
   "execution_count": 5,
   "metadata": {
    "hidden": true
   },
   "outputs": [],
   "source": [
    "fruit[1] = 'peach'"
   ]
  },
  {
   "cell_type": "code",
   "execution_count": 6,
   "metadata": {
    "hidden": true
   },
   "outputs": [
    {
     "data": {
      "text/plain": [
       "['banana', 'peach', 'pear']"
      ]
     },
     "execution_count": 6,
     "metadata": {},
     "output_type": "execute_result"
    }
   ],
   "source": [
    "fruit"
   ]
  },
  {
   "cell_type": "markdown",
   "metadata": {
    "hidden": true
   },
   "source": [
    "This can also be done using slicing:"
   ]
  },
  {
   "cell_type": "code",
   "execution_count": 7,
   "metadata": {
    "hidden": true
   },
   "outputs": [],
   "source": [
    "fruit[1:] = ['blueberries', 'orange']"
   ]
  },
  {
   "cell_type": "code",
   "execution_count": 8,
   "metadata": {
    "hidden": true
   },
   "outputs": [
    {
     "data": {
      "text/plain": [
       "['banana', 'blueberries', 'orange']"
      ]
     },
     "execution_count": 8,
     "metadata": {},
     "output_type": "execute_result"
    }
   ],
   "source": [
    "fruit"
   ]
  },
  {
   "cell_type": "markdown",
   "metadata": {
    "hidden": true
   },
   "source": [
    "### Removing items with `del`"
   ]
  },
  {
   "cell_type": "markdown",
   "metadata": {
    "hidden": true
   },
   "source": [
    "Removing items can also done using the `del` keyword:"
   ]
  },
  {
   "cell_type": "code",
   "execution_count": 16,
   "metadata": {
    "hidden": true
   },
   "outputs": [],
   "source": [
    "fruit = ['banana', 'apple', 'pear']"
   ]
  },
  {
   "cell_type": "code",
   "execution_count": 17,
   "metadata": {
    "hidden": true
   },
   "outputs": [],
   "source": [
    "del fruit[1]"
   ]
  },
  {
   "cell_type": "code",
   "execution_count": 18,
   "metadata": {
    "hidden": true
   },
   "outputs": [
    {
     "data": {
      "text/plain": [
       "['banana', 'pear']"
      ]
     },
     "execution_count": 18,
     "metadata": {},
     "output_type": "execute_result"
    }
   ],
   "source": [
    "fruit"
   ]
  },
  {
   "cell_type": "markdown",
   "metadata": {
    "hidden": true
   },
   "source": [
    "Can also be used with slicing:"
   ]
  },
  {
   "cell_type": "code",
   "execution_count": 25,
   "metadata": {
    "hidden": true
   },
   "outputs": [],
   "source": [
    "fruit = ['banana', 'apple', 'pear', 'orange']"
   ]
  },
  {
   "cell_type": "code",
   "execution_count": 26,
   "metadata": {
    "hidden": true
   },
   "outputs": [],
   "source": [
    "del fruit[0:2]"
   ]
  },
  {
   "cell_type": "code",
   "execution_count": 27,
   "metadata": {
    "hidden": true
   },
   "outputs": [
    {
     "data": {
      "text/plain": [
       "['pear', 'orange']"
      ]
     },
     "execution_count": 27,
     "metadata": {},
     "output_type": "execute_result"
    }
   ],
   "source": [
    "fruit"
   ]
  },
  {
   "cell_type": "markdown",
   "metadata": {
    "hidden": true
   },
   "source": [
    "### List methods"
   ]
  },
  {
   "cell_type": "markdown",
   "metadata": {
    "hidden": true
   },
   "source": [
    "Lists have a range of useful methods. These are some commonly used ones."
   ]
  },
  {
   "cell_type": "markdown",
   "metadata": {
    "hidden": true
   },
   "source": [
    "#### `.append()`"
   ]
  },
  {
   "cell_type": "markdown",
   "metadata": {
    "hidden": true
   },
   "source": [
    "Take this list as an example:"
   ]
  },
  {
   "cell_type": "code",
   "execution_count": 84,
   "metadata": {
    "hidden": true
   },
   "outputs": [],
   "source": [
    "animals = [\"dog\", \"camel\", \"bird\", \"mouse\"]"
   ]
  },
  {
   "cell_type": "code",
   "execution_count": 85,
   "metadata": {
    "hidden": true
   },
   "outputs": [
    {
     "data": {
      "text/plain": [
       "['dog', 'camel', 'bird', 'mouse']"
      ]
     },
     "execution_count": 85,
     "metadata": {},
     "output_type": "execute_result"
    }
   ],
   "source": [
    "animals"
   ]
  },
  {
   "cell_type": "markdown",
   "metadata": {
    "hidden": true
   },
   "source": [
    "With the `append()` method, we add the passed argument to the end of the list. Here, we add the string \"elephant\":"
   ]
  },
  {
   "cell_type": "code",
   "execution_count": 86,
   "metadata": {
    "hidden": true
   },
   "outputs": [],
   "source": [
    "animals.append(\"elephant\")"
   ]
  },
  {
   "cell_type": "code",
   "execution_count": 87,
   "metadata": {
    "hidden": true
   },
   "outputs": [
    {
     "data": {
      "text/plain": [
       "['dog', 'camel', 'bird', 'mouse', 'elephant']"
      ]
     },
     "execution_count": 87,
     "metadata": {},
     "output_type": "execute_result"
    }
   ],
   "source": [
    "animals"
   ]
  },
  {
   "cell_type": "markdown",
   "metadata": {
    "hidden": true
   },
   "source": [
    "#### `.insert()`"
   ]
  },
  {
   "cell_type": "markdown",
   "metadata": {
    "hidden": true
   },
   "source": [
    "Using the `insert()` method, we also add a value, but we can specify where we want it placed inside the list. This method takes two arguments (seperated by comma, remember?): the first is the index number we want the new value placed, and the second is the value we want inserted in the list."
   ]
  },
  {
   "cell_type": "code",
   "execution_count": 95,
   "metadata": {
    "hidden": true
   },
   "outputs": [],
   "source": [
    "animals = [\"dog\", \"camel\", \"bird\", \"mouse\"]"
   ]
  },
  {
   "cell_type": "code",
   "execution_count": 96,
   "metadata": {
    "hidden": true
   },
   "outputs": [],
   "source": [
    "animals.insert(2, \"elephant\") # value with index number 2 – that is, the third value – shall be \"elephant\""
   ]
  },
  {
   "cell_type": "code",
   "execution_count": 97,
   "metadata": {
    "hidden": true
   },
   "outputs": [
    {
     "data": {
      "text/plain": [
       "['dog', 'camel', 'elephant', 'bird', 'mouse']"
      ]
     },
     "execution_count": 97,
     "metadata": {},
     "output_type": "execute_result"
    }
   ],
   "source": [
    "animals"
   ]
  },
  {
   "cell_type": "markdown",
   "metadata": {
    "hidden": true
   },
   "source": [
    "#### `.remove()`"
   ]
  },
  {
   "cell_type": "markdown",
   "metadata": {
    "hidden": true
   },
   "source": [
    "We can also remove items using the `remove()` method:"
   ]
  },
  {
   "cell_type": "code",
   "execution_count": 98,
   "metadata": {
    "hidden": true
   },
   "outputs": [],
   "source": [
    "animals = [\"dog\", \"camel\", \"bird\", \"mouse\"]"
   ]
  },
  {
   "cell_type": "code",
   "execution_count": 99,
   "metadata": {
    "hidden": true
   },
   "outputs": [],
   "source": [
    "animals.remove(\"dog\")"
   ]
  },
  {
   "cell_type": "code",
   "execution_count": 100,
   "metadata": {
    "hidden": true
   },
   "outputs": [
    {
     "data": {
      "text/plain": [
       "['camel', 'bird', 'mouse']"
      ]
     },
     "execution_count": 100,
     "metadata": {},
     "output_type": "execute_result"
    }
   ],
   "source": [
    "animals"
   ]
  },
  {
   "cell_type": "markdown",
   "metadata": {
    "hidden": true
   },
   "source": [
    "#### `.index()`"
   ]
  },
  {
   "cell_type": "markdown",
   "metadata": {
    "hidden": true
   },
   "source": [
    "We can also use the `index()` method to learn which index number a specific value in the list has:"
   ]
  },
  {
   "cell_type": "code",
   "execution_count": 83,
   "metadata": {
    "hidden": true
   },
   "outputs": [
    {
     "data": {
      "text/plain": [
       "1"
      ]
     },
     "execution_count": 83,
     "metadata": {},
     "output_type": "execute_result"
    }
   ],
   "source": [
    "animals.index('bird')"
   ]
  },
  {
   "cell_type": "markdown",
   "metadata": {
    "hidden": true
   },
   "source": [
    "This can be useful when you only want one specific value changed, but don't know where in the list it is. Let's say we have a list of names, and only want to change one name in the list:"
   ]
  },
  {
   "cell_type": "code",
   "execution_count": 101,
   "metadata": {
    "hidden": true
   },
   "outputs": [],
   "source": [
    "names = [\"Johan\", \"Fredrik\", \"Anna\", \"Sonya\", \"Ahmed\"]"
   ]
  },
  {
   "cell_type": "code",
   "execution_count": 102,
   "metadata": {
    "hidden": true
   },
   "outputs": [],
   "source": [
    "change_this = names.index(\"Johan\")"
   ]
  },
  {
   "cell_type": "code",
   "execution_count": 103,
   "metadata": {
    "hidden": true
   },
   "outputs": [],
   "source": [
    "names[change_this] = \"Super Fantastic\""
   ]
  },
  {
   "cell_type": "code",
   "execution_count": 104,
   "metadata": {
    "hidden": true
   },
   "outputs": [
    {
     "data": {
      "text/plain": [
       "['Super Fantastic', 'Fredrik', 'Anna', 'Sonya', 'Ahmed']"
      ]
     },
     "execution_count": 104,
     "metadata": {},
     "output_type": "execute_result"
    }
   ],
   "source": [
    "names"
   ]
  },
  {
   "cell_type": "markdown",
   "metadata": {
    "hidden": true
   },
   "source": [
    "##### (Optional) Method call straight into index brackets"
   ]
  },
  {
   "cell_type": "markdown",
   "metadata": {
    "hidden": true
   },
   "source": [
    "Since the method `.index()` return the index value, we can acctually just insert that method call into the index brackets directly!"
   ]
  },
  {
   "cell_type": "code",
   "execution_count": 105,
   "metadata": {
    "hidden": true
   },
   "outputs": [],
   "source": [
    "names = [\"Johan\", \"Fredrik\", \"Anna\", \"Sonya\", \"Ahmed\"]"
   ]
  },
  {
   "cell_type": "code",
   "execution_count": 106,
   "metadata": {
    "hidden": true
   },
   "outputs": [],
   "source": [
    "names[names.index(\"Johan\")] = \"Super Fantastic\""
   ]
  },
  {
   "cell_type": "code",
   "execution_count": 107,
   "metadata": {
    "hidden": true,
    "scrolled": true
   },
   "outputs": [
    {
     "data": {
      "text/plain": [
       "['Super Fantastic', 'Fredrik', 'Anna', 'Sonya', 'Ahmed']"
      ]
     },
     "execution_count": 107,
     "metadata": {},
     "output_type": "execute_result"
    }
   ],
   "source": [
    "names"
   ]
  },
  {
   "cell_type": "markdown",
   "metadata": {
    "hidden": true
   },
   "source": [
    "#### \"In place\" methods"
   ]
  },
  {
   "cell_type": "markdown",
   "metadata": {
    "hidden": true
   },
   "source": [
    "Some of you may have noticed that some of the methods above didn't return any value. Take `.append()` as an example:"
   ]
  },
  {
   "cell_type": "code",
   "execution_count": 108,
   "metadata": {
    "hidden": true
   },
   "outputs": [],
   "source": [
    "names = [\"Johan\", \"Fredrik\", \"Anna\", \"Sonya\", \"Ahmed\"]"
   ]
  },
  {
   "cell_type": "code",
   "execution_count": 109,
   "metadata": {
    "hidden": true
   },
   "outputs": [],
   "source": [
    "names.append(\"Lisa\") # Doesn't return anything??"
   ]
  },
  {
   "cell_type": "code",
   "execution_count": 110,
   "metadata": {
    "hidden": true
   },
   "outputs": [
    {
     "data": {
      "text/plain": [
       "['Johan', 'Fredrik', 'Anna', 'Sonya', 'Ahmed', 'Lisa']"
      ]
     },
     "execution_count": 110,
     "metadata": {},
     "output_type": "execute_result"
    }
   ],
   "source": [
    "names"
   ]
  },
  {
   "cell_type": "markdown",
   "metadata": {
    "hidden": true
   },
   "source": [
    "Some methods modify values \"in place\". `.append()` is one such method. They actually do return a value – `None`. In other words, don't try to reassign the `.append()` method to the `names` variable: "
   ]
  },
  {
   "cell_type": "code",
   "execution_count": 115,
   "metadata": {
    "hidden": true
   },
   "outputs": [],
   "source": [
    "names = [\"Johan\", \"Fredrik\", \"Anna\", \"Sonya\", \"Ahmed\"]"
   ]
  },
  {
   "cell_type": "code",
   "execution_count": 112,
   "metadata": {
    "hidden": true
   },
   "outputs": [],
   "source": [
    "names = names.append(\"Lisa\")"
   ]
  },
  {
   "cell_type": "code",
   "execution_count": 113,
   "metadata": {
    "hidden": true
   },
   "outputs": [],
   "source": [
    "names"
   ]
  },
  {
   "cell_type": "code",
   "execution_count": 114,
   "metadata": {
    "hidden": true
   },
   "outputs": [
    {
     "data": {
      "text/plain": [
       "NoneType"
      ]
     },
     "execution_count": 114,
     "metadata": {},
     "output_type": "execute_result"
    }
   ],
   "source": [
    "type(names)"
   ]
  },
  {
   "cell_type": "markdown",
   "metadata": {
    "hidden": true
   },
   "source": [
    "### Similarities between lists and strings"
   ]
  },
  {
   "cell_type": "markdown",
   "metadata": {
    "hidden": true
   },
   "source": [
    "As explained in chapter 3 (Functions), the `len()` function returns the number of items within a container. We used this built-in function on string values:"
   ]
  },
  {
   "cell_type": "code",
   "execution_count": 34,
   "metadata": {
    "hidden": true
   },
   "outputs": [],
   "source": [
    "name = \"Johan\""
   ]
  },
  {
   "cell_type": "code",
   "execution_count": 35,
   "metadata": {
    "hidden": true
   },
   "outputs": [
    {
     "data": {
      "text/plain": [
       "5"
      ]
     },
     "execution_count": 35,
     "metadata": {},
     "output_type": "execute_result"
    }
   ],
   "source": [
    "len(name)"
   ]
  },
  {
   "cell_type": "markdown",
   "metadata": {
    "hidden": true
   },
   "source": [
    "Lists are also containers, which means we can also use the `len()` function on our lists!"
   ]
  },
  {
   "cell_type": "code",
   "execution_count": 36,
   "metadata": {
    "hidden": true
   },
   "outputs": [],
   "source": [
    "fruit = ['banana', 'apple', 'orange']"
   ]
  },
  {
   "cell_type": "code",
   "execution_count": 37,
   "metadata": {
    "hidden": true
   },
   "outputs": [
    {
     "data": {
      "text/plain": [
       "3"
      ]
     },
     "execution_count": 37,
     "metadata": {},
     "output_type": "execute_result"
    }
   ],
   "source": [
    "len(fruit)"
   ]
  },
  {
   "cell_type": "markdown",
   "metadata": {
    "hidden": true
   },
   "source": [
    "String values is also indexed! This means we can reference their letters by index:"
   ]
  },
  {
   "cell_type": "code",
   "execution_count": 44,
   "metadata": {
    "hidden": true
   },
   "outputs": [
    {
     "data": {
      "text/plain": [
       "'a'"
      ]
     },
     "execution_count": 44,
     "metadata": {},
     "output_type": "execute_result"
    }
   ],
   "source": [
    "name[3]"
   ]
  },
  {
   "cell_type": "markdown",
   "metadata": {
    "hidden": true
   },
   "source": [
    "And by slicing:"
   ]
  },
  {
   "cell_type": "code",
   "execution_count": 46,
   "metadata": {
    "hidden": true
   },
   "outputs": [
    {
     "data": {
      "text/plain": [
       "'han'"
      ]
     },
     "execution_count": 46,
     "metadata": {},
     "output_type": "execute_result"
    }
   ],
   "source": [
    "name[2:]"
   ]
  },
  {
   "cell_type": "markdown",
   "metadata": {
    "hidden": true
   },
   "source": [
    "Just as with strings, lists can be concatinated with the `+` operator."
   ]
  },
  {
   "cell_type": "code",
   "execution_count": 52,
   "metadata": {
    "hidden": true
   },
   "outputs": [
    {
     "data": {
      "text/plain": [
       "'Hello world!'"
      ]
     },
     "execution_count": 52,
     "metadata": {},
     "output_type": "execute_result"
    }
   ],
   "source": [
    "\"Hello \" + \"world!\""
   ]
  },
  {
   "cell_type": "markdown",
   "metadata": {
    "hidden": true
   },
   "source": [
    "Also works with lists:"
   ]
  },
  {
   "cell_type": "code",
   "execution_count": 53,
   "metadata": {
    "hidden": true
   },
   "outputs": [
    {
     "data": {
      "text/plain": [
       "['banana', 'apple', 'orange']"
      ]
     },
     "execution_count": 53,
     "metadata": {},
     "output_type": "execute_result"
    }
   ],
   "source": [
    "fruit"
   ]
  },
  {
   "cell_type": "code",
   "execution_count": 48,
   "metadata": {
    "hidden": true
   },
   "outputs": [],
   "source": [
    "berries = ['blackberries', 'strawberries', 'blueberries']"
   ]
  },
  {
   "cell_type": "code",
   "execution_count": 49,
   "metadata": {
    "hidden": true
   },
   "outputs": [
    {
     "data": {
      "text/plain": [
       "['banana', 'apple', 'orange', 'blackberries', 'strawberries', 'blueberries']"
      ]
     },
     "execution_count": 49,
     "metadata": {},
     "output_type": "execute_result"
    }
   ],
   "source": [
    "fruit + berries"
   ]
  },
  {
   "cell_type": "code",
   "execution_count": 56,
   "metadata": {
    "hidden": true
   },
   "outputs": [
    {
     "data": {
      "text/plain": [
       "[1, 2, 3, 4]"
      ]
     },
     "execution_count": 56,
     "metadata": {},
     "output_type": "execute_result"
    }
   ],
   "source": [
    "[1, 2, 3] + [4]"
   ]
  },
  {
   "cell_type": "markdown",
   "metadata": {
    "hidden": true
   },
   "source": [
    "We can also do **list replication** with the multiplication operator:"
   ]
  },
  {
   "cell_type": "code",
   "execution_count": 55,
   "metadata": {
    "hidden": true
   },
   "outputs": [
    {
     "data": {
      "text/plain": [
       "['banana',\n",
       " 'apple',\n",
       " 'orange',\n",
       " 'banana',\n",
       " 'apple',\n",
       " 'orange',\n",
       " 'banana',\n",
       " 'apple',\n",
       " 'orange']"
      ]
     },
     "execution_count": 55,
     "metadata": {},
     "output_type": "execute_result"
    }
   ],
   "source": [
    "fruit * 3"
   ]
  },
  {
   "cell_type": "markdown",
   "metadata": {
    "hidden": true
   },
   "source": [
    "#### The `split()` method"
   ]
  },
  {
   "cell_type": "markdown",
   "metadata": {
    "hidden": true
   },
   "source": [
    "String values acctually have a very neet method that let us cut up strings into lists: `split()`. By default, this method splits up the string by all its blank spaces:"
   ]
  },
  {
   "cell_type": "code",
   "execution_count": 60,
   "metadata": {
    "hidden": true
   },
   "outputs": [],
   "source": [
    "long_string = \"Hello everyone. This is a preeeetty long string. At least, I think so\""
   ]
  },
  {
   "cell_type": "code",
   "execution_count": 61,
   "metadata": {
    "hidden": true
   },
   "outputs": [
    {
     "data": {
      "text/plain": [
       "['Hello',\n",
       " 'everyone.',\n",
       " 'This',\n",
       " 'is',\n",
       " 'a',\n",
       " 'preeeetty',\n",
       " 'long',\n",
       " 'string.',\n",
       " 'At',\n",
       " 'least,',\n",
       " 'I',\n",
       " 'think',\n",
       " 'so']"
      ]
     },
     "execution_count": 61,
     "metadata": {},
     "output_type": "execute_result"
    }
   ],
   "source": [
    "long_string.split()"
   ]
  },
  {
   "cell_type": "markdown",
   "metadata": {
    "hidden": true
   },
   "source": [
    "But we can split it on any character we wish. We just pass said character as an argument:"
   ]
  },
  {
   "cell_type": "code",
   "execution_count": 62,
   "metadata": {
    "hidden": true
   },
   "outputs": [
    {
     "data": {
      "text/plain": [
       "['Hello everyone', ' This is a preeeetty long string', ' At least, I think so']"
      ]
     },
     "execution_count": 62,
     "metadata": {},
     "output_type": "execute_result"
    }
   ],
   "source": [
    "long_string.split(\".\")"
   ]
  },
  {
   "cell_type": "markdown",
   "metadata": {
    "hidden": true
   },
   "source": [
    "We will explore this in more detail later."
   ]
  },
  {
   "cell_type": "markdown",
   "metadata": {
    "hidden": true
   },
   "source": [
    "### The built-in function `list()`"
   ]
  },
  {
   "cell_type": "markdown",
   "metadata": {
    "hidden": true
   },
   "source": [
    "The `list()` function lets us convert list-like objects into Python lists (more on what is to consider \"list-like\" later). Like a string value:"
   ]
  },
  {
   "cell_type": "code",
   "execution_count": 57,
   "metadata": {
    "hidden": true
   },
   "outputs": [
    {
     "data": {
      "text/plain": [
       "['J', 'o', 'h', 'a', 'n']"
      ]
     },
     "execution_count": 57,
     "metadata": {},
     "output_type": "execute_result"
    }
   ],
   "source": [
    "list(\"Johan\")"
   ]
  },
  {
   "cell_type": "markdown",
   "metadata": {
    "hidden": true
   },
   "source": [
    "### The `in` and `not in` operators"
   ]
  },
  {
   "cell_type": "markdown",
   "metadata": {
    "hidden": true
   },
   "source": [
    "Often, our lists will include a whole bunch of items. And it is fairly common we want to check to see if a specific value is or isn't included in the list. As an example, let's create a list of surnames:"
   ]
  },
  {
   "cell_type": "code",
   "execution_count": 63,
   "metadata": {
    "hidden": true
   },
   "outputs": [],
   "source": [
    "surnames = [\"Ekman\", \"Smith\", \"Deboullie\", \"Mäki\", \"Sørensen\", \"Doe\"]"
   ]
  },
  {
   "cell_type": "markdown",
   "metadata": {
    "hidden": true
   },
   "source": [
    "We can now check to see if the surname \"Doe\" is in the list (remember, Python is checking your code literally. Casing matters, so always check your spelling!):"
   ]
  },
  {
   "cell_type": "code",
   "execution_count": 68,
   "metadata": {
    "hidden": true
   },
   "outputs": [
    {
     "data": {
      "text/plain": [
       "True"
      ]
     },
     "execution_count": 68,
     "metadata": {},
     "output_type": "execute_result"
    }
   ],
   "source": [
    "\"Doe\" in surnames"
   ]
  },
  {
   "cell_type": "code",
   "execution_count": 69,
   "metadata": {
    "hidden": true
   },
   "outputs": [
    {
     "data": {
      "text/plain": [
       "True"
      ]
     },
     "execution_count": 69,
     "metadata": {},
     "output_type": "execute_result"
    }
   ],
   "source": [
    "\"banana\" not in surnames"
   ]
  },
  {
   "cell_type": "code",
   "execution_count": 70,
   "metadata": {
    "hidden": true
   },
   "outputs": [
    {
     "data": {
      "text/plain": [
       "False"
      ]
     },
     "execution_count": 70,
     "metadata": {},
     "output_type": "execute_result"
    }
   ],
   "source": [
    "\"Doe\" not in surnames"
   ]
  },
  {
   "cell_type": "markdown",
   "metadata": {
    "hidden": true
   },
   "source": [
    "If you recall the if-statement, it is fairly easy to understand why these operators would come in handy in a program. Let's say we want our program to add names that aren't already in the list. An if-statement can help us with that:"
   ]
  },
  {
   "cell_type": "code",
   "execution_count": 78,
   "metadata": {
    "hidden": true
   },
   "outputs": [],
   "source": [
    "name = \"Sauron\""
   ]
  },
  {
   "cell_type": "code",
   "execution_count": 79,
   "metadata": {
    "hidden": true
   },
   "outputs": [],
   "source": [
    "if name not in surnames:\n",
    "    surnames.append(name)"
   ]
  },
  {
   "cell_type": "code",
   "execution_count": 80,
   "metadata": {
    "hidden": true
   },
   "outputs": [
    {
     "data": {
      "text/plain": [
       "['Ekman', 'Smith', 'Deboullie', 'Mäki', 'Sørensen', 'Doe', 'Johan', 'Sauron']"
      ]
     },
     "execution_count": 80,
     "metadata": {},
     "output_type": "execute_result"
    }
   ],
   "source": [
    "surnames"
   ]
  },
  {
   "cell_type": "markdown",
   "metadata": {
    "heading_collapsed": true
   },
   "source": [
    "## Loops"
   ]
  },
  {
   "cell_type": "markdown",
   "metadata": {
    "hidden": true
   },
   "source": [
    "### `while`-loops"
   ]
  },
  {
   "cell_type": "markdown",
   "metadata": {
    "hidden": true
   },
   "source": [
    "In chapter 6 we learned about flow control `if`-statements. For example:"
   ]
  },
  {
   "cell_type": "code",
   "execution_count": 5,
   "metadata": {
    "hidden": true
   },
   "outputs": [],
   "source": [
    "number = 0"
   ]
  },
  {
   "cell_type": "code",
   "execution_count": 6,
   "metadata": {
    "hidden": true
   },
   "outputs": [
    {
     "name": "stdout",
     "output_type": "stream",
     "text": [
      "1\n"
     ]
    }
   ],
   "source": [
    "if number < 5:\n",
    "    number = number + 1\n",
    "    print(number)"
   ]
  },
  {
   "cell_type": "markdown",
   "metadata": {
    "hidden": true
   },
   "source": [
    "Here, we created a global variable `number` assigned to the integer 0. The `if`-statement evaluates the condition `number < 5` to `True` (since 0 is less than 5) and thus executes the code block beneath it. Within the code block, `number` is increased by 1, and the variable is then printed. Here is a flow chart of what has happend:"
   ]
  },
  {
   "cell_type": "markdown",
   "metadata": {
    "hidden": true
   },
   "source": [
    "<img src=\"course_material/if_statement.png\" style=\"width: 600px;\"/>"
   ]
  },
  {
   "cell_type": "markdown",
   "metadata": {
    "hidden": true
   },
   "source": [
    "A `while`-loop lets us use the same kind of flow control, while at the same time automatically repeating the code block as many times we'd like. Let's do the same thing, but with a while loop:"
   ]
  },
  {
   "cell_type": "code",
   "execution_count": 11,
   "metadata": {
    "hidden": true
   },
   "outputs": [],
   "source": [
    "number = 0"
   ]
  },
  {
   "cell_type": "code",
   "execution_count": 12,
   "metadata": {
    "hidden": true
   },
   "outputs": [
    {
     "name": "stdout",
     "output_type": "stream",
     "text": [
      "1\n",
      "2\n",
      "3\n",
      "4\n",
      "5\n"
     ]
    }
   ],
   "source": [
    "while number < 5:\n",
    "    number = number + 1\n",
    "    print(number)"
   ]
  },
  {
   "cell_type": "markdown",
   "metadata": {
    "hidden": true
   },
   "source": [
    "A `while`-loop evaluates the condition passed (`number < 5`), and if this is true, the code block is executed – just like the `if`-statement. BUT! The difference is that the `while`-loop will execute the code block, and then _return back to the condition and check it again_. If the condition is still true, it will rerun the code block. It will _loop over_ the code block until the condition is false! Here is a flow chart of what happend:"
   ]
  },
  {
   "cell_type": "markdown",
   "metadata": {
    "hidden": true
   },
   "source": [
    "<img src=\"course_material/while_loop.png\" style=\"width: 500px;\"/>"
   ]
  },
  {
   "cell_type": "markdown",
   "metadata": {
    "hidden": true
   },
   "source": [
    "While loops are usually used when you want input from a user that needs to be typed in a specific way. Uncomment the following code (just remove the `#` characters in the cell – and be careful to only remove the `#` characters!) and run the code:"
   ]
  },
  {
   "cell_type": "code",
   "execution_count": 19,
   "metadata": {
    "hidden": true
   },
   "outputs": [],
   "source": [
    "#user_input = input()\n",
    "#print(\"Would you like to proceed?\")\n",
    "#while user_input != \"Yes\":\n",
    "#    print(\"To proceed, type 'Yes'\")\n",
    "#    user_input = input()\n",
    "#print(\"Proceeding...\")"
   ]
  },
  {
   "cell_type": "markdown",
   "metadata": {
    "hidden": true
   },
   "source": [
    "Above, we use the built-in function `input()`. This creates a small input bar under the cell where we can type in a value that will be passed as a string to our code. If the string value we've passed doesn't match \"Yes\", the condition `user_input != \"Yes\"` will evaluate to `True`, and the code block is executed. "
   ]
  },
  {
   "cell_type": "markdown",
   "metadata": {
    "hidden": true
   },
   "source": [
    "#### CAUTION: Infinite `while`-loops"
   ]
  },
  {
   "cell_type": "markdown",
   "metadata": {
    "hidden": true
   },
   "source": [
    "Since a while-loop always repeats itself if its condition is evaluated to True, you have to be cautious not to create an infinite loop. Let's reuse the above example but with one small change:"
   ]
  },
  {
   "cell_type": "code",
   "execution_count": 13,
   "metadata": {
    "hidden": true
   },
   "outputs": [],
   "source": [
    "number = 0"
   ]
  },
  {
   "cell_type": "code",
   "execution_count": null,
   "metadata": {
    "hidden": true
   },
   "outputs": [],
   "source": [
    "#while number < 5:\n",
    "#    print(number)"
   ]
  },
  {
   "cell_type": "markdown",
   "metadata": {
    "hidden": true
   },
   "source": [
    "The while-loop above is commented out so that you won't run it by accident. This code will create an infinite loop. Since we no longer add the integer 1 to `number` within the loop's code block, `number` will always be 0. This means that the condition `number < 5` will _always_ be True, and the loop will continue until the end of time. Whoopsie! ¯\\\\\\_(ツ)\\_/¯"
   ]
  },
  {
   "cell_type": "markdown",
   "metadata": {
    "hidden": true
   },
   "source": [
    "No worries though. You can _always_ interrupt a running program in Python. In general when running python programs, this is done by pressing <kbd>⌃ Control</kbd>+<kbd>C</kbd>. In a Jupyter Notebook, however, you do this by either:\n",
    "- pressing <kbd>I</kbd>,<kbd>I</kbd> (double tap `I` on your keyboard)\n",
    "- Go to the Jupyter menu and choose Kernel > Interrupt. Here is a pic:"
   ]
  },
  {
   "cell_type": "markdown",
   "metadata": {
    "hidden": true
   },
   "source": [
    "<img src=\"course_material/interrupt.png\" style=\"width: 500px;\"/>"
   ]
  },
  {
   "cell_type": "markdown",
   "metadata": {
    "hidden": true
   },
   "source": [
    "Try it! Uncomment above while-loop and interrupt it!"
   ]
  },
  {
   "cell_type": "markdown",
   "metadata": {
    "hidden": true
   },
   "source": [
    "### `for`-loops"
   ]
  },
  {
   "cell_type": "markdown",
   "metadata": {
    "hidden": true
   },
   "source": [
    "In chapter 10 we learned about lists. A very common task in coding is looping through all items in a list to change all, or some, of the values within it. If we don't use a loop, going through the list items will be tedious and ugly.\n",
    "\n",
    "As an example, let's say we have a list of values, and we want to multiply them with three and print the results:"
   ]
  },
  {
   "cell_type": "code",
   "execution_count": 4,
   "metadata": {
    "hidden": true
   },
   "outputs": [],
   "source": [
    "numbers = [42, 3, 15, 7, 99]"
   ]
  },
  {
   "cell_type": "markdown",
   "metadata": {
    "hidden": true
   },
   "source": [
    "Using the list's index, we can do operations on the list's values:"
   ]
  },
  {
   "cell_type": "code",
   "execution_count": 2,
   "metadata": {
    "hidden": true
   },
   "outputs": [
    {
     "name": "stdout",
     "output_type": "stream",
     "text": [
      "126\n",
      "9\n",
      "45\n",
      "21\n",
      "297\n"
     ]
    }
   ],
   "source": [
    "result = numbers[0] * 3\n",
    "print(result)\n",
    "result = numbers[1] * 3\n",
    "print(result)\n",
    "result = numbers[2] * 3\n",
    "print(result)\n",
    "result = numbers[3] * 3\n",
    "print(result)\n",
    "result = numbers[4] * 3\n",
    "print(result)"
   ]
  },
  {
   "cell_type": "markdown",
   "metadata": {
    "hidden": true
   },
   "source": [
    "As you can see, this is as boring to type out as it is hard to read. Instead, we can use the `for`-loop. There are two ways to loop through the items:\n",
    "- either going through them by index, using the `range()` function\n",
    "- looping the actual values in the list, wihtout the `range()` function\n",
    "\n",
    "Let's go through them one by one."
   ]
  },
  {
   "cell_type": "markdown",
   "metadata": {
    "hidden": true
   },
   "source": [
    "#### `for`-loop with the `range()` function"
   ]
  },
  {
   "cell_type": "markdown",
   "metadata": {
    "hidden": true
   },
   "source": [
    "The `range()`-function returns what is called a range object. It can be used together with a loop to set how many loops we wish to be called:"
   ]
  },
  {
   "cell_type": "code",
   "execution_count": 11,
   "metadata": {
    "hidden": true
   },
   "outputs": [
    {
     "data": {
      "text/plain": [
       "range"
      ]
     },
     "execution_count": 11,
     "metadata": {},
     "output_type": "execute_result"
    }
   ],
   "source": [
    "type(range(5)) # the range datatype"
   ]
  },
  {
   "cell_type": "code",
   "execution_count": 12,
   "metadata": {
    "hidden": true
   },
   "outputs": [
    {
     "name": "stdout",
     "output_type": "stream",
     "text": [
      "0\n",
      "1\n",
      "2\n",
      "3\n",
      "4\n"
     ]
    }
   ],
   "source": [
    "for i in range(5):\n",
    "    print(i)"
   ]
  },
  {
   "cell_type": "markdown",
   "metadata": {
    "hidden": true
   },
   "source": [
    "A for loop consists of five pieces:\n",
    "1. The `for` keyword\n",
    "2. A variable name. `i` in the above example (this is the standard way to name the variable in for-loops using the range() function – \"i\" for index)\n",
    "3. The `in` keyword, specifying which container object we want to loop over\n",
    "4. The container to loop over (in this case, a range object returned from the `range()`-function)\n",
    "5. A colon `:` signifying \"the following code block shall be used in every loop\"\n"
   ]
  },
  {
   "cell_type": "markdown",
   "metadata": {
    "hidden": true
   },
   "source": [
    "As explained in (2), the variable name can be set to whatever. But it is common practice to name it `i` for `index` if using the range function. So the above code tells the interpreter. Here is another example, just to show you that the variable can be named whatever (in general, don't do this):"
   ]
  },
  {
   "cell_type": "code",
   "execution_count": 27,
   "metadata": {
    "hidden": true
   },
   "outputs": [
    {
     "name": "stdout",
     "output_type": "stream",
     "text": [
      "johan is: 0\n",
      "johan is: 1\n",
      "johan is: 2\n"
     ]
    }
   ],
   "source": [
    "for johan in range(3):\n",
    "    print(\"johan is: \" + str(johan)) # have to use the str() function to be able to do string concatination"
   ]
  },
  {
   "cell_type": "code",
   "execution_count": 28,
   "metadata": {
    "hidden": true
   },
   "outputs": [
    {
     "name": "stdout",
     "output_type": "stream",
     "text": [
      "index is: 0\n",
      "index is: 1\n",
      "index is: 2\n"
     ]
    }
   ],
   "source": [
    "for index in range(3):\n",
    "    print(\"index is: \" + str(index))"
   ]
  },
  {
   "cell_type": "code",
   "execution_count": 29,
   "metadata": {
    "hidden": true
   },
   "outputs": [
    {
     "name": "stdout",
     "output_type": "stream",
     "text": [
      "i is: 0\n",
      "i is: 1\n",
      "i is: 2\n"
     ]
    }
   ],
   "source": [
    "for i in range(3):\n",
    "    print(\"i is: \" + str(i))"
   ]
  },
  {
   "cell_type": "markdown",
   "metadata": {
    "hidden": true
   },
   "source": [
    "If the `range()` function is only given one argument, it will give you the number of loops – or **iterations** as its more commonly refered to – up to this index number. As you can see above, the argument 3 gives us three iterations, since it goes up to, not including, this index number: 0, 1, 2.\n",
    "\n",
    "But you can give the `range()` function more than one argument. If you give it two arguments, the first will be the start value, and the second the stop value:"
   ]
  },
  {
   "cell_type": "code",
   "execution_count": 30,
   "metadata": {
    "hidden": true
   },
   "outputs": [
    {
     "name": "stdout",
     "output_type": "stream",
     "text": [
      "i is: 5\n",
      "i is: 6\n",
      "i is: 7\n",
      "i is: 8\n",
      "i is: 9\n"
     ]
    }
   ],
   "source": [
    "for i in range(5, 10):\n",
    "    print(\"i is: \" + str(i))"
   ]
  },
  {
   "cell_type": "markdown",
   "metadata": {
    "hidden": true
   },
   "source": [
    "So, above the range function gave us 5 iterations: starting at 5 and stopping at 10, which is 9. Note that only passing it one argument, the default starting value will be 0. \n",
    "\n",
    "But we can also give the function a third argument: how big steps we want each iteration to take:"
   ]
  },
  {
   "cell_type": "code",
   "execution_count": 31,
   "metadata": {
    "hidden": true
   },
   "outputs": [
    {
     "name": "stdout",
     "output_type": "stream",
     "text": [
      "i is: 50\n",
      "i is: 60\n",
      "i is: 70\n",
      "i is: 80\n",
      "i is: 90\n"
     ]
    }
   ],
   "source": [
    "for i in range(50, 100, 10):\n",
    "    print(\"i is: \" + str(i))"
   ]
  },
  {
   "cell_type": "markdown",
   "metadata": {
    "hidden": true
   },
   "source": [
    "To make this even clearer, we can acctually pass this range object to the `list()` function and get a new list:"
   ]
  },
  {
   "cell_type": "code",
   "execution_count": 34,
   "metadata": {
    "hidden": true
   },
   "outputs": [
    {
     "data": {
      "text/plain": [
       "[50, 60, 70, 80, 90]"
      ]
     },
     "execution_count": 34,
     "metadata": {},
     "output_type": "execute_result"
    }
   ],
   "source": [
    "list(range(50, 100, 10))"
   ]
  },
  {
   "cell_type": "code",
   "execution_count": 35,
   "metadata": {
    "hidden": true
   },
   "outputs": [
    {
     "data": {
      "text/plain": [
       "[0, 1, 2, 3, 4]"
      ]
     },
     "execution_count": 35,
     "metadata": {},
     "output_type": "execute_result"
    }
   ],
   "source": [
    "list(range(5))"
   ]
  },
  {
   "cell_type": "code",
   "execution_count": 37,
   "metadata": {
    "hidden": true
   },
   "outputs": [
    {
     "data": {
      "text/plain": [
       "[]"
      ]
     },
     "execution_count": 37,
     "metadata": {},
     "output_type": "execute_result"
    }
   ],
   "source": [
    "list(range(0)) # zero iterations gives us an empty list"
   ]
  },
  {
   "cell_type": "markdown",
   "metadata": {
    "hidden": true
   },
   "source": [
    "So how do we then use the `range()` function to loop over our list of numbers? Well, the reason it is common practise to name the loop variable `i` is because this variable can be used as an index number in another list. Let's try it on our list:"
   ]
  },
  {
   "cell_type": "code",
   "execution_count": 38,
   "metadata": {
    "hidden": true
   },
   "outputs": [],
   "source": [
    "numbers = [42, 3, 15, 7, 99]"
   ]
  },
  {
   "cell_type": "code",
   "execution_count": 33,
   "metadata": {
    "hidden": true
   },
   "outputs": [
    {
     "name": "stdout",
     "output_type": "stream",
     "text": [
      "42\n",
      "3\n",
      "15\n",
      "7\n",
      "99\n"
     ]
    }
   ],
   "source": [
    "for i in range(5):\n",
    "    print(numbers[i])"
   ]
  },
  {
   "cell_type": "markdown",
   "metadata": {
    "hidden": true
   },
   "source": [
    "Hang on? What the hell just happend??\n",
    "\n",
    "We created a for-loop with a `range()` function as our container to loop over. Passing it the argument 5 specfifys five iterations, starting at 0. So in the first loop, our for-loop variable will be 0, that is `i = 0`. When we pass the variable `i` as an index value to our list, this will be the same as typing `numbers[0]` in the first loop. `numbers[1]` the second loop, `numbers[2]` the third, and so on."
   ]
  },
  {
   "cell_type": "markdown",
   "metadata": {
    "hidden": true
   },
   "source": [
    "So, back to our problem from earlier. We want multiply each value in our list by 3. And we don't wanna do this:"
   ]
  },
  {
   "cell_type": "code",
   "execution_count": 39,
   "metadata": {
    "hidden": true
   },
   "outputs": [
    {
     "name": "stdout",
     "output_type": "stream",
     "text": [
      "126\n",
      "9\n",
      "45\n",
      "21\n",
      "297\n"
     ]
    }
   ],
   "source": [
    "result = numbers[0] * 3\n",
    "print(result)\n",
    "result = numbers[1] * 3\n",
    "print(result)\n",
    "result = numbers[2] * 3\n",
    "print(result)\n",
    "result = numbers[3] * 3\n",
    "print(result)\n",
    "result = numbers[4] * 3\n",
    "print(result)"
   ]
  },
  {
   "cell_type": "markdown",
   "metadata": {
    "hidden": true
   },
   "source": [
    "Let's instead use a for-loop together with a `range()` function:"
   ]
  },
  {
   "cell_type": "code",
   "execution_count": 41,
   "metadata": {
    "hidden": true
   },
   "outputs": [
    {
     "name": "stdout",
     "output_type": "stream",
     "text": [
      "126\n",
      "9\n",
      "45\n",
      "21\n",
      "297\n"
     ]
    }
   ],
   "source": [
    "for i in range(5):\n",
    "    result = numbers[i] * 3\n",
    "    print(result)"
   ]
  },
  {
   "cell_type": "markdown",
   "metadata": {
    "hidden": true
   },
   "source": [
    "Success! But let's make it a bit more clean. First of all, it is not recommended to actually specify the `range()`-argument in this way. Let's say we would have a lists containing hundreds of values. In that case, it wouldn't be very convenient to keep track of the exact number of items in the list. Specifying a too large number of iterations will give us an error:"
   ]
  },
  {
   "cell_type": "code",
   "execution_count": 45,
   "metadata": {
    "hidden": true
   },
   "outputs": [
    {
     "name": "stdout",
     "output_type": "stream",
     "text": [
      "126\n",
      "9\n",
      "45\n",
      "21\n",
      "297\n"
     ]
    },
    {
     "ename": "IndexError",
     "evalue": "list index out of range",
     "output_type": "error",
     "traceback": [
      "\u001b[0;31m---------------------------------------------------------------------------\u001b[0m",
      "\u001b[0;31mIndexError\u001b[0m                                Traceback (most recent call last)",
      "\u001b[0;32m<ipython-input-45-0b11a43da051>\u001b[0m in \u001b[0;36m<module>\u001b[0;34m\u001b[0m\n\u001b[1;32m      1\u001b[0m \u001b[0;32mfor\u001b[0m \u001b[0mi\u001b[0m \u001b[0;32min\u001b[0m \u001b[0mrange\u001b[0m\u001b[0;34m(\u001b[0m\u001b[0;36m6\u001b[0m\u001b[0;34m)\u001b[0m\u001b[0;34m:\u001b[0m\u001b[0;34m\u001b[0m\u001b[0;34m\u001b[0m\u001b[0m\n\u001b[0;32m----> 2\u001b[0;31m     \u001b[0mresult\u001b[0m \u001b[0;34m=\u001b[0m \u001b[0mnumbers\u001b[0m\u001b[0;34m[\u001b[0m\u001b[0mi\u001b[0m\u001b[0;34m]\u001b[0m \u001b[0;34m*\u001b[0m \u001b[0;36m3\u001b[0m\u001b[0;34m\u001b[0m\u001b[0;34m\u001b[0m\u001b[0m\n\u001b[0m\u001b[1;32m      3\u001b[0m     \u001b[0mprint\u001b[0m\u001b[0;34m(\u001b[0m\u001b[0mresult\u001b[0m\u001b[0;34m)\u001b[0m\u001b[0;34m\u001b[0m\u001b[0;34m\u001b[0m\u001b[0m\n",
      "\u001b[0;31mIndexError\u001b[0m: list index out of range"
     ]
    }
   ],
   "source": [
    "for i in range(6):\n",
    "    result = numbers[i] * 3\n",
    "    print(result)"
   ]
  },
  {
   "cell_type": "markdown",
   "metadata": {
    "hidden": true
   },
   "source": [
    "So instead of using an actual number, we could use the length of the list itself! We can get the length using the `len()` function:"
   ]
  },
  {
   "cell_type": "code",
   "execution_count": 46,
   "metadata": {
    "hidden": true
   },
   "outputs": [
    {
     "data": {
      "text/plain": [
       "5"
      ]
     },
     "execution_count": 46,
     "metadata": {},
     "output_type": "execute_result"
    }
   ],
   "source": [
    "len(numbers)"
   ]
  },
  {
   "cell_type": "markdown",
   "metadata": {
    "hidden": true
   },
   "source": [
    "Let's use this instead of the integer five as an argument in the `range()` function:"
   ]
  },
  {
   "cell_type": "code",
   "execution_count": 49,
   "metadata": {
    "hidden": true
   },
   "outputs": [
    {
     "data": {
      "text/plain": [
       "range(0, 5)"
      ]
     },
     "execution_count": 49,
     "metadata": {},
     "output_type": "execute_result"
    }
   ],
   "source": [
    "range(len(numbers))"
   ]
  },
  {
   "cell_type": "markdown",
   "metadata": {
    "hidden": true
   },
   "source": [
    "Since `len(numbers)` returns 5, above is exactly the same as `range(5)`:"
   ]
  },
  {
   "cell_type": "code",
   "execution_count": 50,
   "metadata": {
    "hidden": true
   },
   "outputs": [
    {
     "data": {
      "text/plain": [
       "True"
      ]
     },
     "execution_count": 50,
     "metadata": {},
     "output_type": "execute_result"
    }
   ],
   "source": [
    "range(len(numbers)) == range(5)"
   ]
  },
  {
   "cell_type": "markdown",
   "metadata": {
    "hidden": true
   },
   "source": [
    "While we're at it, let's rewrite the code block and make it a bit more concise. We don't actually need the variable `result`. We can just pass the expression `numbers[i] * 3` as an argument to our `print()` function:"
   ]
  },
  {
   "cell_type": "code",
   "execution_count": 51,
   "metadata": {
    "hidden": true
   },
   "outputs": [
    {
     "name": "stdout",
     "output_type": "stream",
     "text": [
      "126\n",
      "9\n",
      "45\n",
      "21\n",
      "297\n"
     ]
    }
   ],
   "source": [
    "for i in range(len(numbers)):\n",
    "    print(numbers[i] * 3)"
   ]
  },
  {
   "cell_type": "markdown",
   "metadata": {
    "hidden": true
   },
   "source": [
    "Et voilá! Instead of typing our each calculation for each value in our list, we used a for-loop (with a range function) to do it all in two lines of code! Well done!\n",
    "\n",
    "Now, let's do it again. But this time without the `range()`-function call."
   ]
  },
  {
   "cell_type": "markdown",
   "metadata": {
    "hidden": true
   },
   "source": [
    "#### `for`-loop without `range()`"
   ]
  },
  {
   "cell_type": "markdown",
   "metadata": {
    "hidden": true
   },
   "source": [
    "For this exercise, we don't necessarily need the `range()` function call. The for-loop only need an container that can be used as an iterator, and our list variable `numbers` works fine by itself. Let's have a look:"
   ]
  },
  {
   "cell_type": "code",
   "execution_count": 53,
   "metadata": {
    "hidden": true
   },
   "outputs": [
    {
     "name": "stdout",
     "output_type": "stream",
     "text": [
      "42\n",
      "3\n",
      "15\n",
      "7\n",
      "99\n"
     ]
    }
   ],
   "source": [
    "for item in numbers:\n",
    "    print(item)"
   ]
  },
  {
   "cell_type": "markdown",
   "metadata": {
    "hidden": true
   },
   "source": [
    "Here, using the for-in-key word combination, we tell the interpreter that we want to iterate over all items in the list. As you can see, this is way more straight forward and easier to read than the solution using the `range()` function call."
   ]
  },
  {
   "cell_type": "code",
   "execution_count": 54,
   "metadata": {
    "hidden": true
   },
   "outputs": [
    {
     "name": "stdout",
     "output_type": "stream",
     "text": [
      "126\n",
      "9\n",
      "45\n",
      "21\n",
      "297\n"
     ]
    }
   ],
   "source": [
    "for item in numbers:\n",
    "    print(item * 3)"
   ]
  },
  {
   "cell_type": "markdown",
   "metadata": {
    "hidden": true
   },
   "source": [
    "#### `for`-loops – with or without `range()`?"
   ]
  },
  {
   "cell_type": "markdown",
   "metadata": {
    "hidden": true
   },
   "source": [
    "As you could see in the previous section. Typing for-loops without the range-function is way more readable and easier to understand. But does that mean we should always skip the `range()` function? The TDLR-version is: no. Sometimes we will need it.\n",
    "\n",
    "Take this example: let's say we don't only want to print the calculations of the list's values. We instead want to change them to the calculations result. How would we do that, using a for-loop?\n",
    "\n",
    "Here's a try without the range-function:"
   ]
  },
  {
   "cell_type": "code",
   "execution_count": 69,
   "metadata": {
    "hidden": true
   },
   "outputs": [
    {
     "data": {
      "text/plain": [
       "[42, 3, 15, 7, 99]"
      ]
     },
     "execution_count": 69,
     "metadata": {},
     "output_type": "execute_result"
    }
   ],
   "source": [
    "numbers"
   ]
  },
  {
   "cell_type": "code",
   "execution_count": 70,
   "metadata": {
    "hidden": true
   },
   "outputs": [
    {
     "name": "stdout",
     "output_type": "stream",
     "text": [
      "126\n",
      "9\n",
      "45\n",
      "21\n",
      "297\n"
     ]
    }
   ],
   "source": [
    "for item in numbers:\n",
    "    item = item * 3\n",
    "    print(item)"
   ]
  },
  {
   "cell_type": "code",
   "execution_count": 71,
   "metadata": {
    "hidden": true
   },
   "outputs": [
    {
     "data": {
      "text/plain": [
       "[42, 3, 15, 7, 99]"
      ]
     },
     "execution_count": 71,
     "metadata": {},
     "output_type": "execute_result"
    }
   ],
   "source": [
    "numbers"
   ]
  },
  {
   "cell_type": "markdown",
   "metadata": {
    "hidden": true
   },
   "source": [
    "Hold up now! Nothing happend to the items in the list?? Why was that?\n",
    "\n",
    "In each iteration in the for-loop, a variable named `item` is created. The list's value in the present iteration is then assigned to this variable – `item`. The variable `item` is then reassigned to the result of the calculation `item * 3`. Finally, the variable `item` is printed. But when the code block is executed, this variable `item` and its assigned value is forgotten and a new loop is initiated. \n",
    "\n",
    "In other words, _it isn't the actual list's value that is being changed. It is just a copy of it assigned to the variable `item`._ So the code `item = item * 3` has, in fact, no connection to the actual list and therefore, no changes to the list's values occurs.\n",
    "\n",
    "However, we _can_ change the list's values if we reference them directly. If you recall section 10.3, changing a value within a list can be done by specifying the item's list index. _And this is where we will need the `range()` function!_"
   ]
  },
  {
   "cell_type": "code",
   "execution_count": 72,
   "metadata": {
    "hidden": true
   },
   "outputs": [
    {
     "name": "stdout",
     "output_type": "stream",
     "text": [
      "126\n",
      "9\n",
      "45\n",
      "21\n",
      "297\n"
     ]
    }
   ],
   "source": [
    "numbers = [42, 3, 15, 7, 99]\n",
    "\n",
    "for i in range(len(numbers)):\n",
    "    numbers[i] = numbers[i] * 3\n",
    "    print(numbers[i])"
   ]
  },
  {
   "cell_type": "code",
   "execution_count": 73,
   "metadata": {
    "hidden": true
   },
   "outputs": [
    {
     "data": {
      "text/plain": [
       "[126, 9, 45, 21, 297]"
      ]
     },
     "execution_count": 73,
     "metadata": {},
     "output_type": "execute_result"
    }
   ],
   "source": [
    "numbers"
   ]
  },
  {
   "cell_type": "markdown",
   "metadata": {
    "hidden": true
   },
   "source": [
    "Let's make it a bit tidier using an augment assignment operator instead (section 4.1.1, remember?):"
   ]
  },
  {
   "cell_type": "code",
   "execution_count": 74,
   "metadata": {
    "hidden": true
   },
   "outputs": [
    {
     "name": "stdout",
     "output_type": "stream",
     "text": [
      "126\n",
      "9\n",
      "45\n",
      "21\n",
      "297\n"
     ]
    }
   ],
   "source": [
    "numbers = [42, 3, 15, 7, 99]\n",
    "\n",
    "for i in range(len(numbers)):\n",
    "    numbers[i] *= 3\n",
    "    print(numbers[i])"
   ]
  },
  {
   "cell_type": "code",
   "execution_count": 75,
   "metadata": {
    "hidden": true
   },
   "outputs": [
    {
     "data": {
      "text/plain": [
       "[126, 9, 45, 21, 297]"
      ]
     },
     "execution_count": 75,
     "metadata": {},
     "output_type": "execute_result"
    }
   ],
   "source": [
    "numbers"
   ]
  },
  {
   "cell_type": "code",
   "execution_count": null,
   "metadata": {
    "hidden": true
   },
   "outputs": [],
   "source": []
  },
  {
   "cell_type": "code",
   "execution_count": null,
   "metadata": {
    "hidden": true
   },
   "outputs": [],
   "source": []
  },
  {
   "cell_type": "code",
   "execution_count": null,
   "metadata": {
    "hidden": true
   },
   "outputs": [],
   "source": []
  },
  {
   "cell_type": "code",
   "execution_count": null,
   "metadata": {
    "hidden": true
   },
   "outputs": [],
   "source": []
  },
  {
   "cell_type": "code",
   "execution_count": null,
   "metadata": {
    "hidden": true
   },
   "outputs": [],
   "source": []
  },
  {
   "cell_type": "code",
   "execution_count": null,
   "metadata": {
    "hidden": true
   },
   "outputs": [],
   "source": []
  },
  {
   "cell_type": "code",
   "execution_count": null,
   "metadata": {
    "hidden": true
   },
   "outputs": [],
   "source": []
  },
  {
   "cell_type": "markdown",
   "metadata": {
    "heading_collapsed": true
   },
   "source": [
    "## Old stuff"
   ]
  },
  {
   "cell_type": "markdown",
   "metadata": {
    "hidden": true
   },
   "source": [
    "Man kan också använda vad som kallas **splicing**. Det är när man säger till python att plocka alla värden mellan några index. Splicing används genom operatorn kolon ':'"
   ]
  },
  {
   "cell_type": "code",
   "execution_count": 82,
   "metadata": {
    "collapsed": true,
    "hidden": true,
    "jupyter": {
     "outputs_hidden": true
    }
   },
   "outputs": [
    {
     "data": {
      "text/plain": [
       "[2, 'tre']"
      ]
     },
     "execution_count": 82,
     "metadata": {},
     "output_type": "execute_result"
    }
   ],
   "source": [
    "lista[1:3] # hämta värden mellan andra fram till fjärde värdet"
   ]
  },
  {
   "cell_type": "markdown",
   "metadata": {
    "hidden": true
   },
   "source": [
    "Att bara skriva ett index-värde tillsammans med kolon betyder \"alla värden från och med...\" eller \"alla värden fram till...\""
   ]
  },
  {
   "cell_type": "code",
   "execution_count": 85,
   "metadata": {
    "collapsed": true,
    "hidden": true,
    "jupyter": {
     "outputs_hidden": true
    }
   },
   "outputs": [
    {
     "data": {
      "text/plain": [
       "[2, 'tre', 4]"
      ]
     },
     "execution_count": 85,
     "metadata": {},
     "output_type": "execute_result"
    }
   ],
   "source": [
    "lista[1:] "
   ]
  },
  {
   "cell_type": "code",
   "execution_count": 86,
   "metadata": {
    "collapsed": true,
    "hidden": true,
    "jupyter": {
     "outputs_hidden": true
    }
   },
   "outputs": [
    {
     "data": {
      "text/plain": [
       "[1, 2]"
      ]
     },
     "execution_count": 86,
     "metadata": {},
     "output_type": "execute_result"
    }
   ],
   "source": [
    "lista[:2]"
   ]
  },
  {
   "cell_type": "markdown",
   "metadata": {
    "hidden": true
   },
   "source": [
    "Vi kan också använda omvänd index, dvs minusindex:"
   ]
  },
  {
   "cell_type": "code",
   "execution_count": 87,
   "metadata": {
    "collapsed": true,
    "hidden": true,
    "jupyter": {
     "outputs_hidden": true
    }
   },
   "outputs": [
    {
     "data": {
      "text/plain": [
       "4"
      ]
     },
     "execution_count": 87,
     "metadata": {},
     "output_type": "execute_result"
    }
   ],
   "source": [
    "lista[-1] # ger oss sista värdet i listan"
   ]
  },
  {
   "cell_type": "code",
   "execution_count": 90,
   "metadata": {
    "collapsed": true,
    "hidden": true,
    "jupyter": {
     "outputs_hidden": true
    }
   },
   "outputs": [
    {
     "data": {
      "text/plain": [
       "['tre', 4]"
      ]
     },
     "execution_count": 90,
     "metadata": {},
     "output_type": "execute_result"
    }
   ],
   "source": [
    "lista[-2:] # \"ge oss alla värden från och med nästsista värdet i listan\""
   ]
  },
  {
   "cell_type": "markdown",
   "metadata": {
    "hidden": true
   },
   "source": [
    "Vi kan också ombestämma värden i en lista. Man säger att listor i python är **mutable**, dvs föränderliga. De går att ändra på allt efter som:"
   ]
  },
  {
   "cell_type": "code",
   "execution_count": 91,
   "metadata": {
    "collapsed": true,
    "hidden": true,
    "jupyter": {
     "outputs_hidden": true
    }
   },
   "outputs": [],
   "source": [
    "lista[-1] = \"fyra\""
   ]
  },
  {
   "cell_type": "code",
   "execution_count": 92,
   "metadata": {
    "collapsed": true,
    "hidden": true,
    "jupyter": {
     "outputs_hidden": true
    }
   },
   "outputs": [
    {
     "data": {
      "text/plain": [
       "[1, 2, 'tre', 'fyra']"
      ]
     },
     "execution_count": 92,
     "metadata": {},
     "output_type": "execute_result"
    }
   ],
   "source": [
    "lista"
   ]
  },
  {
   "cell_type": "markdown",
   "metadata": {
    "hidden": true
   },
   "source": [
    "#### Tuples"
   ]
  },
  {
   "cell_type": "markdown",
   "metadata": {
    "hidden": true
   },
   "source": [
    "Tuples är väldigt lika listor då de också tar flera värden där varje värde separeras med ett komma. Men tuples skrivs med parantes:"
   ]
  },
  {
   "cell_type": "code",
   "execution_count": 93,
   "metadata": {
    "collapsed": true,
    "hidden": true,
    "jupyter": {
     "outputs_hidden": true
    }
   },
   "outputs": [],
   "source": [
    "tuplen = (1, 2, \"tre\", 4)"
   ]
  },
  {
   "cell_type": "code",
   "execution_count": 94,
   "metadata": {
    "collapsed": true,
    "hidden": true,
    "jupyter": {
     "outputs_hidden": true
    }
   },
   "outputs": [
    {
     "data": {
      "text/plain": [
       "(1, 2, 'tre', 4)"
      ]
     },
     "execution_count": 94,
     "metadata": {},
     "output_type": "execute_result"
    }
   ],
   "source": [
    "tuplen"
   ]
  },
  {
   "cell_type": "markdown",
   "metadata": {
    "hidden": true
   },
   "source": [
    "En viktig skillnad mellan tuples och lists är att tuples inte är föränderliga efter vi bestämt dess värden. De är **immutable**:"
   ]
  },
  {
   "cell_type": "code",
   "execution_count": 95,
   "metadata": {
    "collapsed": true,
    "hidden": true,
    "jupyter": {
     "outputs_hidden": true
    }
   },
   "outputs": [
    {
     "ename": "TypeError",
     "evalue": "'tuple' object does not support item assignment",
     "output_type": "error",
     "traceback": [
      "\u001b[0;31m---------------------------------------------------------------------------\u001b[0m",
      "\u001b[0;31mTypeError\u001b[0m                                 Traceback (most recent call last)",
      "\u001b[0;32m<ipython-input-95-1ed8aacfe780>\u001b[0m in \u001b[0;36m<module>\u001b[0;34m\u001b[0m\n\u001b[0;32m----> 1\u001b[0;31m \u001b[0mtuplen\u001b[0m\u001b[0;34m[\u001b[0m\u001b[0;34m-\u001b[0m\u001b[0;36m1\u001b[0m\u001b[0;34m]\u001b[0m \u001b[0;34m=\u001b[0m \u001b[0;34m\"fyra\"\u001b[0m\u001b[0;34m\u001b[0m\u001b[0m\n\u001b[0m",
      "\u001b[0;31mTypeError\u001b[0m: 'tuple' object does not support item assignment"
     ]
    }
   ],
   "source": [
    "tuplen[-1] = \"fyra\""
   ]
  },
  {
   "cell_type": "markdown",
   "metadata": {
    "hidden": true
   },
   "source": [
    "#### Dictionaries"
   ]
  },
  {
   "cell_type": "markdown",
   "metadata": {
    "hidden": true
   },
   "source": [
    "Dictionaries är också en ansamling av data, men de saknar 0-index. Istället har varje värde en så kallad 'nyckel'. Man brukar säga att dictionaries är en samling av \"key-value-pairs\". De känns igen på att de skrivs med kringelparanteser:"
   ]
  },
  {
   "cell_type": "code",
   "execution_count": 96,
   "metadata": {
    "collapsed": true,
    "hidden": true,
    "jupyter": {
     "outputs_hidden": true
    }
   },
   "outputs": [],
   "source": [
    "dictionary = {'ett': 1, 'två': 2, 'tre': 3}"
   ]
  },
  {
   "cell_type": "code",
   "execution_count": 97,
   "metadata": {
    "collapsed": true,
    "hidden": true,
    "jupyter": {
     "outputs_hidden": true
    }
   },
   "outputs": [
    {
     "data": {
      "text/plain": [
       "2"
      ]
     },
     "execution_count": 97,
     "metadata": {},
     "output_type": "execute_result"
    }
   ],
   "source": [
    "dictionary['två']"
   ]
  },
  {
   "cell_type": "markdown",
   "metadata": {
    "hidden": true
   },
   "source": [
    "Vad hände ovan? Jo, kringelparanteserna omsluter dictionaryns key-value-pairs, t ex {\"ett\": 1}. \"ett\" är här nyckeln och kolonet förklarar för python att vi vill att \"ett\"s tillhörande värde ska vara siffran 1. Varje key-value-pair i en dictionary separeras av ett komma, precis som i en lista eller i en tuple. "
   ]
  },
  {
   "cell_type": "markdown",
   "metadata": {
    "hidden": true
   },
   "source": [
    "Precis som listor är dictionaries föränderliga, de är **mutable**:"
   ]
  },
  {
   "cell_type": "code",
   "execution_count": 98,
   "metadata": {
    "collapsed": true,
    "hidden": true,
    "jupyter": {
     "outputs_hidden": true
    }
   },
   "outputs": [],
   "source": [
    "dictionary['ett'] = 2"
   ]
  },
  {
   "cell_type": "code",
   "execution_count": 99,
   "metadata": {
    "collapsed": true,
    "hidden": true,
    "jupyter": {
     "outputs_hidden": true
    }
   },
   "outputs": [
    {
     "data": {
      "text/plain": [
       "{'ett': 2, 'två': 2, 'tre': 3}"
      ]
     },
     "execution_count": 99,
     "metadata": {},
     "output_type": "execute_result"
    }
   ],
   "source": [
    "dictionary"
   ]
  },
  {
   "cell_type": "markdown",
   "metadata": {
    "hidden": true
   },
   "source": [
    "#### Listor med variabler i dictionaries i dictionaries? (överkurs)"
   ]
  },
  {
   "cell_type": "markdown",
   "metadata": {
    "hidden": true
   },
   "source": [
    "Självklart går dessa olika att kombinera. Låt säga att vi vill spara ned info om vem som lagt ut pengar för fredagsfikat under veckorna 3 och 4, samt vad vi har köpt. Vi kan då använda oss av listor med variabler och med dictionaries:"
   ]
  },
  {
   "cell_type": "code",
   "execution_count": 100,
   "metadata": {
    "collapsed": true,
    "hidden": true,
    "jupyter": {
     "outputs_hidden": true
    }
   },
   "outputs": [],
   "source": [
    "vecka_3 = {\n",
    "\"Johan\":{\n",
    "    \"Kaffe\":40,\n",
    "    \"Grädde\":20,\n",
    "    \"Cointreau\": 240},\n",
    "\"Lisa\":{\n",
    "    \"Semlor\":130,\n",
    "    \"Mjölk\":15\n",
    "}}"
   ]
  },
  {
   "cell_type": "code",
   "execution_count": 101,
   "metadata": {
    "collapsed": true,
    "hidden": true,
    "jupyter": {
     "outputs_hidden": true
    }
   },
   "outputs": [],
   "source": [
    "vecka_4 = {\n",
    "\"Per\":{\n",
    "    \"Naturgodis\":290,\n",
    "    \"The\":35},\n",
    "\"Lotta\":{\n",
    "    \"Gin\":190,\n",
    "    \"Tonic\":55,\n",
    "    \"Lime\":55}\n",
    "}"
   ]
  },
  {
   "cell_type": "code",
   "execution_count": 102,
   "metadata": {
    "collapsed": true,
    "hidden": true,
    "jupyter": {
     "outputs_hidden": true
    }
   },
   "outputs": [],
   "source": [
    "fika_vecka_3_4 = [vecka_3, vecka_4]"
   ]
  },
  {
   "cell_type": "code",
   "execution_count": 103,
   "metadata": {
    "collapsed": true,
    "hidden": true,
    "jupyter": {
     "outputs_hidden": true
    }
   },
   "outputs": [
    {
     "data": {
      "text/plain": [
       "{'Johan': {'Kaffe': 40, 'Grädde': 20, 'Cointreau': 240},\n",
       " 'Lisa': {'Semlor': 130, 'Mjölk': 15}}"
      ]
     },
     "execution_count": 103,
     "metadata": {},
     "output_type": "execute_result"
    }
   ],
   "source": [
    "fika_vecka_3_4[0]"
   ]
  },
  {
   "cell_type": "code",
   "execution_count": 104,
   "metadata": {
    "collapsed": true,
    "hidden": true,
    "jupyter": {
     "outputs_hidden": true
    }
   },
   "outputs": [
    {
     "data": {
      "text/plain": [
       "{'Semlor': 130, 'Mjölk': 15}"
      ]
     },
     "execution_count": 104,
     "metadata": {},
     "output_type": "execute_result"
    }
   ],
   "source": [
    "fika_vecka_3_4[0]['Lisa']"
   ]
  },
  {
   "cell_type": "markdown",
   "metadata": {
    "heading_collapsed": true,
    "hidden": true
   },
   "source": [
    "### 5. Pythons utförande (execution)"
   ]
  },
  {
   "cell_type": "markdown",
   "metadata": {
    "hidden": true
   },
   "source": [
    "En väldigt viktig grundprincip i Python är hur koden läses (\"executes\"). Man kan tänka sig koden som ett flödesschema. Om inget annat bestämts kommer koden läsas obrutet från första raden kod till sista raden kod."
   ]
  },
  {
   "cell_type": "markdown",
   "metadata": {
    "hidden": true
   },
   "source": [
    "Låt oss illustrera detta med en av pythons inbyggda funktioner: print(). En funktion är ett paket kod som vi kan använda återupprepade gånger:"
   ]
  },
  {
   "cell_type": "markdown",
   "metadata": {
    "hidden": true
   },
   "source": [
    "print() säger till python att skriva ut det vi ger till funktionen:"
   ]
  },
  {
   "cell_type": "code",
   "execution_count": 105,
   "metadata": {
    "collapsed": true,
    "hidden": true,
    "jupyter": {
     "outputs_hidden": true
    }
   },
   "outputs": [
    {
     "name": "stdout",
     "output_type": "stream",
     "text": [
      "Hello world!\n"
     ]
    }
   ],
   "source": [
    "print(\"Hello world!\")"
   ]
  },
  {
   "cell_type": "code",
   "execution_count": 106,
   "metadata": {
    "collapsed": true,
    "hidden": true,
    "jupyter": {
     "outputs_hidden": true
    }
   },
   "outputs": [
    {
     "name": "stdout",
     "output_type": "stream",
     "text": [
      "3\n"
     ]
    }
   ],
   "source": [
    "print(1 + 2)"
   ]
  },
  {
   "cell_type": "markdown",
   "metadata": {
    "hidden": true
   },
   "source": [
    "I första exemplet ovan ger vi funktionen print ett strängvärde som **argument**. Argument (ibland också kallat parametrar) är information som funktioner i python behöver för att fungera. I detta fall så vet vi att funktionen print() 'skriver ut' det vi ger funktionen, utan ett argument att skriva ut så kommer det inte ske.\n",
    "\n",
    "I det andra exmplet har vi gett funktionen ett expression som argument, 1 + 2. Resultatet av detta expression printas därför. \n",
    "\n",
    "Men tillbaka till pythons execution, i följande exempel så finns det flera rader kod, dessa kommer avläsas av pythons avläsare (interpretor) från högst upp till vänster till sista raden nere till höger:"
   ]
  },
  {
   "cell_type": "code",
   "execution_count": 107,
   "metadata": {
    "collapsed": true,
    "hidden": true,
    "jupyter": {
     "outputs_hidden": true
    }
   },
   "outputs": [
    {
     "name": "stdout",
     "output_type": "stream",
     "text": [
      "Hello \n",
      "world!\n",
      "3\n"
     ]
    }
   ],
   "source": [
    "print(\"Hello \")\n",
    "print(\"world!\")\n",
    "print(1 + 2)"
   ]
  },
  {
   "cell_type": "markdown",
   "metadata": {
    "hidden": true
   },
   "source": [
    "Interpretorn börjar alltid vid första raden och går sedan från vänster till höger, rad för rad, ***om inte annat specificerats!***. Undantaget är ifall det finns en bugg i koden. I sådana fall kommer interpretorn avbrytas när byggen påträffas. Till exempel:"
   ]
  },
  {
   "cell_type": "code",
   "execution_count": 108,
   "metadata": {
    "collapsed": true,
    "hidden": true,
    "jupyter": {
     "outputs_hidden": true
    }
   },
   "outputs": [],
   "source": [
    "ord1 = \"Hello \"\n",
    "ord2 = \"world!\"\n",
    "ord3 = 1 + 2"
   ]
  },
  {
   "cell_type": "code",
   "execution_count": 110,
   "metadata": {
    "collapsed": true,
    "hidden": true,
    "jupyter": {
     "outputs_hidden": true
    }
   },
   "outputs": [
    {
     "name": "stdout",
     "output_type": "stream",
     "text": [
      "Rad 1:  Hello \n"
     ]
    },
    {
     "ename": "NameError",
     "evalue": "name 'ord4' is not defined",
     "output_type": "error",
     "traceback": [
      "\u001b[0;31m---------------------------------------------------------------------------\u001b[0m",
      "\u001b[0;31mNameError\u001b[0m                                 Traceback (most recent call last)",
      "\u001b[0;32m<ipython-input-110-2a6d7a3d69d2>\u001b[0m in \u001b[0;36m<module>\u001b[0;34m\u001b[0m\n\u001b[1;32m      1\u001b[0m \u001b[0mprint\u001b[0m\u001b[0;34m(\u001b[0m\u001b[0;34m\"Rad 1: \"\u001b[0m\u001b[0;34m,\u001b[0m \u001b[0mord1\u001b[0m\u001b[0;34m)\u001b[0m\u001b[0;34m\u001b[0m\u001b[0m\n\u001b[0;32m----> 2\u001b[0;31m \u001b[0mprint\u001b[0m\u001b[0;34m(\u001b[0m\u001b[0;34m\"Rad 2: \"\u001b[0m\u001b[0;34m,\u001b[0m \u001b[0mord4\u001b[0m\u001b[0;34m)\u001b[0m\u001b[0;34m\u001b[0m\u001b[0m\n\u001b[0m\u001b[1;32m      3\u001b[0m \u001b[0mprint\u001b[0m\u001b[0;34m(\u001b[0m\u001b[0;34m\"Rad 3: \"\u001b[0m\u001b[0;34m,\u001b[0m \u001b[0mord3\u001b[0m\u001b[0;34m)\u001b[0m\u001b[0;34m\u001b[0m\u001b[0m\n",
      "\u001b[0;31mNameError\u001b[0m: name 'ord4' is not defined"
     ]
    }
   ],
   "source": [
    "print(\"Rad 1: \", ord1)\n",
    "print(\"Rad 2: \", ord4)\n",
    "print(\"Rad 3: \", ord3)"
   ]
  },
  {
   "cell_type": "markdown",
   "metadata": {
    "hidden": true
   },
   "source": [
    "Ovan så fungerade första funktionen bra, och ord1 printades som det skulle. Men vid rad 2 påträffade datorn en variabel som inte finns i datorns minne (vi har inte bestämt någon variabel vid namn \"ord4), och vi fick därför ett error - ett så kallat \"NameError\" - och läsaren avbröt operationen. Vi ser här att rad 2 och 3 aldrig ens printades då datorn avbröt på rad 2."
   ]
  },
  {
   "cell_type": "markdown",
   "metadata": {
    "hidden": true
   },
   "source": [
    "Men en viktig del av programmering är att kunna köra kod ___efter några givna förutsättningar___. \"Gör det här, men bara under denna omständighet, vid alla andra omständigheter - gör såhär istället.\" \n",
    "\n",
    "Detta kallas \"if-statements\" (eller ibland if-else-statements) och är en essentiell del av pythonprogrammering. Men för att förstå hur dessa används kan det vara bra att kort gå igenom några ytterligare termer:\n",
    "\n",
    "- Booleanvärden (True/False)\n",
    "- Comparison operators"
   ]
  },
  {
   "cell_type": "markdown",
   "metadata": {
    "heading_collapsed": true,
    "hidden": true
   },
   "source": [
    "### 6. Booleans och Comparison operators"
   ]
  },
  {
   "cell_type": "markdown",
   "metadata": {
    "hidden": true
   },
   "source": [
    "Boolean-värden har vi varit inne på tidigare, dvs värdena True och False. Dessa värden återges ifall vi vill kontrollera att någon särskild omständighet är sann eller falsk. Detta görs med comparison operators. Det finns sex stycken comparison operators:"
   ]
  },
  {
   "cell_type": "code",
   "execution_count": 116,
   "metadata": {
    "hidden": true
   },
   "outputs": [
    {
     "data": {
      "image/png": "[encoded data removed]",
      "text/plain": [
       "<IPython.core.display.Image object>"
      ]
     },
     "execution_count": 116,
     "metadata": {
      "image/png": {
       "width": 500
      }
     },
     "output_type": "execute_result"
    }
   ],
   "source": [
    "from IPython.display import Image\n",
    "Image(\"operators.png\",width=500)"
   ]
  },
  {
   "cell_type": "markdown",
   "metadata": {
    "hidden": true
   },
   "source": [
    "Några exempel på hur de används:"
   ]
  },
  {
   "cell_type": "code",
   "execution_count": 117,
   "metadata": {
    "collapsed": true,
    "hidden": true,
    "jupyter": {
     "outputs_hidden": true
    }
   },
   "outputs": [
    {
     "data": {
      "text/plain": [
       "True"
      ]
     },
     "execution_count": 117,
     "metadata": {},
     "output_type": "execute_result"
    }
   ],
   "source": [
    "1 == 1"
   ]
  },
  {
   "cell_type": "code",
   "execution_count": 118,
   "metadata": {
    "collapsed": true,
    "hidden": true,
    "jupyter": {
     "outputs_hidden": true
    }
   },
   "outputs": [
    {
     "data": {
      "text/plain": [
       "False"
      ]
     },
     "execution_count": 118,
     "metadata": {},
     "output_type": "execute_result"
    }
   ],
   "source": [
    "1 == 2"
   ]
  },
  {
   "cell_type": "code",
   "execution_count": 119,
   "metadata": {
    "collapsed": true,
    "hidden": true,
    "jupyter": {
     "outputs_hidden": true
    }
   },
   "outputs": [
    {
     "data": {
      "text/plain": [
       "True"
      ]
     },
     "execution_count": 119,
     "metadata": {},
     "output_type": "execute_result"
    }
   ],
   "source": [
    "1 != 2"
   ]
  },
  {
   "cell_type": "code",
   "execution_count": 120,
   "metadata": {
    "collapsed": true,
    "hidden": true,
    "jupyter": {
     "outputs_hidden": true
    }
   },
   "outputs": [
    {
     "data": {
      "text/plain": [
       "True"
      ]
     },
     "execution_count": 120,
     "metadata": {},
     "output_type": "execute_result"
    }
   ],
   "source": [
    "True == True"
   ]
  },
  {
   "cell_type": "code",
   "execution_count": 121,
   "metadata": {
    "collapsed": true,
    "hidden": true,
    "jupyter": {
     "outputs_hidden": true
    }
   },
   "outputs": [
    {
     "data": {
      "text/plain": [
       "True"
      ]
     },
     "execution_count": 121,
     "metadata": {},
     "output_type": "execute_result"
    }
   ],
   "source": [
    "False == False"
   ]
  },
  {
   "cell_type": "code",
   "execution_count": 122,
   "metadata": {
    "collapsed": true,
    "hidden": true,
    "jupyter": {
     "outputs_hidden": true
    }
   },
   "outputs": [
    {
     "data": {
      "text/plain": [
       "True"
      ]
     },
     "execution_count": 122,
     "metadata": {},
     "output_type": "execute_result"
    }
   ],
   "source": [
    "2 > 1"
   ]
  },
  {
   "cell_type": "code",
   "execution_count": 123,
   "metadata": {
    "collapsed": true,
    "hidden": true,
    "jupyter": {
     "outputs_hidden": true
    }
   },
   "outputs": [
    {
     "data": {
      "text/plain": [
       "False"
      ]
     },
     "execution_count": 123,
     "metadata": {},
     "output_type": "execute_result"
    }
   ],
   "source": [
    "1 > 2"
   ]
  },
  {
   "cell_type": "code",
   "execution_count": 125,
   "metadata": {
    "collapsed": true,
    "hidden": true,
    "jupyter": {
     "outputs_hidden": true
    }
   },
   "outputs": [
    {
     "data": {
      "text/plain": [
       "True"
      ]
     },
     "execution_count": 125,
     "metadata": {},
     "output_type": "execute_result"
    }
   ],
   "source": [
    "10 >= 9"
   ]
  },
  {
   "cell_type": "code",
   "execution_count": 126,
   "metadata": {
    "collapsed": true,
    "hidden": true,
    "jupyter": {
     "outputs_hidden": true
    }
   },
   "outputs": [
    {
     "data": {
      "text/plain": [
       "True"
      ]
     },
     "execution_count": 126,
     "metadata": {},
     "output_type": "execute_result"
    }
   ],
   "source": [
    "10 >= 10"
   ]
  },
  {
   "cell_type": "markdown",
   "metadata": {
    "hidden": true
   },
   "source": [
    "Det här är exempel på comparison expressions. Man tar två värden och jämför med varandra. Comparison expressions utvärderar _alltid_ till booleans, dvs till antingen True eller False. \n",
    "\n",
    "Det finns också såkallade boolean operators. Dessa är nog bekanta för de som skapat söksträngar i Google, eller på Retriever eller liknande söktjänster. Dessa är **\"and\"**, **\"or\"** och **\"not\"**:"
   ]
  },
  {
   "cell_type": "markdown",
   "metadata": {
    "hidden": true
   },
   "source": [
    "Först ett exempel på 'and':"
   ]
  },
  {
   "cell_type": "code",
   "execution_count": 127,
   "metadata": {
    "collapsed": true,
    "hidden": true,
    "jupyter": {
     "outputs_hidden": true
    }
   },
   "outputs": [
    {
     "data": {
      "text/plain": [
       "True"
      ]
     },
     "execution_count": 127,
     "metadata": {},
     "output_type": "execute_result"
    }
   ],
   "source": [
    "1 < 2 and 3 != 'tre'"
   ]
  },
  {
   "cell_type": "code",
   "execution_count": 128,
   "metadata": {
    "collapsed": true,
    "hidden": true,
    "jupyter": {
     "outputs_hidden": true
    }
   },
   "outputs": [
    {
     "data": {
      "text/plain": [
       "False"
      ]
     },
     "execution_count": 128,
     "metadata": {},
     "output_type": "execute_result"
    }
   ],
   "source": [
    "1 < 2 and 3 == 'tre'"
   ]
  },
  {
   "cell_type": "markdown",
   "metadata": {
    "hidden": true
   },
   "source": [
    "**'and'** länkar ihop två stycken comparison expressions och återger sedan antingen True eller False. För att något ska vara True så måste båda uttrycken på vardera sida av 'and' vara sant. I alla andra fall kommer det utvärderas till False. Det här blir kanske ännu tydligare om vi lägger till paranteser:"
   ]
  },
  {
   "cell_type": "code",
   "execution_count": 129,
   "metadata": {
    "collapsed": true,
    "hidden": true,
    "jupyter": {
     "outputs_hidden": true
    }
   },
   "outputs": [
    {
     "data": {
      "text/plain": [
       "False"
      ]
     },
     "execution_count": 129,
     "metadata": {},
     "output_type": "execute_result"
    }
   ],
   "source": [
    "(1 < 2) and (3 == 'tre')"
   ]
  },
  {
   "cell_type": "markdown",
   "metadata": {
    "hidden": true
   },
   "source": [
    "I ovan exempel är parantes 1 sann, men parantes 2 inte det (ett integer-värde, dvs siffervärde, och ett strängvärde är inte detsamma i python) och därför utvärderas uttrycket som falskt."
   ]
  },
  {
   "cell_type": "markdown",
   "metadata": {
    "hidden": true
   },
   "source": [
    "**'or'** binder också samman två stycken jämförande uttryck. Men med **or** så måste endast ett av uttrycken på vardera sida av **or** vara sant för att det ska utvärderas som True:"
   ]
  },
  {
   "cell_type": "code",
   "execution_count": 142,
   "metadata": {
    "collapsed": true,
    "hidden": true,
    "jupyter": {
     "outputs_hidden": true
    }
   },
   "outputs": [
    {
     "data": {
      "text/plain": [
       "True"
      ]
     },
     "execution_count": 142,
     "metadata": {},
     "output_type": "execute_result"
    }
   ],
   "source": [
    "(1 < 2) or (3 == 'tre')"
   ]
  },
  {
   "cell_type": "code",
   "execution_count": 131,
   "metadata": {
    "collapsed": true,
    "hidden": true,
    "jupyter": {
     "outputs_hidden": true
    }
   },
   "outputs": [
    {
     "data": {
      "text/plain": [
       "False"
      ]
     },
     "execution_count": 131,
     "metadata": {},
     "output_type": "execute_result"
    }
   ],
   "source": [
    "(1 > 2) or (3 == 'tre')"
   ]
  },
  {
   "cell_type": "markdown",
   "metadata": {
    "hidden": true
   },
   "source": [
    "### 7. if-statements"
   ]
  },
  {
   "cell_type": "markdown",
   "metadata": {
    "hidden": true
   },
   "source": [
    "Comparison expressions och boolean operators är nödvändiga att förstå för att begripa grunderna i **if-statements**. I sådana skapar vi oss en förutsättning som måste vara sann för att ett stycke kod ska läsas av interpretorn. \n",
    "\n",
    "Ett if-statement börjar alltid med nyckelordet **\"if\"**, följt av ett comparison expression samt ett kolon:"
   ]
  },
  {
   "cell_type": "code",
   "execution_count": 132,
   "metadata": {
    "collapsed": true,
    "hidden": true,
    "jupyter": {
     "outputs_hidden": true
    }
   },
   "outputs": [],
   "source": [
    "number = 10"
   ]
  },
  {
   "cell_type": "code",
   "execution_count": 141,
   "metadata": {
    "collapsed": true,
    "hidden": true,
    "jupyter": {
     "outputs_hidden": true
    }
   },
   "outputs": [
    {
     "name": "stdout",
     "output_type": "stream",
     "text": [
      "Hello world!\n"
     ]
    }
   ],
   "source": [
    "if number > 5:\n",
    "    print(\"Hello world!\")"
   ]
  },
  {
   "cell_type": "markdown",
   "metadata": {
    "hidden": true
   },
   "source": [
    "Ovan bestämde vi att vår variabel \"number\" skulle ha siffervärdet 10. I vårt if-statement använde vi ett comparison expression (number > 5). Detta kan utläsas som en mening: \"om [number] är större än 5, kör då följande kod\".\n",
    "\n",
    "if-statements kommer bara köra koden ifall vårt comparison expression utvärderas som True:"
   ]
  },
  {
   "cell_type": "code",
   "execution_count": 140,
   "metadata": {
    "collapsed": true,
    "hidden": true,
    "jupyter": {
     "outputs_hidden": true
    }
   },
   "outputs": [],
   "source": [
    "if number > 15:\n",
    "    print(\"Hello world!\")"
   ]
  },
  {
   "cell_type": "markdown",
   "metadata": {
    "hidden": true
   },
   "source": [
    "I ovan exempel så printas inte \"Hello world!\", då numbers (med värdet 10) inte är större än 15.\n",
    "\n",
    "Vi kan också använda boolean operators och binda ihop comparison expressions i vårt if-statement (puh!):"
   ]
  },
  {
   "cell_type": "code",
   "execution_count": 139,
   "metadata": {
    "collapsed": true,
    "hidden": true,
    "jupyter": {
     "outputs_hidden": true
    }
   },
   "outputs": [
    {
     "name": "stdout",
     "output_type": "stream",
     "text": [
      "Hello world!\n"
     ]
    }
   ],
   "source": [
    "# Exempel 1\n",
    "if (number > 5) or (number > 15):\n",
    "    print(\"Hello world!\")"
   ]
  },
  {
   "cell_type": "code",
   "execution_count": 138,
   "metadata": {
    "collapsed": true,
    "hidden": true,
    "jupyter": {
     "outputs_hidden": true
    }
   },
   "outputs": [],
   "source": [
    "# Exempel 2\n",
    "if (number > 5) and (number > 15):\n",
    "    print(\"Hello world!\")"
   ]
  },
  {
   "cell_type": "markdown",
   "metadata": {
    "hidden": true
   },
   "source": [
    "I exempel 1 ovan så binder vi ihop två uttryck med boolean operatorn **\"or\"** där den första parantesen (number > 5) är sann, och den andra parantesen är falsk. Men då endast ett av de uttrycken man binder ihop måste vara sanna när man använder **\"or\"** så kommer detta utvärderas som True, och koden körs.\n",
    "\n",
    "I exempel 2 använder vi oss av boolean operatorn **\"and\"** och då måste båda uttrycken på vardera sida av nyckelordet vara sanna för att koden i ens if-statement ska köras. Men i detta exempel är den andra parantesen falsk, och koden körs därför inte."
   ]
  },
  {
   "cell_type": "markdown",
   "metadata": {
    "hidden": true
   },
   "source": [
    "Som jag nämnde ovan så kallas if-statements ibland if-else-statements. Det är för att man även har ett annat nyckelord till sin hjälp när man skriver ett if-statement, dvs **\"else\"**. Det skriver man _alltid_ efter nyckelordet \"it\". Ta följande exempel:"
   ]
  },
  {
   "cell_type": "code",
   "execution_count": 144,
   "metadata": {
    "collapsed": true,
    "hidden": true,
    "jupyter": {
     "outputs_hidden": true
    }
   },
   "outputs": [
    {
     "name": "stdout",
     "output_type": "stream",
     "text": [
      "number är mindre än 15.\n"
     ]
    }
   ],
   "source": [
    "if number > 15:\n",
    "    print(\"number är större än 15.\")\n",
    "else:\n",
    "    print(\"number är mindre än 15.\")"
   ]
  },
  {
   "cell_type": "markdown",
   "metadata": {
    "hidden": true
   },
   "source": [
    "Nyckelordet **\"else\"**, följt av kolon, triggas i alla de fall där ens comparison expression (i ovan exempel number > 15) efter ens if-statement utvärderas till False. Ett till exempel:"
   ]
  },
  {
   "cell_type": "code",
   "execution_count": 148,
   "metadata": {
    "collapsed": true,
    "hidden": true,
    "jupyter": {
     "outputs_hidden": true
    }
   },
   "outputs": [
    {
     "name": "stdout",
     "output_type": "stream",
     "text": [
      "number är inte ett tal mellan 5 och 15.\n"
     ]
    }
   ],
   "source": [
    "number = 16\n",
    "\n",
    "if (number > 5) and (number < 15):\n",
    "    print(\"number är större än 5 eller mindre än 15.\")\n",
    "else:\n",
    "    print(\"number är inte ett tal mellan 5 och 15.\")"
   ]
  },
  {
   "cell_type": "markdown",
   "metadata": {
    "hidden": true
   },
   "source": [
    "if-statements har faktiskt ytterligare ett nyckelord, **\"elif\"**, och som alltid kommer mellan \"if\" och \"else\". Det är i de fall då man vill bygga in ännu fler förutsättningar som kan vara sanna eller falska:"
   ]
  },
  {
   "cell_type": "code",
   "execution_count": 150,
   "metadata": {
    "collapsed": true,
    "hidden": true,
    "jupyter": {
     "outputs_hidden": true
    }
   },
   "outputs": [],
   "source": [
    "number = 16"
   ]
  },
  {
   "cell_type": "code",
   "execution_count": 153,
   "metadata": {
    "collapsed": true,
    "hidden": true,
    "jupyter": {
     "outputs_hidden": true
    }
   },
   "outputs": [
    {
     "name": "stdout",
     "output_type": "stream",
     "text": [
      "elif-statement\n",
      "number är större än 10.\n"
     ]
    }
   ],
   "source": [
    "if (number > 5) and (number < 10):\n",
    "    print(\"if-statement\")\n",
    "    print(\"number är större än fem och mindre än 10\")\n",
    "elif (number > 10):\n",
    "    print(\"elif-statement\")\n",
    "    print(\"number är större än 10.\")\n",
    "else:\n",
    "    print(\"else-statement\")\n",
    "    print(\"number är mindre än 5.\")"
   ]
  },
  {
   "cell_type": "markdown",
   "metadata": {
    "hidden": true
   },
   "source": [
    "**\"elif\"** används alltså på exakt samma vis som \"if\", bara att man skriver det efter \"if\". Det används när man vill rada upp flera förutsättningar efter varandra. Man kan i teorin ha hur många \"elif\" som helst innan man kommer till \"else\"."
   ]
  },
  {
   "cell_type": "markdown",
   "metadata": {
    "heading_collapsed": true,
    "hidden": true
   },
   "source": [
    "### 8. Funktioner"
   ]
  },
  {
   "cell_type": "markdown",
   "metadata": {
    "hidden": true
   },
   "source": [
    "Som vi nu har sett i if-statements så kan man alltså styra över vilken del av ens kod som ska läsas av, bestämt efter olika förutsättningar som vi gett datorn i våra comparison expressions. Men låt oss säga att vi vill förändra vår variabel number, vi vill göra en beräkning med hjälp av den, givet vissa förutsättningar:"
   ]
  },
  {
   "cell_type": "code",
   "execution_count": 2,
   "metadata": {
    "hidden": true
   },
   "outputs": [],
   "source": [
    "number = 9"
   ]
  },
  {
   "cell_type": "code",
   "execution_count": 3,
   "metadata": {
    "hidden": true
   },
   "outputs": [
    {
     "name": "stdout",
     "output_type": "stream",
     "text": [
      "if-statement, number * 10\n",
      "90\n"
     ]
    }
   ],
   "source": [
    "if (number > 5) and (number < 10):\n",
    "    print(\"if-statement, number * 10\")\n",
    "    number = number * 10\n",
    "    print(number)\n",
    "    \n",
    "elif (number > 10):\n",
    "    print(\"elif-statement, number + 3\")\n",
    "    number = number + 3\n",
    "    print(number)\n",
    "    \n",
    "else:\n",
    "    print(\"else-statement, number / 2\")\n",
    "    number = number / 2\n",
    "    print(number)"
   ]
  },
  {
   "cell_type": "markdown",
   "metadata": {
    "hidden": true
   },
   "source": [
    "I det här exemplet så har vi kvar strukturen från ovan. Men denna gång så printar vi inte bara, utan vi utför även en beräkning på vår variabel number. Vi har även sagt till datorn att printa vilken del av koden som utfördes (om det var i vårt if-/elif- eller else-statement) samt att vi printar numbers nya värde.\n",
    "\n",
    "number är nu förändrat då vi använde vår assignement operator \"=\". number har nu ett annat värde än det vi gav det (number = 9):"
   ]
  },
  {
   "cell_type": "code",
   "execution_count": 4,
   "metadata": {
    "hidden": true
   },
   "outputs": [
    {
     "data": {
      "text/plain": [
       "90"
      ]
     },
     "execution_count": 4,
     "metadata": {},
     "output_type": "execute_result"
    }
   ],
   "source": [
    "number"
   ]
  },
  {
   "cell_type": "markdown",
   "metadata": {
    "hidden": true
   },
   "source": [
    "Men hur gör vi ifall vi vill utföra beräkningar på variabeln number, men inte ändra på variabeln? I python kan vi skapa en funktion. En funktion är när man samlar en hop kod i vad som kallas ett block som körs vid sidan av.\n",
    "\n",
    "För att skapa en funktion skriver vi in nyckelordet **\"def\"**, följt av det namnet vi vill att funktionen ska ha, och slutligen två paranteser och ett kolon:"
   ]
  },
  {
   "cell_type": "code",
   "execution_count": 5,
   "metadata": {
    "hidden": true
   },
   "outputs": [],
   "source": [
    "def hälsning():\n",
    "    print(\"Hello world!\")"
   ]
  },
  {
   "cell_type": "markdown",
   "metadata": {
    "hidden": true
   },
   "source": [
    "Nu har vi skapat funktionen \"hälsning()\". Vi kan kontrollera ifall det blev som vi önskade genom att skriva in dess namn i en cell:"
   ]
  },
  {
   "cell_type": "code",
   "execution_count": 6,
   "metadata": {
    "hidden": true
   },
   "outputs": [
    {
     "data": {
      "text/plain": [
       "<function __main__.hälsning()>"
      ]
     },
     "execution_count": 6,
     "metadata": {},
     "output_type": "execute_result"
    }
   ],
   "source": [
    "hälsning"
   ]
  },
  {
   "cell_type": "markdown",
   "metadata": {
    "hidden": true
   },
   "source": [
    "Notera att ingenting printades, trots att vi skrev print(\"Hello world!\"). Det är för att vi sparade koden i en funktion. Den koden kommer endast köras ifall vi använder funktionen. Man säger att man \"kallar\", eller \"initierar\" funktionen, och det görs genom att vi lägger till de två paranteserna efter funktionens namn och kör cellen:"
   ]
  },
  {
   "cell_type": "code",
   "execution_count": 7,
   "metadata": {
    "hidden": true
   },
   "outputs": [
    {
     "name": "stdout",
     "output_type": "stream",
     "text": [
      "Hello world!\n"
     ]
    }
   ],
   "source": [
    "hälsning()"
   ]
  },
  {
   "cell_type": "markdown",
   "metadata": {
    "hidden": true
   },
   "source": [
    "Ser ni redan nu värdet i att göra det här? Istället för att skriva ut print(\"Hello world!\") varje gång vi vill skicka vår hälsning behöver vi nu endast kalla funktionen hälsning():"
   ]
  },
  {
   "cell_type": "code",
   "execution_count": 8,
   "metadata": {
    "hidden": true
   },
   "outputs": [
    {
     "name": "stdout",
     "output_type": "stream",
     "text": [
      "Hello world!\n",
      "Hello world!\n",
      "Hello world!\n",
      "Hello world!\n",
      "Hello world!\n"
     ]
    }
   ],
   "source": [
    "hälsning()\n",
    "hälsning()\n",
    "hälsning()\n",
    "hälsning()\n",
    "hälsning()"
   ]
  },
  {
   "cell_type": "markdown",
   "metadata": {
    "hidden": true
   },
   "source": [
    "Men för att göra det extra tydligt vad en funktion gör. Låt oss bygga en kalkylator som multiplicerar!"
   ]
  },
  {
   "cell_type": "code",
   "execution_count": 9,
   "metadata": {
    "hidden": true
   },
   "outputs": [],
   "source": [
    "def multiplicering(faktor1,faktor2): # <- notera argumenten inom paranteserna\n",
    "    \n",
    "    produkt = faktor1 * faktor2 # <- i funktionen skapar vi en ny variabel som \n",
    "                                #    består av multipliceringen av våra parametrar: \"produkt\"!\n",
    "    \n",
    "    return produkt # Vi återger produkten av multipliceringen"
   ]
  },
  {
   "cell_type": "markdown",
   "metadata": {
    "hidden": true
   },
   "source": [
    "Funktionen hälsning() ovan var en funktion som endast använde funktionen print() för att skriva \"Hello world!\". Den utförde endast en sak oavsett vilka omständigheter som råder. Den kommer alltid printa \"Hello world!\". Vanligtvis så vill man att en funktion ska ta värden och göra något med dem. Vår nya kalkylator, funktionen multiplicering(), är ett exempel på det.\n",
    "\n",
    "I den la vi till två argument - även kallat funktionens parametrar - som placerades i funktionens paranteser. Det betyder att vi vill att man ska ge funktionen värden som den ska göra något med. De blir sedan _variabler_ inom funktionen som används i funktionens kod. \n",
    "\n",
    "Nu kan vi pröva vår funktion:"
   ]
  },
  {
   "cell_type": "code",
   "execution_count": 10,
   "metadata": {
    "hidden": true
   },
   "outputs": [
    {
     "data": {
      "text/plain": [
       "27"
      ]
     },
     "execution_count": 10,
     "metadata": {},
     "output_type": "execute_result"
    }
   ],
   "source": [
    "multiplicering(3,9)"
   ]
  },
  {
   "cell_type": "markdown",
   "metadata": {
    "hidden": true
   },
   "source": [
    "Varje gång vi kör funktionen multiplicering() så känner datorn igen att det är en funktion vi kallar (man säger att man \"kallar\" på en funktion, eng \"call a function\" eller \"a function call\") då det är ett namn (obs att det inte får vara mellanslag i sådana namn, precis som för när man bestämmer variabler) följt av två paranteser. Den letar då efter namnet på funktionen i sitt minne, och hittar ovan kod, och att det krävs två parametrar för att funktionen ska köras.\n",
    "\n",
    "Våra värden 3 och 9 kopplas till parametrarna \"faktor1\" och \"faktor2\", som sedan blir variabler i funktionens kod, och koden körs. Nyckelordet \"return\" säger till datorn att det är det som följer \"return\" som ska återges innan funktionen avslutas."
   ]
  },
  {
   "cell_type": "code",
   "execution_count": 11,
   "metadata": {
    "hidden": true
   },
   "outputs": [
    {
     "data": {
      "text/plain": [
       "115"
      ]
     },
     "execution_count": 11,
     "metadata": {},
     "output_type": "execute_result"
    }
   ],
   "source": [
    "multiplicering(23,5)"
   ]
  },
  {
   "cell_type": "markdown",
   "metadata": {
    "hidden": true
   },
   "source": [
    "Om vi skulle missa att ge två parametrar till vår funktion multiplicering(), då kommer datorn känna av att det saknas den info som funktionen kräver, och den skulle avbryta ens function call:"
   ]
  },
  {
   "cell_type": "code",
   "execution_count": 12,
   "metadata": {
    "hidden": true
   },
   "outputs": [
    {
     "ename": "TypeError",
     "evalue": "multiplicering() missing 1 required positional argument: 'faktor2'",
     "output_type": "error",
     "traceback": [
      "\u001b[0;31m---------------------------------------------------------------------------\u001b[0m",
      "\u001b[0;31mTypeError\u001b[0m                                 Traceback (most recent call last)",
      "\u001b[0;32m<ipython-input-12-abb3b52877ff>\u001b[0m in \u001b[0;36m<module>\u001b[0;34m\u001b[0m\n\u001b[0;32m----> 1\u001b[0;31m \u001b[0mmultiplicering\u001b[0m\u001b[0;34m(\u001b[0m\u001b[0;36m23\u001b[0m\u001b[0;34m)\u001b[0m\u001b[0;34m\u001b[0m\u001b[0;34m\u001b[0m\u001b[0m\n\u001b[0m",
      "\u001b[0;31mTypeError\u001b[0m: multiplicering() missing 1 required positional argument: 'faktor2'"
     ]
    }
   ],
   "source": [
    "multiplicering(23)"
   ]
  },
  {
   "cell_type": "markdown",
   "metadata": {
    "hidden": true
   },
   "source": [
    "Om vi återgår till den inbyggda funktionen print() som vi använts oss av ovan. Det strängvärde vi gett till print() är också exempel på argument/parametrar:"
   ]
  },
  {
   "cell_type": "code",
   "execution_count": 13,
   "metadata": {
    "hidden": true
   },
   "outputs": [
    {
     "name": "stdout",
     "output_type": "stream",
     "text": [
      "Hello world!\n"
     ]
    }
   ],
   "source": [
    "print(\"Hello world!\")"
   ]
  },
  {
   "cell_type": "markdown",
   "metadata": {
    "hidden": true
   },
   "source": [
    "\"Hello world!\" är ett strängvärde som blir en _parameter till funktionen print()_! Notera dock att funktionen print() inte har argument som krav. Man kan köra den utan:"
   ]
  },
  {
   "cell_type": "code",
   "execution_count": 14,
   "metadata": {
    "hidden": true
   },
   "outputs": [
    {
     "name": "stdout",
     "output_type": "stream",
     "text": [
      "\n"
     ]
    }
   ],
   "source": [
    "print()"
   ]
  },
  {
   "cell_type": "markdown",
   "metadata": {
    "hidden": true
   },
   "source": [
    "Man kan nämligen bestämma att göra parametrar till valfria (optional). I sådana fall kommer all kod i funktionen köras oavsett, men inget resultat kommer kunna återges. Den återger ingenting:"
   ]
  },
  {
   "cell_type": "code",
   "execution_count": 15,
   "metadata": {
    "hidden": true
   },
   "outputs": [
    {
     "name": "stdout",
     "output_type": "stream",
     "text": [
      "\n"
     ]
    },
    {
     "data": {
      "text/plain": [
       "NoneType"
      ]
     },
     "execution_count": 15,
     "metadata": {},
     "output_type": "execute_result"
    }
   ],
   "source": [
    "type(print())"
   ]
  },
  {
   "cell_type": "markdown",
   "metadata": {
    "hidden": true
   },
   "source": [
    "Dvs värdet None! Hur man gör parametrar till valfria går vi inte in på nu."
   ]
  },
  {
   "cell_type": "markdown",
   "metadata": {
    "hidden": true
   },
   "source": [
    "**Blanda funktioner och logik?**"
   ]
  },
  {
   "cell_type": "markdown",
   "metadata": {
    "hidden": true
   },
   "source": [
    "Om vi återgår till vårt if-statement ovan:"
   ]
  },
  {
   "cell_type": "code",
   "execution_count": 165,
   "metadata": {
    "collapsed": true,
    "hidden": true,
    "jupyter": {
     "outputs_hidden": true
    }
   },
   "outputs": [],
   "source": [
    "number = 9"
   ]
  },
  {
   "cell_type": "code",
   "execution_count": 166,
   "metadata": {
    "collapsed": true,
    "hidden": true,
    "jupyter": {
     "outputs_hidden": true
    }
   },
   "outputs": [
    {
     "name": "stdout",
     "output_type": "stream",
     "text": [
      "if-statement, number * 10\n",
      "90\n"
     ]
    }
   ],
   "source": [
    "if (number > 5) and (number < 10):\n",
    "    print(\"if-statement, number * 10\")\n",
    "    number = number * 10\n",
    "    print(number)\n",
    "    \n",
    "elif (number > 10):\n",
    "    print(\"elif-statement, number + 3\")\n",
    "    number = number + 3\n",
    "    print(number)\n",
    "    \n",
    "else:\n",
    "    print(\"else-statement, number / 2\")\n",
    "    number = number / 2\n",
    "    print(number)"
   ]
  },
  {
   "cell_type": "code",
   "execution_count": 167,
   "metadata": {
    "collapsed": true,
    "hidden": true,
    "jupyter": {
     "outputs_hidden": true
    }
   },
   "outputs": [
    {
     "data": {
      "text/plain": [
       "90"
      ]
     },
     "execution_count": 167,
     "metadata": {},
     "output_type": "execute_result"
    }
   ],
   "source": [
    "number"
   ]
  },
  {
   "cell_type": "markdown",
   "metadata": {
    "hidden": true
   },
   "source": [
    "Om vi kör vår if-statement så ändrar vi på vår variabel number. Men ifall vi lägger hela vår if-statement i en funktion och lägger number som en parameter så kommer så inte ske:"
   ]
  },
  {
   "cell_type": "code",
   "execution_count": 17,
   "metadata": {
    "collapsed": true,
    "hidden": true,
    "jupyter": {
     "outputs_hidden": true
    }
   },
   "outputs": [],
   "source": [
    "def number_calc(number):\n",
    "    if (number > 5) and (number < 10):\n",
    "        print(\"if-statement, number * 10\")\n",
    "        number = number * 10\n",
    "        print(number)\n",
    "\n",
    "    elif (number > 10):\n",
    "        print(\"elif-statement, number + 3\")\n",
    "        number = number + 3\n",
    "        print(number)\n",
    "\n",
    "    else:\n",
    "        print(\"else-statement, number / 2\")\n",
    "        number = number / 2\n",
    "        print(number)"
   ]
  },
  {
   "cell_type": "code",
   "execution_count": 18,
   "metadata": {
    "collapsed": true,
    "hidden": true,
    "jupyter": {
     "outputs_hidden": true
    }
   },
   "outputs": [],
   "source": [
    "number = 9"
   ]
  },
  {
   "cell_type": "code",
   "execution_count": 19,
   "metadata": {
    "collapsed": true,
    "hidden": true,
    "jupyter": {
     "outputs_hidden": true
    }
   },
   "outputs": [
    {
     "name": "stdout",
     "output_type": "stream",
     "text": [
      "if-statement, number * 10\n",
      "90\n"
     ]
    }
   ],
   "source": [
    "number_calc(number)"
   ]
  },
  {
   "cell_type": "code",
   "execution_count": 20,
   "metadata": {
    "collapsed": true,
    "hidden": true,
    "jupyter": {
     "outputs_hidden": true
    }
   },
   "outputs": [
    {
     "data": {
      "text/plain": [
       "9"
      ]
     },
     "execution_count": 20,
     "metadata": {},
     "output_type": "execute_result"
    }
   ],
   "source": [
    "number"
   ]
  },
  {
   "cell_type": "markdown",
   "metadata": {
    "hidden": true
   },
   "source": [
    "Vad hände här egentligen? \n",
    "1. Vi la hela vårt if-statement i en funktion vi döpte till number_calc, och bestämde att denna funktion ska ha ett **argument** (också kallat en **parameter**) som vi döpte till \"number\". \n",
    "2. Sedan bestämde vi att vår variabel number skulle ha siffran 9. \n",
    "3. Efter det kallade vi funktionen number_calc() med vår variabel number som dess argument. \n",
    "4. Funktionen printade vilken del av koden som kördes (if-statement, då siffran 9 är större än 5 men mindre än 10), vilken beräkning som utfördes och slutligen vilket värde number fått efter beräkningen utförts.\n",
    "5. Vi körde number, som nu fortfarande har siffran 9."
   ]
  },
  {
   "cell_type": "markdown",
   "metadata": {
    "hidden": true
   },
   "source": [
    "Varför har number fortfarande värdet 9? Jo, koden som vi placerar i en funktion ligger i en annan, parallell kontext. Det här kallas \"execution context\" och är en viktig logik att förstå. Här kommer en mycket kortfattad beskrivning:"
   ]
  },
  {
   "cell_type": "markdown",
   "metadata": {
    "hidden": true
   },
   "source": [
    "Låt oss bygga en funktion som tar ett tal och sedan gör om det till talet nio:"
   ]
  },
  {
   "cell_type": "code",
   "execution_count": 21,
   "metadata": {
    "collapsed": true,
    "hidden": true,
    "jupyter": {
     "outputs_hidden": true
    }
   },
   "outputs": [],
   "source": [
    "def make_nine(number):\n",
    "    number = 9\n",
    "    return number"
   ]
  },
  {
   "cell_type": "code",
   "execution_count": 22,
   "metadata": {
    "collapsed": true,
    "hidden": true,
    "jupyter": {
     "outputs_hidden": true
    }
   },
   "outputs": [],
   "source": [
    "number = 3"
   ]
  },
  {
   "cell_type": "code",
   "execution_count": 23,
   "metadata": {
    "collapsed": true,
    "hidden": true,
    "jupyter": {
     "outputs_hidden": true
    }
   },
   "outputs": [
    {
     "data": {
      "text/plain": [
       "9"
      ]
     },
     "execution_count": 23,
     "metadata": {},
     "output_type": "execute_result"
    }
   ],
   "source": [
    "make_nine(number)"
   ]
  },
  {
   "cell_type": "code",
   "execution_count": 24,
   "metadata": {
    "collapsed": true,
    "hidden": true,
    "jupyter": {
     "outputs_hidden": true
    }
   },
   "outputs": [
    {
     "data": {
      "text/plain": [
       "3"
      ]
     },
     "execution_count": 24,
     "metadata": {},
     "output_type": "execute_result"
    }
   ],
   "source": [
    "number"
   ]
  },
  {
   "cell_type": "markdown",
   "metadata": {
    "hidden": true
   },
   "source": [
    "Som jag kort beskrev ovan så skapar vi en variabel som heter number som har värdet 3. Vår funktion make_nine() tar ett argument som vi också har valt att kalla number. Detta argument blir i funktionen make_nine() en variabel som heter \"number\", men då detta befinner sig i en annan kontext så kommer namnen inte krocka. Här är en bild på vad som faktiskt sker:"
   ]
  },
  {
   "cell_type": "markdown",
   "metadata": {
    "hidden": true
   },
   "source": [
    "![title](övrigt/pics/execution_context.png)"
   ]
  },
  {
   "cell_type": "markdown",
   "metadata": {
    "hidden": true
   },
   "source": [
    "Helt enkelt såhär, förenklat: när vi bestämmer den första number = 3, då har vi skapat en variabel i den globala kontexten. Det är i den kontexten som nästan allt ovan lever i. Men när vi skapar en funktion skapas en ny kontext, som ligger inom den globala. När en funktion körs, då hittar datorn variabeln med namn \"numbers\" inne i funktionens kod - inom funktionens kontext. Den letar då i sitt minne ifall det finns en variabel med det namnet först _i den kontexten där koden befinner sig_, dvs inom funktionen make_nine():s kontext. Den hittar parametern \"number\" och sätter denna till 9 och återger number.\n",
    "\n",
    "Men när funktionen sedan är klar, dvs efter att return är avklarat. Då stänger datorn ned den kontexten och glömmer allt som hänt i den, och återgår sedan till den globala kontexten. I i den globala kontexten så är variabeln number fortfarande 9!"
   ]
  },
  {
   "cell_type": "code",
   "execution_count": null,
   "metadata": {
    "collapsed": true,
    "hidden": true,
    "jupyter": {
     "outputs_hidden": true
    }
   },
   "outputs": [],
   "source": []
  },
  {
   "cell_type": "markdown",
   "metadata": {
    "hidden": true
   },
   "source": [
    "Detta argument används nämligen av koden i funktionen. Vi valde nu namnet \"number\", men kunde egentligen valt att kalla vårt argument vilket som helst:"
   ]
  },
  {
   "cell_type": "code",
   "execution_count": 173,
   "metadata": {
    "collapsed": true,
    "hidden": true,
    "jupyter": {
     "outputs_hidden": true
    }
   },
   "outputs": [],
   "source": [
    "def number_calc(Johan):\n",
    "    if (Johan > 5) and (Johan < 10):\n",
    "        print(\"if-statement, number * 10\")\n",
    "        Johan = Johan * 10\n",
    "        print(Johan)\n",
    "\n",
    "    elif (Johan > 10):\n",
    "        print(\"elif-statement, number + 3\")\n",
    "        Johan = Johan + 3\n",
    "        print(Johan)\n",
    "\n",
    "    else:\n",
    "        print(\"else-statement, number / 2\")\n",
    "        Johan = Johan / 2\n",
    "        print(Johan)"
   ]
  },
  {
   "cell_type": "code",
   "execution_count": 174,
   "metadata": {
    "collapsed": true,
    "hidden": true,
    "jupyter": {
     "outputs_hidden": true
    }
   },
   "outputs": [
    {
     "name": "stdout",
     "output_type": "stream",
     "text": [
      "if-statement, number * 10\n",
      "90\n"
     ]
    }
   ],
   "source": [
    "number_calc(number)"
   ]
  },
  {
   "cell_type": "code",
   "execution_count": 175,
   "metadata": {
    "collapsed": true,
    "hidden": true,
    "jupyter": {
     "outputs_hidden": true
    }
   },
   "outputs": [
    {
     "ename": "TypeError",
     "evalue": "number_calc() missing 1 required positional argument: 'Johan'",
     "output_type": "error",
     "traceback": [
      "\u001b[0;31m---------------------------------------------------------------------------\u001b[0m",
      "\u001b[0;31mTypeError\u001b[0m                                 Traceback (most recent call last)",
      "\u001b[0;32m<ipython-input-175-9d4c2330510e>\u001b[0m in \u001b[0;36m<module>\u001b[0;34m\u001b[0m\n\u001b[0;32m----> 1\u001b[0;31m \u001b[0mnumber_calc\u001b[0m\u001b[0;34m(\u001b[0m\u001b[0;34m)\u001b[0m\u001b[0;34m\u001b[0m\u001b[0m\n\u001b[0m",
      "\u001b[0;31mTypeError\u001b[0m: number_calc() missing 1 required positional argument: 'Johan'"
     ]
    }
   ],
   "source": [
    "number_calc()"
   ]
  },
  {
   "cell_type": "markdown",
   "metadata": {
    "hidden": true
   },
   "source": [
    "Men _om_ vi nu väljer att kalla vårt argument \"number\", hur kommer det då sig att det inte krockar med vår variabels namn \"number\" som vi redan bestämt. \n",
    "\n",
    "Förklaringen är inte helt intuitiv om man är ovan med programmering. Men det beror på, som jag nämnde kort ovan, att namnen på våra variabler befinner sig i olika kontexter. Man talar om **execution context**, det vill säga i vilken kontext som datorn placerar olika namn som ens kod använder sig av. \n",
    "\n",
    "När vi först bestämde vår variabel \"number\", så gjordes det utanför en funktion, i vad som brukar kallas den **globala kontexten**. I en funktion så fick vårt argument också namnet \"number\", men detta används sedan i en **lokal kontext**, vars namn är särskilda från den globala.\n",
    "\n",
    "Detta är en viktig del av programmering, men något utanför vad vi hinner med i denna kurs."
   ]
  },
  {
   "cell_type": "markdown",
   "metadata": {
    "hidden": true
   },
   "source": [
    "Faktum är att vi inte ens behöver namnge och ge ett namn till en variabel för att ge till funktionen number_calc. Det räcker med endast ett siffervärde:"
   ]
  },
  {
   "cell_type": "code",
   "execution_count": 179,
   "metadata": {
    "collapsed": true,
    "hidden": true,
    "jupyter": {
     "outputs_hidden": true
    }
   },
   "outputs": [
    {
     "name": "stdout",
     "output_type": "stream",
     "text": [
      "if-statement, number * 10\n",
      "90\n"
     ]
    }
   ],
   "source": [
    "number_calc(9)"
   ]
  },
  {
   "cell_type": "code",
   "execution_count": 176,
   "metadata": {
    "collapsed": true,
    "hidden": true,
    "jupyter": {
     "outputs_hidden": true
    }
   },
   "outputs": [
    {
     "name": "stdout",
     "output_type": "stream",
     "text": [
      "elif-statement, number + 3\n",
      "14\n"
     ]
    }
   ],
   "source": [
    "number_calc(11)"
   ]
  },
  {
   "cell_type": "code",
   "execution_count": 178,
   "metadata": {
    "collapsed": true,
    "hidden": true,
    "jupyter": {
     "outputs_hidden": true
    }
   },
   "outputs": [
    {
     "name": "stdout",
     "output_type": "stream",
     "text": [
      "else-statement, number / 2\n",
      "2.0\n"
     ]
    }
   ],
   "source": [
    "number_calc(4)"
   ]
  },
  {
   "cell_type": "markdown",
   "metadata": {
    "hidden": true
   },
   "source": [
    "Anledningen är att när vi skapade funktionen och gav den argumentet \"number\" (eller \"Johan\" nu senast), så tillät vi funktionen att skapa en variabel per automatik med det namnet. Värdet vi ger till funktionen sätts då automatiskt till funktionens argument - variabeln \"number\" (eller \"Johan\"). För att förtydliga:"
   ]
  },
  {
   "cell_type": "code",
   "execution_count": 182,
   "metadata": {
    "collapsed": true,
    "hidden": true,
    "jupyter": {
     "outputs_hidden": true
    }
   },
   "outputs": [
    {
     "name": "stdout",
     "output_type": "stream",
     "text": [
      "if-statement, number * 10\n",
      "90\n"
     ]
    }
   ],
   "source": [
    "Johan=9\n",
    "number_calc(Johan)"
   ]
  },
  {
   "cell_type": "markdown",
   "metadata": {
    "hidden": true
   },
   "source": [
    "Är detsamma som:"
   ]
  },
  {
   "cell_type": "code",
   "execution_count": 183,
   "metadata": {
    "collapsed": true,
    "hidden": true,
    "jupyter": {
     "outputs_hidden": true
    }
   },
   "outputs": [
    {
     "name": "stdout",
     "output_type": "stream",
     "text": [
      "if-statement, number * 10\n",
      "90\n"
     ]
    }
   ],
   "source": [
    "number_calc(Johan=9)"
   ]
  },
  {
   "cell_type": "markdown",
   "metadata": {
    "hidden": true
   },
   "source": [
    "Är detsamma som:"
   ]
  },
  {
   "cell_type": "code",
   "execution_count": 184,
   "metadata": {
    "collapsed": true,
    "hidden": true,
    "jupyter": {
     "outputs_hidden": true
    }
   },
   "outputs": [
    {
     "name": "stdout",
     "output_type": "stream",
     "text": [
      "if-statement, number * 10\n",
      "90\n"
     ]
    }
   ],
   "source": [
    "number_calc(9)"
   ]
  },
  {
   "cell_type": "markdown",
   "metadata": {
    "hidden": true
   },
   "source": [
    "#### En sista grej angående funktioner"
   ]
  },
  {
   "cell_type": "markdown",
   "metadata": {
    "hidden": true
   },
   "source": [
    "Python kommer med flertalet inbyggda funktioner. Vi har redan använt oss av en av dessa flera gånger - print(). Dessa är mycket användbara! I Jupyter är det väldigt enkelt att få en bild av vilka som finns. Ta följande exempel:"
   ]
  },
  {
   "cell_type": "code",
   "execution_count": 188,
   "metadata": {
    "collapsed": true,
    "hidden": true,
    "jupyter": {
     "outputs_hidden": true
    }
   },
   "outputs": [],
   "source": [
    "lista = [0, 1, 2, 6, 10, 3]"
   ]
  },
  {
   "cell_type": "markdown",
   "metadata": {
    "hidden": true
   },
   "source": [
    "Säg att vi inte vet hur många värden som finns i vår lista (värden i en lista kallas **items**). Vi kan då använda pythons inbyggda funktion len():"
   ]
  },
  {
   "cell_type": "code",
   "execution_count": 189,
   "metadata": {
    "collapsed": true,
    "hidden": true,
    "jupyter": {
     "outputs_hidden": true
    }
   },
   "outputs": [
    {
     "data": {
      "text/plain": [
       "6"
      ]
     },
     "execution_count": 189,
     "metadata": {},
     "output_type": "execute_result"
    }
   ],
   "source": [
    "len(lista)"
   ]
  },
  {
   "cell_type": "markdown",
   "metadata": {
    "hidden": true
   },
   "source": [
    "Det finns sex värden i listvariabeln 'lista'! Denna funktion fungerar också på strängvärden:"
   ]
  },
  {
   "cell_type": "code",
   "execution_count": 190,
   "metadata": {
    "collapsed": true,
    "hidden": true,
    "jupyter": {
     "outputs_hidden": true
    }
   },
   "outputs": [],
   "source": [
    "sträng = \"Hello world!\""
   ]
  },
  {
   "cell_type": "code",
   "execution_count": 191,
   "metadata": {
    "collapsed": true,
    "hidden": true,
    "jupyter": {
     "outputs_hidden": true
    }
   },
   "outputs": [
    {
     "data": {
      "text/plain": [
       "12"
      ]
     },
     "execution_count": 191,
     "metadata": {},
     "output_type": "execute_result"
    }
   ],
   "source": [
    "len(sträng)"
   ]
  },
  {
   "cell_type": "markdown",
   "metadata": {
    "hidden": true
   },
   "source": [
    "Det finns tolv bokstäver i textsträngen 'sträng'! \n",
    "\n",
    "Låt oss säga att vi har ett floatvärde med en massa decimaler. Vi kan då använda den inbyggda funktionen round() för att runda av dessa!"
   ]
  },
  {
   "cell_type": "code",
   "execution_count": 192,
   "metadata": {
    "collapsed": true,
    "hidden": true,
    "jupyter": {
     "outputs_hidden": true
    }
   },
   "outputs": [],
   "source": [
    "number = 3.3245291992745"
   ]
  },
  {
   "cell_type": "code",
   "execution_count": 194,
   "metadata": {
    "collapsed": true,
    "hidden": true,
    "jupyter": {
     "outputs_hidden": true
    }
   },
   "outputs": [
    {
     "data": {
      "text/plain": [
       "3.32"
      ]
     },
     "execution_count": 194,
     "metadata": {},
     "output_type": "execute_result"
    }
   ],
   "source": [
    "round(number, 2)"
   ]
  },
  {
   "cell_type": "markdown",
   "metadata": {
    "hidden": true
   },
   "source": [
    "Funktionen round() tar två argument:\n",
    "1. Talet vi vill avrunda\n",
    "2. Hur många decimaler vi vill avrunda till!"
   ]
  },
  {
   "cell_type": "markdown",
   "metadata": {
    "hidden": true
   },
   "source": [
    "Vi har även varit inne tidigare på en annan inbyggd funktion, type(), som återger vilken datatyp som det passerade argumentet är:"
   ]
  },
  {
   "cell_type": "code",
   "execution_count": 195,
   "metadata": {
    "collapsed": true,
    "hidden": true,
    "jupyter": {
     "outputs_hidden": true
    }
   },
   "outputs": [
    {
     "data": {
      "text/plain": [
       "int"
      ]
     },
     "execution_count": 195,
     "metadata": {},
     "output_type": "execute_result"
    }
   ],
   "source": [
    "type(4)"
   ]
  },
  {
   "cell_type": "code",
   "execution_count": 196,
   "metadata": {
    "collapsed": true,
    "hidden": true,
    "jupyter": {
     "outputs_hidden": true
    }
   },
   "outputs": [
    {
     "data": {
      "text/plain": [
       "list"
      ]
     },
     "execution_count": 196,
     "metadata": {},
     "output_type": "execute_result"
    }
   ],
   "source": [
    "type([])"
   ]
  },
  {
   "cell_type": "code",
   "execution_count": 197,
   "metadata": {
    "collapsed": true,
    "hidden": true,
    "jupyter": {
     "outputs_hidden": true
    }
   },
   "outputs": [
    {
     "data": {
      "text/plain": [
       "dict"
      ]
     },
     "execution_count": 197,
     "metadata": {},
     "output_type": "execute_result"
    }
   ],
   "source": [
    "type({})"
   ]
  },
  {
   "cell_type": "code",
   "execution_count": 198,
   "metadata": {
    "collapsed": true,
    "hidden": true,
    "jupyter": {
     "outputs_hidden": true
    }
   },
   "outputs": [
    {
     "data": {
      "text/plain": [
       "bool"
      ]
     },
     "execution_count": 198,
     "metadata": {},
     "output_type": "execute_result"
    }
   ],
   "source": [
    "type(True)"
   ]
  },
  {
   "cell_type": "code",
   "execution_count": 199,
   "metadata": {
    "collapsed": true,
    "hidden": true,
    "jupyter": {
     "outputs_hidden": true
    }
   },
   "outputs": [
    {
     "data": {
      "text/plain": [
       "NoneType"
      ]
     },
     "execution_count": 199,
     "metadata": {},
     "output_type": "execute_result"
    }
   ],
   "source": [
    "type(None)"
   ]
  },
  {
   "cell_type": "markdown",
   "metadata": {
    "hidden": true
   },
   "source": [
    "En annan inbyggd funktion som är ganska kul att leka runt med är input(). Om denna kopplas till en variabel så måste ett användarinput anges för att bestämma variabelns värde:"
   ]
  },
  {
   "cell_type": "code",
   "execution_count": 216,
   "metadata": {
    "collapsed": true,
    "hidden": true,
    "jupyter": {
     "outputs_hidden": true
    }
   },
   "outputs": [
    {
     "name": "stdout",
     "output_type": "stream",
     "text": [
      "54\n"
     ]
    }
   ],
   "source": [
    "number = input()"
   ]
  },
  {
   "cell_type": "code",
   "execution_count": 217,
   "metadata": {
    "collapsed": true,
    "hidden": true,
    "jupyter": {
     "outputs_hidden": true
    }
   },
   "outputs": [
    {
     "data": {
      "text/plain": [
       "'54'"
      ]
     },
     "execution_count": 217,
     "metadata": {},
     "output_type": "execute_result"
    }
   ],
   "source": [
    "number"
   ]
  },
  {
   "cell_type": "markdown",
   "metadata": {
    "hidden": true
   },
   "source": [
    "om vi nu dock kollar vad detta värde blev för värdetyp så ser vi att det omvandlades till ett strängvärde:"
   ]
  },
  {
   "cell_type": "code",
   "execution_count": 218,
   "metadata": {
    "collapsed": true,
    "hidden": true,
    "jupyter": {
     "outputs_hidden": true
    }
   },
   "outputs": [
    {
     "data": {
      "text/plain": [
       "str"
      ]
     },
     "execution_count": 218,
     "metadata": {},
     "output_type": "execute_result"
    }
   ],
   "source": [
    "type(number)"
   ]
  },
  {
   "cell_type": "markdown",
   "metadata": {
    "hidden": true
   },
   "source": [
    "Hur gör vi då ifall vi vill få det till ett siffervärde? Vi kan använda den inbyggda funktionen int()"
   ]
  },
  {
   "cell_type": "code",
   "execution_count": 220,
   "metadata": {
    "collapsed": true,
    "hidden": true,
    "jupyter": {
     "outputs_hidden": true
    }
   },
   "outputs": [],
   "source": [
    "number = int(number)"
   ]
  },
  {
   "cell_type": "code",
   "execution_count": 221,
   "metadata": {
    "collapsed": true,
    "hidden": true,
    "jupyter": {
     "outputs_hidden": true
    }
   },
   "outputs": [
    {
     "data": {
      "text/plain": [
       "int"
      ]
     },
     "execution_count": 221,
     "metadata": {},
     "output_type": "execute_result"
    }
   ],
   "source": [
    "type(number)"
   ]
  },
  {
   "cell_type": "code",
   "execution_count": 222,
   "metadata": {
    "collapsed": true,
    "hidden": true,
    "jupyter": {
     "outputs_hidden": true
    }
   },
   "outputs": [
    {
     "data": {
      "text/plain": [
       "54"
      ]
     },
     "execution_count": 222,
     "metadata": {},
     "output_type": "execute_result"
    }
   ],
   "source": [
    "number"
   ]
  },
  {
   "cell_type": "markdown",
   "metadata": {
    "hidden": true
   },
   "source": [
    "Slutligen, de flesta värdena i python har sina egna inbyggda funktioner. Ifall värden eller variabler har funktioner kopplade till sig så kallas dessa metoder, eller **methods**. I Jupyter kan vi lätt se vilka dessa skulle kunna vara genom att skriva namnet på den variabel vi vill se metoderna för, följt av en punkt, och sedan trycka tabb:"
   ]
  },
  {
   "cell_type": "code",
   "execution_count": 200,
   "metadata": {
    "collapsed": true,
    "hidden": true,
    "jupyter": {
     "outputs_hidden": true
    }
   },
   "outputs": [],
   "source": [
    "lista = ['Johan', 1, 54, 23, 8, 5]"
   ]
  },
  {
   "cell_type": "code",
   "execution_count": 201,
   "metadata": {
    "collapsed": true,
    "hidden": true,
    "jupyter": {
     "outputs_hidden": true
    }
   },
   "outputs": [
    {
     "data": {
      "text/plain": [
       "['Johan', 1, 54, 23, 8, 5]"
      ]
     },
     "execution_count": 201,
     "metadata": {},
     "output_type": "execute_result"
    }
   ],
   "source": [
    "lista"
   ]
  },
  {
   "cell_type": "code",
   "execution_count": 202,
   "metadata": {
    "collapsed": true,
    "hidden": true,
    "jupyter": {
     "outputs_hidden": true
    }
   },
   "outputs": [],
   "source": [
    "lista.append('Lisa')"
   ]
  },
  {
   "cell_type": "code",
   "execution_count": 203,
   "metadata": {
    "collapsed": true,
    "hidden": true,
    "jupyter": {
     "outputs_hidden": true
    }
   },
   "outputs": [
    {
     "data": {
      "text/plain": [
       "['Johan', 1, 54, 23, 8, 5, 'Lisa']"
      ]
     },
     "execution_count": 203,
     "metadata": {},
     "output_type": "execute_result"
    }
   ],
   "source": [
    "lista"
   ]
  },
  {
   "cell_type": "code",
   "execution_count": 204,
   "metadata": {
    "collapsed": true,
    "hidden": true,
    "jupyter": {
     "outputs_hidden": true
    }
   },
   "outputs": [],
   "source": [
    "lista.remove('Johan')"
   ]
  },
  {
   "cell_type": "code",
   "execution_count": 205,
   "metadata": {
    "collapsed": true,
    "hidden": true,
    "jupyter": {
     "outputs_hidden": true
    }
   },
   "outputs": [
    {
     "data": {
      "text/plain": [
       "[1, 54, 23, 8, 5, 'Lisa']"
      ]
     },
     "execution_count": 205,
     "metadata": {},
     "output_type": "execute_result"
    }
   ],
   "source": [
    "lista"
   ]
  },
  {
   "cell_type": "markdown",
   "metadata": {
    "hidden": true
   },
   "source": [
    ".append() och .remove() är båda exempel på funktioner som är kopplade till listobjekt, så kallade metoder! Dessa är mycket användbara!"
   ]
  },
  {
   "cell_type": "markdown",
   "metadata": {
    "hidden": true
   },
   "source": [
    "### 9. Iteration - while-loops och for-loops"
   ]
  },
  {
   "cell_type": "markdown",
   "metadata": {
    "hidden": true
   },
   "source": [
    "På tal om listor, hur gör vi om vi vill gå igenom en lista och förändra några av värdena, men inte alla? Det kan vi göra med en så kallad for-loop. Loop är lite av ett nyckelord då det det handlar om är att man vandrar igenom en lista av värden från början till slut. Vi börjar med while-loops:"
   ]
  },
  {
   "cell_type": "markdown",
   "metadata": {
    "hidden": true
   },
   "source": [
    "#### while-loops"
   ]
  },
  {
   "cell_type": "code",
   "execution_count": 214,
   "metadata": {
    "collapsed": true,
    "hidden": true,
    "jupyter": {
     "outputs_hidden": true
    }
   },
   "outputs": [],
   "source": [
    "number = 0"
   ]
  },
  {
   "cell_type": "code",
   "execution_count": 213,
   "metadata": {
    "collapsed": true,
    "hidden": true,
    "jupyter": {
     "outputs_hidden": true
    }
   },
   "outputs": [],
   "source": [
    "while number < 5:\n",
    "    number = number + 1 # ta variabeln number och plussa på 1\n",
    "    print(\"number är mindre än 6!!\")"
   ]
  },
  {
   "cell_type": "markdown",
   "metadata": {
    "hidden": true
   },
   "source": [
    "Så länge som vår comparison expression (number < 5) är sann så kommer kodblocket efter while-loopen fortsätta. Vid varje loop har vi lagt till en rad som adderar 'number' med 1, så när loopen inträffar för en femte gång så blir number = 5, vilket gör att while-loopens comparison expression utvärderas till False, och loopen avbryts."
   ]
  },
  {
   "cell_type": "code",
   "execution_count": 215,
   "metadata": {
    "collapsed": true,
    "hidden": true,
    "jupyter": {
     "outputs_hidden": true
    }
   },
   "outputs": [
    {
     "name": "stdout",
     "output_type": "stream",
     "text": [
      "Loop nummer:  1\n",
      "Loop nummer:  2\n",
      "Loop nummer:  3\n",
      "Loop nummer:  4\n",
      "Loop nummer:  5\n"
     ]
    }
   ],
   "source": [
    "while number < 5:\n",
    "    number = number + 1 \n",
    "    print(\"Loop nummer: \", number)"
   ]
  },
  {
   "cell_type": "markdown",
   "metadata": {
    "hidden": true
   },
   "source": [
    "Med andra ord: efter varje loop så återgår interpretorn till vår while-loop och kollar ifall vår comparison expression fortfarande är True, och om så så körs kodblocket igen. **while-loops är med andra ord mycket lika if-statments** då båda utför ett block med kod givet en viss förutsättning som bestämnts med ett comparison expression. \n",
    "\n",
    "Skillnaden är att while-loops återupprepar kodblocket så länge förutsättningen är sann."
   ]
  },
  {
   "cell_type": "markdown",
   "metadata": {
    "hidden": true
   },
   "source": [
    "while-loops kan vara användbara när man vill att en användare av ens program ska uppge korrekt input till ens kod. Ta följande exempel:"
   ]
  },
  {
   "cell_type": "code",
   "execution_count": 225,
   "metadata": {
    "collapsed": true,
    "hidden": true,
    "jupyter": {
     "outputs_hidden": true
    }
   },
   "outputs": [
    {
     "name": "stdout",
     "output_type": "stream",
     "text": [
      "Var snäll och skriv ditt namn, Johan!\n",
      "Johan\n",
      "Tack Johan!\n"
     ]
    }
   ],
   "source": [
    "name= '' # en tom textsträng\n",
    "while name != \"Johan\":\n",
    "    print(\"Var snäll och skriv ditt namn, Johan!\")\n",
    "    name = input()\n",
    "print(\"Tack Johan!\")"
   ]
  },
  {
   "cell_type": "markdown",
   "metadata": {
    "hidden": true
   },
   "source": [
    "!!! Viktig info om while-loop !!!\n",
    "\n",
    "Ifall man skapar en while-loop vars comparison expression aldrig kommer utvärderas till True, då kommer loopen fortsätta i oändlighet. Exempel:"
   ]
  },
  {
   "cell_type": "markdown",
   "metadata": {
    "hidden": true
   },
   "source": [
    "För att bryta en sådan oändlig loop i Jupyter går man till Jupyters fönstermeny, väljer rullgardinsfönstret \"Kernel\" och väljer alternativet \"Interrupt\". Då avbryts koden. I andra typer av kodhanteringsprogram trycker man vanligtvis Ctrl+C, vilket triggar ett så kallat KeyboardInterupt och loopen bryts."
   ]
  },
  {
   "cell_type": "markdown",
   "metadata": {
    "hidden": true
   },
   "source": [
    "#### for-loops"
   ]
  },
  {
   "cell_type": "markdown",
   "metadata": {
    "hidden": true
   },
   "source": [
    "for-loop skiljer sig från while-loops i en vässentlig premiss, en for-loop looper ett specifikt antal gånger som man själv anger. Om man önskar ett givet antal loops så använder man sig oftast av pythons inbyggda funktion range()"
   ]
  },
  {
   "cell_type": "code",
   "execution_count": 236,
   "metadata": {
    "collapsed": true,
    "hidden": true,
    "jupyter": {
     "outputs_hidden": true
    }
   },
   "outputs": [
    {
     "name": "stdout",
     "output_type": "stream",
     "text": [
      "Detta är loop nr  0\n",
      "Detta är loop nr  1\n",
      "Detta är loop nr  2\n",
      "Detta är loop nr  3\n",
      "Detta är loop nr  4\n",
      "Detta är loop nr  5\n",
      "Detta är loop nr  6\n",
      "Detta är loop nr  7\n",
      "Detta är loop nr  8\n",
      "Detta är loop nr  9\n"
     ]
    }
   ],
   "source": [
    "for i in range(0,10):\n",
    "    print(\"Detta är loop nr \", i)"
   ]
  },
  {
   "cell_type": "markdown",
   "metadata": {
    "hidden": true
   },
   "source": [
    "Funktionen range() tar två argument: det första är på vilken siffra vi vill att loopen ska starta på, det andra är var vi vill att loopen ska sluta. Så range(0, 10) betyder att vi vill att man ska börja på 0 och sluta när vi kommer till 10, dvs 0 till och med 9.\n",
    "\n",
    "Varför skriver vi **\"i\"**? Normalt använder man sig av bokstaven i när man loopar då man ofta syftar på värden i listor. Så \"i\" står då för \"item\". Vanligtvis använder man foor-loops när man vill vandra igenom värden i en lista:"
   ]
  },
  {
   "cell_type": "code",
   "execution_count": 245,
   "metadata": {
    "collapsed": true,
    "hidden": true,
    "jupyter": {
     "outputs_hidden": true
    }
   },
   "outputs": [],
   "source": [
    "lista = [32, 1, 54, 23, 8, 5]"
   ]
  },
  {
   "cell_type": "code",
   "execution_count": 246,
   "metadata": {
    "collapsed": true,
    "hidden": true,
    "jupyter": {
     "outputs_hidden": true
    }
   },
   "outputs": [
    {
     "name": "stdout",
     "output_type": "stream",
     "text": [
      "32\n",
      "1\n",
      "54\n",
      "23\n",
      "8\n",
      "5\n"
     ]
    }
   ],
   "source": [
    "for i in lista:\n",
    "    print(i)"
   ]
  },
  {
   "cell_type": "markdown",
   "metadata": {
    "hidden": true
   },
   "source": [
    "Vi kan också använda oss av funktionen len() ifall vi vill loopa igenom en listas index-värden. Indexvärdena är de siffror som man kallar för att få fram specifika värden från en lista, t ex:"
   ]
  },
  {
   "cell_type": "code",
   "execution_count": 247,
   "metadata": {
    "collapsed": true,
    "hidden": true,
    "jupyter": {
     "outputs_hidden": true
    }
   },
   "outputs": [
    {
     "data": {
      "text/plain": [
       "32"
      ]
     },
     "execution_count": 247,
     "metadata": {},
     "output_type": "execute_result"
    }
   ],
   "source": [
    "lista[0]"
   ]
  },
  {
   "cell_type": "markdown",
   "metadata": {
    "hidden": true
   },
   "source": [
    "Siffran 0 syftar här på det första värdet i listan 'lista'. Om vi dock vill loopa igenom alla indexvärden i vår lista kan vi använda oss av len() tillsammans med funktionen range():"
   ]
  },
  {
   "cell_type": "code",
   "execution_count": 248,
   "metadata": {
    "collapsed": true,
    "hidden": true,
    "jupyter": {
     "outputs_hidden": true
    }
   },
   "outputs": [
    {
     "data": {
      "text/plain": [
       "6"
      ]
     },
     "execution_count": 248,
     "metadata": {},
     "output_type": "execute_result"
    }
   ],
   "source": [
    "len(lista)"
   ]
  },
  {
   "cell_type": "code",
   "execution_count": 249,
   "metadata": {
    "collapsed": true,
    "hidden": true,
    "jupyter": {
     "outputs_hidden": true
    }
   },
   "outputs": [
    {
     "name": "stdout",
     "output_type": "stream",
     "text": [
      "32\n",
      "1\n",
      "54\n",
      "23\n",
      "8\n",
      "5\n"
     ]
    }
   ],
   "source": [
    "for i in range(0, len(lista)):\n",
    "    print(lista[i])"
   ]
  },
  {
   "cell_type": "markdown",
   "metadata": {
    "hidden": true
   },
   "source": [
    "Här ovan har nu \"i\" bytt betydelse. Istället för att loopa över en listas alla värden så har vi genom range()-funktionen sagt till loopen att loopa över alla värden i funktionen range(0, 6). Ovan är alltså detsamma som:"
   ]
  },
  {
   "cell_type": "code",
   "execution_count": 250,
   "metadata": {
    "hidden": true,
    "jupyter": {
     "outputs_hidden": true
    }
   },
   "outputs": [
    {
     "name": "stdout",
     "output_type": "stream",
     "text": [
      "32\n",
      "1\n",
      "54\n",
      "23\n",
      "8\n",
      "5\n"
     ]
    }
   ],
   "source": [
    "for i in range(0, 6):\n",
    "    print(lista[i])"
   ]
  },
  {
   "cell_type": "markdown",
   "metadata": {
    "hidden": true
   },
   "source": [
    "Men genom att använda len(lista) som argument till range() så har vi i förlängningen bestämt att alla indexvärden i lista ska loopas igenom.\n",
    "\n",
    "Nu kan vi ändra på värden om vi så önskar! Det gör vi genom att lägga till ett if-statement i loopen:"
   ]
  },
  {
   "cell_type": "code",
   "execution_count": 251,
   "metadata": {
    "collapsed": true,
    "hidden": true,
    "jupyter": {
     "outputs_hidden": true
    }
   },
   "outputs": [
    {
     "name": "stdout",
     "output_type": "stream",
     "text": [
      "[1024, 2, 2916, 529, 16, 10]\n"
     ]
    }
   ],
   "source": [
    "for i in range(0, len(lista)):\n",
    "    if lista[i] < 20:\n",
    "        lista[i] = lista[i] * 2\n",
    "    else:\n",
    "        lista[i] = lista[i] ** 2\n",
    "print(lista)"
   ]
  },
  {
   "cell_type": "code",
   "execution_count": null,
   "metadata": {
    "collapsed": true,
    "hidden": true,
    "jupyter": {
     "outputs_hidden": true
    }
   },
   "outputs": [],
   "source": []
  },
  {
   "cell_type": "code",
   "execution_count": null,
   "metadata": {
    "hidden": true
   },
   "outputs": [],
   "source": []
  }
 ],
 "metadata": {
  "kernelspec": {
   "display_name": "Python 3",
   "language": "python",
   "name": "python3"
  },
  "language_info": {
   "codemirror_mode": {
    "name": "ipython",
    "version": 3
   },
   "file_extension": ".py",
   "mimetype": "text/x-python",
   "name": "python",
   "nbconvert_exporter": "python",
   "pygments_lexer": "ipython3",
   "version": "3.8.5"
  },
  "toc": {
   "base_numbering": 1,
   "nav_menu": {},
   "number_sections": true,
   "sideBar": true,
   "skip_h1_title": true,
   "title_cell": "Table of Contents",
   "title_sidebar": "Contents",
   "toc_cell": true,
   "toc_position": {},
   "toc_section_display": true,
   "toc_window_display": false
  }
 },
 "nbformat": 4,
 "nbformat_minor": 4
}
